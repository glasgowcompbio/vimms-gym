{
 "cells": [
  {
   "cell_type": "markdown",
   "id": "a5f34531-6802-46ed-831b-8859058c2093",
   "metadata": {},
   "source": [
    "# Some codes to demonstrate the functionalities needed to build the viewer."
   ]
  },
  {
   "cell_type": "code",
   "execution_count": 1,
   "id": "4c411725-9fe8-4133-bdfc-e264838594ae",
   "metadata": {},
   "outputs": [],
   "source": [
    "%matplotlib inline\n",
    "\n",
    "%load_ext autoreload\n",
    "%autoreload 2"
   ]
  },
  {
   "cell_type": "code",
   "execution_count": 2,
   "id": "12ac9336-6e01-4b9a-98b9-981e9c2a2967",
   "metadata": {},
   "outputs": [],
   "source": [
    "import pylab as plt\n",
    "import numpy as np"
   ]
  },
  {
   "cell_type": "code",
   "execution_count": 3,
   "id": "c5d8a3f9-548c-4140-bd00-eab021349f4c",
   "metadata": {},
   "outputs": [],
   "source": [
    "import os\n",
    "import sys\n",
    "\n",
    "sys.path.append('..')"
   ]
  },
  {
   "cell_type": "markdown",
   "id": "7bbc5bd5-81b1-443c-8137-52bef5a664cc",
   "metadata": {},
   "source": [
    "### 1. How to plot chemicals"
   ]
  },
  {
   "cell_type": "markdown",
   "id": "4c387178-81b7-403a-8dab-cd9b19cbea76",
   "metadata": {},
   "source": [
    "Define the chemical generation parameters. Some settings are already defined inside `vimms_gym.viewer_helper`."
   ]
  },
  {
   "cell_type": "code",
   "execution_count": 4,
   "id": "fb4efd91-16ec-46db-9d35-ee5c50f2788d",
   "metadata": {},
   "outputs": [],
   "source": [
    "from vimms_gym.viewer_helper import preset_1"
   ]
  },
  {
   "cell_type": "code",
   "execution_count": 5,
   "id": "2e7a3a2d-d1f8-4a05-b878-f1491dd3ce4b",
   "metadata": {},
   "outputs": [
    {
     "name": "stderr",
     "output_type": "stream",
     "text": [
      "2022-06-30 23:12:03.789 \n",
      "  \u001b[33m\u001b[1mWarning:\u001b[0m to view this Streamlit app on a browser, run it with the following\n",
      "  command:\n",
      "\n",
      "    streamlit run /opt/anaconda3/envs/vimms-gym/lib/python3.9/site-packages/ipykernel_launcher.py [ARGUMENTS]\n"
     ]
    },
    {
     "data": {
      "text/plain": [
       "{'mz_range': (100, 600),\n",
       " 'rt_range': (200, 1000),\n",
       " 'intensity_range': (10000.0, 10000000000.0),\n",
       " 'n_chemicals': (2000, 5000),\n",
       " 'mz_sampler': <vimms.ChemicalSamplers.UniformMZFormulaSampler at 0x7f9fb1a3e070>,\n",
       " 'ri_sampler': <vimms.ChemicalSamplers.UniformRTAndIntensitySampler at 0x7f9fb1a3e0d0>,\n",
       " 'cr_sampler': <vimms.ChemicalSamplers.GaussianChromatogramSampler at 0x7f9fb1a3e100>}"
      ]
     },
     "execution_count": 5,
     "metadata": {},
     "output_type": "execute_result"
    }
   ],
   "source": [
    "params = preset_1()\n",
    "chemical_creator_params = params['chemical_creator']\n",
    "chemical_creator_params"
   ]
  },
  {
   "cell_type": "markdown",
   "id": "353eb36e-ecfb-4c37-89df-8b0e974896f4",
   "metadata": {},
   "source": [
    "Generate a bunch of chemicals by calling the helper method defined inside `vimms_gym.viewer_helper`."
   ]
  },
  {
   "cell_type": "code",
   "execution_count": 6,
   "id": "82ff5f63-94e1-431b-ba42-404a424046a0",
   "metadata": {},
   "outputs": [],
   "source": [
    "from vimms_gym.chemicals import generate_chemicals"
   ]
  },
  {
   "cell_type": "code",
   "execution_count": 7,
   "id": "4a018f8e-d3a6-48a6-b82b-b3fcd94cb3d7",
   "metadata": {},
   "outputs": [
    {
     "name": "stderr",
     "output_type": "stream",
     "text": [
      "2022-06-30 23:12:06.049 | DEBUG    | vimms.Chemicals:sample:468 - Sampled rt and intensity values and chromatograms\n"
     ]
    },
    {
     "data": {
      "text/plain": [
       "4030"
      ]
     },
     "execution_count": 7,
     "metadata": {},
     "output_type": "execute_result"
    }
   ],
   "source": [
    "chems = generate_chemicals(chemical_creator_params)\n",
    "len(chems)"
   ]
  },
  {
   "cell_type": "markdown",
   "id": "6a0d59a5-ecb5-4fde-8351-474c9437a739",
   "metadata": {},
   "source": [
    "Let's inspect the first chemical object. We can see below it's of type `UnknownChemical`, which is defined here: https://github.com/glasgowcompbio/vimms/blob/master/vimms/Chemicals.py#L291-L323."
   ]
  },
  {
   "cell_type": "code",
   "execution_count": 8,
   "id": "3d671eee-3fff-4700-a75f-c6ecb2506ac6",
   "metadata": {},
   "outputs": [
    {
     "data": {
      "text/plain": [
       "UnknownChemical mz=372.1457 rt=695.34 max_intensity=1784255085.20"
      ]
     },
     "execution_count": 8,
     "metadata": {},
     "output_type": "execute_result"
    }
   ],
   "source": [
    "first = chems[0]\n",
    "first"
   ]
  },
  {
   "cell_type": "markdown",
   "id": "868b8e7a-f976-410c-b89b-eb0fced3df82",
   "metadata": {},
   "source": [
    "The chemical has an `rt` property, which indicates the **start** of the chromatogram (when the chemical begins to elute through the mass spec)."
   ]
  },
  {
   "cell_type": "code",
   "execution_count": 9,
   "id": "012f137d-05ce-42b3-97bd-b04f90844a13",
   "metadata": {},
   "outputs": [
    {
     "data": {
      "text/plain": [
       "695.3390813860677"
      ]
     },
     "execution_count": 9,
     "metadata": {},
     "output_type": "execute_result"
    }
   ],
   "source": [
    "first.rt"
   ]
  },
  {
   "cell_type": "markdown",
   "id": "f59ae7cb-4666-4f3b-924c-011bd469793f",
   "metadata": {},
   "source": [
    "Get the complete chromatogram of this chemical. Here we see it's of type `FunctionalChromatogram`, which is defined here: https://github.com/glasgowcompbio/vimms/blob/master/vimms/Chromatograms.py#L151-L206."
   ]
  },
  {
   "cell_type": "code",
   "execution_count": 10,
   "id": "1c8db9fc-d7bc-4536-a5ae-d98921eed62a",
   "metadata": {},
   "outputs": [
    {
     "data": {
      "text/plain": [
       "<vimms.Chromatograms.FunctionalChromatogram at 0x7f9fd685c280>"
      ]
     },
     "execution_count": 10,
     "metadata": {},
     "output_type": "execute_result"
    }
   ],
   "source": [
    "chrom = first.chromatogram\n",
    "chrom"
   ]
  },
  {
   "cell_type": "markdown",
   "id": "897db47d-c250-470d-87fb-1eb37395d698",
   "metadata": {},
   "source": [
    "A chromatogram has a defined range, stored inside the `min_rt` and `max_rt` property. Notice that it starts from 0."
   ]
  },
  {
   "cell_type": "code",
   "execution_count": 11,
   "id": "06bd5ad0-7bc2-400b-a7db-0e25b15c99e8",
   "metadata": {},
   "outputs": [
    {
     "data": {
      "text/plain": [
       "(0, 51.51658607097801)"
      ]
     },
     "execution_count": 11,
     "metadata": {},
     "output_type": "execute_result"
    }
   ],
   "source": [
    "chrom.min_rt, chrom.max_rt"
   ]
  },
  {
   "cell_type": "markdown",
   "id": "38ccb046-b5ee-4f05-8de3-2fb434ee7475",
   "metadata": {},
   "source": [
    "We can plot the chromatogram for its entire range.\n",
    "\n",
    "First generate a linearly-spaced grid for the X axis (you can also use for-loop to do this, instead of numpy)."
   ]
  },
  {
   "cell_type": "code",
   "execution_count": 12,
   "id": "1e640460-e6e3-414c-9b49-0e8f6c90e859",
   "metadata": {},
   "outputs": [
    {
     "data": {
      "text/plain": [
       "array([ 0.        ,  2.71139927,  5.42279853,  8.1341978 , 10.84559707,\n",
       "       13.55699633, 16.2683956 , 18.97979487, 21.69119414, 24.4025934 ,\n",
       "       27.11399267, 29.82539194, 32.5367912 , 35.24819047, 37.95958974,\n",
       "       40.670989  , 43.38238827, 46.09378754, 48.8051868 , 51.51658607])"
      ]
     },
     "execution_count": 12,
     "metadata": {},
     "output_type": "execute_result"
    }
   ],
   "source": [
    "X = np.linspace(chrom.min_rt, chrom.max_rt, num=20)\n",
    "X"
   ]
  },
  {
   "cell_type": "markdown",
   "id": "2b37c5fe-cb1e-4233-bbfe-723f9745f794",
   "metadata": {},
   "source": [
    "Then call `get_relative_intensity` method of the chromatogram for each timepoint in X to get the relative intensity of this chromaoram."
   ]
  },
  {
   "cell_type": "code",
   "execution_count": 13,
   "id": "b071e212-60fa-4a36-a257-15b8a516c07c",
   "metadata": {},
   "outputs": [
    {
     "data": {
      "text/plain": [
       "array([0.0362452 , 0.07024286, 0.12648119, 0.21160294, 0.32891941,\n",
       "       0.47503908, 0.63744278, 0.79474006, 0.92062134, 0.99085249,\n",
       "       0.99085249, 0.92062134, 0.79474006, 0.63744278, 0.47503908,\n",
       "       0.32891941, 0.21160294, 0.12648119, 0.07024286, 0.0362452 ])"
      ]
     },
     "execution_count": 13,
     "metadata": {},
     "output_type": "execute_result"
    }
   ],
   "source": [
    "Y_relative = np.array([chrom.get_relative_intensity(x) for x in X])\n",
    "Y_relative"
   ]
  },
  {
   "cell_type": "markdown",
   "id": "1086737c-5386-4cc8-9b90-ffe50c08d44d",
   "metadata": {},
   "source": [
    "Remember that X has been shifted by `first.rt`, so we need to add it back."
   ]
  },
  {
   "cell_type": "code",
   "execution_count": 14,
   "id": "690970f6-6091-4cc7-a8ab-3b422c8107f2",
   "metadata": {},
   "outputs": [
    {
     "data": {
      "text/plain": [
       "Text(0, 0.5, 'Relative intensity')"
      ]
     },
     "execution_count": 14,
     "metadata": {},
     "output_type": "execute_result"
    },
    {
     "data": {
      "image/png": "[encoded data removed]",
      "text/plain": [
       "<Figure size 432x288 with 1 Axes>"
      ]
     },
     "metadata": {
      "needs_background": "light"
     },
     "output_type": "display_data"
    }
   ],
   "source": [
    "rt = X + first.rt\n",
    "plt.plot(rt, Y_relative)\n",
    "plt.title(first, pad=20)\n",
    "plt.xlabel('RT')\n",
    "plt.ylabel('Relative intensity')"
   ]
  },
  {
   "cell_type": "markdown",
   "id": "36f2244d-e761-4500-9618-de4f31c53e1a",
   "metadata": {},
   "source": [
    "Above shows the relative intensity of this chemical (goes from 0 to 1). What if we want to get the absolute intensity that is actually measured by the mass spec."
   ]
  },
  {
   "cell_type": "markdown",
   "id": "427350c5-eed2-4e4a-b768-d272d511a05b",
   "metadata": {},
   "source": [
    "Some complex-looking function that I should document later ..."
   ]
  },
  {
   "cell_type": "code",
   "execution_count": 15,
   "id": "f54decec-d32a-4e7b-ac95-b1e825ea0032",
   "metadata": {},
   "outputs": [],
   "source": [
    "from vimms.Common import POSITIVE"
   ]
  },
  {
   "cell_type": "code",
   "execution_count": 16,
   "id": "bf27929e-ae7a-4946-9a85-7b4632550218",
   "metadata": {},
   "outputs": [],
   "source": [
    "def get_chemical_max_intensity(chem, ionisation_mode=POSITIVE, which_isotope=0, which_adduct=0):\n",
    "    return chem.isotopes[which_isotope][1] * \\\n",
    "           chem.adducts[ionisation_mode][which_isotope][1] * \\\n",
    "           chem.max_intensity"
   ]
  },
  {
   "cell_type": "code",
   "execution_count": 17,
   "id": "ff54aaf1-b24e-4db0-8c44-b22134c94c96",
   "metadata": {},
   "outputs": [
    {
     "data": {
      "text/plain": [
       "1784255085.2031448"
      ]
     },
     "execution_count": 17,
     "metadata": {},
     "output_type": "execute_result"
    }
   ],
   "source": [
    "max_intensity = get_chemical_max_intensity(first)\n",
    "max_intensity"
   ]
  },
  {
   "cell_type": "code",
   "execution_count": 18,
   "id": "f5fcbd69-aed6-4166-8631-81660fce4176",
   "metadata": {},
   "outputs": [
    {
     "data": {
      "text/plain": [
       "array([6.46706837e+07, 1.25331187e+08, 2.25674705e+08, 3.77553630e+08,\n",
       "       5.86876134e+08, 8.47590893e+08, 1.13736052e+09, 1.41801899e+09,\n",
       "       1.64262331e+09, 1.76793359e+09, 1.76793359e+09, 1.64262331e+09,\n",
       "       1.41801899e+09, 1.13736052e+09, 8.47590893e+08, 5.86876134e+08,\n",
       "       3.77553630e+08, 2.25674705e+08, 1.25331187e+08, 6.46706837e+07])"
      ]
     },
     "execution_count": 18,
     "metadata": {},
     "output_type": "execute_result"
    }
   ],
   "source": [
    "Y_absolute = Y_relative * max_intensity\n",
    "Y_absolute"
   ]
  },
  {
   "cell_type": "code",
   "execution_count": 19,
   "id": "5ffb5a61-e913-4855-862a-30f0c5d4a10d",
   "metadata": {},
   "outputs": [
    {
     "data": {
      "text/plain": [
       "Text(0, 0.5, 'Absolute intensity')"
      ]
     },
     "execution_count": 19,
     "metadata": {},
     "output_type": "execute_result"
    },
    {
     "data": {
      "image/png": "[encoded data removed]",
      "text/plain": [
       "<Figure size 432x288 with 1 Axes>"
      ]
     },
     "metadata": {
      "needs_background": "light"
     },
     "output_type": "display_data"
    }
   ],
   "source": [
    "rt = X + first.rt\n",
    "plt.plot(rt, Y_absolute)\n",
    "plt.title(first, pad=20)\n",
    "plt.xlabel('RT')\n",
    "plt.ylabel('Absolute intensity')"
   ]
  },
  {
   "cell_type": "markdown",
   "id": "f0c2c8a4-79ff-49d0-9a51-a5546432413f",
   "metadata": {},
   "source": [
    "### 2. Simulate fragmentation using the chosen method"
   ]
  },
  {
   "cell_type": "markdown",
   "id": "dff9f855-f86d-4fd3-a650-d8e93cd34415",
   "metadata": {},
   "source": [
    "Once we have the input chems, we can simulate the fragmentation process. Some of the codes below are similar to those inside `vimms_gym.viewer_helper`."
   ]
  },
  {
   "cell_type": "markdown",
   "id": "f61ea7f9-5cab-4de5-bb56-81e5f00bce94",
   "metadata": {},
   "source": [
    "First load the trained PPO model."
   ]
  },
  {
   "cell_type": "code",
   "execution_count": 20,
   "id": "155e3b30-345a-4c74-91d1-253c26597ee2",
   "metadata": {},
   "outputs": [],
   "source": [
    "from stable_baselines3 import PPO"
   ]
  },
  {
   "cell_type": "code",
   "execution_count": 21,
   "id": "ad079214-2bc4-44f5-9469-9111481b71cd",
   "metadata": {},
   "outputs": [
    {
     "data": {
      "text/plain": [
       "<stable_baselines3.ppo.ppo.PPO at 0x7f9fd67ba610>"
      ]
     },
     "execution_count": 21,
     "metadata": {},
     "output_type": "execute_result"
    }
   ],
   "source": [
    "in_dir = os.path.abspath(os.path.join('simulated_chems', 'results'))\n",
    "env_name = 'DDAEnv'\n",
    "model_name = 'PPO'\n",
    "fname = os.path.join(in_dir, '%s_%s.zip' % (env_name, model_name))\n",
    "model = PPO.load(fname)\n",
    "model"
   ]
  },
  {
   "cell_type": "markdown",
   "id": "d8969bdf-b8be-4645-9d76-ae99d81728b7",
   "metadata": {},
   "source": [
    "Run fragmentation using the model. Below code is almost the same to `vimms_gym.viewer_helper.run_simulation`, but without the streamlit bits."
   ]
  },
  {
   "cell_type": "code",
   "execution_count": 22,
   "id": "0ae4ccbe-ddbb-46e4-9d76-eb3082146858",
   "metadata": {},
   "outputs": [],
   "source": [
    "from vimms_gym.env import DDAEnv\n",
    "from vimms_gym.common import METHOD_PPO, METHOD_TOPN\n",
    "from vimms_gym.evaluation import Episode, pick_action"
   ]
  },
  {
   "cell_type": "code",
   "execution_count": 23,
   "id": "f4b41b90-25b1-4069-b2d8-07162a160060",
   "metadata": {},
   "outputs": [],
   "source": [
    "max_peaks = 200 # what we used for training the model ... this really should be a part of params"
   ]
  },
  {
   "cell_type": "code",
   "execution_count": 24,
   "id": "efd3dc9b-73bc-4d03-9121-0cabb76f425c",
   "metadata": {},
   "outputs": [],
   "source": [
    "method = METHOD_PPO"
   ]
  },
  {
   "cell_type": "code",
   "execution_count": 25,
   "id": "39aab880-4d3b-40cc-97af-981dc577bb4d",
   "metadata": {},
   "outputs": [],
   "source": [
    "# only used for Top-N method\n",
    "min_ms1_intensity = 5000\n",
    "N = 20  # from optimise_baselines.ipynb\n",
    "rt_tol = 30  # from optimise_baselines.ipynb"
   ]
  },
  {
   "cell_type": "code",
   "execution_count": 26,
   "id": "28ddd206-b7fa-45c7-b8c1-5e0c5b8bcc3f",
   "metadata": {},
   "outputs": [
    {
     "name": "stdout",
     "output_type": "stream",
     "text": [
      "Step\t 500 \tTotal reward\t 218.42429810820485\n",
      "Step\t 1000 \tTotal reward\t 482.60285618280477\n",
      "Step\t 1500 \tTotal reward\t 726.8996852530433\n",
      "Step\t 2000 \tTotal reward\t 981.1480517196591\n",
      "Step\t 2500 \tTotal reward\t 1215.7543695227178\n",
      "Step\t 3000 \tTotal reward\t 1453.0700889796522\n",
      "Step\t 3500 \tTotal reward\t 1712.1457081940127\n",
      "Episode stored into session: 3650 timesteps with total reward 1782.879733060315\n"
     ]
    }
   ],
   "source": [
    "env = DDAEnv(max_peaks, params)\n",
    "obs = env.reset(chems=chems)\n",
    "done = False\n",
    "episode = Episode(obs)\n",
    "while not done:  # repeat until episode is done\n",
    "\n",
    "    # select an action depending on the observation and method\n",
    "    action, action_probs = pick_action(\n",
    "        method, obs, model, env.features, N, min_ms1_intensity)\n",
    "\n",
    "    # make one step through the simulation\n",
    "    obs, reward, done, info = env.step(action)\n",
    "\n",
    "    # store new episodic information\n",
    "    if obs is not None:\n",
    "        episode.add_step_data(action, action_probs, obs, reward, info)\n",
    "\n",
    "    if episode.num_steps % 500 == 0:\n",
    "        print('Step\\t', episode.num_steps, '\\tTotal reward\\t',\n",
    "                 episode.get_total_rewards())\n",
    "\n",
    "    # if episode is finished, break\n",
    "    if done:\n",
    "        msg = f'Episode stored into session: {episode.num_steps} timesteps ' \\\n",
    "              f'with total reward {episode.get_total_rewards()}'\n",
    "        print(msg)\n",
    "        break"
   ]
  },
  {
   "cell_type": "markdown",
   "id": "c754bc30-6c3a-4f60-bf3a-5df1a94dfd9c",
   "metadata": {},
   "source": [
    "### 3. When does a particular chemical get fragmented, and in which scan?"
   ]
  },
  {
   "cell_type": "markdown",
   "id": "40708108-ef5a-4281-a264-2decc8012e82",
   "metadata": {},
   "source": [
    "Get all MS2 fragmentation events in the whole simulated run."
   ]
  },
  {
   "cell_type": "code",
   "execution_count": 27,
   "id": "f0a265b7-cbe5-4599-9a9d-a3f621337b36",
   "metadata": {},
   "outputs": [
    {
     "data": {
      "text/plain": [
       "[MS2 ScanEvent for UnknownChemical mz=596.9183 rt=200.13 max_intensity=4228115754.49 at 201.000000,\n",
       " MS2 ScanEvent for UnknownChemical mz=511.8607 rt=200.01 max_intensity=2988332.89 at 201.600000,\n",
       " MS2 ScanEvent for UnknownChemical mz=596.5535 rt=201.34 max_intensity=2337512.75 at 202.200000,\n",
       " MS2 ScanEvent for UnknownChemical mz=155.8298 rt=202.01 max_intensity=18106591.93 at 202.800000,\n",
       " MS2 ScanEvent for UnknownChemical mz=289.2857 rt=201.57 max_intensity=703461857.54 at 203.400000,\n",
       " MS2 ScanEvent for UnknownChemical mz=480.8472 rt=201.48 max_intensity=1371199.67 at 204.000000,\n",
       " MS2 ScanEvent for UnknownChemical mz=479.4236 rt=201.87 max_intensity=73997142.59 at 204.600000,\n",
       " MS2 ScanEvent for UnknownChemical mz=539.3465 rt=204.25 max_intensity=32511899.99 at 205.200000,\n",
       " MS2 ScanEvent for UnknownChemical mz=356.0747 rt=202.17 max_intensity=19271.34 at 205.800000,\n",
       " MS2 ScanEvent for UnknownChemical mz=521.1645 rt=201.95 max_intensity=2832993.55 at 206.400000]"
      ]
     },
     "execution_count": 27,
     "metadata": {},
     "output_type": "execute_result"
    }
   ],
   "source": [
    "ms2_frags = [e for e in env.vimms_env.mass_spec.fragmentation_events if e.ms_level == 2]\n",
    "ms2_frags[0:10]"
   ]
  },
  {
   "cell_type": "markdown",
   "id": "9063b289-1da7-412a-a79d-a51a79b4e292",
   "metadata": {},
   "source": [
    "How do we know which chemical has been fragmented in which scan? You can check that using the `info` field returned by each step(), e.g. here using the last `info` value of the last MS2 scan, we can extract the scan id."
   ]
  },
  {
   "cell_type": "code",
   "execution_count": 28,
   "id": "310a51d2-6eb0-4a41-9c14-f996b64d028b",
   "metadata": {},
   "outputs": [
    {
     "data": {
      "text/plain": [
       "103650"
      ]
     },
     "execution_count": 28,
     "metadata": {},
     "output_type": "execute_result"
    }
   ],
   "source": [
    "scan_id = info['current_scan'].scan_id\n",
    "scan_id"
   ]
  },
  {
   "cell_type": "markdown",
   "id": "d4ccdc5f-bfa4-4efe-a39c-6ad8644f1233",
   "metadata": {},
   "source": [
    "Filter frag events by the scan id above."
   ]
  },
  {
   "cell_type": "code",
   "execution_count": 29,
   "id": "51dd36ed-9517-40b5-804f-81d3d64dfeea",
   "metadata": {},
   "outputs": [
    {
     "data": {
      "text/plain": [
       "[MS2 ScanEvent for UnknownChemical mz=173.9833 rt=983.41 max_intensity=199665.55 at 999.800000]"
      ]
     },
     "execution_count": 29,
     "metadata": {},
     "output_type": "execute_result"
    }
   ],
   "source": [
    "scan_events = [e for e in ms2_frags if e.scan_id == scan_id]\n",
    "scan_events"
   ]
  },
  {
   "cell_type": "markdown",
   "id": "e82fa5ec-5cd3-41cc-b724-c3465787c8be",
   "metadata": {},
   "source": [
    "There could be multiple frag events associated to a scan, e.g. if multiple chemicals were fragmented, then there would be multiple frag events, one for each.\n",
    "Here we take the first one for illustration purpose. We can see it's of type `ScanEvent`, defined here: https://github.com/glasgowcompbio/vimms/blob/master/vimms/MassSpec.py#L105-L145."
   ]
  },
  {
   "cell_type": "code",
   "execution_count": 30,
   "id": "6ae09891-8c2e-40c1-9b64-29c724b24f2f",
   "metadata": {},
   "outputs": [
    {
     "data": {
      "text/plain": [
       "MS2 ScanEvent for UnknownChemical mz=173.9833 rt=983.41 max_intensity=199665.55 at 999.800000"
      ]
     },
     "execution_count": 30,
     "metadata": {},
     "output_type": "execute_result"
    }
   ],
   "source": [
    "se = scan_events[0]\n",
    "se"
   ]
  },
  {
   "cell_type": "markdown",
   "id": "e7b27313-54d7-4a85-8456-5191a0536493",
   "metadata": {},
   "source": [
    "Below shows how to extract the chemical, query (scan) RT and the associated scan id for this MS2 fragmentation event."
   ]
  },
  {
   "cell_type": "code",
   "execution_count": 31,
   "id": "e713569f-611c-4982-9cec-6de336dd9f43",
   "metadata": {},
   "outputs": [
    {
     "data": {
      "text/plain": [
       "(UnknownChemical mz=173.9833 rt=983.41 max_intensity=199665.55,\n",
       " 999.8000000000723,\n",
       " 103650)"
      ]
     },
     "execution_count": 31,
     "metadata": {},
     "output_type": "execute_result"
    }
   ],
   "source": [
    "se.chem, se.query_rt, se.scan_id"
   ]
  }
 ],
 "metadata": {
  "kernelspec": {
   "display_name": "Python 3 (ipykernel)",
   "language": "python",
   "name": "python3"
  },
  "language_info": {
   "codemirror_mode": {
    "name": "ipython",
    "version": 3
   },
   "file_extension": ".py",
   "mimetype": "text/x-python",
   "name": "python",
   "nbconvert_exporter": "python",
   "pygments_lexer": "ipython3",
   "version": "3.9.7"
  }
 },
 "nbformat": 4,
 "nbformat_minor": 5
}
