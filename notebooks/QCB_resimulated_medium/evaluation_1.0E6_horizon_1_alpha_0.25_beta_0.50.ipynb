{
 "cells": [
  {
   "cell_type": "markdown",
   "metadata": {},
   "source": [
    "# Evaluation using QCB chemicals (medium)"
   ]
  },
  {
   "cell_type": "code",
   "execution_count": 1,
   "metadata": {
    "execution": {
     "iopub.execute_input": "2023-06-13T05:51:09.154114Z",
     "iopub.status.busy": "2023-06-13T05:51:09.153569Z",
     "iopub.status.idle": "2023-06-13T05:51:09.719619Z",
     "shell.execute_reply": "2023-06-13T05:51:09.719032Z",
     "shell.execute_reply.started": "2023-06-13T05:51:09.154019Z"
    },
    "tags": []
   },
   "outputs": [],
   "source": [
    "%matplotlib inline\n",
    "\n",
    "%load_ext autoreload\n",
    "%autoreload 2"
   ]
  },
  {
   "cell_type": "code",
   "execution_count": 2,
   "metadata": {
    "execution": {
     "iopub.execute_input": "2023-06-13T05:51:09.720797Z",
     "iopub.status.busy": "2023-06-13T05:51:09.720663Z",
     "iopub.status.idle": "2023-06-13T05:51:09.732132Z",
     "shell.execute_reply": "2023-06-13T05:51:09.731480Z",
     "shell.execute_reply.started": "2023-06-13T05:51:09.720782Z"
    }
   },
   "outputs": [],
   "source": [
    "import sys\n",
    "sys.path.append('../..')"
   ]
  },
  {
   "cell_type": "code",
   "execution_count": 3,
   "metadata": {
    "execution": {
     "iopub.execute_input": "2023-06-13T05:51:09.733087Z",
     "iopub.status.busy": "2023-06-13T05:51:09.732960Z",
     "iopub.status.idle": "2023-06-13T05:51:12.797329Z",
     "shell.execute_reply": "2023-06-13T05:51:12.796856Z",
     "shell.execute_reply.started": "2023-06-13T05:51:09.733071Z"
    },
    "tags": []
   },
   "outputs": [],
   "source": [
    "import os\n",
    "from os.path import exists\n",
    "import copy\n",
    "\n",
    "import pylab as plt\n",
    "from loguru import logger\n",
    "import seaborn as sns\n",
    "import gymnasium as gym\n",
    "import pandas as pd\n",
    "import torch\n",
    "\n",
    "from vimms.Evaluation import EvaluationData\n",
    "from vimms.Common import set_log_level_warning, load_obj, save_obj\n",
    "from vimms.Noise import UniformSpikeNoise\n",
    "from vimms.Roi import RoiBuilderParams, SmartRoiParams\n",
    "\n",
    "from vimms_gym.common import METHOD_DQN, evaluate\n",
    "from vimms_gym.chemicals import generate_chemicals\n",
    "from vimms_gym.evaluation import run_method\n",
    "from vimms_gym.common import METHOD_RANDOM, METHOD_TOPN\n",
    "from vimms_gym.experiments import preset_qcb_medium\n",
    "\n",
    "from model.QNetwork import get_QNetwork, QNETWORK_CNN\n",
    "from model.DQN_utils import make_env, masked_epsilon_greedy"
   ]
  },
  {
   "cell_type": "markdown",
   "metadata": {},
   "source": [
    "# 1. Parameters"
   ]
  },
  {
   "cell_type": "markdown",
   "metadata": {},
   "source": [
    "Parameters that will be used throughout this notebook. Should be the same as the training ones."
   ]
  },
  {
   "cell_type": "markdown",
   "metadata": {},
   "source": [
    "Chemical generation parameters"
   ]
  },
  {
   "cell_type": "code",
   "execution_count": 4,
   "metadata": {
    "execution": {
     "iopub.execute_input": "2023-06-13T05:51:12.798535Z",
     "iopub.status.busy": "2023-06-13T05:51:12.798402Z",
     "iopub.status.idle": "2023-06-13T05:51:12.862837Z",
     "shell.execute_reply": "2023-06-13T05:51:12.862414Z",
     "shell.execute_reply.started": "2023-06-13T05:51:12.798519Z"
    }
   },
   "outputs": [
    {
     "name": "stderr",
     "output_type": "stream",
     "text": [
      "\u001b[32m2023-06-13 05:51:12.825\u001b[0m | \u001b[1mINFO    \u001b[0m | \u001b[36mvimms_gym.experiments\u001b[0m:\u001b[36mget_samplers\u001b[0m:\u001b[36m303\u001b[0m - \u001b[1mLoaded /notebooks/vimms-gym/pickles/samplers_QCB_medium_extracted.p\u001b[0m\n"
     ]
    },
    {
     "data": {
      "text/plain": [
       "({'chemical_creator': {'mz_range': (100, 600),\n",
       "   'rt_range': (400, 800),\n",
       "   'intensity_range': (10000.0, 1e+20),\n",
       "   'n_chemicals': (200, 500),\n",
       "   'mz_sampler': <vimms.ChemicalSamplers.MZMLFormulaSampler at 0x7f23895ddb80>,\n",
       "   'ri_sampler': <vimms.ChemicalSamplers.MZMLRTandIntensitySampler at 0x7f22d9d5f520>,\n",
       "   'cr_sampler': <vimms.ChemicalSamplers.MZMLChromatogramSampler at 0x7f22d9e4c6d0>},\n",
       "  'noise': {'enable_spike_noise': True,\n",
       "   'noise_density': 0.1,\n",
       "   'noise_max_val': 1000.0,\n",
       "   'mz_range': (100, 600)},\n",
       "  'env': {'ionisation_mode': 'Positive',\n",
       "   'rt_range': (400, 800),\n",
       "   'isolation_window': 0.7,\n",
       "   'use_dew': False,\n",
       "   'mz_tol': 10,\n",
       "   'rt_tol': 5,\n",
       "   'min_ms1_intensity': 5000,\n",
       "   'alpha': 0.25,\n",
       "   'beta': 0.5}},\n",
       " 30)"
      ]
     },
     "execution_count": 4,
     "metadata": {},
     "output_type": "execute_result"
    }
   ],
   "source": [
    "env_alpha = 0.25\n",
    "env_beta = 0.50\n",
    "extract = True\n",
    "params, max_peaks = preset_qcb_medium(None, alpha=env_alpha, beta=env_beta, extract_chromatograms=extract)\n",
    "params, max_peaks"
   ]
  },
  {
   "cell_type": "code",
   "execution_count": 5,
   "metadata": {
    "execution": {
     "iopub.execute_input": "2023-06-13T05:51:12.864091Z",
     "iopub.status.busy": "2023-06-13T05:51:12.863969Z",
     "iopub.status.idle": "2023-06-13T05:51:12.893154Z",
     "shell.execute_reply": "2023-06-13T05:51:12.892744Z",
     "shell.execute_reply.started": "2023-06-13T05:51:12.864076Z"
    }
   },
   "outputs": [],
   "source": [
    "# n_chemicals = (200, 500)\n",
    "# mz_range = (100, 600)\n",
    "# rt_range = (400, 800)\n",
    "# intensity_range = (1E4, 1E20)"
   ]
  },
  {
   "cell_type": "markdown",
   "metadata": {},
   "source": [
    "Evaluation parameters"
   ]
  },
  {
   "cell_type": "code",
   "execution_count": 6,
   "metadata": {
    "execution": {
     "iopub.execute_input": "2023-06-13T05:51:12.893899Z",
     "iopub.status.busy": "2023-06-13T05:51:12.893775Z",
     "iopub.status.idle": "2023-06-13T05:51:12.923512Z",
     "shell.execute_reply": "2023-06-13T05:51:12.923142Z",
     "shell.execute_reply.started": "2023-06-13T05:51:12.893884Z"
    }
   },
   "outputs": [],
   "source": [
    "env_name = 'DDAEnv'\n",
    "intensity_threshold = 0.5\n",
    "\n",
    "dqn_in_dir = 'DDAEnv_DQN_20230612_225420'\n",
    "\n",
    "# ppo_in_dir = os.path.join('..', '..', 'tune', 'QCB_resimulated_medium')\n",
    "ppo_in_dir = 'PPO_1.0E6'\n",
    "\n",
    "methods = [\n",
    "    METHOD_RANDOM,\n",
    "    METHOD_TOPN,\n",
    "]\n",
    "valid_random = True\n",
    "n_eval_episodes = 30"
   ]
  },
  {
   "cell_type": "code",
   "execution_count": 7,
   "metadata": {
    "execution": {
     "iopub.execute_input": "2023-06-13T05:51:12.924444Z",
     "iopub.status.busy": "2023-06-13T05:51:12.924321Z",
     "iopub.status.idle": "2023-06-13T05:51:12.954140Z",
     "shell.execute_reply": "2023-06-13T05:51:12.953607Z",
     "shell.execute_reply.started": "2023-06-13T05:51:12.924428Z"
    }
   },
   "outputs": [],
   "source": [
    "# topN parameters\n",
    "topN_N = 10\n",
    "topN_rt_tol = 5\n",
    "min_ms1_intensity = 5000\n",
    "\n",
    "# smartroi parameters\n",
    "alpha = 2\n",
    "beta = 0.5\n",
    "ils = 0\n",
    "smartroi_N = topN_N\n",
    "smartroi_dew = topN_rt_tol\n",
    "\n",
    "# weighteddew parameters\n",
    "t0 = 3\n",
    "t1 = 15\n",
    "weighteddew_N = 10"
   ]
  },
  {
   "cell_type": "markdown",
   "metadata": {},
   "source": [
    "## Generate chemical sets for evaluation"
   ]
  },
  {
   "cell_type": "code",
   "execution_count": 8,
   "metadata": {
    "execution": {
     "iopub.execute_input": "2023-06-13T05:51:12.954919Z",
     "iopub.status.busy": "2023-06-13T05:51:12.954796Z",
     "iopub.status.idle": "2023-06-13T05:51:14.939058Z",
     "shell.execute_reply": "2023-06-13T05:51:14.938544Z",
     "shell.execute_reply.started": "2023-06-13T05:51:12.954904Z"
    }
   },
   "outputs": [
    {
     "name": "stdout",
     "output_type": "stream",
     "text": [
      "426\n",
      "262\n",
      "394\n",
      "452\n",
      "437\n",
      "200\n",
      "478\n",
      "204\n",
      "424\n",
      "384\n",
      "443\n",
      "249\n",
      "251\n",
      "300\n",
      "206\n",
      "407\n",
      "498\n",
      "372\n",
      "302\n",
      "265\n",
      "468\n",
      "234\n",
      "322\n",
      "310\n",
      "345\n",
      "396\n",
      "203\n",
      "281\n",
      "493\n",
      "304\n"
     ]
    }
   ],
   "source": [
    "fname = 'QCB_chems_medium.p'\n",
    "found = exists(fname)\n",
    "if found:\n",
    "    chem_list = load_obj(fname)\n",
    "    for chems in chem_list:\n",
    "        print(len(chems))"
   ]
  },
  {
   "cell_type": "markdown",
   "metadata": {},
   "source": [
    "Generate new chemicals if not found"
   ]
  },
  {
   "cell_type": "code",
   "execution_count": 9,
   "metadata": {
    "execution": {
     "iopub.execute_input": "2023-06-13T05:51:14.940148Z",
     "iopub.status.busy": "2023-06-13T05:51:14.939966Z",
     "iopub.status.idle": "2023-06-13T05:51:14.971233Z",
     "shell.execute_reply": "2023-06-13T05:51:14.970833Z",
     "shell.execute_reply.started": "2023-06-13T05:51:14.940125Z"
    }
   },
   "outputs": [
    {
     "data": {
      "text/plain": [
       "{'mz_range': (100, 600),\n",
       " 'rt_range': (400, 800),\n",
       " 'intensity_range': (10000.0, 1e+20),\n",
       " 'n_chemicals': (200, 500),\n",
       " 'mz_sampler': <vimms.ChemicalSamplers.MZMLFormulaSampler at 0x7f23895ddb80>,\n",
       " 'ri_sampler': <vimms.ChemicalSamplers.MZMLRTandIntensitySampler at 0x7f22d9d5f520>,\n",
       " 'cr_sampler': <vimms.ChemicalSamplers.MZMLChromatogramSampler at 0x7f22d9e4c6d0>}"
      ]
     },
     "execution_count": 9,
     "metadata": {},
     "output_type": "execute_result"
    }
   ],
   "source": [
    "params['chemical_creator']"
   ]
  },
  {
   "cell_type": "code",
   "execution_count": 10,
   "metadata": {
    "execution": {
     "iopub.execute_input": "2023-06-13T05:51:14.972136Z",
     "iopub.status.busy": "2023-06-13T05:51:14.972014Z",
     "iopub.status.idle": "2023-06-13T05:51:15.001806Z",
     "shell.execute_reply": "2023-06-13T05:51:15.001364Z",
     "shell.execute_reply.started": "2023-06-13T05:51:14.972120Z"
    }
   },
   "outputs": [],
   "source": [
    "if not found:\n",
    "    repeat = 30\n",
    "    logger.warning('Generating chemicals')\n",
    "    \n",
    "    chemical_creator_params = params['chemical_creator']\n",
    "    chem_list = []\n",
    "    for i in range(repeat):\n",
    "        chems = generate_chemicals(chemical_creator_params)\n",
    "        print(len(chems))\n",
    "        chem_list.append(chems)\n",
    "        \n",
    "    save_obj(chem_list, fname)"
   ]
  },
  {
   "cell_type": "code",
   "execution_count": 11,
   "metadata": {
    "execution": {
     "iopub.execute_input": "2023-06-13T05:51:15.002654Z",
     "iopub.status.busy": "2023-06-13T05:51:15.002519Z",
     "iopub.status.idle": "2023-06-13T05:51:15.032758Z",
     "shell.execute_reply": "2023-06-13T05:51:15.032434Z",
     "shell.execute_reply.started": "2023-06-13T05:51:15.002639Z"
    }
   },
   "outputs": [
    {
     "data": {
      "text/plain": [
       "30"
      ]
     },
     "execution_count": 11,
     "metadata": {},
     "output_type": "execute_result"
    }
   ],
   "source": [
    "chem_list = chem_list[0:n_eval_episodes]\n",
    "len(chem_list)"
   ]
  },
  {
   "cell_type": "markdown",
   "metadata": {
    "tags": []
   },
   "source": [
    "# 2. Evaluation"
   ]
  },
  {
   "cell_type": "code",
   "execution_count": 12,
   "metadata": {
    "execution": {
     "iopub.execute_input": "2023-06-13T05:51:15.033886Z",
     "iopub.status.busy": "2023-06-13T05:51:15.033767Z",
     "iopub.status.idle": "2023-06-13T05:51:15.066865Z",
     "shell.execute_reply": "2023-06-13T05:51:15.066086Z",
     "shell.execute_reply.started": "2023-06-13T05:51:15.033871Z"
    }
   },
   "outputs": [
    {
     "data": {
      "text/plain": [
       "1"
      ]
     },
     "execution_count": 12,
     "metadata": {},
     "output_type": "execute_result"
    }
   ],
   "source": [
    "set_log_level_warning()"
   ]
  },
  {
   "cell_type": "code",
   "execution_count": 13,
   "metadata": {
    "execution": {
     "iopub.execute_input": "2023-06-13T05:51:15.067648Z",
     "iopub.status.busy": "2023-06-13T05:51:15.067518Z",
     "iopub.status.idle": "2023-06-13T05:51:15.103058Z",
     "shell.execute_reply": "2023-06-13T05:51:15.102234Z",
     "shell.execute_reply.started": "2023-06-13T05:51:15.067632Z"
    }
   },
   "outputs": [
    {
     "data": {
      "text/plain": [
       "{'chemical_creator': {'mz_range': (100, 600),\n",
       "  'rt_range': (400, 800),\n",
       "  'intensity_range': (10000.0, 1e+20),\n",
       "  'n_chemicals': (200, 500),\n",
       "  'mz_sampler': <vimms.ChemicalSamplers.MZMLFormulaSampler at 0x7f23895ddb80>,\n",
       "  'ri_sampler': <vimms.ChemicalSamplers.MZMLRTandIntensitySampler at 0x7f22d9d5f520>,\n",
       "  'cr_sampler': <vimms.ChemicalSamplers.MZMLChromatogramSampler at 0x7f22d9e4c6d0>},\n",
       " 'noise': {'enable_spike_noise': True,\n",
       "  'noise_density': 0.1,\n",
       "  'noise_max_val': 1000.0,\n",
       "  'mz_range': (100, 600)},\n",
       " 'env': {'ionisation_mode': 'Positive',\n",
       "  'rt_range': (400, 800),\n",
       "  'isolation_window': 0.7,\n",
       "  'use_dew': False,\n",
       "  'mz_tol': 10,\n",
       "  'rt_tol': 5,\n",
       "  'min_ms1_intensity': 5000,\n",
       "  'alpha': 0.25,\n",
       "  'beta': 0.5}}"
      ]
     },
     "execution_count": 13,
     "metadata": {},
     "output_type": "execute_result"
    }
   ],
   "source": [
    "params"
   ]
  },
  {
   "cell_type": "code",
   "execution_count": 14,
   "metadata": {
    "execution": {
     "iopub.execute_input": "2023-06-13T05:51:15.106918Z",
     "iopub.status.busy": "2023-06-13T05:51:15.106267Z",
     "iopub.status.idle": "2023-06-13T05:51:15.151584Z",
     "shell.execute_reply": "2023-06-13T05:51:15.150910Z",
     "shell.execute_reply.started": "2023-06-13T05:51:15.106884Z"
    }
   },
   "outputs": [],
   "source": [
    "horizon = 1\n",
    "out_dir = 'evaluation_1.0E6_horizon_%d_alpha_%.2f_beta_%.2f' % (horizon, env_alpha, env_beta)"
   ]
  },
  {
   "cell_type": "code",
   "execution_count": 15,
   "metadata": {
    "execution": {
     "iopub.execute_input": "2023-06-13T05:51:15.152835Z",
     "iopub.status.busy": "2023-06-13T05:51:15.152656Z",
     "iopub.status.idle": "2023-06-13T06:00:58.592463Z",
     "shell.execute_reply": "2023-06-13T06:00:58.591811Z",
     "shell.execute_reply.started": "2023-06-13T05:51:15.152812Z"
    }
   },
   "outputs": [
    {
     "name": "stdout",
     "output_type": "stream",
     "text": [
      "method = random max_peaks = 30 N = 0 rt_tol = 5\n",
      "\n",
      "\n",
      "Episode 0 (426 chemicals)\n",
      "steps\t 500 \ttotal rewards\t 112.50417889129498\n",
      "steps\t 1000 \ttotal rewards\t 124.00695069964192\n",
      "steps\t 1500 \ttotal rewards\t 106.87023263283743\n",
      "Finished after 1792 timesteps (2.2849645614624023 seconds) with total reward 79.49614821081397\n",
      "{'coverage_prop': '0.932', 'intensity_prop': '0.690', 'ms1ms2_ratio': '0.131', 'efficiency': '0.251', 'TP': '335', 'FP': '62', 'FN': '29', 'precision': '0.844', 'recall': '0.920', 'f1': '0.880', 'total_rewards': 79.49614821081376, 'invalid_action_count': 0, 'num_ms1_scans': 208, 'num_ms2_scans': 1584}\n",
      "\n",
      "Episode 1 (262 chemicals)\n",
      "steps\t 500 \ttotal rewards\t 128.55968311439392\n",
      "steps\t 1000 \ttotal rewards\t 193.1982125710255\n",
      "steps\t 1500 \ttotal rewards\t 159.0689096124731\n",
      "Finished after 1712 timesteps (1.7895526885986328 seconds) with total reward 148.3533707579012\n",
      "{'coverage_prop': '0.943', 'intensity_prop': '0.765', 'ms1ms2_ratio': '0.202', 'efficiency': '0.173', 'TP': '224', 'FP': '23', 'FN': '15', 'precision': '0.907', 'recall': '0.937', 'f1': '0.922', 'total_rewards': 148.35337075790125, 'invalid_action_count': 0, 'num_ms1_scans': 288, 'num_ms2_scans': 1424}\n",
      "\n",
      "Episode 2 (394 chemicals)\n",
      "steps\t 500 \ttotal rewards\t 104.00031218749697\n",
      "steps\t 1000 \ttotal rewards\t 130.04981969432865\n",
      "steps\t 1500 \ttotal rewards\t 177.41576955395152\n",
      "Finished after 1770 timesteps (1.8347854614257812 seconds) with total reward 188.04280840589107\n",
      "{'coverage_prop': '0.949', 'intensity_prop': '0.694', 'ms1ms2_ratio': '0.149', 'efficiency': '0.243', 'TP': '309', 'FP': '65', 'FN': '20', 'precision': '0.826', 'recall': '0.939', 'f1': '0.879', 'total_rewards': 188.0428084058909, 'invalid_action_count': 0, 'num_ms1_scans': 230, 'num_ms2_scans': 1540}\n",
      "\n",
      "Episode 3 (452 chemicals)\n",
      "steps\t 500 \ttotal rewards\t 102.23384589980236\n",
      "steps\t 1000 \ttotal rewards\t 184.0257929730975\n",
      "steps\t 1500 \ttotal rewards\t 200.71556623852132\n",
      "Finished after 1781 timesteps (1.9480395317077637 seconds) with total reward 208.3669311640825\n",
      "{'coverage_prop': '0.938', 'intensity_prop': '0.711', 'ms1ms2_ratio': '0.140', 'efficiency': '0.271', 'TP': '360', 'FP': '64', 'FN': '28', 'precision': '0.849', 'recall': '0.928', 'f1': '0.887', 'total_rewards': 208.36693116408253, 'invalid_action_count': 0, 'num_ms1_scans': 219, 'num_ms2_scans': 1562}\n",
      "\n",
      "Episode 4 (437 chemicals)\n",
      "steps\t 500 \ttotal rewards\t 59.140681092198385\n",
      "steps\t 1000 \ttotal rewards\t 137.71196603337785\n",
      "steps\t 1500 \ttotal rewards\t 164.09020684855295\n",
      "Finished after 1772 timesteps (2.30263090133667 seconds) with total reward 149.85490072701583\n",
      "{'coverage_prop': '0.961', 'intensity_prop': '0.719', 'ms1ms2_ratio': '0.148', 'efficiency': '0.272', 'TP': '353', 'FP': '67', 'FN': '17', 'precision': '0.840', 'recall': '0.954', 'f1': '0.894', 'total_rewards': 149.8549007270162, 'invalid_action_count': 0, 'num_ms1_scans': 228, 'num_ms2_scans': 1544}\n",
      "\n",
      "Episode 5 (200 chemicals)\n",
      "steps\t 500 \ttotal rewards\t 71.05460241552099\n",
      "steps\t 1000 \ttotal rewards\t 127.5363191500866\n",
      "steps\t 1500 \ttotal rewards\t 83.58705665086185\n",
      "Finished after 1634 timesteps (1.9440515041351318 seconds) with total reward 78.89412152233001\n",
      "{'coverage_prop': '0.955', 'intensity_prop': '0.818', 'ms1ms2_ratio': '0.289', 'efficiency': '0.151', 'TP': '182', 'FP': '9', 'FN': '9', 'precision': '0.953', 'recall': '0.953', 'f1': '0.953', 'total_rewards': 78.89412152232983, 'invalid_action_count': 0, 'num_ms1_scans': 366, 'num_ms2_scans': 1268}\n",
      "\n",
      "Episode 6 (478 chemicals)\n",
      "steps\t 500 \ttotal rewards\t 117.46299472448212\n",
      "steps\t 1000 \ttotal rewards\t 200.03908065995267\n",
      "steps\t 1500 \ttotal rewards\t 140.11780034330673\n",
      "Finished after 1793 timesteps (1.8881638050079346 seconds) with total reward 75.77943996066804\n",
      "{'coverage_prop': '0.914', 'intensity_prop': '0.672', 'ms1ms2_ratio': '0.131', 'efficiency': '0.276', 'TP': '365', 'FP': '72', 'FN': '41', 'precision': '0.835', 'recall': '0.899', 'f1': '0.866', 'total_rewards': 75.77943996066828, 'invalid_action_count': 0, 'num_ms1_scans': 208, 'num_ms2_scans': 1585}\n",
      "\n",
      "Episode 7 (204 chemicals)\n",
      "steps\t 500 \ttotal rewards\t 42.24678619576086\n",
      "steps\t 1000 \ttotal rewards\t 64.42808874915995\n",
      "steps\t 1500 \ttotal rewards\t 6.923633579380208\n",
      "Finished after 1660 timesteps (2.0512003898620605 seconds) with total reward 5.097136519877715\n",
      "{'coverage_prop': '0.956', 'intensity_prop': '0.811', 'ms1ms2_ratio': '0.258', 'efficiency': '0.148', 'TP': '184', 'FP': '11', 'FN': '9', 'precision': '0.944', 'recall': '0.953', 'f1': '0.948', 'total_rewards': 5.097136519877784, 'invalid_action_count': 0, 'num_ms1_scans': 340, 'num_ms2_scans': 1320}\n",
      "\n",
      "Episode 8 (424 chemicals)\n",
      "steps\t 500 \ttotal rewards\t 96.30731582422163\n",
      "steps\t 1000 \ttotal rewards\t 160.93758077114086\n",
      "steps\t 1500 \ttotal rewards\t 193.70918743372997\n",
      "Finished after 1782 timesteps (1.8963396549224854 seconds) with total reward 188.36928364182924\n",
      "{'coverage_prop': '0.932', 'intensity_prop': '0.706', 'ms1ms2_ratio': '0.139', 'efficiency': '0.253', 'TP': '341', 'FP': '54', 'FN': '29', 'precision': '0.863', 'recall': '0.922', 'f1': '0.892', 'total_rewards': 188.36928364182944, 'invalid_action_count': 0, 'num_ms1_scans': 218, 'num_ms2_scans': 1564}\n",
      "\n",
      "Episode 9 (384 chemicals)\n",
      "steps\t 500 \ttotal rewards\t 100.6462618350121\n",
      "steps\t 1000 \ttotal rewards\t 146.91647238240358\n",
      "steps\t 1500 \ttotal rewards\t 166.09066374333463\n",
      "Finished after 1764 timesteps (2.354036569595337 seconds) with total reward 135.6734657296002\n",
      "{'coverage_prop': '0.938', 'intensity_prop': '0.714', 'ms1ms2_ratio': '0.154', 'efficiency': '0.236', 'TP': '312', 'FP': '48', 'FN': '24', 'precision': '0.867', 'recall': '0.929', 'f1': '0.897', 'total_rewards': 135.6734657296004, 'invalid_action_count': 0, 'num_ms1_scans': 236, 'num_ms2_scans': 1528}\n",
      "\n",
      "Episode 10 (443 chemicals)\n",
      "steps\t 500 \ttotal rewards\t 103.23342577742595\n",
      "steps\t 1000 \ttotal rewards\t 134.00264766291474\n",
      "steps\t 1500 \ttotal rewards\t 166.93091202232202\n",
      "Finished after 1810 timesteps (1.7463529109954834 seconds) with total reward 120.4817364216122\n",
      "{'coverage_prop': '0.935', 'intensity_prop': '0.696', 'ms1ms2_ratio': '0.117', 'efficiency': '0.256', 'TP': '351', 'FP': '63', 'FN': '29', 'precision': '0.848', 'recall': '0.924', 'f1': '0.884', 'total_rewards': 120.48173642161214, 'invalid_action_count': 0, 'num_ms1_scans': 190, 'num_ms2_scans': 1620}\n",
      "\n",
      "Episode 11 (249 chemicals)\n",
      "steps\t 500 \ttotal rewards\t 124.82567419143619\n",
      "steps\t 1000 \ttotal rewards\t 155.52973814725823\n",
      "steps\t 1500 \ttotal rewards\t 102.02179411341014\n",
      "Finished after 1687 timesteps (1.606706142425537 seconds) with total reward 73.0460332526915\n",
      "{'coverage_prop': '0.948', 'intensity_prop': '0.785', 'ms1ms2_ratio': '0.229', 'efficiency': '0.172', 'TP': '221', 'FP': '15', 'FN': '13', 'precision': '0.936', 'recall': '0.944', 'f1': '0.940', 'total_rewards': 73.04603325269149, 'invalid_action_count': 0, 'num_ms1_scans': 314, 'num_ms2_scans': 1373}\n",
      "\n",
      "Episode 12 (251 chemicals)\n",
      "steps\t 500 \ttotal rewards\t 12.528645213632396\n",
      "steps\t 1000 \ttotal rewards\t 4.61766390329128\n",
      "steps\t 1500 \ttotal rewards\t -28.236720721008254\n",
      "Finished after 1738 timesteps (1.4254796504974365 seconds) with total reward -83.91645427074717\n",
      "{'coverage_prop': '0.936', 'intensity_prop': '0.732', 'ms1ms2_ratio': '0.178', 'efficiency': '0.159', 'TP': '207', 'FP': '28', 'FN': '16', 'precision': '0.881', 'recall': '0.928', 'f1': '0.904', 'total_rewards': -83.91645427074715, 'invalid_action_count': 0, 'num_ms1_scans': 262, 'num_ms2_scans': 1476}\n",
      "\n",
      "Episode 13 (300 chemicals)\n",
      "steps\t 500 \ttotal rewards\t 30.02720861098518\n",
      "steps\t 1000 \ttotal rewards\t -11.139438106677318\n",
      "steps\t 1500 \ttotal rewards\t -12.357322326096998\n",
      "Finished after 1754 timesteps (1.706366777420044 seconds) with total reward -92.44204387016381\n",
      "{'coverage_prop': '0.937', 'intensity_prop': '0.709', 'ms1ms2_ratio': '0.163', 'efficiency': '0.186', 'TP': '241', 'FP': '40', 'FN': '19', 'precision': '0.858', 'recall': '0.927', 'f1': '0.891', 'total_rewards': -92.44204387016391, 'invalid_action_count': 0, 'num_ms1_scans': 246, 'num_ms2_scans': 1508}\n",
      "\n",
      "Episode 14 (206 chemicals)\n",
      "steps\t 500 \ttotal rewards\t -3.744658475210038\n",
      "steps\t 1000 \ttotal rewards\t -14.225392674775657\n",
      "steps\t 1500 \ttotal rewards\t -68.50370500729176\n",
      "Finished after 1676 timesteps (1.4856703281402588 seconds) with total reward -81.25871796294203\n",
      "{'coverage_prop': '0.947', 'intensity_prop': '0.746', 'ms1ms2_ratio': '0.240', 'efficiency': '0.144', 'TP': '173', 'FP': '22', 'FN': '11', 'precision': '0.887', 'recall': '0.940', 'f1': '0.913', 'total_rewards': -81.25871796294203, 'invalid_action_count': 0, 'num_ms1_scans': 324, 'num_ms2_scans': 1352}\n",
      "\n",
      "Episode 15 (407 chemicals)\n",
      "steps\t 500 \ttotal rewards\t 76.69851677701355\n",
      "steps\t 1000 \ttotal rewards\t 102.84959144510549\n",
      "steps\t 1500 \ttotal rewards\t 178.4516314989137\n",
      "Finished after 1762 timesteps (2.756956100463867 seconds) with total reward 186.97194010311983\n",
      "{'coverage_prop': '0.946', 'intensity_prop': '0.740', 'ms1ms2_ratio': '0.156', 'efficiency': '0.253', 'TP': '342', 'FP': '43', 'FN': '22', 'precision': '0.888', 'recall': '0.940', 'f1': '0.913', 'total_rewards': 186.97194010311975, 'invalid_action_count': 0, 'num_ms1_scans': 238, 'num_ms2_scans': 1524}\n",
      "\n",
      "Episode 16 (498 chemicals)\n",
      "steps\t 500 \ttotal rewards\t 128.3635463070146\n",
      "steps\t 1000 \ttotal rewards\t 186.7860877157816\n",
      "steps\t 1500 \ttotal rewards\t 207.45105902405612\n",
      "Finished after 1797 timesteps (1.9401614665985107 seconds) with total reward 214.37160345644213\n",
      "{'coverage_prop': '0.936', 'intensity_prop': '0.706', 'ms1ms2_ratio': '0.128', 'efficiency': '0.293', 'TP': '404', 'FP': '62', 'FN': '32', 'precision': '0.867', 'recall': '0.927', 'f1': '0.896', 'total_rewards': 214.37160345644205, 'invalid_action_count': 0, 'num_ms1_scans': 204, 'num_ms2_scans': 1593}\n",
      "\n",
      "Episode 17 (372 chemicals)\n",
      "steps\t 500 \ttotal rewards\t 123.0798121375358\n",
      "steps\t 1000 \ttotal rewards\t 170.19876081578363\n",
      "steps\t 1500 \ttotal rewards\t 160.1234919808972\n",
      "Finished after 1768 timesteps (2.6818501949310303 seconds) with total reward 150.72912238678333\n",
      "{'coverage_prop': '0.938', 'intensity_prop': '0.726', 'ms1ms2_ratio': '0.151', 'efficiency': '0.227', 'TP': '309', 'FP': '40', 'FN': '23', 'precision': '0.885', 'recall': '0.931', 'f1': '0.907', 'total_rewards': 150.72912238678347, 'invalid_action_count': 0, 'num_ms1_scans': 232, 'num_ms2_scans': 1536}\n",
      "\n",
      "Episode 18 (302 chemicals)\n",
      "steps\t 500 \ttotal rewards\t 113.24594307382031\n",
      "steps\t 1000 \ttotal rewards\t 186.25826500025482\n",
      "steps\t 1500 \ttotal rewards\t 227.02117069071795\n",
      "Finished after 1737 timesteps (1.5160455703735352 seconds) with total reward 225.42934803800205\n",
      "{'coverage_prop': '0.960', 'intensity_prop': '0.762', 'ms1ms2_ratio': '0.178', 'efficiency': '0.197', 'TP': '260', 'FP': '30', 'FN': '12', 'precision': '0.897', 'recall': '0.956', 'f1': '0.925', 'total_rewards': 225.4293480380018, 'invalid_action_count': 0, 'num_ms1_scans': 263, 'num_ms2_scans': 1474}\n",
      "\n",
      "Episode 19 (265 chemicals)\n",
      "steps\t 500 \ttotal rewards\t 65.61224536467483\n",
      "steps\t 1000 \ttotal rewards\t 101.01931803833088\n",
      "steps\t 1500 \ttotal rewards\t 74.27770777498677\n",
      "Finished after 1748 timesteps (1.3769583702087402 seconds) with total reward 10.90740355964006\n",
      "{'coverage_prop': '0.970', 'intensity_prop': '0.768', 'ms1ms2_ratio': '0.169', 'efficiency': '0.172', 'TP': '226', 'FP': '31', 'FN': '8', 'precision': '0.879', 'recall': '0.966', 'f1': '0.921', 'total_rewards': 10.907403559640105, 'invalid_action_count': 0, 'num_ms1_scans': 253, 'num_ms2_scans': 1495}\n",
      "\n",
      "Episode 20 (468 chemicals)\n",
      "steps\t 500 \ttotal rewards\t 73.70158951140056\n",
      "steps\t 1000 \ttotal rewards\t 93.97481586472918\n",
      "steps\t 1500 \ttotal rewards\t 94.95651921914188\n",
      "Finished after 1785 timesteps (2.8797152042388916 seconds) with total reward 77.72688011399455\n",
      "{'coverage_prop': '0.891', 'intensity_prop': '0.683', 'ms1ms2_ratio': '0.137', 'efficiency': '0.266', 'TP': '364', 'FP': '53', 'FN': '51', 'precision': '0.873', 'recall': '0.877', 'f1': '0.875', 'total_rewards': 77.72688011399451, 'invalid_action_count': 0, 'num_ms1_scans': 215, 'num_ms2_scans': 1570}\n",
      "\n",
      "Episode 21 (234 chemicals)\n",
      "steps\t 500 \ttotal rewards\t 80.72011957125932\n",
      "steps\t 1000 \ttotal rewards\t 103.27598952003954\n",
      "steps\t 1500 \ttotal rewards\t 135.708455360914\n",
      "Finished after 1664 timesteps (1.5002734661102295 seconds) with total reward 166.3913765708936\n",
      "{'coverage_prop': '0.944', 'intensity_prop': '0.750', 'ms1ms2_ratio': '0.253', 'efficiency': '0.166', 'TP': '197', 'FP': '24', 'FN': '13', 'precision': '0.891', 'recall': '0.938', 'f1': '0.914', 'total_rewards': 166.39137657089378, 'invalid_action_count': 0, 'num_ms1_scans': 336, 'num_ms2_scans': 1328}\n",
      "\n",
      "Episode 22 (322 chemicals)\n",
      "steps\t 500 \ttotal rewards\t 42.31322366919585\n",
      "steps\t 1000 \ttotal rewards\t 103.02976332794816\n",
      "steps\t 1500 \ttotal rewards\t 89.17437614661227\n",
      "Finished after 1748 timesteps (1.5575804710388184 seconds) with total reward 79.49386070059387\n",
      "{'coverage_prop': '0.950', 'intensity_prop': '0.736', 'ms1ms2_ratio': '0.169', 'efficiency': '0.205', 'TP': '268', 'FP': '38', 'FN': '16', 'precision': '0.876', 'recall': '0.944', 'f1': '0.908', 'total_rewards': 79.49386070059401, 'invalid_action_count': 0, 'num_ms1_scans': 253, 'num_ms2_scans': 1495}\n",
      "\n",
      "Episode 23 (310 chemicals)\n",
      "steps\t 500 \ttotal rewards\t 96.94472664473139\n",
      "steps\t 1000 \ttotal rewards\t 161.70767457344766\n",
      "steps\t 1500 \ttotal rewards\t 197.00220953251824\n",
      "Finished after 1707 timesteps (1.6577513217926025 seconds) with total reward 209.76155496113\n",
      "{'coverage_prop': '0.945', 'intensity_prop': '0.727', 'ms1ms2_ratio': '0.207', 'efficiency': '0.207', 'TP': '254', 'FP': '39', 'FN': '17', 'precision': '0.867', 'recall': '0.937', 'f1': '0.901', 'total_rewards': 209.76155496112983, 'invalid_action_count': 0, 'num_ms1_scans': 293, 'num_ms2_scans': 1414}\n",
      "\n",
      "Episode 24 (345 chemicals)\n",
      "steps\t 500 \ttotal rewards\t 115.61206075967308\n",
      "steps\t 1000 \ttotal rewards\t 195.7667806056489\n",
      "steps\t 1500 \ttotal rewards\t 153.11253834517439\n",
      "Finished after 1763 timesteps (1.6953637599945068 seconds) with total reward 168.59081240474046\n",
      "{'coverage_prop': '0.965', 'intensity_prop': '0.737', 'ms1ms2_ratio': '0.155', 'efficiency': '0.218', 'TP': '287', 'FP': '46', 'FN': '12', 'precision': '0.862', 'recall': '0.960', 'f1': '0.908', 'total_rewards': 168.5908124047403, 'invalid_action_count': 0, 'num_ms1_scans': 237, 'num_ms2_scans': 1526}\n",
      "\n",
      "Episode 25 (396 chemicals)\n",
      "steps\t 500 \ttotal rewards\t 67.99653766900138\n",
      "steps\t 1000 \ttotal rewards\t 131.00048944996627\n",
      "steps\t 1500 \ttotal rewards\t 225.8211688391308\n",
      "Finished after 1777 timesteps (1.825613021850586 seconds) with total reward 242.25484962100148\n",
      "{'coverage_prop': '0.972', 'intensity_prop': '0.740', 'ms1ms2_ratio': '0.144', 'efficiency': '0.248', 'TP': '339', 'FP': '46', 'FN': '11', 'precision': '0.881', 'recall': '0.969', 'f1': '0.922', 'total_rewards': 242.2548496210012, 'invalid_action_count': 0, 'num_ms1_scans': 223, 'num_ms2_scans': 1554}\n",
      "\n",
      "Episode 26 (203 chemicals)\n",
      "steps\t 500 \ttotal rewards\t -40.77700361449042\n",
      "steps\t 1000 \ttotal rewards\t 56.78066842104519\n",
      "steps\t 1500 \ttotal rewards\t 54.22233363806765\n",
      "Finished after 1650 timesteps (2.9034311771392822 seconds) with total reward 30.949674089437508\n",
      "{'coverage_prop': '0.936', 'intensity_prop': '0.779', 'ms1ms2_ratio': '0.269', 'efficiency': '0.146', 'TP': '179', 'FP': '11', 'FN': '13', 'precision': '0.942', 'recall': '0.932', 'f1': '0.937', 'total_rewards': 30.949674089437522, 'invalid_action_count': 0, 'num_ms1_scans': 350, 'num_ms2_scans': 1300}\n",
      "\n",
      "Episode 27 (281 chemicals)\n",
      "steps\t 500 \ttotal rewards\t 43.76679557251474\n",
      "steps\t 1000 \ttotal rewards\t 86.706008691945\n",
      "steps\t 1500 \ttotal rewards\t 175.00461507489266\n",
      "Finished after 1708 timesteps (1.526233196258545 seconds) with total reward 195.68134316505706\n",
      "{'coverage_prop': '0.964', 'intensity_prop': '0.776', 'ms1ms2_ratio': '0.206', 'efficiency': '0.191', 'TP': '246', 'FP': '25', 'FN': '10', 'precision': '0.908', 'recall': '0.961', 'f1': '0.934', 'total_rewards': 195.68134316505729, 'invalid_action_count': 0, 'num_ms1_scans': 292, 'num_ms2_scans': 1416}\n",
      "\n",
      "Episode 28 (493 chemicals)\n",
      "steps\t 500 \ttotal rewards\t 82.11715983957748\n",
      "steps\t 1000 \ttotal rewards\t 73.28567630183534\n",
      "steps\t 1500 \ttotal rewards\t 84.1728270060533\n",
      "Finished after 1808 timesteps (1.847886323928833 seconds) with total reward 81.31320336858849\n",
      "{'coverage_prop': '0.907', 'intensity_prop': '0.651', 'ms1ms2_ratio': '0.119', 'efficiency': '0.277', 'TP': '366', 'FP': '81', 'FN': '46', 'precision': '0.819', 'recall': '0.888', 'f1': '0.852', 'total_rewards': 81.31320336858836, 'invalid_action_count': 0, 'num_ms1_scans': 192, 'num_ms2_scans': 1616}\n",
      "\n",
      "Episode 29 (304 chemicals)\n",
      "steps\t 500 \ttotal rewards\t 38.76868263977874\n",
      "steps\t 1000 \ttotal rewards\t 43.882960271536966\n",
      "steps\t 1500 \ttotal rewards\t 26.995257547144398\n",
      "Finished after 1731 timesteps (3.1212422847747803 seconds) with total reward -5.1209685408504555\n",
      "{'coverage_prop': '0.934', 'intensity_prop': '0.751', 'ms1ms2_ratio': '0.184', 'efficiency': '0.194', 'TP': '259', 'FP': '25', 'FN': '20', 'precision': '0.912', 'recall': '0.928', 'f1': '0.920', 'total_rewards': -5.1209685408502725, 'invalid_action_count': 0, 'num_ms1_scans': 269, 'num_ms2_scans': 1462}\n",
      "\n",
      "method = topN max_peaks = 30 N = 10 rt_tol = 5\n",
      "\n",
      "\n",
      "Episode 0 (426 chemicals)\n",
      "steps\t 500 \ttotal rewards\t 106.63395611197905\n",
      "steps\t 1000 \ttotal rewards\t 162.9913404040571\n",
      "steps\t 1500 \ttotal rewards\t 177.154100603419\n",
      "Finished after 1649 timesteps (8.201660394668579 seconds) with total reward 164.69702711659656\n",
      "{'coverage_prop': '0.944', 'intensity_prop': '0.730', 'ms1ms2_ratio': '0.270', 'efficiency': '0.310', 'TP': '358', 'FP': '44', 'FN': '24', 'precision': '0.891', 'recall': '0.937', 'f1': '0.913', 'total_rewards': 164.6970271165966, 'invalid_action_count': 0, 'num_ms1_scans': 351, 'num_ms2_scans': 1298}\n",
      "\n",
      "Episode 1 (262 chemicals)\n",
      "steps\t 500 \ttotal rewards\t 106.47072854015892\n",
      "steps\t 1000 \ttotal rewards\t 191.55039267964284\n",
      "steps\t 1500 \ttotal rewards\t 210.1607931832575\n",
      "Finished after 1520 timesteps (8.645648002624512 seconds) with total reward 209.63181333494242\n",
      "{'coverage_prop': '0.962', 'intensity_prop': '0.795', 'ms1ms2_ratio': '0.463', 'efficiency': '0.243', 'TP': '236', 'FP': '16', 'FN': '10', 'precision': '0.937', 'recall': '0.959', 'f1': '0.948', 'total_rewards': 209.63181333494293, 'invalid_action_count': 0, 'num_ms1_scans': 481, 'num_ms2_scans': 1039}\n",
      "\n",
      "Episode 2 (394 chemicals)\n",
      "steps\t 500 \ttotal rewards\t 95.53926953958758\n",
      "steps\t 1000 \ttotal rewards\t 178.38384233657052\n",
      "steps\t 1500 \ttotal rewards\t 248.4558066588136\n",
      "Finished after 1602 timesteps (7.904506206512451 seconds) with total reward 253.03161841978692\n",
      "{'coverage_prop': '0.944', 'intensity_prop': '0.731', 'ms1ms2_ratio': '0.331', 'efficiency': '0.309', 'TP': '332', 'FP': '40', 'FN': '22', 'precision': '0.892', 'recall': '0.938', 'f1': '0.915', 'total_rewards': 253.03161841978675, 'invalid_action_count': 0, 'num_ms1_scans': 398, 'num_ms2_scans': 1204}\n",
      "\n",
      "Episode 3 (452 chemicals)\n",
      "steps\t 500 \ttotal rewards\t 116.63009714271976\n",
      "steps\t 1000 \ttotal rewards\t 212.12333988406849\n",
      "steps\t 1500 \ttotal rewards\t 237.12881266264282\n",
      "Finished after 1646 timesteps (8.526091575622559 seconds) with total reward 249.41227007537498\n",
      "{'coverage_prop': '0.942', 'intensity_prop': '0.742', 'ms1ms2_ratio': '0.274', 'efficiency': '0.330', 'TP': '389', 'FP': '37', 'FN': '26', 'precision': '0.913', 'recall': '0.937', 'f1': '0.925', 'total_rewards': 249.41227007537495, 'invalid_action_count': 0, 'num_ms1_scans': 354, 'num_ms2_scans': 1292}\n",
      "\n",
      "Episode 4 (437 chemicals)\n",
      "steps\t 500 \ttotal rewards\t 68.81368992537134\n",
      "steps\t 1000 \ttotal rewards\t 200.2454626887014\n",
      "steps\t 1500 \ttotal rewards\t 206.21217990590077\n",
      "Finished after 1634 timesteps (9.938033819198608 seconds) with total reward 210.0518252065553\n",
      "{'coverage_prop': '0.963', 'intensity_prop': '0.742', 'ms1ms2_ratio': '0.289', 'efficiency': '0.332', 'TP': '368', 'FP': '53', 'FN': '16', 'precision': '0.874', 'recall': '0.958', 'f1': '0.914', 'total_rewards': 210.05182520655532, 'invalid_action_count': 0, 'num_ms1_scans': 366, 'num_ms2_scans': 1268}\n",
      "\n",
      "Episode 5 (200 chemicals)\n",
      "steps\t 500 \ttotal rewards\t 69.4231243993963\n",
      "steps\t 1000 \ttotal rewards\t 128.24295682105873\n",
      "Finished after 1384 timesteps (6.989304304122925 seconds) with total reward 142.20865743858832\n",
      "{'coverage_prop': '0.955', 'intensity_prop': '0.776', 'ms1ms2_ratio': '0.802', 'efficiency': '0.249', 'TP': '181', 'FP': '10', 'FN': '9', 'precision': '0.948', 'recall': '0.953', 'f1': '0.950', 'total_rewards': 142.20865743858835, 'invalid_action_count': 0, 'num_ms1_scans': 616, 'num_ms2_scans': 768}\n",
      "\n",
      "Episode 6 (478 chemicals)\n",
      "steps\t 500 \ttotal rewards\t 102.26750226127217\n",
      "steps\t 1000 \ttotal rewards\t 195.78259136454625\n",
      "steps\t 1500 \ttotal rewards\t 154.78772582466527\n",
      "Finished after 1664 timesteps (8.305494546890259 seconds) with total reward 141.81796707291574\n",
      "{'coverage_prop': '0.900', 'intensity_prop': '0.687', 'ms1ms2_ratio': '0.253', 'efficiency': '0.324', 'TP': '370', 'FP': '60', 'FN': '48', 'precision': '0.860', 'recall': '0.885', 'f1': '0.873', 'total_rewards': 141.81796707291537, 'invalid_action_count': 0, 'num_ms1_scans': 336, 'num_ms2_scans': 1328}\n",
      "\n",
      "Episode 7 (204 chemicals)\n",
      "steps\t 500 \ttotal rewards\t 43.123855574065644\n",
      "steps\t 1000 \ttotal rewards\t 96.84610290018858\n",
      "Finished after 1443 timesteps (7.052766799926758 seconds) with total reward 120.59105674330272\n",
      "{'coverage_prop': '0.961', 'intensity_prop': '0.791', 'ms1ms2_ratio': '0.631', 'efficiency': '0.221', 'TP': '186', 'FP': '10', 'FN': '8', 'precision': '0.949', 'recall': '0.959', 'f1': '0.954', 'total_rewards': 120.59105674330263, 'invalid_action_count': 0, 'num_ms1_scans': 558, 'num_ms2_scans': 885}\n",
      "\n",
      "Episode 8 (424 chemicals)\n",
      "steps\t 500 \ttotal rewards\t 105.87274106740446\n",
      "steps\t 1000 \ttotal rewards\t 180.29826624812563\n",
      "steps\t 1500 \ttotal rewards\t 240.7651178010596\n",
      "Finished after 1667 timesteps (8.464491367340088 seconds) with total reward 240.60202315581967\n",
      "{'coverage_prop': '0.946', 'intensity_prop': '0.734', 'ms1ms2_ratio': '0.250', 'efficiency': '0.301', 'TP': '359', 'FP': '42', 'FN': '23', 'precision': '0.895', 'recall': '0.940', 'f1': '0.917', 'total_rewards': 240.60202315581984, 'invalid_action_count': 0, 'num_ms1_scans': 333, 'num_ms2_scans': 1334}\n",
      "\n",
      "Episode 9 (384 chemicals)\n",
      "steps\t 500 \ttotal rewards\t 95.73317664764349\n",
      "steps\t 1000 \ttotal rewards\t 194.16757369417\n",
      "steps\t 1500 \ttotal rewards\t 214.0072198450376\n",
      "Finished after 1606 timesteps (8.153030157089233 seconds) with total reward 207.21404806989497\n",
      "{'coverage_prop': '0.948', 'intensity_prop': '0.750', 'ms1ms2_ratio': '0.325', 'efficiency': '0.300', 'TP': '326', 'FP': '38', 'FN': '20', 'precision': '0.896', 'recall': '0.942', 'f1': '0.918', 'total_rewards': 207.2140480698949, 'invalid_action_count': 0, 'num_ms1_scans': 394, 'num_ms2_scans': 1212}\n",
      "\n",
      "Episode 10 (443 chemicals)\n",
      "steps\t 500 \ttotal rewards\t 101.59368235087857\n",
      "steps\t 1000 \ttotal rewards\t 182.06833702991065\n",
      "steps\t 1500 \ttotal rewards\t 216.05539105742622\n",
      "Finished after 1664 timesteps (8.25507378578186 seconds) with total reward 208.98812567189944\n",
      "{'coverage_prop': '0.910', 'intensity_prop': '0.726', 'ms1ms2_ratio': '0.253', 'efficiency': '0.303', 'TP': '369', 'FP': '34', 'FN': '40', 'precision': '0.916', 'recall': '0.902', 'f1': '0.909', 'total_rewards': 208.9881256718998, 'invalid_action_count': 0, 'num_ms1_scans': 336, 'num_ms2_scans': 1328}\n",
      "\n",
      "Episode 11 (249 chemicals)\n",
      "steps\t 500 \ttotal rewards\t 100.0753051474233\n",
      "steps\t 1000 \ttotal rewards\t 167.94640480261836\n",
      "Finished after 1497 timesteps (8.276081323623657 seconds) with total reward 154.03044910455029\n",
      "{'coverage_prop': '0.960', 'intensity_prop': '0.787', 'ms1ms2_ratio': '0.506', 'efficiency': '0.240', 'TP': '225', 'FP': '14', 'FN': '10', 'precision': '0.941', 'recall': '0.957', 'f1': '0.949', 'total_rewards': 154.0304491045505, 'invalid_action_count': 0, 'num_ms1_scans': 503, 'num_ms2_scans': 994}\n",
      "\n",
      "Episode 12 (251 chemicals)\n",
      "steps\t 500 \ttotal rewards\t 58.061741097780704\n",
      "steps\t 1000 \ttotal rewards\t 95.26935010006831\n",
      "steps\t 1500 \ttotal rewards\t 61.55457841334804\n",
      "Finished after 1561 timesteps (8.24335789680481 seconds) with total reward 55.36901288170255\n",
      "{'coverage_prop': '0.944', 'intensity_prop': '0.747', 'ms1ms2_ratio': '0.391', 'efficiency': '0.211', 'TP': '217', 'FP': '20', 'FN': '14', 'precision': '0.916', 'recall': '0.939', 'f1': '0.927', 'total_rewards': 55.369012881702545, 'invalid_action_count': 0, 'num_ms1_scans': 439, 'num_ms2_scans': 1122}\n",
      "\n",
      "Episode 13 (300 chemicals)\n",
      "steps\t 500 \ttotal rewards\t 67.16011229573786\n",
      "steps\t 1000 \ttotal rewards\t 58.092633635724354\n",
      "steps\t 1500 \ttotal rewards\t 49.967090082941056\n",
      "Finished after 1591 timesteps (10.965396404266357 seconds) with total reward 34.720369199015735\n",
      "{'coverage_prop': '0.957', 'intensity_prop': '0.748', 'ms1ms2_ratio': '0.346', 'efficiency': '0.243', 'TP': '259', 'FP': '28', 'FN': '13', 'precision': '0.902', 'recall': '0.952', 'f1': '0.927', 'total_rewards': 34.72036919901579, 'invalid_action_count': 0, 'num_ms1_scans': 409, 'num_ms2_scans': 1182}\n",
      "\n",
      "Episode 14 (206 chemicals)\n",
      "steps\t 500 \ttotal rewards\t 59.04477774284632\n",
      "steps\t 1000 \ttotal rewards\t 79.93851717920646\n",
      "Finished after 1468 timesteps (7.8918986320495605 seconds) with total reward 74.54904971096946\n",
      "{'coverage_prop': '0.956', 'intensity_prop': '0.769', 'ms1ms2_ratio': '0.568', 'efficiency': '0.210', 'TP': '178', 'FP': '19', 'FN': '9', 'precision': '0.904', 'recall': '0.952', 'f1': '0.927', 'total_rewards': 74.54904971096941, 'invalid_action_count': 0, 'num_ms1_scans': 532, 'num_ms2_scans': 936}\n",
      "\n",
      "Episode 15 (407 chemicals)\n",
      "steps\t 500 \ttotal rewards\t 80.84462422312731\n",
      "steps\t 1000 \ttotal rewards\t 143.03271498162684\n",
      "steps\t 1500 \ttotal rewards\t 215.09368572008077\n",
      "Finished after 1595 timesteps (8.824565649032593 seconds) with total reward 228.0773826986182\n",
      "{'coverage_prop': '0.943', 'intensity_prop': '0.749', 'ms1ms2_ratio': '0.340', 'efficiency': '0.323', 'TP': '346', 'FP': '38', 'FN': '23', 'precision': '0.901', 'recall': '0.938', 'f1': '0.919', 'total_rewards': 228.0773826986177, 'invalid_action_count': 0, 'num_ms1_scans': 405, 'num_ms2_scans': 1190}\n",
      "\n",
      "Episode 16 (498 chemicals)\n",
      "steps\t 500 \ttotal rewards\t 124.44642565267253\n",
      "steps\t 1000 \ttotal rewards\t 190.63291953097513\n",
      "steps\t 1500 \ttotal rewards\t 220.4556725236857\n",
      "Finished after 1654 timesteps (10.22308897972107 seconds) with total reward 238.77577582267304\n",
      "{'coverage_prop': '0.914', 'intensity_prop': '0.713', 'ms1ms2_ratio': '0.265', 'efficiency': '0.348', 'TP': '407', 'FP': '48', 'FN': '43', 'precision': '0.895', 'recall': '0.904', 'f1': '0.899', 'total_rewards': 238.77577582267278, 'invalid_action_count': 0, 'num_ms1_scans': 346, 'num_ms2_scans': 1308}\n",
      "\n",
      "Episode 17 (372 chemicals)\n",
      "steps\t 500 \ttotal rewards\t 119.63824849090636\n",
      "steps\t 1000 \ttotal rewards\t 187.68260300817315\n",
      "steps\t 1500 \ttotal rewards\t 192.85253353422533\n",
      "Finished after 1620 timesteps (8.370064973831177 seconds) with total reward 186.8470278224624\n",
      "{'coverage_prop': '0.954', 'intensity_prop': '0.763', 'ms1ms2_ratio': '0.308', 'efficiency': '0.287', 'TP': '327', 'FP': '28', 'FN': '17', 'precision': '0.921', 'recall': '0.951', 'f1': '0.936', 'total_rewards': 186.84702782246242, 'invalid_action_count': 0, 'num_ms1_scans': 381, 'num_ms2_scans': 1239}\n",
      "\n",
      "Episode 18 (302 chemicals)\n",
      "steps\t 500 \ttotal rewards\t 104.7872172519235\n",
      "steps\t 1000 \ttotal rewards\t 210.21328704694446\n",
      "steps\t 1500 \ttotal rewards\t 258.62609746644796\n",
      "Finished after 1566 timesteps (8.085540533065796 seconds) with total reward 261.9992826431892\n",
      "{'coverage_prop': '0.960', 'intensity_prop': '0.768', 'ms1ms2_ratio': '0.383', 'efficiency': '0.256', 'TP': '265', 'FP': '25', 'FN': '12', 'precision': '0.914', 'recall': '0.957', 'f1': '0.935', 'total_rewards': 261.99928264318913, 'invalid_action_count': 0, 'num_ms1_scans': 434, 'num_ms2_scans': 1132}\n",
      "\n",
      "Episode 19 (265 chemicals)\n",
      "steps\t 500 \ttotal rewards\t 76.23552151845091\n",
      "steps\t 1000 \ttotal rewards\t 148.8061315087155\n",
      "steps\t 1500 \ttotal rewards\t 130.1437062378705\n",
      "Finished after 1583 timesteps (7.376744270324707 seconds) with total reward 115.54506326765028\n",
      "{'coverage_prop': '0.981', 'intensity_prop': '0.795', 'ms1ms2_ratio': '0.358', 'efficiency': '0.223', 'TP': '241', 'FP': '19', 'FN': '5', 'precision': '0.927', 'recall': '0.980', 'f1': '0.953', 'total_rewards': 115.54506326765049, 'invalid_action_count': 0, 'num_ms1_scans': 417, 'num_ms2_scans': 1166}\n",
      "\n",
      "Episode 20 (468 chemicals)\n",
      "steps\t 500 \ttotal rewards\t 101.67479057241076\n",
      "steps\t 1000 \ttotal rewards\t 112.65050124951462\n",
      "steps\t 1500 \ttotal rewards\t 121.95350504981883\n",
      "Finished after 1646 timesteps (10.404587507247925 seconds) with total reward 131.6878172648566\n",
      "{'coverage_prop': '0.861', 'intensity_prop': '0.668', 'ms1ms2_ratio': '0.274', 'efficiency': '0.312', 'TP': '359', 'FP': '44', 'FN': '65', 'precision': '0.891', 'recall': '0.847', 'f1': '0.868', 'total_rewards': 131.68781726485668, 'invalid_action_count': 0, 'num_ms1_scans': 354, 'num_ms2_scans': 1292}\n",
      "\n",
      "Episode 21 (234 chemicals)\n",
      "steps\t 500 \ttotal rewards\t 82.0681644151673\n",
      "steps\t 1000 \ttotal rewards\t 178.96846227569793\n",
      "Finished after 1433 timesteps (7.722084045410156 seconds) with total reward 228.6614802413051\n",
      "{'coverage_prop': '0.957', 'intensity_prop': '0.761', 'ms1ms2_ratio': '0.657', 'efficiency': '0.259', 'TP': '204', 'FP': '20', 'FN': '10', 'precision': '0.911', 'recall': '0.953', 'f1': '0.932', 'total_rewards': 228.661480241305, 'invalid_action_count': 0, 'num_ms1_scans': 568, 'num_ms2_scans': 865}\n",
      "\n",
      "Episode 22 (322 chemicals)\n",
      "steps\t 500 \ttotal rewards\t 71.39015463320771\n",
      "steps\t 1000 \ttotal rewards\t 155.09303493545187\n",
      "steps\t 1500 \ttotal rewards\t 177.78733990366578\n",
      "Finished after 1590 timesteps (8.949039697647095 seconds) with total reward 179.97030572266658\n",
      "{'coverage_prop': '0.963', 'intensity_prop': '0.766', 'ms1ms2_ratio': '0.349', 'efficiency': '0.263', 'TP': '287', 'FP': '23', 'FN': '12', 'precision': '0.926', 'recall': '0.960', 'f1': '0.943', 'total_rewards': 179.97030572266644, 'invalid_action_count': 0, 'num_ms1_scans': 411, 'num_ms2_scans': 1179}\n",
      "\n",
      "Episode 23 (310 chemicals)\n",
      "steps\t 500 \ttotal rewards\t 84.70601807878572\n",
      "steps\t 1000 \ttotal rewards\t 177.02422294905261\n",
      "steps\t 1500 \ttotal rewards\t 243.64445702771235\n",
      "Finished after 1526 timesteps (7.187882900238037 seconds) with total reward 246.2560176885827\n",
      "{'coverage_prop': '0.955', 'intensity_prop': '0.763', 'ms1ms2_ratio': '0.452', 'efficiency': '0.282', 'TP': '270', 'FP': '26', 'FN': '14', 'precision': '0.912', 'recall': '0.951', 'f1': '0.931', 'total_rewards': 246.2560176885826, 'invalid_action_count': 0, 'num_ms1_scans': 475, 'num_ms2_scans': 1051}\n",
      "\n",
      "Episode 24 (345 chemicals)\n",
      "steps\t 500 \ttotal rewards\t 94.2047248713349\n",
      "steps\t 1000 \ttotal rewards\t 197.88416256624288\n",
      "steps\t 1500 \ttotal rewards\t 187.4094560212768\n",
      "Finished after 1615 timesteps (7.306818723678589 seconds) with total reward 192.55626903313163\n",
      "{'coverage_prop': '0.957', 'intensity_prop': '0.752', 'ms1ms2_ratio': '0.313', 'efficiency': '0.268', 'TP': '301', 'FP': '29', 'FN': '15', 'precision': '0.912', 'recall': '0.953', 'f1': '0.932', 'total_rewards': 192.55626903313157, 'invalid_action_count': 0, 'num_ms1_scans': 385, 'num_ms2_scans': 1230}\n",
      "\n",
      "Episode 25 (396 chemicals)\n",
      "steps\t 500 \ttotal rewards\t 99.85451217455554\n",
      "steps\t 1000 \ttotal rewards\t 195.27957299510564\n",
      "steps\t 1500 \ttotal rewards\t 288.364921862565\n",
      "Finished after 1613 timesteps (8.213486194610596 seconds) with total reward 300.17120535611707\n",
      "{'coverage_prop': '0.967', 'intensity_prop': '0.749', 'ms1ms2_ratio': '0.316', 'efficiency': '0.312', 'TP': '341', 'FP': '42', 'FN': '13', 'precision': '0.890', 'recall': '0.963', 'f1': '0.925', 'total_rewards': 300.17120535611656, 'invalid_action_count': 0, 'num_ms1_scans': 387, 'num_ms2_scans': 1226}\n",
      "\n",
      "Episode 26 (203 chemicals)\n",
      "steps\t 500 \ttotal rewards\t 24.333131481536846\n",
      "steps\t 1000 \ttotal rewards\t 131.88458675676515\n",
      "Finished after 1434 timesteps (7.585332870483398 seconds) with total reward 146.29758840523235\n",
      "{'coverage_prop': '0.970', 'intensity_prop': '0.786', 'ms1ms2_ratio': '0.652', 'efficiency': '0.227', 'TP': '183', 'FP': '14', 'FN': '6', 'precision': '0.929', 'recall': '0.968', 'f1': '0.948', 'total_rewards': 146.29758840523226, 'invalid_action_count': 0, 'num_ms1_scans': 566, 'num_ms2_scans': 868}\n",
      "\n",
      "Episode 27 (281 chemicals)\n",
      "steps\t 500 \ttotal rewards\t 70.02772397903182\n",
      "steps\t 1000 \ttotal rewards\t 162.87316767401717\n",
      "steps\t 1500 \ttotal rewards\t 263.3714619558626\n",
      "Finished after 1518 timesteps (7.705352544784546 seconds) with total reward 266.78842080657375\n",
      "{'coverage_prop': '0.961', 'intensity_prop': '0.791', 'ms1ms2_ratio': '0.465', 'efficiency': '0.261', 'TP': '249', 'FP': '21', 'FN': '11', 'precision': '0.922', 'recall': '0.958', 'f1': '0.940', 'total_rewards': 266.78842080657375, 'invalid_action_count': 0, 'num_ms1_scans': 482, 'num_ms2_scans': 1036}\n",
      "\n",
      "Episode 28 (493 chemicals)\n",
      "steps\t 500 \ttotal rewards\t 92.83990551927769\n",
      "steps\t 1000 \ttotal rewards\t 117.33426524872907\n",
      "steps\t 1500 \ttotal rewards\t 153.3228822419867\n",
      "Finished after 1668 timesteps (11.357420444488525 seconds) with total reward 158.30737283627502\n",
      "{'coverage_prop': '0.874', 'intensity_prop': '0.661', 'ms1ms2_ratio': '0.249', 'efficiency': '0.323', 'TP': '374', 'FP': '57', 'FN': '62', 'precision': '0.868', 'recall': '0.858', 'f1': '0.863', 'total_rewards': 158.30737283627488, 'invalid_action_count': 0, 'num_ms1_scans': 332, 'num_ms2_scans': 1336}\n",
      "\n",
      "Episode 29 (304 chemicals)\n",
      "steps\t 500 \ttotal rewards\t 71.12560289021108\n",
      "steps\t 1000 \ttotal rewards\t 111.71160605184667\n",
      "steps\t 1500 \ttotal rewards\t 95.58674888892729\n",
      "Finished after 1597 timesteps (8.49563217163086 seconds) with total reward 76.87947770631135\n",
      "{'coverage_prop': '0.964', 'intensity_prop': '0.792', 'ms1ms2_ratio': '0.338', 'efficiency': '0.245', 'TP': '272', 'FP': '21', 'FN': '11', 'precision': '0.928', 'recall': '0.961', 'f1': '0.944', 'total_rewards': 76.87947770631132, 'invalid_action_count': 0, 'num_ms1_scans': 403, 'num_ms2_scans': 1194}\n",
      "\n"
     ]
    }
   ],
   "source": [
    "method_eval_results = {}\n",
    "for method in methods:\n",
    "\n",
    "    N = 0\n",
    "    copy_params = copy.deepcopy(params)            \n",
    "    custom_objects = {\n",
    "        \"learning_rate\": 0.0,\n",
    "        \"lr_schedule\": lambda _: 0.0,\n",
    "        \"clip_range\": lambda _: 0.0,\n",
    "    }    \n",
    "    \n",
    "    model = None\n",
    "    if method == METHOD_TOPN:\n",
    "        N = topN_N\n",
    "        effective_rt_tol = topN_rt_tol\n",
    "        copy_params['env']['use_dew'] = True\n",
    "        copy_params['env']['rt_tol'] = effective_rt_tol                        \n",
    "\n",
    "    banner = 'method = %s max_peaks = %d N = %d rt_tol = %d' % (method, max_peaks, N, \n",
    "                                                                                   copy_params['env']['rt_tol'])\n",
    "    print(banner)\n",
    "    print()            \n",
    "            \n",
    "    episodic_results = run_method(env_name, copy_params, max_peaks, chem_list, method, out_dir, \n",
    "                                  N=N, min_ms1_intensity=min_ms1_intensity, model=model,\n",
    "                                  print_eval=True, print_reward=True, intensity_threshold=intensity_threshold,\n",
    "                                  mzml_prefix=method, horizon=horizon, valid_random=valid_random)\n",
    "    eval_results = [er.eval_res for er in episodic_results]\n",
    "    method_eval_results[method] = eval_results\n",
    "    print()"
   ]
  },
  {
   "cell_type": "markdown",
   "metadata": {},
   "source": [
    "#### DQN"
   ]
  },
  {
   "cell_type": "code",
   "execution_count": 16,
   "metadata": {
    "execution": {
     "iopub.execute_input": "2023-06-13T06:00:58.597061Z",
     "iopub.status.busy": "2023-06-13T06:00:58.596579Z",
     "iopub.status.idle": "2023-06-13T06:00:58.628828Z",
     "shell.execute_reply": "2023-06-13T06:00:58.628292Z",
     "shell.execute_reply.started": "2023-06-13T06:00:58.597039Z"
    }
   },
   "outputs": [
    {
     "data": {
      "text/plain": [
       "device(type='cpu')"
      ]
     },
     "execution_count": 16,
     "metadata": {},
     "output_type": "execute_result"
    }
   ],
   "source": [
    "device = torch.device(\"cpu\")\n",
    "device"
   ]
  },
  {
   "cell_type": "code",
   "execution_count": 17,
   "metadata": {
    "execution": {
     "iopub.execute_input": "2023-06-13T06:00:58.629685Z",
     "iopub.status.busy": "2023-06-13T06:00:58.629556Z",
     "iopub.status.idle": "2023-06-13T06:00:58.660333Z",
     "shell.execute_reply": "2023-06-13T06:00:58.659748Z",
     "shell.execute_reply.started": "2023-06-13T06:00:58.629670Z"
    }
   },
   "outputs": [
    {
     "data": {
      "text/plain": [
       "'DDAEnv_DQN_20230612_225420/DQN.model'"
      ]
     },
     "execution_count": 17,
     "metadata": {},
     "output_type": "execute_result"
    }
   ],
   "source": [
    "model_path = os.path.join(dqn_in_dir, 'DQN.model')\n",
    "model_path"
   ]
  },
  {
   "cell_type": "code",
   "execution_count": 18,
   "metadata": {
    "execution": {
     "iopub.execute_input": "2023-06-13T06:00:58.661483Z",
     "iopub.status.busy": "2023-06-13T06:00:58.661359Z",
     "iopub.status.idle": "2023-06-13T06:00:58.691766Z",
     "shell.execute_reply": "2023-06-13T06:00:58.691081Z",
     "shell.execute_reply.started": "2023-06-13T06:00:58.661467Z"
    }
   },
   "outputs": [],
   "source": [
    "env_id = 'DDAEnv'"
   ]
  },
  {
   "cell_type": "code",
   "execution_count": 19,
   "metadata": {
    "execution": {
     "iopub.execute_input": "2023-06-13T06:00:58.692801Z",
     "iopub.status.busy": "2023-06-13T06:00:58.692675Z",
     "iopub.status.idle": "2023-06-13T06:00:59.281766Z",
     "shell.execute_reply": "2023-06-13T06:00:59.281324Z",
     "shell.execute_reply.started": "2023-06-13T06:00:58.692785Z"
    }
   },
   "outputs": [
    {
     "name": "stderr",
     "output_type": "stream",
     "text": [
      "/opt/conda/lib/python3.8/site-packages/gymnasium/utils/passive_env_checker.py:42: UserWarning:\n",
      "\n",
      "\u001b[33mWARN: A Box observation space has an unconventional shape (neither an image, nor a 1D vector). We recommend flattening the observation to have only a 1D vector or use a custom policy to properly process the data. Actual observation shape: (30, 10)\u001b[0m\n",
      "\n",
      "/opt/conda/lib/python3.8/site-packages/gymnasium/utils/env_checker.py:317: UserWarning:\n",
      "\n",
      "\u001b[33mWARN: Not able to test alternative render modes due to the environment not having a spec. Try instantialising the environment through gymnasium.make\u001b[0m\n",
      "\n"
     ]
    },
    {
     "data": {
      "text/plain": [
       "QNetworkCNN(\n",
       "  (roi_network): Sequential(\n",
       "    (0): Conv1d(1, 32, kernel_size=(3,), stride=(1,))\n",
       "    (1): ReLU()\n",
       "    (2): MaxPool1d(kernel_size=2, stride=2, padding=0, dilation=1, ceil_mode=False)\n",
       "    (3): Conv1d(32, 64, kernel_size=(3,), stride=(1,))\n",
       "    (4): ReLU()\n",
       "    (5): MaxPool1d(kernel_size=2, stride=2, padding=0, dilation=1, ceil_mode=False)\n",
       "    (6): Flatten(start_dim=1, end_dim=-1)\n",
       "    (7): Linear(in_features=64, out_features=64, bias=True)\n",
       "    (8): ReLU()\n",
       "  )\n",
       "  (output_layer): Linear(in_features=2176, out_features=31, bias=True)\n",
       "  (other_network): Sequential(\n",
       "    (0): Linear(in_features=127, out_features=256, bias=True)\n",
       "    (1): ReLU()\n",
       "    (2): Linear(in_features=256, out_features=256, bias=True)\n",
       "    (3): ReLU()\n",
       "    (4): Linear(in_features=256, out_features=256, bias=True)\n",
       "    (5): ReLU()\n",
       "  )\n",
       ")"
      ]
     },
     "execution_count": 19,
     "metadata": {},
     "output_type": "execute_result"
    }
   ],
   "source": [
    "envs = gym.vector.SyncVectorEnv([make_env(env_id, 0, max_peaks, params)])\n",
    "model = get_QNetwork(QNETWORK_CNN, envs, device)\n",
    "model.load_state_dict(torch.load(model_path, map_location=device))\n",
    "model.eval()"
   ]
  },
  {
   "cell_type": "code",
   "execution_count": 20,
   "metadata": {
    "execution": {
     "iopub.execute_input": "2023-06-13T06:00:59.282746Z",
     "iopub.status.busy": "2023-06-13T06:00:59.282607Z",
     "iopub.status.idle": "2023-06-13T06:00:59.316635Z",
     "shell.execute_reply": "2023-06-13T06:00:59.316017Z",
     "shell.execute_reply.started": "2023-06-13T06:00:59.282730Z"
    }
   },
   "outputs": [
    {
     "data": {
      "text/plain": [
       "(30, 30)"
      ]
     },
     "execution_count": 20,
     "metadata": {},
     "output_type": "execute_result"
    }
   ],
   "source": [
    "eval_episodes = n_eval_episodes\n",
    "eval_episodes, len(chem_list)"
   ]
  },
  {
   "cell_type": "code",
   "execution_count": 21,
   "metadata": {
    "execution": {
     "iopub.execute_input": "2023-06-13T06:00:59.317599Z",
     "iopub.status.busy": "2023-06-13T06:00:59.317458Z",
     "iopub.status.idle": "2023-06-13T06:13:14.693879Z",
     "shell.execute_reply": "2023-06-13T06:13:14.693344Z",
     "shell.execute_reply.started": "2023-06-13T06:00:59.317582Z"
    }
   },
   "outputs": [
    {
     "name": "stdout",
     "output_type": "stream",
     "text": [
      "Episode 0 (426 chemicals) return 187.04661560058594 length 1850\n",
      "{'coverage_prop': '0.953', 'intensity_prop': '0.742', 'ms1ms2_ratio': '0.088', 'efficiency': '0.239', 'TP': '360', 'FP': '46', 'FN': '20', 'precision': '0.887', 'recall': '0.947', 'f1': '0.916', 'invalid_action_count': 0, 'total_rewards': 187.04662, 'episodic_length': 1850, 'num_ms1_scans': 150, 'num_ms2_scans': 1700}\n",
      "Episode 1 (262 chemicals) return 238.53704833984375 length 1787\n",
      "{'coverage_prop': '0.958', 'intensity_prop': '0.808', 'ms1ms2_ratio': '0.135', 'efficiency': '0.159', 'TP': '235', 'FP': '16', 'FN': '11', 'precision': '0.936', 'recall': '0.955', 'f1': '0.946', 'invalid_action_count': 0, 'total_rewards': 238.53705, 'episodic_length': 1787, 'num_ms1_scans': 213, 'num_ms2_scans': 1574}\n",
      "Episode 2 (394 chemicals) return 283.5946044921875 length 1832\n",
      "{'coverage_prop': '0.954', 'intensity_prop': '0.741', 'ms1ms2_ratio': '0.101', 'efficiency': '0.226', 'TP': '329', 'FP': '47', 'FN': '18', 'precision': '0.875', 'recall': '0.948', 'f1': '0.910', 'invalid_action_count': 0, 'total_rewards': 283.5946, 'episodic_length': 1832, 'num_ms1_scans': 168, 'num_ms2_scans': 1664}\n",
      "Episode 3 (452 chemicals) return 250.41539001464844 length 1852\n",
      "{'coverage_prop': '0.962', 'intensity_prop': '0.747', 'ms1ms2_ratio': '0.087', 'efficiency': '0.255', 'TP': '386', 'FP': '49', 'FN': '17', 'precision': '0.887', 'recall': '0.958', 'f1': '0.921', 'invalid_action_count': 0, 'total_rewards': 250.41539, 'episodic_length': 1852, 'num_ms1_scans': 148, 'num_ms2_scans': 1704}\n",
      "Episode 4 (437 chemicals) return 171.2039337158203 length 1844\n",
      "{'coverage_prop': '0.970', 'intensity_prop': '0.745', 'ms1ms2_ratio': '0.092', 'efficiency': '0.251', 'TP': '369', 'FP': '55', 'FN': '13', 'precision': '0.870', 'recall': '0.966', 'f1': '0.916', 'invalid_action_count': 0, 'total_rewards': 171.20393, 'episodic_length': 1844, 'num_ms1_scans': 156, 'num_ms2_scans': 1688}\n",
      "Episode 5 (200 chemicals) return 90.04264831542969 length 1720\n",
      "{'coverage_prop': '0.955', 'intensity_prop': '0.832', 'ms1ms2_ratio': '0.194', 'efficiency': '0.133', 'TP': '185', 'FP': '6', 'FN': '9', 'precision': '0.969', 'recall': '0.954', 'f1': '0.961', 'invalid_action_count': 0, 'total_rewards': 90.04265, 'episodic_length': 1720, 'num_ms1_scans': 280, 'num_ms2_scans': 1440}\n",
      "Episode 6 (478 chemicals) return 125.68002319335938 length 1852\n",
      "{'coverage_prop': '0.933', 'intensity_prop': '0.707', 'ms1ms2_ratio': '0.087', 'efficiency': '0.262', 'TP': '380', 'FP': '66', 'FN': '32', 'precision': '0.852', 'recall': '0.922', 'f1': '0.886', 'invalid_action_count': 0, 'total_rewards': 125.68002, 'episodic_length': 1852, 'num_ms1_scans': 148, 'num_ms2_scans': 1704}\n",
      "Episode 7 (204 chemicals) return 65.63296508789062 length 1735\n",
      "{'coverage_prop': '0.951', 'intensity_prop': '0.824', 'ms1ms2_ratio': '0.180', 'efficiency': '0.132', 'TP': '185', 'FP': '9', 'FN': '10', 'precision': '0.954', 'recall': '0.949', 'f1': '0.951', 'invalid_action_count': 0, 'total_rewards': 65.632965, 'episodic_length': 1735, 'num_ms1_scans': 265, 'num_ms2_scans': 1470}\n",
      "Episode 8 (424 chemicals) return 287.9035949707031 length 1861\n",
      "{'coverage_prop': '0.946', 'intensity_prop': '0.741', 'ms1ms2_ratio': '0.081', 'efficiency': '0.233', 'TP': '358', 'FP': '43', 'FN': '23', 'precision': '0.893', 'recall': '0.940', 'f1': '0.916', 'invalid_action_count': 0, 'total_rewards': 287.9036, 'episodic_length': 1861, 'num_ms1_scans': 139, 'num_ms2_scans': 1722}\n",
      "Episode 9 (384 chemicals) return 162.16546630859375 length 1838\n",
      "{'coverage_prop': '0.951', 'intensity_prop': '0.756', 'ms1ms2_ratio': '0.097', 'efficiency': '0.218', 'TP': '323', 'FP': '42', 'FN': '19', 'precision': '0.885', 'recall': '0.944', 'f1': '0.914', 'invalid_action_count': 0, 'total_rewards': 162.16547, 'episodic_length': 1838, 'num_ms1_scans': 162, 'num_ms2_scans': 1676}\n",
      "Episode 10 (443 chemicals) return 234.70089721679688 length 1866\n",
      "{'coverage_prop': '0.941', 'intensity_prop': '0.744', 'ms1ms2_ratio': '0.077', 'efficiency': '0.241', 'TP': '370', 'FP': '47', 'FN': '26', 'precision': '0.887', 'recall': '0.934', 'f1': '0.910', 'invalid_action_count': 0, 'total_rewards': 234.7009, 'episodic_length': 1866, 'num_ms1_scans': 134, 'num_ms2_scans': 1732}\n",
      "Episode 11 (249 chemicals) return 159.86080932617188 length 1766\n",
      "{'coverage_prop': '0.960', 'intensity_prop': '0.813', 'ms1ms2_ratio': '0.153', 'efficiency': '0.156', 'TP': '226', 'FP': '13', 'FN': '10', 'precision': '0.946', 'recall': '0.958', 'f1': '0.952', 'invalid_action_count': 0, 'total_rewards': 159.86081, 'episodic_length': 1766, 'num_ms1_scans': 234, 'num_ms2_scans': 1532}\n",
      "Episode 12 (251 chemicals) return 107.60842895507812 length 1775\n",
      "{'coverage_prop': '0.944', 'intensity_prop': '0.781', 'ms1ms2_ratio': '0.145', 'efficiency': '0.153', 'TP': '213', 'FP': '24', 'FN': '14', 'precision': '0.899', 'recall': '0.938', 'f1': '0.918', 'invalid_action_count': 0, 'total_rewards': 107.60843, 'episodic_length': 1775, 'num_ms1_scans': 225, 'num_ms2_scans': 1550}\n",
      "Episode 13 (300 chemicals) return -15.915053367614746 length 1811\n",
      "{'coverage_prop': '0.953', 'intensity_prop': '0.762', 'ms1ms2_ratio': '0.117', 'efficiency': '0.176', 'TP': '254', 'FP': '32', 'FN': '14', 'precision': '0.888', 'recall': '0.948', 'f1': '0.917', 'invalid_action_count': 0, 'total_rewards': -15.915053, 'episodic_length': 1811, 'num_ms1_scans': 189, 'num_ms2_scans': 1622}\n",
      "Episode 14 (206 chemicals) return -11.249360084533691 length 1761\n",
      "{'coverage_prop': '0.951', 'intensity_prop': '0.789', 'ms1ms2_ratio': '0.157', 'efficiency': '0.129', 'TP': '178', 'FP': '18', 'FN': '10', 'precision': '0.908', 'recall': '0.947', 'f1': '0.927', 'invalid_action_count': 0, 'total_rewards': -11.24936, 'episodic_length': 1761, 'num_ms1_scans': 239, 'num_ms2_scans': 1522}\n",
      "Episode 15 (407 chemicals) return 199.5411376953125 length 1831\n",
      "{'coverage_prop': '0.953', 'intensity_prop': '0.763', 'ms1ms2_ratio': '0.102', 'efficiency': '0.233', 'TP': '350', 'FP': '38', 'FN': '19', 'precision': '0.902', 'recall': '0.949', 'f1': '0.925', 'invalid_action_count': 0, 'total_rewards': 199.54114, 'episodic_length': 1831, 'num_ms1_scans': 169, 'num_ms2_scans': 1662}\n",
      "Episode 16 (498 chemicals) return 269.5643005371094 length 1859\n",
      "{'coverage_prop': '0.956', 'intensity_prop': '0.741', 'ms1ms2_ratio': '0.083', 'efficiency': '0.277', 'TP': '420', 'FP': '56', 'FN': '22', 'precision': '0.882', 'recall': '0.950', 'f1': '0.915', 'invalid_action_count': 0, 'total_rewards': 269.5643, 'episodic_length': 1859, 'num_ms1_scans': 142, 'num_ms2_scans': 1717}\n",
      "Episode 17 (372 chemicals) return 229.7532958984375 length 1836\n",
      "{'coverage_prop': '0.944', 'intensity_prop': '0.753', 'ms1ms2_ratio': '0.098', 'efficiency': '0.210', 'TP': '309', 'FP': '42', 'FN': '21', 'precision': '0.880', 'recall': '0.936', 'f1': '0.907', 'invalid_action_count': 0, 'total_rewards': 229.7533, 'episodic_length': 1836, 'num_ms1_scans': 164, 'num_ms2_scans': 1672}\n",
      "Episode 18 (302 chemicals) return 288.618408203125 length 1807\n",
      "{'coverage_prop': '0.964', 'intensity_prop': '0.785', 'ms1ms2_ratio': '0.120', 'efficiency': '0.180', 'TP': '262', 'FP': '29', 'FN': '11', 'precision': '0.900', 'recall': '0.960', 'f1': '0.929', 'invalid_action_count': 0, 'total_rewards': 288.6184, 'episodic_length': 1807, 'num_ms1_scans': 193, 'num_ms2_scans': 1614}\n",
      "Episode 19 (265 chemicals) return 167.46961975097656 length 1795\n",
      "{'coverage_prop': '0.970', 'intensity_prop': '0.813', 'ms1ms2_ratio': '0.130', 'efficiency': '0.162', 'TP': '236', 'FP': '21', 'FN': '8', 'precision': '0.918', 'recall': '0.967', 'f1': '0.942', 'invalid_action_count': 0, 'total_rewards': 167.46962, 'episodic_length': 1795, 'num_ms1_scans': 206, 'num_ms2_scans': 1589}\n",
      "Episode 20 (468 chemicals) return 158.9056396484375 length 1848\n",
      "{'coverage_prop': '0.915', 'intensity_prop': '0.714', 'ms1ms2_ratio': '0.090', 'efficiency': '0.252', 'TP': '375', 'FP': '53', 'FN': '40', 'precision': '0.876', 'recall': '0.904', 'f1': '0.890', 'invalid_action_count': 0, 'total_rewards': 158.90564, 'episodic_length': 1848, 'num_ms1_scans': 152, 'num_ms2_scans': 1696}\n",
      "Episode 21 (234 chemicals) return 253.2521209716797 length 1739\n",
      "{'coverage_prop': '0.949', 'intensity_prop': '0.792', 'ms1ms2_ratio': '0.177', 'efficiency': '0.150', 'TP': '202', 'FP': '20', 'FN': '12', 'precision': '0.910', 'recall': '0.944', 'f1': '0.927', 'invalid_action_count': 0, 'total_rewards': 253.25212, 'episodic_length': 1739, 'num_ms1_scans': 261, 'num_ms2_scans': 1478}\n",
      "Episode 22 (322 chemicals) return 146.98451232910156 length 1819\n",
      "{'coverage_prop': '0.960', 'intensity_prop': '0.776', 'ms1ms2_ratio': '0.111', 'efficiency': '0.189', 'TP': '280', 'FP': '29', 'FN': '13', 'precision': '0.906', 'recall': '0.956', 'f1': '0.930', 'invalid_action_count': 0, 'total_rewards': 146.98451, 'episodic_length': 1819, 'num_ms1_scans': 181, 'num_ms2_scans': 1638}\n",
      "Episode 23 (310 chemicals) return 259.16278076171875 length 1787\n",
      "{'coverage_prop': '0.939', 'intensity_prop': '0.768', 'ms1ms2_ratio': '0.135', 'efficiency': '0.185', 'TP': '262', 'FP': '29', 'FN': '19', 'precision': '0.900', 'recall': '0.932', 'f1': '0.916', 'invalid_action_count': 0, 'total_rewards': 259.16278, 'episodic_length': 1787, 'num_ms1_scans': 213, 'num_ms2_scans': 1574}\n",
      "Episode 24 (345 chemicals) return 280.29339599609375 length 1825\n",
      "{'coverage_prop': '0.974', 'intensity_prop': '0.784', 'ms1ms2_ratio': '0.106', 'efficiency': '0.204', 'TP': '301', 'FP': '35', 'FN': '9', 'precision': '0.896', 'recall': '0.971', 'f1': '0.932', 'invalid_action_count': 0, 'total_rewards': 280.2934, 'episodic_length': 1825, 'num_ms1_scans': 175, 'num_ms2_scans': 1650}\n",
      "Episode 25 (396 chemicals) return 266.358642578125 length 1852\n",
      "{'coverage_prop': '0.975', 'intensity_prop': '0.764', 'ms1ms2_ratio': '0.087', 'efficiency': '0.227', 'TP': '343', 'FP': '43', 'FN': '10', 'precision': '0.889', 'recall': '0.972', 'f1': '0.928', 'invalid_action_count': 0, 'total_rewards': 266.35864, 'episodic_length': 1852, 'num_ms1_scans': 148, 'num_ms2_scans': 1704}\n",
      "Episode 26 (203 chemicals) return 29.04720687866211 length 1753\n",
      "{'coverage_prop': '0.961', 'intensity_prop': '0.827', 'ms1ms2_ratio': '0.164', 'efficiency': '0.129', 'TP': '186', 'FP': '9', 'FN': '8', 'precision': '0.954', 'recall': '0.959', 'f1': '0.956', 'invalid_action_count': 0, 'total_rewards': 29.047207, 'episodic_length': 1753, 'num_ms1_scans': 247, 'num_ms2_scans': 1506}\n",
      "Episode 27 (281 chemicals) return 256.0439147949219 length 1787\n",
      "{'coverage_prop': '0.957', 'intensity_prop': '0.810', 'ms1ms2_ratio': '0.135', 'efficiency': '0.171', 'TP': '252', 'FP': '17', 'FN': '12', 'precision': '0.937', 'recall': '0.955', 'f1': '0.946', 'invalid_action_count': 0, 'total_rewards': 256.0439, 'episodic_length': 1787, 'num_ms1_scans': 213, 'num_ms2_scans': 1574}\n",
      "Episode 28 (493 chemicals) return 153.5649871826172 length 1870\n",
      "{'coverage_prop': '0.933', 'intensity_prop': '0.701', 'ms1ms2_ratio': '0.075', 'efficiency': '0.264', 'TP': '390', 'FP': '70', 'FN': '33', 'precision': '0.848', 'recall': '0.922', 'f1': '0.883', 'invalid_action_count': 0, 'total_rewards': 153.56499, 'episodic_length': 1870, 'num_ms1_scans': 130, 'num_ms2_scans': 1740}\n",
      "Episode 29 (304 chemicals) return 58.27526092529297 length 1810\n",
      "{'coverage_prop': '0.961', 'intensity_prop': '0.799', 'ms1ms2_ratio': '0.117', 'efficiency': '0.180', 'TP': '271', 'FP': '21', 'FN': '12', 'precision': '0.928', 'recall': '0.958', 'f1': '0.943', 'invalid_action_count': 0, 'total_rewards': 58.27526, 'episodic_length': 1810, 'num_ms1_scans': 190, 'num_ms2_scans': 1620}\n"
     ]
    }
   ],
   "source": [
    "episodic_returns = []\n",
    "evaluation_results = []\n",
    "for i in range(len(chem_list)):\n",
    "    if i >= eval_episodes:\n",
    "        break\n",
    "\n",
    "    chems = chem_list[i]\n",
    "\n",
    "    obs, info = envs.reset(options={'chems': chems})\n",
    "    done = False\n",
    "    eval_data = None\n",
    "    while not done:\n",
    "        env = envs.envs[0].env\n",
    "        actions = masked_epsilon_greedy(device, max_peaks, None, obs, model,\n",
    "                                        deterministic=True)\n",
    "\n",
    "        next_obs, rewards, terminateds, truncateds, infos = envs.step(actions)\n",
    "        dones = terminateds\n",
    "\n",
    "        if 'final_info' in infos:\n",
    "            final_infos = infos['final_info']\n",
    "            assert len(final_infos) == 1\n",
    "            info = final_infos[0]\n",
    "            episodic_return = info['episode']['r'][0]\n",
    "            episodic_length = info['episode']['l'][0]\n",
    "\n",
    "            eval_res = evaluate(eval_data)\n",
    "            eval_res['invalid_action_count'] = env.invalid_action_count\n",
    "            eval_res['total_rewards'] = episodic_return\n",
    "            eval_res['episodic_length'] = episodic_length\n",
    "            eval_res['num_ms1_scans'] = len(eval_data.controller.scans[1])\n",
    "            eval_res['num_ms2_scans'] = len(eval_data.controller.scans[2])\n",
    "            evaluation_results.append(eval_res)\n",
    "\n",
    "            print(\n",
    "                f'Episode {i} ({len(chems)} chemicals) return {episodic_return} length {episodic_length}')\n",
    "            print(eval_res)\n",
    "\n",
    "            episodic_returns += [episodic_return]\n",
    "            \n",
    "            mzml_name = METHOD_DQN\n",
    "            out_file = '%s_%d.mzML' % (mzml_name, i)\n",
    "            vimms_env.write_mzML(out_dir, out_file)            \n",
    "\n",
    "        obs = next_obs\n",
    "        done = dones[0]\n",
    "\n",
    "        # store previous results for evaluation before 'done'\n",
    "        # this needs to be here, because VecEnv is automatically reset when done\n",
    "        vimms_env = env.env.vimms_env\n",
    "        eval_data = EvaluationData(vimms_env)"
   ]
  },
  {
   "cell_type": "code",
   "execution_count": 22,
   "metadata": {
    "execution": {
     "iopub.execute_input": "2023-06-13T06:13:14.696976Z",
     "iopub.status.busy": "2023-06-13T06:13:14.696562Z",
     "iopub.status.idle": "2023-06-13T06:13:14.728203Z",
     "shell.execute_reply": "2023-06-13T06:13:14.727709Z",
     "shell.execute_reply.started": "2023-06-13T06:13:14.696954Z"
    }
   },
   "outputs": [],
   "source": [
    "method_eval_results[METHOD_DQN] = evaluation_results"
   ]
  },
  {
   "cell_type": "markdown",
   "metadata": {},
   "source": [
    "#### Test classic controllers in ViMMS"
   ]
  },
  {
   "cell_type": "code",
   "execution_count": 23,
   "metadata": {
    "execution": {
     "iopub.execute_input": "2023-06-13T06:13:14.730629Z",
     "iopub.status.busy": "2023-06-13T06:13:14.728916Z",
     "iopub.status.idle": "2023-06-13T06:13:14.759534Z",
     "shell.execute_reply": "2023-06-13T06:13:14.759063Z",
     "shell.execute_reply.started": "2023-06-13T06:13:14.730611Z"
    }
   },
   "outputs": [],
   "source": [
    "from vimms.MassSpec import IndependentMassSpectrometer\n",
    "from vimms.Controller import TopNController, TopN_SmartRoiController, WeightedDEWController\n",
    "from vimms.Environment import Environment"
   ]
  },
  {
   "cell_type": "markdown",
   "metadata": {},
   "source": [
    "Run Top-N Controller"
   ]
  },
  {
   "cell_type": "code",
   "execution_count": 24,
   "metadata": {
    "execution": {
     "iopub.execute_input": "2023-06-13T06:13:14.760423Z",
     "iopub.status.busy": "2023-06-13T06:13:14.760220Z",
     "iopub.status.idle": "2023-06-13T06:13:14.790644Z",
     "shell.execute_reply": "2023-06-13T06:13:14.790138Z",
     "shell.execute_reply.started": "2023-06-13T06:13:14.760406Z"
    }
   },
   "outputs": [
    {
     "data": {
      "text/plain": [
       "{'chemical_creator': {'mz_range': (100, 600),\n",
       "  'rt_range': (400, 800),\n",
       "  'intensity_range': (10000.0, 1e+20),\n",
       "  'n_chemicals': (200, 500),\n",
       "  'mz_sampler': <vimms.ChemicalSamplers.MZMLFormulaSampler at 0x7f23895ddb80>,\n",
       "  'ri_sampler': <vimms.ChemicalSamplers.MZMLRTandIntensitySampler at 0x7f22d9d5f520>,\n",
       "  'cr_sampler': <vimms.ChemicalSamplers.MZMLChromatogramSampler at 0x7f22d9e4c6d0>},\n",
       " 'noise': {'enable_spike_noise': True,\n",
       "  'noise_density': 0.1,\n",
       "  'noise_max_val': 1000.0,\n",
       "  'mz_range': (100, 600)},\n",
       " 'env': {'ionisation_mode': 'Positive',\n",
       "  'rt_range': (400, 800),\n",
       "  'isolation_window': 0.7,\n",
       "  'use_dew': False,\n",
       "  'mz_tol': 10,\n",
       "  'rt_tol': 5,\n",
       "  'min_ms1_intensity': 5000,\n",
       "  'alpha': 0.25,\n",
       "  'beta': 0.5}}"
      ]
     },
     "execution_count": 24,
     "metadata": {},
     "output_type": "execute_result"
    }
   ],
   "source": [
    "params"
   ]
  },
  {
   "cell_type": "code",
   "execution_count": 25,
   "metadata": {
    "execution": {
     "iopub.execute_input": "2023-06-13T06:13:14.791822Z",
     "iopub.status.busy": "2023-06-13T06:13:14.791403Z",
     "iopub.status.idle": "2023-06-13T06:13:14.820060Z",
     "shell.execute_reply": "2023-06-13T06:13:14.819520Z",
     "shell.execute_reply.started": "2023-06-13T06:13:14.791803Z"
    }
   },
   "outputs": [],
   "source": [
    "enable_spike_noise = params['noise']['enable_spike_noise']\n",
    "ionisation_mode = params['env']['ionisation_mode']\n",
    "isolation_window = params['env']['isolation_window']\n",
    "mz_tol = params['env']['mz_tol']\n",
    "rt_range = params['chemical_creator']['rt_range']"
   ]
  },
  {
   "cell_type": "code",
   "execution_count": 26,
   "metadata": {
    "execution": {
     "iopub.execute_input": "2023-06-13T06:13:14.821068Z",
     "iopub.status.busy": "2023-06-13T06:13:14.820954Z",
     "iopub.status.idle": "2023-06-13T06:16:08.606268Z",
     "shell.execute_reply": "2023-06-13T06:16:08.605706Z",
     "shell.execute_reply.started": "2023-06-13T06:13:14.821054Z"
    }
   },
   "outputs": [
    {
     "name": "stdout",
     "output_type": "stream",
     "text": [
      "method = TopN_Controller\n",
      "\n",
      "Episode 0 finished\n",
      "{'coverage_prop': '0.960', 'intensity_prop': '0.746', 'ms1ms2_ratio': '0.215', 'efficiency': '0.293', 'TP': '366', 'FP': '43', 'FN': '17', 'precision': '0.895', 'recall': '0.956', 'f1': '0.924'}\n",
      "\n",
      "Episode 1 finished\n",
      "{'coverage_prop': '0.962', 'intensity_prop': '0.791', 'ms1ms2_ratio': '0.442', 'efficiency': '0.237', 'TP': '236', 'FP': '16', 'FN': '10', 'precision': '0.937', 'recall': '0.959', 'f1': '0.948'}\n",
      "\n",
      "Episode 2 finished\n",
      "{'coverage_prop': '0.970', 'intensity_prop': '0.750', 'ms1ms2_ratio': '0.273', 'efficiency': '0.295', 'TP': '344', 'FP': '38', 'FN': '12', 'precision': '0.901', 'recall': '0.966', 'f1': '0.932'}\n",
      "\n",
      "Episode 3 finished\n",
      "{'coverage_prop': '0.956', 'intensity_prop': '0.758', 'ms1ms2_ratio': '0.226', 'efficiency': '0.313', 'TP': '395', 'FP': '37', 'FN': '20', 'precision': '0.914', 'recall': '0.952', 'f1': '0.933'}\n",
      "\n",
      "Episode 4 finished\n",
      "{'coverage_prop': '0.975', 'intensity_prop': '0.759', 'ms1ms2_ratio': '0.234', 'efficiency': '0.313', 'TP': '384', 'FP': '42', 'FN': '11', 'precision': '0.901', 'recall': '0.972', 'f1': '0.935'}\n",
      "\n",
      "Episode 5 finished\n",
      "{'coverage_prop': '0.960', 'intensity_prop': '0.788', 'ms1ms2_ratio': '0.791', 'efficiency': '0.248', 'TP': '182', 'FP': '10', 'FN': '8', 'precision': '0.948', 'recall': '0.958', 'f1': '0.953'}\n",
      "\n",
      "Episode 6 finished\n",
      "{'coverage_prop': '0.929', 'intensity_prop': '0.724', 'ms1ms2_ratio': '0.193', 'efficiency': '0.307', 'TP': '394', 'FP': '50', 'FN': '34', 'precision': '0.887', 'recall': '0.921', 'f1': '0.904'}\n",
      "\n",
      "Episode 7 finished\n",
      "{'coverage_prop': '0.961', 'intensity_prop': '0.789', 'ms1ms2_ratio': '0.620', 'efficiency': '0.219', 'TP': '186', 'FP': '10', 'FN': '8', 'precision': '0.949', 'recall': '0.959', 'f1': '0.954'}\n",
      "\n",
      "Episode 8 finished\n",
      "{'coverage_prop': '0.948', 'intensity_prop': '0.744', 'ms1ms2_ratio': '0.208', 'efficiency': '0.285', 'TP': '369', 'FP': '33', 'FN': '22', 'precision': '0.918', 'recall': '0.944', 'f1': '0.931'}\n",
      "\n",
      "Episode 9 finished\n",
      "{'coverage_prop': '0.964', 'intensity_prop': '0.762', 'ms1ms2_ratio': '0.276', 'efficiency': '0.287', 'TP': '333', 'FP': '37', 'FN': '14', 'precision': '0.900', 'recall': '0.960', 'f1': '0.929'}\n",
      "\n",
      "Episode 10 finished\n",
      "{'coverage_prop': '0.953', 'intensity_prop': '0.759', 'ms1ms2_ratio': '0.191', 'efficiency': '0.292', 'TP': '387', 'FP': '35', 'FN': '21', 'precision': '0.917', 'recall': '0.949', 'f1': '0.933'}\n",
      "\n",
      "Episode 11 finished\n",
      "{'coverage_prop': '0.960', 'intensity_prop': '0.783', 'ms1ms2_ratio': '0.500', 'efficiency': '0.239', 'TP': '225', 'FP': '14', 'FN': '10', 'precision': '0.941', 'recall': '0.957', 'f1': '0.949'}\n",
      "\n",
      "Episode 12 finished\n",
      "{'coverage_prop': '0.948', 'intensity_prop': '0.746', 'ms1ms2_ratio': '0.368', 'efficiency': '0.207', 'TP': '216', 'FP': '22', 'FN': '13', 'precision': '0.908', 'recall': '0.943', 'f1': '0.925'}\n",
      "\n",
      "Episode 13 finished\n",
      "{'coverage_prop': '0.967', 'intensity_prop': '0.764', 'ms1ms2_ratio': '0.300', 'efficiency': '0.232', 'TP': '263', 'FP': '27', 'FN': '10', 'precision': '0.907', 'recall': '0.963', 'f1': '0.934'}\n",
      "\n",
      "Episode 14 finished\n",
      "{'coverage_prop': '0.956', 'intensity_prop': '0.768', 'ms1ms2_ratio': '0.559', 'efficiency': '0.209', 'TP': '180', 'FP': '17', 'FN': '9', 'precision': '0.914', 'recall': '0.952', 'f1': '0.933'}\n",
      "\n",
      "Episode 15 finished\n",
      "{'coverage_prop': '0.971', 'intensity_prop': '0.779', 'ms1ms2_ratio': '0.298', 'efficiency': '0.315', 'TP': '365', 'FP': '30', 'FN': '12', 'precision': '0.924', 'recall': '0.968', 'f1': '0.946'}\n",
      "\n",
      "Episode 16 finished\n",
      "{'coverage_prop': '0.962', 'intensity_prop': '0.758', 'ms1ms2_ratio': '0.201', 'efficiency': '0.336', 'TP': '437', 'FP': '42', 'FN': '19', 'precision': '0.912', 'recall': '0.958', 'f1': '0.935'}\n",
      "\n",
      "Episode 17 finished\n",
      "{'coverage_prop': '0.962', 'intensity_prop': '0.777', 'ms1ms2_ratio': '0.262', 'efficiency': '0.273', 'TP': '332', 'FP': '26', 'FN': '14', 'precision': '0.927', 'recall': '0.960', 'f1': '0.943'}\n",
      "\n",
      "Episode 18 finished\n",
      "{'coverage_prop': '0.967', 'intensity_prop': '0.767', 'ms1ms2_ratio': '0.356', 'efficiency': '0.250', 'TP': '268', 'FP': '24', 'FN': '10', 'precision': '0.918', 'recall': '0.964', 'f1': '0.940'}\n",
      "\n",
      "Episode 19 finished\n",
      "{'coverage_prop': '0.977', 'intensity_prop': '0.795', 'ms1ms2_ratio': '0.326', 'efficiency': '0.214', 'TP': '242', 'FP': '17', 'FN': '6', 'precision': '0.934', 'recall': '0.976', 'f1': '0.955'}\n",
      "\n",
      "Episode 20 finished\n",
      "{'coverage_prop': '0.921', 'intensity_prop': '0.731', 'ms1ms2_ratio': '0.209', 'efficiency': '0.306', 'TP': '397', 'FP': '34', 'FN': '37', 'precision': '0.921', 'recall': '0.915', 'f1': '0.918'}\n",
      "\n",
      "Episode 21 finished\n",
      "{'coverage_prop': '0.957', 'intensity_prop': '0.760', 'ms1ms2_ratio': '0.633', 'efficiency': '0.254', 'TP': '202', 'FP': '22', 'FN': '10', 'precision': '0.902', 'recall': '0.953', 'f1': '0.927'}\n",
      "\n",
      "Episode 22 finished\n",
      "{'coverage_prop': '0.966', 'intensity_prop': '0.770', 'ms1ms2_ratio': '0.322', 'efficiency': '0.256', 'TP': '291', 'FP': '20', 'FN': '11', 'precision': '0.936', 'recall': '0.964', 'f1': '0.949'}\n",
      "\n",
      "Episode 23 finished\n",
      "{'coverage_prop': '0.948', 'intensity_prop': '0.766', 'ms1ms2_ratio': '0.420', 'efficiency': '0.270', 'TP': '272', 'FP': '22', 'FN': '16', 'precision': '0.925', 'recall': '0.944', 'f1': '0.935'}\n",
      "\n",
      "Episode 24 finished\n",
      "{'coverage_prop': '0.983', 'intensity_prop': '0.786', 'ms1ms2_ratio': '0.261', 'efficiency': '0.258', 'TP': '315', 'FP': '24', 'FN': '6', 'precision': '0.929', 'recall': '0.981', 'f1': '0.955'}\n",
      "\n",
      "Episode 25 finished\n",
      "{'coverage_prop': '0.980', 'intensity_prop': '0.773', 'ms1ms2_ratio': '0.270', 'efficiency': '0.299', 'TP': '354', 'FP': '34', 'FN': '8', 'precision': '0.912', 'recall': '0.978', 'f1': '0.944'}\n",
      "\n",
      "Episode 26 finished\n",
      "{'coverage_prop': '0.970', 'intensity_prop': '0.786', 'ms1ms2_ratio': '0.651', 'efficiency': '0.227', 'TP': '183', 'FP': '14', 'FN': '6', 'precision': '0.929', 'recall': '0.968', 'f1': '0.948'}\n",
      "\n",
      "Episode 27 finished\n",
      "{'coverage_prop': '0.968', 'intensity_prop': '0.795', 'ms1ms2_ratio': '0.449', 'efficiency': '0.258', 'TP': '253', 'FP': '19', 'FN': '9', 'precision': '0.930', 'recall': '0.966', 'f1': '0.948'}\n",
      "\n",
      "Episode 28 finished\n",
      "{'coverage_prop': '0.933', 'intensity_prop': '0.708', 'ms1ms2_ratio': '0.186', 'efficiency': '0.316', 'TP': '405', 'FP': '55', 'FN': '33', 'precision': '0.880', 'recall': '0.925', 'f1': '0.902'}\n",
      "\n",
      "Episode 29 finished\n",
      "{'coverage_prop': '0.967', 'intensity_prop': '0.794', 'ms1ms2_ratio': '0.317', 'efficiency': '0.240', 'TP': '275', 'FP': '19', 'FN': '10', 'precision': '0.935', 'recall': '0.965', 'f1': '0.950'}\n",
      "\n"
     ]
    }
   ],
   "source": [
    "method = 'TopN_Controller'\n",
    "print('method = %s' % method)\n",
    "print()\n",
    "\n",
    "effective_rt_tol = topN_rt_tol\n",
    "effective_N = topN_N\n",
    "eval_results = []\n",
    "for i in range(len(chem_list)):\n",
    "    \n",
    "    spike_noise = None\n",
    "    if enable_spike_noise:\n",
    "        noise_params = params['noise']\n",
    "        noise_density = noise_params['noise_density']\n",
    "        noise_max_val = noise_params['noise_max_val']\n",
    "        noise_min_mz = noise_params['mz_range'][0]\n",
    "        noise_max_mz = noise_params['mz_range'][1]\n",
    "        spike_noise = UniformSpikeNoise(noise_density, noise_max_val, min_mz=noise_min_mz,\n",
    "                                        max_mz=noise_max_mz)\n",
    "\n",
    "    chems = chem_list[i]\n",
    "    mass_spec = IndependentMassSpectrometer(ionisation_mode, chems, spike_noise=spike_noise)\n",
    "    controller = TopNController(ionisation_mode, effective_N, isolation_window, mz_tol, effective_rt_tol,\n",
    "                                min_ms1_intensity)\n",
    "    env = Environment(mass_spec, controller, rt_range[0], rt_range[1], progress_bar=False, out_dir=out_dir,\n",
    "                      out_file='%s_%d.mzML' % (method, i), save_eval=True)\n",
    "    env.run()\n",
    "    \n",
    "    eval_res = evaluate(env, intensity_threshold)\n",
    "    # eval_res['total_rewards'] = 0\n",
    "    eval_results.append(eval_res)\n",
    "    print('Episode %d finished' % i)\n",
    "    print(eval_res)\n",
    "    print()\n",
    "    \n",
    "method_eval_results[method] = eval_results"
   ]
  },
  {
   "cell_type": "markdown",
   "metadata": {},
   "source": [
    "Run SmartROI Controller"
   ]
  },
  {
   "cell_type": "code",
   "execution_count": 27,
   "metadata": {
    "execution": {
     "iopub.execute_input": "2023-06-13T06:16:08.607811Z",
     "iopub.status.busy": "2023-06-13T06:16:08.607303Z",
     "iopub.status.idle": "2023-06-13T06:16:08.640649Z",
     "shell.execute_reply": "2023-06-13T06:16:08.640275Z",
     "shell.execute_reply.started": "2023-06-13T06:16:08.607780Z"
    }
   },
   "outputs": [
    {
     "data": {
      "text/plain": [
       "(10, 5, 2, 0.5, 0)"
      ]
     },
     "execution_count": 27,
     "metadata": {},
     "output_type": "execute_result"
    }
   ],
   "source": [
    "smartroi_N, smartroi_dew, alpha, beta, ils"
   ]
  },
  {
   "cell_type": "code",
   "execution_count": 28,
   "metadata": {
    "execution": {
     "iopub.execute_input": "2023-06-13T06:16:08.641370Z",
     "iopub.status.busy": "2023-06-13T06:16:08.641253Z",
     "iopub.status.idle": "2023-06-13T06:19:47.799600Z",
     "shell.execute_reply": "2023-06-13T06:19:47.798914Z",
     "shell.execute_reply.started": "2023-06-13T06:16:08.641355Z"
    }
   },
   "outputs": [
    {
     "name": "stdout",
     "output_type": "stream",
     "text": [
      "method = SmartROI_Controller\n",
      "\n",
      "Episode 0 finished\n",
      "{'coverage_prop': '0.977', 'intensity_prop': '0.709', 'ms1ms2_ratio': '0.795', 'efficiency': '0.539', 'TP': '360', 'FP': '56', 'FN': '10', 'precision': '0.865', 'recall': '0.973', 'f1': '0.916'}\n",
      "\n",
      "Episode 1 finished\n",
      "{'coverage_prop': '0.962', 'intensity_prop': '0.714', 'ms1ms2_ratio': '1.505', 'efficiency': '0.505', 'TP': '223', 'FP': '29', 'FN': '10', 'precision': '0.885', 'recall': '0.957', 'f1': '0.920'}\n",
      "\n",
      "Episode 2 finished\n",
      "{'coverage_prop': '0.970', 'intensity_prop': '0.709', 'ms1ms2_ratio': '0.858', 'efficiency': '0.518', 'TP': '325', 'FP': '57', 'FN': '12', 'precision': '0.851', 'recall': '0.964', 'f1': '0.904'}\n",
      "\n",
      "Episode 3 finished\n",
      "{'coverage_prop': '0.973', 'intensity_prop': '0.714', 'ms1ms2_ratio': '0.746', 'efficiency': '0.548', 'TP': '377', 'FP': '63', 'FN': '12', 'precision': '0.857', 'recall': '0.969', 'f1': '0.910'}\n",
      "\n",
      "Episode 4 finished\n",
      "{'coverage_prop': '0.991', 'intensity_prop': '0.723', 'ms1ms2_ratio': '0.779', 'efficiency': '0.554', 'TP': '368', 'FP': '65', 'FN': '4', 'precision': '0.850', 'recall': '0.989', 'f1': '0.914'}\n",
      "\n",
      "Episode 5 finished\n",
      "{'coverage_prop': '0.955', 'intensity_prop': '0.718', 'ms1ms2_ratio': '2.126', 'efficiency': '0.501', 'TP': '167', 'FP': '24', 'FN': '9', 'precision': '0.874', 'recall': '0.949', 'f1': '0.910'}\n",
      "\n",
      "Episode 6 finished\n",
      "{'coverage_prop': '0.960', 'intensity_prop': '0.696', 'ms1ms2_ratio': '0.679', 'efficiency': '0.541', 'TP': '398', 'FP': '61', 'FN': '19', 'precision': '0.867', 'recall': '0.954', 'f1': '0.909'}\n",
      "\n",
      "Episode 7 finished\n",
      "{'coverage_prop': '0.961', 'intensity_prop': '0.716', 'ms1ms2_ratio': '2.072', 'efficiency': '0.504', 'TP': '178', 'FP': '18', 'FN': '8', 'precision': '0.908', 'recall': '0.957', 'f1': '0.932'}\n",
      "\n",
      "Episode 8 finished\n",
      "{'coverage_prop': '0.953', 'intensity_prop': '0.690', 'ms1ms2_ratio': '0.822', 'efficiency': '0.534', 'TP': '351', 'FP': '53', 'FN': '20', 'precision': '0.869', 'recall': '0.946', 'f1': '0.906'}\n",
      "\n",
      "Episode 9 finished\n",
      "{'coverage_prop': '0.966', 'intensity_prop': '0.714', 'ms1ms2_ratio': '0.903', 'efficiency': '0.520', 'TP': '323', 'FP': '48', 'FN': '13', 'precision': '0.871', 'recall': '0.961', 'f1': '0.914'}\n",
      "\n",
      "Episode 10 finished\n",
      "{'coverage_prop': '0.966', 'intensity_prop': '0.724', 'ms1ms2_ratio': '0.681', 'efficiency': '0.505', 'TP': '380', 'FP': '48', 'FN': '15', 'precision': '0.888', 'recall': '0.962', 'f1': '0.923'}\n",
      "\n",
      "Episode 11 finished\n",
      "{'coverage_prop': '0.968', 'intensity_prop': '0.719', 'ms1ms2_ratio': '1.633', 'efficiency': '0.514', 'TP': '218', 'FP': '23', 'FN': '8', 'precision': '0.905', 'recall': '0.965', 'f1': '0.934'}\n",
      "\n",
      "Episode 12 finished\n",
      "{'coverage_prop': '0.948', 'intensity_prop': '0.667', 'ms1ms2_ratio': '1.621', 'efficiency': '0.504', 'TP': '195', 'FP': '43', 'FN': '13', 'precision': '0.819', 'recall': '0.938', 'f1': '0.874'}\n",
      "\n",
      "Episode 13 finished\n",
      "{'coverage_prop': '0.967', 'intensity_prop': '0.686', 'ms1ms2_ratio': '1.273', 'efficiency': '0.514', 'TP': '233', 'FP': '57', 'FN': '10', 'precision': '0.803', 'recall': '0.959', 'f1': '0.874'}\n",
      "\n",
      "Episode 14 finished\n",
      "{'coverage_prop': '0.951', 'intensity_prop': '0.700', 'ms1ms2_ratio': '1.923', 'efficiency': '0.475', 'TP': '172', 'FP': '24', 'FN': '10', 'precision': '0.878', 'recall': '0.945', 'f1': '0.910'}\n",
      "\n",
      "Episode 15 finished\n",
      "{'coverage_prop': '0.978', 'intensity_prop': '0.734', 'ms1ms2_ratio': '0.847', 'efficiency': '0.536', 'TP': '350', 'FP': '48', 'FN': '9', 'precision': '0.879', 'recall': '0.975', 'f1': '0.925'}\n",
      "\n",
      "Episode 16 finished\n",
      "{'coverage_prop': '0.978', 'intensity_prop': '0.735', 'ms1ms2_ratio': '0.601', 'efficiency': '0.536', 'TP': '428', 'FP': '59', 'FN': '11', 'precision': '0.879', 'recall': '0.975', 'f1': '0.924'}\n",
      "\n",
      "Episode 17 finished\n",
      "{'coverage_prop': '0.968', 'intensity_prop': '0.701', 'ms1ms2_ratio': '0.984', 'efficiency': '0.534', 'TP': '311', 'FP': '49', 'FN': '12', 'precision': '0.864', 'recall': '0.963', 'f1': '0.911'}\n",
      "\n",
      "Episode 18 finished\n",
      "{'coverage_prop': '0.967', 'intensity_prop': '0.708', 'ms1ms2_ratio': '1.254', 'efficiency': '0.512', 'TP': '251', 'FP': '41', 'FN': '10', 'precision': '0.860', 'recall': '0.962', 'f1': '0.908'}\n",
      "\n",
      "Episode 19 finished\n",
      "{'coverage_prop': '0.981', 'intensity_prop': '0.708', 'ms1ms2_ratio': '1.481', 'efficiency': '0.515', 'TP': '221', 'FP': '39', 'FN': '5', 'precision': '0.850', 'recall': '0.978', 'f1': '0.909'}\n",
      "\n",
      "Episode 20 finished\n",
      "{'coverage_prop': '0.962', 'intensity_prop': '0.711', 'ms1ms2_ratio': '0.699', 'efficiency': '0.540', 'TP': '387', 'FP': '63', 'FN': '18', 'precision': '0.860', 'recall': '0.956', 'f1': '0.905'}\n",
      "\n",
      "Episode 21 finished\n",
      "{'coverage_prop': '0.953', 'intensity_prop': '0.689', 'ms1ms2_ratio': '1.839', 'efficiency': '0.521', 'TP': '193', 'FP': '30', 'FN': '11', 'precision': '0.865', 'recall': '0.946', 'f1': '0.904'}\n",
      "\n",
      "Episode 22 finished\n",
      "{'coverage_prop': '0.969', 'intensity_prop': '0.712', 'ms1ms2_ratio': '1.182', 'efficiency': '0.524', 'TP': '274', 'FP': '38', 'FN': '10', 'precision': '0.878', 'recall': '0.965', 'f1': '0.919'}\n",
      "\n",
      "Episode 23 finished\n",
      "{'coverage_prop': '0.955', 'intensity_prop': '0.696', 'ms1ms2_ratio': '1.265', 'efficiency': '0.522', 'TP': '246', 'FP': '50', 'FN': '14', 'precision': '0.831', 'recall': '0.946', 'f1': '0.885'}\n",
      "\n",
      "Episode 24 finished\n",
      "{'coverage_prop': '0.983', 'intensity_prop': '0.725', 'ms1ms2_ratio': '0.973', 'efficiency': '0.499', 'TP': '297', 'FP': '42', 'FN': '6', 'precision': '0.876', 'recall': '0.980', 'f1': '0.925'}\n",
      "\n",
      "Episode 25 finished\n",
      "{'coverage_prop': '0.987', 'intensity_prop': '0.717', 'ms1ms2_ratio': '0.859', 'efficiency': '0.531', 'TP': '338', 'FP': '53', 'FN': '5', 'precision': '0.864', 'recall': '0.985', 'f1': '0.921'}\n",
      "\n",
      "Episode 26 finished\n",
      "{'coverage_prop': '0.970', 'intensity_prop': '0.723', 'ms1ms2_ratio': '2.059', 'efficiency': '0.504', 'TP': '174', 'FP': '23', 'FN': '6', 'precision': '0.883', 'recall': '0.967', 'f1': '0.923'}\n",
      "\n",
      "Episode 27 finished\n",
      "{'coverage_prop': '0.968', 'intensity_prop': '0.724', 'ms1ms2_ratio': '1.370', 'efficiency': '0.508', 'TP': '243', 'FP': '29', 'FN': '9', 'precision': '0.893', 'recall': '0.964', 'f1': '0.927'}\n",
      "\n",
      "Episode 28 finished\n",
      "{'coverage_prop': '0.970', 'intensity_prop': '0.709', 'ms1ms2_ratio': '0.596', 'efficiency': '0.524', 'TP': '399', 'FP': '79', 'FN': '15', 'precision': '0.835', 'recall': '0.964', 'f1': '0.895'}\n",
      "\n",
      "Episode 29 finished\n",
      "{'coverage_prop': '0.970', 'intensity_prop': '0.731', 'ms1ms2_ratio': '1.210', 'efficiency': '0.504', 'TP': '267', 'FP': '28', 'FN': '9', 'precision': '0.905', 'recall': '0.967', 'f1': '0.935'}\n",
      "\n"
     ]
    }
   ],
   "source": [
    "method = 'SmartROI_Controller'\n",
    "print('method = %s' % method)\n",
    "print()\n",
    "\n",
    "eval_results = []\n",
    "for i in range(len(chem_list)):\n",
    "    \n",
    "    spike_noise = None\n",
    "    if enable_spike_noise:\n",
    "        noise_params = params['noise']\n",
    "        noise_density = noise_params['noise_density']\n",
    "        noise_max_val = noise_params['noise_max_val']\n",
    "        noise_min_mz = noise_params['mz_range'][0]\n",
    "        noise_max_mz = noise_params['mz_range'][1]\n",
    "        spike_noise = UniformSpikeNoise(noise_density, noise_max_val, min_mz=noise_min_mz,\n",
    "                                        max_mz=noise_max_mz)\n",
    "\n",
    "    chems = chem_list[i]\n",
    "    mass_spec = IndependentMassSpectrometer(ionisation_mode, chems, spike_noise=spike_noise)\n",
    "    \n",
    "    roi_params = RoiBuilderParams(min_roi_intensity=0, min_roi_length=0)    \n",
    "    smartroi_params = SmartRoiParams(intensity_increase_factor=alpha, drop_perc=beta/100.0, dew=smartroi_dew, initial_length_seconds=ils)\n",
    "    controller = TopN_SmartRoiController(ionisation_mode, isolation_window, smartroi_N, mz_tol, smartroi_dew,\n",
    "                                min_ms1_intensity, roi_params, smartroi_params)\n",
    "    env = Environment(mass_spec, controller, rt_range[0], rt_range[1], progress_bar=False, out_dir=out_dir,\n",
    "                      out_file='%s_%d.mzML' % (method, i), save_eval=True)\n",
    "    env.run()\n",
    "    \n",
    "    eval_res = evaluate(env, intensity_threshold)\n",
    "    # eval_res['total_rewards'] = 0\n",
    "    eval_results.append(eval_res)\n",
    "    print('Episode %d finished' % i)\n",
    "    print(eval_res)\n",
    "    print()    \n",
    "    \n",
    "method_eval_results[method] = eval_results"
   ]
  },
  {
   "cell_type": "markdown",
   "metadata": {},
   "source": [
    "Run WeightedDEW Controller"
   ]
  },
  {
   "cell_type": "code",
   "execution_count": 29,
   "metadata": {
    "execution": {
     "iopub.execute_input": "2023-06-13T06:19:47.800599Z",
     "iopub.status.busy": "2023-06-13T06:19:47.800458Z",
     "iopub.status.idle": "2023-06-13T06:22:56.747294Z",
     "shell.execute_reply": "2023-06-13T06:22:56.746776Z",
     "shell.execute_reply.started": "2023-06-13T06:19:47.800582Z"
    }
   },
   "outputs": [
    {
     "name": "stdout",
     "output_type": "stream",
     "text": [
      "method = WeightedDEW_Controller\n",
      "\n",
      "Episode 0 finished\n",
      "{'coverage_prop': '0.965', 'intensity_prop': '0.743', 'ms1ms2_ratio': '0.159', 'efficiency': '0.271', 'TP': '368', 'FP': '43', 'FN': '15', 'precision': '0.895', 'recall': '0.961', 'f1': '0.927'}\n",
      "\n",
      "Episode 1 finished\n",
      "{'coverage_prop': '0.958', 'intensity_prop': '0.791', 'ms1ms2_ratio': '0.242', 'efficiency': '0.186', 'TP': '238', 'FP': '13', 'FN': '11', 'precision': '0.948', 'recall': '0.956', 'f1': '0.952'}\n",
      "\n",
      "Episode 2 finished\n",
      "{'coverage_prop': '0.964', 'intensity_prop': '0.738', 'ms1ms2_ratio': '0.198', 'efficiency': '0.265', 'TP': '343', 'FP': '37', 'FN': '14', 'precision': '0.903', 'recall': '0.961', 'f1': '0.931'}\n",
      "\n",
      "Episode 3 finished\n",
      "{'coverage_prop': '0.969', 'intensity_prop': '0.762', 'ms1ms2_ratio': '0.158', 'efficiency': '0.288', 'TP': '404', 'FP': '34', 'FN': '14', 'precision': '0.922', 'recall': '0.967', 'f1': '0.944'}\n",
      "\n",
      "Episode 4 finished\n",
      "{'coverage_prop': '0.984', 'intensity_prop': '0.761', 'ms1ms2_ratio': '0.178', 'efficiency': '0.292', 'TP': '389', 'FP': '41', 'FN': '7', 'precision': '0.905', 'recall': '0.982', 'f1': '0.942'}\n",
      "\n",
      "Episode 5 finished\n",
      "{'coverage_prop': '0.960', 'intensity_prop': '0.815', 'ms1ms2_ratio': '0.421', 'efficiency': '0.177', 'TP': '186', 'FP': '6', 'FN': '8', 'precision': '0.969', 'recall': '0.959', 'f1': '0.964'}\n",
      "\n",
      "Episode 6 finished\n",
      "{'coverage_prop': '0.952', 'intensity_prop': '0.745', 'ms1ms2_ratio': '0.156', 'efficiency': '0.299', 'TP': '410', 'FP': '45', 'FN': '23', 'precision': '0.901', 'recall': '0.947', 'f1': '0.923'}\n",
      "\n",
      "Episode 7 finished\n",
      "{'coverage_prop': '0.956', 'intensity_prop': '0.810', 'ms1ms2_ratio': '0.349', 'efficiency': '0.165', 'TP': '188', 'FP': '7', 'FN': '9', 'precision': '0.964', 'recall': '0.954', 'f1': '0.959'}\n",
      "\n",
      "Episode 8 finished\n",
      "{'coverage_prop': '0.955', 'intensity_prop': '0.736', 'ms1ms2_ratio': '0.147', 'efficiency': '0.262', 'TP': '362', 'FP': '43', 'FN': '19', 'precision': '0.894', 'recall': '0.950', 'f1': '0.921'}\n",
      "\n",
      "Episode 9 finished\n",
      "{'coverage_prop': '0.969', 'intensity_prop': '0.765', 'ms1ms2_ratio': '0.185', 'efficiency': '0.255', 'TP': '342', 'FP': '30', 'FN': '12', 'precision': '0.919', 'recall': '0.966', 'f1': '0.942'}\n",
      "\n",
      "Episode 10 finished\n",
      "{'coverage_prop': '0.962', 'intensity_prop': '0.753', 'ms1ms2_ratio': '0.155', 'efficiency': '0.279', 'TP': '390', 'FP': '36', 'FN': '17', 'precision': '0.915', 'recall': '0.958', 'f1': '0.936'}\n",
      "\n",
      "Episode 11 finished\n",
      "{'coverage_prop': '0.956', 'intensity_prop': '0.794', 'ms1ms2_ratio': '0.274', 'efficiency': '0.184', 'TP': '229', 'FP': '9', 'FN': '11', 'precision': '0.962', 'recall': '0.954', 'f1': '0.958'}\n",
      "\n",
      "Episode 12 finished\n",
      "{'coverage_prop': '0.948', 'intensity_prop': '0.763', 'ms1ms2_ratio': '0.219', 'efficiency': '0.171', 'TP': '217', 'FP': '21', 'FN': '13', 'precision': '0.912', 'recall': '0.943', 'f1': '0.927'}\n",
      "\n",
      "Episode 13 finished\n",
      "{'coverage_prop': '0.960', 'intensity_prop': '0.755', 'ms1ms2_ratio': '0.194', 'efficiency': '0.200', 'TP': '254', 'FP': '34', 'FN': '12', 'precision': '0.882', 'recall': '0.955', 'f1': '0.917'}\n",
      "\n",
      "Episode 14 finished\n",
      "{'coverage_prop': '0.956', 'intensity_prop': '0.779', 'ms1ms2_ratio': '0.326', 'efficiency': '0.163', 'TP': '183', 'FP': '14', 'FN': '9', 'precision': '0.929', 'recall': '0.953', 'f1': '0.941'}\n",
      "\n",
      "Episode 15 finished\n",
      "{'coverage_prop': '0.978', 'intensity_prop': '0.784', 'ms1ms2_ratio': '0.187', 'efficiency': '0.273', 'TP': '368', 'FP': '30', 'FN': '9', 'precision': '0.925', 'recall': '0.976', 'f1': '0.950'}\n",
      "\n",
      "Episode 16 finished\n",
      "{'coverage_prop': '0.974', 'intensity_prop': '0.760', 'ms1ms2_ratio': '0.162', 'efficiency': '0.321', 'TP': '445', 'FP': '40', 'FN': '13', 'precision': '0.918', 'recall': '0.972', 'f1': '0.944'}\n",
      "\n",
      "Episode 17 finished\n",
      "{'coverage_prop': '0.960', 'intensity_prop': '0.764', 'ms1ms2_ratio': '0.173', 'efficiency': '0.240', 'TP': '329', 'FP': '28', 'FN': '15', 'precision': '0.922', 'recall': '0.956', 'f1': '0.939'}\n",
      "\n",
      "Episode 18 finished\n",
      "{'coverage_prop': '0.967', 'intensity_prop': '0.778', 'ms1ms2_ratio': '0.220', 'efficiency': '0.210', 'TP': '268', 'FP': '24', 'FN': '10', 'precision': '0.918', 'recall': '0.964', 'f1': '0.940'}\n",
      "\n",
      "Episode 19 finished\n",
      "{'coverage_prop': '0.974', 'intensity_prop': '0.792', 'ms1ms2_ratio': '0.214', 'efficiency': '0.184', 'TP': '240', 'FP': '18', 'FN': '7', 'precision': '0.930', 'recall': '0.972', 'f1': '0.950'}\n",
      "\n",
      "Episode 20 finished\n",
      "{'coverage_prop': '0.940', 'intensity_prop': '0.736', 'ms1ms2_ratio': '0.163', 'efficiency': '0.292', 'TP': '397', 'FP': '43', 'FN': '28', 'precision': '0.902', 'recall': '0.934', 'f1': '0.918'}\n",
      "\n",
      "Episode 21 finished\n",
      "{'coverage_prop': '0.953', 'intensity_prop': '0.785', 'ms1ms2_ratio': '0.353', 'efficiency': '0.190', 'TP': '209', 'FP': '14', 'FN': '11', 'precision': '0.937', 'recall': '0.950', 'f1': '0.944'}\n",
      "\n",
      "Episode 22 finished\n",
      "{'coverage_prop': '0.969', 'intensity_prop': '0.772', 'ms1ms2_ratio': '0.201', 'efficiency': '0.219', 'TP': '287', 'FP': '25', 'FN': '10', 'precision': '0.920', 'recall': '0.966', 'f1': '0.943'}\n",
      "\n",
      "Episode 23 finished\n",
      "{'coverage_prop': '0.948', 'intensity_prop': '0.769', 'ms1ms2_ratio': '0.249', 'efficiency': '0.220', 'TP': '268', 'FP': '26', 'FN': '16', 'precision': '0.912', 'recall': '0.944', 'f1': '0.927'}\n",
      "\n",
      "Episode 24 finished\n",
      "{'coverage_prop': '0.983', 'intensity_prop': '0.777', 'ms1ms2_ratio': '0.192', 'efficiency': '0.234', 'TP': '312', 'FP': '27', 'FN': '6', 'precision': '0.920', 'recall': '0.981', 'f1': '0.950'}\n",
      "\n",
      "Episode 25 finished\n",
      "{'coverage_prop': '0.982', 'intensity_prop': '0.781', 'ms1ms2_ratio': '0.183', 'efficiency': '0.266', 'TP': '356', 'FP': '33', 'FN': '7', 'precision': '0.915', 'recall': '0.981', 'f1': '0.947'}\n",
      "\n",
      "Episode 26 finished\n",
      "{'coverage_prop': '0.966', 'intensity_prop': '0.825', 'ms1ms2_ratio': '0.358', 'efficiency': '0.168', 'TP': '188', 'FP': '8', 'FN': '7', 'precision': '0.959', 'recall': '0.964', 'f1': '0.962'}\n",
      "\n",
      "Episode 27 finished\n",
      "{'coverage_prop': '0.968', 'intensity_prop': '0.800', 'ms1ms2_ratio': '0.254', 'efficiency': '0.205', 'TP': '260', 'FP': '12', 'FN': '9', 'precision': '0.956', 'recall': '0.967', 'f1': '0.961'}\n",
      "\n",
      "Episode 28 finished\n",
      "{'coverage_prop': '0.949', 'intensity_prop': '0.738', 'ms1ms2_ratio': '0.147', 'efficiency': '0.303', 'TP': '424', 'FP': '44', 'FN': '25', 'precision': '0.906', 'recall': '0.944', 'f1': '0.925'}\n",
      "\n",
      "Episode 29 finished\n",
      "{'coverage_prop': '0.964', 'intensity_prop': '0.792', 'ms1ms2_ratio': '0.203', 'efficiency': '0.206', 'TP': '272', 'FP': '21', 'FN': '11', 'precision': '0.928', 'recall': '0.961', 'f1': '0.944'}\n",
      "\n"
     ]
    }
   ],
   "source": [
    "method = 'WeightedDEW_Controller'\n",
    "print('method = %s' % method)\n",
    "print()\n",
    "\n",
    "eval_results = []\n",
    "for i in range(len(chem_list)):\n",
    "    \n",
    "    spike_noise = None\n",
    "    if enable_spike_noise:\n",
    "        noise_params = params['noise']\n",
    "        noise_density = noise_params['noise_density']\n",
    "        noise_max_val = noise_params['noise_max_val']\n",
    "        noise_min_mz = noise_params['mz_range'][0]\n",
    "        noise_max_mz = noise_params['mz_range'][1]\n",
    "        spike_noise = UniformSpikeNoise(noise_density, noise_max_val, min_mz=noise_min_mz,\n",
    "                                        max_mz=noise_max_mz)\n",
    "\n",
    "    chems = chem_list[i]\n",
    "    mass_spec = IndependentMassSpectrometer(ionisation_mode, chems, spike_noise=spike_noise)\n",
    "    \n",
    "    controller = WeightedDEWController(ionisation_mode, weighteddew_N, isolation_window, mz_tol, t1,\n",
    "                                min_ms1_intensity, exclusion_t_0=t0)\n",
    "    env = Environment(mass_spec, controller, rt_range[0], rt_range[1], progress_bar=False, out_dir=out_dir,\n",
    "                      out_file='%s_%d.mzML' % (method, i), save_eval=True)\n",
    "    env.run()\n",
    "    \n",
    "    eval_res = evaluate(env, intensity_threshold)\n",
    "    # eval_res['total_rewards'] = 0\n",
    "    eval_results.append(eval_res)\n",
    "    print('Episode %d finished' % i)\n",
    "    print(eval_res)\n",
    "    print()    \n",
    "    \n",
    "method_eval_results[method] = eval_results"
   ]
  },
  {
   "cell_type": "markdown",
   "metadata": {},
   "source": [
    "#### Plotting"
   ]
  },
  {
   "cell_type": "markdown",
   "metadata": {},
   "source": [
    "Flatten data into dataframe"
   ]
  },
  {
   "cell_type": "code",
   "execution_count": 30,
   "metadata": {
    "execution": {
     "iopub.execute_input": "2023-06-13T06:22:56.748247Z",
     "iopub.status.busy": "2023-06-13T06:22:56.748108Z",
     "iopub.status.idle": "2023-06-13T06:22:56.792833Z",
     "shell.execute_reply": "2023-06-13T06:22:56.792411Z",
     "shell.execute_reply.started": "2023-06-13T06:22:56.748231Z"
    }
   },
   "outputs": [
    {
     "data": {
      "text/html": [
       "<div>\n",
       "<style scoped>\n",
       "    .dataframe tbody tr th:only-of-type {\n",
       "        vertical-align: middle;\n",
       "    }\n",
       "\n",
       "    .dataframe tbody tr th {\n",
       "        vertical-align: top;\n",
       "    }\n",
       "\n",
       "    .dataframe thead th {\n",
       "        text-align: right;\n",
       "    }\n",
       "</style>\n",
       "<table border=\"1\" class=\"dataframe\">\n",
       "  <thead>\n",
       "    <tr style=\"text-align: right;\">\n",
       "      <th></th>\n",
       "      <th>method</th>\n",
       "      <th>total_rewards</th>\n",
       "      <th>invalid_action_count</th>\n",
       "      <th>coverage_prop</th>\n",
       "      <th>intensity_prop</th>\n",
       "      <th>ms1/ms2_ratio</th>\n",
       "      <th>efficiency</th>\n",
       "      <th>precision</th>\n",
       "      <th>recall</th>\n",
       "      <th>f1</th>\n",
       "    </tr>\n",
       "  </thead>\n",
       "  <tbody>\n",
       "    <tr>\n",
       "      <th>0</th>\n",
       "      <td>random</td>\n",
       "      <td>79.496148</td>\n",
       "      <td>0.0</td>\n",
       "      <td>0.932</td>\n",
       "      <td>0.690</td>\n",
       "      <td>0.131</td>\n",
       "      <td>0.251</td>\n",
       "      <td>0.844</td>\n",
       "      <td>0.920</td>\n",
       "      <td>0.880</td>\n",
       "    </tr>\n",
       "    <tr>\n",
       "      <th>1</th>\n",
       "      <td>random</td>\n",
       "      <td>148.353371</td>\n",
       "      <td>0.0</td>\n",
       "      <td>0.943</td>\n",
       "      <td>0.765</td>\n",
       "      <td>0.202</td>\n",
       "      <td>0.173</td>\n",
       "      <td>0.907</td>\n",
       "      <td>0.937</td>\n",
       "      <td>0.922</td>\n",
       "    </tr>\n",
       "    <tr>\n",
       "      <th>2</th>\n",
       "      <td>random</td>\n",
       "      <td>188.042808</td>\n",
       "      <td>0.0</td>\n",
       "      <td>0.949</td>\n",
       "      <td>0.694</td>\n",
       "      <td>0.149</td>\n",
       "      <td>0.243</td>\n",
       "      <td>0.826</td>\n",
       "      <td>0.939</td>\n",
       "      <td>0.879</td>\n",
       "    </tr>\n",
       "    <tr>\n",
       "      <th>3</th>\n",
       "      <td>random</td>\n",
       "      <td>208.366931</td>\n",
       "      <td>0.0</td>\n",
       "      <td>0.938</td>\n",
       "      <td>0.711</td>\n",
       "      <td>0.140</td>\n",
       "      <td>0.271</td>\n",
       "      <td>0.849</td>\n",
       "      <td>0.928</td>\n",
       "      <td>0.887</td>\n",
       "    </tr>\n",
       "    <tr>\n",
       "      <th>4</th>\n",
       "      <td>random</td>\n",
       "      <td>149.854901</td>\n",
       "      <td>0.0</td>\n",
       "      <td>0.961</td>\n",
       "      <td>0.719</td>\n",
       "      <td>0.148</td>\n",
       "      <td>0.272</td>\n",
       "      <td>0.840</td>\n",
       "      <td>0.954</td>\n",
       "      <td>0.894</td>\n",
       "    </tr>\n",
       "  </tbody>\n",
       "</table>\n",
       "</div>"
      ],
      "text/plain": [
       "   method  total_rewards  invalid_action_count  coverage_prop  intensity_prop  \\\n",
       "0  random      79.496148                   0.0          0.932           0.690   \n",
       "1  random     148.353371                   0.0          0.943           0.765   \n",
       "2  random     188.042808                   0.0          0.949           0.694   \n",
       "3  random     208.366931                   0.0          0.938           0.711   \n",
       "4  random     149.854901                   0.0          0.961           0.719   \n",
       "\n",
       "   ms1/ms2_ratio  efficiency  precision  recall     f1  \n",
       "0          0.131       0.251      0.844   0.920  0.880  \n",
       "1          0.202       0.173      0.907   0.937  0.922  \n",
       "2          0.149       0.243      0.826   0.939  0.879  \n",
       "3          0.140       0.271      0.849   0.928  0.887  \n",
       "4          0.148       0.272      0.840   0.954  0.894  "
      ]
     },
     "execution_count": 30,
     "metadata": {},
     "output_type": "execute_result"
    }
   ],
   "source": [
    "data = []\n",
    "for method in method_eval_results:\n",
    "    eval_results = method_eval_results[method]\n",
    "    for eval_res in eval_results:\n",
    "        try:\n",
    "            total_rewards = float(eval_res['total_rewards'])       \n",
    "        except KeyError:\n",
    "            total_rewards = 0.0\n",
    "\n",
    "        try:\n",
    "            invalid_action_count = float(eval_res['invalid_action_count'])       \n",
    "        except KeyError:\n",
    "            invalid_action_count = 0.0\n",
    "\n",
    "        row = (\n",
    "            method, \n",
    "            total_rewards, \n",
    "            invalid_action_count,\n",
    "            float(eval_res['coverage_prop']), \n",
    "            float(eval_res['intensity_prop']), \n",
    "            float(eval_res['ms1ms2_ratio']), \n",
    "            float(eval_res['efficiency']),\n",
    "            float(eval_res['precision']),\n",
    "            float(eval_res['recall']),\n",
    "            float(eval_res['f1']),            \n",
    "        )\n",
    "        data.append(row)\n",
    "        \n",
    "df = pd.DataFrame(data, columns=['method', 'total_rewards', 'invalid_action_count', \n",
    "    'coverage_prop', 'intensity_prop', 'ms1/ms2_ratio', 'efficiency', \n",
    "    'precision', 'recall', 'f1'])\n",
    "# df.set_index('method', inplace=True)\n",
    "df.head()"
   ]
  },
  {
   "cell_type": "code",
   "execution_count": 31,
   "metadata": {
    "execution": {
     "iopub.execute_input": "2023-06-13T06:22:56.793901Z",
     "iopub.status.busy": "2023-06-13T06:22:56.793551Z",
     "iopub.status.idle": "2023-06-13T06:22:56.824583Z",
     "shell.execute_reply": "2023-06-13T06:22:56.824092Z",
     "shell.execute_reply.started": "2023-06-13T06:22:56.793883Z"
    }
   },
   "outputs": [],
   "source": [
    "sns.set_context(\"poster\")"
   ]
  },
  {
   "cell_type": "code",
   "execution_count": 32,
   "metadata": {
    "execution": {
     "iopub.execute_input": "2023-06-13T06:22:56.825549Z",
     "iopub.status.busy": "2023-06-13T06:22:56.825403Z",
     "iopub.status.idle": "2023-06-13T06:22:57.012931Z",
     "shell.execute_reply": "2023-06-13T06:22:57.012352Z",
     "shell.execute_reply.started": "2023-06-13T06:22:56.825532Z"
    }
   },
   "outputs": [
    {
     "data": {
      "text/plain": [
       "Text(0.5, 1.0, 'Total Rewards')"
      ]
     },
     "execution_count": 32,
     "metadata": {},
     "output_type": "execute_result"
    },
    {
     "data": {
      "image/png": "[encoded data removed]",
      "text/plain": [
       "<Figure size 720x360 with 1 Axes>"
      ]
     },
     "metadata": {
      "needs_background": "light"
     },
     "output_type": "display_data"
    }
   ],
   "source": [
    "plt.figure(figsize=(10, 5))\n",
    "sns.boxplot(data=df, x='method', y='total_rewards')\n",
    "plt.xticks(rotation=90)\n",
    "plt.title('Total Rewards')"
   ]
  },
  {
   "cell_type": "code",
   "execution_count": 33,
   "metadata": {
    "execution": {
     "iopub.execute_input": "2023-06-13T06:22:57.013789Z",
     "iopub.status.busy": "2023-06-13T06:22:57.013645Z",
     "iopub.status.idle": "2023-06-13T06:22:57.195485Z",
     "shell.execute_reply": "2023-06-13T06:22:57.194817Z",
     "shell.execute_reply.started": "2023-06-13T06:22:57.013771Z"
    }
   },
   "outputs": [
    {
     "data": {
      "text/plain": [
       "Text(0.5, 1.0, 'Invalid Action Count')"
      ]
     },
     "execution_count": 33,
     "metadata": {},
     "output_type": "execute_result"
    },
    {
     "data": {
      "image/png": "[encoded data removed]",
      "text/plain": [
       "<Figure size 720x360 with 1 Axes>"
      ]
     },
     "metadata": {
      "needs_background": "light"
     },
     "output_type": "display_data"
    }
   ],
   "source": [
    "plt.figure(figsize=(10, 5))\n",
    "sns.boxplot(data=df, x='method', y='invalid_action_count')\n",
    "plt.xticks(rotation=90)\n",
    "plt.title('Invalid Action Count')"
   ]
  },
  {
   "cell_type": "code",
   "execution_count": 34,
   "metadata": {
    "execution": {
     "iopub.execute_input": "2023-06-13T06:22:57.196619Z",
     "iopub.status.busy": "2023-06-13T06:22:57.196464Z",
     "iopub.status.idle": "2023-06-13T06:22:57.381949Z",
     "shell.execute_reply": "2023-06-13T06:22:57.381501Z",
     "shell.execute_reply.started": "2023-06-13T06:22:57.196600Z"
    }
   },
   "outputs": [
    {
     "data": {
      "text/plain": [
       "Text(0.5, 1.0, 'Coverage Proportion')"
      ]
     },
     "execution_count": 34,
     "metadata": {},
     "output_type": "execute_result"
    },
    {
     "data": {
      "image/png": "[encoded data removed]",
      "text/plain": [
       "<Figure size 720x360 with 1 Axes>"
      ]
     },
     "metadata": {
      "needs_background": "light"
     },
     "output_type": "display_data"
    }
   ],
   "source": [
    "plt.figure(figsize=(10, 5))\n",
    "sns.boxplot(data=df, x='method', y='coverage_prop')\n",
    "plt.xticks(rotation=90)\n",
    "plt.title('Coverage Proportion')"
   ]
  },
  {
   "cell_type": "code",
   "execution_count": 35,
   "metadata": {
    "execution": {
     "iopub.execute_input": "2023-06-13T06:22:57.382829Z",
     "iopub.status.busy": "2023-06-13T06:22:57.382693Z",
     "iopub.status.idle": "2023-06-13T06:22:57.550668Z",
     "shell.execute_reply": "2023-06-13T06:22:57.550238Z",
     "shell.execute_reply.started": "2023-06-13T06:22:57.382813Z"
    }
   },
   "outputs": [
    {
     "data": {
      "text/plain": [
       "Text(0.5, 1.0, 'Intensity Proportion')"
      ]
     },
     "execution_count": 35,
     "metadata": {},
     "output_type": "execute_result"
    },
    {
     "data": {
      "image/png": "[encoded data removed]",
      "text/plain": [
       "<Figure size 720x360 with 1 Axes>"
      ]
     },
     "metadata": {
      "needs_background": "light"
     },
     "output_type": "display_data"
    }
   ],
   "source": [
    "plt.figure(figsize=(10, 5))\n",
    "sns.boxplot(data=df, x='method', y='intensity_prop')\n",
    "plt.xticks(rotation=90)\n",
    "plt.title('Intensity Proportion')"
   ]
  },
  {
   "cell_type": "code",
   "execution_count": 36,
   "metadata": {
    "execution": {
     "iopub.execute_input": "2023-06-13T06:22:57.552010Z",
     "iopub.status.busy": "2023-06-13T06:22:57.551865Z",
     "iopub.status.idle": "2023-06-13T06:22:57.719524Z",
     "shell.execute_reply": "2023-06-13T06:22:57.719113Z",
     "shell.execute_reply.started": "2023-06-13T06:22:57.551992Z"
    }
   },
   "outputs": [
    {
     "data": {
      "text/plain": [
       "Text(0.5, 1.0, 'MS1/MS2 Ratio')"
      ]
     },
     "execution_count": 36,
     "metadata": {},
     "output_type": "execute_result"
    },
    {
     "data": {
      "image/png": "[encoded data removed]",
      "text/plain": [
       "<Figure size 720x360 with 1 Axes>"
      ]
     },
     "metadata": {
      "needs_background": "light"
     },
     "output_type": "display_data"
    }
   ],
   "source": [
    "plt.figure(figsize=(10, 5))\n",
    "sns.boxplot(data=df, x='method', y='ms1/ms2_ratio')\n",
    "plt.xticks(rotation=90)\n",
    "plt.title('MS1/MS2 Ratio')"
   ]
  },
  {
   "cell_type": "code",
   "execution_count": 37,
   "metadata": {
    "execution": {
     "iopub.execute_input": "2023-06-13T06:22:57.720361Z",
     "iopub.status.busy": "2023-06-13T06:22:57.720227Z",
     "iopub.status.idle": "2023-06-13T06:22:57.890232Z",
     "shell.execute_reply": "2023-06-13T06:22:57.889857Z",
     "shell.execute_reply.started": "2023-06-13T06:22:57.720346Z"
    }
   },
   "outputs": [
    {
     "data": {
      "text/plain": [
       "Text(0.5, 1.0, 'Efficiency')"
      ]
     },
     "execution_count": 37,
     "metadata": {},
     "output_type": "execute_result"
    },
    {
     "data": {
      "image/png": "[encoded data removed]",
      "text/plain": [
       "<Figure size 720x360 with 1 Axes>"
      ]
     },
     "metadata": {
      "needs_background": "light"
     },
     "output_type": "display_data"
    }
   ],
   "source": [
    "plt.figure(figsize=(10, 5))\n",
    "sns.boxplot(data=df, x='method', y='efficiency')\n",
    "plt.xticks(rotation=90)\n",
    "plt.title('Efficiency')"
   ]
  },
  {
   "cell_type": "code",
   "execution_count": 38,
   "metadata": {
    "execution": {
     "iopub.execute_input": "2023-06-13T06:22:57.891083Z",
     "iopub.status.busy": "2023-06-13T06:22:57.890942Z",
     "iopub.status.idle": "2023-06-13T06:22:58.059675Z",
     "shell.execute_reply": "2023-06-13T06:22:58.059023Z",
     "shell.execute_reply.started": "2023-06-13T06:22:57.891063Z"
    }
   },
   "outputs": [
    {
     "data": {
      "text/plain": [
       "Text(0.5, 1.0, 'Precision')"
      ]
     },
     "execution_count": 38,
     "metadata": {},
     "output_type": "execute_result"
    },
    {
     "data": {
      "image/png": "[encoded data removed]",
      "text/plain": [
       "<Figure size 720x360 with 1 Axes>"
      ]
     },
     "metadata": {
      "needs_background": "light"
     },
     "output_type": "display_data"
    }
   ],
   "source": [
    "plt.figure(figsize=(10, 5))\n",
    "sns.boxplot(data=df, x='method', y='precision')\n",
    "plt.xticks(rotation=90)\n",
    "plt.title('Precision')"
   ]
  },
  {
   "cell_type": "code",
   "execution_count": 39,
   "metadata": {
    "execution": {
     "iopub.execute_input": "2023-06-13T06:22:58.060661Z",
     "iopub.status.busy": "2023-06-13T06:22:58.060513Z",
     "iopub.status.idle": "2023-06-13T06:22:58.222047Z",
     "shell.execute_reply": "2023-06-13T06:22:58.221471Z",
     "shell.execute_reply.started": "2023-06-13T06:22:58.060642Z"
    }
   },
   "outputs": [
    {
     "data": {
      "text/plain": [
       "Text(0.5, 1.0, 'Recall')"
      ]
     },
     "execution_count": 39,
     "metadata": {},
     "output_type": "execute_result"
    },
    {
     "data": {
      "image/png": "[encoded data removed]",
      "text/plain": [
       "<Figure size 720x360 with 1 Axes>"
      ]
     },
     "metadata": {
      "needs_background": "light"
     },
     "output_type": "display_data"
    }
   ],
   "source": [
    "plt.figure(figsize=(10, 5))\n",
    "sns.boxplot(data=df, x='method', y='recall')\n",
    "plt.xticks(rotation=90)\n",
    "plt.title('Recall')"
   ]
  },
  {
   "cell_type": "code",
   "execution_count": 40,
   "metadata": {
    "execution": {
     "iopub.execute_input": "2023-06-13T06:22:58.223745Z",
     "iopub.status.busy": "2023-06-13T06:22:58.222977Z",
     "iopub.status.idle": "2023-06-13T06:22:58.390177Z",
     "shell.execute_reply": "2023-06-13T06:22:58.389683Z",
     "shell.execute_reply.started": "2023-06-13T06:22:58.223726Z"
    }
   },
   "outputs": [
    {
     "data": {
      "text/plain": [
       "Text(0.5, 1.0, 'F1')"
      ]
     },
     "execution_count": 40,
     "metadata": {},
     "output_type": "execute_result"
    },
    {
     "data": {
      "image/png": "[encoded data removed]",
      "text/plain": [
       "<Figure size 720x360 with 1 Axes>"
      ]
     },
     "metadata": {
      "needs_background": "light"
     },
     "output_type": "display_data"
    }
   ],
   "source": [
    "plt.figure(figsize=(10, 5))\n",
    "sns.boxplot(data=df, x='method', y='f1')\n",
    "plt.xticks(rotation=90)\n",
    "plt.title('F1')"
   ]
  },
  {
   "cell_type": "code",
   "execution_count": 41,
   "metadata": {
    "execution": {
     "iopub.execute_input": "2023-06-13T06:22:58.392488Z",
     "iopub.status.busy": "2023-06-13T06:22:58.392351Z",
     "iopub.status.idle": "2023-06-13T06:22:58.426048Z",
     "shell.execute_reply": "2023-06-13T06:22:58.425496Z",
     "shell.execute_reply.started": "2023-06-13T06:22:58.392472Z"
    }
   },
   "outputs": [],
   "source": [
    "df.to_pickle('evaluation_1.0E6_horizon_%d_alpha_%.2f_beta_%.2f.p' % (horizon, env_alpha, env_beta))"
   ]
  },
  {
   "cell_type": "code",
   "execution_count": null,
   "metadata": {},
   "outputs": [],
   "source": []
  }
 ],
 "metadata": {
  "kernelspec": {
   "display_name": "Python 3 (ipykernel)",
   "language": "python",
   "name": "python3"
  },
  "language_info": {
   "codemirror_mode": {
    "name": "ipython",
    "version": 3
   },
   "file_extension": ".py",
   "mimetype": "text/x-python",
   "name": "python",
   "nbconvert_exporter": "python",
   "pygments_lexer": "ipython3",
   "version": "3.8.12"
  },
  "vscode": {
   "interpreter": {
    "hash": "05a318a39bdd806c866a458e5513009c97d8e8627387c5b7a048c974669be487"
   }
  }
 },
 "nbformat": 4,
 "nbformat_minor": 4
}
