{
 "cells": [
  {
   "cell_type": "markdown",
   "metadata": {},
   "source": [
    "# Evaluation using QCB chemicals (medium)"
   ]
  },
  {
   "cell_type": "code",
   "execution_count": 1,
   "metadata": {
    "execution": {
     "iopub.execute_input": "2023-06-11T02:05:46.301414Z",
     "iopub.status.busy": "2023-06-11T02:05:46.300765Z",
     "iopub.status.idle": "2023-06-11T02:05:46.861303Z",
     "shell.execute_reply": "2023-06-11T02:05:46.860773Z",
     "shell.execute_reply.started": "2023-06-11T02:05:46.301341Z"
    },
    "tags": []
   },
   "outputs": [],
   "source": [
    "%matplotlib inline\n",
    "\n",
    "%load_ext autoreload\n",
    "%autoreload 2"
   ]
  },
  {
   "cell_type": "code",
   "execution_count": 2,
   "metadata": {
    "execution": {
     "iopub.execute_input": "2023-06-11T02:05:46.862974Z",
     "iopub.status.busy": "2023-06-11T02:05:46.862516Z",
     "iopub.status.idle": "2023-06-11T02:05:46.872670Z",
     "shell.execute_reply": "2023-06-11T02:05:46.872147Z",
     "shell.execute_reply.started": "2023-06-11T02:05:46.862952Z"
    }
   },
   "outputs": [],
   "source": [
    "import sys\n",
    "sys.path.append('../..')"
   ]
  },
  {
   "cell_type": "code",
   "execution_count": 3,
   "metadata": {
    "execution": {
     "iopub.execute_input": "2023-06-11T02:05:46.873572Z",
     "iopub.status.busy": "2023-06-11T02:05:46.873417Z",
     "iopub.status.idle": "2023-06-11T02:05:49.945749Z",
     "shell.execute_reply": "2023-06-11T02:05:49.945278Z",
     "shell.execute_reply.started": "2023-06-11T02:05:46.873554Z"
    },
    "tags": []
   },
   "outputs": [],
   "source": [
    "import os\n",
    "from os.path import exists\n",
    "import copy\n",
    "\n",
    "import pylab as plt\n",
    "from loguru import logger\n",
    "import seaborn as sns\n",
    "import gymnasium as gym\n",
    "import pandas as pd\n",
    "import torch\n",
    "\n",
    "from vimms.Evaluation import EvaluationData\n",
    "from vimms.Common import set_log_level_warning, load_obj, save_obj\n",
    "from vimms.Noise import UniformSpikeNoise\n",
    "from vimms.Roi import RoiBuilderParams, SmartRoiParams\n",
    "\n",
    "from vimms_gym.common import METHOD_DQN, evaluate\n",
    "from vimms_gym.chemicals import generate_chemicals\n",
    "from vimms_gym.evaluation import run_method\n",
    "from vimms_gym.common import METHOD_RANDOM, METHOD_TOPN\n",
    "from vimms_gym.experiments import preset_qcb_medium\n",
    "\n",
    "from model.QNetwork import get_QNetwork, QNETWORK_CNN\n",
    "from model.DQN_utils import make_env, masked_epsilon_greedy"
   ]
  },
  {
   "cell_type": "markdown",
   "metadata": {},
   "source": [
    "# 1. Parameters"
   ]
  },
  {
   "cell_type": "markdown",
   "metadata": {},
   "source": [
    "Parameters that will be used throughout this notebook. Should be the same as the training ones."
   ]
  },
  {
   "cell_type": "markdown",
   "metadata": {},
   "source": [
    "Chemical generation parameters"
   ]
  },
  {
   "cell_type": "code",
   "execution_count": 4,
   "metadata": {
    "execution": {
     "iopub.execute_input": "2023-06-11T02:05:49.946981Z",
     "iopub.status.busy": "2023-06-11T02:05:49.946836Z",
     "iopub.status.idle": "2023-06-11T02:05:50.018655Z",
     "shell.execute_reply": "2023-06-11T02:05:50.018162Z",
     "shell.execute_reply.started": "2023-06-11T02:05:49.946964Z"
    }
   },
   "outputs": [
    {
     "name": "stderr",
     "output_type": "stream",
     "text": [
      "\u001b[32m2023-06-11 02:05:49.975\u001b[0m | \u001b[1mINFO    \u001b[0m | \u001b[36mvimms_gym.experiments\u001b[0m:\u001b[36mget_samplers\u001b[0m:\u001b[36m303\u001b[0m - \u001b[1mLoaded /notebooks/vimms-gym/pickles/samplers_QCB_medium_extracted.p\u001b[0m\n"
     ]
    },
    {
     "data": {
      "text/plain": [
       "({'chemical_creator': {'mz_range': (100, 600),\n",
       "   'rt_range': (400, 800),\n",
       "   'intensity_range': (10000.0, 1e+20),\n",
       "   'n_chemicals': (200, 500),\n",
       "   'mz_sampler': <vimms.ChemicalSamplers.MZMLFormulaSampler at 0x7f3aea1f2ee0>,\n",
       "   'ri_sampler': <vimms.ChemicalSamplers.MZMLRTandIntensitySampler at 0x7f3a3a955fa0>,\n",
       "   'cr_sampler': <vimms.ChemicalSamplers.MZMLChromatogramSampler at 0x7f3a3aa2a610>},\n",
       "  'noise': {'enable_spike_noise': True,\n",
       "   'noise_density': 0.1,\n",
       "   'noise_max_val': 1000.0,\n",
       "   'mz_range': (100, 600)},\n",
       "  'env': {'ionisation_mode': 'Positive',\n",
       "   'rt_range': (400, 800),\n",
       "   'isolation_window': 0.7,\n",
       "   'use_dew': False,\n",
       "   'mz_tol': 10,\n",
       "   'rt_tol': 5,\n",
       "   'min_ms1_intensity': 5000,\n",
       "   'alpha': 0.25,\n",
       "   'beta': 0.5}},\n",
       " 30)"
      ]
     },
     "execution_count": 4,
     "metadata": {},
     "output_type": "execute_result"
    }
   ],
   "source": [
    "env_alpha = 0.25\n",
    "env_beta = 0.50\n",
    "extract = True\n",
    "params, max_peaks = preset_qcb_medium(None, alpha=env_alpha, beta=env_beta, extract_chromatograms=extract)\n",
    "params, max_peaks"
   ]
  },
  {
   "cell_type": "code",
   "execution_count": 5,
   "metadata": {
    "execution": {
     "iopub.execute_input": "2023-06-11T02:05:50.020391Z",
     "iopub.status.busy": "2023-06-11T02:05:50.020207Z",
     "iopub.status.idle": "2023-06-11T02:05:50.048941Z",
     "shell.execute_reply": "2023-06-11T02:05:50.048491Z",
     "shell.execute_reply.started": "2023-06-11T02:05:50.020370Z"
    }
   },
   "outputs": [],
   "source": [
    "# n_chemicals = (200, 500)\n",
    "# mz_range = (100, 600)\n",
    "# rt_range = (400, 800)\n",
    "# intensity_range = (1E4, 1E20)"
   ]
  },
  {
   "cell_type": "markdown",
   "metadata": {},
   "source": [
    "Evaluation parameters"
   ]
  },
  {
   "cell_type": "code",
   "execution_count": 6,
   "metadata": {
    "execution": {
     "iopub.execute_input": "2023-06-11T02:05:50.050111Z",
     "iopub.status.busy": "2023-06-11T02:05:50.049985Z",
     "iopub.status.idle": "2023-06-11T02:05:50.077066Z",
     "shell.execute_reply": "2023-06-11T02:05:50.076666Z",
     "shell.execute_reply.started": "2023-06-11T02:05:50.050095Z"
    }
   },
   "outputs": [],
   "source": [
    "env_name = 'DDAEnv'\n",
    "intensity_threshold = 0.5\n",
    "\n",
    "dqn_in_dir = 'DQN_1.0E6'\n",
    "\n",
    "# ppo_in_dir = os.path.join('..', '..', 'tune', 'QCB_resimulated_medium')\n",
    "ppo_in_dir = 'PPO_1.0E6'\n",
    "\n",
    "methods = [\n",
    "    METHOD_RANDOM,\n",
    "    METHOD_TOPN,\n",
    "]\n",
    "valid_random = True\n",
    "n_eval_episodes = 30"
   ]
  },
  {
   "cell_type": "code",
   "execution_count": 7,
   "metadata": {
    "execution": {
     "iopub.execute_input": "2023-06-11T02:05:50.077889Z",
     "iopub.status.busy": "2023-06-11T02:05:50.077776Z",
     "iopub.status.idle": "2023-06-11T02:05:50.105156Z",
     "shell.execute_reply": "2023-06-11T02:05:50.104739Z",
     "shell.execute_reply.started": "2023-06-11T02:05:50.077875Z"
    }
   },
   "outputs": [],
   "source": [
    "# topN parameters\n",
    "topN_N = 10\n",
    "topN_rt_tol = 5\n",
    "min_ms1_intensity = 5000\n",
    "\n",
    "# smartroi parameters\n",
    "alpha = 2\n",
    "beta = 0.5\n",
    "ils = 0\n",
    "smartroi_N = topN_N\n",
    "smartroi_dew = topN_rt_tol\n",
    "\n",
    "# weighteddew parameters\n",
    "t0 = 3\n",
    "t1 = 15\n",
    "weighteddew_N = 10"
   ]
  },
  {
   "cell_type": "markdown",
   "metadata": {},
   "source": [
    "## Generate chemical sets for evaluation"
   ]
  },
  {
   "cell_type": "code",
   "execution_count": 8,
   "metadata": {
    "execution": {
     "iopub.execute_input": "2023-06-11T02:05:50.105915Z",
     "iopub.status.busy": "2023-06-11T02:05:50.105796Z",
     "iopub.status.idle": "2023-06-11T02:05:51.986710Z",
     "shell.execute_reply": "2023-06-11T02:05:51.986167Z",
     "shell.execute_reply.started": "2023-06-11T02:05:50.105900Z"
    }
   },
   "outputs": [
    {
     "name": "stdout",
     "output_type": "stream",
     "text": [
      "426\n",
      "262\n",
      "394\n",
      "452\n",
      "437\n",
      "200\n",
      "478\n",
      "204\n",
      "424\n",
      "384\n",
      "443\n",
      "249\n",
      "251\n",
      "300\n",
      "206\n",
      "407\n",
      "498\n",
      "372\n",
      "302\n",
      "265\n",
      "468\n",
      "234\n",
      "322\n",
      "310\n",
      "345\n",
      "396\n",
      "203\n",
      "281\n",
      "493\n",
      "304\n"
     ]
    }
   ],
   "source": [
    "fname = 'QCB_chems_medium.p'\n",
    "found = exists(fname)\n",
    "if found:\n",
    "    chem_list = load_obj(fname)\n",
    "    for chems in chem_list:\n",
    "        print(len(chems))"
   ]
  },
  {
   "cell_type": "markdown",
   "metadata": {},
   "source": [
    "Generate new chemicals if not found"
   ]
  },
  {
   "cell_type": "code",
   "execution_count": 9,
   "metadata": {
    "execution": {
     "iopub.execute_input": "2023-06-11T02:05:51.987541Z",
     "iopub.status.busy": "2023-06-11T02:05:51.987420Z",
     "iopub.status.idle": "2023-06-11T02:05:52.018258Z",
     "shell.execute_reply": "2023-06-11T02:05:52.017828Z",
     "shell.execute_reply.started": "2023-06-11T02:05:51.987526Z"
    }
   },
   "outputs": [
    {
     "data": {
      "text/plain": [
       "{'mz_range': (100, 600),\n",
       " 'rt_range': (400, 800),\n",
       " 'intensity_range': (10000.0, 1e+20),\n",
       " 'n_chemicals': (200, 500),\n",
       " 'mz_sampler': <vimms.ChemicalSamplers.MZMLFormulaSampler at 0x7f3aea1f2ee0>,\n",
       " 'ri_sampler': <vimms.ChemicalSamplers.MZMLRTandIntensitySampler at 0x7f3a3a955fa0>,\n",
       " 'cr_sampler': <vimms.ChemicalSamplers.MZMLChromatogramSampler at 0x7f3a3aa2a610>}"
      ]
     },
     "execution_count": 9,
     "metadata": {},
     "output_type": "execute_result"
    }
   ],
   "source": [
    "params['chemical_creator']"
   ]
  },
  {
   "cell_type": "code",
   "execution_count": 10,
   "metadata": {
    "execution": {
     "iopub.execute_input": "2023-06-11T02:05:52.018997Z",
     "iopub.status.busy": "2023-06-11T02:05:52.018877Z",
     "iopub.status.idle": "2023-06-11T02:05:52.047087Z",
     "shell.execute_reply": "2023-06-11T02:05:52.046705Z",
     "shell.execute_reply.started": "2023-06-11T02:05:52.018983Z"
    }
   },
   "outputs": [],
   "source": [
    "if not found:\n",
    "    repeat = 30\n",
    "    logger.warning('Generating chemicals')\n",
    "    \n",
    "    chemical_creator_params = params['chemical_creator']\n",
    "    chem_list = []\n",
    "    for i in range(repeat):\n",
    "        chems = generate_chemicals(chemical_creator_params)\n",
    "        print(len(chems))\n",
    "        chem_list.append(chems)\n",
    "        \n",
    "    save_obj(chem_list, fname)"
   ]
  },
  {
   "cell_type": "code",
   "execution_count": 11,
   "metadata": {
    "execution": {
     "iopub.execute_input": "2023-06-11T02:05:52.048419Z",
     "iopub.status.busy": "2023-06-11T02:05:52.047996Z",
     "iopub.status.idle": "2023-06-11T02:05:52.077435Z",
     "shell.execute_reply": "2023-06-11T02:05:52.077012Z",
     "shell.execute_reply.started": "2023-06-11T02:05:52.048401Z"
    }
   },
   "outputs": [
    {
     "data": {
      "text/plain": [
       "30"
      ]
     },
     "execution_count": 11,
     "metadata": {},
     "output_type": "execute_result"
    }
   ],
   "source": [
    "chem_list = chem_list[0:n_eval_episodes]\n",
    "len(chem_list)"
   ]
  },
  {
   "cell_type": "markdown",
   "metadata": {
    "tags": []
   },
   "source": [
    "# 2. Evaluation"
   ]
  },
  {
   "cell_type": "code",
   "execution_count": 12,
   "metadata": {
    "execution": {
     "iopub.execute_input": "2023-06-11T02:05:52.078225Z",
     "iopub.status.busy": "2023-06-11T02:05:52.078109Z",
     "iopub.status.idle": "2023-06-11T02:05:52.108238Z",
     "shell.execute_reply": "2023-06-11T02:05:52.107775Z",
     "shell.execute_reply.started": "2023-06-11T02:05:52.078211Z"
    }
   },
   "outputs": [
    {
     "data": {
      "text/plain": [
       "1"
      ]
     },
     "execution_count": 12,
     "metadata": {},
     "output_type": "execute_result"
    }
   ],
   "source": [
    "set_log_level_warning()"
   ]
  },
  {
   "cell_type": "code",
   "execution_count": 13,
   "metadata": {
    "execution": {
     "iopub.execute_input": "2023-06-11T02:05:52.108980Z",
     "iopub.status.busy": "2023-06-11T02:05:52.108858Z",
     "iopub.status.idle": "2023-06-11T02:05:52.137844Z",
     "shell.execute_reply": "2023-06-11T02:05:52.137399Z",
     "shell.execute_reply.started": "2023-06-11T02:05:52.108965Z"
    }
   },
   "outputs": [
    {
     "data": {
      "text/plain": [
       "{'chemical_creator': {'mz_range': (100, 600),\n",
       "  'rt_range': (400, 800),\n",
       "  'intensity_range': (10000.0, 1e+20),\n",
       "  'n_chemicals': (200, 500),\n",
       "  'mz_sampler': <vimms.ChemicalSamplers.MZMLFormulaSampler at 0x7f3aea1f2ee0>,\n",
       "  'ri_sampler': <vimms.ChemicalSamplers.MZMLRTandIntensitySampler at 0x7f3a3a955fa0>,\n",
       "  'cr_sampler': <vimms.ChemicalSamplers.MZMLChromatogramSampler at 0x7f3a3aa2a610>},\n",
       " 'noise': {'enable_spike_noise': True,\n",
       "  'noise_density': 0.1,\n",
       "  'noise_max_val': 1000.0,\n",
       "  'mz_range': (100, 600)},\n",
       " 'env': {'ionisation_mode': 'Positive',\n",
       "  'rt_range': (400, 800),\n",
       "  'isolation_window': 0.7,\n",
       "  'use_dew': False,\n",
       "  'mz_tol': 10,\n",
       "  'rt_tol': 5,\n",
       "  'min_ms1_intensity': 5000,\n",
       "  'alpha': 0.25,\n",
       "  'beta': 0.5}}"
      ]
     },
     "execution_count": 13,
     "metadata": {},
     "output_type": "execute_result"
    }
   ],
   "source": [
    "params"
   ]
  },
  {
   "cell_type": "code",
   "execution_count": 14,
   "metadata": {
    "execution": {
     "iopub.execute_input": "2023-06-11T02:05:52.140148Z",
     "iopub.status.busy": "2023-06-11T02:05:52.140024Z",
     "iopub.status.idle": "2023-06-11T02:05:52.168975Z",
     "shell.execute_reply": "2023-06-11T02:05:52.168516Z",
     "shell.execute_reply.started": "2023-06-11T02:05:52.140132Z"
    }
   },
   "outputs": [],
   "source": [
    "horizon = 1\n",
    "out_dir = 'evaluation_1.0E6_horizon_%d_alpha_%.2f_beta_%.2f' % (horizon, env_alpha, env_beta)"
   ]
  },
  {
   "cell_type": "code",
   "execution_count": 15,
   "metadata": {
    "execution": {
     "iopub.execute_input": "2023-06-11T02:05:52.169851Z",
     "iopub.status.busy": "2023-06-11T02:05:52.169735Z",
     "iopub.status.idle": "2023-06-11T02:16:18.497206Z",
     "shell.execute_reply": "2023-06-11T02:16:18.496467Z",
     "shell.execute_reply.started": "2023-06-11T02:05:52.169837Z"
    }
   },
   "outputs": [
    {
     "name": "stdout",
     "output_type": "stream",
     "text": [
      "method = random max_peaks = 30 N = 0 rt_tol = 5\n",
      "\n",
      "\n",
      "Episode 0 (426 chemicals)\n",
      "steps\t 500 \ttotal rewards\t 99.68878445439663\n",
      "steps\t 1000 \ttotal rewards\t 119.19906412523368\n",
      "steps\t 1500 \ttotal rewards\t 128.53159518327124\n",
      "Finished after 1792 timesteps (2.245718479156494 seconds) with total reward 98.79642180678975\n",
      "{'coverage_prop': '0.923', 'intensity_prop': '0.685', 'ms1ms2_ratio': '0.131', 'efficiency': '0.248', 'TP': '327', 'FP': '66', 'FN': '33', 'precision': '0.832', 'recall': '0.908', 'f1': '0.869', 'total_rewards': 98.79642180679, 'invalid_action_count': 0, 'num_ms1_scans': 208, 'num_ms2_scans': 1584}\n",
      "\n",
      "Episode 1 (262 chemicals)\n",
      "steps\t 500 \ttotal rewards\t 134.85039785307254\n",
      "steps\t 1000 \ttotal rewards\t 191.4616341346295\n",
      "steps\t 1500 \ttotal rewards\t 173.30589394708602\n",
      "Finished after 1707 timesteps (1.69142484664917 seconds) with total reward 162.96552068262451\n",
      "{'coverage_prop': '0.947', 'intensity_prop': '0.767', 'ms1ms2_ratio': '0.207', 'efficiency': '0.175', 'TP': '225', 'FP': '23', 'FN': '14', 'precision': '0.907', 'recall': '0.941', 'f1': '0.924', 'total_rewards': 162.96552068262426, 'invalid_action_count': 0, 'num_ms1_scans': 293, 'num_ms2_scans': 1414}\n",
      "\n",
      "Episode 2 (394 chemicals)\n",
      "steps\t 500 \ttotal rewards\t 129.34535474995556\n",
      "steps\t 1000 \ttotal rewards\t 170.64003147852816\n",
      "steps\t 1500 \ttotal rewards\t 227.73583552135693\n",
      "Finished after 1775 timesteps (1.6323723793029785 seconds) with total reward 236.27459239214772\n",
      "{'coverage_prop': '0.937', 'intensity_prop': '0.713', 'ms1ms2_ratio': '0.145', 'efficiency': '0.238', 'TP': '320', 'FP': '49', 'FN': '25', 'precision': '0.867', 'recall': '0.928', 'f1': '0.896', 'total_rewards': 236.2745923921475, 'invalid_action_count': 0, 'num_ms1_scans': 225, 'num_ms2_scans': 1550}\n",
      "\n",
      "Episode 3 (452 chemicals)\n",
      "steps\t 500 \ttotal rewards\t 115.89946204091399\n",
      "steps\t 1000 \ttotal rewards\t 207.70416337588324\n",
      "steps\t 1500 \ttotal rewards\t 205.4304905572949\n",
      "Finished after 1776 timesteps (1.737551212310791 seconds) with total reward 212.68961802754123\n",
      "{'coverage_prop': '0.934', 'intensity_prop': '0.697', 'ms1ms2_ratio': '0.144', 'efficiency': '0.272', 'TP': '363', 'FP': '59', 'FN': '30', 'precision': '0.860', 'recall': '0.924', 'f1': '0.891', 'total_rewards': 212.6896180275415, 'invalid_action_count': 0, 'num_ms1_scans': 224, 'num_ms2_scans': 1552}\n",
      "\n",
      "Episode 4 (437 chemicals)\n",
      "steps\t 500 \ttotal rewards\t 45.9333705449522\n",
      "steps\t 1000 \ttotal rewards\t 131.8059098678079\n",
      "steps\t 1500 \ttotal rewards\t 159.97307072206686\n",
      "Finished after 1784 timesteps (2.2497198581695557 seconds) with total reward 138.27532694212312\n",
      "{'coverage_prop': '0.954', 'intensity_prop': '0.707', 'ms1ms2_ratio': '0.138', 'efficiency': '0.266', 'TP': '352', 'FP': '65', 'FN': '20', 'precision': '0.844', 'recall': '0.946', 'f1': '0.892', 'total_rewards': 138.2753269421232, 'invalid_action_count': 0, 'num_ms1_scans': 216, 'num_ms2_scans': 1568}\n",
      "\n",
      "Episode 5 (200 chemicals)\n",
      "steps\t 500 \ttotal rewards\t 69.9935396395\n",
      "steps\t 1000 \ttotal rewards\t 109.82385053214514\n",
      "steps\t 1500 \ttotal rewards\t 86.49152758911579\n",
      "Finished after 1631 timesteps (1.799121618270874 seconds) with total reward 83.21406457935431\n",
      "{'coverage_prop': '0.945', 'intensity_prop': '0.784', 'ms1ms2_ratio': '0.292', 'efficiency': '0.150', 'TP': '177', 'FP': '12', 'FN': '11', 'precision': '0.937', 'recall': '0.941', 'f1': '0.939', 'total_rewards': 83.2140645793542, 'invalid_action_count': 0, 'num_ms1_scans': 369, 'num_ms2_scans': 1262}\n",
      "\n",
      "Episode 6 (478 chemicals)\n",
      "steps\t 500 \ttotal rewards\t 107.88612280418576\n",
      "steps\t 1000 \ttotal rewards\t 187.55242912836974\n",
      "steps\t 1500 \ttotal rewards\t 114.24291660350589\n",
      "Finished after 1791 timesteps (1.8649358749389648 seconds) with total reward 61.497401326802034\n",
      "{'coverage_prop': '0.921', 'intensity_prop': '0.668', 'ms1ms2_ratio': '0.132', 'efficiency': '0.278', 'TP': '354', 'FP': '86', 'FN': '38', 'precision': '0.805', 'recall': '0.903', 'f1': '0.851', 'total_rewards': 61.49740132680186, 'invalid_action_count': 0, 'num_ms1_scans': 209, 'num_ms2_scans': 1582}\n",
      "\n",
      "Episode 7 (204 chemicals)\n",
      "steps\t 500 \ttotal rewards\t 34.80075342549238\n",
      "steps\t 1000 \ttotal rewards\t 78.74309427701368\n",
      "steps\t 1500 \ttotal rewards\t 35.89172043992374\n",
      "Finished after 1650 timesteps (1.90110445022583 seconds) with total reward 28.79084780307992\n",
      "{'coverage_prop': '0.956', 'intensity_prop': '0.792', 'ms1ms2_ratio': '0.269', 'efficiency': '0.150', 'TP': '185', 'FP': '10', 'FN': '9', 'precision': '0.949', 'recall': '0.954', 'f1': '0.951', 'total_rewards': 28.790847803080013, 'invalid_action_count': 0, 'num_ms1_scans': 350, 'num_ms2_scans': 1300}\n",
      "\n",
      "Episode 8 (424 chemicals)\n",
      "steps\t 500 \ttotal rewards\t 88.46078086738963\n",
      "steps\t 1000 \ttotal rewards\t 140.20336440973415\n",
      "steps\t 1500 \ttotal rewards\t 182.08074485218648\n",
      "Finished after 1802 timesteps (1.5340840816497803 seconds) with total reward 173.99189806493024\n",
      "{'coverage_prop': '0.936', 'intensity_prop': '0.708', 'ms1ms2_ratio': '0.123', 'efficiency': '0.248', 'TP': '342', 'FP': '55', 'FN': '27', 'precision': '0.861', 'recall': '0.927', 'f1': '0.893', 'total_rewards': 173.99189806493015, 'invalid_action_count': 0, 'num_ms1_scans': 198, 'num_ms2_scans': 1604}\n",
      "\n",
      "Episode 9 (384 chemicals)\n",
      "steps\t 500 \ttotal rewards\t 106.51599075980923\n",
      "steps\t 1000 \ttotal rewards\t 143.958394323501\n",
      "steps\t 1500 \ttotal rewards\t 172.15211972246374\n",
      "Finished after 1756 timesteps (2.228332281112671 seconds) with total reward 137.96692936019343\n",
      "{'coverage_prop': '0.953', 'intensity_prop': '0.735', 'ms1ms2_ratio': '0.161', 'efficiency': '0.242', 'TP': '322', 'FP': '44', 'FN': '18', 'precision': '0.880', 'recall': '0.947', 'f1': '0.912', 'total_rewards': 137.9669293601933, 'invalid_action_count': 0, 'num_ms1_scans': 244, 'num_ms2_scans': 1512}\n",
      "\n",
      "Episode 10 (443 chemicals)\n",
      "steps\t 500 \ttotal rewards\t 108.9178628412996\n",
      "steps\t 1000 \ttotal rewards\t 147.4422964025113\n",
      "steps\t 1500 \ttotal rewards\t 171.3696121518986\n",
      "Finished after 1814 timesteps (1.7153303623199463 seconds) with total reward 116.451674084995\n",
      "{'coverage_prop': '0.932', 'intensity_prop': '0.707', 'ms1ms2_ratio': '0.114', 'efficiency': '0.254', 'TP': '354', 'FP': '59', 'FN': '30', 'precision': '0.857', 'recall': '0.922', 'f1': '0.888', 'total_rewards': 116.451674084995, 'invalid_action_count': 0, 'num_ms1_scans': 186, 'num_ms2_scans': 1628}\n",
      "\n",
      "Episode 11 (249 chemicals)\n",
      "steps\t 500 \ttotal rewards\t 118.9128728662423\n",
      "steps\t 1000 \ttotal rewards\t 175.62763977105004\n",
      "steps\t 1500 \ttotal rewards\t 128.61992366539994\n",
      "Finished after 1689 timesteps (2.25478196144104 seconds) with total reward 109.41054721620604\n",
      "{'coverage_prop': '0.952', 'intensity_prop': '0.775', 'ms1ms2_ratio': '0.227', 'efficiency': '0.172', 'TP': '220', 'FP': '17', 'FN': '12', 'precision': '0.928', 'recall': '0.948', 'f1': '0.938', 'total_rewards': 109.41054721620617, 'invalid_action_count': 0, 'num_ms1_scans': 312, 'num_ms2_scans': 1377}\n",
      "\n",
      "Episode 12 (251 chemicals)\n",
      "steps\t 500 \ttotal rewards\t 17.713456662831014\n",
      "steps\t 1000 \ttotal rewards\t 4.611831529740403\n",
      "steps\t 1500 \ttotal rewards\t -26.368464385713153\n",
      "Finished after 1749 timesteps (1.4240965843200684 seconds) with total reward -88.98727012928362\n",
      "{'coverage_prop': '0.932', 'intensity_prop': '0.728', 'ms1ms2_ratio': '0.168', 'efficiency': '0.156', 'TP': '202', 'FP': '32', 'FN': '17', 'precision': '0.863', 'recall': '0.922', 'f1': '0.892', 'total_rewards': -88.98727012928364, 'invalid_action_count': 0, 'num_ms1_scans': 251, 'num_ms2_scans': 1498}\n",
      "\n",
      "Episode 13 (300 chemicals)\n",
      "steps\t 500 \ttotal rewards\t 23.442545124741255\n",
      "steps\t 1000 \ttotal rewards\t 10.164275884701699\n",
      "steps\t 1500 \ttotal rewards\t 4.535690085056654\n",
      "Finished after 1754 timesteps (2.581937551498413 seconds) with total reward -93.723376963337\n",
      "{'coverage_prop': '0.943', 'intensity_prop': '0.738', 'ms1ms2_ratio': '0.164', 'efficiency': '0.188', 'TP': '255', 'FP': '28', 'FN': '17', 'precision': '0.901', 'recall': '0.938', 'f1': '0.919', 'total_rewards': -93.723376963337, 'invalid_action_count': 0, 'num_ms1_scans': 247, 'num_ms2_scans': 1507}\n",
      "\n",
      "Episode 14 (206 chemicals)\n",
      "steps\t 500 \ttotal rewards\t 3.786474014013278\n",
      "steps\t 1000 \ttotal rewards\t -13.002142435676014\n",
      "steps\t 1500 \ttotal rewards\t -72.78877275250909\n",
      "Finished after 1681 timesteps (1.2801859378814697 seconds) with total reward -83.82307893495775\n",
      "{'coverage_prop': '0.951', 'intensity_prop': '0.757', 'ms1ms2_ratio': '0.234', 'efficiency': '0.144', 'TP': '176', 'FP': '20', 'FN': '10', 'precision': '0.898', 'recall': '0.946', 'f1': '0.921', 'total_rewards': -83.82307893495768, 'invalid_action_count': 0, 'num_ms1_scans': 319, 'num_ms2_scans': 1362}\n",
      "\n",
      "Episode 15 (407 chemicals)\n",
      "steps\t 500 \ttotal rewards\t 65.32239014889836\n",
      "steps\t 1000 \ttotal rewards\t 112.71827004123205\n",
      "steps\t 1500 \ttotal rewards\t 189.7734667787665\n",
      "Finished after 1760 timesteps (2.6285247802734375 seconds) with total reward 195.5189830518544\n",
      "{'coverage_prop': '0.943', 'intensity_prop': '0.735', 'ms1ms2_ratio': '0.158', 'efficiency': '0.253', 'TP': '342', 'FP': '42', 'FN': '23', 'precision': '0.891', 'recall': '0.937', 'f1': '0.913', 'total_rewards': 195.51898305185458, 'invalid_action_count': 0, 'num_ms1_scans': 240, 'num_ms2_scans': 1520}\n",
      "\n",
      "Episode 16 (498 chemicals)\n",
      "steps\t 500 \ttotal rewards\t 114.7120637474318\n",
      "steps\t 1000 \ttotal rewards\t 195.95309877436586\n",
      "steps\t 1500 \ttotal rewards\t 198.2082286347569\n",
      "Finished after 1779 timesteps (1.8514328002929688 seconds) with total reward 195.1295370789747\n",
      "{'coverage_prop': '0.932', 'intensity_prop': '0.700', 'ms1ms2_ratio': '0.142', 'efficiency': '0.298', 'TP': '403', 'FP': '61', 'FN': '34', 'precision': '0.869', 'recall': '0.922', 'f1': '0.895', 'total_rewards': 195.12953707897432, 'invalid_action_count': 0, 'num_ms1_scans': 221, 'num_ms2_scans': 1558}\n",
      "\n",
      "Episode 17 (372 chemicals)\n",
      "steps\t 500 \ttotal rewards\t 114.73631571747546\n",
      "steps\t 1000 \ttotal rewards\t 186.050863406799\n",
      "steps\t 1500 \ttotal rewards\t 159.1083342830607\n",
      "Finished after 1786 timesteps (1.6301372051239014 seconds) with total reward 137.00998827050438\n",
      "{'coverage_prop': '0.954', 'intensity_prop': '0.742', 'ms1ms2_ratio': '0.136', 'efficiency': '0.226', 'TP': '315', 'FP': '40', 'FN': '17', 'precision': '0.887', 'recall': '0.949', 'f1': '0.917', 'total_rewards': 137.0099882705042, 'invalid_action_count': 0, 'num_ms1_scans': 214, 'num_ms2_scans': 1572}\n",
      "\n",
      "Episode 18 (302 chemicals)\n",
      "steps\t 500 \ttotal rewards\t 109.38360757680131\n",
      "steps\t 1000 \ttotal rewards\t 177.8315824820184\n",
      "steps\t 1500 \ttotal rewards\t 227.8129113064203\n",
      "Finished after 1741 timesteps (1.4534845352172852 seconds) with total reward 228.89901897418974\n",
      "{'coverage_prop': '0.960', 'intensity_prop': '0.745', 'ms1ms2_ratio': '0.175', 'efficiency': '0.196', 'TP': '256', 'FP': '34', 'FN': '12', 'precision': '0.883', 'recall': '0.955', 'f1': '0.918', 'total_rewards': 228.8990189741897, 'invalid_action_count': 0, 'num_ms1_scans': 259, 'num_ms2_scans': 1482}\n",
      "\n",
      "Episode 19 (265 chemicals)\n",
      "steps\t 500 \ttotal rewards\t 58.54971320167071\n",
      "steps\t 1000 \ttotal rewards\t 109.94077124005896\n",
      "steps\t 1500 \ttotal rewards\t 70.54063556630791\n",
      "Finished after 1746 timesteps (1.4282104969024658 seconds) with total reward 20.78703935488403\n",
      "{'coverage_prop': '0.962', 'intensity_prop': '0.762', 'ms1ms2_ratio': '0.170', 'efficiency': '0.171', 'TP': '226', 'FP': '29', 'FN': '10', 'precision': '0.886', 'recall': '0.958', 'f1': '0.921', 'total_rewards': 20.787039354883813, 'invalid_action_count': 0, 'num_ms1_scans': 254, 'num_ms2_scans': 1492}\n",
      "\n",
      "Episode 20 (468 chemicals)\n",
      "steps\t 500 \ttotal rewards\t 70.94279043602558\n",
      "steps\t 1000 \ttotal rewards\t 77.63186833566884\n",
      "steps\t 1500 \ttotal rewards\t 85.33675238985447\n",
      "Finished after 1792 timesteps (2.721360683441162 seconds) with total reward 71.9650363189109\n",
      "{'coverage_prop': '0.895', 'intensity_prop': '0.666', 'ms1ms2_ratio': '0.131', 'efficiency': '0.265', 'TP': '352', 'FP': '67', 'FN': '49', 'precision': '0.840', 'recall': '0.878', 'f1': '0.859', 'total_rewards': 71.96503631891127, 'invalid_action_count': 0, 'num_ms1_scans': 208, 'num_ms2_scans': 1584}\n",
      "\n",
      "Episode 21 (234 chemicals)\n",
      "steps\t 500 \ttotal rewards\t 71.2675978108424\n",
      "steps\t 1000 \ttotal rewards\t 91.24325468218866\n",
      "steps\t 1500 \ttotal rewards\t 122.92940280419313\n",
      "Finished after 1659 timesteps (1.4483182430267334 seconds) with total reward 150.75601073887415\n",
      "{'coverage_prop': '0.936', 'intensity_prop': '0.757', 'ms1ms2_ratio': '0.259', 'efficiency': '0.166', 'TP': '200', 'FP': '19', 'FN': '15', 'precision': '0.913', 'recall': '0.930', 'f1': '0.922', 'total_rewards': 150.7560107388741, 'invalid_action_count': 0, 'num_ms1_scans': 341, 'num_ms2_scans': 1318}\n",
      "\n",
      "Episode 22 (322 chemicals)\n",
      "steps\t 500 \ttotal rewards\t 26.75710004957611\n",
      "steps\t 1000 \ttotal rewards\t 76.39415091387055\n",
      "steps\t 1500 \ttotal rewards\t 63.031113054831394\n",
      "Finished after 1741 timesteps (1.4312992095947266 seconds) with total reward 51.68480458680697\n",
      "{'coverage_prop': '0.947', 'intensity_prop': '0.732', 'ms1ms2_ratio': '0.175', 'efficiency': '0.206', 'TP': '265', 'FP': '40', 'FN': '17', 'precision': '0.869', 'recall': '0.940', 'f1': '0.903', 'total_rewards': 51.684804586806955, 'invalid_action_count': 0, 'num_ms1_scans': 259, 'num_ms2_scans': 1482}\n",
      "\n",
      "Episode 23 (310 chemicals)\n",
      "steps\t 500 \ttotal rewards\t 105.68096315918525\n",
      "steps\t 1000 \ttotal rewards\t 166.25514019441786\n",
      "steps\t 1500 \ttotal rewards\t 198.55920596833806\n",
      "Finished after 1720 timesteps (2.6946661472320557 seconds) with total reward 213.59914431307658\n",
      "{'coverage_prop': '0.929', 'intensity_prop': '0.741', 'ms1ms2_ratio': '0.195', 'efficiency': '0.200', 'TP': '260', 'FP': '28', 'FN': '22', 'precision': '0.903', 'recall': '0.922', 'f1': '0.912', 'total_rewards': 213.59914431307635, 'invalid_action_count': 0, 'num_ms1_scans': 281, 'num_ms2_scans': 1439}\n",
      "\n",
      "Episode 24 (345 chemicals)\n",
      "steps\t 500 \ttotal rewards\t 119.06600174314383\n",
      "steps\t 1000 \ttotal rewards\t 194.56141155838935\n",
      "steps\t 1500 \ttotal rewards\t 162.43360234095792\n",
      "Finished after 1757 timesteps (1.4905641078948975 seconds) with total reward 180.32641548899002\n",
      "{'coverage_prop': '0.954', 'intensity_prop': '0.725', 'ms1ms2_ratio': '0.161', 'efficiency': '0.217', 'TP': '278', 'FP': '51', 'FN': '16', 'precision': '0.845', 'recall': '0.946', 'f1': '0.892', 'total_rewards': 180.3264154889898, 'invalid_action_count': 0, 'num_ms1_scans': 243, 'num_ms2_scans': 1514}\n",
      "\n",
      "Episode 25 (396 chemicals)\n",
      "steps\t 500 \ttotal rewards\t 69.38276717891505\n",
      "steps\t 1000 \ttotal rewards\t 145.02824344177827\n",
      "steps\t 1500 \ttotal rewards\t 219.9615371367201\n",
      "Finished after 1769 timesteps (1.538417100906372 seconds) with total reward 239.46906913046473\n",
      "{'coverage_prop': '0.960', 'intensity_prop': '0.722', 'ms1ms2_ratio': '0.150', 'efficiency': '0.247', 'TP': '326', 'FP': '54', 'FN': '16', 'precision': '0.858', 'recall': '0.953', 'f1': '0.903', 'total_rewards': 239.4690691304647, 'invalid_action_count': 0, 'num_ms1_scans': 231, 'num_ms2_scans': 1538}\n",
      "\n",
      "Episode 26 (203 chemicals)\n",
      "steps\t 500 \ttotal rewards\t -14.487616078365818\n",
      "steps\t 1000 \ttotal rewards\t 66.39700712774666\n",
      "steps\t 1500 \ttotal rewards\t 36.36132115626582\n",
      "Finished after 1660 timesteps (2.4774301052093506 seconds) with total reward 12.233324193930688\n",
      "{'coverage_prop': '0.956', 'intensity_prop': '0.812', 'ms1ms2_ratio': '0.258', 'efficiency': '0.147', 'TP': '187', 'FP': '7', 'FN': '9', 'precision': '0.964', 'recall': '0.954', 'f1': '0.959', 'total_rewards': 12.233324193930647, 'invalid_action_count': 0, 'num_ms1_scans': 340, 'num_ms2_scans': 1320}\n",
      "\n",
      "Episode 27 (281 chemicals)\n",
      "steps\t 500 \ttotal rewards\t 31.25265757439011\n",
      "steps\t 1000 \ttotal rewards\t 57.65343346404818\n",
      "steps\t 1500 \ttotal rewards\t 160.73223423954198\n",
      "Finished after 1710 timesteps (1.372464895248413 seconds) with total reward 190.81871402141405\n",
      "{'coverage_prop': '0.950', 'intensity_prop': '0.762', 'ms1ms2_ratio': '0.204', 'efficiency': '0.188', 'TP': '246', 'FP': '21', 'FN': '14', 'precision': '0.921', 'recall': '0.946', 'f1': '0.934', 'total_rewards': 190.81871402141428, 'invalid_action_count': 0, 'num_ms1_scans': 290, 'num_ms2_scans': 1420}\n",
      "\n",
      "Episode 28 (493 chemicals)\n",
      "steps\t 500 \ttotal rewards\t 84.68446560917887\n",
      "steps\t 1000 \ttotal rewards\t 84.44288174466666\n",
      "steps\t 1500 \ttotal rewards\t 80.9991446614487\n",
      "Finished after 1811 timesteps (1.81327486038208 seconds) with total reward 73.718055858464\n",
      "{'coverage_prop': '0.901', 'intensity_prop': '0.647', 'ms1ms2_ratio': '0.117', 'efficiency': '0.274', 'TP': '364', 'FP': '80', 'FN': '49', 'precision': '0.820', 'recall': '0.881', 'f1': '0.849', 'total_rewards': 73.71805585846398, 'invalid_action_count': 0, 'num_ms1_scans': 189, 'num_ms2_scans': 1622}\n",
      "\n",
      "Episode 29 (304 chemicals)\n",
      "steps\t 500 \ttotal rewards\t 42.93690294377106\n",
      "steps\t 1000 \ttotal rewards\t 66.2555720693536\n",
      "steps\t 1500 \ttotal rewards\t 29.97359055514238\n",
      "Finished after 1736 timesteps (2.7734477519989014 seconds) with total reward -5.744075009037168\n",
      "{'coverage_prop': '0.954', 'intensity_prop': '0.763', 'ms1ms2_ratio': '0.179', 'efficiency': '0.197', 'TP': '268', 'FP': '22', 'FN': '14', 'precision': '0.924', 'recall': '0.950', 'f1': '0.937', 'total_rewards': -5.744075009037365, 'invalid_action_count': 0, 'num_ms1_scans': 264, 'num_ms2_scans': 1472}\n",
      "\n",
      "method = topN max_peaks = 30 N = 10 rt_tol = 5\n",
      "\n",
      "\n",
      "Episode 0 (426 chemicals)\n",
      "steps\t 500 \ttotal rewards\t 106.63395611197905\n",
      "steps\t 1000 \ttotal rewards\t 162.9913404040571\n",
      "steps\t 1500 \ttotal rewards\t 177.154100603419\n",
      "Finished after 1649 timesteps (7.411617994308472 seconds) with total reward 164.69702711659656\n",
      "{'coverage_prop': '0.944', 'intensity_prop': '0.730', 'ms1ms2_ratio': '0.270', 'efficiency': '0.310', 'TP': '358', 'FP': '44', 'FN': '24', 'precision': '0.891', 'recall': '0.937', 'f1': '0.913', 'total_rewards': 164.6970271165966, 'invalid_action_count': 0, 'num_ms1_scans': 351, 'num_ms2_scans': 1298}\n",
      "\n",
      "Episode 1 (262 chemicals)\n",
      "steps\t 500 \ttotal rewards\t 106.17419070356355\n",
      "steps\t 1000 \ttotal rewards\t 191.2538548430475\n",
      "steps\t 1500 \ttotal rewards\t 209.86425534666213\n",
      "Finished after 1520 timesteps (7.003110885620117 seconds) with total reward 209.33527549834707\n",
      "{'coverage_prop': '0.962', 'intensity_prop': '0.794', 'ms1ms2_ratio': '0.463', 'efficiency': '0.243', 'TP': '236', 'FP': '16', 'FN': '10', 'precision': '0.937', 'recall': '0.959', 'f1': '0.948', 'total_rewards': 209.33527549834758, 'invalid_action_count': 0, 'num_ms1_scans': 481, 'num_ms2_scans': 1039}\n",
      "\n",
      "Episode 2 (394 chemicals)\n",
      "steps\t 500 \ttotal rewards\t 95.53926953958758\n",
      "steps\t 1000 \ttotal rewards\t 178.38384233657052\n",
      "steps\t 1500 \ttotal rewards\t 248.4558066588136\n",
      "Finished after 1603 timesteps (9.023363590240479 seconds) with total reward 252.66013270357809\n",
      "{'coverage_prop': '0.944', 'intensity_prop': '0.731', 'ms1ms2_ratio': '0.329', 'efficiency': '0.308', 'TP': '332', 'FP': '40', 'FN': '22', 'precision': '0.892', 'recall': '0.938', 'f1': '0.915', 'total_rewards': 252.6601327035779, 'invalid_action_count': 0, 'num_ms1_scans': 397, 'num_ms2_scans': 1206}\n",
      "\n",
      "Episode 3 (452 chemicals)\n",
      "steps\t 500 \ttotal rewards\t 116.63009714271976\n",
      "steps\t 1000 \ttotal rewards\t 212.50737187293538\n",
      "steps\t 1500 \ttotal rewards\t 238.14012773384798\n",
      "Finished after 1649 timesteps (8.16138768196106 seconds) with total reward 254.717529399005\n",
      "{'coverage_prop': '0.938', 'intensity_prop': '0.740', 'ms1ms2_ratio': '0.270', 'efficiency': '0.327', 'TP': '387', 'FP': '37', 'FN': '28', 'precision': '0.913', 'recall': '0.933', 'f1': '0.923', 'total_rewards': 254.7175293990051, 'invalid_action_count': 0, 'num_ms1_scans': 351, 'num_ms2_scans': 1298}\n",
      "\n",
      "Episode 4 (437 chemicals)\n",
      "steps\t 500 \ttotal rewards\t 68.81368992537134\n",
      "steps\t 1000 \ttotal rewards\t 200.2454626887014\n",
      "steps\t 1500 \ttotal rewards\t 206.21217990590077\n",
      "Finished after 1634 timesteps (10.178120374679565 seconds) with total reward 210.0518252065553\n",
      "{'coverage_prop': '0.963', 'intensity_prop': '0.742', 'ms1ms2_ratio': '0.289', 'efficiency': '0.332', 'TP': '368', 'FP': '53', 'FN': '16', 'precision': '0.874', 'recall': '0.958', 'f1': '0.914', 'total_rewards': 210.05182520655532, 'invalid_action_count': 0, 'num_ms1_scans': 366, 'num_ms2_scans': 1268}\n",
      "\n",
      "Episode 5 (200 chemicals)\n",
      "steps\t 500 \ttotal rewards\t 69.4231243993963\n",
      "steps\t 1000 \ttotal rewards\t 128.24295682105873\n",
      "Finished after 1384 timesteps (7.385931015014648 seconds) with total reward 142.20865743858832\n",
      "{'coverage_prop': '0.955', 'intensity_prop': '0.776', 'ms1ms2_ratio': '0.802', 'efficiency': '0.249', 'TP': '181', 'FP': '10', 'FN': '9', 'precision': '0.948', 'recall': '0.953', 'f1': '0.950', 'total_rewards': 142.20865743858835, 'invalid_action_count': 0, 'num_ms1_scans': 616, 'num_ms2_scans': 768}\n",
      "\n",
      "Episode 6 (478 chemicals)\n",
      "steps\t 500 \ttotal rewards\t 102.26750226127217\n",
      "steps\t 1000 \ttotal rewards\t 195.78259136454625\n",
      "steps\t 1500 \ttotal rewards\t 154.78772582466527\n",
      "Finished after 1664 timesteps (8.570682525634766 seconds) with total reward 141.81796707291574\n",
      "{'coverage_prop': '0.900', 'intensity_prop': '0.687', 'ms1ms2_ratio': '0.253', 'efficiency': '0.324', 'TP': '370', 'FP': '60', 'FN': '48', 'precision': '0.860', 'recall': '0.885', 'f1': '0.873', 'total_rewards': 141.81796707291537, 'invalid_action_count': 0, 'num_ms1_scans': 336, 'num_ms2_scans': 1328}\n",
      "\n",
      "Episode 7 (204 chemicals)\n",
      "steps\t 500 \ttotal rewards\t 43.123855574065644\n",
      "steps\t 1000 \ttotal rewards\t 96.84610290018858\n",
      "Finished after 1443 timesteps (9.808363914489746 seconds) with total reward 120.59105674330272\n",
      "{'coverage_prop': '0.961', 'intensity_prop': '0.791', 'ms1ms2_ratio': '0.631', 'efficiency': '0.221', 'TP': '186', 'FP': '10', 'FN': '8', 'precision': '0.949', 'recall': '0.959', 'f1': '0.954', 'total_rewards': 120.59105674330263, 'invalid_action_count': 0, 'num_ms1_scans': 558, 'num_ms2_scans': 885}\n",
      "\n",
      "Episode 8 (424 chemicals)\n",
      "steps\t 500 \ttotal rewards\t 105.87274106740446\n",
      "steps\t 1000 \ttotal rewards\t 180.29826624812563\n",
      "steps\t 1500 \ttotal rewards\t 240.7651178010596\n",
      "Finished after 1667 timesteps (8.791049480438232 seconds) with total reward 240.60202315581967\n",
      "{'coverage_prop': '0.946', 'intensity_prop': '0.734', 'ms1ms2_ratio': '0.250', 'efficiency': '0.301', 'TP': '359', 'FP': '42', 'FN': '23', 'precision': '0.895', 'recall': '0.940', 'f1': '0.917', 'total_rewards': 240.60202315581984, 'invalid_action_count': 0, 'num_ms1_scans': 333, 'num_ms2_scans': 1334}\n",
      "\n",
      "Episode 9 (384 chemicals)\n",
      "steps\t 500 \ttotal rewards\t 95.73317664764349\n",
      "steps\t 1000 \ttotal rewards\t 194.16757369417\n",
      "steps\t 1500 \ttotal rewards\t 215.35955526404695\n",
      "Finished after 1607 timesteps (9.407219886779785 seconds) with total reward 206.42491962453101\n",
      "{'coverage_prop': '0.948', 'intensity_prop': '0.751', 'ms1ms2_ratio': '0.325', 'efficiency': '0.300', 'TP': '326', 'FP': '38', 'FN': '20', 'precision': '0.896', 'recall': '0.942', 'f1': '0.918', 'total_rewards': 206.42491962453096, 'invalid_action_count': 0, 'num_ms1_scans': 394, 'num_ms2_scans': 1213}\n",
      "\n",
      "Episode 10 (443 chemicals)\n",
      "steps\t 500 \ttotal rewards\t 101.59368235087857\n",
      "steps\t 1000 \ttotal rewards\t 182.06833702991065\n",
      "steps\t 1500 \ttotal rewards\t 216.05539105742622\n",
      "Finished after 1664 timesteps (11.4545259475708 seconds) with total reward 208.98812567189944\n",
      "{'coverage_prop': '0.910', 'intensity_prop': '0.726', 'ms1ms2_ratio': '0.253', 'efficiency': '0.303', 'TP': '369', 'FP': '34', 'FN': '40', 'precision': '0.916', 'recall': '0.902', 'f1': '0.909', 'total_rewards': 208.9881256718998, 'invalid_action_count': 0, 'num_ms1_scans': 336, 'num_ms2_scans': 1328}\n",
      "\n",
      "Episode 11 (249 chemicals)\n",
      "steps\t 500 \ttotal rewards\t 100.0753051474233\n",
      "steps\t 1000 \ttotal rewards\t 167.94640480261836\n",
      "Finished after 1497 timesteps (7.585614442825317 seconds) with total reward 154.03044910455029\n",
      "{'coverage_prop': '0.960', 'intensity_prop': '0.787', 'ms1ms2_ratio': '0.506', 'efficiency': '0.240', 'TP': '225', 'FP': '14', 'FN': '10', 'precision': '0.941', 'recall': '0.957', 'f1': '0.949', 'total_rewards': 154.0304491045505, 'invalid_action_count': 0, 'num_ms1_scans': 503, 'num_ms2_scans': 994}\n",
      "\n",
      "Episode 12 (251 chemicals)\n",
      "steps\t 500 \ttotal rewards\t 58.061741097780704\n",
      "steps\t 1000 \ttotal rewards\t 95.26935010006831\n",
      "steps\t 1500 \ttotal rewards\t 61.55457841334804\n",
      "Finished after 1561 timesteps (7.649584054946899 seconds) with total reward 55.36901288170255\n",
      "{'coverage_prop': '0.944', 'intensity_prop': '0.747', 'ms1ms2_ratio': '0.391', 'efficiency': '0.211', 'TP': '217', 'FP': '20', 'FN': '14', 'precision': '0.916', 'recall': '0.939', 'f1': '0.927', 'total_rewards': 55.369012881702545, 'invalid_action_count': 0, 'num_ms1_scans': 439, 'num_ms2_scans': 1122}\n",
      "\n",
      "Episode 13 (300 chemicals)\n",
      "steps\t 500 \ttotal rewards\t 67.16011229573786\n",
      "steps\t 1000 \ttotal rewards\t 58.092633635724354\n",
      "steps\t 1500 \ttotal rewards\t 51.33759249125592\n",
      "Finished after 1591 timesteps (11.77915334701538 seconds) with total reward 36.0908716073306\n",
      "{'coverage_prop': '0.957', 'intensity_prop': '0.748', 'ms1ms2_ratio': '0.346', 'efficiency': '0.243', 'TP': '259', 'FP': '28', 'FN': '13', 'precision': '0.902', 'recall': '0.952', 'f1': '0.927', 'total_rewards': 36.09087160733064, 'invalid_action_count': 0, 'num_ms1_scans': 409, 'num_ms2_scans': 1182}\n",
      "\n",
      "Episode 14 (206 chemicals)\n",
      "steps\t 500 \ttotal rewards\t 58.213202925174215\n",
      "steps\t 1000 \ttotal rewards\t 76.52410937779302\n",
      "Finished after 1465 timesteps (8.637309789657593 seconds) with total reward 72.02086107406423\n",
      "{'coverage_prop': '0.956', 'intensity_prop': '0.767', 'ms1ms2_ratio': '0.575', 'efficiency': '0.212', 'TP': '179', 'FP': '18', 'FN': '9', 'precision': '0.909', 'recall': '0.952', 'f1': '0.930', 'total_rewards': 72.02086107406407, 'invalid_action_count': 0, 'num_ms1_scans': 535, 'num_ms2_scans': 930}\n",
      "\n",
      "Episode 15 (407 chemicals)\n",
      "steps\t 500 \ttotal rewards\t 80.84462422312731\n",
      "steps\t 1000 \ttotal rewards\t 143.03271498162684\n",
      "steps\t 1500 \ttotal rewards\t 212.7694795469286\n",
      "Finished after 1596 timesteps (9.306134939193726 seconds) with total reward 228.8135637042738\n",
      "{'coverage_prop': '0.943', 'intensity_prop': '0.752', 'ms1ms2_ratio': '0.339', 'efficiency': '0.322', 'TP': '349', 'FP': '35', 'FN': '23', 'precision': '0.909', 'recall': '0.938', 'f1': '0.923', 'total_rewards': 228.81356370427335, 'invalid_action_count': 0, 'num_ms1_scans': 404, 'num_ms2_scans': 1192}\n",
      "\n",
      "Episode 16 (498 chemicals)\n",
      "steps\t 500 \ttotal rewards\t 124.44642565267253\n",
      "steps\t 1000 \ttotal rewards\t 191.52301528815207\n",
      "steps\t 1500 \ttotal rewards\t 221.83091626042\n",
      "Finished after 1655 timesteps (9.486368179321289 seconds) with total reward 237.53035453841972\n",
      "{'coverage_prop': '0.916', 'intensity_prop': '0.716', 'ms1ms2_ratio': '0.264', 'efficiency': '0.348', 'TP': '408', 'FP': '48', 'FN': '42', 'precision': '0.895', 'recall': '0.907', 'f1': '0.901', 'total_rewards': 237.53035453841912, 'invalid_action_count': 0, 'num_ms1_scans': 346, 'num_ms2_scans': 1309}\n",
      "\n",
      "Episode 17 (372 chemicals)\n",
      "steps\t 500 \ttotal rewards\t 119.63824849090636\n",
      "steps\t 1000 \ttotal rewards\t 187.68260300817315\n",
      "steps\t 1500 \ttotal rewards\t 192.85253353422533\n",
      "Finished after 1620 timesteps (8.738680362701416 seconds) with total reward 186.8470278224624\n",
      "{'coverage_prop': '0.954', 'intensity_prop': '0.763', 'ms1ms2_ratio': '0.308', 'efficiency': '0.287', 'TP': '327', 'FP': '28', 'FN': '17', 'precision': '0.921', 'recall': '0.951', 'f1': '0.936', 'total_rewards': 186.84702782246242, 'invalid_action_count': 0, 'num_ms1_scans': 381, 'num_ms2_scans': 1239}\n",
      "\n",
      "Episode 18 (302 chemicals)\n",
      "steps\t 500 \ttotal rewards\t 105.66331721673217\n",
      "steps\t 1000 \ttotal rewards\t 204.88372190110954\n",
      "steps\t 1500 \ttotal rewards\t 246.78387159880873\n",
      "Finished after 1570 timesteps (8.762398958206177 seconds) with total reward 248.83541747472856\n",
      "{'coverage_prop': '0.957', 'intensity_prop': '0.765', 'ms1ms2_ratio': '0.377', 'efficiency': '0.254', 'TP': '263', 'FP': '26', 'FN': '13', 'precision': '0.910', 'recall': '0.953', 'f1': '0.931', 'total_rewards': 248.83541747472836, 'invalid_action_count': 0, 'num_ms1_scans': 430, 'num_ms2_scans': 1140}\n",
      "\n",
      "Episode 19 (265 chemicals)\n",
      "steps\t 500 \ttotal rewards\t 73.20129140669204\n",
      "steps\t 1000 \ttotal rewards\t 145.4008484965667\n",
      "steps\t 1500 \ttotal rewards\t 121.76751350641985\n",
      "Finished after 1584 timesteps (9.1322021484375 seconds) with total reward 105.7258679915602\n",
      "{'coverage_prop': '0.974', 'intensity_prop': '0.792', 'ms1ms2_ratio': '0.356', 'efficiency': '0.221', 'TP': '238', 'FP': '20', 'FN': '7', 'precision': '0.922', 'recall': '0.971', 'f1': '0.946', 'total_rewards': 105.72586799155994, 'invalid_action_count': 0, 'num_ms1_scans': 416, 'num_ms2_scans': 1168}\n",
      "\n",
      "Episode 20 (468 chemicals)\n",
      "steps\t 500 \ttotal rewards\t 102.1252713849995\n",
      "steps\t 1000 \ttotal rewards\t 113.10098206210336\n",
      "steps\t 1500 \ttotal rewards\t 122.85205308888519\n",
      "Finished after 1646 timesteps (12.903428792953491 seconds) with total reward 132.58636530392295\n",
      "{'coverage_prop': '0.861', 'intensity_prop': '0.669', 'ms1ms2_ratio': '0.274', 'efficiency': '0.312', 'TP': '360', 'FP': '43', 'FN': '65', 'precision': '0.893', 'recall': '0.847', 'f1': '0.870', 'total_rewards': 132.58636530392315, 'invalid_action_count': 0, 'num_ms1_scans': 354, 'num_ms2_scans': 1292}\n",
      "\n",
      "Episode 21 (234 chemicals)\n",
      "steps\t 500 \ttotal rewards\t 82.0681644151673\n",
      "steps\t 1000 \ttotal rewards\t 178.96846227569793\n",
      "Finished after 1433 timesteps (8.907894372940063 seconds) with total reward 228.6614802413051\n",
      "{'coverage_prop': '0.957', 'intensity_prop': '0.761', 'ms1ms2_ratio': '0.657', 'efficiency': '0.259', 'TP': '204', 'FP': '20', 'FN': '10', 'precision': '0.911', 'recall': '0.953', 'f1': '0.932', 'total_rewards': 228.661480241305, 'invalid_action_count': 0, 'num_ms1_scans': 568, 'num_ms2_scans': 865}\n",
      "\n",
      "Episode 22 (322 chemicals)\n",
      "steps\t 500 \ttotal rewards\t 71.39015463320771\n",
      "steps\t 1000 \ttotal rewards\t 155.09303493545187\n",
      "steps\t 1500 \ttotal rewards\t 177.78733990366578\n",
      "Finished after 1590 timesteps (9.17629885673523 seconds) with total reward 179.97030572266658\n",
      "{'coverage_prop': '0.963', 'intensity_prop': '0.766', 'ms1ms2_ratio': '0.349', 'efficiency': '0.263', 'TP': '287', 'FP': '23', 'FN': '12', 'precision': '0.926', 'recall': '0.960', 'f1': '0.943', 'total_rewards': 179.97030572266644, 'invalid_action_count': 0, 'num_ms1_scans': 411, 'num_ms2_scans': 1179}\n",
      "\n",
      "Episode 23 (310 chemicals)\n",
      "steps\t 500 \ttotal rewards\t 84.70601807878572\n",
      "steps\t 1000 \ttotal rewards\t 177.02422294905261\n",
      "steps\t 1500 \ttotal rewards\t 243.64445702771235\n",
      "Finished after 1526 timesteps (9.025461673736572 seconds) with total reward 246.2560176885827\n",
      "{'coverage_prop': '0.955', 'intensity_prop': '0.763', 'ms1ms2_ratio': '0.452', 'efficiency': '0.282', 'TP': '270', 'FP': '26', 'FN': '14', 'precision': '0.912', 'recall': '0.951', 'f1': '0.931', 'total_rewards': 246.2560176885826, 'invalid_action_count': 0, 'num_ms1_scans': 475, 'num_ms2_scans': 1051}\n",
      "\n",
      "Episode 24 (345 chemicals)\n",
      "steps\t 500 \ttotal rewards\t 94.2047248713349\n",
      "steps\t 1000 \ttotal rewards\t 197.88416256624288\n",
      "steps\t 1500 \ttotal rewards\t 187.4094560212768\n",
      "Finished after 1615 timesteps (14.675064325332642 seconds) with total reward 192.55626903313163\n",
      "{'coverage_prop': '0.957', 'intensity_prop': '0.752', 'ms1ms2_ratio': '0.313', 'efficiency': '0.268', 'TP': '301', 'FP': '29', 'FN': '15', 'precision': '0.912', 'recall': '0.953', 'f1': '0.932', 'total_rewards': 192.55626903313157, 'invalid_action_count': 0, 'num_ms1_scans': 385, 'num_ms2_scans': 1230}\n",
      "\n",
      "Episode 25 (396 chemicals)\n",
      "steps\t 500 \ttotal rewards\t 99.85451217455554\n",
      "steps\t 1000 \ttotal rewards\t 195.27957299510564\n",
      "steps\t 1500 \ttotal rewards\t 288.4248337245489\n",
      "Finished after 1613 timesteps (11.811014175415039 seconds) with total reward 300.231117218101\n",
      "{'coverage_prop': '0.967', 'intensity_prop': '0.749', 'ms1ms2_ratio': '0.316', 'efficiency': '0.312', 'TP': '341', 'FP': '42', 'FN': '13', 'precision': '0.890', 'recall': '0.963', 'f1': '0.925', 'total_rewards': 300.23111721810045, 'invalid_action_count': 0, 'num_ms1_scans': 387, 'num_ms2_scans': 1226}\n",
      "\n",
      "Episode 26 (203 chemicals)\n",
      "steps\t 500 \ttotal rewards\t 24.333131481536846\n",
      "steps\t 1000 \ttotal rewards\t 131.88458675676515\n",
      "Finished after 1434 timesteps (11.679912328720093 seconds) with total reward 146.29758840523235\n",
      "{'coverage_prop': '0.970', 'intensity_prop': '0.786', 'ms1ms2_ratio': '0.652', 'efficiency': '0.227', 'TP': '183', 'FP': '14', 'FN': '6', 'precision': '0.929', 'recall': '0.968', 'f1': '0.948', 'total_rewards': 146.29758840523226, 'invalid_action_count': 0, 'num_ms1_scans': 566, 'num_ms2_scans': 868}\n",
      "\n",
      "Episode 27 (281 chemicals)\n",
      "steps\t 500 \ttotal rewards\t 70.02772397903182\n",
      "steps\t 1000 \ttotal rewards\t 161.29986468054778\n",
      "steps\t 1500 \ttotal rewards\t 262.16550581075177\n",
      "Finished after 1518 timesteps (11.711633920669556 seconds) with total reward 265.5824646614629\n",
      "{'coverage_prop': '0.961', 'intensity_prop': '0.793', 'ms1ms2_ratio': '0.465', 'efficiency': '0.261', 'TP': '251', 'FP': '19', 'FN': '11', 'precision': '0.930', 'recall': '0.958', 'f1': '0.944', 'total_rewards': 265.58246466146295, 'invalid_action_count': 0, 'num_ms1_scans': 482, 'num_ms2_scans': 1036}\n",
      "\n",
      "Episode 28 (493 chemicals)\n",
      "steps\t 500 \ttotal rewards\t 92.83990551927769\n",
      "steps\t 1000 \ttotal rewards\t 117.33426524872907\n",
      "steps\t 1500 \ttotal rewards\t 153.3228822419867\n",
      "Finished after 1668 timesteps (14.869142055511475 seconds) with total reward 158.30737283627502\n",
      "{'coverage_prop': '0.874', 'intensity_prop': '0.661', 'ms1ms2_ratio': '0.249', 'efficiency': '0.323', 'TP': '374', 'FP': '57', 'FN': '62', 'precision': '0.868', 'recall': '0.858', 'f1': '0.863', 'total_rewards': 158.30737283627488, 'invalid_action_count': 0, 'num_ms1_scans': 332, 'num_ms2_scans': 1336}\n",
      "\n",
      "Episode 29 (304 chemicals)\n",
      "steps\t 500 \ttotal rewards\t 71.12560289021108\n",
      "steps\t 1000 \ttotal rewards\t 111.71160605184667\n",
      "steps\t 1500 \ttotal rewards\t 97.29409959306177\n",
      "Finished after 1593 timesteps (12.71163034439087 seconds) with total reward 78.02016798325818\n",
      "{'coverage_prop': '0.964', 'intensity_prop': '0.788', 'ms1ms2_ratio': '0.343', 'efficiency': '0.247', 'TP': '270', 'FP': '23', 'FN': '11', 'precision': '0.922', 'recall': '0.961', 'f1': '0.941', 'total_rewards': 78.02016798325815, 'invalid_action_count': 0, 'num_ms1_scans': 407, 'num_ms2_scans': 1186}\n",
      "\n"
     ]
    }
   ],
   "source": [
    "method_eval_results = {}\n",
    "for method in methods:\n",
    "\n",
    "    N = 0\n",
    "    copy_params = copy.deepcopy(params)            \n",
    "    custom_objects = {\n",
    "        \"learning_rate\": 0.0,\n",
    "        \"lr_schedule\": lambda _: 0.0,\n",
    "        \"clip_range\": lambda _: 0.0,\n",
    "    }    \n",
    "    \n",
    "    model = None\n",
    "    if method == METHOD_TOPN:\n",
    "        N = topN_N\n",
    "        effective_rt_tol = topN_rt_tol\n",
    "        copy_params['env']['use_dew'] = True\n",
    "        copy_params['env']['rt_tol'] = effective_rt_tol                        \n",
    "\n",
    "    banner = 'method = %s max_peaks = %d N = %d rt_tol = %d' % (method, max_peaks, N, \n",
    "                                                                                   copy_params['env']['rt_tol'])\n",
    "    print(banner)\n",
    "    print()            \n",
    "            \n",
    "    episodic_results = run_method(env_name, copy_params, max_peaks, chem_list, method, out_dir, \n",
    "                                  N=N, min_ms1_intensity=min_ms1_intensity, model=model,\n",
    "                                  print_eval=True, print_reward=True, intensity_threshold=intensity_threshold,\n",
    "                                  mzml_prefix=method, horizon=horizon, valid_random=valid_random)\n",
    "    eval_results = [er.eval_res for er in episodic_results]\n",
    "    method_eval_results[method] = eval_results\n",
    "    print()"
   ]
  },
  {
   "cell_type": "markdown",
   "metadata": {},
   "source": [
    "#### DQN"
   ]
  },
  {
   "cell_type": "code",
   "execution_count": 16,
   "metadata": {
    "execution": {
     "iopub.execute_input": "2023-06-11T02:16:18.508402Z",
     "iopub.status.busy": "2023-06-11T02:16:18.508190Z",
     "iopub.status.idle": "2023-06-11T02:16:18.587648Z",
     "shell.execute_reply": "2023-06-11T02:16:18.586950Z",
     "shell.execute_reply.started": "2023-06-11T02:16:18.508402Z"
    }
   },
   "outputs": [
    {
     "data": {
      "text/plain": [
       "device(type='cpu')"
      ]
     },
     "execution_count": 16,
     "metadata": {},
     "output_type": "execute_result"
    }
   ],
   "source": [
    "device = torch.device(\"cpu\")\n",
    "device"
   ]
  },
  {
   "cell_type": "code",
   "execution_count": 17,
   "metadata": {
    "execution": {
     "iopub.execute_input": "2023-06-11T02:16:18.588967Z",
     "iopub.status.busy": "2023-06-11T02:16:18.588752Z",
     "iopub.status.idle": "2023-06-11T02:16:18.643111Z",
     "shell.execute_reply": "2023-06-11T02:16:18.642566Z",
     "shell.execute_reply.started": "2023-06-11T02:16:18.588941Z"
    }
   },
   "outputs": [
    {
     "data": {
      "text/plain": [
       "'DQN_1.0E6/DQN.model'"
      ]
     },
     "execution_count": 17,
     "metadata": {},
     "output_type": "execute_result"
    }
   ],
   "source": [
    "model_path = os.path.join(dqn_in_dir, 'DQN.model')\n",
    "model_path"
   ]
  },
  {
   "cell_type": "code",
   "execution_count": 18,
   "metadata": {
    "execution": {
     "iopub.execute_input": "2023-06-11T02:16:18.644389Z",
     "iopub.status.busy": "2023-06-11T02:16:18.644219Z",
     "iopub.status.idle": "2023-06-11T02:16:18.709356Z",
     "shell.execute_reply": "2023-06-11T02:16:18.708532Z",
     "shell.execute_reply.started": "2023-06-11T02:16:18.644334Z"
    }
   },
   "outputs": [],
   "source": [
    "env_id = 'DDAEnv'"
   ]
  },
  {
   "cell_type": "code",
   "execution_count": 19,
   "metadata": {
    "execution": {
     "iopub.execute_input": "2023-06-11T02:16:18.710610Z",
     "iopub.status.busy": "2023-06-11T02:16:18.710459Z",
     "iopub.status.idle": "2023-06-11T02:16:19.840637Z",
     "shell.execute_reply": "2023-06-11T02:16:19.840076Z",
     "shell.execute_reply.started": "2023-06-11T02:16:18.710594Z"
    }
   },
   "outputs": [
    {
     "name": "stderr",
     "output_type": "stream",
     "text": [
      "/opt/conda/lib/python3.8/site-packages/gymnasium/utils/passive_env_checker.py:42: UserWarning:\n",
      "\n",
      "\u001b[33mWARN: A Box observation space has an unconventional shape (neither an image, nor a 1D vector). We recommend flattening the observation to have only a 1D vector or use a custom policy to properly process the data. Actual observation shape: (30, 10)\u001b[0m\n",
      "\n",
      "/opt/conda/lib/python3.8/site-packages/gymnasium/utils/env_checker.py:317: UserWarning:\n",
      "\n",
      "\u001b[33mWARN: Not able to test alternative render modes due to the environment not having a spec. Try instantialising the environment through gymnasium.make\u001b[0m\n",
      "\n"
     ]
    },
    {
     "data": {
      "text/plain": [
       "QNetworkCNN(\n",
       "  (roi_network): Sequential(\n",
       "    (0): Conv1d(1, 32, kernel_size=(3,), stride=(1,))\n",
       "    (1): ReLU()\n",
       "    (2): MaxPool1d(kernel_size=2, stride=2, padding=0, dilation=1, ceil_mode=False)\n",
       "    (3): Conv1d(32, 64, kernel_size=(3,), stride=(1,))\n",
       "    (4): ReLU()\n",
       "    (5): MaxPool1d(kernel_size=2, stride=2, padding=0, dilation=1, ceil_mode=False)\n",
       "    (6): Flatten(start_dim=1, end_dim=-1)\n",
       "    (7): Linear(in_features=64, out_features=64, bias=True)\n",
       "    (8): ReLU()\n",
       "  )\n",
       "  (output_layer): Linear(in_features=2176, out_features=31, bias=True)\n",
       "  (other_network): Sequential(\n",
       "    (0): Linear(in_features=127, out_features=256, bias=True)\n",
       "    (1): ReLU()\n",
       "    (2): Linear(in_features=256, out_features=256, bias=True)\n",
       "    (3): ReLU()\n",
       "    (4): Linear(in_features=256, out_features=256, bias=True)\n",
       "    (5): ReLU()\n",
       "  )\n",
       ")"
      ]
     },
     "execution_count": 19,
     "metadata": {},
     "output_type": "execute_result"
    }
   ],
   "source": [
    "envs = gym.vector.SyncVectorEnv([make_env(env_id, 0, max_peaks, params)])\n",
    "model = get_QNetwork(QNETWORK_CNN, envs, device)\n",
    "model.load_state_dict(torch.load(model_path, map_location=device))\n",
    "model.eval()"
   ]
  },
  {
   "cell_type": "code",
   "execution_count": 20,
   "metadata": {
    "execution": {
     "iopub.execute_input": "2023-06-11T02:16:19.841564Z",
     "iopub.status.busy": "2023-06-11T02:16:19.841426Z",
     "iopub.status.idle": "2023-06-11T02:16:19.908392Z",
     "shell.execute_reply": "2023-06-11T02:16:19.907297Z",
     "shell.execute_reply.started": "2023-06-11T02:16:19.841549Z"
    }
   },
   "outputs": [
    {
     "data": {
      "text/plain": [
       "(30, 30)"
      ]
     },
     "execution_count": 20,
     "metadata": {},
     "output_type": "execute_result"
    }
   ],
   "source": [
    "eval_episodes = n_eval_episodes\n",
    "eval_episodes, len(chem_list)"
   ]
  },
  {
   "cell_type": "code",
   "execution_count": 21,
   "metadata": {
    "execution": {
     "iopub.execute_input": "2023-06-11T02:16:19.909587Z",
     "iopub.status.busy": "2023-06-11T02:16:19.909430Z",
     "iopub.status.idle": "2023-06-11T04:06:09.831996Z",
     "shell.execute_reply": "2023-06-11T04:06:09.831358Z",
     "shell.execute_reply.started": "2023-06-11T02:16:19.909565Z"
    }
   },
   "outputs": [
    {
     "name": "stdout",
     "output_type": "stream",
     "text": [
      "Episode 0 (426 chemicals) return 212.97012329101562 length 1848\n",
      "{'coverage_prop': '0.960', 'intensity_prop': '0.741', 'ms1ms2_ratio': '0.090', 'efficiency': '0.241', 'TP': '353', 'FP': '56', 'FN': '17', 'precision': '0.863', 'recall': '0.954', 'f1': '0.906', 'invalid_action_count': 0, 'total_rewards': 212.97012, 'episodic_length': 1848, 'num_ms1_scans': 152, 'num_ms2_scans': 1696}\n",
      "Episode 1 (262 chemicals) return 227.2220458984375 length 1787\n",
      "{'coverage_prop': '0.962', 'intensity_prop': '0.805', 'ms1ms2_ratio': '0.135', 'efficiency': '0.160', 'TP': '236', 'FP': '16', 'FN': '10', 'precision': '0.937', 'recall': '0.959', 'f1': '0.948', 'invalid_action_count': 0, 'total_rewards': 227.22205, 'episodic_length': 1787, 'num_ms1_scans': 213, 'num_ms2_scans': 1574}\n",
      "Episode 2 (394 chemicals) return 278.8027648925781 length 1830\n",
      "{'coverage_prop': '0.952', 'intensity_prop': '0.739', 'ms1ms2_ratio': '0.102', 'efficiency': '0.226', 'TP': '328', 'FP': '47', 'FN': '19', 'precision': '0.875', 'recall': '0.945', 'f1': '0.909', 'invalid_action_count': 0, 'total_rewards': 278.80276, 'episodic_length': 1830, 'num_ms1_scans': 170, 'num_ms2_scans': 1660}\n",
      "Episode 3 (452 chemicals) return 245.6388702392578 length 1852\n",
      "{'coverage_prop': '0.960', 'intensity_prop': '0.749', 'ms1ms2_ratio': '0.087', 'efficiency': '0.255', 'TP': '386', 'FP': '48', 'FN': '18', 'precision': '0.889', 'recall': '0.955', 'f1': '0.921', 'invalid_action_count': 0, 'total_rewards': 245.63887, 'episodic_length': 1852, 'num_ms1_scans': 148, 'num_ms2_scans': 1704}\n",
      "Episode 4 (437 chemicals) return 169.56695556640625 length 1844\n",
      "{'coverage_prop': '0.966', 'intensity_prop': '0.741', 'ms1ms2_ratio': '0.092', 'efficiency': '0.250', 'TP': '368', 'FP': '54', 'FN': '15', 'precision': '0.872', 'recall': '0.961', 'f1': '0.914', 'invalid_action_count': 0, 'total_rewards': 169.56696, 'episodic_length': 1844, 'num_ms1_scans': 156, 'num_ms2_scans': 1688}\n",
      "Episode 5 (200 chemicals) return 107.09339904785156 length 1718\n",
      "{'coverage_prop': '0.955', 'intensity_prop': '0.836', 'ms1ms2_ratio': '0.196', 'efficiency': '0.133', 'TP': '183', 'FP': '8', 'FN': '9', 'precision': '0.958', 'recall': '0.953', 'f1': '0.956', 'invalid_action_count': 0, 'total_rewards': 107.0934, 'episodic_length': 1718, 'num_ms1_scans': 282, 'num_ms2_scans': 1436}\n",
      "Episode 6 (478 chemicals) return 135.3787078857422 length 1853\n",
      "{'coverage_prop': '0.941', 'intensity_prop': '0.694', 'ms1ms2_ratio': '0.086', 'efficiency': '0.264', 'TP': '371', 'FP': '79', 'FN': '28', 'precision': '0.824', 'recall': '0.930', 'f1': '0.874', 'invalid_action_count': 0, 'total_rewards': 135.37871, 'episodic_length': 1853, 'num_ms1_scans': 147, 'num_ms2_scans': 1706}\n",
      "Episode 7 (204 chemicals) return 70.2234115600586 length 1735\n",
      "{'coverage_prop': '0.956', 'intensity_prop': '0.831', 'ms1ms2_ratio': '0.180', 'efficiency': '0.133', 'TP': '186', 'FP': '9', 'FN': '9', 'precision': '0.954', 'recall': '0.954', 'f1': '0.954', 'invalid_action_count': 0, 'total_rewards': 70.22341, 'episodic_length': 1735, 'num_ms1_scans': 265, 'num_ms2_scans': 1470}\n",
      "Episode 8 (424 chemicals) return 274.1034851074219 length 1862\n",
      "{'coverage_prop': '0.941', 'intensity_prop': '0.735', 'ms1ms2_ratio': '0.080', 'efficiency': '0.231', 'TP': '355', 'FP': '44', 'FN': '25', 'precision': '0.890', 'recall': '0.934', 'f1': '0.911', 'invalid_action_count': 0, 'total_rewards': 274.1035, 'episodic_length': 1862, 'num_ms1_scans': 138, 'num_ms2_scans': 1724}\n",
      "Episode 9 (384 chemicals) return 161.57225036621094 length 1841\n",
      "{'coverage_prop': '0.945', 'intensity_prop': '0.755', 'ms1ms2_ratio': '0.095', 'efficiency': '0.216', 'TP': '324', 'FP': '39', 'FN': '21', 'precision': '0.893', 'recall': '0.939', 'f1': '0.915', 'invalid_action_count': 0, 'total_rewards': 161.57225, 'episodic_length': 1841, 'num_ms1_scans': 159, 'num_ms2_scans': 1682}\n",
      "Episode 10 (443 chemicals) return 238.4591522216797 length 1866\n",
      "{'coverage_prop': '0.939', 'intensity_prop': '0.740', 'ms1ms2_ratio': '0.077', 'efficiency': '0.240', 'TP': '368', 'FP': '48', 'FN': '27', 'precision': '0.885', 'recall': '0.932', 'f1': '0.908', 'invalid_action_count': 0, 'total_rewards': 238.45915, 'episodic_length': 1866, 'num_ms1_scans': 134, 'num_ms2_scans': 1732}\n",
      "Episode 11 (249 chemicals) return 150.64352416992188 length 1771\n",
      "{'coverage_prop': '0.960', 'intensity_prop': '0.810', 'ms1ms2_ratio': '0.149', 'efficiency': '0.155', 'TP': '225', 'FP': '14', 'FN': '10', 'precision': '0.941', 'recall': '0.957', 'f1': '0.949', 'invalid_action_count': 0, 'total_rewards': 150.64352, 'episodic_length': 1771, 'num_ms1_scans': 229, 'num_ms2_scans': 1542}\n",
      "Episode 12 (251 chemicals) return 122.52629852294922 length 1767\n",
      "{'coverage_prop': '0.948', 'intensity_prop': '0.782', 'ms1ms2_ratio': '0.153', 'efficiency': '0.155', 'TP': '216', 'FP': '22', 'FN': '13', 'precision': '0.908', 'recall': '0.943', 'f1': '0.925', 'invalid_action_count': 0, 'total_rewards': 122.5263, 'episodic_length': 1767, 'num_ms1_scans': 234, 'num_ms2_scans': 1533}\n",
      "Episode 13 (300 chemicals) return 1.9114716053009033 length 1811\n",
      "{'coverage_prop': '0.953', 'intensity_prop': '0.768', 'ms1ms2_ratio': '0.117', 'efficiency': '0.176', 'TP': '257', 'FP': '29', 'FN': '14', 'precision': '0.899', 'recall': '0.948', 'f1': '0.923', 'invalid_action_count': 0, 'total_rewards': 1.9114716, 'episodic_length': 1811, 'num_ms1_scans': 189, 'num_ms2_scans': 1622}\n",
      "Episode 14 (206 chemicals) return -33.54601287841797 length 1764\n",
      "{'coverage_prop': '0.951', 'intensity_prop': '0.789', 'ms1ms2_ratio': '0.154', 'efficiency': '0.128', 'TP': '181', 'FP': '15', 'FN': '10', 'precision': '0.923', 'recall': '0.948', 'f1': '0.935', 'invalid_action_count': 0, 'total_rewards': -33.546013, 'episodic_length': 1764, 'num_ms1_scans': 236, 'num_ms2_scans': 1528}\n",
      "Episode 15 (407 chemicals) return 203.56622314453125 length 1830\n",
      "{'coverage_prop': '0.953', 'intensity_prop': '0.763', 'ms1ms2_ratio': '0.102', 'efficiency': '0.234', 'TP': '348', 'FP': '40', 'FN': '19', 'precision': '0.897', 'recall': '0.948', 'f1': '0.922', 'invalid_action_count': 0, 'total_rewards': 203.56622, 'episodic_length': 1830, 'num_ms1_scans': 170, 'num_ms2_scans': 1660}\n",
      "Episode 16 (498 chemicals) return 264.7925109863281 length 1859\n",
      "{'coverage_prop': '0.956', 'intensity_prop': '0.750', 'ms1ms2_ratio': '0.082', 'efficiency': '0.277', 'TP': '423', 'FP': '53', 'FN': '22', 'precision': '0.889', 'recall': '0.951', 'f1': '0.919', 'invalid_action_count': 0, 'total_rewards': 264.7925, 'episodic_length': 1859, 'num_ms1_scans': 141, 'num_ms2_scans': 1718}\n",
      "Episode 17 (372 chemicals) return 246.44895935058594 length 1837\n",
      "{'coverage_prop': '0.949', 'intensity_prop': '0.751', 'ms1ms2_ratio': '0.098', 'efficiency': '0.211', 'TP': '310', 'FP': '43', 'FN': '19', 'precision': '0.878', 'recall': '0.942', 'f1': '0.909', 'invalid_action_count': 0, 'total_rewards': 246.44896, 'episodic_length': 1837, 'num_ms1_scans': 164, 'num_ms2_scans': 1673}\n",
      "Episode 18 (302 chemicals) return 285.49139404296875 length 1811\n",
      "{'coverage_prop': '0.967', 'intensity_prop': '0.785', 'ms1ms2_ratio': '0.117', 'efficiency': '0.180', 'TP': '265', 'FP': '27', 'FN': '10', 'precision': '0.908', 'recall': '0.964', 'f1': '0.935', 'invalid_action_count': 0, 'total_rewards': 285.4914, 'episodic_length': 1811, 'num_ms1_scans': 190, 'num_ms2_scans': 1621}\n",
      "Episode 19 (265 chemicals) return 166.4987030029297 length 1790\n",
      "{'coverage_prop': '0.977', 'intensity_prop': '0.800', 'ms1ms2_ratio': '0.133', 'efficiency': '0.164', 'TP': '236', 'FP': '23', 'FN': '6', 'precision': '0.911', 'recall': '0.975', 'f1': '0.942', 'invalid_action_count': 0, 'total_rewards': 166.4987, 'episodic_length': 1790, 'num_ms1_scans': 210, 'num_ms2_scans': 1580}\n",
      "Episode 20 (468 chemicals) return 137.46189880371094 length 1849\n",
      "{'coverage_prop': '0.917', 'intensity_prop': '0.716', 'ms1ms2_ratio': '0.089', 'efficiency': '0.253', 'TP': '376', 'FP': '53', 'FN': '39', 'precision': '0.876', 'recall': '0.906', 'f1': '0.891', 'invalid_action_count': 0, 'total_rewards': 137.4619, 'episodic_length': 1849, 'num_ms1_scans': 151, 'num_ms2_scans': 1698}\n",
      "Episode 21 (234 chemicals) return 241.35781860351562 length 1741\n",
      "{'coverage_prop': '0.949', 'intensity_prop': '0.792', 'ms1ms2_ratio': '0.175', 'efficiency': '0.150', 'TP': '203', 'FP': '19', 'FN': '12', 'precision': '0.914', 'recall': '0.944', 'f1': '0.929', 'invalid_action_count': 0, 'total_rewards': 241.35782, 'episodic_length': 1741, 'num_ms1_scans': 259, 'num_ms2_scans': 1482}\n",
      "Episode 22 (322 chemicals) return 149.46446228027344 length 1818\n",
      "{'coverage_prop': '0.963', 'intensity_prop': '0.772', 'ms1ms2_ratio': '0.111', 'efficiency': '0.189', 'TP': '281', 'FP': '29', 'FN': '12', 'precision': '0.906', 'recall': '0.959', 'f1': '0.932', 'invalid_action_count': 0, 'total_rewards': 149.46446, 'episodic_length': 1818, 'num_ms1_scans': 182, 'num_ms2_scans': 1636}\n",
      "Episode 23 (310 chemicals) return 270.0600280761719 length 1785\n",
      "{'coverage_prop': '0.945', 'intensity_prop': '0.771', 'ms1ms2_ratio': '0.138', 'efficiency': '0.187', 'TP': '266', 'FP': '27', 'FN': '17', 'precision': '0.908', 'recall': '0.940', 'f1': '0.924', 'invalid_action_count': 0, 'total_rewards': 270.06003, 'episodic_length': 1785, 'num_ms1_scans': 216, 'num_ms2_scans': 1569}\n",
      "Episode 24 (345 chemicals) return 284.48883056640625 length 1825\n",
      "{'coverage_prop': '0.974', 'intensity_prop': '0.784', 'ms1ms2_ratio': '0.106', 'efficiency': '0.204', 'TP': '302', 'FP': '34', 'FN': '9', 'precision': '0.899', 'recall': '0.971', 'f1': '0.934', 'invalid_action_count': 0, 'total_rewards': 284.48883, 'episodic_length': 1825, 'num_ms1_scans': 175, 'num_ms2_scans': 1650}\n",
      "Episode 25 (396 chemicals) return 267.3199462890625 length 1853\n",
      "{'coverage_prop': '0.975', 'intensity_prop': '0.763', 'ms1ms2_ratio': '0.086', 'efficiency': '0.226', 'TP': '342', 'FP': '44', 'FN': '10', 'precision': '0.886', 'recall': '0.972', 'f1': '0.927', 'invalid_action_count': 0, 'total_rewards': 267.31995, 'episodic_length': 1853, 'num_ms1_scans': 147, 'num_ms2_scans': 1706}\n",
      "Episode 26 (203 chemicals) return 48.375972747802734 length 1750\n",
      "{'coverage_prop': '0.961', 'intensity_prop': '0.837', 'ms1ms2_ratio': '0.167', 'efficiency': '0.130', 'TP': '190', 'FP': '5', 'FN': '8', 'precision': '0.974', 'recall': '0.960', 'f1': '0.967', 'invalid_action_count': 0, 'total_rewards': 48.375973, 'episodic_length': 1750, 'num_ms1_scans': 250, 'num_ms2_scans': 1500}\n",
      "Episode 27 (281 chemicals) return 227.52749633789062 length 1789\n",
      "{'coverage_prop': '0.964', 'intensity_prop': '0.806', 'ms1ms2_ratio': '0.134', 'efficiency': '0.172', 'TP': '252', 'FP': '19', 'FN': '10', 'precision': '0.930', 'recall': '0.962', 'f1': '0.946', 'invalid_action_count': 0, 'total_rewards': 227.5275, 'episodic_length': 1789, 'num_ms1_scans': 211, 'num_ms2_scans': 1578}\n",
      "Episode 28 (493 chemicals) return 154.5821075439453 length 1870\n",
      "{'coverage_prop': '0.933', 'intensity_prop': '0.701', 'ms1ms2_ratio': '0.075', 'efficiency': '0.264', 'TP': '390', 'FP': '70', 'FN': '33', 'precision': '0.848', 'recall': '0.922', 'f1': '0.883', 'invalid_action_count': 0, 'total_rewards': 154.5821, 'episodic_length': 1870, 'num_ms1_scans': 130, 'num_ms2_scans': 1740}\n",
      "Episode 29 (304 chemicals) return 53.89718246459961 length 1810\n",
      "{'coverage_prop': '0.961', 'intensity_prop': '0.798', 'ms1ms2_ratio': '0.117', 'efficiency': '0.180', 'TP': '271', 'FP': '21', 'FN': '12', 'precision': '0.928', 'recall': '0.958', 'f1': '0.943', 'invalid_action_count': 0, 'total_rewards': 53.897182, 'episodic_length': 1810, 'num_ms1_scans': 190, 'num_ms2_scans': 1620}\n"
     ]
    }
   ],
   "source": [
    "episodic_returns = []\n",
    "evaluation_results = []\n",
    "for i in range(len(chem_list)):\n",
    "    if i >= eval_episodes:\n",
    "        break\n",
    "\n",
    "    chems = chem_list[i]\n",
    "\n",
    "    obs, info = envs.reset(options={'chems': chems})\n",
    "    done = False\n",
    "    eval_data = None\n",
    "    while not done:\n",
    "        env = envs.envs[0].env\n",
    "        actions = masked_epsilon_greedy(device, max_peaks, None, obs, model,\n",
    "                                        deterministic=True)\n",
    "\n",
    "        next_obs, rewards, terminateds, truncateds, infos = envs.step(actions)\n",
    "        dones = terminateds\n",
    "\n",
    "        if 'final_info' in infos:\n",
    "            final_infos = infos['final_info']\n",
    "            assert len(final_infos) == 1\n",
    "            info = final_infos[0]\n",
    "            episodic_return = info['episode']['r'][0]\n",
    "            episodic_length = info['episode']['l'][0]\n",
    "\n",
    "            eval_res = evaluate(eval_data)\n",
    "            eval_res['invalid_action_count'] = env.invalid_action_count\n",
    "            eval_res['total_rewards'] = episodic_return\n",
    "            eval_res['episodic_length'] = episodic_length\n",
    "            eval_res['num_ms1_scans'] = len(eval_data.controller.scans[1])\n",
    "            eval_res['num_ms2_scans'] = len(eval_data.controller.scans[2])\n",
    "            evaluation_results.append(eval_res)\n",
    "\n",
    "            print(\n",
    "                f'Episode {i} ({len(chems)} chemicals) return {episodic_return} length {episodic_length}')\n",
    "            print(eval_res)\n",
    "\n",
    "            episodic_returns += [episodic_return]\n",
    "            \n",
    "            mzml_name = METHOD_DQN\n",
    "            out_file = '%s_%d.mzML' % (mzml_name, i)\n",
    "            vimms_env.write_mzML(out_dir, out_file)            \n",
    "\n",
    "        obs = next_obs\n",
    "        done = dones[0]\n",
    "\n",
    "        # store previous results for evaluation before 'done'\n",
    "        # this needs to be here, because VecEnv is automatically reset when done\n",
    "        vimms_env = env.env.vimms_env\n",
    "        eval_data = EvaluationData(vimms_env)"
   ]
  },
  {
   "cell_type": "code",
   "execution_count": 22,
   "metadata": {
    "execution": {
     "iopub.execute_input": "2023-06-11T04:06:09.833053Z",
     "iopub.status.busy": "2023-06-11T04:06:09.832868Z",
     "iopub.status.idle": "2023-06-11T04:06:09.866741Z",
     "shell.execute_reply": "2023-06-11T04:06:09.866091Z",
     "shell.execute_reply.started": "2023-06-11T04:06:09.833013Z"
    }
   },
   "outputs": [],
   "source": [
    "method_eval_results[METHOD_DQN] = evaluation_results"
   ]
  },
  {
   "cell_type": "markdown",
   "metadata": {},
   "source": [
    "#### Test classic controllers in ViMMS"
   ]
  },
  {
   "cell_type": "code",
   "execution_count": 23,
   "metadata": {
    "execution": {
     "iopub.execute_input": "2023-06-11T04:06:09.867756Z",
     "iopub.status.busy": "2023-06-11T04:06:09.867608Z",
     "iopub.status.idle": "2023-06-11T04:06:09.899681Z",
     "shell.execute_reply": "2023-06-11T04:06:09.898870Z",
     "shell.execute_reply.started": "2023-06-11T04:06:09.867740Z"
    }
   },
   "outputs": [],
   "source": [
    "from vimms.MassSpec import IndependentMassSpectrometer\n",
    "from vimms.Controller import TopNController, TopN_SmartRoiController, WeightedDEWController\n",
    "from vimms.Environment import Environment"
   ]
  },
  {
   "cell_type": "markdown",
   "metadata": {},
   "source": [
    "Run Top-N Controller"
   ]
  },
  {
   "cell_type": "code",
   "execution_count": 24,
   "metadata": {
    "execution": {
     "iopub.execute_input": "2023-06-11T04:06:09.900667Z",
     "iopub.status.busy": "2023-06-11T04:06:09.900521Z",
     "iopub.status.idle": "2023-06-11T04:06:09.933663Z",
     "shell.execute_reply": "2023-06-11T04:06:09.933106Z",
     "shell.execute_reply.started": "2023-06-11T04:06:09.900651Z"
    }
   },
   "outputs": [
    {
     "data": {
      "text/plain": [
       "{'chemical_creator': {'mz_range': (100, 600),\n",
       "  'rt_range': (400, 800),\n",
       "  'intensity_range': (10000.0, 1e+20),\n",
       "  'n_chemicals': (200, 500),\n",
       "  'mz_sampler': <vimms.ChemicalSamplers.MZMLFormulaSampler at 0x7f3aea1f2ee0>,\n",
       "  'ri_sampler': <vimms.ChemicalSamplers.MZMLRTandIntensitySampler at 0x7f3a3a955fa0>,\n",
       "  'cr_sampler': <vimms.ChemicalSamplers.MZMLChromatogramSampler at 0x7f3a3aa2a610>},\n",
       " 'noise': {'enable_spike_noise': True,\n",
       "  'noise_density': 0.1,\n",
       "  'noise_max_val': 1000.0,\n",
       "  'mz_range': (100, 600)},\n",
       " 'env': {'ionisation_mode': 'Positive',\n",
       "  'rt_range': (400, 800),\n",
       "  'isolation_window': 0.7,\n",
       "  'use_dew': False,\n",
       "  'mz_tol': 10,\n",
       "  'rt_tol': 5,\n",
       "  'min_ms1_intensity': 5000,\n",
       "  'alpha': 0.25,\n",
       "  'beta': 0.5}}"
      ]
     },
     "execution_count": 24,
     "metadata": {},
     "output_type": "execute_result"
    }
   ],
   "source": [
    "params"
   ]
  },
  {
   "cell_type": "code",
   "execution_count": 25,
   "metadata": {
    "execution": {
     "iopub.execute_input": "2023-06-11T04:06:09.934653Z",
     "iopub.status.busy": "2023-06-11T04:06:09.934530Z",
     "iopub.status.idle": "2023-06-11T04:06:09.966598Z",
     "shell.execute_reply": "2023-06-11T04:06:09.965869Z",
     "shell.execute_reply.started": "2023-06-11T04:06:09.934638Z"
    }
   },
   "outputs": [],
   "source": [
    "enable_spike_noise = params['noise']['enable_spike_noise']\n",
    "ionisation_mode = params['env']['ionisation_mode']\n",
    "isolation_window = params['env']['isolation_window']\n",
    "mz_tol = params['env']['mz_tol']\n",
    "rt_range = params['chemical_creator']['rt_range']"
   ]
  },
  {
   "cell_type": "code",
   "execution_count": 26,
   "metadata": {
    "execution": {
     "iopub.execute_input": "2023-06-11T04:06:09.968607Z",
     "iopub.status.busy": "2023-06-11T04:06:09.967979Z",
     "iopub.status.idle": "2023-06-11T04:09:00.873972Z",
     "shell.execute_reply": "2023-06-11T04:09:00.873474Z",
     "shell.execute_reply.started": "2023-06-11T04:06:09.968579Z"
    }
   },
   "outputs": [
    {
     "name": "stdout",
     "output_type": "stream",
     "text": [
      "method = TopN_Controller\n",
      "\n",
      "Episode 0 finished\n",
      "{'coverage_prop': '0.960', 'intensity_prop': '0.746', 'ms1ms2_ratio': '0.215', 'efficiency': '0.293', 'TP': '366', 'FP': '43', 'FN': '17', 'precision': '0.895', 'recall': '0.956', 'f1': '0.924'}\n",
      "\n",
      "Episode 1 finished\n",
      "{'coverage_prop': '0.962', 'intensity_prop': '0.791', 'ms1ms2_ratio': '0.442', 'efficiency': '0.237', 'TP': '236', 'FP': '16', 'FN': '10', 'precision': '0.937', 'recall': '0.959', 'f1': '0.948'}\n",
      "\n",
      "Episode 2 finished\n",
      "{'coverage_prop': '0.970', 'intensity_prop': '0.750', 'ms1ms2_ratio': '0.273', 'efficiency': '0.295', 'TP': '344', 'FP': '38', 'FN': '12', 'precision': '0.901', 'recall': '0.966', 'f1': '0.932'}\n",
      "\n",
      "Episode 3 finished\n",
      "{'coverage_prop': '0.956', 'intensity_prop': '0.758', 'ms1ms2_ratio': '0.226', 'efficiency': '0.313', 'TP': '395', 'FP': '37', 'FN': '20', 'precision': '0.914', 'recall': '0.952', 'f1': '0.933'}\n",
      "\n",
      "Episode 4 finished\n",
      "{'coverage_prop': '0.975', 'intensity_prop': '0.759', 'ms1ms2_ratio': '0.234', 'efficiency': '0.313', 'TP': '384', 'FP': '42', 'FN': '11', 'precision': '0.901', 'recall': '0.972', 'f1': '0.935'}\n",
      "\n",
      "Episode 5 finished\n",
      "{'coverage_prop': '0.960', 'intensity_prop': '0.788', 'ms1ms2_ratio': '0.791', 'efficiency': '0.248', 'TP': '182', 'FP': '10', 'FN': '8', 'precision': '0.948', 'recall': '0.958', 'f1': '0.953'}\n",
      "\n",
      "Episode 6 finished\n",
      "{'coverage_prop': '0.929', 'intensity_prop': '0.724', 'ms1ms2_ratio': '0.193', 'efficiency': '0.307', 'TP': '394', 'FP': '50', 'FN': '34', 'precision': '0.887', 'recall': '0.921', 'f1': '0.904'}\n",
      "\n",
      "Episode 7 finished\n",
      "{'coverage_prop': '0.961', 'intensity_prop': '0.789', 'ms1ms2_ratio': '0.620', 'efficiency': '0.219', 'TP': '186', 'FP': '10', 'FN': '8', 'precision': '0.949', 'recall': '0.959', 'f1': '0.954'}\n",
      "\n",
      "Episode 8 finished\n",
      "{'coverage_prop': '0.948', 'intensity_prop': '0.744', 'ms1ms2_ratio': '0.208', 'efficiency': '0.285', 'TP': '369', 'FP': '33', 'FN': '22', 'precision': '0.918', 'recall': '0.944', 'f1': '0.931'}\n",
      "\n",
      "Episode 9 finished\n",
      "{'coverage_prop': '0.964', 'intensity_prop': '0.762', 'ms1ms2_ratio': '0.276', 'efficiency': '0.287', 'TP': '333', 'FP': '37', 'FN': '14', 'precision': '0.900', 'recall': '0.960', 'f1': '0.929'}\n",
      "\n",
      "Episode 10 finished\n",
      "{'coverage_prop': '0.953', 'intensity_prop': '0.759', 'ms1ms2_ratio': '0.191', 'efficiency': '0.292', 'TP': '387', 'FP': '35', 'FN': '21', 'precision': '0.917', 'recall': '0.949', 'f1': '0.933'}\n",
      "\n",
      "Episode 11 finished\n",
      "{'coverage_prop': '0.960', 'intensity_prop': '0.783', 'ms1ms2_ratio': '0.500', 'efficiency': '0.239', 'TP': '225', 'FP': '14', 'FN': '10', 'precision': '0.941', 'recall': '0.957', 'f1': '0.949'}\n",
      "\n",
      "Episode 12 finished\n",
      "{'coverage_prop': '0.948', 'intensity_prop': '0.746', 'ms1ms2_ratio': '0.368', 'efficiency': '0.207', 'TP': '216', 'FP': '22', 'FN': '13', 'precision': '0.908', 'recall': '0.943', 'f1': '0.925'}\n",
      "\n",
      "Episode 13 finished\n",
      "{'coverage_prop': '0.967', 'intensity_prop': '0.764', 'ms1ms2_ratio': '0.300', 'efficiency': '0.232', 'TP': '263', 'FP': '27', 'FN': '10', 'precision': '0.907', 'recall': '0.963', 'f1': '0.934'}\n",
      "\n",
      "Episode 14 finished\n",
      "{'coverage_prop': '0.956', 'intensity_prop': '0.768', 'ms1ms2_ratio': '0.559', 'efficiency': '0.209', 'TP': '180', 'FP': '17', 'FN': '9', 'precision': '0.914', 'recall': '0.952', 'f1': '0.933'}\n",
      "\n",
      "Episode 15 finished\n",
      "{'coverage_prop': '0.971', 'intensity_prop': '0.779', 'ms1ms2_ratio': '0.298', 'efficiency': '0.315', 'TP': '365', 'FP': '30', 'FN': '12', 'precision': '0.924', 'recall': '0.968', 'f1': '0.946'}\n",
      "\n",
      "Episode 16 finished\n",
      "{'coverage_prop': '0.962', 'intensity_prop': '0.758', 'ms1ms2_ratio': '0.201', 'efficiency': '0.336', 'TP': '437', 'FP': '42', 'FN': '19', 'precision': '0.912', 'recall': '0.958', 'f1': '0.935'}\n",
      "\n",
      "Episode 17 finished\n",
      "{'coverage_prop': '0.962', 'intensity_prop': '0.777', 'ms1ms2_ratio': '0.262', 'efficiency': '0.273', 'TP': '332', 'FP': '26', 'FN': '14', 'precision': '0.927', 'recall': '0.960', 'f1': '0.943'}\n",
      "\n",
      "Episode 18 finished\n",
      "{'coverage_prop': '0.967', 'intensity_prop': '0.767', 'ms1ms2_ratio': '0.356', 'efficiency': '0.250', 'TP': '268', 'FP': '24', 'FN': '10', 'precision': '0.918', 'recall': '0.964', 'f1': '0.940'}\n",
      "\n",
      "Episode 19 finished\n",
      "{'coverage_prop': '0.977', 'intensity_prop': '0.795', 'ms1ms2_ratio': '0.326', 'efficiency': '0.214', 'TP': '242', 'FP': '17', 'FN': '6', 'precision': '0.934', 'recall': '0.976', 'f1': '0.955'}\n",
      "\n",
      "Episode 20 finished\n",
      "{'coverage_prop': '0.921', 'intensity_prop': '0.731', 'ms1ms2_ratio': '0.209', 'efficiency': '0.306', 'TP': '397', 'FP': '34', 'FN': '37', 'precision': '0.921', 'recall': '0.915', 'f1': '0.918'}\n",
      "\n",
      "Episode 21 finished\n",
      "{'coverage_prop': '0.957', 'intensity_prop': '0.760', 'ms1ms2_ratio': '0.633', 'efficiency': '0.254', 'TP': '202', 'FP': '22', 'FN': '10', 'precision': '0.902', 'recall': '0.953', 'f1': '0.927'}\n",
      "\n",
      "Episode 22 finished\n",
      "{'coverage_prop': '0.966', 'intensity_prop': '0.770', 'ms1ms2_ratio': '0.322', 'efficiency': '0.256', 'TP': '291', 'FP': '20', 'FN': '11', 'precision': '0.936', 'recall': '0.964', 'f1': '0.949'}\n",
      "\n",
      "Episode 23 finished\n",
      "{'coverage_prop': '0.948', 'intensity_prop': '0.766', 'ms1ms2_ratio': '0.420', 'efficiency': '0.270', 'TP': '272', 'FP': '22', 'FN': '16', 'precision': '0.925', 'recall': '0.944', 'f1': '0.935'}\n",
      "\n",
      "Episode 24 finished\n",
      "{'coverage_prop': '0.983', 'intensity_prop': '0.786', 'ms1ms2_ratio': '0.261', 'efficiency': '0.258', 'TP': '315', 'FP': '24', 'FN': '6', 'precision': '0.929', 'recall': '0.981', 'f1': '0.955'}\n",
      "\n",
      "Episode 25 finished\n",
      "{'coverage_prop': '0.980', 'intensity_prop': '0.773', 'ms1ms2_ratio': '0.270', 'efficiency': '0.299', 'TP': '354', 'FP': '34', 'FN': '8', 'precision': '0.912', 'recall': '0.978', 'f1': '0.944'}\n",
      "\n",
      "Episode 26 finished\n",
      "{'coverage_prop': '0.970', 'intensity_prop': '0.786', 'ms1ms2_ratio': '0.651', 'efficiency': '0.227', 'TP': '183', 'FP': '14', 'FN': '6', 'precision': '0.929', 'recall': '0.968', 'f1': '0.948'}\n",
      "\n",
      "Episode 27 finished\n",
      "{'coverage_prop': '0.968', 'intensity_prop': '0.795', 'ms1ms2_ratio': '0.449', 'efficiency': '0.258', 'TP': '253', 'FP': '19', 'FN': '9', 'precision': '0.930', 'recall': '0.966', 'f1': '0.948'}\n",
      "\n",
      "Episode 28 finished\n",
      "{'coverage_prop': '0.933', 'intensity_prop': '0.708', 'ms1ms2_ratio': '0.186', 'efficiency': '0.316', 'TP': '405', 'FP': '55', 'FN': '33', 'precision': '0.880', 'recall': '0.925', 'f1': '0.902'}\n",
      "\n",
      "Episode 29 finished\n",
      "{'coverage_prop': '0.967', 'intensity_prop': '0.794', 'ms1ms2_ratio': '0.317', 'efficiency': '0.240', 'TP': '275', 'FP': '19', 'FN': '10', 'precision': '0.935', 'recall': '0.965', 'f1': '0.950'}\n",
      "\n"
     ]
    }
   ],
   "source": [
    "method = 'TopN_Controller'\n",
    "print('method = %s' % method)\n",
    "print()\n",
    "\n",
    "effective_rt_tol = topN_rt_tol\n",
    "effective_N = topN_N\n",
    "eval_results = []\n",
    "for i in range(len(chem_list)):\n",
    "    \n",
    "    spike_noise = None\n",
    "    if enable_spike_noise:\n",
    "        noise_params = params['noise']\n",
    "        noise_density = noise_params['noise_density']\n",
    "        noise_max_val = noise_params['noise_max_val']\n",
    "        noise_min_mz = noise_params['mz_range'][0]\n",
    "        noise_max_mz = noise_params['mz_range'][1]\n",
    "        spike_noise = UniformSpikeNoise(noise_density, noise_max_val, min_mz=noise_min_mz,\n",
    "                                        max_mz=noise_max_mz)\n",
    "\n",
    "    chems = chem_list[i]\n",
    "    mass_spec = IndependentMassSpectrometer(ionisation_mode, chems, spike_noise=spike_noise)\n",
    "    controller = TopNController(ionisation_mode, effective_N, isolation_window, mz_tol, effective_rt_tol,\n",
    "                                min_ms1_intensity)\n",
    "    env = Environment(mass_spec, controller, rt_range[0], rt_range[1], progress_bar=False, out_dir=out_dir,\n",
    "                      out_file='%s_%d.mzML' % (method, i), save_eval=True)\n",
    "    env.run()\n",
    "    \n",
    "    eval_res = evaluate(env, intensity_threshold)\n",
    "    # eval_res['total_rewards'] = 0\n",
    "    eval_results.append(eval_res)\n",
    "    print('Episode %d finished' % i)\n",
    "    print(eval_res)\n",
    "    print()\n",
    "    \n",
    "method_eval_results[method] = eval_results"
   ]
  },
  {
   "cell_type": "markdown",
   "metadata": {},
   "source": [
    "Run SmartROI Controller"
   ]
  },
  {
   "cell_type": "code",
   "execution_count": 27,
   "metadata": {
    "execution": {
     "iopub.execute_input": "2023-06-11T04:09:00.874826Z",
     "iopub.status.busy": "2023-06-11T04:09:00.874693Z",
     "iopub.status.idle": "2023-06-11T04:09:00.908171Z",
     "shell.execute_reply": "2023-06-11T04:09:00.907581Z",
     "shell.execute_reply.started": "2023-06-11T04:09:00.874810Z"
    }
   },
   "outputs": [
    {
     "data": {
      "text/plain": [
       "(10, 5, 2, 0.5, 0)"
      ]
     },
     "execution_count": 27,
     "metadata": {},
     "output_type": "execute_result"
    }
   ],
   "source": [
    "smartroi_N, smartroi_dew, alpha, beta, ils"
   ]
  },
  {
   "cell_type": "code",
   "execution_count": 28,
   "metadata": {
    "execution": {
     "iopub.execute_input": "2023-06-11T04:09:00.909709Z",
     "iopub.status.busy": "2023-06-11T04:09:00.909112Z",
     "iopub.status.idle": "2023-06-11T04:12:37.255599Z",
     "shell.execute_reply": "2023-06-11T04:12:37.255014Z",
     "shell.execute_reply.started": "2023-06-11T04:09:00.909685Z"
    }
   },
   "outputs": [
    {
     "name": "stdout",
     "output_type": "stream",
     "text": [
      "method = SmartROI_Controller\n",
      "\n",
      "Episode 0 finished\n",
      "{'coverage_prop': '0.979', 'intensity_prop': '0.706', 'ms1ms2_ratio': '0.791', 'efficiency': '0.538', 'TP': '363', 'FP': '54', 'FN': '9', 'precision': '0.871', 'recall': '0.976', 'f1': '0.920'}\n",
      "\n",
      "Episode 1 finished\n",
      "{'coverage_prop': '0.962', 'intensity_prop': '0.715', 'ms1ms2_ratio': '1.505', 'efficiency': '0.505', 'TP': '218', 'FP': '34', 'FN': '10', 'precision': '0.865', 'recall': '0.956', 'f1': '0.908'}\n",
      "\n",
      "Episode 2 finished\n",
      "{'coverage_prop': '0.970', 'intensity_prop': '0.708', 'ms1ms2_ratio': '0.850', 'efficiency': '0.516', 'TP': '324', 'FP': '58', 'FN': '12', 'precision': '0.848', 'recall': '0.964', 'f1': '0.903'}\n",
      "\n",
      "Episode 3 finished\n",
      "{'coverage_prop': '0.973', 'intensity_prop': '0.716', 'ms1ms2_ratio': '0.741', 'efficiency': '0.546', 'TP': '379', 'FP': '61', 'FN': '12', 'precision': '0.861', 'recall': '0.969', 'f1': '0.912'}\n",
      "\n",
      "Episode 4 finished\n",
      "{'coverage_prop': '0.991', 'intensity_prop': '0.723', 'ms1ms2_ratio': '0.779', 'efficiency': '0.554', 'TP': '368', 'FP': '65', 'FN': '4', 'precision': '0.850', 'recall': '0.989', 'f1': '0.914'}\n",
      "\n",
      "Episode 5 finished\n",
      "{'coverage_prop': '0.955', 'intensity_prop': '0.717', 'ms1ms2_ratio': '2.154', 'efficiency': '0.507', 'TP': '170', 'FP': '21', 'FN': '9', 'precision': '0.890', 'recall': '0.950', 'f1': '0.919'}\n",
      "\n",
      "Episode 6 finished\n",
      "{'coverage_prop': '0.960', 'intensity_prop': '0.697', 'ms1ms2_ratio': '0.681', 'efficiency': '0.542', 'TP': '399', 'FP': '60', 'FN': '19', 'precision': '0.869', 'recall': '0.955', 'f1': '0.910'}\n",
      "\n",
      "Episode 7 finished\n",
      "{'coverage_prop': '0.961', 'intensity_prop': '0.721', 'ms1ms2_ratio': '2.067', 'efficiency': '0.503', 'TP': '180', 'FP': '16', 'FN': '8', 'precision': '0.918', 'recall': '0.957', 'f1': '0.938'}\n",
      "\n",
      "Episode 8 finished\n",
      "{'coverage_prop': '0.953', 'intensity_prop': '0.690', 'ms1ms2_ratio': '0.822', 'efficiency': '0.534', 'TP': '351', 'FP': '53', 'FN': '20', 'precision': '0.869', 'recall': '0.946', 'f1': '0.906'}\n",
      "\n",
      "Episode 9 finished\n",
      "{'coverage_prop': '0.966', 'intensity_prop': '0.718', 'ms1ms2_ratio': '0.897', 'efficiency': '0.518', 'TP': '325', 'FP': '46', 'FN': '13', 'precision': '0.876', 'recall': '0.962', 'f1': '0.917'}\n",
      "\n",
      "Episode 10 finished\n",
      "{'coverage_prop': '0.964', 'intensity_prop': '0.721', 'ms1ms2_ratio': '0.688', 'efficiency': '0.507', 'TP': '373', 'FP': '54', 'FN': '16', 'precision': '0.874', 'recall': '0.959', 'f1': '0.914'}\n",
      "\n",
      "Episode 11 finished\n",
      "{'coverage_prop': '0.968', 'intensity_prop': '0.719', 'ms1ms2_ratio': '1.633', 'efficiency': '0.514', 'TP': '218', 'FP': '23', 'FN': '8', 'precision': '0.905', 'recall': '0.965', 'f1': '0.934'}\n",
      "\n",
      "Episode 12 finished\n",
      "{'coverage_prop': '0.948', 'intensity_prop': '0.664', 'ms1ms2_ratio': '1.615', 'efficiency': '0.503', 'TP': '196', 'FP': '42', 'FN': '13', 'precision': '0.824', 'recall': '0.938', 'f1': '0.877'}\n",
      "\n",
      "Episode 13 finished\n",
      "{'coverage_prop': '0.967', 'intensity_prop': '0.690', 'ms1ms2_ratio': '1.267', 'efficiency': '0.512', 'TP': '233', 'FP': '57', 'FN': '10', 'precision': '0.803', 'recall': '0.959', 'f1': '0.874'}\n",
      "\n",
      "Episode 14 finished\n",
      "{'coverage_prop': '0.951', 'intensity_prop': '0.701', 'ms1ms2_ratio': '1.970', 'efficiency': '0.484', 'TP': '172', 'FP': '24', 'FN': '10', 'precision': '0.878', 'recall': '0.945', 'f1': '0.910'}\n",
      "\n",
      "Episode 15 finished\n",
      "{'coverage_prop': '0.975', 'intensity_prop': '0.730', 'ms1ms2_ratio': '0.850', 'efficiency': '0.536', 'TP': '346', 'FP': '51', 'FN': '10', 'precision': '0.872', 'recall': '0.972', 'f1': '0.919'}\n",
      "\n",
      "Episode 16 finished\n",
      "{'coverage_prop': '0.978', 'intensity_prop': '0.732', 'ms1ms2_ratio': '0.598', 'efficiency': '0.535', 'TP': '424', 'FP': '63', 'FN': '11', 'precision': '0.871', 'recall': '0.975', 'f1': '0.920'}\n",
      "\n",
      "Episode 17 finished\n",
      "{'coverage_prop': '0.968', 'intensity_prop': '0.697', 'ms1ms2_ratio': '0.982', 'efficiency': '0.533', 'TP': '308', 'FP': '52', 'FN': '12', 'precision': '0.856', 'recall': '0.963', 'f1': '0.906'}\n",
      "\n",
      "Episode 18 finished\n",
      "{'coverage_prop': '0.967', 'intensity_prop': '0.715', 'ms1ms2_ratio': '1.246', 'efficiency': '0.510', 'TP': '255', 'FP': '37', 'FN': '10', 'precision': '0.873', 'recall': '0.962', 'f1': '0.916'}\n",
      "\n",
      "Episode 19 finished\n",
      "{'coverage_prop': '0.981', 'intensity_prop': '0.709', 'ms1ms2_ratio': '1.481', 'efficiency': '0.515', 'TP': '220', 'FP': '40', 'FN': '5', 'precision': '0.846', 'recall': '0.978', 'f1': '0.907'}\n",
      "\n",
      "Episode 20 finished\n",
      "{'coverage_prop': '0.962', 'intensity_prop': '0.715', 'ms1ms2_ratio': '0.698', 'efficiency': '0.539', 'TP': '394', 'FP': '56', 'FN': '18', 'precision': '0.876', 'recall': '0.956', 'f1': '0.914'}\n",
      "\n",
      "Episode 21 finished\n",
      "{'coverage_prop': '0.953', 'intensity_prop': '0.694', 'ms1ms2_ratio': '1.839', 'efficiency': '0.521', 'TP': '194', 'FP': '29', 'FN': '11', 'precision': '0.870', 'recall': '0.946', 'f1': '0.907'}\n",
      "\n",
      "Episode 22 finished\n",
      "{'coverage_prop': '0.969', 'intensity_prop': '0.711', 'ms1ms2_ratio': '1.187', 'efficiency': '0.526', 'TP': '273', 'FP': '39', 'FN': '10', 'precision': '0.875', 'recall': '0.965', 'f1': '0.918'}\n",
      "\n",
      "Episode 23 finished\n",
      "{'coverage_prop': '0.955', 'intensity_prop': '0.701', 'ms1ms2_ratio': '1.265', 'efficiency': '0.522', 'TP': '247', 'FP': '49', 'FN': '14', 'precision': '0.834', 'recall': '0.946', 'f1': '0.887'}\n",
      "\n",
      "Episode 24 finished\n",
      "{'coverage_prop': '0.983', 'intensity_prop': '0.725', 'ms1ms2_ratio': '0.973', 'efficiency': '0.499', 'TP': '297', 'FP': '42', 'FN': '6', 'precision': '0.876', 'recall': '0.980', 'f1': '0.925'}\n",
      "\n",
      "Episode 25 finished\n",
      "{'coverage_prop': '0.990', 'intensity_prop': '0.722', 'ms1ms2_ratio': '0.870', 'efficiency': '0.537', 'TP': '336', 'FP': '56', 'FN': '4', 'precision': '0.857', 'recall': '0.988', 'f1': '0.918'}\n",
      "\n",
      "Episode 26 finished\n",
      "{'coverage_prop': '0.970', 'intensity_prop': '0.723', 'ms1ms2_ratio': '2.059', 'efficiency': '0.504', 'TP': '174', 'FP': '23', 'FN': '6', 'precision': '0.883', 'recall': '0.967', 'f1': '0.923'}\n",
      "\n",
      "Episode 27 finished\n",
      "{'coverage_prop': '0.968', 'intensity_prop': '0.719', 'ms1ms2_ratio': '1.377', 'efficiency': '0.510', 'TP': '241', 'FP': '31', 'FN': '9', 'precision': '0.886', 'recall': '0.964', 'f1': '0.923'}\n",
      "\n",
      "Episode 28 finished\n",
      "{'coverage_prop': '0.972', 'intensity_prop': '0.711', 'ms1ms2_ratio': '0.589', 'efficiency': '0.522', 'TP': '409', 'FP': '70', 'FN': '14', 'precision': '0.854', 'recall': '0.967', 'f1': '0.907'}\n",
      "\n",
      "Episode 29 finished\n",
      "{'coverage_prop': '0.970', 'intensity_prop': '0.730', 'ms1ms2_ratio': '1.193', 'efficiency': '0.499', 'TP': '267', 'FP': '28', 'FN': '9', 'precision': '0.905', 'recall': '0.967', 'f1': '0.935'}\n",
      "\n"
     ]
    }
   ],
   "source": [
    "method = 'SmartROI_Controller'\n",
    "print('method = %s' % method)\n",
    "print()\n",
    "\n",
    "eval_results = []\n",
    "for i in range(len(chem_list)):\n",
    "    \n",
    "    spike_noise = None\n",
    "    if enable_spike_noise:\n",
    "        noise_params = params['noise']\n",
    "        noise_density = noise_params['noise_density']\n",
    "        noise_max_val = noise_params['noise_max_val']\n",
    "        noise_min_mz = noise_params['mz_range'][0]\n",
    "        noise_max_mz = noise_params['mz_range'][1]\n",
    "        spike_noise = UniformSpikeNoise(noise_density, noise_max_val, min_mz=noise_min_mz,\n",
    "                                        max_mz=noise_max_mz)\n",
    "\n",
    "    chems = chem_list[i]\n",
    "    mass_spec = IndependentMassSpectrometer(ionisation_mode, chems, spike_noise=spike_noise)\n",
    "    \n",
    "    roi_params = RoiBuilderParams(min_roi_intensity=0, min_roi_length=0)    \n",
    "    smartroi_params = SmartRoiParams(intensity_increase_factor=alpha, drop_perc=beta/100.0, dew=smartroi_dew, initial_length_seconds=ils)\n",
    "    controller = TopN_SmartRoiController(ionisation_mode, isolation_window, smartroi_N, mz_tol, smartroi_dew,\n",
    "                                min_ms1_intensity, roi_params, smartroi_params)\n",
    "    env = Environment(mass_spec, controller, rt_range[0], rt_range[1], progress_bar=False, out_dir=out_dir,\n",
    "                      out_file='%s_%d.mzML' % (method, i), save_eval=True)\n",
    "    env.run()\n",
    "    \n",
    "    eval_res = evaluate(env, intensity_threshold)\n",
    "    # eval_res['total_rewards'] = 0\n",
    "    eval_results.append(eval_res)\n",
    "    print('Episode %d finished' % i)\n",
    "    print(eval_res)\n",
    "    print()    \n",
    "    \n",
    "method_eval_results[method] = eval_results"
   ]
  },
  {
   "cell_type": "markdown",
   "metadata": {},
   "source": [
    "Run WeightedDEW Controller"
   ]
  },
  {
   "cell_type": "code",
   "execution_count": 29,
   "metadata": {
    "execution": {
     "iopub.execute_input": "2023-06-11T04:12:37.256584Z",
     "iopub.status.busy": "2023-06-11T04:12:37.256438Z",
     "iopub.status.idle": "2023-06-11T04:15:38.104857Z",
     "shell.execute_reply": "2023-06-11T04:15:38.104426Z",
     "shell.execute_reply.started": "2023-06-11T04:12:37.256568Z"
    }
   },
   "outputs": [
    {
     "name": "stdout",
     "output_type": "stream",
     "text": [
      "method = WeightedDEW_Controller\n",
      "\n",
      "Episode 0 finished\n",
      "{'coverage_prop': '0.965', 'intensity_prop': '0.743', 'ms1ms2_ratio': '0.159', 'efficiency': '0.271', 'TP': '368', 'FP': '43', 'FN': '15', 'precision': '0.895', 'recall': '0.961', 'f1': '0.927'}\n",
      "\n",
      "Episode 1 finished\n",
      "{'coverage_prop': '0.958', 'intensity_prop': '0.791', 'ms1ms2_ratio': '0.242', 'efficiency': '0.186', 'TP': '238', 'FP': '13', 'FN': '11', 'precision': '0.948', 'recall': '0.956', 'f1': '0.952'}\n",
      "\n",
      "Episode 2 finished\n",
      "{'coverage_prop': '0.964', 'intensity_prop': '0.738', 'ms1ms2_ratio': '0.198', 'efficiency': '0.265', 'TP': '343', 'FP': '37', 'FN': '14', 'precision': '0.903', 'recall': '0.961', 'f1': '0.931'}\n",
      "\n",
      "Episode 3 finished\n",
      "{'coverage_prop': '0.969', 'intensity_prop': '0.762', 'ms1ms2_ratio': '0.158', 'efficiency': '0.288', 'TP': '404', 'FP': '34', 'FN': '14', 'precision': '0.922', 'recall': '0.967', 'f1': '0.944'}\n",
      "\n",
      "Episode 4 finished\n",
      "{'coverage_prop': '0.984', 'intensity_prop': '0.761', 'ms1ms2_ratio': '0.178', 'efficiency': '0.292', 'TP': '389', 'FP': '41', 'FN': '7', 'precision': '0.905', 'recall': '0.982', 'f1': '0.942'}\n",
      "\n",
      "Episode 5 finished\n",
      "{'coverage_prop': '0.960', 'intensity_prop': '0.815', 'ms1ms2_ratio': '0.421', 'efficiency': '0.177', 'TP': '186', 'FP': '6', 'FN': '8', 'precision': '0.969', 'recall': '0.959', 'f1': '0.964'}\n",
      "\n",
      "Episode 6 finished\n",
      "{'coverage_prop': '0.952', 'intensity_prop': '0.745', 'ms1ms2_ratio': '0.156', 'efficiency': '0.299', 'TP': '410', 'FP': '45', 'FN': '23', 'precision': '0.901', 'recall': '0.947', 'f1': '0.923'}\n",
      "\n",
      "Episode 7 finished\n",
      "{'coverage_prop': '0.956', 'intensity_prop': '0.810', 'ms1ms2_ratio': '0.349', 'efficiency': '0.165', 'TP': '188', 'FP': '7', 'FN': '9', 'precision': '0.964', 'recall': '0.954', 'f1': '0.959'}\n",
      "\n",
      "Episode 8 finished\n",
      "{'coverage_prop': '0.955', 'intensity_prop': '0.736', 'ms1ms2_ratio': '0.147', 'efficiency': '0.262', 'TP': '362', 'FP': '43', 'FN': '19', 'precision': '0.894', 'recall': '0.950', 'f1': '0.921'}\n",
      "\n",
      "Episode 9 finished\n",
      "{'coverage_prop': '0.969', 'intensity_prop': '0.765', 'ms1ms2_ratio': '0.185', 'efficiency': '0.255', 'TP': '342', 'FP': '30', 'FN': '12', 'precision': '0.919', 'recall': '0.966', 'f1': '0.942'}\n",
      "\n",
      "Episode 10 finished\n",
      "{'coverage_prop': '0.962', 'intensity_prop': '0.753', 'ms1ms2_ratio': '0.155', 'efficiency': '0.279', 'TP': '390', 'FP': '36', 'FN': '17', 'precision': '0.915', 'recall': '0.958', 'f1': '0.936'}\n",
      "\n",
      "Episode 11 finished\n",
      "{'coverage_prop': '0.956', 'intensity_prop': '0.794', 'ms1ms2_ratio': '0.274', 'efficiency': '0.184', 'TP': '229', 'FP': '9', 'FN': '11', 'precision': '0.962', 'recall': '0.954', 'f1': '0.958'}\n",
      "\n",
      "Episode 12 finished\n",
      "{'coverage_prop': '0.948', 'intensity_prop': '0.763', 'ms1ms2_ratio': '0.219', 'efficiency': '0.171', 'TP': '217', 'FP': '21', 'FN': '13', 'precision': '0.912', 'recall': '0.943', 'f1': '0.927'}\n",
      "\n",
      "Episode 13 finished\n",
      "{'coverage_prop': '0.960', 'intensity_prop': '0.755', 'ms1ms2_ratio': '0.194', 'efficiency': '0.200', 'TP': '254', 'FP': '34', 'FN': '12', 'precision': '0.882', 'recall': '0.955', 'f1': '0.917'}\n",
      "\n",
      "Episode 14 finished\n",
      "{'coverage_prop': '0.956', 'intensity_prop': '0.779', 'ms1ms2_ratio': '0.326', 'efficiency': '0.163', 'TP': '183', 'FP': '14', 'FN': '9', 'precision': '0.929', 'recall': '0.953', 'f1': '0.941'}\n",
      "\n",
      "Episode 15 finished\n",
      "{'coverage_prop': '0.978', 'intensity_prop': '0.784', 'ms1ms2_ratio': '0.187', 'efficiency': '0.273', 'TP': '368', 'FP': '30', 'FN': '9', 'precision': '0.925', 'recall': '0.976', 'f1': '0.950'}\n",
      "\n",
      "Episode 16 finished\n",
      "{'coverage_prop': '0.974', 'intensity_prop': '0.760', 'ms1ms2_ratio': '0.162', 'efficiency': '0.321', 'TP': '445', 'FP': '40', 'FN': '13', 'precision': '0.918', 'recall': '0.972', 'f1': '0.944'}\n",
      "\n",
      "Episode 17 finished\n",
      "{'coverage_prop': '0.960', 'intensity_prop': '0.764', 'ms1ms2_ratio': '0.173', 'efficiency': '0.240', 'TP': '329', 'FP': '28', 'FN': '15', 'precision': '0.922', 'recall': '0.956', 'f1': '0.939'}\n",
      "\n",
      "Episode 18 finished\n",
      "{'coverage_prop': '0.967', 'intensity_prop': '0.778', 'ms1ms2_ratio': '0.220', 'efficiency': '0.210', 'TP': '268', 'FP': '24', 'FN': '10', 'precision': '0.918', 'recall': '0.964', 'f1': '0.940'}\n",
      "\n",
      "Episode 19 finished\n",
      "{'coverage_prop': '0.974', 'intensity_prop': '0.792', 'ms1ms2_ratio': '0.214', 'efficiency': '0.184', 'TP': '240', 'FP': '18', 'FN': '7', 'precision': '0.930', 'recall': '0.972', 'f1': '0.950'}\n",
      "\n",
      "Episode 20 finished\n",
      "{'coverage_prop': '0.940', 'intensity_prop': '0.736', 'ms1ms2_ratio': '0.163', 'efficiency': '0.292', 'TP': '397', 'FP': '43', 'FN': '28', 'precision': '0.902', 'recall': '0.934', 'f1': '0.918'}\n",
      "\n",
      "Episode 21 finished\n",
      "{'coverage_prop': '0.953', 'intensity_prop': '0.785', 'ms1ms2_ratio': '0.353', 'efficiency': '0.190', 'TP': '209', 'FP': '14', 'FN': '11', 'precision': '0.937', 'recall': '0.950', 'f1': '0.944'}\n",
      "\n",
      "Episode 22 finished\n",
      "{'coverage_prop': '0.969', 'intensity_prop': '0.772', 'ms1ms2_ratio': '0.201', 'efficiency': '0.219', 'TP': '287', 'FP': '25', 'FN': '10', 'precision': '0.920', 'recall': '0.966', 'f1': '0.943'}\n",
      "\n",
      "Episode 23 finished\n",
      "{'coverage_prop': '0.948', 'intensity_prop': '0.769', 'ms1ms2_ratio': '0.249', 'efficiency': '0.220', 'TP': '268', 'FP': '26', 'FN': '16', 'precision': '0.912', 'recall': '0.944', 'f1': '0.927'}\n",
      "\n",
      "Episode 24 finished\n",
      "{'coverage_prop': '0.983', 'intensity_prop': '0.777', 'ms1ms2_ratio': '0.192', 'efficiency': '0.234', 'TP': '312', 'FP': '27', 'FN': '6', 'precision': '0.920', 'recall': '0.981', 'f1': '0.950'}\n",
      "\n",
      "Episode 25 finished\n",
      "{'coverage_prop': '0.982', 'intensity_prop': '0.781', 'ms1ms2_ratio': '0.183', 'efficiency': '0.266', 'TP': '356', 'FP': '33', 'FN': '7', 'precision': '0.915', 'recall': '0.981', 'f1': '0.947'}\n",
      "\n",
      "Episode 26 finished\n",
      "{'coverage_prop': '0.966', 'intensity_prop': '0.825', 'ms1ms2_ratio': '0.358', 'efficiency': '0.168', 'TP': '188', 'FP': '8', 'FN': '7', 'precision': '0.959', 'recall': '0.964', 'f1': '0.962'}\n",
      "\n",
      "Episode 27 finished\n",
      "{'coverage_prop': '0.968', 'intensity_prop': '0.800', 'ms1ms2_ratio': '0.254', 'efficiency': '0.205', 'TP': '260', 'FP': '12', 'FN': '9', 'precision': '0.956', 'recall': '0.967', 'f1': '0.961'}\n",
      "\n",
      "Episode 28 finished\n",
      "{'coverage_prop': '0.949', 'intensity_prop': '0.738', 'ms1ms2_ratio': '0.147', 'efficiency': '0.303', 'TP': '424', 'FP': '44', 'FN': '25', 'precision': '0.906', 'recall': '0.944', 'f1': '0.925'}\n",
      "\n",
      "Episode 29 finished\n",
      "{'coverage_prop': '0.964', 'intensity_prop': '0.792', 'ms1ms2_ratio': '0.203', 'efficiency': '0.206', 'TP': '272', 'FP': '21', 'FN': '11', 'precision': '0.928', 'recall': '0.961', 'f1': '0.944'}\n",
      "\n"
     ]
    }
   ],
   "source": [
    "method = 'WeightedDEW_Controller'\n",
    "print('method = %s' % method)\n",
    "print()\n",
    "\n",
    "eval_results = []\n",
    "for i in range(len(chem_list)):\n",
    "    \n",
    "    spike_noise = None\n",
    "    if enable_spike_noise:\n",
    "        noise_params = params['noise']\n",
    "        noise_density = noise_params['noise_density']\n",
    "        noise_max_val = noise_params['noise_max_val']\n",
    "        noise_min_mz = noise_params['mz_range'][0]\n",
    "        noise_max_mz = noise_params['mz_range'][1]\n",
    "        spike_noise = UniformSpikeNoise(noise_density, noise_max_val, min_mz=noise_min_mz,\n",
    "                                        max_mz=noise_max_mz)\n",
    "\n",
    "    chems = chem_list[i]\n",
    "    mass_spec = IndependentMassSpectrometer(ionisation_mode, chems, spike_noise=spike_noise)\n",
    "    \n",
    "    controller = WeightedDEWController(ionisation_mode, weighteddew_N, isolation_window, mz_tol, t1,\n",
    "                                min_ms1_intensity, exclusion_t_0=t0)\n",
    "    env = Environment(mass_spec, controller, rt_range[0], rt_range[1], progress_bar=False, out_dir=out_dir,\n",
    "                      out_file='%s_%d.mzML' % (method, i), save_eval=True)\n",
    "    env.run()\n",
    "    \n",
    "    eval_res = evaluate(env, intensity_threshold)\n",
    "    # eval_res['total_rewards'] = 0\n",
    "    eval_results.append(eval_res)\n",
    "    print('Episode %d finished' % i)\n",
    "    print(eval_res)\n",
    "    print()    \n",
    "    \n",
    "method_eval_results[method] = eval_results"
   ]
  },
  {
   "cell_type": "markdown",
   "metadata": {},
   "source": [
    "#### Plotting"
   ]
  },
  {
   "cell_type": "markdown",
   "metadata": {},
   "source": [
    "Flatten data into dataframe"
   ]
  },
  {
   "cell_type": "code",
   "execution_count": 30,
   "metadata": {
    "execution": {
     "iopub.execute_input": "2023-06-11T04:15:38.107254Z",
     "iopub.status.busy": "2023-06-11T04:15:38.106899Z",
     "iopub.status.idle": "2023-06-11T04:15:38.150225Z",
     "shell.execute_reply": "2023-06-11T04:15:38.149839Z",
     "shell.execute_reply.started": "2023-06-11T04:15:38.107235Z"
    }
   },
   "outputs": [
    {
     "data": {
      "text/html": [
       "<div>\n",
       "<style scoped>\n",
       "    .dataframe tbody tr th:only-of-type {\n",
       "        vertical-align: middle;\n",
       "    }\n",
       "\n",
       "    .dataframe tbody tr th {\n",
       "        vertical-align: top;\n",
       "    }\n",
       "\n",
       "    .dataframe thead th {\n",
       "        text-align: right;\n",
       "    }\n",
       "</style>\n",
       "<table border=\"1\" class=\"dataframe\">\n",
       "  <thead>\n",
       "    <tr style=\"text-align: right;\">\n",
       "      <th></th>\n",
       "      <th>method</th>\n",
       "      <th>total_rewards</th>\n",
       "      <th>invalid_action_count</th>\n",
       "      <th>coverage_prop</th>\n",
       "      <th>intensity_prop</th>\n",
       "      <th>ms1/ms2_ratio</th>\n",
       "      <th>efficiency</th>\n",
       "      <th>precision</th>\n",
       "      <th>recall</th>\n",
       "      <th>f1</th>\n",
       "    </tr>\n",
       "  </thead>\n",
       "  <tbody>\n",
       "    <tr>\n",
       "      <th>0</th>\n",
       "      <td>random</td>\n",
       "      <td>98.796422</td>\n",
       "      <td>0.0</td>\n",
       "      <td>0.923</td>\n",
       "      <td>0.685</td>\n",
       "      <td>0.131</td>\n",
       "      <td>0.248</td>\n",
       "      <td>0.832</td>\n",
       "      <td>0.908</td>\n",
       "      <td>0.869</td>\n",
       "    </tr>\n",
       "    <tr>\n",
       "      <th>1</th>\n",
       "      <td>random</td>\n",
       "      <td>162.965521</td>\n",
       "      <td>0.0</td>\n",
       "      <td>0.947</td>\n",
       "      <td>0.767</td>\n",
       "      <td>0.207</td>\n",
       "      <td>0.175</td>\n",
       "      <td>0.907</td>\n",
       "      <td>0.941</td>\n",
       "      <td>0.924</td>\n",
       "    </tr>\n",
       "    <tr>\n",
       "      <th>2</th>\n",
       "      <td>random</td>\n",
       "      <td>236.274592</td>\n",
       "      <td>0.0</td>\n",
       "      <td>0.937</td>\n",
       "      <td>0.713</td>\n",
       "      <td>0.145</td>\n",
       "      <td>0.238</td>\n",
       "      <td>0.867</td>\n",
       "      <td>0.928</td>\n",
       "      <td>0.896</td>\n",
       "    </tr>\n",
       "    <tr>\n",
       "      <th>3</th>\n",
       "      <td>random</td>\n",
       "      <td>212.689618</td>\n",
       "      <td>0.0</td>\n",
       "      <td>0.934</td>\n",
       "      <td>0.697</td>\n",
       "      <td>0.144</td>\n",
       "      <td>0.272</td>\n",
       "      <td>0.860</td>\n",
       "      <td>0.924</td>\n",
       "      <td>0.891</td>\n",
       "    </tr>\n",
       "    <tr>\n",
       "      <th>4</th>\n",
       "      <td>random</td>\n",
       "      <td>138.275327</td>\n",
       "      <td>0.0</td>\n",
       "      <td>0.954</td>\n",
       "      <td>0.707</td>\n",
       "      <td>0.138</td>\n",
       "      <td>0.266</td>\n",
       "      <td>0.844</td>\n",
       "      <td>0.946</td>\n",
       "      <td>0.892</td>\n",
       "    </tr>\n",
       "  </tbody>\n",
       "</table>\n",
       "</div>"
      ],
      "text/plain": [
       "   method  total_rewards  invalid_action_count  coverage_prop  intensity_prop  \\\n",
       "0  random      98.796422                   0.0          0.923           0.685   \n",
       "1  random     162.965521                   0.0          0.947           0.767   \n",
       "2  random     236.274592                   0.0          0.937           0.713   \n",
       "3  random     212.689618                   0.0          0.934           0.697   \n",
       "4  random     138.275327                   0.0          0.954           0.707   \n",
       "\n",
       "   ms1/ms2_ratio  efficiency  precision  recall     f1  \n",
       "0          0.131       0.248      0.832   0.908  0.869  \n",
       "1          0.207       0.175      0.907   0.941  0.924  \n",
       "2          0.145       0.238      0.867   0.928  0.896  \n",
       "3          0.144       0.272      0.860   0.924  0.891  \n",
       "4          0.138       0.266      0.844   0.946  0.892  "
      ]
     },
     "execution_count": 30,
     "metadata": {},
     "output_type": "execute_result"
    }
   ],
   "source": [
    "data = []\n",
    "for method in method_eval_results:\n",
    "    eval_results = method_eval_results[method]\n",
    "    for eval_res in eval_results:\n",
    "        try:\n",
    "            total_rewards = float(eval_res['total_rewards'])       \n",
    "        except KeyError:\n",
    "            total_rewards = 0.0\n",
    "\n",
    "        try:\n",
    "            invalid_action_count = float(eval_res['invalid_action_count'])       \n",
    "        except KeyError:\n",
    "            invalid_action_count = 0.0\n",
    "\n",
    "        row = (\n",
    "            method, \n",
    "            total_rewards, \n",
    "            invalid_action_count,\n",
    "            float(eval_res['coverage_prop']), \n",
    "            float(eval_res['intensity_prop']), \n",
    "            float(eval_res['ms1ms2_ratio']), \n",
    "            float(eval_res['efficiency']),\n",
    "            float(eval_res['precision']),\n",
    "            float(eval_res['recall']),\n",
    "            float(eval_res['f1']),            \n",
    "        )\n",
    "        data.append(row)\n",
    "        \n",
    "df = pd.DataFrame(data, columns=['method', 'total_rewards', 'invalid_action_count', \n",
    "    'coverage_prop', 'intensity_prop', 'ms1/ms2_ratio', 'efficiency', \n",
    "    'precision', 'recall', 'f1'])\n",
    "# df.set_index('method', inplace=True)\n",
    "df.head()"
   ]
  },
  {
   "cell_type": "code",
   "execution_count": 31,
   "metadata": {
    "execution": {
     "iopub.execute_input": "2023-06-11T04:15:38.150931Z",
     "iopub.status.busy": "2023-06-11T04:15:38.150813Z",
     "iopub.status.idle": "2023-06-11T04:15:38.179733Z",
     "shell.execute_reply": "2023-06-11T04:15:38.179259Z",
     "shell.execute_reply.started": "2023-06-11T04:15:38.150929Z"
    }
   },
   "outputs": [],
   "source": [
    "sns.set_context(\"poster\")"
   ]
  },
  {
   "cell_type": "code",
   "execution_count": 32,
   "metadata": {
    "execution": {
     "iopub.execute_input": "2023-06-11T04:15:38.180826Z",
     "iopub.status.busy": "2023-06-11T04:15:38.180709Z",
     "iopub.status.idle": "2023-06-11T04:15:38.340360Z",
     "shell.execute_reply": "2023-06-11T04:15:38.339949Z",
     "shell.execute_reply.started": "2023-06-11T04:15:38.180826Z"
    }
   },
   "outputs": [
    {
     "data": {
      "text/plain": [
       "Text(0.5, 1.0, 'Total Rewards')"
      ]
     },
     "execution_count": 32,
     "metadata": {},
     "output_type": "execute_result"
    },
    {
     "data": {
      "image/png": "[encoded data removed]",
      "text/plain": [
       "<Figure size 720x360 with 1 Axes>"
      ]
     },
     "metadata": {
      "needs_background": "light"
     },
     "output_type": "display_data"
    }
   ],
   "source": [
    "plt.figure(figsize=(10, 5))\n",
    "sns.boxplot(data=df, x='method', y='total_rewards')\n",
    "plt.xticks(rotation=90)\n",
    "plt.title('Total Rewards')"
   ]
  },
  {
   "cell_type": "code",
   "execution_count": 33,
   "metadata": {
    "execution": {
     "iopub.execute_input": "2023-06-11T04:15:38.341241Z",
     "iopub.status.busy": "2023-06-11T04:15:38.341107Z",
     "iopub.status.idle": "2023-06-11T04:15:38.504053Z",
     "shell.execute_reply": "2023-06-11T04:15:38.503373Z",
     "shell.execute_reply.started": "2023-06-11T04:15:38.341241Z"
    }
   },
   "outputs": [
    {
     "data": {
      "text/plain": [
       "Text(0.5, 1.0, 'Invalid Action Count')"
      ]
     },
     "execution_count": 33,
     "metadata": {},
     "output_type": "execute_result"
    },
    {
     "data": {
      "image/png": "[encoded data removed]",
      "text/plain": [
       "<Figure size 720x360 with 1 Axes>"
      ]
     },
     "metadata": {
      "needs_background": "light"
     },
     "output_type": "display_data"
    }
   ],
   "source": [
    "plt.figure(figsize=(10, 5))\n",
    "sns.boxplot(data=df, x='method', y='invalid_action_count')\n",
    "plt.xticks(rotation=90)\n",
    "plt.title('Invalid Action Count')"
   ]
  },
  {
   "cell_type": "code",
   "execution_count": 34,
   "metadata": {
    "execution": {
     "iopub.execute_input": "2023-06-11T04:15:38.505326Z",
     "iopub.status.busy": "2023-06-11T04:15:38.505159Z",
     "iopub.status.idle": "2023-06-11T04:15:38.670735Z",
     "shell.execute_reply": "2023-06-11T04:15:38.670217Z",
     "shell.execute_reply.started": "2023-06-11T04:15:38.505326Z"
    }
   },
   "outputs": [
    {
     "data": {
      "text/plain": [
       "Text(0.5, 1.0, 'Coverage Proportion')"
      ]
     },
     "execution_count": 34,
     "metadata": {},
     "output_type": "execute_result"
    },
    {
     "data": {
      "image/png": "[encoded data removed]",
      "text/plain": [
       "<Figure size 720x360 with 1 Axes>"
      ]
     },
     "metadata": {
      "needs_background": "light"
     },
     "output_type": "display_data"
    }
   ],
   "source": [
    "plt.figure(figsize=(10, 5))\n",
    "sns.boxplot(data=df, x='method', y='coverage_prop')\n",
    "plt.xticks(rotation=90)\n",
    "plt.title('Coverage Proportion')"
   ]
  },
  {
   "cell_type": "code",
   "execution_count": 35,
   "metadata": {
    "execution": {
     "iopub.execute_input": "2023-06-11T04:15:38.671764Z",
     "iopub.status.busy": "2023-06-11T04:15:38.671573Z",
     "iopub.status.idle": "2023-06-11T04:15:38.827004Z",
     "shell.execute_reply": "2023-06-11T04:15:38.826655Z",
     "shell.execute_reply.started": "2023-06-11T04:15:38.671724Z"
    }
   },
   "outputs": [
    {
     "data": {
      "text/plain": [
       "Text(0.5, 1.0, 'Intensity Proportion')"
      ]
     },
     "execution_count": 35,
     "metadata": {},
     "output_type": "execute_result"
    },
    {
     "data": {
      "image/png": "[encoded data removed]",
      "text/plain": [
       "<Figure size 720x360 with 1 Axes>"
      ]
     },
     "metadata": {
      "needs_background": "light"
     },
     "output_type": "display_data"
    }
   ],
   "source": [
    "plt.figure(figsize=(10, 5))\n",
    "sns.boxplot(data=df, x='method', y='intensity_prop')\n",
    "plt.xticks(rotation=90)\n",
    "plt.title('Intensity Proportion')"
   ]
  },
  {
   "cell_type": "code",
   "execution_count": 36,
   "metadata": {
    "execution": {
     "iopub.execute_input": "2023-06-11T04:15:38.827743Z",
     "iopub.status.busy": "2023-06-11T04:15:38.827621Z",
     "iopub.status.idle": "2023-06-11T04:15:38.979063Z",
     "shell.execute_reply": "2023-06-11T04:15:38.978685Z",
     "shell.execute_reply.started": "2023-06-11T04:15:38.827729Z"
    }
   },
   "outputs": [
    {
     "data": {
      "text/plain": [
       "Text(0.5, 1.0, 'MS1/MS2 Ratio')"
      ]
     },
     "execution_count": 36,
     "metadata": {},
     "output_type": "execute_result"
    },
    {
     "data": {
      "image/png": "[encoded data removed]",
      "text/plain": [
       "<Figure size 720x360 with 1 Axes>"
      ]
     },
     "metadata": {
      "needs_background": "light"
     },
     "output_type": "display_data"
    }
   ],
   "source": [
    "plt.figure(figsize=(10, 5))\n",
    "sns.boxplot(data=df, x='method', y='ms1/ms2_ratio')\n",
    "plt.xticks(rotation=90)\n",
    "plt.title('MS1/MS2 Ratio')"
   ]
  },
  {
   "cell_type": "code",
   "execution_count": 37,
   "metadata": {
    "execution": {
     "iopub.execute_input": "2023-06-11T04:15:38.979913Z",
     "iopub.status.busy": "2023-06-11T04:15:38.979766Z",
     "iopub.status.idle": "2023-06-11T04:15:39.135270Z",
     "shell.execute_reply": "2023-06-11T04:15:39.134879Z",
     "shell.execute_reply.started": "2023-06-11T04:15:38.979897Z"
    }
   },
   "outputs": [
    {
     "data": {
      "text/plain": [
       "Text(0.5, 1.0, 'Efficiency')"
      ]
     },
     "execution_count": 37,
     "metadata": {},
     "output_type": "execute_result"
    },
    {
     "data": {
      "image/png": "[encoded data removed]",
      "text/plain": [
       "<Figure size 720x360 with 1 Axes>"
      ]
     },
     "metadata": {
      "needs_background": "light"
     },
     "output_type": "display_data"
    }
   ],
   "source": [
    "plt.figure(figsize=(10, 5))\n",
    "sns.boxplot(data=df, x='method', y='efficiency')\n",
    "plt.xticks(rotation=90)\n",
    "plt.title('Efficiency')"
   ]
  },
  {
   "cell_type": "code",
   "execution_count": 38,
   "metadata": {
    "execution": {
     "iopub.execute_input": "2023-06-11T04:15:39.136119Z",
     "iopub.status.busy": "2023-06-11T04:15:39.135991Z",
     "iopub.status.idle": "2023-06-11T04:15:39.286308Z",
     "shell.execute_reply": "2023-06-11T04:15:39.285865Z",
     "shell.execute_reply.started": "2023-06-11T04:15:39.136104Z"
    }
   },
   "outputs": [
    {
     "data": {
      "text/plain": [
       "Text(0.5, 1.0, 'Precision')"
      ]
     },
     "execution_count": 38,
     "metadata": {},
     "output_type": "execute_result"
    },
    {
     "data": {
      "image/png": "[encoded data removed]",
      "text/plain": [
       "<Figure size 720x360 with 1 Axes>"
      ]
     },
     "metadata": {
      "needs_background": "light"
     },
     "output_type": "display_data"
    }
   ],
   "source": [
    "plt.figure(figsize=(10, 5))\n",
    "sns.boxplot(data=df, x='method', y='precision')\n",
    "plt.xticks(rotation=90)\n",
    "plt.title('Precision')"
   ]
  },
  {
   "cell_type": "code",
   "execution_count": 39,
   "metadata": {
    "execution": {
     "iopub.execute_input": "2023-06-11T04:15:39.287127Z",
     "iopub.status.busy": "2023-06-11T04:15:39.286962Z",
     "iopub.status.idle": "2023-06-11T04:15:39.432123Z",
     "shell.execute_reply": "2023-06-11T04:15:39.431616Z",
     "shell.execute_reply.started": "2023-06-11T04:15:39.287105Z"
    }
   },
   "outputs": [
    {
     "data": {
      "text/plain": [
       "Text(0.5, 1.0, 'Recall')"
      ]
     },
     "execution_count": 39,
     "metadata": {},
     "output_type": "execute_result"
    },
    {
     "data": {
      "image/png": "[encoded data removed]",
      "text/plain": [
       "<Figure size 720x360 with 1 Axes>"
      ]
     },
     "metadata": {
      "needs_background": "light"
     },
     "output_type": "display_data"
    }
   ],
   "source": [
    "plt.figure(figsize=(10, 5))\n",
    "sns.boxplot(data=df, x='method', y='recall')\n",
    "plt.xticks(rotation=90)\n",
    "plt.title('Recall')"
   ]
  },
  {
   "cell_type": "code",
   "execution_count": 40,
   "metadata": {
    "execution": {
     "iopub.execute_input": "2023-06-11T04:15:39.433095Z",
     "iopub.status.busy": "2023-06-11T04:15:39.432933Z",
     "iopub.status.idle": "2023-06-11T04:15:39.587596Z",
     "shell.execute_reply": "2023-06-11T04:15:39.587207Z",
     "shell.execute_reply.started": "2023-06-11T04:15:39.433072Z"
    }
   },
   "outputs": [
    {
     "data": {
      "text/plain": [
       "Text(0.5, 1.0, 'F1')"
      ]
     },
     "execution_count": 40,
     "metadata": {},
     "output_type": "execute_result"
    },
    {
     "data": {
      "image/png": "[encoded data removed]",
      "text/plain": [
       "<Figure size 720x360 with 1 Axes>"
      ]
     },
     "metadata": {
      "needs_background": "light"
     },
     "output_type": "display_data"
    }
   ],
   "source": [
    "plt.figure(figsize=(10, 5))\n",
    "sns.boxplot(data=df, x='method', y='f1')\n",
    "plt.xticks(rotation=90)\n",
    "plt.title('F1')"
   ]
  },
  {
   "cell_type": "code",
   "execution_count": 41,
   "metadata": {
    "execution": {
     "iopub.execute_input": "2023-06-11T04:15:39.589693Z",
     "iopub.status.busy": "2023-06-11T04:15:39.589615Z",
     "iopub.status.idle": "2023-06-11T04:15:39.621556Z",
     "shell.execute_reply": "2023-06-11T04:15:39.621155Z",
     "shell.execute_reply.started": "2023-06-11T04:15:39.589679Z"
    }
   },
   "outputs": [],
   "source": [
    "df.to_pickle('evaluation_1.0E6_horizon_%d_alpha_%.2f_beta_%.2f.p' % (horizon, env_alpha, env_beta))"
   ]
  },
  {
   "cell_type": "code",
   "execution_count": null,
   "metadata": {},
   "outputs": [],
   "source": []
  }
 ],
 "metadata": {
  "kernelspec": {
   "display_name": "Python 3 (ipykernel)",
   "language": "python",
   "name": "python3"
  },
  "language_info": {
   "codemirror_mode": {
    "name": "ipython",
    "version": 3
   },
   "file_extension": ".py",
   "mimetype": "text/x-python",
   "name": "python",
   "nbconvert_exporter": "python",
   "pygments_lexer": "ipython3",
   "version": "3.8.12"
  },
  "vscode": {
   "interpreter": {
    "hash": "05a318a39bdd806c866a458e5513009c97d8e8627387c5b7a048c974669be487"
   }
  }
 },
 "nbformat": 4,
 "nbformat_minor": 4
}
