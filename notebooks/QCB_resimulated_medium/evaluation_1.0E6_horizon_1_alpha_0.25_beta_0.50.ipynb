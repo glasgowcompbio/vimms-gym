{
 "cells": [
  {
   "cell_type": "markdown",
   "metadata": {},
   "source": [
    "# Evaluation using QCB chemicals (medium)"
   ]
  },
  {
   "cell_type": "code",
   "execution_count": 1,
   "metadata": {
    "execution": {
     "iopub.execute_input": "2023-04-17T13:37:02.815335Z",
     "iopub.status.busy": "2023-04-17T13:37:02.815101Z",
     "iopub.status.idle": "2023-04-17T13:37:03.342907Z",
     "shell.execute_reply": "2023-04-17T13:37:03.342395Z",
     "shell.execute_reply.started": "2023-04-17T13:37:02.815276Z"
    },
    "tags": []
   },
   "outputs": [],
   "source": [
    "%matplotlib inline\n",
    "\n",
    "%load_ext autoreload\n",
    "%autoreload 2"
   ]
  },
  {
   "cell_type": "code",
   "execution_count": 2,
   "metadata": {
    "execution": {
     "iopub.execute_input": "2023-04-17T13:37:03.344061Z",
     "iopub.status.busy": "2023-04-17T13:37:03.343901Z",
     "iopub.status.idle": "2023-04-17T13:37:03.356431Z",
     "shell.execute_reply": "2023-04-17T13:37:03.355995Z",
     "shell.execute_reply.started": "2023-04-17T13:37:03.344042Z"
    }
   },
   "outputs": [],
   "source": [
    "import sys\n",
    "sys.path.append('../..')"
   ]
  },
  {
   "cell_type": "code",
   "execution_count": 3,
   "metadata": {
    "execution": {
     "iopub.execute_input": "2023-04-17T13:37:03.357145Z",
     "iopub.status.busy": "2023-04-17T13:37:03.357029Z",
     "iopub.status.idle": "2023-04-17T13:37:06.305535Z",
     "shell.execute_reply": "2023-04-17T13:37:06.304913Z",
     "shell.execute_reply.started": "2023-04-17T13:37:03.357128Z"
    },
    "tags": []
   },
   "outputs": [],
   "source": [
    "import os\n",
    "from os.path import exists\n",
    "import copy\n",
    "\n",
    "import pylab as plt\n",
    "from loguru import logger\n",
    "import seaborn as sns\n",
    "import gymnasium as gym\n",
    "import pandas as pd\n",
    "import torch\n",
    "\n",
    "from vimms.Evaluation import EvaluationData\n",
    "from vimms.Common import set_log_level_warning, load_obj, save_obj\n",
    "from vimms.Noise import UniformSpikeNoise\n",
    "from vimms.Roi import RoiBuilderParams, SmartRoiParams\n",
    "\n",
    "from vimms_gym.common import METHOD_DQN, evaluate\n",
    "from vimms_gym.chemicals import generate_chemicals\n",
    "from vimms_gym.evaluation import run_method\n",
    "from vimms_gym.common import METHOD_RANDOM, METHOD_TOPN\n",
    "from vimms_gym.experiments import preset_qcb_medium\n",
    "\n",
    "from model.QNetwork import get_QNetwork, QNETWORK_LSTM\n",
    "from model.DQN_utils import make_env, masked_epsilon_greedy"
   ]
  },
  {
   "cell_type": "markdown",
   "metadata": {},
   "source": [
    "# 1. Parameters"
   ]
  },
  {
   "cell_type": "markdown",
   "metadata": {},
   "source": [
    "Parameters that will be used throughout this notebook. Should be the same as the training ones."
   ]
  },
  {
   "cell_type": "markdown",
   "metadata": {},
   "source": [
    "Chemical generation parameters"
   ]
  },
  {
   "cell_type": "code",
   "execution_count": 4,
   "metadata": {
    "execution": {
     "iopub.execute_input": "2023-04-17T13:37:06.308594Z",
     "iopub.status.busy": "2023-04-17T13:37:06.307939Z",
     "iopub.status.idle": "2023-04-17T13:37:06.374301Z",
     "shell.execute_reply": "2023-04-17T13:37:06.373731Z",
     "shell.execute_reply.started": "2023-04-17T13:37:06.308567Z"
    }
   },
   "outputs": [
    {
     "name": "stderr",
     "output_type": "stream",
     "text": [
      "\u001b[32m2023-04-17 13:37:06.346\u001b[0m | \u001b[1mINFO    \u001b[0m | \u001b[36mvimms_gym.experiments\u001b[0m:\u001b[36mget_samplers\u001b[0m:\u001b[36m303\u001b[0m - \u001b[1mLoaded /notebooks/vimms-gym/pickles/samplers_QCB_medium_extracted.p\u001b[0m\n"
     ]
    },
    {
     "data": {
      "text/plain": [
       "({'chemical_creator': {'mz_range': (100, 600),\n",
       "   'rt_range': (400, 800),\n",
       "   'intensity_range': (10000.0, 1e+20),\n",
       "   'n_chemicals': (200, 500),\n",
       "   'mz_sampler': <vimms.ChemicalSamplers.MZMLFormulaSampler at 0x7f6ff2289af0>,\n",
       "   'ri_sampler': <vimms.ChemicalSamplers.MZMLRTandIntensitySampler at 0x7f6f42b31310>,\n",
       "   'cr_sampler': <vimms.ChemicalSamplers.MZMLChromatogramSampler at 0x7f6f42a96d30>},\n",
       "  'noise': {'enable_spike_noise': True,\n",
       "   'noise_density': 0.1,\n",
       "   'noise_max_val': 1000.0,\n",
       "   'mz_range': (100, 600)},\n",
       "  'env': {'ionisation_mode': 'Positive',\n",
       "   'rt_range': (400, 800),\n",
       "   'isolation_window': 0.7,\n",
       "   'use_dew': False,\n",
       "   'mz_tol': 10,\n",
       "   'rt_tol': 5,\n",
       "   'min_ms1_intensity': 5000,\n",
       "   'alpha': 0.25,\n",
       "   'beta': 0.5}},\n",
       " 30)"
      ]
     },
     "execution_count": 4,
     "metadata": {},
     "output_type": "execute_result"
    }
   ],
   "source": [
    "env_alpha = 0.25\n",
    "env_beta = 0.50\n",
    "extract = True\n",
    "params, max_peaks = preset_qcb_medium(None, alpha=env_alpha, beta=env_beta, extract_chromatograms=extract)\n",
    "params, max_peaks"
   ]
  },
  {
   "cell_type": "code",
   "execution_count": 5,
   "metadata": {
    "execution": {
     "iopub.execute_input": "2023-04-17T13:37:06.375287Z",
     "iopub.status.busy": "2023-04-17T13:37:06.375136Z",
     "iopub.status.idle": "2023-04-17T13:37:06.414461Z",
     "shell.execute_reply": "2023-04-17T13:37:06.413807Z",
     "shell.execute_reply.started": "2023-04-17T13:37:06.375273Z"
    }
   },
   "outputs": [],
   "source": [
    "# n_chemicals = (200, 500)\n",
    "# mz_range = (100, 600)\n",
    "# rt_range = (400, 800)\n",
    "# intensity_range = (1E4, 1E20)"
   ]
  },
  {
   "cell_type": "markdown",
   "metadata": {},
   "source": [
    "Evaluation parameters"
   ]
  },
  {
   "cell_type": "code",
   "execution_count": 6,
   "metadata": {
    "execution": {
     "iopub.execute_input": "2023-04-17T13:37:06.415608Z",
     "iopub.status.busy": "2023-04-17T13:37:06.415467Z",
     "iopub.status.idle": "2023-04-17T13:37:06.462156Z",
     "shell.execute_reply": "2023-04-17T13:37:06.461554Z",
     "shell.execute_reply.started": "2023-04-17T13:37:06.415594Z"
    }
   },
   "outputs": [],
   "source": [
    "env_name = 'DDAEnv'\n",
    "intensity_threshold = 0.5\n",
    "\n",
    "dqn_in_dir = 'DQN_1.0E6'\n",
    "\n",
    "# ppo_in_dir = os.path.join('..', '..', 'tune', 'QCB_resimulated_medium')\n",
    "ppo_in_dir = 'PPO_1.0E6'\n",
    "\n",
    "methods = [\n",
    "    METHOD_RANDOM,\n",
    "    METHOD_TOPN,\n",
    "]\n",
    "valid_random = True\n",
    "n_eval_episodes = 30"
   ]
  },
  {
   "cell_type": "code",
   "execution_count": 7,
   "metadata": {
    "execution": {
     "iopub.execute_input": "2023-04-17T13:37:06.463370Z",
     "iopub.status.busy": "2023-04-17T13:37:06.463215Z",
     "iopub.status.idle": "2023-04-17T13:37:06.502786Z",
     "shell.execute_reply": "2023-04-17T13:37:06.502184Z",
     "shell.execute_reply.started": "2023-04-17T13:37:06.463351Z"
    }
   },
   "outputs": [],
   "source": [
    "# topN parameters\n",
    "topN_N = 10\n",
    "topN_rt_tol = 5\n",
    "min_ms1_intensity = 5000\n",
    "\n",
    "# smartroi parameters\n",
    "alpha = 2\n",
    "beta = 0.5\n",
    "ils = 0\n",
    "smartroi_N = topN_N\n",
    "smartroi_dew = topN_rt_tol\n",
    "\n",
    "# weighteddew parameters\n",
    "t0 = 3\n",
    "t1 = 15\n",
    "weighteddew_N = 10"
   ]
  },
  {
   "cell_type": "markdown",
   "metadata": {},
   "source": [
    "## Generate chemical sets for evaluation"
   ]
  },
  {
   "cell_type": "code",
   "execution_count": 8,
   "metadata": {
    "execution": {
     "iopub.execute_input": "2023-04-17T13:37:06.504076Z",
     "iopub.status.busy": "2023-04-17T13:37:06.503931Z",
     "iopub.status.idle": "2023-04-17T13:37:08.556297Z",
     "shell.execute_reply": "2023-04-17T13:37:08.555532Z",
     "shell.execute_reply.started": "2023-04-17T13:37:06.504057Z"
    }
   },
   "outputs": [
    {
     "name": "stdout",
     "output_type": "stream",
     "text": [
      "426\n",
      "262\n",
      "394\n",
      "452\n",
      "437\n",
      "200\n",
      "478\n",
      "204\n",
      "424\n",
      "384\n",
      "443\n",
      "249\n",
      "251\n",
      "300\n",
      "206\n",
      "407\n",
      "498\n",
      "372\n",
      "302\n",
      "265\n",
      "468\n",
      "234\n",
      "322\n",
      "310\n",
      "345\n",
      "396\n",
      "203\n",
      "281\n",
      "493\n",
      "304\n"
     ]
    }
   ],
   "source": [
    "fname = 'QCB_chems_medium.p'\n",
    "found = exists(fname)\n",
    "if found:\n",
    "    chem_list = load_obj(fname)\n",
    "    for chems in chem_list:\n",
    "        print(len(chems))"
   ]
  },
  {
   "cell_type": "markdown",
   "metadata": {},
   "source": [
    "Generate new chemicals if not found"
   ]
  },
  {
   "cell_type": "code",
   "execution_count": 9,
   "metadata": {
    "execution": {
     "iopub.execute_input": "2023-04-17T13:37:08.557382Z",
     "iopub.status.busy": "2023-04-17T13:37:08.557193Z",
     "iopub.status.idle": "2023-04-17T13:37:08.598237Z",
     "shell.execute_reply": "2023-04-17T13:37:08.597663Z",
     "shell.execute_reply.started": "2023-04-17T13:37:08.557359Z"
    }
   },
   "outputs": [
    {
     "data": {
      "text/plain": [
       "{'mz_range': (100, 600),\n",
       " 'rt_range': (400, 800),\n",
       " 'intensity_range': (10000.0, 1e+20),\n",
       " 'n_chemicals': (200, 500),\n",
       " 'mz_sampler': <vimms.ChemicalSamplers.MZMLFormulaSampler at 0x7f6ff2289af0>,\n",
       " 'ri_sampler': <vimms.ChemicalSamplers.MZMLRTandIntensitySampler at 0x7f6f42b31310>,\n",
       " 'cr_sampler': <vimms.ChemicalSamplers.MZMLChromatogramSampler at 0x7f6f42a96d30>}"
      ]
     },
     "execution_count": 9,
     "metadata": {},
     "output_type": "execute_result"
    }
   ],
   "source": [
    "params['chemical_creator']"
   ]
  },
  {
   "cell_type": "code",
   "execution_count": 10,
   "metadata": {
    "execution": {
     "iopub.execute_input": "2023-04-17T13:37:08.600305Z",
     "iopub.status.busy": "2023-04-17T13:37:08.600121Z",
     "iopub.status.idle": "2023-04-17T13:37:08.640868Z",
     "shell.execute_reply": "2023-04-17T13:37:08.640044Z",
     "shell.execute_reply.started": "2023-04-17T13:37:08.600293Z"
    }
   },
   "outputs": [],
   "source": [
    "if not found:\n",
    "    repeat = 30\n",
    "    logger.warning('Generating chemicals')\n",
    "    \n",
    "    chemical_creator_params = params['chemical_creator']\n",
    "    chem_list = []\n",
    "    for i in range(repeat):\n",
    "        chems = generate_chemicals(chemical_creator_params)\n",
    "        print(len(chems))\n",
    "        chem_list.append(chems)\n",
    "        \n",
    "    save_obj(chem_list, fname)"
   ]
  },
  {
   "cell_type": "code",
   "execution_count": 11,
   "metadata": {
    "execution": {
     "iopub.execute_input": "2023-04-17T13:37:08.642344Z",
     "iopub.status.busy": "2023-04-17T13:37:08.642181Z",
     "iopub.status.idle": "2023-04-17T13:37:08.684769Z",
     "shell.execute_reply": "2023-04-17T13:37:08.684037Z",
     "shell.execute_reply.started": "2023-04-17T13:37:08.642323Z"
    }
   },
   "outputs": [
    {
     "data": {
      "text/plain": [
       "30"
      ]
     },
     "execution_count": 11,
     "metadata": {},
     "output_type": "execute_result"
    }
   ],
   "source": [
    "chem_list = chem_list[0:n_eval_episodes]\n",
    "len(chem_list)"
   ]
  },
  {
   "cell_type": "markdown",
   "metadata": {
    "tags": []
   },
   "source": [
    "# 2. Evaluation"
   ]
  },
  {
   "cell_type": "code",
   "execution_count": 12,
   "metadata": {
    "execution": {
     "iopub.execute_input": "2023-04-17T13:37:08.685713Z",
     "iopub.status.busy": "2023-04-17T13:37:08.685564Z",
     "iopub.status.idle": "2023-04-17T13:37:08.728167Z",
     "shell.execute_reply": "2023-04-17T13:37:08.727507Z",
     "shell.execute_reply.started": "2023-04-17T13:37:08.685695Z"
    }
   },
   "outputs": [
    {
     "data": {
      "text/plain": [
       "1"
      ]
     },
     "execution_count": 12,
     "metadata": {},
     "output_type": "execute_result"
    }
   ],
   "source": [
    "set_log_level_warning()"
   ]
  },
  {
   "cell_type": "code",
   "execution_count": 13,
   "metadata": {
    "execution": {
     "iopub.execute_input": "2023-04-17T13:37:08.729439Z",
     "iopub.status.busy": "2023-04-17T13:37:08.729250Z",
     "iopub.status.idle": "2023-04-17T13:37:08.770116Z",
     "shell.execute_reply": "2023-04-17T13:37:08.769582Z",
     "shell.execute_reply.started": "2023-04-17T13:37:08.729413Z"
    }
   },
   "outputs": [
    {
     "data": {
      "text/plain": [
       "{'chemical_creator': {'mz_range': (100, 600),\n",
       "  'rt_range': (400, 800),\n",
       "  'intensity_range': (10000.0, 1e+20),\n",
       "  'n_chemicals': (200, 500),\n",
       "  'mz_sampler': <vimms.ChemicalSamplers.MZMLFormulaSampler at 0x7f6ff2289af0>,\n",
       "  'ri_sampler': <vimms.ChemicalSamplers.MZMLRTandIntensitySampler at 0x7f6f42b31310>,\n",
       "  'cr_sampler': <vimms.ChemicalSamplers.MZMLChromatogramSampler at 0x7f6f42a96d30>},\n",
       " 'noise': {'enable_spike_noise': True,\n",
       "  'noise_density': 0.1,\n",
       "  'noise_max_val': 1000.0,\n",
       "  'mz_range': (100, 600)},\n",
       " 'env': {'ionisation_mode': 'Positive',\n",
       "  'rt_range': (400, 800),\n",
       "  'isolation_window': 0.7,\n",
       "  'use_dew': False,\n",
       "  'mz_tol': 10,\n",
       "  'rt_tol': 5,\n",
       "  'min_ms1_intensity': 5000,\n",
       "  'alpha': 0.25,\n",
       "  'beta': 0.5}}"
      ]
     },
     "execution_count": 13,
     "metadata": {},
     "output_type": "execute_result"
    }
   ],
   "source": [
    "params"
   ]
  },
  {
   "cell_type": "code",
   "execution_count": 14,
   "metadata": {
    "execution": {
     "iopub.execute_input": "2023-04-17T13:37:08.771185Z",
     "iopub.status.busy": "2023-04-17T13:37:08.770987Z",
     "iopub.status.idle": "2023-04-17T13:37:08.810133Z",
     "shell.execute_reply": "2023-04-17T13:37:08.809659Z",
     "shell.execute_reply.started": "2023-04-17T13:37:08.771159Z"
    }
   },
   "outputs": [],
   "source": [
    "horizon = 1\n",
    "out_dir = 'evaluation_1.0E6_horizon_%d_alpha_%.2f_beta_%.2f' % (horizon, env_alpha, env_beta)"
   ]
  },
  {
   "cell_type": "code",
   "execution_count": 15,
   "metadata": {
    "execution": {
     "iopub.execute_input": "2023-04-17T13:37:08.811451Z",
     "iopub.status.busy": "2023-04-17T13:37:08.811260Z",
     "iopub.status.idle": "2023-04-17T13:48:29.515246Z",
     "shell.execute_reply": "2023-04-17T13:48:29.514512Z",
     "shell.execute_reply.started": "2023-04-17T13:37:08.811425Z"
    }
   },
   "outputs": [
    {
     "name": "stdout",
     "output_type": "stream",
     "text": [
      "method = random max_peaks = 30 N = 0 rt_tol = 5\n",
      "\n",
      "\n",
      "Episode 0 (426 chemicals)\n",
      "steps\t 500 \ttotal rewards\t 0.25766871165644173\n",
      "steps\t 1000 \ttotal rewards\t 0.5656565656565656\n",
      "steps\t 1500 \ttotal rewards\t 0.8050490883590463\n",
      "Finished after 1792 timesteps (4.679717779159546 seconds) with total reward 0.8759894459102902\n",
      "{'coverage_prop': '0.932', 'intensity_prop': '0.691', 'ms1ms2_ratio': '0.131', 'efficiency': '0.251', 'TP': '332', 'FP': '65', 'FN': '29', 'precision': '0.836', 'recall': '0.920', 'f1': '0.876', 'total_rewards': 0.8759894459102902, 'invalid_action_count': 0, 'num_ms1_scans': 208, 'num_ms2_scans': 1584}\n",
      "\n",
      "Episode 1 (262 chemicals)\n",
      "steps\t 500 \ttotal rewards\t 0.3573667711598746\n",
      "steps\t 1000 \ttotal rewards\t 0.6997518610421836\n",
      "steps\t 1500 \ttotal rewards\t 0.8921775898520083\n",
      "Finished after 1693 timesteps (2.997267961502075 seconds) with total reward 0.9284253578732107\n",
      "{'coverage_prop': '0.950', 'intensity_prop': '0.772', 'ms1ms2_ratio': '0.222', 'efficiency': '0.180', 'TP': '227', 'FP': '22', 'FN': '13', 'precision': '0.912', 'recall': '0.946', 'f1': '0.928', 'total_rewards': 0.9284253578732107, 'invalid_action_count': 0, 'num_ms1_scans': 307, 'num_ms2_scans': 1386}\n",
      "\n",
      "Episode 2 (394 chemicals)\n",
      "steps\t 500 \ttotal rewards\t 0.2794759825327511\n",
      "steps\t 1000 \ttotal rewards\t 0.6053097345132743\n",
      "steps\t 1500 \ttotal rewards\t 0.8238805970149254\n",
      "Finished after 1767 timesteps (4.100273609161377 seconds) with total reward 0.8870056497175139\n",
      "{'coverage_prop': '0.931', 'intensity_prop': '0.697', 'ms1ms2_ratio': '0.153', 'efficiency': '0.239', 'TP': '314', 'FP': '53', 'FN': '27', 'precision': '0.856', 'recall': '0.921', 'f1': '0.887', 'total_rewards': 0.8870056497175139, 'invalid_action_count': 0, 'num_ms1_scans': 234, 'num_ms2_scans': 1533}\n",
      "\n",
      "Episode 3 (452 chemicals)\n",
      "steps\t 500 \ttotal rewards\t 0.30075187969924816\n",
      "steps\t 1000 \ttotal rewards\t 0.6177370030581041\n",
      "steps\t 1500 \ttotal rewards\t 0.8335483870967741\n",
      "Finished after 1788 timesteps (4.055583953857422 seconds) with total reward 0.900243309002433\n",
      "{'coverage_prop': '0.934', 'intensity_prop': '0.713', 'ms1ms2_ratio': '0.135', 'efficiency': '0.268', 'TP': '370', 'FP': '52', 'FN': '30', 'precision': '0.877', 'recall': '0.925', 'f1': '0.900', 'total_rewards': 0.900243309002433, 'invalid_action_count': 0, 'num_ms1_scans': 212, 'num_ms2_scans': 1576}\n",
      "\n",
      "Episode 4 (437 chemicals)\n",
      "steps\t 500 \ttotal rewards\t 0.2962962962962964\n",
      "steps\t 1000 \ttotal rewards\t 0.6038338658146964\n",
      "steps\t 1500 \ttotal rewards\t 0.8092643051771117\n",
      "Finished after 1771 timesteps (4.490562200546265 seconds) with total reward 0.864935064935065\n",
      "{'coverage_prop': '0.947', 'intensity_prop': '0.694', 'ms1ms2_ratio': '0.149', 'efficiency': '0.268', 'TP': '334', 'FP': '80', 'FN': '23', 'precision': '0.807', 'recall': '0.936', 'f1': '0.866', 'total_rewards': 0.864935064935065, 'invalid_action_count': 0, 'num_ms1_scans': 229, 'num_ms2_scans': 1542}\n",
      "\n",
      "Episode 5 (200 chemicals)\n",
      "steps\t 500 \ttotal rewards\t 0.3673469387755102\n",
      "steps\t 1000 \ttotal rewards\t 0.7301587301587302\n",
      "steps\t 1500 \ttotal rewards\t 0.9130434782608696\n",
      "Finished after 1639 timesteps (3.6113648414611816 seconds) with total reward 0.9389920424403183\n",
      "{'coverage_prop': '0.950', 'intensity_prop': '0.799', 'ms1ms2_ratio': '0.282', 'efficiency': '0.149', 'TP': '177', 'FP': '13', 'FN': '10', 'precision': '0.932', 'recall': '0.947', 'f1': '0.939', 'total_rewards': 0.9389920424403183, 'invalid_action_count': 0, 'num_ms1_scans': 361, 'num_ms2_scans': 1278}\n",
      "\n",
      "Episode 6 (478 chemicals)\n",
      "steps\t 500 \ttotal rewards\t 0.31095406360424027\n",
      "steps\t 1000 \ttotal rewards\t 0.5941176470588234\n",
      "steps\t 1500 \ttotal rewards\t 0.7974842767295598\n",
      "Finished after 1785 timesteps (4.723728656768799 seconds) with total reward 0.8495788206979542\n",
      "{'coverage_prop': '0.916', 'intensity_prop': '0.658', 'ms1ms2_ratio': '0.138', 'efficiency': '0.279', 'TP': '353', 'FP': '85', 'FN': '40', 'precision': '0.806', 'recall': '0.898', 'f1': '0.850', 'total_rewards': 0.8495788206979542, 'invalid_action_count': 0, 'num_ms1_scans': 216, 'num_ms2_scans': 1569}\n",
      "\n",
      "Episode 7 (204 chemicals)\n",
      "steps\t 500 \ttotal rewards\t 0.3\n",
      "steps\t 1000 \ttotal rewards\t 0.7407407407407407\n",
      "steps\t 1500 \ttotal rewards\t 0.9090909090909092\n",
      "Finished after 1657 timesteps (3.2731142044067383 seconds) with total reward 0.9347258485639687\n",
      "{'coverage_prop': '0.946', 'intensity_prop': '0.786', 'ms1ms2_ratio': '0.261', 'efficiency': '0.147', 'TP': '179', 'FP': '14', 'FN': '11', 'precision': '0.927', 'recall': '0.942', 'f1': '0.935', 'total_rewards': 0.9347258485639687, 'invalid_action_count': 0, 'num_ms1_scans': 343, 'num_ms2_scans': 1314}\n",
      "\n",
      "Episode 8 (424 chemicals)\n",
      "steps\t 500 \ttotal rewards\t 0.304\n",
      "steps\t 1000 \ttotal rewards\t 0.6029654036243821\n",
      "steps\t 1500 \ttotal rewards\t 0.8172942817294283\n",
      "Finished after 1791 timesteps (3.8537092208862305 seconds) with total reward 0.8842105263157896\n",
      "{'coverage_prop': '0.932', 'intensity_prop': '0.693', 'ms1ms2_ratio': '0.132', 'efficiency': '0.250', 'TP': '336', 'FP': '59', 'FN': '29', 'precision': '0.851', 'recall': '0.921', 'f1': '0.884', 'total_rewards': 0.8842105263157896, 'invalid_action_count': 0, 'num_ms1_scans': 209, 'num_ms2_scans': 1582}\n",
      "\n",
      "Episode 9 (384 chemicals)\n",
      "steps\t 500 \ttotal rewards\t 0.29333333333333333\n",
      "steps\t 1000 \ttotal rewards\t 0.6086956521739131\n",
      "steps\t 1500 \ttotal rewards\t 0.8537313432835821\n",
      "Finished after 1770 timesteps (4.423087120056152 seconds) with total reward 0.9044222539229673\n",
      "{'coverage_prop': '0.945', 'intensity_prop': '0.733', 'ms1ms2_ratio': '0.150', 'efficiency': '0.236', 'TP': '317', 'FP': '46', 'FN': '21', 'precision': '0.873', 'recall': '0.938', 'f1': '0.904', 'total_rewards': 0.9044222539229673, 'invalid_action_count': 0, 'num_ms1_scans': 231, 'num_ms2_scans': 1539}\n",
      "\n",
      "Episode 10 (443 chemicals)\n",
      "steps\t 500 \ttotal rewards\t 0.2729044834307992\n",
      "steps\t 1000 \ttotal rewards\t 0.609105180533752\n",
      "steps\t 1500 \ttotal rewards\t 0.8387942332896461\n",
      "Finished after 1800 timesteps (4.175964832305908 seconds) with total reward 0.8952618453865335\n",
      "{'coverage_prop': '0.935', 'intensity_prop': '0.713', 'ms1ms2_ratio': '0.125', 'efficiency': '0.259', 'TP': '359', 'FP': '55', 'FN': '29', 'precision': '0.867', 'recall': '0.925', 'f1': '0.895', 'total_rewards': 0.8952618453865335, 'invalid_action_count': 0, 'num_ms1_scans': 200, 'num_ms2_scans': 1600}\n",
      "\n",
      "Episode 11 (249 chemicals)\n",
      "steps\t 500 \ttotal rewards\t 0.3778501628664495\n",
      "steps\t 1000 \ttotal rewards\t 0.6790450928381964\n",
      "steps\t 1500 \ttotal rewards\t 0.8707482993197279\n",
      "Finished after 1698 timesteps (4.69511079788208 seconds) with total reward 0.9244060475161987\n",
      "{'coverage_prop': '0.944', 'intensity_prop': '0.773', 'ms1ms2_ratio': '0.216', 'efficiency': '0.168', 'TP': '214', 'FP': '21', 'FN': '14', 'precision': '0.911', 'recall': '0.939', 'f1': '0.924', 'total_rewards': 0.9244060475161987, 'invalid_action_count': 0, 'num_ms1_scans': 302, 'num_ms2_scans': 1396}\n",
      "\n",
      "Episode 12 (251 chemicals)\n",
      "steps\t 500 \ttotal rewards\t 0.33222591362126247\n",
      "steps\t 1000 \ttotal rewards\t 0.6613333333333334\n",
      "steps\t 1500 \ttotal rewards\t 0.8406466512702079\n",
      "Finished after 1732 timesteps (3.212160110473633 seconds) with total reward 0.8991228070175438\n",
      "{'coverage_prop': '0.944', 'intensity_prop': '0.736', 'ms1ms2_ratio': '0.184', 'efficiency': '0.162', 'TP': '205', 'FP': '32', 'FN': '14', 'precision': '0.865', 'recall': '0.936', 'f1': '0.899', 'total_rewards': 0.8991228070175438, 'invalid_action_count': 0, 'num_ms1_scans': 269, 'num_ms2_scans': 1463}\n",
      "\n",
      "Episode 13 (300 chemicals)\n",
      "steps\t 500 \ttotal rewards\t 0.2905982905982906\n",
      "steps\t 1000 \ttotal rewards\t 0.6078886310904871\n",
      "steps\t 1500 \ttotal rewards\t 0.8326848249027238\n",
      "Finished after 1751 timesteps (5.853543996810913 seconds) with total reward 0.8785046728971962\n",
      "{'coverage_prop': '0.947', 'intensity_prop': '0.711', 'ms1ms2_ratio': '0.166', 'efficiency': '0.189', 'TP': '235', 'FP': '49', 'FN': '16', 'precision': '0.827', 'recall': '0.936', 'f1': '0.879', 'total_rewards': 0.8785046728971962, 'invalid_action_count': 0, 'num_ms1_scans': 249, 'num_ms2_scans': 1502}\n",
      "\n",
      "Episode 14 (206 chemicals)\n",
      "steps\t 500 \ttotal rewards\t 0.3319838056680162\n",
      "steps\t 1000 \ttotal rewards\t 0.6709677419354839\n",
      "steps\t 1500 \ttotal rewards\t 0.883468834688347\n",
      "Finished after 1678 timesteps (2.653393030166626 seconds) with total reward 0.9242819843342036\n",
      "{'coverage_prop': '0.937', 'intensity_prop': '0.759', 'ms1ms2_ratio': '0.237', 'efficiency': '0.142', 'TP': '177', 'FP': '16', 'FN': '13', 'precision': '0.917', 'recall': '0.932', 'f1': '0.924', 'total_rewards': 0.9242819843342036, 'invalid_action_count': 0, 'num_ms1_scans': 322, 'num_ms2_scans': 1356}\n",
      "\n",
      "Episode 15 (407 chemicals)\n",
      "steps\t 500 \ttotal rewards\t 0.2532188841201717\n",
      "steps\t 1000 \ttotal rewards\t 0.6203389830508474\n",
      "steps\t 1500 \ttotal rewards\t 0.8270893371757925\n",
      "Finished after 1754 timesteps (5.125345706939697 seconds) with total reward 0.8970189701897018\n",
      "{'coverage_prop': '0.943', 'intensity_prop': '0.730', 'ms1ms2_ratio': '0.163', 'efficiency': '0.255', 'TP': '331', 'FP': '53', 'FN': '23', 'precision': '0.862', 'recall': '0.935', 'f1': '0.897', 'total_rewards': 0.8970189701897018, 'invalid_action_count': 0, 'num_ms1_scans': 246, 'num_ms2_scans': 1508}\n",
      "\n",
      "Episode 16 (498 chemicals)\n",
      "steps\t 500 \ttotal rewards\t 0.30612244897959184\n",
      "steps\t 1000 \ttotal rewards\t 0.6166666666666667\n",
      "steps\t 1500 \ttotal rewards\t 0.828235294117647\n",
      "Finished after 1803 timesteps (4.84743595123291 seconds) with total reward 0.8871508379888269\n",
      "{'coverage_prop': '0.954', 'intensity_prop': '0.708', 'ms1ms2_ratio': '0.123', 'efficiency': '0.296', 'TP': '397', 'FP': '78', 'FN': '23', 'precision': '0.836', 'recall': '0.945', 'f1': '0.887', 'total_rewards': 0.8871508379888269, 'invalid_action_count': 0, 'num_ms1_scans': 197, 'num_ms2_scans': 1606}\n",
      "\n",
      "Episode 17 (372 chemicals)\n",
      "steps\t 500 \ttotal rewards\t 0.29357798165137616\n",
      "steps\t 1000 \ttotal rewards\t 0.6171003717472119\n",
      "steps\t 1500 \ttotal rewards\t 0.8246445497630331\n",
      "Finished after 1770 timesteps (4.614387035369873 seconds) with total reward 0.8895522388059702\n",
      "{'coverage_prop': '0.944', 'intensity_prop': '0.710', 'ms1ms2_ratio': '0.149', 'efficiency': '0.228', 'TP': '298', 'FP': '53', 'FN': '21', 'precision': '0.849', 'recall': '0.934', 'f1': '0.890', 'total_rewards': 0.8895522388059702, 'invalid_action_count': 0, 'num_ms1_scans': 230, 'num_ms2_scans': 1540}\n",
      "\n",
      "Episode 18 (302 chemicals)\n",
      "steps\t 500 \ttotal rewards\t 0.33149171270718236\n",
      "steps\t 1000 \ttotal rewards\t 0.6666666666666666\n",
      "steps\t 1500 \ttotal rewards\t 0.8731343283582088\n",
      "Finished after 1712 timesteps (3.546872615814209 seconds) with total reward 0.9214285714285715\n",
      "{'coverage_prop': '0.940', 'intensity_prop': '0.738', 'ms1ms2_ratio': '0.202', 'efficiency': '0.199', 'TP': '258', 'FP': '26', 'FN': '18', 'precision': '0.908', 'recall': '0.935', 'f1': '0.921', 'total_rewards': 0.9214285714285715, 'invalid_action_count': 0, 'num_ms1_scans': 288, 'num_ms2_scans': 1424}\n",
      "\n",
      "Episode 19 (265 chemicals)\n",
      "steps\t 500 \ttotal rewards\t 0.3227848101265823\n",
      "steps\t 1000 \ttotal rewards\t 0.6783042394014963\n",
      "steps\t 1500 \ttotal rewards\t 0.8626609442060086\n",
      "Finished after 1751 timesteps (2.944913387298584 seconds) with total reward 0.9183673469387754\n",
      "{'coverage_prop': '0.966', 'intensity_prop': '0.769', 'ms1ms2_ratio': '0.166', 'efficiency': '0.170', 'TP': '225', 'FP': '31', 'FN': '9', 'precision': '0.879', 'recall': '0.962', 'f1': '0.918', 'total_rewards': 0.9183673469387754, 'invalid_action_count': 0, 'num_ms1_scans': 249, 'num_ms2_scans': 1502}\n",
      "\n",
      "Episode 20 (468 chemicals)\n",
      "steps\t 500 \ttotal rewards\t 0.29508196721311475\n",
      "steps\t 1000 \ttotal rewards\t 0.6174298375184638\n",
      "steps\t 1500 \ttotal rewards\t 0.8061224489795918\n",
      "Finished after 1784 timesteps (5.388118028640747 seconds) with total reward 0.8640776699029126\n",
      "{'coverage_prop': '0.904', 'intensity_prop': '0.670', 'ms1ms2_ratio': '0.138', 'efficiency': '0.270', 'TP': '356', 'FP': '67', 'FN': '45', 'precision': '0.842', 'recall': '0.888', 'f1': '0.864', 'total_rewards': 0.8640776699029126, 'invalid_action_count': 0, 'num_ms1_scans': 216, 'num_ms2_scans': 1568}\n",
      "\n",
      "Episode 21 (234 chemicals)\n",
      "steps\t 500 \ttotal rewards\t 0.3165467625899281\n",
      "steps\t 1000 \ttotal rewards\t 0.6853932584269663\n",
      "steps\t 1500 \ttotal rewards\t 0.8962264150943396\n",
      "Finished after 1662 timesteps (2.924611806869507 seconds) with total reward 0.9241379310344828\n",
      "{'coverage_prop': '0.953', 'intensity_prop': '0.766', 'ms1ms2_ratio': '0.255', 'efficiency': '0.168', 'TP': '201', 'FP': '22', 'FN': '11', 'precision': '0.901', 'recall': '0.948', 'f1': '0.924', 'total_rewards': 0.9241379310344828, 'invalid_action_count': 0, 'num_ms1_scans': 338, 'num_ms2_scans': 1324}\n",
      "\n",
      "Episode 22 (322 chemicals)\n",
      "steps\t 500 \ttotal rewards\t 0.32291666666666663\n",
      "steps\t 1000 \ttotal rewards\t 0.6527196652719666\n",
      "steps\t 1500 \ttotal rewards\t 0.8520499108734403\n",
      "Finished after 1737 timesteps (4.325082540512085 seconds) with total reward 0.910321489001692\n",
      "{'coverage_prop': '0.935', 'intensity_prop': '0.723', 'ms1ms2_ratio': '0.178', 'efficiency': '0.204', 'TP': '269', 'FP': '32', 'FN': '21', 'precision': '0.894', 'recall': '0.928', 'f1': '0.910', 'total_rewards': 0.910321489001692, 'invalid_action_count': 0, 'num_ms1_scans': 263, 'num_ms2_scans': 1474}\n",
      "\n",
      "Episode 23 (310 chemicals)\n",
      "steps\t 500 \ttotal rewards\t 0.3466666666666667\n",
      "steps\t 1000 \ttotal rewards\t 0.6609071274298056\n",
      "steps\t 1500 \ttotal rewards\t 0.8644688644688645\n",
      "Finished after 1704 timesteps (3.2412121295928955 seconds) with total reward 0.9065255731922399\n",
      "{'coverage_prop': '0.926', 'intensity_prop': '0.739', 'ms1ms2_ratio': '0.210', 'efficiency': '0.204', 'TP': '257', 'FP': '30', 'FN': '23', 'precision': '0.895', 'recall': '0.918', 'f1': '0.907', 'total_rewards': 0.9065255731922399, 'invalid_action_count': 0, 'num_ms1_scans': 296, 'num_ms2_scans': 1408}\n",
      "\n",
      "Episode 24 (345 chemicals)\n",
      "steps\t 500 \ttotal rewards\t 0.2835820895522388\n",
      "steps\t 1000 \ttotal rewards\t 0.6390532544378699\n",
      "steps\t 1500 \ttotal rewards\t 0.836424957841484\n",
      "Finished after 1757 timesteps (3.230745792388916 seconds) with total reward 0.9064976228209192\n",
      "{'coverage_prop': '0.962', 'intensity_prop': '0.726', 'ms1ms2_ratio': '0.161', 'efficiency': '0.219', 'TP': '286', 'FP': '46', 'FN': '13', 'precision': '0.861', 'recall': '0.957', 'f1': '0.906', 'total_rewards': 0.9064976228209192, 'invalid_action_count': 0, 'num_ms1_scans': 243, 'num_ms2_scans': 1514}\n",
      "\n",
      "Episode 25 (396 chemicals)\n",
      "steps\t 500 \ttotal rewards\t 0.2967741935483871\n",
      "steps\t 1000 \ttotal rewards\t 0.6007067137809187\n",
      "steps\t 1500 \ttotal rewards\t 0.8301329394387003\n",
      "Finished after 1773 timesteps (4.839566946029663 seconds) with total reward 0.9030470914127424\n",
      "{'coverage_prop': '0.955', 'intensity_prop': '0.723', 'ms1ms2_ratio': '0.148', 'efficiency': '0.245', 'TP': '326', 'FP': '52', 'FN': '18', 'precision': '0.862', 'recall': '0.948', 'f1': '0.903', 'total_rewards': 0.9030470914127424, 'invalid_action_count': 0, 'num_ms1_scans': 228, 'num_ms2_scans': 1545}\n",
      "\n",
      "Episode 26 (203 chemicals)\n",
      "steps\t 500 \ttotal rewards\t 0.30833333333333335\n",
      "steps\t 1000 \ttotal rewards\t 0.7192429022082019\n",
      "steps\t 1500 \ttotal rewards\t 0.9315789473684212\n",
      "Finished after 1665 timesteps (2.9825894832611084 seconds) with total reward 0.9536082474226805\n",
      "{'coverage_prop': '0.956', 'intensity_prop': '0.802', 'ms1ms2_ratio': '0.252', 'efficiency': '0.146', 'TP': '185', 'FP': '9', 'FN': '9', 'precision': '0.954', 'recall': '0.954', 'f1': '0.954', 'total_rewards': 0.9536082474226805, 'invalid_action_count': 0, 'num_ms1_scans': 335, 'num_ms2_scans': 1330}\n",
      "\n",
      "Episode 27 (281 chemicals)\n",
      "steps\t 500 \ttotal rewards\t 0.30722891566265054\n",
      "steps\t 1000 \ttotal rewards\t 0.6713947990543736\n",
      "steps\t 1500 \ttotal rewards\t 0.8871287128712871\n",
      "Finished after 1700 timesteps (2.901003360748291 seconds) with total reward 0.9396226415094341\n",
      "{'coverage_prop': '0.961', 'intensity_prop': '0.776', 'ms1ms2_ratio': '0.214', 'efficiency': '0.193', 'TP': '249', 'FP': '21', 'FN': '11', 'precision': '0.922', 'recall': '0.958', 'f1': '0.940', 'total_rewards': 0.9396226415094341, 'invalid_action_count': 0, 'num_ms1_scans': 300, 'num_ms2_scans': 1400}\n",
      "\n",
      "Episode 28 (493 chemicals)\n",
      "steps\t 500 \ttotal rewards\t 0.28222996515679444\n",
      "steps\t 1000 \ttotal rewards\t 0.552129221732746\n",
      "steps\t 1500 \ttotal rewards\t 0.7781908302354399\n",
      "Finished after 1811 timesteps (4.309622526168823 seconds) with total reward 0.8400000000000001\n",
      "{'coverage_prop': '0.903', 'intensity_prop': '0.636', 'ms1ms2_ratio': '0.117', 'efficiency': '0.274', 'TP': '357', 'FP': '88', 'FN': '48', 'precision': '0.802', 'recall': '0.881', 'f1': '0.840', 'total_rewards': 0.8400000000000001, 'invalid_action_count': 0, 'num_ms1_scans': 189, 'num_ms2_scans': 1622}\n",
      "\n",
      "Episode 29 (304 chemicals)\n",
      "steps\t 500 \ttotal rewards\t 0.3478260869565218\n",
      "steps\t 1000 \ttotal rewards\t 0.6896551724137931\n",
      "steps\t 1500 \ttotal rewards\t 0.8740740740740741\n",
      "Finished after 1730 timesteps (3.5414621829986572 seconds) with total reward 0.9181494661921707\n",
      "{'coverage_prop': '0.941', 'intensity_prop': '0.754', 'ms1ms2_ratio': '0.185', 'efficiency': '0.196', 'TP': '258', 'FP': '28', 'FN': '18', 'precision': '0.902', 'recall': '0.935', 'f1': '0.918', 'total_rewards': 0.9181494661921707, 'invalid_action_count': 0, 'num_ms1_scans': 270, 'num_ms2_scans': 1460}\n",
      "\n",
      "method = topN max_peaks = 30 N = 10 rt_tol = 5\n",
      "\n",
      "\n",
      "Episode 0 (426 chemicals)\n",
      "steps\t 500 \ttotal rewards\t 0.2994011976047904\n",
      "steps\t 1000 \ttotal rewards\t 0.6811145510835913\n",
      "steps\t 1500 \ttotal rewards\t 0.8862745098039216\n",
      "Finished after 1700 timesteps (10.503749132156372 seconds) with total reward 0.9283018867924528\n",
      "{'coverage_prop': '0.960', 'intensity_prop': '0.749', 'ms1ms2_ratio': '0.214', 'efficiency': '0.292', 'TP': '369', 'FP': '40', 'FN': '17', 'precision': '0.902', 'recall': '0.956', 'f1': '0.928', 'total_rewards': 0.9283018867924528, 'invalid_action_count': 0, 'num_ms1_scans': 300, 'num_ms2_scans': 1400}\n",
      "\n",
      "Episode 1 (262 chemicals)\n",
      "steps\t 500 \ttotal rewards\t 0.4404761904761905\n",
      "steps\t 1000 \ttotal rewards\t 0.7785547785547785\n",
      "steps\t 1500 \ttotal rewards\t 0.9477911646586344\n",
      "Finished after 1529 timesteps (9.423466205596924 seconds) with total reward 0.9498997995991983\n",
      "{'coverage_prop': '0.962', 'intensity_prop': '0.789', 'ms1ms2_ratio': '0.447', 'efficiency': '0.238', 'TP': '237', 'FP': '15', 'FN': '10', 'precision': '0.940', 'recall': '0.960', 'f1': '0.950', 'total_rewards': 0.9498997995991983, 'invalid_action_count': 0, 'num_ms1_scans': 472, 'num_ms2_scans': 1057}\n",
      "\n",
      "Episode 2 (394 chemicals)\n",
      "steps\t 500 \ttotal rewards\t 0.32696390658174096\n",
      "steps\t 1000 \ttotal rewards\t 0.6996699669966997\n",
      "steps\t 1500 \ttotal rewards\t 0.9009762900976289\n",
      "Finished after 1647 timesteps (9.871939659118652 seconds) with total reward 0.9351351351351351\n",
      "{'coverage_prop': '0.967', 'intensity_prop': '0.757', 'ms1ms2_ratio': '0.273', 'efficiency': '0.294', 'TP': '346', 'FP': '35', 'FN': '13', 'precision': '0.908', 'recall': '0.964', 'f1': '0.935', 'total_rewards': 0.9351351351351351, 'invalid_action_count': 0, 'num_ms1_scans': 353, 'num_ms2_scans': 1294}\n",
      "\n",
      "Episode 3 (452 chemicals)\n",
      "steps\t 500 \ttotal rewards\t 0.3443223443223443\n",
      "steps\t 1000 \ttotal rewards\t 0.6992805755395682\n",
      "steps\t 1500 \ttotal rewards\t 0.8866995073891626\n",
      "Finished after 1690 timesteps (10.276296615600586 seconds) with total reward 0.9327036599763873\n",
      "{'coverage_prop': '0.956', 'intensity_prop': '0.758', 'ms1ms2_ratio': '0.226', 'efficiency': '0.313', 'TP': '395', 'FP': '37', 'FN': '20', 'precision': '0.914', 'recall': '0.952', 'f1': '0.933', 'total_rewards': 0.9327036599763873, 'invalid_action_count': 0, 'num_ms1_scans': 311, 'num_ms2_scans': 1379}\n",
      "\n",
      "Episode 4 (437 chemicals)\n",
      "steps\t 500 \ttotal rewards\t 0.3320610687022901\n",
      "steps\t 1000 \ttotal rewards\t 0.6916167664670658\n",
      "steps\t 1500 \ttotal rewards\t 0.8894536213468869\n",
      "Finished after 1678 timesteps (12.008515119552612 seconds) with total reward 0.9276073619631902\n",
      "{'coverage_prop': '0.975', 'intensity_prop': '0.754', 'ms1ms2_ratio': '0.237', 'efficiency': '0.314', 'TP': '378', 'FP': '48', 'FN': '11', 'precision': '0.887', 'recall': '0.972', 'f1': '0.928', 'total_rewards': 0.9276073619631902, 'invalid_action_count': 0, 'num_ms1_scans': 322, 'num_ms2_scans': 1356}\n",
      "\n",
      "Episode 5 (200 chemicals)\n",
      "steps\t 500 \ttotal rewards\t 0.4251968503937008\n",
      "steps\t 1000 \ttotal rewards\t 0.830409356725146\n",
      "Finished after 1385 timesteps (8.089065551757812 seconds) with total reward 0.9528795811518324\n",
      "{'coverage_prop': '0.955', 'intensity_prop': '0.785', 'ms1ms2_ratio': '0.799', 'efficiency': '0.248', 'TP': '182', 'FP': '9', 'FN': '9', 'precision': '0.953', 'recall': '0.953', 'f1': '0.953', 'total_rewards': 0.9528795811518324, 'invalid_action_count': 0, 'num_ms1_scans': 615, 'num_ms2_scans': 770}\n",
      "\n",
      "Episode 6 (478 chemicals)\n",
      "steps\t 500 \ttotal rewards\t 0.33449477351916374\n",
      "steps\t 1000 \ttotal rewards\t 0.6722222222222223\n",
      "steps\t 1500 \ttotal rewards\t 0.861904761904762\n",
      "Finished after 1720 timesteps (10.545557498931885 seconds) with total reward 0.9049255441008018\n",
      "{'coverage_prop': '0.935', 'intensity_prop': '0.720', 'ms1ms2_ratio': '0.194', 'efficiency': '0.310', 'TP': '395', 'FP': '52', 'FN': '31', 'precision': '0.884', 'recall': '0.927', 'f1': '0.905', 'total_rewards': 0.9049255441008018, 'invalid_action_count': 0, 'num_ms1_scans': 280, 'num_ms2_scans': 1440}\n",
      "\n",
      "Episode 7 (204 chemicals)\n",
      "steps\t 500 \ttotal rewards\t 0.3873517786561265\n",
      "steps\t 1000 \ttotal rewards\t 0.8173913043478261\n",
      "Finished after 1444 timesteps (9.125620126724243 seconds) with total reward 0.9565217391304348\n",
      "{'coverage_prop': '0.966', 'intensity_prop': '0.790', 'ms1ms2_ratio': '0.626', 'efficiency': '0.222', 'TP': '187', 'FP': '10', 'FN': '7', 'precision': '0.949', 'recall': '0.964', 'f1': '0.957', 'total_rewards': 0.9565217391304348, 'invalid_action_count': 0, 'num_ms1_scans': 556, 'num_ms2_scans': 888}\n",
      "\n",
      "Episode 8 (424 chemicals)\n",
      "steps\t 500 \ttotal rewards\t 0.35976789168278533\n",
      "steps\t 1000 \ttotal rewards\t 0.6811819595645412\n",
      "steps\t 1500 \ttotal rewards\t 0.8856767411300919\n",
      "Finished after 1706 timesteps (11.154579162597656 seconds) with total reward 0.9306431273644388\n",
      "{'coverage_prop': '0.948', 'intensity_prop': '0.744', 'ms1ms2_ratio': '0.208', 'efficiency': '0.285', 'TP': '369', 'FP': '33', 'FN': '22', 'precision': '0.918', 'recall': '0.944', 'f1': '0.931', 'total_rewards': 0.9306431273644388, 'invalid_action_count': 0, 'num_ms1_scans': 294, 'num_ms2_scans': 1412}\n",
      "\n",
      "Episode 9 (384 chemicals)\n",
      "steps\t 500 \ttotal rewards\t 0.3194748358862144\n",
      "steps\t 1000 \ttotal rewards\t 0.7027027027027027\n",
      "steps\t 1500 \ttotal rewards\t 0.9044222539229673\n",
      "Finished after 1644 timesteps (10.482512474060059 seconds) with total reward 0.937759336099585\n",
      "{'coverage_prop': '0.958', 'intensity_prop': '0.765', 'ms1ms2_ratio': '0.276', 'efficiency': '0.286', 'TP': '339', 'FP': '29', 'FN': '16', 'precision': '0.921', 'recall': '0.955', 'f1': '0.938', 'total_rewards': 0.937759336099585, 'invalid_action_count': 0, 'num_ms1_scans': 356, 'num_ms2_scans': 1288}\n",
      "\n",
      "Episode 10 (443 chemicals)\n",
      "steps\t 500 \ttotal rewards\t 0.29942418426103645\n",
      "steps\t 1000 \ttotal rewards\t 0.671664167916042\n",
      "steps\t 1500 \ttotal rewards\t 0.8756345177664974\n",
      "Finished after 1723 timesteps (13.19512391090393 seconds) with total reward 0.926060606060606\n",
      "{'coverage_prop': '0.948', 'intensity_prop': '0.751', 'ms1ms2_ratio': '0.192', 'efficiency': '0.290', 'TP': '382', 'FP': '38', 'FN': '23', 'precision': '0.910', 'recall': '0.943', 'f1': '0.926', 'total_rewards': 0.926060606060606, 'invalid_action_count': 0, 'num_ms1_scans': 277, 'num_ms2_scans': 1446}\n",
      "\n",
      "Episode 11 (249 chemicals)\n",
      "steps\t 500 \ttotal rewards\t 0.4140127388535032\n",
      "steps\t 1000 \ttotal rewards\t 0.7764127764127764\n",
      "steps\t 1500 \ttotal rewards\t 0.9515789473684211\n",
      "Finished after 1501 timesteps (9.11600947380066 seconds) with total reward 0.9515789473684211\n",
      "{'coverage_prop': '0.960', 'intensity_prop': '0.787', 'ms1ms2_ratio': '0.500', 'efficiency': '0.239', 'TP': '226', 'FP': '13', 'FN': '10', 'precision': '0.946', 'recall': '0.958', 'f1': '0.952', 'total_rewards': 0.9515789473684211, 'invalid_action_count': 0, 'num_ms1_scans': 500, 'num_ms2_scans': 1001}\n",
      "\n",
      "Episode 12 (251 chemicals)\n",
      "steps\t 500 \ttotal rewards\t 0.3648208469055375\n",
      "steps\t 1000 \ttotal rewards\t 0.7418546365914788\n",
      "steps\t 1500 \ttotal rewards\t 0.9134199134199132\n",
      "Finished after 1577 timesteps (8.687817573547363 seconds) with total reward 0.9227467811158799\n",
      "{'coverage_prop': '0.948', 'intensity_prop': '0.744', 'ms1ms2_ratio': '0.367', 'efficiency': '0.206', 'TP': '215', 'FP': '23', 'FN': '13', 'precision': '0.903', 'recall': '0.943', 'f1': '0.923', 'total_rewards': 0.9227467811158799, 'invalid_action_count': 0, 'num_ms1_scans': 423, 'num_ms2_scans': 1154}\n",
      "\n",
      "Episode 13 (300 chemicals)\n",
      "steps\t 500 \ttotal rewards\t 0.33333333333333337\n",
      "steps\t 1000 \ttotal rewards\t 0.7012987012987013\n",
      "steps\t 1500 \ttotal rewards\t 0.9130434782608696\n",
      "Finished after 1621 timesteps (12.001039505004883 seconds) with total reward 0.9342806394316163\n",
      "{'coverage_prop': '0.963', 'intensity_prop': '0.756', 'ms1ms2_ratio': '0.305', 'efficiency': '0.233', 'TP': '263', 'FP': '26', 'FN': '11', 'precision': '0.910', 'recall': '0.960', 'f1': '0.934', 'total_rewards': 0.9342806394316163, 'invalid_action_count': 0, 'num_ms1_scans': 379, 'num_ms2_scans': 1242}\n",
      "\n",
      "Episode 14 (206 chemicals)\n",
      "steps\t 500 \ttotal rewards\t 0.3715415019762846\n",
      "steps\t 1000 \ttotal rewards\t 0.788235294117647\n",
      "Finished after 1472 timesteps (7.66999626159668 seconds) with total reward 0.9381443298969072\n",
      "{'coverage_prop': '0.956', 'intensity_prop': '0.774', 'ms1ms2_ratio': '0.559', 'efficiency': '0.209', 'TP': '183', 'FP': '14', 'FN': '9', 'precision': '0.929', 'recall': '0.953', 'f1': '0.941', 'total_rewards': 0.9381443298969072, 'invalid_action_count': 0, 'num_ms1_scans': 528, 'num_ms2_scans': 944}\n",
      "\n",
      "Episode 15 (407 chemicals)\n",
      "steps\t 500 \ttotal rewards\t 0.30416666666666664\n",
      "steps\t 1000 \ttotal rewards\t 0.7221350078492936\n",
      "steps\t 1500 \ttotal rewards\t 0.9088471849865952\n",
      "Finished after 1627 timesteps (9.63850712776184 seconds) with total reward 0.9469598965071151\n",
      "{'coverage_prop': '0.966', 'intensity_prop': '0.776', 'ms1ms2_ratio': '0.297', 'efficiency': '0.313', 'TP': '366', 'FP': '27', 'FN': '14', 'precision': '0.931', 'recall': '0.963', 'f1': '0.947', 'total_rewards': 0.9469598965071151, 'invalid_action_count': 0, 'num_ms1_scans': 373, 'num_ms2_scans': 1254}\n",
      "\n",
      "Episode 16 (498 chemicals)\n",
      "steps\t 500 \ttotal rewards\t 0.345514950166113\n",
      "steps\t 1000 \ttotal rewards\t 0.6842800528401586\n",
      "steps\t 1500 \ttotal rewards\t 0.8921023359288098\n",
      "Finished after 1712 timesteps (12.008270025253296 seconds) with total reward 0.9336188436830836\n",
      "{'coverage_prop': '0.958', 'intensity_prop': '0.757', 'ms1ms2_ratio': '0.202', 'efficiency': '0.335', 'TP': '437', 'FP': '40', 'FN': '21', 'precision': '0.916', 'recall': '0.954', 'f1': '0.935', 'total_rewards': 0.9336188436830836, 'invalid_action_count': 0, 'num_ms1_scans': 288, 'num_ms2_scans': 1424}\n",
      "\n",
      "Episode 17 (372 chemicals)\n",
      "steps\t 500 \ttotal rewards\t 0.3612334801762115\n",
      "steps\t 1000 \ttotal rewards\t 0.7015706806282721\n",
      "steps\t 1500 \ttotal rewards\t 0.9074889867841409\n",
      "Finished after 1652 timesteps (11.28635287284851 seconds) with total reward 0.9386590584878745\n",
      "{'coverage_prop': '0.965', 'intensity_prop': '0.774', 'ms1ms2_ratio': '0.267', 'efficiency': '0.275', 'TP': '329', 'FP': '30', 'FN': '13', 'precision': '0.916', 'recall': '0.962', 'f1': '0.939', 'total_rewards': 0.9386590584878745, 'invalid_action_count': 0, 'num_ms1_scans': 348, 'num_ms2_scans': 1304}\n",
      "\n",
      "Episode 18 (302 chemicals)\n",
      "steps\t 500 \ttotal rewards\t 0.358695652173913\n",
      "steps\t 1000 \ttotal rewards\t 0.7257383966244725\n",
      "steps\t 1500 \ttotal rewards\t 0.9290780141843972\n",
      "Finished after 1584 timesteps (8.73433804512024 seconds) with total reward 0.9403508771929825\n",
      "{'coverage_prop': '0.967', 'intensity_prop': '0.772', 'ms1ms2_ratio': '0.356', 'efficiency': '0.250', 'TP': '268', 'FP': '24', 'FN': '10', 'precision': '0.918', 'recall': '0.964', 'f1': '0.940', 'total_rewards': 0.9403508771929825, 'invalid_action_count': 0, 'num_ms1_scans': 416, 'num_ms2_scans': 1168}\n",
      "\n",
      "Episode 19 (265 chemicals)\n",
      "steps\t 500 \ttotal rewards\t 0.3742331288343559\n",
      "steps\t 1000 \ttotal rewards\t 0.7440758293838863\n",
      "steps\t 1500 \ttotal rewards\t 0.937875751503006\n",
      "Finished after 1604 timesteps (9.290231943130493 seconds) with total reward 0.9463220675944334\n",
      "{'coverage_prop': '0.977', 'intensity_prop': '0.794', 'ms1ms2_ratio': '0.329', 'efficiency': '0.215', 'TP': '238', 'FP': '21', 'FN': '6', 'precision': '0.919', 'recall': '0.975', 'f1': '0.946', 'total_rewards': 0.9463220675944334, 'invalid_action_count': 0, 'num_ms1_scans': 397, 'num_ms2_scans': 1207}\n",
      "\n",
      "Episode 20 (468 chemicals)\n",
      "steps\t 500 \ttotal rewards\t 0.3345195729537367\n",
      "steps\t 1000 \ttotal rewards\t 0.6909090909090909\n",
      "steps\t 1500 \ttotal rewards\t 0.8750000000000001\n",
      "Finished after 1703 timesteps (11.597975730895996 seconds) with total reward 0.9191685912240185\n",
      "{'coverage_prop': '0.923', 'intensity_prop': '0.734', 'ms1ms2_ratio': '0.211', 'efficiency': '0.307', 'TP': '398', 'FP': '34', 'FN': '36', 'precision': '0.921', 'recall': '0.917', 'f1': '0.919', 'total_rewards': 0.9191685912240185, 'invalid_action_count': 0, 'num_ms1_scans': 297, 'num_ms2_scans': 1406}\n",
      "\n",
      "Episode 21 (234 chemicals)\n",
      "steps\t 500 \ttotal rewards\t 0.3693379790940767\n",
      "steps\t 1000 \ttotal rewards\t 0.7906976744186047\n",
      "Finished after 1444 timesteps (10.119352340698242 seconds) with total reward 0.9216589861751151\n",
      "{'coverage_prop': '0.957', 'intensity_prop': '0.759', 'ms1ms2_ratio': '0.628', 'efficiency': '0.253', 'TP': '200', 'FP': '24', 'FN': '10', 'precision': '0.893', 'recall': '0.952', 'f1': '0.922', 'total_rewards': 0.9216589861751151, 'invalid_action_count': 0, 'num_ms1_scans': 557, 'num_ms2_scans': 887}\n",
      "\n",
      "Episode 22 (322 chemicals)\n",
      "steps\t 500 \ttotal rewards\t 0.38190954773869346\n",
      "steps\t 1000 \ttotal rewards\t 0.7272727272727274\n",
      "steps\t 1500 \ttotal rewards\t 0.9248747913188649\n",
      "Finished after 1609 timesteps (9.456310749053955 seconds) with total reward 0.9494290375203915\n",
      "{'coverage_prop': '0.966', 'intensity_prop': '0.770', 'ms1ms2_ratio': '0.322', 'efficiency': '0.256', 'TP': '291', 'FP': '20', 'FN': '11', 'precision': '0.936', 'recall': '0.964', 'f1': '0.949', 'total_rewards': 0.9494290375203915, 'invalid_action_count': 0, 'num_ms1_scans': 392, 'num_ms2_scans': 1217}\n",
      "\n",
      "Episode 23 (310 chemicals)\n",
      "steps\t 500 \ttotal rewards\t 0.381201044386423\n",
      "steps\t 1000 \ttotal rewards\t 0.7449392712550608\n",
      "steps\t 1500 \ttotal rewards\t 0.9310344827586208\n",
      "Finished after 1544 timesteps (8.667393922805786 seconds) with total reward 0.9347079037800687\n",
      "{'coverage_prop': '0.948', 'intensity_prop': '0.766', 'ms1ms2_ratio': '0.420', 'efficiency': '0.270', 'TP': '272', 'FP': '22', 'FN': '16', 'precision': '0.925', 'recall': '0.944', 'f1': '0.935', 'total_rewards': 0.9347079037800687, 'invalid_action_count': 0, 'num_ms1_scans': 457, 'num_ms2_scans': 1087}\n",
      "\n",
      "Episode 24 (345 chemicals)\n",
      "steps\t 500 \ttotal rewards\t 0.3373493975903615\n",
      "steps\t 1000 \ttotal rewards\t 0.7385740402193784\n",
      "steps\t 1500 \ttotal rewards\t 0.921875\n",
      "Finished after 1655 timesteps (9.366165161132812 seconds) with total reward 0.952959028831563\n",
      "{'coverage_prop': '0.980', 'intensity_prop': '0.786', 'ms1ms2_ratio': '0.264', 'efficiency': '0.258', 'TP': '314', 'FP': '24', 'FN': '7', 'precision': '0.929', 'recall': '0.978', 'f1': '0.953', 'total_rewards': 0.952959028831563, 'invalid_action_count': 0, 'num_ms1_scans': 346, 'num_ms2_scans': 1309}\n",
      "\n",
      "Episode 25 (396 chemicals)\n",
      "steps\t 500 \ttotal rewards\t 0.32911392405063294\n",
      "steps\t 1000 \ttotal rewards\t 0.6733668341708543\n",
      "steps\t 1500 \ttotal rewards\t 0.9030470914127424\n",
      "Finished after 1649 timesteps (11.870798826217651 seconds) with total reward 0.944\n",
      "{'coverage_prop': '0.980', 'intensity_prop': '0.773', 'ms1ms2_ratio': '0.270', 'efficiency': '0.299', 'TP': '354', 'FP': '34', 'FN': '8', 'precision': '0.912', 'recall': '0.978', 'f1': '0.944', 'total_rewards': 0.944, 'invalid_action_count': 0, 'num_ms1_scans': 351, 'num_ms2_scans': 1298}\n",
      "\n",
      "Episode 26 (203 chemicals)\n",
      "steps\t 500 \ttotal rewards\t 0.3428571428571429\n",
      "steps\t 1000 \ttotal rewards\t 0.8058823529411765\n",
      "Finished after 1434 timesteps (8.152349948883057 seconds) with total reward 0.9481865284974094\n",
      "{'coverage_prop': '0.970', 'intensity_prop': '0.786', 'ms1ms2_ratio': '0.652', 'efficiency': '0.227', 'TP': '183', 'FP': '14', 'FN': '6', 'precision': '0.929', 'recall': '0.968', 'f1': '0.948', 'total_rewards': 0.9481865284974094, 'invalid_action_count': 0, 'num_ms1_scans': 566, 'num_ms2_scans': 868}\n",
      "\n",
      "Episode 27 (281 chemicals)\n",
      "steps\t 500 \ttotal rewards\t 0.34705882352941175\n",
      "steps\t 1000 \ttotal rewards\t 0.753880266075388\n",
      "steps\t 1500 \ttotal rewards\t 0.943609022556391\n",
      "Finished after 1527 timesteps (8.834203720092773 seconds) with total reward 0.947565543071161\n",
      "{'coverage_prop': '0.968', 'intensity_prop': '0.795', 'ms1ms2_ratio': '0.449', 'efficiency': '0.258', 'TP': '253', 'FP': '19', 'FN': '9', 'precision': '0.930', 'recall': '0.966', 'f1': '0.948', 'total_rewards': 0.947565543071161, 'invalid_action_count': 0, 'num_ms1_scans': 473, 'num_ms2_scans': 1054}\n",
      "\n",
      "Episode 28 (493 chemicals)\n",
      "steps\t 500 \ttotal rewards\t 0.3202725724020443\n",
      "steps\t 1000 \ttotal rewards\t 0.6381215469613261\n",
      "steps\t 1500 \ttotal rewards\t 0.8601156069364162\n",
      "Finished after 1729 timesteps (10.247673034667969 seconds) with total reward 0.9032258064516129\n",
      "{'coverage_prop': '0.933', 'intensity_prop': '0.710', 'ms1ms2_ratio': '0.186', 'efficiency': '0.316', 'TP': '406', 'FP': '54', 'FN': '33', 'precision': '0.883', 'recall': '0.925', 'f1': '0.903', 'total_rewards': 0.9032258064516129, 'invalid_action_count': 0, 'num_ms1_scans': 271, 'num_ms2_scans': 1458}\n",
      "\n",
      "Episode 29 (304 chemicals)\n",
      "steps\t 500 \ttotal rewards\t 0.3699731903485255\n",
      "steps\t 1000 \ttotal rewards\t 0.7540983606557379\n",
      "steps\t 1500 \ttotal rewards\t 0.9295774647887325\n",
      "Finished after 1612 timesteps (12.385640382766724 seconds) with total reward 0.9480968858131488\n",
      "{'coverage_prop': '0.967', 'intensity_prop': '0.794', 'ms1ms2_ratio': '0.317', 'efficiency': '0.240', 'TP': '275', 'FP': '19', 'FN': '10', 'precision': '0.935', 'recall': '0.965', 'f1': '0.950', 'total_rewards': 0.9480968858131488, 'invalid_action_count': 0, 'num_ms1_scans': 388, 'num_ms2_scans': 1224}\n",
      "\n"
     ]
    }
   ],
   "source": [
    "method_eval_results = {}\n",
    "for method in methods:\n",
    "\n",
    "    N = 0\n",
    "    copy_params = copy.deepcopy(params)            \n",
    "    custom_objects = {\n",
    "        \"learning_rate\": 0.0,\n",
    "        \"lr_schedule\": lambda _: 0.0,\n",
    "        \"clip_range\": lambda _: 0.0,\n",
    "    }    \n",
    "    \n",
    "    model = None\n",
    "    if method == METHOD_TOPN:\n",
    "        N = topN_N\n",
    "        effective_rt_tol = topN_rt_tol\n",
    "        copy_params['env']['use_dew'] = True\n",
    "        copy_params['env']['rt_tol'] = effective_rt_tol                        \n",
    "\n",
    "    banner = 'method = %s max_peaks = %d N = %d rt_tol = %d' % (method, max_peaks, N, \n",
    "                                                                                   copy_params['env']['rt_tol'])\n",
    "    print(banner)\n",
    "    print()            \n",
    "            \n",
    "    episodic_results = run_method(env_name, copy_params, max_peaks, chem_list, method, out_dir, \n",
    "                                  N=N, min_ms1_intensity=min_ms1_intensity, model=model,\n",
    "                                  print_eval=True, print_reward=True, intensity_threshold=intensity_threshold,\n",
    "                                  mzml_prefix=method, horizon=horizon, valid_random=valid_random)\n",
    "    eval_results = [er.eval_res for er in episodic_results]\n",
    "    method_eval_results[method] = eval_results\n",
    "    print()"
   ]
  },
  {
   "cell_type": "markdown",
   "metadata": {},
   "source": [
    "#### DQN"
   ]
  },
  {
   "cell_type": "code",
   "execution_count": 16,
   "metadata": {
    "execution": {
     "iopub.execute_input": "2023-04-17T13:48:29.519694Z",
     "iopub.status.busy": "2023-04-17T13:48:29.519542Z",
     "iopub.status.idle": "2023-04-17T13:48:29.561837Z",
     "shell.execute_reply": "2023-04-17T13:48:29.561253Z",
     "shell.execute_reply.started": "2023-04-17T13:48:29.519676Z"
    }
   },
   "outputs": [
    {
     "data": {
      "text/plain": [
       "device(type='cpu')"
      ]
     },
     "execution_count": 16,
     "metadata": {},
     "output_type": "execute_result"
    }
   ],
   "source": [
    "device = torch.device(\"cpu\")\n",
    "device"
   ]
  },
  {
   "cell_type": "code",
   "execution_count": 17,
   "metadata": {
    "execution": {
     "iopub.execute_input": "2023-04-17T13:48:29.562746Z",
     "iopub.status.busy": "2023-04-17T13:48:29.562613Z",
     "iopub.status.idle": "2023-04-17T13:48:29.602340Z",
     "shell.execute_reply": "2023-04-17T13:48:29.601602Z",
     "shell.execute_reply.started": "2023-04-17T13:48:29.562732Z"
    }
   },
   "outputs": [
    {
     "data": {
      "text/plain": [
       "'DQN_1.0E6/DQN.model'"
      ]
     },
     "execution_count": 17,
     "metadata": {},
     "output_type": "execute_result"
    }
   ],
   "source": [
    "model_path = os.path.join(dqn_in_dir, 'DQN.model')\n",
    "model_path"
   ]
  },
  {
   "cell_type": "code",
   "execution_count": 18,
   "metadata": {
    "execution": {
     "iopub.execute_input": "2023-04-17T13:48:29.603491Z",
     "iopub.status.busy": "2023-04-17T13:48:29.603338Z",
     "iopub.status.idle": "2023-04-17T13:48:29.644604Z",
     "shell.execute_reply": "2023-04-17T13:48:29.644014Z",
     "shell.execute_reply.started": "2023-04-17T13:48:29.603472Z"
    }
   },
   "outputs": [],
   "source": [
    "env_id = 'DDAEnv'"
   ]
  },
  {
   "cell_type": "code",
   "execution_count": 19,
   "metadata": {
    "execution": {
     "iopub.execute_input": "2023-04-17T13:48:29.645473Z",
     "iopub.status.busy": "2023-04-17T13:48:29.645341Z",
     "iopub.status.idle": "2023-04-17T13:48:30.317910Z",
     "shell.execute_reply": "2023-04-17T13:48:30.317321Z",
     "shell.execute_reply.started": "2023-04-17T13:48:29.645455Z"
    }
   },
   "outputs": [
    {
     "name": "stderr",
     "output_type": "stream",
     "text": [
      "/opt/conda/lib/python3.8/site-packages/gymnasium/utils/passive_env_checker.py:42: UserWarning:\n",
      "\n",
      "\u001b[33mWARN: A Box observation space has an unconventional shape (neither an image, nor a 1D vector). We recommend flattening the observation to have only a 1D vector or use a custom policy to properly process the data. Actual observation shape: (30, 10)\u001b[0m\n",
      "\n",
      "/opt/conda/lib/python3.8/site-packages/gymnasium/utils/env_checker.py:317: UserWarning:\n",
      "\n",
      "\u001b[33mWARN: Not able to test alternative render modes due to the environment not having a spec. Try instantialising the environment through gymnasium.make\u001b[0m\n",
      "\n"
     ]
    },
    {
     "data": {
      "text/plain": [
       "QNetworkLSTM(\n",
       "  (roi_lstm): LSTM(1, 64, batch_first=True)\n",
       "  (roi_fc): Sequential(\n",
       "    (0): Linear(in_features=64, out_features=32, bias=True)\n",
       "    (1): ReLU()\n",
       "  )\n",
       "  (other_network): Sequential(\n",
       "    (0): Linear(in_features=127, out_features=256, bias=True)\n",
       "    (1): ReLU()\n",
       "    (2): Linear(in_features=256, out_features=256, bias=True)\n",
       "    (3): ReLU()\n",
       "    (4): Linear(in_features=256, out_features=256, bias=True)\n",
       "    (5): ReLU()\n",
       "  )\n",
       "  (output_layer): Linear(in_features=1216, out_features=31, bias=True)\n",
       ")"
      ]
     },
     "execution_count": 19,
     "metadata": {},
     "output_type": "execute_result"
    }
   ],
   "source": [
    "envs = gym.vector.SyncVectorEnv([make_env(env_id, 0, max_peaks, params)])\n",
    "model = get_QNetwork(QNETWORK_LSTM, envs, device)\n",
    "model.load_state_dict(torch.load(model_path, map_location=device))\n",
    "model.eval()"
   ]
  },
  {
   "cell_type": "code",
   "execution_count": 20,
   "metadata": {
    "execution": {
     "iopub.execute_input": "2023-04-17T13:48:30.319081Z",
     "iopub.status.busy": "2023-04-17T13:48:30.318591Z",
     "iopub.status.idle": "2023-04-17T13:48:30.358235Z",
     "shell.execute_reply": "2023-04-17T13:48:30.357718Z",
     "shell.execute_reply.started": "2023-04-17T13:48:30.319061Z"
    }
   },
   "outputs": [
    {
     "data": {
      "text/plain": [
       "(30, 30)"
      ]
     },
     "execution_count": 20,
     "metadata": {},
     "output_type": "execute_result"
    }
   ],
   "source": [
    "eval_episodes = n_eval_episodes\n",
    "eval_episodes, len(chem_list)"
   ]
  },
  {
   "cell_type": "code",
   "execution_count": 21,
   "metadata": {
    "execution": {
     "iopub.execute_input": "2023-04-17T13:48:30.359418Z",
     "iopub.status.busy": "2023-04-17T13:48:30.359021Z",
     "iopub.status.idle": "2023-04-17T13:59:03.892504Z",
     "shell.execute_reply": "2023-04-17T13:59:03.891953Z",
     "shell.execute_reply.started": "2023-04-17T13:48:30.359398Z"
    }
   },
   "outputs": [
    {
     "name": "stdout",
     "output_type": "stream",
     "text": [
      "Episode 0 (426 chemicals) return 0.890625 length 1853\n",
      "{'coverage_prop': '0.953', 'intensity_prop': '0.702', 'ms1ms2_ratio': '0.086', 'efficiency': '0.238', 'TP': '342', 'FP': '64', 'FN': '20', 'precision': '0.842', 'recall': '0.945', 'f1': '0.891', 'invalid_action_count': 0, 'total_rewards': 0.890625, 'episodic_length': 1853, 'num_ms1_scans': 147, 'num_ms2_scans': 1706}\n",
      "Episode 1 (262 chemicals) return 0.9327903985977173 length 1792\n",
      "{'coverage_prop': '0.947', 'intensity_prop': '0.784', 'ms1ms2_ratio': '0.131', 'efficiency': '0.157', 'TP': '229', 'FP': '19', 'FN': '14', 'precision': '0.923', 'recall': '0.942', 'f1': '0.933', 'invalid_action_count': 0, 'total_rewards': 0.9327904, 'episodic_length': 1792, 'num_ms1_scans': 208, 'num_ms2_scans': 1584}\n",
      "Episode 2 (394 chemicals) return 0.8917017579078674 length 1832\n",
      "{'coverage_prop': '0.949', 'intensity_prop': '0.715', 'ms1ms2_ratio': '0.101', 'efficiency': '0.225', 'TP': '317', 'FP': '57', 'FN': '20', 'precision': '0.848', 'recall': '0.941', 'f1': '0.892', 'invalid_action_count': 0, 'total_rewards': 0.89170176, 'episodic_length': 1832, 'num_ms1_scans': 168, 'num_ms2_scans': 1664}\n",
      "Episode 3 (452 chemicals) return 0.9108436703681946 length 1850\n",
      "{'coverage_prop': '0.954', 'intensity_prop': '0.738', 'ms1ms2_ratio': '0.088', 'efficiency': '0.254', 'TP': '379', 'FP': '52', 'FN': '21', 'precision': '0.879', 'recall': '0.948', 'f1': '0.912', 'invalid_action_count': 0, 'total_rewards': 0.9108437, 'episodic_length': 1850, 'num_ms1_scans': 150, 'num_ms2_scans': 1700}\n",
      "Episode 4 (437 chemicals) return 0.9088637232780457 length 1843\n",
      "{'coverage_prop': '0.963', 'intensity_prop': '0.734', 'ms1ms2_ratio': '0.093', 'efficiency': '0.250', 'TP': '364', 'FP': '57', 'FN': '16', 'precision': '0.865', 'recall': '0.958', 'f1': '0.909', 'invalid_action_count': 0, 'total_rewards': 0.9088637, 'episodic_length': 1843, 'num_ms1_scans': 157, 'num_ms2_scans': 1686}\n",
      "Episode 5 (200 chemicals) return 0.9473685026168823 length 1746\n",
      "{'coverage_prop': '0.945', 'intensity_prop': '0.813', 'ms1ms2_ratio': '0.170', 'efficiency': '0.127', 'TP': '180', 'FP': '9', 'FN': '11', 'precision': '0.952', 'recall': '0.942', 'f1': '0.947', 'invalid_action_count': 0, 'total_rewards': 0.9473685, 'episodic_length': 1746, 'num_ms1_scans': 254, 'num_ms2_scans': 1492}\n",
      "Episode 6 (478 chemicals) return 0.8659549951553345 length 1852\n",
      "{'coverage_prop': '0.925', 'intensity_prop': '0.681', 'ms1ms2_ratio': '0.087', 'efficiency': '0.259', 'TP': '365', 'FP': '77', 'FN': '36', 'precision': '0.826', 'recall': '0.910', 'f1': '0.866', 'invalid_action_count': 0, 'total_rewards': 0.865955, 'episodic_length': 1852, 'num_ms1_scans': 148, 'num_ms2_scans': 1704}\n",
      "Episode 7 (204 chemicals) return 0.9565218091011047 length 1758\n",
      "{'coverage_prop': '0.956', 'intensity_prop': '0.815', 'ms1ms2_ratio': '0.160', 'efficiency': '0.129', 'TP': '187', 'FP': '8', 'FN': '9', 'precision': '0.959', 'recall': '0.954', 'f1': '0.957', 'invalid_action_count': 0, 'total_rewards': 0.9565218, 'episodic_length': 1758, 'num_ms1_scans': 242, 'num_ms2_scans': 1516}\n",
      "Episode 8 (424 chemicals) return 0.8929505944252014 length 1864\n",
      "{'coverage_prop': '0.936', 'intensity_prop': '0.714', 'ms1ms2_ratio': '0.079', 'efficiency': '0.230', 'TP': '342', 'FP': '55', 'FN': '27', 'precision': '0.861', 'recall': '0.927', 'f1': '0.893', 'invalid_action_count': 0, 'total_rewards': 0.8929506, 'episodic_length': 1864, 'num_ms1_scans': 136, 'num_ms2_scans': 1728}\n",
      "Episode 9 (384 chemicals) return 0.9152539968490601 length 1842\n",
      "{'coverage_prop': '0.953', 'intensity_prop': '0.738', 'ms1ms2_ratio': '0.094', 'efficiency': '0.217', 'TP': '324', 'FP': '42', 'FN': '18', 'precision': '0.885', 'recall': '0.947', 'f1': '0.915', 'invalid_action_count': 0, 'total_rewards': 0.915254, 'episodic_length': 1842, 'num_ms1_scans': 158, 'num_ms2_scans': 1684}\n",
      "Episode 10 (443 chemicals) return 0.8925000429153442 length 1866\n",
      "{'coverage_prop': '0.937', 'intensity_prop': '0.714', 'ms1ms2_ratio': '0.077', 'efficiency': '0.240', 'TP': '357', 'FP': '58', 'FN': '28', 'precision': '0.860', 'recall': '0.927', 'f1': '0.892', 'invalid_action_count': 0, 'total_rewards': 0.89250004, 'episodic_length': 1866, 'num_ms1_scans': 134, 'num_ms2_scans': 1732}\n",
      "Episode 11 (249 chemicals) return 0.9404255151748657 length 1785\n",
      "{'coverage_prop': '0.952', 'intensity_prop': '0.789', 'ms1ms2_ratio': '0.137', 'efficiency': '0.151', 'TP': '221', 'FP': '16', 'FN': '12', 'precision': '0.932', 'recall': '0.948', 'f1': '0.940', 'invalid_action_count': 0, 'total_rewards': 0.9404255, 'episodic_length': 1785, 'num_ms1_scans': 215, 'num_ms2_scans': 1570}\n",
      "Episode 12 (251 chemicals) return 0.9063184261322021 length 1823\n",
      "{'coverage_prop': '0.948', 'intensity_prop': '0.751', 'ms1ms2_ratio': '0.108', 'efficiency': '0.145', 'TP': '208', 'FP': '30', 'FN': '13', 'precision': '0.874', 'recall': '0.941', 'f1': '0.906', 'invalid_action_count': 0, 'total_rewards': 0.9063184, 'episodic_length': 1823, 'num_ms1_scans': 177, 'num_ms2_scans': 1646}\n",
      "Episode 13 (300 chemicals) return 0.9208635687828064 length 1827\n",
      "{'coverage_prop': '0.943', 'intensity_prop': '0.746', 'ms1ms2_ratio': '0.105', 'efficiency': '0.171', 'TP': '256', 'FP': '27', 'FN': '17', 'precision': '0.905', 'recall': '0.938', 'f1': '0.921', 'invalid_action_count': 0, 'total_rewards': 0.92086357, 'episodic_length': 1827, 'num_ms1_scans': 173, 'num_ms2_scans': 1654}\n",
      "Episode 14 (206 chemicals) return 0.9214659333229065 length 1780\n",
      "{'coverage_prop': '0.947', 'intensity_prop': '0.762', 'ms1ms2_ratio': '0.141', 'efficiency': '0.125', 'TP': '176', 'FP': '19', 'FN': '11', 'precision': '0.903', 'recall': '0.941', 'f1': '0.921', 'invalid_action_count': 0, 'total_rewards': 0.92146593, 'episodic_length': 1780, 'num_ms1_scans': 220, 'num_ms2_scans': 1560}\n",
      "Episode 15 (407 chemicals) return 0.9189907908439636 length 1831\n",
      "{'coverage_prop': '0.953', 'intensity_prop': '0.760', 'ms1ms2_ratio': '0.102', 'efficiency': '0.233', 'TP': '346', 'FP': '42', 'FN': '19', 'precision': '0.892', 'recall': '0.948', 'f1': '0.919', 'invalid_action_count': 0, 'total_rewards': 0.9189908, 'episodic_length': 1831, 'num_ms1_scans': 169, 'num_ms2_scans': 1662}\n",
      "Episode 16 (498 chemicals) return 0.9030840992927551 length 1856\n",
      "{'coverage_prop': '0.938', 'intensity_prop': '0.717', 'ms1ms2_ratio': '0.084', 'efficiency': '0.273', 'TP': '410', 'FP': '57', 'FN': '31', 'precision': '0.878', 'recall': '0.930', 'f1': '0.903', 'invalid_action_count': 0, 'total_rewards': 0.9030841, 'episodic_length': 1856, 'num_ms1_scans': 144, 'num_ms2_scans': 1712}\n",
      "Episode 17 (372 chemicals) return 0.9010342359542847 length 1841\n",
      "{'coverage_prop': '0.946', 'intensity_prop': '0.734', 'ms1ms2_ratio': '0.095', 'efficiency': '0.209', 'TP': '305', 'FP': '47', 'FN': '20', 'precision': '0.866', 'recall': '0.938', 'f1': '0.901', 'invalid_action_count': 0, 'total_rewards': 0.90103424, 'episodic_length': 1841, 'num_ms1_scans': 159, 'num_ms2_scans': 1682}\n",
      "Episode 18 (302 chemicals) return 0.9328619837760925 length 1817\n",
      "{'coverage_prop': '0.964', 'intensity_prop': '0.774', 'ms1ms2_ratio': '0.112', 'efficiency': '0.178', 'TP': '264', 'FP': '27', 'FN': '11', 'precision': '0.907', 'recall': '0.960', 'f1': '0.933', 'invalid_action_count': 0, 'total_rewards': 0.932862, 'episodic_length': 1817, 'num_ms1_scans': 183, 'num_ms2_scans': 1634}\n",
      "Episode 19 (265 chemicals) return 0.9400002360343933 length 1821\n",
      "{'coverage_prop': '0.970', 'intensity_prop': '0.795', 'ms1ms2_ratio': '0.109', 'efficiency': '0.157', 'TP': '235', 'FP': '22', 'FN': '8', 'precision': '0.914', 'recall': '0.967', 'f1': '0.940', 'invalid_action_count': 0, 'total_rewards': 0.94000024, 'episodic_length': 1821, 'num_ms1_scans': 179, 'num_ms2_scans': 1642}\n",
      "Episode 20 (468 chemicals) return 0.8776975870132446 length 1853\n",
      "{'coverage_prop': '0.912', 'intensity_prop': '0.687', 'ms1ms2_ratio': '0.086', 'efficiency': '0.250', 'TP': '366', 'FP': '61', 'FN': '41', 'precision': '0.857', 'recall': '0.899', 'f1': '0.878', 'invalid_action_count': 0, 'total_rewards': 0.8776976, 'episodic_length': 1853, 'num_ms1_scans': 147, 'num_ms2_scans': 1706}\n",
      "Episode 21 (234 chemicals) return 0.929062008857727 length 1769\n",
      "{'coverage_prop': '0.949', 'intensity_prop': '0.781', 'ms1ms2_ratio': '0.150', 'efficiency': '0.144', 'TP': '203', 'FP': '19', 'FN': '12', 'precision': '0.914', 'recall': '0.944', 'f1': '0.929', 'invalid_action_count': 0, 'total_rewards': 0.929062, 'episodic_length': 1769, 'num_ms1_scans': 231, 'num_ms2_scans': 1538}\n",
      "Episode 22 (322 chemicals) return 0.9194633960723877 length 1826\n",
      "{'coverage_prop': '0.957', 'intensity_prop': '0.749', 'ms1ms2_ratio': '0.105', 'efficiency': '0.186', 'TP': '274', 'FP': '34', 'FN': '14', 'precision': '0.890', 'recall': '0.951', 'f1': '0.919', 'invalid_action_count': 0, 'total_rewards': 0.9194634, 'episodic_length': 1826, 'num_ms1_scans': 174, 'num_ms2_scans': 1652}\n",
      "Episode 23 (310 chemicals) return 0.9160842895507812 length 1799\n",
      "{'coverage_prop': '0.939', 'intensity_prop': '0.747', 'ms1ms2_ratio': '0.126', 'efficiency': '0.182', 'TP': '262', 'FP': '29', 'FN': '19', 'precision': '0.900', 'recall': '0.932', 'f1': '0.916', 'invalid_action_count': 0, 'total_rewards': 0.9160843, 'episodic_length': 1799, 'num_ms1_scans': 202, 'num_ms2_scans': 1597}\n",
      "Episode 24 (345 chemicals) return 0.9302327632904053 length 1830\n",
      "{'coverage_prop': '0.980', 'intensity_prop': '0.758', 'ms1ms2_ratio': '0.102', 'efficiency': '0.204', 'TP': '300', 'FP': '38', 'FN': '7', 'precision': '0.888', 'recall': '0.977', 'f1': '0.930', 'invalid_action_count': 0, 'total_rewards': 0.93023276, 'episodic_length': 1830, 'num_ms1_scans': 170, 'num_ms2_scans': 1660}\n",
      "Episode 25 (396 chemicals) return 0.9150680303573608 length 1853\n",
      "{'coverage_prop': '0.970', 'intensity_prop': '0.741', 'ms1ms2_ratio': '0.086', 'efficiency': '0.225', 'TP': '334', 'FP': '50', 'FN': '12', 'precision': '0.870', 'recall': '0.965', 'f1': '0.915', 'invalid_action_count': 0, 'total_rewards': 0.91506803, 'episodic_length': 1853, 'num_ms1_scans': 147, 'num_ms2_scans': 1706}\n",
      "Episode 26 (203 chemicals) return 0.9616369605064392 length 1766\n",
      "{'coverage_prop': '0.951', 'intensity_prop': '0.827', 'ms1ms2_ratio': '0.153', 'efficiency': '0.126', 'TP': '188', 'FP': '5', 'FN': '10', 'precision': '0.974', 'recall': '0.949', 'f1': '0.962', 'invalid_action_count': 0, 'total_rewards': 0.96163696, 'episodic_length': 1766, 'num_ms1_scans': 234, 'num_ms2_scans': 1532}\n",
      "Episode 27 (281 chemicals) return 0.9396225810050964 length 1797\n",
      "{'coverage_prop': '0.957', 'intensity_prop': '0.795', 'ms1ms2_ratio': '0.127', 'efficiency': '0.169', 'TP': '249', 'FP': '20', 'FN': '12', 'precision': '0.926', 'recall': '0.954', 'f1': '0.940', 'invalid_action_count': 0, 'total_rewards': 0.9396226, 'episodic_length': 1797, 'num_ms1_scans': 203, 'num_ms2_scans': 1594}\n",
      "Episode 28 (493 chemicals) return 0.8679682016372681 length 1867\n",
      "{'coverage_prop': '0.917', 'intensity_prop': '0.674', 'ms1ms2_ratio': '0.077', 'efficiency': '0.261', 'TP': '379', 'FP': '73', 'FN': '41', 'precision': '0.838', 'recall': '0.902', 'f1': '0.869', 'invalid_action_count': 0, 'total_rewards': 0.8679682, 'episodic_length': 1867, 'num_ms1_scans': 133, 'num_ms2_scans': 1734}\n",
      "Episode 29 (304 chemicals) return 0.9333333969116211 length 1819\n",
      "{'coverage_prop': '0.954', 'intensity_prop': '0.778', 'ms1ms2_ratio': '0.111', 'efficiency': '0.177', 'TP': '266', 'FP': '24', 'FN': '14', 'precision': '0.917', 'recall': '0.950', 'f1': '0.933', 'invalid_action_count': 0, 'total_rewards': 0.9333334, 'episodic_length': 1819, 'num_ms1_scans': 181, 'num_ms2_scans': 1638}\n"
     ]
    }
   ],
   "source": [
    "episodic_returns = []\n",
    "evaluation_results = []\n",
    "for i in range(len(chem_list)):\n",
    "    if i >= eval_episodes:\n",
    "        break\n",
    "\n",
    "    chems = chem_list[i]\n",
    "\n",
    "    obs, info = envs.reset(options={'chems': chems})\n",
    "    done = False\n",
    "    eval_data = None\n",
    "    while not done:\n",
    "        env = envs.envs[0].env\n",
    "        actions = masked_epsilon_greedy(device, max_peaks, None, obs, model,\n",
    "                                        deterministic=True)\n",
    "\n",
    "        next_obs, rewards, terminateds, truncateds, infos = envs.step(actions)\n",
    "        dones = terminateds\n",
    "\n",
    "        if 'final_info' in infos:\n",
    "            final_infos = infos['final_info']\n",
    "            assert len(final_infos) == 1\n",
    "            info = final_infos[0]\n",
    "            episodic_return = info['episode']['r'][0]\n",
    "            episodic_length = info['episode']['l'][0]\n",
    "\n",
    "            eval_res = evaluate(eval_data)\n",
    "            eval_res['invalid_action_count'] = env.invalid_action_count\n",
    "            eval_res['total_rewards'] = episodic_return\n",
    "            eval_res['episodic_length'] = episodic_length\n",
    "            eval_res['num_ms1_scans'] = len(eval_data.controller.scans[1])\n",
    "            eval_res['num_ms2_scans'] = len(eval_data.controller.scans[2])\n",
    "            evaluation_results.append(eval_res)\n",
    "\n",
    "            print(\n",
    "                f'Episode {i} ({len(chems)} chemicals) return {episodic_return} length {episodic_length}')\n",
    "            print(eval_res)\n",
    "\n",
    "            episodic_returns += [episodic_return]\n",
    "            \n",
    "            mzml_name = METHOD_DQN\n",
    "            out_file = '%s_%d.mzML' % (mzml_name, i)\n",
    "            vimms_env.write_mzML(out_dir, out_file)            \n",
    "\n",
    "        obs = next_obs\n",
    "        done = dones[0]\n",
    "\n",
    "        # store previous results for evaluation before 'done'\n",
    "        # this needs to be here, because VecEnv is automatically reset when done\n",
    "        vimms_env = env.env.vimms_env\n",
    "        eval_data = EvaluationData(vimms_env)"
   ]
  },
  {
   "cell_type": "code",
   "execution_count": 22,
   "metadata": {
    "execution": {
     "iopub.execute_input": "2023-04-17T13:59:03.893432Z",
     "iopub.status.busy": "2023-04-17T13:59:03.893290Z",
     "iopub.status.idle": "2023-04-17T13:59:03.931880Z",
     "shell.execute_reply": "2023-04-17T13:59:03.931430Z",
     "shell.execute_reply.started": "2023-04-17T13:59:03.893414Z"
    }
   },
   "outputs": [],
   "source": [
    "method_eval_results[METHOD_DQN] = evaluation_results"
   ]
  },
  {
   "cell_type": "markdown",
   "metadata": {},
   "source": [
    "#### Test classic controllers in ViMMS"
   ]
  },
  {
   "cell_type": "code",
   "execution_count": 23,
   "metadata": {
    "execution": {
     "iopub.execute_input": "2023-04-17T13:59:03.933231Z",
     "iopub.status.busy": "2023-04-17T13:59:03.932768Z",
     "iopub.status.idle": "2023-04-17T13:59:03.970067Z",
     "shell.execute_reply": "2023-04-17T13:59:03.969668Z",
     "shell.execute_reply.started": "2023-04-17T13:59:03.933211Z"
    }
   },
   "outputs": [],
   "source": [
    "from vimms.MassSpec import IndependentMassSpectrometer\n",
    "from vimms.Controller import TopNController, TopN_SmartRoiController, WeightedDEWController\n",
    "from vimms.Environment import Environment"
   ]
  },
  {
   "cell_type": "markdown",
   "metadata": {},
   "source": [
    "Run Top-N Controller"
   ]
  },
  {
   "cell_type": "code",
   "execution_count": 24,
   "metadata": {
    "execution": {
     "iopub.execute_input": "2023-04-17T13:59:03.970783Z",
     "iopub.status.busy": "2023-04-17T13:59:03.970664Z",
     "iopub.status.idle": "2023-04-17T13:59:04.010577Z",
     "shell.execute_reply": "2023-04-17T13:59:04.010094Z",
     "shell.execute_reply.started": "2023-04-17T13:59:03.970766Z"
    }
   },
   "outputs": [
    {
     "data": {
      "text/plain": [
       "{'chemical_creator': {'mz_range': (100, 600),\n",
       "  'rt_range': (400, 800),\n",
       "  'intensity_range': (10000.0, 1e+20),\n",
       "  'n_chemicals': (200, 500),\n",
       "  'mz_sampler': <vimms.ChemicalSamplers.MZMLFormulaSampler at 0x7f6ff2289af0>,\n",
       "  'ri_sampler': <vimms.ChemicalSamplers.MZMLRTandIntensitySampler at 0x7f6f42b31310>,\n",
       "  'cr_sampler': <vimms.ChemicalSamplers.MZMLChromatogramSampler at 0x7f6f42a96d30>},\n",
       " 'noise': {'enable_spike_noise': True,\n",
       "  'noise_density': 0.1,\n",
       "  'noise_max_val': 1000.0,\n",
       "  'mz_range': (100, 600)},\n",
       " 'env': {'ionisation_mode': 'Positive',\n",
       "  'rt_range': (400, 800),\n",
       "  'isolation_window': 0.7,\n",
       "  'use_dew': False,\n",
       "  'mz_tol': 10,\n",
       "  'rt_tol': 5,\n",
       "  'min_ms1_intensity': 5000,\n",
       "  'alpha': 0.25,\n",
       "  'beta': 0.5}}"
      ]
     },
     "execution_count": 24,
     "metadata": {},
     "output_type": "execute_result"
    }
   ],
   "source": [
    "params"
   ]
  },
  {
   "cell_type": "code",
   "execution_count": 25,
   "metadata": {
    "execution": {
     "iopub.execute_input": "2023-04-17T13:59:04.011859Z",
     "iopub.status.busy": "2023-04-17T13:59:04.011468Z",
     "iopub.status.idle": "2023-04-17T13:59:04.051515Z",
     "shell.execute_reply": "2023-04-17T13:59:04.050912Z",
     "shell.execute_reply.started": "2023-04-17T13:59:04.011830Z"
    }
   },
   "outputs": [],
   "source": [
    "enable_spike_noise = params['noise']['enable_spike_noise']\n",
    "ionisation_mode = params['env']['ionisation_mode']\n",
    "isolation_window = params['env']['isolation_window']\n",
    "mz_tol = params['env']['mz_tol']\n",
    "rt_range = params['chemical_creator']['rt_range']"
   ]
  },
  {
   "cell_type": "code",
   "execution_count": 26,
   "metadata": {
    "execution": {
     "iopub.execute_input": "2023-04-17T13:59:04.052802Z",
     "iopub.status.busy": "2023-04-17T13:59:04.052647Z",
     "iopub.status.idle": "2023-04-17T14:01:52.273367Z",
     "shell.execute_reply": "2023-04-17T14:01:52.272754Z",
     "shell.execute_reply.started": "2023-04-17T13:59:04.052783Z"
    }
   },
   "outputs": [
    {
     "name": "stdout",
     "output_type": "stream",
     "text": [
      "method = TopN_Controller\n",
      "\n",
      "Episode 0 finished\n",
      "{'coverage_prop': '0.960', 'intensity_prop': '0.746', 'ms1ms2_ratio': '0.215', 'efficiency': '0.293', 'TP': '366', 'FP': '43', 'FN': '17', 'precision': '0.895', 'recall': '0.956', 'f1': '0.924'}\n",
      "\n",
      "Episode 1 finished\n",
      "{'coverage_prop': '0.962', 'intensity_prop': '0.791', 'ms1ms2_ratio': '0.442', 'efficiency': '0.237', 'TP': '236', 'FP': '16', 'FN': '10', 'precision': '0.937', 'recall': '0.959', 'f1': '0.948'}\n",
      "\n",
      "Episode 2 finished\n",
      "{'coverage_prop': '0.970', 'intensity_prop': '0.750', 'ms1ms2_ratio': '0.273', 'efficiency': '0.295', 'TP': '344', 'FP': '38', 'FN': '12', 'precision': '0.901', 'recall': '0.966', 'f1': '0.932'}\n",
      "\n",
      "Episode 3 finished\n",
      "{'coverage_prop': '0.956', 'intensity_prop': '0.758', 'ms1ms2_ratio': '0.226', 'efficiency': '0.313', 'TP': '395', 'FP': '37', 'FN': '20', 'precision': '0.914', 'recall': '0.952', 'f1': '0.933'}\n",
      "\n",
      "Episode 4 finished\n",
      "{'coverage_prop': '0.975', 'intensity_prop': '0.759', 'ms1ms2_ratio': '0.234', 'efficiency': '0.313', 'TP': '384', 'FP': '42', 'FN': '11', 'precision': '0.901', 'recall': '0.972', 'f1': '0.935'}\n",
      "\n",
      "Episode 5 finished\n",
      "{'coverage_prop': '0.960', 'intensity_prop': '0.788', 'ms1ms2_ratio': '0.791', 'efficiency': '0.248', 'TP': '182', 'FP': '10', 'FN': '8', 'precision': '0.948', 'recall': '0.958', 'f1': '0.953'}\n",
      "\n",
      "Episode 6 finished\n",
      "{'coverage_prop': '0.929', 'intensity_prop': '0.724', 'ms1ms2_ratio': '0.193', 'efficiency': '0.307', 'TP': '394', 'FP': '50', 'FN': '34', 'precision': '0.887', 'recall': '0.921', 'f1': '0.904'}\n",
      "\n",
      "Episode 7 finished\n",
      "{'coverage_prop': '0.961', 'intensity_prop': '0.789', 'ms1ms2_ratio': '0.620', 'efficiency': '0.219', 'TP': '186', 'FP': '10', 'FN': '8', 'precision': '0.949', 'recall': '0.959', 'f1': '0.954'}\n",
      "\n",
      "Episode 8 finished\n",
      "{'coverage_prop': '0.948', 'intensity_prop': '0.744', 'ms1ms2_ratio': '0.208', 'efficiency': '0.285', 'TP': '369', 'FP': '33', 'FN': '22', 'precision': '0.918', 'recall': '0.944', 'f1': '0.931'}\n",
      "\n",
      "Episode 9 finished\n",
      "{'coverage_prop': '0.964', 'intensity_prop': '0.762', 'ms1ms2_ratio': '0.276', 'efficiency': '0.287', 'TP': '333', 'FP': '37', 'FN': '14', 'precision': '0.900', 'recall': '0.960', 'f1': '0.929'}\n",
      "\n",
      "Episode 10 finished\n",
      "{'coverage_prop': '0.953', 'intensity_prop': '0.759', 'ms1ms2_ratio': '0.191', 'efficiency': '0.292', 'TP': '387', 'FP': '35', 'FN': '21', 'precision': '0.917', 'recall': '0.949', 'f1': '0.933'}\n",
      "\n",
      "Episode 11 finished\n",
      "{'coverage_prop': '0.960', 'intensity_prop': '0.783', 'ms1ms2_ratio': '0.500', 'efficiency': '0.239', 'TP': '225', 'FP': '14', 'FN': '10', 'precision': '0.941', 'recall': '0.957', 'f1': '0.949'}\n",
      "\n",
      "Episode 12 finished\n",
      "{'coverage_prop': '0.948', 'intensity_prop': '0.746', 'ms1ms2_ratio': '0.368', 'efficiency': '0.207', 'TP': '216', 'FP': '22', 'FN': '13', 'precision': '0.908', 'recall': '0.943', 'f1': '0.925'}\n",
      "\n",
      "Episode 13 finished\n",
      "{'coverage_prop': '0.967', 'intensity_prop': '0.764', 'ms1ms2_ratio': '0.300', 'efficiency': '0.232', 'TP': '263', 'FP': '27', 'FN': '10', 'precision': '0.907', 'recall': '0.963', 'f1': '0.934'}\n",
      "\n",
      "Episode 14 finished\n",
      "{'coverage_prop': '0.956', 'intensity_prop': '0.768', 'ms1ms2_ratio': '0.559', 'efficiency': '0.209', 'TP': '180', 'FP': '17', 'FN': '9', 'precision': '0.914', 'recall': '0.952', 'f1': '0.933'}\n",
      "\n",
      "Episode 15 finished\n",
      "{'coverage_prop': '0.971', 'intensity_prop': '0.779', 'ms1ms2_ratio': '0.298', 'efficiency': '0.315', 'TP': '365', 'FP': '30', 'FN': '12', 'precision': '0.924', 'recall': '0.968', 'f1': '0.946'}\n",
      "\n",
      "Episode 16 finished\n",
      "{'coverage_prop': '0.962', 'intensity_prop': '0.758', 'ms1ms2_ratio': '0.201', 'efficiency': '0.336', 'TP': '437', 'FP': '42', 'FN': '19', 'precision': '0.912', 'recall': '0.958', 'f1': '0.935'}\n",
      "\n",
      "Episode 17 finished\n",
      "{'coverage_prop': '0.962', 'intensity_prop': '0.777', 'ms1ms2_ratio': '0.262', 'efficiency': '0.273', 'TP': '332', 'FP': '26', 'FN': '14', 'precision': '0.927', 'recall': '0.960', 'f1': '0.943'}\n",
      "\n",
      "Episode 18 finished\n",
      "{'coverage_prop': '0.967', 'intensity_prop': '0.767', 'ms1ms2_ratio': '0.356', 'efficiency': '0.250', 'TP': '268', 'FP': '24', 'FN': '10', 'precision': '0.918', 'recall': '0.964', 'f1': '0.940'}\n",
      "\n",
      "Episode 19 finished\n",
      "{'coverage_prop': '0.977', 'intensity_prop': '0.795', 'ms1ms2_ratio': '0.326', 'efficiency': '0.214', 'TP': '242', 'FP': '17', 'FN': '6', 'precision': '0.934', 'recall': '0.976', 'f1': '0.955'}\n",
      "\n",
      "Episode 20 finished\n",
      "{'coverage_prop': '0.921', 'intensity_prop': '0.731', 'ms1ms2_ratio': '0.209', 'efficiency': '0.306', 'TP': '397', 'FP': '34', 'FN': '37', 'precision': '0.921', 'recall': '0.915', 'f1': '0.918'}\n",
      "\n",
      "Episode 21 finished\n",
      "{'coverage_prop': '0.957', 'intensity_prop': '0.760', 'ms1ms2_ratio': '0.633', 'efficiency': '0.254', 'TP': '202', 'FP': '22', 'FN': '10', 'precision': '0.902', 'recall': '0.953', 'f1': '0.927'}\n",
      "\n",
      "Episode 22 finished\n",
      "{'coverage_prop': '0.966', 'intensity_prop': '0.770', 'ms1ms2_ratio': '0.322', 'efficiency': '0.256', 'TP': '291', 'FP': '20', 'FN': '11', 'precision': '0.936', 'recall': '0.964', 'f1': '0.949'}\n",
      "\n",
      "Episode 23 finished\n",
      "{'coverage_prop': '0.948', 'intensity_prop': '0.766', 'ms1ms2_ratio': '0.420', 'efficiency': '0.270', 'TP': '272', 'FP': '22', 'FN': '16', 'precision': '0.925', 'recall': '0.944', 'f1': '0.935'}\n",
      "\n",
      "Episode 24 finished\n",
      "{'coverage_prop': '0.983', 'intensity_prop': '0.786', 'ms1ms2_ratio': '0.261', 'efficiency': '0.258', 'TP': '315', 'FP': '24', 'FN': '6', 'precision': '0.929', 'recall': '0.981', 'f1': '0.955'}\n",
      "\n",
      "Episode 25 finished\n",
      "{'coverage_prop': '0.980', 'intensity_prop': '0.773', 'ms1ms2_ratio': '0.270', 'efficiency': '0.299', 'TP': '354', 'FP': '34', 'FN': '8', 'precision': '0.912', 'recall': '0.978', 'f1': '0.944'}\n",
      "\n",
      "Episode 26 finished\n",
      "{'coverage_prop': '0.970', 'intensity_prop': '0.786', 'ms1ms2_ratio': '0.651', 'efficiency': '0.227', 'TP': '183', 'FP': '14', 'FN': '6', 'precision': '0.929', 'recall': '0.968', 'f1': '0.948'}\n",
      "\n",
      "Episode 27 finished\n",
      "{'coverage_prop': '0.968', 'intensity_prop': '0.795', 'ms1ms2_ratio': '0.449', 'efficiency': '0.258', 'TP': '253', 'FP': '19', 'FN': '9', 'precision': '0.930', 'recall': '0.966', 'f1': '0.948'}\n",
      "\n",
      "Episode 28 finished\n",
      "{'coverage_prop': '0.933', 'intensity_prop': '0.708', 'ms1ms2_ratio': '0.186', 'efficiency': '0.316', 'TP': '405', 'FP': '55', 'FN': '33', 'precision': '0.880', 'recall': '0.925', 'f1': '0.902'}\n",
      "\n",
      "Episode 29 finished\n",
      "{'coverage_prop': '0.967', 'intensity_prop': '0.794', 'ms1ms2_ratio': '0.317', 'efficiency': '0.240', 'TP': '275', 'FP': '19', 'FN': '10', 'precision': '0.935', 'recall': '0.965', 'f1': '0.950'}\n",
      "\n"
     ]
    }
   ],
   "source": [
    "method = 'TopN_Controller'\n",
    "print('method = %s' % method)\n",
    "print()\n",
    "\n",
    "effective_rt_tol = topN_rt_tol\n",
    "effective_N = topN_N\n",
    "eval_results = []\n",
    "for i in range(len(chem_list)):\n",
    "    \n",
    "    spike_noise = None\n",
    "    if enable_spike_noise:\n",
    "        noise_params = params['noise']\n",
    "        noise_density = noise_params['noise_density']\n",
    "        noise_max_val = noise_params['noise_max_val']\n",
    "        noise_min_mz = noise_params['mz_range'][0]\n",
    "        noise_max_mz = noise_params['mz_range'][1]\n",
    "        spike_noise = UniformSpikeNoise(noise_density, noise_max_val, min_mz=noise_min_mz,\n",
    "                                        max_mz=noise_max_mz)\n",
    "\n",
    "    chems = chem_list[i]\n",
    "    mass_spec = IndependentMassSpectrometer(ionisation_mode, chems, spike_noise=spike_noise)\n",
    "    controller = TopNController(ionisation_mode, effective_N, isolation_window, mz_tol, effective_rt_tol,\n",
    "                                min_ms1_intensity)\n",
    "    env = Environment(mass_spec, controller, rt_range[0], rt_range[1], progress_bar=False, out_dir=out_dir,\n",
    "                      out_file='%s_%d.mzML' % (method, i), save_eval=True)\n",
    "    env.run()\n",
    "    \n",
    "    eval_res = evaluate(env, intensity_threshold)\n",
    "    # eval_res['total_rewards'] = 0\n",
    "    eval_results.append(eval_res)\n",
    "    print('Episode %d finished' % i)\n",
    "    print(eval_res)\n",
    "    print()\n",
    "    \n",
    "method_eval_results[method] = eval_results"
   ]
  },
  {
   "cell_type": "markdown",
   "metadata": {},
   "source": [
    "Run SmartROI Controller"
   ]
  },
  {
   "cell_type": "code",
   "execution_count": 27,
   "metadata": {
    "execution": {
     "iopub.execute_input": "2023-04-17T14:01:52.274688Z",
     "iopub.status.busy": "2023-04-17T14:01:52.274520Z",
     "iopub.status.idle": "2023-04-17T14:01:52.317330Z",
     "shell.execute_reply": "2023-04-17T14:01:52.316811Z",
     "shell.execute_reply.started": "2023-04-17T14:01:52.274664Z"
    }
   },
   "outputs": [
    {
     "data": {
      "text/plain": [
       "(10, 5, 2, 0.5, 0)"
      ]
     },
     "execution_count": 27,
     "metadata": {},
     "output_type": "execute_result"
    }
   ],
   "source": [
    "smartroi_N, smartroi_dew, alpha, beta, ils"
   ]
  },
  {
   "cell_type": "code",
   "execution_count": 28,
   "metadata": {
    "execution": {
     "iopub.execute_input": "2023-04-17T14:01:52.320704Z",
     "iopub.status.busy": "2023-04-17T14:01:52.320393Z",
     "iopub.status.idle": "2023-04-17T14:05:24.640550Z",
     "shell.execute_reply": "2023-04-17T14:05:24.639984Z",
     "shell.execute_reply.started": "2023-04-17T14:01:52.320679Z"
    }
   },
   "outputs": [
    {
     "name": "stdout",
     "output_type": "stream",
     "text": [
      "method = SmartROI_Controller\n",
      "\n",
      "Episode 0 finished\n",
      "{'coverage_prop': '0.977', 'intensity_prop': '0.709', 'ms1ms2_ratio': '0.795', 'efficiency': '0.539', 'TP': '360', 'FP': '56', 'FN': '10', 'precision': '0.865', 'recall': '0.973', 'f1': '0.916'}\n",
      "\n",
      "Episode 1 finished\n",
      "{'coverage_prop': '0.962', 'intensity_prop': '0.711', 'ms1ms2_ratio': '1.513', 'efficiency': '0.507', 'TP': '219', 'FP': '33', 'FN': '10', 'precision': '0.869', 'recall': '0.956', 'f1': '0.911'}\n",
      "\n",
      "Episode 2 finished\n",
      "{'coverage_prop': '0.970', 'intensity_prop': '0.708', 'ms1ms2_ratio': '0.850', 'efficiency': '0.516', 'TP': '324', 'FP': '58', 'FN': '12', 'precision': '0.848', 'recall': '0.964', 'f1': '0.903'}\n",
      "\n",
      "Episode 3 finished\n",
      "{'coverage_prop': '0.976', 'intensity_prop': '0.711', 'ms1ms2_ratio': '0.744', 'efficiency': '0.549', 'TP': '377', 'FP': '64', 'FN': '11', 'precision': '0.855', 'recall': '0.972', 'f1': '0.910'}\n",
      "\n",
      "Episode 4 finished\n",
      "{'coverage_prop': '0.991', 'intensity_prop': '0.719', 'ms1ms2_ratio': '0.792', 'efficiency': '0.559', 'TP': '372', 'FP': '61', 'FN': '4', 'precision': '0.859', 'recall': '0.989', 'f1': '0.920'}\n",
      "\n",
      "Episode 5 finished\n",
      "{'coverage_prop': '0.955', 'intensity_prop': '0.717', 'ms1ms2_ratio': '2.154', 'efficiency': '0.507', 'TP': '170', 'FP': '21', 'FN': '9', 'precision': '0.890', 'recall': '0.950', 'f1': '0.919'}\n",
      "\n",
      "Episode 6 finished\n",
      "{'coverage_prop': '0.960', 'intensity_prop': '0.696', 'ms1ms2_ratio': '0.679', 'efficiency': '0.541', 'TP': '398', 'FP': '61', 'FN': '19', 'precision': '0.867', 'recall': '0.954', 'f1': '0.909'}\n",
      "\n",
      "Episode 7 finished\n",
      "{'coverage_prop': '0.961', 'intensity_prop': '0.719', 'ms1ms2_ratio': '2.080', 'efficiency': '0.505', 'TP': '180', 'FP': '16', 'FN': '8', 'precision': '0.918', 'recall': '0.957', 'f1': '0.938'}\n",
      "\n",
      "Episode 8 finished\n",
      "{'coverage_prop': '0.953', 'intensity_prop': '0.690', 'ms1ms2_ratio': '0.822', 'efficiency': '0.534', 'TP': '351', 'FP': '53', 'FN': '20', 'precision': '0.869', 'recall': '0.946', 'f1': '0.906'}\n",
      "\n",
      "Episode 9 finished\n",
      "{'coverage_prop': '0.966', 'intensity_prop': '0.715', 'ms1ms2_ratio': '0.907', 'efficiency': '0.522', 'TP': '321', 'FP': '50', 'FN': '13', 'precision': '0.865', 'recall': '0.961', 'f1': '0.911'}\n",
      "\n",
      "Episode 10 finished\n",
      "{'coverage_prop': '0.966', 'intensity_prop': '0.731', 'ms1ms2_ratio': '0.688', 'efficiency': '0.508', 'TP': '384', 'FP': '44', 'FN': '15', 'precision': '0.897', 'recall': '0.962', 'f1': '0.929'}\n",
      "\n",
      "Episode 11 finished\n",
      "{'coverage_prop': '0.968', 'intensity_prop': '0.729', 'ms1ms2_ratio': '1.606', 'efficiency': '0.507', 'TP': '218', 'FP': '23', 'FN': '8', 'precision': '0.905', 'recall': '0.965', 'f1': '0.934'}\n",
      "\n",
      "Episode 12 finished\n",
      "{'coverage_prop': '0.948', 'intensity_prop': '0.666', 'ms1ms2_ratio': '1.606', 'efficiency': '0.501', 'TP': '194', 'FP': '44', 'FN': '13', 'precision': '0.815', 'recall': '0.937', 'f1': '0.872'}\n",
      "\n",
      "Episode 13 finished\n",
      "{'coverage_prop': '0.967', 'intensity_prop': '0.686', 'ms1ms2_ratio': '1.273', 'efficiency': '0.514', 'TP': '233', 'FP': '57', 'FN': '10', 'precision': '0.803', 'recall': '0.959', 'f1': '0.874'}\n",
      "\n",
      "Episode 14 finished\n",
      "{'coverage_prop': '0.951', 'intensity_prop': '0.697', 'ms1ms2_ratio': '1.983', 'efficiency': '0.486', 'TP': '170', 'FP': '26', 'FN': '10', 'precision': '0.867', 'recall': '0.944', 'f1': '0.904'}\n",
      "\n",
      "Episode 15 finished\n",
      "{'coverage_prop': '0.978', 'intensity_prop': '0.726', 'ms1ms2_ratio': '0.861', 'efficiency': '0.541', 'TP': '354', 'FP': '44', 'FN': '9', 'precision': '0.889', 'recall': '0.975', 'f1': '0.930'}\n",
      "\n",
      "Episode 16 finished\n",
      "{'coverage_prop': '0.976', 'intensity_prop': '0.728', 'ms1ms2_ratio': '0.608', 'efficiency': '0.538', 'TP': '423', 'FP': '63', 'FN': '12', 'precision': '0.870', 'recall': '0.972', 'f1': '0.919'}\n",
      "\n",
      "Episode 17 finished\n",
      "{'coverage_prop': '0.968', 'intensity_prop': '0.701', 'ms1ms2_ratio': '0.982', 'efficiency': '0.533', 'TP': '310', 'FP': '50', 'FN': '12', 'precision': '0.861', 'recall': '0.963', 'f1': '0.909'}\n",
      "\n",
      "Episode 18 finished\n",
      "{'coverage_prop': '0.967', 'intensity_prop': '0.712', 'ms1ms2_ratio': '1.252', 'efficiency': '0.511', 'TP': '253', 'FP': '39', 'FN': '10', 'precision': '0.866', 'recall': '0.962', 'f1': '0.912'}\n",
      "\n",
      "Episode 19 finished\n",
      "{'coverage_prop': '0.981', 'intensity_prop': '0.709', 'ms1ms2_ratio': '1.481', 'efficiency': '0.515', 'TP': '220', 'FP': '40', 'FN': '5', 'precision': '0.846', 'recall': '0.978', 'f1': '0.907'}\n",
      "\n",
      "Episode 20 finished\n",
      "{'coverage_prop': '0.962', 'intensity_prop': '0.715', 'ms1ms2_ratio': '0.695', 'efficiency': '0.538', 'TP': '393', 'FP': '57', 'FN': '18', 'precision': '0.873', 'recall': '0.956', 'f1': '0.913'}\n",
      "\n",
      "Episode 21 finished\n",
      "{'coverage_prop': '0.953', 'intensity_prop': '0.694', 'ms1ms2_ratio': '1.839', 'efficiency': '0.521', 'TP': '197', 'FP': '26', 'FN': '11', 'precision': '0.883', 'recall': '0.947', 'f1': '0.914'}\n",
      "\n",
      "Episode 22 finished\n",
      "{'coverage_prop': '0.969', 'intensity_prop': '0.708', 'ms1ms2_ratio': '1.170', 'efficiency': '0.521', 'TP': '272', 'FP': '40', 'FN': '10', 'precision': '0.872', 'recall': '0.965', 'f1': '0.916'}\n",
      "\n",
      "Episode 23 finished\n",
      "{'coverage_prop': '0.955', 'intensity_prop': '0.696', 'ms1ms2_ratio': '1.265', 'efficiency': '0.522', 'TP': '246', 'FP': '50', 'FN': '14', 'precision': '0.831', 'recall': '0.946', 'f1': '0.885'}\n",
      "\n",
      "Episode 24 finished\n",
      "{'coverage_prop': '0.983', 'intensity_prop': '0.726', 'ms1ms2_ratio': '0.969', 'efficiency': '0.498', 'TP': '295', 'FP': '44', 'FN': '6', 'precision': '0.870', 'recall': '0.980', 'f1': '0.922'}\n",
      "\n",
      "Episode 25 finished\n",
      "{'coverage_prop': '0.987', 'intensity_prop': '0.726', 'ms1ms2_ratio': '0.851', 'efficiency': '0.528', 'TP': '339', 'FP': '52', 'FN': '5', 'precision': '0.867', 'recall': '0.985', 'f1': '0.922'}\n",
      "\n",
      "Episode 26 finished\n",
      "{'coverage_prop': '0.970', 'intensity_prop': '0.723', 'ms1ms2_ratio': '2.059', 'efficiency': '0.504', 'TP': '174', 'FP': '23', 'FN': '6', 'precision': '0.883', 'recall': '0.967', 'f1': '0.923'}\n",
      "\n",
      "Episode 27 finished\n",
      "{'coverage_prop': '0.968', 'intensity_prop': '0.719', 'ms1ms2_ratio': '1.377', 'efficiency': '0.510', 'TP': '241', 'FP': '31', 'FN': '9', 'precision': '0.886', 'recall': '0.964', 'f1': '0.923'}\n",
      "\n",
      "Episode 28 finished\n",
      "{'coverage_prop': '0.972', 'intensity_prop': '0.711', 'ms1ms2_ratio': '0.589', 'efficiency': '0.522', 'TP': '410', 'FP': '69', 'FN': '14', 'precision': '0.856', 'recall': '0.967', 'f1': '0.908'}\n",
      "\n",
      "Episode 29 finished\n",
      "{'coverage_prop': '0.970', 'intensity_prop': '0.732', 'ms1ms2_ratio': '1.210', 'efficiency': '0.504', 'TP': '267', 'FP': '28', 'FN': '9', 'precision': '0.905', 'recall': '0.967', 'f1': '0.935'}\n",
      "\n"
     ]
    }
   ],
   "source": [
    "method = 'SmartROI_Controller'\n",
    "print('method = %s' % method)\n",
    "print()\n",
    "\n",
    "eval_results = []\n",
    "for i in range(len(chem_list)):\n",
    "    \n",
    "    spike_noise = None\n",
    "    if enable_spike_noise:\n",
    "        noise_params = params['noise']\n",
    "        noise_density = noise_params['noise_density']\n",
    "        noise_max_val = noise_params['noise_max_val']\n",
    "        noise_min_mz = noise_params['mz_range'][0]\n",
    "        noise_max_mz = noise_params['mz_range'][1]\n",
    "        spike_noise = UniformSpikeNoise(noise_density, noise_max_val, min_mz=noise_min_mz,\n",
    "                                        max_mz=noise_max_mz)\n",
    "\n",
    "    chems = chem_list[i]\n",
    "    mass_spec = IndependentMassSpectrometer(ionisation_mode, chems, spike_noise=spike_noise)\n",
    "    \n",
    "    roi_params = RoiBuilderParams(min_roi_intensity=0, min_roi_length=0)    \n",
    "    smartroi_params = SmartRoiParams(intensity_increase_factor=alpha, drop_perc=beta/100.0, dew=smartroi_dew, initial_length_seconds=ils)\n",
    "    controller = TopN_SmartRoiController(ionisation_mode, isolation_window, smartroi_N, mz_tol, smartroi_dew,\n",
    "                                min_ms1_intensity, roi_params, smartroi_params)\n",
    "    env = Environment(mass_spec, controller, rt_range[0], rt_range[1], progress_bar=False, out_dir=out_dir,\n",
    "                      out_file='%s_%d.mzML' % (method, i), save_eval=True)\n",
    "    env.run()\n",
    "    \n",
    "    eval_res = evaluate(env, intensity_threshold)\n",
    "    # eval_res['total_rewards'] = 0\n",
    "    eval_results.append(eval_res)\n",
    "    print('Episode %d finished' % i)\n",
    "    print(eval_res)\n",
    "    print()    \n",
    "    \n",
    "method_eval_results[method] = eval_results"
   ]
  },
  {
   "cell_type": "markdown",
   "metadata": {},
   "source": [
    "Run WeightedDEW Controller"
   ]
  },
  {
   "cell_type": "code",
   "execution_count": 29,
   "metadata": {
    "execution": {
     "iopub.execute_input": "2023-04-17T14:05:24.641622Z",
     "iopub.status.busy": "2023-04-17T14:05:24.641457Z",
     "iopub.status.idle": "2023-04-17T14:08:22.545287Z",
     "shell.execute_reply": "2023-04-17T14:08:22.544546Z",
     "shell.execute_reply.started": "2023-04-17T14:05:24.641602Z"
    }
   },
   "outputs": [
    {
     "name": "stdout",
     "output_type": "stream",
     "text": [
      "method = WeightedDEW_Controller\n",
      "\n",
      "Episode 0 finished\n",
      "{'coverage_prop': '0.965', 'intensity_prop': '0.743', 'ms1ms2_ratio': '0.159', 'efficiency': '0.271', 'TP': '368', 'FP': '43', 'FN': '15', 'precision': '0.895', 'recall': '0.961', 'f1': '0.927'}\n",
      "\n",
      "Episode 1 finished\n",
      "{'coverage_prop': '0.958', 'intensity_prop': '0.791', 'ms1ms2_ratio': '0.242', 'efficiency': '0.186', 'TP': '238', 'FP': '13', 'FN': '11', 'precision': '0.948', 'recall': '0.956', 'f1': '0.952'}\n",
      "\n",
      "Episode 2 finished\n",
      "{'coverage_prop': '0.964', 'intensity_prop': '0.738', 'ms1ms2_ratio': '0.198', 'efficiency': '0.265', 'TP': '343', 'FP': '37', 'FN': '14', 'precision': '0.903', 'recall': '0.961', 'f1': '0.931'}\n",
      "\n",
      "Episode 3 finished\n",
      "{'coverage_prop': '0.969', 'intensity_prop': '0.762', 'ms1ms2_ratio': '0.158', 'efficiency': '0.288', 'TP': '404', 'FP': '34', 'FN': '14', 'precision': '0.922', 'recall': '0.967', 'f1': '0.944'}\n",
      "\n",
      "Episode 4 finished\n",
      "{'coverage_prop': '0.984', 'intensity_prop': '0.761', 'ms1ms2_ratio': '0.178', 'efficiency': '0.292', 'TP': '389', 'FP': '41', 'FN': '7', 'precision': '0.905', 'recall': '0.982', 'f1': '0.942'}\n",
      "\n",
      "Episode 5 finished\n",
      "{'coverage_prop': '0.960', 'intensity_prop': '0.815', 'ms1ms2_ratio': '0.421', 'efficiency': '0.177', 'TP': '186', 'FP': '6', 'FN': '8', 'precision': '0.969', 'recall': '0.959', 'f1': '0.964'}\n",
      "\n",
      "Episode 6 finished\n",
      "{'coverage_prop': '0.952', 'intensity_prop': '0.745', 'ms1ms2_ratio': '0.156', 'efficiency': '0.299', 'TP': '410', 'FP': '45', 'FN': '23', 'precision': '0.901', 'recall': '0.947', 'f1': '0.923'}\n",
      "\n",
      "Episode 7 finished\n",
      "{'coverage_prop': '0.956', 'intensity_prop': '0.810', 'ms1ms2_ratio': '0.349', 'efficiency': '0.165', 'TP': '188', 'FP': '7', 'FN': '9', 'precision': '0.964', 'recall': '0.954', 'f1': '0.959'}\n",
      "\n",
      "Episode 8 finished\n",
      "{'coverage_prop': '0.955', 'intensity_prop': '0.736', 'ms1ms2_ratio': '0.147', 'efficiency': '0.262', 'TP': '362', 'FP': '43', 'FN': '19', 'precision': '0.894', 'recall': '0.950', 'f1': '0.921'}\n",
      "\n",
      "Episode 9 finished\n",
      "{'coverage_prop': '0.969', 'intensity_prop': '0.765', 'ms1ms2_ratio': '0.185', 'efficiency': '0.255', 'TP': '342', 'FP': '30', 'FN': '12', 'precision': '0.919', 'recall': '0.966', 'f1': '0.942'}\n",
      "\n",
      "Episode 10 finished\n",
      "{'coverage_prop': '0.962', 'intensity_prop': '0.753', 'ms1ms2_ratio': '0.155', 'efficiency': '0.279', 'TP': '390', 'FP': '36', 'FN': '17', 'precision': '0.915', 'recall': '0.958', 'f1': '0.936'}\n",
      "\n",
      "Episode 11 finished\n",
      "{'coverage_prop': '0.956', 'intensity_prop': '0.794', 'ms1ms2_ratio': '0.274', 'efficiency': '0.184', 'TP': '229', 'FP': '9', 'FN': '11', 'precision': '0.962', 'recall': '0.954', 'f1': '0.958'}\n",
      "\n",
      "Episode 12 finished\n",
      "{'coverage_prop': '0.948', 'intensity_prop': '0.763', 'ms1ms2_ratio': '0.219', 'efficiency': '0.171', 'TP': '217', 'FP': '21', 'FN': '13', 'precision': '0.912', 'recall': '0.943', 'f1': '0.927'}\n",
      "\n",
      "Episode 13 finished\n",
      "{'coverage_prop': '0.960', 'intensity_prop': '0.755', 'ms1ms2_ratio': '0.194', 'efficiency': '0.200', 'TP': '254', 'FP': '34', 'FN': '12', 'precision': '0.882', 'recall': '0.955', 'f1': '0.917'}\n",
      "\n",
      "Episode 14 finished\n",
      "{'coverage_prop': '0.956', 'intensity_prop': '0.779', 'ms1ms2_ratio': '0.326', 'efficiency': '0.163', 'TP': '183', 'FP': '14', 'FN': '9', 'precision': '0.929', 'recall': '0.953', 'f1': '0.941'}\n",
      "\n",
      "Episode 15 finished\n",
      "{'coverage_prop': '0.978', 'intensity_prop': '0.784', 'ms1ms2_ratio': '0.187', 'efficiency': '0.273', 'TP': '368', 'FP': '30', 'FN': '9', 'precision': '0.925', 'recall': '0.976', 'f1': '0.950'}\n",
      "\n",
      "Episode 16 finished\n",
      "{'coverage_prop': '0.974', 'intensity_prop': '0.760', 'ms1ms2_ratio': '0.162', 'efficiency': '0.321', 'TP': '445', 'FP': '40', 'FN': '13', 'precision': '0.918', 'recall': '0.972', 'f1': '0.944'}\n",
      "\n",
      "Episode 17 finished\n",
      "{'coverage_prop': '0.960', 'intensity_prop': '0.764', 'ms1ms2_ratio': '0.173', 'efficiency': '0.240', 'TP': '329', 'FP': '28', 'FN': '15', 'precision': '0.922', 'recall': '0.956', 'f1': '0.939'}\n",
      "\n",
      "Episode 18 finished\n",
      "{'coverage_prop': '0.967', 'intensity_prop': '0.778', 'ms1ms2_ratio': '0.220', 'efficiency': '0.210', 'TP': '268', 'FP': '24', 'FN': '10', 'precision': '0.918', 'recall': '0.964', 'f1': '0.940'}\n",
      "\n",
      "Episode 19 finished\n",
      "{'coverage_prop': '0.974', 'intensity_prop': '0.792', 'ms1ms2_ratio': '0.214', 'efficiency': '0.184', 'TP': '240', 'FP': '18', 'FN': '7', 'precision': '0.930', 'recall': '0.972', 'f1': '0.950'}\n",
      "\n",
      "Episode 20 finished\n",
      "{'coverage_prop': '0.940', 'intensity_prop': '0.736', 'ms1ms2_ratio': '0.163', 'efficiency': '0.292', 'TP': '397', 'FP': '43', 'FN': '28', 'precision': '0.902', 'recall': '0.934', 'f1': '0.918'}\n",
      "\n",
      "Episode 21 finished\n",
      "{'coverage_prop': '0.953', 'intensity_prop': '0.785', 'ms1ms2_ratio': '0.353', 'efficiency': '0.190', 'TP': '209', 'FP': '14', 'FN': '11', 'precision': '0.937', 'recall': '0.950', 'f1': '0.944'}\n",
      "\n",
      "Episode 22 finished\n",
      "{'coverage_prop': '0.969', 'intensity_prop': '0.772', 'ms1ms2_ratio': '0.201', 'efficiency': '0.219', 'TP': '287', 'FP': '25', 'FN': '10', 'precision': '0.920', 'recall': '0.966', 'f1': '0.943'}\n",
      "\n",
      "Episode 23 finished\n",
      "{'coverage_prop': '0.948', 'intensity_prop': '0.769', 'ms1ms2_ratio': '0.249', 'efficiency': '0.220', 'TP': '268', 'FP': '26', 'FN': '16', 'precision': '0.912', 'recall': '0.944', 'f1': '0.927'}\n",
      "\n",
      "Episode 24 finished\n",
      "{'coverage_prop': '0.983', 'intensity_prop': '0.777', 'ms1ms2_ratio': '0.192', 'efficiency': '0.234', 'TP': '312', 'FP': '27', 'FN': '6', 'precision': '0.920', 'recall': '0.981', 'f1': '0.950'}\n",
      "\n",
      "Episode 25 finished\n",
      "{'coverage_prop': '0.982', 'intensity_prop': '0.781', 'ms1ms2_ratio': '0.183', 'efficiency': '0.266', 'TP': '356', 'FP': '33', 'FN': '7', 'precision': '0.915', 'recall': '0.981', 'f1': '0.947'}\n",
      "\n",
      "Episode 26 finished\n",
      "{'coverage_prop': '0.966', 'intensity_prop': '0.825', 'ms1ms2_ratio': '0.358', 'efficiency': '0.168', 'TP': '188', 'FP': '8', 'FN': '7', 'precision': '0.959', 'recall': '0.964', 'f1': '0.962'}\n",
      "\n",
      "Episode 27 finished\n",
      "{'coverage_prop': '0.968', 'intensity_prop': '0.800', 'ms1ms2_ratio': '0.254', 'efficiency': '0.205', 'TP': '260', 'FP': '12', 'FN': '9', 'precision': '0.956', 'recall': '0.967', 'f1': '0.961'}\n",
      "\n",
      "Episode 28 finished\n",
      "{'coverage_prop': '0.949', 'intensity_prop': '0.738', 'ms1ms2_ratio': '0.147', 'efficiency': '0.303', 'TP': '424', 'FP': '44', 'FN': '25', 'precision': '0.906', 'recall': '0.944', 'f1': '0.925'}\n",
      "\n",
      "Episode 29 finished\n",
      "{'coverage_prop': '0.964', 'intensity_prop': '0.792', 'ms1ms2_ratio': '0.203', 'efficiency': '0.206', 'TP': '272', 'FP': '21', 'FN': '11', 'precision': '0.928', 'recall': '0.961', 'f1': '0.944'}\n",
      "\n"
     ]
    }
   ],
   "source": [
    "method = 'WeightedDEW_Controller'\n",
    "print('method = %s' % method)\n",
    "print()\n",
    "\n",
    "eval_results = []\n",
    "for i in range(len(chem_list)):\n",
    "    \n",
    "    spike_noise = None\n",
    "    if enable_spike_noise:\n",
    "        noise_params = params['noise']\n",
    "        noise_density = noise_params['noise_density']\n",
    "        noise_max_val = noise_params['noise_max_val']\n",
    "        noise_min_mz = noise_params['mz_range'][0]\n",
    "        noise_max_mz = noise_params['mz_range'][1]\n",
    "        spike_noise = UniformSpikeNoise(noise_density, noise_max_val, min_mz=noise_min_mz,\n",
    "                                        max_mz=noise_max_mz)\n",
    "\n",
    "    chems = chem_list[i]\n",
    "    mass_spec = IndependentMassSpectrometer(ionisation_mode, chems, spike_noise=spike_noise)\n",
    "    \n",
    "    controller = WeightedDEWController(ionisation_mode, weighteddew_N, isolation_window, mz_tol, t1,\n",
    "                                min_ms1_intensity, exclusion_t_0=t0)\n",
    "    env = Environment(mass_spec, controller, rt_range[0], rt_range[1], progress_bar=False, out_dir=out_dir,\n",
    "                      out_file='%s_%d.mzML' % (method, i), save_eval=True)\n",
    "    env.run()\n",
    "    \n",
    "    eval_res = evaluate(env, intensity_threshold)\n",
    "    # eval_res['total_rewards'] = 0\n",
    "    eval_results.append(eval_res)\n",
    "    print('Episode %d finished' % i)\n",
    "    print(eval_res)\n",
    "    print()    \n",
    "    \n",
    "method_eval_results[method] = eval_results"
   ]
  },
  {
   "cell_type": "markdown",
   "metadata": {},
   "source": [
    "#### Plotting"
   ]
  },
  {
   "cell_type": "markdown",
   "metadata": {},
   "source": [
    "Flatten data into dataframe"
   ]
  },
  {
   "cell_type": "code",
   "execution_count": 30,
   "metadata": {
    "execution": {
     "iopub.execute_input": "2023-04-17T14:08:22.546127Z",
     "iopub.status.busy": "2023-04-17T14:08:22.545996Z",
     "iopub.status.idle": "2023-04-17T14:08:22.595944Z",
     "shell.execute_reply": "2023-04-17T14:08:22.595383Z",
     "shell.execute_reply.started": "2023-04-17T14:08:22.546109Z"
    }
   },
   "outputs": [
    {
     "data": {
      "text/html": [
       "<div>\n",
       "<style scoped>\n",
       "    .dataframe tbody tr th:only-of-type {\n",
       "        vertical-align: middle;\n",
       "    }\n",
       "\n",
       "    .dataframe tbody tr th {\n",
       "        vertical-align: top;\n",
       "    }\n",
       "\n",
       "    .dataframe thead th {\n",
       "        text-align: right;\n",
       "    }\n",
       "</style>\n",
       "<table border=\"1\" class=\"dataframe\">\n",
       "  <thead>\n",
       "    <tr style=\"text-align: right;\">\n",
       "      <th></th>\n",
       "      <th>method</th>\n",
       "      <th>total_rewards</th>\n",
       "      <th>invalid_action_count</th>\n",
       "      <th>coverage_prop</th>\n",
       "      <th>intensity_prop</th>\n",
       "      <th>ms1/ms2_ratio</th>\n",
       "      <th>efficiency</th>\n",
       "      <th>precision</th>\n",
       "      <th>recall</th>\n",
       "      <th>f1</th>\n",
       "    </tr>\n",
       "  </thead>\n",
       "  <tbody>\n",
       "    <tr>\n",
       "      <th>0</th>\n",
       "      <td>random</td>\n",
       "      <td>0.875989</td>\n",
       "      <td>0.0</td>\n",
       "      <td>0.932</td>\n",
       "      <td>0.691</td>\n",
       "      <td>0.131</td>\n",
       "      <td>0.251</td>\n",
       "      <td>0.836</td>\n",
       "      <td>0.920</td>\n",
       "      <td>0.876</td>\n",
       "    </tr>\n",
       "    <tr>\n",
       "      <th>1</th>\n",
       "      <td>random</td>\n",
       "      <td>0.928425</td>\n",
       "      <td>0.0</td>\n",
       "      <td>0.950</td>\n",
       "      <td>0.772</td>\n",
       "      <td>0.222</td>\n",
       "      <td>0.180</td>\n",
       "      <td>0.912</td>\n",
       "      <td>0.946</td>\n",
       "      <td>0.928</td>\n",
       "    </tr>\n",
       "    <tr>\n",
       "      <th>2</th>\n",
       "      <td>random</td>\n",
       "      <td>0.887006</td>\n",
       "      <td>0.0</td>\n",
       "      <td>0.931</td>\n",
       "      <td>0.697</td>\n",
       "      <td>0.153</td>\n",
       "      <td>0.239</td>\n",
       "      <td>0.856</td>\n",
       "      <td>0.921</td>\n",
       "      <td>0.887</td>\n",
       "    </tr>\n",
       "    <tr>\n",
       "      <th>3</th>\n",
       "      <td>random</td>\n",
       "      <td>0.900243</td>\n",
       "      <td>0.0</td>\n",
       "      <td>0.934</td>\n",
       "      <td>0.713</td>\n",
       "      <td>0.135</td>\n",
       "      <td>0.268</td>\n",
       "      <td>0.877</td>\n",
       "      <td>0.925</td>\n",
       "      <td>0.900</td>\n",
       "    </tr>\n",
       "    <tr>\n",
       "      <th>4</th>\n",
       "      <td>random</td>\n",
       "      <td>0.864935</td>\n",
       "      <td>0.0</td>\n",
       "      <td>0.947</td>\n",
       "      <td>0.694</td>\n",
       "      <td>0.149</td>\n",
       "      <td>0.268</td>\n",
       "      <td>0.807</td>\n",
       "      <td>0.936</td>\n",
       "      <td>0.866</td>\n",
       "    </tr>\n",
       "  </tbody>\n",
       "</table>\n",
       "</div>"
      ],
      "text/plain": [
       "   method  total_rewards  invalid_action_count  coverage_prop  intensity_prop  \\\n",
       "0  random       0.875989                   0.0          0.932           0.691   \n",
       "1  random       0.928425                   0.0          0.950           0.772   \n",
       "2  random       0.887006                   0.0          0.931           0.697   \n",
       "3  random       0.900243                   0.0          0.934           0.713   \n",
       "4  random       0.864935                   0.0          0.947           0.694   \n",
       "\n",
       "   ms1/ms2_ratio  efficiency  precision  recall     f1  \n",
       "0          0.131       0.251      0.836   0.920  0.876  \n",
       "1          0.222       0.180      0.912   0.946  0.928  \n",
       "2          0.153       0.239      0.856   0.921  0.887  \n",
       "3          0.135       0.268      0.877   0.925  0.900  \n",
       "4          0.149       0.268      0.807   0.936  0.866  "
      ]
     },
     "execution_count": 30,
     "metadata": {},
     "output_type": "execute_result"
    }
   ],
   "source": [
    "data = []\n",
    "for method in method_eval_results:\n",
    "    eval_results = method_eval_results[method]\n",
    "    for eval_res in eval_results:\n",
    "        try:\n",
    "            total_rewards = float(eval_res['total_rewards'])       \n",
    "        except KeyError:\n",
    "            total_rewards = 0.0\n",
    "\n",
    "        try:\n",
    "            invalid_action_count = float(eval_res['invalid_action_count'])       \n",
    "        except KeyError:\n",
    "            invalid_action_count = 0.0\n",
    "\n",
    "        row = (\n",
    "            method, \n",
    "            total_rewards, \n",
    "            invalid_action_count,\n",
    "            float(eval_res['coverage_prop']), \n",
    "            float(eval_res['intensity_prop']), \n",
    "            float(eval_res['ms1ms2_ratio']), \n",
    "            float(eval_res['efficiency']),\n",
    "            float(eval_res['precision']),\n",
    "            float(eval_res['recall']),\n",
    "            float(eval_res['f1']),            \n",
    "        )\n",
    "        data.append(row)\n",
    "        \n",
    "df = pd.DataFrame(data, columns=['method', 'total_rewards', 'invalid_action_count', \n",
    "    'coverage_prop', 'intensity_prop', 'ms1/ms2_ratio', 'efficiency', \n",
    "    'precision', 'recall', 'f1'])\n",
    "# df.set_index('method', inplace=True)\n",
    "df.head()"
   ]
  },
  {
   "cell_type": "code",
   "execution_count": 31,
   "metadata": {
    "execution": {
     "iopub.execute_input": "2023-04-17T14:08:22.596781Z",
     "iopub.status.busy": "2023-04-17T14:08:22.596653Z",
     "iopub.status.idle": "2023-04-17T14:08:22.633889Z",
     "shell.execute_reply": "2023-04-17T14:08:22.633294Z",
     "shell.execute_reply.started": "2023-04-17T14:08:22.596763Z"
    }
   },
   "outputs": [],
   "source": [
    "sns.set_context(\"poster\")"
   ]
  },
  {
   "cell_type": "code",
   "execution_count": 32,
   "metadata": {
    "execution": {
     "iopub.execute_input": "2023-04-17T14:08:22.635235Z",
     "iopub.status.busy": "2023-04-17T14:08:22.635106Z",
     "iopub.status.idle": "2023-04-17T14:08:22.815161Z",
     "shell.execute_reply": "2023-04-17T14:08:22.814421Z",
     "shell.execute_reply.started": "2023-04-17T14:08:22.635218Z"
    }
   },
   "outputs": [
    {
     "data": {
      "text/plain": [
       "Text(0.5, 1.0, 'Total Rewards')"
      ]
     },
     "execution_count": 32,
     "metadata": {},
     "output_type": "execute_result"
    },
    {
     "data": {
      "image/png": "[encoded data removed]",
      "text/plain": [
       "<Figure size 720x360 with 1 Axes>"
      ]
     },
     "metadata": {
      "needs_background": "light"
     },
     "output_type": "display_data"
    }
   ],
   "source": [
    "plt.figure(figsize=(10, 5))\n",
    "sns.boxplot(data=df, x='method', y='total_rewards')\n",
    "plt.xticks(rotation=90)\n",
    "plt.title('Total Rewards')"
   ]
  },
  {
   "cell_type": "code",
   "execution_count": 33,
   "metadata": {
    "execution": {
     "iopub.execute_input": "2023-04-17T14:08:22.816438Z",
     "iopub.status.busy": "2023-04-17T14:08:22.816228Z",
     "iopub.status.idle": "2023-04-17T14:08:22.991251Z",
     "shell.execute_reply": "2023-04-17T14:08:22.990765Z",
     "shell.execute_reply.started": "2023-04-17T14:08:22.816409Z"
    }
   },
   "outputs": [
    {
     "data": {
      "text/plain": [
       "Text(0.5, 1.0, 'Invalid Action Count')"
      ]
     },
     "execution_count": 33,
     "metadata": {},
     "output_type": "execute_result"
    },
    {
     "data": {
      "image/png": "[encoded data removed]",
      "text/plain": [
       "<Figure size 720x360 with 1 Axes>"
      ]
     },
     "metadata": {
      "needs_background": "light"
     },
     "output_type": "display_data"
    }
   ],
   "source": [
    "plt.figure(figsize=(10, 5))\n",
    "sns.boxplot(data=df, x='method', y='invalid_action_count')\n",
    "plt.xticks(rotation=90)\n",
    "plt.title('Invalid Action Count')"
   ]
  },
  {
   "cell_type": "code",
   "execution_count": 34,
   "metadata": {
    "execution": {
     "iopub.execute_input": "2023-04-17T14:08:22.992242Z",
     "iopub.status.busy": "2023-04-17T14:08:22.992108Z",
     "iopub.status.idle": "2023-04-17T14:08:23.164379Z",
     "shell.execute_reply": "2023-04-17T14:08:23.163931Z",
     "shell.execute_reply.started": "2023-04-17T14:08:22.992224Z"
    }
   },
   "outputs": [
    {
     "data": {
      "text/plain": [
       "Text(0.5, 1.0, 'Coverage Proportion')"
      ]
     },
     "execution_count": 34,
     "metadata": {},
     "output_type": "execute_result"
    },
    {
     "data": {
      "image/png": "[encoded data removed]",
      "text/plain": [
       "<Figure size 720x360 with 1 Axes>"
      ]
     },
     "metadata": {
      "needs_background": "light"
     },
     "output_type": "display_data"
    }
   ],
   "source": [
    "plt.figure(figsize=(10, 5))\n",
    "sns.boxplot(data=df, x='method', y='coverage_prop')\n",
    "plt.xticks(rotation=90)\n",
    "plt.title('Coverage Proportion')"
   ]
  },
  {
   "cell_type": "code",
   "execution_count": 35,
   "metadata": {
    "execution": {
     "iopub.execute_input": "2023-04-17T14:08:23.165532Z",
     "iopub.status.busy": "2023-04-17T14:08:23.165401Z",
     "iopub.status.idle": "2023-04-17T14:08:23.333534Z",
     "shell.execute_reply": "2023-04-17T14:08:23.333068Z",
     "shell.execute_reply.started": "2023-04-17T14:08:23.165514Z"
    }
   },
   "outputs": [
    {
     "data": {
      "text/plain": [
       "Text(0.5, 1.0, 'Intensity Proportion')"
      ]
     },
     "execution_count": 35,
     "metadata": {},
     "output_type": "execute_result"
    },
    {
     "data": {
      "image/png": "[encoded data removed]",
      "text/plain": [
       "<Figure size 720x360 with 1 Axes>"
      ]
     },
     "metadata": {
      "needs_background": "light"
     },
     "output_type": "display_data"
    }
   ],
   "source": [
    "plt.figure(figsize=(10, 5))\n",
    "sns.boxplot(data=df, x='method', y='intensity_prop')\n",
    "plt.xticks(rotation=90)\n",
    "plt.title('Intensity Proportion')"
   ]
  },
  {
   "cell_type": "code",
   "execution_count": 36,
   "metadata": {
    "execution": {
     "iopub.execute_input": "2023-04-17T14:08:23.334892Z",
     "iopub.status.busy": "2023-04-17T14:08:23.334509Z",
     "iopub.status.idle": "2023-04-17T14:08:23.503168Z",
     "shell.execute_reply": "2023-04-17T14:08:23.502316Z",
     "shell.execute_reply.started": "2023-04-17T14:08:23.334873Z"
    }
   },
   "outputs": [
    {
     "data": {
      "text/plain": [
       "Text(0.5, 1.0, 'MS1/MS2 Ratio')"
      ]
     },
     "execution_count": 36,
     "metadata": {},
     "output_type": "execute_result"
    },
    {
     "data": {
      "image/png": "[encoded data removed]",
      "text/plain": [
       "<Figure size 720x360 with 1 Axes>"
      ]
     },
     "metadata": {
      "needs_background": "light"
     },
     "output_type": "display_data"
    }
   ],
   "source": [
    "plt.figure(figsize=(10, 5))\n",
    "sns.boxplot(data=df, x='method', y='ms1/ms2_ratio')\n",
    "plt.xticks(rotation=90)\n",
    "plt.title('MS1/MS2 Ratio')"
   ]
  },
  {
   "cell_type": "code",
   "execution_count": 37,
   "metadata": {
    "execution": {
     "iopub.execute_input": "2023-04-17T14:08:23.504253Z",
     "iopub.status.busy": "2023-04-17T14:08:23.504105Z",
     "iopub.status.idle": "2023-04-17T14:08:23.668554Z",
     "shell.execute_reply": "2023-04-17T14:08:23.667998Z",
     "shell.execute_reply.started": "2023-04-17T14:08:23.504234Z"
    }
   },
   "outputs": [
    {
     "data": {
      "text/plain": [
       "Text(0.5, 1.0, 'Efficiency')"
      ]
     },
     "execution_count": 37,
     "metadata": {},
     "output_type": "execute_result"
    },
    {
     "data": {
      "image/png": "[encoded data removed]",
      "text/plain": [
       "<Figure size 720x360 with 1 Axes>"
      ]
     },
     "metadata": {
      "needs_background": "light"
     },
     "output_type": "display_data"
    }
   ],
   "source": [
    "plt.figure(figsize=(10, 5))\n",
    "sns.boxplot(data=df, x='method', y='efficiency')\n",
    "plt.xticks(rotation=90)\n",
    "plt.title('Efficiency')"
   ]
  },
  {
   "cell_type": "code",
   "execution_count": 38,
   "metadata": {
    "execution": {
     "iopub.execute_input": "2023-04-17T14:08:23.669502Z",
     "iopub.status.busy": "2023-04-17T14:08:23.669360Z",
     "iopub.status.idle": "2023-04-17T14:08:23.841921Z",
     "shell.execute_reply": "2023-04-17T14:08:23.841297Z",
     "shell.execute_reply.started": "2023-04-17T14:08:23.669483Z"
    }
   },
   "outputs": [
    {
     "data": {
      "text/plain": [
       "Text(0.5, 1.0, 'Precision')"
      ]
     },
     "execution_count": 38,
     "metadata": {},
     "output_type": "execute_result"
    },
    {
     "data": {
      "image/png": "[encoded data removed]",
      "text/plain": [
       "<Figure size 720x360 with 1 Axes>"
      ]
     },
     "metadata": {
      "needs_background": "light"
     },
     "output_type": "display_data"
    }
   ],
   "source": [
    "plt.figure(figsize=(10, 5))\n",
    "sns.boxplot(data=df, x='method', y='precision')\n",
    "plt.xticks(rotation=90)\n",
    "plt.title('Precision')"
   ]
  },
  {
   "cell_type": "code",
   "execution_count": 39,
   "metadata": {
    "execution": {
     "iopub.execute_input": "2023-04-17T14:08:23.842756Z",
     "iopub.status.busy": "2023-04-17T14:08:23.842626Z",
     "iopub.status.idle": "2023-04-17T14:08:24.011339Z",
     "shell.execute_reply": "2023-04-17T14:08:24.010810Z",
     "shell.execute_reply.started": "2023-04-17T14:08:23.842738Z"
    }
   },
   "outputs": [
    {
     "data": {
      "text/plain": [
       "Text(0.5, 1.0, 'Recall')"
      ]
     },
     "execution_count": 39,
     "metadata": {},
     "output_type": "execute_result"
    },
    {
     "data": {
      "image/png": "[encoded data removed]",
      "text/plain": [
       "<Figure size 720x360 with 1 Axes>"
      ]
     },
     "metadata": {
      "needs_background": "light"
     },
     "output_type": "display_data"
    }
   ],
   "source": [
    "plt.figure(figsize=(10, 5))\n",
    "sns.boxplot(data=df, x='method', y='recall')\n",
    "plt.xticks(rotation=90)\n",
    "plt.title('Recall')"
   ]
  },
  {
   "cell_type": "code",
   "execution_count": 40,
   "metadata": {
    "execution": {
     "iopub.execute_input": "2023-04-17T14:08:24.012623Z",
     "iopub.status.busy": "2023-04-17T14:08:24.012110Z",
     "iopub.status.idle": "2023-04-17T14:08:24.178122Z",
     "shell.execute_reply": "2023-04-17T14:08:24.177450Z",
     "shell.execute_reply.started": "2023-04-17T14:08:24.012601Z"
    }
   },
   "outputs": [
    {
     "data": {
      "text/plain": [
       "Text(0.5, 1.0, 'F1')"
      ]
     },
     "execution_count": 40,
     "metadata": {},
     "output_type": "execute_result"
    },
    {
     "data": {
      "image/png": "[encoded data removed]",
      "text/plain": [
       "<Figure size 720x360 with 1 Axes>"
      ]
     },
     "metadata": {
      "needs_background": "light"
     },
     "output_type": "display_data"
    }
   ],
   "source": [
    "plt.figure(figsize=(10, 5))\n",
    "sns.boxplot(data=df, x='method', y='f1')\n",
    "plt.xticks(rotation=90)\n",
    "plt.title('F1')"
   ]
  },
  {
   "cell_type": "code",
   "execution_count": 41,
   "metadata": {
    "execution": {
     "iopub.execute_input": "2023-04-17T14:08:24.179107Z",
     "iopub.status.busy": "2023-04-17T14:08:24.178973Z",
     "iopub.status.idle": "2023-04-17T14:08:24.220857Z",
     "shell.execute_reply": "2023-04-17T14:08:24.220298Z",
     "shell.execute_reply.started": "2023-04-17T14:08:24.179090Z"
    }
   },
   "outputs": [],
   "source": [
    "df.to_pickle('evaluation_1.0E6_horizon_%d_alpha_%.2f_beta_%.2f.p' % (horizon, env_alpha, env_beta))"
   ]
  }
 ],
 "metadata": {
  "kernelspec": {
   "display_name": "Python 3 (ipykernel)",
   "language": "python",
   "name": "python3"
  },
  "language_info": {
   "codemirror_mode": {
    "name": "ipython",
    "version": 3
   },
   "file_extension": ".py",
   "mimetype": "text/x-python",
   "name": "python",
   "nbconvert_exporter": "python",
   "pygments_lexer": "ipython3",
   "version": "3.8.12"
  },
  "vscode": {
   "interpreter": {
    "hash": "05a318a39bdd806c866a458e5513009c97d8e8627387c5b7a048c974669be487"
   }
  }
 },
 "nbformat": 4,
 "nbformat_minor": 4
}
