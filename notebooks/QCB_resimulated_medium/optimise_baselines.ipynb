{
 "cells": [
  {
   "cell_type": "code",
   "execution_count": 1,
   "metadata": {
    "pycharm": {
     "name": "#%%\n"
    },
    "tags": []
   },
   "outputs": [],
   "source": [
    "%matplotlib inline\n",
    "\n",
    "%load_ext autoreload\n",
    "%autoreload 2"
   ]
  },
  {
   "cell_type": "code",
   "execution_count": 2,
   "metadata": {
    "pycharm": {
     "name": "#%%\n"
    }
   },
   "outputs": [],
   "source": [
    "import os\n",
    "import sys\n",
    "from os.path import exists\n",
    "\n",
    "sys.path.append('../..')"
   ]
  },
  {
   "cell_type": "code",
   "execution_count": 3,
   "metadata": {
    "pycharm": {
     "name": "#%%\n"
    },
    "tags": []
   },
   "outputs": [],
   "source": [
    "import pylab as plt\n",
    "import pandas as pd\n",
    "import numpy as np\n",
    "from loguru import logger\n",
    "import seaborn as sns\n",
    "import copy"
   ]
  },
  {
   "cell_type": "code",
   "execution_count": 4,
   "metadata": {
    "pycharm": {
     "name": "#%%\n"
    },
    "tags": []
   },
   "outputs": [],
   "source": [
    "from vimms.Common import POSITIVE, set_log_level_warning, load_obj, save_obj\n",
    "from vimms.ChemicalSamplers import UniformRTAndIntensitySampler, GaussianChromatogramSampler, UniformMZFormulaSampler, \\\n",
    "    MZMLFormulaSampler, MZMLRTandIntensitySampler, MZMLChromatogramSampler\n",
    "from vimms.Noise import UniformSpikeNoise\n",
    "from vimms.Evaluation import evaluate_real\n",
    "from vimms.Chemicals import ChemicalMixtureFromMZML\n",
    "from vimms.Roi import RoiBuilderParams, SmartRoiParams\n",
    "\n",
    "from mass_spec_utils.data_import.mzmine import load_picked_boxes\n",
    "\n",
    "from vimms_gym.env import DDAEnv\n",
    "from vimms_gym.chemicals import generate_chemicals\n",
    "from vimms_gym.evaluation import evaluate, run_method\n",
    "from vimms_gym.common import METHOD_RANDOM, METHOD_FULLSCAN, METHOD_TOPN, METHOD_DQN, \\\n",
    "    METHOD_DQN_COV, METHOD_DQN_INT, METHOD_DQN_MID, METHOD_PPO, METHOD_PPO_RECURRENT\n",
    "from vimms_gym.experiments import preset_qcb_medium"
   ]
  },
  {
   "cell_type": "markdown",
   "metadata": {
    "pycharm": {
     "name": "#%% md\n"
    }
   },
   "source": [
    "# 1. Parameters"
   ]
  },
  {
   "cell_type": "code",
   "execution_count": 5,
   "metadata": {},
   "outputs": [
    {
     "name": "stderr",
     "output_type": "stream",
     "text": [
      "2023-03-07 13:26:57.403 | INFO     | vimms_gym.experiments:get_samplers:295 - Loaded /Users/joewandy/Work/git/vimms-gym/pickles/samplers_QCB_medium_extracted.p\n"
     ]
    },
    {
     "data": {
      "text/plain": [
       "({'chemical_creator': {'mz_range': (100, 600),\n",
       "   'rt_range': (400, 800),\n",
       "   'intensity_range': (10000.0, 1e+20),\n",
       "   'n_chemicals': (200, 500),\n",
       "   'mz_sampler': <vimms.ChemicalSamplers.MZMLFormulaSampler at 0x7f8d4b33c5e0>,\n",
       "   'ri_sampler': <vimms.ChemicalSamplers.MZMLRTandIntensitySampler at 0x7f8d39d0d160>,\n",
       "   'cr_sampler': <vimms.ChemicalSamplers.MZMLChromatogramSampler at 0x7f8d39d2b400>},\n",
       "  'noise': {'enable_spike_noise': True,\n",
       "   'noise_density': 0.1,\n",
       "   'noise_max_val': 1000.0,\n",
       "   'mz_range': (100, 600)},\n",
       "  'env': {'ionisation_mode': 'Positive',\n",
       "   'rt_range': (400, 800),\n",
       "   'isolation_window': 0.7,\n",
       "   'use_dew': False,\n",
       "   'mz_tol': 10,\n",
       "   'rt_tol': 5,\n",
       "   'min_ms1_intensity': 5000,\n",
       "   'alpha': 0.25,\n",
       "   'beta': 0.5}},\n",
       " 200)"
      ]
     },
     "execution_count": 5,
     "metadata": {},
     "output_type": "execute_result"
    }
   ],
   "source": [
    "env_alpha = 0.25\n",
    "env_beta = 0.50\n",
    "extract = True\n",
    "params, max_peaks = preset_qcb_medium(None, alpha=env_alpha, beta=env_beta, extract_chromatograms=extract)\n",
    "params, max_peaks"
   ]
  },
  {
   "cell_type": "code",
   "execution_count": 6,
   "metadata": {
    "pycharm": {
     "name": "#%%\n"
    }
   },
   "outputs": [],
   "source": [
    "max_peaks = 200\n",
    "out_dir = 'optimise_baselines'"
   ]
  },
  {
   "cell_type": "code",
   "execution_count": 7,
   "metadata": {
    "pycharm": {
     "name": "#%%\n"
    }
   },
   "outputs": [],
   "source": [
    "n_eval_episodes = 1"
   ]
  },
  {
   "cell_type": "markdown",
   "metadata": {
    "pycharm": {
     "name": "#%% md\n"
    },
    "tags": []
   },
   "source": [
    "# 2. Evaluation"
   ]
  },
  {
   "cell_type": "markdown",
   "metadata": {
    "pycharm": {
     "name": "#%% md\n"
    }
   },
   "source": [
    "#### Generate some chemical sets"
   ]
  },
  {
   "cell_type": "code",
   "execution_count": 8,
   "metadata": {},
   "outputs": [
    {
     "name": "stdout",
     "output_type": "stream",
     "text": [
      "426\n",
      "262\n",
      "394\n",
      "452\n",
      "437\n",
      "200\n",
      "478\n",
      "204\n",
      "424\n",
      "384\n",
      "443\n",
      "249\n",
      "251\n",
      "300\n",
      "206\n",
      "407\n",
      "498\n",
      "372\n",
      "302\n",
      "265\n",
      "468\n",
      "234\n",
      "322\n",
      "310\n",
      "345\n",
      "396\n",
      "203\n",
      "281\n",
      "493\n",
      "304\n"
     ]
    }
   ],
   "source": [
    "fname = 'QCB_chems_medium.p'\n",
    "found = exists(fname)\n",
    "if found:\n",
    "    chem_list = load_obj(fname)\n",
    "    for chems in chem_list:\n",
    "        print(len(chems))"
   ]
  },
  {
   "cell_type": "code",
   "execution_count": 9,
   "metadata": {},
   "outputs": [],
   "source": [
    "chem_list = [chem_list[0]]"
   ]
  },
  {
   "cell_type": "markdown",
   "metadata": {
    "pycharm": {
     "name": "#%% md\n"
    }
   },
   "source": [
    "#### Compare to Top-10"
   ]
  },
  {
   "cell_type": "code",
   "execution_count": 10,
   "metadata": {
    "pycharm": {
     "name": "#%%\n"
    }
   },
   "outputs": [
    {
     "data": {
      "text/plain": [
       "1"
      ]
     },
     "execution_count": 10,
     "metadata": {},
     "output_type": "execute_result"
    }
   ],
   "source": [
    "set_log_level_warning()"
   ]
  },
  {
   "cell_type": "code",
   "execution_count": 11,
   "metadata": {
    "pycharm": {
     "name": "#%%\n"
    }
   },
   "outputs": [],
   "source": [
    "env_name = 'DDAEnv'\n",
    "method = 'topN'\n",
    "intensity_threshold = 0.5"
   ]
  },
  {
   "cell_type": "code",
   "execution_count": 12,
   "metadata": {},
   "outputs": [],
   "source": [
    "rt_tols = [2, 5, 15, 30, 60, 120, 240, 300]\n",
    "Ns = [1, 2, 5, 10, 15, 20, 25]"
   ]
  },
  {
   "cell_type": "code",
   "execution_count": 13,
   "metadata": {
    "pycharm": {
     "name": "#%%\n"
    }
   },
   "outputs": [],
   "source": [
    "min_ms1_intensity = params['env']['min_ms1_intensity']\n",
    "horizon = 4"
   ]
  },
  {
   "cell_type": "code",
   "execution_count": 14,
   "metadata": {},
   "outputs": [
    {
     "name": "stdout",
     "output_type": "stream",
     "text": [
      "method = topN max_peaks = 200 N = 1 rt_tol = 2\n",
      "\n",
      "{'coverage_prop': '0.390', 'intensity_prop': '0.237', 'ms1ms2_ratio': '1.072', 'efficiency': '0.261', 'TP': '107', 'FP': '59', 'FN': '260', 'precision': '0.645', 'recall': '0.292', 'f1': '0.402', 'total_rewards': 119.4966354776849, 'invalid_action_count': 0, 'num_ms1_scans': 682, 'num_ms2_scans': 636}\n",
      "\n",
      "method = topN max_peaks = 200 N = 2 rt_tol = 2\n",
      "\n",
      "{'coverage_prop': '0.477', 'intensity_prop': '0.305', 'ms1ms2_ratio': '0.554', 'efficiency': '0.214', 'TP': '141', 'FP': '62', 'FN': '223', 'precision': '0.695', 'recall': '0.387', 'f1': '0.497', 'total_rewards': 170.45632673302185, 'invalid_action_count': 0, 'num_ms1_scans': 526, 'num_ms2_scans': 949}\n",
      "\n",
      "method = topN max_peaks = 200 N = 5 rt_tol = 2\n",
      "\n",
      "{'coverage_prop': '0.622', 'intensity_prop': '0.429', 'ms1ms2_ratio': '0.244', 'efficiency': '0.197', 'TP': '198', 'FP': '67', 'FN': '161', 'precision': '0.747', 'recall': '0.552', 'f1': '0.635', 'total_rewards': 236.6349733702281, 'invalid_action_count': 0, 'num_ms1_scans': 328, 'num_ms2_scans': 1344}\n",
      "\n",
      "method = topN max_peaks = 200 N = 10 rt_tol = 2\n",
      "\n",
      "{'coverage_prop': '0.763', 'intensity_prop': '0.564', 'ms1ms2_ratio': '0.140', 'efficiency': '0.208', 'TP': '267', 'FP': '58', 'FN': '101', 'precision': '0.822', 'recall': '0.726', 'f1': '0.771', 'total_rewards': 261.49350770984205, 'invalid_action_count': 0, 'num_ms1_scans': 219, 'num_ms2_scans': 1562}\n",
      "\n",
      "method = topN max_peaks = 200 N = 15 rt_tol = 2\n",
      "\n",
      "{'coverage_prop': '0.890', 'intensity_prop': '0.686', 'ms1ms2_ratio': '0.108', 'efficiency': '0.230', 'TP': '333', 'FP': '46', 'FN': '47', 'precision': '0.879', 'recall': '0.876', 'f1': '0.877', 'total_rewards': 270.4889776938012, 'invalid_action_count': 0, 'num_ms1_scans': 177, 'num_ms2_scans': 1646}\n",
      "\n",
      "method = topN max_peaks = 200 N = 20 rt_tol = 2\n",
      "\n",
      "{'coverage_prop': '0.934', 'intensity_prop': '0.712', 'ms1ms2_ratio': '0.095', 'efficiency': '0.237', 'TP': '341', 'FP': '57', 'FN': '28', 'precision': '0.857', 'recall': '0.924', 'f1': '0.889', 'total_rewards': 274.7686212261574, 'invalid_action_count': 0, 'num_ms1_scans': 159, 'num_ms2_scans': 1682}\n",
      "\n",
      "method = topN max_peaks = 200 N = 25 rt_tol = 2\n",
      "\n",
      "{'coverage_prop': '0.939', 'intensity_prop': '0.728', 'ms1ms2_ratio': '0.088', 'efficiency': '0.235', 'TP': '355', 'FP': '45', 'FN': '26', 'precision': '0.887', 'recall': '0.932', 'f1': '0.909', 'total_rewards': 270.95593487138444, 'invalid_action_count': 0, 'num_ms1_scans': 150, 'num_ms2_scans': 1700}\n",
      "\n",
      "method = topN max_peaks = 200 N = 1 rt_tol = 5\n",
      "\n",
      "{'coverage_prop': '0.669', 'intensity_prop': '0.439', 'ms1ms2_ratio': '1.096', 'efficiency': '0.455', 'TP': '210', 'FP': '75', 'FN': '141', 'precision': '0.737', 'recall': '0.598', 'f1': '0.660', 'total_rewards': 127.66096518948254, 'invalid_action_count': 0, 'num_ms1_scans': 687, 'num_ms2_scans': 627}\n",
      "\n",
      "method = topN max_peaks = 200 N = 2 rt_tol = 5\n",
      "\n",
      "{'coverage_prop': '0.810', 'intensity_prop': '0.599', 'ms1ms2_ratio': '0.575', 'efficiency': '0.371', 'TP': '289', 'FP': '56', 'FN': '81', 'precision': '0.838', 'recall': '0.781', 'f1': '0.808', 'total_rewards': 177.75058426785182, 'invalid_action_count': 0, 'num_ms1_scans': 535, 'num_ms2_scans': 930}\n",
      "\n",
      "method = topN max_peaks = 200 N = 5 rt_tol = 5\n",
      "\n",
      "{'coverage_prop': '0.918', 'intensity_prop': '0.731', 'ms1ms2_ratio': '0.282', 'efficiency': '0.306', 'TP': '350', 'FP': '41', 'FN': '35', 'precision': '0.895', 'recall': '0.909', 'f1': '0.902', 'total_rewards': 228.39281433749025, 'invalid_action_count': 0, 'num_ms1_scans': 361, 'num_ms2_scans': 1278}\n",
      "\n",
      "method = topN max_peaks = 200 N = 10 rt_tol = 5\n",
      "\n",
      "{'coverage_prop': '0.934', 'intensity_prop': '0.731', 'ms1ms2_ratio': '0.193', 'efficiency': '0.276', 'TP': '354', 'FP': '44', 'FN': '28', 'precision': '0.889', 'recall': '0.927', 'f1': '0.908', 'total_rewards': 246.0714193275831, 'invalid_action_count': 0, 'num_ms1_scans': 278, 'num_ms2_scans': 1444}\n",
      "\n",
      "method = topN max_peaks = 200 N = 15 rt_tol = 5\n",
      "\n",
      "{'coverage_prop': '0.932', 'intensity_prop': '0.742', 'ms1ms2_ratio': '0.165', 'efficiency': '0.264', 'TP': '358', 'FP': '39', 'FN': '29', 'precision': '0.902', 'recall': '0.925', 'f1': '0.913', 'total_rewards': 255.7994916833124, 'invalid_action_count': 0, 'num_ms1_scans': 248, 'num_ms2_scans': 1504}\n",
      "\n",
      "method = topN max_peaks = 200 N = 20 rt_tol = 5\n",
      "\n",
      "{'coverage_prop': '0.939', 'intensity_prop': '0.729', 'ms1ms2_ratio': '0.149', 'efficiency': '0.259', 'TP': '352', 'FP': '48', 'FN': '26', 'precision': '0.880', 'recall': '0.931', 'f1': '0.905', 'total_rewards': 254.21031053324717, 'invalid_action_count': 0, 'num_ms1_scans': 229, 'num_ms2_scans': 1542}\n",
      "\n",
      "method = topN max_peaks = 200 N = 25 rt_tol = 5\n",
      "\n",
      "{'coverage_prop': '0.948', 'intensity_prop': '0.722', 'ms1ms2_ratio': '0.141', 'efficiency': '0.259', 'TP': '351', 'FP': '53', 'FN': '22', 'precision': '0.869', 'recall': '0.941', 'f1': '0.903', 'total_rewards': 253.2726243723622, 'invalid_action_count': 0, 'num_ms1_scans': 220, 'num_ms2_scans': 1560}\n",
      "\n",
      "method = topN max_peaks = 200 N = 1 rt_tol = 15\n",
      "\n",
      "{'coverage_prop': '0.908', 'intensity_prop': '0.547', 'ms1ms2_ratio': '1.246', 'efficiency': '0.675', 'TP': '246', 'FP': '141', 'FN': '39', 'precision': '0.636', 'recall': '0.863', 'f1': '0.732', 'total_rewards': 142.3617601709128, 'invalid_action_count': 0, 'num_ms1_scans': 714, 'num_ms2_scans': 573}\n",
      "\n",
      "method = topN max_peaks = 200 N = 2 rt_tol = 15\n",
      "\n",
      "{'coverage_prop': '0.972', 'intensity_prop': '0.539', 'ms1ms2_ratio': '0.892', 'efficiency': '0.576', 'TP': '237', 'FP': '177', 'FN': '12', 'precision': '0.572', 'recall': '0.952', 'f1': '0.715', 'total_rewards': 163.39344577163453, 'invalid_action_count': 0, 'num_ms1_scans': 641, 'num_ms2_scans': 719}\n",
      "\n",
      "method = topN max_peaks = 200 N = 5 rt_tol = 15\n",
      "\n",
      "{'coverage_prop': '0.979', 'intensity_prop': '0.524', 'ms1ms2_ratio': '0.766', 'efficiency': '0.528', 'TP': '233', 'FP': '184', 'FN': '9', 'precision': '0.559', 'recall': '0.963', 'f1': '0.707', 'total_rewards': 171.57221261085704, 'invalid_action_count': 0, 'num_ms1_scans': 605, 'num_ms2_scans': 790}\n",
      "\n",
      "method = topN max_peaks = 200 N = 10 rt_tol = 15\n",
      "\n",
      "{'coverage_prop': '0.979', 'intensity_prop': '0.534', 'ms1ms2_ratio': '0.749', 'efficiency': '0.521', 'TP': '232', 'FP': '185', 'FN': '9', 'precision': '0.556', 'recall': '0.963', 'f1': '0.705', 'total_rewards': 170.9662330637986, 'invalid_action_count': 0, 'num_ms1_scans': 600, 'num_ms2_scans': 801}\n",
      "\n",
      "method = topN max_peaks = 200 N = 15 rt_tol = 15\n",
      "\n",
      "{'coverage_prop': '0.979', 'intensity_prop': '0.536', 'ms1ms2_ratio': '0.746', 'efficiency': '0.519', 'TP': '235', 'FP': '182', 'FN': '9', 'precision': '0.564', 'recall': '0.963', 'f1': '0.711', 'total_rewards': 171.07137741031897, 'invalid_action_count': 0, 'num_ms1_scans': 599, 'num_ms2_scans': 803}\n",
      "\n",
      "method = topN max_peaks = 200 N = 20 rt_tol = 15\n",
      "\n",
      "{'coverage_prop': '0.979', 'intensity_prop': '0.536', 'ms1ms2_ratio': '0.746', 'efficiency': '0.519', 'TP': '235', 'FP': '182', 'FN': '9', 'precision': '0.564', 'recall': '0.963', 'f1': '0.711', 'total_rewards': 171.07090169081758, 'invalid_action_count': 0, 'num_ms1_scans': 599, 'num_ms2_scans': 803}\n",
      "\n",
      "method = topN max_peaks = 200 N = 25 rt_tol = 15\n",
      "\n",
      "{'coverage_prop': '0.979', 'intensity_prop': '0.536', 'ms1ms2_ratio': '0.746', 'efficiency': '0.519', 'TP': '235', 'FP': '182', 'FN': '9', 'precision': '0.564', 'recall': '0.963', 'f1': '0.711', 'total_rewards': 171.07090169081758, 'invalid_action_count': 0, 'num_ms1_scans': 599, 'num_ms2_scans': 803}\n",
      "\n",
      "method = topN max_peaks = 200 N = 1 rt_tol = 30\n",
      "\n",
      "{'coverage_prop': '0.951', 'intensity_prop': '0.488', 'ms1ms2_ratio': '1.546', 'efficiency': '0.828', 'TP': '206', 'FP': '199', 'FN': '21', 'precision': '0.509', 'recall': '0.907', 'f1': '0.652', 'total_rewards': 136.69477143730737, 'invalid_action_count': 0, 'num_ms1_scans': 756, 'num_ms2_scans': 489}\n",
      "\n",
      "method = topN max_peaks = 200 N = 2 rt_tol = 30\n",
      "\n",
      "{'coverage_prop': '0.974', 'intensity_prop': '0.457', 'ms1ms2_ratio': '1.373', 'efficiency': '0.777', 'TP': '180', 'FP': '235', 'FN': '11', 'precision': '0.434', 'recall': '0.942', 'f1': '0.594', 'total_rewards': 142.98016843809222, 'invalid_action_count': 0, 'num_ms1_scans': 733, 'num_ms2_scans': 534}\n",
      "\n",
      "method = topN max_peaks = 200 N = 5 rt_tol = 30\n",
      "\n",
      "{'coverage_prop': '0.977', 'intensity_prop': '0.437', 'ms1ms2_ratio': '1.345', 'efficiency': '0.768', 'TP': '163', 'FP': '253', 'FN': '10', 'precision': '0.392', 'recall': '0.942', 'f1': '0.553', 'total_rewards': 143.92749917214536, 'invalid_action_count': 0, 'num_ms1_scans': 729, 'num_ms2_scans': 542}\n",
      "\n",
      "method = topN max_peaks = 200 N = 10 rt_tol = 30\n",
      "\n",
      "{'coverage_prop': '0.977', 'intensity_prop': '0.436', 'ms1ms2_ratio': '1.332', 'efficiency': '0.762', 'TP': '159', 'FP': '257', 'FN': '10', 'precision': '0.382', 'recall': '0.941', 'f1': '0.544', 'total_rewards': 143.8053231862446, 'invalid_action_count': 0, 'num_ms1_scans': 727, 'num_ms2_scans': 546}\n",
      "\n",
      "method = topN max_peaks = 200 N = 15 rt_tol = 30\n",
      "\n",
      "{'coverage_prop': '0.977', 'intensity_prop': '0.436', 'ms1ms2_ratio': '1.332', 'efficiency': '0.762', 'TP': '159', 'FP': '257', 'FN': '10', 'precision': '0.382', 'recall': '0.941', 'f1': '0.544', 'total_rewards': 143.8053231862446, 'invalid_action_count': 0, 'num_ms1_scans': 727, 'num_ms2_scans': 546}\n",
      "\n",
      "method = topN max_peaks = 200 N = 20 rt_tol = 30\n",
      "\n",
      "{'coverage_prop': '0.977', 'intensity_prop': '0.436', 'ms1ms2_ratio': '1.332', 'efficiency': '0.762', 'TP': '159', 'FP': '257', 'FN': '10', 'precision': '0.382', 'recall': '0.941', 'f1': '0.544', 'total_rewards': 143.8053231862446, 'invalid_action_count': 0, 'num_ms1_scans': 727, 'num_ms2_scans': 546}\n",
      "\n",
      "method = topN max_peaks = 200 N = 25 rt_tol = 30\n",
      "\n",
      "{'coverage_prop': '0.977', 'intensity_prop': '0.436', 'ms1ms2_ratio': '1.332', 'efficiency': '0.762', 'TP': '159', 'FP': '257', 'FN': '10', 'precision': '0.382', 'recall': '0.941', 'f1': '0.544', 'total_rewards': 143.8053231862446, 'invalid_action_count': 0, 'num_ms1_scans': 727, 'num_ms2_scans': 546}\n",
      "\n",
      "method = topN max_peaks = 200 N = 1 rt_tol = 60\n",
      "\n",
      "{'coverage_prop': '0.955', 'intensity_prop': '0.425', 'ms1ms2_ratio': '1.850', 'efficiency': '0.955', 'TP': '165', 'FP': '242', 'FN': '19', 'precision': '0.405', 'recall': '0.897', 'f1': '0.558', 'total_rewards': 130.37416716824788, 'invalid_action_count': 0, 'num_ms1_scans': 788, 'num_ms2_scans': 426}\n",
      "\n",
      "method = topN max_peaks = 200 N = 2 rt_tol = 60\n",
      "\n",
      "{'coverage_prop': '0.977', 'intensity_prop': '0.405', 'ms1ms2_ratio': '1.744', 'efficiency': '0.933', 'TP': '150', 'FP': '266', 'FN': '10', 'precision': '0.361', 'recall': '0.938', 'f1': '0.521', 'total_rewards': 133.95866805735784, 'invalid_action_count': 0, 'num_ms1_scans': 778, 'num_ms2_scans': 446}\n",
      "\n",
      "method = topN max_peaks = 200 N = 5 rt_tol = 60\n",
      "\n",
      "{'coverage_prop': '0.977', 'intensity_prop': '0.385', 'ms1ms2_ratio': '1.744', 'efficiency': '0.933', 'TP': '135', 'FP': '281', 'FN': '10', 'precision': '0.325', 'recall': '0.931', 'f1': '0.481', 'total_rewards': 133.2021453262614, 'invalid_action_count': 0, 'num_ms1_scans': 778, 'num_ms2_scans': 446}\n",
      "\n",
      "method = topN max_peaks = 200 N = 10 rt_tol = 60\n",
      "\n",
      "{'coverage_prop': '0.977', 'intensity_prop': '0.385', 'ms1ms2_ratio': '1.744', 'efficiency': '0.933', 'TP': '134', 'FP': '282', 'FN': '10', 'precision': '0.322', 'recall': '0.931', 'f1': '0.479', 'total_rewards': 133.20369440527983, 'invalid_action_count': 0, 'num_ms1_scans': 778, 'num_ms2_scans': 446}\n",
      "\n",
      "method = topN max_peaks = 200 N = 15 rt_tol = 60\n",
      "\n",
      "{'coverage_prop': '0.977', 'intensity_prop': '0.385', 'ms1ms2_ratio': '1.744', 'efficiency': '0.933', 'TP': '134', 'FP': '282', 'FN': '10', 'precision': '0.322', 'recall': '0.931', 'f1': '0.479', 'total_rewards': 133.20369440527983, 'invalid_action_count': 0, 'num_ms1_scans': 778, 'num_ms2_scans': 446}\n",
      "\n",
      "method = topN max_peaks = 200 N = 20 rt_tol = 60\n",
      "\n",
      "{'coverage_prop': '0.977', 'intensity_prop': '0.385', 'ms1ms2_ratio': '1.744', 'efficiency': '0.933', 'TP': '134', 'FP': '282', 'FN': '10', 'precision': '0.322', 'recall': '0.931', 'f1': '0.479', 'total_rewards': 133.20369440527983, 'invalid_action_count': 0, 'num_ms1_scans': 778, 'num_ms2_scans': 446}\n",
      "\n",
      "method = topN max_peaks = 200 N = 25 rt_tol = 60\n",
      "\n",
      "{'coverage_prop': '0.977', 'intensity_prop': '0.385', 'ms1ms2_ratio': '1.744', 'efficiency': '0.933', 'TP': '134', 'FP': '282', 'FN': '10', 'precision': '0.322', 'recall': '0.931', 'f1': '0.479', 'total_rewards': 133.20369440527983, 'invalid_action_count': 0, 'num_ms1_scans': 778, 'num_ms2_scans': 446}\n",
      "\n",
      "method = topN max_peaks = 200 N = 1 rt_tol = 120\n",
      "\n",
      "{'coverage_prop': '0.965', 'intensity_prop': '0.429', 'ms1ms2_ratio': '1.934', 'efficiency': '1.000', 'TP': '175', 'FP': '236', 'FN': '15', 'precision': '0.426', 'recall': '0.921', 'f1': '0.582', 'total_rewards': 129.29450544534026, 'invalid_action_count': 0, 'num_ms1_scans': 795, 'num_ms2_scans': 411}\n",
      "\n",
      "method = topN max_peaks = 200 N = 2 rt_tol = 120\n",
      "\n",
      "{'coverage_prop': '0.977', 'intensity_prop': '0.398', 'ms1ms2_ratio': '1.850', 'efficiency': '0.977', 'TP': '143', 'FP': '273', 'FN': '10', 'precision': '0.344', 'recall': '0.935', 'f1': '0.503', 'total_rewards': 131.25281882501108, 'invalid_action_count': 0, 'num_ms1_scans': 788, 'num_ms2_scans': 426}\n",
      "\n",
      "method = topN max_peaks = 200 N = 5 rt_tol = 120\n",
      "\n",
      "{'coverage_prop': '0.977', 'intensity_prop': '0.389', 'ms1ms2_ratio': '1.850', 'efficiency': '0.977', 'TP': '135', 'FP': '281', 'FN': '10', 'precision': '0.325', 'recall': '0.931', 'f1': '0.481', 'total_rewards': 131.1177217029176, 'invalid_action_count': 0, 'num_ms1_scans': 788, 'num_ms2_scans': 426}\n",
      "\n",
      "method = topN max_peaks = 200 N = 10 rt_tol = 120\n",
      "\n",
      "{'coverage_prop': '0.977', 'intensity_prop': '0.389', 'ms1ms2_ratio': '1.850', 'efficiency': '0.977', 'TP': '135', 'FP': '281', 'FN': '10', 'precision': '0.325', 'recall': '0.931', 'f1': '0.481', 'total_rewards': 131.1177217029176, 'invalid_action_count': 0, 'num_ms1_scans': 788, 'num_ms2_scans': 426}\n",
      "\n",
      "method = topN max_peaks = 200 N = 15 rt_tol = 120\n",
      "\n",
      "{'coverage_prop': '0.977', 'intensity_prop': '0.389', 'ms1ms2_ratio': '1.850', 'efficiency': '0.977', 'TP': '135', 'FP': '281', 'FN': '10', 'precision': '0.325', 'recall': '0.931', 'f1': '0.481', 'total_rewards': 131.1177217029176, 'invalid_action_count': 0, 'num_ms1_scans': 788, 'num_ms2_scans': 426}\n",
      "\n",
      "method = topN max_peaks = 200 N = 20 rt_tol = 120\n",
      "\n",
      "{'coverage_prop': '0.977', 'intensity_prop': '0.389', 'ms1ms2_ratio': '1.850', 'efficiency': '0.977', 'TP': '135', 'FP': '281', 'FN': '10', 'precision': '0.325', 'recall': '0.931', 'f1': '0.481', 'total_rewards': 131.1177217029176, 'invalid_action_count': 0, 'num_ms1_scans': 788, 'num_ms2_scans': 426}\n",
      "\n",
      "method = topN max_peaks = 200 N = 25 rt_tol = 120\n",
      "\n",
      "{'coverage_prop': '0.977', 'intensity_prop': '0.389', 'ms1ms2_ratio': '1.850', 'efficiency': '0.977', 'TP': '135', 'FP': '281', 'FN': '10', 'precision': '0.325', 'recall': '0.931', 'f1': '0.481', 'total_rewards': 131.1177217029176, 'invalid_action_count': 0, 'num_ms1_scans': 788, 'num_ms2_scans': 426}\n",
      "\n",
      "method = topN max_peaks = 200 N = 1 rt_tol = 240\n",
      "\n",
      "{'coverage_prop': '0.967', 'intensity_prop': '0.417', 'ms1ms2_ratio': '2.046', 'efficiency': '1.048', 'TP': '162', 'FP': '250', 'FN': '14', 'precision': '0.393', 'recall': '0.920', 'f1': '0.551', 'total_rewards': 125.55920383480428, 'invalid_action_count': 0, 'num_ms1_scans': 804, 'num_ms2_scans': 393}\n",
      "\n",
      "method = topN max_peaks = 200 N = 2 rt_tol = 240\n",
      "\n",
      "{'coverage_prop': '0.977', 'intensity_prop': '0.382', 'ms1ms2_ratio': '1.995', 'efficiency': '1.037', 'TP': '128', 'FP': '288', 'FN': '10', 'precision': '0.308', 'recall': '0.928', 'f1': '0.462', 'total_rewards': 126.16675667114093, 'invalid_action_count': 0, 'num_ms1_scans': 800, 'num_ms2_scans': 401}\n",
      "\n",
      "method = topN max_peaks = 200 N = 5 rt_tol = 240\n",
      "\n",
      "{'coverage_prop': '0.977', 'intensity_prop': '0.377', 'ms1ms2_ratio': '1.983', 'efficiency': '1.032', 'TP': '130', 'FP': '286', 'FN': '10', 'precision': '0.312', 'recall': '0.929', 'f1': '0.468', 'total_rewards': 126.64562714706005, 'invalid_action_count': 0, 'num_ms1_scans': 799, 'num_ms2_scans': 403}\n",
      "\n",
      "method = topN max_peaks = 200 N = 10 rt_tol = 240\n",
      "\n",
      "{'coverage_prop': '0.977', 'intensity_prop': '0.377', 'ms1ms2_ratio': '1.983', 'efficiency': '1.032', 'TP': '130', 'FP': '286', 'FN': '10', 'precision': '0.312', 'recall': '0.929', 'f1': '0.468', 'total_rewards': 126.64562714706005, 'invalid_action_count': 0, 'num_ms1_scans': 799, 'num_ms2_scans': 403}\n",
      "\n",
      "method = topN max_peaks = 200 N = 15 rt_tol = 240\n",
      "\n",
      "{'coverage_prop': '0.977', 'intensity_prop': '0.377', 'ms1ms2_ratio': '1.983', 'efficiency': '1.032', 'TP': '130', 'FP': '286', 'FN': '10', 'precision': '0.312', 'recall': '0.929', 'f1': '0.468', 'total_rewards': 126.64562714706005, 'invalid_action_count': 0, 'num_ms1_scans': 799, 'num_ms2_scans': 403}\n",
      "\n",
      "method = topN max_peaks = 200 N = 20 rt_tol = 240\n",
      "\n",
      "{'coverage_prop': '0.977', 'intensity_prop': '0.377', 'ms1ms2_ratio': '1.983', 'efficiency': '1.032', 'TP': '130', 'FP': '286', 'FN': '10', 'precision': '0.312', 'recall': '0.929', 'f1': '0.468', 'total_rewards': 126.64562714706005, 'invalid_action_count': 0, 'num_ms1_scans': 799, 'num_ms2_scans': 403}\n",
      "\n",
      "method = topN max_peaks = 200 N = 25 rt_tol = 240\n",
      "\n",
      "{'coverage_prop': '0.977', 'intensity_prop': '0.377', 'ms1ms2_ratio': '1.983', 'efficiency': '1.032', 'TP': '130', 'FP': '286', 'FN': '10', 'precision': '0.312', 'recall': '0.929', 'f1': '0.468', 'total_rewards': 126.64562714706005, 'invalid_action_count': 0, 'num_ms1_scans': 799, 'num_ms2_scans': 403}\n",
      "\n",
      "method = topN max_peaks = 200 N = 1 rt_tol = 300\n",
      "\n",
      "{'coverage_prop': '0.967', 'intensity_prop': '0.415', 'ms1ms2_ratio': '2.046', 'efficiency': '1.048', 'TP': '162', 'FP': '250', 'FN': '14', 'precision': '0.393', 'recall': '0.920', 'f1': '0.551', 'total_rewards': 125.80357066217827, 'invalid_action_count': 0, 'num_ms1_scans': 804, 'num_ms2_scans': 393}\n",
      "\n",
      "method = topN max_peaks = 200 N = 2 rt_tol = 300\n",
      "\n",
      "{'coverage_prop': '0.977', 'intensity_prop': '0.381', 'ms1ms2_ratio': '1.995', 'efficiency': '1.037', 'TP': '128', 'FP': '288', 'FN': '10', 'precision': '0.308', 'recall': '0.928', 'f1': '0.462', 'total_rewards': 126.40984051946737, 'invalid_action_count': 0, 'num_ms1_scans': 800, 'num_ms2_scans': 401}\n",
      "\n",
      "method = topN max_peaks = 200 N = 5 rt_tol = 300\n",
      "\n",
      "{'coverage_prop': '0.977', 'intensity_prop': '0.376', 'ms1ms2_ratio': '1.995', 'efficiency': '1.037', 'TP': '128', 'FP': '288', 'FN': '10', 'precision': '0.308', 'recall': '0.928', 'f1': '0.462', 'total_rewards': 126.2680713697484, 'invalid_action_count': 0, 'num_ms1_scans': 800, 'num_ms2_scans': 401}\n",
      "\n",
      "method = topN max_peaks = 200 N = 10 rt_tol = 300\n",
      "\n",
      "{'coverage_prop': '0.977', 'intensity_prop': '0.376', 'ms1ms2_ratio': '1.995', 'efficiency': '1.037', 'TP': '128', 'FP': '288', 'FN': '10', 'precision': '0.308', 'recall': '0.928', 'f1': '0.462', 'total_rewards': 126.2680713697484, 'invalid_action_count': 0, 'num_ms1_scans': 800, 'num_ms2_scans': 401}\n",
      "\n",
      "method = topN max_peaks = 200 N = 15 rt_tol = 300\n",
      "\n",
      "{'coverage_prop': '0.977', 'intensity_prop': '0.376', 'ms1ms2_ratio': '1.995', 'efficiency': '1.037', 'TP': '128', 'FP': '288', 'FN': '10', 'precision': '0.308', 'recall': '0.928', 'f1': '0.462', 'total_rewards': 126.2680713697484, 'invalid_action_count': 0, 'num_ms1_scans': 800, 'num_ms2_scans': 401}\n",
      "\n",
      "method = topN max_peaks = 200 N = 20 rt_tol = 300\n",
      "\n",
      "{'coverage_prop': '0.977', 'intensity_prop': '0.376', 'ms1ms2_ratio': '1.995', 'efficiency': '1.037', 'TP': '128', 'FP': '288', 'FN': '10', 'precision': '0.308', 'recall': '0.928', 'f1': '0.462', 'total_rewards': 126.2680713697484, 'invalid_action_count': 0, 'num_ms1_scans': 800, 'num_ms2_scans': 401}\n",
      "\n",
      "method = topN max_peaks = 200 N = 25 rt_tol = 300\n",
      "\n",
      "{'coverage_prop': '0.977', 'intensity_prop': '0.376', 'ms1ms2_ratio': '1.995', 'efficiency': '1.037', 'TP': '128', 'FP': '288', 'FN': '10', 'precision': '0.308', 'recall': '0.928', 'f1': '0.462', 'total_rewards': 126.2680713697484, 'invalid_action_count': 0, 'num_ms1_scans': 800, 'num_ms2_scans': 401}\n",
      "\n"
     ]
    }
   ],
   "source": [
    "topN_res = {}\n",
    "for topN_rt_tol in rt_tols:\n",
    "    for topN_N in Ns:\n",
    "\n",
    "        copy_params = copy.deepcopy(params)            \n",
    "        custom_objects = {\n",
    "            \"learning_rate\": 0.0,\n",
    "            \"lr_schedule\": lambda _: 0.0,\n",
    "            \"clip_range\": lambda _: 0.0,\n",
    "        }    \n",
    "\n",
    "        model = None\n",
    "        if method == METHOD_TOPN:\n",
    "            N = topN_N\n",
    "            effective_rt_tol = topN_rt_tol\n",
    "            copy_params = dict(params)\n",
    "            copy_params['env']['use_dew'] = True\n",
    "            copy_params['env']['rt_tol'] = effective_rt_tol                        \n",
    "\n",
    "        banner = 'method = %s max_peaks = %d N = %d rt_tol = %d' % (method, max_peaks, N, copy_params['env']['rt_tol'])\n",
    "        print(banner)\n",
    "        print()            \n",
    "\n",
    "        episodic_results = run_method(env_name, copy_params, max_peaks, chem_list, method, out_dir, \n",
    "                                      N=N, min_ms1_intensity=min_ms1_intensity, model=model,\n",
    "                                      print_eval=True, print_reward=False, intensity_threshold=intensity_threshold,\n",
    "                                      mzml_prefix=method, horizon=horizon, write_mzML=False)\n",
    "        eval_results = [er.eval_res for er in episodic_results]\n",
    "\n",
    "        key = (topN_N, topN_rt_tol)\n",
    "        topN_res[key] = eval_results\n",
    "        print()    "
   ]
  },
  {
   "cell_type": "code",
   "execution_count": 16,
   "metadata": {
    "pycharm": {
     "name": "#%%\n"
    }
   },
   "outputs": [],
   "source": [
    "method_eval_results = {\n",
    "    method: topN_res\n",
    "}"
   ]
  },
  {
   "cell_type": "markdown",
   "metadata": {
    "pycharm": {
     "name": "#%% md\n"
    }
   },
   "source": [
    "#### Test classic controllers in ViMMS"
   ]
  },
  {
   "cell_type": "code",
   "execution_count": 17,
   "metadata": {
    "pycharm": {
     "name": "#%%\n"
    }
   },
   "outputs": [],
   "source": [
    "from vimms.MassSpec import IndependentMassSpectrometer\n",
    "from vimms.Controller import TopNController, TopN_SmartRoiController, WeightedDEWController\n",
    "from vimms.Environment import Environment"
   ]
  },
  {
   "cell_type": "code",
   "execution_count": 18,
   "metadata": {},
   "outputs": [
    {
     "data": {
      "text/plain": [
       "{'chemical_creator': {'mz_range': (100, 600),\n",
       "  'rt_range': (400, 800),\n",
       "  'intensity_range': (10000.0, 1e+20),\n",
       "  'n_chemicals': (200, 500),\n",
       "  'mz_sampler': <vimms.ChemicalSamplers.MZMLFormulaSampler at 0x7f8d4b33c5e0>,\n",
       "  'ri_sampler': <vimms.ChemicalSamplers.MZMLRTandIntensitySampler at 0x7f8d39d0d160>,\n",
       "  'cr_sampler': <vimms.ChemicalSamplers.MZMLChromatogramSampler at 0x7f8d39d2b400>},\n",
       " 'noise': {'enable_spike_noise': True,\n",
       "  'noise_density': 0.1,\n",
       "  'noise_max_val': 1000.0,\n",
       "  'mz_range': (100, 600)},\n",
       " 'env': {'ionisation_mode': 'Positive',\n",
       "  'rt_range': (400, 800),\n",
       "  'isolation_window': 0.7,\n",
       "  'use_dew': True,\n",
       "  'mz_tol': 10,\n",
       "  'rt_tol': 300,\n",
       "  'min_ms1_intensity': 5000,\n",
       "  'alpha': 0.25,\n",
       "  'beta': 0.5}}"
      ]
     },
     "execution_count": 18,
     "metadata": {},
     "output_type": "execute_result"
    }
   ],
   "source": [
    "params"
   ]
  },
  {
   "cell_type": "code",
   "execution_count": 19,
   "metadata": {},
   "outputs": [],
   "source": [
    "enable_spike_noise = params['noise']['enable_spike_noise']\n",
    "ionisation_mode = params['env']['ionisation_mode']\n",
    "isolation_window = params['env']['isolation_window']\n",
    "mz_tol = params['env']['mz_tol']\n",
    "rt_range = params['chemical_creator']['rt_range']"
   ]
  },
  {
   "cell_type": "code",
   "execution_count": 20,
   "metadata": {
    "pycharm": {
     "name": "#%%\n"
    }
   },
   "outputs": [],
   "source": [
    "spike_noise = None\n",
    "if enable_spike_noise:\n",
    "    noise_params = params['noise']\n",
    "    noise_density = noise_params['noise_density']\n",
    "    noise_max_val = noise_params['noise_max_val']\n",
    "    noise_min_mz = noise_params['mz_range'][0]\n",
    "    noise_max_mz = noise_params['mz_range'][1]\n",
    "    spike_noise = UniformSpikeNoise(noise_density, noise_max_val, min_mz=noise_min_mz,\n",
    "                                    max_mz=noise_max_mz)"
   ]
  },
  {
   "cell_type": "markdown",
   "metadata": {
    "pycharm": {
     "name": "#%% md\n"
    }
   },
   "source": [
    "Run Top-N Controller"
   ]
  },
  {
   "cell_type": "code",
   "execution_count": 21,
   "metadata": {},
   "outputs": [
    {
     "data": {
      "text/plain": [
       "(400, 800)"
      ]
     },
     "execution_count": 21,
     "metadata": {},
     "output_type": "execute_result"
    }
   ],
   "source": [
    "rt_range"
   ]
  },
  {
   "cell_type": "code",
   "execution_count": 22,
   "metadata": {
    "pycharm": {
     "name": "#%%\n"
    }
   },
   "outputs": [
    {
     "name": "stdout",
     "output_type": "stream",
     "text": [
      "method = TopN_Controller\n",
      "\n",
      "1 2 {'coverage_prop': '0.390', 'intensity_prop': '0.237', 'ms1ms2_ratio': '1.072', 'efficiency': '0.261', 'TP': '107', 'FP': '59', 'FN': '260', 'precision': '0.645', 'recall': '0.292', 'f1': '0.402'}\n",
      "2 2 {'coverage_prop': '0.540', 'intensity_prop': '0.359', 'ms1ms2_ratio': '0.556', 'efficiency': '0.243', 'TP': '169', 'FP': '61', 'FN': '196', 'precision': '0.735', 'recall': '0.463', 'f1': '0.568'}\n",
      "5 2 {'coverage_prop': '0.768', 'intensity_prop': '0.556', 'ms1ms2_ratio': '0.245', 'efficiency': '0.244', 'TP': '259', 'FP': '68', 'FN': '99', 'precision': '0.792', 'recall': '0.723', 'f1': '0.756'}\n",
      "10 2 {'coverage_prop': '0.768', 'intensity_prop': '0.567', 'ms1ms2_ratio': '0.144', 'efficiency': '0.211', 'TP': '267', 'FP': '60', 'FN': '99', 'precision': '0.817', 'recall': '0.730', 'f1': '0.771'}\n",
      "15 2 {'coverage_prop': '0.890', 'intensity_prop': '0.687', 'ms1ms2_ratio': '0.113', 'efficiency': '0.232', 'TP': '335', 'FP': '44', 'FN': '47', 'precision': '0.884', 'recall': '0.877', 'f1': '0.880'}\n",
      "20 2 {'coverage_prop': '0.934', 'intensity_prop': '0.714', 'ms1ms2_ratio': '0.100', 'efficiency': '0.239', 'TP': '343', 'FP': '55', 'FN': '28', 'precision': '0.862', 'recall': '0.925', 'f1': '0.892'}\n",
      "25 2 {'coverage_prop': '0.939', 'intensity_prop': '0.729', 'ms1ms2_ratio': '0.093', 'efficiency': '0.237', 'TP': '357', 'FP': '43', 'FN': '26', 'precision': '0.892', 'recall': '0.932', 'f1': '0.912'}\n",
      "1 5 {'coverage_prop': '0.669', 'intensity_prop': '0.439', 'ms1ms2_ratio': '1.096', 'efficiency': '0.455', 'TP': '210', 'FP': '75', 'FN': '141', 'precision': '0.737', 'recall': '0.598', 'f1': '0.660'}\n",
      "2 5 {'coverage_prop': '0.857', 'intensity_prop': '0.640', 'ms1ms2_ratio': '0.575', 'efficiency': '0.392', 'TP': '305', 'FP': '60', 'FN': '61', 'precision': '0.836', 'recall': '0.833', 'f1': '0.834'}\n",
      "5 5 {'coverage_prop': '0.932', 'intensity_prop': '0.728', 'ms1ms2_ratio': '0.291', 'efficiency': '0.314', 'TP': '357', 'FP': '40', 'FN': '29', 'precision': '0.899', 'recall': '0.925', 'f1': '0.912'}\n",
      "10 5 {'coverage_prop': '0.960', 'intensity_prop': '0.746', 'ms1ms2_ratio': '0.215', 'efficiency': '0.293', 'TP': '366', 'FP': '43', 'FN': '17', 'precision': '0.895', 'recall': '0.956', 'f1': '0.924'}\n",
      "15 5 {'coverage_prop': '0.965', 'intensity_prop': '0.742', 'ms1ms2_ratio': '0.190', 'efficiency': '0.283', 'TP': '359', 'FP': '52', 'FN': '15', 'precision': '0.873', 'recall': '0.960', 'f1': '0.915'}\n",
      "20 5 {'coverage_prop': '0.965', 'intensity_prop': '0.744', 'ms1ms2_ratio': '0.183', 'efficiency': '0.281', 'TP': '367', 'FP': '44', 'FN': '15', 'precision': '0.893', 'recall': '0.961', 'f1': '0.926'}\n",
      "25 5 {'coverage_prop': '0.953', 'intensity_prop': '0.730', 'ms1ms2_ratio': '0.174', 'efficiency': '0.274', 'TP': '355', 'FP': '51', 'FN': '20', 'precision': '0.874', 'recall': '0.947', 'f1': '0.909'}\n",
      "1 15 {'coverage_prop': '0.908', 'intensity_prop': '0.547', 'ms1ms2_ratio': '1.246', 'efficiency': '0.675', 'TP': '246', 'FP': '141', 'FN': '39', 'precision': '0.636', 'recall': '0.863', 'f1': '0.732'}\n",
      "2 15 {'coverage_prop': '0.974', 'intensity_prop': '0.540', 'ms1ms2_ratio': '0.897', 'efficiency': '0.580', 'TP': '239', 'FP': '176', 'FN': '11', 'precision': '0.576', 'recall': '0.956', 'f1': '0.719'}\n",
      "5 15 {'coverage_prop': '0.979', 'intensity_prop': '0.526', 'ms1ms2_ratio': '0.792', 'efficiency': '0.539', 'TP': '230', 'FP': '187', 'FN': '9', 'precision': '0.552', 'recall': '0.962', 'f1': '0.701'}\n",
      "10 15 {'coverage_prop': '0.979', 'intensity_prop': '0.530', 'ms1ms2_ratio': '0.782', 'efficiency': '0.535', 'TP': '228', 'FP': '189', 'FN': '9', 'precision': '0.547', 'recall': '0.962', 'f1': '0.697'}\n",
      "15 15 {'coverage_prop': '0.979', 'intensity_prop': '0.522', 'ms1ms2_ratio': '0.772', 'efficiency': '0.531', 'TP': '227', 'FP': '190', 'FN': '9', 'precision': '0.544', 'recall': '0.962', 'f1': '0.695'}\n",
      "20 15 {'coverage_prop': '0.979', 'intensity_prop': '0.522', 'ms1ms2_ratio': '0.772', 'efficiency': '0.531', 'TP': '227', 'FP': '190', 'FN': '9', 'precision': '0.544', 'recall': '0.962', 'f1': '0.695'}\n",
      "25 15 {'coverage_prop': '0.979', 'intensity_prop': '0.522', 'ms1ms2_ratio': '0.772', 'efficiency': '0.531', 'TP': '227', 'FP': '190', 'FN': '9', 'precision': '0.544', 'recall': '0.962', 'f1': '0.695'}\n",
      "1 30 {'coverage_prop': '0.951', 'intensity_prop': '0.488', 'ms1ms2_ratio': '1.546', 'efficiency': '0.828', 'TP': '206', 'FP': '199', 'FN': '21', 'precision': '0.509', 'recall': '0.907', 'f1': '0.652'}\n",
      "2 30 {'coverage_prop': '0.974', 'intensity_prop': '0.456', 'ms1ms2_ratio': '1.380', 'efficiency': '0.780', 'TP': '172', 'FP': '243', 'FN': '11', 'precision': '0.414', 'recall': '0.940', 'f1': '0.575'}\n",
      "5 30 {'coverage_prop': '0.977', 'intensity_prop': '0.434', 'ms1ms2_ratio': '1.349', 'efficiency': '0.769', 'TP': '159', 'FP': '257', 'FN': '10', 'precision': '0.382', 'recall': '0.941', 'f1': '0.544'}\n",
      "10 30 {'coverage_prop': '0.977', 'intensity_prop': '0.434', 'ms1ms2_ratio': '1.349', 'efficiency': '0.769', 'TP': '159', 'FP': '257', 'FN': '10', 'precision': '0.382', 'recall': '0.941', 'f1': '0.544'}\n",
      "15 30 {'coverage_prop': '0.977', 'intensity_prop': '0.434', 'ms1ms2_ratio': '1.349', 'efficiency': '0.769', 'TP': '159', 'FP': '257', 'FN': '10', 'precision': '0.382', 'recall': '0.941', 'f1': '0.544'}\n",
      "20 30 {'coverage_prop': '0.977', 'intensity_prop': '0.434', 'ms1ms2_ratio': '1.349', 'efficiency': '0.769', 'TP': '159', 'FP': '257', 'FN': '10', 'precision': '0.382', 'recall': '0.941', 'f1': '0.544'}\n",
      "25 30 {'coverage_prop': '0.977', 'intensity_prop': '0.434', 'ms1ms2_ratio': '1.349', 'efficiency': '0.769', 'TP': '159', 'FP': '257', 'FN': '10', 'precision': '0.382', 'recall': '0.941', 'f1': '0.544'}\n",
      "1 60 {'coverage_prop': '0.955', 'intensity_prop': '0.425', 'ms1ms2_ratio': '1.850', 'efficiency': '0.955', 'TP': '165', 'FP': '242', 'FN': '19', 'precision': '0.405', 'recall': '0.897', 'f1': '0.558'}\n",
      "2 60 {'coverage_prop': '0.977', 'intensity_prop': '0.406', 'ms1ms2_ratio': '1.755', 'efficiency': '0.937', 'TP': '151', 'FP': '265', 'FN': '10', 'precision': '0.363', 'recall': '0.938', 'f1': '0.523'}\n",
      "5 60 {'coverage_prop': '0.977', 'intensity_prop': '0.385', 'ms1ms2_ratio': '1.744', 'efficiency': '0.933', 'TP': '134', 'FP': '282', 'FN': '10', 'precision': '0.322', 'recall': '0.931', 'f1': '0.479'}\n",
      "10 60 {'coverage_prop': '0.977', 'intensity_prop': '0.385', 'ms1ms2_ratio': '1.744', 'efficiency': '0.933', 'TP': '133', 'FP': '283', 'FN': '10', 'precision': '0.320', 'recall': '0.930', 'f1': '0.476'}\n",
      "15 60 {'coverage_prop': '0.977', 'intensity_prop': '0.385', 'ms1ms2_ratio': '1.744', 'efficiency': '0.933', 'TP': '133', 'FP': '283', 'FN': '10', 'precision': '0.320', 'recall': '0.930', 'f1': '0.476'}\n",
      "20 60 {'coverage_prop': '0.977', 'intensity_prop': '0.385', 'ms1ms2_ratio': '1.744', 'efficiency': '0.933', 'TP': '133', 'FP': '283', 'FN': '10', 'precision': '0.320', 'recall': '0.930', 'f1': '0.476'}\n",
      "25 60 {'coverage_prop': '0.977', 'intensity_prop': '0.385', 'ms1ms2_ratio': '1.744', 'efficiency': '0.933', 'TP': '133', 'FP': '283', 'FN': '10', 'precision': '0.320', 'recall': '0.930', 'f1': '0.476'}\n",
      "1 120 {'coverage_prop': '0.965', 'intensity_prop': '0.429', 'ms1ms2_ratio': '1.934', 'efficiency': '1.000', 'TP': '175', 'FP': '236', 'FN': '15', 'precision': '0.426', 'recall': '0.921', 'f1': '0.582'}\n",
      "2 120 {'coverage_prop': '0.977', 'intensity_prop': '0.399', 'ms1ms2_ratio': '1.850', 'efficiency': '0.977', 'TP': '143', 'FP': '273', 'FN': '10', 'precision': '0.344', 'recall': '0.935', 'f1': '0.503'}\n",
      "5 120 {'coverage_prop': '0.977', 'intensity_prop': '0.388', 'ms1ms2_ratio': '1.850', 'efficiency': '0.977', 'TP': '133', 'FP': '283', 'FN': '10', 'precision': '0.320', 'recall': '0.930', 'f1': '0.476'}\n",
      "10 120 {'coverage_prop': '0.977', 'intensity_prop': '0.387', 'ms1ms2_ratio': '1.850', 'efficiency': '0.977', 'TP': '133', 'FP': '283', 'FN': '10', 'precision': '0.320', 'recall': '0.930', 'f1': '0.476'}\n",
      "15 120 {'coverage_prop': '0.977', 'intensity_prop': '0.387', 'ms1ms2_ratio': '1.850', 'efficiency': '0.977', 'TP': '133', 'FP': '283', 'FN': '10', 'precision': '0.320', 'recall': '0.930', 'f1': '0.476'}\n",
      "20 120 {'coverage_prop': '0.977', 'intensity_prop': '0.387', 'ms1ms2_ratio': '1.850', 'efficiency': '0.977', 'TP': '133', 'FP': '283', 'FN': '10', 'precision': '0.320', 'recall': '0.930', 'f1': '0.476'}\n",
      "25 120 {'coverage_prop': '0.977', 'intensity_prop': '0.387', 'ms1ms2_ratio': '1.850', 'efficiency': '0.977', 'TP': '133', 'FP': '283', 'FN': '10', 'precision': '0.320', 'recall': '0.930', 'f1': '0.476'}\n",
      "1 240 {'coverage_prop': '0.967', 'intensity_prop': '0.417', 'ms1ms2_ratio': '2.046', 'efficiency': '1.048', 'TP': '162', 'FP': '250', 'FN': '14', 'precision': '0.393', 'recall': '0.920', 'f1': '0.551'}\n",
      "2 240 {'coverage_prop': '0.977', 'intensity_prop': '0.382', 'ms1ms2_ratio': '1.995', 'efficiency': '1.037', 'TP': '128', 'FP': '288', 'FN': '10', 'precision': '0.308', 'recall': '0.928', 'f1': '0.462'}\n",
      "5 240 {'coverage_prop': '0.977', 'intensity_prop': '0.377', 'ms1ms2_ratio': '1.983', 'efficiency': '1.032', 'TP': '130', 'FP': '286', 'FN': '10', 'precision': '0.312', 'recall': '0.929', 'f1': '0.468'}\n",
      "10 240 {'coverage_prop': '0.977', 'intensity_prop': '0.377', 'ms1ms2_ratio': '1.983', 'efficiency': '1.032', 'TP': '130', 'FP': '286', 'FN': '10', 'precision': '0.312', 'recall': '0.929', 'f1': '0.468'}\n",
      "15 240 {'coverage_prop': '0.977', 'intensity_prop': '0.377', 'ms1ms2_ratio': '1.983', 'efficiency': '1.032', 'TP': '130', 'FP': '286', 'FN': '10', 'precision': '0.312', 'recall': '0.929', 'f1': '0.468'}\n",
      "20 240 {'coverage_prop': '0.977', 'intensity_prop': '0.377', 'ms1ms2_ratio': '1.983', 'efficiency': '1.032', 'TP': '130', 'FP': '286', 'FN': '10', 'precision': '0.312', 'recall': '0.929', 'f1': '0.468'}\n",
      "25 240 {'coverage_prop': '0.977', 'intensity_prop': '0.377', 'ms1ms2_ratio': '1.983', 'efficiency': '1.032', 'TP': '130', 'FP': '286', 'FN': '10', 'precision': '0.312', 'recall': '0.929', 'f1': '0.468'}\n",
      "1 300 {'coverage_prop': '0.967', 'intensity_prop': '0.415', 'ms1ms2_ratio': '2.046', 'efficiency': '1.048', 'TP': '162', 'FP': '250', 'FN': '14', 'precision': '0.393', 'recall': '0.920', 'f1': '0.551'}\n",
      "2 300 {'coverage_prop': '0.977', 'intensity_prop': '0.381', 'ms1ms2_ratio': '1.995', 'efficiency': '1.037', 'TP': '128', 'FP': '288', 'FN': '10', 'precision': '0.308', 'recall': '0.928', 'f1': '0.462'}\n",
      "5 300 {'coverage_prop': '0.977', 'intensity_prop': '0.376', 'ms1ms2_ratio': '1.995', 'efficiency': '1.037', 'TP': '128', 'FP': '288', 'FN': '10', 'precision': '0.308', 'recall': '0.928', 'f1': '0.462'}\n",
      "10 300 {'coverage_prop': '0.977', 'intensity_prop': '0.376', 'ms1ms2_ratio': '1.995', 'efficiency': '1.037', 'TP': '128', 'FP': '288', 'FN': '10', 'precision': '0.308', 'recall': '0.928', 'f1': '0.462'}\n",
      "15 300 {'coverage_prop': '0.977', 'intensity_prop': '0.376', 'ms1ms2_ratio': '1.995', 'efficiency': '1.037', 'TP': '128', 'FP': '288', 'FN': '10', 'precision': '0.308', 'recall': '0.928', 'f1': '0.462'}\n",
      "20 300 {'coverage_prop': '0.977', 'intensity_prop': '0.376', 'ms1ms2_ratio': '1.995', 'efficiency': '1.037', 'TP': '128', 'FP': '288', 'FN': '10', 'precision': '0.308', 'recall': '0.928', 'f1': '0.462'}\n",
      "25 300 {'coverage_prop': '0.977', 'intensity_prop': '0.376', 'ms1ms2_ratio': '1.995', 'efficiency': '1.037', 'TP': '128', 'FP': '288', 'FN': '10', 'precision': '0.308', 'recall': '0.928', 'f1': '0.462'}\n"
     ]
    }
   ],
   "source": [
    "method = 'TopN_Controller'\n",
    "print('method = %s' % method)\n",
    "print()\n",
    "\n",
    "chems = chem_list[0]\n",
    "res = {}\n",
    "for rt_tol in rt_tols:\n",
    "    for N in Ns:\n",
    "\n",
    "        effective_rt_tol = rt_tol\n",
    "        mass_spec = IndependentMassSpectrometer(ionisation_mode, chems, spike_noise=spike_noise)\n",
    "        controller = TopNController(ionisation_mode, N, isolation_window, mz_tol, rt_tol,\n",
    "                                    min_ms1_intensity)\n",
    "        env = Environment(mass_spec, controller, rt_range[0], rt_range[1], progress_bar=False)\n",
    "        env.run()\n",
    "        eval_res = evaluate(env, intensity_threshold)\n",
    "        key = (N, rt_tol)\n",
    "        print(N, rt_tol, eval_res)\n",
    "        res[key] = eval_res\n",
    "\n",
    "method_eval_results[method] = res"
   ]
  },
  {
   "cell_type": "markdown",
   "metadata": {
    "pycharm": {
     "name": "#%% md\n"
    }
   },
   "source": [
    "Run SmartROI Controller"
   ]
  },
  {
   "cell_type": "code",
   "execution_count": 23,
   "metadata": {},
   "outputs": [],
   "source": [
    "alphas = [2, 3, 5, 10, 1E3, 1E6]\n",
    "betas = [0, 0.1, 0.5, 1, 5]\n",
    "initial_length_seconds_list = [0, 2, 5]\n",
    "smartroi_N = 10\n",
    "smartroi_dew = 5"
   ]
  },
  {
   "cell_type": "code",
   "execution_count": 24,
   "metadata": {
    "pycharm": {
     "name": "#%%\n"
    }
   },
   "outputs": [
    {
     "name": "stdout",
     "output_type": "stream",
     "text": [
      "method = SmartROI_Controller\n",
      "\n",
      "2 0 0 {'coverage_prop': '0.979', 'intensity_prop': '0.698', 'ms1ms2_ratio': '0.816', 'efficiency': '0.549', 'TP': '350', 'FP': '67', 'FN': '9', 'precision': '0.839', 'recall': '0.975', 'f1': '0.902'}\n",
      "2 0 2 {'coverage_prop': '0.960', 'intensity_prop': '0.696', 'ms1ms2_ratio': '0.833', 'efficiency': '0.545', 'TP': '350', 'FP': '59', 'FN': '17', 'precision': '0.856', 'recall': '0.954', 'f1': '0.902'}\n",
      "2 0 5 {'coverage_prop': '0.955', 'intensity_prop': '0.684', 'ms1ms2_ratio': '0.897', 'efficiency': '0.568', 'TP': '348', 'FP': '59', 'FN': '19', 'precision': '0.855', 'recall': '0.948', 'f1': '0.899'}\n",
      "2 0.1 0 {'coverage_prop': '0.979', 'intensity_prop': '0.698', 'ms1ms2_ratio': '0.815', 'efficiency': '0.548', 'TP': '350', 'FP': '67', 'FN': '9', 'precision': '0.839', 'recall': '0.975', 'f1': '0.902'}\n",
      "2 0.1 2 {'coverage_prop': '0.960', 'intensity_prop': '0.697', 'ms1ms2_ratio': '0.825', 'efficiency': '0.542', 'TP': '351', 'FP': '58', 'FN': '17', 'precision': '0.858', 'recall': '0.954', 'f1': '0.903'}\n",
      "2 0.1 5 {'coverage_prop': '0.958', 'intensity_prop': '0.683', 'ms1ms2_ratio': '0.897', 'efficiency': '0.570', 'TP': '346', 'FP': '62', 'FN': '18', 'precision': '0.848', 'recall': '0.951', 'f1': '0.896'}\n",
      "2 0.5 0 {'coverage_prop': '0.977', 'intensity_prop': '0.708', 'ms1ms2_ratio': '0.795', 'efficiency': '0.539', 'TP': '359', 'FP': '57', 'FN': '10', 'precision': '0.863', 'recall': '0.973', 'f1': '0.915'}\n",
      "2 0.5 2 {'coverage_prop': '0.960', 'intensity_prop': '0.696', 'ms1ms2_ratio': '0.811', 'efficiency': '0.536', 'TP': '351', 'FP': '58', 'FN': '17', 'precision': '0.858', 'recall': '0.954', 'f1': '0.903'}\n",
      "2 0.5 5 {'coverage_prop': '0.955', 'intensity_prop': '0.692', 'ms1ms2_ratio': '0.866', 'efficiency': '0.556', 'TP': '355', 'FP': '52', 'FN': '19', 'precision': '0.872', 'recall': '0.949', 'f1': '0.909'}\n",
      "2 1 0 {'coverage_prop': '0.979', 'intensity_prop': '0.705', 'ms1ms2_ratio': '0.782', 'efficiency': '0.535', 'TP': '359', 'FP': '58', 'FN': '9', 'precision': '0.861', 'recall': '0.976', 'f1': '0.915'}\n",
      "2 1 2 {'coverage_prop': '0.960', 'intensity_prop': '0.710', 'ms1ms2_ratio': '0.776', 'efficiency': '0.522', 'TP': '356', 'FP': '53', 'FN': '17', 'precision': '0.870', 'recall': '0.954', 'f1': '0.910'}\n",
      "2 1 5 {'coverage_prop': '0.960', 'intensity_prop': '0.688', 'ms1ms2_ratio': '0.830', 'efficiency': '0.544', 'TP': '349', 'FP': '60', 'FN': '17', 'precision': '0.853', 'recall': '0.954', 'f1': '0.901'}\n",
      "2 5 0 {'coverage_prop': '0.979', 'intensity_prop': '0.706', 'ms1ms2_ratio': '0.725', 'efficiency': '0.511', 'TP': '358', 'FP': '59', 'FN': '9', 'precision': '0.859', 'recall': '0.975', 'f1': '0.913'}\n",
      "2 5 2 {'coverage_prop': '0.958', 'intensity_prop': '0.705', 'ms1ms2_ratio': '0.744', 'efficiency': '0.507', 'TP': '357', 'FP': '51', 'FN': '18', 'precision': '0.875', 'recall': '0.952', 'f1': '0.912'}\n",
      "2 5 5 {'coverage_prop': '0.955', 'intensity_prop': '0.689', 'ms1ms2_ratio': '0.785', 'efficiency': '0.523', 'TP': '355', 'FP': '52', 'FN': '19', 'precision': '0.872', 'recall': '0.949', 'f1': '0.909'}\n",
      "3 0 0 {'coverage_prop': '0.977', 'intensity_prop': '0.604', 'ms1ms2_ratio': '1.103', 'efficiency': '0.667', 'TP': '273', 'FP': '143', 'FN': '10', 'precision': '0.656', 'recall': '0.965', 'f1': '0.781'}\n",
      "3 0 2 {'coverage_prop': '0.955', 'intensity_prop': '0.602', 'ms1ms2_ratio': '1.127', 'efficiency': '0.662', 'TP': '272', 'FP': '135', 'FN': '19', 'precision': '0.668', 'recall': '0.935', 'f1': '0.779'}\n",
      "3 0 5 {'coverage_prop': '0.953', 'intensity_prop': '0.585', 'ms1ms2_ratio': '1.224', 'efficiency': '0.700', 'TP': '269', 'FP': '137', 'FN': '20', 'precision': '0.663', 'recall': '0.931', 'f1': '0.774'}\n",
      "3 0.1 0 {'coverage_prop': '0.977', 'intensity_prop': '0.612', 'ms1ms2_ratio': '1.096', 'efficiency': '0.663', 'TP': '280', 'FP': '136', 'FN': '10', 'precision': '0.673', 'recall': '0.966', 'f1': '0.793'}\n",
      "3 0.1 2 {'coverage_prop': '0.955', 'intensity_prop': '0.591', 'ms1ms2_ratio': '1.137', 'efficiency': '0.666', 'TP': '267', 'FP': '140', 'FN': '19', 'precision': '0.656', 'recall': '0.934', 'f1': '0.771'}\n",
      "3 0.1 5 {'coverage_prop': '0.953', 'intensity_prop': '0.588', 'ms1ms2_ratio': '1.201', 'efficiency': '0.690', 'TP': '264', 'FP': '142', 'FN': '20', 'precision': '0.650', 'recall': '0.930', 'f1': '0.765'}\n",
      "3 0.5 0 {'coverage_prop': '0.977', 'intensity_prop': '0.622', 'ms1ms2_ratio': '1.066', 'efficiency': '0.651', 'TP': '284', 'FP': '132', 'FN': '10', 'precision': '0.683', 'recall': '0.966', 'f1': '0.800'}\n",
      "3 0.5 2 {'coverage_prop': '0.955', 'intensity_prop': '0.599', 'ms1ms2_ratio': '1.087', 'efficiency': '0.646', 'TP': '271', 'FP': '136', 'FN': '19', 'precision': '0.666', 'recall': '0.934', 'f1': '0.778'}\n",
      "3 0.5 5 {'coverage_prop': '0.953', 'intensity_prop': '0.595', 'ms1ms2_ratio': '1.167', 'efficiency': '0.677', 'TP': '282', 'FP': '124', 'FN': '20', 'precision': '0.695', 'recall': '0.934', 'f1': '0.797'}\n",
      "3 1 0 {'coverage_prop': '0.977', 'intensity_prop': '0.615', 'ms1ms2_ratio': '1.032', 'efficiency': '0.637', 'TP': '277', 'FP': '139', 'FN': '10', 'precision': '0.666', 'recall': '0.965', 'f1': '0.788'}\n",
      "3 1 2 {'coverage_prop': '0.958', 'intensity_prop': '0.607', 'ms1ms2_ratio': '1.042', 'efficiency': '0.629', 'TP': '278', 'FP': '130', 'FN': '18', 'precision': '0.681', 'recall': '0.939', 'f1': '0.790'}\n",
      "3 1 5 {'coverage_prop': '0.955', 'intensity_prop': '0.590', 'ms1ms2_ratio': '1.123', 'efficiency': '0.661', 'TP': '270', 'FP': '137', 'FN': '19', 'precision': '0.663', 'recall': '0.934', 'f1': '0.776'}\n",
      "3 5 0 {'coverage_prop': '0.977', 'intensity_prop': '0.618', 'ms1ms2_ratio': '0.935', 'efficiency': '0.597', 'TP': '286', 'FP': '130', 'FN': '10', 'precision': '0.688', 'recall': '0.966', 'f1': '0.803'}\n",
      "3 5 2 {'coverage_prop': '0.955', 'intensity_prop': '0.610', 'ms1ms2_ratio': '0.965', 'efficiency': '0.596', 'TP': '284', 'FP': '123', 'FN': '19', 'precision': '0.698', 'recall': '0.937', 'f1': '0.800'}\n",
      "3 5 5 {'coverage_prop': '0.951', 'intensity_prop': '0.602', 'ms1ms2_ratio': '1.024', 'efficiency': '0.617', 'TP': '285', 'FP': '120', 'FN': '21', 'precision': '0.704', 'recall': '0.931', 'f1': '0.802'}\n",
      "5 0 0 {'coverage_prop': '0.977', 'intensity_prop': '0.515', 'ms1ms2_ratio': '1.394', 'efficiency': '0.788', 'TP': '203', 'FP': '213', 'FN': '10', 'precision': '0.488', 'recall': '0.953', 'f1': '0.645'}\n",
      "5 0 2 {'coverage_prop': '0.955', 'intensity_prop': '0.502', 'ms1ms2_ratio': '1.446', 'efficiency': '0.792', 'TP': '199', 'FP': '208', 'FN': '19', 'precision': '0.489', 'recall': '0.913', 'f1': '0.637'}\n",
      "5 0 5 {'coverage_prop': '0.953', 'intensity_prop': '0.503', 'ms1ms2_ratio': '1.521', 'efficiency': '0.820', 'TP': '208', 'FP': '198', 'FN': '20', 'precision': '0.512', 'recall': '0.912', 'f1': '0.656'}\n",
      "5 0.1 0 {'coverage_prop': '0.977', 'intensity_prop': '0.519', 'ms1ms2_ratio': '1.377', 'efficiency': '0.780', 'TP': '208', 'FP': '208', 'FN': '10', 'precision': '0.500', 'recall': '0.954', 'f1': '0.656'}\n",
      "5 0.1 2 {'coverage_prop': '0.955', 'intensity_prop': '0.508', 'ms1ms2_ratio': '1.413', 'efficiency': '0.778', 'TP': '200', 'FP': '207', 'FN': '19', 'precision': '0.491', 'recall': '0.913', 'f1': '0.639'}\n",
      "5 0.1 5 {'coverage_prop': '0.953', 'intensity_prop': '0.510', 'ms1ms2_ratio': '1.492', 'efficiency': '0.809', 'TP': '211', 'FP': '195', 'FN': '20', 'precision': '0.520', 'recall': '0.913', 'f1': '0.662'}\n",
      "5 0.5 0 {'coverage_prop': '0.977', 'intensity_prop': '0.523', 'ms1ms2_ratio': '1.349', 'efficiency': '0.769', 'TP': '215', 'FP': '201', 'FN': '10', 'precision': '0.517', 'recall': '0.956', 'f1': '0.671'}\n",
      "5 0.5 2 {'coverage_prop': '0.955', 'intensity_prop': '0.504', 'ms1ms2_ratio': '1.387', 'efficiency': '0.768', 'TP': '196', 'FP': '211', 'FN': '19', 'precision': '0.482', 'recall': '0.912', 'f1': '0.630'}\n",
      "5 0.5 5 {'coverage_prop': '0.953', 'intensity_prop': '0.504', 'ms1ms2_ratio': '1.476', 'efficiency': '0.802', 'TP': '212', 'FP': '194', 'FN': '20', 'precision': '0.522', 'recall': '0.914', 'f1': '0.665'}\n",
      "5 1 0 {'coverage_prop': '0.977', 'intensity_prop': '0.538', 'ms1ms2_ratio': '1.252', 'efficiency': '0.729', 'TP': '219', 'FP': '197', 'FN': '10', 'precision': '0.526', 'recall': '0.956', 'f1': '0.679'}\n",
      "5 1 2 {'coverage_prop': '0.958', 'intensity_prop': '0.516', 'ms1ms2_ratio': '1.286', 'efficiency': '0.729', 'TP': '208', 'FP': '200', 'FN': '18', 'precision': '0.510', 'recall': '0.920', 'f1': '0.656'}\n",
      "5 1 5 {'coverage_prop': '0.955', 'intensity_prop': '0.507', 'ms1ms2_ratio': '1.366', 'efficiency': '0.759', 'TP': '210', 'FP': '197', 'FN': '19', 'precision': '0.516', 'recall': '0.917', 'f1': '0.660'}\n",
      "5 5 0 {'coverage_prop': '0.977', 'intensity_prop': '0.551', 'ms1ms2_ratio': '1.108', 'efficiency': '0.669', 'TP': '237', 'FP': '179', 'FN': '10', 'precision': '0.570', 'recall': '0.960', 'f1': '0.715'}\n",
      "5 5 2 {'coverage_prop': '0.955', 'intensity_prop': '0.534', 'ms1ms2_ratio': '1.137', 'efficiency': '0.666', 'TP': '221', 'FP': '186', 'FN': '19', 'precision': '0.543', 'recall': '0.921', 'f1': '0.683'}\n",
      "5 5 5 {'coverage_prop': '0.953', 'intensity_prop': '0.521', 'ms1ms2_ratio': '1.224', 'efficiency': '0.700', 'TP': '224', 'FP': '182', 'FN': '20', 'precision': '0.552', 'recall': '0.918', 'f1': '0.689'}\n",
      "10 0 0 {'coverage_prop': '0.977', 'intensity_prop': '0.431', 'ms1ms2_ratio': '1.680', 'efficiency': '0.906', 'TP': '156', 'FP': '260', 'FN': '10', 'precision': '0.375', 'recall': '0.940', 'f1': '0.536'}\n",
      "10 0 2 {'coverage_prop': '0.955', 'intensity_prop': '0.420', 'ms1ms2_ratio': '1.748', 'efficiency': '0.915', 'TP': '147', 'FP': '260', 'FN': '19', 'precision': '0.361', 'recall': '0.886', 'f1': '0.513'}\n",
      "10 0 5 {'coverage_prop': '0.955', 'intensity_prop': '0.422', 'ms1ms2_ratio': '1.832', 'efficiency': '0.949', 'TP': '162', 'FP': '245', 'FN': '19', 'precision': '0.398', 'recall': '0.895', 'f1': '0.551'}\n",
      "10 0.1 0 {'coverage_prop': '0.977', 'intensity_prop': '0.429', 'ms1ms2_ratio': '1.667', 'efficiency': '0.900', 'TP': '149', 'FP': '267', 'FN': '10', 'precision': '0.358', 'recall': '0.937', 'f1': '0.518'}\n",
      "10 0.1 2 {'coverage_prop': '0.955', 'intensity_prop': '0.420', 'ms1ms2_ratio': '1.734', 'efficiency': '0.908', 'TP': '145', 'FP': '262', 'FN': '19', 'precision': '0.356', 'recall': '0.884', 'f1': '0.508'}\n",
      "10 0.1 5 {'coverage_prop': '0.955', 'intensity_prop': '0.429', 'ms1ms2_ratio': '1.811', 'efficiency': '0.940', 'TP': '164', 'FP': '243', 'FN': '19', 'precision': '0.403', 'recall': '0.896', 'f1': '0.556'}\n",
      "10 0.5 0 {'coverage_prop': '0.977', 'intensity_prop': '0.436', 'ms1ms2_ratio': '1.612', 'efficiency': '0.878', 'TP': '156', 'FP': '260', 'FN': '10', 'precision': '0.375', 'recall': '0.940', 'f1': '0.536'}\n",
      "10 0.5 2 {'coverage_prop': '0.955', 'intensity_prop': '0.426', 'ms1ms2_ratio': '1.686', 'efficiency': '0.889', 'TP': '156', 'FP': '251', 'FN': '19', 'precision': '0.383', 'recall': '0.891', 'f1': '0.536'}\n",
      "10 0.5 5 {'coverage_prop': '0.955', 'intensity_prop': '0.432', 'ms1ms2_ratio': '1.718', 'efficiency': '0.902', 'TP': '165', 'FP': '242', 'FN': '19', 'precision': '0.405', 'recall': '0.897', 'f1': '0.558'}\n",
      "10 1 0 {'coverage_prop': '0.977', 'intensity_prop': '0.448', 'ms1ms2_ratio': '1.492', 'efficiency': '0.829', 'TP': '169', 'FP': '247', 'FN': '10', 'precision': '0.406', 'recall': '0.944', 'f1': '0.568'}\n",
      "10 1 2 {'coverage_prop': '0.958', 'intensity_prop': '0.436', 'ms1ms2_ratio': '1.533', 'efficiency': '0.829', 'TP': '168', 'FP': '240', 'FN': '18', 'precision': '0.412', 'recall': '0.903', 'f1': '0.566'}\n",
      "10 1 5 {'coverage_prop': '0.955', 'intensity_prop': '0.441', 'ms1ms2_ratio': '1.589', 'efficiency': '0.850', 'TP': '173', 'FP': '234', 'FN': '19', 'precision': '0.425', 'recall': '0.901', 'f1': '0.578'}\n",
      "10 5 0 {'coverage_prop': '0.977', 'intensity_prop': '0.459', 'ms1ms2_ratio': '1.318', 'efficiency': '0.756', 'TP': '173', 'FP': '243', 'FN': '10', 'precision': '0.416', 'recall': '0.945', 'f1': '0.578'}\n",
      "10 5 2 {'coverage_prop': '0.958', 'intensity_prop': '0.446', 'ms1ms2_ratio': '1.359', 'efficiency': '0.758', 'TP': '172', 'FP': '236', 'FN': '18', 'precision': '0.422', 'recall': '0.905', 'f1': '0.575'}\n",
      "10 5 5 {'coverage_prop': '0.953', 'intensity_prop': '0.449', 'ms1ms2_ratio': '1.416', 'efficiency': '0.778', 'TP': '178', 'FP': '228', 'FN': '20', 'precision': '0.438', 'recall': '0.899', 'f1': '0.589'}\n",
      "1000.0 0 0 {'coverage_prop': '0.977', 'intensity_prop': '0.376', 'ms1ms2_ratio': '1.958', 'efficiency': '1.022', 'TP': '122', 'FP': '294', 'FN': '10', 'precision': '0.293', 'recall': '0.924', 'f1': '0.445'}\n",
      "1000.0 0 2 {'coverage_prop': '0.955', 'intensity_prop': '0.359', 'ms1ms2_ratio': '2.020', 'efficiency': '1.025', 'TP': '118', 'FP': '289', 'FN': '19', 'precision': '0.290', 'recall': '0.861', 'f1': '0.434'}\n",
      "1000.0 0 5 {'coverage_prop': '0.953', 'intensity_prop': '0.383', 'ms1ms2_ratio': '2.033', 'efficiency': '1.028', 'TP': '138', 'FP': '268', 'FN': '20', 'precision': '0.340', 'recall': '0.873', 'f1': '0.489'}\n",
      "1000.0 0.1 0 {'coverage_prop': '0.977', 'intensity_prop': '0.377', 'ms1ms2_ratio': '1.930', 'efficiency': '1.010', 'TP': '121', 'FP': '295', 'FN': '10', 'precision': '0.291', 'recall': '0.924', 'f1': '0.442'}\n",
      "1000.0 0.1 2 {'coverage_prop': '0.955', 'intensity_prop': '0.364', 'ms1ms2_ratio': '1.990', 'efficiency': '1.012', 'TP': '120', 'FP': '287', 'FN': '19', 'precision': '0.295', 'recall': '0.863', 'f1': '0.440'}\n",
      "1000.0 0.1 5 {'coverage_prop': '0.955', 'intensity_prop': '0.387', 'ms1ms2_ratio': '1.995', 'efficiency': '1.015', 'TP': '140', 'FP': '267', 'FN': '19', 'precision': '0.344', 'recall': '0.881', 'f1': '0.495'}\n",
      "1000.0 0.5 0 {'coverage_prop': '0.977', 'intensity_prop': '0.381', 'ms1ms2_ratio': '1.872', 'efficiency': '0.986', 'TP': '129', 'FP': '287', 'FN': '10', 'precision': '0.310', 'recall': '0.928', 'f1': '0.465'}\n",
      "1000.0 0.5 2 {'coverage_prop': '0.955', 'intensity_prop': '0.366', 'ms1ms2_ratio': '1.930', 'efficiency': '0.988', 'TP': '114', 'FP': '293', 'FN': '19', 'precision': '0.280', 'recall': '0.857', 'f1': '0.422'}\n",
      "1000.0 0.5 5 {'coverage_prop': '0.955', 'intensity_prop': '0.384', 'ms1ms2_ratio': '1.923', 'efficiency': '0.985', 'TP': '137', 'FP': '270', 'FN': '19', 'precision': '0.337', 'recall': '0.878', 'f1': '0.487'}\n",
      "1000.0 1 0 {'coverage_prop': '0.977', 'intensity_prop': '0.393', 'ms1ms2_ratio': '1.705', 'efficiency': '0.916', 'TP': '137', 'FP': '279', 'FN': '10', 'precision': '0.329', 'recall': '0.932', 'f1': '0.487'}\n",
      "1000.0 1 2 {'coverage_prop': '0.958', 'intensity_prop': '0.380', 'ms1ms2_ratio': '1.744', 'efficiency': '0.915', 'TP': '132', 'FP': '276', 'FN': '18', 'precision': '0.324', 'recall': '0.880', 'f1': '0.473'}\n",
      "1000.0 1 5 {'coverage_prop': '0.958', 'intensity_prop': '0.397', 'ms1ms2_ratio': '1.748', 'efficiency': '0.917', 'TP': '145', 'FP': '263', 'FN': '18', 'precision': '0.355', 'recall': '0.890', 'f1': '0.508'}\n",
      "1000.0 5 0 {'coverage_prop': '0.977', 'intensity_prop': '0.412', 'ms1ms2_ratio': '1.469', 'efficiency': '0.819', 'TP': '149', 'FP': '267', 'FN': '10', 'precision': '0.358', 'recall': '0.937', 'f1': '0.518'}\n",
      "1000.0 5 2 {'coverage_prop': '0.955', 'intensity_prop': '0.402', 'ms1ms2_ratio': '1.508', 'efficiency': '0.817', 'TP': '151', 'FP': '256', 'FN': '19', 'precision': '0.371', 'recall': '0.888', 'f1': '0.523'}\n",
      "1000.0 5 5 {'coverage_prop': '0.953', 'intensity_prop': '0.422', 'ms1ms2_ratio': '1.538', 'efficiency': '0.827', 'TP': '165', 'FP': '241', 'FN': '20', 'precision': '0.406', 'recall': '0.892', 'f1': '0.558'}\n",
      "1000000.0 0 0 {'coverage_prop': '0.977', 'intensity_prop': '0.376', 'ms1ms2_ratio': '1.958', 'efficiency': '1.022', 'TP': '122', 'FP': '294', 'FN': '10', 'precision': '0.293', 'recall': '0.924', 'f1': '0.445'}\n",
      "1000000.0 0 2 {'coverage_prop': '0.955', 'intensity_prop': '0.359', 'ms1ms2_ratio': '2.020', 'efficiency': '1.025', 'TP': '118', 'FP': '289', 'FN': '19', 'precision': '0.290', 'recall': '0.861', 'f1': '0.434'}\n",
      "1000000.0 0 5 {'coverage_prop': '0.953', 'intensity_prop': '0.383', 'ms1ms2_ratio': '2.033', 'efficiency': '1.028', 'TP': '138', 'FP': '268', 'FN': '20', 'precision': '0.340', 'recall': '0.873', 'f1': '0.489'}\n",
      "1000000.0 0.1 0 {'coverage_prop': '0.977', 'intensity_prop': '0.377', 'ms1ms2_ratio': '1.930', 'efficiency': '1.010', 'TP': '121', 'FP': '295', 'FN': '10', 'precision': '0.291', 'recall': '0.924', 'f1': '0.442'}\n",
      "1000000.0 0.1 2 {'coverage_prop': '0.955', 'intensity_prop': '0.364', 'ms1ms2_ratio': '1.990', 'efficiency': '1.012', 'TP': '120', 'FP': '287', 'FN': '19', 'precision': '0.295', 'recall': '0.863', 'f1': '0.440'}\n",
      "1000000.0 0.1 5 {'coverage_prop': '0.955', 'intensity_prop': '0.387', 'ms1ms2_ratio': '1.995', 'efficiency': '1.015', 'TP': '139', 'FP': '268', 'FN': '19', 'precision': '0.342', 'recall': '0.880', 'f1': '0.492'}\n",
      "1000000.0 0.5 0 {'coverage_prop': '0.977', 'intensity_prop': '0.380', 'ms1ms2_ratio': '1.861', 'efficiency': '0.981', 'TP': '126', 'FP': '290', 'FN': '10', 'precision': '0.303', 'recall': '0.926', 'f1': '0.457'}\n",
      "1000000.0 0.5 2 {'coverage_prop': '0.955', 'intensity_prop': '0.365', 'ms1ms2_ratio': '1.918', 'efficiency': '0.983', 'TP': '113', 'FP': '294', 'FN': '19', 'precision': '0.278', 'recall': '0.856', 'f1': '0.419'}\n",
      "1000000.0 0.5 5 {'coverage_prop': '0.955', 'intensity_prop': '0.386', 'ms1ms2_ratio': '1.923', 'efficiency': '0.985', 'TP': '133', 'FP': '274', 'FN': '19', 'precision': '0.327', 'recall': '0.875', 'f1': '0.476'}\n",
      "1000000.0 1 0 {'coverage_prop': '0.977', 'intensity_prop': '0.392', 'ms1ms2_ratio': '1.715', 'efficiency': '0.920', 'TP': '135', 'FP': '281', 'FN': '10', 'precision': '0.325', 'recall': '0.931', 'f1': '0.481'}\n",
      "1000000.0 1 2 {'coverage_prop': '0.958', 'intensity_prop': '0.381', 'ms1ms2_ratio': '1.744', 'efficiency': '0.915', 'TP': '133', 'FP': '275', 'FN': '18', 'precision': '0.326', 'recall': '0.881', 'f1': '0.476'}\n",
      "1000000.0 1 5 {'coverage_prop': '0.955', 'intensity_prop': '0.401', 'ms1ms2_ratio': '1.738', 'efficiency': '0.911', 'TP': '146', 'FP': '261', 'FN': '19', 'precision': '0.359', 'recall': '0.885', 'f1': '0.510'}\n",
      "1000000.0 5 0 {'coverage_prop': '0.977', 'intensity_prop': '0.416', 'ms1ms2_ratio': '1.469', 'efficiency': '0.819', 'TP': '156', 'FP': '260', 'FN': '10', 'precision': '0.375', 'recall': '0.940', 'f1': '0.536'}\n",
      "1000000.0 5 2 {'coverage_prop': '0.955', 'intensity_prop': '0.399', 'ms1ms2_ratio': '1.513', 'efficiency': '0.819', 'TP': '144', 'FP': '263', 'FN': '19', 'precision': '0.354', 'recall': '0.883', 'f1': '0.505'}\n",
      "1000000.0 5 5 {'coverage_prop': '0.955', 'intensity_prop': '0.420', 'ms1ms2_ratio': '1.533', 'efficiency': '0.827', 'TP': '161', 'FP': '246', 'FN': '19', 'precision': '0.396', 'recall': '0.894', 'f1': '0.549'}\n"
     ]
    }
   ],
   "source": [
    "method = 'SmartROI_Controller'\n",
    "print('method = %s' % method)\n",
    "print()\n",
    "\n",
    "chems = chem_list[0]\n",
    "res = {}\n",
    "for alpha in alphas:\n",
    "    for beta in betas:\n",
    "        for ils in initial_length_seconds_list:\n",
    "\n",
    "            mass_spec = IndependentMassSpectrometer(ionisation_mode, chems, spike_noise=spike_noise)\n",
    "\n",
    "            roi_params = RoiBuilderParams(min_roi_intensity=0, min_roi_length=0)    \n",
    "            smartroi_params = SmartRoiParams(intensity_increase_factor=alpha, drop_perc=beta/100.0, dew=smartroi_dew, initial_length_seconds=ils)\n",
    "            controller = TopN_SmartRoiController(ionisation_mode, isolation_window, smartroi_N, mz_tol, smartroi_dew,\n",
    "                                        min_ms1_intensity, roi_params, smartroi_params)\n",
    "\n",
    "            env = Environment(mass_spec, controller, rt_range[0], rt_range[1], progress_bar=False)\n",
    "            env.run()\n",
    "            eval_res = evaluate(env, intensity_threshold)\n",
    "            key = (alpha, beta, ils)\n",
    "            print(alpha, beta, ils, eval_res)\n",
    "            res[key] = eval_res\n",
    "\n",
    "method_eval_results[method] = res"
   ]
  },
  {
   "cell_type": "markdown",
   "metadata": {
    "pycharm": {
     "name": "#%% md\n"
    }
   },
   "source": [
    "Run WeightedDEW Controller"
   ]
  },
  {
   "cell_type": "code",
   "execution_count": 25,
   "metadata": {
    "pycharm": {
     "name": "#%%\n"
    }
   },
   "outputs": [],
   "source": [
    "t0s = [1, 3, 10, 15, 30, 60]\n",
    "t1s = [15, 60, 120, 240, 360, 3600]\n",
    "weighteddew_N = 10"
   ]
  },
  {
   "cell_type": "code",
   "execution_count": 26,
   "metadata": {
    "pycharm": {
     "name": "#%%\n"
    }
   },
   "outputs": [
    {
     "name": "stdout",
     "output_type": "stream",
     "text": [
      "method = WeightedDEW_Controller\n",
      "\n",
      "1 15 {'coverage_prop': '0.955', 'intensity_prop': '0.746', 'ms1ms2_ratio': '0.138', 'efficiency': '0.260', 'TP': '368', 'FP': '39', 'FN': '19', 'precision': '0.904', 'recall': '0.951', 'f1': '0.927'}\n",
      "1 60 {'coverage_prop': '0.960', 'intensity_prop': '0.714', 'ms1ms2_ratio': '0.138', 'efficiency': '0.261', 'TP': '356', 'FP': '53', 'FN': '17', 'precision': '0.870', 'recall': '0.954', 'f1': '0.910'}\n",
      "1 120 {'coverage_prop': '0.960', 'intensity_prop': '0.712', 'ms1ms2_ratio': '0.138', 'efficiency': '0.261', 'TP': '357', 'FP': '52', 'FN': '17', 'precision': '0.873', 'recall': '0.955', 'f1': '0.912'}\n",
      "1 240 {'coverage_prop': '0.960', 'intensity_prop': '0.711', 'ms1ms2_ratio': '0.138', 'efficiency': '0.261', 'TP': '358', 'FP': '51', 'FN': '17', 'precision': '0.875', 'recall': '0.955', 'f1': '0.913'}\n",
      "1 360 {'coverage_prop': '0.960', 'intensity_prop': '0.711', 'ms1ms2_ratio': '0.138', 'efficiency': '0.261', 'TP': '358', 'FP': '51', 'FN': '17', 'precision': '0.875', 'recall': '0.955', 'f1': '0.913'}\n",
      "1 3600 {'coverage_prop': '0.960', 'intensity_prop': '0.710', 'ms1ms2_ratio': '0.138', 'efficiency': '0.261', 'TP': '356', 'FP': '53', 'FN': '17', 'precision': '0.870', 'recall': '0.954', 'f1': '0.910'}\n",
      "3 15 {'coverage_prop': '0.965', 'intensity_prop': '0.743', 'ms1ms2_ratio': '0.159', 'efficiency': '0.271', 'TP': '368', 'FP': '43', 'FN': '15', 'precision': '0.895', 'recall': '0.961', 'f1': '0.927'}\n",
      "3 60 {'coverage_prop': '0.965', 'intensity_prop': '0.726', 'ms1ms2_ratio': '0.159', 'efficiency': '0.271', 'TP': '360', 'FP': '51', 'FN': '15', 'precision': '0.876', 'recall': '0.960', 'f1': '0.916'}\n",
      "3 120 {'coverage_prop': '0.965', 'intensity_prop': '0.725', 'ms1ms2_ratio': '0.159', 'efficiency': '0.271', 'TP': '360', 'FP': '51', 'FN': '15', 'precision': '0.876', 'recall': '0.960', 'f1': '0.916'}\n",
      "3 240 {'coverage_prop': '0.965', 'intensity_prop': '0.725', 'ms1ms2_ratio': '0.159', 'efficiency': '0.271', 'TP': '360', 'FP': '51', 'FN': '15', 'precision': '0.876', 'recall': '0.960', 'f1': '0.916'}\n",
      "3 360 {'coverage_prop': '0.965', 'intensity_prop': '0.724', 'ms1ms2_ratio': '0.159', 'efficiency': '0.271', 'TP': '360', 'FP': '51', 'FN': '15', 'precision': '0.876', 'recall': '0.960', 'f1': '0.916'}\n",
      "3 3600 {'coverage_prop': '0.965', 'intensity_prop': '0.724', 'ms1ms2_ratio': '0.159', 'efficiency': '0.271', 'TP': '359', 'FP': '52', 'FN': '15', 'precision': '0.873', 'recall': '0.960', 'f1': '0.915'}\n",
      "10 15 {'coverage_prop': '0.979', 'intensity_prop': '0.627', 'ms1ms2_ratio': '0.452', 'efficiency': '0.397', 'TP': '311', 'FP': '106', 'FN': '9', 'precision': '0.746', 'recall': '0.972', 'f1': '0.844'}\n",
      "10 60 {'coverage_prop': '0.979', 'intensity_prop': '0.621', 'ms1ms2_ratio': '0.449', 'efficiency': '0.396', 'TP': '312', 'FP': '105', 'FN': '9', 'precision': '0.748', 'recall': '0.972', 'f1': '0.846'}\n",
      "10 120 {'coverage_prop': '0.979', 'intensity_prop': '0.621', 'ms1ms2_ratio': '0.449', 'efficiency': '0.396', 'TP': '307', 'FP': '110', 'FN': '9', 'precision': '0.736', 'recall': '0.972', 'f1': '0.838'}\n",
      "10 240 {'coverage_prop': '0.979', 'intensity_prop': '0.622', 'ms1ms2_ratio': '0.449', 'efficiency': '0.396', 'TP': '307', 'FP': '110', 'FN': '9', 'precision': '0.736', 'recall': '0.972', 'f1': '0.838'}\n",
      "10 360 {'coverage_prop': '0.979', 'intensity_prop': '0.622', 'ms1ms2_ratio': '0.449', 'efficiency': '0.396', 'TP': '307', 'FP': '110', 'FN': '9', 'precision': '0.736', 'recall': '0.972', 'f1': '0.838'}\n",
      "10 3600 {'coverage_prop': '0.979', 'intensity_prop': '0.622', 'ms1ms2_ratio': '0.449', 'efficiency': '0.396', 'TP': '307', 'FP': '110', 'FN': '9', 'precision': '0.736', 'recall': '0.972', 'f1': '0.838'}\n",
      "15 15 {'coverage_prop': '0.979', 'intensity_prop': '0.530', 'ms1ms2_ratio': '0.782', 'efficiency': '0.535', 'TP': '228', 'FP': '189', 'FN': '9', 'precision': '0.547', 'recall': '0.962', 'f1': '0.697'}\n",
      "15 60 {'coverage_prop': '0.979', 'intensity_prop': '0.520', 'ms1ms2_ratio': '0.784', 'efficiency': '0.535', 'TP': '217', 'FP': '200', 'FN': '9', 'precision': '0.520', 'recall': '0.960', 'f1': '0.675'}\n",
      "15 120 {'coverage_prop': '0.979', 'intensity_prop': '0.519', 'ms1ms2_ratio': '0.784', 'efficiency': '0.535', 'TP': '217', 'FP': '200', 'FN': '9', 'precision': '0.520', 'recall': '0.960', 'f1': '0.675'}\n",
      "15 240 {'coverage_prop': '0.979', 'intensity_prop': '0.519', 'ms1ms2_ratio': '0.784', 'efficiency': '0.535', 'TP': '217', 'FP': '200', 'FN': '9', 'precision': '0.520', 'recall': '0.960', 'f1': '0.675'}\n",
      "15 360 {'coverage_prop': '0.979', 'intensity_prop': '0.519', 'ms1ms2_ratio': '0.784', 'efficiency': '0.535', 'TP': '217', 'FP': '200', 'FN': '9', 'precision': '0.520', 'recall': '0.960', 'f1': '0.675'}\n",
      "15 3600 {'coverage_prop': '0.979', 'intensity_prop': '0.519', 'ms1ms2_ratio': '0.784', 'efficiency': '0.535', 'TP': '217', 'FP': '200', 'FN': '9', 'precision': '0.520', 'recall': '0.960', 'f1': '0.675'}\n",
      "Invalid combination\n",
      "30 60 {'coverage_prop': '0.977', 'intensity_prop': '0.432', 'ms1ms2_ratio': '1.349', 'efficiency': '0.769', 'TP': '155', 'FP': '261', 'FN': '10', 'precision': '0.373', 'recall': '0.939', 'f1': '0.534'}\n",
      "30 120 {'coverage_prop': '0.977', 'intensity_prop': '0.431', 'ms1ms2_ratio': '1.349', 'efficiency': '0.769', 'TP': '155', 'FP': '261', 'FN': '10', 'precision': '0.373', 'recall': '0.939', 'f1': '0.534'}\n",
      "30 240 {'coverage_prop': '0.977', 'intensity_prop': '0.431', 'ms1ms2_ratio': '1.349', 'efficiency': '0.769', 'TP': '155', 'FP': '261', 'FN': '10', 'precision': '0.373', 'recall': '0.939', 'f1': '0.534'}\n",
      "30 360 {'coverage_prop': '0.977', 'intensity_prop': '0.431', 'ms1ms2_ratio': '1.349', 'efficiency': '0.769', 'TP': '155', 'FP': '261', 'FN': '10', 'precision': '0.373', 'recall': '0.939', 'f1': '0.534'}\n",
      "30 3600 {'coverage_prop': '0.977', 'intensity_prop': '0.431', 'ms1ms2_ratio': '1.349', 'efficiency': '0.769', 'TP': '155', 'FP': '261', 'FN': '10', 'precision': '0.373', 'recall': '0.939', 'f1': '0.534'}\n",
      "Invalid combination\n",
      "60 60 {'coverage_prop': '0.977', 'intensity_prop': '0.385', 'ms1ms2_ratio': '1.744', 'efficiency': '0.933', 'TP': '133', 'FP': '283', 'FN': '10', 'precision': '0.320', 'recall': '0.930', 'f1': '0.476'}\n",
      "60 120 {'coverage_prop': '0.977', 'intensity_prop': '0.384', 'ms1ms2_ratio': '1.744', 'efficiency': '0.933', 'TP': '134', 'FP': '282', 'FN': '10', 'precision': '0.322', 'recall': '0.931', 'f1': '0.479'}\n",
      "60 240 {'coverage_prop': '0.977', 'intensity_prop': '0.384', 'ms1ms2_ratio': '1.744', 'efficiency': '0.933', 'TP': '134', 'FP': '282', 'FN': '10', 'precision': '0.322', 'recall': '0.931', 'f1': '0.479'}\n",
      "60 360 {'coverage_prop': '0.977', 'intensity_prop': '0.384', 'ms1ms2_ratio': '1.744', 'efficiency': '0.933', 'TP': '134', 'FP': '282', 'FN': '10', 'precision': '0.322', 'recall': '0.931', 'f1': '0.479'}\n",
      "60 3600 {'coverage_prop': '0.977', 'intensity_prop': '0.384', 'ms1ms2_ratio': '1.744', 'efficiency': '0.933', 'TP': '134', 'FP': '282', 'FN': '10', 'precision': '0.322', 'recall': '0.931', 'f1': '0.479'}\n"
     ]
    }
   ],
   "source": [
    "method = 'WeightedDEW_Controller'\n",
    "print('method = %s' % method)\n",
    "print()\n",
    "\n",
    "chems = chem_list[0]\n",
    "res = {}\n",
    "for t0 in t0s:\n",
    "    for t1 in t1s:\n",
    "\n",
    "        if t0 > t1:\n",
    "            print('Invalid combination')\n",
    "            continue\n",
    "        \n",
    "        mass_spec = IndependentMassSpectrometer(ionisation_mode, chems, spike_noise=spike_noise)\n",
    "        \n",
    "        controller = WeightedDEWController(ionisation_mode, weighteddew_N, isolation_window, mz_tol, t1,\n",
    "                                    min_ms1_intensity, exclusion_t_0=t0)\n",
    "        \n",
    "        env = Environment(mass_spec, controller, rt_range[0], rt_range[1], progress_bar=False)\n",
    "        env.run()\n",
    "        eval_res = evaluate(env, intensity_threshold)\n",
    "        key = (t0, t1)\n",
    "        print(t0, t1, eval_res)\n",
    "        res[key] = eval_res\n",
    "        \n",
    "method_eval_results[method] = res"
   ]
  }
 ],
 "metadata": {
  "kernelspec": {
   "display_name": "Python 3 (ipykernel)",
   "language": "python",
   "name": "python3"
  },
  "language_info": {
   "codemirror_mode": {
    "name": "ipython",
    "version": 3
   },
   "file_extension": ".py",
   "mimetype": "text/x-python",
   "name": "python",
   "nbconvert_exporter": "python",
   "pygments_lexer": "ipython3",
   "version": "3.9.12"
  }
 },
 "nbformat": 4,
 "nbformat_minor": 4
}
