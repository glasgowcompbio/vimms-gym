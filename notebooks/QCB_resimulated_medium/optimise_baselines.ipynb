{
 "cells": [
  {
   "cell_type": "code",
   "execution_count": 1,
   "metadata": {
    "pycharm": {
     "name": "#%%\n"
    },
    "tags": []
   },
   "outputs": [],
   "source": [
    "%matplotlib inline\n",
    "\n",
    "%load_ext autoreload\n",
    "%autoreload 2"
   ]
  },
  {
   "cell_type": "code",
   "execution_count": 2,
   "metadata": {
    "pycharm": {
     "name": "#%%\n"
    }
   },
   "outputs": [],
   "source": [
    "import os\n",
    "import sys\n",
    "from os.path import exists\n",
    "\n",
    "sys.path.append('../..')"
   ]
  },
  {
   "cell_type": "code",
   "execution_count": 3,
   "metadata": {
    "pycharm": {
     "name": "#%%\n"
    },
    "tags": []
   },
   "outputs": [],
   "source": [
    "import pylab as plt\n",
    "import pandas as pd\n",
    "import numpy as np\n",
    "from loguru import logger\n",
    "import seaborn as sns\n",
    "\n",
    "from stable_baselines3 import PPO, DQN"
   ]
  },
  {
   "cell_type": "code",
   "execution_count": 4,
   "metadata": {
    "pycharm": {
     "name": "#%%\n"
    },
    "tags": []
   },
   "outputs": [],
   "source": [
    "from vimms.Common import POSITIVE, set_log_level_warning, load_obj, save_obj\n",
    "from vimms.ChemicalSamplers import UniformRTAndIntensitySampler, GaussianChromatogramSampler, UniformMZFormulaSampler, \\\n",
    "    MZMLFormulaSampler, MZMLRTandIntensitySampler, MZMLChromatogramSampler\n",
    "from vimms.Noise import UniformSpikeNoise\n",
    "from vimms.Evaluation import evaluate_real\n",
    "from vimms.Chemicals import ChemicalMixtureFromMZML\n",
    "from vimms.Roi import RoiBuilderParams, SmartRoiParams\n",
    "\n",
    "from mass_spec_utils.data_import.mzmine import load_picked_boxes\n",
    "\n",
    "from vimms_gym.env import DDAEnv\n",
    "from vimms_gym.chemicals import generate_chemicals\n",
    "from vimms_gym.evaluation import evaluate, run_method\n",
    "from vimms_gym.common import METHOD_RANDOM, METHOD_FULLSCAN, METHOD_TOPN, METHOD_PPO, METHOD_DQN"
   ]
  },
  {
   "cell_type": "markdown",
   "metadata": {
    "pycharm": {
     "name": "#%% md\n"
    }
   },
   "source": [
    "# 1. Parameters"
   ]
  },
  {
   "cell_type": "code",
   "execution_count": 5,
   "metadata": {
    "pycharm": {
     "name": "#%%\n"
    }
   },
   "outputs": [],
   "source": [
    "n_chemicals = (200, 500)\n",
    "mz_range = (100, 600)\n",
    "rt_range = (400, 800)\n",
    "intensity_range = (1E4, 1E20)"
   ]
  },
  {
   "cell_type": "code",
   "execution_count": 6,
   "metadata": {
    "pycharm": {
     "name": "#%%\n"
    },
    "scrolled": true
   },
   "outputs": [],
   "source": [
    "min_mz = mz_range[0]\n",
    "max_mz = mz_range[1]\n",
    "min_rt = rt_range[0]\n",
    "max_rt = rt_range[1]\n",
    "min_log_intensity = np.log(intensity_range[0])\n",
    "max_log_intensity = np.log(intensity_range[1])"
   ]
  },
  {
   "cell_type": "code",
   "execution_count": 7,
   "metadata": {
    "pycharm": {
     "name": "#%%\n"
    }
   },
   "outputs": [],
   "source": [
    "isolation_window = 0.7\n",
    "N = 10\n",
    "rt_tol = 120\n",
    "exclusion_t_0 = 15\n",
    "mz_tol = 10\n",
    "min_ms1_intensity = 5000\n",
    "ionisation_mode = POSITIVE\n",
    "\n",
    "enable_spike_noise = True\n",
    "noise_density = 0.1\n",
    "noise_max_val = 1E3"
   ]
  },
  {
   "cell_type": "code",
   "execution_count": 8,
   "metadata": {
    "pycharm": {
     "name": "#%%\n"
    }
   },
   "outputs": [
    {
     "name": "stderr",
     "output_type": "stream",
     "text": [
      "2022-08-12 22:32:55.673 | INFO     | __main__:<module>:10 - Creating samplers from ../fullscan_QCB.mzML\n",
      "2022-08-12 22:32:57.911 | DEBUG    | mass_spec_utils.data_import.mzml:_load_file:166 - Loaded 2471 scans\n",
      "2022-08-12 22:33:01.918 | DEBUG    | mass_spec_utils.data_import.mzml:_load_file:166 - Loaded 2471 scans\n",
      "2022-08-12 22:37:31.307 | DEBUG    | vimms.ChemicalSamplers:_extract_rois:491 - Extracted 69 good ROIs from ../fullscan_QCB.mzML\n",
      "2022-08-12 22:37:31.309 | INFO     | vimms.Common:save_obj:410 - Saving <class 'dict'> to samplers_QCB_medium.p\n"
     ]
    }
   ],
   "source": [
    "mzml_filename = '../fullscan_QCB.mzML'\n",
    "samplers_pickle = 'samplers_QCB_medium.p'\n",
    "if exists(samplers_pickle):\n",
    "    logger.info('Loaded %s' % samplers_pickle)\n",
    "    samplers = load_obj(samplers_pickle)\n",
    "    mz_sampler = samplers['mz']\n",
    "    ri_sampler = samplers['rt_intensity']\n",
    "    cr_sampler = samplers['chromatogram']\n",
    "else:\n",
    "    logger.info('Creating samplers from %s' % mzml_filename)\n",
    "    mz_sampler = MZMLFormulaSampler(mzml_filename, min_mz=min_mz, max_mz=max_mz)\n",
    "    ri_sampler = MZMLRTandIntensitySampler(mzml_filename, min_rt=min_rt, max_rt=max_rt,\n",
    "                                           min_log_intensity=min_log_intensity,\n",
    "                                           max_log_intensity=max_log_intensity)\n",
    "    roi_params = RoiBuilderParams(min_roi_length=3, at_least_one_point_above=5E5)\n",
    "    cr_sampler = MZMLChromatogramSampler(mzml_filename, roi_params=roi_params)\n",
    "    samplers = {\n",
    "        'mz': mz_sampler,\n",
    "        'rt_intensity': ri_sampler,\n",
    "        'chromatogram': cr_sampler\n",
    "    }\n",
    "    save_obj(samplers, samplers_pickle)"
   ]
  },
  {
   "cell_type": "code",
   "execution_count": 9,
   "metadata": {
    "pycharm": {
     "name": "#%%\n"
    }
   },
   "outputs": [],
   "source": [
    "params = {\n",
    "    'chemical_creator': {\n",
    "        'mz_range': mz_range,\n",
    "        'rt_range': rt_range,\n",
    "        'intensity_range': intensity_range,\n",
    "        'n_chemicals': n_chemicals,\n",
    "        'mz_sampler': mz_sampler,\n",
    "        'ri_sampler': ri_sampler,\n",
    "        'cr_sampler': cr_sampler\n",
    "    },\n",
    "    'noise': {\n",
    "        'enable_spike_noise': enable_spike_noise,\n",
    "        'noise_density': noise_density,\n",
    "        'noise_max_val': noise_max_val,\n",
    "        'mz_range': mz_range\n",
    "    },\n",
    "    'env': {\n",
    "        'ionisation_mode': ionisation_mode,\n",
    "        'rt_range': rt_range,\n",
    "        'isolation_window': isolation_window,\n",
    "        'mz_tol': mz_tol,\n",
    "        'rt_tol': rt_tol,\n",
    "    }\n",
    "}"
   ]
  },
  {
   "cell_type": "code",
   "execution_count": 10,
   "metadata": {
    "pycharm": {
     "name": "#%%\n"
    }
   },
   "outputs": [],
   "source": [
    "max_peaks = 200\n",
    "in_dir = 'results'"
   ]
  },
  {
   "cell_type": "code",
   "execution_count": 11,
   "metadata": {
    "pycharm": {
     "name": "#%%\n"
    }
   },
   "outputs": [],
   "source": [
    "n_eval_episodes = 1\n",
    "deterministic = True"
   ]
  },
  {
   "cell_type": "markdown",
   "metadata": {
    "pycharm": {
     "name": "#%% md\n"
    },
    "tags": []
   },
   "source": [
    "# 2. Evaluation"
   ]
  },
  {
   "cell_type": "markdown",
   "metadata": {
    "pycharm": {
     "name": "#%% md\n"
    }
   },
   "source": [
    "#### Generate some chemical sets"
   ]
  },
  {
   "cell_type": "code",
   "execution_count": 12,
   "metadata": {
    "pycharm": {
     "name": "#%%\n"
    }
   },
   "outputs": [
    {
     "data": {
      "text/plain": [
       "1"
      ]
     },
     "execution_count": 12,
     "metadata": {},
     "output_type": "execute_result"
    }
   ],
   "source": [
    "set_log_level_warning()"
   ]
  },
  {
   "cell_type": "code",
   "execution_count": 13,
   "metadata": {
    "pycharm": {
     "name": "#%%\n"
    }
   },
   "outputs": [],
   "source": [
    "eval_dir = 'optimise_baselines'\n",
    "method = METHOD_TOPN"
   ]
  },
  {
   "cell_type": "code",
   "execution_count": 14,
   "metadata": {
    "pycharm": {
     "name": "#%%\n"
    }
   },
   "outputs": [
    {
     "name": "stdout",
     "output_type": "stream",
     "text": [
      "0\n"
     ]
    }
   ],
   "source": [
    "chemical_creator_params = params['chemical_creator']\n",
    "\n",
    "chem_list = []\n",
    "for i in range(n_eval_episodes):\n",
    "    print(i)\n",
    "    chems = generate_chemicals(chemical_creator_params)\n",
    "    chem_list.append(chems)"
   ]
  },
  {
   "cell_type": "markdown",
   "metadata": {
    "pycharm": {
     "name": "#%% md\n"
    }
   },
   "source": [
    "#### Run different methods"
   ]
  },
  {
   "cell_type": "code",
   "execution_count": 15,
   "metadata": {
    "pycharm": {
     "name": "#%%\n"
    }
   },
   "outputs": [
    {
     "name": "stdout",
     "output_type": "stream",
     "text": [
      "248\n"
     ]
    }
   ],
   "source": [
    "for chems in chem_list:\n",
    "    print(len(chems))"
   ]
  },
  {
   "cell_type": "code",
   "execution_count": 16,
   "metadata": {
    "pycharm": {
     "name": "#%%\n"
    }
   },
   "outputs": [
    {
     "data": {
      "text/plain": [
       "200"
      ]
     },
     "execution_count": 16,
     "metadata": {},
     "output_type": "execute_result"
    }
   ],
   "source": [
    "max_peaks"
   ]
  },
  {
   "cell_type": "code",
   "execution_count": 17,
   "metadata": {
    "pycharm": {
     "name": "#%%\n"
    }
   },
   "outputs": [
    {
     "data": {
      "text/plain": [
       "('results', 'optimise_baselines')"
      ]
     },
     "execution_count": 17,
     "metadata": {},
     "output_type": "execute_result"
    }
   ],
   "source": [
    "out_dir = eval_dir\n",
    "in_dir, out_dir"
   ]
  },
  {
   "cell_type": "markdown",
   "metadata": {
    "pycharm": {
     "name": "#%% md\n"
    }
   },
   "source": [
    "#### Compare to Top-10"
   ]
  },
  {
   "cell_type": "code",
   "execution_count": 18,
   "metadata": {
    "pycharm": {
     "name": "#%%\n"
    }
   },
   "outputs": [],
   "source": [
    "env_name = 'DDAEnv'\n",
    "model_name = 'PPO'\n",
    "intensity_threshold = 0.5"
   ]
  },
  {
   "cell_type": "code",
   "execution_count": 19,
   "metadata": {
    "pycharm": {
     "name": "#%%\n"
    }
   },
   "outputs": [],
   "source": [
    "rt_tols = [2, 5, 15, 30, 60, 120, 240, 300]\n",
    "Ns = [1, 2, 5, 10, 15, 20, 25]"
   ]
  },
  {
   "cell_type": "code",
   "execution_count": 20,
   "metadata": {
    "pycharm": {
     "name": "#%%\n"
    }
   },
   "outputs": [
    {
     "name": "stdout",
     "output_type": "stream",
     "text": [
      "method = topN max_peaks = 200 N = 1 rt_tol = 2\n",
      "\n"
     ]
    },
    {
     "name": "stderr",
     "output_type": "stream",
     "text": [
      "/opt/conda/lib/python3.8/site-packages/psims/mzml/components.py:860: UserWarning:\n",
      "\n",
      "Provided unit for 'scan start time' does not match any of the permitted units (('UO:0000031', 'minute', 'UO'), [Relationship(has_units, UO:0000010, second), Relationship(has_units, UO:0000031, minute)])\n",
      "\n",
      "/opt/conda/lib/python3.8/site-packages/psims/mzml/components.py:771: UserWarning:\n",
      "\n",
      "Provided unit for 'time array' does not match any of the permitted units (('UO:0000010', 'second', 'UO'), [Relationship(has_units, UO:0000010, second), Relationship(has_units, UO:0000031, minute)])\n",
      "\n"
     ]
    },
    {
     "name": "stdout",
     "output_type": "stream",
     "text": [
      "{'coverage_prop': '0.609', 'intensity_prop': '0.483', 'ms1ms2_ratio': '1.092', 'efficiency': '0.240', 'TP': '107', 'FP': '11', 'FN': '130', 'precision': '0.907', 'recall': '0.451', 'f1': '0.603'}\n",
      "\n",
      "method = topN max_peaks = 200 N = 2 rt_tol = 2\n",
      "\n",
      "{'coverage_prop': '0.673', 'intensity_prop': '0.544', 'ms1ms2_ratio': '0.572', 'efficiency': '0.179', 'TP': '119', 'FP': '14', 'FN': '115', 'precision': '0.895', 'recall': '0.509', 'f1': '0.649'}\n",
      "\n",
      "method = topN max_peaks = 200 N = 5 rt_tol = 2\n",
      "\n",
      "{'coverage_prop': '0.762', 'intensity_prop': '0.640', 'ms1ms2_ratio': '0.263', 'efficiency': '0.144', 'TP': '140', 'FP': '17', 'FN': '91', 'precision': '0.892', 'recall': '0.606', 'f1': '0.722'}\n",
      "\n",
      "method = topN max_peaks = 200 N = 10 rt_tol = 2\n",
      "\n",
      "{'coverage_prop': '0.875', 'intensity_prop': '0.744', 'ms1ms2_ratio': '0.163', 'efficiency': '0.144', 'TP': '167', 'FP': '14', 'FN': '67', 'precision': '0.923', 'recall': '0.714', 'f1': '0.805'}\n",
      "\n",
      "method = topN max_peaks = 200 N = 15 rt_tol = 2\n",
      "\n",
      "{'coverage_prop': '0.935', 'intensity_prop': '0.787', 'ms1ms2_ratio': '0.139', 'efficiency': '0.148', 'TP': '174', 'FP': '20', 'FN': '54', 'precision': '0.897', 'recall': '0.763', 'f1': '0.825'}\n",
      "\n",
      "method = topN max_peaks = 200 N = 20 rt_tol = 2\n",
      "\n",
      "{'coverage_prop': '0.948', 'intensity_prop': '0.798', 'ms1ms2_ratio': '0.132', 'efficiency': '0.149', 'TP': '183', 'FP': '15', 'FN': '50', 'precision': '0.924', 'recall': '0.785', 'f1': '0.849'}\n",
      "\n",
      "method = topN max_peaks = 200 N = 25 rt_tol = 2\n",
      "\n",
      "{'coverage_prop': '0.948', 'intensity_prop': '0.798', 'ms1ms2_ratio': '0.131', 'efficiency': '0.148', 'TP': '182', 'FP': '16', 'FN': '50', 'precision': '0.919', 'recall': '0.784', 'f1': '0.847'}\n",
      "\n",
      "method = topN max_peaks = 200 N = 1 rt_tol = 5\n",
      "\n",
      "{'coverage_prop': '0.794', 'intensity_prop': '0.619', 'ms1ms2_ratio': '1.154', 'efficiency': '0.326', 'TP': '140', 'FP': '24', 'FN': '84', 'precision': '0.854', 'recall': '0.625', 'f1': '0.722'}\n",
      "\n",
      "method = topN max_peaks = 200 N = 2 rt_tol = 5\n",
      "\n",
      "{'coverage_prop': '0.903', 'intensity_prop': '0.717', 'ms1ms2_ratio': '0.671', 'efficiency': '0.262', 'TP': '166', 'FP': '20', 'FN': '62', 'precision': '0.892', 'recall': '0.728', 'f1': '0.802'}\n",
      "\n",
      "method = topN max_peaks = 200 N = 5 rt_tol = 5\n",
      "\n",
      "{'coverage_prop': '0.948', 'intensity_prop': '0.760', 'ms1ms2_ratio': '0.424', 'efficiency': '0.217', 'TP': '171', 'FP': '25', 'FN': '52', 'precision': '0.872', 'recall': '0.767', 'f1': '0.816'}\n",
      "\n",
      "method = topN max_peaks = 200 N = 10 rt_tol = 5\n",
      "\n",
      "{'coverage_prop': '0.964', 'intensity_prop': '0.783', 'ms1ms2_ratio': '0.347', 'efficiency': '0.203', 'TP': '183', 'FP': '17', 'FN': '48', 'precision': '0.915', 'recall': '0.792', 'f1': '0.849'}\n",
      "\n",
      "method = topN max_peaks = 200 N = 15 rt_tol = 5\n",
      "\n",
      "{'coverage_prop': '0.964', 'intensity_prop': '0.778', 'ms1ms2_ratio': '0.323', 'efficiency': '0.197', 'TP': '179', 'FP': '21', 'FN': '48', 'precision': '0.895', 'recall': '0.789', 'f1': '0.838'}\n",
      "\n",
      "method = topN max_peaks = 200 N = 20 rt_tol = 5\n",
      "\n",
      "{'coverage_prop': '0.964', 'intensity_prop': '0.785', 'ms1ms2_ratio': '0.310', 'efficiency': '0.194', 'TP': '180', 'FP': '21', 'FN': '47', 'precision': '0.896', 'recall': '0.793', 'f1': '0.841'}\n",
      "\n",
      "method = topN max_peaks = 200 N = 25 rt_tol = 5\n",
      "\n",
      "{'coverage_prop': '0.964', 'intensity_prop': '0.798', 'ms1ms2_ratio': '0.306', 'efficiency': '0.193', 'TP': '184', 'FP': '18', 'FN': '46', 'precision': '0.911', 'recall': '0.800', 'f1': '0.852'}\n",
      "\n",
      "method = topN max_peaks = 200 N = 1 rt_tol = 15\n",
      "\n",
      "{'coverage_prop': '0.960', 'intensity_prop': '0.525', 'ms1ms2_ratio': '1.699', 'efficiency': '0.523', 'TP': '102', 'FP': '96', 'FN': '50', 'precision': '0.515', 'recall': '0.671', 'f1': '0.583'}\n",
      "\n",
      "method = topN max_peaks = 200 N = 2 rt_tol = 15\n",
      "\n",
      "{'coverage_prop': '0.964', 'intensity_prop': '0.514', 'ms1ms2_ratio': '1.516', 'efficiency': '0.482', 'TP': '94', 'FP': '105', 'FN': '49', 'precision': '0.472', 'recall': '0.657', 'f1': '0.550'}\n",
      "\n",
      "method = topN max_peaks = 200 N = 5 rt_tol = 15\n",
      "\n",
      "{'coverage_prop': '0.964', 'intensity_prop': '0.505', 'ms1ms2_ratio': '1.492', 'efficiency': '0.476', 'TP': '91', 'FP': '109', 'FN': '48', 'precision': '0.455', 'recall': '0.655', 'f1': '0.537'}\n",
      "\n",
      "method = topN max_peaks = 200 N = 10 rt_tol = 15\n",
      "\n",
      "{'coverage_prop': '0.964', 'intensity_prop': '0.503', 'ms1ms2_ratio': '1.492', 'efficiency': '0.476', 'TP': '88', 'FP': '112', 'FN': '48', 'precision': '0.440', 'recall': '0.647', 'f1': '0.524'}\n",
      "\n",
      "method = topN max_peaks = 200 N = 15 rt_tol = 15\n",
      "\n",
      "{'coverage_prop': '0.964', 'intensity_prop': '0.503', 'ms1ms2_ratio': '1.492', 'efficiency': '0.476', 'TP': '88', 'FP': '112', 'FN': '48', 'precision': '0.440', 'recall': '0.647', 'f1': '0.524'}\n",
      "\n",
      "method = topN max_peaks = 200 N = 20 rt_tol = 15\n",
      "\n",
      "{'coverage_prop': '0.964', 'intensity_prop': '0.503', 'ms1ms2_ratio': '1.492', 'efficiency': '0.476', 'TP': '88', 'FP': '112', 'FN': '48', 'precision': '0.440', 'recall': '0.647', 'f1': '0.524'}\n",
      "\n",
      "method = topN max_peaks = 200 N = 25 rt_tol = 15\n",
      "\n"
     ]
    },
    {
     "name": "stderr",
     "output_type": "stream",
     "text": [
      "\n",
      "KeyboardInterrupt\n",
      "\n"
     ]
    }
   ],
   "source": [
    "topN_res = {}\n",
    "for rt_tol in rt_tols:\n",
    "    for N in Ns:\n",
    "\n",
    "        effective_rt_tol = rt_tol\n",
    "        copy_params = dict(params)        \n",
    "        copy_params['env']['rt_tol'] = effective_rt_tol\n",
    "\n",
    "        banner = 'method = %s max_peaks = %d N = %d rt_tol = %d' % (method, max_peaks, N, effective_rt_tol)\n",
    "        print(banner)\n",
    "        print()\n",
    "\n",
    "        if method == METHOD_PPO:\n",
    "            fname = os.path.join(in_dir, '%s_%s.zip' % (env_name, model_name))\n",
    "            model = PPO.load(fname)\n",
    "        elif method == METHOD_DQN:\n",
    "            fname = os.path.join(in_dir, '%s_%s.zip' % (env_name, model_name))\n",
    "            model = DQN.load(fname)\n",
    "        else:\n",
    "            model = None\n",
    "\n",
    "        episodic_results = run_method(env_name, copy_params, max_peaks, chem_list, method, out_dir, \n",
    "                                      N=N, min_ms1_intensity=min_ms1_intensity, model=model,\n",
    "                                      print_eval=True, print_reward=False, intensity_threshold=intensity_threshold)\n",
    "        eval_results = [er.eval_res for er in episodic_results][0]\n",
    "\n",
    "        key = (N, rt_tol)\n",
    "        topN_res[key] = eval_results\n",
    "        print()"
   ]
  },
  {
   "cell_type": "code",
   "execution_count": 21,
   "metadata": {
    "pycharm": {
     "name": "#%%\n"
    },
    "tags": []
   },
   "outputs": [
    {
     "data": {
      "text/plain": [
       "{(1, 2): {'coverage_prop': '0.609',\n",
       "  'intensity_prop': '0.483',\n",
       "  'ms1ms2_ratio': '1.092',\n",
       "  'efficiency': '0.240',\n",
       "  'TP': '107',\n",
       "  'FP': '11',\n",
       "  'FN': '130',\n",
       "  'precision': '0.907',\n",
       "  'recall': '0.451',\n",
       "  'f1': '0.603'},\n",
       " (2, 2): {'coverage_prop': '0.673',\n",
       "  'intensity_prop': '0.544',\n",
       "  'ms1ms2_ratio': '0.572',\n",
       "  'efficiency': '0.179',\n",
       "  'TP': '119',\n",
       "  'FP': '14',\n",
       "  'FN': '115',\n",
       "  'precision': '0.895',\n",
       "  'recall': '0.509',\n",
       "  'f1': '0.649'},\n",
       " (5, 2): {'coverage_prop': '0.762',\n",
       "  'intensity_prop': '0.640',\n",
       "  'ms1ms2_ratio': '0.263',\n",
       "  'efficiency': '0.144',\n",
       "  'TP': '140',\n",
       "  'FP': '17',\n",
       "  'FN': '91',\n",
       "  'precision': '0.892',\n",
       "  'recall': '0.606',\n",
       "  'f1': '0.722'},\n",
       " (10, 2): {'coverage_prop': '0.875',\n",
       "  'intensity_prop': '0.744',\n",
       "  'ms1ms2_ratio': '0.163',\n",
       "  'efficiency': '0.144',\n",
       "  'TP': '167',\n",
       "  'FP': '14',\n",
       "  'FN': '67',\n",
       "  'precision': '0.923',\n",
       "  'recall': '0.714',\n",
       "  'f1': '0.805'},\n",
       " (15, 2): {'coverage_prop': '0.935',\n",
       "  'intensity_prop': '0.787',\n",
       "  'ms1ms2_ratio': '0.139',\n",
       "  'efficiency': '0.148',\n",
       "  'TP': '174',\n",
       "  'FP': '20',\n",
       "  'FN': '54',\n",
       "  'precision': '0.897',\n",
       "  'recall': '0.763',\n",
       "  'f1': '0.825'},\n",
       " (20, 2): {'coverage_prop': '0.948',\n",
       "  'intensity_prop': '0.798',\n",
       "  'ms1ms2_ratio': '0.132',\n",
       "  'efficiency': '0.149',\n",
       "  'TP': '183',\n",
       "  'FP': '15',\n",
       "  'FN': '50',\n",
       "  'precision': '0.924',\n",
       "  'recall': '0.785',\n",
       "  'f1': '0.849'},\n",
       " (25, 2): {'coverage_prop': '0.948',\n",
       "  'intensity_prop': '0.798',\n",
       "  'ms1ms2_ratio': '0.131',\n",
       "  'efficiency': '0.148',\n",
       "  'TP': '182',\n",
       "  'FP': '16',\n",
       "  'FN': '50',\n",
       "  'precision': '0.919',\n",
       "  'recall': '0.784',\n",
       "  'f1': '0.847'},\n",
       " (1, 5): {'coverage_prop': '0.794',\n",
       "  'intensity_prop': '0.619',\n",
       "  'ms1ms2_ratio': '1.154',\n",
       "  'efficiency': '0.326',\n",
       "  'TP': '140',\n",
       "  'FP': '24',\n",
       "  'FN': '84',\n",
       "  'precision': '0.854',\n",
       "  'recall': '0.625',\n",
       "  'f1': '0.722'},\n",
       " (2, 5): {'coverage_prop': '0.903',\n",
       "  'intensity_prop': '0.717',\n",
       "  'ms1ms2_ratio': '0.671',\n",
       "  'efficiency': '0.262',\n",
       "  'TP': '166',\n",
       "  'FP': '20',\n",
       "  'FN': '62',\n",
       "  'precision': '0.892',\n",
       "  'recall': '0.728',\n",
       "  'f1': '0.802'},\n",
       " (5, 5): {'coverage_prop': '0.948',\n",
       "  'intensity_prop': '0.760',\n",
       "  'ms1ms2_ratio': '0.424',\n",
       "  'efficiency': '0.217',\n",
       "  'TP': '171',\n",
       "  'FP': '25',\n",
       "  'FN': '52',\n",
       "  'precision': '0.872',\n",
       "  'recall': '0.767',\n",
       "  'f1': '0.816'},\n",
       " (10, 5): {'coverage_prop': '0.964',\n",
       "  'intensity_prop': '0.783',\n",
       "  'ms1ms2_ratio': '0.347',\n",
       "  'efficiency': '0.203',\n",
       "  'TP': '183',\n",
       "  'FP': '17',\n",
       "  'FN': '48',\n",
       "  'precision': '0.915',\n",
       "  'recall': '0.792',\n",
       "  'f1': '0.849'},\n",
       " (15, 5): {'coverage_prop': '0.964',\n",
       "  'intensity_prop': '0.778',\n",
       "  'ms1ms2_ratio': '0.323',\n",
       "  'efficiency': '0.197',\n",
       "  'TP': '179',\n",
       "  'FP': '21',\n",
       "  'FN': '48',\n",
       "  'precision': '0.895',\n",
       "  'recall': '0.789',\n",
       "  'f1': '0.838'},\n",
       " (20, 5): {'coverage_prop': '0.964',\n",
       "  'intensity_prop': '0.785',\n",
       "  'ms1ms2_ratio': '0.310',\n",
       "  'efficiency': '0.194',\n",
       "  'TP': '180',\n",
       "  'FP': '21',\n",
       "  'FN': '47',\n",
       "  'precision': '0.896',\n",
       "  'recall': '0.793',\n",
       "  'f1': '0.841'},\n",
       " (25, 5): {'coverage_prop': '0.964',\n",
       "  'intensity_prop': '0.798',\n",
       "  'ms1ms2_ratio': '0.306',\n",
       "  'efficiency': '0.193',\n",
       "  'TP': '184',\n",
       "  'FP': '18',\n",
       "  'FN': '46',\n",
       "  'precision': '0.911',\n",
       "  'recall': '0.800',\n",
       "  'f1': '0.852'},\n",
       " (1, 15): {'coverage_prop': '0.960',\n",
       "  'intensity_prop': '0.525',\n",
       "  'ms1ms2_ratio': '1.699',\n",
       "  'efficiency': '0.523',\n",
       "  'TP': '102',\n",
       "  'FP': '96',\n",
       "  'FN': '50',\n",
       "  'precision': '0.515',\n",
       "  'recall': '0.671',\n",
       "  'f1': '0.583'},\n",
       " (2, 15): {'coverage_prop': '0.964',\n",
       "  'intensity_prop': '0.514',\n",
       "  'ms1ms2_ratio': '1.516',\n",
       "  'efficiency': '0.482',\n",
       "  'TP': '94',\n",
       "  'FP': '105',\n",
       "  'FN': '49',\n",
       "  'precision': '0.472',\n",
       "  'recall': '0.657',\n",
       "  'f1': '0.550'},\n",
       " (5, 15): {'coverage_prop': '0.964',\n",
       "  'intensity_prop': '0.505',\n",
       "  'ms1ms2_ratio': '1.492',\n",
       "  'efficiency': '0.476',\n",
       "  'TP': '91',\n",
       "  'FP': '109',\n",
       "  'FN': '48',\n",
       "  'precision': '0.455',\n",
       "  'recall': '0.655',\n",
       "  'f1': '0.537'},\n",
       " (10, 15): {'coverage_prop': '0.964',\n",
       "  'intensity_prop': '0.503',\n",
       "  'ms1ms2_ratio': '1.492',\n",
       "  'efficiency': '0.476',\n",
       "  'TP': '88',\n",
       "  'FP': '112',\n",
       "  'FN': '48',\n",
       "  'precision': '0.440',\n",
       "  'recall': '0.647',\n",
       "  'f1': '0.524'},\n",
       " (15, 15): {'coverage_prop': '0.964',\n",
       "  'intensity_prop': '0.503',\n",
       "  'ms1ms2_ratio': '1.492',\n",
       "  'efficiency': '0.476',\n",
       "  'TP': '88',\n",
       "  'FP': '112',\n",
       "  'FN': '48',\n",
       "  'precision': '0.440',\n",
       "  'recall': '0.647',\n",
       "  'f1': '0.524'},\n",
       " (20, 15): {'coverage_prop': '0.964',\n",
       "  'intensity_prop': '0.503',\n",
       "  'ms1ms2_ratio': '1.492',\n",
       "  'efficiency': '0.476',\n",
       "  'TP': '88',\n",
       "  'FP': '112',\n",
       "  'FN': '48',\n",
       "  'precision': '0.440',\n",
       "  'recall': '0.647',\n",
       "  'f1': '0.524'}}"
      ]
     },
     "execution_count": 21,
     "metadata": {},
     "output_type": "execute_result"
    }
   ],
   "source": [
    "topN_res"
   ]
  },
  {
   "cell_type": "code",
   "execution_count": 22,
   "metadata": {
    "pycharm": {
     "name": "#%%\n"
    }
   },
   "outputs": [],
   "source": [
    "method_eval_results = {\n",
    "    method: topN_res\n",
    "}"
   ]
  },
  {
   "cell_type": "markdown",
   "metadata": {
    "pycharm": {
     "name": "#%% md\n"
    }
   },
   "source": [
    "#### Test classic controllers in ViMMS"
   ]
  },
  {
   "cell_type": "code",
   "execution_count": 23,
   "metadata": {
    "pycharm": {
     "name": "#%%\n"
    }
   },
   "outputs": [],
   "source": [
    "from vimms.MassSpec import IndependentMassSpectrometer\n",
    "from vimms.Controller import TopNController, TopN_SmartRoiController, WeightedDEWController\n",
    "from vimms.Environment import Environment"
   ]
  },
  {
   "cell_type": "code",
   "execution_count": 24,
   "metadata": {
    "pycharm": {
     "name": "#%%\n"
    }
   },
   "outputs": [],
   "source": [
    "spike_noise = None\n",
    "if enable_spike_noise:\n",
    "    noise_params = params['noise']\n",
    "    noise_density = noise_params['noise_density']\n",
    "    noise_max_val = noise_params['noise_max_val']\n",
    "    noise_min_mz = noise_params['mz_range'][0]\n",
    "    noise_max_mz = noise_params['mz_range'][1]\n",
    "    spike_noise = UniformSpikeNoise(noise_density, noise_max_val, min_mz=noise_min_mz,\n",
    "                                    max_mz=noise_max_mz)"
   ]
  },
  {
   "cell_type": "markdown",
   "metadata": {
    "pycharm": {
     "name": "#%% md\n"
    }
   },
   "source": [
    "Run Top-N Controller"
   ]
  },
  {
   "cell_type": "code",
   "execution_count": null,
   "metadata": {
    "pycharm": {
     "name": "#%%\n"
    }
   },
   "outputs": [],
   "source": [
    "method = 'TopN_Controller'\n",
    "print('method = %s' % method)\n",
    "print()\n",
    "\n",
    "chems = chem_list[0]\n",
    "res = {}\n",
    "for rt_tol in rt_tols:\n",
    "    for N in Ns:\n",
    "\n",
    "        effective_rt_tol = rt_tol\n",
    "        mass_spec = IndependentMassSpectrometer(ionisation_mode, chems, spike_noise=spike_noise)\n",
    "        controller = TopNController(ionisation_mode, N, isolation_window, mz_tol, rt_tol,\n",
    "                                    min_ms1_intensity)\n",
    "        env = Environment(mass_spec, controller, min_rt, max_rt, progress_bar=False, out_dir=out_dir,\n",
    "                          out_file='%s_%d.mzML' % (method, i), save_eval=True)\n",
    "        env.run()\n",
    "        eval_res = evaluate(env, intensity_threshold)\n",
    "        key = (N, rt_tol)\n",
    "        print(N, rt_tol, eval_res)\n",
    "        res[key] = eval_res\n",
    "\n",
    "method_eval_results[method] = res"
   ]
  },
  {
   "cell_type": "markdown",
   "metadata": {
    "pycharm": {
     "name": "#%% md\n"
    }
   },
   "source": [
    "Run SmartROI Controller"
   ]
  },
  {
   "cell_type": "markdown",
   "metadata": {
    "pycharm": {
     "name": "#%% md\n"
    }
   },
   "source": [
    "TO FINISH BELOW"
   ]
  },
  {
   "cell_type": "code",
   "execution_count": 25,
   "metadata": {
    "pycharm": {
     "name": "#%%\n"
    }
   },
   "outputs": [],
   "source": [
    "alphas = [2, 3, 5, 10, 1E3, 1E6]\n",
    "betas = [0, 0.1, 0.5, 1, 5]\n",
    "smartroi_N = 10\n",
    "smartroi_dew = 5"
   ]
  },
  {
   "cell_type": "code",
   "execution_count": 27,
   "metadata": {
    "pycharm": {
     "name": "#%%\n"
    }
   },
   "outputs": [
    {
     "name": "stdout",
     "output_type": "stream",
     "text": [
      "method = SmartROI_Controller\n",
      "\n",
      "2 0 {'coverage_prop': '0.948', 'intensity_prop': '0.715', 'ms1ms2_ratio': '1.053', 'efficiency': '0.365', 'TP': '169', 'FP': '28', 'FN': '51', 'precision': '0.858', 'recall': '0.768', 'f1': '0.811'}\n",
      "2 0.1 {'coverage_prop': '0.952', 'intensity_prop': '0.712', 'ms1ms2_ratio': '1.042', 'efficiency': '0.364', 'TP': '170', 'FP': '28', 'FN': '50', 'precision': '0.859', 'recall': '0.773', 'f1': '0.813'}\n",
      "2 0.5 {'coverage_prop': '0.952', 'intensity_prop': '0.711', 'ms1ms2_ratio': '1.058', 'efficiency': '0.368', 'TP': '169', 'FP': '29', 'FN': '50', 'precision': '0.854', 'recall': '0.772', 'f1': '0.811'}\n",
      "2 1 {'coverage_prop': '0.952', 'intensity_prop': '0.714', 'ms1ms2_ratio': '1.058', 'efficiency': '0.368', 'TP': '170', 'FP': '28', 'FN': '50', 'precision': '0.859', 'recall': '0.773', 'f1': '0.813'}\n",
      "2 5 {'coverage_prop': '0.948', 'intensity_prop': '0.713', 'ms1ms2_ratio': '1.042', 'efficiency': '0.362', 'TP': '166', 'FP': '31', 'FN': '51', 'precision': '0.843', 'recall': '0.765', 'f1': '0.802'}\n",
      "3 0 {'coverage_prop': '0.952', 'intensity_prop': '0.632', 'ms1ms2_ratio': '1.318', 'efficiency': '0.429', 'TP': '133', 'FP': '65', 'FN': '50', 'precision': '0.672', 'recall': '0.727', 'f1': '0.698'}\n",
      "3 0.1 {'coverage_prop': '0.948', 'intensity_prop': '0.627', 'ms1ms2_ratio': '1.309', 'efficiency': '0.425', 'TP': '130', 'FP': '69', 'FN': '49', 'precision': '0.653', 'recall': '0.726', 'f1': '0.688'}\n",
      "3 0.5 {'coverage_prop': '0.948', 'intensity_prop': '0.627', 'ms1ms2_ratio': '1.322', 'efficiency': '0.428', 'TP': '136', 'FP': '62', 'FN': '50', 'precision': '0.687', 'recall': '0.731', 'f1': '0.708'}\n",
      "3 1 {'coverage_prop': '0.948', 'intensity_prop': '0.637', 'ms1ms2_ratio': '1.296', 'efficiency': '0.422', 'TP': '134', 'FP': '64', 'FN': '50', 'precision': '0.677', 'recall': '0.728', 'f1': '0.702'}\n"
     ]
    },
    {
     "ename": "KeyboardInterrupt",
     "evalue": "",
     "output_type": "error",
     "traceback": [
      "\u001b[0;31m---------------------------------------------------------------------------\u001b[0m",
      "\u001b[0;31mKeyboardInterrupt\u001b[0m                         Traceback (most recent call last)",
      "Input \u001b[0;32mIn [27]\u001b[0m, in \u001b[0;36m<module>\u001b[0;34m\u001b[0m\n\u001b[1;32m     14\u001b[0m controller \u001b[38;5;241m=\u001b[39m TopN_SmartRoiController(ionisation_mode, isolation_window, smartroi_N, mz_tol, smartroi_dew,\n\u001b[1;32m     15\u001b[0m                             min_ms1_intensity, roi_params, smartroi_params)\n\u001b[1;32m     17\u001b[0m env \u001b[38;5;241m=\u001b[39m Environment(mass_spec, controller, min_rt, max_rt, progress_bar\u001b[38;5;241m=\u001b[39m\u001b[38;5;28;01mFalse\u001b[39;00m, out_dir\u001b[38;5;241m=\u001b[39mout_dir,\n\u001b[1;32m     18\u001b[0m                   out_file\u001b[38;5;241m=\u001b[39m\u001b[38;5;124m'\u001b[39m\u001b[38;5;132;01m%s\u001b[39;00m\u001b[38;5;124m_\u001b[39m\u001b[38;5;132;01m%d\u001b[39;00m\u001b[38;5;124m.mzML\u001b[39m\u001b[38;5;124m'\u001b[39m \u001b[38;5;241m%\u001b[39m (method, i), save_eval\u001b[38;5;241m=\u001b[39m\u001b[38;5;28;01mTrue\u001b[39;00m)\n\u001b[0;32m---> 19\u001b[0m \u001b[43menv\u001b[49m\u001b[38;5;241;43m.\u001b[39;49m\u001b[43mrun\u001b[49m\u001b[43m(\u001b[49m\u001b[43m)\u001b[49m\n\u001b[1;32m     20\u001b[0m eval_res \u001b[38;5;241m=\u001b[39m evaluate(env, intensity_threshold)\n\u001b[1;32m     21\u001b[0m key \u001b[38;5;241m=\u001b[39m (N, rt_tol)\n",
      "File \u001b[0;32m/opt/conda/lib/python3.8/site-packages/vimms/Environment.py:83\u001b[0m, in \u001b[0;36mEnvironment.run\u001b[0;34m(self)\u001b[0m\n\u001b[1;32m     78\u001b[0m \u001b[38;5;28;01mtry\u001b[39;00m:\n\u001b[1;32m     79\u001b[0m     \u001b[38;5;66;03m# perform one step of mass spec up to max_time\u001b[39;00m\n\u001b[1;32m     80\u001b[0m     \u001b[38;5;28;01mwhile\u001b[39;00m \u001b[38;5;28mself\u001b[39m\u001b[38;5;241m.\u001b[39mmass_spec\u001b[38;5;241m.\u001b[39mtime \u001b[38;5;241m<\u001b[39m \u001b[38;5;28mself\u001b[39m\u001b[38;5;241m.\u001b[39mmax_time:\n\u001b[1;32m     81\u001b[0m         \u001b[38;5;66;03m# unless no more scan scheduled by the controller,\u001b[39;00m\n\u001b[1;32m     82\u001b[0m         \u001b[38;5;66;03m# then stop the simulated run\u001b[39;00m\n\u001b[0;32m---> 83\u001b[0m         scan \u001b[38;5;241m=\u001b[39m \u001b[38;5;28;43mself\u001b[39;49m\u001b[38;5;241;43m.\u001b[39;49m\u001b[43m_one_step\u001b[49m\u001b[43m(\u001b[49m\u001b[43m)\u001b[49m\n\u001b[1;32m     84\u001b[0m         \u001b[38;5;28;01mif\u001b[39;00m scan \u001b[38;5;129;01mis\u001b[39;00m \u001b[38;5;28;01mNone\u001b[39;00m:\n\u001b[1;32m     85\u001b[0m             \u001b[38;5;28;01mbreak\u001b[39;00m\n",
      "File \u001b[0;32m/opt/conda/lib/python3.8/site-packages/vimms/Environment.py:110\u001b[0m, in \u001b[0;36mEnvironment._one_step\u001b[0;34m(self, params)\u001b[0m\n\u001b[1;32m     98\u001b[0m \u001b[38;5;124;03m\"\"\"\u001b[39;00m\n\u001b[1;32m     99\u001b[0m \u001b[38;5;124;03mSimulates one step of the mass spectrometry process, and also\u001b[39;00m\n\u001b[1;32m    100\u001b[0m \u001b[38;5;124;03mcalling the controller on the result.\u001b[39;00m\n\u001b[0;32m   (...)\u001b[0m\n\u001b[1;32m    106\u001b[0m \n\u001b[1;32m    107\u001b[0m \u001b[38;5;124;03m\"\"\"\u001b[39;00m\n\u001b[1;32m    108\u001b[0m \u001b[38;5;66;03m# controller._process_scan() is called here immediately when\u001b[39;00m\n\u001b[1;32m    109\u001b[0m \u001b[38;5;66;03m# a scan is produced within a step\u001b[39;00m\n\u001b[0;32m--> 110\u001b[0m scan \u001b[38;5;241m=\u001b[39m \u001b[38;5;28;43mself\u001b[39;49m\u001b[38;5;241;43m.\u001b[39;49m\u001b[43mmass_spec\u001b[49m\u001b[38;5;241;43m.\u001b[39;49m\u001b[43mstep\u001b[49m\u001b[43m(\u001b[49m\u001b[43mparams\u001b[49m\u001b[38;5;241;43m=\u001b[39;49m\u001b[43mparams\u001b[49m\u001b[43m)\u001b[49m\n\u001b[1;32m    111\u001b[0m \u001b[38;5;28;01mif\u001b[39;00m scan \u001b[38;5;129;01mis\u001b[39;00m \u001b[38;5;129;01mnot\u001b[39;00m \u001b[38;5;28;01mNone\u001b[39;00m:\n\u001b[1;32m    112\u001b[0m     \u001b[38;5;66;03m# update controller internal states AFTER a scan has been\u001b[39;00m\n\u001b[1;32m    113\u001b[0m     \u001b[38;5;66;03m# generated and handled\u001b[39;00m\n\u001b[1;32m    114\u001b[0m     \u001b[38;5;28mself\u001b[39m\u001b[38;5;241m.\u001b[39mcontroller\u001b[38;5;241m.\u001b[39mupdate_state_after_scan(scan)\n",
      "File \u001b[0;32m/opt/conda/lib/python3.8/site-packages/vimms/MassSpec.py:401\u001b[0m, in \u001b[0;36mIndependentMassSpectrometer.step\u001b[0;34m(self, params, call_controller)\u001b[0m\n\u001b[1;32m    396\u001b[0m params \u001b[38;5;241m=\u001b[39m \u001b[38;5;28mself\u001b[39m\u001b[38;5;241m.\u001b[39mtask_manager\u001b[38;5;241m.\u001b[39mpop_pending()\n\u001b[1;32m    398\u001b[0m \u001b[38;5;66;03m# Make scan using the param that has been sent\u001b[39;00m\n\u001b[1;32m    399\u001b[0m \u001b[38;5;66;03m# Note that in the real mass spec, the scan generation\u001b[39;00m\n\u001b[1;32m    400\u001b[0m \u001b[38;5;66;03m# likely won't happen immediately after the param is sent.\u001b[39;00m\n\u001b[0;32m--> 401\u001b[0m new_scan \u001b[38;5;241m=\u001b[39m \u001b[38;5;28;43mself\u001b[39;49m\u001b[38;5;241;43m.\u001b[39;49m\u001b[43m_get_scan\u001b[49m\u001b[43m(\u001b[49m\u001b[38;5;28;43mself\u001b[39;49m\u001b[38;5;241;43m.\u001b[39;49m\u001b[43mtime\u001b[49m\u001b[43m,\u001b[49m\u001b[43m \u001b[49m\u001b[43mparams\u001b[49m\u001b[43m)\u001b[49m\n\u001b[1;32m    403\u001b[0m \u001b[38;5;66;03m# dispatch the generated scan to controller\u001b[39;00m\n\u001b[1;32m    404\u001b[0m \u001b[38;5;28;01mif\u001b[39;00m call_controller:\n",
      "File \u001b[0;32m/opt/conda/lib/python3.8/site-packages/vimms/MassSpec.py:646\u001b[0m, in \u001b[0;36mIndependentMassSpectrometer._get_scan\u001b[0;34m(self, scan_time, params)\u001b[0m\n\u001b[1;32m    643\u001b[0m chemical \u001b[38;5;241m=\u001b[39m \u001b[38;5;28mself\u001b[39m\u001b[38;5;241m.\u001b[39mchemicals[i]\n\u001b[1;32m    644\u001b[0m \u001b[38;5;66;03m# mzs is a list of (mz, intensity) for the different\u001b[39;00m\n\u001b[1;32m    645\u001b[0m \u001b[38;5;66;03m# adduct/isotopes combinations of a chemical\u001b[39;00m\n\u001b[0;32m--> 646\u001b[0m mzs \u001b[38;5;241m=\u001b[39m \u001b[38;5;28;43mself\u001b[39;49m\u001b[38;5;241;43m.\u001b[39;49m\u001b[43m_get_all_mz_peaks\u001b[49m\u001b[43m(\u001b[49m\u001b[43mchemical\u001b[49m\u001b[43m,\u001b[49m\u001b[43m \u001b[49m\u001b[43mscan_time\u001b[49m\u001b[43m,\u001b[49m\u001b[43m \u001b[49m\u001b[43muse_ms_level\u001b[49m\u001b[43m,\u001b[49m\n\u001b[1;32m    647\u001b[0m \u001b[43m                             \u001b[49m\u001b[43misolation_windows\u001b[49m\u001b[43m)\u001b[49m\n\u001b[1;32m    648\u001b[0m peaks \u001b[38;5;241m=\u001b[39m []\n\u001b[1;32m    649\u001b[0m peaks_ms1_intensities \u001b[38;5;241m=\u001b[39m []\n",
      "File \u001b[0;32m/opt/conda/lib/python3.8/site-packages/vimms/MassSpec.py:725\u001b[0m, in \u001b[0;36mIndependentMassSpectrometer._get_all_mz_peaks\u001b[0;34m(self, chemical, query_rt, ms_level, isolation_windows)\u001b[0m\n\u001b[1;32m    723\u001b[0m \u001b[38;5;28;01mfor\u001b[39;00m which_isotope \u001b[38;5;129;01min\u001b[39;00m \u001b[38;5;28mrange\u001b[39m(\u001b[38;5;28mlen\u001b[39m(chemical\u001b[38;5;241m.\u001b[39misotopes)):\n\u001b[1;32m    724\u001b[0m     \u001b[38;5;28;01mfor\u001b[39;00m which_adduct \u001b[38;5;129;01min\u001b[39;00m \u001b[38;5;28mrange\u001b[39m(\u001b[38;5;28mlen\u001b[39m(\u001b[38;5;28mself\u001b[39m\u001b[38;5;241m.\u001b[39m_get_adducts(chemical))):\n\u001b[0;32m--> 725\u001b[0m         peaks \u001b[38;5;241m=\u001b[39m \u001b[38;5;28;43mself\u001b[39;49m\u001b[38;5;241;43m.\u001b[39;49m\u001b[43m_get_mz_peaks\u001b[49m\u001b[43m(\u001b[49m\u001b[43mchemical\u001b[49m\u001b[43m,\u001b[49m\u001b[43m \u001b[49m\u001b[43mquery_rt\u001b[49m\u001b[43m,\u001b[49m\u001b[43m \u001b[49m\u001b[43mms_level\u001b[49m\u001b[43m,\u001b[49m\n\u001b[1;32m    726\u001b[0m \u001b[43m                                   \u001b[49m\u001b[43misolation_windows\u001b[49m\u001b[43m,\u001b[49m\u001b[43m \u001b[49m\u001b[43mwhich_isotope\u001b[49m\u001b[43m,\u001b[49m\n\u001b[1;32m    727\u001b[0m \u001b[43m                                   \u001b[49m\u001b[43mwhich_adduct\u001b[49m\u001b[43m)\u001b[49m\n\u001b[1;32m    728\u001b[0m         mz_peaks\u001b[38;5;241m.\u001b[39mextend(peaks)\n\u001b[1;32m    730\u001b[0m \u001b[38;5;66;03m# if no peaks generated, then just return None\u001b[39;00m\n",
      "File \u001b[0;32m/opt/conda/lib/python3.8/site-packages/vimms/MassSpec.py:794\u001b[0m, in \u001b[0;36mIndependentMassSpectrometer._get_mz_peaks\u001b[0;34m(self, chemical, query_rt, ms_level, isolation_windows, which_isotope, which_adduct)\u001b[0m\n\u001b[1;32m    788\u001b[0m     \u001b[38;5;28;01mreturn\u001b[39;00m return_values\n\u001b[1;32m    789\u001b[0m     \u001b[38;5;66;03m# return extra information here for logging\u001b[39;00m\n\u001b[1;32m    790\u001b[0m     \u001b[38;5;66;03m# TODO: Potential improve how the isotope spectra are generated\u001b[39;00m\n\u001b[1;32m    791\u001b[0m \u001b[38;5;28;01melse\u001b[39;00m:\n\u001b[1;32m    792\u001b[0m     \u001b[38;5;66;03m# check isolation window for ms2+ scans, queries children\u001b[39;00m\n\u001b[1;32m    793\u001b[0m     \u001b[38;5;66;03m# if isolation windows ok\u001b[39;00m\n\u001b[0;32m--> 794\u001b[0m     isolated \u001b[38;5;241m=\u001b[39m \u001b[38;5;28;43mself\u001b[39;49m\u001b[38;5;241;43m.\u001b[39;49m\u001b[43m_isolation_match\u001b[49m\u001b[43m(\u001b[49m\n\u001b[1;32m    795\u001b[0m \u001b[43m        \u001b[49m\u001b[43mchemical\u001b[49m\u001b[43m,\u001b[49m\u001b[43m \u001b[49m\u001b[43mquery_rt\u001b[49m\u001b[43m,\u001b[49m\u001b[43m \u001b[49m\u001b[43misolation_windows\u001b[49m\u001b[43m[\u001b[49m\u001b[43mchemical\u001b[49m\u001b[38;5;241;43m.\u001b[39;49m\u001b[43mms_level\u001b[49m\u001b[43m \u001b[49m\u001b[38;5;241;43m-\u001b[39;49m\u001b[43m \u001b[49m\u001b[38;5;241;43m1\u001b[39;49m\u001b[43m]\u001b[49m\u001b[43m,\u001b[49m\n\u001b[1;32m    796\u001b[0m \u001b[43m        \u001b[49m\u001b[43mwhich_isotope\u001b[49m\u001b[43m,\u001b[49m\u001b[43m \u001b[49m\u001b[43mwhich_adduct\u001b[49m\u001b[43m)\u001b[49m\n\u001b[1;32m    797\u001b[0m     \u001b[38;5;28;01mif\u001b[39;00m isolated \u001b[38;5;129;01mand\u001b[39;00m chemical\u001b[38;5;241m.\u001b[39mchildren \u001b[38;5;129;01mis\u001b[39;00m \u001b[38;5;129;01mnot\u001b[39;00m \u001b[38;5;28;01mNone\u001b[39;00m:\n\u001b[1;32m    798\u001b[0m         \u001b[38;5;28;01mfor\u001b[39;00m i \u001b[38;5;129;01min\u001b[39;00m \u001b[38;5;28mrange\u001b[39m(\u001b[38;5;28mlen\u001b[39m(chemical\u001b[38;5;241m.\u001b[39mchildren)):\n",
      "File \u001b[0;32m/opt/conda/lib/python3.8/site-packages/vimms/MassSpec.py:860\u001b[0m, in \u001b[0;36mIndependentMassSpectrometer._isolation_match\u001b[0;34m(self, chemical, query_rt, isolation_windows, which_isotope, which_adduct)\u001b[0m\n\u001b[1;32m    855\u001b[0m \u001b[38;5;28;01mdef\u001b[39;00m \u001b[38;5;21m_isolation_match\u001b[39m(\u001b[38;5;28mself\u001b[39m, chemical, query_rt, isolation_windows,\n\u001b[1;32m    856\u001b[0m                      which_isotope, which_adduct):\n\u001b[1;32m    857\u001b[0m     \u001b[38;5;66;03m# assumes list is formated like:\u001b[39;00m\n\u001b[1;32m    858\u001b[0m     \u001b[38;5;66;03m# [(min_1,max_1),(min_2,max_2),...]\u001b[39;00m\n\u001b[1;32m    859\u001b[0m     \u001b[38;5;28;01mfor\u001b[39;00m window \u001b[38;5;129;01min\u001b[39;00m isolation_windows:\n\u001b[0;32m--> 860\u001b[0m         \u001b[38;5;28;01mif\u001b[39;00m window[\u001b[38;5;241m0\u001b[39m] \u001b[38;5;241m<\u001b[39m \u001b[38;5;28;43mself\u001b[39;49m\u001b[38;5;241;43m.\u001b[39;49m\u001b[43m_get_mz\u001b[49m\u001b[43m(\u001b[49m\u001b[43mchemical\u001b[49m\u001b[43m,\u001b[49m\u001b[43m \u001b[49m\u001b[43mquery_rt\u001b[49m\u001b[43m,\u001b[49m\u001b[43m \u001b[49m\u001b[43mwhich_isotope\u001b[49m\u001b[43m,\u001b[49m\n\u001b[1;32m    861\u001b[0m \u001b[43m                                    \u001b[49m\u001b[43mwhich_adduct\u001b[49m\u001b[43m)\u001b[49m \u001b[38;5;241m<\u001b[39m\u001b[38;5;241m=\u001b[39m window[\u001b[38;5;241m1\u001b[39m]:\n\u001b[1;32m    862\u001b[0m             \u001b[38;5;28;01mreturn\u001b[39;00m \u001b[38;5;28;01mTrue\u001b[39;00m\n\u001b[1;32m    863\u001b[0m     \u001b[38;5;28;01mreturn\u001b[39;00m \u001b[38;5;28;01mFalse\u001b[39;00m\n",
      "File \u001b[0;32m/opt/conda/lib/python3.8/site-packages/vimms/MassSpec.py:839\u001b[0m, in \u001b[0;36mIndependentMassSpectrometer._get_mz\u001b[0;34m(self, chemical, query_rt, which_isotope, which_adduct)\u001b[0m\n\u001b[1;32m    836\u001b[0m \u001b[38;5;28;01mdef\u001b[39;00m \u001b[38;5;21m_get_mz\u001b[39m(\u001b[38;5;28mself\u001b[39m, chemical, query_rt, which_isotope, which_adduct):\n\u001b[1;32m    837\u001b[0m     \u001b[38;5;28;01mif\u001b[39;00m chemical\u001b[38;5;241m.\u001b[39mms_level \u001b[38;5;241m==\u001b[39m \u001b[38;5;241m1\u001b[39m:\n\u001b[1;32m    838\u001b[0m         \u001b[38;5;28;01mreturn\u001b[39;00m (adduct_transformation(chemical\u001b[38;5;241m.\u001b[39misotopes[which_isotope][\u001b[38;5;241m0\u001b[39m],\n\u001b[0;32m--> 839\u001b[0m                                       \u001b[38;5;28;43mself\u001b[39;49m\u001b[38;5;241;43m.\u001b[39;49m\u001b[43m_get_adducts\u001b[49m\u001b[43m(\u001b[49m\u001b[43mchemical\u001b[49m\u001b[43m)\u001b[49m[\n\u001b[1;32m    840\u001b[0m                                           which_adduct][\u001b[38;5;241m0\u001b[39m]) \u001b[38;5;241m+\u001b[39m\n\u001b[1;32m    841\u001b[0m                 chemical\u001b[38;5;241m.\u001b[39mchromatogram\u001b[38;5;241m.\u001b[39mget_relative_mz(\n\u001b[1;32m    842\u001b[0m                     query_rt \u001b[38;5;241m-\u001b[39m chemical\u001b[38;5;241m.\u001b[39mrt))\n\u001b[1;32m    843\u001b[0m     \u001b[38;5;28;01melse\u001b[39;00m:\n\u001b[1;32m    844\u001b[0m         ms1_parent \u001b[38;5;241m=\u001b[39m chemical\n",
      "\u001b[0;31mKeyboardInterrupt\u001b[0m: "
     ]
    }
   ],
   "source": [
    "method = 'SmartROI_Controller'\n",
    "print('method = %s' % method)\n",
    "print()\n",
    "\n",
    "chems = chem_list[0]\n",
    "res = {}\n",
    "for alpha in alphas:\n",
    "    for beta in betas:\n",
    "\n",
    "        mass_spec = IndependentMassSpectrometer(ionisation_mode, chems, spike_noise=spike_noise)\n",
    "        \n",
    "        roi_params = RoiBuilderParams(min_roi_intensity=0, min_roi_length=0)    \n",
    "        smartroi_params = SmartRoiParams(intensity_increase_factor=alpha, drop_perc=beta/100.0, dew=smartroi_dew)\n",
    "        controller = TopN_SmartRoiController(ionisation_mode, isolation_window, smartroi_N, mz_tol, smartroi_dew,\n",
    "                                    min_ms1_intensity, roi_params, smartroi_params)\n",
    "\n",
    "        env = Environment(mass_spec, controller, min_rt, max_rt, progress_bar=False, out_dir=out_dir,\n",
    "                          out_file='%s_%d.mzML' % (method, i), save_eval=True)\n",
    "        env.run()\n",
    "        eval_res = evaluate(env, intensity_threshold)\n",
    "        key = (N, rt_tol)\n",
    "        print(alpha, beta, eval_res)\n",
    "        res[key] = eval_res\n",
    "\n",
    "method_eval_results[method] = res"
   ]
  },
  {
   "cell_type": "markdown",
   "metadata": {
    "pycharm": {
     "name": "#%% md\n"
    }
   },
   "source": [
    "Run WeightedDEW Controller"
   ]
  },
  {
   "cell_type": "code",
   "execution_count": null,
   "metadata": {
    "pycharm": {
     "name": "#%%\n"
    }
   },
   "outputs": [],
   "source": [
    "t0s = [1, 3, 10, 15, 30, 60]\n",
    "t1s = [15, 60, 120, 240, 360, 3600]\n",
    "weighteddew_N = 10"
   ]
  },
  {
   "cell_type": "code",
   "execution_count": null,
   "metadata": {
    "pycharm": {
     "name": "#%%\n"
    }
   },
   "outputs": [],
   "source": [
    "method = 'WeightedDEW_Controller'\n",
    "print('method = %s' % method)\n",
    "print()\n",
    "\n",
    "chems = chem_list[0]\n",
    "res = {}\n",
    "for t0 in t0s:\n",
    "    for t1 in t1s:\n",
    "\n",
    "        if t0 > t1:\n",
    "            print('Invalid combination')\n",
    "            continue\n",
    "        \n",
    "        mass_spec = IndependentMassSpectrometer(ionisation_mode, chems, spike_noise=spike_noise)\n",
    "        \n",
    "        controller = WeightedDEWController(ionisation_mode, weighteddew_N, isolation_window, mz_tol, t1,\n",
    "                                    min_ms1_intensity, exclusion_t_0=t0)\n",
    "        \n",
    "        env = Environment(mass_spec, controller, min_rt, max_rt, progress_bar=False, out_dir=out_dir,\n",
    "                          out_file='%s_%d.mzML' % (method, i), save_eval=True)\n",
    "        env.run()\n",
    "        eval_res = evaluate(env, intensity_threshold)\n",
    "        key = (t0, t1)\n",
    "        print(t0, t1, eval_res)\n",
    "        res[key] = eval_res\n",
    "        \n",
    "method_eval_results[method] = res"
   ]
  },
  {
   "cell_type": "code",
   "execution_count": null,
   "metadata": {
    "pycharm": {
     "name": "#%%\n"
    }
   },
   "outputs": [],
   "source": []
  }
 ],
 "metadata": {
  "kernelspec": {
   "display_name": "Python 3 (ipykernel)",
   "language": "python",
   "name": "python3"
  },
  "language_info": {
   "codemirror_mode": {
    "name": "ipython",
    "version": 3
   },
   "file_extension": ".py",
   "mimetype": "text/x-python",
   "name": "python",
   "nbconvert_exporter": "python",
   "pygments_lexer": "ipython3",
   "version": "3.8.12"
  }
 },
 "nbformat": 4,
 "nbformat_minor": 4
}
