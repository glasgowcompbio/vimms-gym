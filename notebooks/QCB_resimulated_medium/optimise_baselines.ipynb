{
 "cells": [
  {
   "cell_type": "code",
   "execution_count": null,
   "metadata": {
    "tags": []
   },
   "outputs": [],
   "source": [
    "%matplotlib inline\n",
    "\n",
    "%load_ext autoreload\n",
    "%autoreload 2"
   ]
  },
  {
   "cell_type": "code",
   "execution_count": null,
   "metadata": {},
   "outputs": [],
   "source": [
    "import os\n",
    "import sys\n",
    "from os.path import exists\n",
    "\n",
    "sys.path.append('../..')"
   ]
  },
  {
   "cell_type": "code",
   "execution_count": null,
   "metadata": {
    "tags": []
   },
   "outputs": [],
   "source": [
    "import pylab as plt\n",
    "import pandas as pd\n",
    "import numpy as np\n",
    "from loguru import logger\n",
    "import seaborn as sns\n",
    "\n",
    "from stable_baselines3 import PPO, DQN"
   ]
  },
  {
   "cell_type": "code",
   "execution_count": null,
   "metadata": {
    "tags": []
   },
   "outputs": [],
   "source": [
    "from vimms.Common import POSITIVE, set_log_level_warning, load_obj, save_obj\n",
    "from vimms.ChemicalSamplers import UniformRTAndIntensitySampler, GaussianChromatogramSampler, UniformMZFormulaSampler, \\\n",
    "    MZMLFormulaSampler, MZMLRTandIntensitySampler, MZMLChromatogramSampler\n",
    "from vimms.Noise import UniformSpikeNoise\n",
    "from vimms.Evaluation import evaluate_real\n",
    "from vimms.Chemicals import ChemicalMixtureFromMZML\n",
    "from vimms.Roi import RoiBuilderParams, SmartRoiParams\n",
    "\n",
    "from mass_spec_utils.data_import.mzmine import load_picked_boxes\n",
    "\n",
    "from vimms_gym.env import DDAEnv\n",
    "from vimms_gym.chemicals import generate_chemicals\n",
    "from vimms_gym.evaluation import evaluate, run_method\n",
    "from vimms_gym.common import METHOD_RANDOM, METHOD_FULLSCAN, METHOD_TOPN, METHOD_PPO, METHOD_DQN"
   ]
  },
  {
   "cell_type": "markdown",
   "metadata": {},
   "source": [
    "# 1. Parameters"
   ]
  },
  {
   "cell_type": "code",
   "execution_count": null,
   "metadata": {
    "pycharm": {
     "name": "#%%\n"
    }
   },
   "outputs": [],
   "source": [
    "n_chemicals = (200, 500)\n",
    "mz_range = (100, 600)\n",
    "rt_range = (400, 800)\n",
    "intensity_range = (1E4, 1E20)"
   ]
  },
  {
   "cell_type": "code",
   "execution_count": null,
   "metadata": {
    "pycharm": {
     "name": "#%%\n"
    },
    "scrolled": true
   },
   "outputs": [],
   "source": [
    "min_mz = mz_range[0]\n",
    "max_mz = mz_range[1]\n",
    "min_rt = rt_range[0]\n",
    "max_rt = rt_range[1]\n",
    "min_log_intensity = np.log(intensity_range[0])\n",
    "max_log_intensity = np.log(intensity_range[1])"
   ]
  },
  {
   "cell_type": "code",
   "execution_count": null,
   "metadata": {
    "pycharm": {
     "name": "#%%\n"
    }
   },
   "outputs": [],
   "source": [
    "isolation_window = 0.7\n",
    "N = 10\n",
    "rt_tol = 120\n",
    "exclusion_t_0 = 15\n",
    "mz_tol = 10\n",
    "min_ms1_intensity = 5000\n",
    "ionisation_mode = POSITIVE\n",
    "\n",
    "enable_spike_noise = True\n",
    "noise_density = 0.1\n",
    "noise_max_val = 1E3"
   ]
  },
  {
   "cell_type": "code",
   "execution_count": null,
   "metadata": {
    "pycharm": {
     "name": "#%%\n"
    }
   },
   "outputs": [],
   "source": [
    "mzml_filename = '../fullscan_QCB.mzML'\n",
    "samplers_pickle = 'samplers_QCB_medium.p'\n",
    "if exists(samplers_pickle):\n",
    "    logger.info('Loaded %s' % samplers_pickle)\n",
    "    samplers = load_obj(samplers_pickle)\n",
    "    mz_sampler = samplers['mz']\n",
    "    ri_sampler = samplers['rt_intensity']\n",
    "    cr_sampler = samplers['chromatogram']\n",
    "else:\n",
    "    logger.info('Creating samplers from %s' % mzml_filename)\n",
    "    mz_sampler = MZMLFormulaSampler(mzml_filename, min_mz=min_mz, max_mz=max_mz)\n",
    "    ri_sampler = MZMLRTandIntensitySampler(mzml_filename, min_rt=min_rt, max_rt=max_rt,\n",
    "                                           min_log_intensity=min_log_intensity,\n",
    "                                           max_log_intensity=max_log_intensity)\n",
    "    roi_params = RoiBuilderParams(min_roi_length=3, at_least_one_point_above=5000)\n",
    "    cr_sampler = MZMLChromatogramSampler(mzml_filename, roi_params=roi_params)\n",
    "    samplers = {\n",
    "        'mz': mz_sampler,\n",
    "        'rt_intensity': ri_sampler,\n",
    "        'chromatogram': cr_sampler\n",
    "    }\n",
    "    save_obj(samplers, samplers_pickle)"
   ]
  },
  {
   "cell_type": "code",
   "execution_count": null,
   "metadata": {
    "pycharm": {
     "name": "#%%\n"
    }
   },
   "outputs": [],
   "source": [
    "params = {\n",
    "    'chemical_creator': {\n",
    "        'mz_range': mz_range,\n",
    "        'rt_range': rt_range,\n",
    "        'intensity_range': intensity_range,\n",
    "        'n_chemicals': n_chemicals,\n",
    "        'mz_sampler': mz_sampler,\n",
    "        'ri_sampler': ri_sampler,\n",
    "        'cr_sampler': cr_sampler\n",
    "    },\n",
    "    'noise': {\n",
    "        'enable_spike_noise': enable_spike_noise,\n",
    "        'noise_density': noise_density,\n",
    "        'noise_max_val': noise_max_val,\n",
    "        'mz_range': mz_range\n",
    "    },\n",
    "    'env': {\n",
    "        'ionisation_mode': ionisation_mode,\n",
    "        'rt_range': rt_range,\n",
    "        'isolation_window': isolation_window,\n",
    "        'mz_tol': mz_tol,\n",
    "        'rt_tol': rt_tol,\n",
    "    }\n",
    "}"
   ]
  },
  {
   "cell_type": "code",
   "execution_count": null,
   "metadata": {
    "pycharm": {
     "name": "#%%\n"
    }
   },
   "outputs": [],
   "source": [
    "max_peaks = 200\n",
    "in_dir = 'results'"
   ]
  },
  {
   "cell_type": "code",
   "execution_count": null,
   "metadata": {
    "pycharm": {
     "name": "#%%\n"
    }
   },
   "outputs": [],
   "source": [
    "n_eval_episodes = 1\n",
    "deterministic = True"
   ]
  },
  {
   "cell_type": "markdown",
   "metadata": {
    "tags": []
   },
   "source": [
    "# 2. Evaluation"
   ]
  },
  {
   "cell_type": "markdown",
   "metadata": {},
   "source": [
    "#### Generate some chemical sets"
   ]
  },
  {
   "cell_type": "code",
   "execution_count": null,
   "metadata": {},
   "outputs": [],
   "source": [
    "set_log_level_warning()"
   ]
  },
  {
   "cell_type": "code",
   "execution_count": null,
   "metadata": {},
   "outputs": [],
   "source": [
    "eval_dir = 'optimise_baselines'\n",
    "method = METHOD_TOPN"
   ]
  },
  {
   "cell_type": "code",
   "execution_count": null,
   "metadata": {},
   "outputs": [],
   "source": [
    "chemical_creator_params = params['chemical_creator']\n",
    "\n",
    "chem_list = []\n",
    "for i in range(n_eval_episodes):\n",
    "    print(i)\n",
    "    chems = generate_chemicals(chemical_creator_params)\n",
    "    chem_list.append(chems)"
   ]
  },
  {
   "cell_type": "markdown",
   "metadata": {},
   "source": [
    "#### Run different methods"
   ]
  },
  {
   "cell_type": "code",
   "execution_count": null,
   "metadata": {},
   "outputs": [],
   "source": [
    "for chems in chem_list:\n",
    "    print(len(chems))"
   ]
  },
  {
   "cell_type": "code",
   "execution_count": null,
   "metadata": {},
   "outputs": [],
   "source": [
    "max_peaks"
   ]
  },
  {
   "cell_type": "code",
   "execution_count": null,
   "metadata": {},
   "outputs": [],
   "source": [
    "out_dir = eval_dir\n",
    "in_dir, out_dir"
   ]
  },
  {
   "cell_type": "markdown",
   "metadata": {},
   "source": [
    "#### Compare to Top-10"
   ]
  },
  {
   "cell_type": "code",
   "execution_count": null,
   "metadata": {},
   "outputs": [],
   "source": [
    "env_name = 'DDAEnv'\n",
    "model_name = 'PPO'\n",
    "intensity_threshold = 0.5"
   ]
  },
  {
   "cell_type": "code",
   "execution_count": null,
   "metadata": {},
   "outputs": [],
   "source": [
    "rt_tols = [15, 30, 60, 120, 240, 300]\n",
    "Ns = [5, 10, 15, 20, 25]"
   ]
  },
  {
   "cell_type": "code",
   "execution_count": null,
   "metadata": {},
   "outputs": [],
   "source": [
    "topN_res = {}\n",
    "for rt_tol in rt_tols:\n",
    "    for N in Ns:\n",
    "\n",
    "        effective_rt_tol = rt_tol\n",
    "        copy_params = dict(params)        \n",
    "        copy_params['env']['rt_tol'] = effective_rt_tol\n",
    "\n",
    "        banner = 'method = %s max_peaks = %d N = %d rt_tol = %d' % (method, max_peaks, N, effective_rt_tol)\n",
    "        print(banner)\n",
    "        print()\n",
    "\n",
    "        if method == METHOD_PPO:\n",
    "            fname = os.path.join(in_dir, '%s_%s.zip' % (env_name, model_name))\n",
    "            model = PPO.load(fname)\n",
    "        elif method == METHOD_DQN:\n",
    "            fname = os.path.join(in_dir, '%s_%s.zip' % (env_name, model_name))\n",
    "            model = DQN.load(fname)\n",
    "        else:\n",
    "            model = None\n",
    "\n",
    "        episodic_results = run_method(env_name, copy_params, max_peaks, chem_list, method, out_dir, \n",
    "                                      N=N, min_ms1_intensity=min_ms1_intensity, model=model,\n",
    "                                      print_eval=True, print_reward=False, intensity_threshold=intensity_threshold)\n",
    "        eval_results = [er.eval_res for er in episodic_results][0]\n",
    "\n",
    "        key = (N, rt_tol)\n",
    "        topN_res[key] = eval_results\n",
    "        print()"
   ]
  },
  {
   "cell_type": "code",
   "execution_count": null,
   "metadata": {
    "tags": []
   },
   "outputs": [],
   "source": [
    "topN_res"
   ]
  },
  {
   "cell_type": "code",
   "execution_count": null,
   "metadata": {},
   "outputs": [],
   "source": [
    "method_eval_results = {\n",
    "    method: topN_res\n",
    "}"
   ]
  },
  {
   "cell_type": "markdown",
   "metadata": {},
   "source": [
    "#### Test classic controllers in ViMMS"
   ]
  },
  {
   "cell_type": "code",
   "execution_count": null,
   "metadata": {},
   "outputs": [],
   "source": [
    "from vimms.MassSpec import IndependentMassSpectrometer\n",
    "from vimms.Controller import TopNController, TopN_SmartRoiController, WeightedDEWController\n",
    "from vimms.Environment import Environment"
   ]
  },
  {
   "cell_type": "code",
   "execution_count": null,
   "metadata": {},
   "outputs": [],
   "source": [
    "spike_noise = None\n",
    "if enable_spike_noise:\n",
    "    noise_params = params['noise']\n",
    "    noise_density = noise_params['noise_density']\n",
    "    noise_max_val = noise_params['noise_max_val']\n",
    "    noise_min_mz = noise_params['mz_range'][0]\n",
    "    noise_max_mz = noise_params['mz_range'][1]\n",
    "    spike_noise = UniformSpikeNoise(noise_density, noise_max_val, min_mz=noise_min_mz,\n",
    "                                    max_mz=noise_max_mz)"
   ]
  },
  {
   "cell_type": "markdown",
   "metadata": {},
   "source": [
    "Run Top-N Controller"
   ]
  },
  {
   "cell_type": "code",
   "execution_count": null,
   "metadata": {},
   "outputs": [],
   "source": [
    "method = 'TopN_Controller'\n",
    "print('method = %s' % method)\n",
    "print()\n",
    "\n",
    "chems = chem_list[0]\n",
    "res = {}\n",
    "for rt_tol in rt_tols:\n",
    "    for N in Ns:\n",
    "\n",
    "        effective_rt_tol = rt_tol\n",
    "        mass_spec = IndependentMassSpectrometer(ionisation_mode, chems, spike_noise=spike_noise)\n",
    "        controller = TopNController(ionisation_mode, N, isolation_window, mz_tol, rt_tol,\n",
    "                                    min_ms1_intensity)\n",
    "        env = Environment(mass_spec, controller, min_rt, max_rt, progress_bar=False, out_dir=out_dir,\n",
    "                          out_file='%s_%d.mzML' % (method, i), save_eval=True)\n",
    "        env.run()\n",
    "        eval_res = evaluate(env, intensity_threshold)\n",
    "        key = (N, rt_tol)\n",
    "        print(N, rt_tol, eval_res)\n",
    "        res[key] = eval_res\n",
    "\n",
    "method_eval_results[method] = res"
   ]
  },
  {
   "cell_type": "markdown",
   "metadata": {},
   "source": [
    "Run SmartROI Controller"
   ]
  },
  {
   "cell_type": "markdown",
   "metadata": {},
   "source": [
    "TO FINISH BELOW"
   ]
  },
  {
   "cell_type": "code",
   "execution_count": null,
   "metadata": {},
   "outputs": [],
   "source": [
    "alphas = [2, 3, 5, 10, 1E3, 1E6]\n",
    "betas = [0, 0.1, 0.5, 1, 5]\n",
    "smartroi_N = 10\n",
    "smartroi_dew = 15"
   ]
  },
  {
   "cell_type": "code",
   "execution_count": null,
   "metadata": {},
   "outputs": [],
   "source": [
    "method = 'SmartROI_Controller'\n",
    "print('method = %s' % method)\n",
    "print()\n",
    "\n",
    "chems = chem_list[0]\n",
    "res = {}\n",
    "for alpha in alphas:\n",
    "    for beta in betas:\n",
    "\n",
    "        mass_spec = IndependentMassSpectrometer(ionisation_mode, chems, spike_noise=spike_noise)\n",
    "        \n",
    "        roi_params = RoiBuilderParams(min_roi_intensity=500, min_roi_length=0)    \n",
    "        smartroi_params = SmartRoiParams(intensity_increase_factor=alpha, drop_perc=beta/100.0)\n",
    "        controller = TopN_SmartRoiController(ionisation_mode, isolation_window, smartroi_N, mz_tol, smartroi_dew,\n",
    "                                    min_ms1_intensity, roi_params, smartroi_params)\n",
    "\n",
    "        env = Environment(mass_spec, controller, min_rt, max_rt, progress_bar=False, out_dir=out_dir,\n",
    "                          out_file='%s_%d.mzML' % (method, i), save_eval=True)\n",
    "        env.run()\n",
    "        eval_res = evaluate(env, intensity_threshold)\n",
    "        key = (N, rt_tol)\n",
    "        print(alpha, beta, eval_res)\n",
    "        res[key] = eval_res\n",
    "\n",
    "method_eval_results[method] = res"
   ]
  },
  {
   "cell_type": "markdown",
   "metadata": {},
   "source": [
    "Run WeightedDEW Controller"
   ]
  },
  {
   "cell_type": "code",
   "execution_count": null,
   "metadata": {},
   "outputs": [],
   "source": [
    "t0s = [1, 3, 10, 15, 30, 60]\n",
    "t1s = [15, 60, 120, 240, 360, 3600]\n",
    "weighteddew_N = 10"
   ]
  },
  {
   "cell_type": "code",
   "execution_count": null,
   "metadata": {},
   "outputs": [],
   "source": [
    "method = 'WeightedDEW_Controller'\n",
    "print('method = %s' % method)\n",
    "print()\n",
    "\n",
    "chems = chem_list[0]\n",
    "res = {}\n",
    "for t0 in t0s:\n",
    "    for t1 in t1s:\n",
    "\n",
    "        if t0 > t1:\n",
    "            print('Invalid combination')\n",
    "            continue\n",
    "        \n",
    "        mass_spec = IndependentMassSpectrometer(ionisation_mode, chems, spike_noise=spike_noise)\n",
    "        \n",
    "        controller = WeightedDEWController(ionisation_mode, weighteddew_N, isolation_window, mz_tol, t1,\n",
    "                                    min_ms1_intensity, exclusion_t_0=t0)\n",
    "        \n",
    "        env = Environment(mass_spec, controller, min_rt, max_rt, progress_bar=False, out_dir=out_dir,\n",
    "                          out_file='%s_%d.mzML' % (method, i), save_eval=True)\n",
    "        env.run()\n",
    "        eval_res = evaluate(env, intensity_threshold)\n",
    "        key = (t0, t1)\n",
    "        print(t0, t1, eval_res)\n",
    "        res[key] = eval_res\n",
    "        \n",
    "method_eval_results[method] = res"
   ]
  },
  {
   "cell_type": "code",
   "execution_count": null,
   "metadata": {},
   "outputs": [],
   "source": []
  }
 ],
 "metadata": {
  "kernelspec": {
   "display_name": "Python 3 (ipykernel)",
   "language": "python",
   "name": "python3"
  },
  "language_info": {
   "codemirror_mode": {
    "name": "ipython",
    "version": 3
   },
   "file_extension": ".py",
   "mimetype": "text/x-python",
   "name": "python",
   "nbconvert_exporter": "python",
   "pygments_lexer": "ipython3",
   "version": "3.9.7"
  }
 },
 "nbformat": 4,
 "nbformat_minor": 4
}
