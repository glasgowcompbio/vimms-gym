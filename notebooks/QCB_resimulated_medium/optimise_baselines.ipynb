{
 "cells": [
  {
   "cell_type": "code",
   "execution_count": 1,
   "metadata": {
    "pycharm": {
     "name": "#%%\n"
    },
    "tags": []
   },
   "outputs": [],
   "source": [
    "%matplotlib inline\n",
    "\n",
    "%load_ext autoreload\n",
    "%autoreload 2"
   ]
  },
  {
   "cell_type": "code",
   "execution_count": 2,
   "metadata": {
    "pycharm": {
     "name": "#%%\n"
    }
   },
   "outputs": [],
   "source": [
    "import os\n",
    "import sys\n",
    "from os.path import exists\n",
    "\n",
    "sys.path.append('../..')"
   ]
  },
  {
   "cell_type": "code",
   "execution_count": 3,
   "metadata": {
    "pycharm": {
     "name": "#%%\n"
    },
    "tags": []
   },
   "outputs": [],
   "source": [
    "import pylab as plt\n",
    "import pandas as pd\n",
    "import numpy as np\n",
    "from loguru import logger\n",
    "import seaborn as sns\n",
    "\n",
    "from stable_baselines3 import PPO, DQN"
   ]
  },
  {
   "cell_type": "code",
   "execution_count": 4,
   "metadata": {
    "pycharm": {
     "name": "#%%\n"
    },
    "tags": []
   },
   "outputs": [],
   "source": [
    "from vimms.Common import POSITIVE, set_log_level_warning, load_obj, save_obj\n",
    "from vimms.ChemicalSamplers import UniformRTAndIntensitySampler, GaussianChromatogramSampler, UniformMZFormulaSampler, \\\n",
    "    MZMLFormulaSampler, MZMLRTandIntensitySampler, MZMLChromatogramSampler\n",
    "from vimms.Noise import UniformSpikeNoise\n",
    "from vimms.Evaluation import evaluate_real\n",
    "from vimms.Chemicals import ChemicalMixtureFromMZML\n",
    "from vimms.Roi import RoiBuilderParams, SmartRoiParams\n",
    "\n",
    "from mass_spec_utils.data_import.mzmine import load_picked_boxes\n",
    "\n",
    "from vimms_gym.env import DDAEnv\n",
    "from vimms_gym.chemicals import generate_chemicals\n",
    "from vimms_gym.evaluation import evaluate, run_method\n",
    "from vimms_gym.common import METHOD_RANDOM, METHOD_FULLSCAN, METHOD_TOPN, METHOD_PPO, METHOD_DQN"
   ]
  },
  {
   "cell_type": "markdown",
   "metadata": {
    "pycharm": {
     "name": "#%% md\n"
    }
   },
   "source": [
    "# 1. Parameters"
   ]
  },
  {
   "cell_type": "code",
   "execution_count": 5,
   "metadata": {
    "pycharm": {
     "name": "#%%\n"
    }
   },
   "outputs": [],
   "source": [
    "n_chemicals = (200, 500)\n",
    "mz_range = (100, 600)\n",
    "rt_range = (400, 800)\n",
    "intensity_range = (1E4, 1E20)"
   ]
  },
  {
   "cell_type": "code",
   "execution_count": 6,
   "metadata": {
    "pycharm": {
     "name": "#%%\n"
    },
    "scrolled": true
   },
   "outputs": [],
   "source": [
    "min_mz = mz_range[0]\n",
    "max_mz = mz_range[1]\n",
    "min_rt = rt_range[0]\n",
    "max_rt = rt_range[1]\n",
    "min_log_intensity = np.log(intensity_range[0])\n",
    "max_log_intensity = np.log(intensity_range[1])"
   ]
  },
  {
   "cell_type": "code",
   "execution_count": 7,
   "metadata": {
    "pycharm": {
     "name": "#%%\n"
    }
   },
   "outputs": [],
   "source": [
    "isolation_window = 0.7\n",
    "N = 10\n",
    "rt_tol = 120\n",
    "exclusion_t_0 = 15\n",
    "mz_tol = 10\n",
    "min_ms1_intensity = 5000\n",
    "ionisation_mode = POSITIVE\n",
    "\n",
    "enable_spike_noise = True\n",
    "noise_density = 0.1\n",
    "noise_max_val = 1E3"
   ]
  },
  {
   "cell_type": "code",
   "execution_count": 8,
   "metadata": {
    "pycharm": {
     "name": "#%%\n"
    }
   },
   "outputs": [
    {
     "name": "stderr",
     "output_type": "stream",
     "text": [
      "2022-08-04 14:57:04.660 | INFO     | __main__:<module>:10 - Creating samplers from ../fullscan_QCB.mzML\n",
      "2022-08-04 14:57:05.861 | DEBUG    | mass_spec_utils.data_import.mzml:_load_file:166 - Loaded 2471 scans\n",
      "2022-08-04 14:57:08.640 | DEBUG    | mass_spec_utils.data_import.mzml:_load_file:166 - Loaded 2471 scans\n",
      "2022-08-04 15:00:13.130 | DEBUG    | vimms.ChemicalSamplers:_extract_rois:491 - Extracted 69 good ROIs from ../fullscan_QCB.mzML\n",
      "2022-08-04 15:00:13.132 | INFO     | vimms.Common:save_obj:410 - Saving <class 'dict'> to samplers_QCB_medium.p\n"
     ]
    }
   ],
   "source": [
    "mzml_filename = '../fullscan_QCB.mzML'\n",
    "samplers_pickle = 'samplers_QCB_medium.p'\n",
    "if exists(samplers_pickle):\n",
    "    logger.info('Loaded %s' % samplers_pickle)\n",
    "    samplers = load_obj(samplers_pickle)\n",
    "    mz_sampler = samplers['mz']\n",
    "    ri_sampler = samplers['rt_intensity']\n",
    "    cr_sampler = samplers['chromatogram']\n",
    "else:\n",
    "    logger.info('Creating samplers from %s' % mzml_filename)\n",
    "    mz_sampler = MZMLFormulaSampler(mzml_filename, min_mz=min_mz, max_mz=max_mz)\n",
    "    ri_sampler = MZMLRTandIntensitySampler(mzml_filename, min_rt=min_rt, max_rt=max_rt,\n",
    "                                           min_log_intensity=min_log_intensity,\n",
    "                                           max_log_intensity=max_log_intensity)\n",
    "    roi_params = RoiBuilderParams(min_roi_length=3, at_least_one_point_above=5E5)\n",
    "    cr_sampler = MZMLChromatogramSampler(mzml_filename, roi_params=roi_params)\n",
    "    samplers = {\n",
    "        'mz': mz_sampler,\n",
    "        'rt_intensity': ri_sampler,\n",
    "        'chromatogram': cr_sampler\n",
    "    }\n",
    "    save_obj(samplers, samplers_pickle)"
   ]
  },
  {
   "cell_type": "code",
   "execution_count": 9,
   "metadata": {
    "pycharm": {
     "name": "#%%\n"
    }
   },
   "outputs": [],
   "source": [
    "params = {\n",
    "    'chemical_creator': {\n",
    "        'mz_range': mz_range,\n",
    "        'rt_range': rt_range,\n",
    "        'intensity_range': intensity_range,\n",
    "        'n_chemicals': n_chemicals,\n",
    "        'mz_sampler': mz_sampler,\n",
    "        'ri_sampler': ri_sampler,\n",
    "        'cr_sampler': cr_sampler\n",
    "    },\n",
    "    'noise': {\n",
    "        'enable_spike_noise': enable_spike_noise,\n",
    "        'noise_density': noise_density,\n",
    "        'noise_max_val': noise_max_val,\n",
    "        'mz_range': mz_range\n",
    "    },\n",
    "    'env': {\n",
    "        'ionisation_mode': ionisation_mode,\n",
    "        'rt_range': rt_range,\n",
    "        'isolation_window': isolation_window,\n",
    "        'mz_tol': mz_tol,\n",
    "        'rt_tol': rt_tol,\n",
    "    }\n",
    "}"
   ]
  },
  {
   "cell_type": "code",
   "execution_count": 10,
   "metadata": {
    "pycharm": {
     "name": "#%%\n"
    }
   },
   "outputs": [],
   "source": [
    "max_peaks = 200\n",
    "in_dir = 'results'"
   ]
  },
  {
   "cell_type": "code",
   "execution_count": 11,
   "metadata": {
    "pycharm": {
     "name": "#%%\n"
    }
   },
   "outputs": [],
   "source": [
    "n_eval_episodes = 1\n",
    "deterministic = True"
   ]
  },
  {
   "cell_type": "markdown",
   "metadata": {
    "pycharm": {
     "name": "#%% md\n"
    },
    "tags": []
   },
   "source": [
    "# 2. Evaluation"
   ]
  },
  {
   "cell_type": "markdown",
   "metadata": {
    "pycharm": {
     "name": "#%% md\n"
    }
   },
   "source": [
    "#### Generate some chemical sets"
   ]
  },
  {
   "cell_type": "code",
   "execution_count": 12,
   "metadata": {
    "pycharm": {
     "name": "#%%\n"
    }
   },
   "outputs": [
    {
     "data": {
      "text/plain": [
       "1"
      ]
     },
     "execution_count": 12,
     "metadata": {},
     "output_type": "execute_result"
    }
   ],
   "source": [
    "set_log_level_warning()"
   ]
  },
  {
   "cell_type": "code",
   "execution_count": 13,
   "metadata": {
    "pycharm": {
     "name": "#%%\n"
    }
   },
   "outputs": [],
   "source": [
    "eval_dir = 'optimise_baselines'\n",
    "method = METHOD_TOPN"
   ]
  },
  {
   "cell_type": "code",
   "execution_count": 14,
   "metadata": {
    "pycharm": {
     "name": "#%%\n"
    }
   },
   "outputs": [
    {
     "name": "stdout",
     "output_type": "stream",
     "text": [
      "0\n"
     ]
    }
   ],
   "source": [
    "chemical_creator_params = params['chemical_creator']\n",
    "\n",
    "chem_list = []\n",
    "for i in range(n_eval_episodes):\n",
    "    print(i)\n",
    "    chems = generate_chemicals(chemical_creator_params)\n",
    "    chem_list.append(chems)"
   ]
  },
  {
   "cell_type": "markdown",
   "metadata": {
    "pycharm": {
     "name": "#%% md\n"
    }
   },
   "source": [
    "#### Run different methods"
   ]
  },
  {
   "cell_type": "code",
   "execution_count": 15,
   "metadata": {
    "pycharm": {
     "name": "#%%\n"
    }
   },
   "outputs": [
    {
     "name": "stdout",
     "output_type": "stream",
     "text": [
      "364\n"
     ]
    }
   ],
   "source": [
    "for chems in chem_list:\n",
    "    print(len(chems))"
   ]
  },
  {
   "cell_type": "code",
   "execution_count": 16,
   "metadata": {
    "pycharm": {
     "name": "#%%\n"
    }
   },
   "outputs": [
    {
     "data": {
      "text/plain": [
       "200"
      ]
     },
     "execution_count": 16,
     "metadata": {},
     "output_type": "execute_result"
    }
   ],
   "source": [
    "max_peaks"
   ]
  },
  {
   "cell_type": "code",
   "execution_count": 17,
   "metadata": {
    "pycharm": {
     "name": "#%%\n"
    }
   },
   "outputs": [
    {
     "data": {
      "text/plain": [
       "('results', 'optimise_baselines')"
      ]
     },
     "execution_count": 17,
     "metadata": {},
     "output_type": "execute_result"
    }
   ],
   "source": [
    "out_dir = eval_dir\n",
    "in_dir, out_dir"
   ]
  },
  {
   "cell_type": "markdown",
   "metadata": {
    "pycharm": {
     "name": "#%% md\n"
    }
   },
   "source": [
    "#### Compare to Top-10"
   ]
  },
  {
   "cell_type": "code",
   "execution_count": 18,
   "metadata": {
    "pycharm": {
     "name": "#%%\n"
    }
   },
   "outputs": [],
   "source": [
    "env_name = 'DDAEnv'\n",
    "model_name = 'PPO'\n",
    "intensity_threshold = 0.5"
   ]
  },
  {
   "cell_type": "code",
   "execution_count": 19,
   "metadata": {
    "pycharm": {
     "name": "#%%\n"
    }
   },
   "outputs": [],
   "source": [
    "rt_tols = [15, 30, 60, 120, 240, 300]\n",
    "Ns = [5, 10, 15, 20, 25]"
   ]
  },
  {
   "cell_type": "code",
   "execution_count": 20,
   "metadata": {
    "pycharm": {
     "name": "#%%\n"
    }
   },
   "outputs": [
    {
     "name": "stdout",
     "output_type": "stream",
     "text": [
      "method = topN max_peaks = 200 N = 5 rt_tol = 15\n",
      "\n",
      "{'coverage_prop': '0.959', 'intensity_prop': '0.524', 'ms1/ms2 ratio': '0.975', 'efficiency': '0.515', 'TP': '114', 'FP': '139', 'FN': '111', 'precision': '0.451', 'recall': '0.507', 'f1': '0.477'}\n",
      "\n",
      "method = topN max_peaks = 200 N = 10 rt_tol = 15\n",
      "\n",
      "{'coverage_prop': '0.959', 'intensity_prop': '0.524', 'ms1/ms2 ratio': '0.966', 'efficiency': '0.512', 'TP': '115', 'FP': '138', 'FN': '111', 'precision': '0.455', 'recall': '0.509', 'f1': '0.480'}\n",
      "\n",
      "method = topN max_peaks = 200 N = 15 rt_tol = 15\n",
      "\n",
      "{'coverage_prop': '0.959', 'intensity_prop': '0.524', 'ms1/ms2 ratio': '0.966', 'efficiency': '0.512', 'TP': '115', 'FP': '138', 'FN': '111', 'precision': '0.455', 'recall': '0.509', 'f1': '0.480'}\n",
      "\n",
      "method = topN max_peaks = 200 N = 20 rt_tol = 15\n",
      "\n",
      "{'coverage_prop': '0.959', 'intensity_prop': '0.524', 'ms1/ms2 ratio': '0.966', 'efficiency': '0.512', 'TP': '115', 'FP': '138', 'FN': '111', 'precision': '0.455', 'recall': '0.509', 'f1': '0.480'}\n",
      "\n",
      "method = topN max_peaks = 200 N = 25 rt_tol = 15\n",
      "\n",
      "{'coverage_prop': '0.959', 'intensity_prop': '0.524', 'ms1/ms2 ratio': '0.966', 'efficiency': '0.512', 'TP': '115', 'FP': '138', 'FN': '111', 'precision': '0.455', 'recall': '0.509', 'f1': '0.480'}\n",
      "\n",
      "method = topN max_peaks = 200 N = 5 rt_tol = 30\n",
      "\n",
      "{'coverage_prop': '0.962', 'intensity_prop': '0.423', 'ms1/ms2 ratio': '1.724', 'efficiency': '0.778', 'TP': '70', 'FP': '181', 'FN': '113', 'precision': '0.279', 'recall': '0.383', 'f1': '0.323'}\n",
      "\n",
      "method = topN max_peaks = 200 N = 10 rt_tol = 30\n",
      "\n",
      "{'coverage_prop': '0.962', 'intensity_prop': '0.425', 'ms1/ms2 ratio': '1.724', 'efficiency': '0.778', 'TP': '71', 'FP': '180', 'FN': '113', 'precision': '0.283', 'recall': '0.386', 'f1': '0.326'}\n",
      "\n",
      "method = topN max_peaks = 200 N = 15 rt_tol = 30\n",
      "\n",
      "{'coverage_prop': '0.962', 'intensity_prop': '0.425', 'ms1/ms2 ratio': '1.724', 'efficiency': '0.778', 'TP': '71', 'FP': '180', 'FN': '113', 'precision': '0.283', 'recall': '0.386', 'f1': '0.326'}\n",
      "\n",
      "method = topN max_peaks = 200 N = 20 rt_tol = 30\n",
      "\n",
      "{'coverage_prop': '0.962', 'intensity_prop': '0.425', 'ms1/ms2 ratio': '1.724', 'efficiency': '0.778', 'TP': '71', 'FP': '180', 'FN': '113', 'precision': '0.283', 'recall': '0.386', 'f1': '0.326'}\n",
      "\n",
      "method = topN max_peaks = 200 N = 25 rt_tol = 30\n",
      "\n",
      "{'coverage_prop': '0.962', 'intensity_prop': '0.425', 'ms1/ms2 ratio': '1.724', 'efficiency': '0.778', 'TP': '71', 'FP': '180', 'FN': '113', 'precision': '0.283', 'recall': '0.386', 'f1': '0.326'}\n",
      "\n",
      "method = topN max_peaks = 200 N = 5 rt_tol = 60\n",
      "\n",
      "{'coverage_prop': '0.959', 'intensity_prop': '0.379', 'ms1/ms2 ratio': '2.176', 'efficiency': '0.933', 'TP': '54', 'FP': '195', 'FN': '115', 'precision': '0.217', 'recall': '0.320', 'f1': '0.258'}\n",
      "\n",
      "method = topN max_peaks = 200 N = 10 rt_tol = 60\n",
      "\n",
      "{'coverage_prop': '0.959', 'intensity_prop': '0.379', 'ms1/ms2 ratio': '2.176', 'efficiency': '0.933', 'TP': '54', 'FP': '195', 'FN': '115', 'precision': '0.217', 'recall': '0.320', 'f1': '0.258'}\n",
      "\n",
      "method = topN max_peaks = 200 N = 15 rt_tol = 60\n",
      "\n",
      "{'coverage_prop': '0.959', 'intensity_prop': '0.379', 'ms1/ms2 ratio': '2.176', 'efficiency': '0.933', 'TP': '54', 'FP': '195', 'FN': '115', 'precision': '0.217', 'recall': '0.320', 'f1': '0.258'}\n",
      "\n",
      "method = topN max_peaks = 200 N = 20 rt_tol = 60\n",
      "\n",
      "{'coverage_prop': '0.959', 'intensity_prop': '0.379', 'ms1/ms2 ratio': '2.176', 'efficiency': '0.933', 'TP': '54', 'FP': '195', 'FN': '115', 'precision': '0.217', 'recall': '0.320', 'f1': '0.258'}\n",
      "\n",
      "method = topN max_peaks = 200 N = 25 rt_tol = 60\n",
      "\n",
      "{'coverage_prop': '0.959', 'intensity_prop': '0.379', 'ms1/ms2 ratio': '2.176', 'efficiency': '0.933', 'TP': '54', 'FP': '195', 'FN': '115', 'precision': '0.217', 'recall': '0.320', 'f1': '0.258'}\n",
      "\n",
      "method = topN max_peaks = 200 N = 5 rt_tol = 120\n",
      "\n",
      "{'coverage_prop': '0.962', 'intensity_prop': '0.375', 'ms1/ms2 ratio': '2.296', 'efficiency': '0.978', 'TP': '50', 'FP': '199', 'FN': '115', 'precision': '0.201', 'recall': '0.303', 'f1': '0.242'}\n",
      "\n",
      "method = topN max_peaks = 200 N = 10 rt_tol = 120\n",
      "\n",
      "{'coverage_prop': '0.962', 'intensity_prop': '0.375', 'ms1/ms2 ratio': '2.296', 'efficiency': '0.978', 'TP': '50', 'FP': '199', 'FN': '115', 'precision': '0.201', 'recall': '0.303', 'f1': '0.242'}\n",
      "\n",
      "method = topN max_peaks = 200 N = 15 rt_tol = 120\n",
      "\n",
      "{'coverage_prop': '0.962', 'intensity_prop': '0.375', 'ms1/ms2 ratio': '2.296', 'efficiency': '0.978', 'TP': '50', 'FP': '199', 'FN': '115', 'precision': '0.201', 'recall': '0.303', 'f1': '0.242'}\n",
      "\n",
      "method = topN max_peaks = 200 N = 20 rt_tol = 120\n",
      "\n",
      "{'coverage_prop': '0.962', 'intensity_prop': '0.375', 'ms1/ms2 ratio': '2.296', 'efficiency': '0.978', 'TP': '50', 'FP': '199', 'FN': '115', 'precision': '0.201', 'recall': '0.303', 'f1': '0.242'}\n",
      "\n",
      "method = topN max_peaks = 200 N = 25 rt_tol = 120\n",
      "\n",
      "{'coverage_prop': '0.962', 'intensity_prop': '0.375', 'ms1/ms2 ratio': '2.296', 'efficiency': '0.978', 'TP': '50', 'FP': '199', 'FN': '115', 'precision': '0.201', 'recall': '0.303', 'f1': '0.242'}\n",
      "\n",
      "method = topN max_peaks = 200 N = 5 rt_tol = 240\n",
      "\n",
      "{'coverage_prop': '0.956', 'intensity_prop': '0.367', 'ms1/ms2 ratio': '2.427', 'efficiency': '1.018', 'TP': '49', 'FP': '199', 'FN': '116', 'precision': '0.198', 'recall': '0.297', 'f1': '0.237'}\n",
      "\n",
      "method = topN max_peaks = 200 N = 10 rt_tol = 240\n",
      "\n",
      "{'coverage_prop': '0.956', 'intensity_prop': '0.367', 'ms1/ms2 ratio': '2.427', 'efficiency': '1.018', 'TP': '49', 'FP': '199', 'FN': '116', 'precision': '0.198', 'recall': '0.297', 'f1': '0.237'}\n",
      "\n",
      "method = topN max_peaks = 200 N = 15 rt_tol = 240\n",
      "\n",
      "{'coverage_prop': '0.956', 'intensity_prop': '0.367', 'ms1/ms2 ratio': '2.427', 'efficiency': '1.018', 'TP': '49', 'FP': '199', 'FN': '116', 'precision': '0.198', 'recall': '0.297', 'f1': '0.237'}\n",
      "\n",
      "method = topN max_peaks = 200 N = 20 rt_tol = 240\n",
      "\n",
      "{'coverage_prop': '0.956', 'intensity_prop': '0.367', 'ms1/ms2 ratio': '2.427', 'efficiency': '1.018', 'TP': '49', 'FP': '199', 'FN': '116', 'precision': '0.198', 'recall': '0.297', 'f1': '0.237'}\n",
      "\n",
      "method = topN max_peaks = 200 N = 25 rt_tol = 240\n",
      "\n",
      "{'coverage_prop': '0.956', 'intensity_prop': '0.367', 'ms1/ms2 ratio': '2.427', 'efficiency': '1.018', 'TP': '49', 'FP': '199', 'FN': '116', 'precision': '0.198', 'recall': '0.297', 'f1': '0.237'}\n",
      "\n",
      "method = topN max_peaks = 200 N = 5 rt_tol = 300\n",
      "\n",
      "{'coverage_prop': '0.956', 'intensity_prop': '0.365', 'ms1/ms2 ratio': '2.434', 'efficiency': '1.021', 'TP': '52', 'FP': '196', 'FN': '116', 'precision': '0.210', 'recall': '0.310', 'f1': '0.250'}\n",
      "\n",
      "method = topN max_peaks = 200 N = 10 rt_tol = 300\n",
      "\n",
      "{'coverage_prop': '0.956', 'intensity_prop': '0.365', 'ms1/ms2 ratio': '2.434', 'efficiency': '1.021', 'TP': '52', 'FP': '196', 'FN': '116', 'precision': '0.210', 'recall': '0.310', 'f1': '0.250'}\n",
      "\n",
      "method = topN max_peaks = 200 N = 15 rt_tol = 300\n",
      "\n",
      "{'coverage_prop': '0.956', 'intensity_prop': '0.365', 'ms1/ms2 ratio': '2.434', 'efficiency': '1.021', 'TP': '52', 'FP': '196', 'FN': '116', 'precision': '0.210', 'recall': '0.310', 'f1': '0.250'}\n",
      "\n",
      "method = topN max_peaks = 200 N = 20 rt_tol = 300\n",
      "\n",
      "{'coverage_prop': '0.956', 'intensity_prop': '0.365', 'ms1/ms2 ratio': '2.434', 'efficiency': '1.021', 'TP': '52', 'FP': '196', 'FN': '116', 'precision': '0.210', 'recall': '0.310', 'f1': '0.250'}\n",
      "\n",
      "method = topN max_peaks = 200 N = 25 rt_tol = 300\n",
      "\n",
      "{'coverage_prop': '0.956', 'intensity_prop': '0.365', 'ms1/ms2 ratio': '2.434', 'efficiency': '1.021', 'TP': '52', 'FP': '196', 'FN': '116', 'precision': '0.210', 'recall': '0.310', 'f1': '0.250'}\n",
      "\n"
     ]
    }
   ],
   "source": [
    "topN_res = {}\n",
    "for rt_tol in rt_tols:\n",
    "    for N in Ns:\n",
    "\n",
    "        effective_rt_tol = rt_tol\n",
    "        copy_params = dict(params)        \n",
    "        copy_params['env']['rt_tol'] = effective_rt_tol\n",
    "\n",
    "        banner = 'method = %s max_peaks = %d N = %d rt_tol = %d' % (method, max_peaks, N, effective_rt_tol)\n",
    "        print(banner)\n",
    "        print()\n",
    "\n",
    "        if method == METHOD_PPO:\n",
    "            fname = os.path.join(in_dir, '%s_%s.zip' % (env_name, model_name))\n",
    "            model = PPO.load(fname)\n",
    "        elif method == METHOD_DQN:\n",
    "            fname = os.path.join(in_dir, '%s_%s.zip' % (env_name, model_name))\n",
    "            model = DQN.load(fname)\n",
    "        else:\n",
    "            model = None\n",
    "\n",
    "        episodic_results = run_method(env_name, copy_params, max_peaks, chem_list, method, out_dir, \n",
    "                                      N=N, min_ms1_intensity=min_ms1_intensity, model=model,\n",
    "                                      print_eval=True, print_reward=False, intensity_threshold=intensity_threshold)\n",
    "        eval_results = [er.eval_res for er in episodic_results][0]\n",
    "\n",
    "        key = (N, rt_tol)\n",
    "        topN_res[key] = eval_results\n",
    "        print()"
   ]
  },
  {
   "cell_type": "code",
   "execution_count": 21,
   "metadata": {
    "pycharm": {
     "name": "#%%\n"
    },
    "tags": []
   },
   "outputs": [
    {
     "data": {
      "text/plain": [
       "{(5, 15): {'coverage_prop': '0.959',\n",
       "  'intensity_prop': '0.524',\n",
       "  'ms1/ms2 ratio': '0.975',\n",
       "  'efficiency': '0.515',\n",
       "  'TP': '114',\n",
       "  'FP': '139',\n",
       "  'FN': '111',\n",
       "  'precision': '0.451',\n",
       "  'recall': '0.507',\n",
       "  'f1': '0.477'},\n",
       " (10, 15): {'coverage_prop': '0.959',\n",
       "  'intensity_prop': '0.524',\n",
       "  'ms1/ms2 ratio': '0.966',\n",
       "  'efficiency': '0.512',\n",
       "  'TP': '115',\n",
       "  'FP': '138',\n",
       "  'FN': '111',\n",
       "  'precision': '0.455',\n",
       "  'recall': '0.509',\n",
       "  'f1': '0.480'},\n",
       " (15, 15): {'coverage_prop': '0.959',\n",
       "  'intensity_prop': '0.524',\n",
       "  'ms1/ms2 ratio': '0.966',\n",
       "  'efficiency': '0.512',\n",
       "  'TP': '115',\n",
       "  'FP': '138',\n",
       "  'FN': '111',\n",
       "  'precision': '0.455',\n",
       "  'recall': '0.509',\n",
       "  'f1': '0.480'},\n",
       " (20, 15): {'coverage_prop': '0.959',\n",
       "  'intensity_prop': '0.524',\n",
       "  'ms1/ms2 ratio': '0.966',\n",
       "  'efficiency': '0.512',\n",
       "  'TP': '115',\n",
       "  'FP': '138',\n",
       "  'FN': '111',\n",
       "  'precision': '0.455',\n",
       "  'recall': '0.509',\n",
       "  'f1': '0.480'},\n",
       " (25, 15): {'coverage_prop': '0.959',\n",
       "  'intensity_prop': '0.524',\n",
       "  'ms1/ms2 ratio': '0.966',\n",
       "  'efficiency': '0.512',\n",
       "  'TP': '115',\n",
       "  'FP': '138',\n",
       "  'FN': '111',\n",
       "  'precision': '0.455',\n",
       "  'recall': '0.509',\n",
       "  'f1': '0.480'},\n",
       " (5, 30): {'coverage_prop': '0.962',\n",
       "  'intensity_prop': '0.423',\n",
       "  'ms1/ms2 ratio': '1.724',\n",
       "  'efficiency': '0.778',\n",
       "  'TP': '70',\n",
       "  'FP': '181',\n",
       "  'FN': '113',\n",
       "  'precision': '0.279',\n",
       "  'recall': '0.383',\n",
       "  'f1': '0.323'},\n",
       " (10, 30): {'coverage_prop': '0.962',\n",
       "  'intensity_prop': '0.425',\n",
       "  'ms1/ms2 ratio': '1.724',\n",
       "  'efficiency': '0.778',\n",
       "  'TP': '71',\n",
       "  'FP': '180',\n",
       "  'FN': '113',\n",
       "  'precision': '0.283',\n",
       "  'recall': '0.386',\n",
       "  'f1': '0.326'},\n",
       " (15, 30): {'coverage_prop': '0.962',\n",
       "  'intensity_prop': '0.425',\n",
       "  'ms1/ms2 ratio': '1.724',\n",
       "  'efficiency': '0.778',\n",
       "  'TP': '71',\n",
       "  'FP': '180',\n",
       "  'FN': '113',\n",
       "  'precision': '0.283',\n",
       "  'recall': '0.386',\n",
       "  'f1': '0.326'},\n",
       " (20, 30): {'coverage_prop': '0.962',\n",
       "  'intensity_prop': '0.425',\n",
       "  'ms1/ms2 ratio': '1.724',\n",
       "  'efficiency': '0.778',\n",
       "  'TP': '71',\n",
       "  'FP': '180',\n",
       "  'FN': '113',\n",
       "  'precision': '0.283',\n",
       "  'recall': '0.386',\n",
       "  'f1': '0.326'},\n",
       " (25, 30): {'coverage_prop': '0.962',\n",
       "  'intensity_prop': '0.425',\n",
       "  'ms1/ms2 ratio': '1.724',\n",
       "  'efficiency': '0.778',\n",
       "  'TP': '71',\n",
       "  'FP': '180',\n",
       "  'FN': '113',\n",
       "  'precision': '0.283',\n",
       "  'recall': '0.386',\n",
       "  'f1': '0.326'},\n",
       " (5, 60): {'coverage_prop': '0.959',\n",
       "  'intensity_prop': '0.379',\n",
       "  'ms1/ms2 ratio': '2.176',\n",
       "  'efficiency': '0.933',\n",
       "  'TP': '54',\n",
       "  'FP': '195',\n",
       "  'FN': '115',\n",
       "  'precision': '0.217',\n",
       "  'recall': '0.320',\n",
       "  'f1': '0.258'},\n",
       " (10, 60): {'coverage_prop': '0.959',\n",
       "  'intensity_prop': '0.379',\n",
       "  'ms1/ms2 ratio': '2.176',\n",
       "  'efficiency': '0.933',\n",
       "  'TP': '54',\n",
       "  'FP': '195',\n",
       "  'FN': '115',\n",
       "  'precision': '0.217',\n",
       "  'recall': '0.320',\n",
       "  'f1': '0.258'},\n",
       " (15, 60): {'coverage_prop': '0.959',\n",
       "  'intensity_prop': '0.379',\n",
       "  'ms1/ms2 ratio': '2.176',\n",
       "  'efficiency': '0.933',\n",
       "  'TP': '54',\n",
       "  'FP': '195',\n",
       "  'FN': '115',\n",
       "  'precision': '0.217',\n",
       "  'recall': '0.320',\n",
       "  'f1': '0.258'},\n",
       " (20, 60): {'coverage_prop': '0.959',\n",
       "  'intensity_prop': '0.379',\n",
       "  'ms1/ms2 ratio': '2.176',\n",
       "  'efficiency': '0.933',\n",
       "  'TP': '54',\n",
       "  'FP': '195',\n",
       "  'FN': '115',\n",
       "  'precision': '0.217',\n",
       "  'recall': '0.320',\n",
       "  'f1': '0.258'},\n",
       " (25, 60): {'coverage_prop': '0.959',\n",
       "  'intensity_prop': '0.379',\n",
       "  'ms1/ms2 ratio': '2.176',\n",
       "  'efficiency': '0.933',\n",
       "  'TP': '54',\n",
       "  'FP': '195',\n",
       "  'FN': '115',\n",
       "  'precision': '0.217',\n",
       "  'recall': '0.320',\n",
       "  'f1': '0.258'},\n",
       " (5, 120): {'coverage_prop': '0.962',\n",
       "  'intensity_prop': '0.375',\n",
       "  'ms1/ms2 ratio': '2.296',\n",
       "  'efficiency': '0.978',\n",
       "  'TP': '50',\n",
       "  'FP': '199',\n",
       "  'FN': '115',\n",
       "  'precision': '0.201',\n",
       "  'recall': '0.303',\n",
       "  'f1': '0.242'},\n",
       " (10, 120): {'coverage_prop': '0.962',\n",
       "  'intensity_prop': '0.375',\n",
       "  'ms1/ms2 ratio': '2.296',\n",
       "  'efficiency': '0.978',\n",
       "  'TP': '50',\n",
       "  'FP': '199',\n",
       "  'FN': '115',\n",
       "  'precision': '0.201',\n",
       "  'recall': '0.303',\n",
       "  'f1': '0.242'},\n",
       " (15, 120): {'coverage_prop': '0.962',\n",
       "  'intensity_prop': '0.375',\n",
       "  'ms1/ms2 ratio': '2.296',\n",
       "  'efficiency': '0.978',\n",
       "  'TP': '50',\n",
       "  'FP': '199',\n",
       "  'FN': '115',\n",
       "  'precision': '0.201',\n",
       "  'recall': '0.303',\n",
       "  'f1': '0.242'},\n",
       " (20, 120): {'coverage_prop': '0.962',\n",
       "  'intensity_prop': '0.375',\n",
       "  'ms1/ms2 ratio': '2.296',\n",
       "  'efficiency': '0.978',\n",
       "  'TP': '50',\n",
       "  'FP': '199',\n",
       "  'FN': '115',\n",
       "  'precision': '0.201',\n",
       "  'recall': '0.303',\n",
       "  'f1': '0.242'},\n",
       " (25, 120): {'coverage_prop': '0.962',\n",
       "  'intensity_prop': '0.375',\n",
       "  'ms1/ms2 ratio': '2.296',\n",
       "  'efficiency': '0.978',\n",
       "  'TP': '50',\n",
       "  'FP': '199',\n",
       "  'FN': '115',\n",
       "  'precision': '0.201',\n",
       "  'recall': '0.303',\n",
       "  'f1': '0.242'},\n",
       " (5, 240): {'coverage_prop': '0.956',\n",
       "  'intensity_prop': '0.367',\n",
       "  'ms1/ms2 ratio': '2.427',\n",
       "  'efficiency': '1.018',\n",
       "  'TP': '49',\n",
       "  'FP': '199',\n",
       "  'FN': '116',\n",
       "  'precision': '0.198',\n",
       "  'recall': '0.297',\n",
       "  'f1': '0.237'},\n",
       " (10, 240): {'coverage_prop': '0.956',\n",
       "  'intensity_prop': '0.367',\n",
       "  'ms1/ms2 ratio': '2.427',\n",
       "  'efficiency': '1.018',\n",
       "  'TP': '49',\n",
       "  'FP': '199',\n",
       "  'FN': '116',\n",
       "  'precision': '0.198',\n",
       "  'recall': '0.297',\n",
       "  'f1': '0.237'},\n",
       " (15, 240): {'coverage_prop': '0.956',\n",
       "  'intensity_prop': '0.367',\n",
       "  'ms1/ms2 ratio': '2.427',\n",
       "  'efficiency': '1.018',\n",
       "  'TP': '49',\n",
       "  'FP': '199',\n",
       "  'FN': '116',\n",
       "  'precision': '0.198',\n",
       "  'recall': '0.297',\n",
       "  'f1': '0.237'},\n",
       " (20, 240): {'coverage_prop': '0.956',\n",
       "  'intensity_prop': '0.367',\n",
       "  'ms1/ms2 ratio': '2.427',\n",
       "  'efficiency': '1.018',\n",
       "  'TP': '49',\n",
       "  'FP': '199',\n",
       "  'FN': '116',\n",
       "  'precision': '0.198',\n",
       "  'recall': '0.297',\n",
       "  'f1': '0.237'},\n",
       " (25, 240): {'coverage_prop': '0.956',\n",
       "  'intensity_prop': '0.367',\n",
       "  'ms1/ms2 ratio': '2.427',\n",
       "  'efficiency': '1.018',\n",
       "  'TP': '49',\n",
       "  'FP': '199',\n",
       "  'FN': '116',\n",
       "  'precision': '0.198',\n",
       "  'recall': '0.297',\n",
       "  'f1': '0.237'},\n",
       " (5, 300): {'coverage_prop': '0.956',\n",
       "  'intensity_prop': '0.365',\n",
       "  'ms1/ms2 ratio': '2.434',\n",
       "  'efficiency': '1.021',\n",
       "  'TP': '52',\n",
       "  'FP': '196',\n",
       "  'FN': '116',\n",
       "  'precision': '0.210',\n",
       "  'recall': '0.310',\n",
       "  'f1': '0.250'},\n",
       " (10, 300): {'coverage_prop': '0.956',\n",
       "  'intensity_prop': '0.365',\n",
       "  'ms1/ms2 ratio': '2.434',\n",
       "  'efficiency': '1.021',\n",
       "  'TP': '52',\n",
       "  'FP': '196',\n",
       "  'FN': '116',\n",
       "  'precision': '0.210',\n",
       "  'recall': '0.310',\n",
       "  'f1': '0.250'},\n",
       " (15, 300): {'coverage_prop': '0.956',\n",
       "  'intensity_prop': '0.365',\n",
       "  'ms1/ms2 ratio': '2.434',\n",
       "  'efficiency': '1.021',\n",
       "  'TP': '52',\n",
       "  'FP': '196',\n",
       "  'FN': '116',\n",
       "  'precision': '0.210',\n",
       "  'recall': '0.310',\n",
       "  'f1': '0.250'},\n",
       " (20, 300): {'coverage_prop': '0.956',\n",
       "  'intensity_prop': '0.365',\n",
       "  'ms1/ms2 ratio': '2.434',\n",
       "  'efficiency': '1.021',\n",
       "  'TP': '52',\n",
       "  'FP': '196',\n",
       "  'FN': '116',\n",
       "  'precision': '0.210',\n",
       "  'recall': '0.310',\n",
       "  'f1': '0.250'},\n",
       " (25, 300): {'coverage_prop': '0.956',\n",
       "  'intensity_prop': '0.365',\n",
       "  'ms1/ms2 ratio': '2.434',\n",
       "  'efficiency': '1.021',\n",
       "  'TP': '52',\n",
       "  'FP': '196',\n",
       "  'FN': '116',\n",
       "  'precision': '0.210',\n",
       "  'recall': '0.310',\n",
       "  'f1': '0.250'}}"
      ]
     },
     "execution_count": 21,
     "metadata": {},
     "output_type": "execute_result"
    }
   ],
   "source": [
    "topN_res"
   ]
  },
  {
   "cell_type": "code",
   "execution_count": 22,
   "metadata": {
    "pycharm": {
     "name": "#%%\n"
    }
   },
   "outputs": [],
   "source": [
    "method_eval_results = {\n",
    "    method: topN_res\n",
    "}"
   ]
  },
  {
   "cell_type": "markdown",
   "metadata": {
    "pycharm": {
     "name": "#%% md\n"
    }
   },
   "source": [
    "#### Test classic controllers in ViMMS"
   ]
  },
  {
   "cell_type": "code",
   "execution_count": 23,
   "metadata": {
    "pycharm": {
     "name": "#%%\n"
    }
   },
   "outputs": [],
   "source": [
    "from vimms.MassSpec import IndependentMassSpectrometer\n",
    "from vimms.Controller import TopNController, TopN_SmartRoiController, WeightedDEWController\n",
    "from vimms.Environment import Environment"
   ]
  },
  {
   "cell_type": "code",
   "execution_count": 24,
   "metadata": {
    "pycharm": {
     "name": "#%%\n"
    }
   },
   "outputs": [],
   "source": [
    "spike_noise = None\n",
    "if enable_spike_noise:\n",
    "    noise_params = params['noise']\n",
    "    noise_density = noise_params['noise_density']\n",
    "    noise_max_val = noise_params['noise_max_val']\n",
    "    noise_min_mz = noise_params['mz_range'][0]\n",
    "    noise_max_mz = noise_params['mz_range'][1]\n",
    "    spike_noise = UniformSpikeNoise(noise_density, noise_max_val, min_mz=noise_min_mz,\n",
    "                                    max_mz=noise_max_mz)"
   ]
  },
  {
   "cell_type": "markdown",
   "metadata": {
    "pycharm": {
     "name": "#%% md\n"
    }
   },
   "source": [
    "Run Top-N Controller"
   ]
  },
  {
   "cell_type": "code",
   "execution_count": null,
   "metadata": {
    "pycharm": {
     "name": "#%%\n"
    }
   },
   "outputs": [],
   "source": [
    "method = 'TopN_Controller'\n",
    "print('method = %s' % method)\n",
    "print()\n",
    "\n",
    "chems = chem_list[0]\n",
    "res = {}\n",
    "for rt_tol in rt_tols:\n",
    "    for N in Ns:\n",
    "\n",
    "        effective_rt_tol = rt_tol\n",
    "        mass_spec = IndependentMassSpectrometer(ionisation_mode, chems, spike_noise=spike_noise)\n",
    "        controller = TopNController(ionisation_mode, N, isolation_window, mz_tol, rt_tol,\n",
    "                                    min_ms1_intensity)\n",
    "        env = Environment(mass_spec, controller, min_rt, max_rt, progress_bar=False, out_dir=out_dir,\n",
    "                          out_file='%s_%d.mzML' % (method, i), save_eval=True)\n",
    "        env.run()\n",
    "        eval_res = evaluate(env, intensity_threshold)\n",
    "        key = (N, rt_tol)\n",
    "        print(N, rt_tol, eval_res)\n",
    "        res[key] = eval_res\n",
    "\n",
    "method_eval_results[method] = res"
   ]
  },
  {
   "cell_type": "markdown",
   "metadata": {
    "pycharm": {
     "name": "#%% md\n"
    }
   },
   "source": [
    "Run SmartROI Controller"
   ]
  },
  {
   "cell_type": "markdown",
   "metadata": {
    "pycharm": {
     "name": "#%% md\n"
    }
   },
   "source": [
    "TO FINISH BELOW"
   ]
  },
  {
   "cell_type": "code",
   "execution_count": 25,
   "metadata": {
    "pycharm": {
     "name": "#%%\n"
    }
   },
   "outputs": [],
   "source": [
    "alphas = [2, 3, 5, 10, 1E3, 1E6]\n",
    "betas = [0, 0.1, 0.5, 1, 5]\n",
    "smartroi_N = 10\n",
    "smartroi_dew = 15"
   ]
  },
  {
   "cell_type": "code",
   "execution_count": 26,
   "metadata": {
    "pycharm": {
     "name": "#%%\n"
    }
   },
   "outputs": [
    {
     "name": "stdout",
     "output_type": "stream",
     "text": [
      "method = SmartROI_Controller\n",
      "\n",
      "2 0 {'coverage_prop': '0.951', 'intensity_prop': '0.502', 'ms1/ms2 ratio': '1.461', 'efficiency': '0.678', 'TP': '109', 'FP': '137', 'FN': '118', 'precision': '0.443', 'recall': '0.480', 'f1': '0.461'}\n",
      "2 0.1 {'coverage_prop': '0.951', 'intensity_prop': '0.501', 'ms1/ms2 ratio': '1.484', 'efficiency': '0.687', 'TP': '110', 'FP': '136', 'FN': '118', 'precision': '0.447', 'recall': '0.482', 'f1': '0.464'}\n",
      "2 0.5 {'coverage_prop': '0.948', 'intensity_prop': '0.507', 'ms1/ms2 ratio': '1.469', 'efficiency': '0.679', 'TP': '114', 'FP': '132', 'FN': '118', 'precision': '0.463', 'recall': '0.491', 'f1': '0.477'}\n",
      "2 1 {'coverage_prop': '0.951', 'intensity_prop': '0.497', 'ms1/ms2 ratio': '1.492', 'efficiency': '0.689', 'TP': '107', 'FP': '138', 'FN': '119', 'precision': '0.437', 'recall': '0.473', 'f1': '0.454'}\n",
      "2 5 {'coverage_prop': '0.951', 'intensity_prop': '0.508', 'ms1/ms2 ratio': '1.476', 'efficiency': '0.684', 'TP': '114', 'FP': '132', 'FN': '118', 'precision': '0.463', 'recall': '0.491', 'f1': '0.477'}\n",
      "3 0 {'coverage_prop': '0.951', 'intensity_prop': '0.480', 'ms1/ms2 ratio': '1.633', 'efficiency': '0.738', 'TP': '104', 'FP': '141', 'FN': '119', 'precision': '0.424', 'recall': '0.466', 'f1': '0.444'}\n",
      "3 0.1 {'coverage_prop': '0.948', 'intensity_prop': '0.478', 'ms1/ms2 ratio': '1.624', 'efficiency': '0.732', 'TP': '102', 'FP': '143', 'FN': '119', 'precision': '0.416', 'recall': '0.462', 'f1': '0.438'}\n",
      "3 0.5 {'coverage_prop': '0.948', 'intensity_prop': '0.483', 'ms1/ms2 ratio': '1.615', 'efficiency': '0.729', 'TP': '109', 'FP': '135', 'FN': '120', 'precision': '0.447', 'recall': '0.476', 'f1': '0.461'}\n",
      "3 1 {'coverage_prop': '0.951', 'intensity_prop': '0.482', 'ms1/ms2 ratio': '1.633', 'efficiency': '0.738', 'TP': '106', 'FP': '139', 'FN': '119', 'precision': '0.433', 'recall': '0.471', 'f1': '0.451'}\n",
      "3 5 {'coverage_prop': '0.948', 'intensity_prop': '0.477', 'ms1/ms2 ratio': '1.624', 'efficiency': '0.732', 'TP': '99', 'FP': '145', 'FN': '120', 'precision': '0.406', 'recall': '0.452', 'f1': '0.428'}\n",
      "5 0 {'coverage_prop': '0.951', 'intensity_prop': '0.467', 'ms1/ms2 ratio': '1.785', 'efficiency': '0.790', 'TP': '96', 'FP': '149', 'FN': '119', 'precision': '0.392', 'recall': '0.447', 'f1': '0.417'}\n",
      "5 0.1 {'coverage_prop': '0.948', 'intensity_prop': '0.470', 'ms1/ms2 ratio': '1.785', 'efficiency': '0.788', 'TP': '102', 'FP': '143', 'FN': '119', 'precision': '0.416', 'recall': '0.462', 'f1': '0.438'}\n",
      "5 0.5 {'coverage_prop': '0.951', 'intensity_prop': '0.464', 'ms1/ms2 ratio': '1.796', 'efficiency': '0.794', 'TP': '93', 'FP': '152', 'FN': '119', 'precision': '0.380', 'recall': '0.439', 'f1': '0.407'}\n",
      "5 1 {'coverage_prop': '0.951', 'intensity_prop': '0.467', 'ms1/ms2 ratio': '1.785', 'efficiency': '0.790', 'TP': '94', 'FP': '151', 'FN': '119', 'precision': '0.384', 'recall': '0.441', 'f1': '0.410'}\n",
      "5 5 {'coverage_prop': '0.948', 'intensity_prop': '0.463', 'ms1/ms2 ratio': '1.755', 'efficiency': '0.777', 'TP': '90', 'FP': '154', 'FN': '120', 'precision': '0.369', 'recall': '0.429', 'f1': '0.396'}\n",
      "10 0 {'coverage_prop': '0.948', 'intensity_prop': '0.448', 'ms1/ms2 ratio': '1.906', 'efficiency': '0.829', 'TP': '87', 'FP': '158', 'FN': '119', 'precision': '0.355', 'recall': '0.422', 'f1': '0.386'}\n",
      "10 0.1 {'coverage_prop': '0.948', 'intensity_prop': '0.449', 'ms1/ms2 ratio': '1.876', 'efficiency': '0.819', 'TP': '88', 'FP': '157', 'FN': '119', 'precision': '0.359', 'recall': '0.425', 'f1': '0.389'}\n",
      "10 0.5 {'coverage_prop': '0.951', 'intensity_prop': '0.447', 'ms1/ms2 ratio': '1.906', 'efficiency': '0.832', 'TP': '90', 'FP': '155', 'FN': '119', 'precision': '0.367', 'recall': '0.431', 'f1': '0.396'}\n",
      "10 1 {'coverage_prop': '0.953', 'intensity_prop': '0.454', 'ms1/ms2 ratio': '1.895', 'efficiency': '0.830', 'TP': '91', 'FP': '155', 'FN': '118', 'precision': '0.370', 'recall': '0.435', 'f1': '0.400'}\n",
      "10 5 {'coverage_prop': '0.951', 'intensity_prop': '0.456', 'ms1/ms2 ratio': '1.850', 'efficiency': '0.812', 'TP': '88', 'FP': '157', 'FN': '119', 'precision': '0.359', 'recall': '0.425', 'f1': '0.389'}\n",
      "1000.0 0 {'coverage_prop': '0.942', 'intensity_prop': '0.385', 'ms1/ms2 ratio': '2.462', 'efficiency': '1.015', 'TP': '65', 'FP': '177', 'FN': '122', 'precision': '0.269', 'recall': '0.348', 'f1': '0.303'}\n",
      "1000.0 0.1 {'coverage_prop': '0.945', 'intensity_prop': '0.388', 'ms1/ms2 ratio': '2.444', 'efficiency': '1.012', 'TP': '64', 'FP': '179', 'FN': '121', 'precision': '0.263', 'recall': '0.346', 'f1': '0.299'}\n",
      "1000.0 0.5 {'coverage_prop': '0.948', 'intensity_prop': '0.386', 'ms1/ms2 ratio': '2.427', 'efficiency': '1.009', 'TP': '64', 'FP': '178', 'FN': '122', 'precision': '0.264', 'recall': '0.344', 'f1': '0.299'}\n",
      "1000.0 1 {'coverage_prop': '0.945', 'intensity_prop': '0.389', 'ms1/ms2 ratio': '2.393', 'efficiency': '0.994', 'TP': '68', 'FP': '174', 'FN': '122', 'precision': '0.281', 'recall': '0.358', 'f1': '0.315'}\n",
      "1000.0 5 {'coverage_prop': '0.945', 'intensity_prop': '0.389', 'ms1/ms2 ratio': '2.312', 'efficiency': '0.966', 'TP': '64', 'FP': '178', 'FN': '122', 'precision': '0.264', 'recall': '0.344', 'f1': '0.299'}\n",
      "1000000.0 0 {'coverage_prop': '0.945', 'intensity_prop': '0.382', 'ms1/ms2 ratio': '2.479', 'efficiency': '1.024', 'TP': '63', 'FP': '180', 'FN': '121', 'precision': '0.259', 'recall': '0.342', 'f1': '0.295'}\n",
      "1000000.0 0.1 {'coverage_prop': '0.945', 'intensity_prop': '0.382', 'ms1/ms2 ratio': '2.479', 'efficiency': '1.024', 'TP': '63', 'FP': '180', 'FN': '121', 'precision': '0.259', 'recall': '0.342', 'f1': '0.295'}\n",
      "1000000.0 0.5 {'coverage_prop': '0.948', 'intensity_prop': '0.385', 'ms1/ms2 ratio': '2.462', 'efficiency': '1.021', 'TP': '66', 'FP': '176', 'FN': '122', 'precision': '0.273', 'recall': '0.351', 'f1': '0.307'}\n",
      "1000000.0 1 {'coverage_prop': '0.951', 'intensity_prop': '0.385', 'ms1/ms2 ratio': '2.410', 'efficiency': '1.006', 'TP': '65', 'FP': '178', 'FN': '121', 'precision': '0.267', 'recall': '0.349', 'f1': '0.303'}\n",
      "1000000.0 5 {'coverage_prop': '0.945', 'intensity_prop': '0.392', 'ms1/ms2 ratio': '2.328', 'efficiency': '0.972', 'TP': '68', 'FP': '174', 'FN': '122', 'precision': '0.281', 'recall': '0.358', 'f1': '0.315'}\n"
     ]
    }
   ],
   "source": [
    "method = 'SmartROI_Controller'\n",
    "print('method = %s' % method)\n",
    "print()\n",
    "\n",
    "chems = chem_list[0]\n",
    "res = {}\n",
    "for alpha in alphas:\n",
    "    for beta in betas:\n",
    "\n",
    "        mass_spec = IndependentMassSpectrometer(ionisation_mode, chems, spike_noise=spike_noise)\n",
    "        \n",
    "        roi_params = RoiBuilderParams(min_roi_intensity=0, min_roi_length=0)    \n",
    "        smartroi_params = SmartRoiParams(intensity_increase_factor=alpha, drop_perc=beta/100.0)\n",
    "        controller = TopN_SmartRoiController(ionisation_mode, isolation_window, smartroi_N, mz_tol, smartroi_dew,\n",
    "                                    min_ms1_intensity, roi_params, smartroi_params)\n",
    "\n",
    "        env = Environment(mass_spec, controller, min_rt, max_rt, progress_bar=False, out_dir=out_dir,\n",
    "                          out_file='%s_%d.mzML' % (method, i), save_eval=True)\n",
    "        env.run()\n",
    "        eval_res = evaluate(env, intensity_threshold)\n",
    "        key = (N, rt_tol)\n",
    "        print(alpha, beta, eval_res)\n",
    "        res[key] = eval_res\n",
    "\n",
    "method_eval_results[method] = res"
   ]
  },
  {
   "cell_type": "markdown",
   "metadata": {
    "pycharm": {
     "name": "#%% md\n"
    }
   },
   "source": [
    "Run WeightedDEW Controller"
   ]
  },
  {
   "cell_type": "code",
   "execution_count": 27,
   "metadata": {
    "pycharm": {
     "name": "#%%\n"
    }
   },
   "outputs": [],
   "source": [
    "t0s = [1, 3, 10, 15, 30, 60]\n",
    "t1s = [15, 60, 120, 240, 360, 3600]\n",
    "weighteddew_N = 10"
   ]
  },
  {
   "cell_type": "code",
   "execution_count": 28,
   "metadata": {
    "pycharm": {
     "name": "#%%\n"
    }
   },
   "outputs": [
    {
     "name": "stdout",
     "output_type": "stream",
     "text": [
      "method = WeightedDEW_Controller\n",
      "\n",
      "1 15 {'coverage_prop': '0.953', 'intensity_prop': '0.747', 'ms1/ms2 ratio': '0.135', 'efficiency': '0.220', 'TP': '212', 'FP': '38', 'FN': '114', 'precision': '0.848', 'recall': '0.650', 'f1': '0.736'}\n",
      "1 60 {'coverage_prop': '0.951', 'intensity_prop': '0.741', 'ms1/ms2 ratio': '0.135', 'efficiency': '0.220', 'TP': '211', 'FP': '39', 'FN': '114', 'precision': '0.844', 'recall': '0.649', 'f1': '0.734'}\n",
      "1 120 {'coverage_prop': '0.951', 'intensity_prop': '0.739', 'ms1/ms2 ratio': '0.135', 'efficiency': '0.220', 'TP': '210', 'FP': '40', 'FN': '114', 'precision': '0.840', 'recall': '0.648', 'f1': '0.732'}\n",
      "1 240 {'coverage_prop': '0.951', 'intensity_prop': '0.739', 'ms1/ms2 ratio': '0.135', 'efficiency': '0.220', 'TP': '210', 'FP': '40', 'FN': '114', 'precision': '0.840', 'recall': '0.648', 'f1': '0.732'}\n",
      "1 360 {'coverage_prop': '0.951', 'intensity_prop': '0.739', 'ms1/ms2 ratio': '0.135', 'efficiency': '0.220', 'TP': '210', 'FP': '40', 'FN': '114', 'precision': '0.840', 'recall': '0.648', 'f1': '0.732'}\n",
      "1 3600 {'coverage_prop': '0.951', 'intensity_prop': '0.739', 'ms1/ms2 ratio': '0.135', 'efficiency': '0.220', 'TP': '210', 'FP': '40', 'FN': '114', 'precision': '0.840', 'recall': '0.648', 'f1': '0.732'}\n",
      "3 15 {'coverage_prop': '0.948', 'intensity_prop': '0.741', 'ms1/ms2 ratio': '0.165', 'efficiency': '0.229', 'TP': '215', 'FP': '34', 'FN': '115', 'precision': '0.863', 'recall': '0.652', 'f1': '0.743'}\n",
      "3 60 {'coverage_prop': '0.948', 'intensity_prop': '0.735', 'ms1/ms2 ratio': '0.165', 'efficiency': '0.229', 'TP': '213', 'FP': '36', 'FN': '115', 'precision': '0.855', 'recall': '0.649', 'f1': '0.738'}\n",
      "3 120 {'coverage_prop': '0.948', 'intensity_prop': '0.735', 'ms1/ms2 ratio': '0.165', 'efficiency': '0.229', 'TP': '212', 'FP': '37', 'FN': '115', 'precision': '0.851', 'recall': '0.648', 'f1': '0.736'}\n",
      "3 240 {'coverage_prop': '0.948', 'intensity_prop': '0.735', 'ms1/ms2 ratio': '0.165', 'efficiency': '0.229', 'TP': '212', 'FP': '37', 'FN': '115', 'precision': '0.851', 'recall': '0.648', 'f1': '0.736'}\n",
      "3 360 {'coverage_prop': '0.948', 'intensity_prop': '0.734', 'ms1/ms2 ratio': '0.165', 'efficiency': '0.229', 'TP': '212', 'FP': '37', 'FN': '115', 'precision': '0.851', 'recall': '0.648', 'f1': '0.736'}\n",
      "3 3600 {'coverage_prop': '0.948', 'intensity_prop': '0.733', 'ms1/ms2 ratio': '0.165', 'efficiency': '0.229', 'TP': '212', 'FP': '37', 'FN': '115', 'precision': '0.851', 'recall': '0.648', 'f1': '0.736'}\n",
      "10 15 {'coverage_prop': '0.964', 'intensity_prop': '0.610', 'ms1/ms2 ratio': '0.593', 'efficiency': '0.384', 'TP': '170', 'FP': '84', 'FN': '110', 'precision': '0.669', 'recall': '0.607', 'f1': '0.637'}\n",
      "10 60 {'coverage_prop': '0.964', 'intensity_prop': '0.610', 'ms1/ms2 ratio': '0.593', 'efficiency': '0.384', 'TP': '170', 'FP': '84', 'FN': '110', 'precision': '0.669', 'recall': '0.607', 'f1': '0.637'}\n",
      "10 120 {'coverage_prop': '0.964', 'intensity_prop': '0.609', 'ms1/ms2 ratio': '0.593', 'efficiency': '0.384', 'TP': '169', 'FP': '85', 'FN': '110', 'precision': '0.665', 'recall': '0.606', 'f1': '0.634'}\n",
      "10 240 {'coverage_prop': '0.964', 'intensity_prop': '0.609', 'ms1/ms2 ratio': '0.593', 'efficiency': '0.384', 'TP': '169', 'FP': '85', 'FN': '110', 'precision': '0.665', 'recall': '0.606', 'f1': '0.634'}\n",
      "10 360 {'coverage_prop': '0.964', 'intensity_prop': '0.609', 'ms1/ms2 ratio': '0.593', 'efficiency': '0.384', 'TP': '169', 'FP': '85', 'FN': '110', 'precision': '0.665', 'recall': '0.606', 'f1': '0.634'}\n",
      "10 3600 {'coverage_prop': '0.964', 'intensity_prop': '0.609', 'ms1/ms2 ratio': '0.593', 'efficiency': '0.384', 'TP': '169', 'FP': '85', 'FN': '110', 'precision': '0.665', 'recall': '0.606', 'f1': '0.634'}\n",
      "15 15 {'coverage_prop': '0.962', 'intensity_prop': '0.524', 'ms1/ms2 ratio': '0.988', 'efficiency': '0.521', 'TP': '119', 'FP': '134', 'FN': '111', 'precision': '0.470', 'recall': '0.517', 'f1': '0.493'}\n",
      "15 60 {'coverage_prop': '0.962', 'intensity_prop': '0.512', 'ms1/ms2 ratio': '0.988', 'efficiency': '0.521', 'TP': '110', 'FP': '143', 'FN': '111', 'precision': '0.435', 'recall': '0.498', 'f1': '0.464'}\n",
      "15 120 {'coverage_prop': '0.962', 'intensity_prop': '0.511', 'ms1/ms2 ratio': '0.988', 'efficiency': '0.521', 'TP': '110', 'FP': '143', 'FN': '111', 'precision': '0.435', 'recall': '0.498', 'f1': '0.464'}\n",
      "15 240 {'coverage_prop': '0.962', 'intensity_prop': '0.511', 'ms1/ms2 ratio': '0.988', 'efficiency': '0.521', 'TP': '110', 'FP': '143', 'FN': '111', 'precision': '0.435', 'recall': '0.498', 'f1': '0.464'}\n",
      "15 360 {'coverage_prop': '0.962', 'intensity_prop': '0.511', 'ms1/ms2 ratio': '0.988', 'efficiency': '0.521', 'TP': '110', 'FP': '143', 'FN': '111', 'precision': '0.435', 'recall': '0.498', 'f1': '0.464'}\n",
      "15 3600 {'coverage_prop': '0.962', 'intensity_prop': '0.511', 'ms1/ms2 ratio': '0.988', 'efficiency': '0.521', 'TP': '110', 'FP': '143', 'FN': '111', 'precision': '0.435', 'recall': '0.498', 'f1': '0.464'}\n",
      "Invalid combination\n",
      "30 60 {'coverage_prop': '0.962', 'intensity_prop': '0.418', 'ms1/ms2 ratio': '1.715', 'efficiency': '0.774', 'TP': '69', 'FP': '182', 'FN': '113', 'precision': '0.275', 'recall': '0.379', 'f1': '0.319'}\n",
      "30 120 {'coverage_prop': '0.962', 'intensity_prop': '0.418', 'ms1/ms2 ratio': '1.715', 'efficiency': '0.774', 'TP': '69', 'FP': '182', 'FN': '113', 'precision': '0.275', 'recall': '0.379', 'f1': '0.319'}\n",
      "30 240 {'coverage_prop': '0.962', 'intensity_prop': '0.418', 'ms1/ms2 ratio': '1.715', 'efficiency': '0.774', 'TP': '69', 'FP': '182', 'FN': '113', 'precision': '0.275', 'recall': '0.379', 'f1': '0.319'}\n",
      "30 360 {'coverage_prop': '0.962', 'intensity_prop': '0.418', 'ms1/ms2 ratio': '1.715', 'efficiency': '0.774', 'TP': '69', 'FP': '182', 'FN': '113', 'precision': '0.275', 'recall': '0.379', 'f1': '0.319'}\n",
      "30 3600 {'coverage_prop': '0.962', 'intensity_prop': '0.418', 'ms1/ms2 ratio': '1.715', 'efficiency': '0.774', 'TP': '69', 'FP': '182', 'FN': '113', 'precision': '0.275', 'recall': '0.379', 'f1': '0.319'}\n",
      "Invalid combination\n",
      "60 60 {'coverage_prop': '0.959', 'intensity_prop': '0.379', 'ms1/ms2 ratio': '2.176', 'efficiency': '0.933', 'TP': '54', 'FP': '195', 'FN': '115', 'precision': '0.217', 'recall': '0.320', 'f1': '0.258'}\n",
      "60 120 {'coverage_prop': '0.959', 'intensity_prop': '0.379', 'ms1/ms2 ratio': '2.176', 'efficiency': '0.933', 'TP': '54', 'FP': '195', 'FN': '115', 'precision': '0.217', 'recall': '0.320', 'f1': '0.258'}\n",
      "60 240 {'coverage_prop': '0.959', 'intensity_prop': '0.379', 'ms1/ms2 ratio': '2.176', 'efficiency': '0.933', 'TP': '54', 'FP': '195', 'FN': '115', 'precision': '0.217', 'recall': '0.320', 'f1': '0.258'}\n",
      "60 360 {'coverage_prop': '0.959', 'intensity_prop': '0.379', 'ms1/ms2 ratio': '2.176', 'efficiency': '0.933', 'TP': '54', 'FP': '195', 'FN': '115', 'precision': '0.217', 'recall': '0.320', 'f1': '0.258'}\n",
      "60 3600 {'coverage_prop': '0.959', 'intensity_prop': '0.379', 'ms1/ms2 ratio': '2.176', 'efficiency': '0.933', 'TP': '54', 'FP': '195', 'FN': '115', 'precision': '0.217', 'recall': '0.320', 'f1': '0.258'}\n"
     ]
    }
   ],
   "source": [
    "method = 'WeightedDEW_Controller'\n",
    "print('method = %s' % method)\n",
    "print()\n",
    "\n",
    "chems = chem_list[0]\n",
    "res = {}\n",
    "for t0 in t0s:\n",
    "    for t1 in t1s:\n",
    "\n",
    "        if t0 > t1:\n",
    "            print('Invalid combination')\n",
    "            continue\n",
    "        \n",
    "        mass_spec = IndependentMassSpectrometer(ionisation_mode, chems, spike_noise=spike_noise)\n",
    "        \n",
    "        controller = WeightedDEWController(ionisation_mode, weighteddew_N, isolation_window, mz_tol, t1,\n",
    "                                    min_ms1_intensity, exclusion_t_0=t0)\n",
    "        \n",
    "        env = Environment(mass_spec, controller, min_rt, max_rt, progress_bar=False, out_dir=out_dir,\n",
    "                          out_file='%s_%d.mzML' % (method, i), save_eval=True)\n",
    "        env.run()\n",
    "        eval_res = evaluate(env, intensity_threshold)\n",
    "        key = (t0, t1)\n",
    "        print(t0, t1, eval_res)\n",
    "        res[key] = eval_res\n",
    "        \n",
    "method_eval_results[method] = res"
   ]
  },
  {
   "cell_type": "code",
   "execution_count": null,
   "metadata": {
    "pycharm": {
     "name": "#%%\n"
    }
   },
   "outputs": [],
   "source": []
  }
 ],
 "metadata": {
  "kernelspec": {
   "display_name": "Python 3 (ipykernel)",
   "language": "python",
   "name": "python3"
  },
  "language_info": {
   "codemirror_mode": {
    "name": "ipython",
    "version": 3
   },
   "file_extension": ".py",
   "mimetype": "text/x-python",
   "name": "python",
   "nbconvert_exporter": "python",
   "pygments_lexer": "ipython3",
   "version": "3.9.7"
  }
 },
 "nbformat": 4,
 "nbformat_minor": 4
}
