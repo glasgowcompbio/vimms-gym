{
 "cells": [
  {
   "cell_type": "code",
   "execution_count": 1,
   "metadata": {
    "tags": []
   },
   "outputs": [],
   "source": [
    "%matplotlib inline\n",
    "\n",
    "%load_ext autoreload\n",
    "%autoreload 2"
   ]
  },
  {
   "cell_type": "code",
   "execution_count": 2,
   "metadata": {},
   "outputs": [],
   "source": [
    "import os\n",
    "import sys\n",
    "from os.path import exists\n",
    "\n",
    "sys.path.append('../..')"
   ]
  },
  {
   "cell_type": "code",
   "execution_count": 3,
   "metadata": {
    "tags": []
   },
   "outputs": [],
   "source": [
    "import pylab as plt\n",
    "import pandas as pd\n",
    "import numpy as np\n",
    "from loguru import logger\n",
    "import seaborn as sns\n",
    "\n",
    "from stable_baselines3 import PPO, DQN"
   ]
  },
  {
   "cell_type": "code",
   "execution_count": 4,
   "metadata": {
    "tags": []
   },
   "outputs": [],
   "source": [
    "from vimms.Common import POSITIVE, set_log_level_warning, load_obj, save_obj\n",
    "from vimms.ChemicalSamplers import UniformRTAndIntensitySampler, GaussianChromatogramSampler, UniformMZFormulaSampler, \\\n",
    "    MZMLFormulaSampler, MZMLRTandIntensitySampler, MZMLChromatogramSampler\n",
    "from vimms.Noise import UniformSpikeNoise\n",
    "from vimms.Evaluation import evaluate_real\n",
    "from vimms.Chemicals import ChemicalMixtureFromMZML\n",
    "from vimms.Roi import RoiBuilderParams, SmartRoiParams\n",
    "\n",
    "from mass_spec_utils.data_import.mzmine import load_picked_boxes\n",
    "\n",
    "from vimms_gym.env import DDAEnv\n",
    "from vimms_gym.chemicals import generate_chemicals\n",
    "from vimms_gym.evaluation import evaluate, run_method\n",
    "from vimms_gym.common import METHOD_RANDOM, METHOD_FULLSCAN, METHOD_TOPN, METHOD_PPO, METHOD_DQN"
   ]
  },
  {
   "cell_type": "markdown",
   "metadata": {},
   "source": [
    "# 1. Parameters"
   ]
  },
  {
   "cell_type": "code",
   "execution_count": 5,
   "metadata": {
    "pycharm": {
     "name": "#%%\n"
    }
   },
   "outputs": [],
   "source": [
    "n_chemicals = (200, 500)\n",
    "mz_range = (100, 600)\n",
    "rt_range = (400, 800)\n",
    "intensity_range = (1E4, 1E20)"
   ]
  },
  {
   "cell_type": "code",
   "execution_count": 6,
   "metadata": {
    "pycharm": {
     "name": "#%%\n"
    },
    "scrolled": true
   },
   "outputs": [],
   "source": [
    "min_mz = mz_range[0]\n",
    "max_mz = mz_range[1]\n",
    "min_rt = rt_range[0]\n",
    "max_rt = rt_range[1]\n",
    "min_log_intensity = np.log(intensity_range[0])\n",
    "max_log_intensity = np.log(intensity_range[1])"
   ]
  },
  {
   "cell_type": "code",
   "execution_count": 7,
   "metadata": {
    "pycharm": {
     "name": "#%%\n"
    }
   },
   "outputs": [],
   "source": [
    "isolation_window = 0.7\n",
    "N = 10\n",
    "rt_tol = 120\n",
    "exclusion_t_0 = 15\n",
    "mz_tol = 10\n",
    "min_ms1_intensity = 5000\n",
    "ionisation_mode = POSITIVE\n",
    "\n",
    "enable_spike_noise = True\n",
    "noise_density = 0.1\n",
    "noise_max_val = 1E3"
   ]
  },
  {
   "cell_type": "code",
   "execution_count": 8,
   "metadata": {
    "pycharm": {
     "name": "#%%\n"
    }
   },
   "outputs": [
    {
     "name": "stderr",
     "output_type": "stream",
     "text": [
      "2022-08-02 23:50:08.919 | INFO     | __main__:<module>:11 - Creating samplers from ../fullscan_QCB.mzML\n",
      "2022-08-02 23:50:10.080 | DEBUG    | mass_spec_utils.data_import.mzml:_load_file:166 - Loaded 2471 scans\n",
      "2022-08-02 23:50:12.759 | DEBUG    | mass_spec_utils.data_import.mzml:_load_file:166 - Loaded 2471 scans\n",
      "2022-08-02 23:53:16.843 | DEBUG    | vimms.ChemicalSamplers:_extract_rois:491 - Extracted 43107 good ROIs from ../fullscan_QCB.mzML\n",
      "2022-08-02 23:53:16.844 | INFO     | vimms.Common:save_obj:410 - Saving <class 'dict'> to samplers_QCB_medium.p\n"
     ]
    }
   ],
   "source": [
    "mzml_filename = '../fullscan_QCB.mzML'\n",
    "samplers = None\n",
    "samplers_pickle = 'samplers_QCB_medium.p'\n",
    "if exists(samplers_pickle):\n",
    "    logger.info('Loaded %s' % samplers_pickle)\n",
    "    samplers = load_obj(samplers_pickle)\n",
    "    mz_sampler = samplers['mz']\n",
    "    ri_sampler = samplers['rt_intensity']\n",
    "    cr_sampler = samplers['chromatogram']\n",
    "else:\n",
    "    logger.info('Creating samplers from %s' % mzml_filename)\n",
    "    mz_sampler = MZMLFormulaSampler(mzml_filename, min_mz=min_mz, max_mz=max_mz)\n",
    "    ri_sampler = MZMLRTandIntensitySampler(mzml_filename, min_rt=min_rt, max_rt=max_rt,\n",
    "                                           min_log_intensity=min_log_intensity,\n",
    "                                           max_log_intensity=max_log_intensity)\n",
    "    roi_params = RoiBuilderParams(min_roi_length=3, at_least_one_point_above=1000)\n",
    "    cr_sampler = MZMLChromatogramSampler(mzml_filename, roi_params=roi_params)\n",
    "    samplers = {\n",
    "        'mz': mz_sampler,\n",
    "        'rt_intensity': ri_sampler,\n",
    "        'chromatogram': cr_sampler\n",
    "    }\n",
    "    save_obj(samplers, samplers_pickle)"
   ]
  },
  {
   "cell_type": "code",
   "execution_count": 9,
   "metadata": {
    "pycharm": {
     "name": "#%%\n"
    }
   },
   "outputs": [],
   "source": [
    "params = {\n",
    "    'chemical_creator': {\n",
    "        'mz_range': mz_range,\n",
    "        'rt_range': rt_range,\n",
    "        'intensity_range': intensity_range,\n",
    "        'n_chemicals': n_chemicals,\n",
    "        'mz_sampler': mz_sampler,\n",
    "        'ri_sampler': ri_sampler,\n",
    "        'cr_sampler': cr_sampler\n",
    "    },\n",
    "    'noise': {\n",
    "        'enable_spike_noise': enable_spike_noise,\n",
    "        'noise_density': noise_density,\n",
    "        'noise_max_val': noise_max_val,\n",
    "        'mz_range': mz_range\n",
    "    },\n",
    "    'env': {\n",
    "        'ionisation_mode': ionisation_mode,\n",
    "        'rt_range': rt_range,\n",
    "        'isolation_window': isolation_window,\n",
    "        'mz_tol': mz_tol,\n",
    "        'rt_tol': rt_tol,\n",
    "    }\n",
    "}"
   ]
  },
  {
   "cell_type": "code",
   "execution_count": 10,
   "metadata": {
    "pycharm": {
     "name": "#%%\n"
    }
   },
   "outputs": [],
   "source": [
    "max_peaks = 200\n",
    "in_dir = 'results'"
   ]
  },
  {
   "cell_type": "code",
   "execution_count": 11,
   "metadata": {
    "pycharm": {
     "name": "#%%\n"
    }
   },
   "outputs": [],
   "source": [
    "n_eval_episodes = 1\n",
    "deterministic = True"
   ]
  },
  {
   "cell_type": "markdown",
   "metadata": {
    "tags": []
   },
   "source": [
    "# 2. Evaluation"
   ]
  },
  {
   "cell_type": "markdown",
   "metadata": {},
   "source": [
    "#### Generate some chemical sets"
   ]
  },
  {
   "cell_type": "code",
   "execution_count": 12,
   "metadata": {},
   "outputs": [
    {
     "data": {
      "text/plain": [
       "1"
      ]
     },
     "execution_count": 12,
     "metadata": {},
     "output_type": "execute_result"
    }
   ],
   "source": [
    "set_log_level_warning()"
   ]
  },
  {
   "cell_type": "code",
   "execution_count": 13,
   "metadata": {},
   "outputs": [],
   "source": [
    "eval_dir = 'optimise_baselines'\n",
    "method = METHOD_TOPN"
   ]
  },
  {
   "cell_type": "code",
   "execution_count": 14,
   "metadata": {},
   "outputs": [
    {
     "name": "stdout",
     "output_type": "stream",
     "text": [
      "0\n"
     ]
    }
   ],
   "source": [
    "chemical_creator_params = params['chemical_creator']\n",
    "\n",
    "chem_list = []\n",
    "for i in range(n_eval_episodes):\n",
    "    print(i)\n",
    "    chems = generate_chemicals(chemical_creator_params)\n",
    "    chem_list.append(chems)"
   ]
  },
  {
   "cell_type": "markdown",
   "metadata": {},
   "source": [
    "#### Run different methods"
   ]
  },
  {
   "cell_type": "code",
   "execution_count": 15,
   "metadata": {},
   "outputs": [
    {
     "name": "stdout",
     "output_type": "stream",
     "text": [
      "315\n"
     ]
    }
   ],
   "source": [
    "for chems in chem_list:\n",
    "    print(len(chems))"
   ]
  },
  {
   "cell_type": "code",
   "execution_count": 16,
   "metadata": {},
   "outputs": [
    {
     "data": {
      "text/plain": [
       "200"
      ]
     },
     "execution_count": 16,
     "metadata": {},
     "output_type": "execute_result"
    }
   ],
   "source": [
    "max_peaks"
   ]
  },
  {
   "cell_type": "code",
   "execution_count": 17,
   "metadata": {},
   "outputs": [
    {
     "data": {
      "text/plain": [
       "('results', 'optimise_baselines')"
      ]
     },
     "execution_count": 17,
     "metadata": {},
     "output_type": "execute_result"
    }
   ],
   "source": [
    "out_dir = eval_dir\n",
    "in_dir, out_dir"
   ]
  },
  {
   "cell_type": "markdown",
   "metadata": {},
   "source": [
    "#### Compare to Top-10"
   ]
  },
  {
   "cell_type": "code",
   "execution_count": 18,
   "metadata": {},
   "outputs": [],
   "source": [
    "env_name = 'DDAEnv'\n",
    "model_name = 'PPO'\n",
    "intensity_threshold = 0.5"
   ]
  },
  {
   "cell_type": "code",
   "execution_count": 19,
   "metadata": {},
   "outputs": [],
   "source": [
    "rt_tols = [15, 30, 60, 120, 240, 300]\n",
    "Ns = [5, 10, 15, 20, 25]"
   ]
  },
  {
   "cell_type": "code",
   "execution_count": 20,
   "metadata": {},
   "outputs": [
    {
     "name": "stdout",
     "output_type": "stream",
     "text": [
      "method = topN max_peaks = 200 N = 5 rt_tol = 15\n",
      "\n",
      "{'coverage_prop': '0.914', 'intensity_prop': '0.678', 'ms1/ms2 ratio': '2.434', 'efficiency': '0.845', 'TP': '258', 'FP': '23', 'FN': '34', 'precision': '0.918', 'recall': '0.884', 'f1': '0.901'}\n",
      "\n",
      "method = topN max_peaks = 200 N = 10 rt_tol = 15\n",
      "\n",
      "{'coverage_prop': '0.911', 'intensity_prop': '0.677', 'ms1/ms2 ratio': '2.417', 'efficiency': '0.837', 'TP': '258', 'FP': '22', 'FN': '35', 'precision': '0.921', 'recall': '0.881', 'f1': '0.901'}\n",
      "\n",
      "method = topN max_peaks = 200 N = 15 rt_tol = 15\n",
      "\n",
      "{'coverage_prop': '0.911', 'intensity_prop': '0.677', 'ms1/ms2 ratio': '2.417', 'efficiency': '0.837', 'TP': '258', 'FP': '22', 'FN': '35', 'precision': '0.921', 'recall': '0.881', 'f1': '0.901'}\n",
      "\n",
      "method = topN max_peaks = 200 N = 20 rt_tol = 15\n",
      "\n",
      "{'coverage_prop': '0.911', 'intensity_prop': '0.677', 'ms1/ms2 ratio': '2.417', 'efficiency': '0.837', 'TP': '258', 'FP': '22', 'FN': '35', 'precision': '0.921', 'recall': '0.881', 'f1': '0.901'}\n",
      "\n",
      "method = topN max_peaks = 200 N = 25 rt_tol = 15\n",
      "\n"
     ]
    },
    {
     "ename": "SerialisationError",
     "evalue": "IO_FLUSH",
     "output_type": "error",
     "traceback": [
      "\u001b[0;31m---------------------------------------------------------------------------\u001b[0m",
      "\u001b[0;31mValueError\u001b[0m                                Traceback (most recent call last)",
      "\u001b[0;32m/opt/anaconda3/envs/vimms-gym/lib/python3.9/contextlib.py\u001b[0m in \u001b[0;36m__exit__\u001b[0;34m(self, typ, value, traceback)\u001b[0m\n\u001b[1;32m    136\u001b[0m             \u001b[0;32mtry\u001b[0m\u001b[0;34m:\u001b[0m\u001b[0;34m\u001b[0m\u001b[0;34m\u001b[0m\u001b[0m\n\u001b[0;32m--> 137\u001b[0;31m                 \u001b[0mself\u001b[0m\u001b[0;34m.\u001b[0m\u001b[0mgen\u001b[0m\u001b[0;34m.\u001b[0m\u001b[0mthrow\u001b[0m\u001b[0;34m(\u001b[0m\u001b[0mtyp\u001b[0m\u001b[0;34m,\u001b[0m \u001b[0mvalue\u001b[0m\u001b[0;34m,\u001b[0m \u001b[0mtraceback\u001b[0m\u001b[0;34m)\u001b[0m\u001b[0;34m\u001b[0m\u001b[0;34m\u001b[0m\u001b[0m\n\u001b[0m\u001b[1;32m    138\u001b[0m             \u001b[0;32mexcept\u001b[0m \u001b[0mStopIteration\u001b[0m \u001b[0;32mas\u001b[0m \u001b[0mexc\u001b[0m\u001b[0;34m:\u001b[0m\u001b[0;34m\u001b[0m\u001b[0;34m\u001b[0m\u001b[0m\n",
      "\u001b[0;32m/opt/anaconda3/envs/vimms-gym/lib/python3.9/site-packages/psims/xml.py\u001b[0m in \u001b[0;36melement\u001b[0;34m(self, *args, **kwargs)\u001b[0m\n\u001b[1;32m    894\u001b[0m         \u001b[0mself\u001b[0m\u001b[0;34m.\u001b[0m\u001b[0mindent_level\u001b[0m \u001b[0;34m+=\u001b[0m \u001b[0;36m1\u001b[0m\u001b[0;34m\u001b[0m\u001b[0;34m\u001b[0m\u001b[0m\n\u001b[0;32m--> 895\u001b[0;31m         \u001b[0;32myield\u001b[0m\u001b[0;34m\u001b[0m\u001b[0;34m\u001b[0m\u001b[0m\n\u001b[0m\u001b[1;32m    896\u001b[0m         \u001b[0mself\u001b[0m\u001b[0;34m.\u001b[0m\u001b[0mindent_level\u001b[0m \u001b[0;34m-=\u001b[0m \u001b[0;36m1\u001b[0m\u001b[0;34m\u001b[0m\u001b[0;34m\u001b[0m\u001b[0m\n",
      "\u001b[0;32m/opt/anaconda3/envs/vimms-gym/lib/python3.9/site-packages/vimms/MzmlWriter.py\u001b[0m in \u001b[0;36m_write_spectra\u001b[0;34m(self, writer, scans, min_scan_id)\u001b[0m\n\u001b[1;32m    153\u001b[0m             \u001b[0;32mfor\u001b[0m \u001b[0mscan\u001b[0m \u001b[0;32min\u001b[0m \u001b[0mall_scans\u001b[0m\u001b[0;34m:\u001b[0m\u001b[0;34m\u001b[0m\u001b[0;34m\u001b[0m\u001b[0m\n\u001b[0;32m--> 154\u001b[0;31m                 \u001b[0mself\u001b[0m\u001b[0;34m.\u001b[0m\u001b[0m_write_scan\u001b[0m\u001b[0;34m(\u001b[0m\u001b[0mwriter\u001b[0m\u001b[0;34m,\u001b[0m \u001b[0mscan\u001b[0m\u001b[0;34m)\u001b[0m\u001b[0;34m\u001b[0m\u001b[0;34m\u001b[0m\u001b[0m\n\u001b[0m\u001b[1;32m    155\u001b[0m \u001b[0;34m\u001b[0m\u001b[0m\n",
      "\u001b[0;32m/opt/anaconda3/envs/vimms-gym/lib/python3.9/site-packages/vimms/MzmlWriter.py\u001b[0m in \u001b[0;36m_write_scan\u001b[0;34m(self, out, scan)\u001b[0m\n\u001b[1;32m    210\u001b[0m \u001b[0;34m\u001b[0m\u001b[0m\n\u001b[0;32m--> 211\u001b[0;31m         out.write_spectrum(\n\u001b[0m\u001b[1;32m    212\u001b[0m             \u001b[0mscan\u001b[0m\u001b[0;34m.\u001b[0m\u001b[0mmzs\u001b[0m\u001b[0;34m,\u001b[0m \u001b[0mscan\u001b[0m\u001b[0;34m.\u001b[0m\u001b[0mintensities\u001b[0m\u001b[0;34m,\u001b[0m\u001b[0;34m\u001b[0m\u001b[0;34m\u001b[0m\u001b[0m\n",
      "\u001b[0;32m/opt/anaconda3/envs/vimms-gym/lib/python3.9/site-packages/psims/mzml/writer.py\u001b[0m in \u001b[0;36mwrite_spectrum\u001b[0;34m(self, mz_array, intensity_array, charge_array, id, polarity, centroided, precursor_information, scan_start_time, params, compression, encoding, other_arrays, scan_params, scan_window_list, instrument_configuration_id, intensity_unit)\u001b[0m\n\u001b[1;32m    699\u001b[0m             intensity_unit=intensity_unit)\n\u001b[0;32m--> 700\u001b[0;31m         \u001b[0mspectrum\u001b[0m\u001b[0;34m.\u001b[0m\u001b[0mwrite\u001b[0m\u001b[0;34m(\u001b[0m\u001b[0mself\u001b[0m\u001b[0;34m.\u001b[0m\u001b[0mwriter\u001b[0m\u001b[0;34m)\u001b[0m\u001b[0;34m\u001b[0m\u001b[0;34m\u001b[0m\u001b[0m\n\u001b[0m\u001b[1;32m    701\u001b[0m \u001b[0;34m\u001b[0m\u001b[0m\n",
      "\u001b[0;32m/opt/anaconda3/envs/vimms-gym/lib/python3.9/site-packages/psims/document.py\u001b[0m in \u001b[0;36mwrite\u001b[0;34m(self, xml_file)\u001b[0m\n\u001b[1;32m    581\u001b[0m     \u001b[0;32mdef\u001b[0m \u001b[0mwrite\u001b[0m\u001b[0;34m(\u001b[0m\u001b[0mself\u001b[0m\u001b[0;34m,\u001b[0m \u001b[0mxml_file\u001b[0m\u001b[0;34m)\u001b[0m\u001b[0;34m:\u001b[0m\u001b[0;34m\u001b[0m\u001b[0;34m\u001b[0m\u001b[0m\n\u001b[0;32m--> 582\u001b[0;31m         \u001b[0;32mwith\u001b[0m \u001b[0mself\u001b[0m\u001b[0;34m.\u001b[0m\u001b[0mbegin\u001b[0m\u001b[0;34m(\u001b[0m\u001b[0mxml_file\u001b[0m\u001b[0;34m)\u001b[0m\u001b[0;34m:\u001b[0m\u001b[0;34m\u001b[0m\u001b[0;34m\u001b[0m\u001b[0m\n\u001b[0m\u001b[1;32m    583\u001b[0m             \u001b[0;32mpass\u001b[0m\u001b[0;34m\u001b[0m\u001b[0;34m\u001b[0m\u001b[0m\n",
      "\u001b[0;32m/opt/anaconda3/envs/vimms-gym/lib/python3.9/contextlib.py\u001b[0m in \u001b[0;36m__enter__\u001b[0;34m(self)\u001b[0m\n\u001b[1;32m    118\u001b[0m         \u001b[0;32mtry\u001b[0m\u001b[0;34m:\u001b[0m\u001b[0;34m\u001b[0m\u001b[0;34m\u001b[0m\u001b[0m\n\u001b[0;32m--> 119\u001b[0;31m             \u001b[0;32mreturn\u001b[0m \u001b[0mnext\u001b[0m\u001b[0;34m(\u001b[0m\u001b[0mself\u001b[0m\u001b[0;34m.\u001b[0m\u001b[0mgen\u001b[0m\u001b[0;34m)\u001b[0m\u001b[0;34m\u001b[0m\u001b[0;34m\u001b[0m\u001b[0m\n\u001b[0m\u001b[1;32m    120\u001b[0m         \u001b[0;32mexcept\u001b[0m \u001b[0mStopIteration\u001b[0m\u001b[0;34m:\u001b[0m\u001b[0;34m\u001b[0m\u001b[0;34m\u001b[0m\u001b[0m\n",
      "\u001b[0;32m/opt/anaconda3/envs/vimms-gym/lib/python3.9/site-packages/psims/document.py\u001b[0m in \u001b[0;36mbegin\u001b[0;34m(self, xml_file, with_id)\u001b[0m\n\u001b[1;32m    606\u001b[0m         \u001b[0;32mwith\u001b[0m \u001b[0mself\u001b[0m\u001b[0;34m.\u001b[0m\u001b[0melement\u001b[0m\u001b[0;34m.\u001b[0m\u001b[0mbegin\u001b[0m\u001b[0;34m(\u001b[0m\u001b[0mxml_file\u001b[0m\u001b[0;34m,\u001b[0m \u001b[0mwith_id\u001b[0m\u001b[0;34m=\u001b[0m\u001b[0mwith_id\u001b[0m\u001b[0;34m)\u001b[0m\u001b[0;34m:\u001b[0m\u001b[0;34m\u001b[0m\u001b[0;34m\u001b[0m\u001b[0m\n\u001b[0;32m--> 607\u001b[0;31m             \u001b[0mself\u001b[0m\u001b[0;34m.\u001b[0m\u001b[0mwrite_content\u001b[0m\u001b[0;34m(\u001b[0m\u001b[0mxml_file\u001b[0m\u001b[0;34m)\u001b[0m\u001b[0;34m\u001b[0m\u001b[0;34m\u001b[0m\u001b[0m\n\u001b[0m\u001b[1;32m    608\u001b[0m             \u001b[0;32myield\u001b[0m\u001b[0;34m\u001b[0m\u001b[0;34m\u001b[0m\u001b[0m\n",
      "\u001b[0;32m/opt/anaconda3/envs/vimms-gym/lib/python3.9/site-packages/psims/mzml/components.py\u001b[0m in \u001b[0;36mwrite_content\u001b[0;34m(self, xml_file)\u001b[0m\n\u001b[1;32m    641\u001b[0m         \u001b[0;32mif\u001b[0m \u001b[0;34m(\u001b[0m\u001b[0mself\u001b[0m\u001b[0;34m.\u001b[0m\u001b[0mscan_list\u001b[0m \u001b[0;32mis\u001b[0m \u001b[0;32mnot\u001b[0m \u001b[0;32mNone\u001b[0m\u001b[0;34m)\u001b[0m\u001b[0;34m:\u001b[0m\u001b[0;34m\u001b[0m\u001b[0;34m\u001b[0m\u001b[0m\n\u001b[0;32m--> 642\u001b[0;31m             \u001b[0mself\u001b[0m\u001b[0;34m.\u001b[0m\u001b[0mscan_list\u001b[0m\u001b[0;34m.\u001b[0m\u001b[0mwrite\u001b[0m\u001b[0;34m(\u001b[0m\u001b[0mxml_file\u001b[0m\u001b[0;34m)\u001b[0m\u001b[0;34m\u001b[0m\u001b[0;34m\u001b[0m\u001b[0m\n\u001b[0m\u001b[1;32m    643\u001b[0m         \u001b[0;32mif\u001b[0m \u001b[0;34m(\u001b[0m\u001b[0mself\u001b[0m\u001b[0;34m.\u001b[0m\u001b[0mprecursor_list\u001b[0m \u001b[0;32mis\u001b[0m \u001b[0;32mnot\u001b[0m \u001b[0;32mNone\u001b[0m\u001b[0;34m)\u001b[0m\u001b[0;34m:\u001b[0m\u001b[0;34m\u001b[0m\u001b[0;34m\u001b[0m\u001b[0m\n",
      "\u001b[0;32m/opt/anaconda3/envs/vimms-gym/lib/python3.9/site-packages/psims/document.py\u001b[0m in \u001b[0;36mwrite\u001b[0;34m(self, xml_file)\u001b[0m\n\u001b[1;32m    581\u001b[0m     \u001b[0;32mdef\u001b[0m \u001b[0mwrite\u001b[0m\u001b[0;34m(\u001b[0m\u001b[0mself\u001b[0m\u001b[0;34m,\u001b[0m \u001b[0mxml_file\u001b[0m\u001b[0;34m)\u001b[0m\u001b[0;34m:\u001b[0m\u001b[0;34m\u001b[0m\u001b[0;34m\u001b[0m\u001b[0m\n\u001b[0;32m--> 582\u001b[0;31m         \u001b[0;32mwith\u001b[0m \u001b[0mself\u001b[0m\u001b[0;34m.\u001b[0m\u001b[0mbegin\u001b[0m\u001b[0;34m(\u001b[0m\u001b[0mxml_file\u001b[0m\u001b[0;34m)\u001b[0m\u001b[0;34m:\u001b[0m\u001b[0;34m\u001b[0m\u001b[0;34m\u001b[0m\u001b[0m\n\u001b[0m\u001b[1;32m    583\u001b[0m             \u001b[0;32mpass\u001b[0m\u001b[0;34m\u001b[0m\u001b[0;34m\u001b[0m\u001b[0m\n",
      "\u001b[0;32m/opt/anaconda3/envs/vimms-gym/lib/python3.9/contextlib.py\u001b[0m in \u001b[0;36m__enter__\u001b[0;34m(self)\u001b[0m\n\u001b[1;32m    118\u001b[0m         \u001b[0;32mtry\u001b[0m\u001b[0;34m:\u001b[0m\u001b[0;34m\u001b[0m\u001b[0;34m\u001b[0m\u001b[0m\n\u001b[0;32m--> 119\u001b[0;31m             \u001b[0;32mreturn\u001b[0m \u001b[0mnext\u001b[0m\u001b[0;34m(\u001b[0m\u001b[0mself\u001b[0m\u001b[0;34m.\u001b[0m\u001b[0mgen\u001b[0m\u001b[0;34m)\u001b[0m\u001b[0;34m\u001b[0m\u001b[0;34m\u001b[0m\u001b[0m\n\u001b[0m\u001b[1;32m    120\u001b[0m         \u001b[0;32mexcept\u001b[0m \u001b[0mStopIteration\u001b[0m\u001b[0;34m:\u001b[0m\u001b[0;34m\u001b[0m\u001b[0;34m\u001b[0m\u001b[0m\n",
      "\u001b[0;32m/opt/anaconda3/envs/vimms-gym/lib/python3.9/site-packages/psims/document.py\u001b[0m in \u001b[0;36mbegin\u001b[0;34m(self, xml_file, with_id)\u001b[0m\n\u001b[1;32m    606\u001b[0m         \u001b[0;32mwith\u001b[0m \u001b[0mself\u001b[0m\u001b[0;34m.\u001b[0m\u001b[0melement\u001b[0m\u001b[0;34m.\u001b[0m\u001b[0mbegin\u001b[0m\u001b[0;34m(\u001b[0m\u001b[0mxml_file\u001b[0m\u001b[0;34m,\u001b[0m \u001b[0mwith_id\u001b[0m\u001b[0;34m=\u001b[0m\u001b[0mwith_id\u001b[0m\u001b[0;34m)\u001b[0m\u001b[0;34m:\u001b[0m\u001b[0;34m\u001b[0m\u001b[0;34m\u001b[0m\u001b[0m\n\u001b[0;32m--> 607\u001b[0;31m             \u001b[0mself\u001b[0m\u001b[0;34m.\u001b[0m\u001b[0mwrite_content\u001b[0m\u001b[0;34m(\u001b[0m\u001b[0mxml_file\u001b[0m\u001b[0;34m)\u001b[0m\u001b[0;34m\u001b[0m\u001b[0;34m\u001b[0m\u001b[0m\n\u001b[0m\u001b[1;32m    608\u001b[0m             \u001b[0;32myield\u001b[0m\u001b[0;34m\u001b[0m\u001b[0;34m\u001b[0m\u001b[0m\n",
      "\u001b[0;32m/opt/anaconda3/envs/vimms-gym/lib/python3.9/site-packages/psims/mzml/components.py\u001b[0m in \u001b[0;36mwrite_content\u001b[0;34m(self, xml_file)\u001b[0m\n\u001b[1;32m    796\u001b[0m         \u001b[0;32mfor\u001b[0m \u001b[0mmember\u001b[0m \u001b[0;32min\u001b[0m \u001b[0mself\u001b[0m\u001b[0;34m.\u001b[0m\u001b[0mmembers\u001b[0m\u001b[0;34m:\u001b[0m\u001b[0;34m\u001b[0m\u001b[0;34m\u001b[0m\u001b[0m\n\u001b[0;32m--> 797\u001b[0;31m             \u001b[0mmember\u001b[0m\u001b[0;34m.\u001b[0m\u001b[0mwrite\u001b[0m\u001b[0;34m(\u001b[0m\u001b[0mxml_file\u001b[0m\u001b[0;34m)\u001b[0m\u001b[0;34m\u001b[0m\u001b[0;34m\u001b[0m\u001b[0m\n\u001b[0m\u001b[1;32m    798\u001b[0m \u001b[0;34m\u001b[0m\u001b[0m\n",
      "\u001b[0;32m/opt/anaconda3/envs/vimms-gym/lib/python3.9/site-packages/psims/document.py\u001b[0m in \u001b[0;36mwrite\u001b[0;34m(self, xml_file)\u001b[0m\n\u001b[1;32m    581\u001b[0m     \u001b[0;32mdef\u001b[0m \u001b[0mwrite\u001b[0m\u001b[0;34m(\u001b[0m\u001b[0mself\u001b[0m\u001b[0;34m,\u001b[0m \u001b[0mxml_file\u001b[0m\u001b[0;34m)\u001b[0m\u001b[0;34m:\u001b[0m\u001b[0;34m\u001b[0m\u001b[0;34m\u001b[0m\u001b[0m\n\u001b[0;32m--> 582\u001b[0;31m         \u001b[0;32mwith\u001b[0m \u001b[0mself\u001b[0m\u001b[0;34m.\u001b[0m\u001b[0mbegin\u001b[0m\u001b[0;34m(\u001b[0m\u001b[0mxml_file\u001b[0m\u001b[0;34m)\u001b[0m\u001b[0;34m:\u001b[0m\u001b[0;34m\u001b[0m\u001b[0;34m\u001b[0m\u001b[0m\n\u001b[0m\u001b[1;32m    583\u001b[0m             \u001b[0;32mpass\u001b[0m\u001b[0;34m\u001b[0m\u001b[0;34m\u001b[0m\u001b[0m\n",
      "\u001b[0;32m/opt/anaconda3/envs/vimms-gym/lib/python3.9/contextlib.py\u001b[0m in \u001b[0;36m__enter__\u001b[0;34m(self)\u001b[0m\n\u001b[1;32m    118\u001b[0m         \u001b[0;32mtry\u001b[0m\u001b[0;34m:\u001b[0m\u001b[0;34m\u001b[0m\u001b[0;34m\u001b[0m\u001b[0m\n\u001b[0;32m--> 119\u001b[0;31m             \u001b[0;32mreturn\u001b[0m \u001b[0mnext\u001b[0m\u001b[0;34m(\u001b[0m\u001b[0mself\u001b[0m\u001b[0;34m.\u001b[0m\u001b[0mgen\u001b[0m\u001b[0;34m)\u001b[0m\u001b[0;34m\u001b[0m\u001b[0;34m\u001b[0m\u001b[0m\n\u001b[0m\u001b[1;32m    120\u001b[0m         \u001b[0;32mexcept\u001b[0m \u001b[0mStopIteration\u001b[0m\u001b[0;34m:\u001b[0m\u001b[0;34m\u001b[0m\u001b[0;34m\u001b[0m\u001b[0m\n",
      "\u001b[0;32m/opt/anaconda3/envs/vimms-gym/lib/python3.9/site-packages/psims/document.py\u001b[0m in \u001b[0;36mbegin\u001b[0;34m(self, xml_file, with_id)\u001b[0m\n\u001b[1;32m    606\u001b[0m         \u001b[0;32mwith\u001b[0m \u001b[0mself\u001b[0m\u001b[0;34m.\u001b[0m\u001b[0melement\u001b[0m\u001b[0;34m.\u001b[0m\u001b[0mbegin\u001b[0m\u001b[0;34m(\u001b[0m\u001b[0mxml_file\u001b[0m\u001b[0;34m,\u001b[0m \u001b[0mwith_id\u001b[0m\u001b[0;34m=\u001b[0m\u001b[0mwith_id\u001b[0m\u001b[0;34m)\u001b[0m\u001b[0;34m:\u001b[0m\u001b[0;34m\u001b[0m\u001b[0;34m\u001b[0m\u001b[0m\n\u001b[0;32m--> 607\u001b[0;31m             \u001b[0mself\u001b[0m\u001b[0;34m.\u001b[0m\u001b[0mwrite_content\u001b[0m\u001b[0;34m(\u001b[0m\u001b[0mxml_file\u001b[0m\u001b[0;34m)\u001b[0m\u001b[0;34m\u001b[0m\u001b[0;34m\u001b[0m\u001b[0m\n\u001b[0m\u001b[1;32m    608\u001b[0m             \u001b[0;32myield\u001b[0m\u001b[0;34m\u001b[0m\u001b[0;34m\u001b[0m\u001b[0m\n",
      "\u001b[0;32m/opt/anaconda3/envs/vimms-gym/lib/python3.9/site-packages/psims/mzml/components.py\u001b[0m in \u001b[0;36mwrite_content\u001b[0;34m(self, xml_file)\u001b[0m\n\u001b[1;32m    832\u001b[0m         \u001b[0;32mif\u001b[0m \u001b[0;34m(\u001b[0m\u001b[0mlen\u001b[0m\u001b[0;34m(\u001b[0m\u001b[0mself\u001b[0m\u001b[0;34m.\u001b[0m\u001b[0mscan_window_list\u001b[0m\u001b[0;34m)\u001b[0m \u001b[0;34m>\u001b[0m \u001b[0;36m0\u001b[0m\u001b[0;34m)\u001b[0m\u001b[0;34m:\u001b[0m\u001b[0;34m\u001b[0m\u001b[0;34m\u001b[0m\u001b[0m\n\u001b[0;32m--> 833\u001b[0;31m             \u001b[0mself\u001b[0m\u001b[0;34m.\u001b[0m\u001b[0mscan_window_list\u001b[0m\u001b[0;34m.\u001b[0m\u001b[0mwrite\u001b[0m\u001b[0;34m(\u001b[0m\u001b[0mxml_file\u001b[0m\u001b[0;34m)\u001b[0m\u001b[0;34m\u001b[0m\u001b[0;34m\u001b[0m\u001b[0m\n\u001b[0m\u001b[1;32m    834\u001b[0m \u001b[0;34m\u001b[0m\u001b[0m\n",
      "\u001b[0;32m/opt/anaconda3/envs/vimms-gym/lib/python3.9/site-packages/psims/document.py\u001b[0m in \u001b[0;36mwrite\u001b[0;34m(self, xml_file)\u001b[0m\n\u001b[1;32m    581\u001b[0m     \u001b[0;32mdef\u001b[0m \u001b[0mwrite\u001b[0m\u001b[0;34m(\u001b[0m\u001b[0mself\u001b[0m\u001b[0;34m,\u001b[0m \u001b[0mxml_file\u001b[0m\u001b[0;34m)\u001b[0m\u001b[0;34m:\u001b[0m\u001b[0;34m\u001b[0m\u001b[0;34m\u001b[0m\u001b[0m\n\u001b[0;32m--> 582\u001b[0;31m         \u001b[0;32mwith\u001b[0m \u001b[0mself\u001b[0m\u001b[0;34m.\u001b[0m\u001b[0mbegin\u001b[0m\u001b[0;34m(\u001b[0m\u001b[0mxml_file\u001b[0m\u001b[0;34m)\u001b[0m\u001b[0;34m:\u001b[0m\u001b[0;34m\u001b[0m\u001b[0;34m\u001b[0m\u001b[0m\n\u001b[0m\u001b[1;32m    583\u001b[0m             \u001b[0;32mpass\u001b[0m\u001b[0;34m\u001b[0m\u001b[0;34m\u001b[0m\u001b[0m\n",
      "\u001b[0;32m/opt/anaconda3/envs/vimms-gym/lib/python3.9/contextlib.py\u001b[0m in \u001b[0;36m__enter__\u001b[0;34m(self)\u001b[0m\n\u001b[1;32m    118\u001b[0m         \u001b[0;32mtry\u001b[0m\u001b[0;34m:\u001b[0m\u001b[0;34m\u001b[0m\u001b[0;34m\u001b[0m\u001b[0m\n\u001b[0;32m--> 119\u001b[0;31m             \u001b[0;32mreturn\u001b[0m \u001b[0mnext\u001b[0m\u001b[0;34m(\u001b[0m\u001b[0mself\u001b[0m\u001b[0;34m.\u001b[0m\u001b[0mgen\u001b[0m\u001b[0;34m)\u001b[0m\u001b[0;34m\u001b[0m\u001b[0;34m\u001b[0m\u001b[0m\n\u001b[0m\u001b[1;32m    120\u001b[0m         \u001b[0;32mexcept\u001b[0m \u001b[0mStopIteration\u001b[0m\u001b[0;34m:\u001b[0m\u001b[0;34m\u001b[0m\u001b[0;34m\u001b[0m\u001b[0m\n",
      "\u001b[0;32m/opt/anaconda3/envs/vimms-gym/lib/python3.9/site-packages/psims/document.py\u001b[0m in \u001b[0;36mbegin\u001b[0;34m(self, xml_file, with_id)\u001b[0m\n\u001b[1;32m    606\u001b[0m         \u001b[0;32mwith\u001b[0m \u001b[0mself\u001b[0m\u001b[0;34m.\u001b[0m\u001b[0melement\u001b[0m\u001b[0;34m.\u001b[0m\u001b[0mbegin\u001b[0m\u001b[0;34m(\u001b[0m\u001b[0mxml_file\u001b[0m\u001b[0;34m,\u001b[0m \u001b[0mwith_id\u001b[0m\u001b[0;34m=\u001b[0m\u001b[0mwith_id\u001b[0m\u001b[0;34m)\u001b[0m\u001b[0;34m:\u001b[0m\u001b[0;34m\u001b[0m\u001b[0;34m\u001b[0m\u001b[0m\n\u001b[0;32m--> 607\u001b[0;31m             \u001b[0mself\u001b[0m\u001b[0;34m.\u001b[0m\u001b[0mwrite_content\u001b[0m\u001b[0;34m(\u001b[0m\u001b[0mxml_file\u001b[0m\u001b[0;34m)\u001b[0m\u001b[0;34m\u001b[0m\u001b[0;34m\u001b[0m\u001b[0m\n\u001b[0m\u001b[1;32m    608\u001b[0m             \u001b[0;32myield\u001b[0m\u001b[0;34m\u001b[0m\u001b[0;34m\u001b[0m\u001b[0m\n",
      "\u001b[0;32m/opt/anaconda3/envs/vimms-gym/lib/python3.9/site-packages/psims/mzml/components.py\u001b[0m in \u001b[0;36mwrite_content\u001b[0;34m(self, xml_file)\u001b[0m\n\u001b[1;32m     90\u001b[0m         \u001b[0;32mfor\u001b[0m \u001b[0mmember\u001b[0m \u001b[0;32min\u001b[0m \u001b[0mself\u001b[0m\u001b[0;34m.\u001b[0m\u001b[0mmembers\u001b[0m\u001b[0;34m:\u001b[0m\u001b[0;34m\u001b[0m\u001b[0;34m\u001b[0m\u001b[0m\n\u001b[0;32m---> 91\u001b[0;31m             \u001b[0mmember\u001b[0m\u001b[0;34m.\u001b[0m\u001b[0mwrite\u001b[0m\u001b[0;34m(\u001b[0m\u001b[0mxml_file\u001b[0m\u001b[0;34m)\u001b[0m\u001b[0;34m\u001b[0m\u001b[0;34m\u001b[0m\u001b[0m\n\u001b[0m\u001b[1;32m     92\u001b[0m \u001b[0;34m\u001b[0m\u001b[0m\n",
      "\u001b[0;32m/opt/anaconda3/envs/vimms-gym/lib/python3.9/site-packages/psims/document.py\u001b[0m in \u001b[0;36mwrite\u001b[0;34m(self, xml_file)\u001b[0m\n\u001b[1;32m    582\u001b[0m         \u001b[0;32mwith\u001b[0m \u001b[0mself\u001b[0m\u001b[0;34m.\u001b[0m\u001b[0mbegin\u001b[0m\u001b[0;34m(\u001b[0m\u001b[0mxml_file\u001b[0m\u001b[0;34m)\u001b[0m\u001b[0;34m:\u001b[0m\u001b[0;34m\u001b[0m\u001b[0;34m\u001b[0m\u001b[0m\n\u001b[0;32m--> 583\u001b[0;31m             \u001b[0;32mpass\u001b[0m\u001b[0;34m\u001b[0m\u001b[0;34m\u001b[0m\u001b[0m\n\u001b[0m\u001b[1;32m    584\u001b[0m \u001b[0;34m\u001b[0m\u001b[0m\n",
      "\u001b[0;32m/opt/anaconda3/envs/vimms-gym/lib/python3.9/contextlib.py\u001b[0m in \u001b[0;36m__exit__\u001b[0;34m(self, typ, value, traceback)\u001b[0m\n\u001b[1;32m    125\u001b[0m             \u001b[0;32mtry\u001b[0m\u001b[0;34m:\u001b[0m\u001b[0;34m\u001b[0m\u001b[0;34m\u001b[0m\u001b[0m\n\u001b[0;32m--> 126\u001b[0;31m                 \u001b[0mnext\u001b[0m\u001b[0;34m(\u001b[0m\u001b[0mself\u001b[0m\u001b[0;34m.\u001b[0m\u001b[0mgen\u001b[0m\u001b[0;34m)\u001b[0m\u001b[0;34m\u001b[0m\u001b[0;34m\u001b[0m\u001b[0m\n\u001b[0m\u001b[1;32m    127\u001b[0m             \u001b[0;32mexcept\u001b[0m \u001b[0mStopIteration\u001b[0m\u001b[0;34m:\u001b[0m\u001b[0;34m\u001b[0m\u001b[0;34m\u001b[0m\u001b[0m\n",
      "\u001b[0;32m/opt/anaconda3/envs/vimms-gym/lib/python3.9/site-packages/psims/document.py\u001b[0m in \u001b[0;36mbegin\u001b[0;34m(self, xml_file, with_id)\u001b[0m\n\u001b[1;32m    611\u001b[0m                 \u001b[0;32mfor\u001b[0m \u001b[0mcallback\u001b[0m \u001b[0;32min\u001b[0m \u001b[0mself\u001b[0m\u001b[0;34m.\u001b[0m\u001b[0m_after_queue\u001b[0m\u001b[0;34m:\u001b[0m\u001b[0;34m\u001b[0m\u001b[0;34m\u001b[0m\u001b[0m\n\u001b[0;32m--> 612\u001b[0;31m                     \u001b[0mcallback\u001b[0m\u001b[0;34m(\u001b[0m\u001b[0mxml_file\u001b[0m\u001b[0;34m)\u001b[0m\u001b[0;34m\u001b[0m\u001b[0;34m\u001b[0m\u001b[0m\n\u001b[0m\u001b[1;32m    613\u001b[0m \u001b[0;34m\u001b[0m\u001b[0m\n",
      "\u001b[0;32m/opt/anaconda3/envs/vimms-gym/lib/python3.9/contextlib.py\u001b[0m in \u001b[0;36m__exit__\u001b[0;34m(self, typ, value, traceback)\u001b[0m\n\u001b[1;32m    125\u001b[0m             \u001b[0;32mtry\u001b[0m\u001b[0;34m:\u001b[0m\u001b[0;34m\u001b[0m\u001b[0;34m\u001b[0m\u001b[0m\n\u001b[0;32m--> 126\u001b[0;31m                 \u001b[0mnext\u001b[0m\u001b[0;34m(\u001b[0m\u001b[0mself\u001b[0m\u001b[0;34m.\u001b[0m\u001b[0mgen\u001b[0m\u001b[0;34m)\u001b[0m\u001b[0;34m\u001b[0m\u001b[0;34m\u001b[0m\u001b[0m\n\u001b[0m\u001b[1;32m    127\u001b[0m             \u001b[0;32mexcept\u001b[0m \u001b[0mStopIteration\u001b[0m\u001b[0;34m:\u001b[0m\u001b[0;34m\u001b[0m\u001b[0;34m\u001b[0m\u001b[0m\n",
      "\u001b[0;32m/opt/anaconda3/envs/vimms-gym/lib/python3.9/site-packages/psims/xml.py\u001b[0m in \u001b[0;36mbegin\u001b[0;34m(self, xml_file, with_id)\u001b[0m\n\u001b[1;32m    273\u001b[0m             \u001b[0mself\u001b[0m\u001b[0;34m.\u001b[0m\u001b[0mis_open\u001b[0m \u001b[0;34m=\u001b[0m \u001b[0;32mTrue\u001b[0m\u001b[0;34m\u001b[0m\u001b[0;34m\u001b[0m\u001b[0m\n\u001b[0;32m--> 274\u001b[0;31m             \u001b[0;32myield\u001b[0m\u001b[0;34m\u001b[0m\u001b[0;34m\u001b[0m\u001b[0m\n\u001b[0m\u001b[1;32m    275\u001b[0m         \u001b[0mself\u001b[0m\u001b[0;34m.\u001b[0m\u001b[0mis_open\u001b[0m \u001b[0;34m=\u001b[0m \u001b[0;32mFalse\u001b[0m\u001b[0;34m\u001b[0m\u001b[0;34m\u001b[0m\u001b[0m\n",
      "\u001b[0;32m/opt/anaconda3/envs/vimms-gym/lib/python3.9/contextlib.py\u001b[0m in \u001b[0;36m__exit__\u001b[0;34m(self, typ, value, traceback)\u001b[0m\n\u001b[1;32m    125\u001b[0m             \u001b[0;32mtry\u001b[0m\u001b[0;34m:\u001b[0m\u001b[0;34m\u001b[0m\u001b[0;34m\u001b[0m\u001b[0m\n\u001b[0;32m--> 126\u001b[0;31m                 \u001b[0mnext\u001b[0m\u001b[0;34m(\u001b[0m\u001b[0mself\u001b[0m\u001b[0;34m.\u001b[0m\u001b[0mgen\u001b[0m\u001b[0;34m)\u001b[0m\u001b[0;34m\u001b[0m\u001b[0;34m\u001b[0m\u001b[0m\n\u001b[0m\u001b[1;32m    127\u001b[0m             \u001b[0;32mexcept\u001b[0m \u001b[0mStopIteration\u001b[0m\u001b[0;34m:\u001b[0m\u001b[0;34m\u001b[0m\u001b[0;34m\u001b[0m\u001b[0m\n",
      "\u001b[0;32m/opt/anaconda3/envs/vimms-gym/lib/python3.9/site-packages/psims/xml.py\u001b[0m in \u001b[0;36melement\u001b[0;34m(self, *args, **kwargs)\u001b[0m\n\u001b[1;32m    898\u001b[0m             \u001b[0mself\u001b[0m\u001b[0;34m.\u001b[0m\u001b[0m_indent_tag\u001b[0m\u001b[0;34m(\u001b[0m\u001b[0;34m)\u001b[0m\u001b[0;34m\u001b[0m\u001b[0;34m\u001b[0m\u001b[0m\n\u001b[0;32m--> 899\u001b[0;31m         \u001b[0melt\u001b[0m\u001b[0;34m.\u001b[0m\u001b[0m__exit__\u001b[0m\u001b[0;34m(\u001b[0m\u001b[0;32mNone\u001b[0m\u001b[0;34m,\u001b[0m \u001b[0;32mNone\u001b[0m\u001b[0;34m,\u001b[0m \u001b[0;32mNone\u001b[0m\u001b[0;34m)\u001b[0m\u001b[0;34m\u001b[0m\u001b[0;34m\u001b[0m\u001b[0m\n\u001b[0m\u001b[1;32m    900\u001b[0m         \u001b[0mself\u001b[0m\u001b[0;34m.\u001b[0m\u001b[0mwrote_text_stack\u001b[0m\u001b[0;34m.\u001b[0m\u001b[0mpop\u001b[0m\u001b[0;34m(\u001b[0m\u001b[0;34m)\u001b[0m\u001b[0;34m\u001b[0m\u001b[0;34m\u001b[0m\u001b[0m\n",
      "\u001b[0;32msrc/lxml/serializer.pxi\u001b[0m in \u001b[0;36mlxml.etree._FileWriterElement.__exit__\u001b[0;34m()\u001b[0m\n",
      "\u001b[0;32msrc/lxml/serializer.pxi\u001b[0m in \u001b[0;36mlxml.etree._IncrementalFileWriter._write_end_element\u001b[0;34m()\u001b[0m\n",
      "\u001b[0;32msrc/lxml/serializer.pxi\u001b[0m in \u001b[0;36mlxml.etree._IncrementalFileWriter._handle_error\u001b[0;34m()\u001b[0m\n",
      "\u001b[0;32msrc/lxml/etree.pyx\u001b[0m in \u001b[0;36mlxml.etree._ExceptionContext._raise_if_stored\u001b[0;34m()\u001b[0m\n",
      "\u001b[0;32msrc/lxml/serializer.pxi\u001b[0m in \u001b[0;36mlxml.etree._FilelikeWriter.write\u001b[0;34m()\u001b[0m\n",
      "\u001b[0;32m/opt/anaconda3/envs/vimms-gym/lib/python3.9/site-packages/psims/mzml/index.py\u001b[0m in \u001b[0;36mwrite\u001b[0;34m(self, data)\u001b[0m\n\u001b[1;32m    281\u001b[0m             \u001b[0mself\u001b[0m\u001b[0;34m.\u001b[0m\u001b[0maccumulator\u001b[0m \u001b[0;34m+=\u001b[0m \u001b[0mlen\u001b[0m\u001b[0;34m(\u001b[0m\u001b[0mline\u001b[0m\u001b[0;34m)\u001b[0m\u001b[0;34m\u001b[0m\u001b[0;34m\u001b[0m\u001b[0m\n\u001b[0;32m--> 282\u001b[0;31m             \u001b[0mnl\u001b[0m \u001b[0;34m=\u001b[0m \u001b[0msuper\u001b[0m\u001b[0;34m(\u001b[0m\u001b[0mIndexingStream\u001b[0m\u001b[0;34m,\u001b[0m \u001b[0mself\u001b[0m\u001b[0;34m)\u001b[0m\u001b[0;34m.\u001b[0m\u001b[0mwrite\u001b[0m\u001b[0;34m(\u001b[0m\u001b[0mline\u001b[0m\u001b[0;34m)\u001b[0m\u001b[0;34m\u001b[0m\u001b[0;34m\u001b[0m\u001b[0m\n\u001b[0m\u001b[1;32m    283\u001b[0m             \u001b[0;32mif\u001b[0m \u001b[0mnl\u001b[0m \u001b[0;32mis\u001b[0m \u001b[0;32mnot\u001b[0m \u001b[0;32mNone\u001b[0m\u001b[0;34m:\u001b[0m\u001b[0;34m\u001b[0m\u001b[0;34m\u001b[0m\u001b[0m\n",
      "\u001b[0;32m/opt/anaconda3/envs/vimms-gym/lib/python3.9/site-packages/psims/mzml/index.py\u001b[0m in \u001b[0;36mwrite\u001b[0;34m(self, b)\u001b[0m\n\u001b[1;32m    169\u001b[0m         \u001b[0;32mdef\u001b[0m \u001b[0mwrite\u001b[0m\u001b[0;34m(\u001b[0m\u001b[0mself\u001b[0m\u001b[0;34m,\u001b[0m \u001b[0mb\u001b[0m\u001b[0;34m)\u001b[0m\u001b[0;34m:\u001b[0m\u001b[0;34m\u001b[0m\u001b[0;34m\u001b[0m\u001b[0m\n\u001b[0;32m--> 170\u001b[0;31m             \u001b[0mn\u001b[0m \u001b[0;34m=\u001b[0m \u001b[0mself\u001b[0m\u001b[0;34m.\u001b[0m\u001b[0mstream\u001b[0m\u001b[0;34m.\u001b[0m\u001b[0mwrite\u001b[0m\u001b[0;34m(\u001b[0m\u001b[0mb\u001b[0m\u001b[0;34m)\u001b[0m\u001b[0;34m\u001b[0m\u001b[0;34m\u001b[0m\u001b[0m\n\u001b[0m\u001b[1;32m    171\u001b[0m             \u001b[0;32mif\u001b[0m \u001b[0mn\u001b[0m \u001b[0;32mis\u001b[0m \u001b[0;32mNone\u001b[0m\u001b[0;34m:\u001b[0m\u001b[0;34m\u001b[0m\u001b[0;34m\u001b[0m\u001b[0m\n",
      "\u001b[0;31mValueError\u001b[0m: write to closed file",
      "\nDuring handling of the above exception, another exception occurred:\n",
      "\u001b[0;31mSerialisationError\u001b[0m                        Traceback (most recent call last)",
      "\u001b[0;32m/opt/anaconda3/envs/vimms-gym/lib/python3.9/contextlib.py\u001b[0m in \u001b[0;36m__exit__\u001b[0;34m(self, typ, value, traceback)\u001b[0m\n\u001b[1;32m    136\u001b[0m             \u001b[0;32mtry\u001b[0m\u001b[0;34m:\u001b[0m\u001b[0;34m\u001b[0m\u001b[0;34m\u001b[0m\u001b[0m\n\u001b[0;32m--> 137\u001b[0;31m                 \u001b[0mself\u001b[0m\u001b[0;34m.\u001b[0m\u001b[0mgen\u001b[0m\u001b[0;34m.\u001b[0m\u001b[0mthrow\u001b[0m\u001b[0;34m(\u001b[0m\u001b[0mtyp\u001b[0m\u001b[0;34m,\u001b[0m \u001b[0mvalue\u001b[0m\u001b[0;34m,\u001b[0m \u001b[0mtraceback\u001b[0m\u001b[0;34m)\u001b[0m\u001b[0;34m\u001b[0m\u001b[0;34m\u001b[0m\u001b[0m\n\u001b[0m\u001b[1;32m    138\u001b[0m             \u001b[0;32mexcept\u001b[0m \u001b[0mStopIteration\u001b[0m \u001b[0;32mas\u001b[0m \u001b[0mexc\u001b[0m\u001b[0;34m:\u001b[0m\u001b[0;34m\u001b[0m\u001b[0;34m\u001b[0m\u001b[0m\n",
      "\u001b[0;32m/opt/anaconda3/envs/vimms-gym/lib/python3.9/site-packages/psims/xml.py\u001b[0m in \u001b[0;36melement\u001b[0;34m(self, *args, **kwargs)\u001b[0m\n\u001b[1;32m    894\u001b[0m         \u001b[0mself\u001b[0m\u001b[0;34m.\u001b[0m\u001b[0mindent_level\u001b[0m \u001b[0;34m+=\u001b[0m \u001b[0;36m1\u001b[0m\u001b[0;34m\u001b[0m\u001b[0;34m\u001b[0m\u001b[0m\n\u001b[0;32m--> 895\u001b[0;31m         \u001b[0;32myield\u001b[0m\u001b[0;34m\u001b[0m\u001b[0;34m\u001b[0m\u001b[0m\n\u001b[0m\u001b[1;32m    896\u001b[0m         \u001b[0mself\u001b[0m\u001b[0;34m.\u001b[0m\u001b[0mindent_level\u001b[0m \u001b[0;34m-=\u001b[0m \u001b[0;36m1\u001b[0m\u001b[0;34m\u001b[0m\u001b[0;34m\u001b[0m\u001b[0m\n",
      "\u001b[0;32m/opt/anaconda3/envs/vimms-gym/lib/python3.9/site-packages/vimms/MzmlWriter.py\u001b[0m in \u001b[0;36mwrite_mzML\u001b[0;34m(self, out_file)\u001b[0m\n\u001b[1;32m     55\u001b[0m             \u001b[0;32mwith\u001b[0m \u001b[0mwriter\u001b[0m\u001b[0;34m.\u001b[0m\u001b[0mrun\u001b[0m\u001b[0;34m(\u001b[0m\u001b[0mid\u001b[0m\u001b[0;34m=\u001b[0m\u001b[0mself\u001b[0m\u001b[0;34m.\u001b[0m\u001b[0manalysis_name\u001b[0m\u001b[0;34m)\u001b[0m\u001b[0;34m:\u001b[0m\u001b[0;34m\u001b[0m\u001b[0;34m\u001b[0m\u001b[0m\n\u001b[0;32m---> 56\u001b[0;31m                 \u001b[0mself\u001b[0m\u001b[0;34m.\u001b[0m\u001b[0m_write_spectra\u001b[0m\u001b[0;34m(\u001b[0m\u001b[0mwriter\u001b[0m\u001b[0;34m,\u001b[0m \u001b[0mself\u001b[0m\u001b[0;34m.\u001b[0m\u001b[0mscans\u001b[0m\u001b[0;34m)\u001b[0m\u001b[0;34m\u001b[0m\u001b[0;34m\u001b[0m\u001b[0m\n\u001b[0m\u001b[1;32m     57\u001b[0m \u001b[0;34m\u001b[0m\u001b[0m\n",
      "\u001b[0;32m/opt/anaconda3/envs/vimms-gym/lib/python3.9/site-packages/vimms/MzmlWriter.py\u001b[0m in \u001b[0;36m_write_spectra\u001b[0;34m(self, writer, scans, min_scan_id)\u001b[0m\n\u001b[1;32m    153\u001b[0m             \u001b[0;32mfor\u001b[0m \u001b[0mscan\u001b[0m \u001b[0;32min\u001b[0m \u001b[0mall_scans\u001b[0m\u001b[0;34m:\u001b[0m\u001b[0;34m\u001b[0m\u001b[0;34m\u001b[0m\u001b[0m\n\u001b[0;32m--> 154\u001b[0;31m                 \u001b[0mself\u001b[0m\u001b[0;34m.\u001b[0m\u001b[0m_write_scan\u001b[0m\u001b[0;34m(\u001b[0m\u001b[0mwriter\u001b[0m\u001b[0;34m,\u001b[0m \u001b[0mscan\u001b[0m\u001b[0;34m)\u001b[0m\u001b[0;34m\u001b[0m\u001b[0;34m\u001b[0m\u001b[0m\n\u001b[0m\u001b[1;32m    155\u001b[0m \u001b[0;34m\u001b[0m\u001b[0m\n",
      "\u001b[0;32m/opt/anaconda3/envs/vimms-gym/lib/python3.9/site-packages/psims/mzml/writer.py\u001b[0m in \u001b[0;36m__exit__\u001b[0;34m(self, exc_type, exc_value, traceback)\u001b[0m\n\u001b[1;32m    102\u001b[0m     \u001b[0;32mdef\u001b[0m \u001b[0m__exit__\u001b[0m\u001b[0;34m(\u001b[0m\u001b[0mself\u001b[0m\u001b[0;34m,\u001b[0m \u001b[0mexc_type\u001b[0m\u001b[0;34m,\u001b[0m \u001b[0mexc_value\u001b[0m\u001b[0;34m,\u001b[0m \u001b[0mtraceback\u001b[0m\u001b[0;34m)\u001b[0m\u001b[0;34m:\u001b[0m\u001b[0;34m\u001b[0m\u001b[0;34m\u001b[0m\u001b[0m\n\u001b[0;32m--> 103\u001b[0;31m         \u001b[0mself\u001b[0m\u001b[0;34m.\u001b[0m\u001b[0mend\u001b[0m\u001b[0;34m(\u001b[0m\u001b[0mexc_type\u001b[0m\u001b[0;34m,\u001b[0m \u001b[0mexc_value\u001b[0m\u001b[0;34m,\u001b[0m \u001b[0mtraceback\u001b[0m\u001b[0;34m)\u001b[0m\u001b[0;34m\u001b[0m\u001b[0;34m\u001b[0m\u001b[0m\n\u001b[0m\u001b[1;32m    104\u001b[0m \u001b[0;34m\u001b[0m\u001b[0m\n",
      "\u001b[0;32m/opt/anaconda3/envs/vimms-gym/lib/python3.9/site-packages/psims/mzml/writer.py\u001b[0m in \u001b[0;36mend\u001b[0;34m(self, exc_type, exc_value, traceback)\u001b[0m\n\u001b[1;32m    111\u001b[0m         \u001b[0mself\u001b[0m\u001b[0;34m.\u001b[0m\u001b[0mtoplevel\u001b[0m\u001b[0;34m.\u001b[0m\u001b[0m__exit__\u001b[0m\u001b[0;34m(\u001b[0m\u001b[0mexc_type\u001b[0m\u001b[0;34m,\u001b[0m \u001b[0mexc_value\u001b[0m\u001b[0;34m,\u001b[0m \u001b[0mtraceback\u001b[0m\u001b[0;34m)\u001b[0m\u001b[0;34m\u001b[0m\u001b[0;34m\u001b[0m\u001b[0m\n\u001b[0;32m--> 112\u001b[0;31m         \u001b[0mself\u001b[0m\u001b[0;34m.\u001b[0m\u001b[0mwriter\u001b[0m\u001b[0;34m.\u001b[0m\u001b[0mflush\u001b[0m\u001b[0;34m(\u001b[0m\u001b[0;34m)\u001b[0m\u001b[0;34m\u001b[0m\u001b[0;34m\u001b[0m\u001b[0m\n\u001b[0m\u001b[1;32m    113\u001b[0m \u001b[0;34m\u001b[0m\u001b[0m\n",
      "\u001b[0;32m/opt/anaconda3/envs/vimms-gym/lib/python3.9/site-packages/psims/xml.py\u001b[0m in \u001b[0;36mflush\u001b[0;34m(self)\u001b[0m\n\u001b[1;32m    910\u001b[0m     \u001b[0;32mdef\u001b[0m \u001b[0mflush\u001b[0m\u001b[0;34m(\u001b[0m\u001b[0mself\u001b[0m\u001b[0;34m)\u001b[0m\u001b[0;34m:\u001b[0m\u001b[0;34m\u001b[0m\u001b[0;34m\u001b[0m\u001b[0m\n\u001b[0;32m--> 911\u001b[0;31m         \u001b[0mself\u001b[0m\u001b[0;34m.\u001b[0m\u001b[0mwriter\u001b[0m\u001b[0;34m.\u001b[0m\u001b[0mflush\u001b[0m\u001b[0;34m(\u001b[0m\u001b[0;34m)\u001b[0m\u001b[0;34m\u001b[0m\u001b[0;34m\u001b[0m\u001b[0m\n\u001b[0m\u001b[1;32m    912\u001b[0m \u001b[0;34m\u001b[0m\u001b[0m\n",
      "\u001b[0;32msrc/lxml/serializer.pxi\u001b[0m in \u001b[0;36mlxml.etree._IncrementalFileWriter.flush\u001b[0;34m()\u001b[0m\n",
      "\u001b[0;32msrc/lxml/serializer.pxi\u001b[0m in \u001b[0;36mlxml.etree._IncrementalFileWriter._handle_error\u001b[0;34m()\u001b[0m\n",
      "\u001b[0;32msrc/lxml/serializer.pxi\u001b[0m in \u001b[0;36mlxml.etree._raiseSerialisationError\u001b[0;34m()\u001b[0m\n",
      "\u001b[0;31mSerialisationError\u001b[0m: IO_FLUSH",
      "\nDuring handling of the above exception, another exception occurred:\n",
      "\u001b[0;31mSerialisationError\u001b[0m                        Traceback (most recent call last)",
      "\u001b[0;32m/opt/anaconda3/envs/vimms-gym/lib/python3.9/contextlib.py\u001b[0m in \u001b[0;36m__exit__\u001b[0;34m(self, typ, value, traceback)\u001b[0m\n\u001b[1;32m    136\u001b[0m             \u001b[0;32mtry\u001b[0m\u001b[0;34m:\u001b[0m\u001b[0;34m\u001b[0m\u001b[0;34m\u001b[0m\u001b[0m\n\u001b[0;32m--> 137\u001b[0;31m                 \u001b[0mself\u001b[0m\u001b[0;34m.\u001b[0m\u001b[0mgen\u001b[0m\u001b[0;34m.\u001b[0m\u001b[0mthrow\u001b[0m\u001b[0;34m(\u001b[0m\u001b[0mtyp\u001b[0m\u001b[0;34m,\u001b[0m \u001b[0mvalue\u001b[0m\u001b[0;34m,\u001b[0m \u001b[0mtraceback\u001b[0m\u001b[0;34m)\u001b[0m\u001b[0;34m\u001b[0m\u001b[0;34m\u001b[0m\u001b[0m\n\u001b[0m\u001b[1;32m    138\u001b[0m             \u001b[0;32mexcept\u001b[0m \u001b[0mStopIteration\u001b[0m \u001b[0;32mas\u001b[0m \u001b[0mexc\u001b[0m\u001b[0;34m:\u001b[0m\u001b[0;34m\u001b[0m\u001b[0;34m\u001b[0m\u001b[0m\n",
      "\u001b[0;32m/opt/anaconda3/envs/vimms-gym/lib/python3.9/site-packages/psims/xml.py\u001b[0m in \u001b[0;36melement\u001b[0;34m(self, *args, **kwargs)\u001b[0m\n\u001b[1;32m    894\u001b[0m         \u001b[0mself\u001b[0m\u001b[0;34m.\u001b[0m\u001b[0mindent_level\u001b[0m \u001b[0;34m+=\u001b[0m \u001b[0;36m1\u001b[0m\u001b[0;34m\u001b[0m\u001b[0;34m\u001b[0m\u001b[0m\n\u001b[0;32m--> 895\u001b[0;31m         \u001b[0;32myield\u001b[0m\u001b[0;34m\u001b[0m\u001b[0;34m\u001b[0m\u001b[0m\n\u001b[0m\u001b[1;32m    896\u001b[0m         \u001b[0mself\u001b[0m\u001b[0;34m.\u001b[0m\u001b[0mindent_level\u001b[0m \u001b[0;34m-=\u001b[0m \u001b[0;36m1\u001b[0m\u001b[0;34m\u001b[0m\u001b[0;34m\u001b[0m\u001b[0m\n",
      "\u001b[0;32m/opt/anaconda3/envs/vimms-gym/lib/python3.9/site-packages/vimms/MzmlWriter.py\u001b[0m in \u001b[0;36mwrite_mzML\u001b[0;34m(self, out_file)\u001b[0m\n\u001b[1;32m     61\u001b[0m                         self.scans)\n\u001b[0;32m---> 62\u001b[0;31m                     writer.write_chromatogram(\n\u001b[0m\u001b[1;32m     63\u001b[0m                         \u001b[0mtic_rts\u001b[0m\u001b[0;34m,\u001b[0m \u001b[0mtic_intensities\u001b[0m\u001b[0;34m,\u001b[0m \u001b[0mid\u001b[0m\u001b[0;34m=\u001b[0m\u001b[0;34m'tic'\u001b[0m\u001b[0;34m,\u001b[0m\u001b[0;34m\u001b[0m\u001b[0;34m\u001b[0m\u001b[0m\n",
      "\u001b[0;32m/opt/anaconda3/envs/vimms-gym/lib/python3.9/site-packages/psims/mzml/writer.py\u001b[0m in \u001b[0;36m__exit__\u001b[0;34m(self, exc_type, exc_value, traceback)\u001b[0m\n\u001b[1;32m    102\u001b[0m     \u001b[0;32mdef\u001b[0m \u001b[0m__exit__\u001b[0m\u001b[0;34m(\u001b[0m\u001b[0mself\u001b[0m\u001b[0;34m,\u001b[0m \u001b[0mexc_type\u001b[0m\u001b[0;34m,\u001b[0m \u001b[0mexc_value\u001b[0m\u001b[0;34m,\u001b[0m \u001b[0mtraceback\u001b[0m\u001b[0;34m)\u001b[0m\u001b[0;34m:\u001b[0m\u001b[0;34m\u001b[0m\u001b[0;34m\u001b[0m\u001b[0m\n\u001b[0;32m--> 103\u001b[0;31m         \u001b[0mself\u001b[0m\u001b[0;34m.\u001b[0m\u001b[0mend\u001b[0m\u001b[0;34m(\u001b[0m\u001b[0mexc_type\u001b[0m\u001b[0;34m,\u001b[0m \u001b[0mexc_value\u001b[0m\u001b[0;34m,\u001b[0m \u001b[0mtraceback\u001b[0m\u001b[0;34m)\u001b[0m\u001b[0;34m\u001b[0m\u001b[0;34m\u001b[0m\u001b[0m\n\u001b[0m\u001b[1;32m    104\u001b[0m \u001b[0;34m\u001b[0m\u001b[0m\n",
      "\u001b[0;32m/opt/anaconda3/envs/vimms-gym/lib/python3.9/site-packages/psims/mzml/writer.py\u001b[0m in \u001b[0;36mend\u001b[0;34m(self, exc_type, exc_value, traceback)\u001b[0m\n\u001b[1;32m    111\u001b[0m         \u001b[0mself\u001b[0m\u001b[0;34m.\u001b[0m\u001b[0mtoplevel\u001b[0m\u001b[0;34m.\u001b[0m\u001b[0m__exit__\u001b[0m\u001b[0;34m(\u001b[0m\u001b[0mexc_type\u001b[0m\u001b[0;34m,\u001b[0m \u001b[0mexc_value\u001b[0m\u001b[0;34m,\u001b[0m \u001b[0mtraceback\u001b[0m\u001b[0;34m)\u001b[0m\u001b[0;34m\u001b[0m\u001b[0;34m\u001b[0m\u001b[0m\n\u001b[0;32m--> 112\u001b[0;31m         \u001b[0mself\u001b[0m\u001b[0;34m.\u001b[0m\u001b[0mwriter\u001b[0m\u001b[0;34m.\u001b[0m\u001b[0mflush\u001b[0m\u001b[0;34m(\u001b[0m\u001b[0;34m)\u001b[0m\u001b[0;34m\u001b[0m\u001b[0;34m\u001b[0m\u001b[0m\n\u001b[0m\u001b[1;32m    113\u001b[0m \u001b[0;34m\u001b[0m\u001b[0m\n",
      "\u001b[0;32m/opt/anaconda3/envs/vimms-gym/lib/python3.9/site-packages/psims/xml.py\u001b[0m in \u001b[0;36mflush\u001b[0;34m(self)\u001b[0m\n\u001b[1;32m    910\u001b[0m     \u001b[0;32mdef\u001b[0m \u001b[0mflush\u001b[0m\u001b[0;34m(\u001b[0m\u001b[0mself\u001b[0m\u001b[0;34m)\u001b[0m\u001b[0;34m:\u001b[0m\u001b[0;34m\u001b[0m\u001b[0;34m\u001b[0m\u001b[0m\n\u001b[0;32m--> 911\u001b[0;31m         \u001b[0mself\u001b[0m\u001b[0;34m.\u001b[0m\u001b[0mwriter\u001b[0m\u001b[0;34m.\u001b[0m\u001b[0mflush\u001b[0m\u001b[0;34m(\u001b[0m\u001b[0;34m)\u001b[0m\u001b[0;34m\u001b[0m\u001b[0;34m\u001b[0m\u001b[0m\n\u001b[0m\u001b[1;32m    912\u001b[0m \u001b[0;34m\u001b[0m\u001b[0m\n",
      "\u001b[0;32msrc/lxml/serializer.pxi\u001b[0m in \u001b[0;36mlxml.etree._IncrementalFileWriter.flush\u001b[0;34m()\u001b[0m\n",
      "\u001b[0;32msrc/lxml/serializer.pxi\u001b[0m in \u001b[0;36mlxml.etree._IncrementalFileWriter._handle_error\u001b[0;34m()\u001b[0m\n",
      "\u001b[0;32msrc/lxml/serializer.pxi\u001b[0m in \u001b[0;36mlxml.etree._raiseSerialisationError\u001b[0;34m()\u001b[0m\n",
      "\u001b[0;31mSerialisationError\u001b[0m: IO_FLUSH",
      "\nDuring handling of the above exception, another exception occurred:\n",
      "\u001b[0;31mSerialisationError\u001b[0m                        Traceback (most recent call last)",
      "\u001b[0;32m/var/folders/31/k36bv2xn0tndd807c3p778w40000gp/T/ipykernel_39072/3876995177.py\u001b[0m in \u001b[0;36m<module>\u001b[0;34m\u001b[0m\n\u001b[1;32m     20\u001b[0m             \u001b[0mmodel\u001b[0m \u001b[0;34m=\u001b[0m \u001b[0;32mNone\u001b[0m\u001b[0;34m\u001b[0m\u001b[0;34m\u001b[0m\u001b[0m\n\u001b[1;32m     21\u001b[0m \u001b[0;34m\u001b[0m\u001b[0m\n\u001b[0;32m---> 22\u001b[0;31m         episodic_results = run_method(env_name, copy_params, max_peaks, chem_list, method, out_dir, \n\u001b[0m\u001b[1;32m     23\u001b[0m                                       \u001b[0mN\u001b[0m\u001b[0;34m=\u001b[0m\u001b[0mN\u001b[0m\u001b[0;34m,\u001b[0m \u001b[0mmin_ms1_intensity\u001b[0m\u001b[0;34m=\u001b[0m\u001b[0mmin_ms1_intensity\u001b[0m\u001b[0;34m,\u001b[0m \u001b[0mmodel\u001b[0m\u001b[0;34m=\u001b[0m\u001b[0mmodel\u001b[0m\u001b[0;34m,\u001b[0m\u001b[0;34m\u001b[0m\u001b[0;34m\u001b[0m\u001b[0m\n\u001b[1;32m     24\u001b[0m                                       print_eval=True, print_reward=False, intensity_threshold=intensity_threshold)\n",
      "\u001b[0;32m~/Work/git/vimms-gym/notebooks/QCB_resimulated_medium/../../vimms_gym/evaluation.py\u001b[0m in \u001b[0;36mrun_method\u001b[0;34m(env_name, env_params, max_peaks, chem_list, method, out_dir, N, min_ms1_intensity, model, print_eval, print_reward, mzml_prefix, intensity_threshold)\u001b[0m\n\u001b[1;32m    182\u001b[0m         \u001b[0;32melse\u001b[0m\u001b[0;34m:\u001b[0m\u001b[0;34m\u001b[0m\u001b[0;34m\u001b[0m\u001b[0m\n\u001b[1;32m    183\u001b[0m             \u001b[0mout_file\u001b[0m \u001b[0;34m=\u001b[0m \u001b[0;34m'%s_%s_%d.mzML'\u001b[0m \u001b[0;34m%\u001b[0m \u001b[0;34m(\u001b[0m\u001b[0mmzml_prefix\u001b[0m\u001b[0;34m,\u001b[0m \u001b[0mmethod\u001b[0m\u001b[0;34m,\u001b[0m \u001b[0mi\u001b[0m\u001b[0;34m)\u001b[0m\u001b[0;34m\u001b[0m\u001b[0;34m\u001b[0m\u001b[0m\n\u001b[0;32m--> 184\u001b[0;31m         \u001b[0menv\u001b[0m\u001b[0;34m.\u001b[0m\u001b[0mwrite_mzML\u001b[0m\u001b[0;34m(\u001b[0m\u001b[0mout_dir\u001b[0m\u001b[0;34m,\u001b[0m \u001b[0mout_file\u001b[0m\u001b[0;34m)\u001b[0m\u001b[0;34m\u001b[0m\u001b[0;34m\u001b[0m\u001b[0m\n\u001b[0m\u001b[1;32m    185\u001b[0m \u001b[0;34m\u001b[0m\u001b[0m\n\u001b[1;32m    186\u001b[0m         \u001b[0;31m# environment will be evaluated here\u001b[0m\u001b[0;34m\u001b[0m\u001b[0;34m\u001b[0m\u001b[0m\n",
      "\u001b[0;32m~/Work/git/vimms-gym/notebooks/QCB_resimulated_medium/../../vimms_gym/env.py\u001b[0m in \u001b[0;36mwrite_mzML\u001b[0;34m(self, out_dir, out_file)\u001b[0m\n\u001b[1;32m    671\u001b[0m \u001b[0;34m\u001b[0m\u001b[0m\n\u001b[1;32m    672\u001b[0m     \u001b[0;32mdef\u001b[0m \u001b[0mwrite_mzML\u001b[0m\u001b[0;34m(\u001b[0m\u001b[0mself\u001b[0m\u001b[0;34m,\u001b[0m \u001b[0mout_dir\u001b[0m\u001b[0;34m,\u001b[0m \u001b[0mout_file\u001b[0m\u001b[0;34m)\u001b[0m\u001b[0;34m:\u001b[0m\u001b[0;34m\u001b[0m\u001b[0;34m\u001b[0m\u001b[0m\n\u001b[0;32m--> 673\u001b[0;31m         \u001b[0mself\u001b[0m\u001b[0;34m.\u001b[0m\u001b[0mvimms_env\u001b[0m\u001b[0;34m.\u001b[0m\u001b[0mwrite_mzML\u001b[0m\u001b[0;34m(\u001b[0m\u001b[0mout_dir\u001b[0m\u001b[0;34m,\u001b[0m \u001b[0mout_file\u001b[0m\u001b[0;34m)\u001b[0m\u001b[0;34m\u001b[0m\u001b[0;34m\u001b[0m\u001b[0m\n\u001b[0m\u001b[1;32m    674\u001b[0m         \u001b[0mself\u001b[0m\u001b[0;34m.\u001b[0m\u001b[0mvimms_env\u001b[0m\u001b[0;34m.\u001b[0m\u001b[0mwrite_eval_data\u001b[0m\u001b[0;34m(\u001b[0m\u001b[0mout_dir\u001b[0m\u001b[0;34m,\u001b[0m \u001b[0mout_file\u001b[0m\u001b[0;34m)\u001b[0m\u001b[0;34m\u001b[0m\u001b[0;34m\u001b[0m\u001b[0m\n",
      "\u001b[0;32m/opt/anaconda3/envs/vimms-gym/lib/python3.9/site-packages/vimms/Environment.py\u001b[0m in \u001b[0;36mwrite_mzML\u001b[0;34m(self, out_dir, out_file)\u001b[0m\n\u001b[1;32m    247\u001b[0m         \u001b[0;32mif\u001b[0m \u001b[0mmzml_filename\u001b[0m \u001b[0;32mis\u001b[0m \u001b[0;32mnot\u001b[0m \u001b[0;32mNone\u001b[0m\u001b[0;34m:\u001b[0m\u001b[0;34m\u001b[0m\u001b[0;34m\u001b[0m\u001b[0m\n\u001b[1;32m    248\u001b[0m             \u001b[0mwriter\u001b[0m \u001b[0;34m=\u001b[0m \u001b[0mMzmlWriter\u001b[0m\u001b[0;34m(\u001b[0m\u001b[0;34m'my_analysis'\u001b[0m\u001b[0;34m,\u001b[0m \u001b[0mself\u001b[0m\u001b[0;34m.\u001b[0m\u001b[0mcontroller\u001b[0m\u001b[0;34m.\u001b[0m\u001b[0mscans\u001b[0m\u001b[0;34m)\u001b[0m\u001b[0;34m\u001b[0m\u001b[0;34m\u001b[0m\u001b[0m\n\u001b[0;32m--> 249\u001b[0;31m             \u001b[0mwriter\u001b[0m\u001b[0;34m.\u001b[0m\u001b[0mwrite_mzML\u001b[0m\u001b[0;34m(\u001b[0m\u001b[0mmzml_filename\u001b[0m\u001b[0;34m)\u001b[0m\u001b[0;34m\u001b[0m\u001b[0;34m\u001b[0m\u001b[0m\n\u001b[0m\u001b[1;32m    250\u001b[0m             \u001b[0mlogger\u001b[0m\u001b[0;34m.\u001b[0m\u001b[0mdebug\u001b[0m\u001b[0;34m(\u001b[0m\u001b[0;34m'mzML file successfully written!'\u001b[0m\u001b[0;34m)\u001b[0m\u001b[0;34m\u001b[0m\u001b[0;34m\u001b[0m\u001b[0m\n\u001b[1;32m    251\u001b[0m \u001b[0;34m\u001b[0m\u001b[0m\n",
      "\u001b[0;32m/opt/anaconda3/envs/vimms-gym/lib/python3.9/site-packages/vimms/MzmlWriter.py\u001b[0m in \u001b[0;36mwrite_mzML\u001b[0;34m(self, out_file)\u001b[0m\n\u001b[1;32m     60\u001b[0m                     tic_rts, tic_intensities = self._get_tic_chromatogram(\n\u001b[1;32m     61\u001b[0m                         self.scans)\n\u001b[0;32m---> 62\u001b[0;31m                     writer.write_chromatogram(\n\u001b[0m\u001b[1;32m     63\u001b[0m                         \u001b[0mtic_rts\u001b[0m\u001b[0;34m,\u001b[0m \u001b[0mtic_intensities\u001b[0m\u001b[0;34m,\u001b[0m \u001b[0mid\u001b[0m\u001b[0;34m=\u001b[0m\u001b[0;34m'tic'\u001b[0m\u001b[0;34m,\u001b[0m\u001b[0;34m\u001b[0m\u001b[0;34m\u001b[0m\u001b[0m\n\u001b[1;32m     64\u001b[0m                         \u001b[0mchromatogram_type\u001b[0m\u001b[0;34m=\u001b[0m\u001b[0;34m'total ion current chromatogram'\u001b[0m\u001b[0;34m,\u001b[0m\u001b[0;34m\u001b[0m\u001b[0;34m\u001b[0m\u001b[0m\n",
      "\u001b[0;32m/opt/anaconda3/envs/vimms-gym/lib/python3.9/site-packages/psims/xml.py\u001b[0m in \u001b[0;36m__exit__\u001b[0;34m(self, exc_type, exc_value, traceback)\u001b[0m\n\u001b[1;32m    999\u001b[0m         \u001b[0;32mand\u001b[0m \u001b[0mthe\u001b[0m \u001b[0mfile\u001b[0m \u001b[0mitself\u001b[0m\u001b[0;34m.\u001b[0m\u001b[0;34m\u001b[0m\u001b[0;34m\u001b[0m\u001b[0m\n\u001b[1;32m   1000\u001b[0m         \"\"\"\n\u001b[0;32m-> 1001\u001b[0;31m         \u001b[0mself\u001b[0m\u001b[0;34m.\u001b[0m\u001b[0mend\u001b[0m\u001b[0;34m(\u001b[0m\u001b[0mexc_type\u001b[0m\u001b[0;34m,\u001b[0m \u001b[0mexc_value\u001b[0m\u001b[0;34m,\u001b[0m \u001b[0mtraceback\u001b[0m\u001b[0;34m)\u001b[0m\u001b[0;34m\u001b[0m\u001b[0;34m\u001b[0m\u001b[0m\n\u001b[0m\u001b[1;32m   1002\u001b[0m \u001b[0;34m\u001b[0m\u001b[0m\n\u001b[1;32m   1003\u001b[0m     \u001b[0;32mdef\u001b[0m \u001b[0mend\u001b[0m\u001b[0;34m(\u001b[0m\u001b[0mself\u001b[0m\u001b[0;34m,\u001b[0m \u001b[0mexc_type\u001b[0m\u001b[0;34m=\u001b[0m\u001b[0;32mNone\u001b[0m\u001b[0;34m,\u001b[0m \u001b[0mexc_value\u001b[0m\u001b[0;34m=\u001b[0m\u001b[0;32mNone\u001b[0m\u001b[0;34m,\u001b[0m \u001b[0mtraceback\u001b[0m\u001b[0;34m=\u001b[0m\u001b[0;32mNone\u001b[0m\u001b[0;34m)\u001b[0m\u001b[0;34m:\u001b[0m\u001b[0;34m\u001b[0m\u001b[0;34m\u001b[0m\u001b[0m\n",
      "\u001b[0;32m/opt/anaconda3/envs/vimms-gym/lib/python3.9/site-packages/psims/xml.py\u001b[0m in \u001b[0;36mend\u001b[0;34m(self, exc_type, exc_value, traceback)\u001b[0m\n\u001b[1;32m   1005\u001b[0m         \u001b[0;32mif\u001b[0m \u001b[0mappropriate\u001b[0m\u001b[0;34m.\u001b[0m\u001b[0;34m\u001b[0m\u001b[0;34m\u001b[0m\u001b[0m\n\u001b[1;32m   1006\u001b[0m         \"\"\"\n\u001b[0;32m-> 1007\u001b[0;31m         \u001b[0mself\u001b[0m\u001b[0;34m.\u001b[0m\u001b[0mtoplevel\u001b[0m\u001b[0;34m.\u001b[0m\u001b[0m__exit__\u001b[0m\u001b[0;34m(\u001b[0m\u001b[0mexc_type\u001b[0m\u001b[0;34m,\u001b[0m \u001b[0mexc_value\u001b[0m\u001b[0;34m,\u001b[0m \u001b[0mtraceback\u001b[0m\u001b[0;34m)\u001b[0m\u001b[0;34m\u001b[0m\u001b[0;34m\u001b[0m\u001b[0m\n\u001b[0m\u001b[1;32m   1008\u001b[0m         \u001b[0mself\u001b[0m\u001b[0;34m.\u001b[0m\u001b[0mwriter\u001b[0m\u001b[0;34m.\u001b[0m\u001b[0mflush\u001b[0m\u001b[0;34m(\u001b[0m\u001b[0;34m)\u001b[0m\u001b[0;34m\u001b[0m\u001b[0;34m\u001b[0m\u001b[0m\n\u001b[1;32m   1009\u001b[0m         \u001b[0;32mtry\u001b[0m\u001b[0;34m:\u001b[0m\u001b[0;34m\u001b[0m\u001b[0;34m\u001b[0m\u001b[0m\n",
      "\u001b[0;32m/opt/anaconda3/envs/vimms-gym/lib/python3.9/site-packages/psims/mzml/writer.py\u001b[0m in \u001b[0;36m__exit__\u001b[0;34m(self, exc_type, exc_value, traceback)\u001b[0m\n\u001b[1;32m    101\u001b[0m \u001b[0;34m\u001b[0m\u001b[0m\n\u001b[1;32m    102\u001b[0m     \u001b[0;32mdef\u001b[0m \u001b[0m__exit__\u001b[0m\u001b[0;34m(\u001b[0m\u001b[0mself\u001b[0m\u001b[0;34m,\u001b[0m \u001b[0mexc_type\u001b[0m\u001b[0;34m,\u001b[0m \u001b[0mexc_value\u001b[0m\u001b[0;34m,\u001b[0m \u001b[0mtraceback\u001b[0m\u001b[0;34m)\u001b[0m\u001b[0;34m:\u001b[0m\u001b[0;34m\u001b[0m\u001b[0;34m\u001b[0m\u001b[0m\n\u001b[0;32m--> 103\u001b[0;31m         \u001b[0mself\u001b[0m\u001b[0;34m.\u001b[0m\u001b[0mend\u001b[0m\u001b[0;34m(\u001b[0m\u001b[0mexc_type\u001b[0m\u001b[0;34m,\u001b[0m \u001b[0mexc_value\u001b[0m\u001b[0;34m,\u001b[0m \u001b[0mtraceback\u001b[0m\u001b[0;34m)\u001b[0m\u001b[0;34m\u001b[0m\u001b[0;34m\u001b[0m\u001b[0m\n\u001b[0m\u001b[1;32m    104\u001b[0m \u001b[0;34m\u001b[0m\u001b[0m\n\u001b[1;32m    105\u001b[0m     \u001b[0;32mdef\u001b[0m \u001b[0mbegin\u001b[0m\u001b[0;34m(\u001b[0m\u001b[0mself\u001b[0m\u001b[0;34m)\u001b[0m\u001b[0;34m:\u001b[0m\u001b[0;34m\u001b[0m\u001b[0;34m\u001b[0m\u001b[0m\n",
      "\u001b[0;32m/opt/anaconda3/envs/vimms-gym/lib/python3.9/site-packages/psims/mzml/writer.py\u001b[0m in \u001b[0;36mend\u001b[0;34m(self, exc_type, exc_value, traceback)\u001b[0m\n\u001b[1;32m    193\u001b[0m     \u001b[0;32mdef\u001b[0m \u001b[0mend\u001b[0m\u001b[0;34m(\u001b[0m\u001b[0mself\u001b[0m\u001b[0;34m,\u001b[0m \u001b[0mexc_type\u001b[0m\u001b[0;34m=\u001b[0m\u001b[0;32mNone\u001b[0m\u001b[0;34m,\u001b[0m \u001b[0mexc_value\u001b[0m\u001b[0;34m=\u001b[0m\u001b[0;32mNone\u001b[0m\u001b[0;34m,\u001b[0m \u001b[0mtraceback\u001b[0m\u001b[0;34m=\u001b[0m\u001b[0;32mNone\u001b[0m\u001b[0;34m)\u001b[0m\u001b[0;34m:\u001b[0m\u001b[0;34m\u001b[0m\u001b[0;34m\u001b[0m\u001b[0m\n\u001b[1;32m    194\u001b[0m         \u001b[0mself\u001b[0m\u001b[0;34m.\u001b[0m\u001b[0minner\u001b[0m\u001b[0;34m.\u001b[0m\u001b[0m__exit__\u001b[0m\u001b[0;34m(\u001b[0m\u001b[0mexc_type\u001b[0m\u001b[0;34m,\u001b[0m \u001b[0mexc_value\u001b[0m\u001b[0;34m,\u001b[0m \u001b[0mtraceback\u001b[0m\u001b[0;34m)\u001b[0m\u001b[0;34m\u001b[0m\u001b[0;34m\u001b[0m\u001b[0m\n\u001b[0;32m--> 195\u001b[0;31m         \u001b[0mself\u001b[0m\u001b[0;34m.\u001b[0m\u001b[0mwriter\u001b[0m\u001b[0;34m.\u001b[0m\u001b[0mflush\u001b[0m\u001b[0;34m(\u001b[0m\u001b[0;34m)\u001b[0m\u001b[0;34m\u001b[0m\u001b[0;34m\u001b[0m\u001b[0m\n\u001b[0m\u001b[1;32m    196\u001b[0m         \u001b[0mself\u001b[0m\u001b[0;34m.\u001b[0m\u001b[0mwrite_index\u001b[0m\u001b[0;34m(\u001b[0m\u001b[0;34m)\u001b[0m\u001b[0;34m\u001b[0m\u001b[0;34m\u001b[0m\u001b[0m\n\u001b[1;32m    197\u001b[0m         \u001b[0mself\u001b[0m\u001b[0;34m.\u001b[0m\u001b[0mtoplevel\u001b[0m\u001b[0;34m.\u001b[0m\u001b[0m__exit__\u001b[0m\u001b[0;34m(\u001b[0m\u001b[0mexc_type\u001b[0m\u001b[0;34m,\u001b[0m \u001b[0mexc_value\u001b[0m\u001b[0;34m,\u001b[0m \u001b[0mtraceback\u001b[0m\u001b[0;34m)\u001b[0m\u001b[0;34m\u001b[0m\u001b[0;34m\u001b[0m\u001b[0m\n",
      "\u001b[0;32m/opt/anaconda3/envs/vimms-gym/lib/python3.9/site-packages/psims/xml.py\u001b[0m in \u001b[0;36mflush\u001b[0;34m(self)\u001b[0m\n\u001b[1;32m    909\u001b[0m \u001b[0;34m\u001b[0m\u001b[0m\n\u001b[1;32m    910\u001b[0m     \u001b[0;32mdef\u001b[0m \u001b[0mflush\u001b[0m\u001b[0;34m(\u001b[0m\u001b[0mself\u001b[0m\u001b[0;34m)\u001b[0m\u001b[0;34m:\u001b[0m\u001b[0;34m\u001b[0m\u001b[0;34m\u001b[0m\u001b[0m\n\u001b[0;32m--> 911\u001b[0;31m         \u001b[0mself\u001b[0m\u001b[0;34m.\u001b[0m\u001b[0mwriter\u001b[0m\u001b[0;34m.\u001b[0m\u001b[0mflush\u001b[0m\u001b[0;34m(\u001b[0m\u001b[0;34m)\u001b[0m\u001b[0;34m\u001b[0m\u001b[0;34m\u001b[0m\u001b[0m\n\u001b[0m\u001b[1;32m    912\u001b[0m \u001b[0;34m\u001b[0m\u001b[0m\n\u001b[1;32m    913\u001b[0m     \u001b[0;32mdef\u001b[0m \u001b[0mwrite_doctype\u001b[0m\u001b[0;34m(\u001b[0m\u001b[0mself\u001b[0m\u001b[0;34m)\u001b[0m\u001b[0;34m:\u001b[0m\u001b[0;34m\u001b[0m\u001b[0;34m\u001b[0m\u001b[0m\n",
      "\u001b[0;32msrc/lxml/serializer.pxi\u001b[0m in \u001b[0;36mlxml.etree._IncrementalFileWriter.flush\u001b[0;34m()\u001b[0m\n",
      "\u001b[0;32msrc/lxml/serializer.pxi\u001b[0m in \u001b[0;36mlxml.etree._IncrementalFileWriter._handle_error\u001b[0;34m()\u001b[0m\n",
      "\u001b[0;32msrc/lxml/serializer.pxi\u001b[0m in \u001b[0;36mlxml.etree._raiseSerialisationError\u001b[0;34m()\u001b[0m\n",
      "\u001b[0;31mSerialisationError\u001b[0m: IO_FLUSH"
     ]
    }
   ],
   "source": [
    "topN_res = {}\n",
    "for rt_tol in rt_tols:\n",
    "    for N in Ns:\n",
    "\n",
    "        effective_rt_tol = rt_tol\n",
    "        copy_params = dict(params)        \n",
    "        copy_params['env']['rt_tol'] = effective_rt_tol\n",
    "\n",
    "        banner = 'method = %s max_peaks = %d N = %d rt_tol = %d' % (method, max_peaks, N, effective_rt_tol)\n",
    "        print(banner)\n",
    "        print()\n",
    "\n",
    "        if method == METHOD_PPO:\n",
    "            fname = os.path.join(in_dir, '%s_%s.zip' % (env_name, model_name))\n",
    "            model = PPO.load(fname)\n",
    "        elif method == METHOD_DQN:\n",
    "            fname = os.path.join(in_dir, '%s_%s.zip' % (env_name, model_name))\n",
    "            model = DQN.load(fname)\n",
    "        else:\n",
    "            model = None\n",
    "\n",
    "        episodic_results = run_method(env_name, copy_params, max_peaks, chem_list, method, out_dir, \n",
    "                                      N=N, min_ms1_intensity=min_ms1_intensity, model=model,\n",
    "                                      print_eval=True, print_reward=False, intensity_threshold=intensity_threshold)\n",
    "        eval_results = [er.eval_res for er in episodic_results][0]\n",
    "\n",
    "        key = (N, rt_tol)\n",
    "        topN_res[key] = eval_results\n",
    "        print()"
   ]
  },
  {
   "cell_type": "code",
   "execution_count": null,
   "metadata": {
    "tags": []
   },
   "outputs": [],
   "source": [
    "topN_res"
   ]
  },
  {
   "cell_type": "code",
   "execution_count": null,
   "metadata": {},
   "outputs": [],
   "source": [
    "method_eval_results = {\n",
    "    method: topN_res\n",
    "}"
   ]
  },
  {
   "cell_type": "markdown",
   "metadata": {},
   "source": [
    "#### Test classic controllers in ViMMS"
   ]
  },
  {
   "cell_type": "code",
   "execution_count": 23,
   "metadata": {},
   "outputs": [],
   "source": [
    "from vimms.MassSpec import IndependentMassSpectrometer\n",
    "from vimms.Controller import TopNController, TopN_SmartRoiController, WeightedDEWController\n",
    "from vimms.Environment import Environment"
   ]
  },
  {
   "cell_type": "code",
   "execution_count": 24,
   "metadata": {},
   "outputs": [],
   "source": [
    "spike_noise = None\n",
    "if enable_spike_noise:\n",
    "    noise_params = params['noise']\n",
    "    noise_density = noise_params['noise_density']\n",
    "    noise_max_val = noise_params['noise_max_val']\n",
    "    noise_min_mz = noise_params['mz_range'][0]\n",
    "    noise_max_mz = noise_params['mz_range'][1]\n",
    "    spike_noise = UniformSpikeNoise(noise_density, noise_max_val, min_mz=noise_min_mz,\n",
    "                                    max_mz=noise_max_mz)"
   ]
  },
  {
   "cell_type": "markdown",
   "metadata": {},
   "source": [
    "Run Top-N Controller"
   ]
  },
  {
   "cell_type": "code",
   "execution_count": null,
   "metadata": {},
   "outputs": [],
   "source": [
    "method = 'TopN_Controller'\n",
    "print('method = %s' % method)\n",
    "print()\n",
    "\n",
    "chems = chem_list[0]\n",
    "res = {}\n",
    "for rt_tol in rt_tols:\n",
    "    for N in Ns:\n",
    "\n",
    "        effective_rt_tol = rt_tol\n",
    "        mass_spec = IndependentMassSpectrometer(ionisation_mode, chems, spike_noise=spike_noise)\n",
    "        controller = TopNController(ionisation_mode, N, isolation_window, mz_tol, rt_tol,\n",
    "                                    min_ms1_intensity)\n",
    "        env = Environment(mass_spec, controller, min_rt, max_rt, progress_bar=False, out_dir=out_dir,\n",
    "                          out_file='%s_%d.mzML' % (method, i), save_eval=True)\n",
    "        env.run()\n",
    "        eval_res = evaluate(env, intensity_threshold)\n",
    "        key = (N, rt_tol)\n",
    "        print(N, rt_tol, eval_res)\n",
    "        res[key] = eval_res\n",
    "\n",
    "method_eval_results[method] = res"
   ]
  },
  {
   "cell_type": "markdown",
   "metadata": {},
   "source": [
    "Run SmartROI Controller"
   ]
  },
  {
   "cell_type": "markdown",
   "metadata": {},
   "source": [
    "TO FINISH BELOW"
   ]
  },
  {
   "cell_type": "code",
   "execution_count": 25,
   "metadata": {},
   "outputs": [],
   "source": [
    "alphas = [2, 3, 5, 10, 1E3, 1E6]\n",
    "betas = [0, 0.1, 0.5, 1, 5]\n",
    "smartroi_N = 10\n",
    "smartroi_dew = 15"
   ]
  },
  {
   "cell_type": "code",
   "execution_count": 26,
   "metadata": {},
   "outputs": [
    {
     "name": "stdout",
     "output_type": "stream",
     "text": [
      "method = SmartROI_Controller\n",
      "\n",
      "2 0 {'coverage_prop': '0.216', 'intensity_prop': '0.130', 'ms1/ms2 ratio': '11.554', 'efficiency': '0.819', 'TP': '45', 'FP': '19', 'FN': '251', 'precision': '0.703', 'recall': '0.152', 'f1': '0.250'}\n",
      "2 0.1 {'coverage_prop': '0.216', 'intensity_prop': '0.130', 'ms1/ms2 ratio': '11.554', 'efficiency': '0.819', 'TP': '45', 'FP': '19', 'FN': '251', 'precision': '0.703', 'recall': '0.152', 'f1': '0.250'}\n",
      "2 0.5 {'coverage_prop': '0.216', 'intensity_prop': '0.130', 'ms1/ms2 ratio': '11.554', 'efficiency': '0.819', 'TP': '45', 'FP': '19', 'FN': '251', 'precision': '0.703', 'recall': '0.152', 'f1': '0.250'}\n",
      "2 1 {'coverage_prop': '0.216', 'intensity_prop': '0.130', 'ms1/ms2 ratio': '11.554', 'efficiency': '0.819', 'TP': '45', 'FP': '19', 'FN': '251', 'precision': '0.703', 'recall': '0.152', 'f1': '0.250'}\n",
      "2 5 {'coverage_prop': '0.216', 'intensity_prop': '0.130', 'ms1/ms2 ratio': '11.554', 'efficiency': '0.819', 'TP': '45', 'FP': '19', 'FN': '251', 'precision': '0.703', 'recall': '0.152', 'f1': '0.250'}\n",
      "3 0 {'coverage_prop': '0.213', 'intensity_prop': '0.123', 'ms1/ms2 ratio': '13.027', 'efficiency': '0.905', 'TP': '43', 'FP': '21', 'FN': '251', 'precision': '0.672', 'recall': '0.146', 'f1': '0.240'}\n",
      "3 0.1 {'coverage_prop': '0.213', 'intensity_prop': '0.123', 'ms1/ms2 ratio': '13.027', 'efficiency': '0.905', 'TP': '43', 'FP': '21', 'FN': '251', 'precision': '0.672', 'recall': '0.146', 'f1': '0.240'}\n",
      "3 0.5 {'coverage_prop': '0.213', 'intensity_prop': '0.123', 'ms1/ms2 ratio': '13.027', 'efficiency': '0.905', 'TP': '43', 'FP': '21', 'FN': '251', 'precision': '0.672', 'recall': '0.146', 'f1': '0.240'}\n",
      "3 1 {'coverage_prop': '0.213', 'intensity_prop': '0.125', 'ms1/ms2 ratio': '13.027', 'efficiency': '0.905', 'TP': '41', 'FP': '22', 'FN': '252', 'precision': '0.651', 'recall': '0.140', 'f1': '0.230'}\n",
      "3 5 {'coverage_prop': '0.213', 'intensity_prop': '0.123', 'ms1/ms2 ratio': '13.027', 'efficiency': '0.905', 'TP': '43', 'FP': '21', 'FN': '251', 'precision': '0.672', 'recall': '0.146', 'f1': '0.240'}\n",
      "5 0 {'coverage_prop': '0.216', 'intensity_prop': '0.125', 'ms1/ms2 ratio': '13.592', 'efficiency': '0.958', 'TP': '41', 'FP': '23', 'FN': '251', 'precision': '0.641', 'recall': '0.140', 'f1': '0.230'}\n",
      "5 0.1 {'coverage_prop': '0.216', 'intensity_prop': '0.125', 'ms1/ms2 ratio': '13.592', 'efficiency': '0.958', 'TP': '41', 'FP': '23', 'FN': '251', 'precision': '0.641', 'recall': '0.140', 'f1': '0.230'}\n",
      "5 0.5 {'coverage_prop': '0.213', 'intensity_prop': '0.124', 'ms1/ms2 ratio': '13.205', 'efficiency': '0.918', 'TP': '43', 'FP': '20', 'FN': '252', 'precision': '0.683', 'recall': '0.146', 'f1': '0.240'}\n",
      "5 1 {'coverage_prop': '0.216', 'intensity_prop': '0.125', 'ms1/ms2 ratio': '13.205', 'efficiency': '0.932', 'TP': '42', 'FP': '22', 'FN': '251', 'precision': '0.656', 'recall': '0.143', 'f1': '0.235'}\n",
      "5 5 {'coverage_prop': '0.216', 'intensity_prop': '0.125', 'ms1/ms2 ratio': '13.592', 'efficiency': '0.958', 'TP': '41', 'FP': '23', 'FN': '251', 'precision': '0.641', 'recall': '0.140', 'f1': '0.230'}\n",
      "10 0 {'coverage_prop': '0.216', 'intensity_prop': '0.125', 'ms1/ms2 ratio': '13.592', 'efficiency': '0.958', 'TP': '41', 'FP': '23', 'FN': '251', 'precision': '0.641', 'recall': '0.140', 'f1': '0.230'}\n",
      "10 0.1 {'coverage_prop': '0.216', 'intensity_prop': '0.125', 'ms1/ms2 ratio': '13.592', 'efficiency': '0.958', 'TP': '41', 'FP': '23', 'FN': '251', 'precision': '0.641', 'recall': '0.140', 'f1': '0.230'}\n",
      "10 0.5 {'coverage_prop': '0.216', 'intensity_prop': '0.125', 'ms1/ms2 ratio': '13.592', 'efficiency': '0.958', 'TP': '41', 'FP': '23', 'FN': '251', 'precision': '0.641', 'recall': '0.140', 'f1': '0.230'}\n",
      "10 1 {'coverage_prop': '0.216', 'intensity_prop': '0.125', 'ms1/ms2 ratio': '13.592', 'efficiency': '0.958', 'TP': '41', 'FP': '23', 'FN': '251', 'precision': '0.641', 'recall': '0.140', 'f1': '0.230'}\n",
      "10 5 {'coverage_prop': '0.213', 'intensity_prop': '0.124', 'ms1/ms2 ratio': '13.403', 'efficiency': '0.931', 'TP': '41', 'FP': '22', 'FN': '252', 'precision': '0.651', 'recall': '0.140', 'f1': '0.230'}\n",
      "1000.0 0 {'coverage_prop': '0.216', 'intensity_prop': '0.125', 'ms1/ms2 ratio': '13.592', 'efficiency': '0.958', 'TP': '41', 'FP': '23', 'FN': '251', 'precision': '0.641', 'recall': '0.140', 'f1': '0.230'}\n",
      "1000.0 0.1 {'coverage_prop': '0.216', 'intensity_prop': '0.125', 'ms1/ms2 ratio': '13.592', 'efficiency': '0.958', 'TP': '41', 'FP': '23', 'FN': '251', 'precision': '0.641', 'recall': '0.140', 'f1': '0.230'}\n",
      "1000.0 0.5 {'coverage_prop': '0.216', 'intensity_prop': '0.125', 'ms1/ms2 ratio': '13.592', 'efficiency': '0.958', 'TP': '41', 'FP': '23', 'FN': '251', 'precision': '0.641', 'recall': '0.140', 'f1': '0.230'}\n",
      "1000.0 1 {'coverage_prop': '0.216', 'intensity_prop': '0.125', 'ms1/ms2 ratio': '13.592', 'efficiency': '0.958', 'TP': '41', 'FP': '23', 'FN': '251', 'precision': '0.641', 'recall': '0.140', 'f1': '0.230'}\n",
      "1000.0 5 {'coverage_prop': '0.216', 'intensity_prop': '0.125', 'ms1/ms2 ratio': '13.592', 'efficiency': '0.958', 'TP': '41', 'FP': '23', 'FN': '251', 'precision': '0.641', 'recall': '0.140', 'f1': '0.230'}\n",
      "1000000.0 0 {'coverage_prop': '0.216', 'intensity_prop': '0.125', 'ms1/ms2 ratio': '13.592', 'efficiency': '0.958', 'TP': '41', 'FP': '23', 'FN': '251', 'precision': '0.641', 'recall': '0.140', 'f1': '0.230'}\n",
      "1000000.0 0.1 {'coverage_prop': '0.216', 'intensity_prop': '0.125', 'ms1/ms2 ratio': '13.592', 'efficiency': '0.958', 'TP': '41', 'FP': '23', 'FN': '251', 'precision': '0.641', 'recall': '0.140', 'f1': '0.230'}\n",
      "1000000.0 0.5 {'coverage_prop': '0.216', 'intensity_prop': '0.125', 'ms1/ms2 ratio': '13.592', 'efficiency': '0.958', 'TP': '41', 'FP': '23', 'FN': '251', 'precision': '0.641', 'recall': '0.140', 'f1': '0.230'}\n",
      "1000000.0 1 {'coverage_prop': '0.216', 'intensity_prop': '0.125', 'ms1/ms2 ratio': '13.592', 'efficiency': '0.958', 'TP': '41', 'FP': '23', 'FN': '251', 'precision': '0.641', 'recall': '0.140', 'f1': '0.230'}\n",
      "1000000.0 5 {'coverage_prop': '0.216', 'intensity_prop': '0.125', 'ms1/ms2 ratio': '13.592', 'efficiency': '0.958', 'TP': '41', 'FP': '23', 'FN': '251', 'precision': '0.641', 'recall': '0.140', 'f1': '0.230'}\n"
     ]
    },
    {
     "ename": "NameError",
     "evalue": "name 'method_eval_results' is not defined",
     "output_type": "error",
     "traceback": [
      "\u001b[0;31m---------------------------------------------------------------------------\u001b[0m",
      "\u001b[0;31mNameError\u001b[0m                                 Traceback (most recent call last)",
      "\u001b[0;32m/var/folders/31/k36bv2xn0tndd807c3p778w40000gp/T/ipykernel_39072/3688612740.py\u001b[0m in \u001b[0;36m<module>\u001b[0;34m\u001b[0m\n\u001b[1;32m     23\u001b[0m         \u001b[0mres\u001b[0m\u001b[0;34m[\u001b[0m\u001b[0mkey\u001b[0m\u001b[0;34m]\u001b[0m \u001b[0;34m=\u001b[0m \u001b[0meval_res\u001b[0m\u001b[0;34m\u001b[0m\u001b[0;34m\u001b[0m\u001b[0m\n\u001b[1;32m     24\u001b[0m \u001b[0;34m\u001b[0m\u001b[0m\n\u001b[0;32m---> 25\u001b[0;31m \u001b[0mmethod_eval_results\u001b[0m\u001b[0;34m[\u001b[0m\u001b[0mmethod\u001b[0m\u001b[0;34m]\u001b[0m \u001b[0;34m=\u001b[0m \u001b[0mres\u001b[0m\u001b[0;34m\u001b[0m\u001b[0;34m\u001b[0m\u001b[0m\n\u001b[0m",
      "\u001b[0;31mNameError\u001b[0m: name 'method_eval_results' is not defined"
     ]
    }
   ],
   "source": [
    "method = 'SmartROI_Controller'\n",
    "print('method = %s' % method)\n",
    "print()\n",
    "\n",
    "chems = chem_list[0]\n",
    "res = {}\n",
    "for alpha in alphas:\n",
    "    for beta in betas:\n",
    "\n",
    "        mass_spec = IndependentMassSpectrometer(ionisation_mode, chems, spike_noise=spike_noise)\n",
    "        \n",
    "        roi_params = RoiBuilderParams(min_roi_intensity=500, min_roi_length=0)    \n",
    "        smartroi_params = SmartRoiParams(intensity_increase_factor=alpha, drop_perc=beta/100.0)\n",
    "        controller = TopN_SmartRoiController(ionisation_mode, isolation_window, smartroi_N, mz_tol, smartroi_dew,\n",
    "                                    min_ms1_intensity, roi_params, smartroi_params)\n",
    "\n",
    "        env = Environment(mass_spec, controller, min_rt, max_rt, progress_bar=False, out_dir=out_dir,\n",
    "                          out_file='%s_%d.mzML' % (method, i), save_eval=True)\n",
    "        env.run()\n",
    "        eval_res = evaluate(env, intensity_threshold)\n",
    "        key = (N, rt_tol)\n",
    "        print(alpha, beta, eval_res)\n",
    "        res[key] = eval_res\n",
    "\n",
    "method_eval_results[method] = res"
   ]
  },
  {
   "cell_type": "markdown",
   "metadata": {},
   "source": [
    "Run WeightedDEW Controller"
   ]
  },
  {
   "cell_type": "code",
   "execution_count": 27,
   "metadata": {},
   "outputs": [],
   "source": [
    "t0s = [1, 3, 10, 15, 30, 60]\n",
    "t1s = [15, 60, 120, 240, 360, 3600]\n",
    "weighteddew_N = 10"
   ]
  },
  {
   "cell_type": "code",
   "execution_count": 28,
   "metadata": {},
   "outputs": [
    {
     "name": "stdout",
     "output_type": "stream",
     "text": [
      "method = WeightedDEW_Controller\n",
      "\n",
      "1 15 {'coverage_prop': '0.800', 'intensity_prop': '0.636', 'ms1/ms2 ratio': '0.561', 'efficiency': '0.267', 'TP': '241', 'FP': '6', 'FN': '68', 'precision': '0.976', 'recall': '0.780', 'f1': '0.867'}\n",
      "1 60 {'coverage_prop': '0.800', 'intensity_prop': '0.635', 'ms1/ms2 ratio': '0.561', 'efficiency': '0.267', 'TP': '241', 'FP': '6', 'FN': '68', 'precision': '0.976', 'recall': '0.780', 'f1': '0.867'}\n",
      "1 120 {'coverage_prop': '0.800', 'intensity_prop': '0.636', 'ms1/ms2 ratio': '0.561', 'efficiency': '0.267', 'TP': '241', 'FP': '6', 'FN': '68', 'precision': '0.976', 'recall': '0.780', 'f1': '0.867'}\n",
      "1 240 {'coverage_prop': '0.800', 'intensity_prop': '0.635', 'ms1/ms2 ratio': '0.561', 'efficiency': '0.267', 'TP': '241', 'FP': '6', 'FN': '68', 'precision': '0.976', 'recall': '0.780', 'f1': '0.867'}\n",
      "1 360 {'coverage_prop': '0.800', 'intensity_prop': '0.635', 'ms1/ms2 ratio': '0.561', 'efficiency': '0.267', 'TP': '241', 'FP': '6', 'FN': '68', 'precision': '0.976', 'recall': '0.780', 'f1': '0.867'}\n",
      "1 3600 {'coverage_prop': '0.800', 'intensity_prop': '0.636', 'ms1/ms2 ratio': '0.561', 'efficiency': '0.267', 'TP': '241', 'FP': '6', 'FN': '68', 'precision': '0.976', 'recall': '0.780', 'f1': '0.867'}\n",
      "3 15 {'coverage_prop': '0.879', 'intensity_prop': '0.678', 'ms1/ms2 ratio': '1.254', 'efficiency': '0.486', 'TP': '259', 'FP': '13', 'FN': '43', 'precision': '0.952', 'recall': '0.858', 'f1': '0.902'}\n",
      "3 60 {'coverage_prop': '0.879', 'intensity_prop': '0.678', 'ms1/ms2 ratio': '1.254', 'efficiency': '0.486', 'TP': '259', 'FP': '13', 'FN': '43', 'precision': '0.952', 'recall': '0.858', 'f1': '0.902'}\n",
      "3 120 {'coverage_prop': '0.879', 'intensity_prop': '0.678', 'ms1/ms2 ratio': '1.254', 'efficiency': '0.486', 'TP': '259', 'FP': '13', 'FN': '43', 'precision': '0.952', 'recall': '0.858', 'f1': '0.902'}\n",
      "3 240 {'coverage_prop': '0.879', 'intensity_prop': '0.678', 'ms1/ms2 ratio': '1.254', 'efficiency': '0.486', 'TP': '259', 'FP': '13', 'FN': '43', 'precision': '0.952', 'recall': '0.858', 'f1': '0.902'}\n",
      "3 360 {'coverage_prop': '0.879', 'intensity_prop': '0.678', 'ms1/ms2 ratio': '1.254', 'efficiency': '0.486', 'TP': '259', 'FP': '13', 'FN': '43', 'precision': '0.952', 'recall': '0.858', 'f1': '0.902'}\n",
      "3 3600 {'coverage_prop': '0.879', 'intensity_prop': '0.679', 'ms1/ms2 ratio': '1.254', 'efficiency': '0.486', 'TP': '259', 'FP': '13', 'FN': '43', 'precision': '0.952', 'recall': '0.858', 'f1': '0.902'}\n",
      "10 15 {'coverage_prop': '0.911', 'intensity_prop': '0.675', 'ms1/ms2 ratio': '2.241', 'efficiency': '0.786', 'TP': '259', 'FP': '20', 'FN': '36', 'precision': '0.928', 'recall': '0.878', 'f1': '0.902'}\n",
      "10 60 {'coverage_prop': '0.911', 'intensity_prop': '0.675', 'ms1/ms2 ratio': '2.241', 'efficiency': '0.786', 'TP': '259', 'FP': '20', 'FN': '36', 'precision': '0.928', 'recall': '0.878', 'f1': '0.902'}\n",
      "10 120 {'coverage_prop': '0.911', 'intensity_prop': '0.675', 'ms1/ms2 ratio': '2.241', 'efficiency': '0.786', 'TP': '259', 'FP': '20', 'FN': '36', 'precision': '0.928', 'recall': '0.878', 'f1': '0.902'}\n",
      "10 240 {'coverage_prop': '0.911', 'intensity_prop': '0.675', 'ms1/ms2 ratio': '2.241', 'efficiency': '0.786', 'TP': '259', 'FP': '20', 'FN': '36', 'precision': '0.928', 'recall': '0.878', 'f1': '0.902'}\n",
      "10 360 {'coverage_prop': '0.911', 'intensity_prop': '0.675', 'ms1/ms2 ratio': '2.241', 'efficiency': '0.786', 'TP': '259', 'FP': '20', 'FN': '36', 'precision': '0.928', 'recall': '0.878', 'f1': '0.902'}\n",
      "10 3600 {'coverage_prop': '0.911', 'intensity_prop': '0.675', 'ms1/ms2 ratio': '2.241', 'efficiency': '0.786', 'TP': '259', 'FP': '20', 'FN': '36', 'precision': '0.928', 'recall': '0.878', 'f1': '0.902'}\n",
      "15 15 {'coverage_prop': '0.911', 'intensity_prop': '0.676', 'ms1/ms2 ratio': '2.417', 'efficiency': '0.837', 'TP': '258', 'FP': '22', 'FN': '35', 'precision': '0.921', 'recall': '0.881', 'f1': '0.901'}\n",
      "15 60 {'coverage_prop': '0.911', 'intensity_prop': '0.676', 'ms1/ms2 ratio': '2.417', 'efficiency': '0.837', 'TP': '257', 'FP': '23', 'FN': '35', 'precision': '0.918', 'recall': '0.880', 'f1': '0.899'}\n",
      "15 120 {'coverage_prop': '0.911', 'intensity_prop': '0.676', 'ms1/ms2 ratio': '2.417', 'efficiency': '0.837', 'TP': '257', 'FP': '23', 'FN': '35', 'precision': '0.918', 'recall': '0.880', 'f1': '0.899'}\n",
      "15 240 {'coverage_prop': '0.911', 'intensity_prop': '0.676', 'ms1/ms2 ratio': '2.417', 'efficiency': '0.837', 'TP': '257', 'FP': '23', 'FN': '35', 'precision': '0.918', 'recall': '0.880', 'f1': '0.899'}\n",
      "15 360 {'coverage_prop': '0.911', 'intensity_prop': '0.676', 'ms1/ms2 ratio': '2.417', 'efficiency': '0.837', 'TP': '257', 'FP': '23', 'FN': '35', 'precision': '0.918', 'recall': '0.880', 'f1': '0.899'}\n",
      "15 3600 {'coverage_prop': '0.911', 'intensity_prop': '0.676', 'ms1/ms2 ratio': '2.417', 'efficiency': '0.837', 'TP': '257', 'FP': '23', 'FN': '35', 'precision': '0.918', 'recall': '0.880', 'f1': '0.899'}\n",
      "Invalid combination\n",
      "30 60 {'coverage_prop': '0.924', 'intensity_prop': '0.670', 'ms1/ms2 ratio': '2.578', 'efficiency': '0.895', 'TP': '253', 'FP': '31', 'FN': '31', 'precision': '0.891', 'recall': '0.891', 'f1': '0.891'}\n",
      "30 120 {'coverage_prop': '0.924', 'intensity_prop': '0.670', 'ms1/ms2 ratio': '2.578', 'efficiency': '0.895', 'TP': '253', 'FP': '31', 'FN': '31', 'precision': '0.891', 'recall': '0.891', 'f1': '0.891'}\n",
      "30 240 {'coverage_prop': '0.921', 'intensity_prop': '0.668', 'ms1/ms2 ratio': '2.578', 'efficiency': '0.892', 'TP': '252', 'FP': '31', 'FN': '32', 'precision': '0.890', 'recall': '0.887', 'f1': '0.889'}\n",
      "30 360 {'coverage_prop': '0.921', 'intensity_prop': '0.668', 'ms1/ms2 ratio': '2.578', 'efficiency': '0.892', 'TP': '252', 'FP': '31', 'FN': '32', 'precision': '0.890', 'recall': '0.887', 'f1': '0.889'}\n",
      "30 3600 {'coverage_prop': '0.921', 'intensity_prop': '0.668', 'ms1/ms2 ratio': '2.578', 'efficiency': '0.892', 'TP': '252', 'FP': '31', 'FN': '32', 'precision': '0.890', 'recall': '0.887', 'f1': '0.889'}\n",
      "Invalid combination\n",
      "60 60 {'coverage_prop': '0.921', 'intensity_prop': '0.669', 'ms1/ms2 ratio': '2.628', 'efficiency': '0.906', 'TP': '250', 'FP': '33', 'FN': '32', 'precision': '0.883', 'recall': '0.887', 'f1': '0.885'}\n",
      "60 120 {'coverage_prop': '0.921', 'intensity_prop': '0.669', 'ms1/ms2 ratio': '2.628', 'efficiency': '0.906', 'TP': '250', 'FP': '33', 'FN': '32', 'precision': '0.883', 'recall': '0.887', 'f1': '0.885'}\n",
      "60 240 {'coverage_prop': '0.917', 'intensity_prop': '0.667', 'ms1/ms2 ratio': '2.628', 'efficiency': '0.903', 'TP': '249', 'FP': '33', 'FN': '33', 'precision': '0.883', 'recall': '0.883', 'f1': '0.883'}\n",
      "60 360 {'coverage_prop': '0.917', 'intensity_prop': '0.667', 'ms1/ms2 ratio': '2.628', 'efficiency': '0.903', 'TP': '249', 'FP': '33', 'FN': '33', 'precision': '0.883', 'recall': '0.883', 'f1': '0.883'}\n",
      "60 3600 {'coverage_prop': '0.917', 'intensity_prop': '0.667', 'ms1/ms2 ratio': '2.628', 'efficiency': '0.903', 'TP': '249', 'FP': '33', 'FN': '33', 'precision': '0.883', 'recall': '0.883', 'f1': '0.883'}\n"
     ]
    },
    {
     "ename": "NameError",
     "evalue": "name 'method_eval_results' is not defined",
     "output_type": "error",
     "traceback": [
      "\u001b[0;31m---------------------------------------------------------------------------\u001b[0m",
      "\u001b[0;31mNameError\u001b[0m                                 Traceback (most recent call last)",
      "\u001b[0;32m/var/folders/31/k36bv2xn0tndd807c3p778w40000gp/T/ipykernel_39072/689214605.py\u001b[0m in \u001b[0;36m<module>\u001b[0;34m\u001b[0m\n\u001b[1;32m     25\u001b[0m         \u001b[0mres\u001b[0m\u001b[0;34m[\u001b[0m\u001b[0mkey\u001b[0m\u001b[0;34m]\u001b[0m \u001b[0;34m=\u001b[0m \u001b[0meval_res\u001b[0m\u001b[0;34m\u001b[0m\u001b[0;34m\u001b[0m\u001b[0m\n\u001b[1;32m     26\u001b[0m \u001b[0;34m\u001b[0m\u001b[0m\n\u001b[0;32m---> 27\u001b[0;31m \u001b[0mmethod_eval_results\u001b[0m\u001b[0;34m[\u001b[0m\u001b[0mmethod\u001b[0m\u001b[0;34m]\u001b[0m \u001b[0;34m=\u001b[0m \u001b[0mres\u001b[0m\u001b[0;34m\u001b[0m\u001b[0;34m\u001b[0m\u001b[0m\n\u001b[0m",
      "\u001b[0;31mNameError\u001b[0m: name 'method_eval_results' is not defined"
     ]
    }
   ],
   "source": [
    "method = 'WeightedDEW_Controller'\n",
    "print('method = %s' % method)\n",
    "print()\n",
    "\n",
    "chems = chem_list[0]\n",
    "res = {}\n",
    "for t0 in t0s:\n",
    "    for t1 in t1s:\n",
    "\n",
    "        if t0 > t1:\n",
    "            print('Invalid combination')\n",
    "            continue\n",
    "        \n",
    "        mass_spec = IndependentMassSpectrometer(ionisation_mode, chems, spike_noise=spike_noise)\n",
    "        \n",
    "        controller = WeightedDEWController(ionisation_mode, weighteddew_N, isolation_window, mz_tol, t1,\n",
    "                                    min_ms1_intensity, exclusion_t_0=t0)\n",
    "        \n",
    "        env = Environment(mass_spec, controller, min_rt, max_rt, progress_bar=False, out_dir=out_dir,\n",
    "                          out_file='%s_%d.mzML' % (method, i), save_eval=True)\n",
    "        env.run()\n",
    "        eval_res = evaluate(env, intensity_threshold)\n",
    "        key = (t0, t1)\n",
    "        print(t0, t1, eval_res)\n",
    "        res[key] = eval_res\n",
    "        \n",
    "method_eval_results[method] = res"
   ]
  },
  {
   "cell_type": "code",
   "execution_count": null,
   "metadata": {},
   "outputs": [],
   "source": []
  }
 ],
 "metadata": {
  "kernelspec": {
   "display_name": "Python 3 (ipykernel)",
   "language": "python",
   "name": "python3"
  },
  "language_info": {
   "codemirror_mode": {
    "name": "ipython",
    "version": 3
   },
   "file_extension": ".py",
   "mimetype": "text/x-python",
   "name": "python",
   "nbconvert_exporter": "python",
   "pygments_lexer": "ipython3",
   "version": "3.9.7"
  }
 },
 "nbformat": 4,
 "nbformat_minor": 4
}
