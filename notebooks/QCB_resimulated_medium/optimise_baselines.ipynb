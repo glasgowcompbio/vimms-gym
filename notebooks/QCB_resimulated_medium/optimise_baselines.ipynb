{
 "cells": [
  {
   "cell_type": "code",
   "execution_count": 1,
   "metadata": {
    "tags": []
   },
   "outputs": [],
   "source": [
    "%matplotlib inline\n",
    "\n",
    "%load_ext autoreload\n",
    "%autoreload 2"
   ]
  },
  {
   "cell_type": "code",
   "execution_count": 2,
   "metadata": {},
   "outputs": [],
   "source": [
    "import os\n",
    "import sys\n",
    "from os.path import exists\n",
    "\n",
    "sys.path.append('../..')"
   ]
  },
  {
   "cell_type": "code",
   "execution_count": 3,
   "metadata": {
    "tags": []
   },
   "outputs": [],
   "source": [
    "import pylab as plt\n",
    "import pandas as pd\n",
    "import numpy as np\n",
    "from loguru import logger\n",
    "import seaborn as sns\n",
    "\n",
    "from stable_baselines3 import PPO, DQN"
   ]
  },
  {
   "cell_type": "code",
   "execution_count": 4,
   "metadata": {
    "tags": []
   },
   "outputs": [],
   "source": [
    "from vimms.Common import POSITIVE, set_log_level_warning, load_obj, save_obj\n",
    "from vimms.ChemicalSamplers import UniformRTAndIntensitySampler, GaussianChromatogramSampler, UniformMZFormulaSampler, \\\n",
    "    MZMLFormulaSampler, MZMLRTandIntensitySampler, MZMLChromatogramSampler\n",
    "from vimms.Noise import UniformSpikeNoise\n",
    "from vimms.Evaluation import evaluate_real\n",
    "from vimms.Chemicals import ChemicalMixtureFromMZML\n",
    "from vimms.Roi import RoiBuilderParams, SmartRoiParams\n",
    "\n",
    "from mass_spec_utils.data_import.mzmine import load_picked_boxes\n",
    "\n",
    "from vimms_gym.env import DDAEnv\n",
    "from vimms_gym.chemicals import generate_chemicals\n",
    "from vimms_gym.evaluation import evaluate, run_method\n",
    "from vimms_gym.common import METHOD_RANDOM, METHOD_FULLSCAN, METHOD_TOPN, METHOD_PPO, METHOD_DQN"
   ]
  },
  {
   "cell_type": "markdown",
   "metadata": {},
   "source": [
    "# 1. Parameters"
   ]
  },
  {
   "cell_type": "code",
   "execution_count": 5,
   "metadata": {
    "pycharm": {
     "name": "#%%\n"
    }
   },
   "outputs": [],
   "source": [
    "n_chemicals = (200, 500)\n",
    "mz_range = (100, 600)\n",
    "rt_range = (400, 800)\n",
    "intensity_range = (1E4, 1E20)"
   ]
  },
  {
   "cell_type": "code",
   "execution_count": 6,
   "metadata": {
    "pycharm": {
     "name": "#%%\n"
    },
    "scrolled": true
   },
   "outputs": [],
   "source": [
    "min_mz = mz_range[0]\n",
    "max_mz = mz_range[1]\n",
    "min_rt = rt_range[0]\n",
    "max_rt = rt_range[1]\n",
    "min_log_intensity = np.log(intensity_range[0])\n",
    "max_log_intensity = np.log(intensity_range[1])"
   ]
  },
  {
   "cell_type": "code",
   "execution_count": 7,
   "metadata": {
    "pycharm": {
     "name": "#%%\n"
    }
   },
   "outputs": [],
   "source": [
    "isolation_window = 0.7\n",
    "N = 10\n",
    "rt_tol = 120\n",
    "exclusion_t_0 = 15\n",
    "mz_tol = 10\n",
    "min_ms1_intensity = 5000\n",
    "ionisation_mode = POSITIVE\n",
    "\n",
    "enable_spike_noise = True\n",
    "noise_density = 0.1\n",
    "noise_max_val = 1E3"
   ]
  },
  {
   "cell_type": "code",
   "execution_count": 8,
   "metadata": {
    "pycharm": {
     "name": "#%%\n"
    }
   },
   "outputs": [
    {
     "name": "stderr",
     "output_type": "stream",
     "text": [
      "2022-07-25 16:01:57.151 | INFO     | __main__:<module>:11 - Creating samplers from ../fullscan_QCB.mzML\n",
      "2022-07-25 16:01:58.315 | DEBUG    | mass_spec_utils.data_import.mzml:_load_file:166 - Loaded 2471 scans\n",
      "2022-07-25 16:02:01.225 | DEBUG    | mass_spec_utils.data_import.mzml:_load_file:166 - Loaded 2471 scans\n",
      "2022-07-25 16:05:06.088 | DEBUG    | vimms.ChemicalSamplers:_extract_rois:491 - Extracted 43107 good ROIs from ../fullscan_QCB.mzML\n",
      "2022-07-25 16:05:06.090 | INFO     | vimms.Common:save_obj:410 - Saving <class 'dict'> to samplers_fullscan_QCB.mzML.p\n"
     ]
    }
   ],
   "source": [
    "mzml_filename = '../fullscan_QCB.mzML'\n",
    "samplers = None\n",
    "samplers_pickle = 'samplers_QCB_medium.p'\n",
    "if exists(samplers_pickle):\n",
    "    logger.info('Loaded %s' % samplers_pickle)\n",
    "    samplers = load_obj(samplers_pickle)\n",
    "    mz_sampler = samplers['mz']\n",
    "    ri_sampler = samplers['rt_intensity']\n",
    "    cr_sampler = samplers['chromatogram']\n",
    "else:\n",
    "    logger.info('Creating samplers from %s' % mzml_filename)\n",
    "    mz_sampler = MZMLFormulaSampler(mzml_filename, min_mz=min_mz, max_mz=max_mz)\n",
    "    ri_sampler = MZMLRTandIntensitySampler(mzml_filename, min_rt=min_rt, max_rt=max_rt,\n",
    "                                           min_log_intensity=min_log_intensity,\n",
    "                                           max_log_intensity=max_log_intensity)\n",
    "    roi_params = RoiBuilderParams(min_roi_length=3, at_least_one_point_above=1000)\n",
    "    cr_sampler = MZMLChromatogramSampler(mzml_filename, roi_params=roi_params)\n",
    "    samplers = {\n",
    "        'mz': mz_sampler,\n",
    "        'rt_intensity': ri_sampler,\n",
    "        'chromatogram': cr_sampler\n",
    "    }\n",
    "    save_obj(samplers, samplers_pickle)"
   ]
  },
  {
   "cell_type": "code",
   "execution_count": 9,
   "metadata": {
    "pycharm": {
     "name": "#%%\n"
    }
   },
   "outputs": [],
   "source": [
    "params = {\n",
    "    'chemical_creator': {\n",
    "        'mz_range': mz_range,\n",
    "        'rt_range': rt_range,\n",
    "        'intensity_range': intensity_range,\n",
    "        'n_chemicals': n_chemicals,\n",
    "        'mz_sampler': mz_sampler,\n",
    "        'ri_sampler': ri_sampler,\n",
    "        'cr_sampler': GaussianChromatogramSampler(),\n",
    "    },\n",
    "    'noise': {\n",
    "        'enable_spike_noise': enable_spike_noise,\n",
    "        'noise_density': noise_density,\n",
    "        'noise_max_val': noise_max_val,\n",
    "        'mz_range': mz_range\n",
    "    },\n",
    "    'env': {\n",
    "        'ionisation_mode': ionisation_mode,\n",
    "        'rt_range': rt_range,\n",
    "        'isolation_window': isolation_window,\n",
    "        'mz_tol': mz_tol,\n",
    "        'rt_tol': rt_tol,\n",
    "    }\n",
    "}"
   ]
  },
  {
   "cell_type": "code",
   "execution_count": 10,
   "metadata": {
    "pycharm": {
     "name": "#%%\n"
    }
   },
   "outputs": [],
   "source": [
    "max_peaks = 200\n",
    "in_dir = 'results'"
   ]
  },
  {
   "cell_type": "code",
   "execution_count": 11,
   "metadata": {
    "pycharm": {
     "name": "#%%\n"
    }
   },
   "outputs": [],
   "source": [
    "n_eval_episodes = 1\n",
    "deterministic = True"
   ]
  },
  {
   "cell_type": "markdown",
   "metadata": {
    "tags": []
   },
   "source": [
    "# 2. Evaluation"
   ]
  },
  {
   "cell_type": "markdown",
   "metadata": {},
   "source": [
    "#### Generate some chemical sets"
   ]
  },
  {
   "cell_type": "code",
   "execution_count": 12,
   "metadata": {},
   "outputs": [
    {
     "data": {
      "text/plain": [
       "1"
      ]
     },
     "execution_count": 12,
     "metadata": {},
     "output_type": "execute_result"
    }
   ],
   "source": [
    "set_log_level_warning()"
   ]
  },
  {
   "cell_type": "code",
   "execution_count": 13,
   "metadata": {},
   "outputs": [],
   "source": [
    "eval_dir = 'optimise_baselines'\n",
    "method = METHOD_TOPN"
   ]
  },
  {
   "cell_type": "code",
   "execution_count": 14,
   "metadata": {},
   "outputs": [
    {
     "name": "stdout",
     "output_type": "stream",
     "text": [
      "0\n"
     ]
    }
   ],
   "source": [
    "chemical_creator_params = params['chemical_creator']\n",
    "\n",
    "chem_list = []\n",
    "for i in range(n_eval_episodes):\n",
    "    print(i)\n",
    "    chems = generate_chemicals(chemical_creator_params)\n",
    "    chem_list.append(chems)"
   ]
  },
  {
   "cell_type": "markdown",
   "metadata": {},
   "source": [
    "#### Run different methods"
   ]
  },
  {
   "cell_type": "code",
   "execution_count": 15,
   "metadata": {},
   "outputs": [
    {
     "name": "stdout",
     "output_type": "stream",
     "text": [
      "410\n"
     ]
    }
   ],
   "source": [
    "for chems in chem_list:\n",
    "    print(len(chems))"
   ]
  },
  {
   "cell_type": "code",
   "execution_count": 16,
   "metadata": {},
   "outputs": [
    {
     "data": {
      "text/plain": [
       "200"
      ]
     },
     "execution_count": 16,
     "metadata": {},
     "output_type": "execute_result"
    }
   ],
   "source": [
    "max_peaks"
   ]
  },
  {
   "cell_type": "code",
   "execution_count": 17,
   "metadata": {},
   "outputs": [
    {
     "data": {
      "text/plain": [
       "('results', 'optimise_baselines')"
      ]
     },
     "execution_count": 17,
     "metadata": {},
     "output_type": "execute_result"
    }
   ],
   "source": [
    "out_dir = eval_dir\n",
    "in_dir, out_dir"
   ]
  },
  {
   "cell_type": "markdown",
   "metadata": {},
   "source": [
    "#### Compare to Top-10"
   ]
  },
  {
   "cell_type": "code",
   "execution_count": 18,
   "metadata": {},
   "outputs": [],
   "source": [
    "env_name = 'DDAEnv'\n",
    "model_name = 'PPO'\n",
    "intensity_threshold = 0.5"
   ]
  },
  {
   "cell_type": "code",
   "execution_count": 19,
   "metadata": {},
   "outputs": [],
   "source": [
    "rt_tols = [15, 30, 60, 120, 240, 300]\n",
    "Ns = [5, 10, 15, 20, 25]"
   ]
  },
  {
   "cell_type": "code",
   "execution_count": 20,
   "metadata": {},
   "outputs": [
    {
     "name": "stdout",
     "output_type": "stream",
     "text": [
      "method = topN max_peaks = 200 N = 5 rt_tol = 15\n",
      "\n",
      "{'coverage_prop': '0.985', 'intensity_prop': '0.927', 'ms1/ms2 ratio': '0.526', 'efficiency': '0.414', 'TP': '314', 'FP': '10', 'FN': '86', 'precision': '0.969', 'recall': '0.785', 'f1': '0.867'}\n",
      "\n",
      "method = topN max_peaks = 200 N = 10 rt_tol = 15\n",
      "\n",
      "{'coverage_prop': '0.990', 'intensity_prop': '0.942', 'ms1/ms2 ratio': '0.465', 'efficiency': '0.392', 'TP': '316', 'FP': '10', 'FN': '84', 'precision': '0.969', 'recall': '0.790', 'f1': '0.871'}\n",
      "\n",
      "method = topN max_peaks = 200 N = 15 rt_tol = 15\n",
      "\n",
      "{'coverage_prop': '0.995', 'intensity_prop': '0.946', 'ms1/ms2 ratio': '0.450', 'efficiency': '0.387', 'TP': '318', 'FP': '11', 'FN': '81', 'precision': '0.967', 'recall': '0.797', 'f1': '0.874'}\n",
      "\n",
      "method = topN max_peaks = 200 N = 20 rt_tol = 15\n",
      "\n",
      "{'coverage_prop': '0.993', 'intensity_prop': '0.945', 'ms1/ms2 ratio': '0.441', 'efficiency': '0.383', 'TP': '317', 'FP': '10', 'FN': '83', 'precision': '0.969', 'recall': '0.792', 'f1': '0.872'}\n",
      "\n",
      "method = topN max_peaks = 200 N = 25 rt_tol = 15\n",
      "\n",
      "{'coverage_prop': '1.000', 'intensity_prop': '0.951', 'ms1/ms2 ratio': '0.427', 'efficiency': '0.380', 'TP': '320', 'FP': '12', 'FN': '78', 'precision': '0.964', 'recall': '0.804', 'f1': '0.877'}\n",
      "\n",
      "method = topN max_peaks = 200 N = 5 rt_tol = 30\n",
      "\n",
      "{'coverage_prop': '1.000', 'intensity_prop': '0.603', 'ms1/ms2 ratio': '1.038', 'efficiency': '0.631', 'TP': '142', 'FP': '184', 'FN': '84', 'precision': '0.436', 'recall': '0.628', 'f1': '0.514'}\n",
      "\n",
      "method = topN max_peaks = 200 N = 10 rt_tol = 30\n",
      "\n",
      "{'coverage_prop': '1.000', 'intensity_prop': '0.602', 'ms1/ms2 ratio': '1.024', 'efficiency': '0.625', 'TP': '140', 'FP': '186', 'FN': '84', 'precision': '0.429', 'recall': '0.625', 'f1': '0.509'}\n",
      "\n",
      "method = topN max_peaks = 200 N = 15 rt_tol = 30\n",
      "\n",
      "{'coverage_prop': '1.000', 'intensity_prop': '0.602', 'ms1/ms2 ratio': '1.020', 'efficiency': '0.623', 'TP': '140', 'FP': '186', 'FN': '84', 'precision': '0.429', 'recall': '0.625', 'f1': '0.509'}\n",
      "\n",
      "method = topN max_peaks = 200 N = 20 rt_tol = 30\n",
      "\n",
      "{'coverage_prop': '1.000', 'intensity_prop': '0.602', 'ms1/ms2 ratio': '1.020', 'efficiency': '0.623', 'TP': '140', 'FP': '186', 'FN': '84', 'precision': '0.429', 'recall': '0.625', 'f1': '0.509'}\n",
      "\n",
      "method = topN max_peaks = 200 N = 25 rt_tol = 30\n",
      "\n",
      "{'coverage_prop': '1.000', 'intensity_prop': '0.602', 'ms1/ms2 ratio': '1.020', 'efficiency': '0.623', 'TP': '140', 'FP': '186', 'FN': '84', 'precision': '0.429', 'recall': '0.625', 'f1': '0.509'}\n",
      "\n",
      "method = topN max_peaks = 200 N = 5 rt_tol = 60\n",
      "\n",
      "{'coverage_prop': '1.000', 'intensity_prop': '0.444', 'ms1/ms2 ratio': '1.953', 'efficiency': '1.005', 'TP': '56', 'FP': '261', 'FN': '93', 'precision': '0.177', 'recall': '0.376', 'f1': '0.240'}\n",
      "\n",
      "method = topN max_peaks = 200 N = 10 rt_tol = 60\n",
      "\n",
      "{'coverage_prop': '1.000', 'intensity_prop': '0.444', 'ms1/ms2 ratio': '1.953', 'efficiency': '1.005', 'TP': '56', 'FP': '262', 'FN': '92', 'precision': '0.176', 'recall': '0.378', 'f1': '0.240'}\n",
      "\n",
      "method = topN max_peaks = 200 N = 15 rt_tol = 60\n",
      "\n",
      "{'coverage_prop': '1.000', 'intensity_prop': '0.444', 'ms1/ms2 ratio': '1.953', 'efficiency': '1.005', 'TP': '56', 'FP': '262', 'FN': '92', 'precision': '0.176', 'recall': '0.378', 'f1': '0.240'}\n",
      "\n",
      "method = topN max_peaks = 200 N = 20 rt_tol = 60\n",
      "\n",
      "{'coverage_prop': '1.000', 'intensity_prop': '0.444', 'ms1/ms2 ratio': '1.953', 'efficiency': '1.005', 'TP': '56', 'FP': '262', 'FN': '92', 'precision': '0.176', 'recall': '0.378', 'f1': '0.240'}\n",
      "\n",
      "method = topN max_peaks = 200 N = 25 rt_tol = 60\n",
      "\n",
      "{'coverage_prop': '1.000', 'intensity_prop': '0.444', 'ms1/ms2 ratio': '1.953', 'efficiency': '1.005', 'TP': '56', 'FP': '262', 'FN': '92', 'precision': '0.176', 'recall': '0.378', 'f1': '0.240'}\n",
      "\n",
      "method = topN max_peaks = 200 N = 5 rt_tol = 120\n",
      "\n",
      "{'coverage_prop': '0.998', 'intensity_prop': '0.440', 'ms1/ms2 ratio': '1.970', 'efficiency': '1.010', 'TP': '56', 'FP': '260', 'FN': '94', 'precision': '0.177', 'recall': '0.373', 'f1': '0.240'}\n",
      "\n",
      "method = topN max_peaks = 200 N = 10 rt_tol = 120\n",
      "\n",
      "{'coverage_prop': '0.998', 'intensity_prop': '0.440', 'ms1/ms2 ratio': '1.970', 'efficiency': '1.010', 'TP': '57', 'FP': '260', 'FN': '93', 'precision': '0.180', 'recall': '0.380', 'f1': '0.244'}\n",
      "\n",
      "method = topN max_peaks = 200 N = 15 rt_tol = 120\n",
      "\n",
      "{'coverage_prop': '0.998', 'intensity_prop': '0.440', 'ms1/ms2 ratio': '1.970', 'efficiency': '1.010', 'TP': '57', 'FP': '260', 'FN': '93', 'precision': '0.180', 'recall': '0.380', 'f1': '0.244'}\n",
      "\n",
      "method = topN max_peaks = 200 N = 20 rt_tol = 120\n",
      "\n",
      "{'coverage_prop': '0.998', 'intensity_prop': '0.440', 'ms1/ms2 ratio': '1.970', 'efficiency': '1.010', 'TP': '57', 'FP': '260', 'FN': '93', 'precision': '0.180', 'recall': '0.380', 'f1': '0.244'}\n",
      "\n",
      "method = topN max_peaks = 200 N = 25 rt_tol = 120\n",
      "\n",
      "{'coverage_prop': '0.998', 'intensity_prop': '0.440', 'ms1/ms2 ratio': '1.970', 'efficiency': '1.010', 'TP': '57', 'FP': '260', 'FN': '93', 'precision': '0.180', 'recall': '0.380', 'f1': '0.244'}\n",
      "\n",
      "method = topN max_peaks = 200 N = 5 rt_tol = 240\n",
      "\n",
      "{'coverage_prop': '0.998', 'intensity_prop': '0.439', 'ms1/ms2 ratio': '1.983', 'efficiency': '1.015', 'TP': '55', 'FP': '261', 'FN': '94', 'precision': '0.174', 'recall': '0.369', 'f1': '0.237'}\n",
      "\n",
      "method = topN max_peaks = 200 N = 10 rt_tol = 240\n",
      "\n",
      "{'coverage_prop': '0.998', 'intensity_prop': '0.439', 'ms1/ms2 ratio': '1.983', 'efficiency': '1.015', 'TP': '56', 'FP': '261', 'FN': '93', 'precision': '0.177', 'recall': '0.376', 'f1': '0.240'}\n",
      "\n",
      "method = topN max_peaks = 200 N = 15 rt_tol = 240\n",
      "\n",
      "{'coverage_prop': '0.998', 'intensity_prop': '0.439', 'ms1/ms2 ratio': '1.983', 'efficiency': '1.015', 'TP': '56', 'FP': '261', 'FN': '93', 'precision': '0.177', 'recall': '0.376', 'f1': '0.240'}\n",
      "\n",
      "method = topN max_peaks = 200 N = 20 rt_tol = 240\n",
      "\n",
      "{'coverage_prop': '0.998', 'intensity_prop': '0.439', 'ms1/ms2 ratio': '1.983', 'efficiency': '1.015', 'TP': '56', 'FP': '261', 'FN': '93', 'precision': '0.177', 'recall': '0.376', 'f1': '0.240'}\n",
      "\n",
      "method = topN max_peaks = 200 N = 25 rt_tol = 240\n",
      "\n",
      "{'coverage_prop': '0.998', 'intensity_prop': '0.439', 'ms1/ms2 ratio': '1.983', 'efficiency': '1.015', 'TP': '56', 'FP': '261', 'FN': '93', 'precision': '0.177', 'recall': '0.376', 'f1': '0.240'}\n",
      "\n",
      "method = topN max_peaks = 200 N = 5 rt_tol = 300\n",
      "\n",
      "{'coverage_prop': '0.998', 'intensity_prop': '0.439', 'ms1/ms2 ratio': '1.983', 'efficiency': '1.015', 'TP': '55', 'FP': '261', 'FN': '94', 'precision': '0.174', 'recall': '0.369', 'f1': '0.237'}\n",
      "\n",
      "method = topN max_peaks = 200 N = 10 rt_tol = 300\n",
      "\n",
      "{'coverage_prop': '0.998', 'intensity_prop': '0.439', 'ms1/ms2 ratio': '1.983', 'efficiency': '1.015', 'TP': '56', 'FP': '261', 'FN': '93', 'precision': '0.177', 'recall': '0.376', 'f1': '0.240'}\n",
      "\n",
      "method = topN max_peaks = 200 N = 15 rt_tol = 300\n",
      "\n",
      "{'coverage_prop': '0.998', 'intensity_prop': '0.439', 'ms1/ms2 ratio': '1.983', 'efficiency': '1.015', 'TP': '56', 'FP': '261', 'FN': '93', 'precision': '0.177', 'recall': '0.376', 'f1': '0.240'}\n",
      "\n",
      "method = topN max_peaks = 200 N = 20 rt_tol = 300\n",
      "\n",
      "{'coverage_prop': '0.998', 'intensity_prop': '0.439', 'ms1/ms2 ratio': '1.983', 'efficiency': '1.015', 'TP': '56', 'FP': '261', 'FN': '93', 'precision': '0.177', 'recall': '0.376', 'f1': '0.240'}\n",
      "\n",
      "method = topN max_peaks = 200 N = 25 rt_tol = 300\n",
      "\n",
      "{'coverage_prop': '0.998', 'intensity_prop': '0.439', 'ms1/ms2 ratio': '1.983', 'efficiency': '1.015', 'TP': '56', 'FP': '261', 'FN': '93', 'precision': '0.177', 'recall': '0.376', 'f1': '0.240'}\n",
      "\n"
     ]
    }
   ],
   "source": [
    "topN_res = {}\n",
    "for rt_tol in rt_tols:\n",
    "    for N in Ns:\n",
    "\n",
    "        effective_rt_tol = rt_tol\n",
    "        copy_params = dict(params)        \n",
    "        copy_params['env']['rt_tol'] = effective_rt_tol\n",
    "\n",
    "        banner = 'method = %s max_peaks = %d N = %d rt_tol = %d' % (method, max_peaks, N, effective_rt_tol)\n",
    "        print(banner)\n",
    "        print()\n",
    "\n",
    "        if method == METHOD_PPO:\n",
    "            fname = os.path.join(in_dir, '%s_%s.zip' % (env_name, model_name))\n",
    "            model = PPO.load(fname)\n",
    "        elif method == METHOD_DQN:\n",
    "            fname = os.path.join(in_dir, '%s_%s.zip' % (env_name, model_name))\n",
    "            model = DQN.load(fname)\n",
    "        else:\n",
    "            model = None\n",
    "\n",
    "        episodic_results = run_method(env_name, copy_params, max_peaks, chem_list, method, out_dir, \n",
    "                                      N=N, min_ms1_intensity=min_ms1_intensity, model=model,\n",
    "                                      print_eval=True, print_reward=False, intensity_threshold=intensity_threshold)\n",
    "        eval_results = [er.eval_res for er in episodic_results][0]\n",
    "\n",
    "        key = (N, rt_tol)\n",
    "        topN_res[key] = eval_results\n",
    "        print()"
   ]
  },
  {
   "cell_type": "code",
   "execution_count": 21,
   "metadata": {
    "tags": []
   },
   "outputs": [
    {
     "data": {
      "text/plain": [
       "{(5, 15): {'coverage_prop': '0.985',\n",
       "  'intensity_prop': '0.927',\n",
       "  'ms1/ms2 ratio': '0.526',\n",
       "  'efficiency': '0.414',\n",
       "  'TP': '314',\n",
       "  'FP': '10',\n",
       "  'FN': '86',\n",
       "  'precision': '0.969',\n",
       "  'recall': '0.785',\n",
       "  'f1': '0.867'},\n",
       " (10, 15): {'coverage_prop': '0.990',\n",
       "  'intensity_prop': '0.942',\n",
       "  'ms1/ms2 ratio': '0.465',\n",
       "  'efficiency': '0.392',\n",
       "  'TP': '316',\n",
       "  'FP': '10',\n",
       "  'FN': '84',\n",
       "  'precision': '0.969',\n",
       "  'recall': '0.790',\n",
       "  'f1': '0.871'},\n",
       " (15, 15): {'coverage_prop': '0.995',\n",
       "  'intensity_prop': '0.946',\n",
       "  'ms1/ms2 ratio': '0.450',\n",
       "  'efficiency': '0.387',\n",
       "  'TP': '318',\n",
       "  'FP': '11',\n",
       "  'FN': '81',\n",
       "  'precision': '0.967',\n",
       "  'recall': '0.797',\n",
       "  'f1': '0.874'},\n",
       " (20, 15): {'coverage_prop': '0.993',\n",
       "  'intensity_prop': '0.945',\n",
       "  'ms1/ms2 ratio': '0.441',\n",
       "  'efficiency': '0.383',\n",
       "  'TP': '317',\n",
       "  'FP': '10',\n",
       "  'FN': '83',\n",
       "  'precision': '0.969',\n",
       "  'recall': '0.792',\n",
       "  'f1': '0.872'},\n",
       " (25, 15): {'coverage_prop': '1.000',\n",
       "  'intensity_prop': '0.951',\n",
       "  'ms1/ms2 ratio': '0.427',\n",
       "  'efficiency': '0.380',\n",
       "  'TP': '320',\n",
       "  'FP': '12',\n",
       "  'FN': '78',\n",
       "  'precision': '0.964',\n",
       "  'recall': '0.804',\n",
       "  'f1': '0.877'},\n",
       " (5, 30): {'coverage_prop': '1.000',\n",
       "  'intensity_prop': '0.603',\n",
       "  'ms1/ms2 ratio': '1.038',\n",
       "  'efficiency': '0.631',\n",
       "  'TP': '142',\n",
       "  'FP': '184',\n",
       "  'FN': '84',\n",
       "  'precision': '0.436',\n",
       "  'recall': '0.628',\n",
       "  'f1': '0.514'},\n",
       " (10, 30): {'coverage_prop': '1.000',\n",
       "  'intensity_prop': '0.602',\n",
       "  'ms1/ms2 ratio': '1.024',\n",
       "  'efficiency': '0.625',\n",
       "  'TP': '140',\n",
       "  'FP': '186',\n",
       "  'FN': '84',\n",
       "  'precision': '0.429',\n",
       "  'recall': '0.625',\n",
       "  'f1': '0.509'},\n",
       " (15, 30): {'coverage_prop': '1.000',\n",
       "  'intensity_prop': '0.602',\n",
       "  'ms1/ms2 ratio': '1.020',\n",
       "  'efficiency': '0.623',\n",
       "  'TP': '140',\n",
       "  'FP': '186',\n",
       "  'FN': '84',\n",
       "  'precision': '0.429',\n",
       "  'recall': '0.625',\n",
       "  'f1': '0.509'},\n",
       " (20, 30): {'coverage_prop': '1.000',\n",
       "  'intensity_prop': '0.602',\n",
       "  'ms1/ms2 ratio': '1.020',\n",
       "  'efficiency': '0.623',\n",
       "  'TP': '140',\n",
       "  'FP': '186',\n",
       "  'FN': '84',\n",
       "  'precision': '0.429',\n",
       "  'recall': '0.625',\n",
       "  'f1': '0.509'},\n",
       " (25, 30): {'coverage_prop': '1.000',\n",
       "  'intensity_prop': '0.602',\n",
       "  'ms1/ms2 ratio': '1.020',\n",
       "  'efficiency': '0.623',\n",
       "  'TP': '140',\n",
       "  'FP': '186',\n",
       "  'FN': '84',\n",
       "  'precision': '0.429',\n",
       "  'recall': '0.625',\n",
       "  'f1': '0.509'},\n",
       " (5, 60): {'coverage_prop': '1.000',\n",
       "  'intensity_prop': '0.444',\n",
       "  'ms1/ms2 ratio': '1.953',\n",
       "  'efficiency': '1.005',\n",
       "  'TP': '56',\n",
       "  'FP': '261',\n",
       "  'FN': '93',\n",
       "  'precision': '0.177',\n",
       "  'recall': '0.376',\n",
       "  'f1': '0.240'},\n",
       " (10, 60): {'coverage_prop': '1.000',\n",
       "  'intensity_prop': '0.444',\n",
       "  'ms1/ms2 ratio': '1.953',\n",
       "  'efficiency': '1.005',\n",
       "  'TP': '56',\n",
       "  'FP': '262',\n",
       "  'FN': '92',\n",
       "  'precision': '0.176',\n",
       "  'recall': '0.378',\n",
       "  'f1': '0.240'},\n",
       " (15, 60): {'coverage_prop': '1.000',\n",
       "  'intensity_prop': '0.444',\n",
       "  'ms1/ms2 ratio': '1.953',\n",
       "  'efficiency': '1.005',\n",
       "  'TP': '56',\n",
       "  'FP': '262',\n",
       "  'FN': '92',\n",
       "  'precision': '0.176',\n",
       "  'recall': '0.378',\n",
       "  'f1': '0.240'},\n",
       " (20, 60): {'coverage_prop': '1.000',\n",
       "  'intensity_prop': '0.444',\n",
       "  'ms1/ms2 ratio': '1.953',\n",
       "  'efficiency': '1.005',\n",
       "  'TP': '56',\n",
       "  'FP': '262',\n",
       "  'FN': '92',\n",
       "  'precision': '0.176',\n",
       "  'recall': '0.378',\n",
       "  'f1': '0.240'},\n",
       " (25, 60): {'coverage_prop': '1.000',\n",
       "  'intensity_prop': '0.444',\n",
       "  'ms1/ms2 ratio': '1.953',\n",
       "  'efficiency': '1.005',\n",
       "  'TP': '56',\n",
       "  'FP': '262',\n",
       "  'FN': '92',\n",
       "  'precision': '0.176',\n",
       "  'recall': '0.378',\n",
       "  'f1': '0.240'},\n",
       " (5, 120): {'coverage_prop': '0.998',\n",
       "  'intensity_prop': '0.440',\n",
       "  'ms1/ms2 ratio': '1.970',\n",
       "  'efficiency': '1.010',\n",
       "  'TP': '56',\n",
       "  'FP': '260',\n",
       "  'FN': '94',\n",
       "  'precision': '0.177',\n",
       "  'recall': '0.373',\n",
       "  'f1': '0.240'},\n",
       " (10, 120): {'coverage_prop': '0.998',\n",
       "  'intensity_prop': '0.440',\n",
       "  'ms1/ms2 ratio': '1.970',\n",
       "  'efficiency': '1.010',\n",
       "  'TP': '57',\n",
       "  'FP': '260',\n",
       "  'FN': '93',\n",
       "  'precision': '0.180',\n",
       "  'recall': '0.380',\n",
       "  'f1': '0.244'},\n",
       " (15, 120): {'coverage_prop': '0.998',\n",
       "  'intensity_prop': '0.440',\n",
       "  'ms1/ms2 ratio': '1.970',\n",
       "  'efficiency': '1.010',\n",
       "  'TP': '57',\n",
       "  'FP': '260',\n",
       "  'FN': '93',\n",
       "  'precision': '0.180',\n",
       "  'recall': '0.380',\n",
       "  'f1': '0.244'},\n",
       " (20, 120): {'coverage_prop': '0.998',\n",
       "  'intensity_prop': '0.440',\n",
       "  'ms1/ms2 ratio': '1.970',\n",
       "  'efficiency': '1.010',\n",
       "  'TP': '57',\n",
       "  'FP': '260',\n",
       "  'FN': '93',\n",
       "  'precision': '0.180',\n",
       "  'recall': '0.380',\n",
       "  'f1': '0.244'},\n",
       " (25, 120): {'coverage_prop': '0.998',\n",
       "  'intensity_prop': '0.440',\n",
       "  'ms1/ms2 ratio': '1.970',\n",
       "  'efficiency': '1.010',\n",
       "  'TP': '57',\n",
       "  'FP': '260',\n",
       "  'FN': '93',\n",
       "  'precision': '0.180',\n",
       "  'recall': '0.380',\n",
       "  'f1': '0.244'},\n",
       " (5, 240): {'coverage_prop': '0.998',\n",
       "  'intensity_prop': '0.439',\n",
       "  'ms1/ms2 ratio': '1.983',\n",
       "  'efficiency': '1.015',\n",
       "  'TP': '55',\n",
       "  'FP': '261',\n",
       "  'FN': '94',\n",
       "  'precision': '0.174',\n",
       "  'recall': '0.369',\n",
       "  'f1': '0.237'},\n",
       " (10, 240): {'coverage_prop': '0.998',\n",
       "  'intensity_prop': '0.439',\n",
       "  'ms1/ms2 ratio': '1.983',\n",
       "  'efficiency': '1.015',\n",
       "  'TP': '56',\n",
       "  'FP': '261',\n",
       "  'FN': '93',\n",
       "  'precision': '0.177',\n",
       "  'recall': '0.376',\n",
       "  'f1': '0.240'},\n",
       " (15, 240): {'coverage_prop': '0.998',\n",
       "  'intensity_prop': '0.439',\n",
       "  'ms1/ms2 ratio': '1.983',\n",
       "  'efficiency': '1.015',\n",
       "  'TP': '56',\n",
       "  'FP': '261',\n",
       "  'FN': '93',\n",
       "  'precision': '0.177',\n",
       "  'recall': '0.376',\n",
       "  'f1': '0.240'},\n",
       " (20, 240): {'coverage_prop': '0.998',\n",
       "  'intensity_prop': '0.439',\n",
       "  'ms1/ms2 ratio': '1.983',\n",
       "  'efficiency': '1.015',\n",
       "  'TP': '56',\n",
       "  'FP': '261',\n",
       "  'FN': '93',\n",
       "  'precision': '0.177',\n",
       "  'recall': '0.376',\n",
       "  'f1': '0.240'},\n",
       " (25, 240): {'coverage_prop': '0.998',\n",
       "  'intensity_prop': '0.439',\n",
       "  'ms1/ms2 ratio': '1.983',\n",
       "  'efficiency': '1.015',\n",
       "  'TP': '56',\n",
       "  'FP': '261',\n",
       "  'FN': '93',\n",
       "  'precision': '0.177',\n",
       "  'recall': '0.376',\n",
       "  'f1': '0.240'},\n",
       " (5, 300): {'coverage_prop': '0.998',\n",
       "  'intensity_prop': '0.439',\n",
       "  'ms1/ms2 ratio': '1.983',\n",
       "  'efficiency': '1.015',\n",
       "  'TP': '55',\n",
       "  'FP': '261',\n",
       "  'FN': '94',\n",
       "  'precision': '0.174',\n",
       "  'recall': '0.369',\n",
       "  'f1': '0.237'},\n",
       " (10, 300): {'coverage_prop': '0.998',\n",
       "  'intensity_prop': '0.439',\n",
       "  'ms1/ms2 ratio': '1.983',\n",
       "  'efficiency': '1.015',\n",
       "  'TP': '56',\n",
       "  'FP': '261',\n",
       "  'FN': '93',\n",
       "  'precision': '0.177',\n",
       "  'recall': '0.376',\n",
       "  'f1': '0.240'},\n",
       " (15, 300): {'coverage_prop': '0.998',\n",
       "  'intensity_prop': '0.439',\n",
       "  'ms1/ms2 ratio': '1.983',\n",
       "  'efficiency': '1.015',\n",
       "  'TP': '56',\n",
       "  'FP': '261',\n",
       "  'FN': '93',\n",
       "  'precision': '0.177',\n",
       "  'recall': '0.376',\n",
       "  'f1': '0.240'},\n",
       " (20, 300): {'coverage_prop': '0.998',\n",
       "  'intensity_prop': '0.439',\n",
       "  'ms1/ms2 ratio': '1.983',\n",
       "  'efficiency': '1.015',\n",
       "  'TP': '56',\n",
       "  'FP': '261',\n",
       "  'FN': '93',\n",
       "  'precision': '0.177',\n",
       "  'recall': '0.376',\n",
       "  'f1': '0.240'},\n",
       " (25, 300): {'coverage_prop': '0.998',\n",
       "  'intensity_prop': '0.439',\n",
       "  'ms1/ms2 ratio': '1.983',\n",
       "  'efficiency': '1.015',\n",
       "  'TP': '56',\n",
       "  'FP': '261',\n",
       "  'FN': '93',\n",
       "  'precision': '0.177',\n",
       "  'recall': '0.376',\n",
       "  'f1': '0.240'}}"
      ]
     },
     "execution_count": 21,
     "metadata": {},
     "output_type": "execute_result"
    }
   ],
   "source": [
    "topN_res"
   ]
  },
  {
   "cell_type": "code",
   "execution_count": 22,
   "metadata": {},
   "outputs": [],
   "source": [
    "method_eval_results = {\n",
    "    method: topN_res\n",
    "}"
   ]
  },
  {
   "cell_type": "markdown",
   "metadata": {},
   "source": [
    "#### Test classic controllers in ViMMS"
   ]
  },
  {
   "cell_type": "code",
   "execution_count": 23,
   "metadata": {},
   "outputs": [],
   "source": [
    "from vimms.MassSpec import IndependentMassSpectrometer\n",
    "from vimms.Controller import TopNController, TopN_SmartRoiController, WeightedDEWController\n",
    "from vimms.Environment import Environment"
   ]
  },
  {
   "cell_type": "code",
   "execution_count": 24,
   "metadata": {},
   "outputs": [],
   "source": [
    "spike_noise = None\n",
    "if enable_spike_noise:\n",
    "    noise_params = params['noise']\n",
    "    noise_density = noise_params['noise_density']\n",
    "    noise_max_val = noise_params['noise_max_val']\n",
    "    noise_min_mz = noise_params['mz_range'][0]\n",
    "    noise_max_mz = noise_params['mz_range'][1]\n",
    "    spike_noise = UniformSpikeNoise(noise_density, noise_max_val, min_mz=noise_min_mz,\n",
    "                                    max_mz=noise_max_mz)"
   ]
  },
  {
   "cell_type": "markdown",
   "metadata": {},
   "source": [
    "Run Top-N Controller"
   ]
  },
  {
   "cell_type": "code",
   "execution_count": null,
   "metadata": {},
   "outputs": [],
   "source": [
    "method = 'TopN_Controller'\n",
    "print('method = %s' % method)\n",
    "print()\n",
    "\n",
    "chems = chem_list[0]\n",
    "res = {}\n",
    "for rt_tol in rt_tols:\n",
    "    for N in Ns:\n",
    "\n",
    "        effective_rt_tol = rt_tol\n",
    "        mass_spec = IndependentMassSpectrometer(ionisation_mode, chems, spike_noise=spike_noise)\n",
    "        controller = TopNController(ionisation_mode, N, isolation_window, mz_tol, rt_tol,\n",
    "                                    min_ms1_intensity)\n",
    "        env = Environment(mass_spec, controller, min_rt, max_rt, progress_bar=False, out_dir=out_dir,\n",
    "                          out_file='%s_%d.mzML' % (method, i), save_eval=True)\n",
    "        env.run()\n",
    "        eval_res = evaluate(env, intensity_threshold)\n",
    "        key = (N, rt_tol)\n",
    "        print(N, rt_tol, eval_res)\n",
    "        res[key] = eval_res\n",
    "\n",
    "method_eval_results[method] = res"
   ]
  },
  {
   "cell_type": "markdown",
   "metadata": {},
   "source": [
    "Run SmartROI Controller"
   ]
  },
  {
   "cell_type": "markdown",
   "metadata": {},
   "source": [
    "TO FINISH BELOW"
   ]
  },
  {
   "cell_type": "code",
   "execution_count": 25,
   "metadata": {},
   "outputs": [],
   "source": [
    "alphas = [2, 3, 5, 10, 1E3, 1E6]\n",
    "betas = [0, 0.1, 0.5, 1, 5]\n",
    "smartroi_N = 10\n",
    "smartroi_dew = 15"
   ]
  },
  {
   "cell_type": "code",
   "execution_count": 26,
   "metadata": {},
   "outputs": [
    {
     "name": "stdout",
     "output_type": "stream",
     "text": [
      "method = SmartROI_Controller\n",
      "\n",
      "2 0 {'coverage_prop': '1.000', 'intensity_prop': '0.934', 'ms1/ms2 ratio': '0.815', 'efficiency': '0.539', 'TP': '312', 'FP': '10', 'FN': '88', 'precision': '0.969', 'recall': '0.780', 'f1': '0.864'}\n",
      "2 0.1 {'coverage_prop': '1.000', 'intensity_prop': '0.935', 'ms1/ms2 ratio': '0.815', 'efficiency': '0.539', 'TP': '313', 'FP': '9', 'FN': '88', 'precision': '0.972', 'recall': '0.781', 'f1': '0.866'}\n",
      "2 0.5 {'coverage_prop': '1.000', 'intensity_prop': '0.935', 'ms1/ms2 ratio': '0.812', 'efficiency': '0.538', 'TP': '312', 'FP': '10', 'FN': '88', 'precision': '0.969', 'recall': '0.780', 'f1': '0.864'}\n",
      "2 1 {'coverage_prop': '1.000', 'intensity_prop': '0.935', 'ms1/ms2 ratio': '0.815', 'efficiency': '0.539', 'TP': '313', 'FP': '9', 'FN': '88', 'precision': '0.972', 'recall': '0.781', 'f1': '0.866'}\n",
      "2 5 {'coverage_prop': '1.000', 'intensity_prop': '0.935', 'ms1/ms2 ratio': '0.782', 'efficiency': '0.526', 'TP': '313', 'FP': '11', 'FN': '86', 'precision': '0.966', 'recall': '0.784', 'f1': '0.866'}\n",
      "3 0 {'coverage_prop': '1.000', 'intensity_prop': '0.824', 'ms1/ms2 ratio': '1.038', 'efficiency': '0.631', 'TP': '250', 'FP': '72', 'FN': '88', 'precision': '0.776', 'recall': '0.740', 'f1': '0.758'}\n",
      "3 0.1 {'coverage_prop': '1.000', 'intensity_prop': '0.827', 'ms1/ms2 ratio': '1.027', 'efficiency': '0.626', 'TP': '251', 'FP': '71', 'FN': '88', 'precision': '0.780', 'recall': '0.740', 'f1': '0.759'}\n",
      "3 0.5 {'coverage_prop': '1.000', 'intensity_prop': '0.825', 'ms1/ms2 ratio': '1.032', 'efficiency': '0.628', 'TP': '250', 'FP': '72', 'FN': '88', 'precision': '0.776', 'recall': '0.740', 'f1': '0.758'}\n",
      "3 1 {'coverage_prop': '1.000', 'intensity_prop': '0.827', 'ms1/ms2 ratio': '1.034', 'efficiency': '0.629', 'TP': '252', 'FP': '70', 'FN': '88', 'precision': '0.783', 'recall': '0.741', 'f1': '0.761'}\n",
      "3 5 {'coverage_prop': '1.000', 'intensity_prop': '0.824', 'ms1/ms2 ratio': '0.982', 'efficiency': '0.607', 'TP': '250', 'FP': '74', 'FN': '86', 'precision': '0.772', 'recall': '0.744', 'f1': '0.758'}\n",
      "5 0 {'coverage_prop': '1.000', 'intensity_prop': '0.625', 'ms1/ms2 ratio': '1.425', 'efficiency': '0.788', 'TP': '147', 'FP': '172', 'FN': '91', 'precision': '0.461', 'recall': '0.618', 'f1': '0.528'}\n",
      "5 0.1 {'coverage_prop': '1.000', 'intensity_prop': '0.633', 'ms1/ms2 ratio': '1.403', 'efficiency': '0.779', 'TP': '149', 'FP': '170', 'FN': '91', 'precision': '0.467', 'recall': '0.621', 'f1': '0.533'}\n",
      "5 0.5 {'coverage_prop': '1.000', 'intensity_prop': '0.630', 'ms1/ms2 ratio': '1.406', 'efficiency': '0.781', 'TP': '142', 'FP': '177', 'FN': '91', 'precision': '0.445', 'recall': '0.609', 'f1': '0.514'}\n",
      "5 1 {'coverage_prop': '1.000', 'intensity_prop': '0.625', 'ms1/ms2 ratio': '1.428', 'efficiency': '0.790', 'TP': '147', 'FP': '172', 'FN': '91', 'precision': '0.461', 'recall': '0.618', 'f1': '0.528'}\n",
      "5 5 {'coverage_prop': '1.000', 'intensity_prop': '0.632', 'ms1/ms2 ratio': '1.345', 'efficiency': '0.756', 'TP': '147', 'FP': '174', 'FN': '89', 'precision': '0.458', 'recall': '0.623', 'f1': '0.528'}\n",
      "10 0 {'coverage_prop': '1.000', 'intensity_prop': '0.457', 'ms1/ms2 ratio': '1.911', 'efficiency': '0.988', 'TP': '65', 'FP': '253', 'FN': '92', 'precision': '0.204', 'recall': '0.414', 'f1': '0.274'}\n",
      "10 0.1 {'coverage_prop': '1.000', 'intensity_prop': '0.467', 'ms1/ms2 ratio': '1.888', 'efficiency': '0.979', 'TP': '68', 'FP': '250', 'FN': '92', 'precision': '0.214', 'recall': '0.425', 'f1': '0.285'}\n",
      "10 0.5 {'coverage_prop': '1.000', 'intensity_prop': '0.459', 'ms1/ms2 ratio': '1.906', 'efficiency': '0.986', 'TP': '61', 'FP': '257', 'FN': '92', 'precision': '0.192', 'recall': '0.399', 'f1': '0.259'}\n",
      "10 1 {'coverage_prop': '1.000', 'intensity_prop': '0.460', 'ms1/ms2 ratio': '1.895', 'efficiency': '0.981', 'TP': '62', 'FP': '256', 'FN': '92', 'precision': '0.195', 'recall': '0.403', 'f1': '0.263'}\n",
      "10 5 {'coverage_prop': '1.000', 'intensity_prop': '0.463', 'ms1/ms2 ratio': '1.888', 'efficiency': '0.979', 'TP': '65', 'FP': '253', 'FN': '92', 'precision': '0.204', 'recall': '0.414', 'f1': '0.274'}\n",
      "1000.0 0 {'coverage_prop': '0.998', 'intensity_prop': '0.449', 'ms1/ms2 ratio': '1.966', 'efficiency': '1.007', 'TP': '57', 'FP': '260', 'FN': '93', 'precision': '0.180', 'recall': '0.380', 'f1': '0.244'}\n",
      "1000.0 0.1 {'coverage_prop': '0.998', 'intensity_prop': '0.449', 'ms1/ms2 ratio': '1.966', 'efficiency': '1.007', 'TP': '57', 'FP': '260', 'FN': '93', 'precision': '0.180', 'recall': '0.380', 'f1': '0.244'}\n",
      "1000.0 0.5 {'coverage_prop': '0.998', 'intensity_prop': '0.449', 'ms1/ms2 ratio': '1.966', 'efficiency': '1.007', 'TP': '57', 'FP': '260', 'FN': '93', 'precision': '0.180', 'recall': '0.380', 'f1': '0.244'}\n",
      "1000.0 1 {'coverage_prop': '0.998', 'intensity_prop': '0.449', 'ms1/ms2 ratio': '1.966', 'efficiency': '1.007', 'TP': '57', 'FP': '260', 'FN': '93', 'precision': '0.180', 'recall': '0.380', 'f1': '0.244'}\n",
      "1000.0 5 {'coverage_prop': '0.998', 'intensity_prop': '0.449', 'ms1/ms2 ratio': '1.966', 'efficiency': '1.007', 'TP': '57', 'FP': '260', 'FN': '93', 'precision': '0.180', 'recall': '0.380', 'f1': '0.244'}\n",
      "1000000.0 0 {'coverage_prop': '0.998', 'intensity_prop': '0.449', 'ms1/ms2 ratio': '1.966', 'efficiency': '1.007', 'TP': '57', 'FP': '260', 'FN': '93', 'precision': '0.180', 'recall': '0.380', 'f1': '0.244'}\n",
      "1000000.0 0.1 {'coverage_prop': '0.998', 'intensity_prop': '0.449', 'ms1/ms2 ratio': '1.966', 'efficiency': '1.007', 'TP': '57', 'FP': '260', 'FN': '93', 'precision': '0.180', 'recall': '0.380', 'f1': '0.244'}\n",
      "1000000.0 0.5 {'coverage_prop': '0.998', 'intensity_prop': '0.449', 'ms1/ms2 ratio': '1.966', 'efficiency': '1.007', 'TP': '57', 'FP': '260', 'FN': '93', 'precision': '0.180', 'recall': '0.380', 'f1': '0.244'}\n",
      "1000000.0 1 {'coverage_prop': '0.998', 'intensity_prop': '0.449', 'ms1/ms2 ratio': '1.966', 'efficiency': '1.007', 'TP': '57', 'FP': '260', 'FN': '93', 'precision': '0.180', 'recall': '0.380', 'f1': '0.244'}\n",
      "1000000.0 5 {'coverage_prop': '0.998', 'intensity_prop': '0.449', 'ms1/ms2 ratio': '1.966', 'efficiency': '1.007', 'TP': '57', 'FP': '260', 'FN': '93', 'precision': '0.180', 'recall': '0.380', 'f1': '0.244'}\n"
     ]
    }
   ],
   "source": [
    "method = 'SmartROI_Controller'\n",
    "print('method = %s' % method)\n",
    "print()\n",
    "\n",
    "chems = chem_list[0]\n",
    "res = {}\n",
    "for alpha in alphas:\n",
    "    for beta in betas:\n",
    "\n",
    "        mass_spec = IndependentMassSpectrometer(ionisation_mode, chems, spike_noise=spike_noise)\n",
    "        \n",
    "        roi_params = RoiBuilderParams(min_roi_intensity=500, min_roi_length=0)    \n",
    "        smartroi_params = SmartRoiParams(intensity_increase_factor=alpha, drop_perc=beta/100.0)\n",
    "        controller = TopN_SmartRoiController(ionisation_mode, isolation_window, smartroi_N, mz_tol, smartroi_dew,\n",
    "                                    min_ms1_intensity, roi_params, smartroi_params)\n",
    "\n",
    "        env = Environment(mass_spec, controller, min_rt, max_rt, progress_bar=False, out_dir=out_dir,\n",
    "                          out_file='%s_%d.mzML' % (method, i), save_eval=True)\n",
    "        env.run()\n",
    "        eval_res = evaluate(env, intensity_threshold)\n",
    "        key = (N, rt_tol)\n",
    "        print(alpha, beta, eval_res)\n",
    "        res[key] = eval_res\n",
    "\n",
    "method_eval_results[method] = res"
   ]
  },
  {
   "cell_type": "markdown",
   "metadata": {},
   "source": [
    "Run WeightedDEW Controller"
   ]
  },
  {
   "cell_type": "code",
   "execution_count": 27,
   "metadata": {},
   "outputs": [],
   "source": [
    "t0s = [1, 3, 10, 15, 30, 60]\n",
    "t1s = [15, 60, 120, 240, 360, 3600]\n",
    "weighteddew_N = 10"
   ]
  },
  {
   "cell_type": "code",
   "execution_count": 28,
   "metadata": {},
   "outputs": [
    {
     "name": "stdout",
     "output_type": "stream",
     "text": [
      "method = WeightedDEW_Controller\n",
      "\n",
      "1 15 {'coverage_prop': '0.932', 'intensity_prop': '0.892', 'ms1/ms2 ratio': '0.121', 'efficiency': '0.237', 'TP': '294', 'FP': '6', 'FN': '110', 'precision': '0.980', 'recall': '0.728', 'f1': '0.835'}\n",
      "1 60 {'coverage_prop': '1.000', 'intensity_prop': '0.906', 'ms1/ms2 ratio': '0.121', 'efficiency': '0.255', 'TP': '308', 'FP': '23', 'FN': '79', 'precision': '0.931', 'recall': '0.796', 'f1': '0.858'}\n",
      "1 120 {'coverage_prop': '1.000', 'intensity_prop': '0.905', 'ms1/ms2 ratio': '0.121', 'efficiency': '0.255', 'TP': '309', 'FP': '24', 'FN': '77', 'precision': '0.928', 'recall': '0.801', 'f1': '0.860'}\n",
      "1 240 {'coverage_prop': '1.000', 'intensity_prop': '0.904', 'ms1/ms2 ratio': '0.121', 'efficiency': '0.255', 'TP': '308', 'FP': '25', 'FN': '77', 'precision': '0.925', 'recall': '0.800', 'f1': '0.858'}\n",
      "1 360 {'coverage_prop': '1.000', 'intensity_prop': '0.902', 'ms1/ms2 ratio': '0.121', 'efficiency': '0.255', 'TP': '308', 'FP': '25', 'FN': '77', 'precision': '0.925', 'recall': '0.800', 'f1': '0.858'}\n",
      "1 3600 {'coverage_prop': '1.000', 'intensity_prop': '0.902', 'ms1/ms2 ratio': '0.121', 'efficiency': '0.255', 'TP': '307', 'FP': '26', 'FN': '77', 'precision': '0.922', 'recall': '0.799', 'f1': '0.856'}\n",
      "3 15 {'coverage_prop': '0.968', 'intensity_prop': '0.933', 'ms1/ms2 ratio': '0.138', 'efficiency': '0.253', 'TP': '310', 'FP': '6', 'FN': '94', 'precision': '0.981', 'recall': '0.767', 'f1': '0.861'}\n",
      "3 60 {'coverage_prop': '1.000', 'intensity_prop': '0.927', 'ms1/ms2 ratio': '0.138', 'efficiency': '0.261', 'TP': '317', 'FP': '14', 'FN': '79', 'precision': '0.958', 'recall': '0.801', 'f1': '0.872'}\n",
      "3 120 {'coverage_prop': '1.000', 'intensity_prop': '0.925', 'ms1/ms2 ratio': '0.138', 'efficiency': '0.261', 'TP': '317', 'FP': '15', 'FN': '78', 'precision': '0.955', 'recall': '0.803', 'f1': '0.872'}\n",
      "3 240 {'coverage_prop': '1.000', 'intensity_prop': '0.924', 'ms1/ms2 ratio': '0.138', 'efficiency': '0.261', 'TP': '317', 'FP': '15', 'FN': '78', 'precision': '0.955', 'recall': '0.803', 'f1': '0.872'}\n",
      "3 360 {'coverage_prop': '1.000', 'intensity_prop': '0.924', 'ms1/ms2 ratio': '0.138', 'efficiency': '0.261', 'TP': '317', 'FP': '15', 'FN': '78', 'precision': '0.955', 'recall': '0.803', 'f1': '0.872'}\n",
      "3 3600 {'coverage_prop': '1.000', 'intensity_prop': '0.924', 'ms1/ms2 ratio': '0.138', 'efficiency': '0.261', 'TP': '317', 'FP': '15', 'FN': '78', 'precision': '0.955', 'recall': '0.803', 'f1': '0.872'}\n",
      "10 15 {'coverage_prop': '0.993', 'intensity_prop': '0.946', 'ms1/ms2 ratio': '0.314', 'efficiency': '0.331', 'TP': '319', 'FP': '10', 'FN': '81', 'precision': '0.970', 'recall': '0.797', 'f1': '0.875'}\n",
      "10 60 {'coverage_prop': '1.000', 'intensity_prop': '0.937', 'ms1/ms2 ratio': '0.313', 'efficiency': '0.333', 'TP': '321', 'FP': '12', 'FN': '77', 'precision': '0.964', 'recall': '0.807', 'f1': '0.878'}\n",
      "10 120 {'coverage_prop': '1.000', 'intensity_prop': '0.937', 'ms1/ms2 ratio': '0.313', 'efficiency': '0.333', 'TP': '321', 'FP': '12', 'FN': '77', 'precision': '0.964', 'recall': '0.807', 'f1': '0.878'}\n",
      "10 240 {'coverage_prop': '1.000', 'intensity_prop': '0.937', 'ms1/ms2 ratio': '0.313', 'efficiency': '0.333', 'TP': '321', 'FP': '12', 'FN': '77', 'precision': '0.964', 'recall': '0.807', 'f1': '0.878'}\n",
      "10 360 {'coverage_prop': '1.000', 'intensity_prop': '0.937', 'ms1/ms2 ratio': '0.313', 'efficiency': '0.333', 'TP': '321', 'FP': '12', 'FN': '77', 'precision': '0.964', 'recall': '0.807', 'f1': '0.878'}\n",
      "10 3600 {'coverage_prop': '1.000', 'intensity_prop': '0.937', 'ms1/ms2 ratio': '0.313', 'efficiency': '0.333', 'TP': '321', 'FP': '12', 'FN': '77', 'precision': '0.964', 'recall': '0.807', 'f1': '0.878'}\n",
      "15 15 {'coverage_prop': '1.000', 'intensity_prop': '0.943', 'ms1/ms2 ratio': '0.486', 'efficiency': '0.404', 'TP': '321', 'FP': '12', 'FN': '77', 'precision': '0.964', 'recall': '0.807', 'f1': '0.878'}\n",
      "15 60 {'coverage_prop': '1.000', 'intensity_prop': '0.924', 'ms1/ms2 ratio': '0.488', 'efficiency': '0.405', 'TP': '319', 'FP': '15', 'FN': '76', 'precision': '0.955', 'recall': '0.808', 'f1': '0.875'}\n",
      "15 120 {'coverage_prop': '1.000', 'intensity_prop': '0.924', 'ms1/ms2 ratio': '0.488', 'efficiency': '0.405', 'TP': '319', 'FP': '15', 'FN': '76', 'precision': '0.955', 'recall': '0.808', 'f1': '0.875'}\n",
      "15 240 {'coverage_prop': '1.000', 'intensity_prop': '0.924', 'ms1/ms2 ratio': '0.488', 'efficiency': '0.405', 'TP': '319', 'FP': '15', 'FN': '76', 'precision': '0.955', 'recall': '0.808', 'f1': '0.875'}\n",
      "15 360 {'coverage_prop': '1.000', 'intensity_prop': '0.924', 'ms1/ms2 ratio': '0.488', 'efficiency': '0.405', 'TP': '319', 'FP': '15', 'FN': '76', 'precision': '0.955', 'recall': '0.808', 'f1': '0.875'}\n",
      "15 3600 {'coverage_prop': '1.000', 'intensity_prop': '0.924', 'ms1/ms2 ratio': '0.488', 'efficiency': '0.405', 'TP': '319', 'FP': '15', 'FN': '76', 'precision': '0.955', 'recall': '0.808', 'f1': '0.875'}\n",
      "Invalid combination\n",
      "30 60 {'coverage_prop': '1.000', 'intensity_prop': '0.594', 'ms1/ms2 ratio': '1.032', 'efficiency': '0.628', 'TP': '133', 'FP': '193', 'FN': '84', 'precision': '0.408', 'recall': '0.613', 'f1': '0.490'}\n",
      "30 120 {'coverage_prop': '1.000', 'intensity_prop': '0.594', 'ms1/ms2 ratio': '1.032', 'efficiency': '0.628', 'TP': '133', 'FP': '193', 'FN': '84', 'precision': '0.408', 'recall': '0.613', 'f1': '0.490'}\n",
      "30 240 {'coverage_prop': '1.000', 'intensity_prop': '0.594', 'ms1/ms2 ratio': '1.032', 'efficiency': '0.628', 'TP': '133', 'FP': '193', 'FN': '84', 'precision': '0.408', 'recall': '0.613', 'f1': '0.490'}\n",
      "30 360 {'coverage_prop': '1.000', 'intensity_prop': '0.594', 'ms1/ms2 ratio': '1.032', 'efficiency': '0.628', 'TP': '133', 'FP': '193', 'FN': '84', 'precision': '0.408', 'recall': '0.613', 'f1': '0.490'}\n",
      "30 3600 {'coverage_prop': '1.000', 'intensity_prop': '0.594', 'ms1/ms2 ratio': '1.032', 'efficiency': '0.628', 'TP': '133', 'FP': '193', 'FN': '84', 'precision': '0.408', 'recall': '0.613', 'f1': '0.490'}\n",
      "Invalid combination\n",
      "60 60 {'coverage_prop': '1.000', 'intensity_prop': '0.445', 'ms1/ms2 ratio': '1.953', 'efficiency': '1.005', 'TP': '56', 'FP': '262', 'FN': '92', 'precision': '0.176', 'recall': '0.378', 'f1': '0.240'}\n",
      "60 120 {'coverage_prop': '1.000', 'intensity_prop': '0.444', 'ms1/ms2 ratio': '1.953', 'efficiency': '1.005', 'TP': '56', 'FP': '262', 'FN': '92', 'precision': '0.176', 'recall': '0.378', 'f1': '0.240'}\n",
      "60 240 {'coverage_prop': '1.000', 'intensity_prop': '0.445', 'ms1/ms2 ratio': '1.953', 'efficiency': '1.005', 'TP': '56', 'FP': '262', 'FN': '92', 'precision': '0.176', 'recall': '0.378', 'f1': '0.240'}\n",
      "60 360 {'coverage_prop': '1.000', 'intensity_prop': '0.445', 'ms1/ms2 ratio': '1.953', 'efficiency': '1.005', 'TP': '56', 'FP': '262', 'FN': '92', 'precision': '0.176', 'recall': '0.378', 'f1': '0.240'}\n",
      "60 3600 {'coverage_prop': '1.000', 'intensity_prop': '0.445', 'ms1/ms2 ratio': '1.953', 'efficiency': '1.005', 'TP': '56', 'FP': '262', 'FN': '92', 'precision': '0.176', 'recall': '0.378', 'f1': '0.240'}\n"
     ]
    }
   ],
   "source": [
    "method = 'WeightedDEW_Controller'\n",
    "print('method = %s' % method)\n",
    "print()\n",
    "\n",
    "chems = chem_list[0]\n",
    "res = {}\n",
    "for t0 in t0s:\n",
    "    for t1 in t1s:\n",
    "\n",
    "        if t0 > t1:\n",
    "            print('Invalid combination')\n",
    "            continue\n",
    "        \n",
    "        mass_spec = IndependentMassSpectrometer(ionisation_mode, chems, spike_noise=spike_noise)\n",
    "        \n",
    "        controller = WeightedDEWController(ionisation_mode, weighteddew_N, isolation_window, mz_tol, t1,\n",
    "                                    min_ms1_intensity, exclusion_t_0=t0)\n",
    "        \n",
    "        env = Environment(mass_spec, controller, min_rt, max_rt, progress_bar=False, out_dir=out_dir,\n",
    "                          out_file='%s_%d.mzML' % (method, i), save_eval=True)\n",
    "        env.run()\n",
    "        eval_res = evaluate(env, intensity_threshold)\n",
    "        key = (t0, t1)\n",
    "        print(t0, t1, eval_res)\n",
    "        res[key] = eval_res\n",
    "        \n",
    "method_eval_results[method] = res"
   ]
  },
  {
   "cell_type": "code",
   "execution_count": null,
   "metadata": {},
   "outputs": [],
   "source": []
  }
 ],
 "metadata": {
  "kernelspec": {
   "display_name": "Python 3 (ipykernel)",
   "language": "python",
   "name": "python3"
  },
  "language_info": {
   "codemirror_mode": {
    "name": "ipython",
    "version": 3
   },
   "file_extension": ".py",
   "mimetype": "text/x-python",
   "name": "python",
   "nbconvert_exporter": "python",
   "pygments_lexer": "ipython3",
   "version": "3.9.7"
  }
 },
 "nbformat": 4,
 "nbformat_minor": 4
}
