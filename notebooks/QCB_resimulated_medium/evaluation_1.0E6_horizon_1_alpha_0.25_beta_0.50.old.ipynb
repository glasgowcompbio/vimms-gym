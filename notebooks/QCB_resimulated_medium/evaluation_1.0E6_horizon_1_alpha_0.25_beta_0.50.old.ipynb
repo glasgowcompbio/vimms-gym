{
 "cells": [
  {
   "cell_type": "markdown",
   "metadata": {},
   "source": [
    "# Evaluation using QCB chemicals (medium)"
   ]
  },
  {
   "cell_type": "code",
   "execution_count": 1,
   "metadata": {
    "execution": {
     "iopub.execute_input": "2023-06-12T10:20:31.935604Z",
     "iopub.status.busy": "2023-06-12T10:20:31.934815Z",
     "iopub.status.idle": "2023-06-12T10:20:32.520049Z",
     "shell.execute_reply": "2023-06-12T10:20:32.519480Z",
     "shell.execute_reply.started": "2023-06-12T10:20:31.935508Z"
    },
    "tags": []
   },
   "outputs": [],
   "source": [
    "%matplotlib inline\n",
    "\n",
    "%load_ext autoreload\n",
    "%autoreload 2"
   ]
  },
  {
   "cell_type": "code",
   "execution_count": 2,
   "metadata": {
    "execution": {
     "iopub.execute_input": "2023-06-12T10:20:32.521299Z",
     "iopub.status.busy": "2023-06-12T10:20:32.521146Z",
     "iopub.status.idle": "2023-06-12T10:20:32.533005Z",
     "shell.execute_reply": "2023-06-12T10:20:32.532461Z",
     "shell.execute_reply.started": "2023-06-12T10:20:32.521282Z"
    }
   },
   "outputs": [],
   "source": [
    "import sys\n",
    "sys.path.append('../..')"
   ]
  },
  {
   "cell_type": "code",
   "execution_count": 3,
   "metadata": {
    "execution": {
     "iopub.execute_input": "2023-06-12T10:20:32.533733Z",
     "iopub.status.busy": "2023-06-12T10:20:32.533619Z",
     "iopub.status.idle": "2023-06-12T10:20:35.573251Z",
     "shell.execute_reply": "2023-06-12T10:20:35.572637Z",
     "shell.execute_reply.started": "2023-06-12T10:20:32.533718Z"
    },
    "tags": []
   },
   "outputs": [],
   "source": [
    "import os\n",
    "from os.path import exists\n",
    "import copy\n",
    "\n",
    "import pylab as plt\n",
    "from loguru import logger\n",
    "import seaborn as sns\n",
    "import gymnasium as gym\n",
    "import pandas as pd\n",
    "import torch\n",
    "\n",
    "from vimms.Evaluation import EvaluationData\n",
    "from vimms.Common import set_log_level_warning, load_obj, save_obj\n",
    "from vimms.Noise import UniformSpikeNoise\n",
    "from vimms.Roi import RoiBuilderParams, SmartRoiParams\n",
    "\n",
    "from vimms_gym.common import METHOD_DQN, evaluate\n",
    "from vimms_gym.chemicals import generate_chemicals\n",
    "from vimms_gym.evaluation import run_method\n",
    "from vimms_gym.common import METHOD_RANDOM, METHOD_TOPN\n",
    "from vimms_gym.experiments import preset_qcb_medium\n",
    "\n",
    "from model.QNetwork import get_QNetwork, QNETWORK_CNN\n",
    "from model.DQN_utils import make_env, masked_epsilon_greedy"
   ]
  },
  {
   "cell_type": "markdown",
   "metadata": {},
   "source": [
    "# 1. Parameters"
   ]
  },
  {
   "cell_type": "markdown",
   "metadata": {},
   "source": [
    "Parameters that will be used throughout this notebook. Should be the same as the training ones."
   ]
  },
  {
   "cell_type": "markdown",
   "metadata": {},
   "source": [
    "Chemical generation parameters"
   ]
  },
  {
   "cell_type": "code",
   "execution_count": 4,
   "metadata": {
    "execution": {
     "iopub.execute_input": "2023-06-12T10:20:35.574350Z",
     "iopub.status.busy": "2023-06-12T10:20:35.574207Z",
     "iopub.status.idle": "2023-06-12T10:20:35.628804Z",
     "shell.execute_reply": "2023-06-12T10:20:35.628225Z",
     "shell.execute_reply.started": "2023-06-12T10:20:35.574333Z"
    }
   },
   "outputs": [
    {
     "name": "stderr",
     "output_type": "stream",
     "text": [
      "\u001b[32m2023-06-12 10:20:35.602\u001b[0m | \u001b[1mINFO    \u001b[0m | \u001b[36mvimms_gym.experiments\u001b[0m:\u001b[36mget_samplers\u001b[0m:\u001b[36m303\u001b[0m - \u001b[1mLoaded /notebooks/vimms-gym/pickles/samplers_QCB_medium_extracted.p\u001b[0m\n"
     ]
    },
    {
     "data": {
      "text/plain": [
       "({'chemical_creator': {'mz_range': (100, 600),\n",
       "   'rt_range': (400, 800),\n",
       "   'intensity_range': (10000.0, 1e+20),\n",
       "   'n_chemicals': (200, 500),\n",
       "   'mz_sampler': <vimms.ChemicalSamplers.MZMLFormulaSampler at 0x7f4da380ebe0>,\n",
       "   'ri_sampler': <vimms.ChemicalSamplers.MZMLRTandIntensitySampler at 0x7f4cf3ff2070>,\n",
       "   'cr_sampler': <vimms.ChemicalSamplers.MZMLChromatogramSampler at 0x7f4cf3fa5490>},\n",
       "  'noise': {'enable_spike_noise': True,\n",
       "   'noise_density': 0.1,\n",
       "   'noise_max_val': 1000.0,\n",
       "   'mz_range': (100, 600)},\n",
       "  'env': {'ionisation_mode': 'Positive',\n",
       "   'rt_range': (400, 800),\n",
       "   'isolation_window': 0.7,\n",
       "   'use_dew': False,\n",
       "   'mz_tol': 10,\n",
       "   'rt_tol': 5,\n",
       "   'min_ms1_intensity': 5000,\n",
       "   'alpha': 0.25,\n",
       "   'beta': 0.5}},\n",
       " 30)"
      ]
     },
     "execution_count": 4,
     "metadata": {},
     "output_type": "execute_result"
    }
   ],
   "source": [
    "env_alpha = 0.25\n",
    "env_beta = 0.50\n",
    "extract = True\n",
    "params, max_peaks = preset_qcb_medium(None, alpha=env_alpha, beta=env_beta, extract_chromatograms=extract)\n",
    "params, max_peaks"
   ]
  },
  {
   "cell_type": "code",
   "execution_count": 5,
   "metadata": {
    "execution": {
     "iopub.execute_input": "2023-06-12T10:20:35.630427Z",
     "iopub.status.busy": "2023-06-12T10:20:35.630286Z",
     "iopub.status.idle": "2023-06-12T10:20:35.660757Z",
     "shell.execute_reply": "2023-06-12T10:20:35.659986Z",
     "shell.execute_reply.started": "2023-06-12T10:20:35.630411Z"
    }
   },
   "outputs": [],
   "source": [
    "# n_chemicals = (200, 500)\n",
    "# mz_range = (100, 600)\n",
    "# rt_range = (400, 800)\n",
    "# intensity_range = (1E4, 1E20)"
   ]
  },
  {
   "cell_type": "markdown",
   "metadata": {},
   "source": [
    "Evaluation parameters"
   ]
  },
  {
   "cell_type": "code",
   "execution_count": 6,
   "metadata": {
    "execution": {
     "iopub.execute_input": "2023-06-12T10:20:35.661912Z",
     "iopub.status.busy": "2023-06-12T10:20:35.661780Z",
     "iopub.status.idle": "2023-06-12T10:20:35.692395Z",
     "shell.execute_reply": "2023-06-12T10:20:35.691766Z",
     "shell.execute_reply.started": "2023-06-12T10:20:35.661896Z"
    }
   },
   "outputs": [],
   "source": [
    "env_name = 'DDAEnv'\n",
    "intensity_threshold = 0.5\n",
    "\n",
    "dqn_in_dir = 'DQN_1.0E6'\n",
    "\n",
    "# ppo_in_dir = os.path.join('..', '..', 'tune', 'QCB_resimulated_medium')\n",
    "ppo_in_dir = 'PPO_1.0E6'\n",
    "\n",
    "methods = [\n",
    "    METHOD_RANDOM,\n",
    "    METHOD_TOPN,\n",
    "]\n",
    "valid_random = True\n",
    "n_eval_episodes = 30"
   ]
  },
  {
   "cell_type": "code",
   "execution_count": 7,
   "metadata": {
    "execution": {
     "iopub.execute_input": "2023-06-12T10:20:35.693494Z",
     "iopub.status.busy": "2023-06-12T10:20:35.693360Z",
     "iopub.status.idle": "2023-06-12T10:20:35.723672Z",
     "shell.execute_reply": "2023-06-12T10:20:35.723152Z",
     "shell.execute_reply.started": "2023-06-12T10:20:35.693478Z"
    }
   },
   "outputs": [],
   "source": [
    "# topN parameters\n",
    "topN_N = 10\n",
    "topN_rt_tol = 5\n",
    "min_ms1_intensity = 5000\n",
    "\n",
    "# smartroi parameters\n",
    "alpha = 2\n",
    "beta = 0.5\n",
    "ils = 0\n",
    "smartroi_N = topN_N\n",
    "smartroi_dew = topN_rt_tol\n",
    "\n",
    "# weighteddew parameters\n",
    "t0 = 3\n",
    "t1 = 15\n",
    "weighteddew_N = 10"
   ]
  },
  {
   "cell_type": "markdown",
   "metadata": {},
   "source": [
    "## Generate chemical sets for evaluation"
   ]
  },
  {
   "cell_type": "code",
   "execution_count": 8,
   "metadata": {
    "execution": {
     "iopub.execute_input": "2023-06-12T10:20:35.724741Z",
     "iopub.status.busy": "2023-06-12T10:20:35.724610Z",
     "iopub.status.idle": "2023-06-12T10:20:37.675923Z",
     "shell.execute_reply": "2023-06-12T10:20:37.675382Z",
     "shell.execute_reply.started": "2023-06-12T10:20:35.724726Z"
    }
   },
   "outputs": [
    {
     "name": "stdout",
     "output_type": "stream",
     "text": [
      "426\n",
      "262\n",
      "394\n",
      "452\n",
      "437\n",
      "200\n",
      "478\n",
      "204\n",
      "424\n",
      "384\n",
      "443\n",
      "249\n",
      "251\n",
      "300\n",
      "206\n",
      "407\n",
      "498\n",
      "372\n",
      "302\n",
      "265\n",
      "468\n",
      "234\n",
      "322\n",
      "310\n",
      "345\n",
      "396\n",
      "203\n",
      "281\n",
      "493\n",
      "304\n"
     ]
    }
   ],
   "source": [
    "fname = 'QCB_chems_medium.p'\n",
    "found = exists(fname)\n",
    "if found:\n",
    "    chem_list = load_obj(fname)\n",
    "    for chems in chem_list:\n",
    "        print(len(chems))"
   ]
  },
  {
   "cell_type": "markdown",
   "metadata": {},
   "source": [
    "Generate new chemicals if not found"
   ]
  },
  {
   "cell_type": "code",
   "execution_count": 9,
   "metadata": {
    "execution": {
     "iopub.execute_input": "2023-06-12T10:20:37.676989Z",
     "iopub.status.busy": "2023-06-12T10:20:37.676849Z",
     "iopub.status.idle": "2023-06-12T10:20:37.709002Z",
     "shell.execute_reply": "2023-06-12T10:20:37.708613Z",
     "shell.execute_reply.started": "2023-06-12T10:20:37.676973Z"
    }
   },
   "outputs": [
    {
     "data": {
      "text/plain": [
       "{'mz_range': (100, 600),\n",
       " 'rt_range': (400, 800),\n",
       " 'intensity_range': (10000.0, 1e+20),\n",
       " 'n_chemicals': (200, 500),\n",
       " 'mz_sampler': <vimms.ChemicalSamplers.MZMLFormulaSampler at 0x7f4da380ebe0>,\n",
       " 'ri_sampler': <vimms.ChemicalSamplers.MZMLRTandIntensitySampler at 0x7f4cf3ff2070>,\n",
       " 'cr_sampler': <vimms.ChemicalSamplers.MZMLChromatogramSampler at 0x7f4cf3fa5490>}"
      ]
     },
     "execution_count": 9,
     "metadata": {},
     "output_type": "execute_result"
    }
   ],
   "source": [
    "params['chemical_creator']"
   ]
  },
  {
   "cell_type": "code",
   "execution_count": 10,
   "metadata": {
    "execution": {
     "iopub.execute_input": "2023-06-12T10:20:37.709850Z",
     "iopub.status.busy": "2023-06-12T10:20:37.709725Z",
     "iopub.status.idle": "2023-06-12T10:20:37.741817Z",
     "shell.execute_reply": "2023-06-12T10:20:37.741214Z",
     "shell.execute_reply.started": "2023-06-12T10:20:37.709834Z"
    }
   },
   "outputs": [],
   "source": [
    "if not found:\n",
    "    repeat = 30\n",
    "    logger.warning('Generating chemicals')\n",
    "    \n",
    "    chemical_creator_params = params['chemical_creator']\n",
    "    chem_list = []\n",
    "    for i in range(repeat):\n",
    "        chems = generate_chemicals(chemical_creator_params)\n",
    "        print(len(chems))\n",
    "        chem_list.append(chems)\n",
    "        \n",
    "    save_obj(chem_list, fname)"
   ]
  },
  {
   "cell_type": "code",
   "execution_count": 11,
   "metadata": {
    "execution": {
     "iopub.execute_input": "2023-06-12T10:20:37.742982Z",
     "iopub.status.busy": "2023-06-12T10:20:37.742820Z",
     "iopub.status.idle": "2023-06-12T10:20:37.775428Z",
     "shell.execute_reply": "2023-06-12T10:20:37.774994Z",
     "shell.execute_reply.started": "2023-06-12T10:20:37.742964Z"
    }
   },
   "outputs": [
    {
     "data": {
      "text/plain": [
       "30"
      ]
     },
     "execution_count": 11,
     "metadata": {},
     "output_type": "execute_result"
    }
   ],
   "source": [
    "chem_list = chem_list[0:n_eval_episodes]\n",
    "len(chem_list)"
   ]
  },
  {
   "cell_type": "markdown",
   "metadata": {
    "tags": []
   },
   "source": [
    "# 2. Evaluation"
   ]
  },
  {
   "cell_type": "code",
   "execution_count": 12,
   "metadata": {
    "execution": {
     "iopub.execute_input": "2023-06-12T10:20:37.776648Z",
     "iopub.status.busy": "2023-06-12T10:20:37.776435Z",
     "iopub.status.idle": "2023-06-12T10:20:37.811183Z",
     "shell.execute_reply": "2023-06-12T10:20:37.810627Z",
     "shell.execute_reply.started": "2023-06-12T10:20:37.776630Z"
    }
   },
   "outputs": [
    {
     "data": {
      "text/plain": [
       "1"
      ]
     },
     "execution_count": 12,
     "metadata": {},
     "output_type": "execute_result"
    }
   ],
   "source": [
    "set_log_level_warning()"
   ]
  },
  {
   "cell_type": "code",
   "execution_count": 13,
   "metadata": {
    "execution": {
     "iopub.execute_input": "2023-06-12T10:20:37.812386Z",
     "iopub.status.busy": "2023-06-12T10:20:37.812217Z",
     "iopub.status.idle": "2023-06-12T10:20:37.847064Z",
     "shell.execute_reply": "2023-06-12T10:20:37.846644Z",
     "shell.execute_reply.started": "2023-06-12T10:20:37.812366Z"
    }
   },
   "outputs": [
    {
     "data": {
      "text/plain": [
       "{'chemical_creator': {'mz_range': (100, 600),\n",
       "  'rt_range': (400, 800),\n",
       "  'intensity_range': (10000.0, 1e+20),\n",
       "  'n_chemicals': (200, 500),\n",
       "  'mz_sampler': <vimms.ChemicalSamplers.MZMLFormulaSampler at 0x7f4da380ebe0>,\n",
       "  'ri_sampler': <vimms.ChemicalSamplers.MZMLRTandIntensitySampler at 0x7f4cf3ff2070>,\n",
       "  'cr_sampler': <vimms.ChemicalSamplers.MZMLChromatogramSampler at 0x7f4cf3fa5490>},\n",
       " 'noise': {'enable_spike_noise': True,\n",
       "  'noise_density': 0.1,\n",
       "  'noise_max_val': 1000.0,\n",
       "  'mz_range': (100, 600)},\n",
       " 'env': {'ionisation_mode': 'Positive',\n",
       "  'rt_range': (400, 800),\n",
       "  'isolation_window': 0.7,\n",
       "  'use_dew': False,\n",
       "  'mz_tol': 10,\n",
       "  'rt_tol': 5,\n",
       "  'min_ms1_intensity': 5000,\n",
       "  'alpha': 0.25,\n",
       "  'beta': 0.5}}"
      ]
     },
     "execution_count": 13,
     "metadata": {},
     "output_type": "execute_result"
    }
   ],
   "source": [
    "params"
   ]
  },
  {
   "cell_type": "code",
   "execution_count": 14,
   "metadata": {
    "execution": {
     "iopub.execute_input": "2023-06-12T10:20:37.849124Z",
     "iopub.status.busy": "2023-06-12T10:20:37.848975Z",
     "iopub.status.idle": "2023-06-12T10:20:37.880687Z",
     "shell.execute_reply": "2023-06-12T10:20:37.880066Z",
     "shell.execute_reply.started": "2023-06-12T10:20:37.849107Z"
    }
   },
   "outputs": [],
   "source": [
    "horizon = 1\n",
    "out_dir = 'evaluation_1.0E6_horizon_%d_alpha_%.2f_beta_%.2f' % (horizon, env_alpha, env_beta)"
   ]
  },
  {
   "cell_type": "code",
   "execution_count": 15,
   "metadata": {
    "execution": {
     "iopub.execute_input": "2023-06-12T10:20:37.881827Z",
     "iopub.status.busy": "2023-06-12T10:20:37.881600Z",
     "iopub.status.idle": "2023-06-12T10:29:54.840000Z",
     "shell.execute_reply": "2023-06-12T10:29:54.839481Z",
     "shell.execute_reply.started": "2023-06-12T10:20:37.881809Z"
    }
   },
   "outputs": [
    {
     "name": "stdout",
     "output_type": "stream",
     "text": [
      "method = random max_peaks = 30 N = 0 rt_tol = 5\n",
      "\n",
      "\n",
      "Episode 0 (426 chemicals)\n",
      "steps\t 500 \ttotal rewards\t 89.0683578608363\n",
      "steps\t 1000 \ttotal rewards\t 94.4533481465178\n",
      "steps\t 1500 \ttotal rewards\t 106.80107411094778\n",
      "Finished after 1786 timesteps (2.4361515045166016 seconds) with total reward 73.01833205883736\n",
      "{'coverage_prop': '0.948', 'intensity_prop': '0.685', 'ms1ms2_ratio': '0.136', 'efficiency': '0.257', 'TP': '332', 'FP': '72', 'FN': '22', 'precision': '0.822', 'recall': '0.938', 'f1': '0.876', 'total_rewards': 73.01833205883747, 'invalid_action_count': 0, 'num_ms1_scans': 214, 'num_ms2_scans': 1572}\n",
      "\n",
      "Episode 1 (262 chemicals)\n",
      "steps\t 500 \ttotal rewards\t 131.83301404964502\n",
      "steps\t 1000 \ttotal rewards\t 192.43978641369262\n",
      "steps\t 1500 \ttotal rewards\t 165.6714122742442\n",
      "Finished after 1712 timesteps (1.8217968940734863 seconds) with total reward 150.87523812416697\n",
      "{'coverage_prop': '0.931', 'intensity_prop': '0.773', 'ms1ms2_ratio': '0.202', 'efficiency': '0.171', 'TP': '230', 'FP': '14', 'FN': '18', 'precision': '0.943', 'recall': '0.927', 'f1': '0.935', 'total_rewards': 150.8752381241672, 'invalid_action_count': 0, 'num_ms1_scans': 288, 'num_ms2_scans': 1424}\n",
      "\n",
      "Episode 2 (394 chemicals)\n",
      "steps\t 500 \ttotal rewards\t 118.68124490147054\n",
      "steps\t 1000 \ttotal rewards\t 174.46238465462176\n",
      "steps\t 1500 \ttotal rewards\t 222.9830711952582\n",
      "Finished after 1769 timesteps (1.6158461570739746 seconds) with total reward 224.777843442696\n",
      "{'coverage_prop': '0.947', 'intensity_prop': '0.702', 'ms1ms2_ratio': '0.150', 'efficiency': '0.243', 'TP': '309', 'FP': '64', 'FN': '21', 'precision': '0.828', 'recall': '0.936', 'f1': '0.879', 'total_rewards': 224.77784344269622, 'invalid_action_count': 0, 'num_ms1_scans': 231, 'num_ms2_scans': 1538}\n",
      "\n",
      "Episode 3 (452 chemicals)\n",
      "steps\t 500 \ttotal rewards\t 123.25560320604451\n",
      "steps\t 1000 \ttotal rewards\t 213.27508992742773\n",
      "steps\t 1500 \ttotal rewards\t 227.52767751248257\n",
      "Finished after 1776 timesteps (1.7472968101501465 seconds) with total reward 222.88384939798758\n",
      "{'coverage_prop': '0.927', 'intensity_prop': '0.716', 'ms1ms2_ratio': '0.144', 'efficiency': '0.270', 'TP': '371', 'FP': '48', 'FN': '33', 'precision': '0.885', 'recall': '0.918', 'f1': '0.902', 'total_rewards': 222.88384939798766, 'invalid_action_count': 0, 'num_ms1_scans': 224, 'num_ms2_scans': 1552}\n",
      "\n",
      "Episode 4 (437 chemicals)\n",
      "steps\t 500 \ttotal rewards\t 54.4938242436983\n",
      "steps\t 1000 \ttotal rewards\t 143.01463718370167\n",
      "steps\t 1500 \ttotal rewards\t 152.5734667687075\n",
      "Finished after 1780 timesteps (2.412534713745117 seconds) with total reward 141.45151189080784\n",
      "{'coverage_prop': '0.963', 'intensity_prop': '0.706', 'ms1ms2_ratio': '0.141', 'efficiency': '0.270', 'TP': '347', 'FP': '74', 'FN': '16', 'precision': '0.824', 'recall': '0.956', 'f1': '0.885', 'total_rewards': 141.45151189080804, 'invalid_action_count': 0, 'num_ms1_scans': 220, 'num_ms2_scans': 1560}\n",
      "\n",
      "Episode 5 (200 chemicals)\n",
      "steps\t 500 \ttotal rewards\t 49.82978105786693\n",
      "steps\t 1000 \ttotal rewards\t 100.67145542717776\n",
      "steps\t 1500 \ttotal rewards\t 83.30087955953232\n",
      "Finished after 1633 timesteps (1.9966166019439697 seconds) with total reward 81.31811604283945\n",
      "{'coverage_prop': '0.935', 'intensity_prop': '0.793', 'ms1ms2_ratio': '0.290', 'efficiency': '0.148', 'TP': '179', 'FP': '8', 'FN': '13', 'precision': '0.957', 'recall': '0.932', 'f1': '0.945', 'total_rewards': 81.31811604283939, 'invalid_action_count': 0, 'num_ms1_scans': 367, 'num_ms2_scans': 1266}\n",
      "\n",
      "Episode 6 (478 chemicals)\n",
      "steps\t 500 \ttotal rewards\t 103.22816367128524\n",
      "steps\t 1000 \ttotal rewards\t 186.54713394918846\n",
      "steps\t 1500 \ttotal rewards\t 141.08678365212\n",
      "Finished after 1790 timesteps (1.8739805221557617 seconds) with total reward 88.84175144498792\n",
      "{'coverage_prop': '0.904', 'intensity_prop': '0.672', 'ms1ms2_ratio': '0.134', 'efficiency': '0.274', 'TP': '363', 'FP': '69', 'FN': '46', 'precision': '0.840', 'recall': '0.888', 'f1': '0.863', 'total_rewards': 88.84175144498798, 'invalid_action_count': 0, 'num_ms1_scans': 211, 'num_ms2_scans': 1579}\n",
      "\n",
      "Episode 7 (204 chemicals)\n",
      "steps\t 500 \ttotal rewards\t 15.635165886598452\n",
      "steps\t 1000 \ttotal rewards\t 37.208340683684106\n",
      "steps\t 1500 \ttotal rewards\t -26.2124217524767\n",
      "Finished after 1660 timesteps (1.9679899215698242 seconds) with total reward -32.09911373809999\n",
      "{'coverage_prop': '0.951', 'intensity_prop': '0.792', 'ms1ms2_ratio': '0.258', 'efficiency': '0.147', 'TP': '183', 'FP': '11', 'FN': '10', 'precision': '0.943', 'recall': '0.948', 'f1': '0.946', 'total_rewards': -32.09911373809995, 'invalid_action_count': 0, 'num_ms1_scans': 340, 'num_ms2_scans': 1320}\n",
      "\n",
      "Episode 8 (424 chemicals)\n",
      "steps\t 500 \ttotal rewards\t 76.80842334937248\n",
      "steps\t 1000 \ttotal rewards\t 139.2154974690057\n",
      "steps\t 1500 \ttotal rewards\t 193.4284431352758\n",
      "Finished after 1794 timesteps (1.7550642490386963 seconds) with total reward 200.52249157378955\n",
      "{'coverage_prop': '0.936', 'intensity_prop': '0.710', 'ms1ms2_ratio': '0.130', 'efficiency': '0.250', 'TP': '349', 'FP': '48', 'FN': '27', 'precision': '0.879', 'recall': '0.928', 'f1': '0.903', 'total_rewards': 200.5224915737898, 'invalid_action_count': 0, 'num_ms1_scans': 206, 'num_ms2_scans': 1588}\n",
      "\n",
      "Episode 9 (384 chemicals)\n",
      "steps\t 500 \ttotal rewards\t 94.67605255707565\n",
      "steps\t 1000 \ttotal rewards\t 129.49532802986937\n",
      "steps\t 1500 \ttotal rewards\t 147.9205833391395\n",
      "Finished after 1770 timesteps (2.4362130165100098 seconds) with total reward 108.12657111854658\n",
      "{'coverage_prop': '0.930', 'intensity_prop': '0.716', 'ms1ms2_ratio': '0.150', 'efficiency': '0.232', 'TP': '312', 'FP': '45', 'FN': '27', 'precision': '0.874', 'recall': '0.920', 'f1': '0.897', 'total_rewards': 108.12657111854612, 'invalid_action_count': 0, 'num_ms1_scans': 231, 'num_ms2_scans': 1539}\n",
      "\n",
      "Episode 10 (443 chemicals)\n",
      "steps\t 500 \ttotal rewards\t 108.58559256879165\n",
      "steps\t 1000 \ttotal rewards\t 144.21845554424632\n",
      "steps\t 1500 \ttotal rewards\t 183.4531693895662\n",
      "Finished after 1796 timesteps (1.7870447635650635 seconds) with total reward 136.7719970199924\n",
      "{'coverage_prop': '0.935', 'intensity_prop': '0.702', 'ms1ms2_ratio': '0.128', 'efficiency': '0.260', 'TP': '356', 'FP': '58', 'FN': '29', 'precision': '0.860', 'recall': '0.925', 'f1': '0.891', 'total_rewards': 136.77199701999234, 'invalid_action_count': 0, 'num_ms1_scans': 204, 'num_ms2_scans': 1592}\n",
      "\n",
      "Episode 11 (249 chemicals)\n",
      "steps\t 500 \ttotal rewards\t 105.07545606297008\n",
      "steps\t 1000 \ttotal rewards\t 140.42265475417142\n",
      "steps\t 1500 \ttotal rewards\t 91.39031514862864\n",
      "Finished after 1689 timesteps (2.3571975231170654 seconds) with total reward 65.94711859488265\n",
      "{'coverage_prop': '0.956', 'intensity_prop': '0.773', 'ms1ms2_ratio': '0.226', 'efficiency': '0.173', 'TP': '219', 'FP': '19', 'FN': '11', 'precision': '0.920', 'recall': '0.952', 'f1': '0.936', 'total_rewards': 65.9471185948829, 'invalid_action_count': 0, 'num_ms1_scans': 311, 'num_ms2_scans': 1378}\n",
      "\n",
      "Episode 12 (251 chemicals)\n",
      "steps\t 500 \ttotal rewards\t 20.200789056247295\n",
      "steps\t 1000 \ttotal rewards\t 29.00335258132385\n",
      "steps\t 1500 \ttotal rewards\t -2.176806820241687\n",
      "Finished after 1742 timesteps (1.4867706298828125 seconds) with total reward -74.15017760642107\n",
      "{'coverage_prop': '0.932', 'intensity_prop': '0.731', 'ms1ms2_ratio': '0.174', 'efficiency': '0.158', 'TP': '208', 'FP': '26', 'FN': '17', 'precision': '0.889', 'recall': '0.924', 'f1': '0.906', 'total_rewards': -74.15017760642104, 'invalid_action_count': 0, 'num_ms1_scans': 258, 'num_ms2_scans': 1484}\n",
      "\n",
      "Episode 13 (300 chemicals)\n",
      "steps\t 500 \ttotal rewards\t 29.23425349810998\n",
      "steps\t 1000 \ttotal rewards\t -10.998937111598032\n",
      "steps\t 1500 \ttotal rewards\t 5.436231887973296\n",
      "Finished after 1750 timesteps (2.400768280029297 seconds) with total reward -79.18835130281118\n",
      "{'coverage_prop': '0.947', 'intensity_prop': '0.732', 'ms1ms2_ratio': '0.167', 'efficiency': '0.189', 'TP': '248', 'FP': '36', 'FN': '16', 'precision': '0.873', 'recall': '0.939', 'f1': '0.905', 'total_rewards': -79.18835130281118, 'invalid_action_count': 0, 'num_ms1_scans': 250, 'num_ms2_scans': 1500}\n",
      "\n",
      "Episode 14 (206 chemicals)\n",
      "steps\t 500 \ttotal rewards\t -7.430639798783901\n",
      "steps\t 1000 \ttotal rewards\t 7.149594384166425\n",
      "steps\t 1500 \ttotal rewards\t -53.063864944890014\n",
      "Finished after 1681 timesteps (1.3014516830444336 seconds) with total reward -58.085500221502414\n",
      "{'coverage_prop': '0.947', 'intensity_prop': '0.750', 'ms1ms2_ratio': '0.234', 'efficiency': '0.143', 'TP': '170', 'FP': '25', 'FN': '11', 'precision': '0.872', 'recall': '0.939', 'f1': '0.904', 'total_rewards': -58.08550022150238, 'invalid_action_count': 0, 'num_ms1_scans': 319, 'num_ms2_scans': 1362}\n",
      "\n",
      "Episode 15 (407 chemicals)\n",
      "steps\t 500 \ttotal rewards\t 48.198265952570594\n",
      "steps\t 1000 \ttotal rewards\t 102.91732737342635\n",
      "steps\t 1500 \ttotal rewards\t 175.22513692755027\n",
      "Finished after 1753 timesteps (2.658045530319214 seconds) with total reward 194.1731978287497\n",
      "{'coverage_prop': '0.948', 'intensity_prop': '0.728', 'ms1ms2_ratio': '0.164', 'efficiency': '0.256', 'TP': '335', 'FP': '51', 'FN': '21', 'precision': '0.868', 'recall': '0.941', 'f1': '0.903', 'total_rewards': 194.17319782874966, 'invalid_action_count': 0, 'num_ms1_scans': 247, 'num_ms2_scans': 1506}\n",
      "\n",
      "Episode 16 (498 chemicals)\n",
      "steps\t 500 \ttotal rewards\t 127.98644788126796\n",
      "steps\t 1000 \ttotal rewards\t 182.82629637569892\n",
      "steps\t 1500 \ttotal rewards\t 210.1796277921237\n",
      "Finished after 1797 timesteps (1.8734259605407715 seconds) with total reward 214.83188938651847\n",
      "{'coverage_prop': '0.934', 'intensity_prop': '0.712', 'ms1ms2_ratio': '0.127', 'efficiency': '0.292', 'TP': '399', 'FP': '66', 'FN': '33', 'precision': '0.858', 'recall': '0.924', 'f1': '0.890', 'total_rewards': 214.8318893865182, 'invalid_action_count': 0, 'num_ms1_scans': 203, 'num_ms2_scans': 1594}\n",
      "\n",
      "Episode 17 (372 chemicals)\n",
      "steps\t 500 \ttotal rewards\t 129.1138016835776\n",
      "steps\t 1000 \ttotal rewards\t 176.35952010969908\n",
      "steps\t 1500 \ttotal rewards\t 161.86640814239448\n",
      "Finished after 1750 timesteps (2.6149611473083496 seconds) with total reward 148.22855095002998\n",
      "{'coverage_prop': '0.941', 'intensity_prop': '0.704', 'ms1ms2_ratio': '0.167', 'efficiency': '0.233', 'TP': '298', 'FP': '52', 'FN': '22', 'precision': '0.851', 'recall': '0.931', 'f1': '0.890', 'total_rewards': 148.22855095002956, 'invalid_action_count': 0, 'num_ms1_scans': 250, 'num_ms2_scans': 1500}\n",
      "\n",
      "Episode 18 (302 chemicals)\n",
      "steps\t 500 \ttotal rewards\t 111.94567983793038\n",
      "steps\t 1000 \ttotal rewards\t 187.34904738979148\n",
      "steps\t 1500 \ttotal rewards\t 252.39830002758032\n",
      "Finished after 1715 timesteps (1.4766826629638672 seconds) with total reward 261.45887693348163\n",
      "{'coverage_prop': '0.950', 'intensity_prop': '0.743', 'ms1ms2_ratio': '0.199', 'efficiency': '0.201', 'TP': '254', 'FP': '33', 'FN': '15', 'precision': '0.885', 'recall': '0.944', 'f1': '0.914', 'total_rewards': 261.4588769334813, 'invalid_action_count': 0, 'num_ms1_scans': 285, 'num_ms2_scans': 1430}\n",
      "\n",
      "Episode 19 (265 chemicals)\n",
      "steps\t 500 \ttotal rewards\t 58.5752192296664\n",
      "steps\t 1000 \ttotal rewards\t 124.74259067980603\n",
      "steps\t 1500 \ttotal rewards\t 87.4949659113765\n",
      "Finished after 1737 timesteps (1.3117210865020752 seconds) with total reward 34.42980649834442\n",
      "{'coverage_prop': '0.970', 'intensity_prop': '0.758', 'ms1ms2_ratio': '0.178', 'efficiency': '0.174', 'TP': '228', 'FP': '29', 'FN': '8', 'precision': '0.887', 'recall': '0.966', 'f1': '0.925', 'total_rewards': 34.4298064983444, 'invalid_action_count': 0, 'num_ms1_scans': 263, 'num_ms2_scans': 1474}\n",
      "\n",
      "Episode 20 (468 chemicals)\n",
      "steps\t 500 \ttotal rewards\t 72.93525050856962\n",
      "steps\t 1000 \ttotal rewards\t 76.93459906090078\n",
      "steps\t 1500 \ttotal rewards\t 77.49630606935173\n",
      "Finished after 1796 timesteps (2.77384614944458 seconds) with total reward 65.05591080696053\n",
      "{'coverage_prop': '0.893', 'intensity_prop': '0.675', 'ms1ms2_ratio': '0.128', 'efficiency': '0.263', 'TP': '359', 'FP': '59', 'FN': '50', 'precision': '0.859', 'recall': '0.878', 'f1': '0.868', 'total_rewards': 65.05591080696041, 'invalid_action_count': 0, 'num_ms1_scans': 204, 'num_ms2_scans': 1592}\n",
      "\n",
      "Episode 21 (234 chemicals)\n",
      "steps\t 500 \ttotal rewards\t 95.64472222332992\n",
      "steps\t 1000 \ttotal rewards\t 111.06226727484234\n",
      "steps\t 1500 \ttotal rewards\t 135.99594464525973\n",
      "Finished after 1662 timesteps (1.4865334033966064 seconds) with total reward 172.554142685261\n",
      "{'coverage_prop': '0.944', 'intensity_prop': '0.757', 'ms1ms2_ratio': '0.255', 'efficiency': '0.167', 'TP': '199', 'FP': '22', 'FN': '13', 'precision': '0.900', 'recall': '0.939', 'f1': '0.919', 'total_rewards': 172.55414268526124, 'invalid_action_count': 0, 'num_ms1_scans': 338, 'num_ms2_scans': 1324}\n",
      "\n",
      "Episode 22 (322 chemicals)\n",
      "steps\t 500 \ttotal rewards\t 47.18244157318735\n",
      "steps\t 1000 \ttotal rewards\t 74.11435404404466\n",
      "steps\t 1500 \ttotal rewards\t 74.08907228182223\n",
      "Finished after 1753 timesteps (1.534954309463501 seconds) with total reward 50.31751799036826\n",
      "{'coverage_prop': '0.932', 'intensity_prop': '0.725', 'ms1ms2_ratio': '0.164', 'efficiency': '0.199', 'TP': '263', 'FP': '37', 'FN': '22', 'precision': '0.877', 'recall': '0.923', 'f1': '0.899', 'total_rewards': 50.317517990368295, 'invalid_action_count': 0, 'num_ms1_scans': 247, 'num_ms2_scans': 1506}\n",
      "\n",
      "Episode 23 (310 chemicals)\n",
      "steps\t 500 \ttotal rewards\t 106.53007296235168\n",
      "steps\t 1000 \ttotal rewards\t 155.09559046381497\n",
      "steps\t 1500 \ttotal rewards\t 189.24185808526352\n",
      "Finished after 1717 timesteps (1.5632829666137695 seconds) with total reward 208.06794956699702\n",
      "{'coverage_prop': '0.926', 'intensity_prop': '0.724', 'ms1ms2_ratio': '0.197', 'efficiency': '0.200', 'TP': '253', 'FP': '34', 'FN': '23', 'precision': '0.882', 'recall': '0.917', 'f1': '0.899', 'total_rewards': 208.06794956699687, 'invalid_action_count': 0, 'num_ms1_scans': 283, 'num_ms2_scans': 1434}\n",
      "\n",
      "Episode 24 (345 chemicals)\n",
      "steps\t 500 \ttotal rewards\t 112.15889558882057\n",
      "steps\t 1000 \ttotal rewards\t 178.67113436977493\n",
      "steps\t 1500 \ttotal rewards\t 147.7293306019387\n",
      "Finished after 1765 timesteps (1.4005372524261475 seconds) with total reward 141.24606699886556\n",
      "{'coverage_prop': '0.954', 'intensity_prop': '0.723', 'ms1ms2_ratio': '0.154', 'efficiency': '0.215', 'TP': '282', 'FP': '47', 'FN': '16', 'precision': '0.857', 'recall': '0.946', 'f1': '0.900', 'total_rewards': 141.2460669988656, 'invalid_action_count': 0, 'num_ms1_scans': 235, 'num_ms2_scans': 1530}\n",
      "\n",
      "Episode 25 (396 chemicals)\n",
      "steps\t 500 \ttotal rewards\t 53.60687206114886\n",
      "steps\t 1000 \ttotal rewards\t 124.33257990086581\n",
      "steps\t 1500 \ttotal rewards\t 194.2750843634259\n",
      "Finished after 1780 timesteps (1.5214464664459229 seconds) with total reward 209.7858191470495\n",
      "{'coverage_prop': '0.955', 'intensity_prop': '0.736', 'ms1ms2_ratio': '0.141', 'efficiency': '0.242', 'TP': '335', 'FP': '43', 'FN': '18', 'precision': '0.886', 'recall': '0.949', 'f1': '0.917', 'total_rewards': 209.78581914704915, 'invalid_action_count': 0, 'num_ms1_scans': 220, 'num_ms2_scans': 1560}\n",
      "\n",
      "Episode 26 (203 chemicals)\n",
      "steps\t 500 \ttotal rewards\t -30.635795498665438\n",
      "steps\t 1000 \ttotal rewards\t 65.5781561220278\n",
      "steps\t 1500 \ttotal rewards\t 53.67029148683824\n",
      "Finished after 1671 timesteps (2.690316915512085 seconds) with total reward 28.78576377697253\n",
      "{'coverage_prop': '0.951', 'intensity_prop': '0.804', 'ms1ms2_ratio': '0.246', 'efficiency': '0.144', 'TP': '188', 'FP': '5', 'FN': '10', 'precision': '0.974', 'recall': '0.949', 'f1': '0.962', 'total_rewards': 28.785763776972548, 'invalid_action_count': 0, 'num_ms1_scans': 330, 'num_ms2_scans': 1341}\n",
      "\n",
      "Episode 27 (281 chemicals)\n",
      "steps\t 500 \ttotal rewards\t 34.92459928459962\n",
      "steps\t 1000 \ttotal rewards\t 76.0842374269927\n",
      "steps\t 1500 \ttotal rewards\t 173.00264986980054\n",
      "Finished after 1702 timesteps (1.4791789054870605 seconds) with total reward 196.79186904386927\n",
      "{'coverage_prop': '0.961', 'intensity_prop': '0.768', 'ms1ms2_ratio': '0.212', 'efficiency': '0.192', 'TP': '243', 'FP': '27', 'FN': '11', 'precision': '0.900', 'recall': '0.957', 'f1': '0.927', 'total_rewards': 196.79186904386896, 'invalid_action_count': 0, 'num_ms1_scans': 298, 'num_ms2_scans': 1404}\n",
      "\n",
      "Episode 28 (493 chemicals)\n",
      "steps\t 500 \ttotal rewards\t 88.95758125743778\n",
      "steps\t 1000 \ttotal rewards\t 91.70079982577437\n",
      "steps\t 1500 \ttotal rewards\t 84.64555143148668\n",
      "Finished after 1805 timesteps (1.8264014720916748 seconds) with total reward 75.6501285468676\n",
      "{'coverage_prop': '0.899', 'intensity_prop': '0.638', 'ms1ms2_ratio': '0.121', 'efficiency': '0.275', 'TP': '358', 'FP': '85', 'FN': '50', 'precision': '0.808', 'recall': '0.877', 'f1': '0.841', 'total_rewards': 75.65012854686765, 'invalid_action_count': 0, 'num_ms1_scans': 195, 'num_ms2_scans': 1610}\n",
      "\n",
      "Episode 29 (304 chemicals)\n",
      "steps\t 500 \ttotal rewards\t 52.73539157492222\n",
      "steps\t 1000 \ttotal rewards\t 61.28789026806297\n",
      "steps\t 1500 \ttotal rewards\t 26.5869093453598\n",
      "Finished after 1735 timesteps (2.744720458984375 seconds) with total reward -11.040375342829151\n",
      "{'coverage_prop': '0.944', 'intensity_prop': '0.763', 'ms1ms2_ratio': '0.180', 'efficiency': '0.195', 'TP': '265', 'FP': '22', 'FN': '17', 'precision': '0.923', 'recall': '0.940', 'f1': '0.931', 'total_rewards': -11.040375342828927, 'invalid_action_count': 0, 'num_ms1_scans': 265, 'num_ms2_scans': 1470}\n",
      "\n",
      "method = topN max_peaks = 30 N = 10 rt_tol = 5\n",
      "\n",
      "\n",
      "Episode 0 (426 chemicals)\n",
      "steps\t 500 \ttotal rewards\t 106.63395611197905\n",
      "steps\t 1000 \ttotal rewards\t 162.9913404040571\n",
      "steps\t 1500 \ttotal rewards\t 177.154100603419\n",
      "Finished after 1649 timesteps (7.976711750030518 seconds) with total reward 164.69702711659656\n",
      "{'coverage_prop': '0.944', 'intensity_prop': '0.730', 'ms1ms2_ratio': '0.270', 'efficiency': '0.310', 'TP': '358', 'FP': '44', 'FN': '24', 'precision': '0.891', 'recall': '0.937', 'f1': '0.913', 'total_rewards': 164.6970271165966, 'invalid_action_count': 0, 'num_ms1_scans': 351, 'num_ms2_scans': 1298}\n",
      "\n",
      "Episode 1 (262 chemicals)\n",
      "steps\t 500 \ttotal rewards\t 106.47072854015892\n",
      "steps\t 1000 \ttotal rewards\t 191.55039267964284\n",
      "steps\t 1500 \ttotal rewards\t 210.1607931832575\n",
      "Finished after 1520 timesteps (8.186421155929565 seconds) with total reward 209.63181333494242\n",
      "{'coverage_prop': '0.962', 'intensity_prop': '0.795', 'ms1ms2_ratio': '0.463', 'efficiency': '0.243', 'TP': '236', 'FP': '16', 'FN': '10', 'precision': '0.937', 'recall': '0.959', 'f1': '0.948', 'total_rewards': 209.63181333494293, 'invalid_action_count': 0, 'num_ms1_scans': 481, 'num_ms2_scans': 1039}\n",
      "\n",
      "Episode 2 (394 chemicals)\n",
      "steps\t 500 \ttotal rewards\t 95.53926953958758\n",
      "steps\t 1000 \ttotal rewards\t 180.39381892627344\n",
      "steps\t 1500 \ttotal rewards\t 250.42243434777154\n",
      "Finished after 1603 timesteps (8.19631552696228 seconds) with total reward 254.82676039253602\n",
      "{'coverage_prop': '0.944', 'intensity_prop': '0.736', 'ms1ms2_ratio': '0.329', 'efficiency': '0.308', 'TP': '334', 'FP': '38', 'FN': '22', 'precision': '0.898', 'recall': '0.938', 'f1': '0.918', 'total_rewards': 254.82676039253593, 'invalid_action_count': 0, 'num_ms1_scans': 397, 'num_ms2_scans': 1206}\n",
      "\n",
      "Episode 3 (452 chemicals)\n",
      "steps\t 500 \ttotal rewards\t 116.63009714271976\n",
      "steps\t 1000 \ttotal rewards\t 212.49359610109823\n",
      "steps\t 1500 \ttotal rewards\t 238.1263519620108\n",
      "Finished after 1649 timesteps (7.874828577041626 seconds) with total reward 254.70375362716788\n",
      "{'coverage_prop': '0.938', 'intensity_prop': '0.740', 'ms1ms2_ratio': '0.270', 'efficiency': '0.327', 'TP': '387', 'FP': '37', 'FN': '28', 'precision': '0.913', 'recall': '0.933', 'f1': '0.923', 'total_rewards': 254.70375362716797, 'invalid_action_count': 0, 'num_ms1_scans': 351, 'num_ms2_scans': 1298}\n",
      "\n",
      "Episode 4 (437 chemicals)\n",
      "steps\t 500 \ttotal rewards\t 68.81368992537134\n",
      "steps\t 1000 \ttotal rewards\t 200.2454626887014\n",
      "steps\t 1500 \ttotal rewards\t 205.6425183031181\n",
      "Finished after 1634 timesteps (9.528647422790527 seconds) with total reward 211.2695678195638\n",
      "{'coverage_prop': '0.963', 'intensity_prop': '0.741', 'ms1ms2_ratio': '0.289', 'efficiency': '0.332', 'TP': '369', 'FP': '52', 'FN': '16', 'precision': '0.876', 'recall': '0.958', 'f1': '0.916', 'total_rewards': 211.26956781956386, 'invalid_action_count': 0, 'num_ms1_scans': 366, 'num_ms2_scans': 1268}\n",
      "\n",
      "Episode 5 (200 chemicals)\n",
      "steps\t 500 \ttotal rewards\t 69.4231243993963\n",
      "steps\t 1000 \ttotal rewards\t 126.02048842003433\n",
      "Finished after 1385 timesteps (6.59639835357666 seconds) with total reward 140.9510910541663\n",
      "{'coverage_prop': '0.955', 'intensity_prop': '0.776', 'ms1ms2_ratio': '0.799', 'efficiency': '0.248', 'TP': '180', 'FP': '11', 'FN': '9', 'precision': '0.942', 'recall': '0.952', 'f1': '0.947', 'total_rewards': 140.95109105416645, 'invalid_action_count': 0, 'num_ms1_scans': 615, 'num_ms2_scans': 770}\n",
      "\n",
      "Episode 6 (478 chemicals)\n",
      "steps\t 500 \ttotal rewards\t 102.26750226127217\n",
      "steps\t 1000 \ttotal rewards\t 195.78259136454625\n",
      "steps\t 1500 \ttotal rewards\t 154.78772582466527\n",
      "Finished after 1664 timesteps (7.701269865036011 seconds) with total reward 141.81796707291574\n",
      "{'coverage_prop': '0.900', 'intensity_prop': '0.687', 'ms1ms2_ratio': '0.253', 'efficiency': '0.324', 'TP': '370', 'FP': '60', 'FN': '48', 'precision': '0.860', 'recall': '0.885', 'f1': '0.873', 'total_rewards': 141.81796707291537, 'invalid_action_count': 0, 'num_ms1_scans': 336, 'num_ms2_scans': 1328}\n",
      "\n",
      "Episode 7 (204 chemicals)\n",
      "steps\t 500 \ttotal rewards\t 43.123855574065644\n",
      "steps\t 1000 \ttotal rewards\t 96.84610290018858\n",
      "Finished after 1443 timesteps (8.562122344970703 seconds) with total reward 120.59105674330272\n",
      "{'coverage_prop': '0.961', 'intensity_prop': '0.791', 'ms1ms2_ratio': '0.631', 'efficiency': '0.221', 'TP': '186', 'FP': '10', 'FN': '8', 'precision': '0.949', 'recall': '0.959', 'f1': '0.954', 'total_rewards': 120.59105674330263, 'invalid_action_count': 0, 'num_ms1_scans': 558, 'num_ms2_scans': 885}\n",
      "\n",
      "Episode 8 (424 chemicals)\n",
      "steps\t 500 \ttotal rewards\t 105.87274106740446\n",
      "steps\t 1000 \ttotal rewards\t 180.29826624812563\n",
      "steps\t 1500 \ttotal rewards\t 240.7651178010596\n",
      "Finished after 1667 timesteps (7.671076536178589 seconds) with total reward 240.60202315581967\n",
      "{'coverage_prop': '0.946', 'intensity_prop': '0.734', 'ms1ms2_ratio': '0.250', 'efficiency': '0.301', 'TP': '359', 'FP': '42', 'FN': '23', 'precision': '0.895', 'recall': '0.940', 'f1': '0.917', 'total_rewards': 240.60202315581984, 'invalid_action_count': 0, 'num_ms1_scans': 333, 'num_ms2_scans': 1334}\n",
      "\n",
      "Episode 9 (384 chemicals)\n",
      "steps\t 500 \ttotal rewards\t 95.73317664764349\n",
      "steps\t 1000 \ttotal rewards\t 194.16757369417\n",
      "steps\t 1500 \ttotal rewards\t 215.35955526404695\n",
      "Finished after 1607 timesteps (7.0779078006744385 seconds) with total reward 206.42491962453101\n",
      "{'coverage_prop': '0.948', 'intensity_prop': '0.751', 'ms1ms2_ratio': '0.325', 'efficiency': '0.300', 'TP': '326', 'FP': '38', 'FN': '20', 'precision': '0.896', 'recall': '0.942', 'f1': '0.918', 'total_rewards': 206.42491962453096, 'invalid_action_count': 0, 'num_ms1_scans': 394, 'num_ms2_scans': 1213}\n",
      "\n",
      "Episode 10 (443 chemicals)\n",
      "steps\t 500 \ttotal rewards\t 101.59368235087857\n",
      "steps\t 1000 \ttotal rewards\t 182.06833702991065\n",
      "steps\t 1500 \ttotal rewards\t 216.05539105742622\n",
      "Finished after 1664 timesteps (8.440871953964233 seconds) with total reward 208.98812567189944\n",
      "{'coverage_prop': '0.910', 'intensity_prop': '0.726', 'ms1ms2_ratio': '0.253', 'efficiency': '0.303', 'TP': '369', 'FP': '34', 'FN': '40', 'precision': '0.916', 'recall': '0.902', 'f1': '0.909', 'total_rewards': 208.9881256718998, 'invalid_action_count': 0, 'num_ms1_scans': 336, 'num_ms2_scans': 1328}\n",
      "\n",
      "Episode 11 (249 chemicals)\n",
      "steps\t 500 \ttotal rewards\t 100.0753051474233\n",
      "steps\t 1000 \ttotal rewards\t 167.94640480261836\n",
      "Finished after 1497 timesteps (7.175195217132568 seconds) with total reward 154.03044910455029\n",
      "{'coverage_prop': '0.960', 'intensity_prop': '0.787', 'ms1ms2_ratio': '0.506', 'efficiency': '0.240', 'TP': '225', 'FP': '14', 'FN': '10', 'precision': '0.941', 'recall': '0.957', 'f1': '0.949', 'total_rewards': 154.0304491045505, 'invalid_action_count': 0, 'num_ms1_scans': 503, 'num_ms2_scans': 994}\n",
      "\n",
      "Episode 12 (251 chemicals)\n",
      "steps\t 500 \ttotal rewards\t 58.061741097780704\n",
      "steps\t 1000 \ttotal rewards\t 95.26935010006831\n",
      "steps\t 1500 \ttotal rewards\t 61.55457841334804\n",
      "Finished after 1561 timesteps (7.017986059188843 seconds) with total reward 55.36901288170255\n",
      "{'coverage_prop': '0.944', 'intensity_prop': '0.747', 'ms1ms2_ratio': '0.391', 'efficiency': '0.211', 'TP': '217', 'FP': '20', 'FN': '14', 'precision': '0.916', 'recall': '0.939', 'f1': '0.927', 'total_rewards': 55.369012881702545, 'invalid_action_count': 0, 'num_ms1_scans': 439, 'num_ms2_scans': 1122}\n",
      "\n",
      "Episode 13 (300 chemicals)\n",
      "steps\t 500 \ttotal rewards\t 67.16011229573786\n",
      "steps\t 1000 \ttotal rewards\t 58.092633635724354\n",
      "steps\t 1500 \ttotal rewards\t 51.75223218727052\n",
      "Finished after 1591 timesteps (9.795856952667236 seconds) with total reward 36.50551130334521\n",
      "{'coverage_prop': '0.957', 'intensity_prop': '0.748', 'ms1ms2_ratio': '0.346', 'efficiency': '0.243', 'TP': '259', 'FP': '28', 'FN': '13', 'precision': '0.902', 'recall': '0.952', 'f1': '0.927', 'total_rewards': 36.505511303345216, 'invalid_action_count': 0, 'num_ms1_scans': 409, 'num_ms2_scans': 1182}\n",
      "\n",
      "Episode 14 (206 chemicals)\n",
      "steps\t 500 \ttotal rewards\t 59.38462839875616\n",
      "steps\t 1000 \ttotal rewards\t 73.23694868871351\n",
      "Finished after 1463 timesteps (6.67096734046936 seconds) with total reward 72.81976249844075\n",
      "{'coverage_prop': '0.956', 'intensity_prop': '0.757', 'ms1ms2_ratio': '0.580', 'efficiency': '0.213', 'TP': '177', 'FP': '20', 'FN': '9', 'precision': '0.898', 'recall': '0.952', 'f1': '0.924', 'total_rewards': 72.81976249844068, 'invalid_action_count': 0, 'num_ms1_scans': 537, 'num_ms2_scans': 926}\n",
      "\n",
      "Episode 15 (407 chemicals)\n",
      "steps\t 500 \ttotal rewards\t 80.84462422312731\n",
      "steps\t 1000 \ttotal rewards\t 143.03271498162684\n",
      "steps\t 1500 \ttotal rewards\t 215.09368572008077\n",
      "Finished after 1595 timesteps (7.648989200592041 seconds) with total reward 228.0773826986182\n",
      "{'coverage_prop': '0.943', 'intensity_prop': '0.749', 'ms1ms2_ratio': '0.340', 'efficiency': '0.323', 'TP': '346', 'FP': '38', 'FN': '23', 'precision': '0.901', 'recall': '0.938', 'f1': '0.919', 'total_rewards': 228.0773826986177, 'invalid_action_count': 0, 'num_ms1_scans': 405, 'num_ms2_scans': 1190}\n",
      "\n",
      "Episode 16 (498 chemicals)\n",
      "steps\t 500 \ttotal rewards\t 124.44642565267253\n",
      "steps\t 1000 \ttotal rewards\t 191.52301528815207\n",
      "steps\t 1500 \ttotal rewards\t 221.34576828086261\n",
      "Finished after 1654 timesteps (10.08758020401001 seconds) with total reward 239.66587157985\n",
      "{'coverage_prop': '0.916', 'intensity_prop': '0.715', 'ms1ms2_ratio': '0.265', 'efficiency': '0.349', 'TP': '408', 'FP': '48', 'FN': '42', 'precision': '0.895', 'recall': '0.907', 'f1': '0.901', 'total_rewards': 239.66587157984972, 'invalid_action_count': 0, 'num_ms1_scans': 346, 'num_ms2_scans': 1308}\n",
      "\n",
      "Episode 17 (372 chemicals)\n",
      "steps\t 500 \ttotal rewards\t 119.63824849090636\n",
      "steps\t 1000 \ttotal rewards\t 187.68260300817315\n",
      "steps\t 1500 \ttotal rewards\t 192.85253353422533\n",
      "Finished after 1620 timesteps (7.459799289703369 seconds) with total reward 186.8470278224624\n",
      "{'coverage_prop': '0.954', 'intensity_prop': '0.763', 'ms1ms2_ratio': '0.308', 'efficiency': '0.287', 'TP': '327', 'FP': '28', 'FN': '17', 'precision': '0.921', 'recall': '0.951', 'f1': '0.936', 'total_rewards': 186.84702782246242, 'invalid_action_count': 0, 'num_ms1_scans': 381, 'num_ms2_scans': 1239}\n",
      "\n",
      "Episode 18 (302 chemicals)\n",
      "steps\t 500 \ttotal rewards\t 105.66331721673217\n",
      "steps\t 1000 \ttotal rewards\t 204.88372190110954\n",
      "steps\t 1500 \ttotal rewards\t 246.78387159880873\n",
      "Finished after 1570 timesteps (7.700088262557983 seconds) with total reward 248.83541747472856\n",
      "{'coverage_prop': '0.957', 'intensity_prop': '0.765', 'ms1ms2_ratio': '0.377', 'efficiency': '0.254', 'TP': '263', 'FP': '26', 'FN': '13', 'precision': '0.910', 'recall': '0.953', 'f1': '0.931', 'total_rewards': 248.83541747472836, 'invalid_action_count': 0, 'num_ms1_scans': 430, 'num_ms2_scans': 1140}\n",
      "\n",
      "Episode 19 (265 chemicals)\n",
      "steps\t 500 \ttotal rewards\t 73.20129140669204\n",
      "steps\t 1000 \ttotal rewards\t 145.4008484965667\n",
      "steps\t 1500 \ttotal rewards\t 121.76751350641985\n",
      "Finished after 1584 timesteps (7.37488317489624 seconds) with total reward 105.7258679915602\n",
      "{'coverage_prop': '0.974', 'intensity_prop': '0.792', 'ms1ms2_ratio': '0.356', 'efficiency': '0.221', 'TP': '238', 'FP': '20', 'FN': '7', 'precision': '0.922', 'recall': '0.971', 'f1': '0.946', 'total_rewards': 105.72586799155994, 'invalid_action_count': 0, 'num_ms1_scans': 416, 'num_ms2_scans': 1168}\n",
      "\n",
      "Episode 20 (468 chemicals)\n",
      "steps\t 500 \ttotal rewards\t 102.1252713849995\n",
      "steps\t 1000 \ttotal rewards\t 113.10098206210336\n",
      "steps\t 1500 \ttotal rewards\t 122.40398586240755\n",
      "Finished after 1646 timesteps (9.880131244659424 seconds) with total reward 132.1382980774453\n",
      "{'coverage_prop': '0.861', 'intensity_prop': '0.669', 'ms1ms2_ratio': '0.274', 'efficiency': '0.312', 'TP': '360', 'FP': '43', 'FN': '65', 'precision': '0.893', 'recall': '0.847', 'f1': '0.870', 'total_rewards': 132.13829807744554, 'invalid_action_count': 0, 'num_ms1_scans': 354, 'num_ms2_scans': 1292}\n",
      "\n",
      "Episode 21 (234 chemicals)\n",
      "steps\t 500 \ttotal rewards\t 82.0681644151673\n",
      "steps\t 1000 \ttotal rewards\t 178.96846227569793\n",
      "Finished after 1433 timesteps (6.435883522033691 seconds) with total reward 228.6614802413051\n",
      "{'coverage_prop': '0.957', 'intensity_prop': '0.761', 'ms1ms2_ratio': '0.657', 'efficiency': '0.259', 'TP': '204', 'FP': '20', 'FN': '10', 'precision': '0.911', 'recall': '0.953', 'f1': '0.932', 'total_rewards': 228.661480241305, 'invalid_action_count': 0, 'num_ms1_scans': 568, 'num_ms2_scans': 865}\n",
      "\n",
      "Episode 22 (322 chemicals)\n",
      "steps\t 500 \ttotal rewards\t 71.39015463320771\n",
      "steps\t 1000 \ttotal rewards\t 155.09303493545187\n",
      "steps\t 1500 \ttotal rewards\t 177.78733990366578\n",
      "Finished after 1590 timesteps (7.416732549667358 seconds) with total reward 179.97030572266658\n",
      "{'coverage_prop': '0.963', 'intensity_prop': '0.766', 'ms1ms2_ratio': '0.349', 'efficiency': '0.263', 'TP': '287', 'FP': '23', 'FN': '12', 'precision': '0.926', 'recall': '0.960', 'f1': '0.943', 'total_rewards': 179.97030572266644, 'invalid_action_count': 0, 'num_ms1_scans': 411, 'num_ms2_scans': 1179}\n",
      "\n",
      "Episode 23 (310 chemicals)\n",
      "steps\t 500 \ttotal rewards\t 84.70601807878572\n",
      "steps\t 1000 \ttotal rewards\t 177.02422294905261\n",
      "steps\t 1500 \ttotal rewards\t 243.64445702771235\n",
      "Finished after 1526 timesteps (7.221996545791626 seconds) with total reward 246.2560176885827\n",
      "{'coverage_prop': '0.955', 'intensity_prop': '0.763', 'ms1ms2_ratio': '0.452', 'efficiency': '0.282', 'TP': '270', 'FP': '26', 'FN': '14', 'precision': '0.912', 'recall': '0.951', 'f1': '0.931', 'total_rewards': 246.2560176885826, 'invalid_action_count': 0, 'num_ms1_scans': 475, 'num_ms2_scans': 1051}\n",
      "\n",
      "Episode 24 (345 chemicals)\n",
      "steps\t 500 \ttotal rewards\t 94.2047248713349\n",
      "steps\t 1000 \ttotal rewards\t 197.88416256624288\n",
      "steps\t 1500 \ttotal rewards\t 187.4094560212768\n",
      "Finished after 1615 timesteps (7.7947001457214355 seconds) with total reward 192.55626903313163\n",
      "{'coverage_prop': '0.957', 'intensity_prop': '0.752', 'ms1ms2_ratio': '0.313', 'efficiency': '0.268', 'TP': '301', 'FP': '29', 'FN': '15', 'precision': '0.912', 'recall': '0.953', 'f1': '0.932', 'total_rewards': 192.55626903313157, 'invalid_action_count': 0, 'num_ms1_scans': 385, 'num_ms2_scans': 1230}\n",
      "\n",
      "Episode 25 (396 chemicals)\n",
      "steps\t 500 \ttotal rewards\t 99.85451217455554\n",
      "steps\t 1000 \ttotal rewards\t 195.27957299510564\n",
      "steps\t 1500 \ttotal rewards\t 288.364921862565\n",
      "Finished after 1613 timesteps (7.622027397155762 seconds) with total reward 300.17120535611707\n",
      "{'coverage_prop': '0.967', 'intensity_prop': '0.749', 'ms1ms2_ratio': '0.316', 'efficiency': '0.312', 'TP': '341', 'FP': '42', 'FN': '13', 'precision': '0.890', 'recall': '0.963', 'f1': '0.925', 'total_rewards': 300.17120535611656, 'invalid_action_count': 0, 'num_ms1_scans': 387, 'num_ms2_scans': 1226}\n",
      "\n",
      "Episode 26 (203 chemicals)\n",
      "steps\t 500 \ttotal rewards\t 24.333131481536846\n",
      "steps\t 1000 \ttotal rewards\t 128.61536405722836\n",
      "Finished after 1438 timesteps (7.517359018325806 seconds) with total reward 143.7149275679032\n",
      "{'coverage_prop': '0.970', 'intensity_prop': '0.780', 'ms1ms2_ratio': '0.643', 'efficiency': '0.225', 'TP': '181', 'FP': '16', 'FN': '6', 'precision': '0.919', 'recall': '0.968', 'f1': '0.943', 'total_rewards': 143.7149275679032, 'invalid_action_count': 0, 'num_ms1_scans': 563, 'num_ms2_scans': 875}\n",
      "\n",
      "Episode 27 (281 chemicals)\n",
      "steps\t 500 \ttotal rewards\t 70.02772397903182\n",
      "steps\t 1000 \ttotal rewards\t 162.87316767401717\n",
      "steps\t 1500 \ttotal rewards\t 263.3714619558626\n",
      "Finished after 1518 timesteps (6.573194742202759 seconds) with total reward 266.78842080657375\n",
      "{'coverage_prop': '0.961', 'intensity_prop': '0.791', 'ms1ms2_ratio': '0.465', 'efficiency': '0.261', 'TP': '249', 'FP': '21', 'FN': '11', 'precision': '0.922', 'recall': '0.958', 'f1': '0.940', 'total_rewards': 266.78842080657375, 'invalid_action_count': 0, 'num_ms1_scans': 482, 'num_ms2_scans': 1036}\n",
      "\n",
      "Episode 28 (493 chemicals)\n",
      "steps\t 500 \ttotal rewards\t 92.83990551927769\n",
      "steps\t 1000 \ttotal rewards\t 117.33426524872907\n",
      "steps\t 1500 \ttotal rewards\t 153.3228822419867\n",
      "Finished after 1668 timesteps (10.768163442611694 seconds) with total reward 158.30737283627502\n",
      "{'coverage_prop': '0.874', 'intensity_prop': '0.661', 'ms1ms2_ratio': '0.249', 'efficiency': '0.323', 'TP': '374', 'FP': '57', 'FN': '62', 'precision': '0.868', 'recall': '0.858', 'f1': '0.863', 'total_rewards': 158.30737283627488, 'invalid_action_count': 0, 'num_ms1_scans': 332, 'num_ms2_scans': 1336}\n",
      "\n",
      "Episode 29 (304 chemicals)\n",
      "steps\t 500 \ttotal rewards\t 71.12616479303443\n",
      "steps\t 1000 \ttotal rewards\t 111.71216795467002\n",
      "steps\t 1500 \ttotal rewards\t 97.29466149588512\n",
      "Finished after 1593 timesteps (7.314692258834839 seconds) with total reward 78.02072988608153\n",
      "{'coverage_prop': '0.964', 'intensity_prop': '0.789', 'ms1ms2_ratio': '0.343', 'efficiency': '0.247', 'TP': '270', 'FP': '23', 'FN': '11', 'precision': '0.922', 'recall': '0.961', 'f1': '0.941', 'total_rewards': 78.02072988608148, 'invalid_action_count': 0, 'num_ms1_scans': 407, 'num_ms2_scans': 1186}\n",
      "\n"
     ]
    }
   ],
   "source": [
    "method_eval_results = {}\n",
    "for method in methods:\n",
    "\n",
    "    N = 0\n",
    "    copy_params = copy.deepcopy(params)            \n",
    "    custom_objects = {\n",
    "        \"learning_rate\": 0.0,\n",
    "        \"lr_schedule\": lambda _: 0.0,\n",
    "        \"clip_range\": lambda _: 0.0,\n",
    "    }    \n",
    "    \n",
    "    model = None\n",
    "    if method == METHOD_TOPN:\n",
    "        N = topN_N\n",
    "        effective_rt_tol = topN_rt_tol\n",
    "        copy_params['env']['use_dew'] = True\n",
    "        copy_params['env']['rt_tol'] = effective_rt_tol                        \n",
    "\n",
    "    banner = 'method = %s max_peaks = %d N = %d rt_tol = %d' % (method, max_peaks, N, \n",
    "                                                                                   copy_params['env']['rt_tol'])\n",
    "    print(banner)\n",
    "    print()            \n",
    "            \n",
    "    episodic_results = run_method(env_name, copy_params, max_peaks, chem_list, method, out_dir, \n",
    "                                  N=N, min_ms1_intensity=min_ms1_intensity, model=model,\n",
    "                                  print_eval=True, print_reward=True, intensity_threshold=intensity_threshold,\n",
    "                                  mzml_prefix=method, horizon=horizon, valid_random=valid_random)\n",
    "    eval_results = [er.eval_res for er in episodic_results]\n",
    "    method_eval_results[method] = eval_results\n",
    "    print()"
   ]
  },
  {
   "cell_type": "markdown",
   "metadata": {},
   "source": [
    "#### DQN"
   ]
  },
  {
   "cell_type": "code",
   "execution_count": 16,
   "metadata": {
    "execution": {
     "iopub.execute_input": "2023-06-12T10:29:54.843290Z",
     "iopub.status.busy": "2023-06-12T10:29:54.843148Z",
     "iopub.status.idle": "2023-06-12T10:29:54.873434Z",
     "shell.execute_reply": "2023-06-12T10:29:54.873013Z",
     "shell.execute_reply.started": "2023-06-12T10:29:54.843272Z"
    }
   },
   "outputs": [
    {
     "data": {
      "text/plain": [
       "device(type='cpu')"
      ]
     },
     "execution_count": 16,
     "metadata": {},
     "output_type": "execute_result"
    }
   ],
   "source": [
    "device = torch.device(\"cpu\")\n",
    "device"
   ]
  },
  {
   "cell_type": "code",
   "execution_count": 17,
   "metadata": {
    "execution": {
     "iopub.execute_input": "2023-06-12T10:29:54.874105Z",
     "iopub.status.busy": "2023-06-12T10:29:54.873996Z",
     "iopub.status.idle": "2023-06-12T10:29:54.902255Z",
     "shell.execute_reply": "2023-06-12T10:29:54.901927Z",
     "shell.execute_reply.started": "2023-06-12T10:29:54.874091Z"
    }
   },
   "outputs": [
    {
     "data": {
      "text/plain": [
       "'DQN_1.0E6/DQN.model'"
      ]
     },
     "execution_count": 17,
     "metadata": {},
     "output_type": "execute_result"
    }
   ],
   "source": [
    "model_path = os.path.join(dqn_in_dir, 'DQN.model')\n",
    "model_path"
   ]
  },
  {
   "cell_type": "code",
   "execution_count": 18,
   "metadata": {
    "execution": {
     "iopub.execute_input": "2023-06-12T10:29:54.902996Z",
     "iopub.status.busy": "2023-06-12T10:29:54.902885Z",
     "iopub.status.idle": "2023-06-12T10:29:54.930431Z",
     "shell.execute_reply": "2023-06-12T10:29:54.929960Z",
     "shell.execute_reply.started": "2023-06-12T10:29:54.902981Z"
    }
   },
   "outputs": [],
   "source": [
    "env_id = 'DDAEnv'"
   ]
  },
  {
   "cell_type": "code",
   "execution_count": 19,
   "metadata": {
    "execution": {
     "iopub.execute_input": "2023-06-12T10:29:54.931960Z",
     "iopub.status.busy": "2023-06-12T10:29:54.931840Z",
     "iopub.status.idle": "2023-06-12T10:29:55.596864Z",
     "shell.execute_reply": "2023-06-12T10:29:55.596469Z",
     "shell.execute_reply.started": "2023-06-12T10:29:54.931945Z"
    }
   },
   "outputs": [
    {
     "name": "stderr",
     "output_type": "stream",
     "text": [
      "/opt/conda/lib/python3.8/site-packages/gymnasium/utils/passive_env_checker.py:42: UserWarning:\n",
      "\n",
      "\u001b[33mWARN: A Box observation space has an unconventional shape (neither an image, nor a 1D vector). We recommend flattening the observation to have only a 1D vector or use a custom policy to properly process the data. Actual observation shape: (30, 10)\u001b[0m\n",
      "\n",
      "/opt/conda/lib/python3.8/site-packages/gymnasium/utils/env_checker.py:317: UserWarning:\n",
      "\n",
      "\u001b[33mWARN: Not able to test alternative render modes due to the environment not having a spec. Try instantialising the environment through gymnasium.make\u001b[0m\n",
      "\n"
     ]
    },
    {
     "data": {
      "text/plain": [
       "QNetworkCNN(\n",
       "  (roi_network): Sequential(\n",
       "    (0): Conv1d(1, 32, kernel_size=(3,), stride=(1,))\n",
       "    (1): ReLU()\n",
       "    (2): MaxPool1d(kernel_size=2, stride=2, padding=0, dilation=1, ceil_mode=False)\n",
       "    (3): Conv1d(32, 64, kernel_size=(3,), stride=(1,))\n",
       "    (4): ReLU()\n",
       "    (5): MaxPool1d(kernel_size=2, stride=2, padding=0, dilation=1, ceil_mode=False)\n",
       "    (6): Flatten(start_dim=1, end_dim=-1)\n",
       "    (7): Linear(in_features=64, out_features=64, bias=True)\n",
       "    (8): ReLU()\n",
       "  )\n",
       "  (output_layer): Linear(in_features=2176, out_features=31, bias=True)\n",
       "  (other_network): Sequential(\n",
       "    (0): Linear(in_features=127, out_features=256, bias=True)\n",
       "    (1): ReLU()\n",
       "    (2): Linear(in_features=256, out_features=256, bias=True)\n",
       "    (3): ReLU()\n",
       "    (4): Linear(in_features=256, out_features=256, bias=True)\n",
       "    (5): ReLU()\n",
       "  )\n",
       ")"
      ]
     },
     "execution_count": 19,
     "metadata": {},
     "output_type": "execute_result"
    }
   ],
   "source": [
    "envs = gym.vector.SyncVectorEnv([make_env(env_id, 0, max_peaks, params)])\n",
    "model = get_QNetwork(QNETWORK_CNN, envs, device)\n",
    "model.load_state_dict(torch.load(model_path, map_location=device))\n",
    "model.eval()"
   ]
  },
  {
   "cell_type": "code",
   "execution_count": 20,
   "metadata": {
    "execution": {
     "iopub.execute_input": "2023-06-12T10:29:55.597631Z",
     "iopub.status.busy": "2023-06-12T10:29:55.597513Z",
     "iopub.status.idle": "2023-06-12T10:29:55.627059Z",
     "shell.execute_reply": "2023-06-12T10:29:55.626746Z",
     "shell.execute_reply.started": "2023-06-12T10:29:55.597617Z"
    }
   },
   "outputs": [
    {
     "data": {
      "text/plain": [
       "(30, 30)"
      ]
     },
     "execution_count": 20,
     "metadata": {},
     "output_type": "execute_result"
    }
   ],
   "source": [
    "eval_episodes = n_eval_episodes\n",
    "eval_episodes, len(chem_list)"
   ]
  },
  {
   "cell_type": "code",
   "execution_count": 21,
   "metadata": {
    "execution": {
     "iopub.execute_input": "2023-06-12T10:29:55.627909Z",
     "iopub.status.busy": "2023-06-12T10:29:55.627783Z",
     "iopub.status.idle": "2023-06-12T10:41:47.566164Z",
     "shell.execute_reply": "2023-06-12T10:41:47.565508Z",
     "shell.execute_reply.started": "2023-06-12T10:29:55.627894Z"
    }
   },
   "outputs": [
    {
     "name": "stdout",
     "output_type": "stream",
     "text": [
      "Episode 0 (426 chemicals) return 344.0444641113281 length 1811\n",
      "{'coverage_prop': '0.946', 'intensity_prop': '0.751', 'ms1ms2_ratio': '0.117', 'efficiency': '0.249', 'TP': '359', 'FP': '44', 'FN': '23', 'precision': '0.891', 'recall': '0.940', 'f1': '0.915', 'invalid_action_count': 0, 'total_rewards': 344.04446, 'episodic_length': 1811, 'num_ms1_scans': 190, 'num_ms2_scans': 1621}\n",
      "Episode 1 (262 chemicals) return 427.9465637207031 length 1728\n",
      "{'coverage_prop': '0.950', 'intensity_prop': '0.809', 'ms1ms2_ratio': '0.187', 'efficiency': '0.171', 'TP': '234', 'FP': '15', 'FN': '13', 'precision': '0.940', 'recall': '0.947', 'f1': '0.944', 'invalid_action_count': 0, 'total_rewards': 427.94656, 'episodic_length': 1728, 'num_ms1_scans': 272, 'num_ms2_scans': 1456}\n",
      "Episode 2 (394 chemicals) return 366.1473388671875 length 1782\n",
      "{'coverage_prop': '0.947', 'intensity_prop': '0.747', 'ms1ms2_ratio': '0.139', 'efficiency': '0.238', 'TP': '330', 'FP': '43', 'FN': '21', 'precision': '0.885', 'recall': '0.940', 'f1': '0.912', 'invalid_action_count': 0, 'total_rewards': 366.14734, 'episodic_length': 1782, 'num_ms1_scans': 218, 'num_ms2_scans': 1564}\n",
      "Episode 3 (452 chemicals) return 308.6174621582031 length 1823\n",
      "{'coverage_prop': '0.947', 'intensity_prop': '0.753', 'ms1ms2_ratio': '0.108', 'efficiency': '0.260', 'TP': '392', 'FP': '36', 'FN': '24', 'precision': '0.916', 'recall': '0.942', 'f1': '0.929', 'invalid_action_count': 0, 'total_rewards': 308.61746, 'episodic_length': 1823, 'num_ms1_scans': 177, 'num_ms2_scans': 1646}\n",
      "Episode 4 (437 chemicals) return 259.89862060546875 length 1789\n",
      "{'coverage_prop': '0.975', 'intensity_prop': '0.746', 'ms1ms2_ratio': '0.134', 'efficiency': '0.270', 'TP': '365', 'FP': '61', 'FN': '11', 'precision': '0.857', 'recall': '0.971', 'f1': '0.910', 'invalid_action_count': 0, 'total_rewards': 259.89862, 'episodic_length': 1789, 'num_ms1_scans': 211, 'num_ms2_scans': 1578}\n",
      "Episode 5 (200 chemicals) return 195.97406005859375 length 1654\n",
      "{'coverage_prop': '0.955', 'intensity_prop': '0.827', 'ms1ms2_ratio': '0.265', 'efficiency': '0.146', 'TP': '182', 'FP': '9', 'FN': '9', 'precision': '0.953', 'recall': '0.953', 'f1': '0.953', 'invalid_action_count': 0, 'total_rewards': 195.97406, 'episodic_length': 1654, 'num_ms1_scans': 347, 'num_ms2_scans': 1307}\n",
      "Episode 6 (478 chemicals) return 325.29803466796875 length 1796\n",
      "{'coverage_prop': '0.923', 'intensity_prop': '0.713', 'ms1ms2_ratio': '0.129', 'efficiency': '0.277', 'TP': '380', 'FP': '61', 'FN': '37', 'precision': '0.862', 'recall': '0.911', 'f1': '0.886', 'invalid_action_count': 0, 'total_rewards': 325.29803, 'episodic_length': 1796, 'num_ms1_scans': 205, 'num_ms2_scans': 1591}\n",
      "Episode 7 (204 chemicals) return 265.0760192871094 length 1655\n",
      "{'coverage_prop': '0.961', 'intensity_prop': '0.834', 'ms1ms2_ratio': '0.263', 'efficiency': '0.150', 'TP': '187', 'FP': '9', 'FN': '8', 'precision': '0.954', 'recall': '0.959', 'f1': '0.957', 'invalid_action_count': 0, 'total_rewards': 265.07602, 'episodic_length': 1655, 'num_ms1_scans': 345, 'num_ms2_scans': 1310}\n",
      "Episode 8 (424 chemicals) return 427.20684814453125 length 1808\n",
      "{'coverage_prop': '0.941', 'intensity_prop': '0.744', 'ms1ms2_ratio': '0.119', 'efficiency': '0.247', 'TP': '356', 'FP': '43', 'FN': '25', 'precision': '0.892', 'recall': '0.934', 'f1': '0.913', 'invalid_action_count': 0, 'total_rewards': 427.20685, 'episodic_length': 1808, 'num_ms1_scans': 192, 'num_ms2_scans': 1616}\n",
      "Episode 9 (384 chemicals) return 314.7635192871094 length 1788\n",
      "{'coverage_prop': '0.945', 'intensity_prop': '0.761', 'ms1ms2_ratio': '0.135', 'efficiency': '0.230', 'TP': '322', 'FP': '41', 'FN': '21', 'precision': '0.887', 'recall': '0.939', 'f1': '0.912', 'invalid_action_count': 0, 'total_rewards': 314.76352, 'episodic_length': 1788, 'num_ms1_scans': 212, 'num_ms2_scans': 1576}\n",
      "Episode 10 (443 chemicals) return 389.2572937011719 length 1823\n",
      "{'coverage_prop': '0.939', 'intensity_prop': '0.752', 'ms1ms2_ratio': '0.108', 'efficiency': '0.253', 'TP': '378', 'FP': '38', 'FN': '27', 'precision': '0.909', 'recall': '0.933', 'f1': '0.921', 'invalid_action_count': 0, 'total_rewards': 389.2573, 'episodic_length': 1823, 'num_ms1_scans': 177, 'num_ms2_scans': 1646}\n",
      "Episode 11 (249 chemicals) return 275.1896667480469 length 1708\n",
      "{'coverage_prop': '0.952', 'intensity_prop': '0.816', 'ms1ms2_ratio': '0.206', 'efficiency': '0.167', 'TP': '227', 'FP': '10', 'FN': '12', 'precision': '0.958', 'recall': '0.950', 'f1': '0.954', 'invalid_action_count': 0, 'total_rewards': 275.18967, 'episodic_length': 1708, 'num_ms1_scans': 292, 'num_ms2_scans': 1416}\n",
      "Episode 12 (251 chemicals) return 305.8636474609375 length 1650\n",
      "{'coverage_prop': '0.944', 'intensity_prop': '0.776', 'ms1ms2_ratio': '0.270', 'efficiency': '0.182', 'TP': '215', 'FP': '22', 'FN': '14', 'precision': '0.907', 'recall': '0.939', 'f1': '0.923', 'invalid_action_count': 0, 'total_rewards': 305.86365, 'episodic_length': 1650, 'num_ms1_scans': 351, 'num_ms2_scans': 1299}\n",
      "Episode 13 (300 chemicals) return 209.41854858398438 length 1727\n",
      "{'coverage_prop': '0.947', 'intensity_prop': '0.767', 'ms1ms2_ratio': '0.189', 'efficiency': '0.195', 'TP': '255', 'FP': '29', 'FN': '16', 'precision': '0.898', 'recall': '0.941', 'f1': '0.919', 'invalid_action_count': 0, 'total_rewards': 209.41855, 'episodic_length': 1727, 'num_ms1_scans': 274, 'num_ms2_scans': 1453}\n",
      "Episode 14 (206 chemicals) return 240.87098693847656 length 1655\n",
      "{'coverage_prop': '0.942', 'intensity_prop': '0.795', 'ms1ms2_ratio': '0.263', 'efficiency': '0.148', 'TP': '180', 'FP': '14', 'FN': '12', 'precision': '0.928', 'recall': '0.938', 'f1': '0.933', 'invalid_action_count': 0, 'total_rewards': 240.87099, 'episodic_length': 1655, 'num_ms1_scans': 345, 'num_ms2_scans': 1310}\n",
      "Episode 15 (407 chemicals) return 316.8740234375 length 1772\n",
      "{'coverage_prop': '0.951', 'intensity_prop': '0.767', 'ms1ms2_ratio': '0.148', 'efficiency': '0.251', 'TP': '348', 'FP': '39', 'FN': '20', 'precision': '0.899', 'recall': '0.946', 'f1': '0.922', 'invalid_action_count': 0, 'total_rewards': 316.87402, 'episodic_length': 1772, 'num_ms1_scans': 228, 'num_ms2_scans': 1544}\n",
      "Episode 16 (498 chemicals) return 359.56231689453125 length 1822\n",
      "{'coverage_prop': '0.956', 'intensity_prop': '0.754', 'ms1ms2_ratio': '0.109', 'efficiency': '0.290', 'TP': '427', 'FP': '49', 'FN': '22', 'precision': '0.897', 'recall': '0.951', 'f1': '0.923', 'invalid_action_count': 0, 'total_rewards': 359.56232, 'episodic_length': 1822, 'num_ms1_scans': 179, 'num_ms2_scans': 1643}\n",
      "Episode 17 (372 chemicals) return 348.703125 length 1791\n",
      "{'coverage_prop': '0.957', 'intensity_prop': '0.769', 'ms1ms2_ratio': '0.132', 'efficiency': '0.225', 'TP': '315', 'FP': '41', 'FN': '16', 'precision': '0.885', 'recall': '0.952', 'f1': '0.917', 'invalid_action_count': 0, 'total_rewards': 348.70312, 'episodic_length': 1791, 'num_ms1_scans': 209, 'num_ms2_scans': 1582}\n",
      "Episode 18 (302 chemicals) return 420.00787353515625 length 1714\n",
      "{'coverage_prop': '0.954', 'intensity_prop': '0.787', 'ms1ms2_ratio': '0.200', 'efficiency': '0.202', 'TP': '263', 'FP': '25', 'FN': '14', 'precision': '0.913', 'recall': '0.949', 'f1': '0.931', 'invalid_action_count': 0, 'total_rewards': 420.00787, 'episodic_length': 1714, 'num_ms1_scans': 286, 'num_ms2_scans': 1428}\n",
      "Episode 19 (265 chemicals) return 390.1956787109375 length 1674\n",
      "{'coverage_prop': '0.970', 'intensity_prop': '0.798', 'ms1ms2_ratio': '0.243', 'efficiency': '0.191', 'TP': '236', 'FP': '21', 'FN': '8', 'precision': '0.918', 'recall': '0.967', 'f1': '0.942', 'invalid_action_count': 0, 'total_rewards': 390.19568, 'episodic_length': 1674, 'num_ms1_scans': 327, 'num_ms2_scans': 1347}\n",
      "Episode 20 (468 chemicals) return 284.5355224609375 length 1807\n",
      "{'coverage_prop': '0.917', 'intensity_prop': '0.725', 'ms1ms2_ratio': '0.120', 'efficiency': '0.266', 'TP': '378', 'FP': '51', 'FN': '39', 'precision': '0.881', 'recall': '0.906', 'f1': '0.894', 'invalid_action_count': 0, 'total_rewards': 284.53552, 'episodic_length': 1807, 'num_ms1_scans': 193, 'num_ms2_scans': 1614}\n",
      "Episode 21 (234 chemicals) return 365.4527893066406 length 1668\n",
      "{'coverage_prop': '0.944', 'intensity_prop': '0.804', 'ms1ms2_ratio': '0.249', 'efficiency': '0.165', 'TP': '204', 'FP': '17', 'FN': '13', 'precision': '0.923', 'recall': '0.940', 'f1': '0.932', 'invalid_action_count': 0, 'total_rewards': 365.4528, 'episodic_length': 1668, 'num_ms1_scans': 332, 'num_ms2_scans': 1336}\n",
      "Episode 22 (322 chemicals) return 280.48553466796875 length 1742\n",
      "{'coverage_prop': '0.947', 'intensity_prop': '0.779', 'ms1ms2_ratio': '0.174', 'efficiency': '0.206', 'TP': '275', 'FP': '30', 'FN': '17', 'precision': '0.902', 'recall': '0.942', 'f1': '0.921', 'invalid_action_count': 0, 'total_rewards': 280.48553, 'episodic_length': 1742, 'num_ms1_scans': 258, 'num_ms2_scans': 1484}\n",
      "Episode 23 (310 chemicals) return 350.78564453125 length 1722\n",
      "{'coverage_prop': '0.948', 'intensity_prop': '0.769', 'ms1ms2_ratio': '0.193', 'efficiency': '0.204', 'TP': '265', 'FP': '29', 'FN': '16', 'precision': '0.901', 'recall': '0.943', 'f1': '0.922', 'invalid_action_count': 0, 'total_rewards': 350.78564, 'episodic_length': 1722, 'num_ms1_scans': 279, 'num_ms2_scans': 1443}\n",
      "Episode 24 (345 chemicals) return 431.83782958984375 length 1777\n",
      "{'coverage_prop': '0.977', 'intensity_prop': '0.779', 'ms1ms2_ratio': '0.144', 'efficiency': '0.217', 'TP': '305', 'FP': '32', 'FN': '8', 'precision': '0.905', 'recall': '0.974', 'f1': '0.938', 'invalid_action_count': 0, 'total_rewards': 431.83783, 'episodic_length': 1777, 'num_ms1_scans': 224, 'num_ms2_scans': 1553}\n",
      "Episode 25 (396 chemicals) return 385.4917907714844 length 1799\n",
      "{'coverage_prop': '0.960', 'intensity_prop': '0.765', 'ms1ms2_ratio': '0.126', 'efficiency': '0.238', 'TP': '340', 'FP': '40', 'FN': '16', 'precision': '0.895', 'recall': '0.955', 'f1': '0.924', 'invalid_action_count': 0, 'total_rewards': 385.4918, 'episodic_length': 1799, 'num_ms1_scans': 201, 'num_ms2_scans': 1598}\n",
      "Episode 26 (203 chemicals) return 223.8091278076172 length 1652\n",
      "{'coverage_prop': '0.946', 'intensity_prop': '0.824', 'ms1ms2_ratio': '0.267', 'efficiency': '0.147', 'TP': '186', 'FP': '6', 'FN': '11', 'precision': '0.969', 'recall': '0.944', 'f1': '0.956', 'invalid_action_count': 0, 'total_rewards': 223.80913, 'episodic_length': 1652, 'num_ms1_scans': 348, 'num_ms2_scans': 1304}\n",
      "Episode 27 (281 chemicals) return 343.10748291015625 length 1734\n",
      "{'coverage_prop': '0.961', 'intensity_prop': '0.808', 'ms1ms2_ratio': '0.181', 'efficiency': '0.184', 'TP': '251', 'FP': '19', 'FN': '11', 'precision': '0.930', 'recall': '0.958', 'f1': '0.944', 'invalid_action_count': 0, 'total_rewards': 343.10748, 'episodic_length': 1734, 'num_ms1_scans': 266, 'num_ms2_scans': 1468}\n",
      "Episode 28 (493 chemicals) return 312.93927001953125 length 1835\n",
      "{'coverage_prop': '0.917', 'intensity_prop': '0.694', 'ms1ms2_ratio': '0.099', 'efficiency': '0.271', 'TP': '388', 'FP': '64', 'FN': '41', 'precision': '0.858', 'recall': '0.904', 'f1': '0.881', 'invalid_action_count': 0, 'total_rewards': 312.93927, 'episodic_length': 1835, 'num_ms1_scans': 165, 'num_ms2_scans': 1670}\n",
      "Episode 29 (304 chemicals) return 222.7786865234375 length 1741\n",
      "{'coverage_prop': '0.954', 'intensity_prop': '0.802', 'ms1ms2_ratio': '0.175', 'efficiency': '0.196', 'TP': '273', 'FP': '17', 'FN': '14', 'precision': '0.941', 'recall': '0.951', 'f1': '0.946', 'invalid_action_count': 0, 'total_rewards': 222.77869, 'episodic_length': 1741, 'num_ms1_scans': 259, 'num_ms2_scans': 1482}\n"
     ]
    }
   ],
   "source": [
    "episodic_returns = []\n",
    "evaluation_results = []\n",
    "for i in range(len(chem_list)):\n",
    "    if i >= eval_episodes:\n",
    "        break\n",
    "\n",
    "    chems = chem_list[i]\n",
    "\n",
    "    obs, info = envs.reset(options={'chems': chems})\n",
    "    done = False\n",
    "    eval_data = None\n",
    "    while not done:\n",
    "        env = envs.envs[0].env\n",
    "        actions = masked_epsilon_greedy(device, max_peaks, None, obs, model,\n",
    "                                        deterministic=True)\n",
    "\n",
    "        next_obs, rewards, terminateds, truncateds, infos = envs.step(actions)\n",
    "        dones = terminateds\n",
    "\n",
    "        if 'final_info' in infos:\n",
    "            final_infos = infos['final_info']\n",
    "            assert len(final_infos) == 1\n",
    "            info = final_infos[0]\n",
    "            episodic_return = info['episode']['r'][0]\n",
    "            episodic_length = info['episode']['l'][0]\n",
    "\n",
    "            eval_res = evaluate(eval_data)\n",
    "            eval_res['invalid_action_count'] = env.invalid_action_count\n",
    "            eval_res['total_rewards'] = episodic_return\n",
    "            eval_res['episodic_length'] = episodic_length\n",
    "            eval_res['num_ms1_scans'] = len(eval_data.controller.scans[1])\n",
    "            eval_res['num_ms2_scans'] = len(eval_data.controller.scans[2])\n",
    "            evaluation_results.append(eval_res)\n",
    "\n",
    "            print(\n",
    "                f'Episode {i} ({len(chems)} chemicals) return {episodic_return} length {episodic_length}')\n",
    "            print(eval_res)\n",
    "\n",
    "            episodic_returns += [episodic_return]\n",
    "            \n",
    "            mzml_name = METHOD_DQN\n",
    "            out_file = '%s_%d.mzML' % (mzml_name, i)\n",
    "            vimms_env.write_mzML(out_dir, out_file)            \n",
    "\n",
    "        obs = next_obs\n",
    "        done = dones[0]\n",
    "\n",
    "        # store previous results for evaluation before 'done'\n",
    "        # this needs to be here, because VecEnv is automatically reset when done\n",
    "        vimms_env = env.env.vimms_env\n",
    "        eval_data = EvaluationData(vimms_env)"
   ]
  },
  {
   "cell_type": "code",
   "execution_count": 22,
   "metadata": {
    "execution": {
     "iopub.execute_input": "2023-06-12T10:41:47.567785Z",
     "iopub.status.busy": "2023-06-12T10:41:47.567230Z",
     "iopub.status.idle": "2023-06-12T10:41:47.599582Z",
     "shell.execute_reply": "2023-06-12T10:41:47.599015Z",
     "shell.execute_reply.started": "2023-06-12T10:41:47.567762Z"
    }
   },
   "outputs": [],
   "source": [
    "method_eval_results[METHOD_DQN] = evaluation_results"
   ]
  },
  {
   "cell_type": "markdown",
   "metadata": {},
   "source": [
    "#### Test classic controllers in ViMMS"
   ]
  },
  {
   "cell_type": "code",
   "execution_count": 23,
   "metadata": {
    "execution": {
     "iopub.execute_input": "2023-06-12T10:41:47.600971Z",
     "iopub.status.busy": "2023-06-12T10:41:47.600821Z",
     "iopub.status.idle": "2023-06-12T10:41:47.632695Z",
     "shell.execute_reply": "2023-06-12T10:41:47.632160Z",
     "shell.execute_reply.started": "2023-06-12T10:41:47.600954Z"
    }
   },
   "outputs": [],
   "source": [
    "from vimms.MassSpec import IndependentMassSpectrometer\n",
    "from vimms.Controller import TopNController, TopN_SmartRoiController, WeightedDEWController\n",
    "from vimms.Environment import Environment"
   ]
  },
  {
   "cell_type": "markdown",
   "metadata": {},
   "source": [
    "Run Top-N Controller"
   ]
  },
  {
   "cell_type": "code",
   "execution_count": 24,
   "metadata": {
    "execution": {
     "iopub.execute_input": "2023-06-12T10:41:47.633651Z",
     "iopub.status.busy": "2023-06-12T10:41:47.633514Z",
     "iopub.status.idle": "2023-06-12T10:41:47.666335Z",
     "shell.execute_reply": "2023-06-12T10:41:47.665883Z",
     "shell.execute_reply.started": "2023-06-12T10:41:47.633634Z"
    }
   },
   "outputs": [
    {
     "data": {
      "text/plain": [
       "{'chemical_creator': {'mz_range': (100, 600),\n",
       "  'rt_range': (400, 800),\n",
       "  'intensity_range': (10000.0, 1e+20),\n",
       "  'n_chemicals': (200, 500),\n",
       "  'mz_sampler': <vimms.ChemicalSamplers.MZMLFormulaSampler at 0x7f4da380ebe0>,\n",
       "  'ri_sampler': <vimms.ChemicalSamplers.MZMLRTandIntensitySampler at 0x7f4cf3ff2070>,\n",
       "  'cr_sampler': <vimms.ChemicalSamplers.MZMLChromatogramSampler at 0x7f4cf3fa5490>},\n",
       " 'noise': {'enable_spike_noise': True,\n",
       "  'noise_density': 0.1,\n",
       "  'noise_max_val': 1000.0,\n",
       "  'mz_range': (100, 600)},\n",
       " 'env': {'ionisation_mode': 'Positive',\n",
       "  'rt_range': (400, 800),\n",
       "  'isolation_window': 0.7,\n",
       "  'use_dew': False,\n",
       "  'mz_tol': 10,\n",
       "  'rt_tol': 5,\n",
       "  'min_ms1_intensity': 5000,\n",
       "  'alpha': 0.25,\n",
       "  'beta': 0.5}}"
      ]
     },
     "execution_count": 24,
     "metadata": {},
     "output_type": "execute_result"
    }
   ],
   "source": [
    "params"
   ]
  },
  {
   "cell_type": "code",
   "execution_count": 25,
   "metadata": {
    "execution": {
     "iopub.execute_input": "2023-06-12T10:41:47.667374Z",
     "iopub.status.busy": "2023-06-12T10:41:47.667076Z",
     "iopub.status.idle": "2023-06-12T10:41:47.697429Z",
     "shell.execute_reply": "2023-06-12T10:41:47.696913Z",
     "shell.execute_reply.started": "2023-06-12T10:41:47.667350Z"
    }
   },
   "outputs": [],
   "source": [
    "enable_spike_noise = params['noise']['enable_spike_noise']\n",
    "ionisation_mode = params['env']['ionisation_mode']\n",
    "isolation_window = params['env']['isolation_window']\n",
    "mz_tol = params['env']['mz_tol']\n",
    "rt_range = params['chemical_creator']['rt_range']"
   ]
  },
  {
   "cell_type": "code",
   "execution_count": 26,
   "metadata": {
    "execution": {
     "iopub.execute_input": "2023-06-12T10:41:47.698235Z",
     "iopub.status.busy": "2023-06-12T10:41:47.698108Z",
     "iopub.status.idle": "2023-06-12T10:44:32.916461Z",
     "shell.execute_reply": "2023-06-12T10:44:32.915826Z",
     "shell.execute_reply.started": "2023-06-12T10:41:47.698219Z"
    }
   },
   "outputs": [
    {
     "name": "stdout",
     "output_type": "stream",
     "text": [
      "method = TopN_Controller\n",
      "\n",
      "Episode 0 finished\n",
      "{'coverage_prop': '0.960', 'intensity_prop': '0.746', 'ms1ms2_ratio': '0.215', 'efficiency': '0.293', 'TP': '366', 'FP': '43', 'FN': '17', 'precision': '0.895', 'recall': '0.956', 'f1': '0.924'}\n",
      "\n",
      "Episode 1 finished\n",
      "{'coverage_prop': '0.962', 'intensity_prop': '0.791', 'ms1ms2_ratio': '0.442', 'efficiency': '0.237', 'TP': '236', 'FP': '16', 'FN': '10', 'precision': '0.937', 'recall': '0.959', 'f1': '0.948'}\n",
      "\n",
      "Episode 2 finished\n",
      "{'coverage_prop': '0.970', 'intensity_prop': '0.750', 'ms1ms2_ratio': '0.273', 'efficiency': '0.295', 'TP': '344', 'FP': '38', 'FN': '12', 'precision': '0.901', 'recall': '0.966', 'f1': '0.932'}\n",
      "\n",
      "Episode 3 finished\n",
      "{'coverage_prop': '0.956', 'intensity_prop': '0.758', 'ms1ms2_ratio': '0.226', 'efficiency': '0.313', 'TP': '395', 'FP': '37', 'FN': '20', 'precision': '0.914', 'recall': '0.952', 'f1': '0.933'}\n",
      "\n",
      "Episode 4 finished\n",
      "{'coverage_prop': '0.975', 'intensity_prop': '0.759', 'ms1ms2_ratio': '0.234', 'efficiency': '0.313', 'TP': '384', 'FP': '42', 'FN': '11', 'precision': '0.901', 'recall': '0.972', 'f1': '0.935'}\n",
      "\n",
      "Episode 5 finished\n",
      "{'coverage_prop': '0.960', 'intensity_prop': '0.788', 'ms1ms2_ratio': '0.791', 'efficiency': '0.248', 'TP': '182', 'FP': '10', 'FN': '8', 'precision': '0.948', 'recall': '0.958', 'f1': '0.953'}\n",
      "\n",
      "Episode 6 finished\n",
      "{'coverage_prop': '0.929', 'intensity_prop': '0.724', 'ms1ms2_ratio': '0.193', 'efficiency': '0.307', 'TP': '394', 'FP': '50', 'FN': '34', 'precision': '0.887', 'recall': '0.921', 'f1': '0.904'}\n",
      "\n",
      "Episode 7 finished\n",
      "{'coverage_prop': '0.961', 'intensity_prop': '0.789', 'ms1ms2_ratio': '0.620', 'efficiency': '0.219', 'TP': '186', 'FP': '10', 'FN': '8', 'precision': '0.949', 'recall': '0.959', 'f1': '0.954'}\n",
      "\n",
      "Episode 8 finished\n",
      "{'coverage_prop': '0.948', 'intensity_prop': '0.744', 'ms1ms2_ratio': '0.208', 'efficiency': '0.285', 'TP': '369', 'FP': '33', 'FN': '22', 'precision': '0.918', 'recall': '0.944', 'f1': '0.931'}\n",
      "\n",
      "Episode 9 finished\n",
      "{'coverage_prop': '0.964', 'intensity_prop': '0.762', 'ms1ms2_ratio': '0.276', 'efficiency': '0.287', 'TP': '333', 'FP': '37', 'FN': '14', 'precision': '0.900', 'recall': '0.960', 'f1': '0.929'}\n",
      "\n",
      "Episode 10 finished\n",
      "{'coverage_prop': '0.953', 'intensity_prop': '0.759', 'ms1ms2_ratio': '0.191', 'efficiency': '0.292', 'TP': '387', 'FP': '35', 'FN': '21', 'precision': '0.917', 'recall': '0.949', 'f1': '0.933'}\n",
      "\n",
      "Episode 11 finished\n",
      "{'coverage_prop': '0.960', 'intensity_prop': '0.783', 'ms1ms2_ratio': '0.500', 'efficiency': '0.239', 'TP': '225', 'FP': '14', 'FN': '10', 'precision': '0.941', 'recall': '0.957', 'f1': '0.949'}\n",
      "\n",
      "Episode 12 finished\n",
      "{'coverage_prop': '0.948', 'intensity_prop': '0.746', 'ms1ms2_ratio': '0.368', 'efficiency': '0.207', 'TP': '216', 'FP': '22', 'FN': '13', 'precision': '0.908', 'recall': '0.943', 'f1': '0.925'}\n",
      "\n",
      "Episode 13 finished\n",
      "{'coverage_prop': '0.967', 'intensity_prop': '0.764', 'ms1ms2_ratio': '0.300', 'efficiency': '0.232', 'TP': '263', 'FP': '27', 'FN': '10', 'precision': '0.907', 'recall': '0.963', 'f1': '0.934'}\n",
      "\n",
      "Episode 14 finished\n",
      "{'coverage_prop': '0.956', 'intensity_prop': '0.768', 'ms1ms2_ratio': '0.559', 'efficiency': '0.209', 'TP': '180', 'FP': '17', 'FN': '9', 'precision': '0.914', 'recall': '0.952', 'f1': '0.933'}\n",
      "\n",
      "Episode 15 finished\n",
      "{'coverage_prop': '0.971', 'intensity_prop': '0.779', 'ms1ms2_ratio': '0.298', 'efficiency': '0.315', 'TP': '365', 'FP': '30', 'FN': '12', 'precision': '0.924', 'recall': '0.968', 'f1': '0.946'}\n",
      "\n",
      "Episode 16 finished\n",
      "{'coverage_prop': '0.962', 'intensity_prop': '0.758', 'ms1ms2_ratio': '0.201', 'efficiency': '0.336', 'TP': '437', 'FP': '42', 'FN': '19', 'precision': '0.912', 'recall': '0.958', 'f1': '0.935'}\n",
      "\n",
      "Episode 17 finished\n",
      "{'coverage_prop': '0.962', 'intensity_prop': '0.777', 'ms1ms2_ratio': '0.262', 'efficiency': '0.273', 'TP': '332', 'FP': '26', 'FN': '14', 'precision': '0.927', 'recall': '0.960', 'f1': '0.943'}\n",
      "\n",
      "Episode 18 finished\n",
      "{'coverage_prop': '0.967', 'intensity_prop': '0.767', 'ms1ms2_ratio': '0.356', 'efficiency': '0.250', 'TP': '268', 'FP': '24', 'FN': '10', 'precision': '0.918', 'recall': '0.964', 'f1': '0.940'}\n",
      "\n",
      "Episode 19 finished\n",
      "{'coverage_prop': '0.977', 'intensity_prop': '0.795', 'ms1ms2_ratio': '0.326', 'efficiency': '0.214', 'TP': '242', 'FP': '17', 'FN': '6', 'precision': '0.934', 'recall': '0.976', 'f1': '0.955'}\n",
      "\n",
      "Episode 20 finished\n",
      "{'coverage_prop': '0.921', 'intensity_prop': '0.731', 'ms1ms2_ratio': '0.209', 'efficiency': '0.306', 'TP': '397', 'FP': '34', 'FN': '37', 'precision': '0.921', 'recall': '0.915', 'f1': '0.918'}\n",
      "\n",
      "Episode 21 finished\n",
      "{'coverage_prop': '0.957', 'intensity_prop': '0.760', 'ms1ms2_ratio': '0.633', 'efficiency': '0.254', 'TP': '202', 'FP': '22', 'FN': '10', 'precision': '0.902', 'recall': '0.953', 'f1': '0.927'}\n",
      "\n",
      "Episode 22 finished\n",
      "{'coverage_prop': '0.966', 'intensity_prop': '0.770', 'ms1ms2_ratio': '0.322', 'efficiency': '0.256', 'TP': '291', 'FP': '20', 'FN': '11', 'precision': '0.936', 'recall': '0.964', 'f1': '0.949'}\n",
      "\n",
      "Episode 23 finished\n",
      "{'coverage_prop': '0.948', 'intensity_prop': '0.766', 'ms1ms2_ratio': '0.420', 'efficiency': '0.270', 'TP': '272', 'FP': '22', 'FN': '16', 'precision': '0.925', 'recall': '0.944', 'f1': '0.935'}\n",
      "\n",
      "Episode 24 finished\n",
      "{'coverage_prop': '0.983', 'intensity_prop': '0.786', 'ms1ms2_ratio': '0.261', 'efficiency': '0.258', 'TP': '315', 'FP': '24', 'FN': '6', 'precision': '0.929', 'recall': '0.981', 'f1': '0.955'}\n",
      "\n",
      "Episode 25 finished\n",
      "{'coverage_prop': '0.980', 'intensity_prop': '0.773', 'ms1ms2_ratio': '0.270', 'efficiency': '0.299', 'TP': '354', 'FP': '34', 'FN': '8', 'precision': '0.912', 'recall': '0.978', 'f1': '0.944'}\n",
      "\n",
      "Episode 26 finished\n",
      "{'coverage_prop': '0.970', 'intensity_prop': '0.786', 'ms1ms2_ratio': '0.651', 'efficiency': '0.227', 'TP': '183', 'FP': '14', 'FN': '6', 'precision': '0.929', 'recall': '0.968', 'f1': '0.948'}\n",
      "\n",
      "Episode 27 finished\n",
      "{'coverage_prop': '0.968', 'intensity_prop': '0.795', 'ms1ms2_ratio': '0.449', 'efficiency': '0.258', 'TP': '253', 'FP': '19', 'FN': '9', 'precision': '0.930', 'recall': '0.966', 'f1': '0.948'}\n",
      "\n",
      "Episode 28 finished\n",
      "{'coverage_prop': '0.933', 'intensity_prop': '0.708', 'ms1ms2_ratio': '0.186', 'efficiency': '0.316', 'TP': '405', 'FP': '55', 'FN': '33', 'precision': '0.880', 'recall': '0.925', 'f1': '0.902'}\n",
      "\n",
      "Episode 29 finished\n",
      "{'coverage_prop': '0.967', 'intensity_prop': '0.794', 'ms1ms2_ratio': '0.317', 'efficiency': '0.240', 'TP': '275', 'FP': '19', 'FN': '10', 'precision': '0.935', 'recall': '0.965', 'f1': '0.950'}\n",
      "\n"
     ]
    }
   ],
   "source": [
    "method = 'TopN_Controller'\n",
    "print('method = %s' % method)\n",
    "print()\n",
    "\n",
    "effective_rt_tol = topN_rt_tol\n",
    "effective_N = topN_N\n",
    "eval_results = []\n",
    "for i in range(len(chem_list)):\n",
    "    \n",
    "    spike_noise = None\n",
    "    if enable_spike_noise:\n",
    "        noise_params = params['noise']\n",
    "        noise_density = noise_params['noise_density']\n",
    "        noise_max_val = noise_params['noise_max_val']\n",
    "        noise_min_mz = noise_params['mz_range'][0]\n",
    "        noise_max_mz = noise_params['mz_range'][1]\n",
    "        spike_noise = UniformSpikeNoise(noise_density, noise_max_val, min_mz=noise_min_mz,\n",
    "                                        max_mz=noise_max_mz)\n",
    "\n",
    "    chems = chem_list[i]\n",
    "    mass_spec = IndependentMassSpectrometer(ionisation_mode, chems, spike_noise=spike_noise)\n",
    "    controller = TopNController(ionisation_mode, effective_N, isolation_window, mz_tol, effective_rt_tol,\n",
    "                                min_ms1_intensity)\n",
    "    env = Environment(mass_spec, controller, rt_range[0], rt_range[1], progress_bar=False, out_dir=out_dir,\n",
    "                      out_file='%s_%d.mzML' % (method, i), save_eval=True)\n",
    "    env.run()\n",
    "    \n",
    "    eval_res = evaluate(env, intensity_threshold)\n",
    "    # eval_res['total_rewards'] = 0\n",
    "    eval_results.append(eval_res)\n",
    "    print('Episode %d finished' % i)\n",
    "    print(eval_res)\n",
    "    print()\n",
    "    \n",
    "method_eval_results[method] = eval_results"
   ]
  },
  {
   "cell_type": "markdown",
   "metadata": {},
   "source": [
    "Run SmartROI Controller"
   ]
  },
  {
   "cell_type": "code",
   "execution_count": 27,
   "metadata": {
    "execution": {
     "iopub.execute_input": "2023-06-12T10:44:32.917386Z",
     "iopub.status.busy": "2023-06-12T10:44:32.917253Z",
     "iopub.status.idle": "2023-06-12T10:44:32.951546Z",
     "shell.execute_reply": "2023-06-12T10:44:32.950880Z",
     "shell.execute_reply.started": "2023-06-12T10:44:32.917370Z"
    }
   },
   "outputs": [
    {
     "data": {
      "text/plain": [
       "(10, 5, 2, 0.5, 0)"
      ]
     },
     "execution_count": 27,
     "metadata": {},
     "output_type": "execute_result"
    }
   ],
   "source": [
    "smartroi_N, smartroi_dew, alpha, beta, ils"
   ]
  },
  {
   "cell_type": "code",
   "execution_count": 28,
   "metadata": {
    "execution": {
     "iopub.execute_input": "2023-06-12T10:44:32.952699Z",
     "iopub.status.busy": "2023-06-12T10:44:32.952547Z",
     "iopub.status.idle": "2023-06-12T10:48:07.852414Z",
     "shell.execute_reply": "2023-06-12T10:48:07.851942Z",
     "shell.execute_reply.started": "2023-06-12T10:44:32.952681Z"
    }
   },
   "outputs": [
    {
     "name": "stdout",
     "output_type": "stream",
     "text": [
      "method = SmartROI_Controller\n",
      "\n",
      "Episode 0 finished\n",
      "{'coverage_prop': '0.977', 'intensity_prop': '0.709', 'ms1ms2_ratio': '0.792', 'efficiency': '0.537', 'TP': '360', 'FP': '56', 'FN': '10', 'precision': '0.865', 'recall': '0.973', 'f1': '0.916'}\n",
      "\n",
      "Episode 1 finished\n",
      "{'coverage_prop': '0.962', 'intensity_prop': '0.714', 'ms1ms2_ratio': '1.497', 'efficiency': '0.503', 'TP': '223', 'FP': '29', 'FN': '10', 'precision': '0.885', 'recall': '0.957', 'f1': '0.920'}\n",
      "\n",
      "Episode 2 finished\n",
      "{'coverage_prop': '0.970', 'intensity_prop': '0.706', 'ms1ms2_ratio': '0.851', 'efficiency': '0.516', 'TP': '324', 'FP': '58', 'FN': '12', 'precision': '0.848', 'recall': '0.964', 'f1': '0.903'}\n",
      "\n",
      "Episode 3 finished\n",
      "{'coverage_prop': '0.973', 'intensity_prop': '0.714', 'ms1ms2_ratio': '0.746', 'efficiency': '0.548', 'TP': '377', 'FP': '63', 'FN': '12', 'precision': '0.857', 'recall': '0.969', 'f1': '0.910'}\n",
      "\n",
      "Episode 4 finished\n",
      "{'coverage_prop': '0.991', 'intensity_prop': '0.723', 'ms1ms2_ratio': '0.779', 'efficiency': '0.554', 'TP': '368', 'FP': '65', 'FN': '4', 'precision': '0.850', 'recall': '0.989', 'f1': '0.914'}\n",
      "\n",
      "Episode 5 finished\n",
      "{'coverage_prop': '0.955', 'intensity_prop': '0.717', 'ms1ms2_ratio': '2.126', 'efficiency': '0.501', 'TP': '167', 'FP': '24', 'FN': '9', 'precision': '0.874', 'recall': '0.949', 'f1': '0.910'}\n",
      "\n",
      "Episode 6 finished\n",
      "{'coverage_prop': '0.960', 'intensity_prop': '0.696', 'ms1ms2_ratio': '0.685', 'efficiency': '0.544', 'TP': '398', 'FP': '61', 'FN': '19', 'precision': '0.867', 'recall': '0.954', 'f1': '0.909'}\n",
      "\n",
      "Episode 7 finished\n",
      "{'coverage_prop': '0.961', 'intensity_prop': '0.718', 'ms1ms2_ratio': '2.080', 'efficiency': '0.505', 'TP': '180', 'FP': '16', 'FN': '8', 'precision': '0.918', 'recall': '0.957', 'f1': '0.938'}\n",
      "\n",
      "Episode 8 finished\n",
      "{'coverage_prop': '0.953', 'intensity_prop': '0.687', 'ms1ms2_ratio': '0.822', 'efficiency': '0.534', 'TP': '348', 'FP': '56', 'FN': '20', 'precision': '0.861', 'recall': '0.946', 'f1': '0.902'}\n",
      "\n",
      "Episode 9 finished\n",
      "{'coverage_prop': '0.969', 'intensity_prop': '0.718', 'ms1ms2_ratio': '0.895', 'efficiency': '0.519', 'TP': '327', 'FP': '45', 'FN': '12', 'precision': '0.879', 'recall': '0.965', 'f1': '0.920'}\n",
      "\n",
      "Episode 10 finished\n",
      "{'coverage_prop': '0.966', 'intensity_prop': '0.721', 'ms1ms2_ratio': '0.682', 'efficiency': '0.506', 'TP': '377', 'FP': '51', 'FN': '15', 'precision': '0.881', 'recall': '0.962', 'f1': '0.920'}\n",
      "\n",
      "Episode 11 finished\n",
      "{'coverage_prop': '0.968', 'intensity_prop': '0.719', 'ms1ms2_ratio': '1.633', 'efficiency': '0.514', 'TP': '218', 'FP': '23', 'FN': '8', 'precision': '0.905', 'recall': '0.965', 'f1': '0.934'}\n",
      "\n",
      "Episode 12 finished\n",
      "{'coverage_prop': '0.948', 'intensity_prop': '0.665', 'ms1ms2_ratio': '1.621', 'efficiency': '0.504', 'TP': '195', 'FP': '43', 'FN': '13', 'precision': '0.819', 'recall': '0.938', 'f1': '0.874'}\n",
      "\n",
      "Episode 13 finished\n",
      "{'coverage_prop': '0.967', 'intensity_prop': '0.683', 'ms1ms2_ratio': '1.273', 'efficiency': '0.514', 'TP': '233', 'FP': '57', 'FN': '10', 'precision': '0.803', 'recall': '0.959', 'f1': '0.874'}\n",
      "\n",
      "Episode 14 finished\n",
      "{'coverage_prop': '0.951', 'intensity_prop': '0.697', 'ms1ms2_ratio': '1.983', 'efficiency': '0.486', 'TP': '170', 'FP': '26', 'FN': '10', 'precision': '0.867', 'recall': '0.944', 'f1': '0.904'}\n",
      "\n",
      "Episode 15 finished\n",
      "{'coverage_prop': '0.978', 'intensity_prop': '0.726', 'ms1ms2_ratio': '0.861', 'efficiency': '0.541', 'TP': '354', 'FP': '44', 'FN': '9', 'precision': '0.889', 'recall': '0.975', 'f1': '0.930'}\n",
      "\n",
      "Episode 16 finished\n",
      "{'coverage_prop': '0.978', 'intensity_prop': '0.730', 'ms1ms2_ratio': '0.603', 'efficiency': '0.537', 'TP': '420', 'FP': '67', 'FN': '11', 'precision': '0.862', 'recall': '0.974', 'f1': '0.915'}\n",
      "\n",
      "Episode 17 finished\n",
      "{'coverage_prop': '0.968', 'intensity_prop': '0.701', 'ms1ms2_ratio': '0.982', 'efficiency': '0.533', 'TP': '310', 'FP': '50', 'FN': '12', 'precision': '0.861', 'recall': '0.963', 'f1': '0.909'}\n",
      "\n",
      "Episode 18 finished\n",
      "{'coverage_prop': '0.967', 'intensity_prop': '0.712', 'ms1ms2_ratio': '1.246', 'efficiency': '0.510', 'TP': '253', 'FP': '39', 'FN': '10', 'precision': '0.866', 'recall': '0.962', 'f1': '0.912'}\n",
      "\n",
      "Episode 19 finished\n",
      "{'coverage_prop': '0.981', 'intensity_prop': '0.709', 'ms1ms2_ratio': '1.481', 'efficiency': '0.515', 'TP': '220', 'FP': '40', 'FN': '5', 'precision': '0.846', 'recall': '0.978', 'f1': '0.907'}\n",
      "\n",
      "Episode 20 finished\n",
      "{'coverage_prop': '0.962', 'intensity_prop': '0.711', 'ms1ms2_ratio': '0.696', 'efficiency': '0.538', 'TP': '387', 'FP': '63', 'FN': '18', 'precision': '0.860', 'recall': '0.956', 'f1': '0.905'}\n",
      "\n",
      "Episode 21 finished\n",
      "{'coverage_prop': '0.953', 'intensity_prop': '0.694', 'ms1ms2_ratio': '1.806', 'efficiency': '0.514', 'TP': '192', 'FP': '31', 'FN': '11', 'precision': '0.861', 'recall': '0.946', 'f1': '0.901'}\n",
      "\n",
      "Episode 22 finished\n",
      "{'coverage_prop': '0.969', 'intensity_prop': '0.711', 'ms1ms2_ratio': '1.187', 'efficiency': '0.526', 'TP': '273', 'FP': '39', 'FN': '10', 'precision': '0.875', 'recall': '0.965', 'f1': '0.918'}\n",
      "\n",
      "Episode 23 finished\n",
      "{'coverage_prop': '0.955', 'intensity_prop': '0.696', 'ms1ms2_ratio': '1.265', 'efficiency': '0.522', 'TP': '246', 'FP': '50', 'FN': '14', 'precision': '0.831', 'recall': '0.946', 'f1': '0.885'}\n",
      "\n",
      "Episode 24 finished\n",
      "{'coverage_prop': '0.983', 'intensity_prop': '0.725', 'ms1ms2_ratio': '0.973', 'efficiency': '0.499', 'TP': '297', 'FP': '42', 'FN': '6', 'precision': '0.876', 'recall': '0.980', 'f1': '0.925'}\n",
      "\n",
      "Episode 25 finished\n",
      "{'coverage_prop': '0.987', 'intensity_prop': '0.726', 'ms1ms2_ratio': '0.851', 'efficiency': '0.528', 'TP': '339', 'FP': '52', 'FN': '5', 'precision': '0.867', 'recall': '0.985', 'f1': '0.922'}\n",
      "\n",
      "Episode 26 finished\n",
      "{'coverage_prop': '0.970', 'intensity_prop': '0.723', 'ms1ms2_ratio': '2.059', 'efficiency': '0.504', 'TP': '174', 'FP': '23', 'FN': '6', 'precision': '0.883', 'recall': '0.967', 'f1': '0.923'}\n",
      "\n",
      "Episode 27 finished\n",
      "{'coverage_prop': '0.968', 'intensity_prop': '0.722', 'ms1ms2_ratio': '1.370', 'efficiency': '0.508', 'TP': '241', 'FP': '31', 'FN': '9', 'precision': '0.886', 'recall': '0.964', 'f1': '0.923'}\n",
      "\n",
      "Episode 28 finished\n",
      "{'coverage_prop': '0.972', 'intensity_prop': '0.711', 'ms1ms2_ratio': '0.589', 'efficiency': '0.522', 'TP': '410', 'FP': '69', 'FN': '14', 'precision': '0.856', 'recall': '0.967', 'f1': '0.908'}\n",
      "\n",
      "Episode 29 finished\n",
      "{'coverage_prop': '0.970', 'intensity_prop': '0.727', 'ms1ms2_ratio': '1.204', 'efficiency': '0.503', 'TP': '263', 'FP': '32', 'FN': '9', 'precision': '0.892', 'recall': '0.967', 'f1': '0.928'}\n",
      "\n"
     ]
    }
   ],
   "source": [
    "method = 'SmartROI_Controller'\n",
    "print('method = %s' % method)\n",
    "print()\n",
    "\n",
    "eval_results = []\n",
    "for i in range(len(chem_list)):\n",
    "    \n",
    "    spike_noise = None\n",
    "    if enable_spike_noise:\n",
    "        noise_params = params['noise']\n",
    "        noise_density = noise_params['noise_density']\n",
    "        noise_max_val = noise_params['noise_max_val']\n",
    "        noise_min_mz = noise_params['mz_range'][0]\n",
    "        noise_max_mz = noise_params['mz_range'][1]\n",
    "        spike_noise = UniformSpikeNoise(noise_density, noise_max_val, min_mz=noise_min_mz,\n",
    "                                        max_mz=noise_max_mz)\n",
    "\n",
    "    chems = chem_list[i]\n",
    "    mass_spec = IndependentMassSpectrometer(ionisation_mode, chems, spike_noise=spike_noise)\n",
    "    \n",
    "    roi_params = RoiBuilderParams(min_roi_intensity=0, min_roi_length=0)    \n",
    "    smartroi_params = SmartRoiParams(intensity_increase_factor=alpha, drop_perc=beta/100.0, dew=smartroi_dew, initial_length_seconds=ils)\n",
    "    controller = TopN_SmartRoiController(ionisation_mode, isolation_window, smartroi_N, mz_tol, smartroi_dew,\n",
    "                                min_ms1_intensity, roi_params, smartroi_params)\n",
    "    env = Environment(mass_spec, controller, rt_range[0], rt_range[1], progress_bar=False, out_dir=out_dir,\n",
    "                      out_file='%s_%d.mzML' % (method, i), save_eval=True)\n",
    "    env.run()\n",
    "    \n",
    "    eval_res = evaluate(env, intensity_threshold)\n",
    "    # eval_res['total_rewards'] = 0\n",
    "    eval_results.append(eval_res)\n",
    "    print('Episode %d finished' % i)\n",
    "    print(eval_res)\n",
    "    print()    \n",
    "    \n",
    "method_eval_results[method] = eval_results"
   ]
  },
  {
   "cell_type": "markdown",
   "metadata": {},
   "source": [
    "Run WeightedDEW Controller"
   ]
  },
  {
   "cell_type": "code",
   "execution_count": 29,
   "metadata": {
    "execution": {
     "iopub.execute_input": "2023-06-12T10:48:07.853262Z",
     "iopub.status.busy": "2023-06-12T10:48:07.853137Z",
     "iopub.status.idle": "2023-06-12T10:51:06.869097Z",
     "shell.execute_reply": "2023-06-12T10:51:06.868527Z",
     "shell.execute_reply.started": "2023-06-12T10:48:07.853246Z"
    }
   },
   "outputs": [
    {
     "name": "stdout",
     "output_type": "stream",
     "text": [
      "method = WeightedDEW_Controller\n",
      "\n",
      "Episode 0 finished\n",
      "{'coverage_prop': '0.965', 'intensity_prop': '0.743', 'ms1ms2_ratio': '0.159', 'efficiency': '0.271', 'TP': '368', 'FP': '43', 'FN': '15', 'precision': '0.895', 'recall': '0.961', 'f1': '0.927'}\n",
      "\n",
      "Episode 1 finished\n",
      "{'coverage_prop': '0.958', 'intensity_prop': '0.791', 'ms1ms2_ratio': '0.242', 'efficiency': '0.186', 'TP': '238', 'FP': '13', 'FN': '11', 'precision': '0.948', 'recall': '0.956', 'f1': '0.952'}\n",
      "\n",
      "Episode 2 finished\n",
      "{'coverage_prop': '0.964', 'intensity_prop': '0.738', 'ms1ms2_ratio': '0.198', 'efficiency': '0.265', 'TP': '343', 'FP': '37', 'FN': '14', 'precision': '0.903', 'recall': '0.961', 'f1': '0.931'}\n",
      "\n",
      "Episode 3 finished\n",
      "{'coverage_prop': '0.969', 'intensity_prop': '0.762', 'ms1ms2_ratio': '0.158', 'efficiency': '0.288', 'TP': '404', 'FP': '34', 'FN': '14', 'precision': '0.922', 'recall': '0.967', 'f1': '0.944'}\n",
      "\n",
      "Episode 4 finished\n",
      "{'coverage_prop': '0.984', 'intensity_prop': '0.761', 'ms1ms2_ratio': '0.178', 'efficiency': '0.292', 'TP': '389', 'FP': '41', 'FN': '7', 'precision': '0.905', 'recall': '0.982', 'f1': '0.942'}\n",
      "\n",
      "Episode 5 finished\n",
      "{'coverage_prop': '0.960', 'intensity_prop': '0.815', 'ms1ms2_ratio': '0.421', 'efficiency': '0.177', 'TP': '186', 'FP': '6', 'FN': '8', 'precision': '0.969', 'recall': '0.959', 'f1': '0.964'}\n",
      "\n",
      "Episode 6 finished\n",
      "{'coverage_prop': '0.952', 'intensity_prop': '0.745', 'ms1ms2_ratio': '0.156', 'efficiency': '0.299', 'TP': '410', 'FP': '45', 'FN': '23', 'precision': '0.901', 'recall': '0.947', 'f1': '0.923'}\n",
      "\n",
      "Episode 7 finished\n",
      "{'coverage_prop': '0.956', 'intensity_prop': '0.810', 'ms1ms2_ratio': '0.349', 'efficiency': '0.165', 'TP': '188', 'FP': '7', 'FN': '9', 'precision': '0.964', 'recall': '0.954', 'f1': '0.959'}\n",
      "\n",
      "Episode 8 finished\n",
      "{'coverage_prop': '0.955', 'intensity_prop': '0.736', 'ms1ms2_ratio': '0.147', 'efficiency': '0.262', 'TP': '362', 'FP': '43', 'FN': '19', 'precision': '0.894', 'recall': '0.950', 'f1': '0.921'}\n",
      "\n",
      "Episode 9 finished\n",
      "{'coverage_prop': '0.969', 'intensity_prop': '0.765', 'ms1ms2_ratio': '0.185', 'efficiency': '0.255', 'TP': '342', 'FP': '30', 'FN': '12', 'precision': '0.919', 'recall': '0.966', 'f1': '0.942'}\n",
      "\n",
      "Episode 10 finished\n",
      "{'coverage_prop': '0.962', 'intensity_prop': '0.753', 'ms1ms2_ratio': '0.155', 'efficiency': '0.279', 'TP': '390', 'FP': '36', 'FN': '17', 'precision': '0.915', 'recall': '0.958', 'f1': '0.936'}\n",
      "\n",
      "Episode 11 finished\n",
      "{'coverage_prop': '0.956', 'intensity_prop': '0.794', 'ms1ms2_ratio': '0.274', 'efficiency': '0.184', 'TP': '229', 'FP': '9', 'FN': '11', 'precision': '0.962', 'recall': '0.954', 'f1': '0.958'}\n",
      "\n",
      "Episode 12 finished\n",
      "{'coverage_prop': '0.948', 'intensity_prop': '0.763', 'ms1ms2_ratio': '0.219', 'efficiency': '0.171', 'TP': '217', 'FP': '21', 'FN': '13', 'precision': '0.912', 'recall': '0.943', 'f1': '0.927'}\n",
      "\n",
      "Episode 13 finished\n",
      "{'coverage_prop': '0.960', 'intensity_prop': '0.755', 'ms1ms2_ratio': '0.194', 'efficiency': '0.200', 'TP': '254', 'FP': '34', 'FN': '12', 'precision': '0.882', 'recall': '0.955', 'f1': '0.917'}\n",
      "\n",
      "Episode 14 finished\n",
      "{'coverage_prop': '0.956', 'intensity_prop': '0.779', 'ms1ms2_ratio': '0.326', 'efficiency': '0.163', 'TP': '183', 'FP': '14', 'FN': '9', 'precision': '0.929', 'recall': '0.953', 'f1': '0.941'}\n",
      "\n",
      "Episode 15 finished\n",
      "{'coverage_prop': '0.978', 'intensity_prop': '0.784', 'ms1ms2_ratio': '0.187', 'efficiency': '0.273', 'TP': '368', 'FP': '30', 'FN': '9', 'precision': '0.925', 'recall': '0.976', 'f1': '0.950'}\n",
      "\n",
      "Episode 16 finished\n",
      "{'coverage_prop': '0.974', 'intensity_prop': '0.760', 'ms1ms2_ratio': '0.162', 'efficiency': '0.321', 'TP': '445', 'FP': '40', 'FN': '13', 'precision': '0.918', 'recall': '0.972', 'f1': '0.944'}\n",
      "\n",
      "Episode 17 finished\n",
      "{'coverage_prop': '0.960', 'intensity_prop': '0.764', 'ms1ms2_ratio': '0.173', 'efficiency': '0.240', 'TP': '329', 'FP': '28', 'FN': '15', 'precision': '0.922', 'recall': '0.956', 'f1': '0.939'}\n",
      "\n",
      "Episode 18 finished\n",
      "{'coverage_prop': '0.967', 'intensity_prop': '0.778', 'ms1ms2_ratio': '0.220', 'efficiency': '0.210', 'TP': '268', 'FP': '24', 'FN': '10', 'precision': '0.918', 'recall': '0.964', 'f1': '0.940'}\n",
      "\n",
      "Episode 19 finished\n",
      "{'coverage_prop': '0.974', 'intensity_prop': '0.792', 'ms1ms2_ratio': '0.214', 'efficiency': '0.184', 'TP': '240', 'FP': '18', 'FN': '7', 'precision': '0.930', 'recall': '0.972', 'f1': '0.950'}\n",
      "\n",
      "Episode 20 finished\n",
      "{'coverage_prop': '0.940', 'intensity_prop': '0.736', 'ms1ms2_ratio': '0.163', 'efficiency': '0.292', 'TP': '397', 'FP': '43', 'FN': '28', 'precision': '0.902', 'recall': '0.934', 'f1': '0.918'}\n",
      "\n",
      "Episode 21 finished\n",
      "{'coverage_prop': '0.953', 'intensity_prop': '0.785', 'ms1ms2_ratio': '0.353', 'efficiency': '0.190', 'TP': '209', 'FP': '14', 'FN': '11', 'precision': '0.937', 'recall': '0.950', 'f1': '0.944'}\n",
      "\n",
      "Episode 22 finished\n",
      "{'coverage_prop': '0.969', 'intensity_prop': '0.772', 'ms1ms2_ratio': '0.201', 'efficiency': '0.219', 'TP': '287', 'FP': '25', 'FN': '10', 'precision': '0.920', 'recall': '0.966', 'f1': '0.943'}\n",
      "\n",
      "Episode 23 finished\n",
      "{'coverage_prop': '0.948', 'intensity_prop': '0.769', 'ms1ms2_ratio': '0.249', 'efficiency': '0.220', 'TP': '268', 'FP': '26', 'FN': '16', 'precision': '0.912', 'recall': '0.944', 'f1': '0.927'}\n",
      "\n",
      "Episode 24 finished\n",
      "{'coverage_prop': '0.983', 'intensity_prop': '0.777', 'ms1ms2_ratio': '0.192', 'efficiency': '0.234', 'TP': '312', 'FP': '27', 'FN': '6', 'precision': '0.920', 'recall': '0.981', 'f1': '0.950'}\n",
      "\n",
      "Episode 25 finished\n",
      "{'coverage_prop': '0.982', 'intensity_prop': '0.781', 'ms1ms2_ratio': '0.183', 'efficiency': '0.266', 'TP': '356', 'FP': '33', 'FN': '7', 'precision': '0.915', 'recall': '0.981', 'f1': '0.947'}\n",
      "\n",
      "Episode 26 finished\n",
      "{'coverage_prop': '0.966', 'intensity_prop': '0.825', 'ms1ms2_ratio': '0.358', 'efficiency': '0.168', 'TP': '188', 'FP': '8', 'FN': '7', 'precision': '0.959', 'recall': '0.964', 'f1': '0.962'}\n",
      "\n",
      "Episode 27 finished\n",
      "{'coverage_prop': '0.968', 'intensity_prop': '0.800', 'ms1ms2_ratio': '0.254', 'efficiency': '0.205', 'TP': '260', 'FP': '12', 'FN': '9', 'precision': '0.956', 'recall': '0.967', 'f1': '0.961'}\n",
      "\n",
      "Episode 28 finished\n",
      "{'coverage_prop': '0.949', 'intensity_prop': '0.738', 'ms1ms2_ratio': '0.147', 'efficiency': '0.303', 'TP': '424', 'FP': '44', 'FN': '25', 'precision': '0.906', 'recall': '0.944', 'f1': '0.925'}\n",
      "\n",
      "Episode 29 finished\n",
      "{'coverage_prop': '0.964', 'intensity_prop': '0.792', 'ms1ms2_ratio': '0.203', 'efficiency': '0.206', 'TP': '272', 'FP': '21', 'FN': '11', 'precision': '0.928', 'recall': '0.961', 'f1': '0.944'}\n",
      "\n"
     ]
    }
   ],
   "source": [
    "method = 'WeightedDEW_Controller'\n",
    "print('method = %s' % method)\n",
    "print()\n",
    "\n",
    "eval_results = []\n",
    "for i in range(len(chem_list)):\n",
    "    \n",
    "    spike_noise = None\n",
    "    if enable_spike_noise:\n",
    "        noise_params = params['noise']\n",
    "        noise_density = noise_params['noise_density']\n",
    "        noise_max_val = noise_params['noise_max_val']\n",
    "        noise_min_mz = noise_params['mz_range'][0]\n",
    "        noise_max_mz = noise_params['mz_range'][1]\n",
    "        spike_noise = UniformSpikeNoise(noise_density, noise_max_val, min_mz=noise_min_mz,\n",
    "                                        max_mz=noise_max_mz)\n",
    "\n",
    "    chems = chem_list[i]\n",
    "    mass_spec = IndependentMassSpectrometer(ionisation_mode, chems, spike_noise=spike_noise)\n",
    "    \n",
    "    controller = WeightedDEWController(ionisation_mode, weighteddew_N, isolation_window, mz_tol, t1,\n",
    "                                min_ms1_intensity, exclusion_t_0=t0)\n",
    "    env = Environment(mass_spec, controller, rt_range[0], rt_range[1], progress_bar=False, out_dir=out_dir,\n",
    "                      out_file='%s_%d.mzML' % (method, i), save_eval=True)\n",
    "    env.run()\n",
    "    \n",
    "    eval_res = evaluate(env, intensity_threshold)\n",
    "    # eval_res['total_rewards'] = 0\n",
    "    eval_results.append(eval_res)\n",
    "    print('Episode %d finished' % i)\n",
    "    print(eval_res)\n",
    "    print()    \n",
    "    \n",
    "method_eval_results[method] = eval_results"
   ]
  },
  {
   "cell_type": "markdown",
   "metadata": {},
   "source": [
    "#### Plotting"
   ]
  },
  {
   "cell_type": "markdown",
   "metadata": {},
   "source": [
    "Flatten data into dataframe"
   ]
  },
  {
   "cell_type": "code",
   "execution_count": 30,
   "metadata": {
    "execution": {
     "iopub.execute_input": "2023-06-12T10:51:06.870242Z",
     "iopub.status.busy": "2023-06-12T10:51:06.870086Z",
     "iopub.status.idle": "2023-06-12T10:51:06.913190Z",
     "shell.execute_reply": "2023-06-12T10:51:06.912747Z",
     "shell.execute_reply.started": "2023-06-12T10:51:06.870221Z"
    }
   },
   "outputs": [
    {
     "data": {
      "text/html": [
       "<div>\n",
       "<style scoped>\n",
       "    .dataframe tbody tr th:only-of-type {\n",
       "        vertical-align: middle;\n",
       "    }\n",
       "\n",
       "    .dataframe tbody tr th {\n",
       "        vertical-align: top;\n",
       "    }\n",
       "\n",
       "    .dataframe thead th {\n",
       "        text-align: right;\n",
       "    }\n",
       "</style>\n",
       "<table border=\"1\" class=\"dataframe\">\n",
       "  <thead>\n",
       "    <tr style=\"text-align: right;\">\n",
       "      <th></th>\n",
       "      <th>method</th>\n",
       "      <th>total_rewards</th>\n",
       "      <th>invalid_action_count</th>\n",
       "      <th>coverage_prop</th>\n",
       "      <th>intensity_prop</th>\n",
       "      <th>ms1/ms2_ratio</th>\n",
       "      <th>efficiency</th>\n",
       "      <th>precision</th>\n",
       "      <th>recall</th>\n",
       "      <th>f1</th>\n",
       "    </tr>\n",
       "  </thead>\n",
       "  <tbody>\n",
       "    <tr>\n",
       "      <th>0</th>\n",
       "      <td>random</td>\n",
       "      <td>73.018332</td>\n",
       "      <td>0.0</td>\n",
       "      <td>0.948</td>\n",
       "      <td>0.685</td>\n",
       "      <td>0.136</td>\n",
       "      <td>0.257</td>\n",
       "      <td>0.822</td>\n",
       "      <td>0.938</td>\n",
       "      <td>0.876</td>\n",
       "    </tr>\n",
       "    <tr>\n",
       "      <th>1</th>\n",
       "      <td>random</td>\n",
       "      <td>150.875238</td>\n",
       "      <td>0.0</td>\n",
       "      <td>0.931</td>\n",
       "      <td>0.773</td>\n",
       "      <td>0.202</td>\n",
       "      <td>0.171</td>\n",
       "      <td>0.943</td>\n",
       "      <td>0.927</td>\n",
       "      <td>0.935</td>\n",
       "    </tr>\n",
       "    <tr>\n",
       "      <th>2</th>\n",
       "      <td>random</td>\n",
       "      <td>224.777843</td>\n",
       "      <td>0.0</td>\n",
       "      <td>0.947</td>\n",
       "      <td>0.702</td>\n",
       "      <td>0.150</td>\n",
       "      <td>0.243</td>\n",
       "      <td>0.828</td>\n",
       "      <td>0.936</td>\n",
       "      <td>0.879</td>\n",
       "    </tr>\n",
       "    <tr>\n",
       "      <th>3</th>\n",
       "      <td>random</td>\n",
       "      <td>222.883849</td>\n",
       "      <td>0.0</td>\n",
       "      <td>0.927</td>\n",
       "      <td>0.716</td>\n",
       "      <td>0.144</td>\n",
       "      <td>0.270</td>\n",
       "      <td>0.885</td>\n",
       "      <td>0.918</td>\n",
       "      <td>0.902</td>\n",
       "    </tr>\n",
       "    <tr>\n",
       "      <th>4</th>\n",
       "      <td>random</td>\n",
       "      <td>141.451512</td>\n",
       "      <td>0.0</td>\n",
       "      <td>0.963</td>\n",
       "      <td>0.706</td>\n",
       "      <td>0.141</td>\n",
       "      <td>0.270</td>\n",
       "      <td>0.824</td>\n",
       "      <td>0.956</td>\n",
       "      <td>0.885</td>\n",
       "    </tr>\n",
       "  </tbody>\n",
       "</table>\n",
       "</div>"
      ],
      "text/plain": [
       "   method  total_rewards  invalid_action_count  coverage_prop  intensity_prop  \\\n",
       "0  random      73.018332                   0.0          0.948           0.685   \n",
       "1  random     150.875238                   0.0          0.931           0.773   \n",
       "2  random     224.777843                   0.0          0.947           0.702   \n",
       "3  random     222.883849                   0.0          0.927           0.716   \n",
       "4  random     141.451512                   0.0          0.963           0.706   \n",
       "\n",
       "   ms1/ms2_ratio  efficiency  precision  recall     f1  \n",
       "0          0.136       0.257      0.822   0.938  0.876  \n",
       "1          0.202       0.171      0.943   0.927  0.935  \n",
       "2          0.150       0.243      0.828   0.936  0.879  \n",
       "3          0.144       0.270      0.885   0.918  0.902  \n",
       "4          0.141       0.270      0.824   0.956  0.885  "
      ]
     },
     "execution_count": 30,
     "metadata": {},
     "output_type": "execute_result"
    }
   ],
   "source": [
    "data = []\n",
    "for method in method_eval_results:\n",
    "    eval_results = method_eval_results[method]\n",
    "    for eval_res in eval_results:\n",
    "        try:\n",
    "            total_rewards = float(eval_res['total_rewards'])       \n",
    "        except KeyError:\n",
    "            total_rewards = 0.0\n",
    "\n",
    "        try:\n",
    "            invalid_action_count = float(eval_res['invalid_action_count'])       \n",
    "        except KeyError:\n",
    "            invalid_action_count = 0.0\n",
    "\n",
    "        row = (\n",
    "            method, \n",
    "            total_rewards, \n",
    "            invalid_action_count,\n",
    "            float(eval_res['coverage_prop']), \n",
    "            float(eval_res['intensity_prop']), \n",
    "            float(eval_res['ms1ms2_ratio']), \n",
    "            float(eval_res['efficiency']),\n",
    "            float(eval_res['precision']),\n",
    "            float(eval_res['recall']),\n",
    "            float(eval_res['f1']),            \n",
    "        )\n",
    "        data.append(row)\n",
    "        \n",
    "df = pd.DataFrame(data, columns=['method', 'total_rewards', 'invalid_action_count', \n",
    "    'coverage_prop', 'intensity_prop', 'ms1/ms2_ratio', 'efficiency', \n",
    "    'precision', 'recall', 'f1'])\n",
    "# df.set_index('method', inplace=True)\n",
    "df.head()"
   ]
  },
  {
   "cell_type": "code",
   "execution_count": 31,
   "metadata": {
    "execution": {
     "iopub.execute_input": "2023-06-12T10:51:06.914053Z",
     "iopub.status.busy": "2023-06-12T10:51:06.913934Z",
     "iopub.status.idle": "2023-06-12T10:51:06.942646Z",
     "shell.execute_reply": "2023-06-12T10:51:06.942200Z",
     "shell.execute_reply.started": "2023-06-12T10:51:06.914039Z"
    }
   },
   "outputs": [],
   "source": [
    "sns.set_context(\"poster\")"
   ]
  },
  {
   "cell_type": "code",
   "execution_count": 32,
   "metadata": {
    "execution": {
     "iopub.execute_input": "2023-06-12T10:51:06.943804Z",
     "iopub.status.busy": "2023-06-12T10:51:06.943663Z",
     "iopub.status.idle": "2023-06-12T10:51:07.112778Z",
     "shell.execute_reply": "2023-06-12T10:51:07.112313Z",
     "shell.execute_reply.started": "2023-06-12T10:51:06.943787Z"
    }
   },
   "outputs": [
    {
     "data": {
      "text/plain": [
       "Text(0.5, 1.0, 'Total Rewards')"
      ]
     },
     "execution_count": 32,
     "metadata": {},
     "output_type": "execute_result"
    },
    {
     "data": {
      "image/png": "[encoded data removed]",
      "text/plain": [
       "<Figure size 720x360 with 1 Axes>"
      ]
     },
     "metadata": {
      "needs_background": "light"
     },
     "output_type": "display_data"
    }
   ],
   "source": [
    "plt.figure(figsize=(10, 5))\n",
    "sns.boxplot(data=df, x='method', y='total_rewards')\n",
    "plt.xticks(rotation=90)\n",
    "plt.title('Total Rewards')"
   ]
  },
  {
   "cell_type": "code",
   "execution_count": 33,
   "metadata": {
    "execution": {
     "iopub.execute_input": "2023-06-12T10:51:07.113640Z",
     "iopub.status.busy": "2023-06-12T10:51:07.113506Z",
     "iopub.status.idle": "2023-06-12T10:51:07.274393Z",
     "shell.execute_reply": "2023-06-12T10:51:07.273975Z",
     "shell.execute_reply.started": "2023-06-12T10:51:07.113620Z"
    }
   },
   "outputs": [
    {
     "data": {
      "text/plain": [
       "Text(0.5, 1.0, 'Invalid Action Count')"
      ]
     },
     "execution_count": 33,
     "metadata": {},
     "output_type": "execute_result"
    },
    {
     "data": {
      "image/png": "[encoded data removed]",
      "text/plain": [
       "<Figure size 720x360 with 1 Axes>"
      ]
     },
     "metadata": {
      "needs_background": "light"
     },
     "output_type": "display_data"
    }
   ],
   "source": [
    "plt.figure(figsize=(10, 5))\n",
    "sns.boxplot(data=df, x='method', y='invalid_action_count')\n",
    "plt.xticks(rotation=90)\n",
    "plt.title('Invalid Action Count')"
   ]
  },
  {
   "cell_type": "code",
   "execution_count": 34,
   "metadata": {
    "execution": {
     "iopub.execute_input": "2023-06-12T10:51:07.275688Z",
     "iopub.status.busy": "2023-06-12T10:51:07.275552Z",
     "iopub.status.idle": "2023-06-12T10:51:07.434038Z",
     "shell.execute_reply": "2023-06-12T10:51:07.433618Z",
     "shell.execute_reply.started": "2023-06-12T10:51:07.275671Z"
    }
   },
   "outputs": [
    {
     "data": {
      "text/plain": [
       "Text(0.5, 1.0, 'Coverage Proportion')"
      ]
     },
     "execution_count": 34,
     "metadata": {},
     "output_type": "execute_result"
    },
    {
     "data": {
      "image/png": "[encoded data removed]",
      "text/plain": [
       "<Figure size 720x360 with 1 Axes>"
      ]
     },
     "metadata": {
      "needs_background": "light"
     },
     "output_type": "display_data"
    }
   ],
   "source": [
    "plt.figure(figsize=(10, 5))\n",
    "sns.boxplot(data=df, x='method', y='coverage_prop')\n",
    "plt.xticks(rotation=90)\n",
    "plt.title('Coverage Proportion')"
   ]
  },
  {
   "cell_type": "code",
   "execution_count": 35,
   "metadata": {
    "execution": {
     "iopub.execute_input": "2023-06-12T10:51:07.434973Z",
     "iopub.status.busy": "2023-06-12T10:51:07.434842Z",
     "iopub.status.idle": "2023-06-12T10:51:07.592498Z",
     "shell.execute_reply": "2023-06-12T10:51:07.592033Z",
     "shell.execute_reply.started": "2023-06-12T10:51:07.434958Z"
    }
   },
   "outputs": [
    {
     "data": {
      "text/plain": [
       "Text(0.5, 1.0, 'Intensity Proportion')"
      ]
     },
     "execution_count": 35,
     "metadata": {},
     "output_type": "execute_result"
    },
    {
     "data": {
      "image/png": "[encoded data removed]",
      "text/plain": [
       "<Figure size 720x360 with 1 Axes>"
      ]
     },
     "metadata": {
      "needs_background": "light"
     },
     "output_type": "display_data"
    }
   ],
   "source": [
    "plt.figure(figsize=(10, 5))\n",
    "sns.boxplot(data=df, x='method', y='intensity_prop')\n",
    "plt.xticks(rotation=90)\n",
    "plt.title('Intensity Proportion')"
   ]
  },
  {
   "cell_type": "code",
   "execution_count": 36,
   "metadata": {
    "execution": {
     "iopub.execute_input": "2023-06-12T10:51:07.593543Z",
     "iopub.status.busy": "2023-06-12T10:51:07.593389Z",
     "iopub.status.idle": "2023-06-12T10:51:07.755108Z",
     "shell.execute_reply": "2023-06-12T10:51:07.754606Z",
     "shell.execute_reply.started": "2023-06-12T10:51:07.593526Z"
    }
   },
   "outputs": [
    {
     "data": {
      "text/plain": [
       "Text(0.5, 1.0, 'MS1/MS2 Ratio')"
      ]
     },
     "execution_count": 36,
     "metadata": {},
     "output_type": "execute_result"
    },
    {
     "data": {
      "image/png": "[encoded data removed]",
      "text/plain": [
       "<Figure size 720x360 with 1 Axes>"
      ]
     },
     "metadata": {
      "needs_background": "light"
     },
     "output_type": "display_data"
    }
   ],
   "source": [
    "plt.figure(figsize=(10, 5))\n",
    "sns.boxplot(data=df, x='method', y='ms1/ms2_ratio')\n",
    "plt.xticks(rotation=90)\n",
    "plt.title('MS1/MS2 Ratio')"
   ]
  },
  {
   "cell_type": "code",
   "execution_count": 37,
   "metadata": {
    "execution": {
     "iopub.execute_input": "2023-06-12T10:51:07.756239Z",
     "iopub.status.busy": "2023-06-12T10:51:07.756101Z",
     "iopub.status.idle": "2023-06-12T10:51:07.911102Z",
     "shell.execute_reply": "2023-06-12T10:51:07.910608Z",
     "shell.execute_reply.started": "2023-06-12T10:51:07.756223Z"
    }
   },
   "outputs": [
    {
     "data": {
      "text/plain": [
       "Text(0.5, 1.0, 'Efficiency')"
      ]
     },
     "execution_count": 37,
     "metadata": {},
     "output_type": "execute_result"
    },
    {
     "data": {
      "image/png": "[encoded data removed]",
      "text/plain": [
       "<Figure size 720x360 with 1 Axes>"
      ]
     },
     "metadata": {
      "needs_background": "light"
     },
     "output_type": "display_data"
    }
   ],
   "source": [
    "plt.figure(figsize=(10, 5))\n",
    "sns.boxplot(data=df, x='method', y='efficiency')\n",
    "plt.xticks(rotation=90)\n",
    "plt.title('Efficiency')"
   ]
  },
  {
   "cell_type": "code",
   "execution_count": 38,
   "metadata": {
    "execution": {
     "iopub.execute_input": "2023-06-12T10:51:07.912061Z",
     "iopub.status.busy": "2023-06-12T10:51:07.911927Z",
     "iopub.status.idle": "2023-06-12T10:51:08.066119Z",
     "shell.execute_reply": "2023-06-12T10:51:08.065644Z",
     "shell.execute_reply.started": "2023-06-12T10:51:07.912046Z"
    }
   },
   "outputs": [
    {
     "data": {
      "text/plain": [
       "Text(0.5, 1.0, 'Precision')"
      ]
     },
     "execution_count": 38,
     "metadata": {},
     "output_type": "execute_result"
    },
    {
     "data": {
      "image/png": "[encoded data removed]",
      "text/plain": [
       "<Figure size 720x360 with 1 Axes>"
      ]
     },
     "metadata": {
      "needs_background": "light"
     },
     "output_type": "display_data"
    }
   ],
   "source": [
    "plt.figure(figsize=(10, 5))\n",
    "sns.boxplot(data=df, x='method', y='precision')\n",
    "plt.xticks(rotation=90)\n",
    "plt.title('Precision')"
   ]
  },
  {
   "cell_type": "code",
   "execution_count": 39,
   "metadata": {
    "execution": {
     "iopub.execute_input": "2023-06-12T10:51:08.066965Z",
     "iopub.status.busy": "2023-06-12T10:51:08.066832Z",
     "iopub.status.idle": "2023-06-12T10:51:08.217020Z",
     "shell.execute_reply": "2023-06-12T10:51:08.216559Z",
     "shell.execute_reply.started": "2023-06-12T10:51:08.066950Z"
    }
   },
   "outputs": [
    {
     "data": {
      "text/plain": [
       "Text(0.5, 1.0, 'Recall')"
      ]
     },
     "execution_count": 39,
     "metadata": {},
     "output_type": "execute_result"
    },
    {
     "data": {
      "image/png": "[encoded data removed]",
      "text/plain": [
       "<Figure size 720x360 with 1 Axes>"
      ]
     },
     "metadata": {
      "needs_background": "light"
     },
     "output_type": "display_data"
    }
   ],
   "source": [
    "plt.figure(figsize=(10, 5))\n",
    "sns.boxplot(data=df, x='method', y='recall')\n",
    "plt.xticks(rotation=90)\n",
    "plt.title('Recall')"
   ]
  },
  {
   "cell_type": "code",
   "execution_count": 40,
   "metadata": {
    "execution": {
     "iopub.execute_input": "2023-06-12T10:51:08.217886Z",
     "iopub.status.busy": "2023-06-12T10:51:08.217753Z",
     "iopub.status.idle": "2023-06-12T10:51:08.373905Z",
     "shell.execute_reply": "2023-06-12T10:51:08.373430Z",
     "shell.execute_reply.started": "2023-06-12T10:51:08.217870Z"
    }
   },
   "outputs": [
    {
     "data": {
      "text/plain": [
       "Text(0.5, 1.0, 'F1')"
      ]
     },
     "execution_count": 40,
     "metadata": {},
     "output_type": "execute_result"
    },
    {
     "data": {
      "image/png": "[encoded data removed]",
      "text/plain": [
       "<Figure size 720x360 with 1 Axes>"
      ]
     },
     "metadata": {
      "needs_background": "light"
     },
     "output_type": "display_data"
    }
   ],
   "source": [
    "plt.figure(figsize=(10, 5))\n",
    "sns.boxplot(data=df, x='method', y='f1')\n",
    "plt.xticks(rotation=90)\n",
    "plt.title('F1')"
   ]
  },
  {
   "cell_type": "code",
   "execution_count": 41,
   "metadata": {
    "execution": {
     "iopub.execute_input": "2023-06-12T10:51:08.376061Z",
     "iopub.status.busy": "2023-06-12T10:51:08.375928Z",
     "iopub.status.idle": "2023-06-12T10:51:08.408522Z",
     "shell.execute_reply": "2023-06-12T10:51:08.408168Z",
     "shell.execute_reply.started": "2023-06-12T10:51:08.376046Z"
    }
   },
   "outputs": [],
   "source": [
    "df.to_pickle('evaluation_1.0E6_horizon_%d_alpha_%.2f_beta_%.2f.p' % (horizon, env_alpha, env_beta))"
   ]
  },
  {
   "cell_type": "code",
   "execution_count": null,
   "metadata": {},
   "outputs": [],
   "source": []
  }
 ],
 "metadata": {
  "kernelspec": {
   "display_name": "Python 3 (ipykernel)",
   "language": "python",
   "name": "python3"
  },
  "language_info": {
   "codemirror_mode": {
    "name": "ipython",
    "version": 3
   },
   "file_extension": ".py",
   "mimetype": "text/x-python",
   "name": "python",
   "nbconvert_exporter": "python",
   "pygments_lexer": "ipython3",
   "version": "3.8.12"
  },
  "vscode": {
   "interpreter": {
    "hash": "05a318a39bdd806c866a458e5513009c97d8e8627387c5b7a048c974669be487"
   }
  }
 },
 "nbformat": 4,
 "nbformat_minor": 4
}
