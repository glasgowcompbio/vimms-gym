{
 "cells": [
  {
   "cell_type": "markdown",
   "metadata": {},
   "source": [
    "# Evaluation using QCB chemicals (medium)"
   ]
  },
  {
   "cell_type": "code",
   "execution_count": 46,
   "metadata": {
    "execution": {
     "iopub.execute_input": "2023-03-27T17:46:14.592754Z",
     "iopub.status.busy": "2023-03-27T17:46:14.592183Z",
     "iopub.status.idle": "2023-03-27T17:46:14.632645Z",
     "shell.execute_reply": "2023-03-27T17:46:14.632121Z",
     "shell.execute_reply.started": "2023-03-27T17:46:14.592726Z"
    },
    "pycharm": {
     "name": "#%%\n"
    },
    "tags": []
   },
   "outputs": [
    {
     "name": "stdout",
     "output_type": "stream",
     "text": [
      "The autoreload extension is already loaded. To reload it, use:\n",
      "  %reload_ext autoreload\n"
     ]
    }
   ],
   "source": [
    "%matplotlib inline\n",
    "\n",
    "%load_ext autoreload\n",
    "%autoreload 2"
   ]
  },
  {
   "cell_type": "code",
   "execution_count": 47,
   "metadata": {
    "execution": {
     "iopub.execute_input": "2023-03-27T17:46:14.634009Z",
     "iopub.status.busy": "2023-03-27T17:46:14.633644Z",
     "iopub.status.idle": "2023-03-27T17:46:14.666175Z",
     "shell.execute_reply": "2023-03-27T17:46:14.665591Z",
     "shell.execute_reply.started": "2023-03-27T17:46:14.633992Z"
    },
    "pycharm": {
     "name": "#%%\n"
    }
   },
   "outputs": [],
   "source": [
    "import os\n",
    "import sys\n",
    "from os.path import exists\n",
    "import copy\n",
    "\n",
    "sys.path.append('../..')"
   ]
  },
  {
   "cell_type": "code",
   "execution_count": 48,
   "metadata": {
    "execution": {
     "iopub.execute_input": "2023-03-27T17:46:14.667147Z",
     "iopub.status.busy": "2023-03-27T17:46:14.667004Z",
     "iopub.status.idle": "2023-03-27T17:46:14.701232Z",
     "shell.execute_reply": "2023-03-27T17:46:14.700583Z",
     "shell.execute_reply.started": "2023-03-27T17:46:14.667130Z"
    },
    "pycharm": {
     "name": "#%%\n"
    },
    "tags": []
   },
   "outputs": [],
   "source": [
    "import pylab as plt\n",
    "import pandas as pd\n",
    "import numpy as np\n",
    "from loguru import logger\n",
    "import seaborn as sns\n",
    "\n",
    "from stable_baselines3 import DQN, PPO\n",
    "from sb3_contrib import RecurrentPPO, MaskablePPO"
   ]
  },
  {
   "cell_type": "code",
   "execution_count": 49,
   "metadata": {
    "execution": {
     "iopub.execute_input": "2023-03-27T17:46:14.702661Z",
     "iopub.status.busy": "2023-03-27T17:46:14.702187Z",
     "iopub.status.idle": "2023-03-27T17:46:14.738243Z",
     "shell.execute_reply": "2023-03-27T17:46:14.737550Z",
     "shell.execute_reply.started": "2023-03-27T17:46:14.702637Z"
    },
    "pycharm": {
     "name": "#%%\n"
    },
    "tags": []
   },
   "outputs": [],
   "source": [
    "from vimms.Common import POSITIVE, set_log_level_warning, load_obj, save_obj\n",
    "from vimms.ChemicalSamplers import UniformRTAndIntensitySampler, GaussianChromatogramSampler, UniformMZFormulaSampler, \\\n",
    "    MZMLFormulaSampler, MZMLRTandIntensitySampler, MZMLChromatogramSampler\n",
    "from vimms.Noise import UniformSpikeNoise\n",
    "from vimms.Evaluation import evaluate_real\n",
    "from vimms.Chemicals import ChemicalMixtureFromMZML\n",
    "from vimms.Roi import RoiBuilderParams, SmartRoiParams\n",
    "\n",
    "from mass_spec_utils.data_import.mzmine import load_picked_boxes\n",
    "\n",
    "from vimms_gym.env import DDAEnv\n",
    "from vimms_gym.chemicals import generate_chemicals\n",
    "from vimms_gym.evaluation import evaluate, run_method\n",
    "from vimms_gym.common import METHOD_RANDOM, METHOD_FULLSCAN, METHOD_TOPN, METHOD_DQN, \\\n",
    "    METHOD_DQN_COV, METHOD_DQN_INT, METHOD_DQN_MID, METHOD_PPO, METHOD_PPO_RECURRENT\n",
    "from vimms_gym.experiments import preset_qcb_medium"
   ]
  },
  {
   "cell_type": "markdown",
   "metadata": {
    "pycharm": {
     "name": "#%% md\n"
    }
   },
   "source": [
    "# 1. Parameters"
   ]
  },
  {
   "cell_type": "markdown",
   "metadata": {},
   "source": [
    "Parameters that will be used throughout this notebook. Should be the same as the training ones."
   ]
  },
  {
   "cell_type": "markdown",
   "metadata": {},
   "source": [
    "Chemical generation parameters"
   ]
  },
  {
   "cell_type": "code",
   "execution_count": 50,
   "metadata": {
    "execution": {
     "iopub.execute_input": "2023-03-27T17:46:14.740048Z",
     "iopub.status.busy": "2023-03-27T17:46:14.739897Z",
     "iopub.status.idle": "2023-03-27T17:46:14.796569Z",
     "shell.execute_reply": "2023-03-27T17:46:14.796068Z",
     "shell.execute_reply.started": "2023-03-27T17:46:14.740030Z"
    }
   },
   "outputs": [
    {
     "data": {
      "text/plain": [
       "({'chemical_creator': {'mz_range': (100, 600),\n",
       "   'rt_range': (400, 800),\n",
       "   'intensity_range': (10000.0, 1e+20),\n",
       "   'n_chemicals': (200, 500),\n",
       "   'mz_sampler': <vimms.ChemicalSamplers.MZMLFormulaSampler at 0x7f637e650160>,\n",
       "   'ri_sampler': <vimms.ChemicalSamplers.MZMLRTandIntensitySampler at 0x7f6380227e20>,\n",
       "   'cr_sampler': <vimms.ChemicalSamplers.MZMLChromatogramSampler at 0x7f63822ae430>},\n",
       "  'noise': {'enable_spike_noise': True,\n",
       "   'noise_density': 0.1,\n",
       "   'noise_max_val': 1000.0,\n",
       "   'mz_range': (100, 600)},\n",
       "  'env': {'ionisation_mode': 'Positive',\n",
       "   'rt_range': (400, 800),\n",
       "   'isolation_window': 0.7,\n",
       "   'use_dew': False,\n",
       "   'mz_tol': 10,\n",
       "   'rt_tol': 5,\n",
       "   'min_ms1_intensity': 5000,\n",
       "   'alpha': 0.0,\n",
       "   'beta': 0.0}},\n",
       " 200)"
      ]
     },
     "execution_count": 50,
     "metadata": {},
     "output_type": "execute_result"
    }
   ],
   "source": [
    "env_alpha = 0.00\n",
    "env_beta = 0.00\n",
    "extract = True\n",
    "params, max_peaks = preset_qcb_medium(None, alpha=env_alpha, beta=env_beta, extract_chromatograms=extract)\n",
    "params, max_peaks"
   ]
  },
  {
   "cell_type": "code",
   "execution_count": 51,
   "metadata": {
    "execution": {
     "iopub.execute_input": "2023-03-27T17:46:14.797839Z",
     "iopub.status.busy": "2023-03-27T17:46:14.797705Z",
     "iopub.status.idle": "2023-03-27T17:46:14.828986Z",
     "shell.execute_reply": "2023-03-27T17:46:14.828557Z",
     "shell.execute_reply.started": "2023-03-27T17:46:14.797823Z"
    },
    "pycharm": {
     "name": "#%%\n"
    }
   },
   "outputs": [],
   "source": [
    "# n_chemicals = (200, 500)\n",
    "# mz_range = (100, 600)\n",
    "# rt_range = (400, 800)\n",
    "# intensity_range = (1E4, 1E20)"
   ]
  },
  {
   "cell_type": "markdown",
   "metadata": {},
   "source": [
    "Evaluation parameters"
   ]
  },
  {
   "cell_type": "code",
   "execution_count": 52,
   "metadata": {
    "execution": {
     "iopub.execute_input": "2023-03-27T17:46:14.830159Z",
     "iopub.status.busy": "2023-03-27T17:46:14.830028Z",
     "iopub.status.idle": "2023-03-27T17:46:14.861451Z",
     "shell.execute_reply": "2023-03-27T17:46:14.860972Z",
     "shell.execute_reply.started": "2023-03-27T17:46:14.830143Z"
    }
   },
   "outputs": [],
   "source": [
    "env_name = 'DDAEnv'\n",
    "intensity_threshold = 0.5\n",
    "max_peaks = 200\n",
    "\n",
    "dqn_in_dir = 'DQN_10.0E6'\n",
    "\n",
    "# ppo_in_dir = os.path.join('..', '..', 'tune', 'QCB_resimulated_medium')\n",
    "ppo_in_dir = 'PPO_1.0E6'\n",
    "\n",
    "methods = [\n",
    "    METHOD_RANDOM,\n",
    "    METHOD_PPO,\n",
    "    METHOD_DQN,        \n",
    "    METHOD_TOPN,\n",
    "]\n",
    "valid_random = True\n",
    "n_eval_episodes = 30"
   ]
  },
  {
   "cell_type": "code",
   "execution_count": 53,
   "metadata": {
    "execution": {
     "iopub.execute_input": "2023-03-27T17:46:14.862244Z",
     "iopub.status.busy": "2023-03-27T17:46:14.862119Z",
     "iopub.status.idle": "2023-03-27T17:46:14.897224Z",
     "shell.execute_reply": "2023-03-27T17:46:14.896800Z",
     "shell.execute_reply.started": "2023-03-27T17:46:14.862229Z"
    }
   },
   "outputs": [],
   "source": [
    "# topN parameters\n",
    "topN_N = 10\n",
    "topN_rt_tol = 5\n",
    "min_ms1_intensity = 5000\n",
    "\n",
    "# smartroi parameters\n",
    "alpha = 2\n",
    "beta = 0.5\n",
    "ils = 0\n",
    "smartroi_N = topN_N\n",
    "smartroi_dew = topN_rt_tol\n",
    "\n",
    "# weighteddew parameters\n",
    "t0 = 3\n",
    "t1 = 15\n",
    "weighteddew_N = 10"
   ]
  },
  {
   "cell_type": "markdown",
   "metadata": {},
   "source": [
    "## Generate chemical sets for evaluation"
   ]
  },
  {
   "cell_type": "code",
   "execution_count": 54,
   "metadata": {
    "execution": {
     "iopub.execute_input": "2023-03-27T17:46:14.898461Z",
     "iopub.status.busy": "2023-03-27T17:46:14.897926Z",
     "iopub.status.idle": "2023-03-27T17:46:17.053626Z",
     "shell.execute_reply": "2023-03-27T17:46:17.053074Z",
     "shell.execute_reply.started": "2023-03-27T17:46:14.898443Z"
    }
   },
   "outputs": [
    {
     "name": "stdout",
     "output_type": "stream",
     "text": [
      "426\n",
      "262\n",
      "394\n",
      "452\n",
      "437\n",
      "200\n",
      "478\n",
      "204\n",
      "424\n",
      "384\n",
      "443\n",
      "249\n",
      "251\n",
      "300\n",
      "206\n",
      "407\n",
      "498\n",
      "372\n",
      "302\n",
      "265\n",
      "468\n",
      "234\n",
      "322\n",
      "310\n",
      "345\n",
      "396\n",
      "203\n",
      "281\n",
      "493\n",
      "304\n"
     ]
    }
   ],
   "source": [
    "fname = 'QCB_chems_medium.p'\n",
    "found = exists(fname)\n",
    "if found:\n",
    "    chem_list = load_obj(fname)\n",
    "    for chems in chem_list:\n",
    "        print(len(chems))"
   ]
  },
  {
   "cell_type": "markdown",
   "metadata": {},
   "source": [
    "Generate new chemicals if not found"
   ]
  },
  {
   "cell_type": "code",
   "execution_count": 55,
   "metadata": {
    "execution": {
     "iopub.execute_input": "2023-03-27T17:46:17.054978Z",
     "iopub.status.busy": "2023-03-27T17:46:17.054499Z",
     "iopub.status.idle": "2023-03-27T17:46:17.087820Z",
     "shell.execute_reply": "2023-03-27T17:46:17.087356Z",
     "shell.execute_reply.started": "2023-03-27T17:46:17.054956Z"
    }
   },
   "outputs": [
    {
     "data": {
      "text/plain": [
       "{'mz_range': (100, 600),\n",
       " 'rt_range': (400, 800),\n",
       " 'intensity_range': (10000.0, 1e+20),\n",
       " 'n_chemicals': (200, 500),\n",
       " 'mz_sampler': <vimms.ChemicalSamplers.MZMLFormulaSampler at 0x7f637e650160>,\n",
       " 'ri_sampler': <vimms.ChemicalSamplers.MZMLRTandIntensitySampler at 0x7f6380227e20>,\n",
       " 'cr_sampler': <vimms.ChemicalSamplers.MZMLChromatogramSampler at 0x7f63822ae430>}"
      ]
     },
     "execution_count": 55,
     "metadata": {},
     "output_type": "execute_result"
    }
   ],
   "source": [
    "params['chemical_creator']"
   ]
  },
  {
   "cell_type": "code",
   "execution_count": 56,
   "metadata": {
    "execution": {
     "iopub.execute_input": "2023-03-27T17:46:17.088724Z",
     "iopub.status.busy": "2023-03-27T17:46:17.088587Z",
     "iopub.status.idle": "2023-03-27T17:46:17.121583Z",
     "shell.execute_reply": "2023-03-27T17:46:17.120924Z",
     "shell.execute_reply.started": "2023-03-27T17:46:17.088709Z"
    }
   },
   "outputs": [],
   "source": [
    "if not found:\n",
    "    repeat = 30\n",
    "    logger.warning('Generating chemicals')\n",
    "    \n",
    "    chemical_creator_params = params['chemical_creator']\n",
    "    chem_list = []\n",
    "    for i in range(repeat):\n",
    "        chems = generate_chemicals(chemical_creator_params)\n",
    "        print(len(chems))\n",
    "        chem_list.append(chems)\n",
    "        \n",
    "    save_obj(chem_list, fname)"
   ]
  },
  {
   "cell_type": "code",
   "execution_count": 57,
   "metadata": {
    "execution": {
     "iopub.execute_input": "2023-03-27T17:46:17.122334Z",
     "iopub.status.busy": "2023-03-27T17:46:17.122207Z",
     "iopub.status.idle": "2023-03-27T17:46:17.156075Z",
     "shell.execute_reply": "2023-03-27T17:46:17.155433Z",
     "shell.execute_reply.started": "2023-03-27T17:46:17.122322Z"
    }
   },
   "outputs": [
    {
     "data": {
      "text/plain": [
       "30"
      ]
     },
     "execution_count": 57,
     "metadata": {},
     "output_type": "execute_result"
    }
   ],
   "source": [
    "chem_list = chem_list[0:n_eval_episodes]\n",
    "len(chem_list)"
   ]
  },
  {
   "cell_type": "markdown",
   "metadata": {
    "pycharm": {
     "name": "#%% md\n"
    },
    "tags": []
   },
   "source": [
    "# 2. Evaluation"
   ]
  },
  {
   "cell_type": "code",
   "execution_count": 58,
   "metadata": {
    "execution": {
     "iopub.execute_input": "2023-03-27T17:46:17.157237Z",
     "iopub.status.busy": "2023-03-27T17:46:17.157117Z",
     "iopub.status.idle": "2023-03-27T17:46:17.190767Z",
     "shell.execute_reply": "2023-03-27T17:46:17.190294Z",
     "shell.execute_reply.started": "2023-03-27T17:46:17.157229Z"
    }
   },
   "outputs": [
    {
     "data": {
      "text/plain": [
       "26"
      ]
     },
     "execution_count": 58,
     "metadata": {},
     "output_type": "execute_result"
    }
   ],
   "source": [
    "set_log_level_warning()"
   ]
  },
  {
   "cell_type": "code",
   "execution_count": 59,
   "metadata": {
    "execution": {
     "iopub.execute_input": "2023-03-27T17:46:17.193518Z",
     "iopub.status.busy": "2023-03-27T17:46:17.193116Z",
     "iopub.status.idle": "2023-03-27T17:46:17.226946Z",
     "shell.execute_reply": "2023-03-27T17:46:17.226464Z",
     "shell.execute_reply.started": "2023-03-27T17:46:17.193501Z"
    }
   },
   "outputs": [
    {
     "data": {
      "text/plain": [
       "{'chemical_creator': {'mz_range': (100, 600),\n",
       "  'rt_range': (400, 800),\n",
       "  'intensity_range': (10000.0, 1e+20),\n",
       "  'n_chemicals': (200, 500),\n",
       "  'mz_sampler': <vimms.ChemicalSamplers.MZMLFormulaSampler at 0x7f637e650160>,\n",
       "  'ri_sampler': <vimms.ChemicalSamplers.MZMLRTandIntensitySampler at 0x7f6380227e20>,\n",
       "  'cr_sampler': <vimms.ChemicalSamplers.MZMLChromatogramSampler at 0x7f63822ae430>},\n",
       " 'noise': {'enable_spike_noise': True,\n",
       "  'noise_density': 0.1,\n",
       "  'noise_max_val': 1000.0,\n",
       "  'mz_range': (100, 600)},\n",
       " 'env': {'ionisation_mode': 'Positive',\n",
       "  'rt_range': (400, 800),\n",
       "  'isolation_window': 0.7,\n",
       "  'use_dew': False,\n",
       "  'mz_tol': 10,\n",
       "  'rt_tol': 5,\n",
       "  'min_ms1_intensity': 5000,\n",
       "  'alpha': 0.0,\n",
       "  'beta': 0.0}}"
      ]
     },
     "execution_count": 59,
     "metadata": {},
     "output_type": "execute_result"
    }
   ],
   "source": [
    "params"
   ]
  },
  {
   "cell_type": "code",
   "execution_count": 60,
   "metadata": {
    "execution": {
     "iopub.execute_input": "2023-03-27T17:46:17.228252Z",
     "iopub.status.busy": "2023-03-27T17:46:17.228100Z",
     "iopub.status.idle": "2023-03-27T17:46:17.260522Z",
     "shell.execute_reply": "2023-03-27T17:46:17.259931Z",
     "shell.execute_reply.started": "2023-03-27T17:46:17.228239Z"
    }
   },
   "outputs": [],
   "source": [
    "horizon = 1\n",
    "out_dir = 'evaluation_1.0E6_horizon_%d_alpha_%.2f_beta_%.2f' % (horizon, env_alpha, env_beta)"
   ]
  },
  {
   "cell_type": "code",
   "execution_count": 61,
   "metadata": {
    "execution": {
     "iopub.execute_input": "2023-03-27T17:46:17.261677Z",
     "iopub.status.busy": "2023-03-27T17:46:17.261488Z",
     "iopub.status.idle": "2023-03-27T18:07:04.835187Z",
     "shell.execute_reply": "2023-03-27T18:07:04.834759Z",
     "shell.execute_reply.started": "2023-03-27T17:46:17.261669Z"
    },
    "pycharm": {
     "name": "#%%\n"
    }
   },
   "outputs": [
    {
     "name": "stdout",
     "output_type": "stream",
     "text": [
      "method = random max_peaks = 200 N = 0 rt_tol = 5\n",
      "\n",
      "\n",
      "Episode 0 (426 chemicals)\n",
      "steps\t 500 \ttotal rewards\t 66.8252804147885\n",
      "steps\t 1000 \ttotal rewards\t 129.39221873603998\n",
      "steps\t 1500 \ttotal rewards\t 198.70368840129655\n",
      "Finished after 1790 timesteps (2.4957275390625 seconds) with total reward 236.54434546051436\n",
      "{'coverage_prop': '0.930', 'intensity_prop': '0.688', 'ms1ms2_ratio': '0.133', 'efficiency': '0.251', 'TP': '328', 'FP': '68', 'FN': '30', 'precision': '0.828', 'recall': '0.916', 'f1': '0.870', 'total_rewards': 236.54434546051405, 'invalid_action_count': 0, 'num_ms1_scans': 210, 'num_ms2_scans': 1580}\n",
      "\n",
      "Episode 1 (262 chemicals)\n",
      "steps\t 500 \ttotal rewards\t 63.12998053517896\n",
      "steps\t 1000 \ttotal rewards\t 130.67614644167463\n",
      "steps\t 1500 \ttotal rewards\t 199.64833494090914\n",
      "Finished after 1709 timesteps (2.2694199085235596 seconds) with total reward 231.82913024481883\n",
      "{'coverage_prop': '0.958', 'intensity_prop': '0.771', 'ms1ms2_ratio': '0.205', 'efficiency': '0.177', 'TP': '231', 'FP': '20', 'FN': '11', 'precision': '0.920', 'recall': '0.955', 'f1': '0.937', 'total_rewards': 231.82913024481905, 'invalid_action_count': 0, 'num_ms1_scans': 291, 'num_ms2_scans': 1418}\n",
      "\n",
      "Episode 2 (394 chemicals)\n",
      "steps\t 500 \ttotal rewards\t 62.29925817460517\n",
      "steps\t 1000 \ttotal rewards\t 130.23345559831324\n",
      "steps\t 1500 \ttotal rewards\t 201.44389230537047\n",
      "Finished after 1773 timesteps (3.184061050415039 seconds) with total reward 242.77268006250594\n",
      "{'coverage_prop': '0.944', 'intensity_prop': '0.705', 'ms1ms2_ratio': '0.147', 'efficiency': '0.241', 'TP': '314', 'FP': '58', 'FN': '22', 'precision': '0.844', 'recall': '0.935', 'f1': '0.887', 'total_rewards': 242.77268006250597, 'invalid_action_count': 0, 'num_ms1_scans': 227, 'num_ms2_scans': 1546}\n",
      "\n",
      "Episode 3 (452 chemicals)\n",
      "steps\t 500 \ttotal rewards\t 66.09626795906678\n",
      "steps\t 1000 \ttotal rewards\t 131.30352227774722\n",
      "steps\t 1500 \ttotal rewards\t 192.63618599406223\n",
      "Finished after 1795 timesteps (2.4896979331970215 seconds) with total reward 230.45909661324467\n",
      "{'coverage_prop': '0.945', 'intensity_prop': '0.705', 'ms1ms2_ratio': '0.129', 'efficiency': '0.269', 'TP': '374', 'FP': '53', 'FN': '25', 'precision': '0.876', 'recall': '0.937', 'f1': '0.906', 'total_rewards': 230.45909661324464, 'invalid_action_count': 0, 'num_ms1_scans': 205, 'num_ms2_scans': 1590}\n",
      "\n",
      "Episode 4 (437 chemicals)\n",
      "steps\t 500 \ttotal rewards\t 58.18789645093419\n",
      "steps\t 1000 \ttotal rewards\t 126.60954500246561\n",
      "steps\t 1500 \ttotal rewards\t 191.3551179532504\n",
      "Finished after 1778 timesteps (2.54641056060791 seconds) with total reward 227.93060247148836\n",
      "{'coverage_prop': '0.950', 'intensity_prop': '0.699', 'ms1ms2_ratio': '0.143', 'efficiency': '0.267', 'TP': '340', 'FP': '75', 'FN': '22', 'precision': '0.819', 'recall': '0.939', 'f1': '0.875', 'total_rewards': 227.93060247148838, 'invalid_action_count': 0, 'num_ms1_scans': 222, 'num_ms2_scans': 1556}\n",
      "\n",
      "Episode 5 (200 chemicals)\n",
      "steps\t 500 \ttotal rewards\t 55.82006127946427\n",
      "steps\t 1000 \ttotal rewards\t 115.83009872625016\n",
      "steps\t 1500 \ttotal rewards\t 178.74650076282822\n",
      "Finished after 1628 timesteps (2.426190137863159 seconds) with total reward 194.24047816530887\n",
      "{'coverage_prop': '0.950', 'intensity_prop': '0.802', 'ms1ms2_ratio': '0.296', 'efficiency': '0.151', 'TP': '179', 'FP': '11', 'FN': '10', 'precision': '0.942', 'recall': '0.947', 'f1': '0.945', 'total_rewards': 194.24047816530896, 'invalid_action_count': 0, 'num_ms1_scans': 372, 'num_ms2_scans': 1256}\n",
      "\n",
      "Episode 6 (478 chemicals)\n",
      "steps\t 500 \ttotal rewards\t 61.5494408558761\n",
      "steps\t 1000 \ttotal rewards\t 128.4300194713633\n",
      "steps\t 1500 \ttotal rewards\t 189.7844606062366\n",
      "Finished after 1791 timesteps (2.789180040359497 seconds) with total reward 221.64212563321234\n",
      "{'coverage_prop': '0.931', 'intensity_prop': '0.664', 'ms1ms2_ratio': '0.132', 'efficiency': '0.281', 'TP': '356', 'FP': '89', 'FN': '33', 'precision': '0.800', 'recall': '0.915', 'f1': '0.854', 'total_rewards': 221.64212563321232, 'invalid_action_count': 0, 'num_ms1_scans': 209, 'num_ms2_scans': 1582}\n",
      "\n",
      "Episode 7 (204 chemicals)\n",
      "steps\t 500 \ttotal rewards\t 52.29931573878159\n",
      "steps\t 1000 \ttotal rewards\t 122.9158804912294\n",
      "steps\t 1500 \ttotal rewards\t 189.66308801945047\n",
      "Finished after 1659 timesteps (2.426483392715454 seconds) with total reward 211.9880692027578\n",
      "{'coverage_prop': '0.951', 'intensity_prop': '0.797', 'ms1ms2_ratio': '0.259', 'efficiency': '0.147', 'TP': '183', 'FP': '11', 'FN': '10', 'precision': '0.943', 'recall': '0.948', 'f1': '0.946', 'total_rewards': 211.98806920275794, 'invalid_action_count': 0, 'num_ms1_scans': 341, 'num_ms2_scans': 1318}\n",
      "\n",
      "Episode 8 (424 chemicals)\n",
      "steps\t 500 \ttotal rewards\t 64.00627301007981\n",
      "steps\t 1000 \ttotal rewards\t 127.93107558225675\n",
      "steps\t 1500 \ttotal rewards\t 193.7997761423627\n",
      "Finished after 1787 timesteps (2.571723699569702 seconds) with total reward 230.31437206916686\n",
      "{'coverage_prop': '0.927', 'intensity_prop': '0.691', 'ms1ms2_ratio': '0.135', 'efficiency': '0.250', 'TP': '336', 'FP': '57', 'FN': '31', 'precision': '0.855', 'recall': '0.916', 'f1': '0.884', 'total_rewards': 230.31437206916695, 'invalid_action_count': 0, 'num_ms1_scans': 213, 'num_ms2_scans': 1574}\n",
      "\n",
      "Episode 9 (384 chemicals)\n",
      "steps\t 500 \ttotal rewards\t 62.291501540823646\n",
      "steps\t 1000 \ttotal rewards\t 129.7847575658917\n",
      "steps\t 1500 \ttotal rewards\t 198.11378173861848\n",
      "Finished after 1776 timesteps (3.527503252029419 seconds) with total reward 234.57773019567463\n",
      "{'coverage_prop': '0.943', 'intensity_prop': '0.718', 'ms1ms2_ratio': '0.144', 'efficiency': '0.233', 'TP': '310', 'FP': '52', 'FN': '22', 'precision': '0.856', 'recall': '0.934', 'f1': '0.893', 'total_rewards': 234.5777301956746, 'invalid_action_count': 0, 'num_ms1_scans': 224, 'num_ms2_scans': 1552}\n",
      "\n",
      "Episode 10 (443 chemicals)\n",
      "steps\t 500 \ttotal rewards\t 62.729990271553405\n",
      "steps\t 1000 \ttotal rewards\t 131.22920341916773\n",
      "steps\t 1500 \ttotal rewards\t 196.76543284239864\n",
      "Finished after 1816 timesteps (2.5370569229125977 seconds) with total reward 242.27811661082467\n",
      "{'coverage_prop': '0.948', 'intensity_prop': '0.677', 'ms1ms2_ratio': '0.113', 'efficiency': '0.257', 'TP': '335', 'FP': '85', 'FN': '23', 'precision': '0.798', 'recall': '0.936', 'f1': '0.861', 'total_rewards': 242.27811661082453, 'invalid_action_count': 0, 'num_ms1_scans': 184, 'num_ms2_scans': 1632}\n",
      "\n",
      "Episode 11 (249 chemicals)\n",
      "steps\t 500 \ttotal rewards\t 62.60769009120099\n",
      "steps\t 1000 \ttotal rewards\t 128.03608090303337\n",
      "steps\t 1500 \ttotal rewards\t 186.3661750289626\n",
      "Finished after 1697 timesteps (3.2780001163482666 seconds) with total reward 209.98609782703082\n",
      "{'coverage_prop': '0.948', 'intensity_prop': '0.770', 'ms1ms2_ratio': '0.217', 'efficiency': '0.169', 'TP': '217', 'FP': '19', 'FN': '13', 'precision': '0.919', 'recall': '0.943', 'f1': '0.931', 'total_rewards': 209.98609782703068, 'invalid_action_count': 0, 'num_ms1_scans': 303, 'num_ms2_scans': 1394}\n",
      "\n",
      "Episode 12 (251 chemicals)\n",
      "steps\t 500 \ttotal rewards\t 63.306299038067266\n",
      "steps\t 1000 \ttotal rewards\t 132.3771337453344\n",
      "steps\t 1500 \ttotal rewards\t 197.44144192999528\n",
      "Finished after 1750 timesteps (2.157766819000244 seconds) with total reward 230.91466251072004\n",
      "{'coverage_prop': '0.932', 'intensity_prop': '0.719', 'ms1ms2_ratio': '0.167', 'efficiency': '0.156', 'TP': '204', 'FP': '30', 'FN': '17', 'precision': '0.872', 'recall': '0.923', 'f1': '0.897', 'total_rewards': 230.91466251071986, 'invalid_action_count': 0, 'num_ms1_scans': 250, 'num_ms2_scans': 1500}\n",
      "\n",
      "Episode 13 (300 chemicals)\n",
      "steps\t 500 \ttotal rewards\t 58.0235320660455\n",
      "steps\t 1000 \ttotal rewards\t 123.9446737230129\n",
      "steps\t 1500 \ttotal rewards\t 188.5854670905112\n",
      "Finished after 1753 timesteps (2.339165449142456 seconds) with total reward 208.12673933132112\n",
      "{'coverage_prop': '0.923', 'intensity_prop': '0.705', 'ms1ms2_ratio': '0.164', 'efficiency': '0.184', 'TP': '236', 'FP': '41', 'FN': '23', 'precision': '0.852', 'recall': '0.911', 'f1': '0.881', 'total_rewards': 208.126739331321, 'invalid_action_count': 0, 'num_ms1_scans': 247, 'num_ms2_scans': 1506}\n",
      "\n",
      "Episode 14 (206 chemicals)\n",
      "steps\t 500 \ttotal rewards\t 55.36045056465041\n",
      "steps\t 1000 \ttotal rewards\t 126.21480050653224\n",
      "steps\t 1500 \ttotal rewards\t 183.09501801502924\n",
      "Finished after 1686 timesteps (3.4891152381896973 seconds) with total reward 203.64833788655875\n",
      "{'coverage_prop': '0.942', 'intensity_prop': '0.754', 'ms1ms2_ratio': '0.229', 'efficiency': '0.141', 'TP': '176', 'FP': '18', 'FN': '12', 'precision': '0.907', 'recall': '0.936', 'f1': '0.921', 'total_rewards': 203.64833788655903, 'invalid_action_count': 0, 'num_ms1_scans': 314, 'num_ms2_scans': 1372}\n",
      "\n",
      "Episode 15 (407 chemicals)\n",
      "steps\t 500 \ttotal rewards\t 60.56530708633287\n",
      "steps\t 1000 \ttotal rewards\t 128.308153443865\n",
      "steps\t 1500 \ttotal rewards\t 194.21002694245104\n",
      "Finished after 1753 timesteps (2.5943000316619873 seconds) with total reward 228.8590631602746\n",
      "{'coverage_prop': '0.948', 'intensity_prop': '0.734', 'ms1ms2_ratio': '0.164', 'efficiency': '0.256', 'TP': '337', 'FP': '49', 'FN': '21', 'precision': '0.873', 'recall': '0.941', 'f1': '0.906', 'total_rewards': 228.85906316027442, 'invalid_action_count': 0, 'num_ms1_scans': 247, 'num_ms2_scans': 1506}\n",
      "\n",
      "Episode 16 (498 chemicals)\n",
      "steps\t 500 \ttotal rewards\t 60.42507959771768\n",
      "steps\t 1000 \ttotal rewards\t 134.13827602291417\n",
      "steps\t 1500 \ttotal rewards\t 198.91172395672714\n",
      "Finished after 1800 timesteps (2.7288436889648438 seconds) with total reward 237.58450935722564\n",
      "{'coverage_prop': '0.938', 'intensity_prop': '0.693', 'ms1ms2_ratio': '0.125', 'efficiency': '0.292', 'TP': '393', 'FP': '74', 'FN': '31', 'precision': '0.842', 'recall': '0.927', 'f1': '0.882', 'total_rewards': 237.58450935722527, 'invalid_action_count': 0, 'num_ms1_scans': 200, 'num_ms2_scans': 1600}\n",
      "\n",
      "Episode 17 (372 chemicals)\n",
      "steps\t 500 \ttotal rewards\t 63.83929125770818\n",
      "steps\t 1000 \ttotal rewards\t 129.5163335315103\n",
      "steps\t 1500 \ttotal rewards\t 198.25065476864586\n",
      "Finished after 1774 timesteps (3.687586784362793 seconds) with total reward 238.27090674943656\n",
      "{'coverage_prop': '0.938', 'intensity_prop': '0.720', 'ms1ms2_ratio': '0.146', 'efficiency': '0.225', 'TP': '309', 'FP': '40', 'FN': '23', 'precision': '0.885', 'recall': '0.931', 'f1': '0.907', 'total_rewards': 238.27090674943642, 'invalid_action_count': 0, 'num_ms1_scans': 226, 'num_ms2_scans': 1548}\n",
      "\n",
      "Episode 18 (302 chemicals)\n",
      "steps\t 500 \ttotal rewards\t 65.05673909533965\n",
      "steps\t 1000 \ttotal rewards\t 134.17984205775352\n",
      "steps\t 1500 \ttotal rewards\t 200.76971132854177\n",
      "Finished after 1722 timesteps (2.637925863265991 seconds) with total reward 230.4656959290893\n",
      "{'coverage_prop': '0.964', 'intensity_prop': '0.760', 'ms1ms2_ratio': '0.193', 'efficiency': '0.202', 'TP': '263', 'FP': '28', 'FN': '11', 'precision': '0.904', 'recall': '0.960', 'f1': '0.931', 'total_rewards': 230.46569592908904, 'invalid_action_count': 0, 'num_ms1_scans': 278, 'num_ms2_scans': 1444}\n",
      "\n",
      "Episode 19 (265 chemicals)\n",
      "steps\t 500 \ttotal rewards\t 61.06443390349603\n",
      "steps\t 1000 \ttotal rewards\t 130.54642679059148\n",
      "steps\t 1500 \ttotal rewards\t 203.50185489672685\n",
      "Finished after 1750 timesteps (2.1532132625579834 seconds) with total reward 238.66462063297755\n",
      "{'coverage_prop': '0.951', 'intensity_prop': '0.764', 'ms1ms2_ratio': '0.167', 'efficiency': '0.168', 'TP': '229', 'FP': '23', 'FN': '13', 'precision': '0.909', 'recall': '0.946', 'f1': '0.927', 'total_rewards': 238.6646206329776, 'invalid_action_count': 0, 'num_ms1_scans': 250, 'num_ms2_scans': 1500}\n",
      "\n",
      "Episode 20 (468 chemicals)\n",
      "steps\t 500 \ttotal rewards\t 56.363650095983786\n",
      "steps\t 1000 \ttotal rewards\t 119.3621590634354\n",
      "steps\t 1500 \ttotal rewards\t 180.0000239929775\n",
      "Finished after 1795 timesteps (3.715545654296875 seconds) with total reward 218.90604163951235\n",
      "{'coverage_prop': '0.912', 'intensity_prop': '0.673', 'ms1ms2_ratio': '0.129', 'efficiency': '0.269', 'TP': '361', 'FP': '66', 'FN': '41', 'precision': '0.845', 'recall': '0.898', 'f1': '0.871', 'total_rewards': 218.90604163951218, 'invalid_action_count': 0, 'num_ms1_scans': 205, 'num_ms2_scans': 1590}\n",
      "\n",
      "Episode 21 (234 chemicals)\n",
      "steps\t 500 \ttotal rewards\t 63.81896884960477\n",
      "steps\t 1000 \ttotal rewards\t 130.0386266392568\n",
      "steps\t 1500 \ttotal rewards\t 194.95816525633154\n",
      "Finished after 1675 timesteps (2.422309637069702 seconds) with total reward 216.5100913683862\n",
      "{'coverage_prop': '0.940', 'intensity_prop': '0.772', 'ms1ms2_ratio': '0.241', 'efficiency': '0.163', 'TP': '198', 'FP': '22', 'FN': '14', 'precision': '0.900', 'recall': '0.934', 'f1': '0.917', 'total_rewards': 216.51009136838613, 'invalid_action_count': 0, 'num_ms1_scans': 325, 'num_ms2_scans': 1350}\n",
      "\n",
      "Episode 22 (322 chemicals)\n",
      "steps\t 500 \ttotal rewards\t 59.689463541258895\n",
      "steps\t 1000 \ttotal rewards\t 124.3578452663605\n",
      "steps\t 1500 \ttotal rewards\t 186.7440714911673\n",
      "Finished after 1744 timesteps (2.2847900390625 seconds) with total reward 222.93735049562022\n",
      "{'coverage_prop': '0.941', 'intensity_prop': '0.739', 'ms1ms2_ratio': '0.172', 'efficiency': '0.204', 'TP': '273', 'FP': '30', 'FN': '19', 'precision': '0.901', 'recall': '0.935', 'f1': '0.918', 'total_rewards': 222.9373504956203, 'invalid_action_count': 0, 'num_ms1_scans': 256, 'num_ms2_scans': 1488}\n",
      "\n",
      "Episode 23 (310 chemicals)\n",
      "steps\t 500 \ttotal rewards\t 56.802574389773284\n",
      "steps\t 1000 \ttotal rewards\t 123.86518100035073\n",
      "steps\t 1500 \ttotal rewards\t 196.58726516500346\n",
      "Finished after 1707 timesteps (3.7109949588775635 seconds) with total reward 224.7101673907523\n",
      "{'coverage_prop': '0.939', 'intensity_prop': '0.737', 'ms1ms2_ratio': '0.207', 'efficiency': '0.206', 'TP': '258', 'FP': '33', 'FN': '19', 'precision': '0.887', 'recall': '0.931', 'f1': '0.908', 'total_rewards': 224.71016739075228, 'invalid_action_count': 0, 'num_ms1_scans': 293, 'num_ms2_scans': 1414}\n",
      "\n",
      "Episode 24 (345 chemicals)\n",
      "steps\t 500 \ttotal rewards\t 59.41609709753219\n",
      "steps\t 1000 \ttotal rewards\t 132.53046163601613\n",
      "steps\t 1500 \ttotal rewards\t 202.43634566448233\n",
      "Finished after 1758 timesteps (2.4485585689544678 seconds) with total reward 242.85711098362185\n",
      "{'coverage_prop': '0.971', 'intensity_prop': '0.724', 'ms1ms2_ratio': '0.160', 'efficiency': '0.221', 'TP': '290', 'FP': '45', 'FN': '10', 'precision': '0.866', 'recall': '0.967', 'f1': '0.913', 'total_rewards': 242.8571109836215, 'invalid_action_count': 0, 'num_ms1_scans': 242, 'num_ms2_scans': 1516}\n",
      "\n",
      "Episode 25 (396 chemicals)\n",
      "steps\t 500 \ttotal rewards\t 67.97270231640871\n",
      "steps\t 1000 \ttotal rewards\t 135.66656700944117\n",
      "steps\t 1500 \ttotal rewards\t 206.08245079282582\n",
      "Finished after 1799 timesteps (2.2477478981018066 seconds) with total reward 245.24563424111165\n",
      "{'coverage_prop': '0.957', 'intensity_prop': '0.731', 'ms1ms2_ratio': '0.126', 'efficiency': '0.237', 'TP': '329', 'FP': '50', 'FN': '17', 'precision': '0.868', 'recall': '0.951', 'f1': '0.908', 'total_rewards': 245.2456342411114, 'invalid_action_count': 0, 'num_ms1_scans': 202, 'num_ms2_scans': 1597}\n",
      "\n",
      "Episode 26 (203 chemicals)\n",
      "steps\t 500 \ttotal rewards\t 50.46631513353568\n",
      "steps\t 1000 \ttotal rewards\t 120.602628371835\n",
      "steps\t 1500 \ttotal rewards\t 187.7329661556568\n",
      "Finished after 1667 timesteps (2.183527946472168 seconds) with total reward 209.14013533161892\n",
      "{'coverage_prop': '0.961', 'intensity_prop': '0.806', 'ms1ms2_ratio': '0.250', 'efficiency': '0.146', 'TP': '186', 'FP': '9', 'FN': '8', 'precision': '0.954', 'recall': '0.959', 'f1': '0.956', 'total_rewards': 209.14013533161884, 'invalid_action_count': 0, 'num_ms1_scans': 333, 'num_ms2_scans': 1334}\n",
      "\n",
      "Episode 27 (281 chemicals)\n",
      "steps\t 500 \ttotal rewards\t 58.15630700513854\n",
      "steps\t 1000 \ttotal rewards\t 121.99703547034066\n",
      "steps\t 1500 \ttotal rewards\t 192.00664106987188\n",
      "Finished after 1716 timesteps (3.732227325439453 seconds) with total reward 224.67013822012143\n",
      "{'coverage_prop': '0.954', 'intensity_prop': '0.772', 'ms1ms2_ratio': '0.198', 'efficiency': '0.187', 'TP': '246', 'FP': '22', 'FN': '13', 'precision': '0.918', 'recall': '0.950', 'f1': '0.934', 'total_rewards': 224.67013822012117, 'invalid_action_count': 0, 'num_ms1_scans': 284, 'num_ms2_scans': 1432}\n",
      "\n",
      "Episode 28 (493 chemicals)\n",
      "steps\t 500 \ttotal rewards\t 61.940092694772616\n",
      "steps\t 1000 \ttotal rewards\t 126.76491332640816\n",
      "steps\t 1500 \ttotal rewards\t 197.28243903373544\n",
      "Finished after 1828 timesteps (2.455422878265381 seconds) with total reward 244.7295676120316\n",
      "{'coverage_prop': '0.927', 'intensity_prop': '0.654', 'ms1ms2_ratio': '0.105', 'efficiency': '0.276', 'TP': '361', 'FP': '96', 'FN': '36', 'precision': '0.790', 'recall': '0.909', 'f1': '0.845', 'total_rewards': 244.7295676120317, 'invalid_action_count': 0, 'num_ms1_scans': 173, 'num_ms2_scans': 1655}\n",
      "\n",
      "Episode 29 (304 chemicals)\n",
      "steps\t 500 \ttotal rewards\t 53.631270657481565\n",
      "steps\t 1000 \ttotal rewards\t 121.66729961576179\n",
      "steps\t 1500 \ttotal rewards\t 189.64469394552486\n",
      "Finished after 1733 timesteps (2.3427162170410156 seconds) with total reward 220.7996989157237\n",
      "{'coverage_prop': '0.957', 'intensity_prop': '0.755', 'ms1ms2_ratio': '0.182', 'efficiency': '0.198', 'TP': '260', 'FP': '31', 'FN': '13', 'precision': '0.893', 'recall': '0.952', 'f1': '0.922', 'total_rewards': 220.7996989157237, 'invalid_action_count': 0, 'num_ms1_scans': 267, 'num_ms2_scans': 1466}\n",
      "\n",
      "method = PPO max_peaks = 200 N = 0 rt_tol = 5\n",
      "\n",
      "\n",
      "Episode 0 (426 chemicals)\n",
      "steps\t 500 \ttotal rewards\t 72.20392886153496\n",
      "steps\t 1000 \ttotal rewards\t 137.82004844047628\n",
      "steps\t 1500 \ttotal rewards\t 208.69200462435654\n",
      "Finished after 1836 timesteps (4.245155572891235 seconds) with total reward 254.49823822198346\n",
      "{'coverage_prop': '0.930', 'intensity_prop': '0.706', 'ms1ms2_ratio': '0.098', 'efficiency': '0.237', 'TP': '341', 'FP': '55', 'FN': '30', 'precision': '0.861', 'recall': '0.919', 'f1': '0.889', 'total_rewards': 254.49823822198334, 'invalid_action_count': 0, 'num_ms1_scans': 164, 'num_ms2_scans': 1672}\n",
      "\n",
      "Episode 1 (262 chemicals)\n",
      "steps\t 500 \ttotal rewards\t 69.26970912782906\n",
      "steps\t 1000 \ttotal rewards\t 141.1041569914508\n",
      "steps\t 1500 \ttotal rewards\t 212.7535652166761\n",
      "Finished after 1791 timesteps (5.582154035568237 seconds) with total reward 258.95861008358787\n",
      "{'coverage_prop': '0.943', 'intensity_prop': '0.787', 'ms1ms2_ratio': '0.132', 'efficiency': '0.156', 'TP': '231', 'FP': '16', 'FN': '15', 'precision': '0.935', 'recall': '0.939', 'f1': '0.937', 'total_rewards': 258.9586100835882, 'invalid_action_count': 0, 'num_ms1_scans': 209, 'num_ms2_scans': 1582}\n",
      "\n",
      "Episode 2 (394 chemicals)\n",
      "steps\t 500 \ttotal rewards\t 68.5647505567405\n",
      "steps\t 1000 \ttotal rewards\t 138.86952799201327\n",
      "steps\t 1500 \ttotal rewards\t 211.329622923264\n",
      "Finished after 1815 timesteps (4.498382329940796 seconds) with total reward 258.5038132138376\n",
      "{'coverage_prop': '0.939', 'intensity_prop': '0.717', 'ms1ms2_ratio': '0.113', 'efficiency': '0.227', 'TP': '322', 'FP': '48', 'FN': '24', 'precision': '0.870', 'recall': '0.931', 'f1': '0.899', 'total_rewards': 258.50381321383713, 'invalid_action_count': 0, 'num_ms1_scans': 185, 'num_ms2_scans': 1630}\n",
      "\n",
      "Episode 3 (452 chemicals)\n",
      "steps\t 500 \ttotal rewards\t 69.66538371012766\n",
      "steps\t 1000 \ttotal rewards\t 136.93108901684235\n",
      "steps\t 1500 \ttotal rewards\t 199.1355452305922\n",
      "Finished after 1836 timesteps (4.232789039611816 seconds) with total reward 244.3811440949592\n",
      "{'coverage_prop': '0.940', 'intensity_prop': '0.731', 'ms1ms2_ratio': '0.098', 'efficiency': '0.254', 'TP': '379', 'FP': '46', 'FN': '27', 'precision': '0.892', 'recall': '0.933', 'f1': '0.912', 'total_rewards': 244.38114409495958, 'invalid_action_count': 0, 'num_ms1_scans': 164, 'num_ms2_scans': 1672}\n",
      "\n",
      "Episode 4 (437 chemicals)\n",
      "steps\t 500 \ttotal rewards\t 63.07499559523404\n",
      "steps\t 1000 \ttotal rewards\t 133.44436208265387\n",
      "steps\t 1500 \ttotal rewards\t 201.19249466061547\n",
      "Finished after 1822 timesteps (4.864362955093384 seconds) with total reward 244.24665597344762\n",
      "{'coverage_prop': '0.954', 'intensity_prop': '0.721', 'ms1ms2_ratio': '0.108', 'efficiency': '0.254', 'TP': '355', 'FP': '62', 'FN': '20', 'precision': '0.851', 'recall': '0.947', 'f1': '0.896', 'total_rewards': 244.2466559734474, 'invalid_action_count': 0, 'num_ms1_scans': 178, 'num_ms2_scans': 1644}\n",
      "\n",
      "Episode 5 (200 chemicals)\n",
      "steps\t 500 \ttotal rewards\t 65.14709804756635\n",
      "steps\t 1000 \ttotal rewards\t 131.34122565546008\n",
      "steps\t 1500 \ttotal rewards\t 200.5306358914655\n",
      "Finished after 1750 timesteps (5.557159900665283 seconds) with total reward 233.46747890109853\n",
      "{'coverage_prop': '0.955', 'intensity_prop': '0.837', 'ms1ms2_ratio': '0.167', 'efficiency': '0.127', 'TP': '184', 'FP': '7', 'FN': '9', 'precision': '0.963', 'recall': '0.953', 'f1': '0.958', 'total_rewards': 233.46747890109864, 'invalid_action_count': 0, 'num_ms1_scans': 250, 'num_ms2_scans': 1500}\n",
      "\n",
      "Episode 6 (478 chemicals)\n",
      "steps\t 500 \ttotal rewards\t 65.48846066355829\n",
      "steps\t 1000 \ttotal rewards\t 135.0531864900458\n",
      "steps\t 1500 \ttotal rewards\t 198.0896989717064\n",
      "Finished after 1836 timesteps (4.524122714996338 seconds) with total reward 236.44997824676983\n",
      "{'coverage_prop': '0.929', 'intensity_prop': '0.678', 'ms1ms2_ratio': '0.098', 'efficiency': '0.266', 'TP': '363', 'FP': '81', 'FN': '34', 'precision': '0.818', 'recall': '0.914', 'f1': '0.863', 'total_rewards': 236.44997824676997, 'invalid_action_count': 0, 'num_ms1_scans': 164, 'num_ms2_scans': 1672}\n",
      "\n",
      "Episode 7 (204 chemicals)\n",
      "steps\t 500 \ttotal rewards\t 60.169024366985724\n",
      "steps\t 1000 \ttotal rewards\t 132.48016132696813\n",
      "steps\t 1500 \ttotal rewards\t 204.60490083522734\n",
      "Finished after 1762 timesteps (3.6975624561309814 seconds) with total reward 243.4498128945233\n",
      "{'coverage_prop': '0.951', 'intensity_prop': '0.817', 'ms1ms2_ratio': '0.156', 'efficiency': '0.127', 'TP': '186', 'FP': '8', 'FN': '10', 'precision': '0.959', 'recall': '0.949', 'f1': '0.954', 'total_rewards': 243.44981289452326, 'invalid_action_count': 0, 'num_ms1_scans': 238, 'num_ms2_scans': 1524}\n",
      "\n",
      "Episode 8 (424 chemicals)\n",
      "steps\t 500 \ttotal rewards\t 68.04611713198462\n",
      "steps\t 1000 \ttotal rewards\t 136.345698045243\n",
      "steps\t 1500 \ttotal rewards\t 205.2894816315872\n",
      "Finished after 1851 timesteps (4.0277135372161865 seconds) with total reward 250.94167174517122\n",
      "{'coverage_prop': '0.939', 'intensity_prop': '0.732', 'ms1ms2_ratio': '0.088', 'efficiency': '0.234', 'TP': '349', 'FP': '49', 'FN': '26', 'precision': '0.877', 'recall': '0.931', 'f1': '0.903', 'total_rewards': 250.94167174517148, 'invalid_action_count': 0, 'num_ms1_scans': 149, 'num_ms2_scans': 1702}\n",
      "\n",
      "Episode 9 (384 chemicals)\n",
      "steps\t 500 \ttotal rewards\t 65.2818300813488\n",
      "steps\t 1000 \ttotal rewards\t 134.84234473804673\n",
      "steps\t 1500 \ttotal rewards\t 207.28044252598204\n",
      "Finished after 1832 timesteps (3.9369025230407715 seconds) with total reward 253.85937576578567\n",
      "{'coverage_prop': '0.948', 'intensity_prop': '0.748', 'ms1ms2_ratio': '0.101', 'efficiency': '0.219', 'TP': '325', 'FP': '39', 'FN': '20', 'precision': '0.893', 'recall': '0.942', 'f1': '0.917', 'total_rewards': 253.85937576578533, 'invalid_action_count': 0, 'num_ms1_scans': 168, 'num_ms2_scans': 1664}\n",
      "\n",
      "Episode 10 (443 chemicals)\n",
      "steps\t 500 \ttotal rewards\t 66.96469251219342\n",
      "steps\t 1000 \ttotal rewards\t 137.69542542853236\n",
      "steps\t 1500 \ttotal rewards\t 207.36858292725287\n",
      "Finished after 1860 timesteps (6.304365396499634 seconds) with total reward 259.09915007224095\n",
      "{'coverage_prop': '0.935', 'intensity_prop': '0.702', 'ms1ms2_ratio': '0.081', 'efficiency': '0.241', 'TP': '351', 'FP': '63', 'FN': '29', 'precision': '0.848', 'recall': '0.924', 'f1': '0.884', 'total_rewards': 259.099150072241, 'invalid_action_count': 0, 'num_ms1_scans': 140, 'num_ms2_scans': 1720}\n",
      "\n",
      "Episode 11 (249 chemicals)\n",
      "steps\t 500 \ttotal rewards\t 69.40562005343068\n",
      "steps\t 1000 \ttotal rewards\t 140.24162945263814\n",
      "steps\t 1500 \ttotal rewards\t 202.65999805522296\n",
      "Finished after 1781 timesteps (4.171676397323608 seconds) with total reward 236.58841225919676\n",
      "{'coverage_prop': '0.952', 'intensity_prop': '0.792', 'ms1ms2_ratio': '0.140', 'efficiency': '0.152', 'TP': '219', 'FP': '18', 'FN': '12', 'precision': '0.924', 'recall': '0.948', 'f1': '0.936', 'total_rewards': 236.5884122591966, 'invalid_action_count': 0, 'num_ms1_scans': 219, 'num_ms2_scans': 1562}\n",
      "\n",
      "Episode 12 (251 chemicals)\n",
      "steps\t 500 \ttotal rewards\t 71.20027837147221\n",
      "steps\t 1000 \ttotal rewards\t 144.61790076411452\n",
      "steps\t 1500 \ttotal rewards\t 212.55625605159966\n",
      "Finished after 1823 timesteps (4.012126445770264 seconds) with total reward 257.9650214816629\n",
      "{'coverage_prop': '0.940', 'intensity_prop': '0.760', 'ms1ms2_ratio': '0.108', 'efficiency': '0.143', 'TP': '211', 'FP': '25', 'FN': '15', 'precision': '0.894', 'recall': '0.934', 'f1': '0.913', 'total_rewards': 257.9650214816624, 'invalid_action_count': 0, 'num_ms1_scans': 177, 'num_ms2_scans': 1646}\n",
      "\n",
      "Episode 13 (300 chemicals)\n",
      "steps\t 500 \ttotal rewards\t 65.40079455413229\n",
      "steps\t 1000 \ttotal rewards\t 133.63880321533702\n",
      "steps\t 1500 \ttotal rewards\t 200.82000832060297\n",
      "Finished after 1816 timesteps (4.513312816619873 seconds) with total reward 228.9573520615953\n",
      "{'coverage_prop': '0.943', 'intensity_prop': '0.742', 'ms1ms2_ratio': '0.113', 'efficiency': '0.173', 'TP': '249', 'FP': '34', 'FN': '17', 'precision': '0.880', 'recall': '0.936', 'f1': '0.907', 'total_rewards': 228.95735206159532, 'invalid_action_count': 0, 'num_ms1_scans': 184, 'num_ms2_scans': 1632}\n",
      "\n",
      "Episode 14 (206 chemicals)\n",
      "steps\t 500 \ttotal rewards\t 62.286951130331154\n",
      "steps\t 1000 \ttotal rewards\t 136.23666715772097\n",
      "steps\t 1500 \ttotal rewards\t 202.9790968857037\n",
      "Finished after 1784 timesteps (3.6569015979766846 seconds) with total reward 232.66984680565446\n",
      "{'coverage_prop': '0.947', 'intensity_prop': '0.778', 'ms1ms2_ratio': '0.138', 'efficiency': '0.124', 'TP': '178', 'FP': '17', 'FN': '11', 'precision': '0.913', 'recall': '0.942', 'f1': '0.927', 'total_rewards': 232.6698468056546, 'invalid_action_count': 0, 'num_ms1_scans': 216, 'num_ms2_scans': 1568}\n",
      "\n",
      "Episode 15 (407 chemicals)\n",
      "steps\t 500 \ttotal rewards\t 64.78585757215727\n",
      "steps\t 1000 \ttotal rewards\t 135.91810144694054\n",
      "steps\t 1500 \ttotal rewards\t 200.83063046592451\n",
      "Finished after 1820 timesteps (4.031792640686035 seconds) with total reward 247.64790674580493\n",
      "{'coverage_prop': '0.946', 'intensity_prop': '0.744', 'ms1ms2_ratio': '0.110', 'efficiency': '0.235', 'TP': '339', 'FP': '46', 'FN': '22', 'precision': '0.881', 'recall': '0.939', 'f1': '0.909', 'total_rewards': 247.64790674580507, 'invalid_action_count': 0, 'num_ms1_scans': 180, 'num_ms2_scans': 1640}\n",
      "\n",
      "Episode 16 (498 chemicals)\n",
      "steps\t 500 \ttotal rewards\t 64.25682446549213\n",
      "steps\t 1000 \ttotal rewards\t 137.8766578833778\n",
      "steps\t 1500 \ttotal rewards\t 205.73343050163595\n",
      "Finished after 1846 timesteps (6.448038101196289 seconds) with total reward 252.89164944803096\n",
      "{'coverage_prop': '0.960', 'intensity_prop': '0.721', 'ms1ms2_ratio': '0.091', 'efficiency': '0.283', 'TP': '411', 'FP': '67', 'FN': '20', 'precision': '0.860', 'recall': '0.954', 'f1': '0.904', 'total_rewards': 252.89164944803113, 'invalid_action_count': 0, 'num_ms1_scans': 154, 'num_ms2_scans': 1692}\n",
      "\n",
      "Episode 17 (372 chemicals)\n",
      "steps\t 500 \ttotal rewards\t 70.16616972451769\n",
      "steps\t 1000 \ttotal rewards\t 139.07674458761028\n",
      "steps\t 1500 \ttotal rewards\t 210.80945154856227\n",
      "Finished after 1832 timesteps (4.190917491912842 seconds) with total reward 258.77210976206555\n",
      "{'coverage_prop': '0.938', 'intensity_prop': '0.738', 'ms1ms2_ratio': '0.101', 'efficiency': '0.210', 'TP': '310', 'FP': '39', 'FN': '23', 'precision': '0.888', 'recall': '0.931', 'f1': '0.909', 'total_rewards': 258.7721097620659, 'invalid_action_count': 0, 'num_ms1_scans': 168, 'num_ms2_scans': 1664}\n",
      "\n",
      "Episode 18 (302 chemicals)\n",
      "steps\t 500 \ttotal rewards\t 71.58785056528295\n",
      "steps\t 1000 \ttotal rewards\t 143.81567431280695\n",
      "steps\t 1500 \ttotal rewards\t 214.6228605797716\n",
      "Finished after 1813 timesteps (4.845694065093994 seconds) with total reward 260.415068472272\n",
      "{'coverage_prop': '0.960', 'intensity_prop': '0.774', 'ms1ms2_ratio': '0.115', 'efficiency': '0.178', 'TP': '262', 'FP': '28', 'FN': '12', 'precision': '0.903', 'recall': '0.956', 'f1': '0.929', 'total_rewards': 260.41506847227214, 'invalid_action_count': 0, 'num_ms1_scans': 187, 'num_ms2_scans': 1626}\n",
      "\n",
      "Episode 19 (265 chemicals)\n",
      "steps\t 500 \ttotal rewards\t 66.97583893519447\n",
      "steps\t 1000 \ttotal rewards\t 137.03016812058308\n",
      "steps\t 1500 \ttotal rewards\t 213.52518384392815\n",
      "Finished after 1821 timesteps (3.809981107711792 seconds) with total reward 262.6926425112631\n",
      "{'coverage_prop': '0.974', 'intensity_prop': '0.796', 'ms1ms2_ratio': '0.109', 'efficiency': '0.157', 'TP': '232', 'FP': '26', 'FN': '7', 'precision': '0.899', 'recall': '0.971', 'f1': '0.934', 'total_rewards': 262.6926425112632, 'invalid_action_count': 0, 'num_ms1_scans': 179, 'num_ms2_scans': 1642}\n",
      "\n",
      "Episode 20 (468 chemicals)\n",
      "steps\t 500 \ttotal rewards\t 60.68906089481557\n",
      "steps\t 1000 \ttotal rewards\t 127.42066393524237\n",
      "steps\t 1500 \ttotal rewards\t 191.2124103773957\n",
      "Finished after 1842 timesteps (4.414714813232422 seconds) with total reward 238.76003186779474\n",
      "{'coverage_prop': '0.921', 'intensity_prop': '0.697', 'ms1ms2_ratio': '0.094', 'efficiency': '0.256', 'TP': '371', 'FP': '60', 'FN': '37', 'precision': '0.861', 'recall': '0.909', 'f1': '0.884', 'total_rewards': 238.76003186779465, 'invalid_action_count': 0, 'num_ms1_scans': 158, 'num_ms2_scans': 1684}\n",
      "\n",
      "Episode 21 (234 chemicals)\n",
      "steps\t 500 \ttotal rewards\t 71.74952542932343\n",
      "steps\t 1000 \ttotal rewards\t 141.77455231721706\n",
      "steps\t 1500 \ttotal rewards\t 213.2738905556745\n",
      "Finished after 1773 timesteps (4.080586671829224 seconds) with total reward 247.26462637478093\n",
      "{'coverage_prop': '0.944', 'intensity_prop': '0.776', 'ms1ms2_ratio': '0.147', 'efficiency': '0.143', 'TP': '205', 'FP': '16', 'FN': '13', 'precision': '0.928', 'recall': '0.940', 'f1': '0.934', 'total_rewards': 247.2646263747806, 'invalid_action_count': 0, 'num_ms1_scans': 227, 'num_ms2_scans': 1546}\n",
      "\n",
      "Episode 22 (322 chemicals)\n",
      "steps\t 500 \ttotal rewards\t 65.21128814682568\n",
      "steps\t 1000 \ttotal rewards\t 131.6817475076607\n",
      "steps\t 1500 \ttotal rewards\t 196.2697457350318\n",
      "Finished after 1821 timesteps (3.9967780113220215 seconds) with total reward 245.92218016035824\n",
      "{'coverage_prop': '0.953', 'intensity_prop': '0.760', 'ms1ms2_ratio': '0.109', 'efficiency': '0.187', 'TP': '284', 'FP': '23', 'FN': '15', 'precision': '0.925', 'recall': '0.950', 'f1': '0.937', 'total_rewards': 245.92218016035895, 'invalid_action_count': 0, 'num_ms1_scans': 179, 'num_ms2_scans': 1642}\n",
      "\n",
      "Episode 23 (310 chemicals)\n",
      "steps\t 500 \ttotal rewards\t 66.02203272493946\n",
      "steps\t 1000 \ttotal rewards\t 137.564936279751\n",
      "steps\t 1500 \ttotal rewards\t 212.9477288910401\n",
      "Finished after 1798 timesteps (4.055907249450684 seconds) with total reward 254.9717907278469\n",
      "{'coverage_prop': '0.945', 'intensity_prop': '0.764', 'ms1ms2_ratio': '0.127', 'efficiency': '0.184', 'TP': '262', 'FP': '31', 'FN': '17', 'precision': '0.894', 'recall': '0.939', 'f1': '0.916', 'total_rewards': 254.9717907278473, 'invalid_action_count': 0, 'num_ms1_scans': 202, 'num_ms2_scans': 1596}\n",
      "\n",
      "Episode 24 (345 chemicals)\n",
      "steps\t 500 \ttotal rewards\t 67.20589540785468\n",
      "steps\t 1000 \ttotal rewards\t 142.35826280427034\n",
      "steps\t 1500 \ttotal rewards\t 212.71133130021317\n",
      "Finished after 1824 timesteps (4.071518898010254 seconds) with total reward 265.196179249405\n",
      "{'coverage_prop': '0.977', 'intensity_prop': '0.765', 'ms1ms2_ratio': '0.107', 'efficiency': '0.204', 'TP': '298', 'FP': '39', 'FN': '8', 'precision': '0.884', 'recall': '0.974', 'f1': '0.927', 'total_rewards': 265.1961792494052, 'invalid_action_count': 0, 'num_ms1_scans': 176, 'num_ms2_scans': 1648}\n",
      "\n",
      "Episode 25 (396 chemicals)\n",
      "steps\t 500 \ttotal rewards\t 73.27714394412975\n",
      "steps\t 1000 \ttotal rewards\t 141.50905115139568\n",
      "steps\t 1500 \ttotal rewards\t 215.43759143636473\n",
      "Finished after 1842 timesteps (4.490517616271973 seconds) with total reward 261.9644080261105\n",
      "{'coverage_prop': '0.965', 'intensity_prop': '0.754', 'ms1ms2_ratio': '0.094', 'efficiency': '0.227', 'TP': '338', 'FP': '44', 'FN': '14', 'precision': '0.885', 'recall': '0.960', 'f1': '0.921', 'total_rewards': 261.9644080261107, 'invalid_action_count': 0, 'num_ms1_scans': 158, 'num_ms2_scans': 1684}\n",
      "\n",
      "Episode 26 (203 chemicals)\n",
      "steps\t 500 \ttotal rewards\t 55.938225787403326\n",
      "steps\t 1000 \ttotal rewards\t 130.4457539583106\n",
      "steps\t 1500 \ttotal rewards\t 202.93109434390993\n",
      "Finished after 1768 timesteps (3.639477491378784 seconds) with total reward 240.10828227565116\n",
      "{'coverage_prop': '0.956', 'intensity_prop': '0.816', 'ms1ms2_ratio': '0.151', 'efficiency': '0.126', 'TP': '186', 'FP': '8', 'FN': '9', 'precision': '0.959', 'recall': '0.954', 'f1': '0.956', 'total_rewards': 240.10828227565153, 'invalid_action_count': 0, 'num_ms1_scans': 232, 'num_ms2_scans': 1536}\n",
      "\n",
      "Episode 27 (281 chemicals)\n",
      "steps\t 500 \ttotal rewards\t 64.79407732583692\n",
      "steps\t 1000 \ttotal rewards\t 132.00048183437622\n",
      "steps\t 1500 \ttotal rewards\t 203.86279749580103\n",
      "Finished after 1793 timesteps (3.855311632156372 seconds) with total reward 250.26601548461434\n",
      "{'coverage_prop': '0.957', 'intensity_prop': '0.788', 'ms1ms2_ratio': '0.131', 'efficiency': '0.170', 'TP': '245', 'FP': '24', 'FN': '12', 'precision': '0.911', 'recall': '0.953', 'f1': '0.932', 'total_rewards': 250.26601548461434, 'invalid_action_count': 0, 'num_ms1_scans': 207, 'num_ms2_scans': 1586}\n",
      "\n",
      "Episode 28 (493 chemicals)\n",
      "steps\t 500 \ttotal rewards\t 66.25448602958016\n",
      "steps\t 1000 \ttotal rewards\t 132.85492254755837\n",
      "steps\t 1500 \ttotal rewards\t 204.04735636101256\n",
      "Finished after 1856 timesteps (6.6887006759643555 seconds) with total reward 257.4180825632801\n",
      "{'coverage_prop': '0.913', 'intensity_prop': '0.658', 'ms1ms2_ratio': '0.084', 'efficiency': '0.263', 'TP': '366', 'FP': '84', 'FN': '43', 'precision': '0.813', 'recall': '0.895', 'f1': '0.852', 'total_rewards': 257.4180825632795, 'invalid_action_count': 0, 'num_ms1_scans': 144, 'num_ms2_scans': 1712}\n",
      "\n",
      "Episode 29 (304 chemicals)\n",
      "steps\t 500 \ttotal rewards\t 57.520711856268505\n",
      "steps\t 1000 \ttotal rewards\t 130.43128859437007\n",
      "steps\t 1500 \ttotal rewards\t 200.80378610403483\n",
      "Finished after 1817 timesteps (3.937849760055542 seconds) with total reward 245.78086570836564\n",
      "{'coverage_prop': '0.954', 'intensity_prop': '0.769', 'ms1ms2_ratio': '0.113', 'efficiency': '0.178', 'TP': '260', 'FP': '30', 'FN': '14', 'precision': '0.897', 'recall': '0.949', 'f1': '0.922', 'total_rewards': 245.7808657083652, 'invalid_action_count': 0, 'num_ms1_scans': 184, 'num_ms2_scans': 1633}\n",
      "\n",
      "method = DQN max_peaks = 200 N = 0 rt_tol = 5\n",
      "\n",
      "\n",
      "Episode 0 (426 chemicals)\n",
      "steps\t 500 \ttotal rewards\t 72.674313056338\n",
      "steps\t 1000 \ttotal rewards\t 72.41950413485355\n",
      "steps\t 1500 \ttotal rewards\t 72.37605493233171\n",
      "Finished after 1775 timesteps (3.541808843612671 seconds) with total reward 109.91790332903525\n",
      "{'coverage_prop': '0.805', 'intensity_prop': '0.592', 'ms1ms2_ratio': '0.145', 'efficiency': '0.221', 'TP': '286', 'FP': '57', 'FN': '83', 'precision': '0.834', 'recall': '0.775', 'f1': '0.803', 'total_rewards': 109.91790332903498, 'invalid_action_count': 123, 'num_ms1_scans': 225, 'num_ms2_scans': 1550}\n",
      "\n",
      "Episode 1 (262 chemicals)\n",
      "steps\t 500 \ttotal rewards\t 67.13955246205454\n",
      "steps\t 1000 \ttotal rewards\t 126.8980450963213\n",
      "steps\t 1500 \ttotal rewards\t 144.96520519477917\n",
      "Finished after 1737 timesteps (2.8841395378112793 seconds) with total reward 182.53051022987313\n",
      "{'coverage_prop': '0.908', 'intensity_prop': '0.754', 'ms1ms2_ratio': '0.178', 'efficiency': '0.161', 'TP': '219', 'FP': '19', 'FN': '24', 'precision': '0.920', 'recall': '0.901', 'f1': '0.911', 'total_rewards': 182.53051022987296, 'invalid_action_count': 59, 'num_ms1_scans': 263, 'num_ms2_scans': 1474}\n",
      "\n",
      "Episode 2 (394 chemicals)\n",
      "steps\t 500 \ttotal rewards\t 66.76646746220055\n",
      "steps\t 1000 \ttotal rewards\t 106.23982452679228\n",
      "steps\t 1500 \ttotal rewards\t 27.72649651948295\n",
      "Finished after 1769 timesteps (3.50527286529541 seconds) with total reward 62.176684284589754\n",
      "{'coverage_prop': '0.827', 'intensity_prop': '0.607', 'ms1ms2_ratio': '0.150', 'efficiency': '0.212', 'TP': '265', 'FP': '61', 'FN': '68', 'precision': '0.813', 'recall': '0.796', 'f1': '0.804', 'total_rewards': 62.17668428458971, 'invalid_action_count': 162, 'num_ms1_scans': 231, 'num_ms2_scans': 1538}\n",
      "\n",
      "Episode 3 (452 chemicals)\n",
      "steps\t 500 \ttotal rewards\t 61.33061743956185\n",
      "steps\t 1000 \ttotal rewards\t -111.53693319018679\n",
      "steps\t 1500 \ttotal rewards\t -322.0493194205961\n",
      "Finished after 1805 timesteps (3.1026766300201416 seconds) with total reward -288.0825670525552\n",
      "{'coverage_prop': '0.746', 'intensity_prop': '0.508', 'ms1ms2_ratio': '0.121', 'efficiency': '0.209', 'TP': '253', 'FP': '84', 'FN': '115', 'precision': '0.751', 'recall': '0.688', 'f1': '0.718', 'total_rewards': -288.08256705255496, 'invalid_action_count': 463, 'num_ms1_scans': 195, 'num_ms2_scans': 1610}\n",
      "\n",
      "Episode 4 (437 chemicals)\n",
      "steps\t 500 \ttotal rewards\t 61.33186635630569\n",
      "steps\t 1000 \ttotal rewards\t 34.558663000652984\n",
      "steps\t 1500 \ttotal rewards\t 63.26190858014512\n",
      "Finished after 1766 timesteps (5.564868450164795 seconds) with total reward 99.22105503289276\n",
      "{'coverage_prop': '0.854', 'intensity_prop': '0.630', 'ms1ms2_ratio': '0.153', 'efficiency': '0.243', 'TP': '312', 'FP': '61', 'FN': '64', 'precision': '0.836', 'recall': '0.830', 'f1': '0.833', 'total_rewards': 99.22105503289264, 'invalid_action_count': 119, 'num_ms1_scans': 234, 'num_ms2_scans': 1532}\n",
      "\n",
      "Episode 5 (200 chemicals)\n",
      "steps\t 500 \ttotal rewards\t 63.03580754288687\n",
      "steps\t 1000 \ttotal rewards\t 128.20794267169651\n",
      "steps\t 1500 \ttotal rewards\t 191.97858218287936\n",
      "Finished after 1699 timesteps (2.931018829345703 seconds) with total reward 215.4015696639757\n",
      "{'coverage_prop': '0.950', 'intensity_prop': '0.812', 'ms1ms2_ratio': '0.215', 'efficiency': '0.136', 'TP': '178', 'FP': '12', 'FN': '10', 'precision': '0.937', 'recall': '0.947', 'f1': '0.942', 'total_rewards': 215.40156966397555, 'invalid_action_count': 6, 'num_ms1_scans': 301, 'num_ms2_scans': 1398}\n",
      "\n",
      "Episode 6 (478 chemicals)\n",
      "steps\t 500 \ttotal rewards\t 61.63649901545761\n",
      "steps\t 1000 \ttotal rewards\t 39.264512354405\n",
      "steps\t 1500 \ttotal rewards\t 20.70097138423599\n",
      "Finished after 1777 timesteps (3.5254013538360596 seconds) with total reward 51.3285522235243\n",
      "{'coverage_prop': '0.799', 'intensity_prop': '0.563', 'ms1ms2_ratio': '0.144', 'efficiency': '0.246', 'TP': '296', 'FP': '86', 'FN': '96', 'precision': '0.775', 'recall': '0.755', 'f1': '0.765', 'total_rewards': 51.328552223524206, 'invalid_action_count': 156, 'num_ms1_scans': 223, 'num_ms2_scans': 1554}\n",
      "\n",
      "Episode 7 (204 chemicals)\n",
      "steps\t 500 \ttotal rewards\t 55.44104385078864\n",
      "steps\t 1000 \ttotal rewards\t 127.54575094407576\n",
      "steps\t 1500 \ttotal rewards\t 196.48567609635387\n",
      "Finished after 1688 timesteps (2.8598668575286865 seconds) with total reward 221.59074570296548\n",
      "{'coverage_prop': '0.926', 'intensity_prop': '0.782', 'ms1ms2_ratio': '0.227', 'efficiency': '0.137', 'TP': '176', 'FP': '13', 'FN': '15', 'precision': '0.931', 'recall': '0.921', 'f1': '0.926', 'total_rewards': 221.59074570296542, 'invalid_action_count': 4, 'num_ms1_scans': 312, 'num_ms2_scans': 1376}\n",
      "\n",
      "Episode 8 (424 chemicals)\n",
      "steps\t 500 \ttotal rewards\t 69.07043612257183\n",
      "steps\t 1000 \ttotal rewards\t 127.14470261818406\n",
      "steps\t 1500 \ttotal rewards\t 197.70861016351176\n",
      "Finished after 1772 timesteps (4.962661266326904 seconds) with total reward 234.869965501024\n",
      "{'coverage_prop': '0.861', 'intensity_prop': '0.650', 'ms1ms2_ratio': '0.148', 'efficiency': '0.236', 'TP': '306', 'FP': '59', 'FN': '59', 'precision': '0.838', 'recall': '0.838', 'f1': '0.838', 'total_rewards': 234.86996550102353, 'invalid_action_count': 12, 'num_ms1_scans': 228, 'num_ms2_scans': 1544}\n",
      "\n",
      "Episode 9 (384 chemicals)\n",
      "steps\t 500 \ttotal rewards\t 65.01329177584618\n",
      "steps\t 1000 \ttotal rewards\t 87.24202281609601\n",
      "steps\t 1500 \ttotal rewards\t 48.57831795327904\n",
      "Finished after 1776 timesteps (3.0006351470947266 seconds) with total reward 87.95591761901517\n",
      "{'coverage_prop': '0.823', 'intensity_prop': '0.622', 'ms1ms2_ratio': '0.144', 'efficiency': '0.204', 'TP': '268', 'FP': '48', 'FN': '68', 'precision': '0.848', 'recall': '0.798', 'f1': '0.822', 'total_rewards': 87.95591761901522, 'invalid_action_count': 140, 'num_ms1_scans': 224, 'num_ms2_scans': 1552}\n",
      "\n",
      "Episode 10 (443 chemicals)\n",
      "steps\t 500 \ttotal rewards\t 53.06554477266259\n",
      "steps\t 1000 \ttotal rewards\t 100.14760022063305\n",
      "steps\t 1500 \ttotal rewards\t -29.296526664614348\n",
      "Finished after 1795 timesteps (3.162651538848877 seconds) with total reward 15.66538927758242\n",
      "{'coverage_prop': '0.790', 'intensity_prop': '0.570', 'ms1ms2_ratio': '0.129', 'efficiency': '0.220', 'TP': '283', 'FP': '67', 'FN': '93', 'precision': '0.809', 'recall': '0.753', 'f1': '0.780', 'total_rewards': 15.665389277582566, 'invalid_action_count': 211, 'num_ms1_scans': 205, 'num_ms2_scans': 1590}\n",
      "\n",
      "Episode 11 (249 chemicals)\n",
      "steps\t 500 \ttotal rewards\t 68.02856766515889\n",
      "steps\t 1000 \ttotal rewards\t 135.05835058323163\n",
      "steps\t 1500 \ttotal rewards\t 198.3734811800527\n",
      "Finished after 1729 timesteps (2.782221555709839 seconds) with total reward 215.44808183743646\n",
      "{'coverage_prop': '0.924', 'intensity_prop': '0.766', 'ms1ms2_ratio': '0.186', 'efficiency': '0.158', 'TP': '215', 'FP': '15', 'FN': '19', 'precision': '0.935', 'recall': '0.919', 'f1': '0.927', 'total_rewards': 215.44808183743694, 'invalid_action_count': 11, 'num_ms1_scans': 271, 'num_ms2_scans': 1458}\n",
      "\n",
      "Episode 12 (251 chemicals)\n",
      "steps\t 500 \ttotal rewards\t 68.71713989956399\n",
      "steps\t 1000 \ttotal rewards\t 105.1040779811184\n",
      "steps\t 1500 \ttotal rewards\t 158.18213639574907\n",
      "Finished after 1758 timesteps (4.711122751235962 seconds) with total reward 193.05690135545655\n",
      "{'coverage_prop': '0.892', 'intensity_prop': '0.698', 'ms1ms2_ratio': '0.160', 'efficiency': '0.148', 'TP': '195', 'FP': '29', 'FN': '27', 'precision': '0.871', 'recall': '0.878', 'f1': '0.874', 'total_rewards': 193.05690135545677, 'invalid_action_count': 42, 'num_ms1_scans': 242, 'num_ms2_scans': 1516}\n",
      "\n",
      "Episode 13 (300 chemicals)\n",
      "steps\t 500 \ttotal rewards\t 65.0404309053386\n",
      "steps\t 1000 \ttotal rewards\t 105.03630584718465\n",
      "steps\t 1500 \ttotal rewards\t 168.5856212704604\n",
      "Finished after 1749 timesteps (3.183155059814453 seconds) with total reward 188.40273095032197\n",
      "{'coverage_prop': '0.873', 'intensity_prop': '0.658', 'ms1ms2_ratio': '0.168', 'efficiency': '0.175', 'TP': '220', 'FP': '42', 'FN': '38', 'precision': '0.840', 'recall': '0.853', 'f1': '0.846', 'total_rewards': 188.40273095032188, 'invalid_action_count': 25, 'num_ms1_scans': 251, 'num_ms2_scans': 1498}\n",
      "\n",
      "Episode 14 (206 chemicals)\n",
      "steps\t 500 \ttotal rewards\t 60.232412124497515\n",
      "steps\t 1000 \ttotal rewards\t 133.11851551309343\n",
      "steps\t 1500 \ttotal rewards\t 191.390737289013\n",
      "Finished after 1714 timesteps (2.7004711627960205 seconds) with total reward 214.03451554146505\n",
      "{'coverage_prop': '0.883', 'intensity_prop': '0.711', 'ms1ms2_ratio': '0.200', 'efficiency': '0.127', 'TP': '162', 'FP': '20', 'FN': '24', 'precision': '0.890', 'recall': '0.871', 'f1': '0.880', 'total_rewards': 214.03451554146514, 'invalid_action_count': 3, 'num_ms1_scans': 286, 'num_ms2_scans': 1428}\n",
      "\n",
      "Episode 15 (407 chemicals)\n",
      "steps\t 500 \ttotal rewards\t 62.545710904704045\n",
      "steps\t 1000 \ttotal rewards\t 23.2949452811445\n",
      "steps\t 1500 \ttotal rewards\t 87.87399178553702\n",
      "Finished after 1766 timesteps (3.134748697280884 seconds) with total reward 125.87564590884955\n",
      "{'coverage_prop': '0.877', 'intensity_prop': '0.682', 'ms1ms2_ratio': '0.153', 'efficiency': '0.233', 'TP': '304', 'FP': '53', 'FN': '50', 'precision': '0.852', 'recall': '0.859', 'f1': '0.855', 'total_rewards': 125.87564590884946, 'invalid_action_count': 103, 'num_ms1_scans': 235, 'num_ms2_scans': 1531}\n",
      "\n",
      "Episode 16 (498 chemicals)\n",
      "steps\t 500 \ttotal rewards\t 54.25124346829463\n",
      "steps\t 1000 \ttotal rewards\t 68.56934272079374\n",
      "steps\t 1500 \ttotal rewards\t 102.34073928557187\n",
      "Finished after 1779 timesteps (5.421352386474609 seconds) with total reward 142.06352070842735\n",
      "{'coverage_prop': '0.817', 'intensity_prop': '0.608', 'ms1ms2_ratio': '0.143', 'efficiency': '0.261', 'TP': '344', 'FP': '63', 'FN': '91', 'precision': '0.845', 'recall': '0.791', 'f1': '0.817', 'total_rewards': 142.06352070842723, 'invalid_action_count': 93, 'num_ms1_scans': 222, 'num_ms2_scans': 1557}\n",
      "\n",
      "Episode 17 (372 chemicals)\n",
      "steps\t 500 \ttotal rewards\t 70.47061123471835\n",
      "steps\t 1000 \ttotal rewards\t 130.27239201419468\n",
      "steps\t 1500 \ttotal rewards\t 120.24161079738909\n",
      "Finished after 1771 timesteps (3.152287244796753 seconds) with total reward 159.62199299737537\n",
      "{'coverage_prop': '0.839', 'intensity_prop': '0.640', 'ms1ms2_ratio': '0.149', 'efficiency': '0.202', 'TP': '267', 'FP': '45', 'FN': '60', 'precision': '0.856', 'recall': '0.817', 'f1': '0.836', 'total_rewards': 159.62199299737537, 'invalid_action_count': 76, 'num_ms1_scans': 229, 'num_ms2_scans': 1542}\n",
      "\n",
      "Episode 18 (302 chemicals)\n",
      "steps\t 500 \ttotal rewards\t 67.83960236940452\n",
      "steps\t 1000 \ttotal rewards\t 118.1407887271375\n",
      "steps\t 1500 \ttotal rewards\t 181.27688339793278\n",
      "Finished after 1749 timesteps (3.022275924682617 seconds) with total reward 219.74966265103347\n",
      "{'coverage_prop': '0.904', 'intensity_prop': '0.726', 'ms1ms2_ratio': '0.168', 'efficiency': '0.182', 'TP': '245', 'FP': '28', 'FN': '29', 'precision': '0.897', 'recall': '0.894', 'f1': '0.896', 'total_rewards': 219.74966265103356, 'invalid_action_count': 27, 'num_ms1_scans': 251, 'num_ms2_scans': 1498}\n",
      "\n",
      "Episode 19 (265 chemicals)\n",
      "steps\t 500 \ttotal rewards\t 63.70036274232013\n",
      "steps\t 1000 \ttotal rewards\t 121.07983683921512\n",
      "steps\t 1500 \ttotal rewards\t 191.6105146457465\n",
      "Finished after 1749 timesteps (3.169198513031006 seconds) with total reward 228.14295533398823\n",
      "{'coverage_prop': '0.936', 'intensity_prop': '0.761', 'ms1ms2_ratio': '0.168', 'efficiency': '0.166', 'TP': '224', 'FP': '24', 'FN': '17', 'precision': '0.903', 'recall': '0.929', 'f1': '0.916', 'total_rewards': 228.14295533398803, 'invalid_action_count': 17, 'num_ms1_scans': 251, 'num_ms2_scans': 1498}\n",
      "\n",
      "Episode 20 (468 chemicals)\n",
      "steps\t 500 \ttotal rewards\t 59.49380715216364\n",
      "steps\t 1000 \ttotal rewards\t -10.568061957265158\n",
      "steps\t 1500 \ttotal rewards\t -214.13834170091195\n",
      "Finished after 1798 timesteps (3.4285202026367188 seconds) with total reward -169.2544650627335\n",
      "{'coverage_prop': '0.731', 'intensity_prop': '0.527', 'ms1ms2_ratio': '0.127', 'efficiency': '0.214', 'TP': '274', 'FP': '68', 'FN': '126', 'precision': '0.801', 'recall': '0.685', 'f1': '0.739', 'total_rewards': -169.25446506273366, 'invalid_action_count': 359, 'num_ms1_scans': 202, 'num_ms2_scans': 1596}\n",
      "\n",
      "Episode 21 (234 chemicals)\n",
      "steps\t 500 \ttotal rewards\t 69.61076431939448\n",
      "steps\t 1000 \ttotal rewards\t 140.68693539671318\n",
      "steps\t 1500 \ttotal rewards\t 210.72285391332372\n",
      "Finished after 1709 timesteps (4.908535718917847 seconds) with total reward 234.36555476532556\n",
      "{'coverage_prop': '0.940', 'intensity_prop': '0.779', 'ms1ms2_ratio': '0.205', 'efficiency': '0.155', 'TP': '197', 'FP': '23', 'FN': '14', 'precision': '0.895', 'recall': '0.934', 'f1': '0.914', 'total_rewards': 234.36555476532567, 'invalid_action_count': 2, 'num_ms1_scans': 291, 'num_ms2_scans': 1418}\n",
      "\n",
      "Episode 22 (322 chemicals)\n",
      "steps\t 500 \ttotal rewards\t 64.24310749334569\n",
      "steps\t 1000 \ttotal rewards\t 121.75733361311588\n",
      "steps\t 1500 \ttotal rewards\t 184.2622165835264\n",
      "Finished after 1755 timesteps (3.157240629196167 seconds) with total reward 224.97706858534508\n",
      "{'coverage_prop': '0.882', 'intensity_prop': '0.679', 'ms1ms2_ratio': '0.162', 'efficiency': '0.188', 'TP': '245', 'FP': '39', 'FN': '38', 'precision': '0.863', 'recall': '0.866', 'f1': '0.864', 'total_rewards': 224.97706858534556, 'invalid_action_count': 8, 'num_ms1_scans': 245, 'num_ms2_scans': 1510}\n",
      "\n",
      "Episode 23 (310 chemicals)\n",
      "steps\t 500 \ttotal rewards\t 63.984602831573696\n",
      "steps\t 1000 \ttotal rewards\t 131.60715565529\n",
      "steps\t 1500 \ttotal rewards\t 196.17192783003708\n",
      "Finished after 1735 timesteps (3.3443305492401123 seconds) with total reward 229.9450980723554\n",
      "{'coverage_prop': '0.894', 'intensity_prop': '0.715', 'ms1ms2_ratio': '0.180', 'efficiency': '0.188', 'TP': '248', 'FP': '29', 'FN': '33', 'precision': '0.895', 'recall': '0.883', 'f1': '0.889', 'total_rewards': 229.9450980723554, 'invalid_action_count': 12, 'num_ms1_scans': 265, 'num_ms2_scans': 1470}\n",
      "\n",
      "Episode 24 (345 chemicals)\n",
      "steps\t 500 \ttotal rewards\t 66.6959402754989\n",
      "steps\t 1000 \ttotal rewards\t 55.607370417408376\n",
      "steps\t 1500 \ttotal rewards\t 126.65262058333164\n",
      "Finished after 1754 timesteps (2.910330057144165 seconds) with total reward 165.4366858429064\n",
      "{'coverage_prop': '0.875', 'intensity_prop': '0.658', 'ms1ms2_ratio': '0.163', 'efficiency': '0.200', 'TP': '253', 'FP': '49', 'FN': '43', 'precision': '0.838', 'recall': '0.855', 'f1': '0.846', 'total_rewards': 165.43668584290617, 'invalid_action_count': 81, 'num_ms1_scans': 246, 'num_ms2_scans': 1508}\n",
      "\n",
      "Episode 25 (396 chemicals)\n",
      "steps\t 500 \ttotal rewards\t 71.80059885633403\n",
      "steps\t 1000 \ttotal rewards\t 139.19788522817805\n",
      "steps\t 1500 \ttotal rewards\t 164.38251223299915\n",
      "Finished after 1780 timesteps (3.048114061355591 seconds) with total reward 201.64134166838505\n",
      "{'coverage_prop': '0.884', 'intensity_prop': '0.680', 'ms1ms2_ratio': '0.142', 'efficiency': '0.225', 'TP': '305', 'FP': '45', 'FN': '46', 'precision': '0.871', 'recall': '0.869', 'f1': '0.870', 'total_rewards': 201.64134166838542, 'invalid_action_count': 46, 'num_ms1_scans': 221, 'num_ms2_scans': 1559}\n",
      "\n",
      "Episode 26 (203 chemicals)\n",
      "steps\t 500 \ttotal rewards\t 51.595196209356715\n",
      "steps\t 1000 \ttotal rewards\t 121.8665601908619\n",
      "steps\t 1500 \ttotal rewards\t 191.7639191773203\n",
      "Finished after 1695 timesteps (5.3090081214904785 seconds) with total reward 218.40536263622508\n",
      "{'coverage_prop': '0.946', 'intensity_prop': '0.801', 'ms1ms2_ratio': '0.219', 'efficiency': '0.138', 'TP': '184', 'FP': '8', 'FN': '11', 'precision': '0.958', 'recall': '0.944', 'f1': '0.951', 'total_rewards': 218.40536263622522, 'invalid_action_count': 3, 'num_ms1_scans': 305, 'num_ms2_scans': 1390}\n",
      "\n",
      "Episode 27 (281 chemicals)\n",
      "steps\t 500 \ttotal rewards\t 63.60466230161372\n",
      "steps\t 1000 \ttotal rewards\t 124.71315490656002\n",
      "steps\t 1500 \ttotal rewards\t 189.8948886538572\n",
      "Finished after 1737 timesteps (2.7794790267944336 seconds) with total reward 227.74987194255755\n",
      "{'coverage_prop': '0.918', 'intensity_prop': '0.765', 'ms1ms2_ratio': '0.178', 'efficiency': '0.175', 'TP': '238', 'FP': '20', 'FN': '23', 'precision': '0.922', 'recall': '0.912', 'f1': '0.917', 'total_rewards': 227.74987194255766, 'invalid_action_count': 11, 'num_ms1_scans': 263, 'num_ms2_scans': 1474}\n",
      "\n",
      "Episode 28 (493 chemicals)\n",
      "steps\t 500 \ttotal rewards\t 62.75442552868188\n",
      "steps\t 1000 \ttotal rewards\t -17.13823824947479\n",
      "steps\t 1500 \ttotal rewards\t -22.89312592600305\n",
      "Finished after 1795 timesteps (3.7762553691864014 seconds) with total reward 24.53372940533555\n",
      "{'coverage_prop': '0.763', 'intensity_prop': '0.539', 'ms1ms2_ratio': '0.129', 'efficiency': '0.236', 'TP': '299', 'FP': '77', 'FN': '117', 'precision': '0.795', 'recall': '0.719', 'f1': '0.755', 'total_rewards': 24.533729405335553, 'invalid_action_count': 205, 'num_ms1_scans': 205, 'num_ms2_scans': 1590}\n",
      "\n",
      "Episode 29 (304 chemicals)\n",
      "steps\t 500 \ttotal rewards\t 56.01771834229958\n",
      "steps\t 1000 \ttotal rewards\t 121.67375027999086\n",
      "steps\t 1500 \ttotal rewards\t 189.46309134576973\n",
      "Finished after 1745 timesteps (3.2780425548553467 seconds) with total reward 223.44354457566155\n",
      "{'coverage_prop': '0.878', 'intensity_prop': '0.694', 'ms1ms2_ratio': '0.171', 'efficiency': '0.179', 'TP': '236', 'FP': '31', 'FN': '37', 'precision': '0.884', 'recall': '0.864', 'f1': '0.874', 'total_rewards': 223.4435445756613, 'invalid_action_count': 6, 'num_ms1_scans': 255, 'num_ms2_scans': 1490}\n",
      "\n",
      "method = topN max_peaks = 200 N = 10 rt_tol = 5\n",
      "\n",
      "\n",
      "Episode 0 (426 chemicals)\n",
      "steps\t 500 \ttotal rewards\t 55.08826665149991\n",
      "steps\t 1000 \ttotal rewards\t 120.47796960893358\n",
      "steps\t 1500 \ttotal rewards\t 192.81512546134465\n",
      "Finished after 1722 timesteps (13.747711181640625 seconds) with total reward 221.3032586272774\n",
      "{'coverage_prop': '0.934', 'intensity_prop': '0.731', 'ms1ms2_ratio': '0.193', 'efficiency': '0.276', 'TP': '354', 'FP': '44', 'FN': '28', 'precision': '0.889', 'recall': '0.927', 'f1': '0.908', 'total_rewards': 221.30325862727727, 'invalid_action_count': 0, 'num_ms1_scans': 278, 'num_ms2_scans': 1444}\n",
      "\n",
      "Episode 1 (262 chemicals)\n",
      "steps\t 500 \ttotal rewards\t 45.98243551183645\n",
      "steps\t 1000 \ttotal rewards\t 106.32770091622702\n",
      "steps\t 1500 \ttotal rewards\t 172.70364825406884\n",
      "Finished after 1556 timesteps (13.171530723571777 seconds) with total reward 179.09650785500924\n",
      "{'coverage_prop': '0.950', 'intensity_prop': '0.794', 'ms1ms2_ratio': '0.399', 'efficiency': '0.224', 'TP': '235', 'FP': '14', 'FN': '13', 'precision': '0.944', 'recall': '0.948', 'f1': '0.946', 'total_rewards': 179.09650785500932, 'invalid_action_count': 0, 'num_ms1_scans': 444, 'num_ms2_scans': 1112}\n",
      "\n",
      "Episode 2 (394 chemicals)\n",
      "steps\t 500 \ttotal rewards\t 45.835165221390305\n",
      "steps\t 1000 \ttotal rewards\t 115.37033179687\n",
      "steps\t 1500 \ttotal rewards\t 187.53166038980285\n",
      "Finished after 1669 timesteps (12.887331008911133 seconds) with total reward 212.3023561991339\n",
      "{'coverage_prop': '0.926', 'intensity_prop': '0.727', 'ms1ms2_ratio': '0.247', 'efficiency': '0.273', 'TP': '325', 'FP': '40', 'FN': '29', 'precision': '0.890', 'recall': '0.918', 'f1': '0.904', 'total_rewards': 212.302356199134, 'invalid_action_count': 0, 'num_ms1_scans': 331, 'num_ms2_scans': 1338}\n",
      "\n",
      "Episode 3 (452 chemicals)\n",
      "steps\t 500 \ttotal rewards\t 59.64798072216649\n",
      "steps\t 1000 \ttotal rewards\t 123.33129028002674\n",
      "steps\t 1500 \ttotal rewards\t 184.26416631739033\n",
      "Finished after 1717 timesteps (13.129589796066284 seconds) with total reward 211.51544944295375\n",
      "{'coverage_prop': '0.929', 'intensity_prop': '0.754', 'ms1ms2_ratio': '0.198', 'efficiency': '0.293', 'TP': '391', 'FP': '29', 'FN': '32', 'precision': '0.931', 'recall': '0.924', 'f1': '0.928', 'total_rewards': 211.51544944295372, 'invalid_action_count': 0, 'num_ms1_scans': 284, 'num_ms2_scans': 1433}\n",
      "\n",
      "Episode 4 (437 chemicals)\n",
      "steps\t 500 \ttotal rewards\t 48.58446145912856\n",
      "steps\t 1000 \ttotal rewards\t 115.4260894858553\n",
      "steps\t 1500 \ttotal rewards\t 181.94935874952301\n",
      "Finished after 1704 timesteps (15.496851444244385 seconds) with total reward 208.57200324335685\n",
      "{'coverage_prop': '0.961', 'intensity_prop': '0.750', 'ms1ms2_ratio': '0.210', 'efficiency': '0.298', 'TP': '370', 'FP': '50', 'FN': '17', 'precision': '0.881', 'recall': '0.956', 'f1': '0.917', 'total_rewards': 208.57200324335682, 'invalid_action_count': 0, 'num_ms1_scans': 296, 'num_ms2_scans': 1408}\n",
      "\n",
      "Episode 5 (200 chemicals)\n",
      "steps\t 500 \ttotal rewards\t 33.66561617725695\n",
      "steps\t 1000 \ttotal rewards\t 89.4634007402932\n",
      "Finished after 1408 timesteps (10.680572986602783 seconds) with total reward 124.02892195927932\n",
      "{'coverage_prop': '0.960', 'intensity_prop': '0.792', 'ms1ms2_ratio': '0.725', 'efficiency': '0.235', 'TP': '182', 'FP': '10', 'FN': '8', 'precision': '0.948', 'recall': '0.958', 'f1': '0.953', 'total_rewards': 124.0289219592792, 'invalid_action_count': 0, 'num_ms1_scans': 592, 'num_ms2_scans': 816}\n",
      "\n",
      "Episode 6 (478 chemicals)\n",
      "steps\t 500 \ttotal rewards\t 55.803866064469396\n",
      "steps\t 1000 \ttotal rewards\t 127.79938165967039\n",
      "steps\t 1500 \ttotal rewards\t 191.12865932717807\n",
      "Finished after 1744 timesteps (13.164790391921997 seconds) with total reward 219.45961928500213\n",
      "{'coverage_prop': '0.895', 'intensity_prop': '0.689', 'ms1ms2_ratio': '0.172', 'efficiency': '0.288', 'TP': '369', 'FP': '59', 'FN': '50', 'precision': '0.862', 'recall': '0.881', 'f1': '0.871', 'total_rewards': 219.45961928500188, 'invalid_action_count': 0, 'num_ms1_scans': 256, 'num_ms2_scans': 1488}\n",
      "\n",
      "Episode 7 (204 chemicals)\n",
      "steps\t 500 \ttotal rewards\t 32.950808099612956\n",
      "steps\t 1000 \ttotal rewards\t 100.63556552873656\n",
      "Finished after 1468 timesteps (12.711486339569092 seconds) with total reward 147.94553914874453\n",
      "{'coverage_prop': '0.966', 'intensity_prop': '0.799', 'ms1ms2_ratio': '0.568', 'efficiency': '0.210', 'TP': '185', 'FP': '12', 'FN': '7', 'precision': '0.939', 'recall': '0.964', 'f1': '0.951', 'total_rewards': 147.94553914874442, 'invalid_action_count': 0, 'num_ms1_scans': 532, 'num_ms2_scans': 936}\n",
      "\n",
      "Episode 8 (424 chemicals)\n",
      "steps\t 500 \ttotal rewards\t 56.3449575318656\n",
      "steps\t 1000 \ttotal rewards\t 122.41704914007184\n",
      "steps\t 1500 \ttotal rewards\t 187.16818014890964\n",
      "Finished after 1736 timesteps (13.508498191833496 seconds) with total reward 218.60051060195786\n",
      "{'coverage_prop': '0.936', 'intensity_prop': '0.751', 'ms1ms2_ratio': '0.179', 'efficiency': '0.270', 'TP': '364', 'FP': '33', 'FN': '27', 'precision': '0.917', 'recall': '0.931', 'f1': '0.924', 'total_rewards': 218.60051060195798, 'invalid_action_count': 0, 'num_ms1_scans': 264, 'num_ms2_scans': 1472}\n",
      "\n",
      "Episode 9 (384 chemicals)\n",
      "steps\t 500 \ttotal rewards\t 46.716966599306915\n",
      "steps\t 1000 \ttotal rewards\t 115.3623474673075\n",
      "steps\t 1500 \ttotal rewards\t 184.76740555706525\n",
      "Finished after 1667 timesteps (13.168346166610718 seconds) with total reward 206.18638635534907\n",
      "{'coverage_prop': '0.940', 'intensity_prop': '0.756', 'ms1ms2_ratio': '0.250', 'efficiency': '0.271', 'TP': '326', 'FP': '35', 'FN': '23', 'precision': '0.903', 'recall': '0.934', 'f1': '0.918', 'total_rewards': 206.18638635534907, 'invalid_action_count': 0, 'num_ms1_scans': 333, 'num_ms2_scans': 1334}\n",
      "\n",
      "Episode 10 (443 chemicals)\n",
      "steps\t 500 \ttotal rewards\t 54.98093179815314\n",
      "steps\t 1000 \ttotal rewards\t 127.36216580393054\n",
      "steps\t 1500 \ttotal rewards\t 195.2767868372502\n",
      "Finished after 1737 timesteps (12.473794221878052 seconds) with total reward 231.47293380824027\n",
      "{'coverage_prop': '0.896', 'intensity_prop': '0.725', 'ms1ms2_ratio': '0.178', 'efficiency': '0.269', 'TP': '363', 'FP': '34', 'FN': '46', 'precision': '0.914', 'recall': '0.888', 'f1': '0.901', 'total_rewards': 231.47293380824064, 'invalid_action_count': 0, 'num_ms1_scans': 263, 'num_ms2_scans': 1474}\n",
      "\n",
      "Episode 11 (249 chemicals)\n",
      "steps\t 500 \ttotal rewards\t 42.67087820629673\n",
      "steps\t 1000 \ttotal rewards\t 106.34184184323385\n",
      "steps\t 1500 \ttotal rewards\t 154.12928421865263\n",
      "Finished after 1530 timesteps (13.374180316925049 seconds) with total reward 156.562219840367\n",
      "{'coverage_prop': '0.956', 'intensity_prop': '0.802', 'ms1ms2_ratio': '0.443', 'efficiency': '0.225', 'TP': '225', 'FP': '13', 'FN': '11', 'precision': '0.945', 'recall': '0.953', 'f1': '0.949', 'total_rewards': 156.56221984036688, 'invalid_action_count': 0, 'num_ms1_scans': 470, 'num_ms2_scans': 1060}\n",
      "\n",
      "Episode 12 (251 chemicals)\n",
      "steps\t 500 \ttotal rewards\t 46.088550385415544\n",
      "steps\t 1000 \ttotal rewards\t 114.80861774013502\n",
      "steps\t 1500 \ttotal rewards\t 174.17809600664447\n",
      "Finished after 1602 timesteps (12.748458862304688 seconds) with total reward 185.56052782013919\n",
      "{'coverage_prop': '0.944', 'intensity_prop': '0.758', 'ms1ms2_ratio': '0.331', 'efficiency': '0.197', 'TP': '219', 'FP': '18', 'FN': '14', 'precision': '0.924', 'recall': '0.940', 'f1': '0.932', 'total_rewards': 185.5605278201393, 'invalid_action_count': 0, 'num_ms1_scans': 398, 'num_ms2_scans': 1204}\n",
      "\n",
      "Episode 13 (300 chemicals)\n",
      "steps\t 500 \ttotal rewards\t 47.27382815826586\n",
      "steps\t 1000 \ttotal rewards\t 106.92833451667778\n",
      "steps\t 1500 \ttotal rewards\t 168.99106117501162\n",
      "Finished after 1645 timesteps (12.001336574554443 seconds) with total reward 179.63056937810103\n",
      "{'coverage_prop': '0.940', 'intensity_prop': '0.747', 'ms1ms2_ratio': '0.275', 'efficiency': '0.219', 'TP': '254', 'FP': '28', 'FN': '18', 'precision': '0.901', 'recall': '0.934', 'f1': '0.917', 'total_rewards': 179.6305693781011, 'invalid_action_count': 0, 'num_ms1_scans': 355, 'num_ms2_scans': 1290}\n",
      "\n",
      "Episode 14 (206 chemicals)\n",
      "steps\t 500 \ttotal rewards\t 35.49219128497232\n",
      "steps\t 1000 \ttotal rewards\t 103.75210125187415\n",
      "Finished after 1497 timesteps (13.376985788345337 seconds) with total reward 148.38815009773418\n",
      "{'coverage_prop': '0.956', 'intensity_prop': '0.764', 'ms1ms2_ratio': '0.506', 'efficiency': '0.198', 'TP': '181', 'FP': '16', 'FN': '9', 'precision': '0.919', 'recall': '0.953', 'f1': '0.935', 'total_rewards': 148.38815009773433, 'invalid_action_count': 0, 'num_ms1_scans': 503, 'num_ms2_scans': 994}\n",
      "\n",
      "Episode 15 (407 chemicals)\n",
      "steps\t 500 \ttotal rewards\t 47.32006823740811\n",
      "steps\t 1000 \ttotal rewards\t 115.08109160226553\n",
      "steps\t 1500 \ttotal rewards\t 177.03082015882023\n",
      "Finished after 1655 timesteps (12.314786911010742 seconds) with total reward 198.16530950325784\n",
      "{'coverage_prop': '0.943', 'intensity_prop': '0.760', 'ms1ms2_ratio': '0.263', 'efficiency': '0.293', 'TP': '349', 'FP': '35', 'FN': '23', 'precision': '0.909', 'recall': '0.938', 'f1': '0.923', 'total_rewards': 198.1653095032578, 'invalid_action_count': 0, 'num_ms1_scans': 345, 'num_ms2_scans': 1310}\n",
      "\n",
      "Episode 16 (498 chemicals)\n",
      "steps\t 500 \ttotal rewards\t 54.231039701180876\n",
      "steps\t 1000 \ttotal rewards\t 129.60297643191356\n",
      "steps\t 1500 \ttotal rewards\t 195.55252585882087\n",
      "Finished after 1729 timesteps (13.113477230072021 seconds) with total reward 224.60978946987643\n",
      "{'coverage_prop': '0.912', 'intensity_prop': '0.714', 'ms1ms2_ratio': '0.186', 'efficiency': '0.311', 'TP': '403', 'FP': '51', 'FN': '44', 'precision': '0.888', 'recall': '0.902', 'f1': '0.895', 'total_rewards': 224.609789469876, 'invalid_action_count': 0, 'num_ms1_scans': 271, 'num_ms2_scans': 1458}\n",
      "\n",
      "Episode 17 (372 chemicals)\n",
      "steps\t 500 \ttotal rewards\t 54.08974992996319\n",
      "steps\t 1000 \ttotal rewards\t 118.2958743366751\n",
      "steps\t 1500 \ttotal rewards\t 186.38212053589726\n",
      "Finished after 1681 timesteps (11.66385531425476 seconds) with total reward 208.30381376852642\n",
      "{'coverage_prop': '0.952', 'intensity_prop': '0.761', 'ms1ms2_ratio': '0.234', 'efficiency': '0.260', 'TP': '323', 'FP': '31', 'FN': '18', 'precision': '0.912', 'recall': '0.947', 'f1': '0.929', 'total_rewards': 208.30381376852625, 'invalid_action_count': 0, 'num_ms1_scans': 319, 'num_ms2_scans': 1362}\n",
      "\n",
      "Episode 18 (302 chemicals)\n",
      "steps\t 500 \ttotal rewards\t 46.827502745046175\n",
      "steps\t 1000 \ttotal rewards\t 114.45729795927195\n",
      "steps\t 1500 \ttotal rewards\t 181.8390167542629\n",
      "Finished after 1621 timesteps (14.761185884475708 seconds) with total reward 196.78127910087653\n",
      "{'coverage_prop': '0.957', 'intensity_prop': '0.771', 'ms1ms2_ratio': '0.305', 'efficiency': '0.233', 'TP': '268', 'FP': '21', 'FN': '13', 'precision': '0.927', 'recall': '0.954', 'f1': '0.940', 'total_rewards': 196.78127910087647, 'invalid_action_count': 0, 'num_ms1_scans': 379, 'num_ms2_scans': 1242}\n",
      "\n",
      "Episode 19 (265 chemicals)\n",
      "steps\t 500 \ttotal rewards\t 45.25491347851764\n",
      "steps\t 1000 \ttotal rewards\t 115.16747906800703\n",
      "steps\t 1500 \ttotal rewards\t 187.2023853372167\n",
      "Finished after 1634 timesteps (11.610214948654175 seconds) with total reward 203.09859468762568\n",
      "{'coverage_prop': '0.981', 'intensity_prop': '0.801', 'ms1ms2_ratio': '0.289', 'efficiency': '0.205', 'TP': '241', 'FP': '19', 'FN': '5', 'precision': '0.927', 'recall': '0.980', 'f1': '0.953', 'total_rewards': 203.0985946876259, 'invalid_action_count': 0, 'num_ms1_scans': 366, 'num_ms2_scans': 1268}\n",
      "\n",
      "Episode 20 (468 chemicals)\n",
      "steps\t 500 \ttotal rewards\t 51.36967890195724\n",
      "steps\t 1000 \ttotal rewards\t 115.97286581251637\n",
      "steps\t 1500 \ttotal rewards\t 181.29031607442045\n",
      "Finished after 1726 timesteps (13.6409273147583 seconds) with total reward 212.694556689277\n",
      "{'coverage_prop': '0.855', 'intensity_prop': '0.668', 'ms1ms2_ratio': '0.190', 'efficiency': '0.276', 'TP': '354', 'FP': '46', 'FN': '68', 'precision': '0.885', 'recall': '0.839', 'f1': '0.861', 'total_rewards': 212.69455668927665, 'invalid_action_count': 0, 'num_ms1_scans': 275, 'num_ms2_scans': 1451}\n",
      "\n",
      "Episode 21 (234 chemicals)\n",
      "steps\t 500 \ttotal rewards\t 40.50315696907937\n",
      "steps\t 1000 \ttotal rewards\t 105.33724887604671\n",
      "Finished after 1475 timesteps (13.995373964309692 seconds) with total reward 150.81129301075376\n",
      "{'coverage_prop': '0.957', 'intensity_prop': '0.769', 'ms1ms2_ratio': '0.554', 'efficiency': '0.236', 'TP': '206', 'FP': '18', 'FN': '10', 'precision': '0.920', 'recall': '0.954', 'f1': '0.936', 'total_rewards': 150.81129301075373, 'invalid_action_count': 0, 'num_ms1_scans': 526, 'num_ms2_scans': 949}\n",
      "\n",
      "Episode 22 (322 chemicals)\n",
      "steps\t 500 \ttotal rewards\t 46.546748102232684\n",
      "steps\t 1000 \ttotal rewards\t 111.8743967745553\n",
      "steps\t 1500 \ttotal rewards\t 174.59618399798\n",
      "Finished after 1636 timesteps (12.842100858688354 seconds) with total reward 191.88181934045755\n",
      "{'coverage_prop': '0.957', 'intensity_prop': '0.768', 'ms1ms2_ratio': '0.287', 'efficiency': '0.242', 'TP': '283', 'FP': '25', 'FN': '14', 'precision': '0.919', 'recall': '0.953', 'f1': '0.936', 'total_rewards': 191.88181934045747, 'invalid_action_count': 0, 'num_ms1_scans': 365, 'num_ms2_scans': 1271}\n",
      "\n",
      "Episode 23 (310 chemicals)\n",
      "steps\t 500 \ttotal rewards\t 45.71785437444504\n",
      "steps\t 1000 \ttotal rewards\t 113.02278366619657\n",
      "steps\t 1500 \ttotal rewards\t 174.6141023079993\n",
      "Finished after 1575 timesteps (11.96348237991333 seconds) with total reward 181.1803507374858\n",
      "{'coverage_prop': '0.945', 'intensity_prop': '0.749', 'ms1ms2_ratio': '0.370', 'efficiency': '0.255', 'TP': '264', 'FP': '29', 'FN': '17', 'precision': '0.901', 'recall': '0.940', 'f1': '0.920', 'total_rewards': 181.18035073748578, 'invalid_action_count': 0, 'num_ms1_scans': 425, 'num_ms2_scans': 1150}\n",
      "\n",
      "Episode 24 (345 chemicals)\n",
      "steps\t 500 \ttotal rewards\t 46.81406958918366\n",
      "steps\t 1000 \ttotal rewards\t 120.88646942772186\n",
      "steps\t 1500 \ttotal rewards\t 192.4030655665409\n",
      "Finished after 1681 timesteps (11.524780035018921 seconds) with total reward 220.19402502952\n",
      "{'coverage_prop': '0.951', 'intensity_prop': '0.753', 'ms1ms2_ratio': '0.234', 'efficiency': '0.241', 'TP': '299', 'FP': '29', 'FN': '17', 'precision': '0.912', 'recall': '0.946', 'f1': '0.929', 'total_rewards': 220.19402502952, 'invalid_action_count': 0, 'num_ms1_scans': 319, 'num_ms2_scans': 1362}\n",
      "\n",
      "Episode 25 (396 chemicals)\n",
      "steps\t 500 \ttotal rewards\t 53.768963779940016\n",
      "steps\t 1000 \ttotal rewards\t 116.02024037301675\n",
      "steps\t 1500 \ttotal rewards\t 186.93911041075242\n",
      "Finished after 1679 timesteps (12.312547445297241 seconds) with total reward 209.55672831292088\n",
      "{'coverage_prop': '0.957', 'intensity_prop': '0.753', 'ms1ms2_ratio': '0.236', 'efficiency': '0.279', 'TP': '339', 'FP': '40', 'FN': '17', 'precision': '0.894', 'recall': '0.952', 'f1': '0.922', 'total_rewards': 209.5567283129212, 'invalid_action_count': 0, 'num_ms1_scans': 321, 'num_ms2_scans': 1358}\n",
      "\n",
      "Episode 26 (203 chemicals)\n",
      "steps\t 500 \ttotal rewards\t 35.087675416570775\n",
      "steps\t 1000 \ttotal rewards\t 99.36929261580224\n",
      "Finished after 1465 timesteps (13.766015529632568 seconds) with total reward 144.62285051468643\n",
      "{'coverage_prop': '0.966', 'intensity_prop': '0.789', 'ms1ms2_ratio': '0.575', 'efficiency': '0.211', 'TP': '186', 'FP': '10', 'FN': '7', 'precision': '0.949', 'recall': '0.964', 'f1': '0.956', 'total_rewards': 144.6228505146864, 'invalid_action_count': 0, 'num_ms1_scans': 535, 'num_ms2_scans': 930}\n",
      "\n",
      "Episode 27 (281 chemicals)\n",
      "steps\t 500 \ttotal rewards\t 42.22364997791146\n",
      "steps\t 1000 \ttotal rewards\t 106.68009090282597\n",
      "steps\t 1500 \ttotal rewards\t 168.16704790868715\n",
      "Finished after 1564 timesteps (12.69012975692749 seconds) with total reward 177.167838501228\n",
      "{'coverage_prop': '0.964', 'intensity_prop': '0.791', 'ms1ms2_ratio': '0.387', 'efficiency': '0.240', 'TP': '251', 'FP': '20', 'FN': '10', 'precision': '0.926', 'recall': '0.962', 'f1': '0.944', 'total_rewards': 177.1678385012278, 'invalid_action_count': 0, 'num_ms1_scans': 436, 'num_ms2_scans': 1128}\n",
      "\n",
      "Episode 28 (493 chemicals)\n",
      "steps\t 500 \ttotal rewards\t 56.69515575405314\n",
      "steps\t 1000 \ttotal rewards\t 122.529843473385\n",
      "steps\t 1500 \ttotal rewards\t 198.7348077467048\n",
      "Finished after 1749 timesteps (13.103508472442627 seconds) with total reward 235.41721200015647\n",
      "{'coverage_prop': '0.858', 'intensity_prop': '0.643', 'ms1ms2_ratio': '0.168', 'efficiency': '0.282', 'TP': '357', 'FP': '66', 'FN': '70', 'precision': '0.844', 'recall': '0.836', 'f1': '0.840', 'total_rewards': 235.41721200015684, 'invalid_action_count': 0, 'num_ms1_scans': 251, 'num_ms2_scans': 1498}\n",
      "\n",
      "Episode 29 (304 chemicals)\n",
      "steps\t 500 \ttotal rewards\t 46.48236093501453\n",
      "steps\t 1000 \ttotal rewards\t 111.35253324310793\n",
      "steps\t 1500 \ttotal rewards\t 179.21336480766303\n",
      "Finished after 1657 timesteps (12.79070258140564 seconds) with total reward 198.4065920391132\n",
      "{'coverage_prop': '0.954', 'intensity_prop': '0.771', 'ms1ms2_ratio': '0.262', 'efficiency': '0.221', 'TP': '264', 'FP': '26', 'FN': '14', 'precision': '0.910', 'recall': '0.950', 'f1': '0.930', 'total_rewards': 198.406592039113, 'invalid_action_count': 0, 'num_ms1_scans': 344, 'num_ms2_scans': 1313}\n",
      "\n"
     ]
    }
   ],
   "source": [
    "method_eval_results = {}\n",
    "for method in methods:\n",
    "\n",
    "    N = 0\n",
    "    copy_params = copy.deepcopy(params)            \n",
    "    custom_objects = {\n",
    "        \"learning_rate\": 0.0,\n",
    "        \"lr_schedule\": lambda _: 0.0,\n",
    "        \"clip_range\": lambda _: 0.0,\n",
    "    }    \n",
    "    \n",
    "    if method == METHOD_DQN:\n",
    "        \n",
    "        fname = os.path.join(dqn_in_dir, '%s_%s_alpha_%.2f_beta_%.2f_horizon_%d.zip' % (env_name, method, env_alpha, env_beta, horizon))\n",
    "        # fname = os.path.join(dqn_in_dir, 'metric_reward_timesteps_1.0E6_alpha_%.2f_beta_%.2f' % (env_alpha, env_beta), method, 'best_model.zip')\n",
    "        \n",
    "        model = DQN.load(fname, custom_objects=custom_objects)\n",
    "        copy_params['env']['alpha'] = env_alpha\n",
    "        copy_params['env']['beta'] = env_beta                \n",
    "\n",
    "    elif method == METHOD_PPO:\n",
    "        \n",
    "        fname = os.path.join(ppo_in_dir, '%s_%s_alpha_%.2f_beta_%.2f_horizon_%d.zip' % (env_name, method, env_alpha, env_beta, horizon))\n",
    "        # fname = os.path.join(ppo_in_dir, 'metric_reward_timesteps_1.0E5_alpha_%.2f_beta_%.2f' % (env_alpha, env_beta), method, 'best_model.zip')\n",
    "        \n",
    "        model = MaskablePPO.load(fname, custom_objects=custom_objects)\n",
    "        copy_params['env']['alpha'] = env_alpha\n",
    "        copy_params['env']['beta'] = env_beta                \n",
    "        \n",
    "    else:\n",
    "        model = None\n",
    "        if method == METHOD_TOPN:\n",
    "            N = topN_N\n",
    "            effective_rt_tol = topN_rt_tol\n",
    "            copy_params = dict(params)\n",
    "            copy_params['env']['use_dew'] = True\n",
    "            copy_params['env']['rt_tol'] = effective_rt_tol                        \n",
    "\n",
    "    banner = 'method = %s max_peaks = %d N = %d rt_tol = %d' % (method, max_peaks, N, \n",
    "                                                                                   copy_params['env']['rt_tol'])\n",
    "    print(banner)\n",
    "    print()            \n",
    "            \n",
    "    episodic_results = run_method(env_name, copy_params, max_peaks, chem_list, method, out_dir, \n",
    "                                  N=N, min_ms1_intensity=min_ms1_intensity, model=model,\n",
    "                                  print_eval=True, print_reward=True, intensity_threshold=intensity_threshold,\n",
    "                                  mzml_prefix=method, horizon=horizon, valid_random=valid_random)\n",
    "    eval_results = [er.eval_res for er in episodic_results]\n",
    "    method_eval_results[method] = eval_results\n",
    "    print()"
   ]
  },
  {
   "cell_type": "markdown",
   "metadata": {
    "pycharm": {
     "name": "#%% md\n"
    }
   },
   "source": [
    "#### Test classic controllers in ViMMS"
   ]
  },
  {
   "cell_type": "code",
   "execution_count": 62,
   "metadata": {
    "execution": {
     "iopub.execute_input": "2023-03-27T18:07:04.836373Z",
     "iopub.status.busy": "2023-03-27T18:07:04.836237Z",
     "iopub.status.idle": "2023-03-27T18:07:04.937440Z",
     "shell.execute_reply": "2023-03-27T18:07:04.936957Z",
     "shell.execute_reply.started": "2023-03-27T18:07:04.836357Z"
    },
    "pycharm": {
     "name": "#%%\n"
    }
   },
   "outputs": [],
   "source": [
    "from vimms.MassSpec import IndependentMassSpectrometer\n",
    "from vimms.Controller import TopNController, TopN_SmartRoiController, WeightedDEWController\n",
    "from vimms.Environment import Environment"
   ]
  },
  {
   "cell_type": "markdown",
   "metadata": {
    "pycharm": {
     "name": "#%% md\n"
    }
   },
   "source": [
    "Run Top-N Controller"
   ]
  },
  {
   "cell_type": "code",
   "execution_count": 63,
   "metadata": {
    "execution": {
     "iopub.execute_input": "2023-03-27T18:07:04.938287Z",
     "iopub.status.busy": "2023-03-27T18:07:04.938155Z",
     "iopub.status.idle": "2023-03-27T18:07:04.970451Z",
     "shell.execute_reply": "2023-03-27T18:07:04.970016Z",
     "shell.execute_reply.started": "2023-03-27T18:07:04.938273Z"
    }
   },
   "outputs": [
    {
     "data": {
      "text/plain": [
       "{'chemical_creator': {'mz_range': (100, 600),\n",
       "  'rt_range': (400, 800),\n",
       "  'intensity_range': (10000.0, 1e+20),\n",
       "  'n_chemicals': (200, 500),\n",
       "  'mz_sampler': <vimms.ChemicalSamplers.MZMLFormulaSampler at 0x7f637e650160>,\n",
       "  'ri_sampler': <vimms.ChemicalSamplers.MZMLRTandIntensitySampler at 0x7f6380227e20>,\n",
       "  'cr_sampler': <vimms.ChemicalSamplers.MZMLChromatogramSampler at 0x7f63822ae430>},\n",
       " 'noise': {'enable_spike_noise': True,\n",
       "  'noise_density': 0.1,\n",
       "  'noise_max_val': 1000.0,\n",
       "  'mz_range': (100, 600)},\n",
       " 'env': {'ionisation_mode': 'Positive',\n",
       "  'rt_range': (400, 800),\n",
       "  'isolation_window': 0.7,\n",
       "  'use_dew': True,\n",
       "  'mz_tol': 10,\n",
       "  'rt_tol': 5,\n",
       "  'min_ms1_intensity': 5000,\n",
       "  'alpha': 0.0,\n",
       "  'beta': 0.0}}"
      ]
     },
     "execution_count": 63,
     "metadata": {},
     "output_type": "execute_result"
    }
   ],
   "source": [
    "params"
   ]
  },
  {
   "cell_type": "code",
   "execution_count": 64,
   "metadata": {
    "execution": {
     "iopub.execute_input": "2023-03-27T18:07:04.971175Z",
     "iopub.status.busy": "2023-03-27T18:07:04.971062Z",
     "iopub.status.idle": "2023-03-27T18:07:05.001582Z",
     "shell.execute_reply": "2023-03-27T18:07:05.001141Z",
     "shell.execute_reply.started": "2023-03-27T18:07:04.971161Z"
    }
   },
   "outputs": [],
   "source": [
    "enable_spike_noise = params['noise']['enable_spike_noise']\n",
    "ionisation_mode = params['env']['ionisation_mode']\n",
    "isolation_window = params['env']['isolation_window']\n",
    "mz_tol = params['env']['mz_tol']\n",
    "rt_range = params['chemical_creator']['rt_range']"
   ]
  },
  {
   "cell_type": "code",
   "execution_count": 65,
   "metadata": {
    "execution": {
     "iopub.execute_input": "2023-03-27T18:07:05.002362Z",
     "iopub.status.busy": "2023-03-27T18:07:05.002244Z",
     "iopub.status.idle": "2023-03-27T18:09:55.938176Z",
     "shell.execute_reply": "2023-03-27T18:09:55.937647Z",
     "shell.execute_reply.started": "2023-03-27T18:07:05.002348Z"
    },
    "pycharm": {
     "name": "#%%\n"
    }
   },
   "outputs": [
    {
     "name": "stdout",
     "output_type": "stream",
     "text": [
      "method = TopN_Controller\n",
      "\n",
      "Episode 0 finished\n",
      "{'coverage_prop': '0.960', 'intensity_prop': '0.746', 'ms1ms2_ratio': '0.215', 'efficiency': '0.293', 'TP': '366', 'FP': '43', 'FN': '17', 'precision': '0.895', 'recall': '0.956', 'f1': '0.924'}\n",
      "\n",
      "Episode 1 finished\n",
      "{'coverage_prop': '0.962', 'intensity_prop': '0.791', 'ms1ms2_ratio': '0.442', 'efficiency': '0.237', 'TP': '236', 'FP': '16', 'FN': '10', 'precision': '0.937', 'recall': '0.959', 'f1': '0.948'}\n",
      "\n",
      "Episode 2 finished\n",
      "{'coverage_prop': '0.970', 'intensity_prop': '0.750', 'ms1ms2_ratio': '0.273', 'efficiency': '0.295', 'TP': '344', 'FP': '38', 'FN': '12', 'precision': '0.901', 'recall': '0.966', 'f1': '0.932'}\n",
      "\n",
      "Episode 3 finished\n",
      "{'coverage_prop': '0.956', 'intensity_prop': '0.758', 'ms1ms2_ratio': '0.226', 'efficiency': '0.313', 'TP': '395', 'FP': '37', 'FN': '20', 'precision': '0.914', 'recall': '0.952', 'f1': '0.933'}\n",
      "\n",
      "Episode 4 finished\n",
      "{'coverage_prop': '0.975', 'intensity_prop': '0.759', 'ms1ms2_ratio': '0.234', 'efficiency': '0.313', 'TP': '384', 'FP': '42', 'FN': '11', 'precision': '0.901', 'recall': '0.972', 'f1': '0.935'}\n",
      "\n",
      "Episode 5 finished\n",
      "{'coverage_prop': '0.960', 'intensity_prop': '0.788', 'ms1ms2_ratio': '0.791', 'efficiency': '0.248', 'TP': '182', 'FP': '10', 'FN': '8', 'precision': '0.948', 'recall': '0.958', 'f1': '0.953'}\n",
      "\n",
      "Episode 6 finished\n",
      "{'coverage_prop': '0.929', 'intensity_prop': '0.724', 'ms1ms2_ratio': '0.193', 'efficiency': '0.307', 'TP': '394', 'FP': '50', 'FN': '34', 'precision': '0.887', 'recall': '0.921', 'f1': '0.904'}\n",
      "\n",
      "Episode 7 finished\n",
      "{'coverage_prop': '0.961', 'intensity_prop': '0.789', 'ms1ms2_ratio': '0.620', 'efficiency': '0.219', 'TP': '186', 'FP': '10', 'FN': '8', 'precision': '0.949', 'recall': '0.959', 'f1': '0.954'}\n",
      "\n",
      "Episode 8 finished\n",
      "{'coverage_prop': '0.948', 'intensity_prop': '0.744', 'ms1ms2_ratio': '0.208', 'efficiency': '0.285', 'TP': '369', 'FP': '33', 'FN': '22', 'precision': '0.918', 'recall': '0.944', 'f1': '0.931'}\n",
      "\n",
      "Episode 9 finished\n",
      "{'coverage_prop': '0.964', 'intensity_prop': '0.762', 'ms1ms2_ratio': '0.276', 'efficiency': '0.287', 'TP': '333', 'FP': '37', 'FN': '14', 'precision': '0.900', 'recall': '0.960', 'f1': '0.929'}\n",
      "\n",
      "Episode 10 finished\n",
      "{'coverage_prop': '0.953', 'intensity_prop': '0.759', 'ms1ms2_ratio': '0.191', 'efficiency': '0.292', 'TP': '387', 'FP': '35', 'FN': '21', 'precision': '0.917', 'recall': '0.949', 'f1': '0.933'}\n",
      "\n",
      "Episode 11 finished\n",
      "{'coverage_prop': '0.960', 'intensity_prop': '0.783', 'ms1ms2_ratio': '0.500', 'efficiency': '0.239', 'TP': '225', 'FP': '14', 'FN': '10', 'precision': '0.941', 'recall': '0.957', 'f1': '0.949'}\n",
      "\n",
      "Episode 12 finished\n",
      "{'coverage_prop': '0.948', 'intensity_prop': '0.746', 'ms1ms2_ratio': '0.368', 'efficiency': '0.207', 'TP': '216', 'FP': '22', 'FN': '13', 'precision': '0.908', 'recall': '0.943', 'f1': '0.925'}\n",
      "\n",
      "Episode 13 finished\n",
      "{'coverage_prop': '0.967', 'intensity_prop': '0.764', 'ms1ms2_ratio': '0.300', 'efficiency': '0.232', 'TP': '263', 'FP': '27', 'FN': '10', 'precision': '0.907', 'recall': '0.963', 'f1': '0.934'}\n",
      "\n",
      "Episode 14 finished\n",
      "{'coverage_prop': '0.956', 'intensity_prop': '0.768', 'ms1ms2_ratio': '0.559', 'efficiency': '0.209', 'TP': '180', 'FP': '17', 'FN': '9', 'precision': '0.914', 'recall': '0.952', 'f1': '0.933'}\n",
      "\n",
      "Episode 15 finished\n",
      "{'coverage_prop': '0.971', 'intensity_prop': '0.779', 'ms1ms2_ratio': '0.298', 'efficiency': '0.315', 'TP': '365', 'FP': '30', 'FN': '12', 'precision': '0.924', 'recall': '0.968', 'f1': '0.946'}\n",
      "\n",
      "Episode 16 finished\n",
      "{'coverage_prop': '0.962', 'intensity_prop': '0.758', 'ms1ms2_ratio': '0.201', 'efficiency': '0.336', 'TP': '437', 'FP': '42', 'FN': '19', 'precision': '0.912', 'recall': '0.958', 'f1': '0.935'}\n",
      "\n",
      "Episode 17 finished\n",
      "{'coverage_prop': '0.962', 'intensity_prop': '0.777', 'ms1ms2_ratio': '0.262', 'efficiency': '0.273', 'TP': '332', 'FP': '26', 'FN': '14', 'precision': '0.927', 'recall': '0.960', 'f1': '0.943'}\n",
      "\n",
      "Episode 18 finished\n",
      "{'coverage_prop': '0.967', 'intensity_prop': '0.767', 'ms1ms2_ratio': '0.356', 'efficiency': '0.250', 'TP': '268', 'FP': '24', 'FN': '10', 'precision': '0.918', 'recall': '0.964', 'f1': '0.940'}\n",
      "\n",
      "Episode 19 finished\n",
      "{'coverage_prop': '0.977', 'intensity_prop': '0.795', 'ms1ms2_ratio': '0.326', 'efficiency': '0.214', 'TP': '242', 'FP': '17', 'FN': '6', 'precision': '0.934', 'recall': '0.976', 'f1': '0.955'}\n",
      "\n",
      "Episode 20 finished\n",
      "{'coverage_prop': '0.921', 'intensity_prop': '0.731', 'ms1ms2_ratio': '0.209', 'efficiency': '0.306', 'TP': '397', 'FP': '34', 'FN': '37', 'precision': '0.921', 'recall': '0.915', 'f1': '0.918'}\n",
      "\n",
      "Episode 21 finished\n",
      "{'coverage_prop': '0.957', 'intensity_prop': '0.760', 'ms1ms2_ratio': '0.633', 'efficiency': '0.254', 'TP': '202', 'FP': '22', 'FN': '10', 'precision': '0.902', 'recall': '0.953', 'f1': '0.927'}\n",
      "\n",
      "Episode 22 finished\n",
      "{'coverage_prop': '0.966', 'intensity_prop': '0.770', 'ms1ms2_ratio': '0.322', 'efficiency': '0.256', 'TP': '291', 'FP': '20', 'FN': '11', 'precision': '0.936', 'recall': '0.964', 'f1': '0.949'}\n",
      "\n",
      "Episode 23 finished\n",
      "{'coverage_prop': '0.948', 'intensity_prop': '0.766', 'ms1ms2_ratio': '0.420', 'efficiency': '0.270', 'TP': '272', 'FP': '22', 'FN': '16', 'precision': '0.925', 'recall': '0.944', 'f1': '0.935'}\n",
      "\n",
      "Episode 24 finished\n",
      "{'coverage_prop': '0.983', 'intensity_prop': '0.786', 'ms1ms2_ratio': '0.261', 'efficiency': '0.258', 'TP': '315', 'FP': '24', 'FN': '6', 'precision': '0.929', 'recall': '0.981', 'f1': '0.955'}\n",
      "\n",
      "Episode 25 finished\n",
      "{'coverage_prop': '0.980', 'intensity_prop': '0.773', 'ms1ms2_ratio': '0.270', 'efficiency': '0.299', 'TP': '354', 'FP': '34', 'FN': '8', 'precision': '0.912', 'recall': '0.978', 'f1': '0.944'}\n",
      "\n",
      "Episode 26 finished\n",
      "{'coverage_prop': '0.970', 'intensity_prop': '0.786', 'ms1ms2_ratio': '0.651', 'efficiency': '0.227', 'TP': '183', 'FP': '14', 'FN': '6', 'precision': '0.929', 'recall': '0.968', 'f1': '0.948'}\n",
      "\n",
      "Episode 27 finished\n",
      "{'coverage_prop': '0.968', 'intensity_prop': '0.795', 'ms1ms2_ratio': '0.449', 'efficiency': '0.258', 'TP': '253', 'FP': '19', 'FN': '9', 'precision': '0.930', 'recall': '0.966', 'f1': '0.948'}\n",
      "\n",
      "Episode 28 finished\n",
      "{'coverage_prop': '0.933', 'intensity_prop': '0.708', 'ms1ms2_ratio': '0.186', 'efficiency': '0.316', 'TP': '405', 'FP': '55', 'FN': '33', 'precision': '0.880', 'recall': '0.925', 'f1': '0.902'}\n",
      "\n",
      "Episode 29 finished\n",
      "{'coverage_prop': '0.967', 'intensity_prop': '0.794', 'ms1ms2_ratio': '0.317', 'efficiency': '0.240', 'TP': '275', 'FP': '19', 'FN': '10', 'precision': '0.935', 'recall': '0.965', 'f1': '0.950'}\n",
      "\n"
     ]
    }
   ],
   "source": [
    "method = 'TopN_Controller'\n",
    "print('method = %s' % method)\n",
    "print()\n",
    "\n",
    "effective_rt_tol = topN_rt_tol\n",
    "effective_N = topN_N\n",
    "eval_results = []\n",
    "for i in range(len(chem_list)):\n",
    "    \n",
    "    spike_noise = None\n",
    "    if enable_spike_noise:\n",
    "        noise_params = params['noise']\n",
    "        noise_density = noise_params['noise_density']\n",
    "        noise_max_val = noise_params['noise_max_val']\n",
    "        noise_min_mz = noise_params['mz_range'][0]\n",
    "        noise_max_mz = noise_params['mz_range'][1]\n",
    "        spike_noise = UniformSpikeNoise(noise_density, noise_max_val, min_mz=noise_min_mz,\n",
    "                                        max_mz=noise_max_mz)\n",
    "\n",
    "    chems = chem_list[i]\n",
    "    mass_spec = IndependentMassSpectrometer(ionisation_mode, chems, spike_noise=spike_noise)\n",
    "    controller = TopNController(ionisation_mode, effective_N, isolation_window, mz_tol, effective_rt_tol,\n",
    "                                min_ms1_intensity)\n",
    "    env = Environment(mass_spec, controller, rt_range[0], rt_range[1], progress_bar=False, out_dir=out_dir,\n",
    "                      out_file='%s_%d.mzML' % (method, i), save_eval=True)\n",
    "    env.run()\n",
    "    \n",
    "    eval_res = evaluate(env, intensity_threshold)\n",
    "    # eval_res['total_rewards'] = 0\n",
    "    eval_results.append(eval_res)\n",
    "    print('Episode %d finished' % i)\n",
    "    print(eval_res)\n",
    "    print()\n",
    "    \n",
    "method_eval_results[method] = eval_results"
   ]
  },
  {
   "cell_type": "markdown",
   "metadata": {
    "pycharm": {
     "name": "#%% md\n"
    }
   },
   "source": [
    "Run SmartROI Controller"
   ]
  },
  {
   "cell_type": "code",
   "execution_count": 66,
   "metadata": {
    "execution": {
     "iopub.execute_input": "2023-03-27T18:09:55.939665Z",
     "iopub.status.busy": "2023-03-27T18:09:55.939502Z",
     "iopub.status.idle": "2023-03-27T18:09:55.974782Z",
     "shell.execute_reply": "2023-03-27T18:09:55.974236Z",
     "shell.execute_reply.started": "2023-03-27T18:09:55.939647Z"
    }
   },
   "outputs": [
    {
     "data": {
      "text/plain": [
       "(10, 5, 2, 0.5, 0)"
      ]
     },
     "execution_count": 66,
     "metadata": {},
     "output_type": "execute_result"
    }
   ],
   "source": [
    "smartroi_N, smartroi_dew, alpha, beta, ils"
   ]
  },
  {
   "cell_type": "code",
   "execution_count": 67,
   "metadata": {
    "execution": {
     "iopub.execute_input": "2023-03-27T18:09:55.975648Z",
     "iopub.status.busy": "2023-03-27T18:09:55.975492Z",
     "iopub.status.idle": "2023-03-27T18:13:35.266900Z",
     "shell.execute_reply": "2023-03-27T18:13:35.266282Z",
     "shell.execute_reply.started": "2023-03-27T18:09:55.975623Z"
    },
    "pycharm": {
     "name": "#%%\n"
    }
   },
   "outputs": [
    {
     "name": "stdout",
     "output_type": "stream",
     "text": [
      "method = SmartROI_Controller\n",
      "\n",
      "Episode 0 finished\n",
      "{'coverage_prop': '0.977', 'intensity_prop': '0.709', 'ms1ms2_ratio': '0.795', 'efficiency': '0.539', 'TP': '360', 'FP': '56', 'FN': '10', 'precision': '0.865', 'recall': '0.973', 'f1': '0.916'}\n",
      "\n",
      "Episode 1 finished\n",
      "{'coverage_prop': '0.962', 'intensity_prop': '0.713', 'ms1ms2_ratio': '1.513', 'efficiency': '0.507', 'TP': '220', 'FP': '32', 'FN': '10', 'precision': '0.873', 'recall': '0.957', 'f1': '0.913'}\n",
      "\n",
      "Episode 2 finished\n",
      "{'coverage_prop': '0.970', 'intensity_prop': '0.708', 'ms1ms2_ratio': '0.854', 'efficiency': '0.517', 'TP': '324', 'FP': '58', 'FN': '12', 'precision': '0.848', 'recall': '0.964', 'f1': '0.903'}\n",
      "\n",
      "Episode 3 finished\n",
      "{'coverage_prop': '0.973', 'intensity_prop': '0.717', 'ms1ms2_ratio': '0.741', 'efficiency': '0.546', 'TP': '379', 'FP': '61', 'FN': '12', 'precision': '0.861', 'recall': '0.969', 'f1': '0.912'}\n",
      "\n",
      "Episode 4 finished\n",
      "{'coverage_prop': '0.991', 'intensity_prop': '0.715', 'ms1ms2_ratio': '0.785', 'efficiency': '0.557', 'TP': '364', 'FP': '69', 'FN': '4', 'precision': '0.841', 'recall': '0.989', 'f1': '0.909'}\n",
      "\n",
      "Episode 5 finished\n",
      "{'coverage_prop': '0.955', 'intensity_prop': '0.717', 'ms1ms2_ratio': '2.154', 'efficiency': '0.507', 'TP': '170', 'FP': '21', 'FN': '9', 'precision': '0.890', 'recall': '0.950', 'f1': '0.919'}\n",
      "\n",
      "Episode 6 finished\n",
      "{'coverage_prop': '0.956', 'intensity_prop': '0.694', 'ms1ms2_ratio': '0.690', 'efficiency': '0.543', 'TP': '401', 'FP': '56', 'FN': '21', 'precision': '0.877', 'recall': '0.950', 'f1': '0.912'}\n",
      "\n",
      "Episode 7 finished\n",
      "{'coverage_prop': '0.961', 'intensity_prop': '0.723', 'ms1ms2_ratio': '2.054', 'efficiency': '0.500', 'TP': '181', 'FP': '15', 'FN': '8', 'precision': '0.923', 'recall': '0.958', 'f1': '0.940'}\n",
      "\n",
      "Episode 8 finished\n",
      "{'coverage_prop': '0.953', 'intensity_prop': '0.690', 'ms1ms2_ratio': '0.822', 'efficiency': '0.534', 'TP': '351', 'FP': '53', 'FN': '20', 'precision': '0.869', 'recall': '0.946', 'f1': '0.906'}\n",
      "\n",
      "Episode 9 finished\n",
      "{'coverage_prop': '0.966', 'intensity_prop': '0.711', 'ms1ms2_ratio': '0.907', 'efficiency': '0.522', 'TP': '322', 'FP': '49', 'FN': '13', 'precision': '0.868', 'recall': '0.961', 'f1': '0.912'}\n",
      "\n",
      "Episode 10 finished\n",
      "{'coverage_prop': '0.964', 'intensity_prop': '0.726', 'ms1ms2_ratio': '0.690', 'efficiency': '0.508', 'TP': '378', 'FP': '49', 'FN': '16', 'precision': '0.885', 'recall': '0.959', 'f1': '0.921'}\n",
      "\n",
      "Episode 11 finished\n",
      "{'coverage_prop': '0.968', 'intensity_prop': '0.719', 'ms1ms2_ratio': '1.633', 'efficiency': '0.514', 'TP': '218', 'FP': '23', 'FN': '8', 'precision': '0.905', 'recall': '0.965', 'f1': '0.934'}\n",
      "\n",
      "Episode 12 finished\n",
      "{'coverage_prop': '0.948', 'intensity_prop': '0.674', 'ms1ms2_ratio': '1.606', 'efficiency': '0.501', 'TP': '199', 'FP': '39', 'FN': '13', 'precision': '0.836', 'recall': '0.939', 'f1': '0.884'}\n",
      "\n",
      "Episode 13 finished\n",
      "{'coverage_prop': '0.967', 'intensity_prop': '0.686', 'ms1ms2_ratio': '1.267', 'efficiency': '0.512', 'TP': '232', 'FP': '58', 'FN': '10', 'precision': '0.800', 'recall': '0.959', 'f1': '0.872'}\n",
      "\n",
      "Episode 14 finished\n",
      "{'coverage_prop': '0.951', 'intensity_prop': '0.697', 'ms1ms2_ratio': '1.983', 'efficiency': '0.486', 'TP': '170', 'FP': '26', 'FN': '10', 'precision': '0.867', 'recall': '0.944', 'f1': '0.904'}\n",
      "\n",
      "Episode 15 finished\n",
      "{'coverage_prop': '0.980', 'intensity_prop': '0.723', 'ms1ms2_ratio': '0.850', 'efficiency': '0.538', 'TP': '346', 'FP': '53', 'FN': '8', 'precision': '0.867', 'recall': '0.977', 'f1': '0.919'}\n",
      "\n",
      "Episode 16 finished\n",
      "{'coverage_prop': '0.978', 'intensity_prop': '0.737', 'ms1ms2_ratio': '0.593', 'efficiency': '0.532', 'TP': '429', 'FP': '58', 'FN': '11', 'precision': '0.881', 'recall': '0.975', 'f1': '0.926'}\n",
      "\n",
      "Episode 17 finished\n",
      "{'coverage_prop': '0.968', 'intensity_prop': '0.701', 'ms1ms2_ratio': '0.973', 'efficiency': '0.530', 'TP': '309', 'FP': '51', 'FN': '12', 'precision': '0.858', 'recall': '0.963', 'f1': '0.907'}\n",
      "\n",
      "Episode 18 finished\n",
      "{'coverage_prop': '0.967', 'intensity_prop': '0.713', 'ms1ms2_ratio': '1.252', 'efficiency': '0.511', 'TP': '254', 'FP': '38', 'FN': '10', 'precision': '0.870', 'recall': '0.962', 'f1': '0.914'}\n",
      "\n",
      "Episode 19 finished\n",
      "{'coverage_prop': '0.981', 'intensity_prop': '0.709', 'ms1ms2_ratio': '1.481', 'efficiency': '0.515', 'TP': '220', 'FP': '40', 'FN': '5', 'precision': '0.846', 'recall': '0.978', 'f1': '0.907'}\n",
      "\n",
      "Episode 20 finished\n",
      "{'coverage_prop': '0.962', 'intensity_prop': '0.711', 'ms1ms2_ratio': '0.699', 'efficiency': '0.540', 'TP': '387', 'FP': '63', 'FN': '18', 'precision': '0.860', 'recall': '0.956', 'f1': '0.905'}\n",
      "\n",
      "Episode 21 finished\n",
      "{'coverage_prop': '0.953', 'intensity_prop': '0.696', 'ms1ms2_ratio': '1.828', 'efficiency': '0.519', 'TP': '196', 'FP': '27', 'FN': '11', 'precision': '0.879', 'recall': '0.947', 'f1': '0.912'}\n",
      "\n",
      "Episode 22 finished\n",
      "{'coverage_prop': '0.969', 'intensity_prop': '0.711', 'ms1ms2_ratio': '1.187', 'efficiency': '0.526', 'TP': '273', 'FP': '39', 'FN': '10', 'precision': '0.875', 'recall': '0.965', 'f1': '0.918'}\n",
      "\n",
      "Episode 23 finished\n",
      "{'coverage_prop': '0.955', 'intensity_prop': '0.696', 'ms1ms2_ratio': '1.265', 'efficiency': '0.522', 'TP': '246', 'FP': '50', 'FN': '14', 'precision': '0.831', 'recall': '0.946', 'f1': '0.885'}\n",
      "\n",
      "Episode 24 finished\n",
      "{'coverage_prop': '0.983', 'intensity_prop': '0.725', 'ms1ms2_ratio': '0.973', 'efficiency': '0.499', 'TP': '297', 'FP': '42', 'FN': '6', 'precision': '0.876', 'recall': '0.980', 'f1': '0.925'}\n",
      "\n",
      "Episode 25 finished\n",
      "{'coverage_prop': '0.990', 'intensity_prop': '0.720', 'ms1ms2_ratio': '0.862', 'efficiency': '0.534', 'TP': '332', 'FP': '60', 'FN': '4', 'precision': '0.847', 'recall': '0.988', 'f1': '0.912'}\n",
      "\n",
      "Episode 26 finished\n",
      "{'coverage_prop': '0.970', 'intensity_prop': '0.723', 'ms1ms2_ratio': '2.059', 'efficiency': '0.504', 'TP': '174', 'FP': '23', 'FN': '6', 'precision': '0.883', 'recall': '0.967', 'f1': '0.923'}\n",
      "\n",
      "Episode 27 finished\n",
      "{'coverage_prop': '0.968', 'intensity_prop': '0.720', 'ms1ms2_ratio': '1.363', 'efficiency': '0.507', 'TP': '240', 'FP': '32', 'FN': '9', 'precision': '0.882', 'recall': '0.964', 'f1': '0.921'}\n",
      "\n",
      "Episode 28 finished\n",
      "{'coverage_prop': '0.970', 'intensity_prop': '0.714', 'ms1ms2_ratio': '0.582', 'efficiency': '0.517', 'TP': '410', 'FP': '68', 'FN': '15', 'precision': '0.858', 'recall': '0.965', 'f1': '0.908'}\n",
      "\n",
      "Episode 29 finished\n",
      "{'coverage_prop': '0.970', 'intensity_prop': '0.732', 'ms1ms2_ratio': '1.199', 'efficiency': '0.501', 'TP': '265', 'FP': '30', 'FN': '9', 'precision': '0.898', 'recall': '0.967', 'f1': '0.931'}\n",
      "\n"
     ]
    }
   ],
   "source": [
    "method = 'SmartROI_Controller'\n",
    "print('method = %s' % method)\n",
    "print()\n",
    "\n",
    "eval_results = []\n",
    "for i in range(len(chem_list)):\n",
    "    \n",
    "    spike_noise = None\n",
    "    if enable_spike_noise:\n",
    "        noise_params = params['noise']\n",
    "        noise_density = noise_params['noise_density']\n",
    "        noise_max_val = noise_params['noise_max_val']\n",
    "        noise_min_mz = noise_params['mz_range'][0]\n",
    "        noise_max_mz = noise_params['mz_range'][1]\n",
    "        spike_noise = UniformSpikeNoise(noise_density, noise_max_val, min_mz=noise_min_mz,\n",
    "                                        max_mz=noise_max_mz)\n",
    "\n",
    "    chems = chem_list[i]\n",
    "    mass_spec = IndependentMassSpectrometer(ionisation_mode, chems, spike_noise=spike_noise)\n",
    "    \n",
    "    roi_params = RoiBuilderParams(min_roi_intensity=0, min_roi_length=0)    \n",
    "    smartroi_params = SmartRoiParams(intensity_increase_factor=alpha, drop_perc=beta/100.0, dew=smartroi_dew, initial_length_seconds=ils)\n",
    "    controller = TopN_SmartRoiController(ionisation_mode, isolation_window, smartroi_N, mz_tol, smartroi_dew,\n",
    "                                min_ms1_intensity, roi_params, smartroi_params)\n",
    "    env = Environment(mass_spec, controller, rt_range[0], rt_range[1], progress_bar=False, out_dir=out_dir,\n",
    "                      out_file='%s_%d.mzML' % (method, i), save_eval=True)\n",
    "    env.run()\n",
    "    \n",
    "    eval_res = evaluate(env, intensity_threshold)\n",
    "    # eval_res['total_rewards'] = 0\n",
    "    eval_results.append(eval_res)\n",
    "    print('Episode %d finished' % i)\n",
    "    print(eval_res)\n",
    "    print()    \n",
    "    \n",
    "method_eval_results[method] = eval_results"
   ]
  },
  {
   "cell_type": "markdown",
   "metadata": {
    "pycharm": {
     "name": "#%% md\n"
    }
   },
   "source": [
    "Run WeightedDEW Controller"
   ]
  },
  {
   "cell_type": "code",
   "execution_count": 68,
   "metadata": {
    "execution": {
     "iopub.execute_input": "2023-03-27T18:13:35.267993Z",
     "iopub.status.busy": "2023-03-27T18:13:35.267854Z",
     "iopub.status.idle": "2023-03-27T18:16:41.848962Z",
     "shell.execute_reply": "2023-03-27T18:16:41.848562Z",
     "shell.execute_reply.started": "2023-03-27T18:13:35.267976Z"
    },
    "pycharm": {
     "name": "#%%\n"
    }
   },
   "outputs": [
    {
     "name": "stdout",
     "output_type": "stream",
     "text": [
      "method = WeightedDEW_Controller\n",
      "\n",
      "Episode 0 finished\n",
      "{'coverage_prop': '0.965', 'intensity_prop': '0.743', 'ms1ms2_ratio': '0.159', 'efficiency': '0.271', 'TP': '368', 'FP': '43', 'FN': '15', 'precision': '0.895', 'recall': '0.961', 'f1': '0.927'}\n",
      "\n",
      "Episode 1 finished\n",
      "{'coverage_prop': '0.958', 'intensity_prop': '0.791', 'ms1ms2_ratio': '0.242', 'efficiency': '0.186', 'TP': '238', 'FP': '13', 'FN': '11', 'precision': '0.948', 'recall': '0.956', 'f1': '0.952'}\n",
      "\n",
      "Episode 2 finished\n",
      "{'coverage_prop': '0.964', 'intensity_prop': '0.738', 'ms1ms2_ratio': '0.198', 'efficiency': '0.265', 'TP': '343', 'FP': '37', 'FN': '14', 'precision': '0.903', 'recall': '0.961', 'f1': '0.931'}\n",
      "\n",
      "Episode 3 finished\n",
      "{'coverage_prop': '0.969', 'intensity_prop': '0.762', 'ms1ms2_ratio': '0.158', 'efficiency': '0.288', 'TP': '404', 'FP': '34', 'FN': '14', 'precision': '0.922', 'recall': '0.967', 'f1': '0.944'}\n",
      "\n",
      "Episode 4 finished\n",
      "{'coverage_prop': '0.984', 'intensity_prop': '0.761', 'ms1ms2_ratio': '0.178', 'efficiency': '0.292', 'TP': '389', 'FP': '41', 'FN': '7', 'precision': '0.905', 'recall': '0.982', 'f1': '0.942'}\n",
      "\n",
      "Episode 5 finished\n",
      "{'coverage_prop': '0.960', 'intensity_prop': '0.815', 'ms1ms2_ratio': '0.421', 'efficiency': '0.177', 'TP': '186', 'FP': '6', 'FN': '8', 'precision': '0.969', 'recall': '0.959', 'f1': '0.964'}\n",
      "\n",
      "Episode 6 finished\n",
      "{'coverage_prop': '0.952', 'intensity_prop': '0.745', 'ms1ms2_ratio': '0.156', 'efficiency': '0.299', 'TP': '410', 'FP': '45', 'FN': '23', 'precision': '0.901', 'recall': '0.947', 'f1': '0.923'}\n",
      "\n",
      "Episode 7 finished\n",
      "{'coverage_prop': '0.956', 'intensity_prop': '0.810', 'ms1ms2_ratio': '0.349', 'efficiency': '0.165', 'TP': '188', 'FP': '7', 'FN': '9', 'precision': '0.964', 'recall': '0.954', 'f1': '0.959'}\n",
      "\n",
      "Episode 8 finished\n",
      "{'coverage_prop': '0.955', 'intensity_prop': '0.736', 'ms1ms2_ratio': '0.147', 'efficiency': '0.262', 'TP': '362', 'FP': '43', 'FN': '19', 'precision': '0.894', 'recall': '0.950', 'f1': '0.921'}\n",
      "\n",
      "Episode 9 finished\n",
      "{'coverage_prop': '0.969', 'intensity_prop': '0.765', 'ms1ms2_ratio': '0.185', 'efficiency': '0.255', 'TP': '342', 'FP': '30', 'FN': '12', 'precision': '0.919', 'recall': '0.966', 'f1': '0.942'}\n",
      "\n",
      "Episode 10 finished\n",
      "{'coverage_prop': '0.962', 'intensity_prop': '0.753', 'ms1ms2_ratio': '0.155', 'efficiency': '0.279', 'TP': '390', 'FP': '36', 'FN': '17', 'precision': '0.915', 'recall': '0.958', 'f1': '0.936'}\n",
      "\n",
      "Episode 11 finished\n",
      "{'coverage_prop': '0.956', 'intensity_prop': '0.794', 'ms1ms2_ratio': '0.274', 'efficiency': '0.184', 'TP': '229', 'FP': '9', 'FN': '11', 'precision': '0.962', 'recall': '0.954', 'f1': '0.958'}\n",
      "\n",
      "Episode 12 finished\n",
      "{'coverage_prop': '0.948', 'intensity_prop': '0.763', 'ms1ms2_ratio': '0.219', 'efficiency': '0.171', 'TP': '217', 'FP': '21', 'FN': '13', 'precision': '0.912', 'recall': '0.943', 'f1': '0.927'}\n",
      "\n",
      "Episode 13 finished\n",
      "{'coverage_prop': '0.960', 'intensity_prop': '0.755', 'ms1ms2_ratio': '0.194', 'efficiency': '0.200', 'TP': '254', 'FP': '34', 'FN': '12', 'precision': '0.882', 'recall': '0.955', 'f1': '0.917'}\n",
      "\n",
      "Episode 14 finished\n",
      "{'coverage_prop': '0.956', 'intensity_prop': '0.779', 'ms1ms2_ratio': '0.326', 'efficiency': '0.163', 'TP': '183', 'FP': '14', 'FN': '9', 'precision': '0.929', 'recall': '0.953', 'f1': '0.941'}\n",
      "\n",
      "Episode 15 finished\n",
      "{'coverage_prop': '0.978', 'intensity_prop': '0.784', 'ms1ms2_ratio': '0.187', 'efficiency': '0.273', 'TP': '368', 'FP': '30', 'FN': '9', 'precision': '0.925', 'recall': '0.976', 'f1': '0.950'}\n",
      "\n",
      "Episode 16 finished\n",
      "{'coverage_prop': '0.974', 'intensity_prop': '0.760', 'ms1ms2_ratio': '0.162', 'efficiency': '0.321', 'TP': '445', 'FP': '40', 'FN': '13', 'precision': '0.918', 'recall': '0.972', 'f1': '0.944'}\n",
      "\n",
      "Episode 17 finished\n",
      "{'coverage_prop': '0.960', 'intensity_prop': '0.764', 'ms1ms2_ratio': '0.173', 'efficiency': '0.240', 'TP': '329', 'FP': '28', 'FN': '15', 'precision': '0.922', 'recall': '0.956', 'f1': '0.939'}\n",
      "\n",
      "Episode 18 finished\n",
      "{'coverage_prop': '0.967', 'intensity_prop': '0.778', 'ms1ms2_ratio': '0.220', 'efficiency': '0.210', 'TP': '268', 'FP': '24', 'FN': '10', 'precision': '0.918', 'recall': '0.964', 'f1': '0.940'}\n",
      "\n",
      "Episode 19 finished\n",
      "{'coverage_prop': '0.974', 'intensity_prop': '0.792', 'ms1ms2_ratio': '0.214', 'efficiency': '0.184', 'TP': '240', 'FP': '18', 'FN': '7', 'precision': '0.930', 'recall': '0.972', 'f1': '0.950'}\n",
      "\n",
      "Episode 20 finished\n",
      "{'coverage_prop': '0.940', 'intensity_prop': '0.736', 'ms1ms2_ratio': '0.163', 'efficiency': '0.292', 'TP': '397', 'FP': '43', 'FN': '28', 'precision': '0.902', 'recall': '0.934', 'f1': '0.918'}\n",
      "\n",
      "Episode 21 finished\n",
      "{'coverage_prop': '0.953', 'intensity_prop': '0.785', 'ms1ms2_ratio': '0.353', 'efficiency': '0.190', 'TP': '209', 'FP': '14', 'FN': '11', 'precision': '0.937', 'recall': '0.950', 'f1': '0.944'}\n",
      "\n",
      "Episode 22 finished\n",
      "{'coverage_prop': '0.969', 'intensity_prop': '0.772', 'ms1ms2_ratio': '0.201', 'efficiency': '0.219', 'TP': '287', 'FP': '25', 'FN': '10', 'precision': '0.920', 'recall': '0.966', 'f1': '0.943'}\n",
      "\n",
      "Episode 23 finished\n",
      "{'coverage_prop': '0.948', 'intensity_prop': '0.769', 'ms1ms2_ratio': '0.249', 'efficiency': '0.220', 'TP': '268', 'FP': '26', 'FN': '16', 'precision': '0.912', 'recall': '0.944', 'f1': '0.927'}\n",
      "\n",
      "Episode 24 finished\n",
      "{'coverage_prop': '0.983', 'intensity_prop': '0.777', 'ms1ms2_ratio': '0.192', 'efficiency': '0.234', 'TP': '312', 'FP': '27', 'FN': '6', 'precision': '0.920', 'recall': '0.981', 'f1': '0.950'}\n",
      "\n",
      "Episode 25 finished\n",
      "{'coverage_prop': '0.982', 'intensity_prop': '0.781', 'ms1ms2_ratio': '0.183', 'efficiency': '0.266', 'TP': '356', 'FP': '33', 'FN': '7', 'precision': '0.915', 'recall': '0.981', 'f1': '0.947'}\n",
      "\n",
      "Episode 26 finished\n",
      "{'coverage_prop': '0.966', 'intensity_prop': '0.825', 'ms1ms2_ratio': '0.358', 'efficiency': '0.168', 'TP': '188', 'FP': '8', 'FN': '7', 'precision': '0.959', 'recall': '0.964', 'f1': '0.962'}\n",
      "\n",
      "Episode 27 finished\n",
      "{'coverage_prop': '0.968', 'intensity_prop': '0.800', 'ms1ms2_ratio': '0.254', 'efficiency': '0.205', 'TP': '260', 'FP': '12', 'FN': '9', 'precision': '0.956', 'recall': '0.967', 'f1': '0.961'}\n",
      "\n",
      "Episode 28 finished\n",
      "{'coverage_prop': '0.949', 'intensity_prop': '0.738', 'ms1ms2_ratio': '0.147', 'efficiency': '0.303', 'TP': '424', 'FP': '44', 'FN': '25', 'precision': '0.906', 'recall': '0.944', 'f1': '0.925'}\n",
      "\n",
      "Episode 29 finished\n",
      "{'coverage_prop': '0.964', 'intensity_prop': '0.792', 'ms1ms2_ratio': '0.203', 'efficiency': '0.206', 'TP': '272', 'FP': '21', 'FN': '11', 'precision': '0.928', 'recall': '0.961', 'f1': '0.944'}\n",
      "\n"
     ]
    }
   ],
   "source": [
    "method = 'WeightedDEW_Controller'\n",
    "print('method = %s' % method)\n",
    "print()\n",
    "\n",
    "eval_results = []\n",
    "for i in range(len(chem_list)):\n",
    "    \n",
    "    spike_noise = None\n",
    "    if enable_spike_noise:\n",
    "        noise_params = params['noise']\n",
    "        noise_density = noise_params['noise_density']\n",
    "        noise_max_val = noise_params['noise_max_val']\n",
    "        noise_min_mz = noise_params['mz_range'][0]\n",
    "        noise_max_mz = noise_params['mz_range'][1]\n",
    "        spike_noise = UniformSpikeNoise(noise_density, noise_max_val, min_mz=noise_min_mz,\n",
    "                                        max_mz=noise_max_mz)\n",
    "\n",
    "    chems = chem_list[i]\n",
    "    mass_spec = IndependentMassSpectrometer(ionisation_mode, chems, spike_noise=spike_noise)\n",
    "    \n",
    "    controller = WeightedDEWController(ionisation_mode, weighteddew_N, isolation_window, mz_tol, t1,\n",
    "                                min_ms1_intensity, exclusion_t_0=t0)\n",
    "    env = Environment(mass_spec, controller, rt_range[0], rt_range[1], progress_bar=False, out_dir=out_dir,\n",
    "                      out_file='%s_%d.mzML' % (method, i), save_eval=True)\n",
    "    env.run()\n",
    "    \n",
    "    eval_res = evaluate(env, intensity_threshold)\n",
    "    # eval_res['total_rewards'] = 0\n",
    "    eval_results.append(eval_res)\n",
    "    print('Episode %d finished' % i)\n",
    "    print(eval_res)\n",
    "    print()    \n",
    "    \n",
    "method_eval_results[method] = eval_results"
   ]
  },
  {
   "cell_type": "markdown",
   "metadata": {
    "pycharm": {
     "name": "#%% md\n"
    }
   },
   "source": [
    "#### Plotting"
   ]
  },
  {
   "cell_type": "markdown",
   "metadata": {
    "pycharm": {
     "name": "#%% md\n"
    }
   },
   "source": [
    "Flatten data into dataframe"
   ]
  },
  {
   "cell_type": "code",
   "execution_count": 69,
   "metadata": {
    "execution": {
     "iopub.execute_input": "2023-03-27T18:16:41.849760Z",
     "iopub.status.busy": "2023-03-27T18:16:41.849634Z",
     "iopub.status.idle": "2023-03-27T18:16:41.898232Z",
     "shell.execute_reply": "2023-03-27T18:16:41.897361Z",
     "shell.execute_reply.started": "2023-03-27T18:16:41.849744Z"
    },
    "pycharm": {
     "name": "#%%\n"
    }
   },
   "outputs": [
    {
     "data": {
      "text/html": [
       "<div>\n",
       "<style scoped>\n",
       "    .dataframe tbody tr th:only-of-type {\n",
       "        vertical-align: middle;\n",
       "    }\n",
       "\n",
       "    .dataframe tbody tr th {\n",
       "        vertical-align: top;\n",
       "    }\n",
       "\n",
       "    .dataframe thead th {\n",
       "        text-align: right;\n",
       "    }\n",
       "</style>\n",
       "<table border=\"1\" class=\"dataframe\">\n",
       "  <thead>\n",
       "    <tr style=\"text-align: right;\">\n",
       "      <th></th>\n",
       "      <th>method</th>\n",
       "      <th>total_rewards</th>\n",
       "      <th>invalid_action_count</th>\n",
       "      <th>coverage_prop</th>\n",
       "      <th>intensity_prop</th>\n",
       "      <th>ms1/ms2_ratio</th>\n",
       "      <th>efficiency</th>\n",
       "      <th>precision</th>\n",
       "      <th>recall</th>\n",
       "      <th>f1</th>\n",
       "    </tr>\n",
       "  </thead>\n",
       "  <tbody>\n",
       "    <tr>\n",
       "      <th>0</th>\n",
       "      <td>random</td>\n",
       "      <td>236.544345</td>\n",
       "      <td>0.0</td>\n",
       "      <td>0.930</td>\n",
       "      <td>0.688</td>\n",
       "      <td>0.133</td>\n",
       "      <td>0.251</td>\n",
       "      <td>0.828</td>\n",
       "      <td>0.916</td>\n",
       "      <td>0.870</td>\n",
       "    </tr>\n",
       "    <tr>\n",
       "      <th>1</th>\n",
       "      <td>random</td>\n",
       "      <td>231.829130</td>\n",
       "      <td>0.0</td>\n",
       "      <td>0.958</td>\n",
       "      <td>0.771</td>\n",
       "      <td>0.205</td>\n",
       "      <td>0.177</td>\n",
       "      <td>0.920</td>\n",
       "      <td>0.955</td>\n",
       "      <td>0.937</td>\n",
       "    </tr>\n",
       "    <tr>\n",
       "      <th>2</th>\n",
       "      <td>random</td>\n",
       "      <td>242.772680</td>\n",
       "      <td>0.0</td>\n",
       "      <td>0.944</td>\n",
       "      <td>0.705</td>\n",
       "      <td>0.147</td>\n",
       "      <td>0.241</td>\n",
       "      <td>0.844</td>\n",
       "      <td>0.935</td>\n",
       "      <td>0.887</td>\n",
       "    </tr>\n",
       "    <tr>\n",
       "      <th>3</th>\n",
       "      <td>random</td>\n",
       "      <td>230.459097</td>\n",
       "      <td>0.0</td>\n",
       "      <td>0.945</td>\n",
       "      <td>0.705</td>\n",
       "      <td>0.129</td>\n",
       "      <td>0.269</td>\n",
       "      <td>0.876</td>\n",
       "      <td>0.937</td>\n",
       "      <td>0.906</td>\n",
       "    </tr>\n",
       "    <tr>\n",
       "      <th>4</th>\n",
       "      <td>random</td>\n",
       "      <td>227.930602</td>\n",
       "      <td>0.0</td>\n",
       "      <td>0.950</td>\n",
       "      <td>0.699</td>\n",
       "      <td>0.143</td>\n",
       "      <td>0.267</td>\n",
       "      <td>0.819</td>\n",
       "      <td>0.939</td>\n",
       "      <td>0.875</td>\n",
       "    </tr>\n",
       "  </tbody>\n",
       "</table>\n",
       "</div>"
      ],
      "text/plain": [
       "   method  total_rewards  invalid_action_count  coverage_prop  intensity_prop  \\\n",
       "0  random     236.544345                   0.0          0.930           0.688   \n",
       "1  random     231.829130                   0.0          0.958           0.771   \n",
       "2  random     242.772680                   0.0          0.944           0.705   \n",
       "3  random     230.459097                   0.0          0.945           0.705   \n",
       "4  random     227.930602                   0.0          0.950           0.699   \n",
       "\n",
       "   ms1/ms2_ratio  efficiency  precision  recall     f1  \n",
       "0          0.133       0.251      0.828   0.916  0.870  \n",
       "1          0.205       0.177      0.920   0.955  0.937  \n",
       "2          0.147       0.241      0.844   0.935  0.887  \n",
       "3          0.129       0.269      0.876   0.937  0.906  \n",
       "4          0.143       0.267      0.819   0.939  0.875  "
      ]
     },
     "execution_count": 69,
     "metadata": {},
     "output_type": "execute_result"
    }
   ],
   "source": [
    "data = []\n",
    "for method in method_eval_results:\n",
    "    eval_results = method_eval_results[method]\n",
    "    for eval_res in eval_results:\n",
    "        try:\n",
    "            total_rewards = float(eval_res['total_rewards'])       \n",
    "        except KeyError:\n",
    "            total_rewards = 0.0\n",
    "\n",
    "        try:\n",
    "            invalid_action_count = float(eval_res['invalid_action_count'])       \n",
    "        except KeyError:\n",
    "            invalid_action_count = 0.0\n",
    "\n",
    "        row = (\n",
    "            method, \n",
    "            total_rewards, \n",
    "            invalid_action_count,\n",
    "            float(eval_res['coverage_prop']), \n",
    "            float(eval_res['intensity_prop']), \n",
    "            float(eval_res['ms1ms2_ratio']), \n",
    "            float(eval_res['efficiency']),\n",
    "            float(eval_res['precision']),\n",
    "            float(eval_res['recall']),\n",
    "            float(eval_res['f1']),            \n",
    "        )\n",
    "        data.append(row)\n",
    "        \n",
    "df = pd.DataFrame(data, columns=['method', 'total_rewards', 'invalid_action_count', \n",
    "    'coverage_prop', 'intensity_prop', 'ms1/ms2_ratio', 'efficiency', \n",
    "    'precision', 'recall', 'f1'])\n",
    "# df.set_index('method', inplace=True)\n",
    "df.head()"
   ]
  },
  {
   "cell_type": "code",
   "execution_count": 70,
   "metadata": {
    "execution": {
     "iopub.execute_input": "2023-03-27T18:16:41.899975Z",
     "iopub.status.busy": "2023-03-27T18:16:41.899742Z",
     "iopub.status.idle": "2023-03-27T18:16:41.934500Z",
     "shell.execute_reply": "2023-03-27T18:16:41.933914Z",
     "shell.execute_reply.started": "2023-03-27T18:16:41.899948Z"
    },
    "pycharm": {
     "name": "#%%\n"
    }
   },
   "outputs": [],
   "source": [
    "sns.set_context(\"poster\")"
   ]
  },
  {
   "cell_type": "code",
   "execution_count": 71,
   "metadata": {
    "execution": {
     "iopub.execute_input": "2023-03-27T18:16:41.935400Z",
     "iopub.status.busy": "2023-03-27T18:16:41.935250Z",
     "iopub.status.idle": "2023-03-27T18:16:42.121698Z",
     "shell.execute_reply": "2023-03-27T18:16:42.120970Z",
     "shell.execute_reply.started": "2023-03-27T18:16:41.935383Z"
    }
   },
   "outputs": [
    {
     "data": {
      "text/plain": [
       "Text(0.5, 1.0, 'Total Rewards')"
      ]
     },
     "execution_count": 71,
     "metadata": {},
     "output_type": "execute_result"
    },
    {
     "data": {
      "image/png": "[encoded data removed]",
      "text/plain": [
       "<Figure size 720x360 with 1 Axes>"
      ]
     },
     "metadata": {
      "needs_background": "light"
     },
     "output_type": "display_data"
    }
   ],
   "source": [
    "plt.figure(figsize=(10, 5))\n",
    "sns.boxplot(data=df, x='method', y='total_rewards')\n",
    "plt.xticks(rotation=90)\n",
    "plt.title('Total Rewards')"
   ]
  },
  {
   "cell_type": "code",
   "execution_count": 72,
   "metadata": {
    "execution": {
     "iopub.execute_input": "2023-03-27T18:16:42.122799Z",
     "iopub.status.busy": "2023-03-27T18:16:42.122623Z",
     "iopub.status.idle": "2023-03-27T18:16:42.323822Z",
     "shell.execute_reply": "2023-03-27T18:16:42.323074Z",
     "shell.execute_reply.started": "2023-03-27T18:16:42.122780Z"
    }
   },
   "outputs": [
    {
     "data": {
      "text/plain": [
       "Text(0.5, 1.0, 'Invalid Action Count')"
      ]
     },
     "execution_count": 72,
     "metadata": {},
     "output_type": "execute_result"
    },
    {
     "data": {
      "image/png": "[encoded data removed]",
      "text/plain": [
       "<Figure size 720x360 with 1 Axes>"
      ]
     },
     "metadata": {
      "needs_background": "light"
     },
     "output_type": "display_data"
    }
   ],
   "source": [
    "plt.figure(figsize=(10, 5))\n",
    "sns.boxplot(data=df, x='method', y='invalid_action_count')\n",
    "plt.xticks(rotation=90)\n",
    "plt.title('Invalid Action Count')"
   ]
  },
  {
   "cell_type": "code",
   "execution_count": 73,
   "metadata": {
    "execution": {
     "iopub.execute_input": "2023-03-27T18:16:42.325074Z",
     "iopub.status.busy": "2023-03-27T18:16:42.324921Z",
     "iopub.status.idle": "2023-03-27T18:16:42.522641Z",
     "shell.execute_reply": "2023-03-27T18:16:42.522116Z",
     "shell.execute_reply.started": "2023-03-27T18:16:42.325057Z"
    },
    "pycharm": {
     "name": "#%%\n"
    }
   },
   "outputs": [
    {
     "data": {
      "text/plain": [
       "Text(0.5, 1.0, 'Coverage Proportion')"
      ]
     },
     "execution_count": 73,
     "metadata": {},
     "output_type": "execute_result"
    },
    {
     "data": {
      "image/png": "[encoded data removed]",
      "text/plain": [
       "<Figure size 720x360 with 1 Axes>"
      ]
     },
     "metadata": {
      "needs_background": "light"
     },
     "output_type": "display_data"
    }
   ],
   "source": [
    "plt.figure(figsize=(10, 5))\n",
    "sns.boxplot(data=df, x='method', y='coverage_prop')\n",
    "plt.xticks(rotation=90)\n",
    "plt.title('Coverage Proportion')"
   ]
  },
  {
   "cell_type": "code",
   "execution_count": 74,
   "metadata": {
    "execution": {
     "iopub.execute_input": "2023-03-27T18:16:42.524111Z",
     "iopub.status.busy": "2023-03-27T18:16:42.523658Z",
     "iopub.status.idle": "2023-03-27T18:16:42.725059Z",
     "shell.execute_reply": "2023-03-27T18:16:42.724508Z",
     "shell.execute_reply.started": "2023-03-27T18:16:42.524087Z"
    },
    "pycharm": {
     "name": "#%%\n"
    }
   },
   "outputs": [
    {
     "data": {
      "text/plain": [
       "Text(0.5, 1.0, 'Intensity Proportion')"
      ]
     },
     "execution_count": 74,
     "metadata": {},
     "output_type": "execute_result"
    },
    {
     "data": {
      "image/png": "[encoded data removed]",
      "text/plain": [
       "<Figure size 720x360 with 1 Axes>"
      ]
     },
     "metadata": {
      "needs_background": "light"
     },
     "output_type": "display_data"
    }
   ],
   "source": [
    "plt.figure(figsize=(10, 5))\n",
    "sns.boxplot(data=df, x='method', y='intensity_prop')\n",
    "plt.xticks(rotation=90)\n",
    "plt.title('Intensity Proportion')"
   ]
  },
  {
   "cell_type": "code",
   "execution_count": 75,
   "metadata": {
    "execution": {
     "iopub.execute_input": "2023-03-27T18:16:42.725996Z",
     "iopub.status.busy": "2023-03-27T18:16:42.725859Z",
     "iopub.status.idle": "2023-03-27T18:16:42.903845Z",
     "shell.execute_reply": "2023-03-27T18:16:42.903350Z",
     "shell.execute_reply.started": "2023-03-27T18:16:42.725979Z"
    },
    "pycharm": {
     "name": "#%%\n"
    }
   },
   "outputs": [
    {
     "data": {
      "text/plain": [
       "Text(0.5, 1.0, 'MS1/MS2 Ratio')"
      ]
     },
     "execution_count": 75,
     "metadata": {},
     "output_type": "execute_result"
    },
    {
     "data": {
      "image/png": "[encoded data removed]",
      "text/plain": [
       "<Figure size 720x360 with 1 Axes>"
      ]
     },
     "metadata": {
      "needs_background": "light"
     },
     "output_type": "display_data"
    }
   ],
   "source": [
    "plt.figure(figsize=(10, 5))\n",
    "sns.boxplot(data=df, x='method', y='ms1/ms2_ratio')\n",
    "plt.xticks(rotation=90)\n",
    "plt.title('MS1/MS2 Ratio')"
   ]
  },
  {
   "cell_type": "code",
   "execution_count": 76,
   "metadata": {
    "execution": {
     "iopub.execute_input": "2023-03-27T18:16:42.904825Z",
     "iopub.status.busy": "2023-03-27T18:16:42.904683Z",
     "iopub.status.idle": "2023-03-27T18:16:43.071261Z",
     "shell.execute_reply": "2023-03-27T18:16:43.070835Z",
     "shell.execute_reply.started": "2023-03-27T18:16:42.904809Z"
    },
    "pycharm": {
     "name": "#%%\n"
    }
   },
   "outputs": [
    {
     "data": {
      "text/plain": [
       "Text(0.5, 1.0, 'Efficiency')"
      ]
     },
     "execution_count": 76,
     "metadata": {},
     "output_type": "execute_result"
    },
    {
     "data": {
      "image/png": "[encoded data removed]",
      "text/plain": [
       "<Figure size 720x360 with 1 Axes>"
      ]
     },
     "metadata": {
      "needs_background": "light"
     },
     "output_type": "display_data"
    }
   ],
   "source": [
    "plt.figure(figsize=(10, 5))\n",
    "sns.boxplot(data=df, x='method', y='efficiency')\n",
    "plt.xticks(rotation=90)\n",
    "plt.title('Efficiency')"
   ]
  },
  {
   "cell_type": "code",
   "execution_count": 77,
   "metadata": {
    "execution": {
     "iopub.execute_input": "2023-03-27T18:16:43.072173Z",
     "iopub.status.busy": "2023-03-27T18:16:43.072036Z",
     "iopub.status.idle": "2023-03-27T18:16:43.237348Z",
     "shell.execute_reply": "2023-03-27T18:16:43.236791Z",
     "shell.execute_reply.started": "2023-03-27T18:16:43.072157Z"
    },
    "pycharm": {
     "name": "#%%\n"
    }
   },
   "outputs": [
    {
     "data": {
      "text/plain": [
       "Text(0.5, 1.0, 'Precision')"
      ]
     },
     "execution_count": 77,
     "metadata": {},
     "output_type": "execute_result"
    },
    {
     "data": {
      "image/png": "[encoded data removed]",
      "text/plain": [
       "<Figure size 720x360 with 1 Axes>"
      ]
     },
     "metadata": {
      "needs_background": "light"
     },
     "output_type": "display_data"
    }
   ],
   "source": [
    "plt.figure(figsize=(10, 5))\n",
    "sns.boxplot(data=df, x='method', y='precision')\n",
    "plt.xticks(rotation=90)\n",
    "plt.title('Precision')"
   ]
  },
  {
   "cell_type": "code",
   "execution_count": 78,
   "metadata": {
    "execution": {
     "iopub.execute_input": "2023-03-27T18:16:43.238424Z",
     "iopub.status.busy": "2023-03-27T18:16:43.238295Z",
     "iopub.status.idle": "2023-03-27T18:16:43.397462Z",
     "shell.execute_reply": "2023-03-27T18:16:43.396950Z",
     "shell.execute_reply.started": "2023-03-27T18:16:43.238408Z"
    },
    "pycharm": {
     "name": "#%%\n"
    }
   },
   "outputs": [
    {
     "data": {
      "text/plain": [
       "Text(0.5, 1.0, 'Recall')"
      ]
     },
     "execution_count": 78,
     "metadata": {},
     "output_type": "execute_result"
    },
    {
     "data": {
      "image/png": "[encoded data removed]",
      "text/plain": [
       "<Figure size 720x360 with 1 Axes>"
      ]
     },
     "metadata": {
      "needs_background": "light"
     },
     "output_type": "display_data"
    }
   ],
   "source": [
    "plt.figure(figsize=(10, 5))\n",
    "sns.boxplot(data=df, x='method', y='recall')\n",
    "plt.xticks(rotation=90)\n",
    "plt.title('Recall')"
   ]
  },
  {
   "cell_type": "code",
   "execution_count": null,
   "metadata": {
    "execution": {
     "iopub.execute_input": "2023-03-27T18:16:43.398378Z",
     "iopub.status.busy": "2023-03-27T18:16:43.398238Z"
    },
    "pycharm": {
     "name": "#%%\n"
    }
   },
   "outputs": [
    {
     "data": {
      "text/plain": [
       "Text(0.5, 1.0, 'F1')"
      ]
     },
     "execution_count": 79,
     "metadata": {},
     "output_type": "execute_result"
    }
   ],
   "source": [
    "plt.figure(figsize=(10, 5))\n",
    "sns.boxplot(data=df, x='method', y='f1')\n",
    "plt.xticks(rotation=90)\n",
    "plt.title('F1')"
   ]
  },
  {
   "cell_type": "code",
   "execution_count": null,
   "metadata": {
    "pycharm": {
     "name": "#%%\n"
    }
   },
   "outputs": [],
   "source": [
    "df.to_pickle('evaluation_1.0E6_horizon_%d_alpha_%.2f_beta_%.2f.p' % (horizon, env_alpha, env_beta))"
   ]
  },
  {
   "cell_type": "markdown",
   "metadata": {},
   "source": [
    "### Without 'random'"
   ]
  },
  {
   "cell_type": "code",
   "execution_count": null,
   "metadata": {},
   "outputs": [],
   "source": [
    "df = pd.read_pickle('evaluation_1.0E6_horizon_%d_alpha_%.2f_beta_%.2f.p' % (horizon, env_alpha, env_beta))"
   ]
  },
  {
   "cell_type": "code",
   "execution_count": null,
   "metadata": {},
   "outputs": [],
   "source": [
    "new_df = df[df.method != 'DQN']\n",
    "new_df.head()"
   ]
  },
  {
   "cell_type": "code",
   "execution_count": null,
   "metadata": {},
   "outputs": [],
   "source": [
    "plt.figure(figsize=(10, 5))\n",
    "sns.boxplot(data=new_df, x='method', y='total_rewards', showfliers=False)\n",
    "plt.xticks(rotation=90)\n",
    "plt.title('Total Rewards')"
   ]
  },
  {
   "cell_type": "code",
   "execution_count": null,
   "metadata": {},
   "outputs": [],
   "source": [
    "plt.figure(figsize=(10, 5))\n",
    "sns.boxplot(data=new_df, x='method', y='invalid_action_count', showfliers=False)\n",
    "plt.xticks(rotation=90)\n",
    "plt.title('Invalid Action Count')"
   ]
  },
  {
   "cell_type": "code",
   "execution_count": null,
   "metadata": {},
   "outputs": [],
   "source": [
    "plt.figure(figsize=(10, 5))\n",
    "sns.boxplot(data=new_df, x='method', y='coverage_prop')\n",
    "plt.xticks(rotation=90)\n",
    "plt.title('Coverage Proportion')"
   ]
  },
  {
   "cell_type": "code",
   "execution_count": null,
   "metadata": {},
   "outputs": [],
   "source": [
    "plt.figure(figsize=(10, 5))\n",
    "sns.boxplot(data=new_df, x='method', y='intensity_prop')\n",
    "plt.xticks(rotation=90)\n",
    "plt.title('Intensity Proportion')"
   ]
  },
  {
   "cell_type": "code",
   "execution_count": null,
   "metadata": {},
   "outputs": [],
   "source": [
    "plt.figure(figsize=(10, 5))\n",
    "sns.boxplot(data=new_df, x='method', y='ms1/ms2_ratio')\n",
    "plt.xticks(rotation=90)\n",
    "plt.title('MS1/MS2 Ratio')"
   ]
  },
  {
   "cell_type": "code",
   "execution_count": null,
   "metadata": {},
   "outputs": [],
   "source": [
    "plt.figure(figsize=(10, 5))\n",
    "sns.boxplot(data=new_df, x='method', y='precision')\n",
    "plt.xticks(rotation=90)\n",
    "plt.title('Precision')"
   ]
  },
  {
   "cell_type": "code",
   "execution_count": null,
   "metadata": {},
   "outputs": [],
   "source": [
    "plt.figure(figsize=(10, 5))\n",
    "sns.boxplot(data=new_df, x='method', y='recall')\n",
    "plt.xticks(rotation=90)\n",
    "plt.title('Recall')"
   ]
  },
  {
   "cell_type": "code",
   "execution_count": null,
   "metadata": {
    "tags": []
   },
   "outputs": [],
   "source": [
    "plt.figure(figsize=(10, 5))\n",
    "sns.boxplot(data=new_df, x='method', y='f1')\n",
    "plt.xticks(rotation=90)\n",
    "plt.title('F1')"
   ]
  }
 ],
 "metadata": {
  "kernelspec": {
   "display_name": "Python 3 (ipykernel)",
   "language": "python",
   "name": "python3"
  },
  "language_info": {
   "codemirror_mode": {
    "name": "ipython",
    "version": 3
   },
   "file_extension": ".py",
   "mimetype": "text/x-python",
   "name": "python",
   "nbconvert_exporter": "python",
   "pygments_lexer": "ipython3",
   "version": "3.8.12"
  },
  "vscode": {
   "interpreter": {
    "hash": "05a318a39bdd806c866a458e5513009c97d8e8627387c5b7a048c974669be487"
   }
  }
 },
 "nbformat": 4,
 "nbformat_minor": 4
}
