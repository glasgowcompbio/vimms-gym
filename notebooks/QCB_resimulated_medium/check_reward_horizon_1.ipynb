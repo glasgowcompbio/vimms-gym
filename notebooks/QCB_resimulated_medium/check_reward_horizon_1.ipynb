{
 "cells": [
  {
   "cell_type": "markdown",
   "metadata": {},
   "source": [
    "# Evaluation using QCB chemicals (medium)"
   ]
  },
  {
   "cell_type": "code",
   "execution_count": 1,
   "metadata": {
    "pycharm": {
     "name": "#%%\n"
    },
    "tags": []
   },
   "outputs": [],
   "source": [
    "%matplotlib inline\n",
    "\n",
    "%load_ext autoreload\n",
    "%autoreload 2"
   ]
  },
  {
   "cell_type": "code",
   "execution_count": 2,
   "metadata": {
    "pycharm": {
     "name": "#%%\n"
    }
   },
   "outputs": [],
   "source": [
    "import os\n",
    "import sys\n",
    "from os.path import exists\n",
    "import copy\n",
    "\n",
    "sys.path.append('../..')"
   ]
  },
  {
   "cell_type": "code",
   "execution_count": 3,
   "metadata": {
    "pycharm": {
     "name": "#%%\n"
    },
    "tags": []
   },
   "outputs": [],
   "source": [
    "import pylab as plt\n",
    "import pandas as pd\n",
    "import numpy as np\n",
    "from loguru import logger\n",
    "import seaborn as sns\n",
    "\n",
    "from stable_baselines3 import DQN, PPO\n",
    "from sb3_contrib import RecurrentPPO, MaskablePPO"
   ]
  },
  {
   "cell_type": "code",
   "execution_count": 4,
   "metadata": {
    "pycharm": {
     "name": "#%%\n"
    },
    "tags": []
   },
   "outputs": [],
   "source": [
    "from vimms.Common import POSITIVE, set_log_level_warning, load_obj, save_obj\n",
    "from vimms.ChemicalSamplers import UniformRTAndIntensitySampler, GaussianChromatogramSampler, UniformMZFormulaSampler, \\\n",
    "    MZMLFormulaSampler, MZMLRTandIntensitySampler, MZMLChromatogramSampler\n",
    "from vimms.Noise import UniformSpikeNoise\n",
    "from vimms.Evaluation import evaluate_real\n",
    "from vimms.Chemicals import ChemicalMixtureFromMZML\n",
    "from vimms.Roi import RoiBuilderParams, SmartRoiParams\n",
    "\n",
    "from mass_spec_utils.data_import.mzmine import load_picked_boxes\n",
    "\n",
    "from vimms_gym.env import DDAEnv\n",
    "from vimms_gym.chemicals import generate_chemicals\n",
    "from vimms_gym.evaluation import evaluate, run_method\n",
    "from vimms_gym.common import METHOD_RANDOM, METHOD_FULLSCAN, METHOD_TOPN, METHOD_DQN, \\\n",
    "    METHOD_DQN_COV, METHOD_DQN_INT, METHOD_DQN_MID, METHOD_PPO, METHOD_PPO_RECURRENT"
   ]
  },
  {
   "cell_type": "markdown",
   "metadata": {
    "pycharm": {
     "name": "#%% md\n"
    }
   },
   "source": [
    "# 1. Parameters"
   ]
  },
  {
   "cell_type": "code",
   "execution_count": 5,
   "metadata": {},
   "outputs": [],
   "source": [
    "DEBUG = False"
   ]
  },
  {
   "cell_type": "markdown",
   "metadata": {},
   "source": [
    "Parameters that will be used throughout this notebook. Should be the same as the training ones."
   ]
  },
  {
   "cell_type": "markdown",
   "metadata": {},
   "source": [
    "Chemical generation parameters"
   ]
  },
  {
   "cell_type": "code",
   "execution_count": 6,
   "metadata": {},
   "outputs": [
    {
     "name": "stderr",
     "output_type": "stream",
     "text": [
      "2023-03-20 11:28:09.320 | INFO     | vimms_gym.experiments:get_samplers:303 - Loaded /Users/joewandy/Work/git/vimms-gym/pickles/samplers_QCB_medium_extracted.p\n"
     ]
    },
    {
     "data": {
      "text/plain": [
       "({'chemical_creator': {'mz_range': (100, 600),\n",
       "   'rt_range': (400, 800),\n",
       "   'intensity_range': (10000.0, 1e+20),\n",
       "   'n_chemicals': (200, 500),\n",
       "   'mz_sampler': <vimms.ChemicalSamplers.MZMLFormulaSampler at 0x7fd8e61f9120>,\n",
       "   'ri_sampler': <vimms.ChemicalSamplers.MZMLRTandIntensitySampler at 0x7fd8e622af20>,\n",
       "   'cr_sampler': <vimms.ChemicalSamplers.MZMLChromatogramSampler at 0x7fd8e624c100>},\n",
       "  'noise': {'enable_spike_noise': True,\n",
       "   'noise_density': 0.1,\n",
       "   'noise_max_val': 1000.0,\n",
       "   'mz_range': (100, 600)},\n",
       "  'env': {'ionisation_mode': 'Positive',\n",
       "   'rt_range': (400, 800),\n",
       "   'isolation_window': 0.7,\n",
       "   'use_dew': False,\n",
       "   'mz_tol': 10,\n",
       "   'rt_tol': 5,\n",
       "   'min_ms1_intensity': 5000,\n",
       "   'alpha': 0.5,\n",
       "   'beta': 0.5}},\n",
       " 200)"
      ]
     },
     "execution_count": 6,
     "metadata": {},
     "output_type": "execute_result"
    }
   ],
   "source": [
    "from vimms_gym.experiments import preset_qcb_medium\n",
    "alpha = 0.50\n",
    "beta = 0.50\n",
    "extract = True\n",
    "params, max_peaks = preset_qcb_medium(None, alpha=alpha, beta=beta, extract_chromatograms=extract)\n",
    "params, max_peaks"
   ]
  },
  {
   "cell_type": "code",
   "execution_count": 7,
   "metadata": {
    "pycharm": {
     "name": "#%%\n"
    }
   },
   "outputs": [],
   "source": [
    "# n_chemicals = (200, 500)\n",
    "# mz_range = (100, 600)\n",
    "# rt_range = (400, 800)\n",
    "# intensity_range = (1E4, 1E20)"
   ]
  },
  {
   "cell_type": "markdown",
   "metadata": {},
   "source": [
    "Evaluation parameters"
   ]
  },
  {
   "cell_type": "code",
   "execution_count": 8,
   "metadata": {},
   "outputs": [],
   "source": [
    "env_name = 'DDAEnv'\n",
    "intensity_threshold = 0.5\n",
    "max_peaks = 200\n",
    "in_dir = os.path.join('check_reward', 'PPO')\n",
    "out_dir = os.path.join('check_reward', 'output')\n",
    "n_eval_episodes = 30\n",
    "\n",
    "if DEBUG:\n",
    "    n_eval_episodes = 3"
   ]
  },
  {
   "cell_type": "markdown",
   "metadata": {},
   "source": [
    "## Generate chemical sets for evaluation"
   ]
  },
  {
   "cell_type": "code",
   "execution_count": 9,
   "metadata": {},
   "outputs": [
    {
     "name": "stdout",
     "output_type": "stream",
     "text": [
      "426\n",
      "262\n",
      "394\n",
      "452\n",
      "437\n",
      "200\n",
      "478\n",
      "204\n",
      "424\n",
      "384\n",
      "443\n",
      "249\n",
      "251\n",
      "300\n",
      "206\n",
      "407\n",
      "498\n",
      "372\n",
      "302\n",
      "265\n",
      "468\n",
      "234\n",
      "322\n",
      "310\n",
      "345\n",
      "396\n",
      "203\n",
      "281\n",
      "493\n",
      "304\n"
     ]
    }
   ],
   "source": [
    "fname = 'QCB_chems_medium.p'\n",
    "found = exists(fname)\n",
    "if found:\n",
    "    chem_list = load_obj(fname)\n",
    "    for chems in chem_list:\n",
    "        print(len(chems))"
   ]
  },
  {
   "cell_type": "code",
   "execution_count": 10,
   "metadata": {},
   "outputs": [
    {
     "data": {
      "text/plain": [
       "30"
      ]
     },
     "execution_count": 10,
     "metadata": {},
     "output_type": "execute_result"
    }
   ],
   "source": [
    "chem_list = chem_list[0:n_eval_episodes]\n",
    "len(chem_list)"
   ]
  },
  {
   "cell_type": "markdown",
   "metadata": {
    "pycharm": {
     "name": "#%% md\n"
    },
    "tags": []
   },
   "source": [
    "# 2. Evaluation"
   ]
  },
  {
   "cell_type": "code",
   "execution_count": 11,
   "metadata": {},
   "outputs": [
    {
     "data": {
      "text/plain": [
       "1"
      ]
     },
     "execution_count": 11,
     "metadata": {},
     "output_type": "execute_result"
    }
   ],
   "source": [
    "set_log_level_warning()"
   ]
  },
  {
   "cell_type": "code",
   "execution_count": 12,
   "metadata": {},
   "outputs": [
    {
     "data": {
      "text/plain": [
       "{'chemical_creator': {'mz_range': (100, 600),\n",
       "  'rt_range': (400, 800),\n",
       "  'intensity_range': (10000.0, 1e+20),\n",
       "  'n_chemicals': (200, 500),\n",
       "  'mz_sampler': <vimms.ChemicalSamplers.MZMLFormulaSampler at 0x7fd8e61f9120>,\n",
       "  'ri_sampler': <vimms.ChemicalSamplers.MZMLRTandIntensitySampler at 0x7fd8e622af20>,\n",
       "  'cr_sampler': <vimms.ChemicalSamplers.MZMLChromatogramSampler at 0x7fd8e624c100>},\n",
       " 'noise': {'enable_spike_noise': True,\n",
       "  'noise_density': 0.1,\n",
       "  'noise_max_val': 1000.0,\n",
       "  'mz_range': (100, 600)},\n",
       " 'env': {'ionisation_mode': 'Positive',\n",
       "  'rt_range': (400, 800),\n",
       "  'isolation_window': 0.7,\n",
       "  'use_dew': False,\n",
       "  'mz_tol': 10,\n",
       "  'rt_tol': 5,\n",
       "  'min_ms1_intensity': 5000,\n",
       "  'alpha': 0.5,\n",
       "  'beta': 0.5}}"
      ]
     },
     "execution_count": 12,
     "metadata": {},
     "output_type": "execute_result"
    }
   ],
   "source": [
    "params"
   ]
  },
  {
   "cell_type": "code",
   "execution_count": 13,
   "metadata": {},
   "outputs": [],
   "source": [
    "horizon = 1\n",
    "alphas = (0.00, 0.25, 0.50, 0.75, 1.00)\n",
    "betas = (0.0, 0.25, 0.50, 0.75, 1.00)\n",
    "method = 'PPO'\n",
    "\n",
    "N = 0\n",
    "min_ms1_intensity = 0"
   ]
  },
  {
   "cell_type": "code",
   "execution_count": 14,
   "metadata": {},
   "outputs": [],
   "source": [
    "# if DEBUG:\n",
    "#     alphas = (1.00, )\n",
    "#     betas = (0.50, )"
   ]
  },
  {
   "cell_type": "code",
   "execution_count": 15,
   "metadata": {},
   "outputs": [
    {
     "name": "stdout",
     "output_type": "stream",
     "text": [
      "check_reward/PPO/DDAEnv_PPO_alpha_0.00_beta_0.00_horizon_1.zip\n",
      "check_reward/PPO/DDAEnv_PPO_alpha_0.00_beta_0.25_horizon_1.zip\n",
      "check_reward/PPO/DDAEnv_PPO_alpha_0.00_beta_0.50_horizon_1.zip\n",
      "check_reward/PPO/DDAEnv_PPO_alpha_0.00_beta_0.75_horizon_1.zip\n",
      "check_reward/PPO/DDAEnv_PPO_alpha_0.00_beta_1.00_horizon_1.zip\n",
      "check_reward/PPO/DDAEnv_PPO_alpha_0.25_beta_0.00_horizon_1.zip\n",
      "check_reward/PPO/DDAEnv_PPO_alpha_0.25_beta_0.25_horizon_1.zip\n",
      "check_reward/PPO/DDAEnv_PPO_alpha_0.25_beta_0.50_horizon_1.zip\n",
      "check_reward/PPO/DDAEnv_PPO_alpha_0.25_beta_0.75_horizon_1.zip\n",
      "check_reward/PPO/DDAEnv_PPO_alpha_0.50_beta_0.00_horizon_1.zip\n",
      "check_reward/PPO/DDAEnv_PPO_alpha_0.50_beta_0.25_horizon_1.zip\n",
      "check_reward/PPO/DDAEnv_PPO_alpha_0.50_beta_0.50_horizon_1.zip\n",
      "check_reward/PPO/DDAEnv_PPO_alpha_0.75_beta_0.00_horizon_1.zip\n",
      "check_reward/PPO/DDAEnv_PPO_alpha_0.75_beta_0.25_horizon_1.zip\n",
      "check_reward/PPO/DDAEnv_PPO_alpha_1.00_beta_0.00_horizon_1.zip\n"
     ]
    }
   ],
   "source": [
    "data = []\n",
    "for i in range(len(alphas)):\n",
    "    alpha = alphas[i]\n",
    "    for j in range(len(betas)):\n",
    "        beta = betas[j]\n",
    "        \n",
    "        if (alpha + beta) > 1:\n",
    "            continue\n",
    "        \n",
    "        model_dir = os.path.join(in_dir)\n",
    "        fname = os.path.join(model_dir, '%s_%s_alpha_%.2f_beta_%.2f_horizon_%d.zip' % (env_name, METHOD_PPO, alpha, beta, horizon))\n",
    "        print(fname)\n",
    "\n",
    "        copy_params = copy.deepcopy(params)            \n",
    "        copy_params['env']['alpha'] = alpha\n",
    "        copy_params['env']['beta'] = beta   \n",
    "                \n",
    "        try:\n",
    "        \n",
    "            custom_objects = {\n",
    "                \"learning_rate\": 0.0,\n",
    "                \"lr_schedule\": lambda _: 0.0,\n",
    "                \"clip_range\": lambda _: 0.0,\n",
    "            }            \n",
    "            model = MaskablePPO.load(fname, custom_objects=custom_objects)\n",
    "            episodic_results = run_method(env_name, copy_params, max_peaks, chem_list, method, out_dir, \n",
    "                                          N=N, min_ms1_intensity=min_ms1_intensity, model=model,\n",
    "                                          print_eval=False, print_reward=False, intensity_threshold=intensity_threshold,\n",
    "                                          mzml_prefix=method, horizon=horizon)\n",
    "            eval_results = [er.eval_res for er in episodic_results]\n",
    "\n",
    "            for k in range(len(eval_results)):\n",
    "                eval_res = eval_results[k]\n",
    "                try:\n",
    "                    total_rewards = float(eval_res['total_rewards'])       \n",
    "                except KeyError:\n",
    "                    total_rewards = 0.0\n",
    "\n",
    "                try:\n",
    "                    invalid_action_count = float(eval_res['invalid_action_count'])       \n",
    "                except KeyError:\n",
    "                    invalid_action_count = 0.0\n",
    "\n",
    "                row = (\n",
    "                    alpha,\n",
    "                    beta,\n",
    "                    k,\n",
    "                    total_rewards, \n",
    "                    invalid_action_count,\n",
    "                    float(eval_res['coverage_prop']), \n",
    "                    float(eval_res['intensity_prop']), \n",
    "                    float(eval_res['ms1ms2_ratio']), \n",
    "                    float(eval_res['efficiency']),\n",
    "                    float(eval_res['precision']),\n",
    "                    float(eval_res['recall']),\n",
    "                    float(eval_res['f1']),            \n",
    "                )\n",
    "                data.append(row)\n",
    "                \n",
    "        except FileNotFoundError:\n",
    "            print(fname, 'NOT FOUND')"
   ]
  },
  {
   "cell_type": "code",
   "execution_count": 16,
   "metadata": {},
   "outputs": [
    {
     "data": {
      "text/html": [
       "<div>\n",
       "<style scoped>\n",
       "    .dataframe tbody tr th:only-of-type {\n",
       "        vertical-align: middle;\n",
       "    }\n",
       "\n",
       "    .dataframe tbody tr th {\n",
       "        vertical-align: top;\n",
       "    }\n",
       "\n",
       "    .dataframe thead th {\n",
       "        text-align: right;\n",
       "    }\n",
       "</style>\n",
       "<table border=\"1\" class=\"dataframe\">\n",
       "  <thead>\n",
       "    <tr style=\"text-align: right;\">\n",
       "      <th></th>\n",
       "      <th>alpha</th>\n",
       "      <th>beta</th>\n",
       "      <th>iter</th>\n",
       "      <th>total_rewards</th>\n",
       "      <th>invalid_action_count</th>\n",
       "      <th>coverage_prop</th>\n",
       "      <th>intensity_prop</th>\n",
       "      <th>ms1/ms2_ratio</th>\n",
       "      <th>efficiency</th>\n",
       "      <th>precision</th>\n",
       "      <th>recall</th>\n",
       "      <th>f1</th>\n",
       "    </tr>\n",
       "  </thead>\n",
       "  <tbody>\n",
       "    <tr>\n",
       "      <th>0</th>\n",
       "      <td>0.0</td>\n",
       "      <td>0.0</td>\n",
       "      <td>0</td>\n",
       "      <td>1385.938547</td>\n",
       "      <td>0.0</td>\n",
       "      <td>0.955</td>\n",
       "      <td>0.716</td>\n",
       "      <td>0.079</td>\n",
       "      <td>0.236</td>\n",
       "      <td>0.843</td>\n",
       "      <td>0.948</td>\n",
       "      <td>0.892</td>\n",
       "    </tr>\n",
       "    <tr>\n",
       "      <th>1</th>\n",
       "      <td>0.0</td>\n",
       "      <td>0.0</td>\n",
       "      <td>1</td>\n",
       "      <td>1333.807546</td>\n",
       "      <td>0.0</td>\n",
       "      <td>0.954</td>\n",
       "      <td>0.790</td>\n",
       "      <td>0.123</td>\n",
       "      <td>0.156</td>\n",
       "      <td>0.924</td>\n",
       "      <td>0.951</td>\n",
       "      <td>0.937</td>\n",
       "    </tr>\n",
       "    <tr>\n",
       "      <th>2</th>\n",
       "      <td>0.0</td>\n",
       "      <td>0.0</td>\n",
       "      <td>2</td>\n",
       "      <td>1416.418679</td>\n",
       "      <td>0.0</td>\n",
       "      <td>0.957</td>\n",
       "      <td>0.735</td>\n",
       "      <td>0.092</td>\n",
       "      <td>0.223</td>\n",
       "      <td>0.854</td>\n",
       "      <td>0.950</td>\n",
       "      <td>0.899</td>\n",
       "    </tr>\n",
       "    <tr>\n",
       "      <th>3</th>\n",
       "      <td>0.0</td>\n",
       "      <td>0.0</td>\n",
       "      <td>3</td>\n",
       "      <td>1376.358711</td>\n",
       "      <td>0.0</td>\n",
       "      <td>0.954</td>\n",
       "      <td>0.741</td>\n",
       "      <td>0.080</td>\n",
       "      <td>0.250</td>\n",
       "      <td>0.884</td>\n",
       "      <td>0.948</td>\n",
       "      <td>0.915</td>\n",
       "    </tr>\n",
       "    <tr>\n",
       "      <th>4</th>\n",
       "      <td>0.0</td>\n",
       "      <td>0.0</td>\n",
       "      <td>4</td>\n",
       "      <td>1307.295267</td>\n",
       "      <td>0.0</td>\n",
       "      <td>0.966</td>\n",
       "      <td>0.735</td>\n",
       "      <td>0.084</td>\n",
       "      <td>0.246</td>\n",
       "      <td>0.853</td>\n",
       "      <td>0.960</td>\n",
       "      <td>0.903</td>\n",
       "    </tr>\n",
       "  </tbody>\n",
       "</table>\n",
       "</div>"
      ],
      "text/plain": [
       "   alpha  beta  iter  total_rewards  invalid_action_count  coverage_prop  \\\n",
       "0    0.0   0.0     0    1385.938547                   0.0          0.955   \n",
       "1    0.0   0.0     1    1333.807546                   0.0          0.954   \n",
       "2    0.0   0.0     2    1416.418679                   0.0          0.957   \n",
       "3    0.0   0.0     3    1376.358711                   0.0          0.954   \n",
       "4    0.0   0.0     4    1307.295267                   0.0          0.966   \n",
       "\n",
       "   intensity_prop  ms1/ms2_ratio  efficiency  precision  recall     f1  \n",
       "0           0.716          0.079       0.236      0.843   0.948  0.892  \n",
       "1           0.790          0.123       0.156      0.924   0.951  0.937  \n",
       "2           0.735          0.092       0.223      0.854   0.950  0.899  \n",
       "3           0.741          0.080       0.250      0.884   0.948  0.915  \n",
       "4           0.735          0.084       0.246      0.853   0.960  0.903  "
      ]
     },
     "execution_count": 16,
     "metadata": {},
     "output_type": "execute_result"
    }
   ],
   "source": [
    "df = pd.DataFrame(data, columns=['alpha', 'beta', 'iter', 'total_rewards', 'invalid_action_count', \n",
    "    'coverage_prop', 'intensity_prop', 'ms1/ms2_ratio', 'efficiency', \n",
    "    'precision', 'recall', 'f1'])\n",
    "df.head()        "
   ]
  },
  {
   "cell_type": "code",
   "execution_count": 17,
   "metadata": {},
   "outputs": [],
   "source": [
    "save_obj(df, 'check_reward_horizon_%d_df.p' % horizon)"
   ]
  },
  {
   "cell_type": "markdown",
   "metadata": {},
   "source": [
    "### Load results"
   ]
  },
  {
   "cell_type": "code",
   "execution_count": 18,
   "metadata": {},
   "outputs": [],
   "source": [
    "df = load_obj('check_reward_horizon_%d_df.p' % horizon)"
   ]
  },
  {
   "cell_type": "code",
   "execution_count": 19,
   "metadata": {},
   "outputs": [
    {
     "data": {
      "text/html": [
       "<div>\n",
       "<style scoped>\n",
       "    .dataframe tbody tr th:only-of-type {\n",
       "        vertical-align: middle;\n",
       "    }\n",
       "\n",
       "    .dataframe tbody tr th {\n",
       "        vertical-align: top;\n",
       "    }\n",
       "\n",
       "    .dataframe thead th {\n",
       "        text-align: right;\n",
       "    }\n",
       "</style>\n",
       "<table border=\"1\" class=\"dataframe\">\n",
       "  <thead>\n",
       "    <tr style=\"text-align: right;\">\n",
       "      <th></th>\n",
       "      <th>alpha</th>\n",
       "      <th>beta</th>\n",
       "      <th>iter</th>\n",
       "      <th>total_rewards</th>\n",
       "      <th>invalid_action_count</th>\n",
       "      <th>coverage_prop</th>\n",
       "      <th>intensity_prop</th>\n",
       "      <th>ms1/ms2_ratio</th>\n",
       "      <th>efficiency</th>\n",
       "      <th>precision</th>\n",
       "      <th>recall</th>\n",
       "      <th>f1</th>\n",
       "    </tr>\n",
       "  </thead>\n",
       "  <tbody>\n",
       "    <tr>\n",
       "      <th>0</th>\n",
       "      <td>0.0</td>\n",
       "      <td>0.0</td>\n",
       "      <td>0</td>\n",
       "      <td>1385.938547</td>\n",
       "      <td>0.0</td>\n",
       "      <td>0.955</td>\n",
       "      <td>0.716</td>\n",
       "      <td>0.079</td>\n",
       "      <td>0.236</td>\n",
       "      <td>0.843</td>\n",
       "      <td>0.948</td>\n",
       "      <td>0.892</td>\n",
       "    </tr>\n",
       "    <tr>\n",
       "      <th>1</th>\n",
       "      <td>0.0</td>\n",
       "      <td>0.0</td>\n",
       "      <td>1</td>\n",
       "      <td>1333.807546</td>\n",
       "      <td>0.0</td>\n",
       "      <td>0.954</td>\n",
       "      <td>0.790</td>\n",
       "      <td>0.123</td>\n",
       "      <td>0.156</td>\n",
       "      <td>0.924</td>\n",
       "      <td>0.951</td>\n",
       "      <td>0.937</td>\n",
       "    </tr>\n",
       "    <tr>\n",
       "      <th>2</th>\n",
       "      <td>0.0</td>\n",
       "      <td>0.0</td>\n",
       "      <td>2</td>\n",
       "      <td>1416.418679</td>\n",
       "      <td>0.0</td>\n",
       "      <td>0.957</td>\n",
       "      <td>0.735</td>\n",
       "      <td>0.092</td>\n",
       "      <td>0.223</td>\n",
       "      <td>0.854</td>\n",
       "      <td>0.950</td>\n",
       "      <td>0.899</td>\n",
       "    </tr>\n",
       "    <tr>\n",
       "      <th>3</th>\n",
       "      <td>0.0</td>\n",
       "      <td>0.0</td>\n",
       "      <td>3</td>\n",
       "      <td>1376.358711</td>\n",
       "      <td>0.0</td>\n",
       "      <td>0.954</td>\n",
       "      <td>0.741</td>\n",
       "      <td>0.080</td>\n",
       "      <td>0.250</td>\n",
       "      <td>0.884</td>\n",
       "      <td>0.948</td>\n",
       "      <td>0.915</td>\n",
       "    </tr>\n",
       "    <tr>\n",
       "      <th>4</th>\n",
       "      <td>0.0</td>\n",
       "      <td>0.0</td>\n",
       "      <td>4</td>\n",
       "      <td>1307.295267</td>\n",
       "      <td>0.0</td>\n",
       "      <td>0.966</td>\n",
       "      <td>0.735</td>\n",
       "      <td>0.084</td>\n",
       "      <td>0.246</td>\n",
       "      <td>0.853</td>\n",
       "      <td>0.960</td>\n",
       "      <td>0.903</td>\n",
       "    </tr>\n",
       "    <tr>\n",
       "      <th>...</th>\n",
       "      <td>...</td>\n",
       "      <td>...</td>\n",
       "      <td>...</td>\n",
       "      <td>...</td>\n",
       "      <td>...</td>\n",
       "      <td>...</td>\n",
       "      <td>...</td>\n",
       "      <td>...</td>\n",
       "      <td>...</td>\n",
       "      <td>...</td>\n",
       "      <td>...</td>\n",
       "      <td>...</td>\n",
       "    </tr>\n",
       "    <tr>\n",
       "      <th>445</th>\n",
       "      <td>1.0</td>\n",
       "      <td>0.0</td>\n",
       "      <td>25</td>\n",
       "      <td>272.000000</td>\n",
       "      <td>0.0</td>\n",
       "      <td>0.970</td>\n",
       "      <td>0.670</td>\n",
       "      <td>0.161</td>\n",
       "      <td>0.254</td>\n",
       "      <td>0.786</td>\n",
       "      <td>0.962</td>\n",
       "      <td>0.865</td>\n",
       "    </tr>\n",
       "    <tr>\n",
       "      <th>446</th>\n",
       "      <td>1.0</td>\n",
       "      <td>0.0</td>\n",
       "      <td>26</td>\n",
       "      <td>150.000000</td>\n",
       "      <td>0.0</td>\n",
       "      <td>0.941</td>\n",
       "      <td>0.686</td>\n",
       "      <td>0.426</td>\n",
       "      <td>0.177</td>\n",
       "      <td>0.812</td>\n",
       "      <td>0.928</td>\n",
       "      <td>0.866</td>\n",
       "    </tr>\n",
       "    <tr>\n",
       "      <th>447</th>\n",
       "      <td>1.0</td>\n",
       "      <td>0.0</td>\n",
       "      <td>27</td>\n",
       "      <td>204.000000</td>\n",
       "      <td>0.0</td>\n",
       "      <td>0.950</td>\n",
       "      <td>0.679</td>\n",
       "      <td>0.254</td>\n",
       "      <td>0.201</td>\n",
       "      <td>0.794</td>\n",
       "      <td>0.938</td>\n",
       "      <td>0.860</td>\n",
       "    </tr>\n",
       "    <tr>\n",
       "      <th>448</th>\n",
       "      <td>1.0</td>\n",
       "      <td>0.0</td>\n",
       "      <td>28</td>\n",
       "      <td>319.000000</td>\n",
       "      <td>0.0</td>\n",
       "      <td>0.949</td>\n",
       "      <td>0.651</td>\n",
       "      <td>0.092</td>\n",
       "      <td>0.277</td>\n",
       "      <td>0.761</td>\n",
       "      <td>0.934</td>\n",
       "      <td>0.839</td>\n",
       "    </tr>\n",
       "    <tr>\n",
       "      <th>449</th>\n",
       "      <td>1.0</td>\n",
       "      <td>0.0</td>\n",
       "      <td>29</td>\n",
       "      <td>203.000000</td>\n",
       "      <td>0.0</td>\n",
       "      <td>0.954</td>\n",
       "      <td>0.719</td>\n",
       "      <td>0.181</td>\n",
       "      <td>0.197</td>\n",
       "      <td>0.821</td>\n",
       "      <td>0.944</td>\n",
       "      <td>0.878</td>\n",
       "    </tr>\n",
       "  </tbody>\n",
       "</table>\n",
       "<p>450 rows × 12 columns</p>\n",
       "</div>"
      ],
      "text/plain": [
       "     alpha  beta  iter  total_rewards  invalid_action_count  coverage_prop  \\\n",
       "0      0.0   0.0     0    1385.938547                   0.0          0.955   \n",
       "1      0.0   0.0     1    1333.807546                   0.0          0.954   \n",
       "2      0.0   0.0     2    1416.418679                   0.0          0.957   \n",
       "3      0.0   0.0     3    1376.358711                   0.0          0.954   \n",
       "4      0.0   0.0     4    1307.295267                   0.0          0.966   \n",
       "..     ...   ...   ...            ...                   ...            ...   \n",
       "445    1.0   0.0    25     272.000000                   0.0          0.970   \n",
       "446    1.0   0.0    26     150.000000                   0.0          0.941   \n",
       "447    1.0   0.0    27     204.000000                   0.0          0.950   \n",
       "448    1.0   0.0    28     319.000000                   0.0          0.949   \n",
       "449    1.0   0.0    29     203.000000                   0.0          0.954   \n",
       "\n",
       "     intensity_prop  ms1/ms2_ratio  efficiency  precision  recall     f1  \n",
       "0             0.716          0.079       0.236      0.843   0.948  0.892  \n",
       "1             0.790          0.123       0.156      0.924   0.951  0.937  \n",
       "2             0.735          0.092       0.223      0.854   0.950  0.899  \n",
       "3             0.741          0.080       0.250      0.884   0.948  0.915  \n",
       "4             0.735          0.084       0.246      0.853   0.960  0.903  \n",
       "..              ...            ...         ...        ...     ...    ...  \n",
       "445           0.670          0.161       0.254      0.786   0.962  0.865  \n",
       "446           0.686          0.426       0.177      0.812   0.928  0.866  \n",
       "447           0.679          0.254       0.201      0.794   0.938  0.860  \n",
       "448           0.651          0.092       0.277      0.761   0.934  0.839  \n",
       "449           0.719          0.181       0.197      0.821   0.944  0.878  \n",
       "\n",
       "[450 rows x 12 columns]"
      ]
     },
     "execution_count": 19,
     "metadata": {},
     "output_type": "execute_result"
    }
   ],
   "source": [
    "df"
   ]
  },
  {
   "cell_type": "code",
   "execution_count": 26,
   "metadata": {},
   "outputs": [
    {
     "data": {
      "text/plain": [
       "(0.85, 0.98)"
      ]
     },
     "execution_count": 26,
     "metadata": {},
     "output_type": "execute_result"
    },
    {
     "data": {
      "image/png": "[encoded data removed]",
      "text/plain": [
       "<Figure size 1000x500 with 1 Axes>"
      ]
     },
     "metadata": {},
     "output_type": "display_data"
    }
   ],
   "source": [
    "plt.figure(figsize=(10, 5))\n",
    "sns.boxplot(data=df, x='alpha', y='f1', hue='beta')\n",
    "plt.ylim([0.85, 0.98])"
   ]
  },
  {
   "cell_type": "code",
   "execution_count": 21,
   "metadata": {},
   "outputs": [
    {
     "data": {
      "text/plain": [
       "<Axes: xlabel='alpha', ylabel='coverage_prop'>"
      ]
     },
     "execution_count": 21,
     "metadata": {},
     "output_type": "execute_result"
    },
    {
     "data": {
      "image/png": "[encoded data removed]",
      "text/plain": [
       "<Figure size 1000x500 with 1 Axes>"
      ]
     },
     "metadata": {},
     "output_type": "display_data"
    }
   ],
   "source": [
    "plt.figure(figsize=(10, 5))\n",
    "sns.boxplot(data=df, x='alpha', y='coverage_prop', hue='beta')"
   ]
  },
  {
   "cell_type": "code",
   "execution_count": 22,
   "metadata": {},
   "outputs": [
    {
     "data": {
      "text/plain": [
       "<Axes: xlabel='alpha', ylabel='intensity_prop'>"
      ]
     },
     "execution_count": 22,
     "metadata": {},
     "output_type": "execute_result"
    },
    {
     "data": {
      "image/png": "[encoded data removed]",
      "text/plain": [
       "<Figure size 1000x500 with 1 Axes>"
      ]
     },
     "metadata": {},
     "output_type": "display_data"
    }
   ],
   "source": [
    "plt.figure(figsize=(10, 5))\n",
    "sns.boxplot(data=df, x='alpha', y='intensity_prop', hue='beta')"
   ]
  }
 ],
 "metadata": {
  "kernelspec": {
   "display_name": "Python 3 (ipykernel)",
   "language": "python",
   "name": "python3"
  },
  "language_info": {
   "codemirror_mode": {
    "name": "ipython",
    "version": 3
   },
   "file_extension": ".py",
   "mimetype": "text/x-python",
   "name": "python",
   "nbconvert_exporter": "python",
   "pygments_lexer": "ipython3",
   "version": "3.10.9"
  },
  "vscode": {
   "interpreter": {
    "hash": "05a318a39bdd806c866a458e5513009c97d8e8627387c5b7a048c974669be487"
   }
  }
 },
 "nbformat": 4,
 "nbformat_minor": 4
}
