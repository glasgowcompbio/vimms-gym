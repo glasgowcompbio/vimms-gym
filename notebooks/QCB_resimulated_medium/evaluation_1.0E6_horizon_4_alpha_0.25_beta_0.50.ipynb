{
 "cells": [
  {
   "cell_type": "markdown",
   "metadata": {},
   "source": [
    "# Evaluation using QCB chemicals (medium)"
   ]
  },
  {
   "cell_type": "code",
   "execution_count": null,
   "metadata": {
    "pycharm": {
     "name": "#%%\n"
    },
    "tags": []
   },
   "outputs": [],
   "source": [
    "%matplotlib inline\n",
    "\n",
    "%load_ext autoreload\n",
    "%autoreload 2"
   ]
  },
  {
   "cell_type": "code",
   "execution_count": null,
   "metadata": {
    "pycharm": {
     "name": "#%%\n"
    }
   },
   "outputs": [],
   "source": [
    "import os\n",
    "import sys\n",
    "from os.path import exists\n",
    "import copy\n",
    "\n",
    "sys.path.append('../..')"
   ]
  },
  {
   "cell_type": "code",
   "execution_count": null,
   "metadata": {
    "pycharm": {
     "name": "#%%\n"
    },
    "tags": []
   },
   "outputs": [],
   "source": [
    "import pylab as plt\n",
    "import pandas as pd\n",
    "import numpy as np\n",
    "from loguru import logger\n",
    "import seaborn as sns\n",
    "\n",
    "from stable_baselines3 import DQN, PPO\n",
    "from sb3_contrib import RecurrentPPO"
   ]
  },
  {
   "cell_type": "code",
   "execution_count": null,
   "metadata": {
    "pycharm": {
     "name": "#%%\n"
    },
    "tags": []
   },
   "outputs": [],
   "source": [
    "from vimms.Common import POSITIVE, set_log_level_warning, load_obj, save_obj\n",
    "from vimms.ChemicalSamplers import UniformRTAndIntensitySampler, GaussianChromatogramSampler, UniformMZFormulaSampler, \\\n",
    "    MZMLFormulaSampler, MZMLRTandIntensitySampler, MZMLChromatogramSampler\n",
    "from vimms.Noise import UniformSpikeNoise\n",
    "from vimms.Evaluation import evaluate_real\n",
    "from vimms.Chemicals import ChemicalMixtureFromMZML\n",
    "from vimms.Roi import RoiBuilderParams, SmartRoiParams\n",
    "\n",
    "from mass_spec_utils.data_import.mzmine import load_picked_boxes\n",
    "\n",
    "from vimms_gym.env import DDAEnv\n",
    "from vimms_gym.chemicals import generate_chemicals\n",
    "from vimms_gym.evaluation import evaluate, run_method\n",
    "from vimms_gym.common import METHOD_RANDOM, METHOD_FULLSCAN, METHOD_TOPN, METHOD_DQN, \\\n",
    "    METHOD_DQN_COV, METHOD_DQN_INT, METHOD_DQN_MID, METHOD_PPO, METHOD_PPO_RECURRENT"
   ]
  },
  {
   "cell_type": "markdown",
   "metadata": {
    "pycharm": {
     "name": "#%% md\n"
    }
   },
   "source": [
    "# 1. Parameters"
   ]
  },
  {
   "cell_type": "markdown",
   "metadata": {},
   "source": [
    "Parameters that will be used throughout this notebook. Should be the same as the training ones."
   ]
  },
  {
   "cell_type": "markdown",
   "metadata": {},
   "source": [
    "Chemical generation parameters"
   ]
  },
  {
   "cell_type": "code",
   "execution_count": null,
   "metadata": {},
   "outputs": [],
   "source": [
    "from experiments import preset_qcb_medium\n",
    "env_alpha = 0.25\n",
    "env_beta = 0.50\n",
    "extract = True\n",
    "params, max_peaks = preset_qcb_medium(None, alpha=env_alpha, beta=env_beta, extract_chromatograms=extract)\n",
    "params, max_peaks"
   ]
  },
  {
   "cell_type": "code",
   "execution_count": null,
   "metadata": {
    "pycharm": {
     "name": "#%%\n"
    }
   },
   "outputs": [],
   "source": [
    "# n_chemicals = (200, 500)\n",
    "# mz_range = (100, 600)\n",
    "# rt_range = (400, 800)\n",
    "# intensity_range = (1E4, 1E20)"
   ]
  },
  {
   "cell_type": "markdown",
   "metadata": {},
   "source": [
    "Evaluation parameters"
   ]
  },
  {
   "cell_type": "code",
   "execution_count": null,
   "metadata": {},
   "outputs": [],
   "source": [
    "env_name = 'DDAEnv'\n",
    "intensity_threshold = 0.5\n",
    "max_peaks = 200\n",
    "\n",
    "# in_dir = 'DQN_1.0E6'\n",
    "in_dir = os.path.join('..', '..', 'tune', 'QCB_resimulated_medium')\n",
    "\n",
    "methods = [\n",
    "    METHOD_RANDOM,\n",
    "    # METHOD_PPO,\n",
    "    # METHOD_PPO_RECURRENT,\n",
    "    METHOD_DQN,        \n",
    "    METHOD_TOPN,\n",
    "]\n",
    "n_eval_episodes = 30"
   ]
  },
  {
   "cell_type": "code",
   "execution_count": null,
   "metadata": {},
   "outputs": [],
   "source": [
    "# topN parameters\n",
    "topN_N = 10\n",
    "topN_rt_tol = 5\n",
    "min_ms1_intensity = 5000\n",
    "\n",
    "# smartroi parameters\n",
    "alpha = 2\n",
    "beta = 0.5\n",
    "smartroi_N = topN_N\n",
    "smartroi_dew = topN_rt_tol\n",
    "\n",
    "# weighteddew parameters\n",
    "t0 = 3\n",
    "t1 = 15\n",
    "weighteddew_N = 10"
   ]
  },
  {
   "cell_type": "markdown",
   "metadata": {},
   "source": [
    "## Generate chemical sets for evaluation"
   ]
  },
  {
   "cell_type": "code",
   "execution_count": null,
   "metadata": {},
   "outputs": [],
   "source": [
    "fname = 'QCB_chems_medium.p'\n",
    "found = exists(fname)\n",
    "if found:\n",
    "    chem_list = load_obj(fname)\n",
    "    for chems in chem_list:\n",
    "        print(len(chems))"
   ]
  },
  {
   "cell_type": "markdown",
   "metadata": {},
   "source": [
    "Generate new chemicals if not found"
   ]
  },
  {
   "cell_type": "code",
   "execution_count": null,
   "metadata": {},
   "outputs": [],
   "source": [
    "params['chemical_creator']"
   ]
  },
  {
   "cell_type": "code",
   "execution_count": null,
   "metadata": {},
   "outputs": [],
   "source": [
    "if not found:\n",
    "    repeat = 30\n",
    "    logger.warning('Generating chemicals')\n",
    "    \n",
    "    chemical_creator_params = params['chemical_creator']\n",
    "    chem_list = []\n",
    "    for i in range(repeat):\n",
    "        chems = generate_chemicals(chemical_creator_params)\n",
    "        print(len(chems))\n",
    "        chem_list.append(chems)\n",
    "        \n",
    "    save_obj(chem_list, fname)"
   ]
  },
  {
   "cell_type": "code",
   "execution_count": null,
   "metadata": {},
   "outputs": [],
   "source": [
    "chem_list = chem_list[0:n_eval_episodes]\n",
    "len(chem_list)"
   ]
  },
  {
   "cell_type": "markdown",
   "metadata": {
    "pycharm": {
     "name": "#%% md\n"
    },
    "tags": []
   },
   "source": [
    "# 2. Evaluation"
   ]
  },
  {
   "cell_type": "code",
   "execution_count": null,
   "metadata": {},
   "outputs": [],
   "source": [
    "set_log_level_warning()"
   ]
  },
  {
   "cell_type": "code",
   "execution_count": null,
   "metadata": {},
   "outputs": [],
   "source": [
    "params"
   ]
  },
  {
   "cell_type": "code",
   "execution_count": null,
   "metadata": {},
   "outputs": [],
   "source": [
    "horizon = 4\n",
    "out_dir = 'evaluation_1.0E6_horizon_%d_alpha_%.2f_beta_%.2f' % (horizon, env_alpha, env_beta)"
   ]
  },
  {
   "cell_type": "code",
   "execution_count": null,
   "metadata": {
    "pycharm": {
     "name": "#%%\n"
    }
   },
   "outputs": [],
   "source": [
    "method_eval_results = {}\n",
    "for method in methods:\n",
    "\n",
    "    N = 0\n",
    "    copy_params = copy.deepcopy(params)            \n",
    "    custom_objects = {\n",
    "        \"learning_rate\": 0.0,\n",
    "        \"lr_schedule\": lambda _: 0.0,\n",
    "        \"clip_range\": lambda _: 0.0,\n",
    "    }    \n",
    "    \n",
    "    if method == METHOD_DQN:\n",
    "        \n",
    "        # fname = os.path.join(in_dir, '%s_%s_alpha_%.2f_beta_%.2f_horizon_%d.zip' % (env_name, method, env_alpha, env_beta, horizon))\n",
    "        fname = os.path.join(in_dir, 'metric_reward_timesteps_1.0E6_alpha_%.2f_beta_%.2f' % (env_alpha, env_beta), method, 'best_model.zip')\n",
    "        \n",
    "        model = DQN.load(fname, custom_objects=custom_objects)\n",
    "        copy_params['env']['alpha'] = env_alpha\n",
    "        copy_params['env']['beta'] = env_beta                \n",
    "\n",
    "    elif method == METHOD_PPO:\n",
    "        \n",
    "        # fname = os.path.join(in_dir, '%s_%s_alpha_%.2f_beta_%.2f_horizon_%d.zip' % (env_name, method, env_alpha, env_beta, horizon))\n",
    "        fname = os.path.join(in_dir, 'metric_reward_timesteps_1.0E6_alpha_%.2f_beta_%.2f' % (env_alpha, env_beta), method, 'best_model.zip')\n",
    "        \n",
    "        model = PPO.load(fname, custom_objects=custom_objects)\n",
    "        copy_params['env']['alpha'] = env_alpha\n",
    "        copy_params['env']['beta'] = env_beta                \n",
    "        \n",
    "    else:\n",
    "        model = None\n",
    "        if method == METHOD_TOPN:\n",
    "            N = topN_N\n",
    "            effective_rt_tol = topN_rt_tol\n",
    "            copy_params = dict(params)\n",
    "            copy_params['env']['use_dew'] = True\n",
    "            copy_params['env']['rt_tol'] = effective_rt_tol                        \n",
    "\n",
    "    banner = 'method = %s max_peaks = %d N = %d rt_tol = %d' % (method, max_peaks, N, \n",
    "                                                                                   copy_params['env']['rt_tol'])\n",
    "    print(banner)\n",
    "    print()            \n",
    "            \n",
    "    episodic_results = run_method(env_name, copy_params, max_peaks, chem_list, method, out_dir, \n",
    "                                  N=N, min_ms1_intensity=min_ms1_intensity, model=model,\n",
    "                                  print_eval=True, print_reward=True, intensity_threshold=intensity_threshold,\n",
    "                                  mzml_prefix=method, horizon=horizon)\n",
    "    eval_results = [er.eval_res for er in episodic_results]\n",
    "    method_eval_results[method] = eval_results\n",
    "    print()"
   ]
  },
  {
   "cell_type": "markdown",
   "metadata": {
    "pycharm": {
     "name": "#%% md\n"
    }
   },
   "source": [
    "#### Test classic controllers in ViMMS"
   ]
  },
  {
   "cell_type": "code",
   "execution_count": null,
   "metadata": {
    "pycharm": {
     "name": "#%%\n"
    }
   },
   "outputs": [],
   "source": [
    "from vimms.MassSpec import IndependentMassSpectrometer\n",
    "from vimms.Controller import TopNController, TopN_SmartRoiController, WeightedDEWController\n",
    "from vimms.Environment import Environment"
   ]
  },
  {
   "cell_type": "markdown",
   "metadata": {
    "pycharm": {
     "name": "#%% md\n"
    }
   },
   "source": [
    "Run Top-N Controller"
   ]
  },
  {
   "cell_type": "code",
   "execution_count": null,
   "metadata": {},
   "outputs": [],
   "source": [
    "params"
   ]
  },
  {
   "cell_type": "code",
   "execution_count": null,
   "metadata": {},
   "outputs": [],
   "source": [
    "enable_spike_noise = params['noise']['enable_spike_noise']\n",
    "ionisation_mode = params['env']['ionisation_mode']\n",
    "isolation_window = params['env']['isolation_window']\n",
    "mz_tol = params['env']['mz_tol']\n",
    "rt_range = params['chemical_creator']['rt_range']"
   ]
  },
  {
   "cell_type": "code",
   "execution_count": null,
   "metadata": {
    "pycharm": {
     "name": "#%%\n"
    }
   },
   "outputs": [],
   "source": [
    "method = 'TopN_Controller'\n",
    "print('method = %s' % method)\n",
    "print()\n",
    "\n",
    "effective_rt_tol = topN_rt_tol\n",
    "effective_N = topN_N\n",
    "eval_results = []\n",
    "for i in range(len(chem_list)):\n",
    "    \n",
    "    spike_noise = None\n",
    "    if enable_spike_noise:\n",
    "        noise_params = params['noise']\n",
    "        noise_density = noise_params['noise_density']\n",
    "        noise_max_val = noise_params['noise_max_val']\n",
    "        noise_min_mz = noise_params['mz_range'][0]\n",
    "        noise_max_mz = noise_params['mz_range'][1]\n",
    "        spike_noise = UniformSpikeNoise(noise_density, noise_max_val, min_mz=noise_min_mz,\n",
    "                                        max_mz=noise_max_mz)\n",
    "\n",
    "    chems = chem_list[i]\n",
    "    mass_spec = IndependentMassSpectrometer(ionisation_mode, chems, spike_noise=spike_noise)\n",
    "    controller = TopNController(ionisation_mode, effective_N, isolation_window, mz_tol, effective_rt_tol,\n",
    "                                min_ms1_intensity)\n",
    "    env = Environment(mass_spec, controller, rt_range[0], rt_range[1], progress_bar=False, out_dir=out_dir,\n",
    "                      out_file='%s_%d.mzML' % (method, i), save_eval=True)\n",
    "    env.run()\n",
    "    \n",
    "    eval_res = evaluate(env, intensity_threshold)\n",
    "    # eval_res['total_rewards'] = 0\n",
    "    eval_results.append(eval_res)\n",
    "    print('Episode %d finished' % i)\n",
    "    print(eval_res)\n",
    "    print()\n",
    "    \n",
    "method_eval_results[method] = eval_results"
   ]
  },
  {
   "cell_type": "markdown",
   "metadata": {
    "pycharm": {
     "name": "#%% md\n"
    }
   },
   "source": [
    "Run SmartROI Controller"
   ]
  },
  {
   "cell_type": "code",
   "execution_count": null,
   "metadata": {
    "pycharm": {
     "name": "#%%\n"
    }
   },
   "outputs": [],
   "source": [
    "method = 'SmartROI_Controller'\n",
    "print('method = %s' % method)\n",
    "print()\n",
    "\n",
    "eval_results = []\n",
    "for i in range(len(chem_list)):\n",
    "    \n",
    "    spike_noise = None\n",
    "    if enable_spike_noise:\n",
    "        noise_params = params['noise']\n",
    "        noise_density = noise_params['noise_density']\n",
    "        noise_max_val = noise_params['noise_max_val']\n",
    "        noise_min_mz = noise_params['mz_range'][0]\n",
    "        noise_max_mz = noise_params['mz_range'][1]\n",
    "        spike_noise = UniformSpikeNoise(noise_density, noise_max_val, min_mz=noise_min_mz,\n",
    "                                        max_mz=noise_max_mz)\n",
    "\n",
    "    chems = chem_list[i]\n",
    "    mass_spec = IndependentMassSpectrometer(ionisation_mode, chems, spike_noise=spike_noise)\n",
    "    \n",
    "    roi_params = RoiBuilderParams(min_roi_intensity=0, min_roi_length=0)    \n",
    "    smartroi_params = SmartRoiParams(intensity_increase_factor=alpha, drop_perc=beta/100.0)\n",
    "    controller = TopN_SmartRoiController(ionisation_mode, isolation_window, smartroi_N, mz_tol, smartroi_dew,\n",
    "                                min_ms1_intensity, roi_params, smartroi_params)\n",
    "    env = Environment(mass_spec, controller, rt_range[0], rt_range[1], progress_bar=False, out_dir=out_dir,\n",
    "                      out_file='%s_%d.mzML' % (method, i), save_eval=True)\n",
    "    env.run()\n",
    "    \n",
    "    eval_res = evaluate(env, intensity_threshold)\n",
    "    # eval_res['total_rewards'] = 0\n",
    "    eval_results.append(eval_res)\n",
    "    print('Episode %d finished' % i)\n",
    "    print(eval_res)\n",
    "    print()    \n",
    "    \n",
    "method_eval_results[method] = eval_results"
   ]
  },
  {
   "cell_type": "markdown",
   "metadata": {
    "pycharm": {
     "name": "#%% md\n"
    }
   },
   "source": [
    "Run WeightedDEW Controller"
   ]
  },
  {
   "cell_type": "code",
   "execution_count": null,
   "metadata": {
    "pycharm": {
     "name": "#%%\n"
    }
   },
   "outputs": [],
   "source": [
    "method = 'WeightedDEW_Controller'\n",
    "print('method = %s' % method)\n",
    "print()\n",
    "\n",
    "eval_results = []\n",
    "for i in range(len(chem_list)):\n",
    "    \n",
    "    spike_noise = None\n",
    "    if enable_spike_noise:\n",
    "        noise_params = params['noise']\n",
    "        noise_density = noise_params['noise_density']\n",
    "        noise_max_val = noise_params['noise_max_val']\n",
    "        noise_min_mz = noise_params['mz_range'][0]\n",
    "        noise_max_mz = noise_params['mz_range'][1]\n",
    "        spike_noise = UniformSpikeNoise(noise_density, noise_max_val, min_mz=noise_min_mz,\n",
    "                                        max_mz=noise_max_mz)\n",
    "\n",
    "    chems = chem_list[i]\n",
    "    mass_spec = IndependentMassSpectrometer(ionisation_mode, chems, spike_noise=spike_noise)\n",
    "    \n",
    "    controller = WeightedDEWController(ionisation_mode, weighteddew_N, isolation_window, mz_tol, t1,\n",
    "                                min_ms1_intensity, exclusion_t_0=t0)\n",
    "    env = Environment(mass_spec, controller, rt_range[0], rt_range[1], progress_bar=False, out_dir=out_dir,\n",
    "                      out_file='%s_%d.mzML' % (method, i), save_eval=True)\n",
    "    env.run()\n",
    "    \n",
    "    eval_res = evaluate(env, intensity_threshold)\n",
    "    # eval_res['total_rewards'] = 0\n",
    "    eval_results.append(eval_res)\n",
    "    print('Episode %d finished' % i)\n",
    "    print(eval_res)\n",
    "    print()    \n",
    "    \n",
    "method_eval_results[method] = eval_results"
   ]
  },
  {
   "cell_type": "markdown",
   "metadata": {
    "pycharm": {
     "name": "#%% md\n"
    }
   },
   "source": [
    "#### Plotting"
   ]
  },
  {
   "cell_type": "markdown",
   "metadata": {
    "pycharm": {
     "name": "#%% md\n"
    }
   },
   "source": [
    "Flatten data into dataframe"
   ]
  },
  {
   "cell_type": "code",
   "execution_count": null,
   "metadata": {
    "pycharm": {
     "name": "#%%\n"
    }
   },
   "outputs": [],
   "source": [
    "data = []\n",
    "for method in method_eval_results:\n",
    "    eval_results = method_eval_results[method]\n",
    "    for eval_res in eval_results:\n",
    "        try:\n",
    "            total_rewards = float(eval_res['total_rewards'])       \n",
    "        except KeyError:\n",
    "            total_rewards = 0.0\n",
    "\n",
    "        try:\n",
    "            invalid_action_count = float(eval_res['invalid_action_count'])       \n",
    "        except KeyError:\n",
    "            invalid_action_count = 0.0\n",
    "\n",
    "        row = (\n",
    "            method, \n",
    "            total_rewards, \n",
    "            invalid_action_count,\n",
    "            float(eval_res['coverage_prop']), \n",
    "            float(eval_res['intensity_prop']), \n",
    "            float(eval_res['ms1ms2_ratio']), \n",
    "            float(eval_res['efficiency']),\n",
    "            float(eval_res['precision']),\n",
    "            float(eval_res['recall']),\n",
    "            float(eval_res['f1']),            \n",
    "        )\n",
    "        data.append(row)\n",
    "        \n",
    "df = pd.DataFrame(data, columns=['method', 'total_rewards', 'invalid_action_count', \n",
    "    'coverage_prop', 'intensity_prop', 'ms1/ms2_ratio', 'efficiency', \n",
    "    'precision', 'recall', 'f1'])\n",
    "# df.set_index('method', inplace=True)\n",
    "df.head()"
   ]
  },
  {
   "cell_type": "code",
   "execution_count": null,
   "metadata": {
    "pycharm": {
     "name": "#%%\n"
    }
   },
   "outputs": [],
   "source": [
    "sns.set_context(\"poster\")"
   ]
  },
  {
   "cell_type": "code",
   "execution_count": null,
   "metadata": {},
   "outputs": [],
   "source": [
    "plt.figure(figsize=(10, 5))\n",
    "sns.boxplot(data=df, x='method', y='total_rewards')\n",
    "plt.xticks(rotation=90)\n",
    "plt.title('Total Rewards')"
   ]
  },
  {
   "cell_type": "code",
   "execution_count": null,
   "metadata": {},
   "outputs": [],
   "source": [
    "plt.figure(figsize=(10, 5))\n",
    "sns.boxplot(data=df, x='method', y='invalid_action_count')\n",
    "plt.xticks(rotation=90)\n",
    "plt.title('Invalid Action Count')"
   ]
  },
  {
   "cell_type": "code",
   "execution_count": null,
   "metadata": {
    "pycharm": {
     "name": "#%%\n"
    }
   },
   "outputs": [],
   "source": [
    "plt.figure(figsize=(10, 5))\n",
    "sns.boxplot(data=df, x='method', y='coverage_prop')\n",
    "plt.xticks(rotation=90)\n",
    "plt.title('Coverage Proportion')"
   ]
  },
  {
   "cell_type": "code",
   "execution_count": null,
   "metadata": {
    "pycharm": {
     "name": "#%%\n"
    }
   },
   "outputs": [],
   "source": [
    "plt.figure(figsize=(10, 5))\n",
    "sns.boxplot(data=df, x='method', y='intensity_prop')\n",
    "plt.xticks(rotation=90)\n",
    "plt.title('Intensity Proportion')"
   ]
  },
  {
   "cell_type": "code",
   "execution_count": null,
   "metadata": {
    "pycharm": {
     "name": "#%%\n"
    }
   },
   "outputs": [],
   "source": [
    "plt.figure(figsize=(10, 5))\n",
    "sns.boxplot(data=df, x='method', y='ms1/ms2_ratio')\n",
    "plt.xticks(rotation=90)\n",
    "plt.title('MS1/MS2 Ratio')"
   ]
  },
  {
   "cell_type": "code",
   "execution_count": null,
   "metadata": {
    "pycharm": {
     "name": "#%%\n"
    }
   },
   "outputs": [],
   "source": [
    "plt.figure(figsize=(10, 5))\n",
    "sns.boxplot(data=df, x='method', y='efficiency')\n",
    "plt.xticks(rotation=90)\n",
    "plt.title('Efficiency')"
   ]
  },
  {
   "cell_type": "code",
   "execution_count": null,
   "metadata": {
    "pycharm": {
     "name": "#%%\n"
    }
   },
   "outputs": [],
   "source": [
    "plt.figure(figsize=(10, 5))\n",
    "sns.boxplot(data=df, x='method', y='precision')\n",
    "plt.xticks(rotation=90)\n",
    "plt.title('Precision')"
   ]
  },
  {
   "cell_type": "code",
   "execution_count": null,
   "metadata": {
    "pycharm": {
     "name": "#%%\n"
    }
   },
   "outputs": [],
   "source": [
    "plt.figure(figsize=(10, 5))\n",
    "sns.boxplot(data=df, x='method', y='recall')\n",
    "plt.xticks(rotation=90)\n",
    "plt.title('Recall')"
   ]
  },
  {
   "cell_type": "code",
   "execution_count": null,
   "metadata": {
    "pycharm": {
     "name": "#%%\n"
    }
   },
   "outputs": [],
   "source": [
    "plt.figure(figsize=(10, 5))\n",
    "sns.boxplot(data=df, x='method', y='f1')\n",
    "plt.xticks(rotation=90)\n",
    "plt.title('F1')"
   ]
  },
  {
   "cell_type": "code",
   "execution_count": null,
   "metadata": {
    "pycharm": {
     "name": "#%%\n"
    }
   },
   "outputs": [],
   "source": [
    "df.to_pickle('evaluation_1.0E6_horizon_%d_alpha_%.2f_beta_%.2f.p' % (horizon, env_alpha, env_beta))"
   ]
  },
  {
   "cell_type": "markdown",
   "metadata": {},
   "source": [
    "### Without 'random'"
   ]
  },
  {
   "cell_type": "code",
   "execution_count": null,
   "metadata": {},
   "outputs": [],
   "source": [
    "df = pd.read_pickle('evaluation_1.0E6_horizon_%d_alpha_%.2f_beta_%.2f.p' % (horizon, env_alpha, env_beta))"
   ]
  },
  {
   "cell_type": "code",
   "execution_count": null,
   "metadata": {},
   "outputs": [],
   "source": [
    "new_df = df[df.method != 'random']\n",
    "new_df.head()"
   ]
  },
  {
   "cell_type": "code",
   "execution_count": null,
   "metadata": {},
   "outputs": [],
   "source": [
    "plt.figure(figsize=(10, 5))\n",
    "sns.boxplot(data=new_df, x='method', y='total_rewards', showfliers=False)\n",
    "plt.xticks(rotation=90)\n",
    "plt.title('Total Rewards')"
   ]
  },
  {
   "cell_type": "code",
   "execution_count": null,
   "metadata": {},
   "outputs": [],
   "source": [
    "plt.figure(figsize=(10, 5))\n",
    "sns.boxplot(data=new_df, x='method', y='invalid_action_count', showfliers=False)\n",
    "plt.xticks(rotation=90)\n",
    "plt.title('Invalid Action Count')"
   ]
  },
  {
   "cell_type": "code",
   "execution_count": null,
   "metadata": {},
   "outputs": [],
   "source": [
    "plt.figure(figsize=(10, 5))\n",
    "sns.boxplot(data=new_df, x='method', y='coverage_prop')\n",
    "plt.xticks(rotation=90)\n",
    "plt.title('Coverage Proportion')"
   ]
  },
  {
   "cell_type": "code",
   "execution_count": null,
   "metadata": {},
   "outputs": [],
   "source": [
    "plt.figure(figsize=(10, 5))\n",
    "sns.boxplot(data=new_df, x='method', y='intensity_prop')\n",
    "plt.xticks(rotation=90)\n",
    "plt.title('Intensity Proportion')"
   ]
  },
  {
   "cell_type": "code",
   "execution_count": null,
   "metadata": {},
   "outputs": [],
   "source": [
    "plt.figure(figsize=(10, 5))\n",
    "sns.boxplot(data=new_df, x='method', y='ms1/ms2_ratio')\n",
    "plt.xticks(rotation=90)\n",
    "plt.title('MS1/MS2 Ratio')"
   ]
  },
  {
   "cell_type": "code",
   "execution_count": null,
   "metadata": {},
   "outputs": [],
   "source": [
    "plt.figure(figsize=(10, 5))\n",
    "sns.boxplot(data=new_df, x='method', y='precision')\n",
    "plt.xticks(rotation=90)\n",
    "plt.title('Precision')"
   ]
  },
  {
   "cell_type": "code",
   "execution_count": null,
   "metadata": {},
   "outputs": [],
   "source": [
    "plt.figure(figsize=(10, 5))\n",
    "sns.boxplot(data=new_df, x='method', y='recall')\n",
    "plt.xticks(rotation=90)\n",
    "plt.title('Recall')"
   ]
  },
  {
   "cell_type": "code",
   "execution_count": null,
   "metadata": {},
   "outputs": [],
   "source": [
    "plt.figure(figsize=(10, 5))\n",
    "sns.boxplot(data=new_df, x='method', y='f1')\n",
    "plt.xticks(rotation=90)\n",
    "plt.title('F1')"
   ]
  }
 ],
 "metadata": {
  "kernelspec": {
   "display_name": "Python 3 (ipykernel)",
   "language": "python",
   "name": "python3"
  },
  "language_info": {
   "codemirror_mode": {
    "name": "ipython",
    "version": 3
   },
   "file_extension": ".py",
   "mimetype": "text/x-python",
   "name": "python",
   "nbconvert_exporter": "python",
   "pygments_lexer": "ipython3",
   "version": "3.9.12"
  },
  "vscode": {
   "interpreter": {
    "hash": "05a318a39bdd806c866a458e5513009c97d8e8627387c5b7a048c974669be487"
   }
  }
 },
 "nbformat": 4,
 "nbformat_minor": 4
}
