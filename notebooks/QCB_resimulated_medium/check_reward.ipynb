{
 "cells": [
  {
   "cell_type": "markdown",
   "metadata": {},
   "source": [
    "# Evaluation using QCB chemicals (medium)"
   ]
  },
  {
   "cell_type": "code",
   "execution_count": 1,
   "metadata": {
    "pycharm": {
     "name": "#%%\n"
    },
    "tags": []
   },
   "outputs": [],
   "source": [
    "%matplotlib inline\n",
    "\n",
    "%load_ext autoreload\n",
    "%autoreload 2"
   ]
  },
  {
   "cell_type": "code",
   "execution_count": 2,
   "metadata": {
    "pycharm": {
     "name": "#%%\n"
    }
   },
   "outputs": [],
   "source": [
    "import os\n",
    "import sys\n",
    "from os.path import exists\n",
    "import copy\n",
    "\n",
    "sys.path.append('../..')"
   ]
  },
  {
   "cell_type": "code",
   "execution_count": 3,
   "metadata": {
    "pycharm": {
     "name": "#%%\n"
    },
    "tags": []
   },
   "outputs": [],
   "source": [
    "import pylab as plt\n",
    "import pandas as pd\n",
    "import numpy as np\n",
    "from loguru import logger\n",
    "import seaborn as sns\n",
    "\n",
    "from stable_baselines3 import DQN, PPO\n",
    "from sb3_contrib import RecurrentPPO"
   ]
  },
  {
   "cell_type": "code",
   "execution_count": 4,
   "metadata": {
    "pycharm": {
     "name": "#%%\n"
    },
    "tags": []
   },
   "outputs": [],
   "source": [
    "from vimms.Common import POSITIVE, set_log_level_warning, load_obj, save_obj\n",
    "from vimms.ChemicalSamplers import UniformRTAndIntensitySampler, GaussianChromatogramSampler, UniformMZFormulaSampler, \\\n",
    "    MZMLFormulaSampler, MZMLRTandIntensitySampler, MZMLChromatogramSampler\n",
    "from vimms.Noise import UniformSpikeNoise\n",
    "from vimms.Evaluation import evaluate_real\n",
    "from vimms.Chemicals import ChemicalMixtureFromMZML\n",
    "from vimms.Roi import RoiBuilderParams, SmartRoiParams\n",
    "\n",
    "from mass_spec_utils.data_import.mzmine import load_picked_boxes\n",
    "\n",
    "from vimms_gym.env import DDAEnv\n",
    "from vimms_gym.chemicals import generate_chemicals\n",
    "from vimms_gym.evaluation import evaluate, run_method\n",
    "from vimms_gym.common import METHOD_RANDOM, METHOD_FULLSCAN, METHOD_TOPN, METHOD_DQN, \\\n",
    "    METHOD_DQN_COV, METHOD_DQN_INT, METHOD_DQN_MID, METHOD_PPO, METHOD_PPO_RECURRENT"
   ]
  },
  {
   "cell_type": "markdown",
   "metadata": {
    "pycharm": {
     "name": "#%% md\n"
    }
   },
   "source": [
    "# 1. Parameters"
   ]
  },
  {
   "cell_type": "code",
   "execution_count": 5,
   "metadata": {},
   "outputs": [],
   "source": [
    "DEBUG = False"
   ]
  },
  {
   "cell_type": "markdown",
   "metadata": {},
   "source": [
    "Parameters that will be used throughout this notebook. Should be the same as the training ones."
   ]
  },
  {
   "cell_type": "markdown",
   "metadata": {},
   "source": [
    "Chemical generation parameters"
   ]
  },
  {
   "cell_type": "code",
   "execution_count": 6,
   "metadata": {},
   "outputs": [
    {
     "name": "stderr",
     "output_type": "stream",
     "text": [
      "2023-02-04 17:38:47.693 | INFO     | experiments:get_samplers:249 - Loaded /Users/joewandy/Work/git/vimms-gym/pickles/samplers_QCB_medium_extracted.p\n"
     ]
    },
    {
     "data": {
      "text/plain": [
       "({'chemical_creator': {'mz_range': (100, 600),\n",
       "   'rt_range': (400, 800),\n",
       "   'intensity_range': (10000.0, 1e+20),\n",
       "   'n_chemicals': (200, 500),\n",
       "   'mz_sampler': <vimms.ChemicalSamplers.MZMLFormulaSampler at 0x7fcf702a3520>,\n",
       "   'ri_sampler': <vimms.ChemicalSamplers.MZMLRTandIntensitySampler at 0x7fcf94afa6d0>,\n",
       "   'cr_sampler': <vimms.ChemicalSamplers.MZMLChromatogramSampler at 0x7fcf94b15970>},\n",
       "  'noise': {'enable_spike_noise': True,\n",
       "   'noise_density': 0.1,\n",
       "   'noise_max_val': 1000.0,\n",
       "   'mz_range': (100, 600)},\n",
       "  'env': {'ionisation_mode': 'Positive',\n",
       "   'rt_range': (400, 800),\n",
       "   'isolation_window': 0.7,\n",
       "   'mz_tol': 10,\n",
       "   'rt_tol': 120,\n",
       "   'alpha': 0.5,\n",
       "   'beta': 0.5}},\n",
       " 200)"
      ]
     },
     "execution_count": 6,
     "metadata": {},
     "output_type": "execute_result"
    }
   ],
   "source": [
    "from experiments import preset_qcb_medium\n",
    "alpha = 0.50\n",
    "beta = 0.50\n",
    "extract = True\n",
    "params, max_peaks = preset_qcb_medium(None, alpha=alpha, beta=beta, extract_chromatograms=extract)\n",
    "params, max_peaks"
   ]
  },
  {
   "cell_type": "code",
   "execution_count": 7,
   "metadata": {
    "pycharm": {
     "name": "#%%\n"
    }
   },
   "outputs": [],
   "source": [
    "# n_chemicals = (200, 500)\n",
    "# mz_range = (100, 600)\n",
    "# rt_range = (400, 800)\n",
    "# intensity_range = (1E4, 1E20)"
   ]
  },
  {
   "cell_type": "markdown",
   "metadata": {},
   "source": [
    "Evaluation parameters"
   ]
  },
  {
   "cell_type": "code",
   "execution_count": 8,
   "metadata": {},
   "outputs": [],
   "source": [
    "env_name = 'DDAEnv'\n",
    "intensity_threshold = 0.5\n",
    "max_peaks = 200\n",
    "in_dir = 'DQN'\n",
    "out_dir = 'check_reward'\n",
    "n_eval_episodes = 30\n",
    "\n",
    "if DEBUG:\n",
    "    n_eval_episodes = 2"
   ]
  },
  {
   "cell_type": "markdown",
   "metadata": {},
   "source": [
    "## Generate chemical sets for evaluation"
   ]
  },
  {
   "cell_type": "code",
   "execution_count": 9,
   "metadata": {},
   "outputs": [
    {
     "name": "stdout",
     "output_type": "stream",
     "text": [
      "265\n",
      "352\n",
      "460\n",
      "402\n",
      "456\n",
      "494\n",
      "450\n",
      "228\n",
      "442\n",
      "354\n",
      "299\n",
      "264\n",
      "335\n",
      "295\n",
      "416\n",
      "334\n",
      "275\n",
      "244\n",
      "392\n",
      "290\n",
      "441\n",
      "411\n",
      "433\n",
      "386\n",
      "245\n",
      "261\n",
      "436\n",
      "494\n",
      "246\n",
      "256\n"
     ]
    }
   ],
   "source": [
    "fname = 'QCB_chems_medium.p'\n",
    "found = exists(fname)\n",
    "if found:\n",
    "    chem_list = load_obj(fname)\n",
    "    for chems in chem_list:\n",
    "        print(len(chems))"
   ]
  },
  {
   "cell_type": "code",
   "execution_count": 10,
   "metadata": {},
   "outputs": [
    {
     "data": {
      "text/plain": [
       "30"
      ]
     },
     "execution_count": 10,
     "metadata": {},
     "output_type": "execute_result"
    }
   ],
   "source": [
    "chem_list = chem_list[0:n_eval_episodes]\n",
    "len(chem_list)"
   ]
  },
  {
   "cell_type": "markdown",
   "metadata": {
    "pycharm": {
     "name": "#%% md\n"
    },
    "tags": []
   },
   "source": [
    "# 2. Evaluation"
   ]
  },
  {
   "cell_type": "code",
   "execution_count": 11,
   "metadata": {},
   "outputs": [
    {
     "data": {
      "text/plain": [
       "1"
      ]
     },
     "execution_count": 11,
     "metadata": {},
     "output_type": "execute_result"
    }
   ],
   "source": [
    "set_log_level_warning()"
   ]
  },
  {
   "cell_type": "code",
   "execution_count": 12,
   "metadata": {},
   "outputs": [
    {
     "data": {
      "text/plain": [
       "{'chemical_creator': {'mz_range': (100, 600),\n",
       "  'rt_range': (400, 800),\n",
       "  'intensity_range': (10000.0, 1e+20),\n",
       "  'n_chemicals': (200, 500),\n",
       "  'mz_sampler': <vimms.ChemicalSamplers.MZMLFormulaSampler at 0x7fcf702a3520>,\n",
       "  'ri_sampler': <vimms.ChemicalSamplers.MZMLRTandIntensitySampler at 0x7fcf94afa6d0>,\n",
       "  'cr_sampler': <vimms.ChemicalSamplers.MZMLChromatogramSampler at 0x7fcf94b15970>},\n",
       " 'noise': {'enable_spike_noise': True,\n",
       "  'noise_density': 0.1,\n",
       "  'noise_max_val': 1000.0,\n",
       "  'mz_range': (100, 600)},\n",
       " 'env': {'ionisation_mode': 'Positive',\n",
       "  'rt_range': (400, 800),\n",
       "  'isolation_window': 0.7,\n",
       "  'mz_tol': 10,\n",
       "  'rt_tol': 120,\n",
       "  'alpha': 0.5,\n",
       "  'beta': 0.5}}"
      ]
     },
     "execution_count": 12,
     "metadata": {},
     "output_type": "execute_result"
    }
   ],
   "source": [
    "params"
   ]
  },
  {
   "cell_type": "code",
   "execution_count": 13,
   "metadata": {},
   "outputs": [],
   "source": [
    "horizon = 4\n",
    "alphas = (0.00, 0.25, 0.50, 0.75, 1.00)\n",
    "betas = (0.25, 0.50, 0.75)\n",
    "method = 'DQN'\n",
    "\n",
    "N = 0\n",
    "min_ms1_intensity = 0"
   ]
  },
  {
   "cell_type": "code",
   "execution_count": 14,
   "metadata": {},
   "outputs": [],
   "source": [
    "if DEBUG:\n",
    "    alphas = (0.25, 0.75)\n",
    "    betas = (0.50, )"
   ]
  },
  {
   "cell_type": "code",
   "execution_count": 15,
   "metadata": {},
   "outputs": [
    {
     "name": "stdout",
     "output_type": "stream",
     "text": [
      "DQN/DDAEnv_DQN_alpha_0.00_beta_0.25_horizon_4.zip\n"
     ]
    },
    {
     "name": "stderr",
     "output_type": "stream",
     "text": [
      "/opt/anaconda3/envs/vimms-gym/lib/python3.9/site-packages/stable_baselines3/common/buffers.py:228: UserWarning:\n",
      "\n",
      "This system does not have apparently enough memory to store the complete replay buffer 9.00GB > 0.69GB\n",
      "\n"
     ]
    },
    {
     "name": "stdout",
     "output_type": "stream",
     "text": [
      "DQN/DDAEnv_DQN_alpha_0.00_beta_0.50_horizon_4.zip\n"
     ]
    },
    {
     "name": "stderr",
     "output_type": "stream",
     "text": [
      "/opt/anaconda3/envs/vimms-gym/lib/python3.9/site-packages/stable_baselines3/common/buffers.py:228: UserWarning:\n",
      "\n",
      "This system does not have apparently enough memory to store the complete replay buffer 9.00GB > 0.38GB\n",
      "\n"
     ]
    },
    {
     "name": "stdout",
     "output_type": "stream",
     "text": [
      "DQN/DDAEnv_DQN_alpha_0.00_beta_0.75_horizon_4.zip\n"
     ]
    },
    {
     "name": "stderr",
     "output_type": "stream",
     "text": [
      "/opt/anaconda3/envs/vimms-gym/lib/python3.9/site-packages/stable_baselines3/common/buffers.py:228: UserWarning:\n",
      "\n",
      "This system does not have apparently enough memory to store the complete replay buffer 9.00GB > 0.36GB\n",
      "\n"
     ]
    },
    {
     "name": "stdout",
     "output_type": "stream",
     "text": [
      "DQN/DDAEnv_DQN_alpha_0.25_beta_0.25_horizon_4.zip\n",
      "DQN/DDAEnv_DQN_alpha_0.25_beta_0.50_horizon_4.zip\n"
     ]
    },
    {
     "name": "stderr",
     "output_type": "stream",
     "text": [
      "/opt/anaconda3/envs/vimms-gym/lib/python3.9/site-packages/stable_baselines3/common/buffers.py:228: UserWarning:\n",
      "\n",
      "This system does not have apparently enough memory to store the complete replay buffer 9.00GB > 0.35GB\n",
      "\n"
     ]
    },
    {
     "name": "stdout",
     "output_type": "stream",
     "text": [
      "DQN/DDAEnv_DQN_alpha_0.25_beta_0.75_horizon_4.zip\n"
     ]
    },
    {
     "name": "stderr",
     "output_type": "stream",
     "text": [
      "/opt/anaconda3/envs/vimms-gym/lib/python3.9/site-packages/stable_baselines3/common/buffers.py:228: UserWarning:\n",
      "\n",
      "This system does not have apparently enough memory to store the complete replay buffer 9.00GB > 0.34GB\n",
      "\n"
     ]
    },
    {
     "name": "stdout",
     "output_type": "stream",
     "text": [
      "DQN/DDAEnv_DQN_alpha_0.50_beta_0.25_horizon_4.zip\n"
     ]
    },
    {
     "name": "stderr",
     "output_type": "stream",
     "text": [
      "/opt/anaconda3/envs/vimms-gym/lib/python3.9/site-packages/stable_baselines3/common/buffers.py:228: UserWarning:\n",
      "\n",
      "This system does not have apparently enough memory to store the complete replay buffer 9.00GB > 0.33GB\n",
      "\n"
     ]
    },
    {
     "name": "stdout",
     "output_type": "stream",
     "text": [
      "DQN/DDAEnv_DQN_alpha_0.50_beta_0.50_horizon_4.zip\n",
      "DQN/DDAEnv_DQN_alpha_0.50_beta_0.75_horizon_4.zip\n",
      "DQN/DDAEnv_DQN_alpha_0.75_beta_0.25_horizon_4.zip\n",
      "DQN/DDAEnv_DQN_alpha_0.75_beta_0.50_horizon_4.zip\n",
      "DQN/DDAEnv_DQN_alpha_0.75_beta_0.75_horizon_4.zip\n",
      "DQN/DDAEnv_DQN_alpha_1.00_beta_0.25_horizon_4.zip\n",
      "DQN/DDAEnv_DQN_alpha_1.00_beta_0.50_horizon_4.zip\n",
      "DQN/DDAEnv_DQN_alpha_1.00_beta_0.75_horizon_4.zip\n"
     ]
    }
   ],
   "source": [
    "data = []\n",
    "for i in range(len(alphas)):\n",
    "    alpha = alphas[i]\n",
    "    for j in range(len(betas)):\n",
    "        beta = betas[j]\n",
    "        \n",
    "        model_dir = os.path.join(in_dir)\n",
    "        fname = os.path.join(model_dir, '%s_%s_alpha_%.2f_beta_%.2f_horizon_%d.zip' % (env_name, METHOD_DQN, alpha, beta, horizon))\n",
    "        print(fname)\n",
    "        \n",
    "        copy_params = copy.deepcopy(params)            \n",
    "        copy_params['env']['alpha'] = alpha\n",
    "        copy_params['env']['beta'] = beta   \n",
    "        \n",
    "        custom_objects = {\n",
    "            \"learning_rate\": 0.0,\n",
    "            \"lr_schedule\": lambda _: 0.0,\n",
    "            \"clip_range\": lambda _: 0.0,\n",
    "        }            \n",
    "        model = DQN.load(fname, custom_objects=custom_objects)        \n",
    "        episodic_results = run_method(env_name, copy_params, max_peaks, chem_list, method, out_dir, \n",
    "                                      N=N, min_ms1_intensity=min_ms1_intensity, model=model,\n",
    "                                      print_eval=False, print_reward=False, intensity_threshold=intensity_threshold,\n",
    "                                      mzml_prefix=method, horizon=horizon)\n",
    "        eval_results = [er.eval_res for er in episodic_results]\n",
    "        \n",
    "        for k in range(len(eval_results)):\n",
    "            eval_res = eval_results[k]\n",
    "            try:\n",
    "                total_rewards = float(eval_res['total_rewards'])       \n",
    "            except KeyError:\n",
    "                total_rewards = 0.0\n",
    "\n",
    "            try:\n",
    "                invalid_action_count = float(eval_res['invalid_action_count'])       \n",
    "            except KeyError:\n",
    "                invalid_action_count = 0.0\n",
    "\n",
    "            row = (\n",
    "                alpha,\n",
    "                beta,\n",
    "                k,\n",
    "                total_rewards, \n",
    "                invalid_action_count,\n",
    "                float(eval_res['coverage_prop']), \n",
    "                float(eval_res['intensity_prop']), \n",
    "                float(eval_res['ms1ms2_ratio']), \n",
    "                float(eval_res['efficiency']),\n",
    "                float(eval_res['precision']),\n",
    "                float(eval_res['recall']),\n",
    "                float(eval_res['f1']),            \n",
    "            )\n",
    "            data.append(row)"
   ]
  },
  {
   "cell_type": "code",
   "execution_count": 16,
   "metadata": {},
   "outputs": [
    {
     "data": {
      "text/html": [
       "<div>\n",
       "<style scoped>\n",
       "    .dataframe tbody tr th:only-of-type {\n",
       "        vertical-align: middle;\n",
       "    }\n",
       "\n",
       "    .dataframe tbody tr th {\n",
       "        vertical-align: top;\n",
       "    }\n",
       "\n",
       "    .dataframe thead th {\n",
       "        text-align: right;\n",
       "    }\n",
       "</style>\n",
       "<table border=\"1\" class=\"dataframe\">\n",
       "  <thead>\n",
       "    <tr style=\"text-align: right;\">\n",
       "      <th></th>\n",
       "      <th>alpha</th>\n",
       "      <th>beta</th>\n",
       "      <th>iter</th>\n",
       "      <th>total_rewards</th>\n",
       "      <th>invalid_action_count</th>\n",
       "      <th>coverage_prop</th>\n",
       "      <th>intensity_prop</th>\n",
       "      <th>ms1/ms2_ratio</th>\n",
       "      <th>efficiency</th>\n",
       "      <th>precision</th>\n",
       "      <th>recall</th>\n",
       "      <th>f1</th>\n",
       "    </tr>\n",
       "  </thead>\n",
       "  <tbody>\n",
       "    <tr>\n",
       "      <th>0</th>\n",
       "      <td>0.0</td>\n",
       "      <td>0.25</td>\n",
       "      <td>0</td>\n",
       "      <td>439.554141</td>\n",
       "      <td>4.0</td>\n",
       "      <td>0.940</td>\n",
       "      <td>0.704</td>\n",
       "      <td>0.241</td>\n",
       "      <td>0.184</td>\n",
       "      <td>0.827</td>\n",
       "      <td>0.928</td>\n",
       "      <td>0.875</td>\n",
       "    </tr>\n",
       "    <tr>\n",
       "      <th>1</th>\n",
       "      <td>0.0</td>\n",
       "      <td>0.25</td>\n",
       "      <td>1</td>\n",
       "      <td>442.713049</td>\n",
       "      <td>28.0</td>\n",
       "      <td>0.926</td>\n",
       "      <td>0.685</td>\n",
       "      <td>0.207</td>\n",
       "      <td>0.231</td>\n",
       "      <td>0.828</td>\n",
       "      <td>0.912</td>\n",
       "      <td>0.868</td>\n",
       "    </tr>\n",
       "    <tr>\n",
       "      <th>2</th>\n",
       "      <td>0.0</td>\n",
       "      <td>0.25</td>\n",
       "      <td>2</td>\n",
       "      <td>338.457772</td>\n",
       "      <td>80.0</td>\n",
       "      <td>0.909</td>\n",
       "      <td>0.634</td>\n",
       "      <td>0.204</td>\n",
       "      <td>0.294</td>\n",
       "      <td>0.775</td>\n",
       "      <td>0.885</td>\n",
       "      <td>0.827</td>\n",
       "    </tr>\n",
       "    <tr>\n",
       "      <th>3</th>\n",
       "      <td>0.0</td>\n",
       "      <td>0.25</td>\n",
       "      <td>3</td>\n",
       "      <td>351.018145</td>\n",
       "      <td>73.0</td>\n",
       "      <td>0.918</td>\n",
       "      <td>0.663</td>\n",
       "      <td>0.196</td>\n",
       "      <td>0.257</td>\n",
       "      <td>0.813</td>\n",
       "      <td>0.901</td>\n",
       "      <td>0.855</td>\n",
       "    </tr>\n",
       "    <tr>\n",
       "      <th>4</th>\n",
       "      <td>0.0</td>\n",
       "      <td>0.25</td>\n",
       "      <td>4</td>\n",
       "      <td>348.008962</td>\n",
       "      <td>76.0</td>\n",
       "      <td>0.901</td>\n",
       "      <td>0.618</td>\n",
       "      <td>0.205</td>\n",
       "      <td>0.290</td>\n",
       "      <td>0.749</td>\n",
       "      <td>0.873</td>\n",
       "      <td>0.806</td>\n",
       "    </tr>\n",
       "  </tbody>\n",
       "</table>\n",
       "</div>"
      ],
      "text/plain": [
       "   alpha  beta  iter  total_rewards  invalid_action_count  coverage_prop  \\\n",
       "0    0.0  0.25     0     439.554141                   4.0          0.940   \n",
       "1    0.0  0.25     1     442.713049                  28.0          0.926   \n",
       "2    0.0  0.25     2     338.457772                  80.0          0.909   \n",
       "3    0.0  0.25     3     351.018145                  73.0          0.918   \n",
       "4    0.0  0.25     4     348.008962                  76.0          0.901   \n",
       "\n",
       "   intensity_prop  ms1/ms2_ratio  efficiency  precision  recall     f1  \n",
       "0           0.704          0.241       0.184      0.827   0.928  0.875  \n",
       "1           0.685          0.207       0.231      0.828   0.912  0.868  \n",
       "2           0.634          0.204       0.294      0.775   0.885  0.827  \n",
       "3           0.663          0.196       0.257      0.813   0.901  0.855  \n",
       "4           0.618          0.205       0.290      0.749   0.873  0.806  "
      ]
     },
     "execution_count": 16,
     "metadata": {},
     "output_type": "execute_result"
    }
   ],
   "source": [
    "df = pd.DataFrame(data, columns=['alpha', 'beta', 'iter', 'total_rewards', 'invalid_action_count', \n",
    "    'coverage_prop', 'intensity_prop', 'ms1/ms2_ratio', 'efficiency', \n",
    "    'precision', 'recall', 'f1'])\n",
    "df.head()        "
   ]
  },
  {
   "cell_type": "code",
   "execution_count": 17,
   "metadata": {},
   "outputs": [],
   "source": [
    "save_obj(df, 'check_reward_df.p')"
   ]
  },
  {
   "cell_type": "markdown",
   "metadata": {},
   "source": [
    "### Load results"
   ]
  },
  {
   "cell_type": "code",
   "execution_count": 18,
   "metadata": {},
   "outputs": [],
   "source": [
    "df = load_obj('check_reward_df.p')"
   ]
  },
  {
   "cell_type": "code",
   "execution_count": 19,
   "metadata": {},
   "outputs": [
    {
     "data": {
      "text/html": [
       "<div>\n",
       "<style scoped>\n",
       "    .dataframe tbody tr th:only-of-type {\n",
       "        vertical-align: middle;\n",
       "    }\n",
       "\n",
       "    .dataframe tbody tr th {\n",
       "        vertical-align: top;\n",
       "    }\n",
       "\n",
       "    .dataframe thead th {\n",
       "        text-align: right;\n",
       "    }\n",
       "</style>\n",
       "<table border=\"1\" class=\"dataframe\">\n",
       "  <thead>\n",
       "    <tr style=\"text-align: right;\">\n",
       "      <th></th>\n",
       "      <th>alpha</th>\n",
       "      <th>beta</th>\n",
       "      <th>iter</th>\n",
       "      <th>total_rewards</th>\n",
       "      <th>invalid_action_count</th>\n",
       "      <th>coverage_prop</th>\n",
       "      <th>intensity_prop</th>\n",
       "      <th>ms1/ms2_ratio</th>\n",
       "      <th>efficiency</th>\n",
       "      <th>precision</th>\n",
       "      <th>recall</th>\n",
       "      <th>f1</th>\n",
       "    </tr>\n",
       "  </thead>\n",
       "  <tbody>\n",
       "    <tr>\n",
       "      <th>0</th>\n",
       "      <td>0.0</td>\n",
       "      <td>0.25</td>\n",
       "      <td>0</td>\n",
       "      <td>439.554141</td>\n",
       "      <td>4.0</td>\n",
       "      <td>0.940</td>\n",
       "      <td>0.704</td>\n",
       "      <td>0.241</td>\n",
       "      <td>0.184</td>\n",
       "      <td>0.827</td>\n",
       "      <td>0.928</td>\n",
       "      <td>0.875</td>\n",
       "    </tr>\n",
       "    <tr>\n",
       "      <th>1</th>\n",
       "      <td>0.0</td>\n",
       "      <td>0.25</td>\n",
       "      <td>1</td>\n",
       "      <td>442.713049</td>\n",
       "      <td>28.0</td>\n",
       "      <td>0.926</td>\n",
       "      <td>0.685</td>\n",
       "      <td>0.207</td>\n",
       "      <td>0.231</td>\n",
       "      <td>0.828</td>\n",
       "      <td>0.912</td>\n",
       "      <td>0.868</td>\n",
       "    </tr>\n",
       "    <tr>\n",
       "      <th>2</th>\n",
       "      <td>0.0</td>\n",
       "      <td>0.25</td>\n",
       "      <td>2</td>\n",
       "      <td>338.457772</td>\n",
       "      <td>80.0</td>\n",
       "      <td>0.909</td>\n",
       "      <td>0.634</td>\n",
       "      <td>0.204</td>\n",
       "      <td>0.294</td>\n",
       "      <td>0.775</td>\n",
       "      <td>0.885</td>\n",
       "      <td>0.827</td>\n",
       "    </tr>\n",
       "    <tr>\n",
       "      <th>3</th>\n",
       "      <td>0.0</td>\n",
       "      <td>0.25</td>\n",
       "      <td>3</td>\n",
       "      <td>351.018145</td>\n",
       "      <td>73.0</td>\n",
       "      <td>0.918</td>\n",
       "      <td>0.663</td>\n",
       "      <td>0.196</td>\n",
       "      <td>0.257</td>\n",
       "      <td>0.813</td>\n",
       "      <td>0.901</td>\n",
       "      <td>0.855</td>\n",
       "    </tr>\n",
       "    <tr>\n",
       "      <th>4</th>\n",
       "      <td>0.0</td>\n",
       "      <td>0.25</td>\n",
       "      <td>4</td>\n",
       "      <td>348.008962</td>\n",
       "      <td>76.0</td>\n",
       "      <td>0.901</td>\n",
       "      <td>0.618</td>\n",
       "      <td>0.205</td>\n",
       "      <td>0.290</td>\n",
       "      <td>0.749</td>\n",
       "      <td>0.873</td>\n",
       "      <td>0.806</td>\n",
       "    </tr>\n",
       "    <tr>\n",
       "      <th>...</th>\n",
       "      <td>...</td>\n",
       "      <td>...</td>\n",
       "      <td>...</td>\n",
       "      <td>...</td>\n",
       "      <td>...</td>\n",
       "      <td>...</td>\n",
       "      <td>...</td>\n",
       "      <td>...</td>\n",
       "      <td>...</td>\n",
       "      <td>...</td>\n",
       "      <td>...</td>\n",
       "      <td>...</td>\n",
       "    </tr>\n",
       "    <tr>\n",
       "      <th>445</th>\n",
       "      <td>1.0</td>\n",
       "      <td>0.75</td>\n",
       "      <td>25</td>\n",
       "      <td>228.800000</td>\n",
       "      <td>1.0</td>\n",
       "      <td>0.981</td>\n",
       "      <td>0.515</td>\n",
       "      <td>0.280</td>\n",
       "      <td>0.200</td>\n",
       "      <td>0.535</td>\n",
       "      <td>0.965</td>\n",
       "      <td>0.688</td>\n",
       "    </tr>\n",
       "    <tr>\n",
       "      <th>446</th>\n",
       "      <td>1.0</td>\n",
       "      <td>0.75</td>\n",
       "      <td>26</td>\n",
       "      <td>313.800000</td>\n",
       "      <td>7.0</td>\n",
       "      <td>0.956</td>\n",
       "      <td>0.526</td>\n",
       "      <td>0.280</td>\n",
       "      <td>0.325</td>\n",
       "      <td>0.578</td>\n",
       "      <td>0.927</td>\n",
       "      <td>0.712</td>\n",
       "    </tr>\n",
       "    <tr>\n",
       "      <th>447</th>\n",
       "      <td>1.0</td>\n",
       "      <td>0.75</td>\n",
       "      <td>27</td>\n",
       "      <td>351.400000</td>\n",
       "      <td>11.0</td>\n",
       "      <td>0.933</td>\n",
       "      <td>0.496</td>\n",
       "      <td>0.230</td>\n",
       "      <td>0.336</td>\n",
       "      <td>0.551</td>\n",
       "      <td>0.885</td>\n",
       "      <td>0.679</td>\n",
       "    </tr>\n",
       "    <tr>\n",
       "      <th>448</th>\n",
       "      <td>1.0</td>\n",
       "      <td>0.75</td>\n",
       "      <td>28</td>\n",
       "      <td>217.300000</td>\n",
       "      <td>3.0</td>\n",
       "      <td>0.955</td>\n",
       "      <td>0.541</td>\n",
       "      <td>0.286</td>\n",
       "      <td>0.185</td>\n",
       "      <td>0.596</td>\n",
       "      <td>0.927</td>\n",
       "      <td>0.725</td>\n",
       "    </tr>\n",
       "    <tr>\n",
       "      <th>449</th>\n",
       "      <td>1.0</td>\n",
       "      <td>0.75</td>\n",
       "      <td>29</td>\n",
       "      <td>215.200000</td>\n",
       "      <td>4.0</td>\n",
       "      <td>0.969</td>\n",
       "      <td>0.545</td>\n",
       "      <td>0.273</td>\n",
       "      <td>0.192</td>\n",
       "      <td>0.577</td>\n",
       "      <td>0.947</td>\n",
       "      <td>0.717</td>\n",
       "    </tr>\n",
       "  </tbody>\n",
       "</table>\n",
       "<p>450 rows × 12 columns</p>\n",
       "</div>"
      ],
      "text/plain": [
       "     alpha  beta  iter  total_rewards  invalid_action_count  coverage_prop  \\\n",
       "0      0.0  0.25     0     439.554141                   4.0          0.940   \n",
       "1      0.0  0.25     1     442.713049                  28.0          0.926   \n",
       "2      0.0  0.25     2     338.457772                  80.0          0.909   \n",
       "3      0.0  0.25     3     351.018145                  73.0          0.918   \n",
       "4      0.0  0.25     4     348.008962                  76.0          0.901   \n",
       "..     ...   ...   ...            ...                   ...            ...   \n",
       "445    1.0  0.75    25     228.800000                   1.0          0.981   \n",
       "446    1.0  0.75    26     313.800000                   7.0          0.956   \n",
       "447    1.0  0.75    27     351.400000                  11.0          0.933   \n",
       "448    1.0  0.75    28     217.300000                   3.0          0.955   \n",
       "449    1.0  0.75    29     215.200000                   4.0          0.969   \n",
       "\n",
       "     intensity_prop  ms1/ms2_ratio  efficiency  precision  recall     f1  \n",
       "0             0.704          0.241       0.184      0.827   0.928  0.875  \n",
       "1             0.685          0.207       0.231      0.828   0.912  0.868  \n",
       "2             0.634          0.204       0.294      0.775   0.885  0.827  \n",
       "3             0.663          0.196       0.257      0.813   0.901  0.855  \n",
       "4             0.618          0.205       0.290      0.749   0.873  0.806  \n",
       "..              ...            ...         ...        ...     ...    ...  \n",
       "445           0.515          0.280       0.200      0.535   0.965  0.688  \n",
       "446           0.526          0.280       0.325      0.578   0.927  0.712  \n",
       "447           0.496          0.230       0.336      0.551   0.885  0.679  \n",
       "448           0.541          0.286       0.185      0.596   0.927  0.725  \n",
       "449           0.545          0.273       0.192      0.577   0.947  0.717  \n",
       "\n",
       "[450 rows x 12 columns]"
      ]
     },
     "execution_count": 19,
     "metadata": {},
     "output_type": "execute_result"
    }
   ],
   "source": [
    "df"
   ]
  },
  {
   "cell_type": "code",
   "execution_count": 23,
   "metadata": {},
   "outputs": [
    {
     "data": {
      "text/plain": [
       "<AxesSubplot:xlabel='alpha', ylabel='f1'>"
      ]
     },
     "execution_count": 23,
     "metadata": {},
     "output_type": "execute_result"
    },
    {
     "data": {
      "image/png": "[encoded data removed]",
      "text/plain": [
       "<Figure size 720x360 with 1 Axes>"
      ]
     },
     "metadata": {
      "needs_background": "light"
     },
     "output_type": "display_data"
    }
   ],
   "source": [
    "plt.figure(figsize=(10, 5))\n",
    "sns.boxplot(data=df, x='alpha', y='f1', hue='beta')"
   ]
  },
  {
   "cell_type": "code",
   "execution_count": 24,
   "metadata": {},
   "outputs": [
    {
     "data": {
      "text/plain": [
       "<AxesSubplot:xlabel='alpha', ylabel='coverage_prop'>"
      ]
     },
     "execution_count": 24,
     "metadata": {},
     "output_type": "execute_result"
    },
    {
     "data": {
      "image/png": "[encoded data removed]",
      "text/plain": [
       "<Figure size 720x360 with 1 Axes>"
      ]
     },
     "metadata": {
      "needs_background": "light"
     },
     "output_type": "display_data"
    }
   ],
   "source": [
    "plt.figure(figsize=(10, 5))\n",
    "sns.boxplot(data=df, x='alpha', y='coverage_prop', hue='beta')"
   ]
  },
  {
   "cell_type": "code",
   "execution_count": 25,
   "metadata": {},
   "outputs": [
    {
     "data": {
      "text/plain": [
       "<AxesSubplot:xlabel='alpha', ylabel='intensity_prop'>"
      ]
     },
     "execution_count": 25,
     "metadata": {},
     "output_type": "execute_result"
    },
    {
     "data": {
      "image/png": "[encoded data removed]",
      "text/plain": [
       "<Figure size 720x360 with 1 Axes>"
      ]
     },
     "metadata": {
      "needs_background": "light"
     },
     "output_type": "display_data"
    }
   ],
   "source": [
    "plt.figure(figsize=(10, 5))\n",
    "sns.boxplot(data=df, x='alpha', y='intensity_prop', hue='beta')"
   ]
  }
 ],
 "metadata": {
  "kernelspec": {
   "display_name": "Python 3 (ipykernel)",
   "language": "python",
   "name": "python3"
  },
  "language_info": {
   "codemirror_mode": {
    "name": "ipython",
    "version": 3
   },
   "file_extension": ".py",
   "mimetype": "text/x-python",
   "name": "python",
   "nbconvert_exporter": "python",
   "pygments_lexer": "ipython3",
   "version": "3.9.12"
  },
  "vscode": {
   "interpreter": {
    "hash": "05a318a39bdd806c866a458e5513009c97d8e8627387c5b7a048c974669be487"
   }
  }
 },
 "nbformat": 4,
 "nbformat_minor": 4
}
