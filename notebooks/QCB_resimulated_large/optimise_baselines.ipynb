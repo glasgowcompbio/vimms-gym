{
 "cells": [
  {
   "cell_type": "code",
   "execution_count": 1,
   "metadata": {
    "pycharm": {
     "name": "#%%\n"
    },
    "tags": []
   },
   "outputs": [],
   "source": [
    "%matplotlib inline\n",
    "\n",
    "%load_ext autoreload\n",
    "%autoreload 2"
   ]
  },
  {
   "cell_type": "code",
   "execution_count": 2,
   "metadata": {
    "pycharm": {
     "name": "#%%\n"
    }
   },
   "outputs": [],
   "source": [
    "import os\n",
    "import sys\n",
    "from os.path import exists\n",
    "\n",
    "sys.path.append('../..')"
   ]
  },
  {
   "cell_type": "code",
   "execution_count": 3,
   "metadata": {
    "pycharm": {
     "name": "#%%\n"
    },
    "tags": []
   },
   "outputs": [],
   "source": [
    "import pylab as plt\n",
    "import pandas as pd\n",
    "import numpy as np\n",
    "from loguru import logger\n",
    "import seaborn as sns\n",
    "import copy"
   ]
  },
  {
   "cell_type": "code",
   "execution_count": 4,
   "metadata": {
    "pycharm": {
     "name": "#%%\n"
    },
    "tags": []
   },
   "outputs": [],
   "source": [
    "from vimms.Common import POSITIVE, set_log_level_warning, load_obj, save_obj\n",
    "from vimms.ChemicalSamplers import UniformRTAndIntensitySampler, GaussianChromatogramSampler, UniformMZFormulaSampler, \\\n",
    "    MZMLFormulaSampler, MZMLRTandIntensitySampler, MZMLChromatogramSampler\n",
    "from vimms.Noise import UniformSpikeNoise\n",
    "from vimms.Evaluation import evaluate_real\n",
    "from vimms.Chemicals import ChemicalMixtureFromMZML\n",
    "from vimms.Roi import RoiBuilderParams, SmartRoiParams\n",
    "\n",
    "from mass_spec_utils.data_import.mzmine import load_picked_boxes\n",
    "\n",
    "from vimms_gym.env import DDAEnv\n",
    "from vimms_gym.chemicals import generate_chemicals\n",
    "from vimms_gym.evaluation import evaluate, run_method\n",
    "from vimms_gym.common import METHOD_RANDOM, METHOD_FULLSCAN, METHOD_TOPN, METHOD_DQN, \\\n",
    "    METHOD_DQN_COV, METHOD_DQN_INT, METHOD_DQN_MID, METHOD_PPO, METHOD_PPO_RECURRENT\n",
    "from vimms_gym.experiments import preset_qcb_large"
   ]
  },
  {
   "cell_type": "markdown",
   "metadata": {
    "pycharm": {
     "name": "#%% md\n"
    }
   },
   "source": [
    "# 1. Parameters"
   ]
  },
  {
   "cell_type": "code",
   "execution_count": 5,
   "metadata": {},
   "outputs": [
    {
     "name": "stderr",
     "output_type": "stream",
     "text": [
      "2023-03-07 17:19:31.708 | INFO     | vimms_gym.experiments:get_samplers:295 - Loaded /Users/joewandy/Work/git/vimms-gym/pickles/samplers_QCB_large_extracted.p\n"
     ]
    },
    {
     "data": {
      "text/plain": [
       "({'chemical_creator': {'mz_range': (70, 1000),\n",
       "   'rt_range': (0, 1440),\n",
       "   'intensity_range': (10000.0, 1e+20),\n",
       "   'n_chemicals': (2000, 5000),\n",
       "   'mz_sampler': <vimms.ChemicalSamplers.MZMLFormulaSampler at 0x7feb8ad2df10>,\n",
       "   'ri_sampler': <vimms.ChemicalSamplers.MZMLRTandIntensitySampler at 0x7feb7a5d9f10>,\n",
       "   'cr_sampler': <vimms.ChemicalSamplers.MZMLChromatogramSampler at 0x7feb7a6387f0>},\n",
       "  'noise': {'enable_spike_noise': True,\n",
       "   'noise_density': 0.1,\n",
       "   'noise_max_val': 1000.0,\n",
       "   'mz_range': (70, 1000)},\n",
       "  'env': {'ionisation_mode': 'Positive',\n",
       "   'rt_range': (0, 1440),\n",
       "   'isolation_window': 0.7,\n",
       "   'use_dew': False,\n",
       "   'mz_tol': 10,\n",
       "   'rt_tol': 5,\n",
       "   'min_ms1_intensity': 5000,\n",
       "   'alpha': 0.25,\n",
       "   'beta': 0.5}},\n",
       " 200)"
      ]
     },
     "execution_count": 5,
     "metadata": {},
     "output_type": "execute_result"
    }
   ],
   "source": [
    "env_alpha = 0.25\n",
    "env_beta = 0.50\n",
    "extract = True\n",
    "params, max_peaks = preset_qcb_large(None, alpha=env_alpha, beta=env_beta, extract_chromatograms=extract)\n",
    "params, max_peaks"
   ]
  },
  {
   "cell_type": "code",
   "execution_count": 6,
   "metadata": {
    "pycharm": {
     "name": "#%%\n"
    }
   },
   "outputs": [],
   "source": [
    "max_peaks = 200\n",
    "out_dir = 'optimise_baselines'"
   ]
  },
  {
   "cell_type": "code",
   "execution_count": 7,
   "metadata": {
    "pycharm": {
     "name": "#%%\n"
    }
   },
   "outputs": [],
   "source": [
    "n_eval_episodes = 1"
   ]
  },
  {
   "cell_type": "markdown",
   "metadata": {
    "pycharm": {
     "name": "#%% md\n"
    },
    "tags": []
   },
   "source": [
    "# 2. Evaluation"
   ]
  },
  {
   "cell_type": "markdown",
   "metadata": {
    "pycharm": {
     "name": "#%% md\n"
    }
   },
   "source": [
    "#### Generate some chemical sets"
   ]
  },
  {
   "cell_type": "code",
   "execution_count": 8,
   "metadata": {},
   "outputs": [
    {
     "name": "stdout",
     "output_type": "stream",
     "text": [
      "2599\n",
      "4191\n",
      "4880\n",
      "3447\n",
      "3722\n",
      "2383\n",
      "4001\n",
      "3885\n",
      "3295\n",
      "2598\n",
      "2013\n",
      "4096\n",
      "2826\n",
      "4601\n",
      "4042\n",
      "4292\n",
      "4929\n",
      "3450\n",
      "4241\n",
      "4591\n",
      "2400\n",
      "4777\n",
      "2012\n",
      "4104\n",
      "2521\n",
      "2364\n",
      "4850\n",
      "4326\n",
      "4153\n",
      "3219\n"
     ]
    }
   ],
   "source": [
    "fname = 'QCB_chems_large.p'\n",
    "found = exists(fname)\n",
    "if found:\n",
    "    chem_list = load_obj(fname)\n",
    "    for chems in chem_list:\n",
    "        print(len(chems))"
   ]
  },
  {
   "cell_type": "code",
   "execution_count": 9,
   "metadata": {},
   "outputs": [],
   "source": [
    "chem_list = [chem_list[0]]"
   ]
  },
  {
   "cell_type": "markdown",
   "metadata": {
    "pycharm": {
     "name": "#%% md\n"
    }
   },
   "source": [
    "#### Compare to Top-10"
   ]
  },
  {
   "cell_type": "code",
   "execution_count": 10,
   "metadata": {
    "pycharm": {
     "name": "#%%\n"
    }
   },
   "outputs": [
    {
     "data": {
      "text/plain": [
       "1"
      ]
     },
     "execution_count": 10,
     "metadata": {},
     "output_type": "execute_result"
    }
   ],
   "source": [
    "set_log_level_warning()"
   ]
  },
  {
   "cell_type": "code",
   "execution_count": 11,
   "metadata": {
    "pycharm": {
     "name": "#%%\n"
    }
   },
   "outputs": [],
   "source": [
    "env_name = 'DDAEnv'\n",
    "method = 'topN'\n",
    "intensity_threshold = 0.5"
   ]
  },
  {
   "cell_type": "code",
   "execution_count": 12,
   "metadata": {},
   "outputs": [],
   "source": [
    "rt_tols = [2, 5, 15, 30, 60, 120, 240, 300]\n",
    "Ns = [1, 2, 5, 10, 15, 20, 25]"
   ]
  },
  {
   "cell_type": "code",
   "execution_count": 13,
   "metadata": {
    "pycharm": {
     "name": "#%%\n"
    }
   },
   "outputs": [],
   "source": [
    "min_ms1_intensity = params['env']['min_ms1_intensity']\n",
    "horizon = 4"
   ]
  },
  {
   "cell_type": "code",
   "execution_count": 14,
   "metadata": {},
   "outputs": [
    {
     "name": "stdout",
     "output_type": "stream",
     "text": [
      "method = topN max_peaks = 200 N = 1 rt_tol = 2\n",
      "\n",
      "{'coverage_prop': '0.279', 'intensity_prop': '0.150', 'ms1ms2_ratio': '1.040', 'efficiency': '0.311', 'TP': '404', 'FP': '322', 'FN': '1873', 'precision': '0.556', 'recall': '0.177', 'f1': '0.269', 'total_rewards': 417.2369200938458, 'invalid_action_count': 0, 'num_ms1_scans': 2431, 'num_ms2_scans': 2338}\n",
      "\n",
      "method = topN max_peaks = 200 N = 2 rt_tol = 2\n",
      "\n",
      "{'coverage_prop': '0.320', 'intensity_prop': '0.184', 'ms1ms2_ratio': '0.540', 'efficiency': '0.240', 'TP': '495', 'FP': '336', 'FN': '1768', 'precision': '0.596', 'recall': '0.219', 'f1': '0.320', 'total_rewards': 599.6288116950238, 'invalid_action_count': 0, 'num_ms1_scans': 1870, 'num_ms2_scans': 3461}\n",
      "\n",
      "method = topN max_peaks = 200 N = 5 rt_tol = 2\n",
      "\n",
      "{'coverage_prop': '0.392', 'intensity_prop': '0.236', 'ms1ms2_ratio': '0.240', 'efficiency': '0.210', 'TP': '636', 'FP': '384', 'FN': '1579', 'precision': '0.624', 'recall': '0.287', 'f1': '0.393', 'total_rewards': 828.2891161053655, 'invalid_action_count': 0, 'num_ms1_scans': 1169, 'num_ms2_scans': 4862}\n",
      "\n",
      "method = topN max_peaks = 200 N = 10 rt_tol = 2\n",
      "\n",
      "{'coverage_prop': '0.479', 'intensity_prop': '0.301', 'ms1ms2_ratio': '0.139', 'efficiency': '0.221', 'TP': '839', 'FP': '406', 'FN': '1354', 'precision': '0.674', 'recall': '0.383', 'f1': '0.488', 'total_rewards': 926.9242867613979, 'invalid_action_count': 0, 'num_ms1_scans': 784, 'num_ms2_scans': 5632}\n",
      "\n",
      "method = topN max_peaks = 200 N = 15 rt_tol = 2\n",
      "\n",
      "{'coverage_prop': '0.580', 'intensity_prop': '0.382', 'ms1ms2_ratio': '0.106', 'efficiency': '0.254', 'TP': '1105', 'FP': '403', 'FN': '1091', 'precision': '0.733', 'recall': '0.503', 'f1': '0.597', 'total_rewards': 985.6699033405536, 'invalid_action_count': 0, 'num_ms1_scans': 632, 'num_ms2_scans': 5936}\n",
      "\n",
      "method = topN max_peaks = 200 N = 20 rt_tol = 2\n",
      "\n",
      "{'coverage_prop': '0.668', 'intensity_prop': '0.442', 'ms1ms2_ratio': '0.090', 'efficiency': '0.285', 'TP': '1275', 'FP': '461', 'FN': '863', 'precision': '0.734', 'recall': '0.596', 'f1': '0.658', 'total_rewards': 1043.5353937274213, 'invalid_action_count': 0, 'num_ms1_scans': 550, 'num_ms2_scans': 6100}\n",
      "\n",
      "method = topN max_peaks = 200 N = 25 rt_tol = 2\n",
      "\n",
      "{'coverage_prop': '0.719', 'intensity_prop': '0.476', 'ms1ms2_ratio': '0.080', 'efficiency': '0.301', 'TP': '1388', 'FP': '480', 'FN': '731', 'precision': '0.743', 'recall': '0.655', 'f1': '0.696', 'total_rewards': 1065.5296732813947, 'invalid_action_count': 0, 'num_ms1_scans': 499, 'num_ms2_scans': 6202}\n",
      "\n",
      "method = topN max_peaks = 200 N = 1 rt_tol = 5\n",
      "\n",
      "{'coverage_prop': '0.412', 'intensity_prop': '0.236', 'ms1ms2_ratio': '1.091', 'efficiency': '0.473', 'TP': '660', 'FP': '410', 'FN': '1529', 'precision': '0.617', 'recall': '0.302', 'f1': '0.405', 'total_rewards': 440.2572555534549, 'invalid_action_count': 0, 'num_ms1_scans': 2469, 'num_ms2_scans': 2263}\n",
      "\n",
      "method = topN max_peaks = 200 N = 2 rt_tol = 5\n",
      "\n",
      "{'coverage_prop': '0.514', 'intensity_prop': '0.316', 'ms1ms2_ratio': '0.582', 'efficiency': '0.401', 'TP': '910', 'FP': '425', 'FN': '1264', 'precision': '0.682', 'recall': '0.419', 'f1': '0.519', 'total_rewards': 619.6500286080866, 'invalid_action_count': 0, 'num_ms1_scans': 1937, 'num_ms2_scans': 3326}\n",
      "\n",
      "method = topN max_peaks = 200 N = 5 rt_tol = 5\n",
      "\n",
      "{'coverage_prop': '0.606', 'intensity_prop': '0.407', 'ms1ms2_ratio': '0.272', 'efficiency': '0.338', 'TP': '1194', 'FP': '382', 'FN': '1023', 'precision': '0.758', 'recall': '0.539', 'f1': '0.630', 'total_rewards': 845.0595610517656, 'invalid_action_count': 0, 'num_ms1_scans': 1269, 'num_ms2_scans': 4662}\n",
      "\n",
      "method = topN max_peaks = 200 N = 10 rt_tol = 5\n",
      "\n",
      "{'coverage_prop': '0.654', 'intensity_prop': '0.447', 'ms1ms2_ratio': '0.167', 'efficiency': '0.315', 'TP': '1297', 'FP': '402', 'FN': '900', 'precision': '0.763', 'recall': '0.590', 'f1': '0.666', 'total_rewards': 950.4765024822811, 'invalid_action_count': 0, 'num_ms1_scans': 902, 'num_ms2_scans': 5396}\n",
      "\n",
      "method = topN max_peaks = 200 N = 15 rt_tol = 5\n",
      "\n",
      "{'coverage_prop': '0.678', 'intensity_prop': '0.465', 'ms1ms2_ratio': '0.132', 'efficiency': '0.309', 'TP': '1365', 'FP': '398', 'FN': '836', 'precision': '0.774', 'recall': '0.620', 'f1': '0.689', 'total_rewards': 1017.6551645992163, 'invalid_action_count': 0, 'num_ms1_scans': 751, 'num_ms2_scans': 5698}\n",
      "\n",
      "method = topN max_peaks = 200 N = 20 rt_tol = 5\n",
      "\n",
      "{'coverage_prop': '0.670', 'intensity_prop': '0.448', 'ms1ms2_ratio': '0.114', 'efficiency': '0.297', 'TP': '1320', 'FP': '421', 'FN': '858', 'precision': '0.758', 'recall': '0.606', 'f1': '0.674', 'total_rewards': 1008.8194262162984, 'invalid_action_count': 0, 'num_ms1_scans': 669, 'num_ms2_scans': 5862}\n",
      "\n",
      "method = topN max_peaks = 200 N = 25 rt_tol = 5\n",
      "\n",
      "{'coverage_prop': '0.725', 'intensity_prop': '0.477', 'ms1ms2_ratio': '0.104', 'efficiency': '0.316', 'TP': '1405', 'FP': '480', 'FN': '714', 'precision': '0.745', 'recall': '0.663', 'f1': '0.702', 'total_rewards': 1041.2617867931021, 'invalid_action_count': 0, 'num_ms1_scans': 618, 'num_ms2_scans': 5964}\n",
      "\n",
      "method = topN max_peaks = 200 N = 1 rt_tol = 15\n",
      "\n",
      "{'coverage_prop': '0.627', 'intensity_prop': '0.356', 'ms1ms2_ratio': '1.160', 'efficiency': '0.751', 'TP': '991', 'FP': '639', 'FN': '969', 'precision': '0.608', 'recall': '0.506', 'f1': '0.552', 'total_rewards': 529.1685072533413, 'invalid_action_count': 0, 'num_ms1_scans': 2516, 'num_ms2_scans': 2169}\n",
      "\n",
      "method = topN max_peaks = 200 N = 2 rt_tol = 15\n",
      "\n",
      "{'coverage_prop': '0.756', 'intensity_prop': '0.468', 'ms1ms2_ratio': '0.626', 'efficiency': '0.615', 'TP': '1345', 'FP': '621', 'FN': '633', 'precision': '0.684', 'recall': '0.680', 'f1': '0.682', 'total_rewards': 734.7226673649342, 'invalid_action_count': 0, 'num_ms1_scans': 2002, 'num_ms2_scans': 3196}\n",
      "\n",
      "method = topN max_peaks = 200 N = 5 rt_tol = 15\n",
      "\n",
      "{'coverage_prop': '0.850', 'intensity_prop': '0.551', 'ms1ms2_ratio': '0.305', 'efficiency': '0.494', 'TP': '1617', 'FP': '592', 'FN': '390', 'precision': '0.732', 'recall': '0.806', 'f1': '0.767', 'total_rewards': 952.6252911634676, 'invalid_action_count': 0, 'num_ms1_scans': 1363, 'num_ms2_scans': 4474}\n",
      "\n",
      "method = topN max_peaks = 200 N = 10 rt_tol = 15\n",
      "\n",
      "{'coverage_prop': '0.877', 'intensity_prop': '0.584', 'ms1ms2_ratio': '0.217', 'efficiency': '0.454', 'TP': '1730', 'FP': '549', 'FN': '320', 'precision': '0.759', 'recall': '0.844', 'f1': '0.799', 'total_rewards': 1034.0163144526311, 'invalid_action_count': 0, 'num_ms1_scans': 1088, 'num_ms2_scans': 5024}\n",
      "\n",
      "method = topN max_peaks = 200 N = 15 rt_tol = 15\n",
      "\n",
      "{'coverage_prop': '0.880', 'intensity_prop': '0.592', 'ms1ms2_ratio': '0.190', 'efficiency': '0.439', 'TP': '1762', 'FP': '525', 'FN': '312', 'precision': '0.770', 'recall': '0.850', 'f1': '0.808', 'total_rewards': 1055.2237616424225, 'invalid_action_count': 0, 'num_ms1_scans': 993, 'num_ms2_scans': 5214}\n",
      "\n",
      "method = topN max_peaks = 200 N = 20 rt_tol = 15\n",
      "\n",
      "{'coverage_prop': '0.882', 'intensity_prop': '0.586', 'ms1ms2_ratio': '0.178', 'efficiency': '0.432', 'TP': '1743', 'FP': '549', 'FN': '307', 'precision': '0.760', 'recall': '0.850', 'f1': '0.803', 'total_rewards': 1056.3507780115503, 'invalid_action_count': 0, 'num_ms1_scans': 945, 'num_ms2_scans': 5310}\n",
      "\n",
      "method = topN max_peaks = 200 N = 25 rt_tol = 15\n",
      "\n",
      "{'coverage_prop': '0.893', 'intensity_prop': '0.599', 'ms1ms2_ratio': '0.172', 'efficiency': '0.433', 'TP': '1780', 'FP': '542', 'FN': '277', 'precision': '0.767', 'recall': '0.865', 'f1': '0.813', 'total_rewards': 1073.125842200283, 'invalid_action_count': 0, 'num_ms1_scans': 920, 'num_ms2_scans': 5360}\n",
      "\n",
      "method = topN max_peaks = 200 N = 1 rt_tol = 30\n",
      "\n",
      "{'coverage_prop': '0.730', 'intensity_prop': '0.406', 'ms1ms2_ratio': '1.184', 'efficiency': '0.888', 'TP': '1137', 'FP': '761', 'FN': '701', 'precision': '0.599', 'recall': '0.619', 'f1': '0.609', 'total_rewards': 583.5305033217263, 'invalid_action_count': 0, 'num_ms1_scans': 2531, 'num_ms2_scans': 2138}\n",
      "\n",
      "method = topN max_peaks = 200 N = 2 rt_tol = 30\n",
      "\n",
      "{'coverage_prop': '0.838', 'intensity_prop': '0.476', 'ms1ms2_ratio': '0.701', 'efficiency': '0.727', 'TP': '1318', 'FP': '861', 'FN': '420', 'precision': '0.605', 'recall': '0.758', 'f1': '0.673', 'total_rewards': 756.5645842537324, 'invalid_action_count': 0, 'num_ms1_scans': 2101, 'num_ms2_scans': 2998}\n",
      "\n",
      "method = topN max_peaks = 200 N = 5 rt_tol = 30\n",
      "\n",
      "{'coverage_prop': '0.906', 'intensity_prop': '0.535', 'ms1ms2_ratio': '0.497', 'efficiency': '0.652', 'TP': '1488', 'FP': '866', 'FN': '245', 'precision': '0.632', 'recall': '0.859', 'f1': '0.728', 'total_rewards': 873.8997588383385, 'invalid_action_count': 0, 'num_ms1_scans': 1795, 'num_ms2_scans': 3611}\n",
      "\n",
      "method = topN max_peaks = 200 N = 10 rt_tol = 30\n",
      "\n",
      "{'coverage_prop': '0.923', 'intensity_prop': '0.557', 'ms1ms2_ratio': '0.440', 'efficiency': '0.626', 'TP': '1559', 'FP': '840', 'FN': '200', 'precision': '0.650', 'recall': '0.886', 'f1': '0.750', 'total_rewards': 919.3007895598544, 'invalid_action_count': 0, 'num_ms1_scans': 1685, 'num_ms2_scans': 3830}\n",
      "\n",
      "method = topN max_peaks = 200 N = 15 rt_tol = 30\n",
      "\n",
      "{'coverage_prop': '0.927', 'intensity_prop': '0.565', 'ms1ms2_ratio': '0.419', 'efficiency': '0.615', 'TP': '1595', 'FP': '815', 'FN': '189', 'precision': '0.662', 'recall': '0.894', 'f1': '0.761', 'total_rewards': 934.6263695323811, 'invalid_action_count': 0, 'num_ms1_scans': 1641, 'num_ms2_scans': 3918}\n",
      "\n",
      "method = topN max_peaks = 200 N = 20 rt_tol = 30\n",
      "\n",
      "{'coverage_prop': '0.933', 'intensity_prop': '0.569', 'ms1ms2_ratio': '0.410', 'efficiency': '0.613', 'TP': '1599', 'FP': '827', 'FN': '173', 'precision': '0.659', 'recall': '0.902', 'f1': '0.762', 'total_rewards': 939.5064051871539, 'invalid_action_count': 0, 'num_ms1_scans': 1623, 'num_ms2_scans': 3955}\n",
      "\n",
      "method = topN max_peaks = 200 N = 25 rt_tol = 30\n",
      "\n",
      "{'coverage_prop': '0.932', 'intensity_prop': '0.567', 'ms1ms2_ratio': '0.403', 'efficiency': '0.607', 'TP': '1586', 'FP': '837', 'FN': '176', 'precision': '0.655', 'recall': '0.900', 'f1': '0.758', 'total_rewards': 940.8109359499637, 'invalid_action_count': 0, 'num_ms1_scans': 1606, 'num_ms2_scans': 3989}\n",
      "\n",
      "method = topN max_peaks = 200 N = 1 rt_tol = 60\n",
      "\n",
      "{'coverage_prop': '0.773', 'intensity_prop': '0.412', 'ms1ms2_ratio': '1.287', 'efficiency': '0.998', 'TP': '1116', 'FP': '894', 'FN': '589', 'precision': '0.555', 'recall': '0.655', 'f1': '0.601', 'total_rewards': 591.4621037123688, 'invalid_action_count': 0, 'num_ms1_scans': 2593, 'num_ms2_scans': 2015}\n",
      "\n",
      "method = topN max_peaks = 200 N = 2 rt_tol = 60\n",
      "\n",
      "{'coverage_prop': '0.869', 'intensity_prop': '0.467', 'ms1ms2_ratio': '0.923', 'efficiency': '0.893', 'TP': '1237', 'FP': '1022', 'FN': '340', 'precision': '0.548', 'recall': '0.784', 'f1': '0.645', 'total_rewards': 712.7235415044449, 'invalid_action_count': 0, 'num_ms1_scans': 2335, 'num_ms2_scans': 2531}\n",
      "\n",
      "method = topN max_peaks = 200 N = 5 rt_tol = 60\n",
      "\n",
      "{'coverage_prop': '0.927', 'intensity_prop': '0.511', 'ms1ms2_ratio': '0.728', 'efficiency': '0.821', 'TP': '1376', 'FP': '1033', 'FN': '190', 'precision': '0.571', 'recall': '0.879', 'f1': '0.692', 'total_rewards': 804.6064202605075, 'invalid_action_count': 0, 'num_ms1_scans': 2134, 'num_ms2_scans': 2933}\n",
      "\n",
      "method = topN max_peaks = 200 N = 10 rt_tol = 60\n",
      "\n",
      "{'coverage_prop': '0.947', 'intensity_prop': '0.536', 'ms1ms2_ratio': '0.663', 'efficiency': '0.795', 'TP': '1437', 'FP': '1023', 'FN': '139', 'precision': '0.584', 'recall': '0.912', 'f1': '0.712', 'total_rewards': 837.4964517962776, 'invalid_action_count': 0, 'num_ms1_scans': 2053, 'num_ms2_scans': 3095}\n",
      "\n",
      "method = topN max_peaks = 200 N = 15 rt_tol = 60\n",
      "\n",
      "{'coverage_prop': '0.953', 'intensity_prop': '0.539', 'ms1ms2_ratio': '0.641', 'efficiency': '0.785', 'TP': '1447', 'FP': '1029', 'FN': '123', 'precision': '0.584', 'recall': '0.922', 'f1': '0.715', 'total_rewards': 851.3286924646522, 'invalid_action_count': 0, 'num_ms1_scans': 2023, 'num_ms2_scans': 3155}\n",
      "\n",
      "method = topN max_peaks = 200 N = 20 rt_tol = 60\n",
      "\n",
      "{'coverage_prop': '0.953', 'intensity_prop': '0.538', 'ms1ms2_ratio': '0.634', 'efficiency': '0.780', 'TP': '1432', 'FP': '1044', 'FN': '123', 'precision': '0.578', 'recall': '0.921', 'f1': '0.710', 'total_rewards': 855.3526372334869, 'invalid_action_count': 0, 'num_ms1_scans': 2012, 'num_ms2_scans': 3176}\n",
      "\n",
      "method = topN max_peaks = 200 N = 25 rt_tol = 60\n",
      "\n",
      "{'coverage_prop': '0.954', 'intensity_prop': '0.538', 'ms1ms2_ratio': '0.630', 'efficiency': '0.778', 'TP': '1448', 'FP': '1032', 'FN': '119', 'precision': '0.584', 'recall': '0.924', 'f1': '0.716', 'total_rewards': 852.0509192275433, 'invalid_action_count': 0, 'num_ms1_scans': 2007, 'num_ms2_scans': 3187}\n",
      "\n",
      "method = topN max_peaks = 200 N = 1 rt_tol = 120\n",
      "\n",
      "{'coverage_prop': '0.785', 'intensity_prop': '0.408', 'ms1ms2_ratio': '1.472', 'efficiency': '1.117', 'TP': '1077', 'FP': '962', 'FN': '560', 'precision': '0.528', 'recall': '0.658', 'f1': '0.586', 'total_rewards': 571.9139425409337, 'invalid_action_count': 0, 'num_ms1_scans': 2687, 'num_ms2_scans': 1826}\n",
      "\n",
      "method = topN max_peaks = 200 N = 2 rt_tol = 120\n",
      "\n",
      "{'coverage_prop': '0.880', 'intensity_prop': '0.463', 'ms1ms2_ratio': '1.110', 'efficiency': '1.022', 'TP': '1219', 'FP': '1068', 'FN': '312', 'precision': '0.533', 'recall': '0.796', 'f1': '0.639', 'total_rewards': 677.1598438585745, 'invalid_action_count': 0, 'num_ms1_scans': 2482, 'num_ms2_scans': 2237}\n",
      "\n",
      "method = topN max_peaks = 200 N = 5 rt_tol = 120\n",
      "\n",
      "{'coverage_prop': '0.933', 'intensity_prop': '0.507', 'ms1ms2_ratio': '0.896', 'efficiency': '0.941', 'TP': '1346', 'FP': '1080', 'FN': '173', 'precision': '0.555', 'recall': '0.886', 'f1': '0.682', 'total_rewards': 764.1838197618965, 'invalid_action_count': 0, 'num_ms1_scans': 2311, 'num_ms2_scans': 2578}\n",
      "\n",
      "method = topN max_peaks = 200 N = 10 rt_tol = 120\n",
      "\n",
      "{'coverage_prop': '0.952', 'intensity_prop': '0.518', 'ms1ms2_ratio': '0.833', 'efficiency': '0.917', 'TP': '1373', 'FP': '1102', 'FN': '124', 'precision': '0.555', 'recall': '0.917', 'f1': '0.691', 'total_rewards': 793.8881391197549, 'invalid_action_count': 0, 'num_ms1_scans': 2250, 'num_ms2_scans': 2700}\n",
      "\n",
      "method = topN max_peaks = 200 N = 15 rt_tol = 120\n",
      "\n",
      "{'coverage_prop': '0.959', 'intensity_prop': '0.524', 'ms1ms2_ratio': '0.814', 'efficiency': '0.909', 'TP': '1389', 'FP': '1103', 'FN': '107', 'precision': '0.557', 'recall': '0.928', 'f1': '0.697', 'total_rewards': 804.4452186613316, 'invalid_action_count': 0, 'num_ms1_scans': 2230, 'num_ms2_scans': 2740}\n",
      "\n",
      "method = topN max_peaks = 200 N = 20 rt_tol = 120\n",
      "\n",
      "{'coverage_prop': '0.962', 'intensity_prop': '0.528', 'ms1ms2_ratio': '0.804', 'efficiency': '0.906', 'TP': '1401', 'FP': '1100', 'FN': '98', 'precision': '0.560', 'recall': '0.935', 'f1': '0.701', 'total_rewards': 807.8426418340246, 'invalid_action_count': 0, 'num_ms1_scans': 2220, 'num_ms2_scans': 2760}\n",
      "\n",
      "method = topN max_peaks = 200 N = 25 rt_tol = 120\n",
      "\n",
      "{'coverage_prop': '0.963', 'intensity_prop': '0.531', 'ms1ms2_ratio': '0.797', 'efficiency': '0.902', 'TP': '1415', 'FP': '1088', 'FN': '96', 'precision': '0.565', 'recall': '0.936', 'f1': '0.705', 'total_rewards': 806.0334834070577, 'invalid_action_count': 0, 'num_ms1_scans': 2212, 'num_ms2_scans': 2776}\n",
      "\n",
      "method = topN max_peaks = 200 N = 1 rt_tol = 240\n",
      "\n",
      "{'coverage_prop': '0.791', 'intensity_prop': '0.402', 'ms1ms2_ratio': '1.629', 'efficiency': '1.216', 'TP': '1044', 'FP': '1012', 'FN': '543', 'precision': '0.508', 'recall': '0.658', 'f1': '0.573', 'total_rewards': 553.0757388157128, 'invalid_action_count': 0, 'num_ms1_scans': 2755, 'num_ms2_scans': 1691}\n",
      "\n",
      "method = topN max_peaks = 200 N = 2 rt_tol = 240\n",
      "\n",
      "{'coverage_prop': '0.888', 'intensity_prop': '0.456', 'ms1ms2_ratio': '1.242', 'efficiency': '1.117', 'TP': '1164', 'FP': '1143', 'FN': '292', 'precision': '0.505', 'recall': '0.799', 'f1': '0.619', 'total_rewards': 655.6934482751831, 'invalid_action_count': 0, 'num_ms1_scans': 2567, 'num_ms2_scans': 2066}\n",
      "\n",
      "method = topN max_peaks = 200 N = 5 rt_tol = 240\n",
      "\n",
      "{'coverage_prop': '0.939', 'intensity_prop': '0.491', 'ms1ms2_ratio': '1.027', 'efficiency': '1.035', 'TP': '1259', 'FP': '1181', 'FN': '159', 'precision': '0.516', 'recall': '0.888', 'f1': '0.653', 'total_rewards': 731.143549705238, 'invalid_action_count': 0, 'num_ms1_scans': 2421, 'num_ms2_scans': 2358}\n",
      "\n",
      "method = topN max_peaks = 200 N = 10 rt_tol = 240\n",
      "\n",
      "{'coverage_prop': '0.956', 'intensity_prop': '0.502', 'ms1ms2_ratio': '0.976', 'efficiency': '1.018', 'TP': '1275', 'FP': '1209', 'FN': '115', 'precision': '0.513', 'recall': '0.917', 'f1': '0.658', 'total_rewards': 750.544696060238, 'invalid_action_count': 0, 'num_ms1_scans': 2381, 'num_ms2_scans': 2439}\n",
      "\n",
      "method = topN max_peaks = 200 N = 15 rt_tol = 240\n",
      "\n",
      "{'coverage_prop': '0.963', 'intensity_prop': '0.507', 'ms1ms2_ratio': '0.950', 'efficiency': '1.008', 'TP': '1313', 'FP': '1189', 'FN': '97', 'precision': '0.525', 'recall': '0.931', 'f1': '0.671', 'total_rewards': 766.2456522560268, 'invalid_action_count': 0, 'num_ms1_scans': 2359, 'num_ms2_scans': 2482}\n",
      "\n",
      "method = topN max_peaks = 200 N = 20 rt_tol = 240\n",
      "\n",
      "{'coverage_prop': '0.963', 'intensity_prop': '0.510', 'ms1ms2_ratio': '0.944', 'efficiency': '1.004', 'TP': '1321', 'FP': '1182', 'FN': '96', 'precision': '0.528', 'recall': '0.932', 'f1': '0.674', 'total_rewards': 767.0596741128963, 'invalid_action_count': 0, 'num_ms1_scans': 2354, 'num_ms2_scans': 2493}\n",
      "\n",
      "method = topN max_peaks = 200 N = 25 rt_tol = 240\n",
      "\n",
      "{'coverage_prop': '0.967', 'intensity_prop': '0.506', 'ms1ms2_ratio': '0.940', 'efficiency': '1.005', 'TP': '1296', 'FP': '1217', 'FN': '86', 'precision': '0.516', 'recall': '0.938', 'f1': '0.665', 'total_rewards': 768.9047437935652, 'invalid_action_count': 0, 'num_ms1_scans': 2350, 'num_ms2_scans': 2500}\n",
      "\n",
      "method = topN max_peaks = 200 N = 1 rt_tol = 300\n",
      "\n",
      "{'coverage_prop': '0.788', 'intensity_prop': '0.399', 'ms1ms2_ratio': '1.662', 'efficiency': '1.229', 'TP': '1035', 'FP': '1012', 'FN': '552', 'precision': '0.506', 'recall': '0.652', 'f1': '0.570', 'total_rewards': 548.1920176790339, 'invalid_action_count': 0, 'num_ms1_scans': 2768, 'num_ms2_scans': 1665}\n",
      "\n",
      "method = topN max_peaks = 200 N = 2 rt_tol = 300\n",
      "\n",
      "{'coverage_prop': '0.883', 'intensity_prop': '0.455', 'ms1ms2_ratio': '1.270', 'efficiency': '1.129', 'TP': '1159', 'FP': '1137', 'FN': '303', 'precision': '0.505', 'recall': '0.793', 'f1': '0.617', 'total_rewards': 651.9745982017199, 'invalid_action_count': 0, 'num_ms1_scans': 2583, 'num_ms2_scans': 2034}\n",
      "\n",
      "method = topN max_peaks = 200 N = 5 rt_tol = 300\n",
      "\n",
      "{'coverage_prop': '0.939', 'intensity_prop': '0.486', 'ms1ms2_ratio': '1.061', 'efficiency': '1.058', 'TP': '1238', 'FP': '1202', 'FN': '159', 'precision': '0.507', 'recall': '0.886', 'f1': '0.645', 'total_rewards': 723.1886340554897, 'invalid_action_count': 0, 'num_ms1_scans': 2447, 'num_ms2_scans': 2307}\n",
      "\n",
      "method = topN max_peaks = 200 N = 10 rt_tol = 300\n",
      "\n",
      "{'coverage_prop': '0.955', 'intensity_prop': '0.499', 'ms1ms2_ratio': '1.000', 'efficiency': '1.034', 'TP': '1270', 'FP': '1213', 'FN': '116', 'precision': '0.511', 'recall': '0.916', 'f1': '0.657', 'total_rewards': 745.0175527509361, 'invalid_action_count': 0, 'num_ms1_scans': 2400, 'num_ms2_scans': 2401}\n",
      "\n",
      "method = topN max_peaks = 200 N = 15 rt_tol = 300\n",
      "\n",
      "{'coverage_prop': '0.961', 'intensity_prop': '0.505', 'ms1ms2_ratio': '0.979', 'efficiency': '1.026', 'TP': '1293', 'FP': '1204', 'FN': '102', 'precision': '0.518', 'recall': '0.927', 'f1': '0.664', 'total_rewards': 753.8609898499965, 'invalid_action_count': 0, 'num_ms1_scans': 2383, 'num_ms2_scans': 2434}\n",
      "\n",
      "method = topN max_peaks = 200 N = 20 rt_tol = 300\n",
      "\n",
      "{'coverage_prop': '0.963', 'intensity_prop': '0.507', 'ms1ms2_ratio': '0.967', 'efficiency': '1.020', 'TP': '1307', 'FP': '1197', 'FN': '95', 'precision': '0.522', 'recall': '0.932', 'f1': '0.669', 'total_rewards': 758.8098209526812, 'invalid_action_count': 0, 'num_ms1_scans': 2373, 'num_ms2_scans': 2454}\n",
      "\n",
      "method = topN max_peaks = 200 N = 25 rt_tol = 300\n",
      "\n",
      "{'coverage_prop': '0.968', 'intensity_prop': '0.508', 'ms1ms2_ratio': '0.961', 'efficiency': '1.020', 'TP': '1308', 'FP': '1207', 'FN': '84', 'precision': '0.520', 'recall': '0.940', 'f1': '0.670', 'total_rewards': 763.0382608581403, 'invalid_action_count': 0, 'num_ms1_scans': 2368, 'num_ms2_scans': 2465}\n",
      "\n"
     ]
    }
   ],
   "source": [
    "topN_res = {}\n",
    "for topN_rt_tol in rt_tols:\n",
    "    for topN_N in Ns:\n",
    "\n",
    "        copy_params = copy.deepcopy(params)            \n",
    "        custom_objects = {\n",
    "            \"learning_rate\": 0.0,\n",
    "            \"lr_schedule\": lambda _: 0.0,\n",
    "            \"clip_range\": lambda _: 0.0,\n",
    "        }    \n",
    "\n",
    "        model = None\n",
    "        if method == METHOD_TOPN:\n",
    "            N = topN_N\n",
    "            effective_rt_tol = topN_rt_tol\n",
    "            copy_params = dict(params)\n",
    "            copy_params['env']['use_dew'] = True\n",
    "            copy_params['env']['rt_tol'] = effective_rt_tol                        \n",
    "\n",
    "        banner = 'method = %s max_peaks = %d N = %d rt_tol = %d' % (method, max_peaks, N, copy_params['env']['rt_tol'])\n",
    "        print(banner)\n",
    "        print()            \n",
    "\n",
    "        episodic_results = run_method(env_name, copy_params, max_peaks, chem_list, method, out_dir, \n",
    "                                      N=N, min_ms1_intensity=min_ms1_intensity, model=model,\n",
    "                                      print_eval=True, print_reward=False, intensity_threshold=intensity_threshold,\n",
    "                                      mzml_prefix=method, horizon=horizon, write_mzML=False)\n",
    "        eval_results = [er.eval_res for er in episodic_results]\n",
    "\n",
    "        key = (topN_N, topN_rt_tol)\n",
    "        topN_res[key] = eval_results\n",
    "        print()    "
   ]
  },
  {
   "cell_type": "code",
   "execution_count": 15,
   "metadata": {
    "pycharm": {
     "name": "#%%\n"
    }
   },
   "outputs": [],
   "source": [
    "method_eval_results = {\n",
    "    method: topN_res\n",
    "}"
   ]
  },
  {
   "cell_type": "markdown",
   "metadata": {
    "pycharm": {
     "name": "#%% md\n"
    }
   },
   "source": [
    "#### Test classic controllers in ViMMS"
   ]
  },
  {
   "cell_type": "code",
   "execution_count": 16,
   "metadata": {
    "pycharm": {
     "name": "#%%\n"
    }
   },
   "outputs": [],
   "source": [
    "from vimms.MassSpec import IndependentMassSpectrometer\n",
    "from vimms.Controller import TopNController, TopN_SmartRoiController, WeightedDEWController\n",
    "from vimms.Environment import Environment"
   ]
  },
  {
   "cell_type": "code",
   "execution_count": 17,
   "metadata": {},
   "outputs": [
    {
     "data": {
      "text/plain": [
       "{'chemical_creator': {'mz_range': (70, 1000),\n",
       "  'rt_range': (0, 1440),\n",
       "  'intensity_range': (10000.0, 1e+20),\n",
       "  'n_chemicals': (2000, 5000),\n",
       "  'mz_sampler': <vimms.ChemicalSamplers.MZMLFormulaSampler at 0x7feb8ad2df10>,\n",
       "  'ri_sampler': <vimms.ChemicalSamplers.MZMLRTandIntensitySampler at 0x7feb7a5d9f10>,\n",
       "  'cr_sampler': <vimms.ChemicalSamplers.MZMLChromatogramSampler at 0x7feb7a6387f0>},\n",
       " 'noise': {'enable_spike_noise': True,\n",
       "  'noise_density': 0.1,\n",
       "  'noise_max_val': 1000.0,\n",
       "  'mz_range': (70, 1000)},\n",
       " 'env': {'ionisation_mode': 'Positive',\n",
       "  'rt_range': (0, 1440),\n",
       "  'isolation_window': 0.7,\n",
       "  'use_dew': True,\n",
       "  'mz_tol': 10,\n",
       "  'rt_tol': 300,\n",
       "  'min_ms1_intensity': 5000,\n",
       "  'alpha': 0.25,\n",
       "  'beta': 0.5}}"
      ]
     },
     "execution_count": 17,
     "metadata": {},
     "output_type": "execute_result"
    }
   ],
   "source": [
    "params"
   ]
  },
  {
   "cell_type": "code",
   "execution_count": 18,
   "metadata": {},
   "outputs": [],
   "source": [
    "enable_spike_noise = params['noise']['enable_spike_noise']\n",
    "ionisation_mode = params['env']['ionisation_mode']\n",
    "isolation_window = params['env']['isolation_window']\n",
    "mz_tol = params['env']['mz_tol']\n",
    "rt_range = params['chemical_creator']['rt_range']"
   ]
  },
  {
   "cell_type": "code",
   "execution_count": 19,
   "metadata": {
    "pycharm": {
     "name": "#%%\n"
    }
   },
   "outputs": [],
   "source": [
    "spike_noise = None\n",
    "if enable_spike_noise:\n",
    "    noise_params = params['noise']\n",
    "    noise_density = noise_params['noise_density']\n",
    "    noise_max_val = noise_params['noise_max_val']\n",
    "    noise_min_mz = noise_params['mz_range'][0]\n",
    "    noise_max_mz = noise_params['mz_range'][1]\n",
    "    spike_noise = UniformSpikeNoise(noise_density, noise_max_val, min_mz=noise_min_mz,\n",
    "                                    max_mz=noise_max_mz)"
   ]
  },
  {
   "cell_type": "markdown",
   "metadata": {
    "pycharm": {
     "name": "#%% md\n"
    }
   },
   "source": [
    "Run Top-N Controller"
   ]
  },
  {
   "cell_type": "code",
   "execution_count": 20,
   "metadata": {},
   "outputs": [
    {
     "data": {
      "text/plain": [
       "(0, 1440)"
      ]
     },
     "execution_count": 20,
     "metadata": {},
     "output_type": "execute_result"
    }
   ],
   "source": [
    "rt_range"
   ]
  },
  {
   "cell_type": "code",
   "execution_count": 21,
   "metadata": {
    "pycharm": {
     "name": "#%%\n"
    }
   },
   "outputs": [
    {
     "name": "stdout",
     "output_type": "stream",
     "text": [
      "method = TopN_Controller\n",
      "\n",
      "1 2 {'coverage_prop': '0.279', 'intensity_prop': '0.150', 'ms1ms2_ratio': '1.040', 'efficiency': '0.311', 'TP': '404', 'FP': '322', 'FN': '1873', 'precision': '0.556', 'recall': '0.177', 'f1': '0.269'}\n",
      "2 2 {'coverage_prop': '0.339', 'intensity_prop': '0.200', 'ms1ms2_ratio': '0.542', 'efficiency': '0.255', 'TP': '549', 'FP': '331', 'FN': '1719', 'precision': '0.624', 'recall': '0.242', 'f1': '0.349'}\n",
      "5 2 {'coverage_prop': '0.466', 'intensity_prop': '0.292', 'ms1ms2_ratio': '0.243', 'efficiency': '0.250', 'TP': '809', 'FP': '402', 'FN': '1388', 'precision': '0.668', 'recall': '0.368', 'f1': '0.475'}\n",
      "10 2 {'coverage_prop': '0.474', 'intensity_prop': '0.300', 'ms1ms2_ratio': '0.144', 'efficiency': '0.220', 'TP': '841', 'FP': '392', 'FN': '1366', 'precision': '0.682', 'recall': '0.381', 'f1': '0.489'}\n",
      "15 2 {'coverage_prop': '0.586', 'intensity_prop': '0.385', 'ms1ms2_ratio': '0.111', 'efficiency': '0.258', 'TP': '1095', 'FP': '427', 'FN': '1077', 'precision': '0.719', 'recall': '0.504', 'f1': '0.593'}\n",
      "20 2 {'coverage_prop': '0.661', 'intensity_prop': '0.441', 'ms1ms2_ratio': '0.094', 'efficiency': '0.284', 'TP': '1281', 'FP': '438', 'FN': '880', 'precision': '0.745', 'recall': '0.593', 'f1': '0.660'}\n",
      "25 2 {'coverage_prop': '0.720', 'intensity_prop': '0.477', 'ms1ms2_ratio': '0.084', 'efficiency': '0.303', 'TP': '1402', 'FP': '468', 'FN': '729', 'precision': '0.750', 'recall': '0.658', 'f1': '0.701'}\n",
      "1 5 {'coverage_prop': '0.412', 'intensity_prop': '0.236', 'ms1ms2_ratio': '1.091', 'efficiency': '0.473', 'TP': '660', 'FP': '410', 'FN': '1529', 'precision': '0.617', 'recall': '0.302', 'f1': '0.405'}\n",
      "2 5 {'coverage_prop': '0.530', 'intensity_prop': '0.330', 'ms1ms2_ratio': '0.583', 'efficiency': '0.415', 'TP': '965', 'FP': '413', 'FN': '1221', 'precision': '0.700', 'recall': '0.441', 'f1': '0.542'}\n",
      "5 5 {'coverage_prop': '0.643', 'intensity_prop': '0.440', 'ms1ms2_ratio': '0.274', 'efficiency': '0.359', 'TP': '1305', 'FP': '366', 'FN': '928', 'precision': '0.781', 'recall': '0.584', 'f1': '0.669'}\n",
      "10 5 {'coverage_prop': '0.761', 'intensity_prop': '0.534', 'ms1ms2_ratio': '0.169', 'efficiency': '0.368', 'TP': '1608', 'FP': '371', 'FN': '620', 'precision': '0.813', 'recall': '0.722', 'f1': '0.764'}\n",
      "15 5 {'coverage_prop': '0.759', 'intensity_prop': '0.527', 'ms1ms2_ratio': '0.134', 'efficiency': '0.347', 'TP': '1581', 'FP': '392', 'FN': '626', 'precision': '0.801', 'recall': '0.716', 'f1': '0.756'}\n",
      "20 5 {'coverage_prop': '0.828', 'intensity_prop': '0.567', 'ms1ms2_ratio': '0.116', 'efficiency': '0.368', 'TP': '1701', 'FP': '450', 'FN': '448', 'precision': '0.791', 'recall': '0.792', 'f1': '0.791'}\n",
      "25 5 {'coverage_prop': '0.732', 'intensity_prop': '0.487', 'ms1ms2_ratio': '0.105', 'efficiency': '0.320', 'TP': '1434', 'FP': '468', 'FN': '697', 'precision': '0.754', 'recall': '0.673', 'f1': '0.711'}\n",
      "1 15 {'coverage_prop': '0.627', 'intensity_prop': '0.356', 'ms1ms2_ratio': '1.160', 'efficiency': '0.751', 'TP': '991', 'FP': '639', 'FN': '969', 'precision': '0.608', 'recall': '0.506', 'f1': '0.552'}\n",
      "2 15 {'coverage_prop': '0.756', 'intensity_prop': '0.468', 'ms1ms2_ratio': '0.626', 'efficiency': '0.615', 'TP': '1346', 'FP': '620', 'FN': '633', 'precision': '0.685', 'recall': '0.680', 'f1': '0.682'}\n",
      "5 15 {'coverage_prop': '0.856', 'intensity_prop': '0.558', 'ms1ms2_ratio': '0.307', 'efficiency': '0.499', 'TP': '1631', 'FP': '594', 'FN': '374', 'precision': '0.733', 'recall': '0.813', 'f1': '0.771'}\n",
      "10 15 {'coverage_prop': '0.891', 'intensity_prop': '0.593', 'ms1ms2_ratio': '0.224', 'efficiency': '0.465', 'TP': '1750', 'FP': '565', 'FN': '284', 'precision': '0.756', 'recall': '0.860', 'f1': '0.805'}\n",
      "15 15 {'coverage_prop': '0.900', 'intensity_prop': '0.603', 'ms1ms2_ratio': '0.205', 'efficiency': '0.458', 'TP': '1775', 'FP': '563', 'FN': '261', 'precision': '0.759', 'recall': '0.872', 'f1': '0.812'}\n",
      "20 15 {'coverage_prop': '0.903', 'intensity_prop': '0.598', 'ms1ms2_ratio': '0.196', 'efficiency': '0.454', 'TP': '1778', 'FP': '569', 'FN': '252', 'precision': '0.758', 'recall': '0.876', 'f1': '0.812'}\n",
      "25 15 {'coverage_prop': '0.904', 'intensity_prop': '0.596', 'ms1ms2_ratio': '0.189', 'efficiency': '0.449', 'TP': '1772', 'FP': '577', 'FN': '250', 'precision': '0.754', 'recall': '0.876', 'f1': '0.811'}\n",
      "1 30 {'coverage_prop': '0.730', 'intensity_prop': '0.406', 'ms1ms2_ratio': '1.184', 'efficiency': '0.888', 'TP': '1137', 'FP': '761', 'FN': '701', 'precision': '0.599', 'recall': '0.619', 'f1': '0.609'}\n",
      "2 30 {'coverage_prop': '0.841', 'intensity_prop': '0.480', 'ms1ms2_ratio': '0.701', 'efficiency': '0.729', 'TP': '1333', 'FP': '852', 'FN': '414', 'precision': '0.610', 'recall': '0.763', 'f1': '0.678'}\n",
      "5 30 {'coverage_prop': '0.905', 'intensity_prop': '0.534', 'ms1ms2_ratio': '0.503', 'efficiency': '0.656', 'TP': '1470', 'FP': '882', 'FN': '247', 'precision': '0.625', 'recall': '0.856', 'f1': '0.723'}\n",
      "10 30 {'coverage_prop': '0.925', 'intensity_prop': '0.562', 'ms1ms2_ratio': '0.445', 'efficiency': '0.631', 'TP': '1578', 'FP': '827', 'FN': '194', 'precision': '0.656', 'recall': '0.891', 'f1': '0.756'}\n",
      "15 30 {'coverage_prop': '0.935', 'intensity_prop': '0.566', 'ms1ms2_ratio': '0.423', 'efficiency': '0.623', 'TP': '1599', 'FP': '830', 'FN': '170', 'precision': '0.658', 'recall': '0.904', 'f1': '0.762'}\n",
      "20 30 {'coverage_prop': '0.937', 'intensity_prop': '0.565', 'ms1ms2_ratio': '0.416', 'efficiency': '0.619', 'TP': '1578', 'FP': '856', 'FN': '165', 'precision': '0.648', 'recall': '0.905', 'f1': '0.756'}\n",
      "25 30 {'coverage_prop': '0.943', 'intensity_prop': '0.569', 'ms1ms2_ratio': '0.411', 'efficiency': '0.621', 'TP': '1604', 'FP': '848', 'FN': '147', 'precision': '0.654', 'recall': '0.916', 'f1': '0.763'}\n",
      "1 60 {'coverage_prop': '0.773', 'intensity_prop': '0.412', 'ms1ms2_ratio': '1.287', 'efficiency': '0.998', 'TP': '1116', 'FP': '894', 'FN': '589', 'precision': '0.555', 'recall': '0.655', 'f1': '0.601'}\n",
      "2 60 {'coverage_prop': '0.869', 'intensity_prop': '0.467', 'ms1ms2_ratio': '0.921', 'efficiency': '0.892', 'TP': '1238', 'FP': '1021', 'FN': '340', 'precision': '0.548', 'recall': '0.785', 'f1': '0.645'}\n",
      "5 60 {'coverage_prop': '0.923', 'intensity_prop': '0.510', 'ms1ms2_ratio': '0.732', 'efficiency': '0.821', 'TP': '1372', 'FP': '1028', 'FN': '199', 'precision': '0.572', 'recall': '0.873', 'f1': '0.691'}\n",
      "10 60 {'coverage_prop': '0.946', 'intensity_prop': '0.534', 'ms1ms2_ratio': '0.666', 'efficiency': '0.796', 'TP': '1425', 'FP': '1034', 'FN': '140', 'precision': '0.580', 'recall': '0.911', 'f1': '0.708'}\n",
      "15 60 {'coverage_prop': '0.955', 'intensity_prop': '0.537', 'ms1ms2_ratio': '0.644', 'efficiency': '0.789', 'TP': '1437', 'FP': '1045', 'FN': '117', 'precision': '0.579', 'recall': '0.925', 'f1': '0.712'}\n",
      "20 60 {'coverage_prop': '0.956', 'intensity_prop': '0.541', 'ms1ms2_ratio': '0.634', 'efficiency': '0.783', 'TP': '1445', 'FP': '1040', 'FN': '114', 'precision': '0.581', 'recall': '0.927', 'f1': '0.715'}\n",
      "25 60 {'coverage_prop': '0.960', 'intensity_prop': '0.540', 'ms1ms2_ratio': '0.629', 'efficiency': '0.782', 'TP': '1455', 'FP': '1041', 'FN': '103', 'precision': '0.583', 'recall': '0.934', 'f1': '0.718'}\n",
      "1 120 {'coverage_prop': '0.785', 'intensity_prop': '0.408', 'ms1ms2_ratio': '1.472', 'efficiency': '1.117', 'TP': '1077', 'FP': '962', 'FN': '560', 'precision': '0.528', 'recall': '0.658', 'f1': '0.586'}\n",
      "2 120 {'coverage_prop': '0.878', 'intensity_prop': '0.462', 'ms1ms2_ratio': '1.104', 'efficiency': '1.017', 'TP': '1211', 'FP': '1072', 'FN': '316', 'precision': '0.530', 'recall': '0.793', 'f1': '0.636'}\n",
      "5 120 {'coverage_prop': '0.934', 'intensity_prop': '0.504', 'ms1ms2_ratio': '0.895', 'efficiency': '0.941', 'TP': '1336', 'FP': '1091', 'FN': '172', 'precision': '0.550', 'recall': '0.886', 'f1': '0.679'}\n",
      "10 120 {'coverage_prop': '0.950', 'intensity_prop': '0.520', 'ms1ms2_ratio': '0.835', 'efficiency': '0.915', 'TP': '1368', 'FP': '1100', 'FN': '131', 'precision': '0.554', 'recall': '0.913', 'f1': '0.690'}\n",
      "15 120 {'coverage_prop': '0.959', 'intensity_prop': '0.526', 'ms1ms2_ratio': '0.811', 'efficiency': '0.908', 'TP': '1397', 'FP': '1096', 'FN': '106', 'precision': '0.560', 'recall': '0.929', 'f1': '0.699'}\n",
      "20 120 {'coverage_prop': '0.962', 'intensity_prop': '0.528', 'ms1ms2_ratio': '0.801', 'efficiency': '0.904', 'TP': '1409', 'FP': '1091', 'FN': '99', 'precision': '0.564', 'recall': '0.934', 'f1': '0.703'}\n",
      "25 120 {'coverage_prop': '0.963', 'intensity_prop': '0.527', 'ms1ms2_ratio': '0.802', 'efficiency': '0.905', 'TP': '1386', 'FP': '1117', 'FN': '96', 'precision': '0.554', 'recall': '0.935', 'f1': '0.696'}\n",
      "1 240 {'coverage_prop': '0.791', 'intensity_prop': '0.402', 'ms1ms2_ratio': '1.629', 'efficiency': '1.216', 'TP': '1044', 'FP': '1012', 'FN': '543', 'precision': '0.508', 'recall': '0.658', 'f1': '0.573'}\n",
      "2 240 {'coverage_prop': '0.888', 'intensity_prop': '0.456', 'ms1ms2_ratio': '1.244', 'efficiency': '1.117', 'TP': '1169', 'FP': '1138', 'FN': '292', 'precision': '0.507', 'recall': '0.800', 'f1': '0.620'}\n",
      "5 240 {'coverage_prop': '0.939', 'intensity_prop': '0.492', 'ms1ms2_ratio': '1.029', 'efficiency': '1.036', 'TP': '1263', 'FP': '1177', 'FN': '159', 'precision': '0.518', 'recall': '0.888', 'f1': '0.654'}\n",
      "10 240 {'coverage_prop': '0.955', 'intensity_prop': '0.504', 'ms1ms2_ratio': '0.973', 'efficiency': '1.016', 'TP': '1289', 'FP': '1194', 'FN': '116', 'precision': '0.519', 'recall': '0.917', 'f1': '0.663'}\n",
      "15 240 {'coverage_prop': '0.963', 'intensity_prop': '0.504', 'ms1ms2_ratio': '0.951', 'efficiency': '1.009', 'TP': '1302', 'FP': '1201', 'FN': '96', 'precision': '0.520', 'recall': '0.931', 'f1': '0.668'}\n",
      "20 240 {'coverage_prop': '0.963', 'intensity_prop': '0.508', 'ms1ms2_ratio': '0.945', 'efficiency': '1.004', 'TP': '1330', 'FP': '1172', 'FN': '97', 'precision': '0.532', 'recall': '0.932', 'f1': '0.677'}\n",
      "25 240 {'coverage_prop': '0.968', 'intensity_prop': '0.506', 'ms1ms2_ratio': '0.937', 'efficiency': '1.005', 'TP': '1290', 'FP': '1227', 'FN': '82', 'precision': '0.513', 'recall': '0.940', 'f1': '0.663'}\n",
      "1 300 {'coverage_prop': '0.788', 'intensity_prop': '0.399', 'ms1ms2_ratio': '1.662', 'efficiency': '1.229', 'TP': '1035', 'FP': '1012', 'FN': '552', 'precision': '0.506', 'recall': '0.652', 'f1': '0.570'}\n",
      "2 300 {'coverage_prop': '0.889', 'intensity_prop': '0.455', 'ms1ms2_ratio': '1.269', 'efficiency': '1.136', 'TP': '1150', 'FP': '1161', 'FN': '288', 'precision': '0.498', 'recall': '0.800', 'f1': '0.613'}\n",
      "5 300 {'coverage_prop': '0.939', 'intensity_prop': '0.486', 'ms1ms2_ratio': '1.061', 'efficiency': '1.058', 'TP': '1238', 'FP': '1202', 'FN': '159', 'precision': '0.507', 'recall': '0.886', 'f1': '0.645'}\n",
      "10 300 {'coverage_prop': '0.955', 'intensity_prop': '0.499', 'ms1ms2_ratio': '1.000', 'efficiency': '1.034', 'TP': '1273', 'FP': '1210', 'FN': '116', 'precision': '0.513', 'recall': '0.916', 'f1': '0.658'}\n",
      "15 300 {'coverage_prop': '0.962', 'intensity_prop': '0.505', 'ms1ms2_ratio': '0.977', 'efficiency': '1.025', 'TP': '1300', 'FP': '1199', 'FN': '100', 'precision': '0.520', 'recall': '0.929', 'f1': '0.667'}\n",
      "20 300 {'coverage_prop': '0.964', 'intensity_prop': '0.506', 'ms1ms2_ratio': '0.967', 'efficiency': '1.021', 'TP': '1306', 'FP': '1199', 'FN': '94', 'precision': '0.521', 'recall': '0.933', 'f1': '0.669'}\n",
      "25 300 {'coverage_prop': '0.968', 'intensity_prop': '0.508', 'ms1ms2_ratio': '0.959', 'efficiency': '1.020', 'TP': '1303', 'FP': '1213', 'FN': '83', 'precision': '0.518', 'recall': '0.940', 'f1': '0.668'}\n"
     ]
    }
   ],
   "source": [
    "method = 'TopN_Controller'\n",
    "print('method = %s' % method)\n",
    "print()\n",
    "\n",
    "chems = chem_list[0]\n",
    "res = {}\n",
    "for rt_tol in rt_tols:\n",
    "    for N in Ns:\n",
    "\n",
    "        effective_rt_tol = rt_tol\n",
    "        mass_spec = IndependentMassSpectrometer(ionisation_mode, chems, spike_noise=spike_noise)\n",
    "        controller = TopNController(ionisation_mode, N, isolation_window, mz_tol, rt_tol,\n",
    "                                    min_ms1_intensity)\n",
    "        env = Environment(mass_spec, controller, rt_range[0], rt_range[1], progress_bar=False)\n",
    "        env.run()\n",
    "        eval_res = evaluate(env, intensity_threshold)\n",
    "        key = (N, rt_tol)\n",
    "        print(N, rt_tol, eval_res)\n",
    "        res[key] = eval_res\n",
    "\n",
    "method_eval_results[method] = res"
   ]
  },
  {
   "cell_type": "markdown",
   "metadata": {
    "pycharm": {
     "name": "#%% md\n"
    }
   },
   "source": [
    "Run SmartROI Controller"
   ]
  },
  {
   "cell_type": "code",
   "execution_count": 24,
   "metadata": {},
   "outputs": [],
   "source": [
    "alphas = [2, 3, 5, 10, 1E3, 1E6]\n",
    "betas = [0, 0.1, 0.5, 1, 5]\n",
    "initial_length_seconds_list = [0, 2, 5]\n",
    "smartroi_N = 15\n",
    "smartroi_dew = 15"
   ]
  },
  {
   "cell_type": "code",
   "execution_count": 25,
   "metadata": {
    "pycharm": {
     "name": "#%%\n"
    }
   },
   "outputs": [
    {
     "name": "stdout",
     "output_type": "stream",
     "text": [
      "method = SmartROI_Controller\n",
      "\n",
      "2 0 0 {'coverage_prop': '0.943', 'intensity_prop': '0.600', 'ms1ms2_ratio': '0.669', 'efficiency': '0.796', 'TP': '1723', 'FP': '728', 'FN': '148', 'precision': '0.703', 'recall': '0.921', 'f1': '0.797'}\n",
      "2 0 2 {'coverage_prop': '0.938', 'intensity_prop': '0.601', 'ms1ms2_ratio': '0.693', 'efficiency': '0.808', 'TP': '1725', 'FP': '714', 'FN': '160', 'precision': '0.707', 'recall': '0.915', 'f1': '0.798'}\n",
      "2 0 5 {'coverage_prop': '0.940', 'intensity_prop': '0.616', 'ms1ms2_ratio': '0.724', 'efficiency': '0.830', 'TP': '1778', 'FP': '664', 'FN': '157', 'precision': '0.728', 'recall': '0.919', 'f1': '0.812'}\n",
      "2 0.1 0 {'coverage_prop': '0.943', 'intensity_prop': '0.602', 'ms1ms2_ratio': '0.665', 'efficiency': '0.793', 'TP': '1727', 'FP': '725', 'FN': '147', 'precision': '0.704', 'recall': '0.922', 'f1': '0.798'}\n",
      "2 0.1 2 {'coverage_prop': '0.939', 'intensity_prop': '0.603', 'ms1ms2_ratio': '0.692', 'efficiency': '0.808', 'TP': '1721', 'FP': '719', 'FN': '159', 'precision': '0.705', 'recall': '0.915', 'f1': '0.797'}\n",
      "2 0.1 5 {'coverage_prop': '0.937', 'intensity_prop': '0.616', 'ms1ms2_ratio': '0.724', 'efficiency': '0.828', 'TP': '1790', 'FP': '645', 'FN': '164', 'precision': '0.735', 'recall': '0.916', 'f1': '0.816'}\n",
      "2 0.5 0 {'coverage_prop': '0.943', 'intensity_prop': '0.600', 'ms1ms2_ratio': '0.642', 'efficiency': '0.777', 'TP': '1727', 'FP': '723', 'FN': '149', 'precision': '0.705', 'recall': '0.921', 'f1': '0.798'}\n",
      "2 0.5 2 {'coverage_prop': '0.940', 'intensity_prop': '0.603', 'ms1ms2_ratio': '0.667', 'efficiency': '0.792', 'TP': '1713', 'FP': '730', 'FN': '156', 'precision': '0.701', 'recall': '0.917', 'f1': '0.795'}\n",
      "2 0.5 5 {'coverage_prop': '0.935', 'intensity_prop': '0.618', 'ms1ms2_ratio': '0.692', 'efficiency': '0.805', 'TP': '1791', 'FP': '640', 'FN': '168', 'precision': '0.737', 'recall': '0.914', 'f1': '0.816'}\n",
      "2 1 0 {'coverage_prop': '0.944', 'intensity_prop': '0.604', 'ms1ms2_ratio': '0.571', 'efficiency': '0.730', 'TP': '1736', 'FP': '717', 'FN': '146', 'precision': '0.708', 'recall': '0.922', 'f1': '0.801'}\n",
      "2 1 2 {'coverage_prop': '0.939', 'intensity_prop': '0.606', 'ms1ms2_ratio': '0.601', 'efficiency': '0.746', 'TP': '1750', 'FP': '691', 'FN': '158', 'precision': '0.717', 'recall': '0.917', 'f1': '0.805'}\n",
      "2 1 5 {'coverage_prop': '0.935', 'intensity_prop': '0.618', 'ms1ms2_ratio': '0.628', 'efficiency': '0.761', 'TP': '1807', 'FP': '622', 'FN': '170', 'precision': '0.744', 'recall': '0.914', 'f1': '0.820'}\n",
      "2 5 0 {'coverage_prop': '0.937', 'intensity_prop': '0.606', 'ms1ms2_ratio': '0.473', 'efficiency': '0.658', 'TP': '1746', 'FP': '689', 'FN': '164', 'precision': '0.717', 'recall': '0.914', 'f1': '0.804'}\n",
      "2 5 2 {'coverage_prop': '0.935', 'intensity_prop': '0.606', 'ms1ms2_ratio': '0.490', 'efficiency': '0.668', 'TP': '1736', 'FP': '694', 'FN': '169', 'precision': '0.714', 'recall': '0.911', 'f1': '0.801'}\n",
      "2 5 5 {'coverage_prop': '0.935', 'intensity_prop': '0.620', 'ms1ms2_ratio': '0.506', 'efficiency': '0.679', 'TP': '1828', 'FP': '601', 'FN': '170', 'precision': '0.753', 'recall': '0.915', 'f1': '0.826'}\n",
      "3 0 0 {'coverage_prop': '0.950', 'intensity_prop': '0.584', 'ms1ms2_ratio': '0.741', 'efficiency': '0.851', 'TP': '1616', 'FP': '854', 'FN': '129', 'precision': '0.654', 'recall': '0.926', 'f1': '0.767'}\n",
      "3 0 2 {'coverage_prop': '0.945', 'intensity_prop': '0.588', 'ms1ms2_ratio': '0.779', 'efficiency': '0.872', 'TP': '1625', 'FP': '830', 'FN': '144', 'precision': '0.662', 'recall': '0.919', 'f1': '0.769'}\n",
      "3 0 5 {'coverage_prop': '0.942', 'intensity_prop': '0.603', 'ms1ms2_ratio': '0.818', 'efficiency': '0.896', 'TP': '1681', 'FP': '766', 'FN': '152', 'precision': '0.687', 'recall': '0.917', 'f1': '0.786'}\n",
      "3 0.1 0 {'coverage_prop': '0.951', 'intensity_prop': '0.585', 'ms1ms2_ratio': '0.735', 'efficiency': '0.847', 'TP': '1621', 'FP': '850', 'FN': '128', 'precision': '0.656', 'recall': '0.927', 'f1': '0.768'}\n",
      "3 0.1 2 {'coverage_prop': '0.944', 'intensity_prop': '0.587', 'ms1ms2_ratio': '0.782', 'efficiency': '0.874', 'TP': '1635', 'FP': '819', 'FN': '145', 'precision': '0.666', 'recall': '0.919', 'f1': '0.772'}\n",
      "3 0.1 5 {'coverage_prop': '0.941', 'intensity_prop': '0.603', 'ms1ms2_ratio': '0.812', 'efficiency': '0.891', 'TP': '1678', 'FP': '768', 'FN': '153', 'precision': '0.686', 'recall': '0.916', 'f1': '0.785'}\n",
      "3 0.5 0 {'coverage_prop': '0.948', 'intensity_prop': '0.587', 'ms1ms2_ratio': '0.713', 'efficiency': '0.830', 'TP': '1625', 'FP': '838', 'FN': '136', 'precision': '0.660', 'recall': '0.923', 'f1': '0.769'}\n",
      "3 0.5 2 {'coverage_prop': '0.945', 'intensity_prop': '0.586', 'ms1ms2_ratio': '0.745', 'efficiency': '0.850', 'TP': '1617', 'FP': '840', 'FN': '142', 'precision': '0.658', 'recall': '0.919', 'f1': '0.767'}\n",
      "3 0.5 5 {'coverage_prop': '0.942', 'intensity_prop': '0.601', 'ms1ms2_ratio': '0.779', 'efficiency': '0.870', 'TP': '1673', 'FP': '776', 'FN': '150', 'precision': '0.683', 'recall': '0.918', 'f1': '0.783'}\n",
      "3 1 0 {'coverage_prop': '0.947', 'intensity_prop': '0.595', 'ms1ms2_ratio': '0.636', 'efficiency': '0.777', 'TP': '1657', 'FP': '805', 'FN': '137', 'precision': '0.673', 'recall': '0.924', 'f1': '0.779'}\n",
      "3 1 2 {'coverage_prop': '0.945', 'intensity_prop': '0.590', 'ms1ms2_ratio': '0.660', 'efficiency': '0.791', 'TP': '1644', 'FP': '811', 'FN': '144', 'precision': '0.670', 'recall': '0.919', 'f1': '0.775'}\n",
      "3 1 5 {'coverage_prop': '0.940', 'intensity_prop': '0.609', 'ms1ms2_ratio': '0.695', 'efficiency': '0.811', 'TP': '1701', 'FP': '742', 'FN': '156', 'precision': '0.696', 'recall': '0.916', 'f1': '0.791'}\n",
      "3 5 0 {'coverage_prop': '0.941', 'intensity_prop': '0.592', 'ms1ms2_ratio': '0.516', 'efficiency': '0.690', 'TP': '1669', 'FP': '777', 'FN': '153', 'precision': '0.682', 'recall': '0.916', 'f1': '0.782'}\n",
      "3 5 2 {'coverage_prop': '0.942', 'intensity_prop': '0.594', 'ms1ms2_ratio': '0.530', 'efficiency': '0.700', 'TP': '1667', 'FP': '780', 'FN': '152', 'precision': '0.681', 'recall': '0.916', 'f1': '0.782'}\n",
      "3 5 5 {'coverage_prop': '0.936', 'intensity_prop': '0.607', 'ms1ms2_ratio': '0.548', 'efficiency': '0.708', 'TP': '1739', 'FP': '694', 'FN': '166', 'precision': '0.715', 'recall': '0.913', 'f1': '0.802'}\n",
      "5 0 0 {'coverage_prop': '0.952', 'intensity_prop': '0.563', 'ms1ms2_ratio': '0.816', 'efficiency': '0.905', 'TP': '1528', 'FP': '946', 'FN': '125', 'precision': '0.618', 'recall': '0.924', 'f1': '0.740'}\n",
      "5 0 2 {'coverage_prop': '0.954', 'intensity_prop': '0.562', 'ms1ms2_ratio': '0.860', 'efficiency': '0.937', 'TP': '1491', 'FP': '989', 'FN': '119', 'precision': '0.601', 'recall': '0.926', 'f1': '0.729'}\n",
      "5 0 5 {'coverage_prop': '0.949', 'intensity_prop': '0.576', 'ms1ms2_ratio': '0.899', 'efficiency': '0.958', 'TP': '1575', 'FP': '891', 'FN': '133', 'precision': '0.639', 'recall': '0.922', 'f1': '0.755'}\n",
      "5 0.1 0 {'coverage_prop': '0.955', 'intensity_prop': '0.561', 'ms1ms2_ratio': '0.826', 'efficiency': '0.915', 'TP': '1514', 'FP': '969', 'FN': '116', 'precision': '0.610', 'recall': '0.929', 'f1': '0.736'}\n",
      "5 0.1 2 {'coverage_prop': '0.953', 'intensity_prop': '0.565', 'ms1ms2_ratio': '0.858', 'efficiency': '0.935', 'TP': '1508', 'FP': '970', 'FN': '121', 'precision': '0.609', 'recall': '0.926', 'f1': '0.734'}\n",
      "5 0.1 5 {'coverage_prop': '0.948', 'intensity_prop': '0.575', 'ms1ms2_ratio': '0.895', 'efficiency': '0.955', 'TP': '1575', 'FP': '890', 'FN': '134', 'precision': '0.639', 'recall': '0.922', 'f1': '0.755'}\n",
      "5 0.5 0 {'coverage_prop': '0.950', 'intensity_prop': '0.566', 'ms1ms2_ratio': '0.783', 'efficiency': '0.880', 'TP': '1525', 'FP': '945', 'FN': '129', 'precision': '0.617', 'recall': '0.922', 'f1': '0.740'}\n",
      "5 0.5 2 {'coverage_prop': '0.952', 'intensity_prop': '0.560', 'ms1ms2_ratio': '0.826', 'efficiency': '0.912', 'TP': '1497', 'FP': '978', 'FN': '124', 'precision': '0.605', 'recall': '0.924', 'f1': '0.731'}\n",
      "5 0.5 5 {'coverage_prop': '0.947', 'intensity_prop': '0.576', 'ms1ms2_ratio': '0.853', 'efficiency': '0.926', 'TP': '1571', 'FP': '891', 'FN': '137', 'precision': '0.638', 'recall': '0.920', 'f1': '0.753'}\n",
      "5 1 0 {'coverage_prop': '0.955', 'intensity_prop': '0.570', 'ms1ms2_ratio': '0.698', 'efficiency': '0.825', 'TP': '1549', 'FP': '932', 'FN': '118', 'precision': '0.624', 'recall': '0.929', 'f1': '0.747'}\n",
      "5 1 2 {'coverage_prop': '0.952', 'intensity_prop': '0.565', 'ms1ms2_ratio': '0.725', 'efficiency': '0.842', 'TP': '1527', 'FP': '946', 'FN': '126', 'precision': '0.617', 'recall': '0.924', 'f1': '0.740'}\n",
      "5 1 5 {'coverage_prop': '0.947', 'intensity_prop': '0.584', 'ms1ms2_ratio': '0.753', 'efficiency': '0.857', 'TP': '1608', 'FP': '853', 'FN': '138', 'precision': '0.653', 'recall': '0.921', 'f1': '0.764'}\n",
      "5 5 0 {'coverage_prop': '0.948', 'intensity_prop': '0.581', 'ms1ms2_ratio': '0.553', 'efficiency': '0.720', 'TP': '1608', 'FP': '856', 'FN': '135', 'precision': '0.653', 'recall': '0.923', 'f1': '0.764'}\n",
      "5 5 2 {'coverage_prop': '0.944', 'intensity_prop': '0.573', 'ms1ms2_ratio': '0.572', 'efficiency': '0.731', 'TP': '1571', 'FP': '883', 'FN': '145', 'precision': '0.640', 'recall': '0.916', 'f1': '0.753'}\n",
      "5 5 5 {'coverage_prop': '0.944', 'intensity_prop': '0.595', 'ms1ms2_ratio': '0.582', 'efficiency': '0.738', 'TP': '1678', 'FP': '775', 'FN': '146', 'precision': '0.684', 'recall': '0.920', 'f1': '0.785'}\n",
      "10 0 0 {'coverage_prop': '0.958', 'intensity_prop': '0.535', 'ms1ms2_ratio': '0.899', 'efficiency': '0.967', 'TP': '1391', 'FP': '1098', 'FN': '110', 'precision': '0.559', 'recall': '0.927', 'f1': '0.697'}\n",
      "10 0 2 {'coverage_prop': '0.951', 'intensity_prop': '0.532', 'ms1ms2_ratio': '0.941', 'efficiency': '0.989', 'TP': '1390', 'FP': '1081', 'FN': '128', 'precision': '0.563', 'recall': '0.916', 'f1': '0.697'}\n",
      "10 0 5 {'coverage_prop': '0.949', 'intensity_prop': '0.555', 'ms1ms2_ratio': '0.960', 'efficiency': '1.000', 'TP': '1493', 'FP': '974', 'FN': '132', 'precision': '0.605', 'recall': '0.919', 'f1': '0.730'}\n",
      "10 0.1 0 {'coverage_prop': '0.958', 'intensity_prop': '0.536', 'ms1ms2_ratio': '0.896', 'efficiency': '0.965', 'TP': '1406', 'FP': '1083', 'FN': '110', 'precision': '0.565', 'recall': '0.927', 'f1': '0.702'}\n",
      "10 0.1 2 {'coverage_prop': '0.952', 'intensity_prop': '0.535', 'ms1ms2_ratio': '0.934', 'efficiency': '0.986', 'TP': '1391', 'FP': '1084', 'FN': '124', 'precision': '0.562', 'recall': '0.918', 'f1': '0.697'}\n",
      "10 0.1 5 {'coverage_prop': '0.950', 'intensity_prop': '0.556', 'ms1ms2_ratio': '0.956', 'efficiency': '0.999', 'TP': '1487', 'FP': '983', 'FN': '129', 'precision': '0.602', 'recall': '0.920', 'f1': '0.728'}\n",
      "10 0.5 0 {'coverage_prop': '0.957', 'intensity_prop': '0.537', 'ms1ms2_ratio': '0.844', 'efficiency': '0.929', 'TP': '1429', 'FP': '1059', 'FN': '111', 'precision': '0.574', 'recall': '0.928', 'f1': '0.710'}\n",
      "10 0.5 2 {'coverage_prop': '0.948', 'intensity_prop': '0.536', 'ms1ms2_ratio': '0.894', 'efficiency': '0.954', 'TP': '1405', 'FP': '1058', 'FN': '136', 'precision': '0.570', 'recall': '0.912', 'f1': '0.702'}\n",
      "10 0.5 5 {'coverage_prop': '0.949', 'intensity_prop': '0.559', 'ms1ms2_ratio': '0.914', 'efficiency': '0.969', 'TP': '1496', 'FP': '971', 'FN': '132', 'precision': '0.606', 'recall': '0.919', 'f1': '0.731'}\n",
      "10 1 0 {'coverage_prop': '0.958', 'intensity_prop': '0.548', 'ms1ms2_ratio': '0.746', 'efficiency': '0.862', 'TP': '1452', 'FP': '1038', 'FN': '109', 'precision': '0.583', 'recall': '0.930', 'f1': '0.717'}\n",
      "10 1 2 {'coverage_prop': '0.951', 'intensity_prop': '0.546', 'ms1ms2_ratio': '0.784', 'efficiency': '0.881', 'TP': '1442', 'FP': '1029', 'FN': '128', 'precision': '0.584', 'recall': '0.918', 'f1': '0.714'}\n",
      "10 1 5 {'coverage_prop': '0.947', 'intensity_prop': '0.563', 'ms1ms2_ratio': '0.805', 'efficiency': '0.892', 'TP': '1529', 'FP': '932', 'FN': '138', 'precision': '0.621', 'recall': '0.917', 'f1': '0.741'}\n",
      "10 5 0 {'coverage_prop': '0.952', 'intensity_prop': '0.560', 'ms1ms2_ratio': '0.577', 'efficiency': '0.740', 'TP': '1541', 'FP': '932', 'FN': '126', 'precision': '0.623', 'recall': '0.924', 'f1': '0.744'}\n",
      "10 5 2 {'coverage_prop': '0.947', 'intensity_prop': '0.555', 'ms1ms2_ratio': '0.602', 'efficiency': '0.753', 'TP': '1499', 'FP': '962', 'FN': '138', 'precision': '0.609', 'recall': '0.916', 'f1': '0.732'}\n",
      "10 5 5 {'coverage_prop': '0.947', 'intensity_prop': '0.580', 'ms1ms2_ratio': '0.609', 'efficiency': '0.758', 'TP': '1607', 'FP': '855', 'FN': '137', 'precision': '0.653', 'recall': '0.921', 'f1': '0.764'}\n",
      "1000.0 0 0 {'coverage_prop': '0.961', 'intensity_prop': '0.508', 'ms1ms2_ratio': '0.975', 'efficiency': '1.023', 'TP': '1302', 'FP': '1195', 'FN': '102', 'precision': '0.521', 'recall': '0.927', 'f1': '0.668'}\n",
      "1000.0 0 2 {'coverage_prop': '0.955', 'intensity_prop': '0.510', 'ms1ms2_ratio': '1.004', 'efficiency': '1.037', 'TP': '1303', 'FP': '1180', 'FN': '116', 'precision': '0.525', 'recall': '0.918', 'f1': '0.668'}\n",
      "1000.0 0 5 {'coverage_prop': '0.952', 'intensity_prop': '0.534', 'ms1ms2_ratio': '1.021', 'efficiency': '1.046', 'TP': '1410', 'FP': '1065', 'FN': '124', 'precision': '0.570', 'recall': '0.919', 'f1': '0.703'}\n",
      "1000.0 0.1 0 {'coverage_prop': '0.961', 'intensity_prop': '0.509', 'ms1ms2_ratio': '0.961', 'efficiency': '1.014', 'TP': '1310', 'FP': '1188', 'FN': '101', 'precision': '0.524', 'recall': '0.928', 'f1': '0.670'}\n",
      "1000.0 0.1 2 {'coverage_prop': '0.954', 'intensity_prop': '0.508', 'ms1ms2_ratio': '0.996', 'efficiency': '1.031', 'TP': '1303', 'FP': '1177', 'FN': '119', 'precision': '0.525', 'recall': '0.916', 'f1': '0.668'}\n",
      "1000.0 0.1 5 {'coverage_prop': '0.951', 'intensity_prop': '0.533', 'ms1ms2_ratio': '1.013', 'efficiency': '1.039', 'TP': '1415', 'FP': '1056', 'FN': '128', 'precision': '0.573', 'recall': '0.917', 'f1': '0.705'}\n",
      "1000.0 0.5 0 {'coverage_prop': '0.962', 'intensity_prop': '0.511', 'ms1ms2_ratio': '0.918', 'efficiency': '0.984', 'TP': '1318', 'FP': '1181', 'FN': '100', 'precision': '0.527', 'recall': '0.929', 'f1': '0.673'}\n",
      "1000.0 0.5 2 {'coverage_prop': '0.952', 'intensity_prop': '0.513', 'ms1ms2_ratio': '0.948', 'efficiency': '0.995', 'TP': '1332', 'FP': '1143', 'FN': '124', 'precision': '0.538', 'recall': '0.915', 'f1': '0.678'}\n",
      "1000.0 0.5 5 {'coverage_prop': '0.953', 'intensity_prop': '0.538', 'ms1ms2_ratio': '0.959', 'efficiency': '1.004', 'TP': '1429', 'FP': '1048', 'FN': '122', 'precision': '0.577', 'recall': '0.921', 'f1': '0.710'}\n",
      "1000.0 1 0 {'coverage_prop': '0.963', 'intensity_prop': '0.522', 'ms1ms2_ratio': '0.791', 'efficiency': '0.897', 'TP': '1363', 'FP': '1139', 'FN': '97', 'precision': '0.545', 'recall': '0.934', 'f1': '0.688'}\n",
      "1000.0 1 2 {'coverage_prop': '0.953', 'intensity_prop': '0.522', 'ms1ms2_ratio': '0.823', 'efficiency': '0.911', 'TP': '1362', 'FP': '1116', 'FN': '121', 'precision': '0.550', 'recall': '0.918', 'f1': '0.688'}\n",
      "1000.0 1 5 {'coverage_prop': '0.953', 'intensity_prop': '0.547', 'ms1ms2_ratio': '0.842', 'efficiency': '0.924', 'TP': '1457', 'FP': '1021', 'FN': '121', 'precision': '0.588', 'recall': '0.923', 'f1': '0.718'}\n",
      "1000.0 5 0 {'coverage_prop': '0.955', 'intensity_prop': '0.536', 'ms1ms2_ratio': '0.609', 'efficiency': '0.764', 'TP': '1442', 'FP': '1039', 'FN': '118', 'precision': '0.581', 'recall': '0.924', 'f1': '0.714'}\n",
      "1000.0 5 2 {'coverage_prop': '0.950', 'intensity_prop': '0.540', 'ms1ms2_ratio': '0.629', 'efficiency': '0.774', 'TP': '1447', 'FP': '1022', 'FN': '130', 'precision': '0.586', 'recall': '0.918', 'f1': '0.715'}\n",
      "1000.0 5 5 {'coverage_prop': '0.945', 'intensity_prop': '0.556', 'ms1ms2_ratio': '0.638', 'efficiency': '0.776', 'TP': '1518', 'FP': '938', 'FN': '143', 'precision': '0.618', 'recall': '0.914', 'f1': '0.737'}\n",
      "1000000.0 0 0 {'coverage_prop': '0.961', 'intensity_prop': '0.508', 'ms1ms2_ratio': '0.975', 'efficiency': '1.023', 'TP': '1302', 'FP': '1195', 'FN': '102', 'precision': '0.521', 'recall': '0.927', 'f1': '0.668'}\n",
      "1000000.0 0 2 {'coverage_prop': '0.955', 'intensity_prop': '0.510', 'ms1ms2_ratio': '1.004', 'efficiency': '1.037', 'TP': '1305', 'FP': '1178', 'FN': '116', 'precision': '0.526', 'recall': '0.918', 'f1': '0.669'}\n",
      "1000000.0 0 5 {'coverage_prop': '0.952', 'intensity_prop': '0.534', 'ms1ms2_ratio': '1.020', 'efficiency': '1.045', 'TP': '1413', 'FP': '1062', 'FN': '124', 'precision': '0.571', 'recall': '0.919', 'f1': '0.704'}\n",
      "1000000.0 0.1 0 {'coverage_prop': '0.961', 'intensity_prop': '0.509', 'ms1ms2_ratio': '0.961', 'efficiency': '1.013', 'TP': '1314', 'FP': '1183', 'FN': '102', 'precision': '0.526', 'recall': '0.928', 'f1': '0.672'}\n",
      "1000000.0 0.1 2 {'coverage_prop': '0.957', 'intensity_prop': '0.510', 'ms1ms2_ratio': '0.999', 'efficiency': '1.036', 'TP': '1308', 'FP': '1180', 'FN': '111', 'precision': '0.526', 'recall': '0.922', 'f1': '0.670'}\n",
      "1000000.0 0.1 5 {'coverage_prop': '0.951', 'intensity_prop': '0.533', 'ms1ms2_ratio': '1.013', 'efficiency': '1.038', 'TP': '1416', 'FP': '1055', 'FN': '128', 'precision': '0.573', 'recall': '0.917', 'f1': '0.705'}\n",
      "1000000.0 0.5 0 {'coverage_prop': '0.960', 'intensity_prop': '0.511', 'ms1ms2_ratio': '0.914', 'efficiency': '0.980', 'TP': '1326', 'FP': '1170', 'FN': '103', 'precision': '0.531', 'recall': '0.928', 'f1': '0.676'}\n",
      "1000000.0 0.5 2 {'coverage_prop': '0.952', 'intensity_prop': '0.511', 'ms1ms2_ratio': '0.945', 'efficiency': '0.993', 'TP': '1323', 'FP': '1151', 'FN': '125', 'precision': '0.535', 'recall': '0.914', 'f1': '0.675'}\n",
      "1000000.0 0.5 5 {'coverage_prop': '0.953', 'intensity_prop': '0.537', 'ms1ms2_ratio': '0.961', 'efficiency': '1.005', 'TP': '1413', 'FP': '1064', 'FN': '122', 'precision': '0.570', 'recall': '0.921', 'f1': '0.704'}\n",
      "1000000.0 1 0 {'coverage_prop': '0.961', 'intensity_prop': '0.522', 'ms1ms2_ratio': '0.801', 'efficiency': '0.903', 'TP': '1368', 'FP': '1130', 'FN': '101', 'precision': '0.548', 'recall': '0.931', 'f1': '0.690'}\n",
      "1000000.0 1 2 {'coverage_prop': '0.957', 'intensity_prop': '0.522', 'ms1ms2_ratio': '0.821', 'efficiency': '0.912', 'TP': '1360', 'FP': '1127', 'FN': '112', 'precision': '0.547', 'recall': '0.924', 'f1': '0.687'}\n",
      "1000000.0 1 5 {'coverage_prop': '0.953', 'intensity_prop': '0.546', 'ms1ms2_ratio': '0.836', 'efficiency': '0.919', 'TP': '1455', 'FP': '1023', 'FN': '121', 'precision': '0.587', 'recall': '0.923', 'f1': '0.718'}\n",
      "1000000.0 5 0 {'coverage_prop': '0.954', 'intensity_prop': '0.539', 'ms1ms2_ratio': '0.605', 'efficiency': '0.761', 'TP': '1447', 'FP': '1032', 'FN': '120', 'precision': '0.584', 'recall': '0.923', 'f1': '0.715'}\n",
      "1000000.0 5 2 {'coverage_prop': '0.950', 'intensity_prop': '0.538', 'ms1ms2_ratio': '0.627', 'efficiency': '0.772', 'TP': '1429', 'FP': '1039', 'FN': '131', 'precision': '0.579', 'recall': '0.916', 'f1': '0.710'}\n",
      "1000000.0 5 5 {'coverage_prop': '0.945', 'intensity_prop': '0.560', 'ms1ms2_ratio': '0.634', 'efficiency': '0.773', 'TP': '1551', 'FP': '904', 'FN': '144', 'precision': '0.632', 'recall': '0.915', 'f1': '0.747'}\n"
     ]
    }
   ],
   "source": [
    "method = 'SmartROI_Controller'\n",
    "print('method = %s' % method)\n",
    "print()\n",
    "\n",
    "chems = chem_list[0]\n",
    "res = {}\n",
    "for alpha in alphas:\n",
    "    for beta in betas:\n",
    "        for ils in initial_length_seconds_list:\n",
    "\n",
    "            mass_spec = IndependentMassSpectrometer(ionisation_mode, chems, spike_noise=spike_noise)\n",
    "\n",
    "            roi_params = RoiBuilderParams(min_roi_intensity=0, min_roi_length=0)    \n",
    "            smartroi_params = SmartRoiParams(intensity_increase_factor=alpha, drop_perc=beta/100.0, dew=smartroi_dew, initial_length_seconds=ils)\n",
    "            controller = TopN_SmartRoiController(ionisation_mode, isolation_window, smartroi_N, mz_tol, smartroi_dew,\n",
    "                                        min_ms1_intensity, roi_params, smartroi_params)\n",
    "\n",
    "            env = Environment(mass_spec, controller, rt_range[0], rt_range[1], progress_bar=False)\n",
    "            env.run()\n",
    "            eval_res = evaluate(env, intensity_threshold)\n",
    "            key = (alpha, beta, ils)\n",
    "            print(alpha, beta, ils, eval_res)\n",
    "            res[key] = eval_res\n",
    "\n",
    "method_eval_results[method] = res"
   ]
  },
  {
   "cell_type": "markdown",
   "metadata": {
    "pycharm": {
     "name": "#%% md\n"
    }
   },
   "source": [
    "Run WeightedDEW Controller"
   ]
  },
  {
   "cell_type": "code",
   "execution_count": 26,
   "metadata": {
    "pycharm": {
     "name": "#%%\n"
    }
   },
   "outputs": [],
   "source": [
    "t0s = [1, 3, 10, 15, 30, 60]\n",
    "t1s = [15, 60, 120, 240, 360, 3600]\n",
    "weighteddew_N = 15"
   ]
  },
  {
   "cell_type": "code",
   "execution_count": 27,
   "metadata": {
    "pycharm": {
     "name": "#%%\n"
    }
   },
   "outputs": [
    {
     "name": "stdout",
     "output_type": "stream",
     "text": [
      "method = WeightedDEW_Controller\n",
      "\n",
      "1 15 {'coverage_prop': '0.786', 'intensity_prop': '0.554', 'ms1ms2_ratio': '0.097', 'efficiency': '0.339', 'TP': '1650', 'FP': '393', 'FN': '556', 'precision': '0.808', 'recall': '0.748', 'f1': '0.777'}\n",
      "1 60 {'coverage_prop': '0.896', 'intensity_prop': '0.641', 'ms1ms2_ratio': '0.097', 'efficiency': '0.386', 'TP': '1939', 'FP': '389', 'FN': '271', 'precision': '0.833', 'recall': '0.877', 'f1': '0.855'}\n",
      "1 120 {'coverage_prop': '0.923', 'intensity_prop': '0.659', 'ms1ms2_ratio': '0.097', 'efficiency': '0.398', 'TP': '2006', 'FP': '393', 'FN': '200', 'precision': '0.836', 'recall': '0.909', 'f1': '0.871'}\n",
      "1 240 {'coverage_prop': '0.939', 'intensity_prop': '0.661', 'ms1ms2_ratio': '0.097', 'efficiency': '0.405', 'TP': '1995', 'FP': '446', 'FN': '158', 'precision': '0.817', 'recall': '0.927', 'f1': '0.869'}\n",
      "1 360 {'coverage_prop': '0.945', 'intensity_prop': '0.663', 'ms1ms2_ratio': '0.097', 'efficiency': '0.408', 'TP': '1997', 'FP': '460', 'FN': '142', 'precision': '0.813', 'recall': '0.934', 'f1': '0.869'}\n",
      "1 3600 {'coverage_prop': '0.959', 'intensity_prop': '0.663', 'ms1ms2_ratio': '0.097', 'efficiency': '0.414', 'TP': '1988', 'FP': '504', 'FN': '107', 'precision': '0.798', 'recall': '0.949', 'f1': '0.867'}\n",
      "3 15 {'coverage_prop': '0.829', 'intensity_prop': '0.597', 'ms1ms2_ratio': '0.122', 'efficiency': '0.372', 'TP': '1793', 'FP': '362', 'FN': '444', 'precision': '0.832', 'recall': '0.802', 'f1': '0.816'}\n",
      "3 60 {'coverage_prop': '0.914', 'intensity_prop': '0.652', 'ms1ms2_ratio': '0.122', 'efficiency': '0.410', 'TP': '1993', 'FP': '382', 'FN': '224', 'precision': '0.839', 'recall': '0.899', 'f1': '0.868'}\n",
      "3 120 {'coverage_prop': '0.935', 'intensity_prop': '0.662', 'ms1ms2_ratio': '0.122', 'efficiency': '0.420', 'TP': '2014', 'FP': '416', 'FN': '169', 'precision': '0.829', 'recall': '0.923', 'f1': '0.873'}\n",
      "3 240 {'coverage_prop': '0.947', 'intensity_prop': '0.669', 'ms1ms2_ratio': '0.122', 'efficiency': '0.425', 'TP': '2027', 'FP': '435', 'FN': '137', 'precision': '0.823', 'recall': '0.937', 'f1': '0.876'}\n",
      "3 360 {'coverage_prop': '0.952', 'intensity_prop': '0.670', 'ms1ms2_ratio': '0.122', 'efficiency': '0.427', 'TP': '2025', 'FP': '450', 'FN': '124', 'precision': '0.818', 'recall': '0.942', 'f1': '0.876'}\n",
      "3 3600 {'coverage_prop': '0.960', 'intensity_prop': '0.664', 'ms1ms2_ratio': '0.122', 'efficiency': '0.431', 'TP': '1998', 'FP': '496', 'FN': '105', 'precision': '0.801', 'recall': '0.950', 'f1': '0.869'}\n",
      "10 15 {'coverage_prop': '0.885', 'intensity_prop': '0.614', 'ms1ms2_ratio': '0.147', 'efficiency': '0.414', 'TP': '1841', 'FP': '460', 'FN': '298', 'precision': '0.800', 'recall': '0.861', 'f1': '0.829'}\n",
      "10 60 {'coverage_prop': '0.929', 'intensity_prop': '0.636', 'ms1ms2_ratio': '0.148', 'efficiency': '0.435', 'TP': '1914', 'FP': '501', 'FN': '184', 'precision': '0.793', 'recall': '0.912', 'f1': '0.848'}\n",
      "10 120 {'coverage_prop': '0.943', 'intensity_prop': '0.642', 'ms1ms2_ratio': '0.147', 'efficiency': '0.440', 'TP': '1924', 'FP': '526', 'FN': '149', 'precision': '0.785', 'recall': '0.928', 'f1': '0.851'}\n",
      "10 240 {'coverage_prop': '0.948', 'intensity_prop': '0.643', 'ms1ms2_ratio': '0.147', 'efficiency': '0.443', 'TP': '1924', 'FP': '540', 'FN': '135', 'precision': '0.781', 'recall': '0.934', 'f1': '0.851'}\n",
      "10 360 {'coverage_prop': '0.950', 'intensity_prop': '0.642', 'ms1ms2_ratio': '0.148', 'efficiency': '0.444', 'TP': '1920', 'FP': '549', 'FN': '130', 'precision': '0.778', 'recall': '0.937', 'f1': '0.850'}\n",
      "10 3600 {'coverage_prop': '0.959', 'intensity_prop': '0.641', 'ms1ms2_ratio': '0.147', 'efficiency': '0.448', 'TP': '1910', 'FP': '582', 'FN': '107', 'precision': '0.766', 'recall': '0.947', 'f1': '0.847'}\n",
      "15 15 {'coverage_prop': '0.900', 'intensity_prop': '0.603', 'ms1ms2_ratio': '0.205', 'efficiency': '0.458', 'TP': '1775', 'FP': '563', 'FN': '261', 'precision': '0.759', 'recall': '0.872', 'f1': '0.812'}\n",
      "15 60 {'coverage_prop': '0.934', 'intensity_prop': '0.612', 'ms1ms2_ratio': '0.204', 'efficiency': '0.475', 'TP': '1789', 'FP': '639', 'FN': '171', 'precision': '0.737', 'recall': '0.913', 'f1': '0.815'}\n",
      "15 120 {'coverage_prop': '0.946', 'intensity_prop': '0.621', 'ms1ms2_ratio': '0.204', 'efficiency': '0.481', 'TP': '1833', 'FP': '625', 'FN': '141', 'precision': '0.746', 'recall': '0.929', 'f1': '0.827'}\n",
      "15 240 {'coverage_prop': '0.952', 'intensity_prop': '0.623', 'ms1ms2_ratio': '0.206', 'efficiency': '0.485', 'TP': '1811', 'FP': '664', 'FN': '124', 'precision': '0.732', 'recall': '0.936', 'f1': '0.821'}\n",
      "15 360 {'coverage_prop': '0.954', 'intensity_prop': '0.623', 'ms1ms2_ratio': '0.202', 'efficiency': '0.484', 'TP': '1837', 'FP': '643', 'FN': '119', 'precision': '0.741', 'recall': '0.939', 'f1': '0.828'}\n",
      "15 3600 {'coverage_prop': '0.962', 'intensity_prop': '0.620', 'ms1ms2_ratio': '0.204', 'efficiency': '0.489', 'TP': '1814', 'FP': '686', 'FN': '99', 'precision': '0.726', 'recall': '0.948', 'f1': '0.822'}\n",
      "Invalid combination\n",
      "30 60 {'coverage_prop': '0.948', 'intensity_prop': '0.568', 'ms1ms2_ratio': '0.424', 'efficiency': '0.633', 'TP': '1594', 'FP': '869', 'FN': '136', 'precision': '0.647', 'recall': '0.921', 'f1': '0.760'}\n",
      "30 120 {'coverage_prop': '0.953', 'intensity_prop': '0.572', 'ms1ms2_ratio': '0.426', 'efficiency': '0.637', 'TP': '1584', 'FP': '893', 'FN': '122', 'precision': '0.639', 'recall': '0.928', 'f1': '0.757'}\n",
      "30 240 {'coverage_prop': '0.956', 'intensity_prop': '0.571', 'ms1ms2_ratio': '0.427', 'efficiency': '0.640', 'TP': '1592', 'FP': '893', 'FN': '114', 'precision': '0.641', 'recall': '0.933', 'f1': '0.760'}\n",
      "30 360 {'coverage_prop': '0.958', 'intensity_prop': '0.570', 'ms1ms2_ratio': '0.425', 'efficiency': '0.640', 'TP': '1582', 'FP': '908', 'FN': '109', 'precision': '0.635', 'recall': '0.936', 'f1': '0.757'}\n",
      "30 3600 {'coverage_prop': '0.964', 'intensity_prop': '0.570', 'ms1ms2_ratio': '0.425', 'efficiency': '0.644', 'TP': '1584', 'FP': '921', 'FN': '94', 'precision': '0.632', 'recall': '0.944', 'f1': '0.757'}\n",
      "Invalid combination\n",
      "60 60 {'coverage_prop': '0.955', 'intensity_prop': '0.537', 'ms1ms2_ratio': '0.644', 'efficiency': '0.789', 'TP': '1437', 'FP': '1045', 'FN': '117', 'precision': '0.579', 'recall': '0.925', 'f1': '0.712'}\n",
      "60 120 {'coverage_prop': '0.959', 'intensity_prop': '0.535', 'ms1ms2_ratio': '0.643', 'efficiency': '0.791', 'TP': '1443', 'FP': '1049', 'FN': '107', 'precision': '0.579', 'recall': '0.931', 'f1': '0.714'}\n",
      "60 240 {'coverage_prop': '0.961', 'intensity_prop': '0.534', 'ms1ms2_ratio': '0.643', 'efficiency': '0.793', 'TP': '1434', 'FP': '1063', 'FN': '102', 'precision': '0.574', 'recall': '0.934', 'f1': '0.711'}\n",
      "60 360 {'coverage_prop': '0.960', 'intensity_prop': '0.535', 'ms1ms2_ratio': '0.644', 'efficiency': '0.793', 'TP': '1445', 'FP': '1051', 'FN': '103', 'precision': '0.579', 'recall': '0.933', 'f1': '0.715'}\n",
      "60 3600 {'coverage_prop': '0.965', 'intensity_prop': '0.536', 'ms1ms2_ratio': '0.645', 'efficiency': '0.798', 'TP': '1435', 'FP': '1074', 'FN': '90', 'precision': '0.572', 'recall': '0.941', 'f1': '0.711'}\n"
     ]
    }
   ],
   "source": [
    "method = 'WeightedDEW_Controller'\n",
    "print('method = %s' % method)\n",
    "print()\n",
    "\n",
    "chems = chem_list[0]\n",
    "res = {}\n",
    "for t0 in t0s:\n",
    "    for t1 in t1s:\n",
    "\n",
    "        if t0 > t1:\n",
    "            print('Invalid combination')\n",
    "            continue\n",
    "        \n",
    "        mass_spec = IndependentMassSpectrometer(ionisation_mode, chems, spike_noise=spike_noise)\n",
    "        \n",
    "        controller = WeightedDEWController(ionisation_mode, weighteddew_N, isolation_window, mz_tol, t1,\n",
    "                                    min_ms1_intensity, exclusion_t_0=t0)\n",
    "        \n",
    "        env = Environment(mass_spec, controller, rt_range[0], rt_range[1], progress_bar=False)\n",
    "        env.run()\n",
    "        eval_res = evaluate(env, intensity_threshold)\n",
    "        key = (t0, t1)\n",
    "        print(t0, t1, eval_res)\n",
    "        res[key] = eval_res\n",
    "        \n",
    "method_eval_results[method] = res"
   ]
  },
  {
   "cell_type": "code",
   "execution_count": null,
   "metadata": {},
   "outputs": [],
   "source": []
  }
 ],
 "metadata": {
  "kernelspec": {
   "display_name": "Python 3 (ipykernel)",
   "language": "python",
   "name": "python3"
  },
  "language_info": {
   "codemirror_mode": {
    "name": "ipython",
    "version": 3
   },
   "file_extension": ".py",
   "mimetype": "text/x-python",
   "name": "python",
   "nbconvert_exporter": "python",
   "pygments_lexer": "ipython3",
   "version": "3.9.12"
  }
 },
 "nbformat": 4,
 "nbformat_minor": 4
}
