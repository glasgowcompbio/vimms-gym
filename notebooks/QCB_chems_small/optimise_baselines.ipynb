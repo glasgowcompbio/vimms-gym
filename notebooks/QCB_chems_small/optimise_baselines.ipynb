{
 "cells": [
  {
   "cell_type": "code",
   "execution_count": 1,
   "metadata": {
    "tags": []
   },
   "outputs": [],
   "source": [
    "%matplotlib inline\n",
    "\n",
    "%load_ext autoreload\n",
    "%autoreload 2"
   ]
  },
  {
   "cell_type": "code",
   "execution_count": 2,
   "metadata": {},
   "outputs": [],
   "source": [
    "import os\n",
    "import sys\n",
    "from os.path import exists\n",
    "\n",
    "sys.path.append('../..')"
   ]
  },
  {
   "cell_type": "code",
   "execution_count": 3,
   "metadata": {
    "tags": []
   },
   "outputs": [],
   "source": [
    "import pylab as plt\n",
    "import pandas as pd\n",
    "import numpy as np\n",
    "from loguru import logger\n",
    "import seaborn as sns\n",
    "\n",
    "from stable_baselines3 import PPO, DQN"
   ]
  },
  {
   "cell_type": "code",
   "execution_count": 4,
   "metadata": {
    "tags": []
   },
   "outputs": [],
   "source": [
    "from vimms.Common import POSITIVE, set_log_level_warning, load_obj, save_obj\n",
    "from vimms.ChemicalSamplers import UniformRTAndIntensitySampler, GaussianChromatogramSampler, UniformMZFormulaSampler, \\\n",
    "    MZMLFormulaSampler, MZMLRTandIntensitySampler, MZMLChromatogramSampler\n",
    "from vimms.Noise import UniformSpikeNoise\n",
    "from vimms.Evaluation import evaluate_real\n",
    "from vimms.Chemicals import ChemicalMixtureFromMZML\n",
    "from vimms.Roi import RoiBuilderParams, SmartRoiParams\n",
    "\n",
    "from mass_spec_utils.data_import.mzmine import load_picked_boxes\n",
    "\n",
    "from vimms_gym.env import DDAEnv\n",
    "from vimms_gym.chemicals import generate_chemicals\n",
    "from vimms_gym.evaluation import evaluate, run_method\n",
    "from vimms_gym.common import METHOD_RANDOM, METHOD_FULLSCAN, METHOD_TOPN, METHOD_PPO, METHOD_DQN"
   ]
  },
  {
   "cell_type": "markdown",
   "metadata": {},
   "source": [
    "# 1. Parameters"
   ]
  },
  {
   "cell_type": "code",
   "execution_count": 5,
   "metadata": {
    "pycharm": {
     "name": "#%%\n"
    }
   },
   "outputs": [],
   "source": [
    "n_chemicals = (20, 50)\n",
    "mz_range = (100, 110)\n",
    "rt_range = (400, 500)\n",
    "intensity_range = (1E4, 1E20)"
   ]
  },
  {
   "cell_type": "code",
   "execution_count": 6,
   "metadata": {
    "pycharm": {
     "name": "#%%\n"
    },
    "scrolled": true
   },
   "outputs": [],
   "source": [
    "min_mz = mz_range[0]\n",
    "max_mz = mz_range[1]\n",
    "min_rt = rt_range[0]\n",
    "max_rt = rt_range[1]\n",
    "min_log_intensity = np.log(intensity_range[0])\n",
    "max_log_intensity = np.log(intensity_range[1])"
   ]
  },
  {
   "cell_type": "code",
   "execution_count": 7,
   "metadata": {
    "pycharm": {
     "name": "#%%\n"
    }
   },
   "outputs": [],
   "source": [
    "isolation_window = 0.7\n",
    "N = 10\n",
    "rt_tol = 120\n",
    "exclusion_t_0 = 15\n",
    "mz_tol = 10\n",
    "min_ms1_intensity = 5000\n",
    "ionisation_mode = POSITIVE\n",
    "\n",
    "enable_spike_noise = True\n",
    "noise_density = 0.1\n",
    "noise_max_val = 1E3"
   ]
  },
  {
   "cell_type": "code",
   "execution_count": 8,
   "metadata": {
    "pycharm": {
     "name": "#%%\n"
    }
   },
   "outputs": [
    {
     "name": "stderr",
     "output_type": "stream",
     "text": [
      "2022-07-25 15:37:03.034 | INFO     | __main__:<module>:5 - Loaded samplers_fullscan_QCB.mzML.p\n"
     ]
    }
   ],
   "source": [
    "mzml_filename = '../fullscan_QCB.mzML'\n",
    "samplers = None\n",
    "samplers_pickle = 'samplers_QCB_small.p'\n",
    "if exists(samplers_pickle):\n",
    "    logger.info('Loaded %s' % samplers_pickle)\n",
    "    samplers = load_obj(samplers_pickle)\n",
    "    mz_sampler = samplers['mz']\n",
    "    ri_sampler = samplers['rt_intensity']\n",
    "    cr_sampler = samplers['chromatogram']\n",
    "else:\n",
    "    logger.info('Creating samplers from %s' % mzml_filename)\n",
    "    mz_sampler = MZMLFormulaSampler(mzml_filename, min_mz=min_mz, max_mz=max_mz)\n",
    "    ri_sampler = MZMLRTandIntensitySampler(mzml_filename, min_rt=min_rt, max_rt=max_rt,\n",
    "                                           min_log_intensity=min_log_intensity,\n",
    "                                           max_log_intensity=max_log_intensity)\n",
    "    roi_params = RoiBuilderParams(min_roi_length=3, at_least_one_point_above=1000)\n",
    "    cr_sampler = MZMLChromatogramSampler(mzml_filename, roi_params=roi_params)\n",
    "    samplers = {\n",
    "        'mz': mz_sampler,\n",
    "        'rt_intensity': ri_sampler,\n",
    "        'chromatogram': cr_sampler\n",
    "    }\n",
    "    save_obj(samplers, samplers_pickle)"
   ]
  },
  {
   "cell_type": "code",
   "execution_count": 9,
   "metadata": {
    "pycharm": {
     "name": "#%%\n"
    }
   },
   "outputs": [],
   "source": [
    "params = {\n",
    "    'chemical_creator': {\n",
    "        'mz_range': mz_range,\n",
    "        'rt_range': rt_range,\n",
    "        'intensity_range': intensity_range,\n",
    "        'n_chemicals': n_chemicals,\n",
    "        'mz_sampler': mz_sampler,\n",
    "        'ri_sampler': ri_sampler,\n",
    "        'cr_sampler': GaussianChromatogramSampler(),\n",
    "    },\n",
    "    'noise': {\n",
    "        'enable_spike_noise': enable_spike_noise,\n",
    "        'noise_density': noise_density,\n",
    "        'noise_max_val': noise_max_val,\n",
    "        'mz_range': mz_range\n",
    "    },\n",
    "    'env': {\n",
    "        'ionisation_mode': ionisation_mode,\n",
    "        'rt_range': rt_range,\n",
    "        'isolation_window': isolation_window,\n",
    "        'mz_tol': mz_tol,\n",
    "        'rt_tol': rt_tol,\n",
    "    }\n",
    "}"
   ]
  },
  {
   "cell_type": "code",
   "execution_count": 10,
   "metadata": {
    "pycharm": {
     "name": "#%%\n"
    }
   },
   "outputs": [],
   "source": [
    "max_peaks = 100\n",
    "in_dir = 'results'"
   ]
  },
  {
   "cell_type": "code",
   "execution_count": 11,
   "metadata": {
    "pycharm": {
     "name": "#%%\n"
    }
   },
   "outputs": [],
   "source": [
    "n_eval_episodes = 1\n",
    "deterministic = True"
   ]
  },
  {
   "cell_type": "markdown",
   "metadata": {
    "tags": []
   },
   "source": [
    "# 2. Evaluation"
   ]
  },
  {
   "cell_type": "markdown",
   "metadata": {},
   "source": [
    "#### Generate some chemical sets"
   ]
  },
  {
   "cell_type": "code",
   "execution_count": 12,
   "metadata": {},
   "outputs": [
    {
     "data": {
      "text/plain": [
       "1"
      ]
     },
     "execution_count": 12,
     "metadata": {},
     "output_type": "execute_result"
    }
   ],
   "source": [
    "set_log_level_warning()"
   ]
  },
  {
   "cell_type": "code",
   "execution_count": 13,
   "metadata": {},
   "outputs": [],
   "source": [
    "eval_dir = 'optimise_baselines'\n",
    "method = METHOD_TOPN"
   ]
  },
  {
   "cell_type": "code",
   "execution_count": 14,
   "metadata": {},
   "outputs": [
    {
     "name": "stdout",
     "output_type": "stream",
     "text": [
      "0\n"
     ]
    }
   ],
   "source": [
    "chemical_creator_params = params['chemical_creator']\n",
    "\n",
    "chem_list = []\n",
    "for i in range(n_eval_episodes):\n",
    "    print(i)\n",
    "    chems = generate_chemicals(chemical_creator_params)\n",
    "    chem_list.append(chems)"
   ]
  },
  {
   "cell_type": "markdown",
   "metadata": {},
   "source": [
    "#### Run different methods"
   ]
  },
  {
   "cell_type": "code",
   "execution_count": 15,
   "metadata": {},
   "outputs": [
    {
     "name": "stdout",
     "output_type": "stream",
     "text": [
      "31\n"
     ]
    }
   ],
   "source": [
    "for chems in chem_list:\n",
    "    print(len(chems))"
   ]
  },
  {
   "cell_type": "code",
   "execution_count": 16,
   "metadata": {},
   "outputs": [
    {
     "data": {
      "text/plain": [
       "100"
      ]
     },
     "execution_count": 16,
     "metadata": {},
     "output_type": "execute_result"
    }
   ],
   "source": [
    "max_peaks"
   ]
  },
  {
   "cell_type": "code",
   "execution_count": 17,
   "metadata": {},
   "outputs": [
    {
     "data": {
      "text/plain": [
       "('results', 'optimise_baselines')"
      ]
     },
     "execution_count": 17,
     "metadata": {},
     "output_type": "execute_result"
    }
   ],
   "source": [
    "out_dir = eval_dir\n",
    "in_dir, out_dir"
   ]
  },
  {
   "cell_type": "markdown",
   "metadata": {},
   "source": [
    "#### Compare to Top-10"
   ]
  },
  {
   "cell_type": "code",
   "execution_count": 18,
   "metadata": {},
   "outputs": [],
   "source": [
    "env_name = 'DDAEnv'\n",
    "model_name = 'PPO'\n",
    "intensity_threshold = 0.5"
   ]
  },
  {
   "cell_type": "code",
   "execution_count": 19,
   "metadata": {},
   "outputs": [],
   "source": [
    "rt_tols = [15, 30, 60, 120, 240, 300]\n",
    "Ns = [5, 10, 15, 20, 25]"
   ]
  },
  {
   "cell_type": "code",
   "execution_count": 20,
   "metadata": {},
   "outputs": [
    {
     "name": "stdout",
     "output_type": "stream",
     "text": [
      "method = topN max_peaks = 100 N = 5 rt_tol = 15\n",
      "\n",
      "{'coverage_prop': '1.000', 'intensity_prop': '0.858', 'ms1/ms2 ratio': '3.354', 'efficiency': '0.477', 'TP': '12', 'FP': '4', 'FN': '15', 'precision': '0.750', 'recall': '0.444', 'f1': '0.558'}\n",
      "\n",
      "method = topN max_peaks = 100 N = 10 rt_tol = 15\n",
      "\n",
      "{'coverage_prop': '1.000', 'intensity_prop': '0.858', 'ms1/ms2 ratio': '3.354', 'efficiency': '0.477', 'TP': '12', 'FP': '4', 'FN': '15', 'precision': '0.750', 'recall': '0.444', 'f1': '0.558'}\n",
      "\n",
      "method = topN max_peaks = 100 N = 15 rt_tol = 15\n",
      "\n",
      "{'coverage_prop': '1.000', 'intensity_prop': '0.858', 'ms1/ms2 ratio': '3.354', 'efficiency': '0.477', 'TP': '12', 'FP': '4', 'FN': '15', 'precision': '0.750', 'recall': '0.444', 'f1': '0.558'}\n",
      "\n",
      "method = topN max_peaks = 100 N = 20 rt_tol = 15\n",
      "\n",
      "{'coverage_prop': '1.000', 'intensity_prop': '0.858', 'ms1/ms2 ratio': '3.354', 'efficiency': '0.477', 'TP': '12', 'FP': '4', 'FN': '15', 'precision': '0.750', 'recall': '0.444', 'f1': '0.558'}\n",
      "\n",
      "method = topN max_peaks = 100 N = 25 rt_tol = 15\n",
      "\n",
      "{'coverage_prop': '1.000', 'intensity_prop': '0.858', 'ms1/ms2 ratio': '3.354', 'efficiency': '0.477', 'TP': '12', 'FP': '4', 'FN': '15', 'precision': '0.750', 'recall': '0.444', 'f1': '0.558'}\n",
      "\n",
      "method = topN max_peaks = 100 N = 5 rt_tol = 30\n",
      "\n",
      "{'coverage_prop': '1.000', 'intensity_prop': '0.712', 'ms1/ms2 ratio': '5.923', 'efficiency': '0.795', 'TP': '7', 'FP': '8', 'FN': '16', 'precision': '0.467', 'recall': '0.304', 'f1': '0.368'}\n",
      "\n",
      "method = topN max_peaks = 100 N = 10 rt_tol = 30\n",
      "\n",
      "{'coverage_prop': '1.000', 'intensity_prop': '0.712', 'ms1/ms2 ratio': '5.923', 'efficiency': '0.795', 'TP': '7', 'FP': '8', 'FN': '16', 'precision': '0.467', 'recall': '0.304', 'f1': '0.368'}\n",
      "\n",
      "method = topN max_peaks = 100 N = 15 rt_tol = 30\n",
      "\n",
      "{'coverage_prop': '1.000', 'intensity_prop': '0.712', 'ms1/ms2 ratio': '5.923', 'efficiency': '0.795', 'TP': '7', 'FP': '8', 'FN': '16', 'precision': '0.467', 'recall': '0.304', 'f1': '0.368'}\n",
      "\n",
      "method = topN max_peaks = 100 N = 20 rt_tol = 30\n",
      "\n",
      "{'coverage_prop': '1.000', 'intensity_prop': '0.712', 'ms1/ms2 ratio': '5.923', 'efficiency': '0.795', 'TP': '7', 'FP': '8', 'FN': '16', 'precision': '0.467', 'recall': '0.304', 'f1': '0.368'}\n",
      "\n",
      "method = topN max_peaks = 100 N = 25 rt_tol = 30\n",
      "\n",
      "{'coverage_prop': '1.000', 'intensity_prop': '0.712', 'ms1/ms2 ratio': '5.923', 'efficiency': '0.795', 'TP': '7', 'FP': '8', 'FN': '16', 'precision': '0.467', 'recall': '0.304', 'f1': '0.368'}\n",
      "\n",
      "method = topN max_peaks = 100 N = 5 rt_tol = 60\n",
      "\n",
      "{'coverage_prop': '1.000', 'intensity_prop': '0.691', 'ms1/ms2 ratio': '7.581', 'efficiency': '1.000', 'TP': '5', 'FP': '10', 'FN': '16', 'precision': '0.333', 'recall': '0.238', 'f1': '0.278'}\n",
      "\n",
      "method = topN max_peaks = 100 N = 10 rt_tol = 60\n",
      "\n",
      "{'coverage_prop': '1.000', 'intensity_prop': '0.691', 'ms1/ms2 ratio': '7.581', 'efficiency': '1.000', 'TP': '5', 'FP': '10', 'FN': '16', 'precision': '0.333', 'recall': '0.238', 'f1': '0.278'}\n",
      "\n",
      "method = topN max_peaks = 100 N = 15 rt_tol = 60\n",
      "\n",
      "{'coverage_prop': '1.000', 'intensity_prop': '0.691', 'ms1/ms2 ratio': '7.581', 'efficiency': '1.000', 'TP': '5', 'FP': '10', 'FN': '16', 'precision': '0.333', 'recall': '0.238', 'f1': '0.278'}\n",
      "\n",
      "method = topN max_peaks = 100 N = 20 rt_tol = 60\n",
      "\n",
      "{'coverage_prop': '1.000', 'intensity_prop': '0.691', 'ms1/ms2 ratio': '7.581', 'efficiency': '1.000', 'TP': '5', 'FP': '10', 'FN': '16', 'precision': '0.333', 'recall': '0.238', 'f1': '0.278'}\n",
      "\n",
      "method = topN max_peaks = 100 N = 25 rt_tol = 60\n",
      "\n",
      "{'coverage_prop': '1.000', 'intensity_prop': '0.691', 'ms1/ms2 ratio': '7.581', 'efficiency': '1.000', 'TP': '5', 'FP': '10', 'FN': '16', 'precision': '0.333', 'recall': '0.238', 'f1': '0.278'}\n",
      "\n",
      "method = topN max_peaks = 100 N = 5 rt_tol = 120\n",
      "\n",
      "{'coverage_prop': '1.000', 'intensity_prop': '0.691', 'ms1/ms2 ratio': '7.581', 'efficiency': '1.000', 'TP': '5', 'FP': '10', 'FN': '16', 'precision': '0.333', 'recall': '0.238', 'f1': '0.278'}\n",
      "\n",
      "method = topN max_peaks = 100 N = 10 rt_tol = 120\n",
      "\n",
      "{'coverage_prop': '1.000', 'intensity_prop': '0.691', 'ms1/ms2 ratio': '7.581', 'efficiency': '1.000', 'TP': '5', 'FP': '10', 'FN': '16', 'precision': '0.333', 'recall': '0.238', 'f1': '0.278'}\n",
      "\n",
      "method = topN max_peaks = 100 N = 15 rt_tol = 120\n",
      "\n",
      "{'coverage_prop': '1.000', 'intensity_prop': '0.691', 'ms1/ms2 ratio': '7.581', 'efficiency': '1.000', 'TP': '5', 'FP': '10', 'FN': '16', 'precision': '0.333', 'recall': '0.238', 'f1': '0.278'}\n",
      "\n",
      "method = topN max_peaks = 100 N = 20 rt_tol = 120\n",
      "\n",
      "{'coverage_prop': '1.000', 'intensity_prop': '0.691', 'ms1/ms2 ratio': '7.581', 'efficiency': '1.000', 'TP': '5', 'FP': '10', 'FN': '16', 'precision': '0.333', 'recall': '0.238', 'f1': '0.278'}\n",
      "\n",
      "method = topN max_peaks = 100 N = 25 rt_tol = 120\n",
      "\n",
      "{'coverage_prop': '1.000', 'intensity_prop': '0.691', 'ms1/ms2 ratio': '7.581', 'efficiency': '1.000', 'TP': '5', 'FP': '10', 'FN': '16', 'precision': '0.333', 'recall': '0.238', 'f1': '0.278'}\n",
      "\n",
      "method = topN max_peaks = 100 N = 5 rt_tol = 240\n",
      "\n",
      "{'coverage_prop': '1.000', 'intensity_prop': '0.691', 'ms1/ms2 ratio': '7.581', 'efficiency': '1.000', 'TP': '5', 'FP': '10', 'FN': '16', 'precision': '0.333', 'recall': '0.238', 'f1': '0.278'}\n",
      "\n",
      "method = topN max_peaks = 100 N = 10 rt_tol = 240\n",
      "\n",
      "{'coverage_prop': '1.000', 'intensity_prop': '0.691', 'ms1/ms2 ratio': '7.581', 'efficiency': '1.000', 'TP': '5', 'FP': '10', 'FN': '16', 'precision': '0.333', 'recall': '0.238', 'f1': '0.278'}\n",
      "\n",
      "method = topN max_peaks = 100 N = 15 rt_tol = 240\n",
      "\n",
      "{'coverage_prop': '1.000', 'intensity_prop': '0.691', 'ms1/ms2 ratio': '7.581', 'efficiency': '1.000', 'TP': '5', 'FP': '10', 'FN': '16', 'precision': '0.333', 'recall': '0.238', 'f1': '0.278'}\n",
      "\n",
      "method = topN max_peaks = 100 N = 20 rt_tol = 240\n",
      "\n",
      "{'coverage_prop': '1.000', 'intensity_prop': '0.691', 'ms1/ms2 ratio': '7.581', 'efficiency': '1.000', 'TP': '5', 'FP': '10', 'FN': '16', 'precision': '0.333', 'recall': '0.238', 'f1': '0.278'}\n",
      "\n",
      "method = topN max_peaks = 100 N = 25 rt_tol = 240\n",
      "\n",
      "{'coverage_prop': '1.000', 'intensity_prop': '0.691', 'ms1/ms2 ratio': '7.581', 'efficiency': '1.000', 'TP': '5', 'FP': '10', 'FN': '16', 'precision': '0.333', 'recall': '0.238', 'f1': '0.278'}\n",
      "\n",
      "method = topN max_peaks = 100 N = 5 rt_tol = 300\n",
      "\n",
      "{'coverage_prop': '1.000', 'intensity_prop': '0.691', 'ms1/ms2 ratio': '7.581', 'efficiency': '1.000', 'TP': '5', 'FP': '10', 'FN': '16', 'precision': '0.333', 'recall': '0.238', 'f1': '0.278'}\n",
      "\n",
      "method = topN max_peaks = 100 N = 10 rt_tol = 300\n",
      "\n",
      "{'coverage_prop': '1.000', 'intensity_prop': '0.691', 'ms1/ms2 ratio': '7.581', 'efficiency': '1.000', 'TP': '5', 'FP': '10', 'FN': '16', 'precision': '0.333', 'recall': '0.238', 'f1': '0.278'}\n",
      "\n",
      "method = topN max_peaks = 100 N = 15 rt_tol = 300\n",
      "\n",
      "{'coverage_prop': '1.000', 'intensity_prop': '0.691', 'ms1/ms2 ratio': '7.581', 'efficiency': '1.000', 'TP': '5', 'FP': '10', 'FN': '16', 'precision': '0.333', 'recall': '0.238', 'f1': '0.278'}\n",
      "\n",
      "method = topN max_peaks = 100 N = 20 rt_tol = 300\n",
      "\n",
      "{'coverage_prop': '1.000', 'intensity_prop': '0.691', 'ms1/ms2 ratio': '7.581', 'efficiency': '1.000', 'TP': '5', 'FP': '10', 'FN': '16', 'precision': '0.333', 'recall': '0.238', 'f1': '0.278'}\n",
      "\n",
      "method = topN max_peaks = 100 N = 25 rt_tol = 300\n",
      "\n",
      "{'coverage_prop': '1.000', 'intensity_prop': '0.691', 'ms1/ms2 ratio': '7.581', 'efficiency': '1.000', 'TP': '5', 'FP': '10', 'FN': '16', 'precision': '0.333', 'recall': '0.238', 'f1': '0.278'}\n",
      "\n"
     ]
    }
   ],
   "source": [
    "topN_res = {}\n",
    "for rt_tol in rt_tols:\n",
    "    for N in Ns:\n",
    "\n",
    "        effective_rt_tol = rt_tol\n",
    "        copy_params = dict(params)        \n",
    "        copy_params['env']['rt_tol'] = effective_rt_tol\n",
    "\n",
    "        banner = 'method = %s max_peaks = %d N = %d rt_tol = %d' % (method, max_peaks, N, effective_rt_tol)\n",
    "        print(banner)\n",
    "        print()\n",
    "\n",
    "        if method == METHOD_PPO:\n",
    "            fname = os.path.join(in_dir, '%s_%s.zip' % (env_name, model_name))\n",
    "            model = PPO.load(fname)\n",
    "        elif method == METHOD_DQN:\n",
    "            fname = os.path.join(in_dir, '%s_%s.zip' % (env_name, model_name))\n",
    "            model = DQN.load(fname)\n",
    "        else:\n",
    "            model = None\n",
    "\n",
    "        episodic_results = run_method(env_name, copy_params, max_peaks, chem_list, method, out_dir, \n",
    "                                      N=N, min_ms1_intensity=min_ms1_intensity, model=model,\n",
    "                                      print_eval=True, print_reward=False, intensity_threshold=intensity_threshold)\n",
    "        eval_results = [er.eval_res for er in episodic_results][0]\n",
    "\n",
    "        key = (N, rt_tol)\n",
    "        topN_res[key] = eval_results\n",
    "        print()"
   ]
  },
  {
   "cell_type": "code",
   "execution_count": 21,
   "metadata": {
    "tags": []
   },
   "outputs": [
    {
     "data": {
      "text/plain": [
       "{(5, 15): {'coverage_prop': '1.000',\n",
       "  'intensity_prop': '0.858',\n",
       "  'ms1/ms2 ratio': '3.354',\n",
       "  'efficiency': '0.477',\n",
       "  'TP': '12',\n",
       "  'FP': '4',\n",
       "  'FN': '15',\n",
       "  'precision': '0.750',\n",
       "  'recall': '0.444',\n",
       "  'f1': '0.558'},\n",
       " (10, 15): {'coverage_prop': '1.000',\n",
       "  'intensity_prop': '0.858',\n",
       "  'ms1/ms2 ratio': '3.354',\n",
       "  'efficiency': '0.477',\n",
       "  'TP': '12',\n",
       "  'FP': '4',\n",
       "  'FN': '15',\n",
       "  'precision': '0.750',\n",
       "  'recall': '0.444',\n",
       "  'f1': '0.558'},\n",
       " (15, 15): {'coverage_prop': '1.000',\n",
       "  'intensity_prop': '0.858',\n",
       "  'ms1/ms2 ratio': '3.354',\n",
       "  'efficiency': '0.477',\n",
       "  'TP': '12',\n",
       "  'FP': '4',\n",
       "  'FN': '15',\n",
       "  'precision': '0.750',\n",
       "  'recall': '0.444',\n",
       "  'f1': '0.558'},\n",
       " (20, 15): {'coverage_prop': '1.000',\n",
       "  'intensity_prop': '0.858',\n",
       "  'ms1/ms2 ratio': '3.354',\n",
       "  'efficiency': '0.477',\n",
       "  'TP': '12',\n",
       "  'FP': '4',\n",
       "  'FN': '15',\n",
       "  'precision': '0.750',\n",
       "  'recall': '0.444',\n",
       "  'f1': '0.558'},\n",
       " (25, 15): {'coverage_prop': '1.000',\n",
       "  'intensity_prop': '0.858',\n",
       "  'ms1/ms2 ratio': '3.354',\n",
       "  'efficiency': '0.477',\n",
       "  'TP': '12',\n",
       "  'FP': '4',\n",
       "  'FN': '15',\n",
       "  'precision': '0.750',\n",
       "  'recall': '0.444',\n",
       "  'f1': '0.558'},\n",
       " (5, 30): {'coverage_prop': '1.000',\n",
       "  'intensity_prop': '0.712',\n",
       "  'ms1/ms2 ratio': '5.923',\n",
       "  'efficiency': '0.795',\n",
       "  'TP': '7',\n",
       "  'FP': '8',\n",
       "  'FN': '16',\n",
       "  'precision': '0.467',\n",
       "  'recall': '0.304',\n",
       "  'f1': '0.368'},\n",
       " (10, 30): {'coverage_prop': '1.000',\n",
       "  'intensity_prop': '0.712',\n",
       "  'ms1/ms2 ratio': '5.923',\n",
       "  'efficiency': '0.795',\n",
       "  'TP': '7',\n",
       "  'FP': '8',\n",
       "  'FN': '16',\n",
       "  'precision': '0.467',\n",
       "  'recall': '0.304',\n",
       "  'f1': '0.368'},\n",
       " (15, 30): {'coverage_prop': '1.000',\n",
       "  'intensity_prop': '0.712',\n",
       "  'ms1/ms2 ratio': '5.923',\n",
       "  'efficiency': '0.795',\n",
       "  'TP': '7',\n",
       "  'FP': '8',\n",
       "  'FN': '16',\n",
       "  'precision': '0.467',\n",
       "  'recall': '0.304',\n",
       "  'f1': '0.368'},\n",
       " (20, 30): {'coverage_prop': '1.000',\n",
       "  'intensity_prop': '0.712',\n",
       "  'ms1/ms2 ratio': '5.923',\n",
       "  'efficiency': '0.795',\n",
       "  'TP': '7',\n",
       "  'FP': '8',\n",
       "  'FN': '16',\n",
       "  'precision': '0.467',\n",
       "  'recall': '0.304',\n",
       "  'f1': '0.368'},\n",
       " (25, 30): {'coverage_prop': '1.000',\n",
       "  'intensity_prop': '0.712',\n",
       "  'ms1/ms2 ratio': '5.923',\n",
       "  'efficiency': '0.795',\n",
       "  'TP': '7',\n",
       "  'FP': '8',\n",
       "  'FN': '16',\n",
       "  'precision': '0.467',\n",
       "  'recall': '0.304',\n",
       "  'f1': '0.368'},\n",
       " (5, 60): {'coverage_prop': '1.000',\n",
       "  'intensity_prop': '0.691',\n",
       "  'ms1/ms2 ratio': '7.581',\n",
       "  'efficiency': '1.000',\n",
       "  'TP': '5',\n",
       "  'FP': '10',\n",
       "  'FN': '16',\n",
       "  'precision': '0.333',\n",
       "  'recall': '0.238',\n",
       "  'f1': '0.278'},\n",
       " (10, 60): {'coverage_prop': '1.000',\n",
       "  'intensity_prop': '0.691',\n",
       "  'ms1/ms2 ratio': '7.581',\n",
       "  'efficiency': '1.000',\n",
       "  'TP': '5',\n",
       "  'FP': '10',\n",
       "  'FN': '16',\n",
       "  'precision': '0.333',\n",
       "  'recall': '0.238',\n",
       "  'f1': '0.278'},\n",
       " (15, 60): {'coverage_prop': '1.000',\n",
       "  'intensity_prop': '0.691',\n",
       "  'ms1/ms2 ratio': '7.581',\n",
       "  'efficiency': '1.000',\n",
       "  'TP': '5',\n",
       "  'FP': '10',\n",
       "  'FN': '16',\n",
       "  'precision': '0.333',\n",
       "  'recall': '0.238',\n",
       "  'f1': '0.278'},\n",
       " (20, 60): {'coverage_prop': '1.000',\n",
       "  'intensity_prop': '0.691',\n",
       "  'ms1/ms2 ratio': '7.581',\n",
       "  'efficiency': '1.000',\n",
       "  'TP': '5',\n",
       "  'FP': '10',\n",
       "  'FN': '16',\n",
       "  'precision': '0.333',\n",
       "  'recall': '0.238',\n",
       "  'f1': '0.278'},\n",
       " (25, 60): {'coverage_prop': '1.000',\n",
       "  'intensity_prop': '0.691',\n",
       "  'ms1/ms2 ratio': '7.581',\n",
       "  'efficiency': '1.000',\n",
       "  'TP': '5',\n",
       "  'FP': '10',\n",
       "  'FN': '16',\n",
       "  'precision': '0.333',\n",
       "  'recall': '0.238',\n",
       "  'f1': '0.278'},\n",
       " (5, 120): {'coverage_prop': '1.000',\n",
       "  'intensity_prop': '0.691',\n",
       "  'ms1/ms2 ratio': '7.581',\n",
       "  'efficiency': '1.000',\n",
       "  'TP': '5',\n",
       "  'FP': '10',\n",
       "  'FN': '16',\n",
       "  'precision': '0.333',\n",
       "  'recall': '0.238',\n",
       "  'f1': '0.278'},\n",
       " (10, 120): {'coverage_prop': '1.000',\n",
       "  'intensity_prop': '0.691',\n",
       "  'ms1/ms2 ratio': '7.581',\n",
       "  'efficiency': '1.000',\n",
       "  'TP': '5',\n",
       "  'FP': '10',\n",
       "  'FN': '16',\n",
       "  'precision': '0.333',\n",
       "  'recall': '0.238',\n",
       "  'f1': '0.278'},\n",
       " (15, 120): {'coverage_prop': '1.000',\n",
       "  'intensity_prop': '0.691',\n",
       "  'ms1/ms2 ratio': '7.581',\n",
       "  'efficiency': '1.000',\n",
       "  'TP': '5',\n",
       "  'FP': '10',\n",
       "  'FN': '16',\n",
       "  'precision': '0.333',\n",
       "  'recall': '0.238',\n",
       "  'f1': '0.278'},\n",
       " (20, 120): {'coverage_prop': '1.000',\n",
       "  'intensity_prop': '0.691',\n",
       "  'ms1/ms2 ratio': '7.581',\n",
       "  'efficiency': '1.000',\n",
       "  'TP': '5',\n",
       "  'FP': '10',\n",
       "  'FN': '16',\n",
       "  'precision': '0.333',\n",
       "  'recall': '0.238',\n",
       "  'f1': '0.278'},\n",
       " (25, 120): {'coverage_prop': '1.000',\n",
       "  'intensity_prop': '0.691',\n",
       "  'ms1/ms2 ratio': '7.581',\n",
       "  'efficiency': '1.000',\n",
       "  'TP': '5',\n",
       "  'FP': '10',\n",
       "  'FN': '16',\n",
       "  'precision': '0.333',\n",
       "  'recall': '0.238',\n",
       "  'f1': '0.278'},\n",
       " (5, 240): {'coverage_prop': '1.000',\n",
       "  'intensity_prop': '0.691',\n",
       "  'ms1/ms2 ratio': '7.581',\n",
       "  'efficiency': '1.000',\n",
       "  'TP': '5',\n",
       "  'FP': '10',\n",
       "  'FN': '16',\n",
       "  'precision': '0.333',\n",
       "  'recall': '0.238',\n",
       "  'f1': '0.278'},\n",
       " (10, 240): {'coverage_prop': '1.000',\n",
       "  'intensity_prop': '0.691',\n",
       "  'ms1/ms2 ratio': '7.581',\n",
       "  'efficiency': '1.000',\n",
       "  'TP': '5',\n",
       "  'FP': '10',\n",
       "  'FN': '16',\n",
       "  'precision': '0.333',\n",
       "  'recall': '0.238',\n",
       "  'f1': '0.278'},\n",
       " (15, 240): {'coverage_prop': '1.000',\n",
       "  'intensity_prop': '0.691',\n",
       "  'ms1/ms2 ratio': '7.581',\n",
       "  'efficiency': '1.000',\n",
       "  'TP': '5',\n",
       "  'FP': '10',\n",
       "  'FN': '16',\n",
       "  'precision': '0.333',\n",
       "  'recall': '0.238',\n",
       "  'f1': '0.278'},\n",
       " (20, 240): {'coverage_prop': '1.000',\n",
       "  'intensity_prop': '0.691',\n",
       "  'ms1/ms2 ratio': '7.581',\n",
       "  'efficiency': '1.000',\n",
       "  'TP': '5',\n",
       "  'FP': '10',\n",
       "  'FN': '16',\n",
       "  'precision': '0.333',\n",
       "  'recall': '0.238',\n",
       "  'f1': '0.278'},\n",
       " (25, 240): {'coverage_prop': '1.000',\n",
       "  'intensity_prop': '0.691',\n",
       "  'ms1/ms2 ratio': '7.581',\n",
       "  'efficiency': '1.000',\n",
       "  'TP': '5',\n",
       "  'FP': '10',\n",
       "  'FN': '16',\n",
       "  'precision': '0.333',\n",
       "  'recall': '0.238',\n",
       "  'f1': '0.278'},\n",
       " (5, 300): {'coverage_prop': '1.000',\n",
       "  'intensity_prop': '0.691',\n",
       "  'ms1/ms2 ratio': '7.581',\n",
       "  'efficiency': '1.000',\n",
       "  'TP': '5',\n",
       "  'FP': '10',\n",
       "  'FN': '16',\n",
       "  'precision': '0.333',\n",
       "  'recall': '0.238',\n",
       "  'f1': '0.278'},\n",
       " (10, 300): {'coverage_prop': '1.000',\n",
       "  'intensity_prop': '0.691',\n",
       "  'ms1/ms2 ratio': '7.581',\n",
       "  'efficiency': '1.000',\n",
       "  'TP': '5',\n",
       "  'FP': '10',\n",
       "  'FN': '16',\n",
       "  'precision': '0.333',\n",
       "  'recall': '0.238',\n",
       "  'f1': '0.278'},\n",
       " (15, 300): {'coverage_prop': '1.000',\n",
       "  'intensity_prop': '0.691',\n",
       "  'ms1/ms2 ratio': '7.581',\n",
       "  'efficiency': '1.000',\n",
       "  'TP': '5',\n",
       "  'FP': '10',\n",
       "  'FN': '16',\n",
       "  'precision': '0.333',\n",
       "  'recall': '0.238',\n",
       "  'f1': '0.278'},\n",
       " (20, 300): {'coverage_prop': '1.000',\n",
       "  'intensity_prop': '0.691',\n",
       "  'ms1/ms2 ratio': '7.581',\n",
       "  'efficiency': '1.000',\n",
       "  'TP': '5',\n",
       "  'FP': '10',\n",
       "  'FN': '16',\n",
       "  'precision': '0.333',\n",
       "  'recall': '0.238',\n",
       "  'f1': '0.278'},\n",
       " (25, 300): {'coverage_prop': '1.000',\n",
       "  'intensity_prop': '0.691',\n",
       "  'ms1/ms2 ratio': '7.581',\n",
       "  'efficiency': '1.000',\n",
       "  'TP': '5',\n",
       "  'FP': '10',\n",
       "  'FN': '16',\n",
       "  'precision': '0.333',\n",
       "  'recall': '0.238',\n",
       "  'f1': '0.278'}}"
      ]
     },
     "execution_count": 21,
     "metadata": {},
     "output_type": "execute_result"
    }
   ],
   "source": [
    "topN_res"
   ]
  },
  {
   "cell_type": "code",
   "execution_count": 22,
   "metadata": {},
   "outputs": [],
   "source": [
    "method_eval_results = {\n",
    "    method: topN_res\n",
    "}"
   ]
  },
  {
   "cell_type": "markdown",
   "metadata": {},
   "source": [
    "#### Test classic controllers in ViMMS"
   ]
  },
  {
   "cell_type": "code",
   "execution_count": 23,
   "metadata": {},
   "outputs": [],
   "source": [
    "from vimms.MassSpec import IndependentMassSpectrometer\n",
    "from vimms.Controller import TopNController, TopN_SmartRoiController, WeightedDEWController\n",
    "from vimms.Environment import Environment"
   ]
  },
  {
   "cell_type": "code",
   "execution_count": 24,
   "metadata": {},
   "outputs": [],
   "source": [
    "spike_noise = None\n",
    "if enable_spike_noise:\n",
    "    noise_params = params['noise']\n",
    "    noise_density = noise_params['noise_density']\n",
    "    noise_max_val = noise_params['noise_max_val']\n",
    "    noise_min_mz = noise_params['mz_range'][0]\n",
    "    noise_max_mz = noise_params['mz_range'][1]\n",
    "    spike_noise = UniformSpikeNoise(noise_density, noise_max_val, min_mz=noise_min_mz,\n",
    "                                    max_mz=noise_max_mz)"
   ]
  },
  {
   "cell_type": "markdown",
   "metadata": {},
   "source": [
    "Run Top-N Controller"
   ]
  },
  {
   "cell_type": "code",
   "execution_count": 25,
   "metadata": {},
   "outputs": [
    {
     "name": "stdout",
     "output_type": "stream",
     "text": [
      "method = TopN_Controller\n",
      "\n",
      "5 15 {'coverage_prop': '1.000', 'intensity_prop': '0.867', 'ms1/ms2 ratio': '3.354', 'efficiency': '0.477', 'TP': '12', 'FP': '4', 'FN': '15', 'precision': '0.750', 'recall': '0.444', 'f1': '0.558'}\n",
      "10 15 {'coverage_prop': '1.000', 'intensity_prop': '0.867', 'ms1/ms2 ratio': '3.354', 'efficiency': '0.477', 'TP': '12', 'FP': '4', 'FN': '15', 'precision': '0.750', 'recall': '0.444', 'f1': '0.558'}\n",
      "15 15 {'coverage_prop': '1.000', 'intensity_prop': '0.867', 'ms1/ms2 ratio': '3.354', 'efficiency': '0.477', 'TP': '12', 'FP': '4', 'FN': '15', 'precision': '0.750', 'recall': '0.444', 'f1': '0.558'}\n",
      "20 15 {'coverage_prop': '1.000', 'intensity_prop': '0.867', 'ms1/ms2 ratio': '3.354', 'efficiency': '0.477', 'TP': '12', 'FP': '4', 'FN': '15', 'precision': '0.750', 'recall': '0.444', 'f1': '0.558'}\n",
      "25 15 {'coverage_prop': '1.000', 'intensity_prop': '0.867', 'ms1/ms2 ratio': '3.354', 'efficiency': '0.477', 'TP': '12', 'FP': '4', 'FN': '15', 'precision': '0.750', 'recall': '0.444', 'f1': '0.558'}\n",
      "5 30 {'coverage_prop': '1.000', 'intensity_prop': '0.712', 'ms1/ms2 ratio': '5.923', 'efficiency': '0.795', 'TP': '7', 'FP': '8', 'FN': '16', 'precision': '0.467', 'recall': '0.304', 'f1': '0.368'}\n",
      "10 30 {'coverage_prop': '1.000', 'intensity_prop': '0.712', 'ms1/ms2 ratio': '5.923', 'efficiency': '0.795', 'TP': '7', 'FP': '8', 'FN': '16', 'precision': '0.467', 'recall': '0.304', 'f1': '0.368'}\n",
      "15 30 {'coverage_prop': '1.000', 'intensity_prop': '0.712', 'ms1/ms2 ratio': '5.923', 'efficiency': '0.795', 'TP': '7', 'FP': '8', 'FN': '16', 'precision': '0.467', 'recall': '0.304', 'f1': '0.368'}\n",
      "20 30 {'coverage_prop': '1.000', 'intensity_prop': '0.712', 'ms1/ms2 ratio': '5.923', 'efficiency': '0.795', 'TP': '7', 'FP': '8', 'FN': '16', 'precision': '0.467', 'recall': '0.304', 'f1': '0.368'}\n",
      "25 30 {'coverage_prop': '1.000', 'intensity_prop': '0.712', 'ms1/ms2 ratio': '5.923', 'efficiency': '0.795', 'TP': '7', 'FP': '8', 'FN': '16', 'precision': '0.467', 'recall': '0.304', 'f1': '0.368'}\n",
      "5 60 {'coverage_prop': '1.000', 'intensity_prop': '0.691', 'ms1/ms2 ratio': '7.581', 'efficiency': '1.000', 'TP': '5', 'FP': '10', 'FN': '16', 'precision': '0.333', 'recall': '0.238', 'f1': '0.278'}\n",
      "10 60 {'coverage_prop': '1.000', 'intensity_prop': '0.691', 'ms1/ms2 ratio': '7.581', 'efficiency': '1.000', 'TP': '5', 'FP': '10', 'FN': '16', 'precision': '0.333', 'recall': '0.238', 'f1': '0.278'}\n",
      "15 60 {'coverage_prop': '1.000', 'intensity_prop': '0.691', 'ms1/ms2 ratio': '7.581', 'efficiency': '1.000', 'TP': '5', 'FP': '10', 'FN': '16', 'precision': '0.333', 'recall': '0.238', 'f1': '0.278'}\n",
      "20 60 {'coverage_prop': '1.000', 'intensity_prop': '0.691', 'ms1/ms2 ratio': '7.581', 'efficiency': '1.000', 'TP': '5', 'FP': '10', 'FN': '16', 'precision': '0.333', 'recall': '0.238', 'f1': '0.278'}\n",
      "25 60 {'coverage_prop': '1.000', 'intensity_prop': '0.691', 'ms1/ms2 ratio': '7.581', 'efficiency': '1.000', 'TP': '5', 'FP': '10', 'FN': '16', 'precision': '0.333', 'recall': '0.238', 'f1': '0.278'}\n",
      "5 120 {'coverage_prop': '1.000', 'intensity_prop': '0.691', 'ms1/ms2 ratio': '7.581', 'efficiency': '1.000', 'TP': '5', 'FP': '10', 'FN': '16', 'precision': '0.333', 'recall': '0.238', 'f1': '0.278'}\n",
      "10 120 {'coverage_prop': '1.000', 'intensity_prop': '0.691', 'ms1/ms2 ratio': '7.581', 'efficiency': '1.000', 'TP': '5', 'FP': '10', 'FN': '16', 'precision': '0.333', 'recall': '0.238', 'f1': '0.278'}\n",
      "15 120 {'coverage_prop': '1.000', 'intensity_prop': '0.691', 'ms1/ms2 ratio': '7.581', 'efficiency': '1.000', 'TP': '5', 'FP': '10', 'FN': '16', 'precision': '0.333', 'recall': '0.238', 'f1': '0.278'}\n",
      "20 120 {'coverage_prop': '1.000', 'intensity_prop': '0.691', 'ms1/ms2 ratio': '7.581', 'efficiency': '1.000', 'TP': '5', 'FP': '10', 'FN': '16', 'precision': '0.333', 'recall': '0.238', 'f1': '0.278'}\n",
      "25 120 {'coverage_prop': '1.000', 'intensity_prop': '0.691', 'ms1/ms2 ratio': '7.581', 'efficiency': '1.000', 'TP': '5', 'FP': '10', 'FN': '16', 'precision': '0.333', 'recall': '0.238', 'f1': '0.278'}\n",
      "5 240 {'coverage_prop': '1.000', 'intensity_prop': '0.691', 'ms1/ms2 ratio': '7.581', 'efficiency': '1.000', 'TP': '5', 'FP': '10', 'FN': '16', 'precision': '0.333', 'recall': '0.238', 'f1': '0.278'}\n",
      "10 240 {'coverage_prop': '1.000', 'intensity_prop': '0.691', 'ms1/ms2 ratio': '7.581', 'efficiency': '1.000', 'TP': '5', 'FP': '10', 'FN': '16', 'precision': '0.333', 'recall': '0.238', 'f1': '0.278'}\n",
      "15 240 {'coverage_prop': '1.000', 'intensity_prop': '0.691', 'ms1/ms2 ratio': '7.581', 'efficiency': '1.000', 'TP': '5', 'FP': '10', 'FN': '16', 'precision': '0.333', 'recall': '0.238', 'f1': '0.278'}\n",
      "20 240 {'coverage_prop': '1.000', 'intensity_prop': '0.691', 'ms1/ms2 ratio': '7.581', 'efficiency': '1.000', 'TP': '5', 'FP': '10', 'FN': '16', 'precision': '0.333', 'recall': '0.238', 'f1': '0.278'}\n",
      "25 240 {'coverage_prop': '1.000', 'intensity_prop': '0.691', 'ms1/ms2 ratio': '7.581', 'efficiency': '1.000', 'TP': '5', 'FP': '10', 'FN': '16', 'precision': '0.333', 'recall': '0.238', 'f1': '0.278'}\n",
      "5 300 {'coverage_prop': '1.000', 'intensity_prop': '0.691', 'ms1/ms2 ratio': '7.581', 'efficiency': '1.000', 'TP': '5', 'FP': '10', 'FN': '16', 'precision': '0.333', 'recall': '0.238', 'f1': '0.278'}\n",
      "10 300 {'coverage_prop': '1.000', 'intensity_prop': '0.691', 'ms1/ms2 ratio': '7.581', 'efficiency': '1.000', 'TP': '5', 'FP': '10', 'FN': '16', 'precision': '0.333', 'recall': '0.238', 'f1': '0.278'}\n",
      "15 300 {'coverage_prop': '1.000', 'intensity_prop': '0.691', 'ms1/ms2 ratio': '7.581', 'efficiency': '1.000', 'TP': '5', 'FP': '10', 'FN': '16', 'precision': '0.333', 'recall': '0.238', 'f1': '0.278'}\n",
      "20 300 {'coverage_prop': '1.000', 'intensity_prop': '0.691', 'ms1/ms2 ratio': '7.581', 'efficiency': '1.000', 'TP': '5', 'FP': '10', 'FN': '16', 'precision': '0.333', 'recall': '0.238', 'f1': '0.278'}\n",
      "25 300 {'coverage_prop': '1.000', 'intensity_prop': '0.691', 'ms1/ms2 ratio': '7.581', 'efficiency': '1.000', 'TP': '5', 'FP': '10', 'FN': '16', 'precision': '0.333', 'recall': '0.238', 'f1': '0.278'}\n"
     ]
    }
   ],
   "source": [
    "method = 'TopN_Controller'\n",
    "print('method = %s' % method)\n",
    "print()\n",
    "\n",
    "chems = chem_list[0]\n",
    "res = {}\n",
    "for rt_tol in rt_tols:\n",
    "    for N in Ns:\n",
    "\n",
    "        effective_rt_tol = rt_tol\n",
    "        mass_spec = IndependentMassSpectrometer(ionisation_mode, chems, spike_noise=spike_noise)\n",
    "        controller = TopNController(ionisation_mode, N, isolation_window, mz_tol, rt_tol,\n",
    "                                    min_ms1_intensity)\n",
    "        env = Environment(mass_spec, controller, min_rt, max_rt, progress_bar=False, out_dir=out_dir,\n",
    "                          out_file='%s_%d.mzML' % (method, i), save_eval=True)\n",
    "        env.run()\n",
    "        eval_res = evaluate(env, intensity_threshold)\n",
    "        key = (N, rt_tol)\n",
    "        print(N, rt_tol, eval_res)\n",
    "        res[key] = eval_res\n",
    "\n",
    "method_eval_results[method] = res"
   ]
  },
  {
   "cell_type": "markdown",
   "metadata": {},
   "source": [
    "Run SmartROI Controller"
   ]
  },
  {
   "cell_type": "markdown",
   "metadata": {},
   "source": [
    "TO FINISH BELOW"
   ]
  },
  {
   "cell_type": "code",
   "execution_count": 28,
   "metadata": {},
   "outputs": [],
   "source": [
    "alphas = [2, 3, 5, 10, 1E3, 1E6]\n",
    "betas = [0, 0.1, 0.5, 1, 5]\n",
    "smartroi_N = 10\n",
    "smartroi_dew = 15"
   ]
  },
  {
   "cell_type": "code",
   "execution_count": 29,
   "metadata": {},
   "outputs": [
    {
     "name": "stdout",
     "output_type": "stream",
     "text": [
      "method = SmartROI_Controller\n",
      "\n",
      "2 0 {'coverage_prop': '1.000', 'intensity_prop': '0.860', 'ms1/ms2 ratio': '4.226', 'efficiency': '0.585', 'TP': '12', 'FP': '4', 'FN': '15', 'precision': '0.750', 'recall': '0.444', 'f1': '0.558'}\n",
      "2 0.1 {'coverage_prop': '1.000', 'intensity_prop': '0.860', 'ms1/ms2 ratio': '4.226', 'efficiency': '0.585', 'TP': '12', 'FP': '4', 'FN': '15', 'precision': '0.750', 'recall': '0.444', 'f1': '0.558'}\n",
      "2 0.5 {'coverage_prop': '1.000', 'intensity_prop': '0.860', 'ms1/ms2 ratio': '4.226', 'efficiency': '0.585', 'TP': '12', 'FP': '4', 'FN': '15', 'precision': '0.750', 'recall': '0.444', 'f1': '0.558'}\n",
      "2 1 {'coverage_prop': '1.000', 'intensity_prop': '0.860', 'ms1/ms2 ratio': '4.226', 'efficiency': '0.585', 'TP': '12', 'FP': '4', 'FN': '15', 'precision': '0.750', 'recall': '0.444', 'f1': '0.558'}\n",
      "2 5 {'coverage_prop': '1.000', 'intensity_prop': '0.859', 'ms1/ms2 ratio': '4.148', 'efficiency': '0.574', 'TP': '12', 'FP': '4', 'FN': '15', 'precision': '0.750', 'recall': '0.444', 'f1': '0.558'}\n",
      "3 0 {'coverage_prop': '1.000', 'intensity_prop': '0.789', 'ms1/ms2 ratio': '4.957', 'efficiency': '0.674', 'TP': '8', 'FP': '8', 'FN': '15', 'precision': '0.500', 'recall': '0.348', 'f1': '0.410'}\n",
      "3 0.1 {'coverage_prop': '1.000', 'intensity_prop': '0.789', 'ms1/ms2 ratio': '5.067', 'efficiency': '0.689', 'TP': '8', 'FP': '8', 'FN': '15', 'precision': '0.500', 'recall': '0.348', 'f1': '0.410'}\n",
      "3 0.5 {'coverage_prop': '1.000', 'intensity_prop': '0.789', 'ms1/ms2 ratio': '5.067', 'efficiency': '0.689', 'TP': '8', 'FP': '8', 'FN': '15', 'precision': '0.500', 'recall': '0.348', 'f1': '0.410'}\n",
      "3 1 {'coverage_prop': '1.000', 'intensity_prop': '0.792', 'ms1/ms2 ratio': '4.957', 'efficiency': '0.674', 'TP': '9', 'FP': '7', 'FN': '15', 'precision': '0.562', 'recall': '0.375', 'f1': '0.450'}\n",
      "3 5 {'coverage_prop': '1.000', 'intensity_prop': '0.788', 'ms1/ms2 ratio': '4.957', 'efficiency': '0.674', 'TP': '8', 'FP': '8', 'FN': '15', 'precision': '0.500', 'recall': '0.348', 'f1': '0.410'}\n",
      "5 0 {'coverage_prop': '1.000', 'intensity_prop': '0.716', 'ms1/ms2 ratio': '6.105', 'efficiency': '0.816', 'TP': '7', 'FP': '8', 'FN': '16', 'precision': '0.467', 'recall': '0.304', 'f1': '0.368'}\n",
      "5 0.1 {'coverage_prop': '1.000', 'intensity_prop': '0.696', 'ms1/ms2 ratio': '6.270', 'efficiency': '0.838', 'TP': '6', 'FP': '9', 'FN': '16', 'precision': '0.400', 'recall': '0.273', 'f1': '0.324'}\n",
      "5 0.5 {'coverage_prop': '1.000', 'intensity_prop': '0.715', 'ms1/ms2 ratio': '6.105', 'efficiency': '0.816', 'TP': '7', 'FP': '8', 'FN': '16', 'precision': '0.467', 'recall': '0.304', 'f1': '0.368'}\n",
      "5 1 {'coverage_prop': '1.000', 'intensity_prop': '0.697', 'ms1/ms2 ratio': '6.105', 'efficiency': '0.816', 'TP': '6', 'FP': '9', 'FN': '16', 'precision': '0.400', 'recall': '0.273', 'f1': '0.324'}\n",
      "5 5 {'coverage_prop': '1.000', 'intensity_prop': '0.695', 'ms1/ms2 ratio': '6.105', 'efficiency': '0.816', 'TP': '6', 'FP': '9', 'FN': '16', 'precision': '0.400', 'recall': '0.273', 'f1': '0.324'}\n",
      "10 0 {'coverage_prop': '1.000', 'intensity_prop': '0.693', 'ms1/ms2 ratio': '7.581', 'efficiency': '1.000', 'TP': '5', 'FP': '10', 'FN': '16', 'precision': '0.333', 'recall': '0.238', 'f1': '0.278'}\n",
      "10 0.1 {'coverage_prop': '1.000', 'intensity_prop': '0.693', 'ms1/ms2 ratio': '7.581', 'efficiency': '1.000', 'TP': '5', 'FP': '10', 'FN': '16', 'precision': '0.333', 'recall': '0.238', 'f1': '0.278'}\n",
      "10 0.5 {'coverage_prop': '1.000', 'intensity_prop': '0.693', 'ms1/ms2 ratio': '7.581', 'efficiency': '1.000', 'TP': '5', 'FP': '10', 'FN': '16', 'precision': '0.333', 'recall': '0.238', 'f1': '0.278'}\n",
      "10 1 {'coverage_prop': '1.000', 'intensity_prop': '0.693', 'ms1/ms2 ratio': '7.581', 'efficiency': '1.000', 'TP': '5', 'FP': '10', 'FN': '16', 'precision': '0.333', 'recall': '0.238', 'f1': '0.278'}\n",
      "10 5 {'coverage_prop': '1.000', 'intensity_prop': '0.693', 'ms1/ms2 ratio': '7.581', 'efficiency': '1.000', 'TP': '5', 'FP': '10', 'FN': '16', 'precision': '0.333', 'recall': '0.238', 'f1': '0.278'}\n",
      "1000.0 0 {'coverage_prop': '1.000', 'intensity_prop': '0.693', 'ms1/ms2 ratio': '7.581', 'efficiency': '1.000', 'TP': '5', 'FP': '10', 'FN': '16', 'precision': '0.333', 'recall': '0.238', 'f1': '0.278'}\n",
      "1000.0 0.1 {'coverage_prop': '1.000', 'intensity_prop': '0.693', 'ms1/ms2 ratio': '7.581', 'efficiency': '1.000', 'TP': '5', 'FP': '10', 'FN': '16', 'precision': '0.333', 'recall': '0.238', 'f1': '0.278'}\n",
      "1000.0 0.5 {'coverage_prop': '1.000', 'intensity_prop': '0.693', 'ms1/ms2 ratio': '7.581', 'efficiency': '1.000', 'TP': '5', 'FP': '10', 'FN': '16', 'precision': '0.333', 'recall': '0.238', 'f1': '0.278'}\n",
      "1000.0 1 {'coverage_prop': '1.000', 'intensity_prop': '0.693', 'ms1/ms2 ratio': '7.581', 'efficiency': '1.000', 'TP': '5', 'FP': '10', 'FN': '16', 'precision': '0.333', 'recall': '0.238', 'f1': '0.278'}\n",
      "1000.0 5 {'coverage_prop': '1.000', 'intensity_prop': '0.693', 'ms1/ms2 ratio': '7.581', 'efficiency': '1.000', 'TP': '5', 'FP': '10', 'FN': '16', 'precision': '0.333', 'recall': '0.238', 'f1': '0.278'}\n",
      "1000000.0 0 {'coverage_prop': '1.000', 'intensity_prop': '0.693', 'ms1/ms2 ratio': '7.581', 'efficiency': '1.000', 'TP': '5', 'FP': '10', 'FN': '16', 'precision': '0.333', 'recall': '0.238', 'f1': '0.278'}\n",
      "1000000.0 0.1 {'coverage_prop': '1.000', 'intensity_prop': '0.693', 'ms1/ms2 ratio': '7.581', 'efficiency': '1.000', 'TP': '5', 'FP': '10', 'FN': '16', 'precision': '0.333', 'recall': '0.238', 'f1': '0.278'}\n",
      "1000000.0 0.5 {'coverage_prop': '1.000', 'intensity_prop': '0.693', 'ms1/ms2 ratio': '7.581', 'efficiency': '1.000', 'TP': '5', 'FP': '10', 'FN': '16', 'precision': '0.333', 'recall': '0.238', 'f1': '0.278'}\n",
      "1000000.0 1 {'coverage_prop': '1.000', 'intensity_prop': '0.693', 'ms1/ms2 ratio': '7.581', 'efficiency': '1.000', 'TP': '5', 'FP': '10', 'FN': '16', 'precision': '0.333', 'recall': '0.238', 'f1': '0.278'}\n",
      "1000000.0 5 {'coverage_prop': '1.000', 'intensity_prop': '0.693', 'ms1/ms2 ratio': '7.581', 'efficiency': '1.000', 'TP': '5', 'FP': '10', 'FN': '16', 'precision': '0.333', 'recall': '0.238', 'f1': '0.278'}\n"
     ]
    }
   ],
   "source": [
    "method = 'SmartROI_Controller'\n",
    "print('method = %s' % method)\n",
    "print()\n",
    "\n",
    "chems = chem_list[0]\n",
    "res = {}\n",
    "for alpha in alphas:\n",
    "    for beta in betas:\n",
    "\n",
    "        mass_spec = IndependentMassSpectrometer(ionisation_mode, chems, spike_noise=spike_noise)\n",
    "        \n",
    "        roi_params = RoiBuilderParams(min_roi_intensity=500, min_roi_length=0)    \n",
    "        smartroi_params = SmartRoiParams(intensity_increase_factor=alpha, drop_perc=beta/100.0)\n",
    "        controller = TopN_SmartRoiController(ionisation_mode, isolation_window, smartroi_N, mz_tol, smartroi_dew,\n",
    "                                    min_ms1_intensity, roi_params, smartroi_params)\n",
    "\n",
    "        env = Environment(mass_spec, controller, min_rt, max_rt, progress_bar=False, out_dir=out_dir,\n",
    "                          out_file='%s_%d.mzML' % (method, i), save_eval=True)\n",
    "        env.run()\n",
    "        eval_res = evaluate(env, intensity_threshold)\n",
    "        key = (N, rt_tol)\n",
    "        print(alpha, beta, eval_res)\n",
    "        res[key] = eval_res\n",
    "\n",
    "method_eval_results[method] = res"
   ]
  },
  {
   "cell_type": "markdown",
   "metadata": {},
   "source": [
    "Run WeightedDEW Controller"
   ]
  },
  {
   "cell_type": "code",
   "execution_count": 30,
   "metadata": {},
   "outputs": [],
   "source": [
    "t0s = [1, 3, 10, 15, 30, 60]\n",
    "t1s = [15, 60, 120, 240, 360, 3600]\n",
    "weighteddew_N = 10"
   ]
  },
  {
   "cell_type": "code",
   "execution_count": 31,
   "metadata": {},
   "outputs": [
    {
     "name": "stdout",
     "output_type": "stream",
     "text": [
      "method = WeightedDEW_Controller\n",
      "\n",
      "1 15 {'coverage_prop': '1.000', 'intensity_prop': '0.886', 'ms1/ms2 ratio': '0.404', 'efficiency': '0.112', 'TP': '13', 'FP': '3', 'FN': '15', 'precision': '0.812', 'recall': '0.464', 'f1': '0.591'}\n",
      "1 60 {'coverage_prop': '1.000', 'intensity_prop': '0.885', 'ms1/ms2 ratio': '0.404', 'efficiency': '0.112', 'TP': '13', 'FP': '3', 'FN': '15', 'precision': '0.812', 'recall': '0.464', 'f1': '0.591'}\n",
      "1 120 {'coverage_prop': '1.000', 'intensity_prop': '0.885', 'ms1/ms2 ratio': '0.404', 'efficiency': '0.112', 'TP': '13', 'FP': '3', 'FN': '15', 'precision': '0.812', 'recall': '0.464', 'f1': '0.591'}\n",
      "1 240 {'coverage_prop': '1.000', 'intensity_prop': '0.885', 'ms1/ms2 ratio': '0.404', 'efficiency': '0.112', 'TP': '13', 'FP': '3', 'FN': '15', 'precision': '0.812', 'recall': '0.464', 'f1': '0.591'}\n",
      "1 360 {'coverage_prop': '1.000', 'intensity_prop': '0.885', 'ms1/ms2 ratio': '0.404', 'efficiency': '0.112', 'TP': '13', 'FP': '3', 'FN': '15', 'precision': '0.812', 'recall': '0.464', 'f1': '0.591'}\n",
      "1 3600 {'coverage_prop': '1.000', 'intensity_prop': '0.885', 'ms1/ms2 ratio': '0.404', 'efficiency': '0.112', 'TP': '13', 'FP': '3', 'FN': '15', 'precision': '0.812', 'recall': '0.464', 'f1': '0.591'}\n",
      "3 15 {'coverage_prop': '1.000', 'intensity_prop': '0.881', 'ms1/ms2 ratio': '0.759', 'efficiency': '0.156', 'TP': '14', 'FP': '2', 'FN': '15', 'precision': '0.875', 'recall': '0.483', 'f1': '0.622'}\n",
      "3 60 {'coverage_prop': '1.000', 'intensity_prop': '0.881', 'ms1/ms2 ratio': '0.759', 'efficiency': '0.156', 'TP': '14', 'FP': '2', 'FN': '15', 'precision': '0.875', 'recall': '0.483', 'f1': '0.622'}\n",
      "3 120 {'coverage_prop': '1.000', 'intensity_prop': '0.881', 'ms1/ms2 ratio': '0.759', 'efficiency': '0.156', 'TP': '14', 'FP': '2', 'FN': '15', 'precision': '0.875', 'recall': '0.483', 'f1': '0.622'}\n",
      "3 240 {'coverage_prop': '1.000', 'intensity_prop': '0.881', 'ms1/ms2 ratio': '0.759', 'efficiency': '0.156', 'TP': '14', 'FP': '2', 'FN': '15', 'precision': '0.875', 'recall': '0.483', 'f1': '0.622'}\n",
      "3 360 {'coverage_prop': '1.000', 'intensity_prop': '0.881', 'ms1/ms2 ratio': '0.759', 'efficiency': '0.156', 'TP': '14', 'FP': '2', 'FN': '15', 'precision': '0.875', 'recall': '0.483', 'f1': '0.622'}\n",
      "3 3600 {'coverage_prop': '1.000', 'intensity_prop': '0.880', 'ms1/ms2 ratio': '0.759', 'efficiency': '0.156', 'TP': '14', 'FP': '2', 'FN': '15', 'precision': '0.875', 'recall': '0.483', 'f1': '0.622'}\n",
      "10 15 {'coverage_prop': '1.000', 'intensity_prop': '0.850', 'ms1/ms2 ratio': '2.518', 'efficiency': '0.373', 'TP': '12', 'FP': '4', 'FN': '15', 'precision': '0.750', 'recall': '0.444', 'f1': '0.558'}\n",
      "10 60 {'coverage_prop': '1.000', 'intensity_prop': '0.850', 'ms1/ms2 ratio': '2.518', 'efficiency': '0.373', 'TP': '12', 'FP': '4', 'FN': '15', 'precision': '0.750', 'recall': '0.444', 'f1': '0.558'}\n",
      "10 120 {'coverage_prop': '1.000', 'intensity_prop': '0.850', 'ms1/ms2 ratio': '2.518', 'efficiency': '0.373', 'TP': '12', 'FP': '4', 'FN': '15', 'precision': '0.750', 'recall': '0.444', 'f1': '0.558'}\n",
      "10 240 {'coverage_prop': '1.000', 'intensity_prop': '0.850', 'ms1/ms2 ratio': '2.518', 'efficiency': '0.373', 'TP': '12', 'FP': '4', 'FN': '15', 'precision': '0.750', 'recall': '0.444', 'f1': '0.558'}\n",
      "10 360 {'coverage_prop': '1.000', 'intensity_prop': '0.850', 'ms1/ms2 ratio': '2.518', 'efficiency': '0.373', 'TP': '12', 'FP': '4', 'FN': '15', 'precision': '0.750', 'recall': '0.444', 'f1': '0.558'}\n",
      "10 3600 {'coverage_prop': '1.000', 'intensity_prop': '0.850', 'ms1/ms2 ratio': '2.518', 'efficiency': '0.373', 'TP': '12', 'FP': '4', 'FN': '15', 'precision': '0.750', 'recall': '0.444', 'f1': '0.558'}\n",
      "15 15 {'coverage_prop': '1.000', 'intensity_prop': '0.867', 'ms1/ms2 ratio': '3.354', 'efficiency': '0.477', 'TP': '12', 'FP': '4', 'FN': '15', 'precision': '0.750', 'recall': '0.444', 'f1': '0.558'}\n",
      "15 60 {'coverage_prop': '1.000', 'intensity_prop': '0.865', 'ms1/ms2 ratio': '3.354', 'efficiency': '0.477', 'TP': '12', 'FP': '4', 'FN': '15', 'precision': '0.750', 'recall': '0.444', 'f1': '0.558'}\n",
      "15 120 {'coverage_prop': '1.000', 'intensity_prop': '0.865', 'ms1/ms2 ratio': '3.354', 'efficiency': '0.477', 'TP': '12', 'FP': '4', 'FN': '15', 'precision': '0.750', 'recall': '0.444', 'f1': '0.558'}\n",
      "15 240 {'coverage_prop': '1.000', 'intensity_prop': '0.865', 'ms1/ms2 ratio': '3.354', 'efficiency': '0.477', 'TP': '12', 'FP': '4', 'FN': '15', 'precision': '0.750', 'recall': '0.444', 'f1': '0.558'}\n",
      "15 360 {'coverage_prop': '1.000', 'intensity_prop': '0.865', 'ms1/ms2 ratio': '3.354', 'efficiency': '0.477', 'TP': '12', 'FP': '4', 'FN': '15', 'precision': '0.750', 'recall': '0.444', 'f1': '0.558'}\n",
      "15 3600 {'coverage_prop': '1.000', 'intensity_prop': '0.865', 'ms1/ms2 ratio': '3.354', 'efficiency': '0.477', 'TP': '12', 'FP': '4', 'FN': '15', 'precision': '0.750', 'recall': '0.444', 'f1': '0.558'}\n",
      "Invalid combination\n",
      "30 60 {'coverage_prop': '1.000', 'intensity_prop': '0.713', 'ms1/ms2 ratio': '5.923', 'efficiency': '0.795', 'TP': '7', 'FP': '8', 'FN': '16', 'precision': '0.467', 'recall': '0.304', 'f1': '0.368'}\n",
      "30 120 {'coverage_prop': '1.000', 'intensity_prop': '0.713', 'ms1/ms2 ratio': '5.923', 'efficiency': '0.795', 'TP': '7', 'FP': '8', 'FN': '16', 'precision': '0.467', 'recall': '0.304', 'f1': '0.368'}\n",
      "30 240 {'coverage_prop': '1.000', 'intensity_prop': '0.713', 'ms1/ms2 ratio': '5.923', 'efficiency': '0.795', 'TP': '7', 'FP': '8', 'FN': '16', 'precision': '0.467', 'recall': '0.304', 'f1': '0.368'}\n",
      "30 360 {'coverage_prop': '1.000', 'intensity_prop': '0.713', 'ms1/ms2 ratio': '5.923', 'efficiency': '0.795', 'TP': '7', 'FP': '8', 'FN': '16', 'precision': '0.467', 'recall': '0.304', 'f1': '0.368'}\n",
      "30 3600 {'coverage_prop': '1.000', 'intensity_prop': '0.713', 'ms1/ms2 ratio': '5.923', 'efficiency': '0.795', 'TP': '7', 'FP': '8', 'FN': '16', 'precision': '0.467', 'recall': '0.304', 'f1': '0.368'}\n",
      "Invalid combination\n",
      "60 60 {'coverage_prop': '1.000', 'intensity_prop': '0.691', 'ms1/ms2 ratio': '7.581', 'efficiency': '1.000', 'TP': '5', 'FP': '10', 'FN': '16', 'precision': '0.333', 'recall': '0.238', 'f1': '0.278'}\n",
      "60 120 {'coverage_prop': '1.000', 'intensity_prop': '0.691', 'ms1/ms2 ratio': '7.581', 'efficiency': '1.000', 'TP': '5', 'FP': '10', 'FN': '16', 'precision': '0.333', 'recall': '0.238', 'f1': '0.278'}\n",
      "60 240 {'coverage_prop': '1.000', 'intensity_prop': '0.691', 'ms1/ms2 ratio': '7.581', 'efficiency': '1.000', 'TP': '5', 'FP': '10', 'FN': '16', 'precision': '0.333', 'recall': '0.238', 'f1': '0.278'}\n",
      "60 360 {'coverage_prop': '1.000', 'intensity_prop': '0.691', 'ms1/ms2 ratio': '7.581', 'efficiency': '1.000', 'TP': '5', 'FP': '10', 'FN': '16', 'precision': '0.333', 'recall': '0.238', 'f1': '0.278'}\n",
      "60 3600 {'coverage_prop': '1.000', 'intensity_prop': '0.691', 'ms1/ms2 ratio': '7.581', 'efficiency': '1.000', 'TP': '5', 'FP': '10', 'FN': '16', 'precision': '0.333', 'recall': '0.238', 'f1': '0.278'}\n"
     ]
    }
   ],
   "source": [
    "method = 'WeightedDEW_Controller'\n",
    "print('method = %s' % method)\n",
    "print()\n",
    "\n",
    "chems = chem_list[0]\n",
    "res = {}\n",
    "for t0 in t0s:\n",
    "    for t1 in t1s:\n",
    "\n",
    "        if t0 > t1:\n",
    "            print('Invalid combination')\n",
    "            continue\n",
    "        \n",
    "        mass_spec = IndependentMassSpectrometer(ionisation_mode, chems, spike_noise=spike_noise)\n",
    "        \n",
    "        controller = WeightedDEWController(ionisation_mode, weighteddew_N, isolation_window, mz_tol, t1,\n",
    "                                    min_ms1_intensity, exclusion_t_0=t0)\n",
    "        \n",
    "        env = Environment(mass_spec, controller, min_rt, max_rt, progress_bar=False, out_dir=out_dir,\n",
    "                          out_file='%s_%d.mzML' % (method, i), save_eval=True)\n",
    "        env.run()\n",
    "        eval_res = evaluate(env, intensity_threshold)\n",
    "        key = (t0, t1)\n",
    "        print(t0, t1, eval_res)\n",
    "        res[key] = eval_res\n",
    "        \n",
    "method_eval_results[method] = res"
   ]
  },
  {
   "cell_type": "code",
   "execution_count": null,
   "metadata": {},
   "outputs": [],
   "source": []
  }
 ],
 "metadata": {
  "kernelspec": {
   "display_name": "Python 3 (ipykernel)",
   "language": "python",
   "name": "python3"
  },
  "language_info": {
   "codemirror_mode": {
    "name": "ipython",
    "version": 3
   },
   "file_extension": ".py",
   "mimetype": "text/x-python",
   "name": "python",
   "nbconvert_exporter": "python",
   "pygments_lexer": "ipython3",
   "version": "3.9.7"
  }
 },
 "nbformat": 4,
 "nbformat_minor": 4
}
