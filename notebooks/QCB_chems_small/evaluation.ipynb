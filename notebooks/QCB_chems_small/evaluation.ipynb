{
 "cells": [
  {
   "cell_type": "markdown",
   "metadata": {},
   "source": [
    "# Evaluation using QCB chemicals (small)"
   ]
  },
  {
   "cell_type": "code",
   "execution_count": 1,
   "metadata": {
    "pycharm": {
     "name": "#%%\n"
    },
    "tags": []
   },
   "outputs": [],
   "source": [
    "%matplotlib inline\n",
    "\n",
    "%load_ext autoreload\n",
    "%autoreload 2"
   ]
  },
  {
   "cell_type": "code",
   "execution_count": 2,
   "metadata": {
    "pycharm": {
     "name": "#%%\n"
    }
   },
   "outputs": [],
   "source": [
    "import os\n",
    "import sys\n",
    "from os.path import exists\n",
    "\n",
    "sys.path.append('../..')"
   ]
  },
  {
   "cell_type": "code",
   "execution_count": 3,
   "metadata": {
    "pycharm": {
     "name": "#%%\n"
    },
    "tags": []
   },
   "outputs": [],
   "source": [
    "import pylab as plt\n",
    "import pandas as pd\n",
    "import numpy as np\n",
    "from loguru import logger\n",
    "import seaborn as sns\n",
    "\n",
    "from stable_baselines3 import DQN, PPO"
   ]
  },
  {
   "cell_type": "code",
   "execution_count": 4,
   "metadata": {
    "pycharm": {
     "name": "#%%\n"
    },
    "tags": []
   },
   "outputs": [],
   "source": [
    "from vimms.Common import POSITIVE, set_log_level_warning, load_obj, save_obj\n",
    "from vimms.ChemicalSamplers import UniformRTAndIntensitySampler, GaussianChromatogramSampler, UniformMZFormulaSampler, \\\n",
    "    MZMLFormulaSampler, MZMLRTandIntensitySampler, MZMLChromatogramSampler\n",
    "from vimms.Noise import UniformSpikeNoise\n",
    "from vimms.Evaluation import evaluate_real\n",
    "from vimms.Chemicals import ChemicalMixtureFromMZML\n",
    "from vimms.Roi import RoiBuilderParams, SmartRoiParams\n",
    "\n",
    "from mass_spec_utils.data_import.mzmine import load_picked_boxes\n",
    "\n",
    "from vimms_gym.env import DDAEnv\n",
    "from vimms_gym.chemicals import generate_chemicals\n",
    "from vimms_gym.evaluation import evaluate, run_method\n",
    "from vimms_gym.common import METHOD_RANDOM, METHOD_FULLSCAN, METHOD_TOPN, METHOD_DQN, \\\n",
    "    METHOD_DQN_COV, METHOD_DQN_INT, METHOD_DQN_MID, METHOD_PPO"
   ]
  },
  {
   "cell_type": "markdown",
   "metadata": {
    "pycharm": {
     "name": "#%% md\n"
    }
   },
   "source": [
    "# 1. Parameters"
   ]
  },
  {
   "cell_type": "markdown",
   "metadata": {},
   "source": [
    "Parameters that will be used throughout this notebook. Should be the same as the training ones."
   ]
  },
  {
   "cell_type": "markdown",
   "metadata": {},
   "source": [
    "Chemical generation parameters"
   ]
  },
  {
   "cell_type": "code",
   "execution_count": 5,
   "metadata": {},
   "outputs": [
    {
     "name": "stderr",
     "output_type": "stream",
     "text": [
      "2022-08-18 07:04:11.295 | INFO     | experiments:get_samplers:229 - Loaded /notebooks/vimms-gym/notebooks/QCB_chems_small/pickles/samplers_QCB_small_gaussian.p\n"
     ]
    },
    {
     "data": {
      "text/plain": [
       "({'chemical_creator': {'mz_range': (100, 110),\n",
       "   'rt_range': (400, 500),\n",
       "   'intensity_range': (10000.0, 1e+20),\n",
       "   'n_chemicals': (20, 50),\n",
       "   'mz_sampler': <vimms.ChemicalSamplers.MZMLFormulaSampler at 0x7f68884965e0>,\n",
       "   'ri_sampler': <vimms.ChemicalSamplers.MZMLRTandIntensitySampler at 0x7f6888496eb0>,\n",
       "   'cr_sampler': <vimms.ChemicalSamplers.GaussianChromatogramSampler at 0x7f67bcaff5b0>},\n",
       "  'noise': {'enable_spike_noise': True,\n",
       "   'noise_density': 0.1,\n",
       "   'noise_max_val': 1000.0,\n",
       "   'mz_range': (100, 110)},\n",
       "  'env': {'ionisation_mode': 'Positive',\n",
       "   'rt_range': (400, 500),\n",
       "   'isolation_window': 0.7,\n",
       "   'mz_tol': 10,\n",
       "   'rt_tol': 120,\n",
       "   'alpha': 0.25,\n",
       "   'beta': 0.75}},\n",
       " 100)"
      ]
     },
     "execution_count": 5,
     "metadata": {},
     "output_type": "execute_result"
    }
   ],
   "source": [
    "from experiments import preset_qcb_small\n",
    "alpha = 0.25\n",
    "beta = 0.75\n",
    "extract = False\n",
    "params, max_peaks = preset_qcb_small(None, alpha=alpha, beta=beta, extract_chromatograms=extract)\n",
    "params, max_peaks"
   ]
  },
  {
   "cell_type": "code",
   "execution_count": 6,
   "metadata": {
    "pycharm": {
     "name": "#%%\n"
    }
   },
   "outputs": [],
   "source": [
    "# n_chemicals = (20, 50)\n",
    "# mz_range = (100, 110)\n",
    "# rt_range = (400, 500)\n",
    "# intensity_range = (1E4, 1E20)"
   ]
  },
  {
   "cell_type": "markdown",
   "metadata": {},
   "source": [
    "Evaluation parameters"
   ]
  },
  {
   "cell_type": "code",
   "execution_count": 7,
   "metadata": {},
   "outputs": [],
   "source": [
    "env_name = 'DDAEnv'\n",
    "intensity_threshold = 0.5\n",
    "max_peaks = 100\n",
    "in_dir = '../../tune/QCB_chems_small'\n",
    "out_dir = 'evaluation'\n",
    "methods = [\n",
    "    METHOD_RANDOM,\n",
    "    METHOD_PPO,\n",
    "    # METHOD_DQN_COV,\n",
    "    # METHOD_DQN_MID,\n",
    "    # METHOD_DQN_INT,\n",
    "    # METHOD_DQN,        \n",
    "    METHOD_TOPN,\n",
    "]\n",
    "n_eval_episodes = 30"
   ]
  },
  {
   "cell_type": "code",
   "execution_count": 8,
   "metadata": {},
   "outputs": [],
   "source": [
    "# topN parameters\n",
    "topN_N = 10\n",
    "topN_rt_tol = 15\n",
    "min_ms1_intensity = 5000\n",
    "\n",
    "# smartroi parameters\n",
    "alpha = 2\n",
    "beta = 0.1\n",
    "smartroi_N = topN_N\n",
    "smartroi_dew = topN_rt_tol\n",
    "\n",
    "# weighteddew parameters\n",
    "t0 = 3\n",
    "t1 = 120\n",
    "weighteddew_N = 10"
   ]
  },
  {
   "cell_type": "markdown",
   "metadata": {},
   "source": [
    "## Generate chemical sets for evaluation"
   ]
  },
  {
   "cell_type": "code",
   "execution_count": 9,
   "metadata": {},
   "outputs": [
    {
     "name": "stdout",
     "output_type": "stream",
     "text": [
      "28\n",
      "22\n",
      "45\n",
      "28\n",
      "20\n",
      "38\n",
      "34\n",
      "21\n",
      "37\n",
      "45\n",
      "36\n",
      "46\n",
      "49\n",
      "24\n",
      "32\n",
      "42\n",
      "25\n",
      "34\n",
      "44\n",
      "37\n",
      "23\n",
      "40\n",
      "43\n",
      "37\n",
      "27\n",
      "32\n",
      "34\n",
      "26\n",
      "28\n",
      "34\n"
     ]
    }
   ],
   "source": [
    "fname = 'QCB_chems_small.p'\n",
    "found = exists(fname)\n",
    "if found:\n",
    "    chem_list = load_obj(fname)\n",
    "    for chems in chem_list:\n",
    "        print(len(chems))"
   ]
  },
  {
   "cell_type": "markdown",
   "metadata": {},
   "source": [
    "Generate new chemicals if not found"
   ]
  },
  {
   "cell_type": "code",
   "execution_count": 10,
   "metadata": {},
   "outputs": [],
   "source": [
    "if not found:\n",
    "    repeat = 30\n",
    "    logger.warning('Generating chemicals')\n",
    "    min_mz = mz_range[0]\n",
    "    max_mz = mz_range[1]\n",
    "    min_rt = rt_range[0]\n",
    "    max_rt = rt_range[1]\n",
    "    min_log_intensity = np.log(intensity_range[0])\n",
    "    max_log_intensity = np.log(intensity_range[1])\n",
    "    \n",
    "    mzml_filename = '../fullscan_QCB.mzML'\n",
    "    logger.info('Creating samplers from %s' % mzml_filename)\n",
    "    mz_sampler = MZMLFormulaSampler(mzml_filename, min_mz=min_mz, max_mz=max_mz)\n",
    "    ri_sampler = MZMLRTandIntensitySampler(mzml_filename, min_rt=min_rt, max_rt=max_rt,\n",
    "                                           min_log_intensity=min_log_intensity,\n",
    "                                           max_log_intensity=max_log_intensity)\n",
    "    \n",
    "    # roi_params = RoiBuilderParams(min_roi_length=3, at_least_one_point_above=1000)\n",
    "    # cr_sampler = MZMLChromatogramSampler(mzml_filename, roi_params=roi_params)\n",
    "    cr_sampler = GaussianChromatogramSampler()\n",
    "    \n",
    "    chemical_creator_params = {\n",
    "        'mz_range': mz_range,\n",
    "        'rt_range': rt_range,\n",
    "        'intensity_range': intensity_range,\n",
    "        'n_chemicals': n_chemicals,\n",
    "        'mz_sampler': mz_sampler,\n",
    "        'ri_sampler': ri_sampler,\n",
    "        'cr_sampler': cr_sampler\n",
    "    }\n",
    "\n",
    "    chem_list = []\n",
    "    for i in range(repeat):\n",
    "        chems = generate_chemicals(chemical_creator_params)\n",
    "        print(len(chems))\n",
    "        chem_list.append(chems)\n",
    "        \n",
    "    save_obj(chem_list, fname)"
   ]
  },
  {
   "cell_type": "code",
   "execution_count": 11,
   "metadata": {},
   "outputs": [
    {
     "data": {
      "text/plain": [
       "30"
      ]
     },
     "execution_count": 11,
     "metadata": {},
     "output_type": "execute_result"
    }
   ],
   "source": [
    "chem_list = chem_list[0:n_eval_episodes]\n",
    "len(chem_list)"
   ]
  },
  {
   "cell_type": "markdown",
   "metadata": {
    "pycharm": {
     "name": "#%% md\n"
    },
    "tags": []
   },
   "source": [
    "# 2. Evaluation"
   ]
  },
  {
   "cell_type": "code",
   "execution_count": 12,
   "metadata": {},
   "outputs": [
    {
     "data": {
      "text/plain": [
       "1"
      ]
     },
     "execution_count": 12,
     "metadata": {},
     "output_type": "execute_result"
    }
   ],
   "source": [
    "set_log_level_warning()"
   ]
  },
  {
   "cell_type": "code",
   "execution_count": 13,
   "metadata": {},
   "outputs": [
    {
     "data": {
      "text/plain": [
       "{'chemical_creator': {'mz_range': (100, 110),\n",
       "  'rt_range': (400, 500),\n",
       "  'intensity_range': (10000.0, 1e+20),\n",
       "  'n_chemicals': (20, 50),\n",
       "  'mz_sampler': <vimms.ChemicalSamplers.MZMLFormulaSampler at 0x7f68884965e0>,\n",
       "  'ri_sampler': <vimms.ChemicalSamplers.MZMLRTandIntensitySampler at 0x7f6888496eb0>,\n",
       "  'cr_sampler': <vimms.ChemicalSamplers.GaussianChromatogramSampler at 0x7f67bcaff5b0>},\n",
       " 'noise': {'enable_spike_noise': True,\n",
       "  'noise_density': 0.1,\n",
       "  'noise_max_val': 1000.0,\n",
       "  'mz_range': (100, 110)},\n",
       " 'env': {'ionisation_mode': 'Positive',\n",
       "  'rt_range': (400, 500),\n",
       "  'isolation_window': 0.7,\n",
       "  'mz_tol': 10,\n",
       "  'rt_tol': 120,\n",
       "  'alpha': 0.25,\n",
       "  'beta': 0.75}}"
      ]
     },
     "execution_count": 13,
     "metadata": {},
     "output_type": "execute_result"
    }
   ],
   "source": [
    "params"
   ]
  },
  {
   "cell_type": "code",
   "execution_count": 14,
   "metadata": {
    "pycharm": {
     "name": "#%%\n"
    }
   },
   "outputs": [
    {
     "name": "stdout",
     "output_type": "stream",
     "text": [
      "method = random max_peaks = 100 N = 0 rt_tol = 120\n",
      "\n",
      "\n",
      "Episode 0 (28 chemicals)\n",
      "Finished after 498 timesteps with total reward -481.60309426179447\n",
      "{'coverage_prop': '0.500', 'intensity_prop': '0.290', 'ms1ms2_ratio': '0.004', 'efficiency': '0.028', 'TP': '5', 'FP': '2', 'FN': '21', 'precision': '0.714', 'recall': '0.192', 'f1': '0.303'}\n",
      "\n",
      "Episode 1 (22 chemicals)\n",
      "Finished after 494 timesteps with total reward -462.2540129824248\n",
      "{'coverage_prop': '0.727', 'intensity_prop': '0.557', 'ms1ms2_ratio': '0.012', 'efficiency': '0.033', 'TP': '4', 'FP': '2', 'FN': '16', 'precision': '0.667', 'recall': '0.200', 'f1': '0.308'}\n",
      "\n",
      "Episode 2 (45 chemicals)\n",
      "Finished after 498 timesteps with total reward -482.9098586340234\n",
      "{'coverage_prop': '0.711', 'intensity_prop': '0.494', 'ms1ms2_ratio': '0.004', 'efficiency': '0.064', 'TP': '1', 'FP': '2', 'FN': '42', 'precision': '0.333', 'recall': '0.023', 'f1': '0.043'}\n",
      "\n",
      "Episode 3 (28 chemicals)\n",
      "Finished after 497 timesteps with total reward -485.0940643654174\n",
      "{'coverage_prop': '0.321', 'intensity_prop': '0.155', 'ms1ms2_ratio': '0.006', 'efficiency': '0.018', 'TP': '2', 'FP': '2', 'FN': '24', 'precision': '0.500', 'recall': '0.077', 'f1': '0.133'}\n",
      "\n",
      "Episode 4 (20 chemicals)\n",
      "Finished after 493 timesteps with total reward -464.4622294863035\n",
      "{'coverage_prop': '0.750', 'intensity_prop': '0.520', 'ms1ms2_ratio': '0.014', 'efficiency': '0.031', 'TP': '3', 'FP': '2', 'FN': '15', 'precision': '0.600', 'recall': '0.167', 'f1': '0.261'}\n",
      "\n",
      "Episode 5 (38 chemicals)\n",
      "Finished after 493 timesteps with total reward -448.9236566768493\n",
      "{'coverage_prop': '0.895', 'intensity_prop': '0.611', 'ms1ms2_ratio': '0.014', 'efficiency': '0.070', 'TP': '7', 'FP': '3', 'FN': '28', 'precision': '0.700', 'recall': '0.200', 'f1': '0.311'}\n",
      "\n",
      "Episode 6 (34 chemicals)\n",
      "Finished after 496 timesteps with total reward -465.8527791112239\n",
      "{'coverage_prop': '0.824', 'intensity_prop': '0.695', 'ms1ms2_ratio': '0.008', 'efficiency': '0.057', 'TP': '4', 'FP': '2', 'FN': '28', 'precision': '0.667', 'recall': '0.125', 'f1': '0.211'}\n",
      "\n",
      "Episode 7 (21 chemicals)\n",
      "Finished after 491 timesteps with total reward -450.3809389714025\n",
      "{'coverage_prop': '0.810', 'intensity_prop': '0.597', 'ms1ms2_ratio': '0.019', 'efficiency': '0.035', 'TP': '5', 'FP': '2', 'FN': '14', 'precision': '0.714', 'recall': '0.263', 'f1': '0.385'}\n",
      "\n",
      "Episode 8 (37 chemicals)\n",
      "Finished after 487 timesteps with total reward -409.57426894528646\n",
      "{'coverage_prop': '0.946', 'intensity_prop': '0.803', 'ms1ms2_ratio': '0.027', 'efficiency': '0.074', 'TP': '10', 'FP': '3', 'FN': '24', 'precision': '0.769', 'recall': '0.294', 'f1': '0.426'}\n",
      "\n",
      "Episode 9 (45 chemicals)\n",
      "Finished after 492 timesteps with total reward -427.9181316329607\n",
      "{'coverage_prop': '0.978', 'intensity_prop': '0.771', 'ms1ms2_ratio': '0.016', 'efficiency': '0.091', 'TP': '7', 'FP': '4', 'FN': '34', 'precision': '0.636', 'recall': '0.171', 'f1': '0.269'}\n",
      "\n",
      "Episode 10 (36 chemicals)\n",
      "Finished after 497 timesteps with total reward -460.7145359824118\n",
      "{'coverage_prop': '0.861', 'intensity_prop': '0.522', 'ms1ms2_ratio': '0.006', 'efficiency': '0.063', 'TP': '6', 'FP': '4', 'FN': '26', 'precision': '0.600', 'recall': '0.188', 'f1': '0.286'}\n",
      "\n",
      "Episode 11 (46 chemicals)\n",
      "Finished after 495 timesteps with total reward -446.04294778566043\n",
      "{'coverage_prop': '0.957', 'intensity_prop': '0.709', 'ms1ms2_ratio': '0.010', 'efficiency': '0.090', 'TP': '10', 'FP': '5', 'FN': '31', 'precision': '0.667', 'recall': '0.244', 'f1': '0.357'}\n",
      "\n",
      "Episode 12 (49 chemicals)\n",
      "Finished after 491 timesteps with total reward -417.1138634171042\n",
      "{'coverage_prop': '0.898', 'intensity_prop': '0.813', 'ms1ms2_ratio': '0.019', 'efficiency': '0.091', 'TP': '9', 'FP': '0', 'FN': '40', 'precision': '1.000', 'recall': '0.184', 'f1': '0.310'}\n",
      "\n",
      "Episode 13 (24 chemicals)\n",
      "Finished after 498 timesteps with total reward -488.5747591630946\n",
      "{'coverage_prop': '0.375', 'intensity_prop': '0.191', 'ms1ms2_ratio': '0.004', 'efficiency': '0.018', 'TP': '1', 'FP': '2', 'FN': '21', 'precision': '0.333', 'recall': '0.045', 'f1': '0.080'}\n",
      "\n",
      "Episode 14 (32 chemicals)\n",
      "Finished after 494 timesteps with total reward -451.108544787746\n",
      "{'coverage_prop': '0.875', 'intensity_prop': '0.713', 'ms1ms2_ratio': '0.012', 'efficiency': '0.057', 'TP': '7', 'FP': '4', 'FN': '21', 'precision': '0.636', 'recall': '0.250', 'f1': '0.359'}\n",
      "\n",
      "Episode 15 (42 chemicals)\n",
      "Finished after 490 timesteps with total reward -427.9574576171933\n",
      "{'coverage_prop': '0.952', 'intensity_prop': '0.672', 'ms1ms2_ratio': '0.021', 'efficiency': '0.083', 'TP': '8', 'FP': '7', 'FN': '27', 'precision': '0.533', 'recall': '0.229', 'f1': '0.320'}\n",
      "\n",
      "Episode 16 (25 chemicals)\n",
      "Finished after 492 timesteps with total reward -454.0378182436322\n",
      "{'coverage_prop': '0.800', 'intensity_prop': '0.573', 'ms1ms2_ratio': '0.016', 'efficiency': '0.041', 'TP': '5', 'FP': '4', 'FN': '16', 'precision': '0.556', 'recall': '0.238', 'f1': '0.333'}\n",
      "\n",
      "Episode 17 (34 chemicals)\n",
      "Finished after 495 timesteps with total reward -464.96427044625784\n",
      "{'coverage_prop': '0.853', 'intensity_prop': '0.546', 'ms1ms2_ratio': '0.010', 'efficiency': '0.059', 'TP': '8', 'FP': '2', 'FN': '24', 'precision': '0.800', 'recall': '0.250', 'f1': '0.381'}\n",
      "\n",
      "Episode 18 (44 chemicals)\n",
      "Finished after 496 timesteps with total reward -455.1499433956659\n",
      "{'coverage_prop': '0.841', 'intensity_prop': '0.418', 'ms1ms2_ratio': '0.008', 'efficiency': '0.075', 'TP': '7', 'FP': '6', 'FN': '31', 'precision': '0.538', 'recall': '0.184', 'f1': '0.275'}\n",
      "\n",
      "Episode 19 (37 chemicals)\n",
      "Finished after 490 timesteps with total reward -422.68383990876174\n",
      "{'coverage_prop': '0.946', 'intensity_prop': '0.726', 'ms1ms2_ratio': '0.021', 'efficiency': '0.073', 'TP': '7', 'FP': '7', 'FN': '23', 'precision': '0.500', 'recall': '0.233', 'f1': '0.318'}\n",
      "\n",
      "Episode 20 (23 chemicals)\n",
      "Finished after 492 timesteps with total reward -447.53332023904375\n",
      "{'coverage_prop': '0.870', 'intensity_prop': '0.585', 'ms1ms2_ratio': '0.016', 'efficiency': '0.041', 'TP': '8', 'FP': '2', 'FN': '13', 'precision': '0.800', 'recall': '0.381', 'f1': '0.516'}\n",
      "\n",
      "Episode 21 (40 chemicals)\n",
      "Finished after 497 timesteps with total reward -472.30163755298804\n",
      "{'coverage_prop': '0.550', 'intensity_prop': '0.331', 'ms1ms2_ratio': '0.008', 'efficiency': '0.045', 'TP': '3', 'FP': '5', 'FN': '32', 'precision': '0.375', 'recall': '0.086', 'f1': '0.140'}\n",
      "\n",
      "Episode 22 (43 chemicals)\n",
      "Finished after 493 timesteps with total reward -422.03152734830576\n",
      "{'coverage_prop': '0.930', 'intensity_prop': '0.724', 'ms1ms2_ratio': '0.014', 'efficiency': '0.082', 'TP': '10', 'FP': '4', 'FN': '29', 'precision': '0.714', 'recall': '0.256', 'f1': '0.377'}\n",
      "\n",
      "Episode 23 (37 chemicals)\n",
      "Finished after 490 timesteps with total reward -434.6720088230319\n",
      "{'coverage_prop': '0.838', 'intensity_prop': '0.653', 'ms1ms2_ratio': '0.021', 'efficiency': '0.064', 'TP': '7', 'FP': '3', 'FN': '27', 'precision': '0.700', 'recall': '0.206', 'f1': '0.318'}\n",
      "\n",
      "Episode 24 (27 chemicals)\n",
      "Finished after 494 timesteps with total reward -459.2677128512392\n",
      "{'coverage_prop': '0.667', 'intensity_prop': '0.409', 'ms1ms2_ratio': '0.012', 'efficiency': '0.037', 'TP': '5', 'FP': '4', 'FN': '18', 'precision': '0.556', 'recall': '0.217', 'f1': '0.312'}\n",
      "\n",
      "Episode 25 (32 chemicals)\n",
      "Finished after 497 timesteps with total reward -470.97175385267406\n",
      "{'coverage_prop': '0.906', 'intensity_prop': '0.574', 'ms1ms2_ratio': '0.006', 'efficiency': '0.059', 'TP': '3', 'FP': '4', 'FN': '25', 'precision': '0.429', 'recall': '0.107', 'f1': '0.171'}\n",
      "\n",
      "Episode 26 (34 chemicals)\n",
      "Finished after 493 timesteps with total reward -447.2808028914662\n",
      "{'coverage_prop': '0.706', 'intensity_prop': '0.487', 'ms1ms2_ratio': '0.014', 'efficiency': '0.049', 'TP': '4', 'FP': '4', 'FN': '26', 'precision': '0.500', 'recall': '0.133', 'f1': '0.211'}\n",
      "\n",
      "Episode 27 (26 chemicals)\n",
      "Finished after 495 timesteps with total reward -472.69419797475\n",
      "{'coverage_prop': '0.846', 'intensity_prop': '0.505', 'ms1ms2_ratio': '0.010', 'efficiency': '0.045', 'TP': '2', 'FP': '4', 'FN': '20', 'precision': '0.333', 'recall': '0.091', 'f1': '0.143'}\n",
      "\n",
      "Episode 28 (28 chemicals)\n",
      "Finished after 496 timesteps with total reward -472.03619398068145\n",
      "{'coverage_prop': '0.786', 'intensity_prop': '0.500', 'ms1ms2_ratio': '0.008', 'efficiency': '0.045', 'TP': '2', 'FP': '3', 'FN': '23', 'precision': '0.400', 'recall': '0.080', 'f1': '0.133'}\n",
      "\n",
      "Episode 29 (34 chemicals)\n",
      "Finished after 496 timesteps with total reward -485.50916479682485\n",
      "{'coverage_prop': '0.294', 'intensity_prop': '0.214', 'ms1ms2_ratio': '0.008', 'efficiency': '0.020', 'TP': '2', 'FP': '1', 'FN': '31', 'precision': '0.667', 'recall': '0.061', 'f1': '0.111'}\n",
      "\n",
      "method = PPO max_peaks = 100 N = 0 rt_tol = 120\n",
      "\n",
      "\n",
      "Episode 0 (28 chemicals)\n",
      "Finished after 362 timesteps with total reward 40.463585274490804\n",
      "{'coverage_prop': '0.929', 'intensity_prop': '0.822', 'ms1ms2_ratio': '0.613', 'efficiency': '0.116', 'TP': '10', 'FP': '4', 'FN': '14', 'precision': '0.714', 'recall': '0.417', 'f1': '0.526'}\n",
      "\n",
      "Episode 1 (22 chemicals)\n",
      "Finished after 332 timesteps with total reward 39.57126090288379\n",
      "{'coverage_prop': '0.955', 'intensity_prop': '0.771', 'ms1ms2_ratio': '1.018', 'efficiency': '0.127', 'TP': '9', 'FP': '2', 'FN': '11', 'precision': '0.818', 'recall': '0.450', 'f1': '0.581'}\n",
      "\n",
      "Episode 2 (45 chemicals)\n",
      "Finished after 344 timesteps with total reward 36.21154127224437\n",
      "{'coverage_prop': '0.911', 'intensity_prop': '0.785', 'ms1ms2_ratio': '0.835', 'efficiency': '0.218', 'TP': '9', 'FP': '5', 'FN': '31', 'precision': '0.643', 'recall': '0.225', 'f1': '0.333'}\n",
      "\n",
      "Episode 3 (28 chemicals)\n",
      "Finished after 312 timesteps with total reward 36.588866473110656\n",
      "{'coverage_prop': '0.857', 'intensity_prop': '0.578', 'ms1ms2_ratio': '1.524', 'efficiency': '0.194', 'TP': '6', 'FP': '3', 'FN': '19', 'precision': '0.667', 'recall': '0.240', 'f1': '0.353'}\n",
      "\n",
      "Episode 4 (20 chemicals)\n",
      "Finished after 348 timesteps with total reward 36.38541091801481\n",
      "{'coverage_prop': '1.000', 'intensity_prop': '0.705', 'ms1ms2_ratio': '0.781', 'efficiency': '0.102', 'TP': '4', 'FP': '5', 'FN': '11', 'precision': '0.444', 'recall': '0.267', 'f1': '0.333'}\n",
      "\n",
      "Episode 5 (38 chemicals)\n",
      "Finished after 385 timesteps with total reward 40.31837422266919\n",
      "{'coverage_prop': '0.974', 'intensity_prop': '0.848', 'ms1ms2_ratio': '0.424', 'efficiency': '0.137', 'TP': '9', 'FP': '6', 'FN': '23', 'precision': '0.600', 'recall': '0.281', 'f1': '0.383'}\n",
      "\n",
      "Episode 6 (34 chemicals)\n",
      "Finished after 360 timesteps with total reward 39.59695263161345\n",
      "{'coverage_prop': '0.941', 'intensity_prop': '0.832', 'ms1ms2_ratio': '0.633', 'efficiency': '0.145', 'TP': '8', 'FP': '5', 'FN': '21', 'precision': '0.615', 'recall': '0.276', 'f1': '0.381'}\n",
      "\n",
      "Episode 7 (21 chemicals)\n",
      "Finished after 361 timesteps with total reward 37.32814475605273\n",
      "{'coverage_prop': '1.000', 'intensity_prop': '0.851', 'ms1ms2_ratio': '0.623', 'efficiency': '0.094', 'TP': '8', 'FP': '5', 'FN': '8', 'precision': '0.615', 'recall': '0.500', 'f1': '0.552'}\n",
      "\n",
      "Episode 8 (37 chemicals)\n",
      "Finished after 390 timesteps with total reward 44.70565198056816\n",
      "{'coverage_prop': '1.000', 'intensity_prop': '0.894', 'ms1ms2_ratio': '0.396', 'efficiency': '0.132', 'TP': '13', 'FP': '4', 'FN': '20', 'precision': '0.765', 'recall': '0.394', 'f1': '0.520'}\n",
      "\n",
      "Episode 9 (45 chemicals)\n",
      "Finished after 379 timesteps with total reward 39.49271543984611\n",
      "{'coverage_prop': '1.000', 'intensity_prop': '0.810', 'ms1ms2_ratio': '0.473', 'efficiency': '0.174', 'TP': '9', 'FP': '5', 'FN': '31', 'precision': '0.643', 'recall': '0.225', 'f1': '0.333'}\n",
      "\n",
      "Episode 10 (36 chemicals)\n",
      "Finished after 389 timesteps with total reward 43.36409204107261\n",
      "{'coverage_prop': '1.000', 'intensity_prop': '0.900', 'ms1ms2_ratio': '0.403', 'efficiency': '0.129', 'TP': '15', 'FP': '2', 'FN': '19', 'precision': '0.882', 'recall': '0.441', 'f1': '0.588'}\n",
      "\n",
      "Episode 11 (46 chemicals)\n",
      "Finished after 381 timesteps with total reward -17.520079369889874\n",
      "{'coverage_prop': '0.913', 'intensity_prop': '0.563', 'ms1ms2_ratio': '0.452', 'efficiency': '0.160', 'TP': '14', 'FP': '5', 'FN': '27', 'precision': '0.737', 'recall': '0.341', 'f1': '0.467'}\n",
      "\n",
      "Episode 12 (49 chemicals)\n",
      "Finished after 385 timesteps with total reward 45.059563359424885\n",
      "{'coverage_prop': '0.878', 'intensity_prop': '0.842', 'ms1ms2_ratio': '0.424', 'efficiency': '0.159', 'TP': '9', 'FP': '1', 'FN': '39', 'precision': '0.900', 'recall': '0.188', 'f1': '0.310'}\n",
      "\n",
      "Episode 13 (24 chemicals)\n",
      "Finished after 353 timesteps with total reward 34.83161724538599\n",
      "{'coverage_prop': '1.000', 'intensity_prop': '0.784', 'ms1ms2_ratio': '0.710', 'efficiency': '0.116', 'TP': '8', 'FP': '4', 'FN': '12', 'precision': '0.667', 'recall': '0.400', 'f1': '0.500'}\n",
      "\n",
      "Episode 14 (32 chemicals)\n",
      "Finished after 383 timesteps with total reward 37.368459633318125\n",
      "{'coverage_prop': '0.938', 'intensity_prop': '0.836', 'ms1ms2_ratio': '0.444', 'efficiency': '0.113', 'TP': '8', 'FP': '5', 'FN': '19', 'precision': '0.615', 'recall': '0.296', 'f1': '0.400'}\n",
      "\n",
      "Episode 15 (42 chemicals)\n",
      "Finished after 387 timesteps with total reward 49.02138243749963\n",
      "{'coverage_prop': '0.976', 'intensity_prop': '0.838', 'ms1ms2_ratio': '0.411', 'efficiency': '0.149', 'TP': '14', 'FP': '4', 'FN': '24', 'precision': '0.778', 'recall': '0.368', 'f1': '0.500'}\n",
      "\n",
      "Episode 16 (25 chemicals)\n",
      "Finished after 351 timesteps with total reward 33.592738827767846\n",
      "{'coverage_prop': '0.960', 'intensity_prop': '0.750', 'ms1ms2_ratio': '0.743', 'efficiency': '0.119', 'TP': '8', 'FP': '5', 'FN': '12', 'precision': '0.615', 'recall': '0.400', 'f1': '0.485'}\n",
      "\n",
      "Episode 17 (34 chemicals)\n",
      "Finished after 366 timesteps with total reward 37.17359343089115\n",
      "{'coverage_prop': '0.941', 'intensity_prop': '0.724', 'ms1ms2_ratio': '0.575', 'efficiency': '0.137', 'TP': '14', 'FP': '5', 'FN': '15', 'precision': '0.737', 'recall': '0.483', 'f1': '0.583'}\n",
      "\n",
      "Episode 18 (44 chemicals)\n",
      "Finished after 394 timesteps with total reward 45.816276103239666\n",
      "{'coverage_prop': '0.909', 'intensity_prop': '0.806', 'ms1ms2_ratio': '0.367', 'efficiency': '0.138', 'TP': '13', 'FP': '4', 'FN': '27', 'precision': '0.765', 'recall': '0.325', 'f1': '0.456'}\n",
      "\n",
      "Episode 19 (37 chemicals)\n",
      "Finished after 384 timesteps with total reward 8.247548277509505\n",
      "{'coverage_prop': '0.919', 'intensity_prop': '0.731', 'ms1ms2_ratio': '0.431', 'efficiency': '0.126', 'TP': '9', 'FP': '5', 'FN': '23', 'precision': '0.643', 'recall': '0.281', 'f1': '0.391'}\n",
      "\n",
      "Episode 20 (23 chemicals)\n",
      "Finished after 357 timesteps with total reward 41.381079506242465\n",
      "{'coverage_prop': '0.957', 'intensity_prop': '0.670', 'ms1ms2_ratio': '0.673', 'efficiency': '0.103', 'TP': '8', 'FP': '3', 'FN': '12', 'precision': '0.727', 'recall': '0.400', 'f1': '0.516'}\n",
      "\n",
      "Episode 21 (40 chemicals)\n",
      "Finished after 376 timesteps with total reward 45.53536769958599\n",
      "{'coverage_prop': '0.900', 'intensity_prop': '0.782', 'ms1ms2_ratio': '0.490', 'efficiency': '0.142', 'TP': '12', 'FP': '5', 'FN': '23', 'precision': '0.706', 'recall': '0.343', 'f1': '0.462'}\n",
      "\n",
      "Episode 22 (43 chemicals)\n",
      "Finished after 389 timesteps with total reward 44.03298650355706\n",
      "{'coverage_prop': '1.000', 'intensity_prop': '0.881', 'ms1ms2_ratio': '0.403', 'efficiency': '0.155', 'TP': '15', 'FP': '5', 'FN': '23', 'precision': '0.750', 'recall': '0.395', 'f1': '0.517'}\n",
      "\n",
      "Episode 23 (37 chemicals)\n",
      "Finished after 351 timesteps with total reward 38.10551308164865\n",
      "{'coverage_prop': '0.946', 'intensity_prop': '0.717', 'ms1ms2_ratio': '0.734', 'efficiency': '0.172', 'TP': '9', 'FP': '5', 'FN': '23', 'precision': '0.643', 'recall': '0.281', 'f1': '0.391'}\n",
      "\n",
      "Episode 24 (27 chemicals)\n",
      "Finished after 348 timesteps with total reward 36.79735618910277\n",
      "{'coverage_prop': '0.926', 'intensity_prop': '0.652', 'ms1ms2_ratio': '0.772', 'efficiency': '0.127', 'TP': '8', 'FP': '5', 'FN': '14', 'precision': '0.615', 'recall': '0.364', 'f1': '0.457'}\n",
      "\n",
      "Episode 25 (32 chemicals)\n",
      "Finished after 355 timesteps with total reward 39.66522745411166\n",
      "{'coverage_prop': '0.938', 'intensity_prop': '0.777', 'ms1ms2_ratio': '0.687', 'efficiency': '0.142', 'TP': '11', 'FP': '3', 'FN': '18', 'precision': '0.786', 'recall': '0.379', 'f1': '0.512'}\n",
      "\n",
      "Episode 26 (34 chemicals)\n",
      "Finished after 391 timesteps with total reward 48.944505964525945\n",
      "{'coverage_prop': '0.971', 'intensity_prop': '0.819', 'ms1ms2_ratio': '0.385', 'efficiency': '0.117', 'TP': '12', 'FP': '5', 'FN': '17', 'precision': '0.706', 'recall': '0.414', 'f1': '0.522'}\n",
      "\n",
      "Episode 27 (26 chemicals)\n",
      "Finished after 344 timesteps with total reward 34.693977271808194\n",
      "{'coverage_prop': '0.962', 'intensity_prop': '0.759', 'ms1ms2_ratio': '0.825', 'efficiency': '0.132', 'TP': '6', 'FP': '2', 'FN': '18', 'precision': '0.750', 'recall': '0.250', 'f1': '0.375'}\n",
      "\n",
      "Episode 28 (28 chemicals)\n",
      "Finished after 382 timesteps with total reward 38.33416553504674\n",
      "{'coverage_prop': '0.964', 'intensity_prop': '0.775', 'ms1ms2_ratio': '0.445', 'efficiency': '0.102', 'TP': '7', 'FP': '6', 'FN': '15', 'precision': '0.538', 'recall': '0.318', 'f1': '0.400'}\n",
      "\n",
      "Episode 29 (34 chemicals)\n",
      "Finished after 341 timesteps with total reward 36.10112646053748\n",
      "{'coverage_prop': '0.941', 'intensity_prop': '0.581', 'ms1ms2_ratio': '0.869', 'efficiency': '0.175', 'TP': '9', 'FP': '5', 'FN': '20', 'precision': '0.643', 'recall': '0.310', 'f1': '0.419'}\n",
      "\n",
      "method = topN max_peaks = 100 N = 10 rt_tol = 15\n",
      "\n",
      "\n",
      "Episode 0 (28 chemicals)\n",
      "Finished after 275 timesteps with total reward 36.02712807084207\n",
      "{'coverage_prop': '0.964', 'intensity_prop': '0.807', 'ms1ms2_ratio': '4.412', 'efficiency': '0.529', 'TP': '9', 'FP': '6', 'FN': '13', 'precision': '0.600', 'recall': '0.409', 'f1': '0.486'}\n",
      "\n",
      "Episode 1 (22 chemicals)\n",
      "Finished after 269 timesteps with total reward 33.35396776584207\n",
      "{'coverage_prop': '0.955', 'intensity_prop': '0.748', 'ms1ms2_ratio': '5.923', 'efficiency': '0.538', 'TP': '7', 'FP': '4', 'FN': '11', 'precision': '0.636', 'recall': '0.389', 'f1': '0.483'}\n",
      "\n",
      "Episode 2 (45 chemicals)\n",
      "Finished after 288 timesteps with total reward 37.8418427871238\n",
      "{'coverage_prop': '0.978', 'intensity_prop': '0.832', 'ms1ms2_ratio': '2.803', 'efficiency': '0.579', 'TP': '11', 'FP': '6', 'FN': '28', 'precision': '0.647', 'recall': '0.282', 'f1': '0.393'}\n",
      "\n",
      "Episode 3 (28 chemicals)\n",
      "Finished after 271 timesteps with total reward 32.1943495914488\n",
      "{'coverage_prop': '0.821', 'intensity_prop': '0.616', 'ms1ms2_ratio': '5.476', 'efficiency': '0.548', 'TP': '8', 'FP': '1', 'FN': '19', 'precision': '0.889', 'recall': '0.296', 'f1': '0.444'}\n",
      "\n",
      "Episode 4 (20 chemicals)\n",
      "Finished after 269 timesteps with total reward 29.701599524842464\n",
      "{'coverage_prop': '0.850', 'intensity_prop': '0.729', 'ms1ms2_ratio': '6.105', 'efficiency': '0.447', 'TP': '5', 'FP': '2', 'FN': '13', 'precision': '0.714', 'recall': '0.278', 'f1': '0.400'}\n",
      "\n",
      "Episode 5 (38 chemicals)\n",
      "Finished after 289 timesteps with total reward 32.923866849661856\n",
      "{'coverage_prop': '0.974', 'intensity_prop': '0.810', 'ms1ms2_ratio': '2.671', 'efficiency': '0.468', 'TP': '7', 'FP': '6', 'FN': '25', 'precision': '0.538', 'recall': '0.219', 'f1': '0.311'}\n",
      "\n",
      "Episode 6 (34 chemicals)\n",
      "Finished after 285 timesteps with total reward 32.94281548350543\n",
      "{'coverage_prop': '0.971', 'intensity_prop': '0.804', 'ms1ms2_ratio': '3.086', 'efficiency': '0.471', 'TP': '7', 'FP': '5', 'FN': '22', 'precision': '0.583', 'recall': '0.241', 'f1': '0.341'}\n",
      "\n",
      "Episode 7 (21 chemicals)\n",
      "Finished after 276 timesteps with total reward 35.012745338533804\n",
      "{'coverage_prop': '1.000', 'intensity_prop': '0.914', 'ms1ms2_ratio': '4.226', 'efficiency': '0.396', 'TP': '11', 'FP': '0', 'FN': '10', 'precision': '1.000', 'recall': '0.524', 'f1': '0.688'}\n",
      "\n",
      "Episode 8 (37 chemicals)\n",
      "Finished after 289 timesteps with total reward 34.96142976319568\n",
      "{'coverage_prop': '1.000', 'intensity_prop': '0.877', 'ms1ms2_ratio': '2.671', 'efficiency': '0.468', 'TP': '11', 'FP': '3', 'FN': '23', 'precision': '0.786', 'recall': '0.324', 'f1': '0.458'}\n",
      "\n",
      "Episode 9 (45 chemicals)\n",
      "Finished after 293 timesteps with total reward 36.09937200521885\n",
      "{'coverage_prop': '1.000', 'intensity_prop': '0.835', 'ms1ms2_ratio': '2.379', 'efficiency': '0.517', 'TP': '10', 'FP': '3', 'FN': '32', 'precision': '0.769', 'recall': '0.238', 'f1': '0.364'}\n",
      "\n",
      "Episode 10 (36 chemicals)\n",
      "Finished after 289 timesteps with total reward 37.05786436375486\n",
      "{'coverage_prop': '1.000', 'intensity_prop': '0.896', 'ms1ms2_ratio': '2.671', 'efficiency': '0.456', 'TP': '13', 'FP': '3', 'FN': '20', 'precision': '0.812', 'recall': '0.394', 'f1': '0.531'}\n",
      "\n",
      "Episode 11 (46 chemicals)\n",
      "Finished after 293 timesteps with total reward 39.494203705958576\n",
      "{'coverage_prop': '1.000', 'intensity_prop': '0.843', 'ms1ms2_ratio': '2.419', 'efficiency': '0.535', 'TP': '16', 'FP': '6', 'FN': '24', 'precision': '0.727', 'recall': '0.400', 'f1': '0.516'}\n",
      "\n",
      "Episode 12 (49 chemicals)\n",
      "Finished after 297 timesteps with total reward 35.453451396475614\n",
      "{'coverage_prop': '0.939', 'intensity_prop': '0.849', 'ms1ms2_ratio': '2.137', 'efficiency': '0.484', 'TP': '9', 'FP': '2', 'FN': '38', 'precision': '0.818', 'recall': '0.191', 'f1': '0.310'}\n",
      "\n",
      "Episode 13 (24 chemicals)\n",
      "Finished after 273 timesteps with total reward 31.497417426487438\n",
      "{'coverage_prop': '0.958', 'intensity_prop': '0.757', 'ms1ms2_ratio': '4.957', 'efficiency': '0.500', 'TP': '6', 'FP': '5', 'FN': '13', 'precision': '0.545', 'recall': '0.316', 'f1': '0.400'}\n",
      "\n",
      "Episode 14 (32 chemicals)\n",
      "Finished after 282 timesteps with total reward 32.214493632922384\n",
      "{'coverage_prop': '0.938', 'intensity_prop': '0.830', 'ms1ms2_ratio': '3.422', 'efficiency': '0.469', 'TP': '9', 'FP': '2', 'FN': '21', 'precision': '0.818', 'recall': '0.300', 'f1': '0.439'}\n",
      "\n",
      "Episode 15 (42 chemicals)\n",
      "Finished after 294 timesteps with total reward 40.47579450424744\n",
      "{'coverage_prop': '1.000', 'intensity_prop': '0.843', 'ms1ms2_ratio': '2.352', 'efficiency': '0.477', 'TP': '15', 'FP': '4', 'FN': '23', 'precision': '0.789', 'recall': '0.395', 'f1': '0.526'}\n",
      "\n",
      "Episode 16 (25 chemicals)\n",
      "Finished after 274 timesteps with total reward 34.115674721857836\n",
      "{'coverage_prop': '0.960', 'intensity_prop': '0.775', 'ms1ms2_ratio': '4.729', 'efficiency': '0.500', 'TP': '11', 'FP': '2', 'FN': '12', 'precision': '0.846', 'recall': '0.478', 'f1': '0.611'}\n",
      "\n",
      "Episode 17 (34 chemicals)\n",
      "Finished after 281 timesteps with total reward 37.81513192682329\n",
      "{'coverage_prop': '0.971', 'intensity_prop': '0.758', 'ms1ms2_ratio': '3.548', 'efficiency': '0.532', 'TP': '16', 'FP': '5', 'FN': '13', 'precision': '0.762', 'recall': '0.552', 'f1': '0.640'}\n",
      "\n",
      "Episode 18 (44 chemicals)\n",
      "Finished after 292 timesteps with total reward 38.40108659591626\n",
      "{'coverage_prop': '0.977', 'intensity_prop': '0.775', 'ms1ms2_ratio': '2.447', 'efficiency': '0.506', 'TP': '15', 'FP': '3', 'FN': '26', 'precision': '0.833', 'recall': '0.366', 'f1': '0.508'}\n",
      "\n",
      "Episode 19 (37 chemicals)\n",
      "Finished after 285 timesteps with total reward 34.125904394401516\n",
      "{'coverage_prop': '0.973', 'intensity_prop': '0.817', 'ms1ms2_ratio': '3.028', 'efficiency': '0.507', 'TP': '7', 'FP': '8', 'FN': '22', 'precision': '0.467', 'recall': '0.241', 'f1': '0.318'}\n",
      "\n",
      "Episode 20 (23 chemicals)\n",
      "Finished after 273 timesteps with total reward 32.70694379883068\n",
      "{'coverage_prop': '0.957', 'intensity_prop': '0.708', 'ms1ms2_ratio': '4.957', 'efficiency': '0.478', 'TP': '9', 'FP': '1', 'FN': '13', 'precision': '0.900', 'recall': '0.409', 'f1': '0.563'}\n",
      "\n",
      "Episode 21 (40 chemicals)\n",
      "Finished after 288 timesteps with total reward 38.20215156183634\n",
      "{'coverage_prop': '0.925', 'intensity_prop': '0.746', 'ms1ms2_ratio': '2.803', 'efficiency': '0.487', 'TP': '13', 'FP': '4', 'FN': '23', 'precision': '0.765', 'recall': '0.361', 'f1': '0.491'}\n",
      "\n",
      "Episode 22 (43 chemicals)\n",
      "Finished after 295 timesteps with total reward 38.049469216312104\n",
      "{'coverage_prop': '1.000', 'intensity_prop': '0.881', 'ms1ms2_ratio': '2.253', 'efficiency': '0.473', 'TP': '13', 'FP': '6', 'FN': '24', 'precision': '0.684', 'recall': '0.351', 'f1': '0.464'}\n",
      "\n",
      "Episode 23 (37 chemicals)\n",
      "Finished after 285 timesteps with total reward 33.87890462983819\n",
      "{'coverage_prop': '0.946', 'intensity_prop': '0.775', 'ms1ms2_ratio': '3.086', 'efficiency': '0.500', 'TP': '11', 'FP': '2', 'FN': '24', 'precision': '0.846', 'recall': '0.314', 'f1': '0.458'}\n",
      "\n",
      "Episode 24 (27 chemicals)\n",
      "Finished after 273 timesteps with total reward 36.1482538376848\n",
      "{'coverage_prop': '0.963', 'intensity_prop': '0.715', 'ms1ms2_ratio': '4.957', 'efficiency': '0.565', 'TP': '10', 'FP': '6', 'FN': '11', 'precision': '0.625', 'recall': '0.476', 'f1': '0.541'}\n",
      "\n",
      "Episode 25 (32 chemicals)\n",
      "Finished after 279 timesteps with total reward 34.91038536321116\n",
      "{'coverage_prop': '1.000', 'intensity_prop': '0.817', 'ms1ms2_ratio': '3.828', 'efficiency': '0.552', 'TP': '8', 'FP': '7', 'FN': '17', 'precision': '0.533', 'recall': '0.320', 'f1': '0.400'}\n",
      "\n",
      "Episode 26 (34 chemicals)\n",
      "Finished after 287 timesteps with total reward 37.74882945137139\n",
      "{'coverage_prop': '0.882', 'intensity_prop': '0.796', 'ms1ms2_ratio': '2.840', 'efficiency': '0.400', 'TP': '13', 'FP': '3', 'FN': '18', 'precision': '0.812', 'recall': '0.419', 'f1': '0.553'}\n",
      "\n",
      "Episode 27 (26 chemicals)\n",
      "Finished after 276 timesteps with total reward 32.25091350023165\n",
      "{'coverage_prop': '0.962', 'intensity_prop': '0.795', 'ms1ms2_ratio': '4.327', 'efficiency': '0.481', 'TP': '7', 'FP': '3', 'FN': '16', 'precision': '0.700', 'recall': '0.304', 'f1': '0.424'}\n",
      "\n",
      "Episode 28 (28 chemicals)\n",
      "Finished after 279 timesteps with total reward 32.01641083066088\n",
      "{'coverage_prop': '0.964', 'intensity_prop': '0.733', 'ms1ms2_ratio': '3.828', 'efficiency': '0.466', 'TP': '6', 'FP': '5', 'FN': '17', 'precision': '0.545', 'recall': '0.261', 'f1': '0.353'}\n",
      "\n",
      "Episode 29 (34 chemicals)\n",
      "Finished after 275 timesteps with total reward 34.07290129078509\n",
      "{'coverage_prop': '0.941', 'intensity_prop': '0.637', 'ms1ms2_ratio': '4.520', 'efficiency': '0.640', 'TP': '6', 'FP': '9', 'FN': '19', 'precision': '0.400', 'recall': '0.240', 'f1': '0.300'}\n",
      "\n"
     ]
    }
   ],
   "source": [
    "method_eval_results = {}\n",
    "for method in methods:\n",
    "\n",
    "    N = 0\n",
    "    copy_params = dict(params)            \n",
    "    custom_objects = {\n",
    "        \"learning_rate\": 0.0,\n",
    "        \"lr_schedule\": lambda _: 0.0,\n",
    "        \"clip_range\": lambda _: 0.0,\n",
    "    }    \n",
    "    \n",
    "    if method == METHOD_DQN:\n",
    "        alpha = 0.25\n",
    "        beta = 0.75\n",
    "        model_dir = os.path.join(in_dir, 'metric_reward_timesteps_100000_alpha_%.2f_beta_%.2f' % (alpha, beta), METHOD_DQN)\n",
    "        fname = os.path.join(model_dir, 'best_model.zip')\n",
    "        model = DQN.load(fname, custom_objects=custom_objects)\n",
    "        copy_params['env']['alpha'] = alpha\n",
    "        copy_params['env']['beta'] = beta                \n",
    "    elif method == METHOD_PPO:\n",
    "        alpha = 0.25\n",
    "        beta = 0.75\n",
    "        model_dir = os.path.join(in_dir, 'metric_reward_timesteps_100000_alpha_%.2f_beta_%.2f' % (alpha, beta), METHOD_PPO)\n",
    "        fname = os.path.join(model_dir, 'best_model.zip')\n",
    "        model = PPO.load(fname, custom_objects=custom_objects)\n",
    "        copy_params['env']['alpha'] = alpha\n",
    "        copy_params['env']['beta'] = beta                \n",
    "    else:\n",
    "        model = None\n",
    "        if method == METHOD_TOPN:\n",
    "            N = topN_N\n",
    "            effective_rt_tol = topN_rt_tol\n",
    "            copy_params = dict(params)        \n",
    "            copy_params['env']['rt_tol'] = effective_rt_tol                        \n",
    "\n",
    "    banner = 'method = %s max_peaks = %d N = %d rt_tol = %d' % (method, max_peaks, N, copy_params['env']['rt_tol'])\n",
    "    print(banner)\n",
    "    print()            \n",
    "            \n",
    "    episodic_results = run_method(env_name, copy_params, max_peaks, chem_list, method, out_dir, \n",
    "                                  N=N, min_ms1_intensity=min_ms1_intensity, model=model,\n",
    "                                  print_eval=True, print_reward=True, intensity_threshold=intensity_threshold,\n",
    "                                  mzml_prefix=method)\n",
    "    eval_results = [er.eval_res for er in episodic_results]\n",
    "    method_eval_results[method] = eval_results\n",
    "    print()"
   ]
  },
  {
   "cell_type": "markdown",
   "metadata": {
    "pycharm": {
     "name": "#%% md\n"
    }
   },
   "source": [
    "#### Test classic controllers in ViMMS"
   ]
  },
  {
   "cell_type": "code",
   "execution_count": null,
   "metadata": {
    "pycharm": {
     "name": "#%%\n"
    }
   },
   "outputs": [],
   "source": [
    "from vimms.MassSpec import IndependentMassSpectrometer\n",
    "from vimms.Controller import TopNController, TopN_SmartRoiController, WeightedDEWController\n",
    "from vimms.Environment import Environment"
   ]
  },
  {
   "cell_type": "markdown",
   "metadata": {
    "pycharm": {
     "name": "#%% md\n"
    }
   },
   "source": [
    "Run Top-N Controller"
   ]
  },
  {
   "cell_type": "code",
   "execution_count": null,
   "metadata": {},
   "outputs": [],
   "source": [
    "params"
   ]
  },
  {
   "cell_type": "code",
   "execution_count": null,
   "metadata": {},
   "outputs": [],
   "source": [
    "enable_spike_noise = params['noise']['enable_spike_noise']\n",
    "ionisation_mode = params['env']['ionisation_mode']\n",
    "isolation_window = params['env']['isolation_window']\n",
    "mz_tol = params['env']['mz_tol']\n",
    "rt_range = params['chemical_creator']['mz_range']"
   ]
  },
  {
   "cell_type": "code",
   "execution_count": null,
   "metadata": {
    "pycharm": {
     "name": "#%%\n"
    }
   },
   "outputs": [],
   "source": [
    "method = 'TopN_Controller'\n",
    "print('method = %s' % method)\n",
    "print()\n",
    "\n",
    "effective_rt_tol = topN_rt_tol\n",
    "effective_N = topN_N\n",
    "eval_results = []\n",
    "for i in range(len(chem_list)):\n",
    "    \n",
    "    spike_noise = None\n",
    "    if enable_spike_noise:\n",
    "        noise_params = params['noise']\n",
    "        noise_density = noise_params['noise_density']\n",
    "        noise_max_val = noise_params['noise_max_val']\n",
    "        noise_min_mz = noise_params['mz_range'][0]\n",
    "        noise_max_mz = noise_params['mz_range'][1]\n",
    "        spike_noise = UniformSpikeNoise(noise_density, noise_max_val, min_mz=noise_min_mz,\n",
    "                                        max_mz=noise_max_mz)\n",
    "\n",
    "    chems = chem_list[i]\n",
    "    mass_spec = IndependentMassSpectrometer(ionisation_mode, chems, spike_noise=spike_noise)\n",
    "    controller = TopNController(ionisation_mode, effective_N, isolation_window, mz_tol, effective_rt_tol,\n",
    "                                min_ms1_intensity)\n",
    "    env = Environment(mass_spec, controller, rt_range[0], rt_range[1], progress_bar=False, out_dir=out_dir,\n",
    "                      out_file='%s_%d.mzML' % (method, i), save_eval=True)\n",
    "    env.run()\n",
    "    \n",
    "    eval_res = evaluate(env, intensity_threshold)\n",
    "    eval_results.append(eval_res)\n",
    "    print('Episode %d finished' % i)\n",
    "    print(eval_res)\n",
    "    \n",
    "method_eval_results[method] = eval_results"
   ]
  },
  {
   "cell_type": "markdown",
   "metadata": {
    "pycharm": {
     "name": "#%% md\n"
    }
   },
   "source": [
    "Run SmartROI Controller"
   ]
  },
  {
   "cell_type": "code",
   "execution_count": null,
   "metadata": {
    "pycharm": {
     "name": "#%%\n"
    }
   },
   "outputs": [],
   "source": [
    "method = 'SmartROI_Controller'\n",
    "print('method = %s' % method)\n",
    "print()\n",
    "\n",
    "eval_results = []\n",
    "for i in range(len(chem_list)):\n",
    "    \n",
    "    spike_noise = None\n",
    "    if enable_spike_noise:\n",
    "        noise_params = params['noise']\n",
    "        noise_density = noise_params['noise_density']\n",
    "        noise_max_val = noise_params['noise_max_val']\n",
    "        noise_min_mz = noise_params['mz_range'][0]\n",
    "        noise_max_mz = noise_params['mz_range'][1]\n",
    "        spike_noise = UniformSpikeNoise(noise_density, noise_max_val, min_mz=noise_min_mz,\n",
    "                                        max_mz=noise_max_mz)\n",
    "\n",
    "    chems = chem_list[i]\n",
    "    mass_spec = IndependentMassSpectrometer(ionisation_mode, chems, spike_noise=spike_noise)\n",
    "    \n",
    "    roi_params = RoiBuilderParams(min_roi_intensity=0, min_roi_length=0)    \n",
    "    smartroi_params = SmartRoiParams(intensity_increase_factor=alpha, drop_perc=beta/100.0)\n",
    "    controller = TopN_SmartRoiController(ionisation_mode, isolation_window, smartroi_N, mz_tol, smartroi_dew,\n",
    "                                min_ms1_intensity, roi_params, smartroi_params)\n",
    "    env = Environment(mass_spec, controller, rt_range[0], rt_range[1], progress_bar=False, out_dir=out_dir,\n",
    "                      out_file='%s_%d.mzML' % (method, i), save_eval=True)\n",
    "    env.run()\n",
    "    \n",
    "    eval_res = evaluate(env, intensity_threshold)\n",
    "    eval_results.append(eval_res)\n",
    "    print('Episode %d finished' % i)\n",
    "    print(eval_res)\n",
    "    \n",
    "method_eval_results[method] = eval_results"
   ]
  },
  {
   "cell_type": "markdown",
   "metadata": {
    "pycharm": {
     "name": "#%% md\n"
    }
   },
   "source": [
    "Run WeightedDEW Controller"
   ]
  },
  {
   "cell_type": "code",
   "execution_count": null,
   "metadata": {
    "pycharm": {
     "name": "#%%\n"
    }
   },
   "outputs": [],
   "source": [
    "method = 'WeightedDEW_Controller'\n",
    "print('method = %s' % method)\n",
    "print()\n",
    "\n",
    "eval_results = []\n",
    "for i in range(len(chem_list)):\n",
    "    \n",
    "    spike_noise = None\n",
    "    if enable_spike_noise:\n",
    "        noise_params = params['noise']\n",
    "        noise_density = noise_params['noise_density']\n",
    "        noise_max_val = noise_params['noise_max_val']\n",
    "        noise_min_mz = noise_params['mz_range'][0]\n",
    "        noise_max_mz = noise_params['mz_range'][1]\n",
    "        spike_noise = UniformSpikeNoise(noise_density, noise_max_val, min_mz=noise_min_mz,\n",
    "                                        max_mz=noise_max_mz)\n",
    "\n",
    "    chems = chem_list[i]\n",
    "    mass_spec = IndependentMassSpectrometer(ionisation_mode, chems, spike_noise=spike_noise)\n",
    "    \n",
    "    controller = WeightedDEWController(ionisation_mode, weighteddew_N, isolation_window, mz_tol, t1,\n",
    "                                min_ms1_intensity, exclusion_t_0=t0)\n",
    "    env = Environment(mass_spec, controller, rt_range[0], rt_range[1], progress_bar=False, out_dir=out_dir,\n",
    "                      out_file='%s_%d.mzML' % (method, i), save_eval=True)\n",
    "    env.run()\n",
    "    \n",
    "    eval_res = evaluate(env, intensity_threshold)\n",
    "    eval_results.append(eval_res)\n",
    "    print('Episode %d finished' % i)\n",
    "    print(eval_res)\n",
    "    \n",
    "method_eval_results[method] = eval_results"
   ]
  },
  {
   "cell_type": "markdown",
   "metadata": {
    "pycharm": {
     "name": "#%% md\n"
    }
   },
   "source": [
    "#### Plotting"
   ]
  },
  {
   "cell_type": "markdown",
   "metadata": {
    "pycharm": {
     "name": "#%% md\n"
    }
   },
   "source": [
    "Flatten data into dataframe"
   ]
  },
  {
   "cell_type": "code",
   "execution_count": 15,
   "metadata": {
    "pycharm": {
     "name": "#%%\n"
    }
   },
   "outputs": [
    {
     "data": {
      "text/html": [
       "<div>\n",
       "<style scoped>\n",
       "    .dataframe tbody tr th:only-of-type {\n",
       "        vertical-align: middle;\n",
       "    }\n",
       "\n",
       "    .dataframe tbody tr th {\n",
       "        vertical-align: top;\n",
       "    }\n",
       "\n",
       "    .dataframe thead th {\n",
       "        text-align: right;\n",
       "    }\n",
       "</style>\n",
       "<table border=\"1\" class=\"dataframe\">\n",
       "  <thead>\n",
       "    <tr style=\"text-align: right;\">\n",
       "      <th></th>\n",
       "      <th>method</th>\n",
       "      <th>coverage_prop</th>\n",
       "      <th>intensity_prop</th>\n",
       "      <th>ms1/ms2_ratio</th>\n",
       "      <th>efficiency</th>\n",
       "      <th>precision</th>\n",
       "      <th>recall</th>\n",
       "      <th>f1</th>\n",
       "    </tr>\n",
       "  </thead>\n",
       "  <tbody>\n",
       "    <tr>\n",
       "      <th>0</th>\n",
       "      <td>random</td>\n",
       "      <td>0.500</td>\n",
       "      <td>0.290</td>\n",
       "      <td>0.004</td>\n",
       "      <td>0.028</td>\n",
       "      <td>0.714</td>\n",
       "      <td>0.192</td>\n",
       "      <td>0.303</td>\n",
       "    </tr>\n",
       "    <tr>\n",
       "      <th>1</th>\n",
       "      <td>random</td>\n",
       "      <td>0.727</td>\n",
       "      <td>0.557</td>\n",
       "      <td>0.012</td>\n",
       "      <td>0.033</td>\n",
       "      <td>0.667</td>\n",
       "      <td>0.200</td>\n",
       "      <td>0.308</td>\n",
       "    </tr>\n",
       "    <tr>\n",
       "      <th>2</th>\n",
       "      <td>random</td>\n",
       "      <td>0.711</td>\n",
       "      <td>0.494</td>\n",
       "      <td>0.004</td>\n",
       "      <td>0.064</td>\n",
       "      <td>0.333</td>\n",
       "      <td>0.023</td>\n",
       "      <td>0.043</td>\n",
       "    </tr>\n",
       "    <tr>\n",
       "      <th>3</th>\n",
       "      <td>random</td>\n",
       "      <td>0.321</td>\n",
       "      <td>0.155</td>\n",
       "      <td>0.006</td>\n",
       "      <td>0.018</td>\n",
       "      <td>0.500</td>\n",
       "      <td>0.077</td>\n",
       "      <td>0.133</td>\n",
       "    </tr>\n",
       "    <tr>\n",
       "      <th>4</th>\n",
       "      <td>random</td>\n",
       "      <td>0.750</td>\n",
       "      <td>0.520</td>\n",
       "      <td>0.014</td>\n",
       "      <td>0.031</td>\n",
       "      <td>0.600</td>\n",
       "      <td>0.167</td>\n",
       "      <td>0.261</td>\n",
       "    </tr>\n",
       "  </tbody>\n",
       "</table>\n",
       "</div>"
      ],
      "text/plain": [
       "   method  coverage_prop  intensity_prop  ms1/ms2_ratio  efficiency  \\\n",
       "0  random          0.500           0.290          0.004       0.028   \n",
       "1  random          0.727           0.557          0.012       0.033   \n",
       "2  random          0.711           0.494          0.004       0.064   \n",
       "3  random          0.321           0.155          0.006       0.018   \n",
       "4  random          0.750           0.520          0.014       0.031   \n",
       "\n",
       "   precision  recall     f1  \n",
       "0      0.714   0.192  0.303  \n",
       "1      0.667   0.200  0.308  \n",
       "2      0.333   0.023  0.043  \n",
       "3      0.500   0.077  0.133  \n",
       "4      0.600   0.167  0.261  "
      ]
     },
     "execution_count": 15,
     "metadata": {},
     "output_type": "execute_result"
    }
   ],
   "source": [
    "data = []\n",
    "for method in method_eval_results:\n",
    "    eval_results = method_eval_results[method]\n",
    "    for eval_res in eval_results:\n",
    "        row = (\n",
    "            method, \n",
    "            float(eval_res['coverage_prop']), \n",
    "            float(eval_res['intensity_prop']), \n",
    "            float(eval_res['ms1ms2_ratio']), \n",
    "            float(eval_res['efficiency']),\n",
    "            float(eval_res['precision']),\n",
    "            float(eval_res['recall']),\n",
    "            float(eval_res['f1']),            \n",
    "        )\n",
    "        data.append(row)\n",
    "        \n",
    "df = pd.DataFrame(data, columns=['method', 'coverage_prop', 'intensity_prop', 'ms1/ms2_ratio', 'efficiency', 'precision', 'recall', 'f1'])\n",
    "# df.set_index('method', inplace=True)\n",
    "df.head()"
   ]
  },
  {
   "cell_type": "code",
   "execution_count": 16,
   "metadata": {
    "pycharm": {
     "name": "#%%\n"
    }
   },
   "outputs": [],
   "source": [
    "sns.set_context(\"poster\")"
   ]
  },
  {
   "cell_type": "code",
   "execution_count": 17,
   "metadata": {
    "pycharm": {
     "name": "#%%\n"
    }
   },
   "outputs": [
    {
     "data": {
      "text/plain": [
       "Text(0.5, 1.0, 'Coverage Proportion')"
      ]
     },
     "execution_count": 17,
     "metadata": {},
     "output_type": "execute_result"
    },
    {
     "data": {
      "image/png": "[encoded data removed]",
      "text/plain": [
       "<Figure size 720x360 with 1 Axes>"
      ]
     },
     "metadata": {
      "needs_background": "light"
     },
     "output_type": "display_data"
    }
   ],
   "source": [
    "plt.figure(figsize=(10, 5))\n",
    "sns.boxplot(data=df, x='method', y='coverage_prop')\n",
    "plt.xticks(rotation=90)\n",
    "plt.title('Coverage Proportion')"
   ]
  },
  {
   "cell_type": "code",
   "execution_count": 18,
   "metadata": {
    "pycharm": {
     "name": "#%%\n"
    }
   },
   "outputs": [
    {
     "data": {
      "text/plain": [
       "Text(0.5, 1.0, 'Intensity Proportion')"
      ]
     },
     "execution_count": 18,
     "metadata": {},
     "output_type": "execute_result"
    },
    {
     "data": {
      "image/png": "[encoded data removed]",
      "text/plain": [
       "<Figure size 720x360 with 1 Axes>"
      ]
     },
     "metadata": {
      "needs_background": "light"
     },
     "output_type": "display_data"
    }
   ],
   "source": [
    "plt.figure(figsize=(10, 5))\n",
    "sns.boxplot(data=df, x='method', y='intensity_prop')\n",
    "plt.xticks(rotation=90)\n",
    "plt.title('Intensity Proportion')"
   ]
  },
  {
   "cell_type": "code",
   "execution_count": 19,
   "metadata": {
    "pycharm": {
     "name": "#%%\n"
    }
   },
   "outputs": [
    {
     "data": {
      "text/plain": [
       "Text(0.5, 1.0, 'MS1/MS2 Ratio')"
      ]
     },
     "execution_count": 19,
     "metadata": {},
     "output_type": "execute_result"
    },
    {
     "data": {
      "image/png": "[encoded data removed]",
      "text/plain": [
       "<Figure size 720x360 with 1 Axes>"
      ]
     },
     "metadata": {
      "needs_background": "light"
     },
     "output_type": "display_data"
    }
   ],
   "source": [
    "plt.figure(figsize=(10, 5))\n",
    "sns.boxplot(data=df, x='method', y='ms1/ms2_ratio')\n",
    "plt.xticks(rotation=90)\n",
    "plt.title('MS1/MS2 Ratio')"
   ]
  },
  {
   "cell_type": "code",
   "execution_count": 20,
   "metadata": {
    "pycharm": {
     "name": "#%%\n"
    }
   },
   "outputs": [
    {
     "data": {
      "text/plain": [
       "Text(0.5, 1.0, 'Efficiency')"
      ]
     },
     "execution_count": 20,
     "metadata": {},
     "output_type": "execute_result"
    },
    {
     "data": {
      "image/png": "[encoded data removed]",
      "text/plain": [
       "<Figure size 720x360 with 1 Axes>"
      ]
     },
     "metadata": {
      "needs_background": "light"
     },
     "output_type": "display_data"
    }
   ],
   "source": [
    "plt.figure(figsize=(10, 5))\n",
    "sns.boxplot(data=df, x='method', y='efficiency')\n",
    "plt.xticks(rotation=90)\n",
    "plt.title('Efficiency')"
   ]
  },
  {
   "cell_type": "code",
   "execution_count": 21,
   "metadata": {
    "pycharm": {
     "name": "#%%\n"
    }
   },
   "outputs": [
    {
     "data": {
      "text/plain": [
       "Text(0.5, 1.0, 'Precision')"
      ]
     },
     "execution_count": 21,
     "metadata": {},
     "output_type": "execute_result"
    },
    {
     "data": {
      "image/png": "[encoded data removed]",
      "text/plain": [
       "<Figure size 720x360 with 1 Axes>"
      ]
     },
     "metadata": {
      "needs_background": "light"
     },
     "output_type": "display_data"
    }
   ],
   "source": [
    "plt.figure(figsize=(10, 5))\n",
    "sns.boxplot(data=df, x='method', y='precision')\n",
    "plt.xticks(rotation=90)\n",
    "plt.title('Precision')"
   ]
  },
  {
   "cell_type": "code",
   "execution_count": 22,
   "metadata": {
    "pycharm": {
     "name": "#%%\n"
    }
   },
   "outputs": [
    {
     "data": {
      "text/plain": [
       "Text(0.5, 1.0, 'Recall')"
      ]
     },
     "execution_count": 22,
     "metadata": {},
     "output_type": "execute_result"
    },
    {
     "data": {
      "image/png": "[encoded data removed]",
      "text/plain": [
       "<Figure size 720x360 with 1 Axes>"
      ]
     },
     "metadata": {
      "needs_background": "light"
     },
     "output_type": "display_data"
    }
   ],
   "source": [
    "plt.figure(figsize=(10, 5))\n",
    "sns.boxplot(data=df, x='method', y='recall')\n",
    "plt.xticks(rotation=90)\n",
    "plt.title('Recall')"
   ]
  },
  {
   "cell_type": "code",
   "execution_count": 23,
   "metadata": {
    "pycharm": {
     "name": "#%%\n"
    }
   },
   "outputs": [
    {
     "data": {
      "text/plain": [
       "Text(0.5, 1.0, 'F1')"
      ]
     },
     "execution_count": 23,
     "metadata": {},
     "output_type": "execute_result"
    },
    {
     "data": {
      "image/png": "[encoded data removed]",
      "text/plain": [
       "<Figure size 720x360 with 1 Axes>"
      ]
     },
     "metadata": {
      "needs_background": "light"
     },
     "output_type": "display_data"
    }
   ],
   "source": [
    "plt.figure(figsize=(10, 5))\n",
    "sns.boxplot(data=df, x='method', y='f1')\n",
    "plt.xticks(rotation=90)\n",
    "plt.title('F1')"
   ]
  },
  {
   "cell_type": "code",
   "execution_count": 24,
   "metadata": {
    "pycharm": {
     "name": "#%%\n"
    }
   },
   "outputs": [],
   "source": [
    "df.to_pickle('evaluation.p')"
   ]
  },
  {
   "cell_type": "markdown",
   "metadata": {},
   "source": [
    "### Without 'random'"
   ]
  },
  {
   "cell_type": "code",
   "execution_count": 25,
   "metadata": {},
   "outputs": [],
   "source": [
    "df = pd.read_pickle('evaluation.p')"
   ]
  },
  {
   "cell_type": "code",
   "execution_count": 26,
   "metadata": {},
   "outputs": [
    {
     "data": {
      "text/html": [
       "<div>\n",
       "<style scoped>\n",
       "    .dataframe tbody tr th:only-of-type {\n",
       "        vertical-align: middle;\n",
       "    }\n",
       "\n",
       "    .dataframe tbody tr th {\n",
       "        vertical-align: top;\n",
       "    }\n",
       "\n",
       "    .dataframe thead th {\n",
       "        text-align: right;\n",
       "    }\n",
       "</style>\n",
       "<table border=\"1\" class=\"dataframe\">\n",
       "  <thead>\n",
       "    <tr style=\"text-align: right;\">\n",
       "      <th></th>\n",
       "      <th>method</th>\n",
       "      <th>coverage_prop</th>\n",
       "      <th>intensity_prop</th>\n",
       "      <th>ms1/ms2_ratio</th>\n",
       "      <th>efficiency</th>\n",
       "      <th>precision</th>\n",
       "      <th>recall</th>\n",
       "      <th>f1</th>\n",
       "    </tr>\n",
       "  </thead>\n",
       "  <tbody>\n",
       "    <tr>\n",
       "      <th>30</th>\n",
       "      <td>PPO</td>\n",
       "      <td>0.929</td>\n",
       "      <td>0.822</td>\n",
       "      <td>0.613</td>\n",
       "      <td>0.116</td>\n",
       "      <td>0.714</td>\n",
       "      <td>0.417</td>\n",
       "      <td>0.526</td>\n",
       "    </tr>\n",
       "    <tr>\n",
       "      <th>31</th>\n",
       "      <td>PPO</td>\n",
       "      <td>0.955</td>\n",
       "      <td>0.771</td>\n",
       "      <td>1.018</td>\n",
       "      <td>0.127</td>\n",
       "      <td>0.818</td>\n",
       "      <td>0.450</td>\n",
       "      <td>0.581</td>\n",
       "    </tr>\n",
       "    <tr>\n",
       "      <th>32</th>\n",
       "      <td>PPO</td>\n",
       "      <td>0.911</td>\n",
       "      <td>0.785</td>\n",
       "      <td>0.835</td>\n",
       "      <td>0.218</td>\n",
       "      <td>0.643</td>\n",
       "      <td>0.225</td>\n",
       "      <td>0.333</td>\n",
       "    </tr>\n",
       "    <tr>\n",
       "      <th>33</th>\n",
       "      <td>PPO</td>\n",
       "      <td>0.857</td>\n",
       "      <td>0.578</td>\n",
       "      <td>1.524</td>\n",
       "      <td>0.194</td>\n",
       "      <td>0.667</td>\n",
       "      <td>0.240</td>\n",
       "      <td>0.353</td>\n",
       "    </tr>\n",
       "    <tr>\n",
       "      <th>34</th>\n",
       "      <td>PPO</td>\n",
       "      <td>1.000</td>\n",
       "      <td>0.705</td>\n",
       "      <td>0.781</td>\n",
       "      <td>0.102</td>\n",
       "      <td>0.444</td>\n",
       "      <td>0.267</td>\n",
       "      <td>0.333</td>\n",
       "    </tr>\n",
       "  </tbody>\n",
       "</table>\n",
       "</div>"
      ],
      "text/plain": [
       "   method  coverage_prop  intensity_prop  ms1/ms2_ratio  efficiency  \\\n",
       "30    PPO          0.929           0.822          0.613       0.116   \n",
       "31    PPO          0.955           0.771          1.018       0.127   \n",
       "32    PPO          0.911           0.785          0.835       0.218   \n",
       "33    PPO          0.857           0.578          1.524       0.194   \n",
       "34    PPO          1.000           0.705          0.781       0.102   \n",
       "\n",
       "    precision  recall     f1  \n",
       "30      0.714   0.417  0.526  \n",
       "31      0.818   0.450  0.581  \n",
       "32      0.643   0.225  0.333  \n",
       "33      0.667   0.240  0.353  \n",
       "34      0.444   0.267  0.333  "
      ]
     },
     "execution_count": 26,
     "metadata": {},
     "output_type": "execute_result"
    }
   ],
   "source": [
    "new_df = df[df.method != 'random']\n",
    "new_df.head()"
   ]
  },
  {
   "cell_type": "code",
   "execution_count": 27,
   "metadata": {},
   "outputs": [
    {
     "data": {
      "text/plain": [
       "Text(0.5, 1.0, 'Coverage Proportion')"
      ]
     },
     "execution_count": 27,
     "metadata": {},
     "output_type": "execute_result"
    },
    {
     "data": {
      "image/png": "[encoded data removed]",
      "text/plain": [
       "<Figure size 720x360 with 1 Axes>"
      ]
     },
     "metadata": {
      "needs_background": "light"
     },
     "output_type": "display_data"
    }
   ],
   "source": [
    "plt.figure(figsize=(10, 5))\n",
    "sns.boxplot(data=new_df, x='method', y='coverage_prop')\n",
    "plt.xticks(rotation=90)\n",
    "plt.title('Coverage Proportion')"
   ]
  },
  {
   "cell_type": "code",
   "execution_count": 28,
   "metadata": {},
   "outputs": [
    {
     "data": {
      "text/plain": [
       "Text(0.5, 1.0, 'Intensity Proportion')"
      ]
     },
     "execution_count": 28,
     "metadata": {},
     "output_type": "execute_result"
    },
    {
     "data": {
      "image/png": "[encoded data removed]",
      "text/plain": [
       "<Figure size 720x360 with 1 Axes>"
      ]
     },
     "metadata": {
      "needs_background": "light"
     },
     "output_type": "display_data"
    }
   ],
   "source": [
    "plt.figure(figsize=(10, 5))\n",
    "sns.boxplot(data=new_df, x='method', y='intensity_prop')\n",
    "plt.xticks(rotation=90)\n",
    "plt.title('Intensity Proportion')"
   ]
  },
  {
   "cell_type": "code",
   "execution_count": 29,
   "metadata": {},
   "outputs": [
    {
     "data": {
      "text/plain": [
       "Text(0.5, 1.0, 'MS1/MS2 Ratio')"
      ]
     },
     "execution_count": 29,
     "metadata": {},
     "output_type": "execute_result"
    },
    {
     "data": {
      "image/png": "[encoded data removed]",
      "text/plain": [
       "<Figure size 720x360 with 1 Axes>"
      ]
     },
     "metadata": {
      "needs_background": "light"
     },
     "output_type": "display_data"
    }
   ],
   "source": [
    "plt.figure(figsize=(10, 5))\n",
    "sns.boxplot(data=new_df, x='method', y='ms1/ms2_ratio')\n",
    "plt.xticks(rotation=90)\n",
    "plt.title('MS1/MS2 Ratio')"
   ]
  },
  {
   "cell_type": "code",
   "execution_count": 30,
   "metadata": {},
   "outputs": [
    {
     "data": {
      "text/plain": [
       "Text(0.5, 1.0, 'Precision')"
      ]
     },
     "execution_count": 30,
     "metadata": {},
     "output_type": "execute_result"
    },
    {
     "data": {
      "image/png": "[encoded data removed]",
      "text/plain": [
       "<Figure size 720x360 with 1 Axes>"
      ]
     },
     "metadata": {
      "needs_background": "light"
     },
     "output_type": "display_data"
    }
   ],
   "source": [
    "plt.figure(figsize=(10, 5))\n",
    "sns.boxplot(data=new_df, x='method', y='precision')\n",
    "plt.xticks(rotation=90)\n",
    "plt.title('Precision')"
   ]
  },
  {
   "cell_type": "code",
   "execution_count": 31,
   "metadata": {},
   "outputs": [
    {
     "data": {
      "text/plain": [
       "Text(0.5, 1.0, 'Recall')"
      ]
     },
     "execution_count": 31,
     "metadata": {},
     "output_type": "execute_result"
    },
    {
     "data": {
      "image/png": "[encoded data removed]",
      "text/plain": [
       "<Figure size 720x360 with 1 Axes>"
      ]
     },
     "metadata": {
      "needs_background": "light"
     },
     "output_type": "display_data"
    }
   ],
   "source": [
    "plt.figure(figsize=(10, 5))\n",
    "sns.boxplot(data=new_df, x='method', y='recall')\n",
    "plt.xticks(rotation=90)\n",
    "plt.title('Recall')"
   ]
  },
  {
   "cell_type": "code",
   "execution_count": 32,
   "metadata": {},
   "outputs": [
    {
     "data": {
      "text/plain": [
       "Text(0.5, 1.0, 'F1')"
      ]
     },
     "execution_count": 32,
     "metadata": {},
     "output_type": "execute_result"
    },
    {
     "data": {
      "image/png": "[encoded data removed]",
      "text/plain": [
       "<Figure size 720x360 with 1 Axes>"
      ]
     },
     "metadata": {
      "needs_background": "light"
     },
     "output_type": "display_data"
    }
   ],
   "source": [
    "plt.figure(figsize=(10, 5))\n",
    "sns.boxplot(data=new_df, x='method', y='f1')\n",
    "plt.xticks(rotation=90)\n",
    "plt.title('F1')"
   ]
  }
 ],
 "metadata": {
  "kernelspec": {
   "display_name": "Python 3 (ipykernel)",
   "language": "python",
   "name": "python3"
  },
  "language_info": {
   "codemirror_mode": {
    "name": "ipython",
    "version": 3
   },
   "file_extension": ".py",
   "mimetype": "text/x-python",
   "name": "python",
   "nbconvert_exporter": "python",
   "pygments_lexer": "ipython3",
   "version": "3.8.12"
  },
  "vscode": {
   "interpreter": {
    "hash": "b0fa6594d8f4cbf19f97940f81e996739fb7646882a419484c72d19e05852a7e"
   }
  }
 },
 "nbformat": 4,
 "nbformat_minor": 4
}
