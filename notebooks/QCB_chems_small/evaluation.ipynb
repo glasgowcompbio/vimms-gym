{
 "cells": [
  {
   "cell_type": "markdown",
   "metadata": {},
   "source": [
    "# Evaluation using QCB chemicals (small)"
   ]
  },
  {
   "cell_type": "code",
   "execution_count": 1,
   "metadata": {
    "pycharm": {
     "name": "#%%\n"
    },
    "tags": []
   },
   "outputs": [],
   "source": [
    "%matplotlib inline\n",
    "\n",
    "%load_ext autoreload\n",
    "%autoreload 2"
   ]
  },
  {
   "cell_type": "code",
   "execution_count": 2,
   "metadata": {
    "pycharm": {
     "name": "#%%\n"
    }
   },
   "outputs": [],
   "source": [
    "import os\n",
    "import sys\n",
    "from os.path import exists\n",
    "\n",
    "sys.path.append('../..')"
   ]
  },
  {
   "cell_type": "code",
   "execution_count": 15,
   "metadata": {
    "pycharm": {
     "name": "#%%\n"
    },
    "tags": []
   },
   "outputs": [],
   "source": [
    "import pylab as plt\n",
    "import pandas as pd\n",
    "import numpy as np\n",
    "from loguru import logger\n",
    "import seaborn as sns\n",
    "\n",
    "from stable_baselines3 import DQN, PPO\n",
    "from sb3_contrib import RecurrentPPO"
   ]
  },
  {
   "cell_type": "code",
   "execution_count": 4,
   "metadata": {
    "pycharm": {
     "name": "#%%\n"
    },
    "tags": []
   },
   "outputs": [],
   "source": [
    "from vimms.Common import POSITIVE, set_log_level_warning, load_obj, save_obj\n",
    "from vimms.ChemicalSamplers import UniformRTAndIntensitySampler, GaussianChromatogramSampler, UniformMZFormulaSampler, \\\n",
    "    MZMLFormulaSampler, MZMLRTandIntensitySampler, MZMLChromatogramSampler\n",
    "from vimms.Noise import UniformSpikeNoise\n",
    "from vimms.Evaluation import evaluate_real\n",
    "from vimms.Chemicals import ChemicalMixtureFromMZML\n",
    "from vimms.Roi import RoiBuilderParams, SmartRoiParams\n",
    "\n",
    "from mass_spec_utils.data_import.mzmine import load_picked_boxes\n",
    "\n",
    "from vimms_gym.env import DDAEnv\n",
    "from vimms_gym.chemicals import generate_chemicals\n",
    "from vimms_gym.evaluation import evaluate, run_method\n",
    "from vimms_gym.common import METHOD_RANDOM, METHOD_FULLSCAN, METHOD_TOPN, METHOD_DQN, \\\n",
    "    METHOD_DQN_COV, METHOD_DQN_INT, METHOD_DQN_MID, METHOD_PPO, METHOD_PPO_RECURRENT"
   ]
  },
  {
   "cell_type": "markdown",
   "metadata": {
    "pycharm": {
     "name": "#%% md\n"
    }
   },
   "source": [
    "# 1. Parameters"
   ]
  },
  {
   "cell_type": "markdown",
   "metadata": {},
   "source": [
    "Parameters that will be used throughout this notebook. Should be the same as the training ones."
   ]
  },
  {
   "cell_type": "markdown",
   "metadata": {},
   "source": [
    "Chemical generation parameters"
   ]
  },
  {
   "cell_type": "code",
   "execution_count": 6,
   "metadata": {},
   "outputs": [
    {
     "name": "stderr",
     "output_type": "stream",
     "text": [
      "2022-08-19 10:06:38.400 | INFO     | experiments:get_samplers:233 - Loaded /Users/joewandy/Work/git/vimms-gym/pickles/samplers_QCB_small_gaussian.p\n"
     ]
    },
    {
     "data": {
      "text/plain": [
       "({'chemical_creator': {'mz_range': (100, 110),\n",
       "   'rt_range': (400, 500),\n",
       "   'intensity_range': (10000.0, 1e+20),\n",
       "   'n_chemicals': (20, 50),\n",
       "   'mz_sampler': <vimms.ChemicalSamplers.MZMLFormulaSampler at 0x7fc1dbc980a0>,\n",
       "   'ri_sampler': <vimms.ChemicalSamplers.MZMLRTandIntensitySampler at 0x7fc1dd9032b0>,\n",
       "   'cr_sampler': <vimms.ChemicalSamplers.GaussianChromatogramSampler at 0x7fc1d80aa4f0>},\n",
       "  'noise': {'enable_spike_noise': True,\n",
       "   'noise_density': 0.1,\n",
       "   'noise_max_val': 1000.0,\n",
       "   'mz_range': (100, 110)},\n",
       "  'env': {'ionisation_mode': 'Positive',\n",
       "   'rt_range': (400, 500),\n",
       "   'isolation_window': 0.7,\n",
       "   'mz_tol': 10,\n",
       "   'rt_tol': 120,\n",
       "   'alpha': 0.25,\n",
       "   'beta': 0.75}},\n",
       " 100)"
      ]
     },
     "execution_count": 6,
     "metadata": {},
     "output_type": "execute_result"
    }
   ],
   "source": [
    "from experiments import preset_qcb_small\n",
    "alpha = 0.25\n",
    "beta = 0.75\n",
    "extract = False\n",
    "params, max_peaks = preset_qcb_small(None, alpha=alpha, beta=beta, extract_chromatograms=extract)\n",
    "params, max_peaks"
   ]
  },
  {
   "cell_type": "code",
   "execution_count": 7,
   "metadata": {
    "pycharm": {
     "name": "#%%\n"
    }
   },
   "outputs": [],
   "source": [
    "# n_chemicals = (20, 50)\n",
    "# mz_range = (100, 110)\n",
    "# rt_range = (400, 500)\n",
    "# intensity_range = (1E4, 1E20)"
   ]
  },
  {
   "cell_type": "markdown",
   "metadata": {},
   "source": [
    "Evaluation parameters"
   ]
  },
  {
   "cell_type": "code",
   "execution_count": 29,
   "metadata": {},
   "outputs": [],
   "source": [
    "env_name = 'DDAEnv'\n",
    "intensity_threshold = 0.5\n",
    "max_peaks = 100\n",
    "in_dir = '../../tune/QCB_chems_small'\n",
    "out_dir = 'evaluation'\n",
    "methods = [\n",
    "    METHOD_RANDOM,\n",
    "    METHOD_PPO,\n",
    "    # METHOD_PPO_RECURRENT,\n",
    "    METHOD_DQN,        \n",
    "    METHOD_TOPN,\n",
    "]\n",
    "n_eval_episodes = 30"
   ]
  },
  {
   "cell_type": "code",
   "execution_count": 30,
   "metadata": {},
   "outputs": [],
   "source": [
    "# topN parameters\n",
    "topN_N = 10\n",
    "topN_rt_tol = 15\n",
    "min_ms1_intensity = 5000\n",
    "\n",
    "# smartroi parameters\n",
    "alpha = 2\n",
    "beta = 0.1\n",
    "smartroi_N = topN_N\n",
    "smartroi_dew = topN_rt_tol\n",
    "\n",
    "# weighteddew parameters\n",
    "t0 = 3\n",
    "t1 = 120\n",
    "weighteddew_N = 10"
   ]
  },
  {
   "cell_type": "markdown",
   "metadata": {},
   "source": [
    "## Generate chemical sets for evaluation"
   ]
  },
  {
   "cell_type": "code",
   "execution_count": 31,
   "metadata": {},
   "outputs": [
    {
     "name": "stdout",
     "output_type": "stream",
     "text": [
      "28\n",
      "22\n",
      "45\n",
      "28\n",
      "20\n",
      "38\n",
      "34\n",
      "21\n",
      "37\n",
      "45\n",
      "36\n",
      "46\n",
      "49\n",
      "24\n",
      "32\n",
      "42\n",
      "25\n",
      "34\n",
      "44\n",
      "37\n",
      "23\n",
      "40\n",
      "43\n",
      "37\n",
      "27\n",
      "32\n",
      "34\n",
      "26\n",
      "28\n",
      "34\n"
     ]
    }
   ],
   "source": [
    "fname = 'QCB_chems_small.p'\n",
    "found = exists(fname)\n",
    "if found:\n",
    "    chem_list = load_obj(fname)\n",
    "    for chems in chem_list:\n",
    "        print(len(chems))"
   ]
  },
  {
   "cell_type": "markdown",
   "metadata": {},
   "source": [
    "Generate new chemicals if not found"
   ]
  },
  {
   "cell_type": "code",
   "execution_count": 32,
   "metadata": {},
   "outputs": [],
   "source": [
    "if not found:\n",
    "    repeat = 30\n",
    "    logger.warning('Generating chemicals')\n",
    "    min_mz = mz_range[0]\n",
    "    max_mz = mz_range[1]\n",
    "    min_rt = rt_range[0]\n",
    "    max_rt = rt_range[1]\n",
    "    min_log_intensity = np.log(intensity_range[0])\n",
    "    max_log_intensity = np.log(intensity_range[1])\n",
    "    \n",
    "    mzml_filename = '../fullscan_QCB.mzML'\n",
    "    logger.info('Creating samplers from %s' % mzml_filename)\n",
    "    mz_sampler = MZMLFormulaSampler(mzml_filename, min_mz=min_mz, max_mz=max_mz)\n",
    "    ri_sampler = MZMLRTandIntensitySampler(mzml_filename, min_rt=min_rt, max_rt=max_rt,\n",
    "                                           min_log_intensity=min_log_intensity,\n",
    "                                           max_log_intensity=max_log_intensity)\n",
    "    \n",
    "    # roi_params = RoiBuilderParams(min_roi_length=3, at_least_one_point_above=1000)\n",
    "    # cr_sampler = MZMLChromatogramSampler(mzml_filename, roi_params=roi_params)\n",
    "    cr_sampler = GaussianChromatogramSampler()\n",
    "    \n",
    "    chemical_creator_params = {\n",
    "        'mz_range': mz_range,\n",
    "        'rt_range': rt_range,\n",
    "        'intensity_range': intensity_range,\n",
    "        'n_chemicals': n_chemicals,\n",
    "        'mz_sampler': mz_sampler,\n",
    "        'ri_sampler': ri_sampler,\n",
    "        'cr_sampler': cr_sampler\n",
    "    }\n",
    "\n",
    "    chem_list = []\n",
    "    for i in range(repeat):\n",
    "        chems = generate_chemicals(chemical_creator_params)\n",
    "        print(len(chems))\n",
    "        chem_list.append(chems)\n",
    "        \n",
    "    save_obj(chem_list, fname)"
   ]
  },
  {
   "cell_type": "code",
   "execution_count": 33,
   "metadata": {},
   "outputs": [
    {
     "data": {
      "text/plain": [
       "30"
      ]
     },
     "execution_count": 33,
     "metadata": {},
     "output_type": "execute_result"
    }
   ],
   "source": [
    "chem_list = chem_list[0:n_eval_episodes]\n",
    "len(chem_list)"
   ]
  },
  {
   "cell_type": "markdown",
   "metadata": {
    "pycharm": {
     "name": "#%% md\n"
    },
    "tags": []
   },
   "source": [
    "# 2. Evaluation"
   ]
  },
  {
   "cell_type": "code",
   "execution_count": 34,
   "metadata": {},
   "outputs": [
    {
     "data": {
      "text/plain": [
       "52"
      ]
     },
     "execution_count": 34,
     "metadata": {},
     "output_type": "execute_result"
    }
   ],
   "source": [
    "set_log_level_warning()"
   ]
  },
  {
   "cell_type": "code",
   "execution_count": 35,
   "metadata": {},
   "outputs": [
    {
     "data": {
      "text/plain": [
       "{'chemical_creator': {'mz_range': (100, 110),\n",
       "  'rt_range': (400, 500),\n",
       "  'intensity_range': (10000.0, 1e+20),\n",
       "  'n_chemicals': (20, 50),\n",
       "  'mz_sampler': <vimms.ChemicalSamplers.MZMLFormulaSampler at 0x7fc1dbc980a0>,\n",
       "  'ri_sampler': <vimms.ChemicalSamplers.MZMLRTandIntensitySampler at 0x7fc1dd9032b0>,\n",
       "  'cr_sampler': <vimms.ChemicalSamplers.GaussianChromatogramSampler at 0x7fc1d80aa4f0>},\n",
       " 'noise': {'enable_spike_noise': True,\n",
       "  'noise_density': 0.1,\n",
       "  'noise_max_val': 1000.0,\n",
       "  'mz_range': (100, 110)},\n",
       " 'env': {'ionisation_mode': 'Positive',\n",
       "  'rt_range': (400, 500),\n",
       "  'isolation_window': 0.7,\n",
       "  'mz_tol': 10,\n",
       "  'rt_tol': 15,\n",
       "  'alpha': 0.25,\n",
       "  'beta': 0.75}}"
      ]
     },
     "execution_count": 35,
     "metadata": {},
     "output_type": "execute_result"
    }
   ],
   "source": [
    "params"
   ]
  },
  {
   "cell_type": "code",
   "execution_count": 36,
   "metadata": {
    "pycharm": {
     "name": "#%%\n"
    }
   },
   "outputs": [
    {
     "name": "stdout",
     "output_type": "stream",
     "text": [
      "method = random max_peaks = 100 N = 0 rt_tol = 15\n",
      "\n",
      "\n",
      "Episode 0 (28 chemicals)\n",
      "Finished after 494 timesteps with total reward -459.4363444444563\n",
      "{'coverage_prop': '0.893', 'intensity_prop': '0.582', 'ms1ms2_ratio': '0.012', 'efficiency': '0.051', 'TP': '7', 'FP': '3', 'FN': '18', 'precision': '0.700', 'recall': '0.280', 'f1': '0.400'}\n",
      "\n",
      "Episode 1 (22 chemicals)\n",
      "Finished after 491 timesteps with total reward -448.2882057737428\n",
      "{'coverage_prop': '0.864', 'intensity_prop': '0.649', 'ms1ms2_ratio': '0.019', 'efficiency': '0.039', 'TP': '5', 'FP': '4', 'FN': '13', 'precision': '0.556', 'recall': '0.278', 'f1': '0.370'}\n",
      "\n",
      "Episode 2 (45 chemicals)\n",
      "Finished after 491 timesteps with total reward -438.303809609154\n",
      "{'coverage_prop': '0.889', 'intensity_prop': '0.711', 'ms1ms2_ratio': '0.019', 'efficiency': '0.083', 'TP': '8', 'FP': '4', 'FN': '33', 'precision': '0.667', 'recall': '0.195', 'f1': '0.302'}\n",
      "\n",
      "Episode 3 (28 chemicals)\n",
      "Finished after 498 timesteps with total reward -487.3338603553742\n",
      "{'coverage_prop': '0.571', 'intensity_prop': '0.420', 'ms1ms2_ratio': '0.004', 'efficiency': '0.032', 'TP': '2', 'FP': '2', 'FN': '24', 'precision': '0.500', 'recall': '0.077', 'f1': '0.133'}\n",
      "\n",
      "Episode 4 (20 chemicals)\n",
      "Finished after 493 timesteps with total reward -456.4934881624492\n",
      "{'coverage_prop': '0.900', 'intensity_prop': '0.691', 'ms1ms2_ratio': '0.014', 'efficiency': '0.037', 'TP': '5', 'FP': '2', 'FN': '13', 'precision': '0.714', 'recall': '0.278', 'f1': '0.400'}\n",
      "\n",
      "Episode 5 (38 chemicals)\n",
      "Finished after 495 timesteps with total reward -448.61186791013745\n",
      "{'coverage_prop': '0.842', 'intensity_prop': '0.689', 'ms1ms2_ratio': '0.010', 'efficiency': '0.065', 'TP': '7', 'FP': '1', 'FN': '30', 'precision': '0.875', 'recall': '0.189', 'f1': '0.311'}\n",
      "\n",
      "Episode 6 (34 chemicals)\n",
      "Finished after 492 timesteps with total reward -458.27553478908817\n",
      "{'coverage_prop': '0.735', 'intensity_prop': '0.561', 'ms1ms2_ratio': '0.016', 'efficiency': '0.052', 'TP': '3', 'FP': '1', 'FN': '30', 'precision': '0.750', 'recall': '0.091', 'f1': '0.162'}\n",
      "\n",
      "Episode 7 (21 chemicals)\n",
      "Finished after 494 timesteps with total reward -455.378219650691\n",
      "{'coverage_prop': '0.952', 'intensity_prop': '0.764', 'ms1ms2_ratio': '0.012', 'efficiency': '0.041', 'TP': '7', 'FP': '3', 'FN': '11', 'precision': '0.700', 'recall': '0.389', 'f1': '0.500'}\n",
      "\n",
      "Episode 8 (37 chemicals)\n",
      "Finished after 494 timesteps with total reward -456.1450686350213\n",
      "{'coverage_prop': '0.784', 'intensity_prop': '0.657', 'ms1ms2_ratio': '0.012', 'efficiency': '0.059', 'TP': '7', 'FP': '2', 'FN': '28', 'precision': '0.778', 'recall': '0.200', 'f1': '0.318'}\n",
      "\n",
      "Episode 9 (45 chemicals)\n",
      "Finished after 495 timesteps with total reward -442.83392681618943\n",
      "{'coverage_prop': '0.911', 'intensity_prop': '0.716', 'ms1ms2_ratio': '0.010', 'efficiency': '0.084', 'TP': '6', 'FP': '6', 'FN': '33', 'precision': '0.500', 'recall': '0.154', 'f1': '0.235'}\n",
      "\n",
      "Episode 10 (36 chemicals)\n",
      "Finished after 493 timesteps with total reward -443.56165785682276\n",
      "{'coverage_prop': '0.972', 'intensity_prop': '0.724', 'ms1ms2_ratio': '0.014', 'efficiency': '0.072', 'TP': '8', 'FP': '6', 'FN': '22', 'precision': '0.571', 'recall': '0.267', 'f1': '0.364'}\n",
      "\n",
      "Episode 11 (46 chemicals)\n",
      "Finished after 492 timesteps with total reward -414.05036053158017\n",
      "{'coverage_prop': '0.978', 'intensity_prop': '0.761', 'ms1ms2_ratio': '0.016', 'efficiency': '0.093', 'TP': '16', 'FP': '4', 'FN': '26', 'precision': '0.800', 'recall': '0.381', 'f1': '0.516'}\n",
      "\n",
      "Episode 12 (49 chemicals)\n",
      "Finished after 494 timesteps with total reward -436.6406088392308\n",
      "{'coverage_prop': '0.939', 'intensity_prop': '0.794', 'ms1ms2_ratio': '0.012', 'efficiency': '0.094', 'TP': '8', 'FP': '2', 'FN': '39', 'precision': '0.800', 'recall': '0.170', 'f1': '0.281'}\n",
      "\n",
      "Episode 13 (24 chemicals)\n",
      "Finished after 492 timesteps with total reward -457.0751142842488\n",
      "{'coverage_prop': '0.958', 'intensity_prop': '0.603', 'ms1ms2_ratio': '0.016', 'efficiency': '0.047', 'TP': '4', 'FP': '4', 'FN': '16', 'precision': '0.500', 'recall': '0.200', 'f1': '0.286'}\n",
      "\n",
      "Episode 14 (32 chemicals)\n",
      "Finished after 497 timesteps with total reward -486.9808760559499\n",
      "{'coverage_prop': '0.344', 'intensity_prop': '0.163', 'ms1ms2_ratio': '0.006', 'efficiency': '0.022', 'TP': '1', 'FP': '2', 'FN': '29', 'precision': '0.333', 'recall': '0.033', 'f1': '0.061'}\n",
      "\n",
      "Episode 15 (42 chemicals)\n",
      "Finished after 493 timesteps with total reward -460.76806552259364\n",
      "{'coverage_prop': '0.810', 'intensity_prop': '0.487', 'ms1ms2_ratio': '0.014', 'efficiency': '0.070', 'TP': '5', 'FP': '5', 'FN': '32', 'precision': '0.500', 'recall': '0.135', 'f1': '0.213'}\n",
      "\n",
      "Episode 16 (25 chemicals)\n",
      "Finished after 496 timesteps with total reward -477.3601344789996\n",
      "{'coverage_prop': '0.640', 'intensity_prop': '0.292', 'ms1ms2_ratio': '0.008', 'efficiency': '0.032', 'TP': '2', 'FP': '4', 'FN': '19', 'precision': '0.333', 'recall': '0.095', 'f1': '0.148'}\n",
      "\n",
      "Episode 17 (34 chemicals)\n",
      "Finished after 491 timesteps with total reward -430.92262608067824\n",
      "{'coverage_prop': '0.912', 'intensity_prop': '0.635', 'ms1ms2_ratio': '0.019', 'efficiency': '0.064', 'TP': '11', 'FP': '8', 'FN': '15', 'precision': '0.579', 'recall': '0.423', 'f1': '0.489'}\n",
      "\n",
      "Episode 18 (44 chemicals)\n",
      "Finished after 496 timesteps with total reward -447.4622316726761\n",
      "{'coverage_prop': '0.841', 'intensity_prop': '0.646', 'ms1ms2_ratio': '0.008', 'efficiency': '0.075', 'TP': '11', 'FP': '4', 'FN': '29', 'precision': '0.733', 'recall': '0.275', 'f1': '0.400'}\n",
      "\n",
      "Episode 19 (37 chemicals)\n",
      "Finished after 494 timesteps with total reward -447.6857157349316\n",
      "{'coverage_prop': '0.892', 'intensity_prop': '0.674', 'ms1ms2_ratio': '0.012', 'efficiency': '0.067', 'TP': '4', 'FP': '6', 'FN': '27', 'precision': '0.400', 'recall': '0.129', 'f1': '0.195'}\n",
      "\n",
      "Episode 20 (23 chemicals)\n",
      "Finished after 497 timesteps with total reward -473.3328335289089\n",
      "{'coverage_prop': '0.478', 'intensity_prop': '0.368', 'ms1ms2_ratio': '0.006', 'efficiency': '0.022', 'TP': '6', 'FP': '0', 'FN': '17', 'precision': '1.000', 'recall': '0.261', 'f1': '0.414'}\n",
      "\n",
      "Episode 21 (40 chemicals)\n",
      "Finished after 496 timesteps with total reward -454.5495717848905\n",
      "{'coverage_prop': '0.825', 'intensity_prop': '0.522', 'ms1ms2_ratio': '0.008', 'efficiency': '0.067', 'TP': '4', 'FP': '9', 'FN': '27', 'precision': '0.308', 'recall': '0.129', 'f1': '0.182'}\n",
      "\n",
      "Episode 22 (43 chemicals)\n",
      "Finished after 496 timesteps with total reward -451.7151742588809\n",
      "{'coverage_prop': '0.930', 'intensity_prop': '0.628', 'ms1ms2_ratio': '0.008', 'efficiency': '0.081', 'TP': '7', 'FP': '6', 'FN': '30', 'precision': '0.538', 'recall': '0.189', 'f1': '0.280'}\n",
      "\n",
      "Episode 23 (37 chemicals)\n",
      "Finished after 494 timesteps with total reward -445.61367523535904\n",
      "{'coverage_prop': '0.892', 'intensity_prop': '0.635', 'ms1ms2_ratio': '0.012', 'efficiency': '0.067', 'TP': '6', 'FP': '5', 'FN': '26', 'precision': '0.545', 'recall': '0.188', 'f1': '0.279'}\n",
      "\n",
      "Episode 24 (27 chemicals)\n",
      "Finished after 493 timesteps with total reward -452.0677623952582\n",
      "{'coverage_prop': '0.852', 'intensity_prop': '0.540', 'ms1ms2_ratio': '0.014', 'efficiency': '0.047', 'TP': '7', 'FP': '4', 'FN': '16', 'precision': '0.636', 'recall': '0.304', 'f1': '0.412'}\n",
      "\n",
      "Episode 25 (32 chemicals)\n",
      "Finished after 494 timesteps with total reward -454.46198732083076\n",
      "{'coverage_prop': '0.812', 'intensity_prop': '0.586', 'ms1ms2_ratio': '0.012', 'efficiency': '0.053', 'TP': '6', 'FP': '3', 'FN': '23', 'precision': '0.667', 'recall': '0.207', 'f1': '0.316'}\n",
      "\n",
      "Episode 26 (34 chemicals)\n",
      "Finished after 494 timesteps with total reward -437.09445317751147\n",
      "{'coverage_prop': '0.853', 'intensity_prop': '0.698', 'ms1ms2_ratio': '0.012', 'efficiency': '0.059', 'TP': '9', 'FP': '4', 'FN': '21', 'precision': '0.692', 'recall': '0.300', 'f1': '0.419'}\n",
      "\n",
      "Episode 27 (26 chemicals)\n",
      "Finished after 495 timesteps with total reward -476.2678357989025\n",
      "{'coverage_prop': '0.846', 'intensity_prop': '0.543', 'ms1ms2_ratio': '0.010', 'efficiency': '0.045', 'TP': '3', 'FP': '0', 'FN': '23', 'precision': '1.000', 'recall': '0.115', 'f1': '0.207'}\n",
      "\n",
      "Episode 28 (28 chemicals)\n",
      "Finished after 491 timesteps with total reward -450.2695579359037\n",
      "{'coverage_prop': '0.786', 'intensity_prop': '0.618', 'ms1ms2_ratio': '0.019', 'efficiency': '0.046', 'TP': '4', 'FP': '3', 'FN': '21', 'precision': '0.571', 'recall': '0.160', 'f1': '0.250'}\n",
      "\n",
      "Episode 29 (34 chemicals)\n",
      "Finished after 494 timesteps with total reward -467.33877465455134\n",
      "{'coverage_prop': '0.853', 'intensity_prop': '0.508', 'ms1ms2_ratio': '0.012', 'efficiency': '0.059', 'TP': '4', 'FP': '3', 'FN': '27', 'precision': '0.571', 'recall': '0.129', 'f1': '0.211'}\n",
      "\n",
      "method = PPO max_peaks = 100 N = 0 rt_tol = 15\n",
      "\n",
      "\n",
      "Episode 0 (28 chemicals)\n",
      "Finished after 305 timesteps with total reward 28.627420332401613\n",
      "{'coverage_prop': '0.929', 'intensity_prop': '0.660', 'ms1ms2_ratio': '1.757', 'efficiency': '0.234', 'TP': '5', 'FP': '9', 'FN': '14', 'precision': '0.357', 'recall': '0.263', 'f1': '0.303'}\n",
      "\n",
      "Episode 1 (22 chemicals)\n",
      "Finished after 281 timesteps with total reward 29.20053696293255\n",
      "{'coverage_prop': '0.909', 'intensity_prop': '0.537', 'ms1ms2_ratio': '3.548', 'efficiency': '0.323', 'TP': '5', 'FP': '2', 'FN': '15', 'precision': '0.714', 'recall': '0.250', 'f1': '0.370'}\n",
      "\n",
      "Episode 2 (45 chemicals)\n",
      "Finished after 341 timesteps with total reward -125.52541915070782\n",
      "{'coverage_prop': '0.444', 'intensity_prop': '0.175', 'ms1ms2_ratio': '0.869', 'efficiency': '0.109', 'TP': '3', 'FP': '4', 'FN': '38', 'precision': '0.429', 'recall': '0.073', 'f1': '0.125'}\n",
      "\n",
      "Episode 3 (28 chemicals)\n",
      "Finished after 282 timesteps with total reward -4.290298746274825\n",
      "{'coverage_prop': '0.500', 'intensity_prop': '0.309', 'ms1ms2_ratio': '3.354', 'efficiency': '0.215', 'TP': '1', 'FP': '2', 'FN': '25', 'precision': '0.333', 'recall': '0.038', 'f1': '0.069'}\n",
      "\n",
      "Episode 4 (20 chemicals)\n",
      "Finished after 273 timesteps with total reward 27.494236876007534\n",
      "{'coverage_prop': '0.850', 'intensity_prop': '0.609', 'ms1ms2_ratio': '4.830', 'efficiency': '0.362', 'TP': '3', 'FP': '4', 'FN': '13', 'precision': '0.429', 'recall': '0.188', 'f1': '0.261'}\n",
      "\n",
      "Episode 5 (38 chemicals)\n",
      "Finished after 399 timesteps with total reward -219.1027879535944\n",
      "{'coverage_prop': '0.526', 'intensity_prop': '0.391', 'ms1ms2_ratio': '0.338', 'efficiency': '0.067', 'TP': '2', 'FP': '0', 'FN': '36', 'precision': '1.000', 'recall': '0.053', 'f1': '0.100'}\n",
      "\n",
      "Episode 6 (34 chemicals)\n",
      "Finished after 364 timesteps with total reward -175.37352580890322\n",
      "{'coverage_prop': '0.676', 'intensity_prop': '0.448', 'ms1ms2_ratio': '0.594', 'efficiency': '0.100', 'TP': '4', 'FP': '2', 'FN': '28', 'precision': '0.667', 'recall': '0.125', 'f1': '0.211'}\n",
      "\n",
      "Episode 7 (21 chemicals)\n",
      "Finished after 297 timesteps with total reward 32.228380099346474\n",
      "{'coverage_prop': '0.905', 'intensity_prop': '0.708', 'ms1ms2_ratio': '2.170', 'efficiency': '0.202', 'TP': '8', 'FP': '3', 'FN': '10', 'precision': '0.727', 'recall': '0.444', 'f1': '0.552'}\n",
      "\n",
      "Episode 8 (37 chemicals)\n",
      "Finished after 404 timesteps with total reward -246.9487958922223\n",
      "{'coverage_prop': '0.405', 'intensity_prop': '0.298', 'ms1ms2_ratio': '0.311', 'efficiency': '0.049', 'TP': '3', 'FP': '2', 'FN': '32', 'precision': '0.600', 'recall': '0.086', 'f1': '0.150'}\n",
      "\n",
      "Episode 9 (45 chemicals)\n",
      "Finished after 393 timesteps with total reward -222.0203330367773\n",
      "{'coverage_prop': '0.311', 'intensity_prop': '0.180', 'ms1ms2_ratio': '0.373', 'efficiency': '0.049', 'TP': '1', 'FP': '3', 'FN': '41', 'precision': '0.250', 'recall': '0.024', 'f1': '0.043'}\n",
      "\n",
      "Episode 10 (36 chemicals)\n",
      "Finished after 404 timesteps with total reward -257.9544399103427\n",
      "{'coverage_prop': '0.417', 'intensity_prop': '0.329', 'ms1ms2_ratio': '0.311', 'efficiency': '0.049', 'TP': '3', 'FP': '1', 'FN': '32', 'precision': '0.750', 'recall': '0.086', 'f1': '0.154'}\n",
      "\n",
      "Episode 11 (46 chemicals)\n",
      "Finished after 376 timesteps with total reward -195.45300609342473\n",
      "{'coverage_prop': '0.304', 'intensity_prop': '0.164', 'ms1ms2_ratio': '0.490', 'efficiency': '0.055', 'TP': '5', 'FP': '3', 'FN': '38', 'precision': '0.625', 'recall': '0.116', 'f1': '0.196'}\n",
      "\n",
      "Episode 12 (49 chemicals)\n",
      "Finished after 430 timesteps with total reward -320.36688966171596\n",
      "{'coverage_prop': '0.367', 'intensity_prop': '0.277', 'ms1ms2_ratio': '0.194', 'efficiency': '0.050', 'TP': '2', 'FP': '0', 'FN': '47', 'precision': '1.000', 'recall': '0.041', 'f1': '0.078'}\n",
      "\n",
      "Episode 13 (24 chemicals)\n",
      "Finished after 284 timesteps with total reward 28.64400657261552\n",
      "{'coverage_prop': '0.958', 'intensity_prop': '0.520', 'ms1ms2_ratio': '3.130', 'efficiency': '0.333', 'TP': '5', 'FP': '2', 'FN': '17', 'precision': '0.714', 'recall': '0.227', 'f1': '0.345'}\n",
      "\n",
      "Episode 14 (32 chemicals)\n",
      "Finished after 339 timesteps with total reward -79.4774024160684\n",
      "{'coverage_prop': '0.781', 'intensity_prop': '0.432', 'ms1ms2_ratio': '0.899', 'efficiency': '0.140', 'TP': '4', 'FP': '5', 'FN': '23', 'precision': '0.444', 'recall': '0.148', 'f1': '0.222'}\n",
      "\n",
      "Episode 15 (42 chemicals)\n",
      "Finished after 419 timesteps with total reward -283.88447958867425\n",
      "{'coverage_prop': '0.381', 'intensity_prop': '0.246', 'ms1ms2_ratio': '0.239', 'efficiency': '0.047', 'TP': '4', 'FP': '3', 'FN': '35', 'precision': '0.571', 'recall': '0.103', 'f1': '0.174'}\n",
      "\n",
      "Episode 16 (25 chemicals)\n",
      "Finished after 293 timesteps with total reward 29.153749962030012\n",
      "{'coverage_prop': '0.880', 'intensity_prop': '0.547', 'ms1ms2_ratio': '2.379', 'efficiency': '0.253', 'TP': '6', 'FP': '5', 'FN': '14', 'precision': '0.545', 'recall': '0.300', 'f1': '0.387'}\n",
      "\n",
      "Episode 17 (34 chemicals)\n",
      "Finished after 332 timesteps with total reward -77.20557292048642\n",
      "{'coverage_prop': '0.676', 'intensity_prop': '0.305', 'ms1ms2_ratio': '1.018', 'efficiency': '0.139', 'TP': '1', 'FP': '8', 'FN': '25', 'precision': '0.111', 'recall': '0.038', 'f1': '0.057'}\n",
      "\n",
      "Episode 18 (44 chemicals)\n",
      "Finished after 420 timesteps with total reward -279.48129655545415\n",
      "{'coverage_prop': '0.364', 'intensity_prop': '0.322', 'ms1ms2_ratio': '0.235', 'efficiency': '0.047', 'TP': '2', 'FP': '2', 'FN': '40', 'precision': '0.500', 'recall': '0.048', 'f1': '0.087'}\n",
      "\n",
      "Episode 19 (37 chemicals)\n",
      "Finished after 381 timesteps with total reward -201.3541782845666\n",
      "{'coverage_prop': '0.459', 'intensity_prop': '0.308', 'ms1ms2_ratio': '0.452', 'efficiency': '0.065', 'TP': '2', 'FP': '1', 'FN': '34', 'precision': '0.667', 'recall': '0.056', 'f1': '0.103'}\n",
      "\n",
      "Episode 20 (23 chemicals)\n",
      "Finished after 274 timesteps with total reward 30.60263640242635\n",
      "{'coverage_prop': '0.783', 'intensity_prop': '0.535', 'ms1ms2_ratio': '4.612', 'efficiency': '0.367', 'TP': '8', 'FP': '0', 'FN': '15', 'precision': '1.000', 'recall': '0.348', 'f1': '0.516'}\n",
      "\n",
      "Episode 21 (40 chemicals)\n",
      "Finished after 401 timesteps with total reward -245.74647276393145\n",
      "{'coverage_prop': '0.375', 'intensity_prop': '0.236', 'ms1ms2_ratio': '0.327', 'efficiency': '0.050', 'TP': '3', 'FP': '3', 'FN': '34', 'precision': '0.500', 'recall': '0.081', 'f1': '0.140'}\n",
      "\n",
      "Episode 22 (43 chemicals)\n",
      "Finished after 420 timesteps with total reward -290.66114831172194\n",
      "{'coverage_prop': '0.326', 'intensity_prop': '0.267', 'ms1ms2_ratio': '0.235', 'efficiency': '0.041', 'TP': '4', 'FP': '2', 'FN': '37', 'precision': '0.667', 'recall': '0.098', 'f1': '0.170'}\n",
      "\n",
      "Episode 23 (37 chemicals)\n",
      "Finished after 364 timesteps with total reward -174.61141535679613\n",
      "{'coverage_prop': '0.568', 'intensity_prop': '0.329', 'ms1ms2_ratio': '0.594', 'efficiency': '0.092', 'TP': '2', 'FP': '5', 'FN': '30', 'precision': '0.286', 'recall': '0.062', 'f1': '0.103'}\n",
      "\n",
      "Episode 24 (27 chemicals)\n",
      "Finished after 296 timesteps with total reward -13.015721552503772\n",
      "{'coverage_prop': '0.741', 'intensity_prop': '0.280', 'ms1ms2_ratio': '2.194', 'efficiency': '0.215', 'TP': '4', 'FP': '7', 'FN': '16', 'precision': '0.364', 'recall': '0.200', 'f1': '0.258'}\n",
      "\n",
      "Episode 25 (32 chemicals)\n",
      "Finished after 331 timesteps with total reward -77.69919132347546\n",
      "{'coverage_prop': '0.750', 'intensity_prop': '0.492', 'ms1ms2_ratio': '1.037', 'efficiency': '0.147', 'TP': '7', 'FP': '2', 'FN': '23', 'precision': '0.778', 'recall': '0.233', 'f1': '0.359'}\n",
      "\n",
      "Episode 26 (34 chemicals)\n",
      "Finished after 413 timesteps with total reward -275.23725755974374\n",
      "{'coverage_prop': '0.324', 'intensity_prop': '0.308', 'ms1ms2_ratio': '0.266', 'efficiency': '0.034', 'TP': '2', 'FP': '0', 'FN': '32', 'precision': '1.000', 'recall': '0.059', 'f1': '0.111'}\n",
      "\n",
      "Episode 27 (26 chemicals)\n",
      "Finished after 321 timesteps with total reward -65.41837923623956\n",
      "{'coverage_prop': '0.808', 'intensity_prop': '0.580', 'ms1ms2_ratio': '1.252', 'efficiency': '0.147', 'TP': '3', 'FP': '0', 'FN': '23', 'precision': '1.000', 'recall': '0.115', 'f1': '0.207'}\n",
      "\n",
      "Episode 28 (28 chemicals)\n",
      "Finished after 310 timesteps with total reward 34.131193700658926\n",
      "{'coverage_prop': '0.964', 'intensity_prop': '0.692', 'ms1ms2_ratio': '1.570', 'efficiency': '0.223', 'TP': '6', 'FP': '8', 'FN': '14', 'precision': '0.429', 'recall': '0.300', 'f1': '0.353'}\n",
      "\n",
      "Episode 29 (34 chemicals)\n",
      "Finished after 313 timesteps with total reward -62.131003046106464\n",
      "{'coverage_prop': '0.765', 'intensity_prop': '0.380', 'ms1ms2_ratio': '1.472', 'efficiency': '0.205', 'TP': '1', 'FP': '9', 'FN': '24', 'precision': '0.100', 'recall': '0.040', 'f1': '0.057'}\n",
      "\n",
      "method = DQN max_peaks = 100 N = 0 rt_tol = 15\n",
      "\n",
      "\n",
      "Episode 0 (28 chemicals)\n"
     ]
    },
    {
     "name": "stderr",
     "output_type": "stream",
     "text": [
      "/opt/anaconda3/envs/vimms-gym/lib/python3.9/site-packages/stable_baselines3/common/buffers.py:561: UserWarning:\n",
      "\n",
      "This system does not have apparently enough memory to store the complete replay buffer 0.49GB > 0.39GB\n",
      "\n"
     ]
    },
    {
     "name": "stdout",
     "output_type": "stream",
     "text": [
      "Finished after 302 timesteps with total reward 35.949984955075394\n",
      "{'coverage_prop': '0.929', 'intensity_prop': '0.685', 'ms1ms2_ratio': '1.886', 'efficiency': '0.248', 'TP': '8', 'FP': '8', 'FN': '12', 'precision': '0.500', 'recall': '0.400', 'f1': '0.444'}\n",
      "\n",
      "Episode 1 (22 chemicals)\n",
      "Finished after 297 timesteps with total reward 35.514998235745885\n",
      "{'coverage_prop': '0.955', 'intensity_prop': '0.696', 'ms1ms2_ratio': '2.170', 'efficiency': '0.223', 'TP': '7', 'FP': '4', 'FN': '11', 'precision': '0.636', 'recall': '0.389', 'f1': '0.483'}\n",
      "\n",
      "Episode 2 (45 chemicals)\n",
      "Finished after 311 timesteps with total reward 36.246330576460444\n",
      "{'coverage_prop': '0.889', 'intensity_prop': '0.688', 'ms1ms2_ratio': '1.537', 'efficiency': '0.325', 'TP': '8', 'FP': '4', 'FN': '33', 'precision': '0.667', 'recall': '0.195', 'f1': '0.302'}\n",
      "\n",
      "Episode 3 (28 chemicals)\n",
      "Finished after 309 timesteps with total reward 36.88162699002308\n",
      "{'coverage_prop': '0.857', 'intensity_prop': '0.634', 'ms1ms2_ratio': '1.627', 'efficiency': '0.203', 'TP': '7', 'FP': '2', 'FN': '19', 'precision': '0.778', 'recall': '0.269', 'f1': '0.400'}\n",
      "\n",
      "Episode 4 (20 chemicals)\n",
      "Finished after 294 timesteps with total reward 33.16337679437572\n",
      "{'coverage_prop': '0.950', 'intensity_prop': '0.721', 'ms1ms2_ratio': '2.352', 'efficiency': '0.216', 'TP': '6', 'FP': '3', 'FN': '11', 'precision': '0.667', 'recall': '0.353', 'f1': '0.462'}\n",
      "\n",
      "Episode 5 (38 chemicals)\n",
      "Finished after 301 timesteps with total reward 34.14983460867114\n",
      "{'coverage_prop': '1.000', 'intensity_prop': '0.806', 'ms1ms2_ratio': '1.932', 'efficiency': '0.369', 'TP': '5', 'FP': '11', 'FN': '22', 'precision': '0.312', 'recall': '0.185', 'f1': '0.233'}\n",
      "\n",
      "Episode 6 (34 chemicals)\n",
      "Finished after 304 timesteps with total reward 34.63514770918746\n",
      "{'coverage_prop': '0.941', 'intensity_prop': '0.818', 'ms1ms2_ratio': '1.798', 'efficiency': '0.294', 'TP': '8', 'FP': '3', 'FN': '23', 'precision': '0.727', 'recall': '0.258', 'f1': '0.381'}\n",
      "\n",
      "Episode 7 (21 chemicals)\n",
      "Finished after 303 timesteps with total reward 36.218187605440605\n",
      "{'coverage_prop': '1.000', 'intensity_prop': '0.834', 'ms1ms2_ratio': '1.841', 'efficiency': '0.196', 'TP': '9', 'FP': '3', 'FN': '9', 'precision': '0.750', 'recall': '0.500', 'f1': '0.600'}\n",
      "\n",
      "Episode 8 (37 chemicals)\n",
      "Finished after 304 timesteps with total reward 33.768015680745364\n",
      "{'coverage_prop': '1.000', 'intensity_prop': '0.834', 'ms1ms2_ratio': '1.798', 'efficiency': '0.339', 'TP': '10', 'FP': '6', 'FN': '21', 'precision': '0.625', 'recall': '0.323', 'f1': '0.426'}\n",
      "\n",
      "Episode 9 (45 chemicals)\n",
      "Finished after 323 timesteps with total reward 36.92111865070393\n",
      "{'coverage_prop': '0.956', 'intensity_prop': '0.765', 'ms1ms2_ratio': '1.204', 'efficiency': '0.293', 'TP': '9', 'FP': '2', 'FN': '34', 'precision': '0.818', 'recall': '0.209', 'f1': '0.333'}\n",
      "\n",
      "Episode 10 (36 chemicals)\n",
      "Finished after 306 timesteps with total reward 36.37874468599885\n",
      "{'coverage_prop': '0.972', 'intensity_prop': '0.804', 'ms1ms2_ratio': '1.741', 'efficiency': '0.312', 'TP': '10', 'FP': '4', 'FN': '22', 'precision': '0.714', 'recall': '0.312', 'f1': '0.435'}\n",
      "\n",
      "Episode 11 (46 chemicals)\n",
      "Finished after 299 timesteps with total reward 37.40295711042084\n",
      "{'coverage_prop': '0.935', 'intensity_prop': '0.700', 'ms1ms2_ratio': '2.061', 'efficiency': '0.439', 'TP': '14', 'FP': '5', 'FN': '27', 'precision': '0.737', 'recall': '0.341', 'f1': '0.467'}\n",
      "\n",
      "Episode 12 (49 chemicals)\n",
      "Finished after 313 timesteps with total reward 28.247788957789247\n",
      "{'coverage_prop': '0.939', 'intensity_prop': '0.820', 'ms1ms2_ratio': '1.472', 'efficiency': '0.362', 'TP': '8', 'FP': '3', 'FN': '38', 'precision': '0.727', 'recall': '0.174', 'f1': '0.281'}\n",
      "\n",
      "Episode 13 (24 chemicals)\n",
      "Finished after 320 timesteps with total reward 33.836332940768145\n",
      "{'coverage_prop': '0.958', 'intensity_prop': '0.717', 'ms1ms2_ratio': '1.277', 'efficiency': '0.163', 'TP': '7', 'FP': '2', 'FN': '15', 'precision': '0.778', 'recall': '0.318', 'f1': '0.452'}\n",
      "\n",
      "Episode 14 (32 chemicals)\n",
      "Finished after 311 timesteps with total reward 33.71187641219894\n",
      "{'coverage_prop': '0.906', 'intensity_prop': '0.756', 'ms1ms2_ratio': '1.537', 'efficiency': '0.236', 'TP': '7', 'FP': '3', 'FN': '22', 'precision': '0.700', 'recall': '0.241', 'f1': '0.359'}\n",
      "\n",
      "Episode 15 (42 chemicals)\n",
      "Finished after 305 timesteps with total reward 36.6394208104844\n",
      "{'coverage_prop': '0.976', 'intensity_prop': '0.789', 'ms1ms2_ratio': '1.757', 'efficiency': '0.369', 'TP': '12', 'FP': '6', 'FN': '24', 'precision': '0.667', 'recall': '0.333', 'f1': '0.444'}\n",
      "\n",
      "Episode 16 (25 chemicals)\n",
      "Finished after 315 timesteps with total reward 37.3653615531655\n",
      "{'coverage_prop': '0.960', 'intensity_prop': '0.753', 'ms1ms2_ratio': '1.412', 'efficiency': '0.183', 'TP': '11', 'FP': '1', 'FN': '13', 'precision': '0.917', 'recall': '0.458', 'f1': '0.611'}\n",
      "\n",
      "Episode 17 (34 chemicals)\n",
      "Finished after 293 timesteps with total reward 36.0748470022343\n",
      "{'coverage_prop': '0.971', 'intensity_prop': '0.740', 'ms1ms2_ratio': '2.379', 'efficiency': '0.379', 'TP': '11', 'FP': '9', 'FN': '14', 'precision': '0.550', 'recall': '0.440', 'f1': '0.489'}\n",
      "\n",
      "Episode 18 (44 chemicals)\n",
      "Finished after 305 timesteps with total reward 37.589615618819394\n",
      "{'coverage_prop': '0.932', 'intensity_prop': '0.778', 'ms1ms2_ratio': '1.782', 'efficiency': '0.373', 'TP': '13', 'FP': '5', 'FN': '26', 'precision': '0.722', 'recall': '0.333', 'f1': '0.456'}\n",
      "\n",
      "Episode 19 (37 chemicals)\n",
      "Finished after 305 timesteps with total reward 31.937546096452923\n",
      "{'coverage_prop': '0.973', 'intensity_prop': '0.703', 'ms1ms2_ratio': '1.782', 'efficiency': '0.327', 'TP': '6', 'FP': '9', 'FN': '22', 'precision': '0.400', 'recall': '0.214', 'f1': '0.279'}\n",
      "\n",
      "Episode 20 (23 chemicals)\n",
      "Finished after 301 timesteps with total reward 32.176881471145194\n",
      "{'coverage_prop': '0.957', 'intensity_prop': '0.703', 'ms1ms2_ratio': '1.932', 'efficiency': '0.214', 'TP': '8', 'FP': '2', 'FN': '13', 'precision': '0.800', 'recall': '0.381', 'f1': '0.516'}\n",
      "\n",
      "Episode 21 (40 chemicals)\n",
      "Finished after 322 timesteps with total reward 39.745255315980664\n",
      "{'coverage_prop': '0.875', 'intensity_prop': '0.726', 'ms1ms2_ratio': '1.228', 'efficiency': '0.241', 'TP': '11', 'FP': '6', 'FN': '23', 'precision': '0.647', 'recall': '0.324', 'f1': '0.431'}\n",
      "\n",
      "Episode 22 (43 chemicals)\n",
      "Finished after 306 timesteps with total reward 37.41249122057593\n",
      "{'coverage_prop': '1.000', 'intensity_prop': '0.806', 'ms1ms2_ratio': '1.741', 'efficiency': '0.384', 'TP': '14', 'FP': '6', 'FN': '23', 'precision': '0.700', 'recall': '0.378', 'f1': '0.491'}\n",
      "\n",
      "Episode 23 (37 chemicals)\n",
      "Finished after 315 timesteps with total reward 36.65569631097282\n",
      "{'coverage_prop': '0.919', 'intensity_prop': '0.710', 'ms1ms2_ratio': '1.431', 'efficiency': '0.262', 'TP': '10', 'FP': '2', 'FN': '25', 'precision': '0.833', 'recall': '0.286', 'f1': '0.426'}\n",
      "\n",
      "Episode 24 (27 chemicals)\n",
      "Finished after 308 timesteps with total reward 36.612379589264314\n",
      "{'coverage_prop': '0.926', 'intensity_prop': '0.564', 'ms1ms2_ratio': '1.664', 'efficiency': '0.216', 'TP': '8', 'FP': '7', 'FN': '12', 'precision': '0.533', 'recall': '0.400', 'f1': '0.457'}\n",
      "\n",
      "Episode 25 (32 chemicals)\n",
      "Finished after 304 timesteps with total reward 35.680259388659614\n",
      "{'coverage_prop': '1.000', 'intensity_prop': '0.763', 'ms1ms2_ratio': '1.798', 'efficiency': '0.294', 'TP': '7', 'FP': '9', 'FN': '16', 'precision': '0.438', 'recall': '0.304', 'f1': '0.359'}\n",
      "\n",
      "Episode 26 (34 chemicals)\n",
      "Finished after 303 timesteps with total reward 38.806593600893905\n",
      "{'coverage_prop': '0.941', 'intensity_prop': '0.756', 'ms1ms2_ratio': '1.841', 'efficiency': '0.299', 'TP': '11', 'FP': '6', 'FN': '17', 'precision': '0.647', 'recall': '0.393', 'f1': '0.489'}\n",
      "\n",
      "Episode 27 (26 chemicals)\n",
      "Finished after 301 timesteps with total reward 33.39511753480872\n",
      "{'coverage_prop': '0.962', 'intensity_prop': '0.768', 'ms1ms2_ratio': '1.932', 'efficiency': '0.243', 'TP': '4', 'FP': '6', 'FN': '16', 'precision': '0.400', 'recall': '0.200', 'f1': '0.267'}\n",
      "\n",
      "Episode 28 (28 chemicals)\n",
      "Finished after 296 timesteps with total reward 32.007299918270036\n",
      "{'coverage_prop': '0.929', 'intensity_prop': '0.731', 'ms1ms2_ratio': '2.194', 'efficiency': '0.280', 'TP': '7', 'FP': '3', 'FN': '18', 'precision': '0.700', 'recall': '0.280', 'f1': '0.400'}\n",
      "\n",
      "Episode 29 (34 chemicals)\n",
      "Finished after 310 timesteps with total reward 35.88081650687191\n",
      "{'coverage_prop': '1.000', 'intensity_prop': '0.632', 'ms1ms2_ratio': '1.592', 'efficiency': '0.283', 'TP': '9', 'FP': '9', 'FN': '16', 'precision': '0.500', 'recall': '0.360', 'f1': '0.419'}\n",
      "\n",
      "method = topN max_peaks = 100 N = 10 rt_tol = 15\n",
      "\n",
      "\n",
      "Episode 0 (28 chemicals)\n",
      "Finished after 275 timesteps with total reward 36.02712807084207\n",
      "{'coverage_prop': '0.964', 'intensity_prop': '0.807', 'ms1ms2_ratio': '4.412', 'efficiency': '0.529', 'TP': '9', 'FP': '6', 'FN': '13', 'precision': '0.600', 'recall': '0.409', 'f1': '0.486'}\n",
      "\n",
      "Episode 1 (22 chemicals)\n",
      "Finished after 269 timesteps with total reward 33.35396776584207\n",
      "{'coverage_prop': '0.955', 'intensity_prop': '0.748', 'ms1ms2_ratio': '5.923', 'efficiency': '0.538', 'TP': '7', 'FP': '4', 'FN': '11', 'precision': '0.636', 'recall': '0.389', 'f1': '0.483'}\n",
      "\n",
      "Episode 2 (45 chemicals)\n",
      "Finished after 288 timesteps with total reward 37.8418427871238\n",
      "{'coverage_prop': '0.978', 'intensity_prop': '0.832', 'ms1ms2_ratio': '2.803', 'efficiency': '0.579', 'TP': '11', 'FP': '6', 'FN': '28', 'precision': '0.647', 'recall': '0.282', 'f1': '0.393'}\n",
      "\n",
      "Episode 3 (28 chemicals)\n",
      "Finished after 271 timesteps with total reward 32.1943495914488\n",
      "{'coverage_prop': '0.821', 'intensity_prop': '0.616', 'ms1ms2_ratio': '5.476', 'efficiency': '0.548', 'TP': '8', 'FP': '1', 'FN': '19', 'precision': '0.889', 'recall': '0.296', 'f1': '0.444'}\n",
      "\n",
      "Episode 4 (20 chemicals)\n",
      "Finished after 269 timesteps with total reward 29.701599524842464\n",
      "{'coverage_prop': '0.850', 'intensity_prop': '0.729', 'ms1ms2_ratio': '6.105', 'efficiency': '0.447', 'TP': '5', 'FP': '2', 'FN': '13', 'precision': '0.714', 'recall': '0.278', 'f1': '0.400'}\n",
      "\n",
      "Episode 5 (38 chemicals)\n",
      "Finished after 289 timesteps with total reward 32.923866849661856\n",
      "{'coverage_prop': '0.974', 'intensity_prop': '0.810', 'ms1ms2_ratio': '2.671', 'efficiency': '0.468', 'TP': '7', 'FP': '6', 'FN': '25', 'precision': '0.538', 'recall': '0.219', 'f1': '0.311'}\n",
      "\n",
      "Episode 6 (34 chemicals)\n",
      "Finished after 285 timesteps with total reward 32.94281548350543\n",
      "{'coverage_prop': '0.971', 'intensity_prop': '0.804', 'ms1ms2_ratio': '3.086', 'efficiency': '0.471', 'TP': '7', 'FP': '5', 'FN': '22', 'precision': '0.583', 'recall': '0.241', 'f1': '0.341'}\n",
      "\n",
      "Episode 7 (21 chemicals)\n",
      "Finished after 276 timesteps with total reward 35.012745338533804\n",
      "{'coverage_prop': '1.000', 'intensity_prop': '0.914', 'ms1ms2_ratio': '4.226', 'efficiency': '0.396', 'TP': '11', 'FP': '0', 'FN': '10', 'precision': '1.000', 'recall': '0.524', 'f1': '0.688'}\n",
      "\n",
      "Episode 8 (37 chemicals)\n",
      "Finished after 289 timesteps with total reward 34.96142976319568\n",
      "{'coverage_prop': '1.000', 'intensity_prop': '0.877', 'ms1ms2_ratio': '2.671', 'efficiency': '0.468', 'TP': '11', 'FP': '3', 'FN': '23', 'precision': '0.786', 'recall': '0.324', 'f1': '0.458'}\n",
      "\n",
      "Episode 9 (45 chemicals)\n",
      "Finished after 293 timesteps with total reward 36.09937200521885\n",
      "{'coverage_prop': '1.000', 'intensity_prop': '0.835', 'ms1ms2_ratio': '2.379', 'efficiency': '0.517', 'TP': '10', 'FP': '3', 'FN': '32', 'precision': '0.769', 'recall': '0.238', 'f1': '0.364'}\n",
      "\n",
      "Episode 10 (36 chemicals)\n",
      "Finished after 289 timesteps with total reward 37.05786436375486\n",
      "{'coverage_prop': '1.000', 'intensity_prop': '0.896', 'ms1ms2_ratio': '2.671', 'efficiency': '0.456', 'TP': '13', 'FP': '3', 'FN': '20', 'precision': '0.812', 'recall': '0.394', 'f1': '0.531'}\n",
      "\n",
      "Episode 11 (46 chemicals)\n",
      "Finished after 293 timesteps with total reward 39.494203705958576\n",
      "{'coverage_prop': '1.000', 'intensity_prop': '0.843', 'ms1ms2_ratio': '2.419', 'efficiency': '0.535', 'TP': '16', 'FP': '6', 'FN': '24', 'precision': '0.727', 'recall': '0.400', 'f1': '0.516'}\n",
      "\n",
      "Episode 12 (49 chemicals)\n",
      "Finished after 297 timesteps with total reward 35.453451396475614\n",
      "{'coverage_prop': '0.939', 'intensity_prop': '0.849', 'ms1ms2_ratio': '2.137', 'efficiency': '0.484', 'TP': '9', 'FP': '2', 'FN': '38', 'precision': '0.818', 'recall': '0.191', 'f1': '0.310'}\n",
      "\n",
      "Episode 13 (24 chemicals)\n",
      "Finished after 273 timesteps with total reward 31.497417426487438\n",
      "{'coverage_prop': '0.958', 'intensity_prop': '0.757', 'ms1ms2_ratio': '4.957', 'efficiency': '0.500', 'TP': '6', 'FP': '5', 'FN': '13', 'precision': '0.545', 'recall': '0.316', 'f1': '0.400'}\n",
      "\n",
      "Episode 14 (32 chemicals)\n",
      "Finished after 282 timesteps with total reward 32.214493632922384\n",
      "{'coverage_prop': '0.938', 'intensity_prop': '0.830', 'ms1ms2_ratio': '3.422', 'efficiency': '0.469', 'TP': '9', 'FP': '2', 'FN': '21', 'precision': '0.818', 'recall': '0.300', 'f1': '0.439'}\n",
      "\n",
      "Episode 15 (42 chemicals)\n",
      "Finished after 294 timesteps with total reward 40.47579450424744\n",
      "{'coverage_prop': '1.000', 'intensity_prop': '0.843', 'ms1ms2_ratio': '2.352', 'efficiency': '0.477', 'TP': '15', 'FP': '4', 'FN': '23', 'precision': '0.789', 'recall': '0.395', 'f1': '0.526'}\n",
      "\n",
      "Episode 16 (25 chemicals)\n",
      "Finished after 274 timesteps with total reward 34.115674721857836\n",
      "{'coverage_prop': '0.960', 'intensity_prop': '0.775', 'ms1ms2_ratio': '4.729', 'efficiency': '0.500', 'TP': '11', 'FP': '2', 'FN': '12', 'precision': '0.846', 'recall': '0.478', 'f1': '0.611'}\n",
      "\n",
      "Episode 17 (34 chemicals)\n",
      "Finished after 281 timesteps with total reward 37.81513192682329\n",
      "{'coverage_prop': '0.971', 'intensity_prop': '0.758', 'ms1ms2_ratio': '3.548', 'efficiency': '0.532', 'TP': '16', 'FP': '5', 'FN': '13', 'precision': '0.762', 'recall': '0.552', 'f1': '0.640'}\n",
      "\n",
      "Episode 18 (44 chemicals)\n",
      "Finished after 292 timesteps with total reward 38.40108659591626\n",
      "{'coverage_prop': '0.977', 'intensity_prop': '0.775', 'ms1ms2_ratio': '2.447', 'efficiency': '0.506', 'TP': '15', 'FP': '3', 'FN': '26', 'precision': '0.833', 'recall': '0.366', 'f1': '0.508'}\n",
      "\n",
      "Episode 19 (37 chemicals)\n",
      "Finished after 285 timesteps with total reward 34.125904394401516\n",
      "{'coverage_prop': '0.973', 'intensity_prop': '0.817', 'ms1ms2_ratio': '3.028', 'efficiency': '0.507', 'TP': '7', 'FP': '8', 'FN': '22', 'precision': '0.467', 'recall': '0.241', 'f1': '0.318'}\n",
      "\n",
      "Episode 20 (23 chemicals)\n",
      "Finished after 273 timesteps with total reward 32.70694379883068\n",
      "{'coverage_prop': '0.957', 'intensity_prop': '0.708', 'ms1ms2_ratio': '4.957', 'efficiency': '0.478', 'TP': '9', 'FP': '1', 'FN': '13', 'precision': '0.900', 'recall': '0.409', 'f1': '0.563'}\n",
      "\n",
      "Episode 21 (40 chemicals)\n",
      "Finished after 288 timesteps with total reward 38.20215156183634\n",
      "{'coverage_prop': '0.925', 'intensity_prop': '0.746', 'ms1ms2_ratio': '2.803', 'efficiency': '0.487', 'TP': '13', 'FP': '4', 'FN': '23', 'precision': '0.765', 'recall': '0.361', 'f1': '0.491'}\n",
      "\n",
      "Episode 22 (43 chemicals)\n",
      "Finished after 295 timesteps with total reward 38.049469216312104\n",
      "{'coverage_prop': '1.000', 'intensity_prop': '0.881', 'ms1ms2_ratio': '2.253', 'efficiency': '0.473', 'TP': '13', 'FP': '6', 'FN': '24', 'precision': '0.684', 'recall': '0.351', 'f1': '0.464'}\n",
      "\n",
      "Episode 23 (37 chemicals)\n",
      "Finished after 285 timesteps with total reward 33.87890462983819\n",
      "{'coverage_prop': '0.946', 'intensity_prop': '0.775', 'ms1ms2_ratio': '3.086', 'efficiency': '0.500', 'TP': '11', 'FP': '2', 'FN': '24', 'precision': '0.846', 'recall': '0.314', 'f1': '0.458'}\n",
      "\n",
      "Episode 24 (27 chemicals)\n",
      "Finished after 273 timesteps with total reward 36.1482538376848\n",
      "{'coverage_prop': '0.963', 'intensity_prop': '0.715', 'ms1ms2_ratio': '4.957', 'efficiency': '0.565', 'TP': '10', 'FP': '6', 'FN': '11', 'precision': '0.625', 'recall': '0.476', 'f1': '0.541'}\n",
      "\n",
      "Episode 25 (32 chemicals)\n",
      "Finished after 279 timesteps with total reward 34.91038536321116\n",
      "{'coverage_prop': '1.000', 'intensity_prop': '0.817', 'ms1ms2_ratio': '3.828', 'efficiency': '0.552', 'TP': '8', 'FP': '7', 'FN': '17', 'precision': '0.533', 'recall': '0.320', 'f1': '0.400'}\n",
      "\n",
      "Episode 26 (34 chemicals)\n",
      "Finished after 287 timesteps with total reward 37.74882945137139\n",
      "{'coverage_prop': '0.882', 'intensity_prop': '0.796', 'ms1ms2_ratio': '2.840', 'efficiency': '0.400', 'TP': '13', 'FP': '3', 'FN': '18', 'precision': '0.812', 'recall': '0.419', 'f1': '0.553'}\n",
      "\n",
      "Episode 27 (26 chemicals)\n",
      "Finished after 276 timesteps with total reward 32.25091350023165\n",
      "{'coverage_prop': '0.962', 'intensity_prop': '0.795', 'ms1ms2_ratio': '4.327', 'efficiency': '0.481', 'TP': '7', 'FP': '3', 'FN': '16', 'precision': '0.700', 'recall': '0.304', 'f1': '0.424'}\n",
      "\n",
      "Episode 28 (28 chemicals)\n",
      "Finished after 279 timesteps with total reward 32.01641083066088\n",
      "{'coverage_prop': '0.964', 'intensity_prop': '0.733', 'ms1ms2_ratio': '3.828', 'efficiency': '0.466', 'TP': '6', 'FP': '5', 'FN': '17', 'precision': '0.545', 'recall': '0.261', 'f1': '0.353'}\n",
      "\n",
      "Episode 29 (34 chemicals)\n",
      "Finished after 275 timesteps with total reward 34.07290129078509\n",
      "{'coverage_prop': '0.941', 'intensity_prop': '0.637', 'ms1ms2_ratio': '4.520', 'efficiency': '0.640', 'TP': '6', 'FP': '9', 'FN': '19', 'precision': '0.400', 'recall': '0.240', 'f1': '0.300'}\n",
      "\n"
     ]
    }
   ],
   "source": [
    "method_eval_results = {}\n",
    "for method in methods:\n",
    "\n",
    "    N = 0\n",
    "    copy_params = dict(params)            \n",
    "    custom_objects = {\n",
    "        \"learning_rate\": 0.0,\n",
    "        \"lr_schedule\": lambda _: 0.0,\n",
    "        \"clip_range\": lambda _: 0.0,\n",
    "    }    \n",
    "    \n",
    "    if method == METHOD_DQN:\n",
    "        alpha = 0.25\n",
    "        beta = 0.75\n",
    "        model_dir = os.path.join(in_dir, 'metric_reward_timesteps_200000_alpha_%.2f_beta_%.2f' % (alpha, beta), METHOD_DQN)\n",
    "        fname = os.path.join(model_dir, 'best_model.zip')\n",
    "        model = DQN.load(fname, custom_objects=custom_objects)\n",
    "        copy_params['env']['alpha'] = alpha\n",
    "        copy_params['env']['beta'] = beta                \n",
    "    elif method == METHOD_PPO:\n",
    "        alpha = 0.25\n",
    "        beta = 0.75\n",
    "        model_dir = os.path.join(in_dir, 'metric_reward_timesteps_200000_alpha_%.2f_beta_%.2f' % (alpha, beta), METHOD_PPO)\n",
    "        fname = os.path.join(model_dir, 'best_model.zip')\n",
    "        model = PPO.load(fname, custom_objects=custom_objects)\n",
    "        copy_params['env']['alpha'] = alpha\n",
    "        copy_params['env']['beta'] = beta                \n",
    "    elif method == METHOD_PPO_RECURRENT:\n",
    "        alpha = 0.25\n",
    "        beta = 0.75\n",
    "        model_dir = os.path.join(in_dir, 'metric_reward_timesteps_200000_alpha_%.2f_beta_%.2f' % (alpha, beta), METHOD_PPO_RECURRENT)\n",
    "        fname = os.path.join(model_dir, 'best_model.zip')\n",
    "        model = RecurrentPPO.load(fname, custom_objects=custom_objects)\n",
    "        copy_params['env']['alpha'] = alpha\n",
    "        copy_params['env']['beta'] = beta                \n",
    "    else:\n",
    "        model = None\n",
    "        if method == METHOD_TOPN:\n",
    "            N = topN_N\n",
    "            effective_rt_tol = topN_rt_tol\n",
    "            copy_params = dict(params)        \n",
    "            copy_params['env']['rt_tol'] = effective_rt_tol                        \n",
    "\n",
    "    banner = 'method = %s max_peaks = %d N = %d rt_tol = %d' % (method, max_peaks, N, copy_params['env']['rt_tol'])\n",
    "    print(banner)\n",
    "    print()            \n",
    "            \n",
    "    episodic_results = run_method(env_name, copy_params, max_peaks, chem_list, method, out_dir, \n",
    "                                  N=N, min_ms1_intensity=min_ms1_intensity, model=model,\n",
    "                                  print_eval=True, print_reward=True, intensity_threshold=intensity_threshold,\n",
    "                                  mzml_prefix=method)\n",
    "    eval_results = [er.eval_res for er in episodic_results]\n",
    "    method_eval_results[method] = eval_results\n",
    "    print()"
   ]
  },
  {
   "cell_type": "markdown",
   "metadata": {
    "pycharm": {
     "name": "#%% md\n"
    }
   },
   "source": [
    "#### Test classic controllers in ViMMS"
   ]
  },
  {
   "cell_type": "code",
   "execution_count": null,
   "metadata": {
    "pycharm": {
     "name": "#%%\n"
    }
   },
   "outputs": [],
   "source": [
    "from vimms.MassSpec import IndependentMassSpectrometer\n",
    "from vimms.Controller import TopNController, TopN_SmartRoiController, WeightedDEWController\n",
    "from vimms.Environment import Environment"
   ]
  },
  {
   "cell_type": "markdown",
   "metadata": {
    "pycharm": {
     "name": "#%% md\n"
    }
   },
   "source": [
    "Run Top-N Controller"
   ]
  },
  {
   "cell_type": "code",
   "execution_count": null,
   "metadata": {},
   "outputs": [],
   "source": [
    "params"
   ]
  },
  {
   "cell_type": "code",
   "execution_count": null,
   "metadata": {},
   "outputs": [],
   "source": [
    "enable_spike_noise = params['noise']['enable_spike_noise']\n",
    "ionisation_mode = params['env']['ionisation_mode']\n",
    "isolation_window = params['env']['isolation_window']\n",
    "mz_tol = params['env']['mz_tol']\n",
    "rt_range = params['chemical_creator']['mz_range']"
   ]
  },
  {
   "cell_type": "code",
   "execution_count": null,
   "metadata": {
    "pycharm": {
     "name": "#%%\n"
    }
   },
   "outputs": [],
   "source": [
    "method = 'TopN_Controller'\n",
    "print('method = %s' % method)\n",
    "print()\n",
    "\n",
    "effective_rt_tol = topN_rt_tol\n",
    "effective_N = topN_N\n",
    "eval_results = []\n",
    "for i in range(len(chem_list)):\n",
    "    \n",
    "    spike_noise = None\n",
    "    if enable_spike_noise:\n",
    "        noise_params = params['noise']\n",
    "        noise_density = noise_params['noise_density']\n",
    "        noise_max_val = noise_params['noise_max_val']\n",
    "        noise_min_mz = noise_params['mz_range'][0]\n",
    "        noise_max_mz = noise_params['mz_range'][1]\n",
    "        spike_noise = UniformSpikeNoise(noise_density, noise_max_val, min_mz=noise_min_mz,\n",
    "                                        max_mz=noise_max_mz)\n",
    "\n",
    "    chems = chem_list[i]\n",
    "    mass_spec = IndependentMassSpectrometer(ionisation_mode, chems, spike_noise=spike_noise)\n",
    "    controller = TopNController(ionisation_mode, effective_N, isolation_window, mz_tol, effective_rt_tol,\n",
    "                                min_ms1_intensity)\n",
    "    env = Environment(mass_spec, controller, rt_range[0], rt_range[1], progress_bar=False, out_dir=out_dir,\n",
    "                      out_file='%s_%d.mzML' % (method, i), save_eval=True)\n",
    "    env.run()\n",
    "    \n",
    "    eval_res = evaluate(env, intensity_threshold)\n",
    "    eval_results.append(eval_res)\n",
    "    print('Episode %d finished' % i)\n",
    "    print(eval_res)\n",
    "    \n",
    "method_eval_results[method] = eval_results"
   ]
  },
  {
   "cell_type": "markdown",
   "metadata": {
    "pycharm": {
     "name": "#%% md\n"
    }
   },
   "source": [
    "Run SmartROI Controller"
   ]
  },
  {
   "cell_type": "code",
   "execution_count": null,
   "metadata": {
    "pycharm": {
     "name": "#%%\n"
    }
   },
   "outputs": [],
   "source": [
    "method = 'SmartROI_Controller'\n",
    "print('method = %s' % method)\n",
    "print()\n",
    "\n",
    "eval_results = []\n",
    "for i in range(len(chem_list)):\n",
    "    \n",
    "    spike_noise = None\n",
    "    if enable_spike_noise:\n",
    "        noise_params = params['noise']\n",
    "        noise_density = noise_params['noise_density']\n",
    "        noise_max_val = noise_params['noise_max_val']\n",
    "        noise_min_mz = noise_params['mz_range'][0]\n",
    "        noise_max_mz = noise_params['mz_range'][1]\n",
    "        spike_noise = UniformSpikeNoise(noise_density, noise_max_val, min_mz=noise_min_mz,\n",
    "                                        max_mz=noise_max_mz)\n",
    "\n",
    "    chems = chem_list[i]\n",
    "    mass_spec = IndependentMassSpectrometer(ionisation_mode, chems, spike_noise=spike_noise)\n",
    "    \n",
    "    roi_params = RoiBuilderParams(min_roi_intensity=0, min_roi_length=0)    \n",
    "    smartroi_params = SmartRoiParams(intensity_increase_factor=alpha, drop_perc=beta/100.0)\n",
    "    controller = TopN_SmartRoiController(ionisation_mode, isolation_window, smartroi_N, mz_tol, smartroi_dew,\n",
    "                                min_ms1_intensity, roi_params, smartroi_params)\n",
    "    env = Environment(mass_spec, controller, rt_range[0], rt_range[1], progress_bar=False, out_dir=out_dir,\n",
    "                      out_file='%s_%d.mzML' % (method, i), save_eval=True)\n",
    "    env.run()\n",
    "    \n",
    "    eval_res = evaluate(env, intensity_threshold)\n",
    "    eval_results.append(eval_res)\n",
    "    print('Episode %d finished' % i)\n",
    "    print(eval_res)\n",
    "    \n",
    "method_eval_results[method] = eval_results"
   ]
  },
  {
   "cell_type": "markdown",
   "metadata": {
    "pycharm": {
     "name": "#%% md\n"
    }
   },
   "source": [
    "Run WeightedDEW Controller"
   ]
  },
  {
   "cell_type": "code",
   "execution_count": null,
   "metadata": {
    "pycharm": {
     "name": "#%%\n"
    }
   },
   "outputs": [],
   "source": [
    "method = 'WeightedDEW_Controller'\n",
    "print('method = %s' % method)\n",
    "print()\n",
    "\n",
    "eval_results = []\n",
    "for i in range(len(chem_list)):\n",
    "    \n",
    "    spike_noise = None\n",
    "    if enable_spike_noise:\n",
    "        noise_params = params['noise']\n",
    "        noise_density = noise_params['noise_density']\n",
    "        noise_max_val = noise_params['noise_max_val']\n",
    "        noise_min_mz = noise_params['mz_range'][0]\n",
    "        noise_max_mz = noise_params['mz_range'][1]\n",
    "        spike_noise = UniformSpikeNoise(noise_density, noise_max_val, min_mz=noise_min_mz,\n",
    "                                        max_mz=noise_max_mz)\n",
    "\n",
    "    chems = chem_list[i]\n",
    "    mass_spec = IndependentMassSpectrometer(ionisation_mode, chems, spike_noise=spike_noise)\n",
    "    \n",
    "    controller = WeightedDEWController(ionisation_mode, weighteddew_N, isolation_window, mz_tol, t1,\n",
    "                                min_ms1_intensity, exclusion_t_0=t0)\n",
    "    env = Environment(mass_spec, controller, rt_range[0], rt_range[1], progress_bar=False, out_dir=out_dir,\n",
    "                      out_file='%s_%d.mzML' % (method, i), save_eval=True)\n",
    "    env.run()\n",
    "    \n",
    "    eval_res = evaluate(env, intensity_threshold)\n",
    "    eval_results.append(eval_res)\n",
    "    print('Episode %d finished' % i)\n",
    "    print(eval_res)\n",
    "    \n",
    "method_eval_results[method] = eval_results"
   ]
  },
  {
   "cell_type": "markdown",
   "metadata": {
    "pycharm": {
     "name": "#%% md\n"
    }
   },
   "source": [
    "#### Plotting"
   ]
  },
  {
   "cell_type": "markdown",
   "metadata": {
    "pycharm": {
     "name": "#%% md\n"
    }
   },
   "source": [
    "Flatten data into dataframe"
   ]
  },
  {
   "cell_type": "code",
   "execution_count": 37,
   "metadata": {
    "pycharm": {
     "name": "#%%\n"
    }
   },
   "outputs": [
    {
     "data": {
      "text/html": [
       "<div>\n",
       "<style scoped>\n",
       "    .dataframe tbody tr th:only-of-type {\n",
       "        vertical-align: middle;\n",
       "    }\n",
       "\n",
       "    .dataframe tbody tr th {\n",
       "        vertical-align: top;\n",
       "    }\n",
       "\n",
       "    .dataframe thead th {\n",
       "        text-align: right;\n",
       "    }\n",
       "</style>\n",
       "<table border=\"1\" class=\"dataframe\">\n",
       "  <thead>\n",
       "    <tr style=\"text-align: right;\">\n",
       "      <th></th>\n",
       "      <th>method</th>\n",
       "      <th>coverage_prop</th>\n",
       "      <th>intensity_prop</th>\n",
       "      <th>ms1/ms2_ratio</th>\n",
       "      <th>efficiency</th>\n",
       "      <th>precision</th>\n",
       "      <th>recall</th>\n",
       "      <th>f1</th>\n",
       "    </tr>\n",
       "  </thead>\n",
       "  <tbody>\n",
       "    <tr>\n",
       "      <th>0</th>\n",
       "      <td>random</td>\n",
       "      <td>0.893</td>\n",
       "      <td>0.582</td>\n",
       "      <td>0.012</td>\n",
       "      <td>0.051</td>\n",
       "      <td>0.700</td>\n",
       "      <td>0.280</td>\n",
       "      <td>0.400</td>\n",
       "    </tr>\n",
       "    <tr>\n",
       "      <th>1</th>\n",
       "      <td>random</td>\n",
       "      <td>0.864</td>\n",
       "      <td>0.649</td>\n",
       "      <td>0.019</td>\n",
       "      <td>0.039</td>\n",
       "      <td>0.556</td>\n",
       "      <td>0.278</td>\n",
       "      <td>0.370</td>\n",
       "    </tr>\n",
       "    <tr>\n",
       "      <th>2</th>\n",
       "      <td>random</td>\n",
       "      <td>0.889</td>\n",
       "      <td>0.711</td>\n",
       "      <td>0.019</td>\n",
       "      <td>0.083</td>\n",
       "      <td>0.667</td>\n",
       "      <td>0.195</td>\n",
       "      <td>0.302</td>\n",
       "    </tr>\n",
       "    <tr>\n",
       "      <th>3</th>\n",
       "      <td>random</td>\n",
       "      <td>0.571</td>\n",
       "      <td>0.420</td>\n",
       "      <td>0.004</td>\n",
       "      <td>0.032</td>\n",
       "      <td>0.500</td>\n",
       "      <td>0.077</td>\n",
       "      <td>0.133</td>\n",
       "    </tr>\n",
       "    <tr>\n",
       "      <th>4</th>\n",
       "      <td>random</td>\n",
       "      <td>0.900</td>\n",
       "      <td>0.691</td>\n",
       "      <td>0.014</td>\n",
       "      <td>0.037</td>\n",
       "      <td>0.714</td>\n",
       "      <td>0.278</td>\n",
       "      <td>0.400</td>\n",
       "    </tr>\n",
       "  </tbody>\n",
       "</table>\n",
       "</div>"
      ],
      "text/plain": [
       "   method  coverage_prop  intensity_prop  ms1/ms2_ratio  efficiency  \\\n",
       "0  random          0.893           0.582          0.012       0.051   \n",
       "1  random          0.864           0.649          0.019       0.039   \n",
       "2  random          0.889           0.711          0.019       0.083   \n",
       "3  random          0.571           0.420          0.004       0.032   \n",
       "4  random          0.900           0.691          0.014       0.037   \n",
       "\n",
       "   precision  recall     f1  \n",
       "0      0.700   0.280  0.400  \n",
       "1      0.556   0.278  0.370  \n",
       "2      0.667   0.195  0.302  \n",
       "3      0.500   0.077  0.133  \n",
       "4      0.714   0.278  0.400  "
      ]
     },
     "execution_count": 37,
     "metadata": {},
     "output_type": "execute_result"
    }
   ],
   "source": [
    "data = []\n",
    "for method in method_eval_results:\n",
    "    eval_results = method_eval_results[method]\n",
    "    for eval_res in eval_results:\n",
    "        row = (\n",
    "            method, \n",
    "            float(eval_res['coverage_prop']), \n",
    "            float(eval_res['intensity_prop']), \n",
    "            float(eval_res['ms1ms2_ratio']), \n",
    "            float(eval_res['efficiency']),\n",
    "            float(eval_res['precision']),\n",
    "            float(eval_res['recall']),\n",
    "            float(eval_res['f1']),            \n",
    "        )\n",
    "        data.append(row)\n",
    "        \n",
    "df = pd.DataFrame(data, columns=['method', 'coverage_prop', 'intensity_prop', 'ms1/ms2_ratio', 'efficiency', 'precision', 'recall', 'f1'])\n",
    "# df.set_index('method', inplace=True)\n",
    "df.head()"
   ]
  },
  {
   "cell_type": "code",
   "execution_count": 38,
   "metadata": {
    "pycharm": {
     "name": "#%%\n"
    }
   },
   "outputs": [],
   "source": [
    "sns.set_context(\"poster\")"
   ]
  },
  {
   "cell_type": "code",
   "execution_count": 39,
   "metadata": {
    "pycharm": {
     "name": "#%%\n"
    }
   },
   "outputs": [
    {
     "data": {
      "text/plain": [
       "Text(0.5, 1.0, 'Coverage Proportion')"
      ]
     },
     "execution_count": 39,
     "metadata": {},
     "output_type": "execute_result"
    },
    {
     "data": {
      "image/png": "[encoded data removed]",
      "text/plain": [
       "<Figure size 720x360 with 1 Axes>"
      ]
     },
     "metadata": {
      "needs_background": "light"
     },
     "output_type": "display_data"
    }
   ],
   "source": [
    "plt.figure(figsize=(10, 5))\n",
    "sns.boxplot(data=df, x='method', y='coverage_prop')\n",
    "plt.xticks(rotation=90)\n",
    "plt.title('Coverage Proportion')"
   ]
  },
  {
   "cell_type": "code",
   "execution_count": 40,
   "metadata": {
    "pycharm": {
     "name": "#%%\n"
    }
   },
   "outputs": [
    {
     "data": {
      "text/plain": [
       "Text(0.5, 1.0, 'Intensity Proportion')"
      ]
     },
     "execution_count": 40,
     "metadata": {},
     "output_type": "execute_result"
    },
    {
     "data": {
      "image/png": "[encoded data removed]",
      "text/plain": [
       "<Figure size 720x360 with 1 Axes>"
      ]
     },
     "metadata": {
      "needs_background": "light"
     },
     "output_type": "display_data"
    }
   ],
   "source": [
    "plt.figure(figsize=(10, 5))\n",
    "sns.boxplot(data=df, x='method', y='intensity_prop')\n",
    "plt.xticks(rotation=90)\n",
    "plt.title('Intensity Proportion')"
   ]
  },
  {
   "cell_type": "code",
   "execution_count": 41,
   "metadata": {
    "pycharm": {
     "name": "#%%\n"
    }
   },
   "outputs": [
    {
     "data": {
      "text/plain": [
       "Text(0.5, 1.0, 'MS1/MS2 Ratio')"
      ]
     },
     "execution_count": 41,
     "metadata": {},
     "output_type": "execute_result"
    },
    {
     "data": {
      "image/png": "[encoded data removed]",
      "text/plain": [
       "<Figure size 720x360 with 1 Axes>"
      ]
     },
     "metadata": {
      "needs_background": "light"
     },
     "output_type": "display_data"
    }
   ],
   "source": [
    "plt.figure(figsize=(10, 5))\n",
    "sns.boxplot(data=df, x='method', y='ms1/ms2_ratio')\n",
    "plt.xticks(rotation=90)\n",
    "plt.title('MS1/MS2 Ratio')"
   ]
  },
  {
   "cell_type": "code",
   "execution_count": 42,
   "metadata": {
    "pycharm": {
     "name": "#%%\n"
    }
   },
   "outputs": [
    {
     "data": {
      "text/plain": [
       "Text(0.5, 1.0, 'Efficiency')"
      ]
     },
     "execution_count": 42,
     "metadata": {},
     "output_type": "execute_result"
    },
    {
     "data": {
      "image/png": "[encoded data removed]",
      "text/plain": [
       "<Figure size 720x360 with 1 Axes>"
      ]
     },
     "metadata": {
      "needs_background": "light"
     },
     "output_type": "display_data"
    }
   ],
   "source": [
    "plt.figure(figsize=(10, 5))\n",
    "sns.boxplot(data=df, x='method', y='efficiency')\n",
    "plt.xticks(rotation=90)\n",
    "plt.title('Efficiency')"
   ]
  },
  {
   "cell_type": "code",
   "execution_count": 43,
   "metadata": {
    "pycharm": {
     "name": "#%%\n"
    }
   },
   "outputs": [
    {
     "data": {
      "text/plain": [
       "Text(0.5, 1.0, 'Precision')"
      ]
     },
     "execution_count": 43,
     "metadata": {},
     "output_type": "execute_result"
    },
    {
     "data": {
      "image/png": "[encoded data removed]",
      "text/plain": [
       "<Figure size 720x360 with 1 Axes>"
      ]
     },
     "metadata": {
      "needs_background": "light"
     },
     "output_type": "display_data"
    }
   ],
   "source": [
    "plt.figure(figsize=(10, 5))\n",
    "sns.boxplot(data=df, x='method', y='precision')\n",
    "plt.xticks(rotation=90)\n",
    "plt.title('Precision')"
   ]
  },
  {
   "cell_type": "code",
   "execution_count": 44,
   "metadata": {
    "pycharm": {
     "name": "#%%\n"
    }
   },
   "outputs": [
    {
     "data": {
      "text/plain": [
       "Text(0.5, 1.0, 'Recall')"
      ]
     },
     "execution_count": 44,
     "metadata": {},
     "output_type": "execute_result"
    },
    {
     "data": {
      "image/png": "[encoded data removed]",
      "text/plain": [
       "<Figure size 720x360 with 1 Axes>"
      ]
     },
     "metadata": {
      "needs_background": "light"
     },
     "output_type": "display_data"
    }
   ],
   "source": [
    "plt.figure(figsize=(10, 5))\n",
    "sns.boxplot(data=df, x='method', y='recall')\n",
    "plt.xticks(rotation=90)\n",
    "plt.title('Recall')"
   ]
  },
  {
   "cell_type": "code",
   "execution_count": 45,
   "metadata": {
    "pycharm": {
     "name": "#%%\n"
    }
   },
   "outputs": [
    {
     "data": {
      "text/plain": [
       "Text(0.5, 1.0, 'F1')"
      ]
     },
     "execution_count": 45,
     "metadata": {},
     "output_type": "execute_result"
    },
    {
     "data": {
      "image/png": "[encoded data removed]",
      "text/plain": [
       "<Figure size 720x360 with 1 Axes>"
      ]
     },
     "metadata": {
      "needs_background": "light"
     },
     "output_type": "display_data"
    }
   ],
   "source": [
    "plt.figure(figsize=(10, 5))\n",
    "sns.boxplot(data=df, x='method', y='f1')\n",
    "plt.xticks(rotation=90)\n",
    "plt.title('F1')"
   ]
  },
  {
   "cell_type": "code",
   "execution_count": 46,
   "metadata": {
    "pycharm": {
     "name": "#%%\n"
    }
   },
   "outputs": [],
   "source": [
    "df.to_pickle('evaluation.p')"
   ]
  },
  {
   "cell_type": "markdown",
   "metadata": {},
   "source": [
    "### Without 'random'"
   ]
  },
  {
   "cell_type": "code",
   "execution_count": 47,
   "metadata": {},
   "outputs": [],
   "source": [
    "df = pd.read_pickle('evaluation.p')"
   ]
  },
  {
   "cell_type": "code",
   "execution_count": 48,
   "metadata": {},
   "outputs": [
    {
     "data": {
      "text/html": [
       "<div>\n",
       "<style scoped>\n",
       "    .dataframe tbody tr th:only-of-type {\n",
       "        vertical-align: middle;\n",
       "    }\n",
       "\n",
       "    .dataframe tbody tr th {\n",
       "        vertical-align: top;\n",
       "    }\n",
       "\n",
       "    .dataframe thead th {\n",
       "        text-align: right;\n",
       "    }\n",
       "</style>\n",
       "<table border=\"1\" class=\"dataframe\">\n",
       "  <thead>\n",
       "    <tr style=\"text-align: right;\">\n",
       "      <th></th>\n",
       "      <th>method</th>\n",
       "      <th>coverage_prop</th>\n",
       "      <th>intensity_prop</th>\n",
       "      <th>ms1/ms2_ratio</th>\n",
       "      <th>efficiency</th>\n",
       "      <th>precision</th>\n",
       "      <th>recall</th>\n",
       "      <th>f1</th>\n",
       "    </tr>\n",
       "  </thead>\n",
       "  <tbody>\n",
       "    <tr>\n",
       "      <th>30</th>\n",
       "      <td>PPO</td>\n",
       "      <td>0.929</td>\n",
       "      <td>0.660</td>\n",
       "      <td>1.757</td>\n",
       "      <td>0.234</td>\n",
       "      <td>0.357</td>\n",
       "      <td>0.263</td>\n",
       "      <td>0.303</td>\n",
       "    </tr>\n",
       "    <tr>\n",
       "      <th>31</th>\n",
       "      <td>PPO</td>\n",
       "      <td>0.909</td>\n",
       "      <td>0.537</td>\n",
       "      <td>3.548</td>\n",
       "      <td>0.323</td>\n",
       "      <td>0.714</td>\n",
       "      <td>0.250</td>\n",
       "      <td>0.370</td>\n",
       "    </tr>\n",
       "    <tr>\n",
       "      <th>32</th>\n",
       "      <td>PPO</td>\n",
       "      <td>0.444</td>\n",
       "      <td>0.175</td>\n",
       "      <td>0.869</td>\n",
       "      <td>0.109</td>\n",
       "      <td>0.429</td>\n",
       "      <td>0.073</td>\n",
       "      <td>0.125</td>\n",
       "    </tr>\n",
       "    <tr>\n",
       "      <th>33</th>\n",
       "      <td>PPO</td>\n",
       "      <td>0.500</td>\n",
       "      <td>0.309</td>\n",
       "      <td>3.354</td>\n",
       "      <td>0.215</td>\n",
       "      <td>0.333</td>\n",
       "      <td>0.038</td>\n",
       "      <td>0.069</td>\n",
       "    </tr>\n",
       "    <tr>\n",
       "      <th>34</th>\n",
       "      <td>PPO</td>\n",
       "      <td>0.850</td>\n",
       "      <td>0.609</td>\n",
       "      <td>4.830</td>\n",
       "      <td>0.362</td>\n",
       "      <td>0.429</td>\n",
       "      <td>0.188</td>\n",
       "      <td>0.261</td>\n",
       "    </tr>\n",
       "  </tbody>\n",
       "</table>\n",
       "</div>"
      ],
      "text/plain": [
       "   method  coverage_prop  intensity_prop  ms1/ms2_ratio  efficiency  \\\n",
       "30    PPO          0.929           0.660          1.757       0.234   \n",
       "31    PPO          0.909           0.537          3.548       0.323   \n",
       "32    PPO          0.444           0.175          0.869       0.109   \n",
       "33    PPO          0.500           0.309          3.354       0.215   \n",
       "34    PPO          0.850           0.609          4.830       0.362   \n",
       "\n",
       "    precision  recall     f1  \n",
       "30      0.357   0.263  0.303  \n",
       "31      0.714   0.250  0.370  \n",
       "32      0.429   0.073  0.125  \n",
       "33      0.333   0.038  0.069  \n",
       "34      0.429   0.188  0.261  "
      ]
     },
     "execution_count": 48,
     "metadata": {},
     "output_type": "execute_result"
    }
   ],
   "source": [
    "new_df = df[df.method != 'random']\n",
    "new_df.head()"
   ]
  },
  {
   "cell_type": "code",
   "execution_count": 49,
   "metadata": {},
   "outputs": [
    {
     "data": {
      "text/plain": [
       "Text(0.5, 1.0, 'Coverage Proportion')"
      ]
     },
     "execution_count": 49,
     "metadata": {},
     "output_type": "execute_result"
    },
    {
     "data": {
      "image/png": "[encoded data removed]",
      "text/plain": [
       "<Figure size 720x360 with 1 Axes>"
      ]
     },
     "metadata": {
      "needs_background": "light"
     },
     "output_type": "display_data"
    }
   ],
   "source": [
    "plt.figure(figsize=(10, 5))\n",
    "sns.boxplot(data=new_df, x='method', y='coverage_prop')\n",
    "plt.xticks(rotation=90)\n",
    "plt.title('Coverage Proportion')"
   ]
  },
  {
   "cell_type": "code",
   "execution_count": 50,
   "metadata": {},
   "outputs": [
    {
     "data": {
      "text/plain": [
       "Text(0.5, 1.0, 'Intensity Proportion')"
      ]
     },
     "execution_count": 50,
     "metadata": {},
     "output_type": "execute_result"
    },
    {
     "data": {
      "image/png": "[encoded data removed]",
      "text/plain": [
       "<Figure size 720x360 with 1 Axes>"
      ]
     },
     "metadata": {
      "needs_background": "light"
     },
     "output_type": "display_data"
    }
   ],
   "source": [
    "plt.figure(figsize=(10, 5))\n",
    "sns.boxplot(data=new_df, x='method', y='intensity_prop')\n",
    "plt.xticks(rotation=90)\n",
    "plt.title('Intensity Proportion')"
   ]
  },
  {
   "cell_type": "code",
   "execution_count": 51,
   "metadata": {},
   "outputs": [
    {
     "data": {
      "text/plain": [
       "Text(0.5, 1.0, 'MS1/MS2 Ratio')"
      ]
     },
     "execution_count": 51,
     "metadata": {},
     "output_type": "execute_result"
    },
    {
     "data": {
      "image/png": "[encoded data removed]",
      "text/plain": [
       "<Figure size 720x360 with 1 Axes>"
      ]
     },
     "metadata": {
      "needs_background": "light"
     },
     "output_type": "display_data"
    }
   ],
   "source": [
    "plt.figure(figsize=(10, 5))\n",
    "sns.boxplot(data=new_df, x='method', y='ms1/ms2_ratio')\n",
    "plt.xticks(rotation=90)\n",
    "plt.title('MS1/MS2 Ratio')"
   ]
  },
  {
   "cell_type": "code",
   "execution_count": 52,
   "metadata": {},
   "outputs": [
    {
     "data": {
      "text/plain": [
       "Text(0.5, 1.0, 'Precision')"
      ]
     },
     "execution_count": 52,
     "metadata": {},
     "output_type": "execute_result"
    },
    {
     "data": {
      "image/png": "[encoded data removed]",
      "text/plain": [
       "<Figure size 720x360 with 1 Axes>"
      ]
     },
     "metadata": {
      "needs_background": "light"
     },
     "output_type": "display_data"
    }
   ],
   "source": [
    "plt.figure(figsize=(10, 5))\n",
    "sns.boxplot(data=new_df, x='method', y='precision')\n",
    "plt.xticks(rotation=90)\n",
    "plt.title('Precision')"
   ]
  },
  {
   "cell_type": "code",
   "execution_count": 53,
   "metadata": {},
   "outputs": [
    {
     "data": {
      "text/plain": [
       "Text(0.5, 1.0, 'Recall')"
      ]
     },
     "execution_count": 53,
     "metadata": {},
     "output_type": "execute_result"
    },
    {
     "data": {
      "image/png": "[encoded data removed]",
      "text/plain": [
       "<Figure size 720x360 with 1 Axes>"
      ]
     },
     "metadata": {
      "needs_background": "light"
     },
     "output_type": "display_data"
    }
   ],
   "source": [
    "plt.figure(figsize=(10, 5))\n",
    "sns.boxplot(data=new_df, x='method', y='recall')\n",
    "plt.xticks(rotation=90)\n",
    "plt.title('Recall')"
   ]
  },
  {
   "cell_type": "code",
   "execution_count": 54,
   "metadata": {},
   "outputs": [
    {
     "data": {
      "text/plain": [
       "Text(0.5, 1.0, 'F1')"
      ]
     },
     "execution_count": 54,
     "metadata": {},
     "output_type": "execute_result"
    },
    {
     "data": {
      "image/png": "[encoded data removed]",
      "text/plain": [
       "<Figure size 720x360 with 1 Axes>"
      ]
     },
     "metadata": {
      "needs_background": "light"
     },
     "output_type": "display_data"
    }
   ],
   "source": [
    "plt.figure(figsize=(10, 5))\n",
    "sns.boxplot(data=new_df, x='method', y='f1')\n",
    "plt.xticks(rotation=90)\n",
    "plt.title('F1')"
   ]
  },
  {
   "cell_type": "code",
   "execution_count": null,
   "metadata": {},
   "outputs": [],
   "source": []
  },
  {
   "cell_type": "code",
   "execution_count": null,
   "metadata": {},
   "outputs": [],
   "source": []
  }
 ],
 "metadata": {
  "kernelspec": {
   "display_name": "Python 3.9.12 ('vimms-gym')",
   "language": "python",
   "name": "python3"
  },
  "language_info": {
   "codemirror_mode": {
    "name": "ipython",
    "version": 3
   },
   "file_extension": ".py",
   "mimetype": "text/x-python",
   "name": "python",
   "nbconvert_exporter": "python",
   "pygments_lexer": "ipython3",
   "version": "3.9.12"
  },
  "vscode": {
   "interpreter": {
    "hash": "05a318a39bdd806c866a458e5513009c97d8e8627387c5b7a048c974669be487"
   }
  }
 },
 "nbformat": 4,
 "nbformat_minor": 4
}
