{
 "cells": [
  {
   "cell_type": "code",
   "execution_count": 1,
   "metadata": {},
   "outputs": [],
   "source": [
    "%matplotlib inline\n",
    "\n",
    "%load_ext autoreload\n",
    "%autoreload 2"
   ]
  },
  {
   "cell_type": "code",
   "execution_count": 2,
   "metadata": {},
   "outputs": [],
   "source": [
    "import sys\n",
    "from os.path import exists\n",
    "\n",
    "sys.path.append('../..')"
   ]
  },
  {
   "cell_type": "code",
   "execution_count": 3,
   "metadata": {},
   "outputs": [],
   "source": [
    "from stable_baselines3.common.env_checker import check_env\n",
    "from stable_baselines3.common.vec_env import DummyVecEnv, SubprocVecEnv\n",
    "\n",
    "from vimms_gym.env import DDAEnv\n",
    "from vimms_gym.features import obs_to_dfs\n",
    "from experiments import preset_qcb_small"
   ]
  },
  {
   "cell_type": "markdown",
   "metadata": {},
   "source": [
    "# Sequential DDA environment test"
   ]
  },
  {
   "cell_type": "code",
   "execution_count": 4,
   "metadata": {},
   "outputs": [
    {
     "name": "stderr",
     "output_type": "stream",
     "text": [
      "2022-08-25 12:39:59.312 | INFO     | experiments:get_samplers:283 - Loaded /Users/joewandy/Work/git/vimms-gym/pickles/samplers_QCB_small_gaussian.p\n"
     ]
    },
    {
     "data": {
      "text/plain": [
       "({'chemical_creator': {'mz_range': (100, 110),\n",
       "   'rt_range': (400, 500),\n",
       "   'intensity_range': (10000.0, 1e+20),\n",
       "   'n_chemicals': (20, 50),\n",
       "   'mz_sampler': <vimms.ChemicalSamplers.MZMLFormulaSampler at 0x7ff566041940>,\n",
       "   'ri_sampler': <vimms.ChemicalSamplers.MZMLRTandIntensitySampler at 0x7ff540d3bdc0>,\n",
       "   'cr_sampler': <vimms.ChemicalSamplers.GaussianChromatogramSampler at 0x7ff5660654f0>},\n",
       "  'noise': {'enable_spike_noise': True,\n",
       "   'noise_density': 0.1,\n",
       "   'noise_max_val': 1000.0,\n",
       "   'mz_range': (100, 110)},\n",
       "  'env': {'ionisation_mode': 'Positive',\n",
       "   'rt_range': (400, 500),\n",
       "   'isolation_window': 0.7,\n",
       "   'mz_tol': 10,\n",
       "   'rt_tol': 120,\n",
       "   'alpha': 0.25,\n",
       "   'beta': 0.0}},\n",
       " 100)"
      ]
     },
     "execution_count": 4,
     "metadata": {},
     "output_type": "execute_result"
    }
   ],
   "source": [
    "alpha = 0.25\n",
    "beta = 0.0\n",
    "extract = False\n",
    "params, max_peaks = preset_qcb_small(None, alpha=alpha, beta=beta, extract_chromatograms=extract)\n",
    "params, max_peaks"
   ]
  },
  {
   "cell_type": "markdown",
   "metadata": {},
   "source": [
    "Initialise a new DDA environment that tracks the top most intense peaks."
   ]
  },
  {
   "cell_type": "code",
   "execution_count": 5,
   "metadata": {},
   "outputs": [
    {
     "data": {
      "text/plain": [
       "{'intensities': array([0.14638253, 0.        , 0.        , 0.        , 0.        ,\n",
       "        0.        , 0.        , 0.        , 0.        , 0.        ,\n",
       "        0.        , 0.        , 0.        , 0.        , 0.        ,\n",
       "        0.        , 0.        , 0.        , 0.        , 0.        ,\n",
       "        0.        , 0.        , 0.        , 0.        , 0.        ,\n",
       "        0.        , 0.        , 0.        , 0.        , 0.        ,\n",
       "        0.        , 0.        , 0.        , 0.        , 0.        ,\n",
       "        0.        , 0.        , 0.        , 0.        , 0.        ,\n",
       "        0.        , 0.        , 0.        , 0.        , 0.        ,\n",
       "        0.        , 0.        , 0.        , 0.        , 0.        ,\n",
       "        0.        , 0.        , 0.        , 0.        , 0.        ,\n",
       "        0.        , 0.        , 0.        , 0.        , 0.        ,\n",
       "        0.        , 0.        , 0.        , 0.        , 0.        ,\n",
       "        0.        , 0.        , 0.        , 0.        , 0.        ,\n",
       "        0.        , 0.        , 0.        , 0.        , 0.        ,\n",
       "        0.        , 0.        , 0.        , 0.        , 0.        ,\n",
       "        0.        , 0.        , 0.        , 0.        , 0.        ,\n",
       "        0.        , 0.        , 0.        , 0.        , 0.        ,\n",
       "        0.        , 0.        , 0.        , 0.        , 0.        ,\n",
       "        0.        , 0.        , 0.        , 0.        , 0.        ],\n",
       "       dtype=float32),\n",
       " 'fragmented': array([0., 0., 0., 0., 0., 0., 0., 0., 0., 0., 0., 0., 0., 0., 0., 0., 0.,\n",
       "        0., 0., 0., 0., 0., 0., 0., 0., 0., 0., 0., 0., 0., 0., 0., 0., 0.,\n",
       "        0., 0., 0., 0., 0., 0., 0., 0., 0., 0., 0., 0., 0., 0., 0., 0., 0.,\n",
       "        0., 0., 0., 0., 0., 0., 0., 0., 0., 0., 0., 0., 0., 0., 0., 0., 0.,\n",
       "        0., 0., 0., 0., 0., 0., 0., 0., 0., 0., 0., 0., 0., 0., 0., 0., 0.,\n",
       "        0., 0., 0., 0., 0., 0., 0., 0., 0., 0., 0., 0., 0., 0., 0.],\n",
       "       dtype=float32),\n",
       " 'excluded': array([0., 0., 0., 0., 0., 0., 0., 0., 0., 0., 0., 0., 0., 0., 0., 0., 0.,\n",
       "        0., 0., 0., 0., 0., 0., 0., 0., 0., 0., 0., 0., 0., 0., 0., 0., 0.,\n",
       "        0., 0., 0., 0., 0., 0., 0., 0., 0., 0., 0., 0., 0., 0., 0., 0., 0.,\n",
       "        0., 0., 0., 0., 0., 0., 0., 0., 0., 0., 0., 0., 0., 0., 0., 0., 0.,\n",
       "        0., 0., 0., 0., 0., 0., 0., 0., 0., 0., 0., 0., 0., 0., 0., 0., 0.,\n",
       "        0., 0., 0., 0., 0., 0., 0., 0., 0., 0., 0., 0., 0., 0., 0.],\n",
       "       dtype=float32),\n",
       " 'roi_length': array([0., 0., 0., 0., 0., 0., 0., 0., 0., 0., 0., 0., 0., 0., 0., 0., 0.,\n",
       "        0., 0., 0., 0., 0., 0., 0., 0., 0., 0., 0., 0., 0., 0., 0., 0., 0.,\n",
       "        0., 0., 0., 0., 0., 0., 0., 0., 0., 0., 0., 0., 0., 0., 0., 0., 0.,\n",
       "        0., 0., 0., 0., 0., 0., 0., 0., 0., 0., 0., 0., 0., 0., 0., 0., 0.,\n",
       "        0., 0., 0., 0., 0., 0., 0., 0., 0., 0., 0., 0., 0., 0., 0., 0., 0.,\n",
       "        0., 0., 0., 0., 0., 0., 0., 0., 0., 0., 0., 0., 0., 0., 0.],\n",
       "       dtype=float32),\n",
       " 'roi_elapsed_time_since_last_frag': array([0., 0., 0., 0., 0., 0., 0., 0., 0., 0., 0., 0., 0., 0., 0., 0., 0.,\n",
       "        0., 0., 0., 0., 0., 0., 0., 0., 0., 0., 0., 0., 0., 0., 0., 0., 0.,\n",
       "        0., 0., 0., 0., 0., 0., 0., 0., 0., 0., 0., 0., 0., 0., 0., 0., 0.,\n",
       "        0., 0., 0., 0., 0., 0., 0., 0., 0., 0., 0., 0., 0., 0., 0., 0., 0.,\n",
       "        0., 0., 0., 0., 0., 0., 0., 0., 0., 0., 0., 0., 0., 0., 0., 0., 0.,\n",
       "        0., 0., 0., 0., 0., 0., 0., 0., 0., 0., 0., 0., 0., 0., 0.],\n",
       "       dtype=float32),\n",
       " 'roi_intensity_at_last_frag': array([0., 0., 0., 0., 0., 0., 0., 0., 0., 0., 0., 0., 0., 0., 0., 0., 0.,\n",
       "        0., 0., 0., 0., 0., 0., 0., 0., 0., 0., 0., 0., 0., 0., 0., 0., 0.,\n",
       "        0., 0., 0., 0., 0., 0., 0., 0., 0., 0., 0., 0., 0., 0., 0., 0., 0.,\n",
       "        0., 0., 0., 0., 0., 0., 0., 0., 0., 0., 0., 0., 0., 0., 0., 0., 0.,\n",
       "        0., 0., 0., 0., 0., 0., 0., 0., 0., 0., 0., 0., 0., 0., 0., 0., 0.,\n",
       "        0., 0., 0., 0., 0., 0., 0., 0., 0., 0., 0., 0., 0., 0., 0.],\n",
       "       dtype=float32),\n",
       " 'roi_min_intensity_since_last_frag': array([0., 0., 0., 0., 0., 0., 0., 0., 0., 0., 0., 0., 0., 0., 0., 0., 0.,\n",
       "        0., 0., 0., 0., 0., 0., 0., 0., 0., 0., 0., 0., 0., 0., 0., 0., 0.,\n",
       "        0., 0., 0., 0., 0., 0., 0., 0., 0., 0., 0., 0., 0., 0., 0., 0., 0.,\n",
       "        0., 0., 0., 0., 0., 0., 0., 0., 0., 0., 0., 0., 0., 0., 0., 0., 0.,\n",
       "        0., 0., 0., 0., 0., 0., 0., 0., 0., 0., 0., 0., 0., 0., 0., 0., 0.,\n",
       "        0., 0., 0., 0., 0., 0., 0., 0., 0., 0., 0., 0., 0., 0., 0.],\n",
       "       dtype=float32),\n",
       " 'roi_max_intensity_since_last_frag': array([0., 0., 0., 0., 0., 0., 0., 0., 0., 0., 0., 0., 0., 0., 0., 0., 0.,\n",
       "        0., 0., 0., 0., 0., 0., 0., 0., 0., 0., 0., 0., 0., 0., 0., 0., 0.,\n",
       "        0., 0., 0., 0., 0., 0., 0., 0., 0., 0., 0., 0., 0., 0., 0., 0., 0.,\n",
       "        0., 0., 0., 0., 0., 0., 0., 0., 0., 0., 0., 0., 0., 0., 0., 0., 0.,\n",
       "        0., 0., 0., 0., 0., 0., 0., 0., 0., 0., 0., 0., 0., 0., 0., 0., 0.,\n",
       "        0., 0., 0., 0., 0., 0., 0., 0., 0., 0., 0., 0., 0., 0., 0.],\n",
       "       dtype=float32),\n",
       " 'valid_actions': array([1., 0., 0., 0., 0., 0., 0., 0., 0., 0., 0., 0., 0., 0., 0., 0., 0.,\n",
       "        0., 0., 0., 0., 0., 0., 0., 0., 0., 0., 0., 0., 0., 0., 0., 0., 0.,\n",
       "        0., 0., 0., 0., 0., 0., 0., 0., 0., 0., 0., 0., 0., 0., 0., 0., 0.,\n",
       "        0., 0., 0., 0., 0., 0., 0., 0., 0., 0., 0., 0., 0., 0., 0., 0., 0.,\n",
       "        0., 0., 0., 0., 0., 0., 0., 0., 0., 0., 0., 0., 0., 0., 0., 0., 0.,\n",
       "        0., 0., 0., 0., 0., 0., 0., 0., 0., 0., 0., 0., 0., 0., 0., 1.],\n",
       "       dtype=float32),\n",
       " 'ms_level': 0,\n",
       " 'last_action': 101,\n",
       " 'fragmented_count': array([0.], dtype=float32),\n",
       " 'unfragmented_count': array([1.], dtype=float32),\n",
       " 'excluded_count': array([0.], dtype=float32),\n",
       " 'unexcluded_count': array([1.], dtype=float32),\n",
       " 'elapsed_scans_since_start': array([1.e-04], dtype=float32),\n",
       " 'elapsed_scans_since_last_ms1': array([0.], dtype=float32)}"
      ]
     },
     "execution_count": 5,
     "metadata": {},
     "output_type": "execute_result"
    }
   ],
   "source": [
    "env = DDAEnv(max_peaks, params)\n",
    "env.reset()"
   ]
  },
  {
   "cell_type": "code",
   "execution_count": 6,
   "metadata": {},
   "outputs": [],
   "source": [
    "env = DDAEnv(max_peaks, params)\n",
    "check_env(env)"
   ]
  },
  {
   "cell_type": "markdown",
   "metadata": {},
   "source": [
    "Generate an initial observation (MS1 scan)"
   ]
  },
  {
   "cell_type": "code",
   "execution_count": 7,
   "metadata": {},
   "outputs": [
    {
     "data": {
      "text/plain": [
       "(    intensities  fragmented  excluded  roi_length  \\\n",
       " 0      0.133566         0.0       0.0         0.0   \n",
       " 1      0.000000         0.0       0.0         0.0   \n",
       " 2      0.000000         0.0       0.0         0.0   \n",
       " 3      0.000000         0.0       0.0         0.0   \n",
       " 4      0.000000         0.0       0.0         0.0   \n",
       " ..          ...         ...       ...         ...   \n",
       " 95     0.000000         0.0       0.0         0.0   \n",
       " 96     0.000000         0.0       0.0         0.0   \n",
       " 97     0.000000         0.0       0.0         0.0   \n",
       " 98     0.000000         0.0       0.0         0.0   \n",
       " 99     0.000000         0.0       0.0         0.0   \n",
       " \n",
       "     roi_elapsed_time_since_last_frag  roi_intensity_at_last_frag  \\\n",
       " 0                                0.0                         0.0   \n",
       " 1                                0.0                         0.0   \n",
       " 2                                0.0                         0.0   \n",
       " 3                                0.0                         0.0   \n",
       " 4                                0.0                         0.0   \n",
       " ..                               ...                         ...   \n",
       " 95                               0.0                         0.0   \n",
       " 96                               0.0                         0.0   \n",
       " 97                               0.0                         0.0   \n",
       " 98                               0.0                         0.0   \n",
       " 99                               0.0                         0.0   \n",
       " \n",
       "     roi_min_intensity_since_last_frag  roi_max_intensity_since_last_frag  \\\n",
       " 0                                 0.0                                0.0   \n",
       " 1                                 0.0                                0.0   \n",
       " 2                                 0.0                                0.0   \n",
       " 3                                 0.0                                0.0   \n",
       " 4                                 0.0                                0.0   \n",
       " ..                                ...                                ...   \n",
       " 95                                0.0                                0.0   \n",
       " 96                                0.0                                0.0   \n",
       " 97                                0.0                                0.0   \n",
       " 98                                0.0                                0.0   \n",
       " 99                                0.0                                0.0   \n",
       " \n",
       "     log_intensities  \n",
       " 0          6.150936  \n",
       " 1          0.000000  \n",
       " 2          0.000000  \n",
       " 3          0.000000  \n",
       " 4          0.000000  \n",
       " ..              ...  \n",
       " 95         0.000000  \n",
       " 96         0.000000  \n",
       " 97         0.000000  \n",
       " 98         0.000000  \n",
       " 99         0.000000  \n",
       " \n",
       " [100 rows x 9 columns],\n",
       "                                 counts\n",
       " ms_level                        0.0000\n",
       " last_action                   101.0000\n",
       " fragmented_count                0.0000\n",
       " unfragmented_count              1.0000\n",
       " excluded_count                  0.0000\n",
       " unexcluded_count                1.0000\n",
       " elapsed_scans_since_start       0.0001\n",
       " elapsed_scans_since_last_ms1    0.0000)"
      ]
     },
     "execution_count": 7,
     "metadata": {},
     "output_type": "execute_result"
    }
   ],
   "source": [
    "observation = env.reset()\n",
    "scan_df, count_df = obs_to_dfs(observation, env.features)\n",
    "scan_df, count_df"
   ]
  },
  {
   "cell_type": "code",
   "execution_count": 8,
   "metadata": {},
   "outputs": [
    {
     "data": {
      "text/plain": [
       "array([1., 0., 0., 0., 0., 0., 0., 0., 0., 0., 0., 0., 0., 0., 0., 0., 0.,\n",
       "       0., 0., 0., 0., 0., 0., 0., 0., 0., 0., 0., 0., 0., 0., 0., 0., 0.,\n",
       "       0., 0., 0., 0., 0., 0., 0., 0., 0., 0., 0., 0., 0., 0., 0., 0., 0.,\n",
       "       0., 0., 0., 0., 0., 0., 0., 0., 0., 0., 0., 0., 0., 0., 0., 0., 0.,\n",
       "       0., 0., 0., 0., 0., 0., 0., 0., 0., 0., 0., 0., 0., 0., 0., 0., 0.,\n",
       "       0., 0., 0., 0., 0., 0., 0., 0., 0., 0., 0., 0., 0., 0., 0., 1.],\n",
       "      dtype=float32)"
      ]
     },
     "execution_count": 8,
     "metadata": {},
     "output_type": "execute_result"
    }
   ],
   "source": [
    "observation['valid_actions']"
   ]
  },
  {
   "cell_type": "code",
   "execution_count": 9,
   "metadata": {
    "tags": []
   },
   "outputs": [
    {
     "data": {
      "text/plain": [
       "[mz=108.95679059305621 rt=400 intensity=469.15631030415415 (0.13356587810511678) fragmented=False roi=ROI with data points=1 fragmentations=0 mz (108.9568-108.9568) rt (400.0000-400.0000)]"
      ]
     },
     "execution_count": 9,
     "metadata": {},
     "output_type": "execute_result"
    }
   ],
   "source": [
    "env.features"
   ]
  },
  {
   "cell_type": "code",
   "execution_count": 10,
   "metadata": {},
   "outputs": [
    {
     "data": {
      "image/png": "[encoded data removed]",
      "text/plain": [
       "<Figure size 432x288 with 1 Axes>"
      ]
     },
     "metadata": {
      "needs_background": "light"
     },
     "output_type": "display_data"
    }
   ],
   "source": [
    "env.render()"
   ]
  },
  {
   "cell_type": "markdown",
   "metadata": {},
   "source": [
    "Generate a lot of ms1 scans"
   ]
  },
  {
   "cell_type": "code",
   "execution_count": 11,
   "metadata": {
    "tags": []
   },
   "outputs": [
    {
     "name": "stdout",
     "output_type": "stream",
     "text": [
      "reward 0.1\n",
      "done False\n"
     ]
    },
    {
     "data": {
      "text/plain": [
       "(    intensities  fragmented  excluded  roi_length  \\\n",
       " 0      0.253004         0.0       0.0       0.196   \n",
       " 1      0.231134         0.0       0.0       0.412   \n",
       " 2      0.218036         0.0       0.0       0.300   \n",
       " 3      0.213001         0.0       0.0       0.284   \n",
       " 4      0.212051         0.0       0.0       0.264   \n",
       " ..          ...         ...       ...         ...   \n",
       " 95     0.000000         0.0       0.0       0.000   \n",
       " 96     0.000000         0.0       0.0       0.000   \n",
       " 97     0.000000         0.0       0.0       0.000   \n",
       " 98     0.000000         0.0       0.0       0.000   \n",
       " 99     0.000000         0.0       0.0       0.000   \n",
       " \n",
       "     roi_elapsed_time_since_last_frag  roi_intensity_at_last_frag  \\\n",
       " 0                                0.0                         0.0   \n",
       " 1                                0.0                         0.0   \n",
       " 2                                0.0                         0.0   \n",
       " 3                                0.0                         0.0   \n",
       " 4                                0.0                         0.0   \n",
       " ..                               ...                         ...   \n",
       " 95                               0.0                         0.0   \n",
       " 96                               0.0                         0.0   \n",
       " 97                               0.0                         0.0   \n",
       " 98                               0.0                         0.0   \n",
       " 99                               0.0                         0.0   \n",
       " \n",
       "     roi_min_intensity_since_last_frag  roi_max_intensity_since_last_frag  \\\n",
       " 0                                 0.0                                0.0   \n",
       " 1                                 0.0                                0.0   \n",
       " 2                                 0.0                                0.0   \n",
       " 3                                 0.0                                0.0   \n",
       " 4                                 0.0                                0.0   \n",
       " ..                                ...                                ...   \n",
       " 95                                0.0                                0.0   \n",
       " 96                                0.0                                0.0   \n",
       " 97                                0.0                                0.0   \n",
       " 98                                0.0                                0.0   \n",
       " 99                                0.0                                0.0   \n",
       " \n",
       "     log_intensities  \n",
       " 0         11.651287  \n",
       " 1         10.644124  \n",
       " 2         10.040919  \n",
       " 3          9.809071  \n",
       " 4          9.765306  \n",
       " ..              ...  \n",
       " 95         0.000000  \n",
       " 96         0.000000  \n",
       " 97         0.000000  \n",
       " 98         0.000000  \n",
       " 99         0.000000  \n",
       " \n",
       " [100 rows x 9 columns],\n",
       "                                 counts\n",
       " ms_level                        0.0000\n",
       " last_action                   101.0000\n",
       " fragmented_count                0.0000\n",
       " unfragmented_count              1.0000\n",
       " excluded_count                  0.0000\n",
       " unexcluded_count                1.0000\n",
       " elapsed_scans_since_start       0.0201\n",
       " elapsed_scans_since_last_ms1    0.0000)"
      ]
     },
     "execution_count": 11,
     "metadata": {},
     "output_type": "execute_result"
    }
   ],
   "source": [
    "for i in range(200):\n",
    "    action = max_peaks  # ms1\n",
    "    observation, reward, done, info = env.step(action)\n",
    "\n",
    "print('reward', reward)\n",
    "print('done', done)\n",
    "scan_df, count_df = obs_to_dfs(observation, env.features)\n",
    "scan_df, count_df"
   ]
  },
  {
   "cell_type": "code",
   "execution_count": 12,
   "metadata": {},
   "outputs": [
    {
     "data": {
      "text/plain": [
       "array([1., 1., 1., 1., 1., 1., 1., 1., 1., 1., 1., 1., 1., 1., 1., 1., 1.,\n",
       "       1., 1., 0., 0., 0., 0., 0., 0., 0., 0., 0., 0., 0., 0., 0., 0., 0.,\n",
       "       0., 0., 0., 0., 0., 0., 0., 0., 0., 0., 0., 0., 0., 0., 0., 0., 0.,\n",
       "       0., 0., 0., 0., 0., 0., 0., 0., 0., 0., 0., 0., 0., 0., 0., 0., 0.,\n",
       "       0., 0., 0., 0., 0., 0., 0., 0., 0., 0., 0., 0., 0., 0., 0., 0., 0.,\n",
       "       0., 0., 0., 0., 0., 0., 0., 0., 0., 0., 0., 0., 0., 0., 0., 1.],\n",
       "      dtype=float32)"
      ]
     },
     "execution_count": 12,
     "metadata": {},
     "output_type": "execute_result"
    }
   ],
   "source": [
    "observation['valid_actions']"
   ]
  },
  {
   "cell_type": "code",
   "execution_count": 13,
   "metadata": {},
   "outputs": [
    {
     "data": {
      "text/plain": [
       "[mz=104.16986339596679 rt=479.99999999999545 intensity=114839.0831636821 (0.253004485828918) fragmented=False roi=ROI with data points=50 fragmentations=0 mz (104.1699-104.1699) rt (460.4000-480.0000),\n",
       " mz=104.01054120741223 rt=479.99999999999545 intensity=41945.380620124124 (0.23113420698093662) fragmented=False roi=ROI with data points=104 fragmentations=0 mz (104.0105-104.0105) rt (438.8000-480.0000),\n",
       " mz=104.0258563606324 rt=479.99999999999545 intensity=22946.45788936697 (0.2180357827772658) fragmented=False roi=ROI with data points=76 fragmentations=0 mz (104.0259-104.0259) rt (450.0000-480.0000),\n",
       " mz=110.91917739975436 rt=479.99999999999545 intensity=18198.072679432993 (0.21300126975911823) fragmented=False roi=ROI with data points=72 fragmentations=0 mz (110.9192-110.9192) rt (451.6000-480.0000),\n",
       " mz=104.73766089883179 rt=479.99999999999545 intensity=17418.819541987017 (0.2120509359957744) fragmented=False roi=ROI with data points=67 fragmentations=0 mz (104.7377-104.7377) rt (453.6000-480.0000),\n",
       " mz=104.4677019590467 rt=479.99999999999545 intensity=6994.8391740430625 (0.1922388866802873) fragmented=False roi=ROI with data points=36 fragmentations=0 mz (104.4677-104.4677) rt (466.0000-480.0000),\n",
       " mz=104.34745846155377 rt=479.99999999999545 intensity=6172.306348143863 (0.18952237365638855) fragmented=False roi=ROI with data points=96 fragmentations=0 mz (104.3475-104.3475) rt (442.0000-480.0000),\n",
       " mz=104.52031347961277 rt=479.99999999999545 intensity=4093.700271496749 (0.18060580208730312) fragmented=False roi=ROI with data points=29 fragmentations=0 mz (104.5203-104.5203) rt (468.8000-480.0000),\n",
       " mz=104.21263355253443 rt=479.99999999999545 intensity=3301.491786492707 (0.17593551105825955) fragmented=False roi=ROI with data points=12 fragmentations=0 mz (104.2126-104.2126) rt (475.6000-480.0000),\n",
       " mz=104.54759908908498 rt=479.99999999999545 intensity=2446.5484270368643 (0.16942769083080916) fragmented=False roi=ROI with data points=118 fragmentations=0 mz (104.5476-104.5476) rt (433.2000-480.0000),\n",
       " mz=104.6653239512957 rt=479.99999999999545 intensity=2422.1985241682764 (0.1692104867590446) fragmented=False roi=ROI with data points=107 fragmentations=0 mz (104.6653-104.6653) rt (437.6000-480.0000),\n",
       " mz=104.27009635808076 rt=479.99999999999545 intensity=2184.8876443121035 (0.16697145543580552) fragmented=False roi=ROI with data points=16 fragmentations=0 mz (104.2701-104.2701) rt (474.0000-480.0000),\n",
       " mz=104.56129642050864 rt=479.99999999999545 intensity=2121.253445226767 (0.16632962803421256) fragmented=False roi=ROI with data points=14 fragmentations=0 mz (104.5613-104.5613) rt (474.8000-480.0000),\n",
       " mz=104.31361239764398 rt=479.99999999999545 intensity=995.6712902866807 (0.14990579923158498) fragmented=False roi=ROI with data points=8 fragmentations=0 mz (104.3136-104.3136) rt (477.2000-480.0000),\n",
       " mz=104.28139737337565 rt=479.99999999999545 intensity=825.1503169109036 (0.14582665354012755) fragmented=False roi=ROI with data points=123 fragmentations=0 mz (104.2814-104.2814) rt (431.2000-480.0000),\n",
       " mz=102.17547938396021 rt=479.99999999999545 intensity=755.3216526032093 (0.14390659673395184) fragmented=False roi=ROI with data points=1 fragmentations=0 mz (102.1755-102.1755) rt (480.0000-480.0000),\n",
       " mz=104.38216728824632 rt=479.99999999999545 intensity=742.7716224436298 (0.14354276515917863) fragmented=False roi=ROI with data points=124 fragmentations=0 mz (104.3822-104.3822) rt (430.8000-480.0000),\n",
       " mz=104.26793041960747 rt=479.99999999999545 intensity=625.2925913389466 (0.13980416415275446) fragmented=False roi=ROI with data points=1 fragmentations=0 mz (104.2679-104.2679) rt (480.0000-480.0000),\n",
       " mz=108.05823114681954 rt=479.99999999999545 intensity=536.9410036835043 (0.1364963285138186) fragmented=False roi=ROI with data points=4 fragmentations=0 mz (108.0582-108.0582) rt (478.8000-480.0000)]"
      ]
     },
     "execution_count": 13,
     "metadata": {},
     "output_type": "execute_result"
    }
   ],
   "source": [
    "env.features"
   ]
  },
  {
   "cell_type": "code",
   "execution_count": 14,
   "metadata": {},
   "outputs": [
    {
     "data": {
      "image/png": "[encoded data removed]",
      "text/plain": [
       "<Figure size 432x288 with 1 Axes>"
      ]
     },
     "metadata": {
      "needs_background": "light"
     },
     "output_type": "display_data"
    }
   ],
   "source": [
    "env.render()"
   ]
  },
  {
   "cell_type": "markdown",
   "metadata": {},
   "source": [
    "Target the most intense precursor for fragmentation, and generate an MS2 scan from that"
   ]
  },
  {
   "cell_type": "code",
   "execution_count": 15,
   "metadata": {},
   "outputs": [
    {
     "name": "stdout",
     "output_type": "stream",
     "text": [
      "reward 0.3730225075985592\n",
      "done False\n"
     ]
    },
    {
     "data": {
      "text/plain": [
       "(    intensities  fragmented  excluded  roi_length  \\\n",
       " 0      0.253004         1.0  0.003333       0.196   \n",
       " 1      0.231134         0.0  0.000000       0.412   \n",
       " 2      0.218036         0.0  0.000000       0.300   \n",
       " 3      0.213001         0.0  0.000000       0.284   \n",
       " 4      0.212051         0.0  0.000000       0.264   \n",
       " ..          ...         ...       ...         ...   \n",
       " 95     0.000000         0.0  0.000000       0.000   \n",
       " 96     0.000000         0.0  0.000000       0.000   \n",
       " 97     0.000000         0.0  0.000000       0.000   \n",
       " 98     0.000000         0.0  0.000000       0.000   \n",
       " 99     0.000000         0.0  0.000000       0.000   \n",
       " \n",
       "     roi_elapsed_time_since_last_frag  roi_intensity_at_last_frag  \\\n",
       " 0                                0.0                         0.0   \n",
       " 1                                0.0                         0.0   \n",
       " 2                                0.0                         0.0   \n",
       " 3                                0.0                         0.0   \n",
       " 4                                0.0                         0.0   \n",
       " ..                               ...                         ...   \n",
       " 95                               0.0                         0.0   \n",
       " 96                               0.0                         0.0   \n",
       " 97                               0.0                         0.0   \n",
       " 98                               0.0                         0.0   \n",
       " 99                               0.0                         0.0   \n",
       " \n",
       "     roi_min_intensity_since_last_frag  roi_max_intensity_since_last_frag  \\\n",
       " 0                                 0.0                                0.0   \n",
       " 1                                 0.0                                0.0   \n",
       " 2                                 0.0                                0.0   \n",
       " 3                                 0.0                                0.0   \n",
       " 4                                 0.0                                0.0   \n",
       " ..                                ...                                ...   \n",
       " 95                                0.0                                0.0   \n",
       " 96                                0.0                                0.0   \n",
       " 97                                0.0                                0.0   \n",
       " 98                                0.0                                0.0   \n",
       " 99                                0.0                                0.0   \n",
       " \n",
       "     log_intensities  \n",
       " 0         11.651287  \n",
       " 1         10.644124  \n",
       " 2         10.040919  \n",
       " 3          9.809071  \n",
       " 4          9.765306  \n",
       " ..              ...  \n",
       " 95         0.000000  \n",
       " 96         0.000000  \n",
       " 97         0.000000  \n",
       " 98         0.000000  \n",
       " 99         0.000000  \n",
       " \n",
       " [100 rows x 9 columns],\n",
       "                               counts\n",
       " ms_level                      1.0000\n",
       " last_action                   0.0000\n",
       " fragmented_count              0.0100\n",
       " unfragmented_count            0.9900\n",
       " excluded_count                0.0100\n",
       " unexcluded_count              0.9900\n",
       " elapsed_scans_since_start     0.0202\n",
       " elapsed_scans_since_last_ms1  0.0100)"
      ]
     },
     "execution_count": 15,
     "metadata": {},
     "output_type": "execute_result"
    }
   ],
   "source": [
    "action = 0\n",
    "observation, reward, done, info = env.step(action)\n",
    "\n",
    "print('reward', reward)\n",
    "print('done', done)\n",
    "scan_df, count_df = obs_to_dfs(observation, env.features)\n",
    "scan_df, count_df"
   ]
  },
  {
   "cell_type": "code",
   "execution_count": 16,
   "metadata": {},
   "outputs": [
    {
     "data": {
      "text/plain": [
       "array([0., 1., 1., 1., 1., 1., 1., 1., 1., 1., 1., 1., 1., 1., 1., 1., 1.,\n",
       "       1., 1., 0., 0., 0., 0., 0., 0., 0., 0., 0., 0., 0., 0., 0., 0., 0.,\n",
       "       0., 0., 0., 0., 0., 0., 0., 0., 0., 0., 0., 0., 0., 0., 0., 0., 0.,\n",
       "       0., 0., 0., 0., 0., 0., 0., 0., 0., 0., 0., 0., 0., 0., 0., 0., 0.,\n",
       "       0., 0., 0., 0., 0., 0., 0., 0., 0., 0., 0., 0., 0., 0., 0., 0., 0.,\n",
       "       0., 0., 0., 0., 0., 0., 0., 0., 0., 0., 0., 0., 0., 0., 0., 1.],\n",
       "      dtype=float32)"
      ]
     },
     "execution_count": 16,
     "metadata": {},
     "output_type": "execute_result"
    }
   ],
   "source": [
    "observation['valid_actions']"
   ]
  },
  {
   "cell_type": "code",
   "execution_count": 17,
   "metadata": {},
   "outputs": [
    {
     "data": {
      "text/plain": [
       "[mz=104.16986339596679 rt=479.99999999999545 intensity=114839.0831636821 (0.253004485828918) fragmented=True roi=ROI with data points=50 fragmentations=0 mz (104.1699-104.1699) rt (460.4000-480.0000),\n",
       " mz=104.01054120741223 rt=479.99999999999545 intensity=41945.380620124124 (0.23113420698093662) fragmented=False roi=ROI with data points=104 fragmentations=0 mz (104.0105-104.0105) rt (438.8000-480.0000),\n",
       " mz=104.0258563606324 rt=479.99999999999545 intensity=22946.45788936697 (0.2180357827772658) fragmented=False roi=ROI with data points=76 fragmentations=0 mz (104.0259-104.0259) rt (450.0000-480.0000),\n",
       " mz=110.91917739975436 rt=479.99999999999545 intensity=18198.072679432993 (0.21300126975911823) fragmented=False roi=ROI with data points=72 fragmentations=0 mz (110.9192-110.9192) rt (451.6000-480.0000),\n",
       " mz=104.73766089883179 rt=479.99999999999545 intensity=17418.819541987017 (0.2120509359957744) fragmented=False roi=ROI with data points=67 fragmentations=0 mz (104.7377-104.7377) rt (453.6000-480.0000),\n",
       " mz=104.4677019590467 rt=479.99999999999545 intensity=6994.8391740430625 (0.1922388866802873) fragmented=False roi=ROI with data points=36 fragmentations=0 mz (104.4677-104.4677) rt (466.0000-480.0000),\n",
       " mz=104.34745846155377 rt=479.99999999999545 intensity=6172.306348143863 (0.18952237365638855) fragmented=False roi=ROI with data points=96 fragmentations=0 mz (104.3475-104.3475) rt (442.0000-480.0000),\n",
       " mz=104.52031347961277 rt=479.99999999999545 intensity=4093.700271496749 (0.18060580208730312) fragmented=False roi=ROI with data points=29 fragmentations=0 mz (104.5203-104.5203) rt (468.8000-480.0000),\n",
       " mz=104.21263355253443 rt=479.99999999999545 intensity=3301.491786492707 (0.17593551105825955) fragmented=False roi=ROI with data points=12 fragmentations=0 mz (104.2126-104.2126) rt (475.6000-480.0000),\n",
       " mz=104.54759908908498 rt=479.99999999999545 intensity=2446.5484270368643 (0.16942769083080916) fragmented=False roi=ROI with data points=118 fragmentations=0 mz (104.5476-104.5476) rt (433.2000-480.0000),\n",
       " mz=104.6653239512957 rt=479.99999999999545 intensity=2422.1985241682764 (0.1692104867590446) fragmented=False roi=ROI with data points=107 fragmentations=0 mz (104.6653-104.6653) rt (437.6000-480.0000),\n",
       " mz=104.27009635808076 rt=479.99999999999545 intensity=2184.8876443121035 (0.16697145543580552) fragmented=False roi=ROI with data points=16 fragmentations=0 mz (104.2701-104.2701) rt (474.0000-480.0000),\n",
       " mz=104.56129642050864 rt=479.99999999999545 intensity=2121.253445226767 (0.16632962803421256) fragmented=False roi=ROI with data points=14 fragmentations=0 mz (104.5613-104.5613) rt (474.8000-480.0000),\n",
       " mz=104.31361239764398 rt=479.99999999999545 intensity=995.6712902866807 (0.14990579923158498) fragmented=False roi=ROI with data points=8 fragmentations=0 mz (104.3136-104.3136) rt (477.2000-480.0000),\n",
       " mz=104.28139737337565 rt=479.99999999999545 intensity=825.1503169109036 (0.14582665354012755) fragmented=False roi=ROI with data points=123 fragmentations=0 mz (104.2814-104.2814) rt (431.2000-480.0000),\n",
       " mz=102.17547938396021 rt=479.99999999999545 intensity=755.3216526032093 (0.14390659673395184) fragmented=False roi=ROI with data points=1 fragmentations=0 mz (102.1755-102.1755) rt (480.0000-480.0000),\n",
       " mz=104.38216728824632 rt=479.99999999999545 intensity=742.7716224436298 (0.14354276515917863) fragmented=False roi=ROI with data points=124 fragmentations=0 mz (104.3822-104.3822) rt (430.8000-480.0000),\n",
       " mz=104.26793041960747 rt=479.99999999999545 intensity=625.2925913389466 (0.13980416415275446) fragmented=False roi=ROI with data points=1 fragmentations=0 mz (104.2679-104.2679) rt (480.0000-480.0000),\n",
       " mz=108.05823114681954 rt=479.99999999999545 intensity=536.9410036835043 (0.1364963285138186) fragmented=False roi=ROI with data points=4 fragmentations=0 mz (108.0582-108.0582) rt (478.8000-480.0000)]"
      ]
     },
     "execution_count": 17,
     "metadata": {},
     "output_type": "execute_result"
    }
   ],
   "source": [
    "env.features"
   ]
  },
  {
   "cell_type": "code",
   "execution_count": 18,
   "metadata": {},
   "outputs": [
    {
     "data": {
      "image/png": "[encoded data removed]",
      "text/plain": [
       "<Figure size 432x288 with 1 Axes>"
      ]
     },
     "metadata": {
      "needs_background": "light"
     },
     "output_type": "display_data"
    }
   ],
   "source": [
    "env.render()"
   ]
  },
  {
   "cell_type": "markdown",
   "metadata": {},
   "source": [
    "Target the next most intense precursor for fragmentation, and generate an MS2 scan"
   ]
  },
  {
   "cell_type": "code",
   "execution_count": 19,
   "metadata": {},
   "outputs": [
    {
     "name": "stdout",
     "output_type": "stream",
     "text": [
      "reward 0.12776540380072912\n",
      "done False\n"
     ]
    },
    {
     "data": {
      "text/plain": [
       "(    intensities  fragmented  excluded  roi_length  \\\n",
       " 0      0.253004         1.0     0.005       0.196   \n",
       " 1      0.231134         1.0     0.005       0.412   \n",
       " 2      0.218036         0.0     0.000       0.300   \n",
       " 3      0.213001         0.0     0.000       0.284   \n",
       " 4      0.212051         0.0     0.000       0.264   \n",
       " ..          ...         ...       ...         ...   \n",
       " 95     0.000000         0.0     0.000       0.000   \n",
       " 96     0.000000         0.0     0.000       0.000   \n",
       " 97     0.000000         0.0     0.000       0.000   \n",
       " 98     0.000000         0.0     0.000       0.000   \n",
       " 99     0.000000         0.0     0.000       0.000   \n",
       " \n",
       "     roi_elapsed_time_since_last_frag  roi_intensity_at_last_frag  \\\n",
       " 0                                0.0                         0.0   \n",
       " 1                                0.0                         0.0   \n",
       " 2                                0.0                         0.0   \n",
       " 3                                0.0                         0.0   \n",
       " 4                                0.0                         0.0   \n",
       " ..                               ...                         ...   \n",
       " 95                               0.0                         0.0   \n",
       " 96                               0.0                         0.0   \n",
       " 97                               0.0                         0.0   \n",
       " 98                               0.0                         0.0   \n",
       " 99                               0.0                         0.0   \n",
       " \n",
       "     roi_min_intensity_since_last_frag  roi_max_intensity_since_last_frag  \\\n",
       " 0                                 0.0                                0.0   \n",
       " 1                                 0.0                                0.0   \n",
       " 2                                 0.0                                0.0   \n",
       " 3                                 0.0                                0.0   \n",
       " 4                                 0.0                                0.0   \n",
       " ..                                ...                                ...   \n",
       " 95                                0.0                                0.0   \n",
       " 96                                0.0                                0.0   \n",
       " 97                                0.0                                0.0   \n",
       " 98                                0.0                                0.0   \n",
       " 99                                0.0                                0.0   \n",
       " \n",
       "     log_intensities  \n",
       " 0         11.651287  \n",
       " 1         10.644124  \n",
       " 2         10.040919  \n",
       " 3          9.809071  \n",
       " 4          9.765306  \n",
       " ..              ...  \n",
       " 95         0.000000  \n",
       " 96         0.000000  \n",
       " 97         0.000000  \n",
       " 98         0.000000  \n",
       " 99         0.000000  \n",
       " \n",
       " [100 rows x 9 columns],\n",
       "                               counts\n",
       " ms_level                      1.0000\n",
       " last_action                   1.0000\n",
       " fragmented_count              0.0200\n",
       " unfragmented_count            0.9800\n",
       " excluded_count                0.0200\n",
       " unexcluded_count              0.9800\n",
       " elapsed_scans_since_start     0.0203\n",
       " elapsed_scans_since_last_ms1  0.0200)"
      ]
     },
     "execution_count": 19,
     "metadata": {},
     "output_type": "execute_result"
    }
   ],
   "source": [
    "action = 1\n",
    "observation, reward, done, info = env.step(action)\n",
    "\n",
    "print('reward', reward)\n",
    "print('done', done)\n",
    "scan_df, count_df = obs_to_dfs(observation, env.features)\n",
    "scan_df, count_df"
   ]
  },
  {
   "cell_type": "code",
   "execution_count": 20,
   "metadata": {},
   "outputs": [
    {
     "data": {
      "text/plain": [
       "array([0., 0., 1., 1., 1., 1., 1., 1., 1., 1., 1., 1., 1., 1., 1., 1., 1.,\n",
       "       1., 1., 0., 0., 0., 0., 0., 0., 0., 0., 0., 0., 0., 0., 0., 0., 0.,\n",
       "       0., 0., 0., 0., 0., 0., 0., 0., 0., 0., 0., 0., 0., 0., 0., 0., 0.,\n",
       "       0., 0., 0., 0., 0., 0., 0., 0., 0., 0., 0., 0., 0., 0., 0., 0., 0.,\n",
       "       0., 0., 0., 0., 0., 0., 0., 0., 0., 0., 0., 0., 0., 0., 0., 0., 0.,\n",
       "       0., 0., 0., 0., 0., 0., 0., 0., 0., 0., 0., 0., 0., 0., 0., 1.],\n",
       "      dtype=float32)"
      ]
     },
     "execution_count": 20,
     "metadata": {},
     "output_type": "execute_result"
    }
   ],
   "source": [
    "observation['valid_actions']"
   ]
  },
  {
   "cell_type": "code",
   "execution_count": 21,
   "metadata": {},
   "outputs": [
    {
     "data": {
      "text/plain": [
       "[mz=104.16986339596679 rt=479.99999999999545 intensity=114839.0831636821 (0.253004485828918) fragmented=True roi=ROI with data points=50 fragmentations=0 mz (104.1699-104.1699) rt (460.4000-480.0000),\n",
       " mz=104.01054120741223 rt=479.99999999999545 intensity=41945.380620124124 (0.23113420698093662) fragmented=True roi=ROI with data points=104 fragmentations=0 mz (104.0105-104.0105) rt (438.8000-480.0000),\n",
       " mz=104.0258563606324 rt=479.99999999999545 intensity=22946.45788936697 (0.2180357827772658) fragmented=False roi=ROI with data points=76 fragmentations=0 mz (104.0259-104.0259) rt (450.0000-480.0000),\n",
       " mz=110.91917739975436 rt=479.99999999999545 intensity=18198.072679432993 (0.21300126975911823) fragmented=False roi=ROI with data points=72 fragmentations=0 mz (110.9192-110.9192) rt (451.6000-480.0000),\n",
       " mz=104.73766089883179 rt=479.99999999999545 intensity=17418.819541987017 (0.2120509359957744) fragmented=False roi=ROI with data points=67 fragmentations=0 mz (104.7377-104.7377) rt (453.6000-480.0000),\n",
       " mz=104.4677019590467 rt=479.99999999999545 intensity=6994.8391740430625 (0.1922388866802873) fragmented=False roi=ROI with data points=36 fragmentations=0 mz (104.4677-104.4677) rt (466.0000-480.0000),\n",
       " mz=104.34745846155377 rt=479.99999999999545 intensity=6172.306348143863 (0.18952237365638855) fragmented=False roi=ROI with data points=96 fragmentations=0 mz (104.3475-104.3475) rt (442.0000-480.0000),\n",
       " mz=104.52031347961277 rt=479.99999999999545 intensity=4093.700271496749 (0.18060580208730312) fragmented=False roi=ROI with data points=29 fragmentations=0 mz (104.5203-104.5203) rt (468.8000-480.0000),\n",
       " mz=104.21263355253443 rt=479.99999999999545 intensity=3301.491786492707 (0.17593551105825955) fragmented=False roi=ROI with data points=12 fragmentations=0 mz (104.2126-104.2126) rt (475.6000-480.0000),\n",
       " mz=104.54759908908498 rt=479.99999999999545 intensity=2446.5484270368643 (0.16942769083080916) fragmented=False roi=ROI with data points=118 fragmentations=0 mz (104.5476-104.5476) rt (433.2000-480.0000),\n",
       " mz=104.6653239512957 rt=479.99999999999545 intensity=2422.1985241682764 (0.1692104867590446) fragmented=False roi=ROI with data points=107 fragmentations=0 mz (104.6653-104.6653) rt (437.6000-480.0000),\n",
       " mz=104.27009635808076 rt=479.99999999999545 intensity=2184.8876443121035 (0.16697145543580552) fragmented=False roi=ROI with data points=16 fragmentations=0 mz (104.2701-104.2701) rt (474.0000-480.0000),\n",
       " mz=104.56129642050864 rt=479.99999999999545 intensity=2121.253445226767 (0.16632962803421256) fragmented=False roi=ROI with data points=14 fragmentations=0 mz (104.5613-104.5613) rt (474.8000-480.0000),\n",
       " mz=104.31361239764398 rt=479.99999999999545 intensity=995.6712902866807 (0.14990579923158498) fragmented=False roi=ROI with data points=8 fragmentations=0 mz (104.3136-104.3136) rt (477.2000-480.0000),\n",
       " mz=104.28139737337565 rt=479.99999999999545 intensity=825.1503169109036 (0.14582665354012755) fragmented=False roi=ROI with data points=123 fragmentations=0 mz (104.2814-104.2814) rt (431.2000-480.0000),\n",
       " mz=102.17547938396021 rt=479.99999999999545 intensity=755.3216526032093 (0.14390659673395184) fragmented=False roi=ROI with data points=1 fragmentations=0 mz (102.1755-102.1755) rt (480.0000-480.0000),\n",
       " mz=104.38216728824632 rt=479.99999999999545 intensity=742.7716224436298 (0.14354276515917863) fragmented=False roi=ROI with data points=124 fragmentations=0 mz (104.3822-104.3822) rt (430.8000-480.0000),\n",
       " mz=104.26793041960747 rt=479.99999999999545 intensity=625.2925913389466 (0.13980416415275446) fragmented=False roi=ROI with data points=1 fragmentations=0 mz (104.2679-104.2679) rt (480.0000-480.0000),\n",
       " mz=108.05823114681954 rt=479.99999999999545 intensity=536.9410036835043 (0.1364963285138186) fragmented=False roi=ROI with data points=4 fragmentations=0 mz (108.0582-108.0582) rt (478.8000-480.0000)]"
      ]
     },
     "execution_count": 21,
     "metadata": {},
     "output_type": "execute_result"
    }
   ],
   "source": [
    "env.features"
   ]
  },
  {
   "cell_type": "code",
   "execution_count": 22,
   "metadata": {},
   "outputs": [
    {
     "data": {
      "image/png": "[encoded data removed]",
      "text/plain": [
       "<Figure size 432x288 with 1 Axes>"
      ]
     },
     "metadata": {
      "needs_background": "light"
     },
     "output_type": "display_data"
    }
   ],
   "source": [
    "env.render()"
   ]
  },
  {
   "cell_type": "markdown",
   "metadata": {},
   "source": [
    "Repeat targeting of the same precursor will end up targeting low-intensity spike noises (non-chemicals), which produce no reward"
   ]
  },
  {
   "cell_type": "code",
   "execution_count": 23,
   "metadata": {},
   "outputs": [
    {
     "name": "stdout",
     "output_type": "stream",
     "text": [
      "reward -1.0\n",
      "reward -1.0\n",
      "reward -1.0\n",
      "reward -1.0\n",
      "reward -1.0\n",
      "reward -1.0\n",
      "reward -1.0\n",
      "reward -1.0\n",
      "reward -1.0\n",
      "reward -1.0\n"
     ]
    }
   ],
   "source": [
    "for i in range(10):\n",
    "    action = 0\n",
    "    observation, reward, done, info = env.step(action)\n",
    "    print('reward', reward)\n",
    "    # print('done', done)\n",
    "    # pp.pprint(observation)\n",
    "    # env.render()"
   ]
  },
  {
   "cell_type": "code",
   "execution_count": 24,
   "metadata": {},
   "outputs": [
    {
     "data": {
      "text/plain": [
       "(    intensities  fragmented  excluded  roi_length  \\\n",
       " 0      0.253004         1.0  0.021667       0.196   \n",
       " 1      0.231134         1.0  0.021667       0.412   \n",
       " 2      0.218036         0.0  0.000000       0.300   \n",
       " 3      0.213001         0.0  0.000000       0.284   \n",
       " 4      0.212051         0.0  0.000000       0.264   \n",
       " ..          ...         ...       ...         ...   \n",
       " 95     0.000000         0.0  0.000000       0.000   \n",
       " 96     0.000000         0.0  0.000000       0.000   \n",
       " 97     0.000000         0.0  0.000000       0.000   \n",
       " 98     0.000000         0.0  0.000000       0.000   \n",
       " 99     0.000000         0.0  0.000000       0.000   \n",
       " \n",
       "     roi_elapsed_time_since_last_frag  roi_intensity_at_last_frag  \\\n",
       " 0                                0.0                         0.0   \n",
       " 1                                0.0                         0.0   \n",
       " 2                                0.0                         0.0   \n",
       " 3                                0.0                         0.0   \n",
       " 4                                0.0                         0.0   \n",
       " ..                               ...                         ...   \n",
       " 95                               0.0                         0.0   \n",
       " 96                               0.0                         0.0   \n",
       " 97                               0.0                         0.0   \n",
       " 98                               0.0                         0.0   \n",
       " 99                               0.0                         0.0   \n",
       " \n",
       "     roi_min_intensity_since_last_frag  roi_max_intensity_since_last_frag  \\\n",
       " 0                                 0.0                                0.0   \n",
       " 1                                 0.0                                0.0   \n",
       " 2                                 0.0                                0.0   \n",
       " 3                                 0.0                                0.0   \n",
       " 4                                 0.0                                0.0   \n",
       " ..                                ...                                ...   \n",
       " 95                                0.0                                0.0   \n",
       " 96                                0.0                                0.0   \n",
       " 97                                0.0                                0.0   \n",
       " 98                                0.0                                0.0   \n",
       " 99                                0.0                                0.0   \n",
       " \n",
       "     log_intensities  \n",
       " 0         11.651287  \n",
       " 1         10.644124  \n",
       " 2         10.040919  \n",
       " 3          9.809071  \n",
       " 4          9.765306  \n",
       " ..              ...  \n",
       " 95         0.000000  \n",
       " 96         0.000000  \n",
       " 97         0.000000  \n",
       " 98         0.000000  \n",
       " 99         0.000000  \n",
       " \n",
       " [100 rows x 9 columns],\n",
       "                               counts\n",
       " ms_level                      1.0000\n",
       " last_action                   0.0000\n",
       " fragmented_count              0.0200\n",
       " unfragmented_count            0.9800\n",
       " excluded_count                0.0200\n",
       " unexcluded_count              0.9800\n",
       " elapsed_scans_since_start     0.0213\n",
       " elapsed_scans_since_last_ms1  0.1200)"
      ]
     },
     "execution_count": 24,
     "metadata": {},
     "output_type": "execute_result"
    }
   ],
   "source": [
    "scan_df, count_df = obs_to_dfs(observation, env.features)\n",
    "scan_df, count_df"
   ]
  },
  {
   "cell_type": "code",
   "execution_count": 25,
   "metadata": {},
   "outputs": [
    {
     "data": {
      "text/plain": [
       "array([0., 0., 1., 1., 1., 1., 1., 1., 1., 1., 1., 1., 1., 1., 1., 1., 1.,\n",
       "       1., 1., 0., 0., 0., 0., 0., 0., 0., 0., 0., 0., 0., 0., 0., 0., 0.,\n",
       "       0., 0., 0., 0., 0., 0., 0., 0., 0., 0., 0., 0., 0., 0., 0., 0., 0.,\n",
       "       0., 0., 0., 0., 0., 0., 0., 0., 0., 0., 0., 0., 0., 0., 0., 0., 0.,\n",
       "       0., 0., 0., 0., 0., 0., 0., 0., 0., 0., 0., 0., 0., 0., 0., 0., 0.,\n",
       "       0., 0., 0., 0., 0., 0., 0., 0., 0., 0., 0., 0., 0., 0., 0., 1.],\n",
       "      dtype=float32)"
      ]
     },
     "execution_count": 25,
     "metadata": {},
     "output_type": "execute_result"
    }
   ],
   "source": [
    "observation['valid_actions']"
   ]
  },
  {
   "cell_type": "code",
   "execution_count": 26,
   "metadata": {},
   "outputs": [
    {
     "data": {
      "text/plain": [
       "[mz=104.16986339596679 rt=479.99999999999545 intensity=114839.0831636821 (0.253004485828918) fragmented=True roi=ROI with data points=50 fragmentations=0 mz (104.1699-104.1699) rt (460.4000-480.0000),\n",
       " mz=104.01054120741223 rt=479.99999999999545 intensity=41945.380620124124 (0.23113420698093662) fragmented=True roi=ROI with data points=104 fragmentations=0 mz (104.0105-104.0105) rt (438.8000-480.0000),\n",
       " mz=104.0258563606324 rt=479.99999999999545 intensity=22946.45788936697 (0.2180357827772658) fragmented=False roi=ROI with data points=76 fragmentations=0 mz (104.0259-104.0259) rt (450.0000-480.0000),\n",
       " mz=110.91917739975436 rt=479.99999999999545 intensity=18198.072679432993 (0.21300126975911823) fragmented=False roi=ROI with data points=72 fragmentations=0 mz (110.9192-110.9192) rt (451.6000-480.0000),\n",
       " mz=104.73766089883179 rt=479.99999999999545 intensity=17418.819541987017 (0.2120509359957744) fragmented=False roi=ROI with data points=67 fragmentations=0 mz (104.7377-104.7377) rt (453.6000-480.0000),\n",
       " mz=104.4677019590467 rt=479.99999999999545 intensity=6994.8391740430625 (0.1922388866802873) fragmented=False roi=ROI with data points=36 fragmentations=0 mz (104.4677-104.4677) rt (466.0000-480.0000),\n",
       " mz=104.34745846155377 rt=479.99999999999545 intensity=6172.306348143863 (0.18952237365638855) fragmented=False roi=ROI with data points=96 fragmentations=0 mz (104.3475-104.3475) rt (442.0000-480.0000),\n",
       " mz=104.52031347961277 rt=479.99999999999545 intensity=4093.700271496749 (0.18060580208730312) fragmented=False roi=ROI with data points=29 fragmentations=0 mz (104.5203-104.5203) rt (468.8000-480.0000),\n",
       " mz=104.21263355253443 rt=479.99999999999545 intensity=3301.491786492707 (0.17593551105825955) fragmented=False roi=ROI with data points=12 fragmentations=0 mz (104.2126-104.2126) rt (475.6000-480.0000),\n",
       " mz=104.54759908908498 rt=479.99999999999545 intensity=2446.5484270368643 (0.16942769083080916) fragmented=False roi=ROI with data points=118 fragmentations=0 mz (104.5476-104.5476) rt (433.2000-480.0000),\n",
       " mz=104.6653239512957 rt=479.99999999999545 intensity=2422.1985241682764 (0.1692104867590446) fragmented=False roi=ROI with data points=107 fragmentations=0 mz (104.6653-104.6653) rt (437.6000-480.0000),\n",
       " mz=104.27009635808076 rt=479.99999999999545 intensity=2184.8876443121035 (0.16697145543580552) fragmented=False roi=ROI with data points=16 fragmentations=0 mz (104.2701-104.2701) rt (474.0000-480.0000),\n",
       " mz=104.56129642050864 rt=479.99999999999545 intensity=2121.253445226767 (0.16632962803421256) fragmented=False roi=ROI with data points=14 fragmentations=0 mz (104.5613-104.5613) rt (474.8000-480.0000),\n",
       " mz=104.31361239764398 rt=479.99999999999545 intensity=995.6712902866807 (0.14990579923158498) fragmented=False roi=ROI with data points=8 fragmentations=0 mz (104.3136-104.3136) rt (477.2000-480.0000),\n",
       " mz=104.28139737337565 rt=479.99999999999545 intensity=825.1503169109036 (0.14582665354012755) fragmented=False roi=ROI with data points=123 fragmentations=0 mz (104.2814-104.2814) rt (431.2000-480.0000),\n",
       " mz=102.17547938396021 rt=479.99999999999545 intensity=755.3216526032093 (0.14390659673395184) fragmented=False roi=ROI with data points=1 fragmentations=0 mz (102.1755-102.1755) rt (480.0000-480.0000),\n",
       " mz=104.38216728824632 rt=479.99999999999545 intensity=742.7716224436298 (0.14354276515917863) fragmented=False roi=ROI with data points=124 fragmentations=0 mz (104.3822-104.3822) rt (430.8000-480.0000),\n",
       " mz=104.26793041960747 rt=479.99999999999545 intensity=625.2925913389466 (0.13980416415275446) fragmented=False roi=ROI with data points=1 fragmentations=0 mz (104.2679-104.2679) rt (480.0000-480.0000),\n",
       " mz=108.05823114681954 rt=479.99999999999545 intensity=536.9410036835043 (0.1364963285138186) fragmented=False roi=ROI with data points=4 fragmentations=0 mz (108.0582-108.0582) rt (478.8000-480.0000)]"
      ]
     },
     "execution_count": 26,
     "metadata": {},
     "output_type": "execute_result"
    }
   ],
   "source": [
    "env.features"
   ]
  },
  {
   "cell_type": "markdown",
   "metadata": {},
   "source": [
    "Making an invalid move produces negative reward."
   ]
  },
  {
   "cell_type": "code",
   "execution_count": 27,
   "metadata": {},
   "outputs": [
    {
     "name": "stdout",
     "output_type": "stream",
     "text": [
      "reward -1.0\n",
      "done False\n"
     ]
    },
    {
     "data": {
      "text/plain": [
       "(    intensities  fragmented  excluded  roi_length  \\\n",
       " 0      0.253004         1.0  0.023333       0.196   \n",
       " 1      0.231134         1.0  0.023333       0.412   \n",
       " 2      0.218036         0.0  0.000000       0.300   \n",
       " 3      0.213001         0.0  0.000000       0.284   \n",
       " 4      0.212051         0.0  0.000000       0.264   \n",
       " ..          ...         ...       ...         ...   \n",
       " 95     0.000000         0.0  0.000000       0.000   \n",
       " 96     0.000000         0.0  0.000000       0.000   \n",
       " 97     0.000000         0.0  0.000000       0.000   \n",
       " 98     0.000000         0.0  0.000000       0.000   \n",
       " 99     0.000000         0.0  0.000000       0.000   \n",
       " \n",
       "     roi_elapsed_time_since_last_frag  roi_intensity_at_last_frag  \\\n",
       " 0                                0.0                         0.0   \n",
       " 1                                0.0                         0.0   \n",
       " 2                                0.0                         0.0   \n",
       " 3                                0.0                         0.0   \n",
       " 4                                0.0                         0.0   \n",
       " ..                               ...                         ...   \n",
       " 95                               0.0                         0.0   \n",
       " 96                               0.0                         0.0   \n",
       " 97                               0.0                         0.0   \n",
       " 98                               0.0                         0.0   \n",
       " 99                               0.0                         0.0   \n",
       " \n",
       "     roi_min_intensity_since_last_frag  roi_max_intensity_since_last_frag  \\\n",
       " 0                                 0.0                                0.0   \n",
       " 1                                 0.0                                0.0   \n",
       " 2                                 0.0                                0.0   \n",
       " 3                                 0.0                                0.0   \n",
       " 4                                 0.0                                0.0   \n",
       " ..                                ...                                ...   \n",
       " 95                                0.0                                0.0   \n",
       " 96                                0.0                                0.0   \n",
       " 97                                0.0                                0.0   \n",
       " 98                                0.0                                0.0   \n",
       " 99                                0.0                                0.0   \n",
       " \n",
       "     log_intensities  \n",
       " 0         11.651287  \n",
       " 1         10.644124  \n",
       " 2         10.040919  \n",
       " 3          9.809071  \n",
       " 4          9.765306  \n",
       " ..              ...  \n",
       " 95         0.000000  \n",
       " 96         0.000000  \n",
       " 97         0.000000  \n",
       " 98         0.000000  \n",
       " 99         0.000000  \n",
       " \n",
       " [100 rows x 9 columns],\n",
       "                                counts\n",
       " ms_level                       1.0000\n",
       " last_action                   50.0000\n",
       " fragmented_count               0.0300\n",
       " unfragmented_count             0.9700\n",
       " excluded_count                 0.0200\n",
       " unexcluded_count               0.9800\n",
       " elapsed_scans_since_start      0.0214\n",
       " elapsed_scans_since_last_ms1   0.1300)"
      ]
     },
     "execution_count": 27,
     "metadata": {},
     "output_type": "execute_result"
    }
   ],
   "source": [
    "action = 50  # no precursor to fragment at this index\n",
    "observation, reward, done, info = env.step(action)\n",
    "\n",
    "print('reward', reward)\n",
    "print('done', done)\n",
    "scan_df, count_df = obs_to_dfs(observation, env.features)\n",
    "scan_df, count_df"
   ]
  },
  {
   "cell_type": "code",
   "execution_count": 28,
   "metadata": {},
   "outputs": [
    {
     "data": {
      "text/plain": [
       "array([0., 0., 1., 1., 1., 1., 1., 1., 1., 1., 1., 1., 1., 1., 1., 1., 1.,\n",
       "       1., 1., 0., 0., 0., 0., 0., 0., 0., 0., 0., 0., 0., 0., 0., 0., 0.,\n",
       "       0., 0., 0., 0., 0., 0., 0., 0., 0., 0., 0., 0., 0., 0., 0., 0., 0.,\n",
       "       0., 0., 0., 0., 0., 0., 0., 0., 0., 0., 0., 0., 0., 0., 0., 0., 0.,\n",
       "       0., 0., 0., 0., 0., 0., 0., 0., 0., 0., 0., 0., 0., 0., 0., 0., 0.,\n",
       "       0., 0., 0., 0., 0., 0., 0., 0., 0., 0., 0., 0., 0., 0., 0., 1.],\n",
       "      dtype=float32)"
      ]
     },
     "execution_count": 28,
     "metadata": {},
     "output_type": "execute_result"
    }
   ],
   "source": [
    "observation['valid_actions']"
   ]
  },
  {
   "cell_type": "code",
   "execution_count": 29,
   "metadata": {},
   "outputs": [
    {
     "data": {
      "text/plain": [
       "[mz=104.16986339596679 rt=479.99999999999545 intensity=114839.0831636821 (0.253004485828918) fragmented=True roi=ROI with data points=50 fragmentations=0 mz (104.1699-104.1699) rt (460.4000-480.0000),\n",
       " mz=104.01054120741223 rt=479.99999999999545 intensity=41945.380620124124 (0.23113420698093662) fragmented=True roi=ROI with data points=104 fragmentations=0 mz (104.0105-104.0105) rt (438.8000-480.0000),\n",
       " mz=104.0258563606324 rt=479.99999999999545 intensity=22946.45788936697 (0.2180357827772658) fragmented=False roi=ROI with data points=76 fragmentations=0 mz (104.0259-104.0259) rt (450.0000-480.0000),\n",
       " mz=110.91917739975436 rt=479.99999999999545 intensity=18198.072679432993 (0.21300126975911823) fragmented=False roi=ROI with data points=72 fragmentations=0 mz (110.9192-110.9192) rt (451.6000-480.0000),\n",
       " mz=104.73766089883179 rt=479.99999999999545 intensity=17418.819541987017 (0.2120509359957744) fragmented=False roi=ROI with data points=67 fragmentations=0 mz (104.7377-104.7377) rt (453.6000-480.0000),\n",
       " mz=104.4677019590467 rt=479.99999999999545 intensity=6994.8391740430625 (0.1922388866802873) fragmented=False roi=ROI with data points=36 fragmentations=0 mz (104.4677-104.4677) rt (466.0000-480.0000),\n",
       " mz=104.34745846155377 rt=479.99999999999545 intensity=6172.306348143863 (0.18952237365638855) fragmented=False roi=ROI with data points=96 fragmentations=0 mz (104.3475-104.3475) rt (442.0000-480.0000),\n",
       " mz=104.52031347961277 rt=479.99999999999545 intensity=4093.700271496749 (0.18060580208730312) fragmented=False roi=ROI with data points=29 fragmentations=0 mz (104.5203-104.5203) rt (468.8000-480.0000),\n",
       " mz=104.21263355253443 rt=479.99999999999545 intensity=3301.491786492707 (0.17593551105825955) fragmented=False roi=ROI with data points=12 fragmentations=0 mz (104.2126-104.2126) rt (475.6000-480.0000),\n",
       " mz=104.54759908908498 rt=479.99999999999545 intensity=2446.5484270368643 (0.16942769083080916) fragmented=False roi=ROI with data points=118 fragmentations=0 mz (104.5476-104.5476) rt (433.2000-480.0000),\n",
       " mz=104.6653239512957 rt=479.99999999999545 intensity=2422.1985241682764 (0.1692104867590446) fragmented=False roi=ROI with data points=107 fragmentations=0 mz (104.6653-104.6653) rt (437.6000-480.0000),\n",
       " mz=104.27009635808076 rt=479.99999999999545 intensity=2184.8876443121035 (0.16697145543580552) fragmented=False roi=ROI with data points=16 fragmentations=0 mz (104.2701-104.2701) rt (474.0000-480.0000),\n",
       " mz=104.56129642050864 rt=479.99999999999545 intensity=2121.253445226767 (0.16632962803421256) fragmented=False roi=ROI with data points=14 fragmentations=0 mz (104.5613-104.5613) rt (474.8000-480.0000),\n",
       " mz=104.31361239764398 rt=479.99999999999545 intensity=995.6712902866807 (0.14990579923158498) fragmented=False roi=ROI with data points=8 fragmentations=0 mz (104.3136-104.3136) rt (477.2000-480.0000),\n",
       " mz=104.28139737337565 rt=479.99999999999545 intensity=825.1503169109036 (0.14582665354012755) fragmented=False roi=ROI with data points=123 fragmentations=0 mz (104.2814-104.2814) rt (431.2000-480.0000),\n",
       " mz=102.17547938396021 rt=479.99999999999545 intensity=755.3216526032093 (0.14390659673395184) fragmented=False roi=ROI with data points=1 fragmentations=0 mz (102.1755-102.1755) rt (480.0000-480.0000),\n",
       " mz=104.38216728824632 rt=479.99999999999545 intensity=742.7716224436298 (0.14354276515917863) fragmented=False roi=ROI with data points=124 fragmentations=0 mz (104.3822-104.3822) rt (430.8000-480.0000),\n",
       " mz=104.26793041960747 rt=479.99999999999545 intensity=625.2925913389466 (0.13980416415275446) fragmented=False roi=ROI with data points=1 fragmentations=0 mz (104.2679-104.2679) rt (480.0000-480.0000),\n",
       " mz=108.05823114681954 rt=479.99999999999545 intensity=536.9410036835043 (0.1364963285138186) fragmented=False roi=ROI with data points=4 fragmentations=0 mz (108.0582-108.0582) rt (478.8000-480.0000)]"
      ]
     },
     "execution_count": 29,
     "metadata": {},
     "output_type": "execute_result"
    }
   ],
   "source": [
    "env.features"
   ]
  },
  {
   "cell_type": "code",
   "execution_count": 30,
   "metadata": {},
   "outputs": [
    {
     "data": {
      "image/png": "[encoded data removed]",
      "text/plain": [
       "<Figure size 432x288 with 1 Axes>"
      ]
     },
     "metadata": {
      "needs_background": "light"
     },
     "output_type": "display_data"
    }
   ],
   "source": [
    "env.render()"
   ]
  },
  {
   "cell_type": "markdown",
   "metadata": {},
   "source": [
    "Generate lots of MS1 scans"
   ]
  },
  {
   "cell_type": "code",
   "execution_count": 31,
   "metadata": {},
   "outputs": [
    {
     "name": "stdout",
     "output_type": "stream",
     "text": [
      "0.1 False {'current_scan_id': 100213}\n",
      "0.1 False {'current_scan_id': 100214}\n",
      "0.1 False {'current_scan_id': 100215}\n",
      "0.1 False {'current_scan_id': 100216}\n",
      "0.1 False {'current_scan_id': 100217}\n",
      "0.1 False {'current_scan_id': 100218}\n",
      "0.1 False {'current_scan_id': 100219}\n",
      "0.1 False {'current_scan_id': 100220}\n",
      "0.1 False {'current_scan_id': 100221}\n",
      "0.1 False {'current_scan_id': 100222}\n",
      "reward 0.1\n",
      "done False\n"
     ]
    },
    {
     "data": {
      "text/plain": [
       "(    intensities  fragmented  excluded  roi_length  \\\n",
       " 0      0.256825         0.0     0.055       0.262   \n",
       " 1      0.246509         0.0     0.000       0.012   \n",
       " 2      0.206978         0.0     0.000       0.366   \n",
       " 3      0.205839         0.0     0.000       0.330   \n",
       " 4      0.204333         0.0     0.000       0.350   \n",
       " ..          ...         ...       ...         ...   \n",
       " 95     0.000000         0.0     0.000       0.000   \n",
       " 96     0.000000         0.0     0.000       0.000   \n",
       " 97     0.000000         0.0     0.000       0.000   \n",
       " 98     0.000000         0.0     0.000       0.000   \n",
       " 99     0.000000         0.0     0.000       0.000   \n",
       " \n",
       "     roi_elapsed_time_since_last_frag  roi_intensity_at_last_frag  \\\n",
       " 0                           0.018871                    0.253004   \n",
       " 1                           0.000000                    0.000000   \n",
       " 2                           0.000000                    0.000000   \n",
       " 3                           0.000000                    0.000000   \n",
       " 4                           0.000000                    0.000000   \n",
       " ..                               ...                         ...   \n",
       " 95                          0.000000                    0.000000   \n",
       " 96                          0.000000                    0.000000   \n",
       " 97                          0.000000                    0.000000   \n",
       " 98                          0.000000                    0.000000   \n",
       " 99                          0.000000                    0.000000   \n",
       " \n",
       "     roi_min_intensity_since_last_frag  roi_max_intensity_since_last_frag  \\\n",
       " 0                            0.253004                           0.256866   \n",
       " 1                            0.000000                           0.000000   \n",
       " 2                            0.000000                           0.000000   \n",
       " 3                            0.000000                           0.000000   \n",
       " 4                            0.000000                           0.000000   \n",
       " ..                                ...                                ...   \n",
       " 95                           0.000000                           0.000000   \n",
       " 96                           0.000000                           0.000000   \n",
       " 97                           0.000000                           0.000000   \n",
       " 98                           0.000000                           0.000000   \n",
       " 99                           0.000000                           0.000000   \n",
       " \n",
       "     log_intensities  \n",
       " 0         11.827242  \n",
       " 1         11.352173  \n",
       " 2          9.531701  \n",
       " 3          9.479259  \n",
       " 4          9.409883  \n",
       " ..              ...  \n",
       " 95         0.000000  \n",
       " 96         0.000000  \n",
       " 97         0.000000  \n",
       " 98         0.000000  \n",
       " 99         0.000000  \n",
       " \n",
       " [100 rows x 9 columns],\n",
       "                                 counts\n",
       " ms_level                        0.0000\n",
       " last_action                   101.0000\n",
       " fragmented_count                0.0000\n",
       " unfragmented_count              1.0000\n",
       " excluded_count                  0.0200\n",
       " unexcluded_count                0.9800\n",
       " elapsed_scans_since_start       0.0224\n",
       " elapsed_scans_since_last_ms1    0.0000)"
      ]
     },
     "execution_count": 31,
     "metadata": {},
     "output_type": "execute_result"
    }
   ],
   "source": [
    "for i in range(10):\n",
    "    action = max_peaks  # ms1\n",
    "    observation, reward, done, info = env.step(action)\n",
    "    print(reward, done, info)\n",
    "    if done:\n",
    "        break\n",
    "\n",
    "print('reward', reward)\n",
    "print('done', done)\n",
    "scan_df, count_df = obs_to_dfs(observation, env.features)\n",
    "scan_df, count_df"
   ]
  },
  {
   "cell_type": "code",
   "execution_count": 32,
   "metadata": {},
   "outputs": [
    {
     "data": {
      "text/plain": [
       "array([1., 1., 1., 1., 1., 1., 1., 1., 1., 1., 1., 1., 1., 1., 1., 1., 1.,\n",
       "       1., 1., 0., 0., 0., 0., 0., 0., 0., 0., 0., 0., 0., 0., 0., 0., 0.,\n",
       "       0., 0., 0., 0., 0., 0., 0., 0., 0., 0., 0., 0., 0., 0., 0., 0., 0.,\n",
       "       0., 0., 0., 0., 0., 0., 0., 0., 0., 0., 0., 0., 0., 0., 0., 0., 0.,\n",
       "       0., 0., 0., 0., 0., 0., 0., 0., 0., 0., 0., 0., 0., 0., 0., 0., 0.,\n",
       "       0., 0., 0., 0., 0., 0., 0., 0., 0., 0., 0., 0., 0., 0., 0., 1.],\n",
       "      dtype=float32)"
      ]
     },
     "execution_count": 32,
     "metadata": {},
     "output_type": "execute_result"
    }
   ],
   "source": [
    "observation['valid_actions']"
   ]
  },
  {
   "cell_type": "code",
   "execution_count": 33,
   "metadata": {},
   "outputs": [
    {
     "data": {
      "text/plain": [
       "[mz=104.16986339596679 rt=486.5999999999951 intensity=136932.36266760196 (0.2568253050827235) fragmented=False roi=ROI with data points=60 fragmentations=0 mz (104.1699-104.1699) rt (460.4000-486.6000),\n",
       " mz=104.96799300670416 rt=486.5999999999951 intensity=85150.31564230059 (0.24650931310903276) fragmented=False roi=ROI with data points=4 fragmentations=0 mz (104.9680-104.9680) rt (485.4000-486.6000),\n",
       " mz=104.0258563606324 rt=486.5999999999951 intensity=13790.03376099632 (0.20697826647121617) fragmented=False roi=ROI with data points=86 fragmentations=0 mz (104.0259-104.0259) rt (450.0000-486.6000),\n",
       " mz=104.73766089883179 rt=486.5999999999951 intensity=13085.48533955104 (0.2058394917610224) fragmented=False roi=ROI with data points=77 fragmentations=0 mz (104.7377-104.7377) rt (453.6000-486.6000),\n",
       " mz=110.91917739975436 rt=486.5999999999951 intensity=12208.448269588276 (0.204333023366035) fragmented=False roi=ROI with data points=82 fragmentations=0 mz (110.9192-110.9192) rt (451.6000-486.6000),\n",
       " mz=104.4677019590467 rt=486.5999999999951 intensity=12100.37395595316 (0.20413993960878676) fragmented=False roi=ROI with data points=46 fragmentations=0 mz (104.4677-104.4677) rt (466.0000-486.6000),\n",
       " mz=104.01054120741223 rt=486.5999999999951 intensity=11890.06043666343 (0.20375920310621937) fragmented=False roi=ROI with data points=114 fragmentations=0 mz (104.0105-104.0105) rt (438.8000-486.6000),\n",
       " mz=104.21263355253443 rt=486.5999999999951 intensity=10600.636000347191 (0.2012665961083105) fragmented=False roi=ROI with data points=22 fragmentations=0 mz (104.2126-104.2126) rt (475.6000-486.6000),\n",
       " mz=104.52031347961277 rt=486.5999999999951 intensity=8512.797180970127 (0.19650361431830415) fragmented=False roi=ROI with data points=39 fragmentations=0 mz (104.5203-104.5203) rt (468.8000-486.6000),\n",
       " mz=104.56129642050864 rt=486.5999999999951 intensity=6488.589601686248 (0.19060751531173256) fragmented=False roi=ROI with data points=24 fragmentations=0 mz (104.5613-104.5613) rt (474.8000-486.6000),\n",
       " mz=104.27009635808076 rt=486.5999999999951 intensity=6328.757889245016 (0.1900659240887035) fragmented=False roi=ROI with data points=26 fragmentations=0 mz (104.2701-104.2701) rt (474.0000-486.6000),\n",
       " mz=104.31361239764398 rt=486.5999999999951 intensity=3630.446261751072 (0.17799800063340052) fragmented=False roi=ROI with data points=18 fragmentations=0 mz (104.3136-104.3136) rt (477.2000-486.6000),\n",
       " mz=104.26793041960747 rt=486.5999999999951 intensity=2718.257790276853 (0.1717145320676853) fragmented=False roi=ROI with data points=11 fragmentations=0 mz (104.2679-104.2679) rt (480.0000-486.6000),\n",
       " mz=104.34745846155377 rt=486.5999999999951 intensity=2164.14806698666 (0.16676434855359823) fragmented=False roi=ROI with data points=106 fragmentations=0 mz (104.3475-104.3475) rt (442.0000-486.6000),\n",
       " mz=108.05823114681954 rt=486.5999999999951 intensity=2144.385218790151 (0.1665651402489655) fragmented=False roi=ROI with data points=14 fragmentations=0 mz (108.0582-108.0582) rt (478.8000-486.6000),\n",
       " mz=104.34912017168692 rt=486.5999999999951 intensity=1601.521794543096 (0.16022664265999506) fragmented=False roi=ROI with data points=10 fragmentations=0 mz (104.3491-104.3491) rt (483.0000-486.6000),\n",
       " mz=110.32587560912788 rt=486.5999999999951 intensity=916.4326307170977 (0.14810502721923766) fragmented=False roi=ROI with data points=9 fragmentations=0 mz (110.3259-110.3259) rt (483.4000-486.6000),\n",
       " mz=104.6653239512957 rt=486.5999999999951 intensity=639.7573790683416 (0.14030076519065598) fragmented=False roi=ROI with data points=117 fragmentations=0 mz (104.6653-104.6653) rt (437.6000-486.6000),\n",
       " mz=105.83903389285152 rt=486.5999999999951 intensity=63.765574987773576 (0.09022931400831606) fragmented=False roi=ROI with data points=1 fragmentations=0 mz (105.8390-105.8390) rt (486.6000-486.6000)]"
      ]
     },
     "execution_count": 33,
     "metadata": {},
     "output_type": "execute_result"
    }
   ],
   "source": [
    "env.features"
   ]
  },
  {
   "cell_type": "code",
   "execution_count": 34,
   "metadata": {},
   "outputs": [
    {
     "data": {
      "image/png": "[encoded data removed]",
      "text/plain": [
       "<Figure size 432x288 with 1 Axes>"
      ]
     },
     "metadata": {
      "needs_background": "light"
     },
     "output_type": "display_data"
    }
   ],
   "source": [
    "env.render()"
   ]
  },
  {
   "cell_type": "markdown",
   "metadata": {},
   "source": [
    "Not doing any fragmentation (performing only MS1 scans) will receive a huge negative reward in the end."
   ]
  },
  {
   "cell_type": "code",
   "execution_count": 35,
   "metadata": {},
   "outputs": [],
   "source": [
    "def make_env(rank, seed=0):\n",
    "    def _init():\n",
    "        env = DDAEnv(max_peaks, params)\n",
    "        return env\n",
    "    return _init\n",
    "\n",
    "env = DummyVecEnv([make_env(i) for i in range(1)])"
   ]
  },
  {
   "cell_type": "code",
   "execution_count": 36,
   "metadata": {},
   "outputs": [
    {
     "name": "stdout",
     "output_type": "stream",
     "text": [
      "[0.1] [False] [{'current_scan_id': 100000}]\n",
      "[0.1] [False] [{'current_scan_id': 100001}]\n",
      "[0.1] [False] [{'current_scan_id': 100002}]\n",
      "[0.1] [False] [{'current_scan_id': 100003}]\n",
      "[0.1] [False] [{'current_scan_id': 100004}]\n",
      "[0.1] [False] [{'current_scan_id': 100005}]\n",
      "[0.1] [False] [{'current_scan_id': 100006}]\n",
      "[0.1] [False] [{'current_scan_id': 100007}]\n",
      "[0.1] [False] [{'current_scan_id': 100008}]\n",
      "[0.1] [False] [{'current_scan_id': 100009}]\n",
      "[0.1] [False] [{'current_scan_id': 100010}]\n",
      "[0.1] [False] [{'current_scan_id': 100011}]\n",
      "[0.1] [False] [{'current_scan_id': 100012}]\n",
      "[0.1] [False] [{'current_scan_id': 100013}]\n",
      "[0.1] [False] [{'current_scan_id': 100014}]\n",
      "[0.1] [False] [{'current_scan_id': 100015}]\n",
      "[0.1] [False] [{'current_scan_id': 100016}]\n",
      "[0.1] [False] [{'current_scan_id': 100017}]\n",
      "[0.1] [False] [{'current_scan_id': 100018}]\n",
      "[0.1] [False] [{'current_scan_id': 100019}]\n",
      "[0.1] [False] [{'current_scan_id': 100020}]\n",
      "[0.1] [False] [{'current_scan_id': 100021}]\n",
      "[0.1] [False] [{'current_scan_id': 100022}]\n",
      "[0.1] [False] [{'current_scan_id': 100023}]\n",
      "[0.1] [False] [{'current_scan_id': 100024}]\n",
      "[0.1] [False] [{'current_scan_id': 100025}]\n",
      "[0.1] [False] [{'current_scan_id': 100026}]\n",
      "[0.1] [False] [{'current_scan_id': 100027}]\n",
      "[0.1] [False] [{'current_scan_id': 100028}]\n",
      "[0.1] [False] [{'current_scan_id': 100029}]\n",
      "[0.1] [False] [{'current_scan_id': 100030}]\n",
      "[0.1] [False] [{'current_scan_id': 100031}]\n",
      "[0.1] [False] [{'current_scan_id': 100032}]\n",
      "[0.1] [False] [{'current_scan_id': 100033}]\n",
      "[0.1] [False] [{'current_scan_id': 100034}]\n",
      "[0.1] [False] [{'current_scan_id': 100035}]\n",
      "[0.1] [False] [{'current_scan_id': 100036}]\n",
      "[0.1] [False] [{'current_scan_id': 100037}]\n",
      "[0.1] [False] [{'current_scan_id': 100038}]\n",
      "[0.1] [False] [{'current_scan_id': 100039}]\n",
      "[0.1] [False] [{'current_scan_id': 100040}]\n",
      "[0.1] [False] [{'current_scan_id': 100041}]\n",
      "[0.1] [False] [{'current_scan_id': 100042}]\n",
      "[0.1] [False] [{'current_scan_id': 100043}]\n",
      "[0.1] [False] [{'current_scan_id': 100044}]\n",
      "[0.1] [False] [{'current_scan_id': 100045}]\n",
      "[0.1] [False] [{'current_scan_id': 100046}]\n",
      "[0.1] [False] [{'current_scan_id': 100047}]\n",
      "[0.1] [False] [{'current_scan_id': 100048}]\n",
      "[0.1] [False] [{'current_scan_id': 100049}]\n",
      "[0.1] [False] [{'current_scan_id': 100050}]\n",
      "[0.1] [False] [{'current_scan_id': 100051}]\n",
      "[0.1] [False] [{'current_scan_id': 100052}]\n",
      "[0.1] [False] [{'current_scan_id': 100053}]\n",
      "[0.1] [False] [{'current_scan_id': 100054}]\n",
      "[0.1] [False] [{'current_scan_id': 100055}]\n",
      "[0.1] [False] [{'current_scan_id': 100056}]\n",
      "[0.1] [False] [{'current_scan_id': 100057}]\n",
      "[0.1] [False] [{'current_scan_id': 100058}]\n",
      "[0.1] [False] [{'current_scan_id': 100059}]\n",
      "[0.1] [False] [{'current_scan_id': 100060}]\n",
      "[0.1] [False] [{'current_scan_id': 100061}]\n",
      "[0.1] [False] [{'current_scan_id': 100062}]\n",
      "[0.1] [False] [{'current_scan_id': 100063}]\n",
      "[0.1] [False] [{'current_scan_id': 100064}]\n",
      "[0.1] [False] [{'current_scan_id': 100065}]\n",
      "[0.1] [False] [{'current_scan_id': 100066}]\n",
      "[0.1] [False] [{'current_scan_id': 100067}]\n",
      "[0.1] [False] [{'current_scan_id': 100068}]\n",
      "[0.1] [False] [{'current_scan_id': 100069}]\n",
      "[0.1] [False] [{'current_scan_id': 100070}]\n",
      "[0.1] [False] [{'current_scan_id': 100071}]\n",
      "[0.1] [False] [{'current_scan_id': 100072}]\n",
      "[0.1] [False] [{'current_scan_id': 100073}]\n",
      "[0.1] [False] [{'current_scan_id': 100074}]\n",
      "[0.1] [False] [{'current_scan_id': 100075}]\n",
      "[0.1] [False] [{'current_scan_id': 100076}]\n",
      "[0.1] [False] [{'current_scan_id': 100077}]\n",
      "[0.1] [False] [{'current_scan_id': 100078}]\n",
      "[0.1] [False] [{'current_scan_id': 100079}]\n",
      "[0.1] [False] [{'current_scan_id': 100080}]\n",
      "[0.1] [False] [{'current_scan_id': 100081}]\n",
      "[0.1] [False] [{'current_scan_id': 100082}]\n",
      "[0.1] [False] [{'current_scan_id': 100083}]\n",
      "[0.1] [False] [{'current_scan_id': 100084}]\n",
      "[0.1] [False] [{'current_scan_id': 100085}]\n",
      "[0.1] [False] [{'current_scan_id': 100086}]\n",
      "[0.1] [False] [{'current_scan_id': 100087}]\n",
      "[0.1] [False] [{'current_scan_id': 100088}]\n",
      "[0.1] [False] [{'current_scan_id': 100089}]\n",
      "[0.1] [False] [{'current_scan_id': 100090}]\n",
      "[0.1] [False] [{'current_scan_id': 100091}]\n",
      "[0.1] [False] [{'current_scan_id': 100092}]\n",
      "[0.1] [False] [{'current_scan_id': 100093}]\n",
      "[0.1] [False] [{'current_scan_id': 100094}]\n",
      "[0.1] [False] [{'current_scan_id': 100095}]\n",
      "[0.1] [False] [{'current_scan_id': 100096}]\n",
      "[0.1] [False] [{'current_scan_id': 100097}]\n",
      "[0.1] [False] [{'current_scan_id': 100098}]\n",
      "[0.1] [False] [{'current_scan_id': 100099}]\n",
      "[0.1] [False] [{'current_scan_id': 100100}]\n",
      "[0.1] [False] [{'current_scan_id': 100101}]\n",
      "[0.1] [False] [{'current_scan_id': 100102}]\n",
      "[0.1] [False] [{'current_scan_id': 100103}]\n",
      "[0.1] [False] [{'current_scan_id': 100104}]\n",
      "[0.1] [False] [{'current_scan_id': 100105}]\n",
      "[0.1] [False] [{'current_scan_id': 100106}]\n",
      "[0.1] [False] [{'current_scan_id': 100107}]\n",
      "[0.1] [False] [{'current_scan_id': 100108}]\n",
      "[0.1] [False] [{'current_scan_id': 100109}]\n",
      "[0.1] [False] [{'current_scan_id': 100110}]\n",
      "[0.1] [False] [{'current_scan_id': 100111}]\n",
      "[0.1] [False] [{'current_scan_id': 100112}]\n",
      "[0.1] [False] [{'current_scan_id': 100113}]\n",
      "[0.1] [False] [{'current_scan_id': 100114}]\n",
      "[0.1] [False] [{'current_scan_id': 100115}]\n",
      "[0.1] [False] [{'current_scan_id': 100116}]\n",
      "[0.1] [False] [{'current_scan_id': 100117}]\n",
      "[0.1] [False] [{'current_scan_id': 100118}]\n",
      "[0.1] [False] [{'current_scan_id': 100119}]\n",
      "[0.1] [False] [{'current_scan_id': 100120}]\n",
      "[0.1] [False] [{'current_scan_id': 100121}]\n",
      "[0.1] [False] [{'current_scan_id': 100122}]\n",
      "[0.1] [False] [{'current_scan_id': 100123}]\n",
      "[0.1] [False] [{'current_scan_id': 100124}]\n",
      "[0.1] [False] [{'current_scan_id': 100125}]\n",
      "[0.1] [False] [{'current_scan_id': 100126}]\n",
      "[0.1] [False] [{'current_scan_id': 100127}]\n",
      "[0.1] [False] [{'current_scan_id': 100128}]\n",
      "[0.1] [False] [{'current_scan_id': 100129}]\n",
      "[0.1] [False] [{'current_scan_id': 100130}]\n",
      "[0.1] [False] [{'current_scan_id': 100131}]\n",
      "[0.1] [False] [{'current_scan_id': 100132}]\n",
      "[0.1] [False] [{'current_scan_id': 100133}]\n",
      "[0.1] [False] [{'current_scan_id': 100134}]\n",
      "[0.1] [False] [{'current_scan_id': 100135}]\n",
      "[0.1] [False] [{'current_scan_id': 100136}]\n",
      "[0.1] [False] [{'current_scan_id': 100137}]\n",
      "[0.1] [False] [{'current_scan_id': 100138}]\n",
      "[0.1] [False] [{'current_scan_id': 100139}]\n",
      "[0.1] [False] [{'current_scan_id': 100140}]\n",
      "[0.1] [False] [{'current_scan_id': 100141}]\n",
      "[0.1] [False] [{'current_scan_id': 100142}]\n",
      "[0.1] [False] [{'current_scan_id': 100143}]\n",
      "[0.1] [False] [{'current_scan_id': 100144}]\n",
      "[0.1] [False] [{'current_scan_id': 100145}]\n",
      "[0.1] [False] [{'current_scan_id': 100146}]\n",
      "[0.1] [False] [{'current_scan_id': 100147}]\n",
      "[0.1] [False] [{'current_scan_id': 100148}]\n",
      "[0.1] [False] [{'current_scan_id': 100149}]\n",
      "[0.1] [False] [{'current_scan_id': 100150}]\n",
      "[0.1] [False] [{'current_scan_id': 100151}]\n",
      "[0.1] [False] [{'current_scan_id': 100152}]\n",
      "[0.1] [False] [{'current_scan_id': 100153}]\n",
      "[0.1] [False] [{'current_scan_id': 100154}]\n",
      "[0.1] [False] [{'current_scan_id': 100155}]\n",
      "[0.1] [False] [{'current_scan_id': 100156}]\n",
      "[0.1] [False] [{'current_scan_id': 100157}]\n",
      "[0.1] [False] [{'current_scan_id': 100158}]\n",
      "[0.1] [False] [{'current_scan_id': 100159}]\n",
      "[0.1] [False] [{'current_scan_id': 100160}]\n",
      "[0.1] [False] [{'current_scan_id': 100161}]\n",
      "[0.1] [False] [{'current_scan_id': 100162}]\n",
      "[0.1] [False] [{'current_scan_id': 100163}]\n",
      "[0.1] [False] [{'current_scan_id': 100164}]\n",
      "[0.1] [False] [{'current_scan_id': 100165}]\n",
      "[0.1] [False] [{'current_scan_id': 100166}]\n",
      "[0.1] [False] [{'current_scan_id': 100167}]\n",
      "[0.1] [False] [{'current_scan_id': 100168}]\n",
      "[0.1] [False] [{'current_scan_id': 100169}]\n",
      "[0.1] [False] [{'current_scan_id': 100170}]\n",
      "[0.1] [False] [{'current_scan_id': 100171}]\n",
      "[0.1] [False] [{'current_scan_id': 100172}]\n",
      "[0.1] [False] [{'current_scan_id': 100173}]\n",
      "[0.1] [False] [{'current_scan_id': 100174}]\n",
      "[0.1] [False] [{'current_scan_id': 100175}]\n",
      "[0.1] [False] [{'current_scan_id': 100176}]\n",
      "[0.1] [False] [{'current_scan_id': 100177}]\n",
      "[0.1] [False] [{'current_scan_id': 100178}]\n",
      "[0.1] [False] [{'current_scan_id': 100179}]\n",
      "[0.1] [False] [{'current_scan_id': 100180}]\n",
      "[0.1] [False] [{'current_scan_id': 100181}]\n",
      "[0.1] [False] [{'current_scan_id': 100182}]\n",
      "[0.1] [False] [{'current_scan_id': 100183}]\n",
      "[0.1] [False] [{'current_scan_id': 100184}]\n",
      "[0.1] [False] [{'current_scan_id': 100185}]\n",
      "[0.1] [False] [{'current_scan_id': 100186}]\n",
      "[0.1] [False] [{'current_scan_id': 100187}]\n",
      "[0.1] [False] [{'current_scan_id': 100188}]\n",
      "[0.1] [False] [{'current_scan_id': 100189}]\n",
      "[0.1] [False] [{'current_scan_id': 100190}]\n",
      "[0.1] [False] [{'current_scan_id': 100191}]\n",
      "[0.1] [False] [{'current_scan_id': 100192}]\n",
      "[0.1] [False] [{'current_scan_id': 100193}]\n",
      "[0.1] [False] [{'current_scan_id': 100194}]\n",
      "[0.1] [False] [{'current_scan_id': 100195}]\n",
      "[0.1] [False] [{'current_scan_id': 100196}]\n",
      "[0.1] [False] [{'current_scan_id': 100197}]\n",
      "[0.1] [False] [{'current_scan_id': 100198}]\n",
      "[0.1] [False] [{'current_scan_id': 100199}]\n",
      "[0.1] [False] [{'current_scan_id': 100200}]\n",
      "[0.1] [False] [{'current_scan_id': 100201}]\n",
      "[0.1] [False] [{'current_scan_id': 100202}]\n",
      "[0.1] [False] [{'current_scan_id': 100203}]\n",
      "[0.1] [False] [{'current_scan_id': 100204}]\n",
      "[0.1] [False] [{'current_scan_id': 100205}]\n",
      "[0.1] [False] [{'current_scan_id': 100206}]\n",
      "[0.1] [False] [{'current_scan_id': 100207}]\n",
      "[0.1] [False] [{'current_scan_id': 100208}]\n",
      "[0.1] [False] [{'current_scan_id': 100209}]\n",
      "[0.1] [False] [{'current_scan_id': 100210}]\n",
      "[0.1] [False] [{'current_scan_id': 100211}]\n",
      "[0.1] [False] [{'current_scan_id': 100212}]\n",
      "[0.1] [False] [{'current_scan_id': 100213}]\n",
      "[0.1] [False] [{'current_scan_id': 100214}]\n",
      "[0.1] [False] [{'current_scan_id': 100215}]\n",
      "[0.1] [False] [{'current_scan_id': 100216}]\n",
      "[0.1] [False] [{'current_scan_id': 100217}]\n",
      "[0.1] [False] [{'current_scan_id': 100218}]\n",
      "[0.1] [False] [{'current_scan_id': 100219}]\n",
      "[0.1] [False] [{'current_scan_id': 100220}]\n",
      "[0.1] [False] [{'current_scan_id': 100221}]\n",
      "[0.1] [False] [{'current_scan_id': 100222}]\n",
      "[0.1] [False] [{'current_scan_id': 100223}]\n",
      "[0.1] [False] [{'current_scan_id': 100224}]\n",
      "[0.1] [False] [{'current_scan_id': 100225}]\n",
      "[0.1] [False] [{'current_scan_id': 100226}]\n",
      "[0.1] [False] [{'current_scan_id': 100227}]\n",
      "[0.1] [False] [{'current_scan_id': 100228}]\n",
      "[0.1] [False] [{'current_scan_id': 100229}]\n",
      "[0.1] [False] [{'current_scan_id': 100230}]\n",
      "[0.1] [False] [{'current_scan_id': 100231}]\n",
      "[0.1] [False] [{'current_scan_id': 100232}]\n",
      "[0.1] [False] [{'current_scan_id': 100233}]\n",
      "[0.1] [False] [{'current_scan_id': 100234}]\n",
      "[0.1] [False] [{'current_scan_id': 100235}]\n",
      "[0.1] [False] [{'current_scan_id': 100236}]\n",
      "[0.1] [False] [{'current_scan_id': 100237}]\n",
      "[0.1] [False] [{'current_scan_id': 100238}]\n",
      "[0.1] [False] [{'current_scan_id': 100239}]\n",
      "[0.1] [False] [{'current_scan_id': 100240}]\n",
      "[0.1] [False] [{'current_scan_id': 100241}]\n",
      "[0.1] [False] [{'current_scan_id': 100242}]\n",
      "[0.1] [False] [{'current_scan_id': 100243}]\n",
      "[0.1] [False] [{'current_scan_id': 100244}]\n",
      "[0.1] [False] [{'current_scan_id': 100245}]\n",
      "[0.1] [False] [{'current_scan_id': 100246}]\n",
      "[0.1] [False] [{'current_scan_id': 100247}]\n",
      "[0.1] [False] [{'current_scan_id': 100248}]\n",
      "[0.1] [False] [{'current_scan_id': 100249}]\n",
      "[-100.] [ True] [{'current_scan_id': 100250, 'terminal_observation': {'intensities': array([0.250717  , 0.24691695, 0.24216515, 0.23719044, 0.22356255,\n",
      "       0.21436779, 0.2116625 , 0.21157685, 0.2112857 , 0.21095927,\n",
      "       0.20885998, 0.20818752, 0.20813514, 0.20666277, 0.20638789,\n",
      "       0.20215724, 0.20187354, 0.19797656, 0.19161418, 0.19014804,\n",
      "       0.18743135, 0.18287751, 0.17543438, 0.17412941, 0.1714379 ,\n",
      "       0.17121787, 0.17039983, 0.16742776, 0.15400295, 0.15324478,\n",
      "       0.1460833 , 0.13712569, 0.        , 0.        , 0.        ,\n",
      "       0.        , 0.        , 0.        , 0.        , 0.        ,\n",
      "       0.        , 0.        , 0.        , 0.        , 0.        ,\n",
      "       0.        , 0.        , 0.        , 0.        , 0.        ,\n",
      "       0.        , 0.        , 0.        , 0.        , 0.        ,\n",
      "       0.        , 0.        , 0.        , 0.        , 0.        ,\n",
      "       0.        , 0.        , 0.        , 0.        , 0.        ,\n",
      "       0.        , 0.        , 0.        , 0.        , 0.        ,\n",
      "       0.        , 0.        , 0.        , 0.        , 0.        ,\n",
      "       0.        , 0.        , 0.        , 0.        , 0.        ,\n",
      "       0.        , 0.        , 0.        , 0.        , 0.        ,\n",
      "       0.        , 0.        , 0.        , 0.        , 0.        ,\n",
      "       0.        , 0.        , 0.        , 0.        , 0.        ,\n",
      "       0.        , 0.        , 0.        , 0.        , 0.        ],\n",
      "      dtype=float32), 'fragmented': array([0., 0., 0., 0., 0., 0., 0., 0., 0., 0., 0., 0., 0., 0., 0., 0., 0.,\n",
      "       0., 0., 0., 0., 0., 0., 0., 0., 0., 0., 0., 0., 0., 0., 0., 0., 0.,\n",
      "       0., 0., 0., 0., 0., 0., 0., 0., 0., 0., 0., 0., 0., 0., 0., 0., 0.,\n",
      "       0., 0., 0., 0., 0., 0., 0., 0., 0., 0., 0., 0., 0., 0., 0., 0., 0.,\n",
      "       0., 0., 0., 0., 0., 0., 0., 0., 0., 0., 0., 0., 0., 0., 0., 0., 0.,\n",
      "       0., 0., 0., 0., 0., 0., 0., 0., 0., 0., 0., 0., 0., 0., 0.],\n",
      "      dtype=float32), 'excluded': array([0., 0., 0., 0., 0., 0., 0., 0., 0., 0., 0., 0., 0., 0., 0., 0., 0.,\n",
      "       0., 0., 0., 0., 0., 0., 0., 0., 0., 0., 0., 0., 0., 0., 0., 0., 0.,\n",
      "       0., 0., 0., 0., 0., 0., 0., 0., 0., 0., 0., 0., 0., 0., 0., 0., 0.,\n",
      "       0., 0., 0., 0., 0., 0., 0., 0., 0., 0., 0., 0., 0., 0., 0., 0., 0.,\n",
      "       0., 0., 0., 0., 0., 0., 0., 0., 0., 0., 0., 0., 0., 0., 0., 0., 0.,\n",
      "       0., 0., 0., 0., 0., 0., 0., 0., 0., 0., 0., 0., 0., 0., 0.],\n",
      "      dtype=float32), 'roi_length': array([0.368, 0.136, 0.076, 0.332, 0.224, 0.264, 0.348, 0.216, 0.132,\n",
      "       0.208, 0.276, 0.164, 0.22 , 0.168, 0.244, 0.14 , 0.   , 0.408,\n",
      "       0.452, 0.052, 0.136, 0.396, 0.092, 0.436, 0.052, 0.456, 0.176,\n",
      "       0.008, 0.488, 0.5  , 0.   , 0.008, 0.   , 0.   , 0.   , 0.   ,\n",
      "       0.   , 0.   , 0.   , 0.   , 0.   , 0.   , 0.   , 0.   , 0.   ,\n",
      "       0.   , 0.   , 0.   , 0.   , 0.   , 0.   , 0.   , 0.   , 0.   ,\n",
      "       0.   , 0.   , 0.   , 0.   , 0.   , 0.   , 0.   , 0.   , 0.   ,\n",
      "       0.   , 0.   , 0.   , 0.   , 0.   , 0.   , 0.   , 0.   , 0.   ,\n",
      "       0.   , 0.   , 0.   , 0.   , 0.   , 0.   , 0.   , 0.   , 0.   ,\n",
      "       0.   , 0.   , 0.   , 0.   , 0.   , 0.   , 0.   , 0.   , 0.   ,\n",
      "       0.   , 0.   , 0.   , 0.   , 0.   , 0.   , 0.   , 0.   , 0.   ,\n",
      "       0.   ], dtype=float32), 'roi_elapsed_time_since_last_frag': array([0., 0., 0., 0., 0., 0., 0., 0., 0., 0., 0., 0., 0., 0., 0., 0., 0.,\n",
      "       0., 0., 0., 0., 0., 0., 0., 0., 0., 0., 0., 0., 0., 0., 0., 0., 0.,\n",
      "       0., 0., 0., 0., 0., 0., 0., 0., 0., 0., 0., 0., 0., 0., 0., 0., 0.,\n",
      "       0., 0., 0., 0., 0., 0., 0., 0., 0., 0., 0., 0., 0., 0., 0., 0., 0.,\n",
      "       0., 0., 0., 0., 0., 0., 0., 0., 0., 0., 0., 0., 0., 0., 0., 0., 0.,\n",
      "       0., 0., 0., 0., 0., 0., 0., 0., 0., 0., 0., 0., 0., 0., 0.],\n",
      "      dtype=float32), 'roi_intensity_at_last_frag': array([0., 0., 0., 0., 0., 0., 0., 0., 0., 0., 0., 0., 0., 0., 0., 0., 0.,\n",
      "       0., 0., 0., 0., 0., 0., 0., 0., 0., 0., 0., 0., 0., 0., 0., 0., 0.,\n",
      "       0., 0., 0., 0., 0., 0., 0., 0., 0., 0., 0., 0., 0., 0., 0., 0., 0.,\n",
      "       0., 0., 0., 0., 0., 0., 0., 0., 0., 0., 0., 0., 0., 0., 0., 0., 0.,\n",
      "       0., 0., 0., 0., 0., 0., 0., 0., 0., 0., 0., 0., 0., 0., 0., 0., 0.,\n",
      "       0., 0., 0., 0., 0., 0., 0., 0., 0., 0., 0., 0., 0., 0., 0.],\n",
      "      dtype=float32), 'roi_min_intensity_since_last_frag': array([0., 0., 0., 0., 0., 0., 0., 0., 0., 0., 0., 0., 0., 0., 0., 0., 0.,\n",
      "       0., 0., 0., 0., 0., 0., 0., 0., 0., 0., 0., 0., 0., 0., 0., 0., 0.,\n",
      "       0., 0., 0., 0., 0., 0., 0., 0., 0., 0., 0., 0., 0., 0., 0., 0., 0.,\n",
      "       0., 0., 0., 0., 0., 0., 0., 0., 0., 0., 0., 0., 0., 0., 0., 0., 0.,\n",
      "       0., 0., 0., 0., 0., 0., 0., 0., 0., 0., 0., 0., 0., 0., 0., 0., 0.,\n",
      "       0., 0., 0., 0., 0., 0., 0., 0., 0., 0., 0., 0., 0., 0., 0.],\n",
      "      dtype=float32), 'roi_max_intensity_since_last_frag': array([0., 0., 0., 0., 0., 0., 0., 0., 0., 0., 0., 0., 0., 0., 0., 0., 0.,\n",
      "       0., 0., 0., 0., 0., 0., 0., 0., 0., 0., 0., 0., 0., 0., 0., 0., 0.,\n",
      "       0., 0., 0., 0., 0., 0., 0., 0., 0., 0., 0., 0., 0., 0., 0., 0., 0.,\n",
      "       0., 0., 0., 0., 0., 0., 0., 0., 0., 0., 0., 0., 0., 0., 0., 0., 0.,\n",
      "       0., 0., 0., 0., 0., 0., 0., 0., 0., 0., 0., 0., 0., 0., 0., 0., 0.,\n",
      "       0., 0., 0., 0., 0., 0., 0., 0., 0., 0., 0., 0., 0., 0., 0.],\n",
      "      dtype=float32), 'valid_actions': array([1., 1., 1., 1., 1., 1., 1., 1., 1., 1., 1., 1., 1., 1., 1., 1., 1.,\n",
      "       1., 1., 1., 1., 1., 1., 1., 1., 1., 1., 1., 1., 1., 1., 1., 0., 0.,\n",
      "       0., 0., 0., 0., 0., 0., 0., 0., 0., 0., 0., 0., 0., 0., 0., 0., 0.,\n",
      "       0., 0., 0., 0., 0., 0., 0., 0., 0., 0., 0., 0., 0., 0., 0., 0., 0.,\n",
      "       0., 0., 0., 0., 0., 0., 0., 0., 0., 0., 0., 0., 0., 0., 0., 0., 0.,\n",
      "       0., 0., 0., 0., 0., 0., 0., 0., 0., 0., 0., 0., 0., 0., 0., 1.],\n",
      "      dtype=float32), 'ms_level': 0, 'last_action': 101, 'fragmented_count': array([0.], dtype=float32), 'unfragmented_count': array([1.], dtype=float32), 'excluded_count': array([0.], dtype=float32), 'unexcluded_count': array([1.], dtype=float32), 'elapsed_scans_since_start': array([0.0251], dtype=float32), 'elapsed_scans_since_last_ms1': array([0.], dtype=float32)}}]\n",
      "reward [-100.]\n",
      "done [ True]\n"
     ]
    }
   ],
   "source": [
    "env.reset()\n",
    "for i in range(1000):\n",
    "    action = [max_peaks]  # ms1\n",
    "    observation, reward, done, info = env.step(action)\n",
    "    print(reward, done, info)\n",
    "    if done:\n",
    "        break\n",
    "\n",
    "print('reward', reward)\n",
    "print('done', done)"
   ]
  },
  {
   "cell_type": "code",
   "execution_count": null,
   "metadata": {},
   "outputs": [],
   "source": []
  }
 ],
 "metadata": {
  "kernelspec": {
   "display_name": "Python 3.9.12 ('vimms-gym')",
   "language": "python",
   "name": "python3"
  },
  "language_info": {
   "codemirror_mode": {
    "name": "ipython",
    "version": 3
   },
   "file_extension": ".py",
   "mimetype": "text/x-python",
   "name": "python",
   "nbconvert_exporter": "python",
   "pygments_lexer": "ipython3",
   "version": "3.9.12"
  },
  "vscode": {
   "interpreter": {
    "hash": "05a318a39bdd806c866a458e5513009c97d8e8627387c5b7a048c974669be487"
   }
  }
 },
 "nbformat": 4,
 "nbformat_minor": 4
}
