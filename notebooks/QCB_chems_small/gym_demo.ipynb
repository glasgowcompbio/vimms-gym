{
 "cells": [
  {
   "cell_type": "code",
   "execution_count": 1,
   "metadata": {},
   "outputs": [],
   "source": [
    "%matplotlib inline\n",
    "\n",
    "%load_ext autoreload\n",
    "%autoreload 2"
   ]
  },
  {
   "cell_type": "code",
   "execution_count": 2,
   "metadata": {},
   "outputs": [],
   "source": [
    "import sys\n",
    "from os.path import exists\n",
    "\n",
    "sys.path.append('../..')"
   ]
  },
  {
   "cell_type": "code",
   "execution_count": 3,
   "metadata": {},
   "outputs": [],
   "source": [
    "from stable_baselines3.common.env_checker import check_env\n",
    "\n",
    "from vimms_gym.env import DDAEnv\n",
    "from vimms_gym.features import obs_to_dfs\n",
    "from experiments import preset_qcb_small"
   ]
  },
  {
   "cell_type": "markdown",
   "metadata": {},
   "source": [
    "# Sequential DDA environment test"
   ]
  },
  {
   "cell_type": "code",
   "execution_count": 4,
   "metadata": {},
   "outputs": [
    {
     "name": "stderr",
     "output_type": "stream",
     "text": [
      "2022-08-23 16:07:32.300 | INFO     | experiments:get_samplers:283 - Loaded /Users/joewandy/Work/git/vimms-gym/pickles/samplers_QCB_small_gaussian.p\n"
     ]
    },
    {
     "data": {
      "text/plain": [
       "({'chemical_creator': {'mz_range': (100, 110),\n",
       "   'rt_range': (400, 500),\n",
       "   'intensity_range': (10000.0, 1e+20),\n",
       "   'n_chemicals': (20, 50),\n",
       "   'mz_sampler': <vimms.ChemicalSamplers.MZMLFormulaSampler at 0x7f98ee1c7eb0>,\n",
       "   'ri_sampler': <vimms.ChemicalSamplers.MZMLRTandIntensitySampler at 0x7f98ee1e7250>,\n",
       "   'cr_sampler': <vimms.ChemicalSamplers.GaussianChromatogramSampler at 0x7f98ee1ecbb0>},\n",
       "  'noise': {'enable_spike_noise': True,\n",
       "   'noise_density': 0.1,\n",
       "   'noise_max_val': 1000.0,\n",
       "   'mz_range': (100, 110)},\n",
       "  'env': {'ionisation_mode': 'Positive',\n",
       "   'rt_range': (400, 500),\n",
       "   'isolation_window': 0.7,\n",
       "   'mz_tol': 10,\n",
       "   'rt_tol': 120,\n",
       "   'alpha': 0.25,\n",
       "   'beta': 0.0}},\n",
       " 100)"
      ]
     },
     "execution_count": 4,
     "metadata": {},
     "output_type": "execute_result"
    }
   ],
   "source": [
    "alpha = 0.25\n",
    "beta = 0.0\n",
    "extract = False\n",
    "params, max_peaks = preset_qcb_small(None, alpha=alpha, beta=beta, extract_chromatograms=extract)\n",
    "params, max_peaks"
   ]
  },
  {
   "cell_type": "markdown",
   "metadata": {},
   "source": [
    "Initialise a new DDA environment that tracks the top most intense peaks."
   ]
  },
  {
   "cell_type": "code",
   "execution_count": 5,
   "metadata": {},
   "outputs": [],
   "source": [
    "env = DDAEnv(max_peaks, params)\n",
    "check_env(env)"
   ]
  },
  {
   "cell_type": "markdown",
   "metadata": {},
   "source": [
    "Generate an initial observation (MS1 scan)"
   ]
  },
  {
   "cell_type": "code",
   "execution_count": 6,
   "metadata": {},
   "outputs": [
    {
     "data": {
      "text/plain": [
       "(    intensities  fragmented  excluded  roi_length  \\\n",
       " 0      0.091348         0.0       0.0         0.0   \n",
       " 1      0.000000         0.0       0.0         0.0   \n",
       " 2      0.000000         0.0       0.0         0.0   \n",
       " 3      0.000000         0.0       0.0         0.0   \n",
       " 4      0.000000         0.0       0.0         0.0   \n",
       " ..          ...         ...       ...         ...   \n",
       " 95     0.000000         0.0       0.0         0.0   \n",
       " 96     0.000000         0.0       0.0         0.0   \n",
       " 97     0.000000         0.0       0.0         0.0   \n",
       " 98     0.000000         0.0       0.0         0.0   \n",
       " 99     0.000000         0.0       0.0         0.0   \n",
       " \n",
       "     roi_elapsed_time_since_last_frag  roi_intensity_at_last_frag  \\\n",
       " 0                                0.0                         0.0   \n",
       " 1                                0.0                         0.0   \n",
       " 2                                0.0                         0.0   \n",
       " 3                                0.0                         0.0   \n",
       " 4                                0.0                         0.0   \n",
       " ..                               ...                         ...   \n",
       " 95                               0.0                         0.0   \n",
       " 96                               0.0                         0.0   \n",
       " 97                               0.0                         0.0   \n",
       " 98                               0.0                         0.0   \n",
       " 99                               0.0                         0.0   \n",
       " \n",
       "     roi_min_intensity_since_last_frag  roi_max_intensity_since_last_frag  \\\n",
       " 0                                 0.0                                0.0   \n",
       " 1                                 0.0                                0.0   \n",
       " 2                                 0.0                                0.0   \n",
       " 3                                 0.0                                0.0   \n",
       " 4                                 0.0                                0.0   \n",
       " ..                                ...                                ...   \n",
       " 95                                0.0                                0.0   \n",
       " 96                                0.0                                0.0   \n",
       " 97                                0.0                                0.0   \n",
       " 98                                0.0                                0.0   \n",
       " 99                                0.0                                0.0   \n",
       " \n",
       "     roi_intensities_2  roi_intensities_3  roi_intensities_4  \\\n",
       " 0                 0.0                0.0                0.0   \n",
       " 1                 0.0                0.0                0.0   \n",
       " 2                 0.0                0.0                0.0   \n",
       " 3                 0.0                0.0                0.0   \n",
       " 4                 0.0                0.0                0.0   \n",
       " ..                ...                ...                ...   \n",
       " 95                0.0                0.0                0.0   \n",
       " 96                0.0                0.0                0.0   \n",
       " 97                0.0                0.0                0.0   \n",
       " 98                0.0                0.0                0.0   \n",
       " 99                0.0                0.0                0.0   \n",
       " \n",
       "     roi_intensities_5  log_intensities  \n",
       " 0                 0.0         4.206749  \n",
       " 1                 0.0         0.000000  \n",
       " 2                 0.0         0.000000  \n",
       " 3                 0.0         0.000000  \n",
       " 4                 0.0         0.000000  \n",
       " ..                ...              ...  \n",
       " 95                0.0         0.000000  \n",
       " 96                0.0         0.000000  \n",
       " 97                0.0         0.000000  \n",
       " 98                0.0         0.000000  \n",
       " 99                0.0         0.000000  \n",
       " \n",
       " [100 rows x 13 columns],\n",
       "                               counts\n",
       " ms_level                      1.0000\n",
       " fragmented_count              0.0000\n",
       " unfragmented_count            1.0000\n",
       " excluded_count                0.0000\n",
       " unexcluded_count              1.0000\n",
       " elapsed_scans_since_start     0.0001\n",
       " elapsed_scans_since_last_ms1  0.0000)"
      ]
     },
     "execution_count": 6,
     "metadata": {},
     "output_type": "execute_result"
    }
   ],
   "source": [
    "observation = env.reset()\n",
    "scan_df, count_df = obs_to_dfs(observation, env.features)\n",
    "scan_df, count_df"
   ]
  },
  {
   "cell_type": "code",
   "execution_count": 7,
   "metadata": {},
   "outputs": [
    {
     "data": {
      "text/plain": [
       "array([1., 0., 0., 0., 0., 0., 0., 0., 0., 0., 0., 0., 0., 0., 0., 0., 0.,\n",
       "       0., 0., 0., 0., 0., 0., 0., 0., 0., 0., 0., 0., 0., 0., 0., 0., 0.,\n",
       "       0., 0., 0., 0., 0., 0., 0., 0., 0., 0., 0., 0., 0., 0., 0., 0., 0.,\n",
       "       0., 0., 0., 0., 0., 0., 0., 0., 0., 0., 0., 0., 0., 0., 0., 0., 0.,\n",
       "       0., 0., 0., 0., 0., 0., 0., 0., 0., 0., 0., 0., 0., 0., 0., 0., 0.,\n",
       "       0., 0., 0., 0., 0., 0., 0., 0., 0., 0., 0., 0., 0., 0., 0., 1.],\n",
       "      dtype=float32)"
      ]
     },
     "execution_count": 7,
     "metadata": {},
     "output_type": "execute_result"
    }
   ],
   "source": [
    "observation['valid_actions']"
   ]
  },
  {
   "cell_type": "code",
   "execution_count": 8,
   "metadata": {
    "tags": []
   },
   "outputs": [
    {
     "data": {
      "text/plain": [
       "[mz=101.86424049977249 rt=400 intensity=67.13793724323891 (0.09134839968917971) fragmented=False roi=ROI with data points=1 fragmentations=0 mz (101.8642-101.8642) rt (400.0000-400.0000)]"
      ]
     },
     "execution_count": 8,
     "metadata": {},
     "output_type": "execute_result"
    }
   ],
   "source": [
    "env.features"
   ]
  },
  {
   "cell_type": "code",
   "execution_count": 9,
   "metadata": {},
   "outputs": [
    {
     "data": {
      "image/png": "[encoded data removed]",
      "text/plain": [
       "<Figure size 432x288 with 1 Axes>"
      ]
     },
     "metadata": {
      "needs_background": "light"
     },
     "output_type": "display_data"
    }
   ],
   "source": [
    "env.render()"
   ]
  },
  {
   "cell_type": "markdown",
   "metadata": {},
   "source": [
    "Generate a lot of ms1 scans"
   ]
  },
  {
   "cell_type": "code",
   "execution_count": 10,
   "metadata": {
    "tags": []
   },
   "outputs": [
    {
     "name": "stdout",
     "output_type": "stream",
     "text": [
      "reward 0.1\n",
      "done False\n"
     ]
    },
    {
     "data": {
      "text/plain": [
       "(    intensities  fragmented  excluded  roi_length  \\\n",
       " 0      0.294110         0.0       0.0       0.256   \n",
       " 1      0.215394         0.0       0.0       0.216   \n",
       " 2      0.214887         0.0       0.0       0.336   \n",
       " 3      0.209434         0.0       0.0       0.328   \n",
       " 4      0.206622         0.0       0.0       0.216   \n",
       " ..          ...         ...       ...         ...   \n",
       " 95     0.000000         0.0       0.0       0.000   \n",
       " 96     0.000000         0.0       0.0       0.000   \n",
       " 97     0.000000         0.0       0.0       0.000   \n",
       " 98     0.000000         0.0       0.0       0.000   \n",
       " 99     0.000000         0.0       0.0       0.000   \n",
       " \n",
       "     roi_elapsed_time_since_last_frag  roi_intensity_at_last_frag  \\\n",
       " 0                                0.0                         0.0   \n",
       " 1                                0.0                         0.0   \n",
       " 2                                0.0                         0.0   \n",
       " 3                                0.0                         0.0   \n",
       " 4                                0.0                         0.0   \n",
       " ..                               ...                         ...   \n",
       " 95                               0.0                         0.0   \n",
       " 96                               0.0                         0.0   \n",
       " 97                               0.0                         0.0   \n",
       " 98                               0.0                         0.0   \n",
       " 99                               0.0                         0.0   \n",
       " \n",
       "     roi_min_intensity_since_last_frag  roi_max_intensity_since_last_frag  \\\n",
       " 0                                 0.0                                0.0   \n",
       " 1                                 0.0                                0.0   \n",
       " 2                                 0.0                                0.0   \n",
       " 3                                 0.0                                0.0   \n",
       " 4                                 0.0                                0.0   \n",
       " ..                                ...                                ...   \n",
       " 95                                0.0                                0.0   \n",
       " 96                                0.0                                0.0   \n",
       " 97                                0.0                                0.0   \n",
       " 98                                0.0                                0.0   \n",
       " 99                                0.0                                0.0   \n",
       " \n",
       "     roi_intensities_2  roi_intensities_3  roi_intensities_4  \\\n",
       " 0            0.294096           0.294048           0.293965   \n",
       " 1            0.215029           0.214630           0.214196   \n",
       " 2            0.215553           0.216184           0.216780   \n",
       " 3            0.210043           0.210617           0.211157   \n",
       " 4            0.206248           0.205839           0.205396   \n",
       " ..                ...                ...                ...   \n",
       " 95           0.000000           0.000000           0.000000   \n",
       " 96           0.000000           0.000000           0.000000   \n",
       " 97           0.000000           0.000000           0.000000   \n",
       " 98           0.000000           0.000000           0.000000   \n",
       " 99           0.000000           0.000000           0.000000   \n",
       " \n",
       "     roi_intensities_5  log_intensities  \n",
       " 0            0.293847        13.544247  \n",
       " 1            0.213728         9.919250  \n",
       " 2            0.217341         9.895934  \n",
       " 3            0.211661         9.644808  \n",
       " 4            0.204917         9.515315  \n",
       " ..                ...              ...  \n",
       " 95           0.000000         0.000000  \n",
       " 96           0.000000         0.000000  \n",
       " 97           0.000000         0.000000  \n",
       " 98           0.000000         0.000000  \n",
       " 99           0.000000         0.000000  \n",
       " \n",
       " [100 rows x 13 columns],\n",
       "                               counts\n",
       " ms_level                      1.0000\n",
       " fragmented_count              0.0000\n",
       " unfragmented_count            1.0000\n",
       " excluded_count                0.0000\n",
       " unexcluded_count              1.0000\n",
       " elapsed_scans_since_start     0.0201\n",
       " elapsed_scans_since_last_ms1  0.0000)"
      ]
     },
     "execution_count": 10,
     "metadata": {},
     "output_type": "execute_result"
    }
   ],
   "source": [
    "for i in range(200):\n",
    "    action = max_peaks  # ms1\n",
    "    observation, reward, done, info = env.step(action)\n",
    "\n",
    "print('reward', reward)\n",
    "print('done', done)\n",
    "scan_df, count_df = obs_to_dfs(observation, env.features)\n",
    "scan_df, count_df"
   ]
  },
  {
   "cell_type": "code",
   "execution_count": 11,
   "metadata": {},
   "outputs": [
    {
     "data": {
      "text/plain": [
       "array([1., 1., 1., 1., 1., 1., 1., 1., 1., 1., 1., 1., 1., 1., 1., 1., 1.,\n",
       "       1., 1., 1., 1., 0., 0., 0., 0., 0., 0., 0., 0., 0., 0., 0., 0., 0.,\n",
       "       0., 0., 0., 0., 0., 0., 0., 0., 0., 0., 0., 0., 0., 0., 0., 0., 0.,\n",
       "       0., 0., 0., 0., 0., 0., 0., 0., 0., 0., 0., 0., 0., 0., 0., 0., 0.,\n",
       "       0., 0., 0., 0., 0., 0., 0., 0., 0., 0., 0., 0., 0., 0., 0., 0., 0.,\n",
       "       0., 0., 0., 0., 0., 0., 0., 0., 0., 0., 0., 0., 0., 0., 0., 1.],\n",
       "      dtype=float32)"
      ]
     },
     "execution_count": 11,
     "metadata": {},
     "output_type": "execute_result"
    }
   ],
   "source": [
    "observation['valid_actions']"
   ]
  },
  {
   "cell_type": "code",
   "execution_count": 12,
   "metadata": {},
   "outputs": [
    {
     "data": {
      "text/plain": [
       "[mz=104.14686158657658 rt=479.99999999999545 intensity=762415.6803608977 (0.29410959098593265) fragmented=False roi=ROI with data points=65 fragmentations=0 mz (104.1469-104.1469) rt (454.4000-480.0000),\n",
       " mz=104.34096421124318 rt=479.99999999999545 intensity=20317.743221491048 (0.21539377336739626) fragmented=False roi=ROI with data points=55 fragmentations=0 mz (104.3410-104.3410) rt (458.4000-480.0000),\n",
       " mz=104.53015234691213 rt=479.99999999999545 intensity=19849.495519727705 (0.21488747367641106) fragmented=False roi=ROI with data points=85 fragmentations=0 mz (104.5302-104.5302) rt (446.4000-480.0000),\n",
       " mz=104.2106739687823 rt=479.99999999999545 intensity=15441.414177158878 (0.20943435359924692) fragmented=False roi=ROI with data points=83 fragmentations=0 mz (104.2107-104.2107) rt (447.2000-480.0000),\n",
       " mz=104.01837556453597 rt=479.99999999999545 intensity=13565.910144536067 (0.2066224468067974) fragmented=False roi=ROI with data points=55 fragmentations=0 mz (104.0184-104.0184) rt (458.4000-480.0000),\n",
       " mz=104.62750174459367 rt=479.99999999999545 intensity=13529.610829772639 (0.2065642652293156) fragmented=False roi=ROI with data points=45 fragmentations=0 mz (104.6275-104.6275) rt (462.4000-480.0000),\n",
       " mz=104.74335377802174 rt=479.99999999999545 intensity=12736.063027788856 (0.20525175998102227) fragmented=False roi=ROI with data points=88 fragmentations=0 mz (104.7434-104.7434) rt (445.2000-480.0000),\n",
       " mz=108.15277798570452 rt=479.99999999999545 intensity=10236.41229255385 (0.20050738848353525) fragmented=False roi=ROI with data points=114 fragmentations=0 mz (108.1528-108.1528) rt (434.8000-480.0000),\n",
       " mz=104.76914553711597 rt=479.99999999999545 intensity=9768.294116389081 (0.1994909363715844) fragmented=False roi=ROI with data points=58 fragmentations=0 mz (104.7691-104.7691) rt (457.2000-480.0000),\n",
       " mz=104.58522668287308 rt=479.99999999999545 intensity=6424.021392640929 (0.19039034892587897) fragmented=False roi=ROI with data points=114 fragmentations=0 mz (104.5852-104.5852) rt (434.8000-480.0000),\n",
       " mz=104.8020166452052 rt=479.99999999999545 intensity=5812.045636073365 (0.18821645078557506) fragmented=False roi=ROI with data points=28 fragmentations=0 mz (104.8020-104.8020) rt (469.2000-480.0000),\n",
       " mz=104.69909848236234 rt=479.99999999999545 intensity=4911.180565868629 (0.1845592950910107) fragmented=False roi=None,\n",
       " mz=104.4801775092565 rt=479.99999999999545 intensity=4112.389142530816 (0.18070471019305584) fragmented=False roi=ROI with data points=6 fragmentations=0 mz (104.4802-104.4802) rt (478.0000-480.0000),\n",
       " mz=104.68819924744598 rt=479.99999999999545 intensity=2386.273981062708 (0.16888601529514372) fragmented=False roi=ROI with data points=14 fragmentations=0 mz (104.6882-104.6882) rt (474.8000-480.0000),\n",
       " mz=104.32922662423952 rt=479.99999999999545 intensity=2294.283593836011 (0.16803235497699245) fragmented=False roi=ROI with data points=13 fragmentations=0 mz (104.3292-104.3292) rt (475.2000-480.0000),\n",
       " mz=104.69929977705156 rt=479.99999999999545 intensity=1794.1100353747208 (0.1626924537718189) fragmented=False roi=ROI with data points=40 fragmentations=0 mz (104.6991-104.6993) rt (468.8000-480.0000),\n",
       " mz=104.29907953965117 rt=479.99999999999545 intensity=1585.8882801647644 (0.16001362948271977) fragmented=False roi=ROI with data points=13 fragmentations=0 mz (104.2991-104.2991) rt (475.2000-480.0000),\n",
       " mz=104.68170409404809 rt=479.99999999999545 intensity=1293.8973335707456 (0.1555949908942002) fragmented=False roi=ROI with data points=254 fragmentations=0 mz (104.6811-104.6817) rt (415.6000-480.0000),\n",
       " mz=103.80297794602161 rt=479.99999999999545 intensity=863.3537938285822 (0.14680944008824684) fragmented=False roi=ROI with data points=1 fragmentations=0 mz (103.8030-103.8030) rt (480.0000-480.0000),\n",
       " mz=105.92460314055273 rt=479.99999999999545 intensity=760.8497329458652 (0.144064944625887) fragmented=False roi=ROI with data points=2 fragmentations=0 mz (105.9246-105.9246) rt (479.6000-480.0000),\n",
       " mz=104.73137902459938 rt=479.99999999999545 intensity=596.840401176919 (0.13879291068086508) fragmented=False roi=ROI with data points=5 fragmentations=0 mz (104.7314-104.7314) rt (478.4000-480.0000)]"
      ]
     },
     "execution_count": 12,
     "metadata": {},
     "output_type": "execute_result"
    }
   ],
   "source": [
    "env.features"
   ]
  },
  {
   "cell_type": "code",
   "execution_count": 13,
   "metadata": {},
   "outputs": [
    {
     "data": {
      "image/png": "[encoded data removed]",
      "text/plain": [
       "<Figure size 432x288 with 1 Axes>"
      ]
     },
     "metadata": {
      "needs_background": "light"
     },
     "output_type": "display_data"
    }
   ],
   "source": [
    "env.render()"
   ]
  },
  {
   "cell_type": "markdown",
   "metadata": {},
   "source": [
    "Target the most intense precursor for fragmentation, and generate an MS2 scan from that"
   ]
  },
  {
   "cell_type": "code",
   "execution_count": 14,
   "metadata": {},
   "outputs": [
    {
     "name": "stdout",
     "output_type": "stream",
     "text": [
      "reward 0.34769362173139484\n",
      "done False\n"
     ]
    },
    {
     "data": {
      "text/plain": [
       "(    intensities  fragmented  excluded  roi_length  \\\n",
       " 0      0.294110         1.0  0.003333       0.256   \n",
       " 1      0.215394         0.0  0.000000       0.216   \n",
       " 2      0.214887         0.0  0.000000       0.336   \n",
       " 3      0.209434         0.0  0.000000       0.328   \n",
       " 4      0.206622         0.0  0.000000       0.216   \n",
       " ..          ...         ...       ...         ...   \n",
       " 95     0.000000         0.0  0.000000       0.000   \n",
       " 96     0.000000         0.0  0.000000       0.000   \n",
       " 97     0.000000         0.0  0.000000       0.000   \n",
       " 98     0.000000         0.0  0.000000       0.000   \n",
       " 99     0.000000         0.0  0.000000       0.000   \n",
       " \n",
       "     roi_elapsed_time_since_last_frag  roi_intensity_at_last_frag  \\\n",
       " 0                                0.0                         0.0   \n",
       " 1                                0.0                         0.0   \n",
       " 2                                0.0                         0.0   \n",
       " 3                                0.0                         0.0   \n",
       " 4                                0.0                         0.0   \n",
       " ..                               ...                         ...   \n",
       " 95                               0.0                         0.0   \n",
       " 96                               0.0                         0.0   \n",
       " 97                               0.0                         0.0   \n",
       " 98                               0.0                         0.0   \n",
       " 99                               0.0                         0.0   \n",
       " \n",
       "     roi_min_intensity_since_last_frag  roi_max_intensity_since_last_frag  \\\n",
       " 0                                 0.0                                0.0   \n",
       " 1                                 0.0                                0.0   \n",
       " 2                                 0.0                                0.0   \n",
       " 3                                 0.0                                0.0   \n",
       " 4                                 0.0                                0.0   \n",
       " ..                                ...                                ...   \n",
       " 95                                0.0                                0.0   \n",
       " 96                                0.0                                0.0   \n",
       " 97                                0.0                                0.0   \n",
       " 98                                0.0                                0.0   \n",
       " 99                                0.0                                0.0   \n",
       " \n",
       "     roi_intensities_2  roi_intensities_3  roi_intensities_4  \\\n",
       " 0            0.294096           0.294048           0.293965   \n",
       " 1            0.215029           0.214630           0.214196   \n",
       " 2            0.215553           0.216184           0.216780   \n",
       " 3            0.210043           0.210617           0.211157   \n",
       " 4            0.206248           0.205839           0.205396   \n",
       " ..                ...                ...                ...   \n",
       " 95           0.000000           0.000000           0.000000   \n",
       " 96           0.000000           0.000000           0.000000   \n",
       " 97           0.000000           0.000000           0.000000   \n",
       " 98           0.000000           0.000000           0.000000   \n",
       " 99           0.000000           0.000000           0.000000   \n",
       " \n",
       "     roi_intensities_5  log_intensities  \n",
       " 0            0.293847        13.544247  \n",
       " 1            0.213728         9.919250  \n",
       " 2            0.217341         9.895934  \n",
       " 3            0.211661         9.644808  \n",
       " 4            0.204917         9.515315  \n",
       " ..                ...              ...  \n",
       " 95           0.000000         0.000000  \n",
       " 96           0.000000         0.000000  \n",
       " 97           0.000000         0.000000  \n",
       " 98           0.000000         0.000000  \n",
       " 99           0.000000         0.000000  \n",
       " \n",
       " [100 rows x 13 columns],\n",
       "                               counts\n",
       " ms_level                      2.0000\n",
       " fragmented_count              0.0100\n",
       " unfragmented_count            0.9900\n",
       " excluded_count                0.0100\n",
       " unexcluded_count              0.9900\n",
       " elapsed_scans_since_start     0.0202\n",
       " elapsed_scans_since_last_ms1  0.0100)"
      ]
     },
     "execution_count": 14,
     "metadata": {},
     "output_type": "execute_result"
    }
   ],
   "source": [
    "action = 0\n",
    "observation, reward, done, info = env.step(action)\n",
    "\n",
    "print('reward', reward)\n",
    "print('done', done)\n",
    "scan_df, count_df = obs_to_dfs(observation, env.features)\n",
    "scan_df, count_df"
   ]
  },
  {
   "cell_type": "code",
   "execution_count": 15,
   "metadata": {},
   "outputs": [
    {
     "data": {
      "text/plain": [
       "array([0., 1., 1., 1., 1., 1., 1., 1., 1., 1., 1., 1., 1., 1., 1., 1., 1.,\n",
       "       1., 1., 1., 1., 0., 0., 0., 0., 0., 0., 0., 0., 0., 0., 0., 0., 0.,\n",
       "       0., 0., 0., 0., 0., 0., 0., 0., 0., 0., 0., 0., 0., 0., 0., 0., 0.,\n",
       "       0., 0., 0., 0., 0., 0., 0., 0., 0., 0., 0., 0., 0., 0., 0., 0., 0.,\n",
       "       0., 0., 0., 0., 0., 0., 0., 0., 0., 0., 0., 0., 0., 0., 0., 0., 0.,\n",
       "       0., 0., 0., 0., 0., 0., 0., 0., 0., 0., 0., 0., 0., 0., 0., 1.],\n",
       "      dtype=float32)"
      ]
     },
     "execution_count": 15,
     "metadata": {},
     "output_type": "execute_result"
    }
   ],
   "source": [
    "observation['valid_actions']"
   ]
  },
  {
   "cell_type": "code",
   "execution_count": 16,
   "metadata": {},
   "outputs": [
    {
     "data": {
      "text/plain": [
       "[mz=104.14686158657658 rt=479.99999999999545 intensity=762415.6803608977 (0.29410959098593265) fragmented=True roi=ROI with data points=65 fragmentations=0 mz (104.1469-104.1469) rt (454.4000-480.0000),\n",
       " mz=104.34096421124318 rt=479.99999999999545 intensity=20317.743221491048 (0.21539377336739626) fragmented=False roi=ROI with data points=55 fragmentations=0 mz (104.3410-104.3410) rt (458.4000-480.0000),\n",
       " mz=104.53015234691213 rt=479.99999999999545 intensity=19849.495519727705 (0.21488747367641106) fragmented=False roi=ROI with data points=85 fragmentations=0 mz (104.5302-104.5302) rt (446.4000-480.0000),\n",
       " mz=104.2106739687823 rt=479.99999999999545 intensity=15441.414177158878 (0.20943435359924692) fragmented=False roi=ROI with data points=83 fragmentations=0 mz (104.2107-104.2107) rt (447.2000-480.0000),\n",
       " mz=104.01837556453597 rt=479.99999999999545 intensity=13565.910144536067 (0.2066224468067974) fragmented=False roi=ROI with data points=55 fragmentations=0 mz (104.0184-104.0184) rt (458.4000-480.0000),\n",
       " mz=104.62750174459367 rt=479.99999999999545 intensity=13529.610829772639 (0.2065642652293156) fragmented=False roi=ROI with data points=45 fragmentations=0 mz (104.6275-104.6275) rt (462.4000-480.0000),\n",
       " mz=104.74335377802174 rt=479.99999999999545 intensity=12736.063027788856 (0.20525175998102227) fragmented=False roi=ROI with data points=88 fragmentations=0 mz (104.7434-104.7434) rt (445.2000-480.0000),\n",
       " mz=108.15277798570452 rt=479.99999999999545 intensity=10236.41229255385 (0.20050738848353525) fragmented=False roi=ROI with data points=114 fragmentations=0 mz (108.1528-108.1528) rt (434.8000-480.0000),\n",
       " mz=104.76914553711597 rt=479.99999999999545 intensity=9768.294116389081 (0.1994909363715844) fragmented=False roi=ROI with data points=58 fragmentations=0 mz (104.7691-104.7691) rt (457.2000-480.0000),\n",
       " mz=104.58522668287308 rt=479.99999999999545 intensity=6424.021392640929 (0.19039034892587897) fragmented=False roi=ROI with data points=114 fragmentations=0 mz (104.5852-104.5852) rt (434.8000-480.0000),\n",
       " mz=104.8020166452052 rt=479.99999999999545 intensity=5812.045636073365 (0.18821645078557506) fragmented=False roi=ROI with data points=28 fragmentations=0 mz (104.8020-104.8020) rt (469.2000-480.0000),\n",
       " mz=104.69909848236234 rt=479.99999999999545 intensity=4911.180565868629 (0.1845592950910107) fragmented=False roi=None,\n",
       " mz=104.4801775092565 rt=479.99999999999545 intensity=4112.389142530816 (0.18070471019305584) fragmented=False roi=ROI with data points=6 fragmentations=0 mz (104.4802-104.4802) rt (478.0000-480.0000),\n",
       " mz=104.68819924744598 rt=479.99999999999545 intensity=2386.273981062708 (0.16888601529514372) fragmented=False roi=ROI with data points=14 fragmentations=0 mz (104.6882-104.6882) rt (474.8000-480.0000),\n",
       " mz=104.32922662423952 rt=479.99999999999545 intensity=2294.283593836011 (0.16803235497699245) fragmented=False roi=ROI with data points=13 fragmentations=0 mz (104.3292-104.3292) rt (475.2000-480.0000),\n",
       " mz=104.69929977705156 rt=479.99999999999545 intensity=1794.1100353747208 (0.1626924537718189) fragmented=False roi=ROI with data points=40 fragmentations=0 mz (104.6991-104.6993) rt (468.8000-480.0000),\n",
       " mz=104.29907953965117 rt=479.99999999999545 intensity=1585.8882801647644 (0.16001362948271977) fragmented=False roi=ROI with data points=13 fragmentations=0 mz (104.2991-104.2991) rt (475.2000-480.0000),\n",
       " mz=104.68170409404809 rt=479.99999999999545 intensity=1293.8973335707456 (0.1555949908942002) fragmented=False roi=ROI with data points=254 fragmentations=0 mz (104.6811-104.6817) rt (415.6000-480.0000),\n",
       " mz=103.80297794602161 rt=479.99999999999545 intensity=863.3537938285822 (0.14680944008824684) fragmented=False roi=ROI with data points=1 fragmentations=0 mz (103.8030-103.8030) rt (480.0000-480.0000),\n",
       " mz=105.92460314055273 rt=479.99999999999545 intensity=760.8497329458652 (0.144064944625887) fragmented=False roi=ROI with data points=2 fragmentations=0 mz (105.9246-105.9246) rt (479.6000-480.0000),\n",
       " mz=104.73137902459938 rt=479.99999999999545 intensity=596.840401176919 (0.13879291068086508) fragmented=False roi=ROI with data points=5 fragmentations=0 mz (104.7314-104.7314) rt (478.4000-480.0000)]"
      ]
     },
     "execution_count": 16,
     "metadata": {},
     "output_type": "execute_result"
    }
   ],
   "source": [
    "env.features"
   ]
  },
  {
   "cell_type": "code",
   "execution_count": 17,
   "metadata": {},
   "outputs": [
    {
     "data": {
      "image/png": "[encoded data removed]",
      "text/plain": [
       "<Figure size 432x288 with 1 Axes>"
      ]
     },
     "metadata": {
      "needs_background": "light"
     },
     "output_type": "display_data"
    }
   ],
   "source": [
    "env.render()"
   ]
  },
  {
   "cell_type": "markdown",
   "metadata": {},
   "source": [
    "Target the next most intense precursor for fragmentation, and generate an MS2 scan"
   ]
  },
  {
   "cell_type": "code",
   "execution_count": 18,
   "metadata": {},
   "outputs": [
    {
     "name": "stdout",
     "output_type": "stream",
     "text": [
      "reward 0.10169893507066936\n",
      "done False\n"
     ]
    },
    {
     "data": {
      "text/plain": [
       "(    intensities  fragmented  excluded  roi_length  \\\n",
       " 0      0.294110         1.0     0.005       0.256   \n",
       " 1      0.215394         1.0     0.005       0.216   \n",
       " 2      0.214887         0.0     0.000       0.336   \n",
       " 3      0.209434         0.0     0.000       0.328   \n",
       " 4      0.206622         0.0     0.000       0.216   \n",
       " ..          ...         ...       ...         ...   \n",
       " 95     0.000000         0.0     0.000       0.000   \n",
       " 96     0.000000         0.0     0.000       0.000   \n",
       " 97     0.000000         0.0     0.000       0.000   \n",
       " 98     0.000000         0.0     0.000       0.000   \n",
       " 99     0.000000         0.0     0.000       0.000   \n",
       " \n",
       "     roi_elapsed_time_since_last_frag  roi_intensity_at_last_frag  \\\n",
       " 0                                0.0                         0.0   \n",
       " 1                                0.0                         0.0   \n",
       " 2                                0.0                         0.0   \n",
       " 3                                0.0                         0.0   \n",
       " 4                                0.0                         0.0   \n",
       " ..                               ...                         ...   \n",
       " 95                               0.0                         0.0   \n",
       " 96                               0.0                         0.0   \n",
       " 97                               0.0                         0.0   \n",
       " 98                               0.0                         0.0   \n",
       " 99                               0.0                         0.0   \n",
       " \n",
       "     roi_min_intensity_since_last_frag  roi_max_intensity_since_last_frag  \\\n",
       " 0                                 0.0                                0.0   \n",
       " 1                                 0.0                                0.0   \n",
       " 2                                 0.0                                0.0   \n",
       " 3                                 0.0                                0.0   \n",
       " 4                                 0.0                                0.0   \n",
       " ..                                ...                                ...   \n",
       " 95                                0.0                                0.0   \n",
       " 96                                0.0                                0.0   \n",
       " 97                                0.0                                0.0   \n",
       " 98                                0.0                                0.0   \n",
       " 99                                0.0                                0.0   \n",
       " \n",
       "     roi_intensities_2  roi_intensities_3  roi_intensities_4  \\\n",
       " 0            0.294096           0.294048           0.293965   \n",
       " 1            0.215029           0.214630           0.214196   \n",
       " 2            0.215553           0.216184           0.216780   \n",
       " 3            0.210043           0.210617           0.211157   \n",
       " 4            0.206248           0.205839           0.205396   \n",
       " ..                ...                ...                ...   \n",
       " 95           0.000000           0.000000           0.000000   \n",
       " 96           0.000000           0.000000           0.000000   \n",
       " 97           0.000000           0.000000           0.000000   \n",
       " 98           0.000000           0.000000           0.000000   \n",
       " 99           0.000000           0.000000           0.000000   \n",
       " \n",
       "     roi_intensities_5  log_intensities  \n",
       " 0            0.293847        13.544247  \n",
       " 1            0.213728         9.919250  \n",
       " 2            0.217341         9.895934  \n",
       " 3            0.211661         9.644808  \n",
       " 4            0.204917         9.515315  \n",
       " ..                ...              ...  \n",
       " 95           0.000000         0.000000  \n",
       " 96           0.000000         0.000000  \n",
       " 97           0.000000         0.000000  \n",
       " 98           0.000000         0.000000  \n",
       " 99           0.000000         0.000000  \n",
       " \n",
       " [100 rows x 13 columns],\n",
       "                               counts\n",
       " ms_level                      2.0000\n",
       " fragmented_count              0.0200\n",
       " unfragmented_count            0.9800\n",
       " excluded_count                0.0200\n",
       " unexcluded_count              0.9800\n",
       " elapsed_scans_since_start     0.0203\n",
       " elapsed_scans_since_last_ms1  0.0200)"
      ]
     },
     "execution_count": 18,
     "metadata": {},
     "output_type": "execute_result"
    }
   ],
   "source": [
    "action = 1\n",
    "observation, reward, done, info = env.step(action)\n",
    "\n",
    "print('reward', reward)\n",
    "print('done', done)\n",
    "scan_df, count_df = obs_to_dfs(observation, env.features)\n",
    "scan_df, count_df"
   ]
  },
  {
   "cell_type": "code",
   "execution_count": 19,
   "metadata": {},
   "outputs": [
    {
     "data": {
      "text/plain": [
       "array([0., 0., 1., 1., 1., 1., 1., 1., 1., 1., 1., 1., 1., 1., 1., 1., 1.,\n",
       "       1., 1., 1., 1., 0., 0., 0., 0., 0., 0., 0., 0., 0., 0., 0., 0., 0.,\n",
       "       0., 0., 0., 0., 0., 0., 0., 0., 0., 0., 0., 0., 0., 0., 0., 0., 0.,\n",
       "       0., 0., 0., 0., 0., 0., 0., 0., 0., 0., 0., 0., 0., 0., 0., 0., 0.,\n",
       "       0., 0., 0., 0., 0., 0., 0., 0., 0., 0., 0., 0., 0., 0., 0., 0., 0.,\n",
       "       0., 0., 0., 0., 0., 0., 0., 0., 0., 0., 0., 0., 0., 0., 0., 1.],\n",
       "      dtype=float32)"
      ]
     },
     "execution_count": 19,
     "metadata": {},
     "output_type": "execute_result"
    }
   ],
   "source": [
    "observation['valid_actions']"
   ]
  },
  {
   "cell_type": "code",
   "execution_count": 20,
   "metadata": {},
   "outputs": [
    {
     "data": {
      "text/plain": [
       "[mz=104.14686158657658 rt=479.99999999999545 intensity=762415.6803608977 (0.29410959098593265) fragmented=True roi=ROI with data points=65 fragmentations=0 mz (104.1469-104.1469) rt (454.4000-480.0000),\n",
       " mz=104.34096421124318 rt=479.99999999999545 intensity=20317.743221491048 (0.21539377336739626) fragmented=True roi=ROI with data points=55 fragmentations=0 mz (104.3410-104.3410) rt (458.4000-480.0000),\n",
       " mz=104.53015234691213 rt=479.99999999999545 intensity=19849.495519727705 (0.21488747367641106) fragmented=False roi=ROI with data points=85 fragmentations=0 mz (104.5302-104.5302) rt (446.4000-480.0000),\n",
       " mz=104.2106739687823 rt=479.99999999999545 intensity=15441.414177158878 (0.20943435359924692) fragmented=False roi=ROI with data points=83 fragmentations=0 mz (104.2107-104.2107) rt (447.2000-480.0000),\n",
       " mz=104.01837556453597 rt=479.99999999999545 intensity=13565.910144536067 (0.2066224468067974) fragmented=False roi=ROI with data points=55 fragmentations=0 mz (104.0184-104.0184) rt (458.4000-480.0000),\n",
       " mz=104.62750174459367 rt=479.99999999999545 intensity=13529.610829772639 (0.2065642652293156) fragmented=False roi=ROI with data points=45 fragmentations=0 mz (104.6275-104.6275) rt (462.4000-480.0000),\n",
       " mz=104.74335377802174 rt=479.99999999999545 intensity=12736.063027788856 (0.20525175998102227) fragmented=False roi=ROI with data points=88 fragmentations=0 mz (104.7434-104.7434) rt (445.2000-480.0000),\n",
       " mz=108.15277798570452 rt=479.99999999999545 intensity=10236.41229255385 (0.20050738848353525) fragmented=False roi=ROI with data points=114 fragmentations=0 mz (108.1528-108.1528) rt (434.8000-480.0000),\n",
       " mz=104.76914553711597 rt=479.99999999999545 intensity=9768.294116389081 (0.1994909363715844) fragmented=False roi=ROI with data points=58 fragmentations=0 mz (104.7691-104.7691) rt (457.2000-480.0000),\n",
       " mz=104.58522668287308 rt=479.99999999999545 intensity=6424.021392640929 (0.19039034892587897) fragmented=False roi=ROI with data points=114 fragmentations=0 mz (104.5852-104.5852) rt (434.8000-480.0000),\n",
       " mz=104.8020166452052 rt=479.99999999999545 intensity=5812.045636073365 (0.18821645078557506) fragmented=False roi=ROI with data points=28 fragmentations=0 mz (104.8020-104.8020) rt (469.2000-480.0000),\n",
       " mz=104.69909848236234 rt=479.99999999999545 intensity=4911.180565868629 (0.1845592950910107) fragmented=False roi=None,\n",
       " mz=104.4801775092565 rt=479.99999999999545 intensity=4112.389142530816 (0.18070471019305584) fragmented=False roi=ROI with data points=6 fragmentations=0 mz (104.4802-104.4802) rt (478.0000-480.0000),\n",
       " mz=104.68819924744598 rt=479.99999999999545 intensity=2386.273981062708 (0.16888601529514372) fragmented=False roi=ROI with data points=14 fragmentations=0 mz (104.6882-104.6882) rt (474.8000-480.0000),\n",
       " mz=104.32922662423952 rt=479.99999999999545 intensity=2294.283593836011 (0.16803235497699245) fragmented=False roi=ROI with data points=13 fragmentations=0 mz (104.3292-104.3292) rt (475.2000-480.0000),\n",
       " mz=104.69929977705156 rt=479.99999999999545 intensity=1794.1100353747208 (0.1626924537718189) fragmented=False roi=ROI with data points=40 fragmentations=0 mz (104.6991-104.6993) rt (468.8000-480.0000),\n",
       " mz=104.29907953965117 rt=479.99999999999545 intensity=1585.8882801647644 (0.16001362948271977) fragmented=False roi=ROI with data points=13 fragmentations=0 mz (104.2991-104.2991) rt (475.2000-480.0000),\n",
       " mz=104.68170409404809 rt=479.99999999999545 intensity=1293.8973335707456 (0.1555949908942002) fragmented=False roi=ROI with data points=254 fragmentations=0 mz (104.6811-104.6817) rt (415.6000-480.0000),\n",
       " mz=103.80297794602161 rt=479.99999999999545 intensity=863.3537938285822 (0.14680944008824684) fragmented=False roi=ROI with data points=1 fragmentations=0 mz (103.8030-103.8030) rt (480.0000-480.0000),\n",
       " mz=105.92460314055273 rt=479.99999999999545 intensity=760.8497329458652 (0.144064944625887) fragmented=False roi=ROI with data points=2 fragmentations=0 mz (105.9246-105.9246) rt (479.6000-480.0000),\n",
       " mz=104.73137902459938 rt=479.99999999999545 intensity=596.840401176919 (0.13879291068086508) fragmented=False roi=ROI with data points=5 fragmentations=0 mz (104.7314-104.7314) rt (478.4000-480.0000)]"
      ]
     },
     "execution_count": 20,
     "metadata": {},
     "output_type": "execute_result"
    }
   ],
   "source": [
    "env.features"
   ]
  },
  {
   "cell_type": "code",
   "execution_count": 21,
   "metadata": {},
   "outputs": [
    {
     "data": {
      "image/png": "[encoded data removed]",
      "text/plain": [
       "<Figure size 432x288 with 1 Axes>"
      ]
     },
     "metadata": {
      "needs_background": "light"
     },
     "output_type": "display_data"
    }
   ],
   "source": [
    "env.render()"
   ]
  },
  {
   "cell_type": "markdown",
   "metadata": {},
   "source": [
    "Repeat targeting of the same precursor will end up targeting low-intensity spike noises (non-chemicals), which produce no reward"
   ]
  },
  {
   "cell_type": "code",
   "execution_count": 22,
   "metadata": {},
   "outputs": [
    {
     "name": "stdout",
     "output_type": "stream",
     "text": [
      "reward -1.0\n",
      "reward -1.0\n",
      "reward -1.0\n",
      "reward -1.0\n",
      "reward -1.0\n",
      "reward -1.0\n",
      "reward -1.0\n",
      "reward -1.0\n",
      "reward -1.0\n",
      "reward -1.0\n"
     ]
    }
   ],
   "source": [
    "for i in range(10):\n",
    "    action = 0\n",
    "    observation, reward, done, info = env.step(action)\n",
    "    print('reward', reward)\n",
    "    # print('done', done)\n",
    "    # pp.pprint(observation)\n",
    "    # env.render()"
   ]
  },
  {
   "cell_type": "code",
   "execution_count": 23,
   "metadata": {},
   "outputs": [
    {
     "data": {
      "text/plain": [
       "(    intensities  fragmented  excluded  roi_length  \\\n",
       " 0      0.294110         1.0  0.021667       0.256   \n",
       " 1      0.215394         1.0  0.021667       0.216   \n",
       " 2      0.214887         0.0  0.000000       0.336   \n",
       " 3      0.209434         0.0  0.000000       0.328   \n",
       " 4      0.206622         0.0  0.000000       0.216   \n",
       " ..          ...         ...       ...         ...   \n",
       " 95     0.000000         0.0  0.000000       0.000   \n",
       " 96     0.000000         0.0  0.000000       0.000   \n",
       " 97     0.000000         0.0  0.000000       0.000   \n",
       " 98     0.000000         0.0  0.000000       0.000   \n",
       " 99     0.000000         0.0  0.000000       0.000   \n",
       " \n",
       "     roi_elapsed_time_since_last_frag  roi_intensity_at_last_frag  \\\n",
       " 0                                0.0                         0.0   \n",
       " 1                                0.0                         0.0   \n",
       " 2                                0.0                         0.0   \n",
       " 3                                0.0                         0.0   \n",
       " 4                                0.0                         0.0   \n",
       " ..                               ...                         ...   \n",
       " 95                               0.0                         0.0   \n",
       " 96                               0.0                         0.0   \n",
       " 97                               0.0                         0.0   \n",
       " 98                               0.0                         0.0   \n",
       " 99                               0.0                         0.0   \n",
       " \n",
       "     roi_min_intensity_since_last_frag  roi_max_intensity_since_last_frag  \\\n",
       " 0                                 0.0                                0.0   \n",
       " 1                                 0.0                                0.0   \n",
       " 2                                 0.0                                0.0   \n",
       " 3                                 0.0                                0.0   \n",
       " 4                                 0.0                                0.0   \n",
       " ..                                ...                                ...   \n",
       " 95                                0.0                                0.0   \n",
       " 96                                0.0                                0.0   \n",
       " 97                                0.0                                0.0   \n",
       " 98                                0.0                                0.0   \n",
       " 99                                0.0                                0.0   \n",
       " \n",
       "     roi_intensities_2  roi_intensities_3  roi_intensities_4  \\\n",
       " 0            0.294096           0.294048           0.293965   \n",
       " 1            0.215029           0.214630           0.214196   \n",
       " 2            0.215553           0.216184           0.216780   \n",
       " 3            0.210043           0.210617           0.211157   \n",
       " 4            0.206248           0.205839           0.205396   \n",
       " ..                ...                ...                ...   \n",
       " 95           0.000000           0.000000           0.000000   \n",
       " 96           0.000000           0.000000           0.000000   \n",
       " 97           0.000000           0.000000           0.000000   \n",
       " 98           0.000000           0.000000           0.000000   \n",
       " 99           0.000000           0.000000           0.000000   \n",
       " \n",
       "     roi_intensities_5  log_intensities  \n",
       " 0            0.293847        13.544247  \n",
       " 1            0.213728         9.919250  \n",
       " 2            0.217341         9.895934  \n",
       " 3            0.211661         9.644808  \n",
       " 4            0.204917         9.515315  \n",
       " ..                ...              ...  \n",
       " 95           0.000000         0.000000  \n",
       " 96           0.000000         0.000000  \n",
       " 97           0.000000         0.000000  \n",
       " 98           0.000000         0.000000  \n",
       " 99           0.000000         0.000000  \n",
       " \n",
       " [100 rows x 13 columns],\n",
       "                               counts\n",
       " ms_level                      2.0000\n",
       " fragmented_count              0.0200\n",
       " unfragmented_count            0.9800\n",
       " excluded_count                0.0200\n",
       " unexcluded_count              0.9800\n",
       " elapsed_scans_since_start     0.0213\n",
       " elapsed_scans_since_last_ms1  0.1200)"
      ]
     },
     "execution_count": 23,
     "metadata": {},
     "output_type": "execute_result"
    }
   ],
   "source": [
    "scan_df, count_df = obs_to_dfs(observation, env.features)\n",
    "scan_df, count_df"
   ]
  },
  {
   "cell_type": "code",
   "execution_count": 24,
   "metadata": {},
   "outputs": [
    {
     "data": {
      "text/plain": [
       "array([0., 0., 1., 1., 1., 1., 1., 1., 1., 1., 1., 1., 1., 1., 1., 1., 1.,\n",
       "       1., 1., 1., 1., 0., 0., 0., 0., 0., 0., 0., 0., 0., 0., 0., 0., 0.,\n",
       "       0., 0., 0., 0., 0., 0., 0., 0., 0., 0., 0., 0., 0., 0., 0., 0., 0.,\n",
       "       0., 0., 0., 0., 0., 0., 0., 0., 0., 0., 0., 0., 0., 0., 0., 0., 0.,\n",
       "       0., 0., 0., 0., 0., 0., 0., 0., 0., 0., 0., 0., 0., 0., 0., 0., 0.,\n",
       "       0., 0., 0., 0., 0., 0., 0., 0., 0., 0., 0., 0., 0., 0., 0., 1.],\n",
       "      dtype=float32)"
      ]
     },
     "execution_count": 24,
     "metadata": {},
     "output_type": "execute_result"
    }
   ],
   "source": [
    "observation['valid_actions']"
   ]
  },
  {
   "cell_type": "code",
   "execution_count": 25,
   "metadata": {},
   "outputs": [
    {
     "data": {
      "text/plain": [
       "[mz=104.14686158657658 rt=479.99999999999545 intensity=762415.6803608977 (0.29410959098593265) fragmented=True roi=ROI with data points=65 fragmentations=0 mz (104.1469-104.1469) rt (454.4000-480.0000),\n",
       " mz=104.34096421124318 rt=479.99999999999545 intensity=20317.743221491048 (0.21539377336739626) fragmented=True roi=ROI with data points=55 fragmentations=0 mz (104.3410-104.3410) rt (458.4000-480.0000),\n",
       " mz=104.53015234691213 rt=479.99999999999545 intensity=19849.495519727705 (0.21488747367641106) fragmented=False roi=ROI with data points=85 fragmentations=0 mz (104.5302-104.5302) rt (446.4000-480.0000),\n",
       " mz=104.2106739687823 rt=479.99999999999545 intensity=15441.414177158878 (0.20943435359924692) fragmented=False roi=ROI with data points=83 fragmentations=0 mz (104.2107-104.2107) rt (447.2000-480.0000),\n",
       " mz=104.01837556453597 rt=479.99999999999545 intensity=13565.910144536067 (0.2066224468067974) fragmented=False roi=ROI with data points=55 fragmentations=0 mz (104.0184-104.0184) rt (458.4000-480.0000),\n",
       " mz=104.62750174459367 rt=479.99999999999545 intensity=13529.610829772639 (0.2065642652293156) fragmented=False roi=ROI with data points=45 fragmentations=0 mz (104.6275-104.6275) rt (462.4000-480.0000),\n",
       " mz=104.74335377802174 rt=479.99999999999545 intensity=12736.063027788856 (0.20525175998102227) fragmented=False roi=ROI with data points=88 fragmentations=0 mz (104.7434-104.7434) rt (445.2000-480.0000),\n",
       " mz=108.15277798570452 rt=479.99999999999545 intensity=10236.41229255385 (0.20050738848353525) fragmented=False roi=ROI with data points=114 fragmentations=0 mz (108.1528-108.1528) rt (434.8000-480.0000),\n",
       " mz=104.76914553711597 rt=479.99999999999545 intensity=9768.294116389081 (0.1994909363715844) fragmented=False roi=ROI with data points=58 fragmentations=0 mz (104.7691-104.7691) rt (457.2000-480.0000),\n",
       " mz=104.58522668287308 rt=479.99999999999545 intensity=6424.021392640929 (0.19039034892587897) fragmented=False roi=ROI with data points=114 fragmentations=0 mz (104.5852-104.5852) rt (434.8000-480.0000),\n",
       " mz=104.8020166452052 rt=479.99999999999545 intensity=5812.045636073365 (0.18821645078557506) fragmented=False roi=ROI with data points=28 fragmentations=0 mz (104.8020-104.8020) rt (469.2000-480.0000),\n",
       " mz=104.69909848236234 rt=479.99999999999545 intensity=4911.180565868629 (0.1845592950910107) fragmented=False roi=None,\n",
       " mz=104.4801775092565 rt=479.99999999999545 intensity=4112.389142530816 (0.18070471019305584) fragmented=False roi=ROI with data points=6 fragmentations=0 mz (104.4802-104.4802) rt (478.0000-480.0000),\n",
       " mz=104.68819924744598 rt=479.99999999999545 intensity=2386.273981062708 (0.16888601529514372) fragmented=False roi=ROI with data points=14 fragmentations=0 mz (104.6882-104.6882) rt (474.8000-480.0000),\n",
       " mz=104.32922662423952 rt=479.99999999999545 intensity=2294.283593836011 (0.16803235497699245) fragmented=False roi=ROI with data points=13 fragmentations=0 mz (104.3292-104.3292) rt (475.2000-480.0000),\n",
       " mz=104.69929977705156 rt=479.99999999999545 intensity=1794.1100353747208 (0.1626924537718189) fragmented=False roi=ROI with data points=40 fragmentations=0 mz (104.6991-104.6993) rt (468.8000-480.0000),\n",
       " mz=104.29907953965117 rt=479.99999999999545 intensity=1585.8882801647644 (0.16001362948271977) fragmented=False roi=ROI with data points=13 fragmentations=0 mz (104.2991-104.2991) rt (475.2000-480.0000),\n",
       " mz=104.68170409404809 rt=479.99999999999545 intensity=1293.8973335707456 (0.1555949908942002) fragmented=False roi=ROI with data points=254 fragmentations=0 mz (104.6811-104.6817) rt (415.6000-480.0000),\n",
       " mz=103.80297794602161 rt=479.99999999999545 intensity=863.3537938285822 (0.14680944008824684) fragmented=False roi=ROI with data points=1 fragmentations=0 mz (103.8030-103.8030) rt (480.0000-480.0000),\n",
       " mz=105.92460314055273 rt=479.99999999999545 intensity=760.8497329458652 (0.144064944625887) fragmented=False roi=ROI with data points=2 fragmentations=0 mz (105.9246-105.9246) rt (479.6000-480.0000),\n",
       " mz=104.73137902459938 rt=479.99999999999545 intensity=596.840401176919 (0.13879291068086508) fragmented=False roi=ROI with data points=5 fragmentations=0 mz (104.7314-104.7314) rt (478.4000-480.0000)]"
      ]
     },
     "execution_count": 25,
     "metadata": {},
     "output_type": "execute_result"
    }
   ],
   "source": [
    "env.features"
   ]
  },
  {
   "cell_type": "markdown",
   "metadata": {},
   "source": [
    "Making an invalid move produces negative reward."
   ]
  },
  {
   "cell_type": "code",
   "execution_count": 26,
   "metadata": {},
   "outputs": [
    {
     "name": "stdout",
     "output_type": "stream",
     "text": [
      "reward -1.0\n",
      "done False\n"
     ]
    },
    {
     "data": {
      "text/plain": [
       "(    intensities  fragmented  excluded  roi_length  \\\n",
       " 0      0.294110         1.0  0.023333       0.256   \n",
       " 1      0.215394         1.0  0.023333       0.216   \n",
       " 2      0.214887         0.0  0.000000       0.336   \n",
       " 3      0.209434         0.0  0.000000       0.328   \n",
       " 4      0.206622         0.0  0.000000       0.216   \n",
       " ..          ...         ...       ...         ...   \n",
       " 95     0.000000         0.0  0.000000       0.000   \n",
       " 96     0.000000         0.0  0.000000       0.000   \n",
       " 97     0.000000         0.0  0.000000       0.000   \n",
       " 98     0.000000         0.0  0.000000       0.000   \n",
       " 99     0.000000         0.0  0.000000       0.000   \n",
       " \n",
       "     roi_elapsed_time_since_last_frag  roi_intensity_at_last_frag  \\\n",
       " 0                                0.0                         0.0   \n",
       " 1                                0.0                         0.0   \n",
       " 2                                0.0                         0.0   \n",
       " 3                                0.0                         0.0   \n",
       " 4                                0.0                         0.0   \n",
       " ..                               ...                         ...   \n",
       " 95                               0.0                         0.0   \n",
       " 96                               0.0                         0.0   \n",
       " 97                               0.0                         0.0   \n",
       " 98                               0.0                         0.0   \n",
       " 99                               0.0                         0.0   \n",
       " \n",
       "     roi_min_intensity_since_last_frag  roi_max_intensity_since_last_frag  \\\n",
       " 0                                 0.0                                0.0   \n",
       " 1                                 0.0                                0.0   \n",
       " 2                                 0.0                                0.0   \n",
       " 3                                 0.0                                0.0   \n",
       " 4                                 0.0                                0.0   \n",
       " ..                                ...                                ...   \n",
       " 95                                0.0                                0.0   \n",
       " 96                                0.0                                0.0   \n",
       " 97                                0.0                                0.0   \n",
       " 98                                0.0                                0.0   \n",
       " 99                                0.0                                0.0   \n",
       " \n",
       "     roi_intensities_2  roi_intensities_3  roi_intensities_4  \\\n",
       " 0            0.294096           0.294048           0.293965   \n",
       " 1            0.215029           0.214630           0.214196   \n",
       " 2            0.215553           0.216184           0.216780   \n",
       " 3            0.210043           0.210617           0.211157   \n",
       " 4            0.206248           0.205839           0.205396   \n",
       " ..                ...                ...                ...   \n",
       " 95           0.000000           0.000000           0.000000   \n",
       " 96           0.000000           0.000000           0.000000   \n",
       " 97           0.000000           0.000000           0.000000   \n",
       " 98           0.000000           0.000000           0.000000   \n",
       " 99           0.000000           0.000000           0.000000   \n",
       " \n",
       "     roi_intensities_5  log_intensities  \n",
       " 0            0.293847        13.544247  \n",
       " 1            0.213728         9.919250  \n",
       " 2            0.217341         9.895934  \n",
       " 3            0.211661         9.644808  \n",
       " 4            0.204917         9.515315  \n",
       " ..                ...              ...  \n",
       " 95           0.000000         0.000000  \n",
       " 96           0.000000         0.000000  \n",
       " 97           0.000000         0.000000  \n",
       " 98           0.000000         0.000000  \n",
       " 99           0.000000         0.000000  \n",
       " \n",
       " [100 rows x 13 columns],\n",
       "                               counts\n",
       " ms_level                      2.0000\n",
       " fragmented_count              0.0300\n",
       " unfragmented_count            0.9700\n",
       " excluded_count                0.0200\n",
       " unexcluded_count              0.9800\n",
       " elapsed_scans_since_start     0.0214\n",
       " elapsed_scans_since_last_ms1  0.1300)"
      ]
     },
     "execution_count": 26,
     "metadata": {},
     "output_type": "execute_result"
    }
   ],
   "source": [
    "action = 50  # no precursor to fragment at this index\n",
    "observation, reward, done, info = env.step(action)\n",
    "\n",
    "print('reward', reward)\n",
    "print('done', done)\n",
    "scan_df, count_df = obs_to_dfs(observation, env.features)\n",
    "scan_df, count_df"
   ]
  },
  {
   "cell_type": "code",
   "execution_count": 27,
   "metadata": {},
   "outputs": [
    {
     "data": {
      "text/plain": [
       "array([0., 0., 1., 1., 1., 1., 1., 1., 1., 1., 1., 1., 1., 1., 1., 1., 1.,\n",
       "       1., 1., 1., 1., 0., 0., 0., 0., 0., 0., 0., 0., 0., 0., 0., 0., 0.,\n",
       "       0., 0., 0., 0., 0., 0., 0., 0., 0., 0., 0., 0., 0., 0., 0., 0., 0.,\n",
       "       0., 0., 0., 0., 0., 0., 0., 0., 0., 0., 0., 0., 0., 0., 0., 0., 0.,\n",
       "       0., 0., 0., 0., 0., 0., 0., 0., 0., 0., 0., 0., 0., 0., 0., 0., 0.,\n",
       "       0., 0., 0., 0., 0., 0., 0., 0., 0., 0., 0., 0., 0., 0., 0., 1.],\n",
       "      dtype=float32)"
      ]
     },
     "execution_count": 27,
     "metadata": {},
     "output_type": "execute_result"
    }
   ],
   "source": [
    "observation['valid_actions']"
   ]
  },
  {
   "cell_type": "code",
   "execution_count": 28,
   "metadata": {},
   "outputs": [
    {
     "data": {
      "text/plain": [
       "[mz=104.14686158657658 rt=479.99999999999545 intensity=762415.6803608977 (0.29410959098593265) fragmented=True roi=ROI with data points=65 fragmentations=0 mz (104.1469-104.1469) rt (454.4000-480.0000),\n",
       " mz=104.34096421124318 rt=479.99999999999545 intensity=20317.743221491048 (0.21539377336739626) fragmented=True roi=ROI with data points=55 fragmentations=0 mz (104.3410-104.3410) rt (458.4000-480.0000),\n",
       " mz=104.53015234691213 rt=479.99999999999545 intensity=19849.495519727705 (0.21488747367641106) fragmented=False roi=ROI with data points=85 fragmentations=0 mz (104.5302-104.5302) rt (446.4000-480.0000),\n",
       " mz=104.2106739687823 rt=479.99999999999545 intensity=15441.414177158878 (0.20943435359924692) fragmented=False roi=ROI with data points=83 fragmentations=0 mz (104.2107-104.2107) rt (447.2000-480.0000),\n",
       " mz=104.01837556453597 rt=479.99999999999545 intensity=13565.910144536067 (0.2066224468067974) fragmented=False roi=ROI with data points=55 fragmentations=0 mz (104.0184-104.0184) rt (458.4000-480.0000),\n",
       " mz=104.62750174459367 rt=479.99999999999545 intensity=13529.610829772639 (0.2065642652293156) fragmented=False roi=ROI with data points=45 fragmentations=0 mz (104.6275-104.6275) rt (462.4000-480.0000),\n",
       " mz=104.74335377802174 rt=479.99999999999545 intensity=12736.063027788856 (0.20525175998102227) fragmented=False roi=ROI with data points=88 fragmentations=0 mz (104.7434-104.7434) rt (445.2000-480.0000),\n",
       " mz=108.15277798570452 rt=479.99999999999545 intensity=10236.41229255385 (0.20050738848353525) fragmented=False roi=ROI with data points=114 fragmentations=0 mz (108.1528-108.1528) rt (434.8000-480.0000),\n",
       " mz=104.76914553711597 rt=479.99999999999545 intensity=9768.294116389081 (0.1994909363715844) fragmented=False roi=ROI with data points=58 fragmentations=0 mz (104.7691-104.7691) rt (457.2000-480.0000),\n",
       " mz=104.58522668287308 rt=479.99999999999545 intensity=6424.021392640929 (0.19039034892587897) fragmented=False roi=ROI with data points=114 fragmentations=0 mz (104.5852-104.5852) rt (434.8000-480.0000),\n",
       " mz=104.8020166452052 rt=479.99999999999545 intensity=5812.045636073365 (0.18821645078557506) fragmented=False roi=ROI with data points=28 fragmentations=0 mz (104.8020-104.8020) rt (469.2000-480.0000),\n",
       " mz=104.69909848236234 rt=479.99999999999545 intensity=4911.180565868629 (0.1845592950910107) fragmented=False roi=None,\n",
       " mz=104.4801775092565 rt=479.99999999999545 intensity=4112.389142530816 (0.18070471019305584) fragmented=False roi=ROI with data points=6 fragmentations=0 mz (104.4802-104.4802) rt (478.0000-480.0000),\n",
       " mz=104.68819924744598 rt=479.99999999999545 intensity=2386.273981062708 (0.16888601529514372) fragmented=False roi=ROI with data points=14 fragmentations=0 mz (104.6882-104.6882) rt (474.8000-480.0000),\n",
       " mz=104.32922662423952 rt=479.99999999999545 intensity=2294.283593836011 (0.16803235497699245) fragmented=False roi=ROI with data points=13 fragmentations=0 mz (104.3292-104.3292) rt (475.2000-480.0000),\n",
       " mz=104.69929977705156 rt=479.99999999999545 intensity=1794.1100353747208 (0.1626924537718189) fragmented=False roi=ROI with data points=40 fragmentations=0 mz (104.6991-104.6993) rt (468.8000-480.0000),\n",
       " mz=104.29907953965117 rt=479.99999999999545 intensity=1585.8882801647644 (0.16001362948271977) fragmented=False roi=ROI with data points=13 fragmentations=0 mz (104.2991-104.2991) rt (475.2000-480.0000),\n",
       " mz=104.68170409404809 rt=479.99999999999545 intensity=1293.8973335707456 (0.1555949908942002) fragmented=False roi=ROI with data points=254 fragmentations=0 mz (104.6811-104.6817) rt (415.6000-480.0000),\n",
       " mz=103.80297794602161 rt=479.99999999999545 intensity=863.3537938285822 (0.14680944008824684) fragmented=False roi=ROI with data points=1 fragmentations=0 mz (103.8030-103.8030) rt (480.0000-480.0000),\n",
       " mz=105.92460314055273 rt=479.99999999999545 intensity=760.8497329458652 (0.144064944625887) fragmented=False roi=ROI with data points=2 fragmentations=0 mz (105.9246-105.9246) rt (479.6000-480.0000),\n",
       " mz=104.73137902459938 rt=479.99999999999545 intensity=596.840401176919 (0.13879291068086508) fragmented=False roi=ROI with data points=5 fragmentations=0 mz (104.7314-104.7314) rt (478.4000-480.0000)]"
      ]
     },
     "execution_count": 28,
     "metadata": {},
     "output_type": "execute_result"
    }
   ],
   "source": [
    "env.features"
   ]
  },
  {
   "cell_type": "code",
   "execution_count": 29,
   "metadata": {},
   "outputs": [
    {
     "data": {
      "image/png": "[encoded data removed]",
      "text/plain": [
       "<Figure size 432x288 with 1 Axes>"
      ]
     },
     "metadata": {
      "needs_background": "light"
     },
     "output_type": "display_data"
    }
   ],
   "source": [
    "env.render()"
   ]
  },
  {
   "cell_type": "markdown",
   "metadata": {},
   "source": [
    "Generate lots of MS1 scans"
   ]
  },
  {
   "cell_type": "code",
   "execution_count": 30,
   "metadata": {},
   "outputs": [
    {
     "name": "stdout",
     "output_type": "stream",
     "text": [
      "0.1 False {'current_scan_id': 100213}\n",
      "0.1 False {'current_scan_id': 100214}\n",
      "0.1 False {'current_scan_id': 100215}\n",
      "0.1 False {'current_scan_id': 100216}\n",
      "0.1 False {'current_scan_id': 100217}\n",
      "0.1 False {'current_scan_id': 100218}\n",
      "0.1 False {'current_scan_id': 100219}\n",
      "0.1 False {'current_scan_id': 100220}\n",
      "0.1 False {'current_scan_id': 100221}\n",
      "0.1 False {'current_scan_id': 100222}\n",
      "reward 0.1\n",
      "done False\n"
     ]
    },
    {
     "data": {
      "text/plain": [
       "(    intensities  fragmented  excluded  roi_length  \\\n",
       " 0      0.289315         0.0     0.055       0.322   \n",
       " 1      0.216390         0.0     0.055       0.282   \n",
       " 2      0.213307         0.0     0.000       0.242   \n",
       " 3      0.209956         0.0     0.000       0.086   \n",
       " 4      0.207780         0.0     0.000       0.282   \n",
       " ..          ...         ...       ...         ...   \n",
       " 95     0.000000         0.0     0.000       0.000   \n",
       " 96     0.000000         0.0     0.000       0.000   \n",
       " 97     0.000000         0.0     0.000       0.000   \n",
       " 98     0.000000         0.0     0.000       0.000   \n",
       " 99     0.000000         0.0     0.000       0.000   \n",
       " \n",
       "     roi_elapsed_time_since_last_frag  roi_intensity_at_last_frag  \\\n",
       " 0                           0.018871                    0.294110   \n",
       " 1                           0.018871                    0.215394   \n",
       " 2                           0.000000                    0.000000   \n",
       " 3                           0.000000                    0.000000   \n",
       " 4                           0.000000                    0.000000   \n",
       " ..                               ...                         ...   \n",
       " 95                          0.000000                    0.000000   \n",
       " 96                          0.000000                    0.000000   \n",
       " 97                          0.000000                    0.000000   \n",
       " 98                          0.000000                    0.000000   \n",
       " 99                          0.000000                    0.000000   \n",
       " \n",
       "     roi_min_intensity_since_last_frag  roi_max_intensity_since_last_frag  \\\n",
       " 0                            0.289315                           0.294110   \n",
       " 1                            0.215394                           0.217123   \n",
       " 2                            0.000000                           0.000000   \n",
       " 3                            0.000000                           0.000000   \n",
       " 4                            0.000000                           0.000000   \n",
       " ..                                ...                                ...   \n",
       " 95                           0.000000                           0.000000   \n",
       " 96                           0.000000                           0.000000   \n",
       " 97                           0.000000                           0.000000   \n",
       " 98                           0.000000                           0.000000   \n",
       " 99                           0.000000                           0.000000   \n",
       " \n",
       "     roi_intensities_2  roi_intensities_3  roi_intensities_4  \\\n",
       " 0            0.289875           0.290400           0.290891   \n",
       " 1            0.216599           0.216773           0.216913   \n",
       " 2            0.213168           0.212994           0.212785   \n",
       " 3            0.208452           0.206914           0.205341   \n",
       " 4            0.207979           0.208144           0.208273   \n",
       " ..                ...                ...                ...   \n",
       " 95           0.000000           0.000000           0.000000   \n",
       " 96           0.000000           0.000000           0.000000   \n",
       " 97           0.000000           0.000000           0.000000   \n",
       " 98           0.000000           0.000000           0.000000   \n",
       " 99           0.000000           0.000000           0.000000   \n",
       " \n",
       "     roi_intensities_5  log_intensities  \n",
       " 0            0.291346        13.323468  \n",
       " 1            0.217017         9.965144  \n",
       " 2            0.212541         9.823160  \n",
       " 3            0.203733         9.668821  \n",
       " 4            0.208368         9.568628  \n",
       " ..                ...              ...  \n",
       " 95           0.000000         0.000000  \n",
       " 96           0.000000         0.000000  \n",
       " 97           0.000000         0.000000  \n",
       " 98           0.000000         0.000000  \n",
       " 99           0.000000         0.000000  \n",
       " \n",
       " [100 rows x 13 columns],\n",
       "                               counts\n",
       " ms_level                      1.0000\n",
       " fragmented_count              0.0000\n",
       " unfragmented_count            1.0000\n",
       " excluded_count                0.0200\n",
       " unexcluded_count              0.9800\n",
       " elapsed_scans_since_start     0.0224\n",
       " elapsed_scans_since_last_ms1  0.0000)"
      ]
     },
     "execution_count": 30,
     "metadata": {},
     "output_type": "execute_result"
    }
   ],
   "source": [
    "for i in range(10):\n",
    "    action = max_peaks  # ms1\n",
    "    observation, reward, done, info = env.step(action)\n",
    "    print(reward, done, info)\n",
    "    if done:\n",
    "        break\n",
    "\n",
    "print('reward', reward)\n",
    "print('done', done)\n",
    "scan_df, count_df = obs_to_dfs(observation, env.features)\n",
    "scan_df, count_df"
   ]
  },
  {
   "cell_type": "code",
   "execution_count": 31,
   "metadata": {},
   "outputs": [
    {
     "data": {
      "text/plain": [
       "array([1., 1., 1., 1., 1., 1., 1., 1., 1., 1., 1., 1., 1., 1., 1., 1., 1.,\n",
       "       1., 1., 1., 0., 0., 0., 0., 0., 0., 0., 0., 0., 0., 0., 0., 0., 0.,\n",
       "       0., 0., 0., 0., 0., 0., 0., 0., 0., 0., 0., 0., 0., 0., 0., 0., 0.,\n",
       "       0., 0., 0., 0., 0., 0., 0., 0., 0., 0., 0., 0., 0., 0., 0., 0., 0.,\n",
       "       0., 0., 0., 0., 0., 0., 0., 0., 0., 0., 0., 0., 0., 0., 0., 0., 0.,\n",
       "       0., 0., 0., 0., 0., 0., 0., 0., 0., 0., 0., 0., 0., 0., 0., 1.],\n",
       "      dtype=float32)"
      ]
     },
     "execution_count": 31,
     "metadata": {},
     "output_type": "execute_result"
    }
   ],
   "source": [
    "observation['valid_actions']"
   ]
  },
  {
   "cell_type": "code",
   "execution_count": 32,
   "metadata": {},
   "outputs": [
    {
     "data": {
      "text/plain": [
       "[mz=104.14686158657658 rt=486.5999999999951 intensity=611376.3372687678 (0.2893154312883233) fragmented=False roi=ROI with data points=75 fragmentations=0 mz (104.1469-104.1469) rt (454.4000-486.6000),\n",
       " mz=104.34096421124318 rt=486.5999999999951 intensity=21271.943358892335 (0.21639035839614623) fragmented=False roi=ROI with data points=65 fragmentations=0 mz (104.3410-104.3410) rt (458.4000-486.6000),\n",
       " mz=104.62750174459367 rt=486.5999999999951 intensity=18456.274829000846 (0.21330720242803014) fragmented=False roi=ROI with data points=55 fragmentations=0 mz (104.6275-104.6275) rt (462.4000-486.6000),\n",
       " mz=104.4801775092565 rt=486.5999999999951 intensity=15816.689000967375 (0.20995577876495392) fragmented=False roi=ROI with data points=16 fragmentations=0 mz (104.4802-104.4802) rt (478.0000-486.6000),\n",
       " mz=104.01837556453597 rt=486.5999999999951 intensity=14308.768984907158 (0.20778011360252865) fragmented=False roi=ROI with data points=65 fragmentations=0 mz (104.0184-104.0184) rt (458.4000-486.6000),\n",
       " mz=104.8020166452052 rt=486.5999999999951 intensity=12291.301531365043 (0.20447989364782812) fragmented=False roi=ROI with data points=38 fragmentations=0 mz (104.8020-104.8020) rt (469.2000-486.6000),\n",
       " mz=104.69909848236234 rt=486.5999999999951 intensity=10124.818569528526 (0.20026936248342875) fragmented=False roi=None,\n",
       " mz=104.53015234691213 rt=486.5999999999951 intensity=9501.280158183816 (0.19888910620222872) fragmented=False roi=ROI with data points=95 fragmentations=0 mz (104.5302-104.5302) rt (446.4000-486.6000),\n",
       " mz=104.76914553711597 rt=486.5999999999951 intensity=9500.31055269897 (0.1988868901019113) fragmented=False roi=ROI with data points=68 fragmentations=0 mz (104.7691-104.7691) rt (457.2000-486.6000),\n",
       " mz=104.2106739687823 rt=486.5999999999951 intensity=7716.874925114694 (0.19437207306373058) fragmented=False roi=ROI with data points=93 fragmentations=0 mz (104.2107-104.2107) rt (447.2000-486.6000),\n",
       " mz=104.68819924744598 rt=486.5999999999951 intensity=7293.5782154154185 (0.19314703223176372) fragmented=False roi=ROI with data points=24 fragmentations=0 mz (104.6882-104.6882) rt (474.8000-486.6000),\n",
       " mz=104.32922662423952 rt=486.5999999999951 intensity=7182.008526554849 (0.1928122958194632) fragmented=False roi=ROI with data points=23 fragmentations=0 mz (104.3292-104.3292) rt (475.2000-486.6000),\n",
       " mz=104.69929977705156 rt=486.5999999999951 intensity=5916.686033916606 (0.1886039262130881) fragmented=False roi=ROI with data points=60 fragmentations=0 mz (104.6991-104.6993) rt (468.8000-486.6000),\n",
       " mz=104.74335377802174 rt=486.5999999999951 intensity=5497.872076408845 (0.18700973152659037) fragmented=False roi=ROI with data points=98 fragmentations=0 mz (104.7434-104.7434) rt (445.2000-486.6000),\n",
       " mz=104.29907953965117 rt=486.5999999999951 intensity=4963.354884407609 (0.18478876643798214) fragmented=False roi=ROI with data points=23 fragmentations=0 mz (104.2991-104.2991) rt (475.2000-486.6000),\n",
       " mz=105.92460314055273 rt=486.5999999999951 intensity=3214.7044138447004 (0.1753570523258775) fragmented=False roi=ROI with data points=12 fragmentations=0 mz (105.9246-105.9246) rt (479.6000-486.6000),\n",
       " mz=104.35946162051694 rt=486.5999999999951 intensity=2375.91053597428 (0.1687915041710091) fragmented=False roi=ROI with data points=3 fragmentations=0 mz (104.3595-104.3595) rt (485.8000-486.6000),\n",
       " mz=104.73137902459938 rt=486.5999999999951 intensity=2320.0035029882565 (0.16827443203177173) fragmented=False roi=ROI with data points=15 fragmentations=0 mz (104.7314-104.7314) rt (478.4000-486.6000),\n",
       " mz=108.90898129809514 rt=486.5999999999951 intensity=1742.5743144280336 (0.16205956541189748) fragmented=False roi=ROI with data points=10 fragmentations=0 mz (108.9090-108.9090) rt (483.0000-486.6000),\n",
       " mz=107.95869541473068 rt=486.5999999999951 intensity=503.5069410293438 (0.1351002730920454) fragmented=False roi=ROI with data points=1 fragmentations=0 mz (107.9587-107.9587) rt (486.6000-486.6000)]"
      ]
     },
     "execution_count": 32,
     "metadata": {},
     "output_type": "execute_result"
    }
   ],
   "source": [
    "env.features"
   ]
  },
  {
   "cell_type": "code",
   "execution_count": 33,
   "metadata": {},
   "outputs": [
    {
     "data": {
      "image/png": "[encoded data removed]",
      "text/plain": [
       "<Figure size 432x288 with 1 Axes>"
      ]
     },
     "metadata": {
      "needs_background": "light"
     },
     "output_type": "display_data"
    }
   ],
   "source": [
    "env.render()"
   ]
  },
  {
   "cell_type": "markdown",
   "metadata": {},
   "source": [
    "Not doing any fragmentation (performing only MS1 scans) will receive a huge negative reward in the end."
   ]
  },
  {
   "cell_type": "code",
   "execution_count": 34,
   "metadata": {},
   "outputs": [
    {
     "name": "stdout",
     "output_type": "stream",
     "text": [
      "0.1 False {'current_scan_id': 100000}\n",
      "0.1 False {'current_scan_id': 100001}\n",
      "0.1 False {'current_scan_id': 100002}\n",
      "0.1 False {'current_scan_id': 100003}\n",
      "0.1 False {'current_scan_id': 100004}\n",
      "0.1 False {'current_scan_id': 100005}\n",
      "0.1 False {'current_scan_id': 100006}\n",
      "0.1 False {'current_scan_id': 100007}\n",
      "0.1 False {'current_scan_id': 100008}\n",
      "0.1 False {'current_scan_id': 100009}\n",
      "0.1 False {'current_scan_id': 100010}\n",
      "0.1 False {'current_scan_id': 100011}\n",
      "0.1 False {'current_scan_id': 100012}\n",
      "0.1 False {'current_scan_id': 100013}\n",
      "0.1 False {'current_scan_id': 100014}\n",
      "0.1 False {'current_scan_id': 100015}\n",
      "0.1 False {'current_scan_id': 100016}\n",
      "0.1 False {'current_scan_id': 100017}\n",
      "0.1 False {'current_scan_id': 100018}\n",
      "0.1 False {'current_scan_id': 100019}\n",
      "0.1 False {'current_scan_id': 100020}\n",
      "0.1 False {'current_scan_id': 100021}\n",
      "0.1 False {'current_scan_id': 100022}\n",
      "0.1 False {'current_scan_id': 100023}\n",
      "0.1 False {'current_scan_id': 100024}\n",
      "0.1 False {'current_scan_id': 100025}\n",
      "0.1 False {'current_scan_id': 100026}\n",
      "0.1 False {'current_scan_id': 100027}\n",
      "0.1 False {'current_scan_id': 100028}\n",
      "0.1 False {'current_scan_id': 100029}\n",
      "0.1 False {'current_scan_id': 100030}\n",
      "0.1 False {'current_scan_id': 100031}\n",
      "0.1 False {'current_scan_id': 100032}\n",
      "0.1 False {'current_scan_id': 100033}\n",
      "0.1 False {'current_scan_id': 100034}\n",
      "0.1 False {'current_scan_id': 100035}\n",
      "0.1 False {'current_scan_id': 100036}\n",
      "0.1 False {'current_scan_id': 100037}\n",
      "0.1 False {'current_scan_id': 100038}\n",
      "0.1 False {'current_scan_id': 100039}\n",
      "0.1 False {'current_scan_id': 100040}\n",
      "0.1 False {'current_scan_id': 100041}\n",
      "0.1 False {'current_scan_id': 100042}\n",
      "0.1 False {'current_scan_id': 100043}\n",
      "0.1 False {'current_scan_id': 100044}\n",
      "0.1 False {'current_scan_id': 100045}\n",
      "0.1 False {'current_scan_id': 100046}\n",
      "0.1 False {'current_scan_id': 100047}\n",
      "0.1 False {'current_scan_id': 100048}\n",
      "0.1 False {'current_scan_id': 100049}\n",
      "0.1 False {'current_scan_id': 100050}\n",
      "0.1 False {'current_scan_id': 100051}\n",
      "0.1 False {'current_scan_id': 100052}\n",
      "0.1 False {'current_scan_id': 100053}\n",
      "0.1 False {'current_scan_id': 100054}\n",
      "0.1 False {'current_scan_id': 100055}\n",
      "0.1 False {'current_scan_id': 100056}\n",
      "0.1 False {'current_scan_id': 100057}\n",
      "0.1 False {'current_scan_id': 100058}\n",
      "0.1 False {'current_scan_id': 100059}\n",
      "0.1 False {'current_scan_id': 100060}\n",
      "0.1 False {'current_scan_id': 100061}\n",
      "0.1 False {'current_scan_id': 100062}\n",
      "0.1 False {'current_scan_id': 100063}\n",
      "0.1 False {'current_scan_id': 100064}\n",
      "0.1 False {'current_scan_id': 100065}\n",
      "0.1 False {'current_scan_id': 100066}\n",
      "0.1 False {'current_scan_id': 100067}\n",
      "0.1 False {'current_scan_id': 100068}\n",
      "0.1 False {'current_scan_id': 100069}\n",
      "0.1 False {'current_scan_id': 100070}\n",
      "0.1 False {'current_scan_id': 100071}\n",
      "0.1 False {'current_scan_id': 100072}\n",
      "0.1 False {'current_scan_id': 100073}\n",
      "0.1 False {'current_scan_id': 100074}\n",
      "0.1 False {'current_scan_id': 100075}\n",
      "0.1 False {'current_scan_id': 100076}\n",
      "0.1 False {'current_scan_id': 100077}\n",
      "0.1 False {'current_scan_id': 100078}\n",
      "0.1 False {'current_scan_id': 100079}\n",
      "0.1 False {'current_scan_id': 100080}\n",
      "0.1 False {'current_scan_id': 100081}\n",
      "0.1 False {'current_scan_id': 100082}\n",
      "0.1 False {'current_scan_id': 100083}\n",
      "0.1 False {'current_scan_id': 100084}\n",
      "0.1 False {'current_scan_id': 100085}\n",
      "0.1 False {'current_scan_id': 100086}\n",
      "0.1 False {'current_scan_id': 100087}\n",
      "0.1 False {'current_scan_id': 100088}\n",
      "0.1 False {'current_scan_id': 100089}\n",
      "0.1 False {'current_scan_id': 100090}\n",
      "0.1 False {'current_scan_id': 100091}\n",
      "0.1 False {'current_scan_id': 100092}\n",
      "0.1 False {'current_scan_id': 100093}\n",
      "0.1 False {'current_scan_id': 100094}\n",
      "0.1 False {'current_scan_id': 100095}\n",
      "0.1 False {'current_scan_id': 100096}\n",
      "0.1 False {'current_scan_id': 100097}\n",
      "0.1 False {'current_scan_id': 100098}\n",
      "0.1 False {'current_scan_id': 100099}\n",
      "0.1 False {'current_scan_id': 100100}\n",
      "0.1 False {'current_scan_id': 100101}\n",
      "0.1 False {'current_scan_id': 100102}\n",
      "0.1 False {'current_scan_id': 100103}\n",
      "0.1 False {'current_scan_id': 100104}\n",
      "0.1 False {'current_scan_id': 100105}\n",
      "0.1 False {'current_scan_id': 100106}\n",
      "0.1 False {'current_scan_id': 100107}\n",
      "0.1 False {'current_scan_id': 100108}\n",
      "0.1 False {'current_scan_id': 100109}\n",
      "0.1 False {'current_scan_id': 100110}\n",
      "0.1 False {'current_scan_id': 100111}\n",
      "0.1 False {'current_scan_id': 100112}\n",
      "0.1 False {'current_scan_id': 100113}\n",
      "0.1 False {'current_scan_id': 100114}\n",
      "0.1 False {'current_scan_id': 100115}\n",
      "0.1 False {'current_scan_id': 100116}\n",
      "0.1 False {'current_scan_id': 100117}\n",
      "0.1 False {'current_scan_id': 100118}\n",
      "0.1 False {'current_scan_id': 100119}\n",
      "0.1 False {'current_scan_id': 100120}\n",
      "0.1 False {'current_scan_id': 100121}\n",
      "0.1 False {'current_scan_id': 100122}\n",
      "0.1 False {'current_scan_id': 100123}\n",
      "0.1 False {'current_scan_id': 100124}\n",
      "0.1 False {'current_scan_id': 100125}\n",
      "0.1 False {'current_scan_id': 100126}\n",
      "0.1 False {'current_scan_id': 100127}\n",
      "0.1 False {'current_scan_id': 100128}\n",
      "0.1 False {'current_scan_id': 100129}\n",
      "0.1 False {'current_scan_id': 100130}\n",
      "0.1 False {'current_scan_id': 100131}\n",
      "0.1 False {'current_scan_id': 100132}\n",
      "0.1 False {'current_scan_id': 100133}\n",
      "0.1 False {'current_scan_id': 100134}\n",
      "0.1 False {'current_scan_id': 100135}\n",
      "0.1 False {'current_scan_id': 100136}\n",
      "0.1 False {'current_scan_id': 100137}\n",
      "0.1 False {'current_scan_id': 100138}\n",
      "0.1 False {'current_scan_id': 100139}\n",
      "0.1 False {'current_scan_id': 100140}\n",
      "0.1 False {'current_scan_id': 100141}\n",
      "0.1 False {'current_scan_id': 100142}\n",
      "0.1 False {'current_scan_id': 100143}\n",
      "0.1 False {'current_scan_id': 100144}\n",
      "0.1 False {'current_scan_id': 100145}\n",
      "0.1 False {'current_scan_id': 100146}\n",
      "0.1 False {'current_scan_id': 100147}\n",
      "0.1 False {'current_scan_id': 100148}\n",
      "0.1 False {'current_scan_id': 100149}\n",
      "0.1 False {'current_scan_id': 100150}\n",
      "0.1 False {'current_scan_id': 100151}\n",
      "0.1 False {'current_scan_id': 100152}\n",
      "0.1 False {'current_scan_id': 100153}\n",
      "0.1 False {'current_scan_id': 100154}\n",
      "0.1 False {'current_scan_id': 100155}\n",
      "0.1 False {'current_scan_id': 100156}\n",
      "0.1 False {'current_scan_id': 100157}\n",
      "0.1 False {'current_scan_id': 100158}\n",
      "0.1 False {'current_scan_id': 100159}\n",
      "0.1 False {'current_scan_id': 100160}\n",
      "0.1 False {'current_scan_id': 100161}\n",
      "0.1 False {'current_scan_id': 100162}\n",
      "0.1 False {'current_scan_id': 100163}\n",
      "0.1 False {'current_scan_id': 100164}\n",
      "0.1 False {'current_scan_id': 100165}\n",
      "0.1 False {'current_scan_id': 100166}\n",
      "0.1 False {'current_scan_id': 100167}\n",
      "0.1 False {'current_scan_id': 100168}\n",
      "0.1 False {'current_scan_id': 100169}\n",
      "0.1 False {'current_scan_id': 100170}\n",
      "0.1 False {'current_scan_id': 100171}\n",
      "0.1 False {'current_scan_id': 100172}\n",
      "0.1 False {'current_scan_id': 100173}\n",
      "0.1 False {'current_scan_id': 100174}\n",
      "0.1 False {'current_scan_id': 100175}\n",
      "0.1 False {'current_scan_id': 100176}\n",
      "0.1 False {'current_scan_id': 100177}\n",
      "0.1 False {'current_scan_id': 100178}\n",
      "0.1 False {'current_scan_id': 100179}\n",
      "0.1 False {'current_scan_id': 100180}\n",
      "0.1 False {'current_scan_id': 100181}\n",
      "0.1 False {'current_scan_id': 100182}\n",
      "0.1 False {'current_scan_id': 100183}\n",
      "0.1 False {'current_scan_id': 100184}\n",
      "0.1 False {'current_scan_id': 100185}\n",
      "0.1 False {'current_scan_id': 100186}\n",
      "0.1 False {'current_scan_id': 100187}\n",
      "0.1 False {'current_scan_id': 100188}\n",
      "0.1 False {'current_scan_id': 100189}\n",
      "0.1 False {'current_scan_id': 100190}\n",
      "0.1 False {'current_scan_id': 100191}\n",
      "0.1 False {'current_scan_id': 100192}\n",
      "0.1 False {'current_scan_id': 100193}\n",
      "0.1 False {'current_scan_id': 100194}\n",
      "0.1 False {'current_scan_id': 100195}\n",
      "0.1 False {'current_scan_id': 100196}\n",
      "0.1 False {'current_scan_id': 100197}\n",
      "0.1 False {'current_scan_id': 100198}\n",
      "0.1 False {'current_scan_id': 100199}\n",
      "0.1 False {'current_scan_id': 100200}\n",
      "0.1 False {'current_scan_id': 100201}\n",
      "0.1 False {'current_scan_id': 100202}\n",
      "0.1 False {'current_scan_id': 100203}\n",
      "0.1 False {'current_scan_id': 100204}\n",
      "0.1 False {'current_scan_id': 100205}\n",
      "0.1 False {'current_scan_id': 100206}\n",
      "0.1 False {'current_scan_id': 100207}\n",
      "0.1 False {'current_scan_id': 100208}\n",
      "0.1 False {'current_scan_id': 100209}\n",
      "0.1 False {'current_scan_id': 100210}\n",
      "0.1 False {'current_scan_id': 100211}\n",
      "0.1 False {'current_scan_id': 100212}\n",
      "0.1 False {'current_scan_id': 100213}\n",
      "0.1 False {'current_scan_id': 100214}\n",
      "0.1 False {'current_scan_id': 100215}\n",
      "0.1 False {'current_scan_id': 100216}\n",
      "0.1 False {'current_scan_id': 100217}\n",
      "0.1 False {'current_scan_id': 100218}\n",
      "0.1 False {'current_scan_id': 100219}\n",
      "0.1 False {'current_scan_id': 100220}\n",
      "0.1 False {'current_scan_id': 100221}\n",
      "0.1 False {'current_scan_id': 100222}\n",
      "0.1 False {'current_scan_id': 100223}\n",
      "0.1 False {'current_scan_id': 100224}\n",
      "0.1 False {'current_scan_id': 100225}\n",
      "0.1 False {'current_scan_id': 100226}\n",
      "0.1 False {'current_scan_id': 100227}\n",
      "0.1 False {'current_scan_id': 100228}\n",
      "0.1 False {'current_scan_id': 100229}\n",
      "0.1 False {'current_scan_id': 100230}\n",
      "0.1 False {'current_scan_id': 100231}\n",
      "0.1 False {'current_scan_id': 100232}\n",
      "0.1 False {'current_scan_id': 100233}\n",
      "0.1 False {'current_scan_id': 100234}\n",
      "0.1 False {'current_scan_id': 100235}\n",
      "0.1 False {'current_scan_id': 100236}\n",
      "0.1 False {'current_scan_id': 100237}\n",
      "0.1 False {'current_scan_id': 100238}\n",
      "0.1 False {'current_scan_id': 100239}\n",
      "0.1 False {'current_scan_id': 100240}\n",
      "0.1 False {'current_scan_id': 100241}\n",
      "0.1 False {'current_scan_id': 100242}\n",
      "0.1 False {'current_scan_id': 100243}\n",
      "0.1 False {'current_scan_id': 100244}\n",
      "0.1 False {'current_scan_id': 100245}\n",
      "0.1 False {'current_scan_id': 100246}\n",
      "0.1 False {'current_scan_id': 100247}\n",
      "0.1 False {'current_scan_id': 100248}\n",
      "0.1 False {'current_scan_id': 100249}\n",
      "-100.0 True {'current_scan_id': 100250}\n",
      "reward -100.0\n",
      "done True\n"
     ]
    }
   ],
   "source": [
    "env.reset()\n",
    "for i in range(1000):\n",
    "    action = max_peaks  # ms1\n",
    "    observation, reward, done, info = env.step(action)\n",
    "    print(reward, done, info)\n",
    "    if done:\n",
    "        break\n",
    "\n",
    "print('reward', reward)\n",
    "print('done', done)"
   ]
  }
 ],
 "metadata": {
  "kernelspec": {
   "display_name": "Python 3 (ipykernel)",
   "language": "python",
   "name": "python3"
  },
  "language_info": {
   "codemirror_mode": {
    "name": "ipython",
    "version": 3
   },
   "file_extension": ".py",
   "mimetype": "text/x-python",
   "name": "python",
   "nbconvert_exporter": "python",
   "pygments_lexer": "ipython3",
   "version": "3.9.12"
  },
  "vscode": {
   "interpreter": {
    "hash": "b0fa6594d8f4cbf19f97940f81e996739fb7646882a419484c72d19e05852a7e"
   }
  }
 },
 "nbformat": 4,
 "nbformat_minor": 4
}
