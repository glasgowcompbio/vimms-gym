{
 "cells": [
  {
   "cell_type": "markdown",
   "metadata": {
    "pycharm": {
     "name": "#%% md\n"
    }
   },
   "source": [
    "# Training and parameter optimisation notebook"
   ]
  },
  {
   "cell_type": "code",
   "execution_count": 1,
   "metadata": {
    "execution": {
     "iopub.execute_input": "2022-08-16T17:18:49.571839Z",
     "iopub.status.busy": "2022-08-16T17:18:49.570904Z",
     "iopub.status.idle": "2022-08-16T17:18:50.453882Z",
     "shell.execute_reply": "2022-08-16T17:18:50.453141Z",
     "shell.execute_reply.started": "2022-08-16T17:18:49.571726Z"
    },
    "pycharm": {
     "name": "#%%\n"
    },
    "tags": []
   },
   "outputs": [],
   "source": [
    "%matplotlib inline\n",
    "\n",
    "%load_ext autoreload\n",
    "%autoreload 2"
   ]
  },
  {
   "cell_type": "code",
   "execution_count": 2,
   "metadata": {
    "execution": {
     "iopub.execute_input": "2022-08-16T17:18:50.455651Z",
     "iopub.status.busy": "2022-08-16T17:18:50.455136Z",
     "iopub.status.idle": "2022-08-16T17:18:50.466821Z",
     "shell.execute_reply": "2022-08-16T17:18:50.466299Z",
     "shell.execute_reply.started": "2022-08-16T17:18:50.455628Z"
    },
    "pycharm": {
     "name": "#%%\n"
    }
   },
   "outputs": [],
   "source": [
    "import os\n",
    "import sys\n",
    "\n",
    "sys.path.append('.')"
   ]
  },
  {
   "cell_type": "code",
   "execution_count": 3,
   "metadata": {
    "execution": {
     "iopub.execute_input": "2022-08-16T17:18:50.467993Z",
     "iopub.status.busy": "2022-08-16T17:18:50.467818Z",
     "iopub.status.idle": "2022-08-16T17:18:51.531335Z",
     "shell.execute_reply": "2022-08-16T17:18:51.530616Z",
     "shell.execute_reply.started": "2022-08-16T17:18:50.467962Z"
    },
    "pycharm": {
     "name": "#%%\n"
    }
   },
   "outputs": [],
   "source": [
    "from vimms.Common import create_if_not_exist, save_obj\n",
    "from vimms_gym.common import METHOD_PPO, METHOD_PPO_RECURRENT, METHOD_DQN, ALPHA, BETA, EVAL_METRIC_REWARD, \\\n",
    "    EVAL_METRIC_F1, EVAL_METRIC_COVERAGE_PROP, EVAL_METRIC_INTENSITY_PROP, \\\n",
    "    EVAL_METRIC_MS1_MS2_RATIO, EVAL_METRIC_EFFICIENCY\n",
    "from experiments import preset_qcb_small, ENV_QCB_SMALL_GAUSSIAN, ENV_QCB_MEDIUM_GAUSSIAN, \\\n",
    "    ENV_QCB_LARGE_GAUSSIAN, ENV_QCB_SMALL_EXTRACTED, ENV_QCB_MEDIUM_EXTRACTED, \\\n",
    "    ENV_QCB_LARGE_EXTRACTED, preset_qcb_medium, preset_qcb_large"
   ]
  },
  {
   "cell_type": "code",
   "execution_count": 4,
   "metadata": {
    "execution": {
     "iopub.execute_input": "2022-08-16T17:18:51.533046Z",
     "iopub.status.busy": "2022-08-16T17:18:51.532860Z",
     "iopub.status.idle": "2022-08-16T17:18:53.530439Z",
     "shell.execute_reply": "2022-08-16T17:18:53.529653Z",
     "shell.execute_reply.started": "2022-08-16T17:18:51.533025Z"
    },
    "pycharm": {
     "name": "#%%\n"
    }
   },
   "outputs": [],
   "source": [
    "from training import train, tune"
   ]
  },
  {
   "cell_type": "markdown",
   "metadata": {
    "pycharm": {
     "name": "#%% md\n"
    }
   },
   "source": [
    "### Parameters"
   ]
  },
  {
   "cell_type": "code",
   "execution_count": 5,
   "metadata": {
    "execution": {
     "iopub.execute_input": "2022-08-16T17:18:53.531836Z",
     "iopub.status.busy": "2022-08-16T17:18:53.531648Z",
     "iopub.status.idle": "2022-08-16T17:18:53.570306Z",
     "shell.execute_reply": "2022-08-16T17:18:53.569124Z",
     "shell.execute_reply.started": "2022-08-16T17:18:53.531815Z"
    },
    "pycharm": {
     "name": "#%%\n"
    }
   },
   "outputs": [],
   "source": [
    "# preset = 'QCB_chems_small'\n",
    "# timesteps = 1E5\n",
    "# n_trials = 30\n",
    "# n_eval_episodes = 10\n",
    "# eval_freq = 5E4\n",
    "# eval_metric = EVAL_METRIC_REWARD"
   ]
  },
  {
   "cell_type": "code",
   "execution_count": 6,
   "metadata": {
    "collapsed": false,
    "execution": {
     "iopub.execute_input": "2022-08-16T17:18:53.572510Z",
     "iopub.status.busy": "2022-08-16T17:18:53.571532Z",
     "iopub.status.idle": "2022-08-16T17:18:53.607511Z",
     "shell.execute_reply": "2022-08-16T17:18:53.606893Z",
     "shell.execute_reply.started": "2022-08-16T17:18:53.572478Z"
    },
    "jupyter": {
     "outputs_hidden": false
    },
    "pycharm": {
     "name": "#%%\n"
    }
   },
   "outputs": [],
   "source": [
    "preset = 'QCB_resimulated_medium'\n",
    "timesteps = 5E5\n",
    "n_trials = 18\n",
    "n_eval_episodes = 5\n",
    "eval_freq = 1E5\n",
    "eval_metric = EVAL_METRIC_REWARD"
   ]
  },
  {
   "cell_type": "code",
   "execution_count": 7,
   "metadata": {
    "collapsed": false,
    "execution": {
     "iopub.execute_input": "2022-08-16T17:18:53.609342Z",
     "iopub.status.busy": "2022-08-16T17:18:53.608675Z",
     "iopub.status.idle": "2022-08-16T17:18:53.646592Z",
     "shell.execute_reply": "2022-08-16T17:18:53.645781Z",
     "shell.execute_reply.started": "2022-08-16T17:18:53.609314Z"
    },
    "jupyter": {
     "outputs_hidden": false
    },
    "pycharm": {
     "name": "#%%\n"
    }
   },
   "outputs": [],
   "source": [
    "tune_model = True\n",
    "tune_reward = False\n",
    "alpha = 0.25\n",
    "beta = 0.00"
   ]
  },
  {
   "cell_type": "code",
   "execution_count": 8,
   "metadata": {
    "collapsed": false,
    "execution": {
     "iopub.execute_input": "2022-08-16T17:18:53.648299Z",
     "iopub.status.busy": "2022-08-16T17:18:53.647738Z",
     "iopub.status.idle": "2022-08-16T17:18:53.684105Z",
     "shell.execute_reply": "2022-08-16T17:18:53.683419Z",
     "shell.execute_reply.started": "2022-08-16T17:18:53.648274Z"
    },
    "jupyter": {
     "outputs_hidden": false
    },
    "pycharm": {
     "name": "#%%\n"
    }
   },
   "outputs": [],
   "source": [
    "results = os.path.join('tune', eval_metric, preset)\n",
    "verbose = 0\n",
    "model_name = METHOD_PPO_RECURRENT"
   ]
  },
  {
   "cell_type": "code",
   "execution_count": 9,
   "metadata": {
    "execution": {
     "iopub.execute_input": "2022-08-16T17:18:53.685711Z",
     "iopub.status.busy": "2022-08-16T17:18:53.685291Z",
     "iopub.status.idle": "2022-08-16T17:18:53.725722Z",
     "shell.execute_reply": "2022-08-16T17:18:53.724865Z",
     "shell.execute_reply.started": "2022-08-16T17:18:53.685678Z"
    },
    "pycharm": {
     "name": "#%%\n"
    }
   },
   "outputs": [],
   "source": [
    "if tune_reward:\n",
    "    alpha = None\n",
    "    beta = None\n",
    "    out_dir = os.path.abspath(os.path.join(results, 'results', model_name))\n",
    "else:\n",
    "    out_dir = os.path.abspath(\n",
    "        os.path.join(results, 'results_alpha_%.2f_beta_%.2f' % (alpha, beta), model_name))\n",
    "create_if_not_exist(out_dir)"
   ]
  },
  {
   "cell_type": "code",
   "execution_count": 10,
   "metadata": {
    "execution": {
     "iopub.execute_input": "2022-08-16T17:18:53.728034Z",
     "iopub.status.busy": "2022-08-16T17:18:53.727795Z",
     "iopub.status.idle": "2022-08-16T17:18:53.796099Z",
     "shell.execute_reply": "2022-08-16T17:18:53.795432Z",
     "shell.execute_reply.started": "2022-08-16T17:18:53.728007Z"
    },
    "pycharm": {
     "name": "#%%\n"
    }
   },
   "outputs": [
    {
     "name": "stderr",
     "output_type": "stream",
     "text": [
      "2022-08-16 17:18:53.762 | INFO     | experiments:get_samplers:229 - Loaded /notebooks/vimms-gym/pickles/samplers_QCB_medium_extracted.p\n"
     ]
    }
   ],
   "source": [
    "presets = {\n",
    "    ENV_QCB_SMALL_GAUSSIAN: {'f': preset_qcb_small, 'extract': False},\n",
    "    ENV_QCB_MEDIUM_GAUSSIAN: {'f': preset_qcb_medium, 'extract': False},\n",
    "    ENV_QCB_LARGE_GAUSSIAN: {'f': preset_qcb_large, 'extract': False},\n",
    "    ENV_QCB_SMALL_EXTRACTED: {'f': preset_qcb_small, 'extract': True},\n",
    "    ENV_QCB_MEDIUM_EXTRACTED: {'f': preset_qcb_medium, 'extract': True},\n",
    "    ENV_QCB_LARGE_EXTRACTED: {'f': preset_qcb_large, 'extract': True},\n",
    "}\n",
    "preset_func = presets[preset]['f']\n",
    "extract = presets[preset]['extract']\n",
    "params, max_peaks = preset_func(model_name, alpha=alpha, beta=beta,\n",
    "                                extract_chromatograms=extract)"
   ]
  },
  {
   "cell_type": "code",
   "execution_count": 11,
   "metadata": {
    "execution": {
     "iopub.execute_input": "2022-08-16T17:18:53.797806Z",
     "iopub.status.busy": "2022-08-16T17:18:53.797560Z",
     "iopub.status.idle": "2022-08-16T20:11:37.860859Z",
     "shell.execute_reply": "2022-08-16T20:11:37.859760Z",
     "shell.execute_reply.started": "2022-08-16T17:18:53.797777Z"
    },
    "pycharm": {
     "name": "#%%\n"
    }
   },
   "outputs": [
    {
     "name": "stderr",
     "output_type": "stream",
     "text": [
      "2022-08-16 17:18:53.838 | INFO     | training:tune:73 - Doing 5 intermediate evaluations for pruning based on the number of timesteps. (1 evaluation every 100000 timesteps) after 5 startup trials\n",
      "\u001b[32m[I 2022-08-16 17:18:54,158]\u001b[0m Using an existing study with name 'RecurrentPPO' instead of creating a new one.\u001b[0m\n",
      "Process ForkServerProcess-2:\n",
      "Traceback (most recent call last):\n",
      "  File \"/opt/conda/lib/python3.8/multiprocessing/process.py\", line 315, in _bootstrap\n",
      "    self.run()\n",
      "  File \"/opt/conda/lib/python3.8/multiprocessing/process.py\", line 108, in run\n",
      "    self._target(*self._args, **self._kwargs)\n",
      "  File \"/opt/conda/lib/python3.8/site-packages/stable_baselines3/common/vec_env/subproc_vec_env.py\", line 27, in _worker\n",
      "    cmd, data = remote.recv()\n",
      "  File \"/opt/conda/lib/python3.8/multiprocessing/connection.py\", line 250, in recv\n",
      "    buf = self._recv_bytes()\n",
      "  File \"/opt/conda/lib/python3.8/multiprocessing/connection.py\", line 414, in _recv_bytes\n",
      "    buf = self._recv(4)\n",
      "  File \"/opt/conda/lib/python3.8/multiprocessing/connection.py\", line 379, in _recv\n",
      "    chunk = read(handle, remaining)\n",
      "KeyboardInterrupt\n",
      "Process ForkServerProcess-15:\n",
      "Traceback (most recent call last):\n",
      "  File \"/opt/conda/lib/python3.8/multiprocessing/process.py\", line 315, in _bootstrap\n",
      "    self.run()\n",
      "  File \"/opt/conda/lib/python3.8/multiprocessing/process.py\", line 108, in run\n",
      "    self._target(*self._args, **self._kwargs)\n",
      "  File \"/opt/conda/lib/python3.8/site-packages/stable_baselines3/common/vec_env/subproc_vec_env.py\", line 27, in _worker\n",
      "    cmd, data = remote.recv()\n",
      "  File \"/opt/conda/lib/python3.8/multiprocessing/connection.py\", line 250, in recv\n",
      "    buf = self._recv_bytes()\n",
      "  File \"/opt/conda/lib/python3.8/multiprocessing/connection.py\", line 414, in _recv_bytes\n",
      "    buf = self._recv(4)\n",
      "  File \"/opt/conda/lib/python3.8/multiprocessing/connection.py\", line 379, in _recv\n",
      "    chunk = read(handle, remaining)\n",
      "KeyboardInterrupt\n",
      "Process ForkServerProcess-6:\n",
      "Traceback (most recent call last):\n",
      "  File \"/opt/conda/lib/python3.8/multiprocessing/process.py\", line 315, in _bootstrap\n",
      "    self.run()\n",
      "  File \"/opt/conda/lib/python3.8/multiprocessing/process.py\", line 108, in run\n",
      "    self._target(*self._args, **self._kwargs)\n",
      "  File \"/opt/conda/lib/python3.8/site-packages/stable_baselines3/common/vec_env/subproc_vec_env.py\", line 27, in _worker\n",
      "    cmd, data = remote.recv()\n",
      "  File \"/opt/conda/lib/python3.8/multiprocessing/connection.py\", line 250, in recv\n",
      "    buf = self._recv_bytes()\n",
      "  File \"/opt/conda/lib/python3.8/multiprocessing/connection.py\", line 414, in _recv_bytes\n",
      "    buf = self._recv(4)\n",
      "  File \"/opt/conda/lib/python3.8/multiprocessing/connection.py\", line 379, in _recv\n",
      "    chunk = read(handle, remaining)\n",
      "KeyboardInterrupt\n",
      "Process ForkServerProcess-1:\n",
      "Traceback (most recent call last):\n",
      "  File \"/opt/conda/lib/python3.8/multiprocessing/process.py\", line 315, in _bootstrap\n",
      "    self.run()\n",
      "  File \"/opt/conda/lib/python3.8/multiprocessing/process.py\", line 108, in run\n",
      "    self._target(*self._args, **self._kwargs)\n",
      "  File \"/opt/conda/lib/python3.8/site-packages/stable_baselines3/common/vec_env/subproc_vec_env.py\", line 27, in _worker\n",
      "    cmd, data = remote.recv()\n",
      "  File \"/opt/conda/lib/python3.8/multiprocessing/connection.py\", line 250, in recv\n",
      "    buf = self._recv_bytes()\n",
      "  File \"/opt/conda/lib/python3.8/multiprocessing/connection.py\", line 414, in _recv_bytes\n",
      "    buf = self._recv(4)\n",
      "  File \"/opt/conda/lib/python3.8/multiprocessing/connection.py\", line 379, in _recv\n",
      "    chunk = read(handle, remaining)\n",
      "KeyboardInterrupt\n",
      "Process ForkServerProcess-19:\n",
      "Traceback (most recent call last):\n",
      "  File \"/opt/conda/lib/python3.8/multiprocessing/process.py\", line 315, in _bootstrap\n",
      "    self.run()\n",
      "  File \"/opt/conda/lib/python3.8/multiprocessing/process.py\", line 108, in run\n",
      "    self._target(*self._args, **self._kwargs)\n",
      "  File \"/opt/conda/lib/python3.8/site-packages/stable_baselines3/common/vec_env/subproc_vec_env.py\", line 27, in _worker\n",
      "    cmd, data = remote.recv()\n",
      "  File \"/opt/conda/lib/python3.8/multiprocessing/connection.py\", line 250, in recv\n",
      "    buf = self._recv_bytes()\n",
      "  File \"/opt/conda/lib/python3.8/multiprocessing/connection.py\", line 414, in _recv_bytes\n",
      "    buf = self._recv(4)\n",
      "  File \"/opt/conda/lib/python3.8/multiprocessing/connection.py\", line 379, in _recv\n",
      "    chunk = read(handle, remaining)\n",
      "KeyboardInterrupt\n",
      "Process ForkServerProcess-9:\n",
      "Traceback (most recent call last):\n",
      "  File \"/opt/conda/lib/python3.8/multiprocessing/process.py\", line 315, in _bootstrap\n",
      "    self.run()\n",
      "  File \"/opt/conda/lib/python3.8/multiprocessing/process.py\", line 108, in run\n",
      "    self._target(*self._args, **self._kwargs)\n",
      "  File \"/opt/conda/lib/python3.8/site-packages/stable_baselines3/common/vec_env/subproc_vec_env.py\", line 27, in _worker\n",
      "    cmd, data = remote.recv()\n",
      "  File \"/opt/conda/lib/python3.8/multiprocessing/connection.py\", line 250, in recv\n",
      "    buf = self._recv_bytes()\n",
      "  File \"/opt/conda/lib/python3.8/multiprocessing/connection.py\", line 414, in _recv_bytes\n",
      "    buf = self._recv(4)\n",
      "  File \"/opt/conda/lib/python3.8/multiprocessing/connection.py\", line 379, in _recv\n",
      "    chunk = read(handle, remaining)\n",
      "KeyboardInterrupt\n",
      "Process ForkServerProcess-7:\n",
      "Traceback (most recent call last):\n",
      "  File \"/opt/conda/lib/python3.8/multiprocessing/process.py\", line 315, in _bootstrap\n",
      "    self.run()\n",
      "  File \"/opt/conda/lib/python3.8/multiprocessing/process.py\", line 108, in run\n",
      "    self._target(*self._args, **self._kwargs)\n",
      "  File \"/opt/conda/lib/python3.8/site-packages/stable_baselines3/common/vec_env/subproc_vec_env.py\", line 27, in _worker\n",
      "    cmd, data = remote.recv()\n",
      "  File \"/opt/conda/lib/python3.8/multiprocessing/connection.py\", line 250, in recv\n",
      "    buf = self._recv_bytes()\n",
      "  File \"/opt/conda/lib/python3.8/multiprocessing/connection.py\", line 414, in _recv_bytes\n",
      "    buf = self._recv(4)\n",
      "  File \"/opt/conda/lib/python3.8/multiprocessing/connection.py\", line 379, in _recv\n",
      "    chunk = read(handle, remaining)\n",
      "KeyboardInterrupt\n",
      "Process ForkServerProcess-5:\n",
      "Traceback (most recent call last):\n",
      "  File \"/opt/conda/lib/python3.8/multiprocessing/process.py\", line 315, in _bootstrap\n",
      "    self.run()\n",
      "  File \"/opt/conda/lib/python3.8/multiprocessing/process.py\", line 108, in run\n",
      "    self._target(*self._args, **self._kwargs)\n",
      "  File \"/opt/conda/lib/python3.8/site-packages/stable_baselines3/common/vec_env/subproc_vec_env.py\", line 29, in _worker\n",
      "    observation, reward, done, info = env.step(data)\n",
      "  File \"/opt/conda/lib/python3.8/site-packages/stable_baselines3/common/monitor.py\", line 90, in step\n",
      "    observation, reward, done, info = self.env.step(action)\n",
      "  File \"/notebooks/vimms-gym/vimms_gym/env.py\", line 421, in step\n",
      "    self.state = self._get_state(next_scan, dda_action)\n",
      "  File \"/notebooks/vimms-gym/vimms_gym/env.py\", line 147, in _get_state\n",
      "    state = self._scan_to_state(dda_action, scan_to_process)\n",
      "  File \"/notebooks/vimms-gym/vimms_gym/env.py\", line 244, in _scan_to_state\n",
      "    excluded = self._get_elapsed_time_since_exclusion(f.mz, current_rt)\n",
      "  File \"/notebooks/vimms-gym/vimms_gym/env.py\", line 337, in _get_elapsed_time_since_exclusion\n",
      "    boxes = self.exclusion.exclusion_list.check_point(mz, current_rt)\n",
      "  File \"/opt/conda/lib/python3.8/site-packages/vimms/Exclusion.py\", line 145, in check_point\n",
      "    regions = self.boxes_mz.at(mz)\n",
      "  File \"/opt/conda/lib/python3.8/site-packages/intervaltree/intervaltree.py\", line 800, in at\n",
      "    return root.search_point(p, set())\n",
      "  File \"/opt/conda/lib/python3.8/site-packages/intervaltree/node.py\", line 315, in search_point\n",
      "    result.add(k)\n",
      "  File \"/opt/conda/lib/python3.8/site-packages/intervaltree/interval.py\", line 170, in __eq__\n",
      "    self.data == other.data\n",
      "KeyboardInterrupt\n",
      "Process ForkServerProcess-8:\n",
      "Traceback (most recent call last):\n",
      "  File \"/opt/conda/lib/python3.8/multiprocessing/process.py\", line 315, in _bootstrap\n",
      "    self.run()\n",
      "  File \"/opt/conda/lib/python3.8/multiprocessing/process.py\", line 108, in run\n",
      "    self._target(*self._args, **self._kwargs)\n",
      "  File \"/opt/conda/lib/python3.8/site-packages/stable_baselines3/common/vec_env/subproc_vec_env.py\", line 27, in _worker\n",
      "    cmd, data = remote.recv()\n",
      "  File \"/opt/conda/lib/python3.8/multiprocessing/connection.py\", line 250, in recv\n",
      "    buf = self._recv_bytes()\n",
      "  File \"/opt/conda/lib/python3.8/multiprocessing/connection.py\", line 414, in _recv_bytes\n",
      "    buf = self._recv(4)\n",
      "  File \"/opt/conda/lib/python3.8/multiprocessing/connection.py\", line 379, in _recv\n",
      "    chunk = read(handle, remaining)\n",
      "KeyboardInterrupt\n",
      "Process ForkServerProcess-4:\n",
      "Traceback (most recent call last):\n",
      "  File \"/opt/conda/lib/python3.8/multiprocessing/process.py\", line 315, in _bootstrap\n",
      "    self.run()\n",
      "  File \"/opt/conda/lib/python3.8/multiprocessing/process.py\", line 108, in run\n",
      "    self._target(*self._args, **self._kwargs)\n",
      "  File \"/opt/conda/lib/python3.8/site-packages/stable_baselines3/common/vec_env/subproc_vec_env.py\", line 27, in _worker\n",
      "    cmd, data = remote.recv()\n",
      "  File \"/opt/conda/lib/python3.8/multiprocessing/connection.py\", line 250, in recv\n",
      "    buf = self._recv_bytes()\n",
      "  File \"/opt/conda/lib/python3.8/multiprocessing/connection.py\", line 414, in _recv_bytes\n",
      "    buf = self._recv(4)\n",
      "  File \"/opt/conda/lib/python3.8/multiprocessing/connection.py\", line 379, in _recv\n",
      "    chunk = read(handle, remaining)\n",
      "KeyboardInterrupt\n",
      "Process ForkServerProcess-18:\n",
      "Traceback (most recent call last):\n",
      "  File \"/opt/conda/lib/python3.8/multiprocessing/process.py\", line 315, in _bootstrap\n",
      "    self.run()\n",
      "  File \"/opt/conda/lib/python3.8/multiprocessing/process.py\", line 108, in run\n",
      "    self._target(*self._args, **self._kwargs)\n",
      "  File \"/opt/conda/lib/python3.8/site-packages/stable_baselines3/common/vec_env/subproc_vec_env.py\", line 29, in _worker\n",
      "    observation, reward, done, info = env.step(data)\n",
      "  File \"/opt/conda/lib/python3.8/site-packages/stable_baselines3/common/monitor.py\", line 90, in step\n",
      "    observation, reward, done, info = self.env.step(action)\n",
      "  File \"/notebooks/vimms-gym/vimms_gym/env.py\", line 421, in step\n",
      "    self.state = self._get_state(next_scan, dda_action)\n",
      "  File \"/notebooks/vimms-gym/vimms_gym/env.py\", line 147, in _get_state\n",
      "    state = self._scan_to_state(dda_action, scan_to_process)\n",
      "  File \"/notebooks/vimms-gym/vimms_gym/env.py\", line 244, in _scan_to_state\n",
      "    excluded = self._get_elapsed_time_since_exclusion(f.mz, current_rt)\n",
      "  File \"/notebooks/vimms-gym/vimms_gym/env.py\", line 337, in _get_elapsed_time_since_exclusion\n",
      "    boxes = self.exclusion.exclusion_list.check_point(mz, current_rt)\n",
      "  File \"/opt/conda/lib/python3.8/site-packages/vimms/Exclusion.py\", line 145, in check_point\n",
      "    regions = self.boxes_mz.at(mz)\n",
      "  File \"/opt/conda/lib/python3.8/site-packages/intervaltree/intervaltree.py\", line 800, in at\n",
      "    return root.search_point(p, set())\n",
      "  File \"/opt/conda/lib/python3.8/site-packages/intervaltree/node.py\", line 315, in search_point\n",
      "    result.add(k)\n",
      "  File \"/opt/conda/lib/python3.8/site-packages/intervaltree/interval.py\", line 159, in __eq__\n",
      "    def __eq__(self, other):\n",
      "KeyboardInterrupt\n",
      "Process ForkServerProcess-13:\n",
      "Traceback (most recent call last):\n",
      "  File \"/opt/conda/lib/python3.8/multiprocessing/process.py\", line 315, in _bootstrap\n",
      "    self.run()\n",
      "  File \"/opt/conda/lib/python3.8/multiprocessing/process.py\", line 108, in run\n",
      "    self._target(*self._args, **self._kwargs)\n",
      "  File \"/opt/conda/lib/python3.8/site-packages/stable_baselines3/common/vec_env/subproc_vec_env.py\", line 29, in _worker\n",
      "    observation, reward, done, info = env.step(data)\n",
      "  File \"/opt/conda/lib/python3.8/site-packages/stable_baselines3/common/monitor.py\", line 90, in step\n",
      "    observation, reward, done, info = self.env.step(action)\n",
      "  File \"/notebooks/vimms-gym/vimms_gym/env.py\", line 421, in step\n",
      "    self.state = self._get_state(next_scan, dda_action)\n",
      "  File \"/notebooks/vimms-gym/vimms_gym/env.py\", line 147, in _get_state\n",
      "    state = self._scan_to_state(dda_action, scan_to_process)\n",
      "  File \"/notebooks/vimms-gym/vimms_gym/env.py\", line 244, in _scan_to_state\n",
      "    excluded = self._get_elapsed_time_since_exclusion(f.mz, current_rt)\n",
      "  File \"/notebooks/vimms-gym/vimms_gym/env.py\", line 337, in _get_elapsed_time_since_exclusion\n",
      "    boxes = self.exclusion.exclusion_list.check_point(mz, current_rt)\n",
      "  File \"/opt/conda/lib/python3.8/site-packages/vimms/Exclusion.py\", line 145, in check_point\n",
      "    regions = self.boxes_mz.at(mz)\n",
      "  File \"/opt/conda/lib/python3.8/site-packages/intervaltree/intervaltree.py\", line 800, in at\n",
      "    return root.search_point(p, set())\n",
      "  File \"/opt/conda/lib/python3.8/site-packages/intervaltree/node.py\", line 315, in search_point\n",
      "    result.add(k)\n",
      "  File \"/opt/conda/lib/python3.8/site-packages/intervaltree/interval.py\", line 159, in __eq__\n",
      "    def __eq__(self, other):\n",
      "KeyboardInterrupt\n",
      "Process ForkServerProcess-3:\n",
      "Traceback (most recent call last):\n",
      "  File \"/opt/conda/lib/python3.8/multiprocessing/process.py\", line 315, in _bootstrap\n",
      "    self.run()\n",
      "  File \"/opt/conda/lib/python3.8/multiprocessing/process.py\", line 108, in run\n",
      "    self._target(*self._args, **self._kwargs)\n",
      "  File \"/opt/conda/lib/python3.8/site-packages/stable_baselines3/common/vec_env/subproc_vec_env.py\", line 27, in _worker\n",
      "    cmd, data = remote.recv()\n",
      "  File \"/opt/conda/lib/python3.8/multiprocessing/connection.py\", line 250, in recv\n",
      "    buf = self._recv_bytes()\n",
      "  File \"/opt/conda/lib/python3.8/multiprocessing/connection.py\", line 414, in _recv_bytes\n",
      "    buf = self._recv(4)\n",
      "  File \"/opt/conda/lib/python3.8/multiprocessing/connection.py\", line 379, in _recv\n",
      "    chunk = read(handle, remaining)\n",
      "KeyboardInterrupt\n",
      "Process ForkServerProcess-20:\n",
      "Traceback (most recent call last):\n",
      "  File \"/opt/conda/lib/python3.8/multiprocessing/process.py\", line 315, in _bootstrap\n",
      "    self.run()\n",
      "  File \"/opt/conda/lib/python3.8/multiprocessing/process.py\", line 108, in run\n",
      "    self._target(*self._args, **self._kwargs)\n",
      "  File \"/opt/conda/lib/python3.8/site-packages/stable_baselines3/common/vec_env/subproc_vec_env.py\", line 29, in _worker\n",
      "    observation, reward, done, info = env.step(data)\n",
      "  File \"/opt/conda/lib/python3.8/site-packages/stable_baselines3/common/monitor.py\", line 90, in step\n",
      "    observation, reward, done, info = self.env.step(action)\n",
      "  File \"/notebooks/vimms-gym/vimms_gym/env.py\", line 421, in step\n",
      "    self.state = self._get_state(next_scan, dda_action)\n",
      "  File \"/notebooks/vimms-gym/vimms_gym/env.py\", line 147, in _get_state\n",
      "    state = self._scan_to_state(dda_action, scan_to_process)\n",
      "  File \"/notebooks/vimms-gym/vimms_gym/env.py\", line 244, in _scan_to_state\n",
      "    excluded = self._get_elapsed_time_since_exclusion(f.mz, current_rt)\n",
      "  File \"/notebooks/vimms-gym/vimms_gym/env.py\", line 337, in _get_elapsed_time_since_exclusion\n",
      "    boxes = self.exclusion.exclusion_list.check_point(mz, current_rt)\n",
      "  File \"/opt/conda/lib/python3.8/site-packages/vimms/Exclusion.py\", line 145, in check_point\n",
      "    regions = self.boxes_mz.at(mz)\n",
      "  File \"/opt/conda/lib/python3.8/site-packages/intervaltree/intervaltree.py\", line 800, in at\n",
      "    return root.search_point(p, set())\n",
      "  File \"/opt/conda/lib/python3.8/site-packages/intervaltree/node.py\", line 315, in search_point\n",
      "    result.add(k)\n",
      "  File \"/opt/conda/lib/python3.8/site-packages/intervaltree/interval.py\", line 170, in __eq__\n",
      "    self.data == other.data\n",
      "KeyboardInterrupt\n",
      "Process ForkServerProcess-16:\n",
      "Traceback (most recent call last):\n",
      "  File \"/opt/conda/lib/python3.8/multiprocessing/process.py\", line 315, in _bootstrap\n",
      "    self.run()\n",
      "  File \"/opt/conda/lib/python3.8/multiprocessing/process.py\", line 108, in run\n",
      "    self._target(*self._args, **self._kwargs)\n",
      "  File \"/opt/conda/lib/python3.8/site-packages/stable_baselines3/common/vec_env/subproc_vec_env.py\", line 27, in _worker\n",
      "    cmd, data = remote.recv()\n",
      "  File \"/opt/conda/lib/python3.8/multiprocessing/connection.py\", line 250, in recv\n",
      "    buf = self._recv_bytes()\n",
      "  File \"/opt/conda/lib/python3.8/multiprocessing/connection.py\", line 414, in _recv_bytes\n",
      "    buf = self._recv(4)\n",
      "  File \"/opt/conda/lib/python3.8/multiprocessing/connection.py\", line 379, in _recv\n",
      "    chunk = read(handle, remaining)\n",
      "KeyboardInterrupt\n",
      "Process ForkServerProcess-10:\n",
      "Traceback (most recent call last):\n",
      "  File \"/opt/conda/lib/python3.8/multiprocessing/process.py\", line 315, in _bootstrap\n",
      "    self.run()\n",
      "  File \"/opt/conda/lib/python3.8/multiprocessing/process.py\", line 108, in run\n",
      "    self._target(*self._args, **self._kwargs)\n",
      "  File \"/opt/conda/lib/python3.8/site-packages/stable_baselines3/common/vec_env/subproc_vec_env.py\", line 29, in _worker\n",
      "    observation, reward, done, info = env.step(data)\n",
      "  File \"/opt/conda/lib/python3.8/site-packages/stable_baselines3/common/monitor.py\", line 90, in step\n",
      "    observation, reward, done, info = self.env.step(action)\n",
      "  File \"/notebooks/vimms-gym/vimms_gym/env.py\", line 421, in step\n",
      "    self.state = self._get_state(next_scan, dda_action)\n",
      "  File \"/notebooks/vimms-gym/vimms_gym/env.py\", line 147, in _get_state\n",
      "    state = self._scan_to_state(dda_action, scan_to_process)\n",
      "  File \"/notebooks/vimms-gym/vimms_gym/env.py\", line 244, in _scan_to_state\n",
      "    excluded = self._get_elapsed_time_since_exclusion(f.mz, current_rt)\n",
      "  File \"/notebooks/vimms-gym/vimms_gym/env.py\", line 337, in _get_elapsed_time_since_exclusion\n",
      "    boxes = self.exclusion.exclusion_list.check_point(mz, current_rt)\n",
      "  File \"/opt/conda/lib/python3.8/site-packages/vimms/Exclusion.py\", line 145, in check_point\n",
      "    regions = self.boxes_mz.at(mz)\n",
      "  File \"/opt/conda/lib/python3.8/site-packages/intervaltree/intervaltree.py\", line 800, in at\n",
      "    return root.search_point(p, set())\n",
      "  File \"/opt/conda/lib/python3.8/site-packages/intervaltree/node.py\", line 315, in search_point\n",
      "    result.add(k)\n",
      "  File \"/opt/conda/lib/python3.8/site-packages/intervaltree/interval.py\", line 169, in __eq__\n",
      "    self.end == other.end and\n",
      "KeyboardInterrupt\n",
      "Process ForkServerProcess-17:\n",
      "Traceback (most recent call last):\n",
      "  File \"/opt/conda/lib/python3.8/multiprocessing/process.py\", line 315, in _bootstrap\n",
      "    self.run()\n",
      "  File \"/opt/conda/lib/python3.8/multiprocessing/process.py\", line 108, in run\n",
      "    self._target(*self._args, **self._kwargs)\n",
      "  File \"/opt/conda/lib/python3.8/site-packages/stable_baselines3/common/vec_env/subproc_vec_env.py\", line 29, in _worker\n",
      "    observation, reward, done, info = env.step(data)\n",
      "  File \"/opt/conda/lib/python3.8/site-packages/stable_baselines3/common/monitor.py\", line 90, in step\n",
      "    observation, reward, done, info = self.env.step(action)\n",
      "  File \"/notebooks/vimms-gym/vimms_gym/env.py\", line 421, in step\n",
      "    self.state = self._get_state(next_scan, dda_action)\n",
      "  File \"/notebooks/vimms-gym/vimms_gym/env.py\", line 147, in _get_state\n",
      "    state = self._scan_to_state(dda_action, scan_to_process)\n",
      "  File \"/notebooks/vimms-gym/vimms_gym/env.py\", line 244, in _scan_to_state\n",
      "    excluded = self._get_elapsed_time_since_exclusion(f.mz, current_rt)\n",
      "  File \"/notebooks/vimms-gym/vimms_gym/env.py\", line 337, in _get_elapsed_time_since_exclusion\n",
      "    boxes = self.exclusion.exclusion_list.check_point(mz, current_rt)\n",
      "  File \"/opt/conda/lib/python3.8/site-packages/vimms/Exclusion.py\", line 145, in check_point\n",
      "    regions = self.boxes_mz.at(mz)\n",
      "  File \"/opt/conda/lib/python3.8/site-packages/intervaltree/intervaltree.py\", line 800, in at\n",
      "    return root.search_point(p, set())\n",
      "  File \"/opt/conda/lib/python3.8/site-packages/intervaltree/node.py\", line 315, in search_point\n",
      "    result.add(k)\n",
      "  File \"/opt/conda/lib/python3.8/site-packages/intervaltree/interval.py\", line 170, in __eq__\n",
      "    self.data == other.data\n",
      "KeyboardInterrupt\n",
      "Process ForkServerProcess-14:\n",
      "Traceback (most recent call last):\n",
      "  File \"/opt/conda/lib/python3.8/multiprocessing/process.py\", line 315, in _bootstrap\n",
      "    self.run()\n",
      "  File \"/opt/conda/lib/python3.8/multiprocessing/process.py\", line 108, in run\n",
      "    self._target(*self._args, **self._kwargs)\n",
      "  File \"/opt/conda/lib/python3.8/site-packages/stable_baselines3/common/vec_env/subproc_vec_env.py\", line 29, in _worker\n",
      "    observation, reward, done, info = env.step(data)\n",
      "  File \"/opt/conda/lib/python3.8/site-packages/stable_baselines3/common/monitor.py\", line 90, in step\n",
      "    observation, reward, done, info = self.env.step(action)\n",
      "  File \"/notebooks/vimms-gym/vimms_gym/env.py\", line 421, in step\n",
      "    self.state = self._get_state(next_scan, dda_action)\n",
      "  File \"/notebooks/vimms-gym/vimms_gym/env.py\", line 147, in _get_state\n",
      "    state = self._scan_to_state(dda_action, scan_to_process)\n",
      "  File \"/notebooks/vimms-gym/vimms_gym/env.py\", line 244, in _scan_to_state\n",
      "    excluded = self._get_elapsed_time_since_exclusion(f.mz, current_rt)\n",
      "  File \"/notebooks/vimms-gym/vimms_gym/env.py\", line 337, in _get_elapsed_time_since_exclusion\n",
      "    boxes = self.exclusion.exclusion_list.check_point(mz, current_rt)\n",
      "  File \"/opt/conda/lib/python3.8/site-packages/vimms/Exclusion.py\", line 145, in check_point\n",
      "    regions = self.boxes_mz.at(mz)\n",
      "  File \"/opt/conda/lib/python3.8/site-packages/intervaltree/intervaltree.py\", line 800, in at\n",
      "    return root.search_point(p, set())\n",
      "  File \"/opt/conda/lib/python3.8/site-packages/intervaltree/node.py\", line 315, in search_point\n",
      "    result.add(k)\n",
      "  File \"/opt/conda/lib/python3.8/site-packages/intervaltree/interval.py\", line 169, in __eq__\n",
      "    self.end == other.end and\n",
      "KeyboardInterrupt\n",
      "Process ForkServerProcess-11:\n",
      "Traceback (most recent call last):\n",
      "  File \"/opt/conda/lib/python3.8/multiprocessing/process.py\", line 315, in _bootstrap\n",
      "    self.run()\n",
      "  File \"/opt/conda/lib/python3.8/multiprocessing/process.py\", line 108, in run\n",
      "    self._target(*self._args, **self._kwargs)\n",
      "  File \"/opt/conda/lib/python3.8/site-packages/stable_baselines3/common/vec_env/subproc_vec_env.py\", line 27, in _worker\n",
      "    cmd, data = remote.recv()\n",
      "  File \"/opt/conda/lib/python3.8/multiprocessing/connection.py\", line 250, in recv\n",
      "    buf = self._recv_bytes()\n",
      "  File \"/opt/conda/lib/python3.8/multiprocessing/connection.py\", line 414, in _recv_bytes\n",
      "    buf = self._recv(4)\n",
      "  File \"/opt/conda/lib/python3.8/multiprocessing/connection.py\", line 379, in _recv\n",
      "    chunk = read(handle, remaining)\n",
      "KeyboardInterrupt\n",
      "Process ForkServerProcess-12:\n",
      "Traceback (most recent call last):\n",
      "  File \"/opt/conda/lib/python3.8/multiprocessing/process.py\", line 315, in _bootstrap\n",
      "    self.run()\n",
      "  File \"/opt/conda/lib/python3.8/multiprocessing/process.py\", line 108, in run\n",
      "    self._target(*self._args, **self._kwargs)\n",
      "  File \"/opt/conda/lib/python3.8/site-packages/stable_baselines3/common/vec_env/subproc_vec_env.py\", line 27, in _worker\n",
      "    cmd, data = remote.recv()\n",
      "  File \"/opt/conda/lib/python3.8/multiprocessing/connection.py\", line 250, in recv\n",
      "    buf = self._recv_bytes()\n",
      "  File \"/opt/conda/lib/python3.8/multiprocessing/connection.py\", line 414, in _recv_bytes\n",
      "    buf = self._recv(4)\n",
      "  File \"/opt/conda/lib/python3.8/multiprocessing/connection.py\", line 379, in _recv\n",
      "    chunk = read(handle, remaining)\n",
      "KeyboardInterrupt\n"
     ]
    }
   ],
   "source": [
    "# actually train the model here\n",
    "if tune_model or tune_reward:\n",
    "    tune(model_name, timesteps, params, max_peaks, out_dir, n_trials,\n",
    "         n_eval_episodes, int(eval_freq), eval_metric,\n",
    "         tune_model, tune_reward, verbose=verbose)\n",
    "else:\n",
    "    train(model_name, timesteps, params, max_peaks, out_dir, verbose=verbose)"
   ]
  },
  {
   "cell_type": "code",
   "execution_count": null,
   "metadata": {},
   "outputs": [],
   "source": []
  }
 ],
 "metadata": {
  "kernelspec": {
   "display_name": "Python 3 (ipykernel)",
   "language": "python",
   "name": "python3"
  },
  "language_info": {
   "codemirror_mode": {
    "name": "ipython",
    "version": 3
   },
   "file_extension": ".py",
   "mimetype": "text/x-python",
   "name": "python",
   "nbconvert_exporter": "python",
   "pygments_lexer": "ipython3",
   "version": "3.8.12"
  },
  "vscode": {
   "interpreter": {
    "hash": "b0fa6594d8f4cbf19f97940f81e996739fb7646882a419484c72d19e05852a7e"
   }
  }
 },
 "nbformat": 4,
 "nbformat_minor": 4
}
