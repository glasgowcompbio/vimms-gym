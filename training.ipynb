{
 "cells": [
  {
   "cell_type": "markdown",
   "metadata": {
    "pycharm": {
     "name": "#%% md\n"
    }
   },
   "source": [
    "# Training and parameter optimisation notebook"
   ]
  },
  {
   "cell_type": "code",
   "execution_count": 1,
   "metadata": {
    "pycharm": {
     "name": "#%%\n"
    },
    "tags": []
   },
   "outputs": [],
   "source": [
    "%matplotlib inline\n",
    "\n",
    "%load_ext autoreload\n",
    "%autoreload 2"
   ]
  },
  {
   "cell_type": "code",
   "execution_count": 2,
   "metadata": {
    "pycharm": {
     "name": "#%%\n"
    }
   },
   "outputs": [],
   "source": [
    "import os\n",
    "import sys\n",
    "\n",
    "sys.path.append('.')"
   ]
  },
  {
   "cell_type": "code",
   "execution_count": 3,
   "metadata": {
    "pycharm": {
     "name": "#%%\n"
    }
   },
   "outputs": [],
   "source": [
    "from vimms.Common import create_if_not_exist, save_obj\n",
    "from vimms_gym.common import METHOD_PPO, METHOD_DQN, ALPHA, BETA, EVAL_METRIC_REWARD, \\\n",
    "    EVAL_METRIC_F1, EVAL_METRIC_COVERAGE_PROP, EVAL_METRIC_INTENSITY_PROP, \\\n",
    "    EVAL_METRIC_MS1_MS2_RATIO, EVAL_METRIC_EFFICIENCY\n",
    "from experiments import preset_qcb_small, ENV_QCB_SMALL_GAUSSIAN, ENV_QCB_MEDIUM_GAUSSIAN, \\\n",
    "    ENV_QCB_LARGE_GAUSSIAN, ENV_QCB_SMALL_EXTRACTED, ENV_QCB_MEDIUM_EXTRACTED, \\\n",
    "    ENV_QCB_LARGE_EXTRACTED, preset_qcb_medium, preset_qcb_large"
   ]
  },
  {
   "cell_type": "code",
   "execution_count": 4,
   "metadata": {
    "pycharm": {
     "name": "#%%\n"
    }
   },
   "outputs": [],
   "source": [
    "from training import train, tune"
   ]
  },
  {
   "cell_type": "markdown",
   "metadata": {
    "pycharm": {
     "name": "#%% md\n"
    }
   },
   "source": [
    "### Parameters"
   ]
  },
  {
   "cell_type": "code",
   "execution_count": 5,
   "metadata": {
    "pycharm": {
     "name": "#%%\n"
    }
   },
   "outputs": [],
   "source": [
    "# preset = 'QCB_chems_small'\n",
    "# timesteps = 1E5\n",
    "# n_trials = 30\n",
    "# n_eval_episodes = 10\n",
    "# eval_freq = 5E4\n",
    "# eval_metric = EVAL_METRIC_REWARD"
   ]
  },
  {
   "cell_type": "code",
   "execution_count": 6,
   "metadata": {
    "collapsed": false,
    "jupyter": {
     "outputs_hidden": false
    },
    "pycharm": {
     "name": "#%%\n"
    }
   },
   "outputs": [],
   "source": [
    "preset = 'QCB_resimulated_medium'\n",
    "timesteps = 5E5\n",
    "n_trials = 1\n",
    "n_eval_episodes = 5\n",
    "eval_freq = 1E5\n",
    "eval_metric = EVAL_METRIC_REWARD"
   ]
  },
  {
   "cell_type": "code",
   "execution_count": 7,
   "metadata": {
    "collapsed": false,
    "jupyter": {
     "outputs_hidden": false
    },
    "pycharm": {
     "name": "#%%\n"
    }
   },
   "outputs": [],
   "source": [
    "tune_model = True\n",
    "tune_reward = False\n",
    "alpha = 0.25\n",
    "beta = 0.00"
   ]
  },
  {
   "cell_type": "code",
   "execution_count": 8,
   "metadata": {
    "collapsed": false,
    "jupyter": {
     "outputs_hidden": false
    },
    "pycharm": {
     "name": "#%%\n"
    }
   },
   "outputs": [],
   "source": [
    "results = os.path.join('tune', eval_metric, preset)\n",
    "verbose = 0\n",
    "model_name = METHOD_PPO"
   ]
  },
  {
   "cell_type": "code",
   "execution_count": 9,
   "metadata": {
    "pycharm": {
     "name": "#%%\n"
    }
   },
   "outputs": [],
   "source": [
    "if tune_reward:\n",
    "    alpha = None\n",
    "    beta = None\n",
    "    out_dir = os.path.abspath(os.path.join(results, 'results', model_name))\n",
    "else:\n",
    "    out_dir = os.path.abspath(\n",
    "        os.path.join(results, 'results_alpha_%.2f_beta_%.2f' % (alpha, beta), model_name))\n",
    "create_if_not_exist(out_dir)"
   ]
  },
  {
   "cell_type": "code",
   "execution_count": 10,
   "metadata": {
    "pycharm": {
     "name": "#%%\n"
    }
   },
   "outputs": [
    {
     "name": "stderr",
     "output_type": "stream",
     "text": [
      "2022-08-16 12:51:37.640 | INFO     | experiments:get_samplers:229 - Loaded /notebooks/vimms-gym/pickles/samplers_QCB_medium_extracted.p\n"
     ]
    }
   ],
   "source": [
    "presets = {\n",
    "    ENV_QCB_SMALL_GAUSSIAN: {'f': preset_qcb_small, 'extract': False},\n",
    "    ENV_QCB_MEDIUM_GAUSSIAN: {'f': preset_qcb_medium, 'extract': False},\n",
    "    ENV_QCB_LARGE_GAUSSIAN: {'f': preset_qcb_large, 'extract': False},\n",
    "    ENV_QCB_SMALL_EXTRACTED: {'f': preset_qcb_small, 'extract': True},\n",
    "    ENV_QCB_MEDIUM_EXTRACTED: {'f': preset_qcb_medium, 'extract': True},\n",
    "    ENV_QCB_LARGE_EXTRACTED: {'f': preset_qcb_large, 'extract': True},\n",
    "}\n",
    "preset_func = presets[preset]['f']\n",
    "extract = presets[preset]['extract']\n",
    "params, max_peaks = preset_func(model_name, alpha=alpha, beta=beta,\n",
    "                                extract_chromatograms=extract)"
   ]
  },
  {
   "cell_type": "code",
   "execution_count": null,
   "metadata": {
    "pycharm": {
     "name": "#%%\n"
    }
   },
   "outputs": [
    {
     "name": "stderr",
     "output_type": "stream",
     "text": [
      "2022-08-16 12:51:37.700 | INFO     | training:tune:82 - Doing 5 intermediate evaluations for pruning based on the number of timesteps. (1 evaluation every 100000 timesteps)\n",
      "\u001b[32m[I 2022-08-16 12:51:37,969]\u001b[0m Using an existing study with name 'PPO' instead of creating a new one.\u001b[0m\n"
     ]
    }
   ],
   "source": [
    "# actually train the model here\n",
    "if tune_model or tune_reward:\n",
    "    tune(model_name, timesteps, params, max_peaks, out_dir, n_trials,\n",
    "         n_eval_episodes, int(eval_freq), eval_metric,\n",
    "         tune_model, tune_reward, verbose=verbose)\n",
    "else:\n",
    "    train(model_name, timesteps, params, max_peaks, out_dir, verbose=verbose)"
   ]
  }
 ],
 "metadata": {
  "kernelspec": {
   "display_name": "Python 3 (ipykernel)",
   "language": "python",
   "name": "python3"
  },
  "language_info": {
   "codemirror_mode": {
    "name": "ipython",
    "version": 3
   },
   "file_extension": ".py",
   "mimetype": "text/x-python",
   "name": "python",
   "nbconvert_exporter": "python",
   "pygments_lexer": "ipython3",
   "version": "3.8.12"
  },
  "vscode": {
   "interpreter": {
    "hash": "b0fa6594d8f4cbf19f97940f81e996739fb7646882a419484c72d19e05852a7e"
   }
  }
 },
 "nbformat": 4,
 "nbformat_minor": 4
}
