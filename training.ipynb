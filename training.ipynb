{
 "cells": [
  {
   "cell_type": "markdown",
   "metadata": {
    "pycharm": {
     "name": "#%% md\n"
    }
   },
   "source": [
    "# Training and parameter optimisation notebook"
   ]
  },
  {
   "cell_type": "code",
   "execution_count": 1,
   "metadata": {
    "execution": {
     "iopub.execute_input": "2022-08-21T21:33:17.467983Z",
     "iopub.status.busy": "2022-08-21T21:33:17.467178Z",
     "iopub.status.idle": "2022-08-21T21:33:18.162820Z",
     "shell.execute_reply": "2022-08-21T21:33:18.162088Z",
     "shell.execute_reply.started": "2022-08-21T21:33:17.467883Z"
    },
    "pycharm": {
     "name": "#%%\n"
    },
    "tags": []
   },
   "outputs": [],
   "source": [
    "%matplotlib inline\n",
    "\n",
    "%load_ext autoreload\n",
    "%autoreload 2"
   ]
  },
  {
   "cell_type": "code",
   "execution_count": 2,
   "metadata": {
    "execution": {
     "iopub.execute_input": "2022-08-21T21:33:18.164387Z",
     "iopub.status.busy": "2022-08-21T21:33:18.164197Z",
     "iopub.status.idle": "2022-08-21T21:33:18.176032Z",
     "shell.execute_reply": "2022-08-21T21:33:18.175328Z",
     "shell.execute_reply.started": "2022-08-21T21:33:18.164367Z"
    },
    "pycharm": {
     "name": "#%%\n"
    }
   },
   "outputs": [],
   "source": [
    "import os\n",
    "import sys\n",
    "\n",
    "sys.path.append('.')"
   ]
  },
  {
   "cell_type": "code",
   "execution_count": 3,
   "metadata": {
    "execution": {
     "iopub.execute_input": "2022-08-21T21:33:18.177415Z",
     "iopub.status.busy": "2022-08-21T21:33:18.177222Z",
     "iopub.status.idle": "2022-08-21T21:33:19.095014Z",
     "shell.execute_reply": "2022-08-21T21:33:19.094461Z",
     "shell.execute_reply.started": "2022-08-21T21:33:18.177393Z"
    },
    "pycharm": {
     "name": "#%%\n"
    }
   },
   "outputs": [],
   "source": [
    "from vimms.Common import create_if_not_exist, save_obj\n",
    "from vimms_gym.common import METHOD_PPO, METHOD_PPO_RECURRENT, METHOD_DQN, ALPHA, BETA, EVAL_METRIC_REWARD, \\\n",
    "    EVAL_METRIC_F1, EVAL_METRIC_COVERAGE_PROP, EVAL_METRIC_INTENSITY_PROP, \\\n",
    "    EVAL_METRIC_MS1_MS2_RATIO, EVAL_METRIC_EFFICIENCY\n",
    "from experiments import preset_qcb_small, ENV_QCB_SMALL_GAUSSIAN, ENV_QCB_MEDIUM_GAUSSIAN, \\\n",
    "    ENV_QCB_LARGE_GAUSSIAN, ENV_QCB_SMALL_EXTRACTED, ENV_QCB_MEDIUM_EXTRACTED, \\\n",
    "    ENV_QCB_LARGE_EXTRACTED, preset_qcb_medium, preset_qcb_large"
   ]
  },
  {
   "cell_type": "code",
   "execution_count": 4,
   "metadata": {
    "execution": {
     "iopub.execute_input": "2022-08-21T21:33:19.096854Z",
     "iopub.status.busy": "2022-08-21T21:33:19.096677Z",
     "iopub.status.idle": "2022-08-21T21:33:20.908881Z",
     "shell.execute_reply": "2022-08-21T21:33:20.908390Z",
     "shell.execute_reply.started": "2022-08-21T21:33:19.096834Z"
    },
    "pycharm": {
     "name": "#%%\n"
    }
   },
   "outputs": [],
   "source": [
    "from training import train, tune"
   ]
  },
  {
   "cell_type": "markdown",
   "metadata": {
    "pycharm": {
     "name": "#%% md\n"
    }
   },
   "source": [
    "### Parameters"
   ]
  },
  {
   "cell_type": "code",
   "execution_count": 5,
   "metadata": {
    "execution": {
     "iopub.execute_input": "2022-08-21T21:33:20.910568Z",
     "iopub.status.busy": "2022-08-21T21:33:20.909954Z",
     "iopub.status.idle": "2022-08-21T21:33:20.943897Z",
     "shell.execute_reply": "2022-08-21T21:33:20.943279Z",
     "shell.execute_reply.started": "2022-08-21T21:33:20.910536Z"
    },
    "pycharm": {
     "name": "#%%\n"
    }
   },
   "outputs": [],
   "source": [
    "preset = 'QCB_chems_small'\n",
    "timesteps = 2E5\n",
    "n_trials = 3\n",
    "n_eval_episodes = 10\n",
    "eval_freq = 1E6\n",
    "eval_metric = EVAL_METRIC_F1"
   ]
  },
  {
   "cell_type": "code",
   "execution_count": 6,
   "metadata": {
    "execution": {
     "iopub.execute_input": "2022-08-21T21:33:20.946069Z",
     "iopub.status.busy": "2022-08-21T21:33:20.945794Z",
     "iopub.status.idle": "2022-08-21T21:33:20.982218Z",
     "shell.execute_reply": "2022-08-21T21:33:20.981358Z",
     "shell.execute_reply.started": "2022-08-21T21:33:20.946047Z"
    },
    "pycharm": {
     "name": "#%%\n"
    }
   },
   "outputs": [],
   "source": [
    "# preset = 'QCB_resimulated_medium'\n",
    "# timesteps = 5E5\n",
    "# n_trials = 10\n",
    "# n_eval_episodes = 5\n",
    "# eval_freq = 1E5\n",
    "# eval_metric = EVAL_METRIC_REWARD"
   ]
  },
  {
   "cell_type": "code",
   "execution_count": 7,
   "metadata": {
    "collapsed": false,
    "execution": {
     "iopub.execute_input": "2022-08-21T21:33:20.983297Z",
     "iopub.status.busy": "2022-08-21T21:33:20.983133Z",
     "iopub.status.idle": "2022-08-21T21:33:21.015905Z",
     "shell.execute_reply": "2022-08-21T21:33:21.015321Z",
     "shell.execute_reply.started": "2022-08-21T21:33:20.983278Z"
    },
    "jupyter": {
     "outputs_hidden": false
    },
    "pycharm": {
     "name": "#%%\n"
    }
   },
   "outputs": [],
   "source": [
    "tune_model = True\n",
    "tune_reward = True\n",
    "alpha = 0.25\n",
    "beta = 0.00"
   ]
  },
  {
   "cell_type": "code",
   "execution_count": 8,
   "metadata": {
    "execution": {
     "iopub.execute_input": "2022-08-21T21:33:21.017024Z",
     "iopub.status.busy": "2022-08-21T21:33:21.016853Z",
     "iopub.status.idle": "2022-08-21T21:33:21.049864Z",
     "shell.execute_reply": "2022-08-21T21:33:21.049231Z",
     "shell.execute_reply.started": "2022-08-21T21:33:21.017005Z"
    },
    "pycharm": {
     "name": "#%%\n"
    }
   },
   "outputs": [],
   "source": [
    "results = os.path.join('tune', preset)\n",
    "verbose = 0\n",
    "model_name = METHOD_PPO_RECURRENT"
   ]
  },
  {
   "cell_type": "code",
   "execution_count": 9,
   "metadata": {
    "execution": {
     "iopub.execute_input": "2022-08-21T21:33:21.051237Z",
     "iopub.status.busy": "2022-08-21T21:33:21.051069Z",
     "iopub.status.idle": "2022-08-21T21:33:21.084459Z",
     "shell.execute_reply": "2022-08-21T21:33:21.083818Z",
     "shell.execute_reply.started": "2022-08-21T21:33:21.051218Z"
    },
    "pycharm": {
     "name": "#%%\n"
    }
   },
   "outputs": [],
   "source": [
    "if tune_reward:\n",
    "    alpha = None\n",
    "    beta = None\n",
    "    out_dir = 'metric_%s_timesteps_%d_alpha_auto_beta_auto' % (eval_metric, timesteps)\n",
    "else:\n",
    "    out_dir = 'metric_%s_timesteps_%d_alpha_%.2f_beta_%.2f' % (eval_metric, timesteps, alpha, beta)\n",
    "\n",
    "out_dir = os.path.join(results, out_dir, model_name)    \n",
    "out_dir = os.path.abspath(out_dir)\n",
    "out_dir\n",
    "create_if_not_exist(out_dir)"
   ]
  },
  {
   "cell_type": "code",
   "execution_count": 10,
   "metadata": {
    "execution": {
     "iopub.execute_input": "2022-08-21T21:33:21.086274Z",
     "iopub.status.busy": "2022-08-21T21:33:21.086111Z",
     "iopub.status.idle": "2022-08-21T21:33:21.121903Z",
     "shell.execute_reply": "2022-08-21T21:33:21.121188Z",
     "shell.execute_reply.started": "2022-08-21T21:33:21.086256Z"
    },
    "pycharm": {
     "name": "#%%\n"
    }
   },
   "outputs": [
    {
     "name": "stderr",
     "output_type": "stream",
     "text": [
      "2022-08-21 21:33:21.117 | INFO     | experiments:get_samplers:238 - Loaded /notebooks/vimms-gym/pickles/samplers_QCB_small_gaussian.p\n"
     ]
    }
   ],
   "source": [
    "presets = {\n",
    "    ENV_QCB_SMALL_GAUSSIAN: {'f': preset_qcb_small, 'extract': False},\n",
    "    ENV_QCB_MEDIUM_GAUSSIAN: {'f': preset_qcb_medium, 'extract': False},\n",
    "    ENV_QCB_LARGE_GAUSSIAN: {'f': preset_qcb_large, 'extract': False},\n",
    "    ENV_QCB_SMALL_EXTRACTED: {'f': preset_qcb_small, 'extract': True},\n",
    "    ENV_QCB_MEDIUM_EXTRACTED: {'f': preset_qcb_medium, 'extract': True},\n",
    "    ENV_QCB_LARGE_EXTRACTED: {'f': preset_qcb_large, 'extract': True},\n",
    "}\n",
    "preset_func = presets[preset]['f']\n",
    "extract = presets[preset]['extract']\n",
    "params, max_peaks = preset_func(model_name, alpha=alpha, beta=beta,\n",
    "                                extract_chromatograms=extract)"
   ]
  },
  {
   "cell_type": "code",
   "execution_count": 11,
   "metadata": {
    "execution": {
     "iopub.execute_input": "2022-08-21T21:33:21.123202Z",
     "iopub.status.busy": "2022-08-21T21:33:21.123036Z",
     "iopub.status.idle": "2022-08-21T21:58:01.468017Z",
     "shell.execute_reply": "2022-08-21T21:58:01.467228Z",
     "shell.execute_reply.started": "2022-08-21T21:33:21.123183Z"
    },
    "pycharm": {
     "name": "#%%\n"
    }
   },
   "outputs": [
    {
     "name": "stderr",
     "output_type": "stream",
     "text": [
      "2022-08-21 21:33:21.153 | INFO     | training:tune:72 - Doing 1 intermediate evaluations for pruning based on the number of timesteps. (1 evaluation every 1000000 timesteps)\n",
      "\u001b[32m[I 2022-08-21 21:33:21,358]\u001b[0m Using an existing study with name 'DQN' instead of creating a new one.\u001b[0m\n",
      "\u001b[32m[I 2022-08-21 21:39:45,066]\u001b[0m Trial 40 pruned. \u001b[0m\n",
      "\u001b[32m[I 2022-08-21 21:48:33,677]\u001b[0m Trial 41 finished with value: 0.4849345763481348 and parameters: {'gamma': 0.99, 'learning_rate': 0.0028518895639868505, 'lr_schedule': 'linear', 'batch_size': 128, 'buffer_size': 50000, 'exploration_final_eps': 0.08448814796533216, 'exploration_fraction': 0.0836859793307714, 'target_update_interval': 5000, 'learning_starts': 0, 'train_freq': 4, 'subsample_steps': 2, 'net_arch': 'small', 'alpha': 0.13822155728746427, 'beta': 0.645306790984753}. Best is trial 23 with value: 0.49883431650551363.\u001b[0m\n",
      "\u001b[32m[I 2022-08-21 21:57:58,737]\u001b[0m Trial 42 pruned. \u001b[0m\n"
     ]
    }
   ],
   "source": [
    "# actually train the model here\n",
    "if tune_model or tune_reward:\n",
    "    tune(model_name, timesteps, params, max_peaks, out_dir, n_trials,\n",
    "         n_eval_episodes, int(eval_freq), eval_metric,\n",
    "         tune_model, tune_reward, verbose=verbose)\n",
    "else:\n",
    "    train(model_name, timesteps, params, max_peaks, out_dir, verbose=verbose)"
   ]
  },
  {
   "cell_type": "code",
   "execution_count": null,
   "metadata": {},
   "outputs": [],
   "source": []
  }
 ],
 "metadata": {
  "kernelspec": {
   "display_name": "Python 3 (ipykernel)",
   "language": "python",
   "name": "python3"
  },
  "language_info": {
   "codemirror_mode": {
    "name": "ipython",
    "version": 3
   },
   "file_extension": ".py",
   "mimetype": "text/x-python",
   "name": "python",
   "nbconvert_exporter": "python",
   "pygments_lexer": "ipython3",
   "version": "3.8.12"
  },
  "vscode": {
   "interpreter": {
    "hash": "b0fa6594d8f4cbf19f97940f81e996739fb7646882a419484c72d19e05852a7e"
   }
  }
 },
 "nbformat": 4,
 "nbformat_minor": 4
}
