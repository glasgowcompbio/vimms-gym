{
 "cells": [
  {
   "cell_type": "markdown",
   "metadata": {
    "pycharm": {
     "name": "#%% md\n"
    }
   },
   "source": [
    "# Training and parameter optimisation notebook"
   ]
  },
  {
   "cell_type": "code",
   "execution_count": 1,
   "metadata": {
    "execution": {
     "iopub.execute_input": "2022-08-17T14:17:48.694703Z",
     "iopub.status.busy": "2022-08-17T14:17:48.693854Z",
     "iopub.status.idle": "2022-08-17T14:17:49.807370Z",
     "shell.execute_reply": "2022-08-17T14:17:49.806780Z",
     "shell.execute_reply.started": "2022-08-17T14:17:48.694619Z"
    },
    "pycharm": {
     "name": "#%%\n"
    },
    "tags": []
   },
   "outputs": [],
   "source": [
    "%matplotlib inline\n",
    "\n",
    "%load_ext autoreload\n",
    "%autoreload 2"
   ]
  },
  {
   "cell_type": "code",
   "execution_count": 2,
   "metadata": {
    "execution": {
     "iopub.execute_input": "2022-08-17T14:17:50.711579Z",
     "iopub.status.busy": "2022-08-17T14:17:50.711325Z",
     "iopub.status.idle": "2022-08-17T14:17:50.723688Z",
     "shell.execute_reply": "2022-08-17T14:17:50.722957Z",
     "shell.execute_reply.started": "2022-08-17T14:17:50.711553Z"
    },
    "pycharm": {
     "name": "#%%\n"
    }
   },
   "outputs": [],
   "source": [
    "import os\n",
    "import sys\n",
    "\n",
    "sys.path.append('.')"
   ]
  },
  {
   "cell_type": "code",
   "execution_count": null,
   "metadata": {
    "pycharm": {
     "name": "#%%\n"
    }
   },
   "outputs": [],
   "source": [
    "from vimms.Common import create_if_not_exist, save_obj\n",
    "from vimms_gym.common import METHOD_PPO, METHOD_PPO_RECURRENT, METHOD_DQN, ALPHA, BETA, EVAL_METRIC_REWARD, \\\n",
    "    EVAL_METRIC_F1, EVAL_METRIC_COVERAGE_PROP, EVAL_METRIC_INTENSITY_PROP, \\\n",
    "    EVAL_METRIC_MS1_MS2_RATIO, EVAL_METRIC_EFFICIENCY\n",
    "from experiments import preset_qcb_small, ENV_QCB_SMALL_GAUSSIAN, ENV_QCB_MEDIUM_GAUSSIAN, \\\n",
    "    ENV_QCB_LARGE_GAUSSIAN, ENV_QCB_SMALL_EXTRACTED, ENV_QCB_MEDIUM_EXTRACTED, \\\n",
    "    ENV_QCB_LARGE_EXTRACTED, preset_qcb_medium, preset_qcb_large"
   ]
  },
  {
   "cell_type": "code",
   "execution_count": null,
   "metadata": {
    "pycharm": {
     "name": "#%%\n"
    }
   },
   "outputs": [],
   "source": [
    "from training import train, tune"
   ]
  },
  {
   "cell_type": "markdown",
   "metadata": {
    "pycharm": {
     "name": "#%% md\n"
    }
   },
   "source": [
    "### Parameters"
   ]
  },
  {
   "cell_type": "code",
   "execution_count": null,
   "metadata": {
    "pycharm": {
     "name": "#%%\n"
    }
   },
   "outputs": [],
   "source": [
    "# preset = 'QCB_chems_small'\n",
    "# timesteps = 1E5\n",
    "# n_trials = 30\n",
    "# n_eval_episodes = 10\n",
    "# eval_freq = 5E4\n",
    "# eval_metric = EVAL_METRIC_REWARD"
   ]
  },
  {
   "cell_type": "code",
   "execution_count": 3,
   "metadata": {
    "execution": {
     "iopub.execute_input": "2022-08-17T14:17:54.627988Z",
     "iopub.status.busy": "2022-08-17T14:17:54.627067Z",
     "iopub.status.idle": "2022-08-17T14:17:55.067358Z",
     "shell.execute_reply": "2022-08-17T14:17:55.066404Z",
     "shell.execute_reply.started": "2022-08-17T14:17:54.627951Z"
    },
    "pycharm": {
     "name": "#%%\n"
    }
   },
   "outputs": [],
   "source": [
    "preset = 'QCB_resimulated_medium'\n",
    "timesteps = 5E5\n",
    "n_trials = 10\n",
    "n_eval_episodes = 5\n",
    "eval_freq = 1E5\n",
    "eval_metric = EVAL_METRIC_REWARD"
   ]
  },
  {
   "cell_type": "code",
   "execution_count": 5,
   "metadata": {
    "collapsed": false,
    "execution": {
     "iopub.execute_input": "2022-08-17T14:18:08.977070Z",
     "iopub.status.busy": "2022-08-17T14:18:08.976820Z",
     "iopub.status.idle": "2022-08-17T14:18:08.989589Z",
     "shell.execute_reply": "2022-08-17T14:18:08.989068Z",
     "shell.execute_reply.started": "2022-08-17T14:18:08.977047Z"
    },
    "jupyter": {
     "outputs_hidden": false
    },
    "pycharm": {
     "name": "#%%\n"
    }
   },
   "outputs": [],
   "source": [
    "tune_model = True\n",
    "tune_reward = False\n",
    "alpha = 0.25\n",
    "beta = 0.00"
   ]
  },
  {
   "cell_type": "code",
   "execution_count": 6,
   "metadata": {
    "execution": {
     "iopub.execute_input": "2022-08-17T14:18:10.272625Z",
     "iopub.status.busy": "2022-08-17T14:18:10.271983Z",
     "iopub.status.idle": "2022-08-17T14:18:10.295244Z",
     "shell.execute_reply": "2022-08-17T14:18:10.294525Z",
     "shell.execute_reply.started": "2022-08-17T14:18:10.272597Z"
    },
    "pycharm": {
     "name": "#%%\n"
    }
   },
   "outputs": [],
   "source": [
    "results = os.path.join('tune', preset)\n",
    "verbose = 0\n",
    "model_name = METHOD_PPO_RECURRENT"
   ]
  },
  {
   "cell_type": "code",
   "execution_count": 8,
   "metadata": {
    "execution": {
     "iopub.execute_input": "2022-08-17T14:18:25.619879Z",
     "iopub.status.busy": "2022-08-17T14:18:25.619176Z",
     "iopub.status.idle": "2022-08-17T14:18:25.636110Z",
     "shell.execute_reply": "2022-08-17T14:18:25.635564Z",
     "shell.execute_reply.started": "2022-08-17T14:18:25.619838Z"
    },
    "pycharm": {
     "name": "#%%\n"
    }
   },
   "outputs": [
    {
     "data": {
      "text/plain": [
       "'/notebooks/vimms-gym/tune/QCB_resimulated_medium/metric_reward_timesteps_500000_alpha_0.25_beta_0.00/RecurrentPPO'"
      ]
     },
     "execution_count": 8,
     "metadata": {},
     "output_type": "execute_result"
    }
   ],
   "source": [
    "if tune_reward:\n",
    "    alpha = None\n",
    "    beta = None\n",
    "    out_dir = 'metric_%s_timesteps_%d' % (eval_metric, timesteps)\n",
    "else:\n",
    "    out_dir = 'metric_%s_timesteps_%d_alpha_%.2f_beta_%.2f' % (eval_metric, timesteps, alpha, beta)\n",
    "\n",
    "out_dir = os.path.join(results, out_dir, model_name)    \n",
    "out_dir = os.path.abspath(out_dir)\n",
    "out_dir\n",
    "create_if_not_exist(out_dir)"
   ]
  },
  {
   "cell_type": "code",
   "execution_count": null,
   "metadata": {
    "pycharm": {
     "name": "#%%\n"
    }
   },
   "outputs": [],
   "source": [
    "presets = {\n",
    "    ENV_QCB_SMALL_GAUSSIAN: {'f': preset_qcb_small, 'extract': False},\n",
    "    ENV_QCB_MEDIUM_GAUSSIAN: {'f': preset_qcb_medium, 'extract': False},\n",
    "    ENV_QCB_LARGE_GAUSSIAN: {'f': preset_qcb_large, 'extract': False},\n",
    "    ENV_QCB_SMALL_EXTRACTED: {'f': preset_qcb_small, 'extract': True},\n",
    "    ENV_QCB_MEDIUM_EXTRACTED: {'f': preset_qcb_medium, 'extract': True},\n",
    "    ENV_QCB_LARGE_EXTRACTED: {'f': preset_qcb_large, 'extract': True},\n",
    "}\n",
    "preset_func = presets[preset]['f']\n",
    "extract = presets[preset]['extract']\n",
    "params, max_peaks = preset_func(model_name, alpha=alpha, beta=beta,\n",
    "                                extract_chromatograms=extract)"
   ]
  },
  {
   "cell_type": "code",
   "execution_count": null,
   "metadata": {
    "pycharm": {
     "name": "#%%\n"
    }
   },
   "outputs": [],
   "source": [
    "# actually train the model here\n",
    "if tune_model or tune_reward:\n",
    "    tune(model_name, timesteps, params, max_peaks, out_dir, n_trials,\n",
    "         n_eval_episodes, int(eval_freq), eval_metric,\n",
    "         tune_model, tune_reward, verbose=verbose)\n",
    "else:\n",
    "    train(model_name, timesteps, params, max_peaks, out_dir, verbose=verbose)"
   ]
  },
  {
   "cell_type": "code",
   "execution_count": null,
   "metadata": {},
   "outputs": [],
   "source": []
  }
 ],
 "metadata": {
  "kernelspec": {
   "display_name": "Python 3 (ipykernel)",
   "language": "python",
   "name": "python3"
  },
  "language_info": {
   "codemirror_mode": {
    "name": "ipython",
    "version": 3
   },
   "file_extension": ".py",
   "mimetype": "text/x-python",
   "name": "python",
   "nbconvert_exporter": "python",
   "pygments_lexer": "ipython3",
   "version": "3.8.12"
  },
  "vscode": {
   "interpreter": {
    "hash": "b0fa6594d8f4cbf19f97940f81e996739fb7646882a419484c72d19e05852a7e"
   }
  }
 },
 "nbformat": 4,
 "nbformat_minor": 4
}
